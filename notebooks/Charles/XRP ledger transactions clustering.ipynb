{
 "cells": [
  {
   "cell_type": "markdown",
   "metadata": {},
   "source": [
    "# Imports"
   ]
  },
  {
   "cell_type": "code",
   "execution_count": 85,
   "metadata": {},
   "outputs": [],
   "source": [
    "import pandas as pd\n",
    "import json\n",
    "import ast\n",
    "import requests\n",
    "import numpy as np\n",
    "import plotly.graph_objects as go\n",
    "from plotly.subplots import make_subplots\n",
    "import networkx as nx\n",
    "import matplotlib.pyplot as plt\n"
   ]
  },
  {
   "cell_type": "markdown",
   "metadata": {},
   "source": [
    "# Preshape the dataframes"
   ]
  },
  {
   "cell_type": "markdown",
   "metadata": {},
   "source": [
    "### Merge all transaction dataframes"
   ]
  },
  {
   "cell_type": "code",
   "execution_count": 33,
   "metadata": {},
   "outputs": [
    {
     "data": {
      "text/html": [
       "<div>\n",
       "<style scoped>\n",
       "    .dataframe tbody tr th:only-of-type {\n",
       "        vertical-align: middle;\n",
       "    }\n",
       "\n",
       "    .dataframe tbody tr th {\n",
       "        vertical-align: top;\n",
       "    }\n",
       "\n",
       "    .dataframe thead th {\n",
       "        text-align: right;\n",
       "    }\n",
       "</style>\n",
       "<table border=\"1\" class=\"dataframe\">\n",
       "  <thead>\n",
       "    <tr style=\"text-align: right;\">\n",
       "      <th></th>\n",
       "      <th>TimeStamp</th>\n",
       "      <th>Account</th>\n",
       "      <th>Destination</th>\n",
       "      <th>Fee</th>\n",
       "      <th>TxnSignature</th>\n",
       "      <th>AmountXRP</th>\n",
       "      <th>LedgerIndex</th>\n",
       "      <th>TransactionType</th>\n",
       "      <th>AmountDEX</th>\n",
       "      <th>TransferRate</th>\n",
       "      <th>currency</th>\n",
       "      <th>issuer</th>\n",
       "      <th>value</th>\n",
       "    </tr>\n",
       "  </thead>\n",
       "  <tbody>\n",
       "    <tr>\n",
       "      <td>0</td>\n",
       "      <td>2020-01-10 00:00:00+00:00</td>\n",
       "      <td>rHnPuJWVBtRP1F5Z6Zzb8gYWVZrg1NbeAC</td>\n",
       "      <td>rsqPqyvJqVeqwZtXfBoqxnddDL4vWkHz3i</td>\n",
       "      <td>6038</td>\n",
       "      <td>304402204509E11298410955B1D93DA076E53E22149B33...</td>\n",
       "      <td>NaN</td>\n",
       "      <td>52630771</td>\n",
       "      <td>Payment</td>\n",
       "      <td>{'currency': 'BTC', 'issuer': 'rpJZ5Wyotdphojw...</td>\n",
       "      <td>NaN</td>\n",
       "      <td>BTC</td>\n",
       "      <td>rpJZ5WyotdphojwMLxCr2prhULvG3Voe3X</td>\n",
       "      <td>0.137133</td>\n",
       "    </tr>\n",
       "    <tr>\n",
       "      <td>1</td>\n",
       "      <td>2020-01-10 00:00:00+00:00</td>\n",
       "      <td>rfpNMACVYdpf6znrhJcrH3CJFu3tvwf7Vx</td>\n",
       "      <td>r9JcwCSpRtEd22aNKGwsEKEWBHWq44bnb7</td>\n",
       "      <td>6038</td>\n",
       "      <td>3045022100BE045DC7A98587E86A170A75519FB45BD394...</td>\n",
       "      <td>NaN</td>\n",
       "      <td>52630771</td>\n",
       "      <td>Payment</td>\n",
       "      <td>{'currency': 'BTC', 'issuer': 'rpJZ5Wyotdphojw...</td>\n",
       "      <td>NaN</td>\n",
       "      <td>BTC</td>\n",
       "      <td>rpJZ5WyotdphojwMLxCr2prhULvG3Voe3X</td>\n",
       "      <td>0.040634</td>\n",
       "    </tr>\n",
       "    <tr>\n",
       "      <td>2</td>\n",
       "      <td>2020-01-10 00:00:00+00:00</td>\n",
       "      <td>r3f1Az73MKCYMQYxyPiQ2zmAEbNFXaMzSY</td>\n",
       "      <td>rsKmxd181tdWkM7ADvYgza15GEbDSFdnTh</td>\n",
       "      <td>6038</td>\n",
       "      <td>30440220352411F7E4B872D4D812FFE8991BA1C7F31800...</td>\n",
       "      <td>NaN</td>\n",
       "      <td>52630771</td>\n",
       "      <td>Payment</td>\n",
       "      <td>{'currency': 'BTC', 'issuer': 'rpJZ5Wyotdphojw...</td>\n",
       "      <td>NaN</td>\n",
       "      <td>BTC</td>\n",
       "      <td>rpJZ5WyotdphojwMLxCr2prhULvG3Voe3X</td>\n",
       "      <td>0.016375</td>\n",
       "    </tr>\n",
       "    <tr>\n",
       "      <td>3</td>\n",
       "      <td>2020-01-10 00:00:00+00:00</td>\n",
       "      <td>rayoZ9jCiH3JjWocjgy9yHmG9W3cKYsfcu</td>\n",
       "      <td>rPDXsQ2qnx5Pup58Fpr5tmdRYvquH6vXys</td>\n",
       "      <td>6038</td>\n",
       "      <td>3045022100B6E629E83909304552403662162D469F5C08...</td>\n",
       "      <td>NaN</td>\n",
       "      <td>52630771</td>\n",
       "      <td>Payment</td>\n",
       "      <td>{'currency': 'BTC', 'issuer': 'rpJZ5Wyotdphojw...</td>\n",
       "      <td>NaN</td>\n",
       "      <td>BTC</td>\n",
       "      <td>rpJZ5WyotdphojwMLxCr2prhULvG3Voe3X</td>\n",
       "      <td>0.132582</td>\n",
       "    </tr>\n",
       "    <tr>\n",
       "      <td>4</td>\n",
       "      <td>2020-01-10 00:00:00+00:00</td>\n",
       "      <td>rBiBqvTkfKBwbVHacSQR4eTzkgtCNuPTpy</td>\n",
       "      <td>rJ9FEjpnWDKBuA245kvFL4guU3YqoGEQjS</td>\n",
       "      <td>6038</td>\n",
       "      <td>3045022100E602B05F9B3A02D9F766AF27D39CC7BC5DBD...</td>\n",
       "      <td>NaN</td>\n",
       "      <td>52630771</td>\n",
       "      <td>Payment</td>\n",
       "      <td>{'currency': 'BTC', 'issuer': 'rpJZ5Wyotdphojw...</td>\n",
       "      <td>NaN</td>\n",
       "      <td>BTC</td>\n",
       "      <td>rpJZ5WyotdphojwMLxCr2prhULvG3Voe3X</td>\n",
       "      <td>0.137229</td>\n",
       "    </tr>\n",
       "    <tr>\n",
       "      <td>...</td>\n",
       "      <td>...</td>\n",
       "      <td>...</td>\n",
       "      <td>...</td>\n",
       "      <td>...</td>\n",
       "      <td>...</td>\n",
       "      <td>...</td>\n",
       "      <td>...</td>\n",
       "      <td>...</td>\n",
       "      <td>...</td>\n",
       "      <td>...</td>\n",
       "      <td>...</td>\n",
       "      <td>...</td>\n",
       "      <td>...</td>\n",
       "    </tr>\n",
       "    <tr>\n",
       "      <td>392108</td>\n",
       "      <td>2020-01-19 23:59:12+00:00</td>\n",
       "      <td>rKuAAajywBVRqWubSG43f3YUQTckH6SWrp</td>\n",
       "      <td>rGvFAsDiR8jpNsxv7JoydBbKYZMxYEdSno</td>\n",
       "      <td>12</td>\n",
       "      <td>304402201A711D1E123A5A865C04865DE429D6765DF7A3...</td>\n",
       "      <td>NaN</td>\n",
       "      <td>52854004</td>\n",
       "      <td>Payment</td>\n",
       "      <td>{'currency': 'BTC', 'issuer': 'rpJZ5Wyotdphojw...</td>\n",
       "      <td>NaN</td>\n",
       "      <td>BTC</td>\n",
       "      <td>rpJZ5WyotdphojwMLxCr2prhULvG3Voe3X</td>\n",
       "      <td>464.774019</td>\n",
       "    </tr>\n",
       "    <tr>\n",
       "      <td>392109</td>\n",
       "      <td>2020-01-19 23:59:12+00:00</td>\n",
       "      <td>rKuAAajywBVRqWubSG43f3YUQTckH6SWrp</td>\n",
       "      <td>rLhw4b5C1FYPcz6LSHF4b8PWBZwwyJ7Asd</td>\n",
       "      <td>12</td>\n",
       "      <td>304402204C7BC46A38BA4B181EF4C42405E53E237F2360...</td>\n",
       "      <td>NaN</td>\n",
       "      <td>52854004</td>\n",
       "      <td>Payment</td>\n",
       "      <td>{'currency': 'BTC', 'issuer': 'rpJZ5Wyotdphojw...</td>\n",
       "      <td>NaN</td>\n",
       "      <td>BTC</td>\n",
       "      <td>rpJZ5WyotdphojwMLxCr2prhULvG3Voe3X</td>\n",
       "      <td>492.155591</td>\n",
       "    </tr>\n",
       "    <tr>\n",
       "      <td>392110</td>\n",
       "      <td>2020-01-19 23:59:12+00:00</td>\n",
       "      <td>rKuAAajywBVRqWubSG43f3YUQTckH6SWrp</td>\n",
       "      <td>rKWeJfhstn5AbRQfc65Goc6csDUadXTM3U</td>\n",
       "      <td>12</td>\n",
       "      <td>3045022100A1C5042D5285EE933E02C1528E57D7622F1A...</td>\n",
       "      <td>NaN</td>\n",
       "      <td>52854004</td>\n",
       "      <td>Payment</td>\n",
       "      <td>{'currency': 'BTC', 'issuer': 'rpJZ5Wyotdphojw...</td>\n",
       "      <td>NaN</td>\n",
       "      <td>BTC</td>\n",
       "      <td>rpJZ5WyotdphojwMLxCr2prhULvG3Voe3X</td>\n",
       "      <td>179.764316</td>\n",
       "    </tr>\n",
       "    <tr>\n",
       "      <td>392111</td>\n",
       "      <td>2020-01-19 23:59:12+00:00</td>\n",
       "      <td>r3VC6jvrr3ny2fAPyGP3EjgKh9o4UrnpHE</td>\n",
       "      <td>rKuAAajywBVRqWubSG43f3YUQTckH6SWrp</td>\n",
       "      <td>12</td>\n",
       "      <td>304402202E217BF61986A49B0A38699413F7D5CDEE6AFF...</td>\n",
       "      <td>NaN</td>\n",
       "      <td>52854004</td>\n",
       "      <td>Payment</td>\n",
       "      <td>{'currency': 'BTC', 'issuer': 'rpJZ5Wyotdphojw...</td>\n",
       "      <td>NaN</td>\n",
       "      <td>BTC</td>\n",
       "      <td>rpJZ5WyotdphojwMLxCr2prhULvG3Voe3X</td>\n",
       "      <td>416.043281</td>\n",
       "    </tr>\n",
       "    <tr>\n",
       "      <td>392112</td>\n",
       "      <td>2020-01-19 23:59:12+00:00</td>\n",
       "      <td>rBofXgf6s6mxEnZxG5Xvq6BAp5qwjLyYbH</td>\n",
       "      <td>rGrUgQDuBMuCVpLd5xz2qUFbxGUMwWJ1Sy</td>\n",
       "      <td>12</td>\n",
       "      <td>3045022100E0F04EA4FC0903029154DB2CA285251A5442...</td>\n",
       "      <td>NaN</td>\n",
       "      <td>52854004</td>\n",
       "      <td>Payment</td>\n",
       "      <td>{'currency': 'BTC', 'issuer': 'rpJZ5Wyotdphojw...</td>\n",
       "      <td>NaN</td>\n",
       "      <td>BTC</td>\n",
       "      <td>rpJZ5WyotdphojwMLxCr2prhULvG3Voe3X</td>\n",
       "      <td>506.613387</td>\n",
       "    </tr>\n",
       "  </tbody>\n",
       "</table>\n",
       "<p>392113 rows × 13 columns</p>\n",
       "</div>"
      ],
      "text/plain": [
       "                        TimeStamp                             Account  \\\n",
       "0       2020-01-10 00:00:00+00:00  rHnPuJWVBtRP1F5Z6Zzb8gYWVZrg1NbeAC   \n",
       "1       2020-01-10 00:00:00+00:00  rfpNMACVYdpf6znrhJcrH3CJFu3tvwf7Vx   \n",
       "2       2020-01-10 00:00:00+00:00  r3f1Az73MKCYMQYxyPiQ2zmAEbNFXaMzSY   \n",
       "3       2020-01-10 00:00:00+00:00  rayoZ9jCiH3JjWocjgy9yHmG9W3cKYsfcu   \n",
       "4       2020-01-10 00:00:00+00:00  rBiBqvTkfKBwbVHacSQR4eTzkgtCNuPTpy   \n",
       "...                           ...                                 ...   \n",
       "392108  2020-01-19 23:59:12+00:00  rKuAAajywBVRqWubSG43f3YUQTckH6SWrp   \n",
       "392109  2020-01-19 23:59:12+00:00  rKuAAajywBVRqWubSG43f3YUQTckH6SWrp   \n",
       "392110  2020-01-19 23:59:12+00:00  rKuAAajywBVRqWubSG43f3YUQTckH6SWrp   \n",
       "392111  2020-01-19 23:59:12+00:00  r3VC6jvrr3ny2fAPyGP3EjgKh9o4UrnpHE   \n",
       "392112  2020-01-19 23:59:12+00:00  rBofXgf6s6mxEnZxG5Xvq6BAp5qwjLyYbH   \n",
       "\n",
       "                               Destination   Fee  \\\n",
       "0       rsqPqyvJqVeqwZtXfBoqxnddDL4vWkHz3i  6038   \n",
       "1       r9JcwCSpRtEd22aNKGwsEKEWBHWq44bnb7  6038   \n",
       "2       rsKmxd181tdWkM7ADvYgza15GEbDSFdnTh  6038   \n",
       "3       rPDXsQ2qnx5Pup58Fpr5tmdRYvquH6vXys  6038   \n",
       "4       rJ9FEjpnWDKBuA245kvFL4guU3YqoGEQjS  6038   \n",
       "...                                    ...   ...   \n",
       "392108  rGvFAsDiR8jpNsxv7JoydBbKYZMxYEdSno    12   \n",
       "392109  rLhw4b5C1FYPcz6LSHF4b8PWBZwwyJ7Asd    12   \n",
       "392110  rKWeJfhstn5AbRQfc65Goc6csDUadXTM3U    12   \n",
       "392111  rKuAAajywBVRqWubSG43f3YUQTckH6SWrp    12   \n",
       "392112  rGrUgQDuBMuCVpLd5xz2qUFbxGUMwWJ1Sy    12   \n",
       "\n",
       "                                             TxnSignature  AmountXRP  \\\n",
       "0       304402204509E11298410955B1D93DA076E53E22149B33...        NaN   \n",
       "1       3045022100BE045DC7A98587E86A170A75519FB45BD394...        NaN   \n",
       "2       30440220352411F7E4B872D4D812FFE8991BA1C7F31800...        NaN   \n",
       "3       3045022100B6E629E83909304552403662162D469F5C08...        NaN   \n",
       "4       3045022100E602B05F9B3A02D9F766AF27D39CC7BC5DBD...        NaN   \n",
       "...                                                   ...        ...   \n",
       "392108  304402201A711D1E123A5A865C04865DE429D6765DF7A3...        NaN   \n",
       "392109  304402204C7BC46A38BA4B181EF4C42405E53E237F2360...        NaN   \n",
       "392110  3045022100A1C5042D5285EE933E02C1528E57D7622F1A...        NaN   \n",
       "392111  304402202E217BF61986A49B0A38699413F7D5CDEE6AFF...        NaN   \n",
       "392112  3045022100E0F04EA4FC0903029154DB2CA285251A5442...        NaN   \n",
       "\n",
       "        LedgerIndex TransactionType  \\\n",
       "0          52630771         Payment   \n",
       "1          52630771         Payment   \n",
       "2          52630771         Payment   \n",
       "3          52630771         Payment   \n",
       "4          52630771         Payment   \n",
       "...             ...             ...   \n",
       "392108     52854004         Payment   \n",
       "392109     52854004         Payment   \n",
       "392110     52854004         Payment   \n",
       "392111     52854004         Payment   \n",
       "392112     52854004         Payment   \n",
       "\n",
       "                                                AmountDEX  TransferRate  \\\n",
       "0       {'currency': 'BTC', 'issuer': 'rpJZ5Wyotdphojw...           NaN   \n",
       "1       {'currency': 'BTC', 'issuer': 'rpJZ5Wyotdphojw...           NaN   \n",
       "2       {'currency': 'BTC', 'issuer': 'rpJZ5Wyotdphojw...           NaN   \n",
       "3       {'currency': 'BTC', 'issuer': 'rpJZ5Wyotdphojw...           NaN   \n",
       "4       {'currency': 'BTC', 'issuer': 'rpJZ5Wyotdphojw...           NaN   \n",
       "...                                                   ...           ...   \n",
       "392108  {'currency': 'BTC', 'issuer': 'rpJZ5Wyotdphojw...           NaN   \n",
       "392109  {'currency': 'BTC', 'issuer': 'rpJZ5Wyotdphojw...           NaN   \n",
       "392110  {'currency': 'BTC', 'issuer': 'rpJZ5Wyotdphojw...           NaN   \n",
       "392111  {'currency': 'BTC', 'issuer': 'rpJZ5Wyotdphojw...           NaN   \n",
       "392112  {'currency': 'BTC', 'issuer': 'rpJZ5Wyotdphojw...           NaN   \n",
       "\n",
       "       currency                              issuer       value  \n",
       "0           BTC  rpJZ5WyotdphojwMLxCr2prhULvG3Voe3X    0.137133  \n",
       "1           BTC  rpJZ5WyotdphojwMLxCr2prhULvG3Voe3X    0.040634  \n",
       "2           BTC  rpJZ5WyotdphojwMLxCr2prhULvG3Voe3X    0.016375  \n",
       "3           BTC  rpJZ5WyotdphojwMLxCr2prhULvG3Voe3X    0.132582  \n",
       "4           BTC  rpJZ5WyotdphojwMLxCr2prhULvG3Voe3X    0.137229  \n",
       "...         ...                                 ...         ...  \n",
       "392108      BTC  rpJZ5WyotdphojwMLxCr2prhULvG3Voe3X  464.774019  \n",
       "392109      BTC  rpJZ5WyotdphojwMLxCr2prhULvG3Voe3X  492.155591  \n",
       "392110      BTC  rpJZ5WyotdphojwMLxCr2prhULvG3Voe3X  179.764316  \n",
       "392111      BTC  rpJZ5WyotdphojwMLxCr2prhULvG3Voe3X  416.043281  \n",
       "392112      BTC  rpJZ5WyotdphojwMLxCr2prhULvG3Voe3X  506.613387  \n",
       "\n",
       "[392113 rows x 13 columns]"
      ]
     },
     "execution_count": 33,
     "metadata": {},
     "output_type": "execute_result"
    }
   ],
   "source": [
    "\n",
    "\"\"\"\n",
    "df = pd.read_csv('/Users/charlesgarnot/Downloads/blop0.csv')\n",
    "file_path = '/Users/charlesgarnot/Downloads/'\n",
    "\n",
    "for i in range(1,40):\n",
    "    file_name = 'blop'+str(i)+'.csv'\n",
    "    df2 = pd.read_csv(file_path + file_name)\n",
    "    df = df.append(df2, ignore_index=True)\n",
    "\n",
    "df.drop(columns='Unnamed: 0', inplace=True)\n",
    "df.reset_index(inplace=True)\n",
    "df.drop(columns='index', inplace=True)\n",
    "\n",
    "file_path = '/Users/charlesgarnot/Documents/GitHub/XRPLords/Notebooks/Charles/'\n",
    "file_name = 'transactions from 2020-01-10 to 2020-01-20.csv'\n",
    "df.to_csv(file_path + file_name, index=False)\n",
    "\n",
    "df\n",
    "\"\"\"\n"
   ]
  },
  {
   "cell_type": "markdown",
   "metadata": {},
   "source": [
    "### Download gateways dataframe"
   ]
  },
  {
   "cell_type": "code",
   "execution_count": 34,
   "metadata": {},
   "outputs": [],
   "source": [
    "\"\"\"\n",
    "\n",
    "def Get_Gateways():\n",
    "\n",
    "    url= 'https://data.ripple.com/v2/gateways'\n",
    "    r = requests.get(url)\n",
    "\n",
    "    content = json.loads(r.content.decode('utf-8'))\n",
    "    df2_created = False\n",
    "    for key in content.keys():\n",
    "        if df2_created:\n",
    "            df3 = pd.DataFrame(content[key])\n",
    "            df3['currency'] = key\n",
    "            df2 = pd.concat([df2, df3], ignore_index=True, sort=False)\n",
    "\n",
    "        if not df2_created:\n",
    "            df2 = pd.DataFrame(content[key])\n",
    "            df2['currency'] = key\n",
    "            df2_created = True\n",
    "\n",
    "    return df2\n",
    "\n",
    "df_gateways = Get_Gateways()\n",
    "\n",
    "################################################################################\n",
    "\n",
    "known_accounts = list(set(df_gateways.account))\n",
    "account_holders = []\n",
    "\n",
    "for account in known_accounts:\n",
    "    holder = df_gateways.loc[df_gateways['account'] == account, 'name'].iloc[0]\n",
    "    account_holders.append(holder)  \n",
    "\n",
    "data = np.array([account_holders, known_accounts]).transpose()\n",
    "columns = ['name', 'account']\n",
    "df_gateways = pd.DataFrame(data, columns=columns)\n",
    "\n",
    "file_name = 'gateways.csv'\n",
    "df_gateways.to_csv(file_path + file_name, index=False)\n",
    "\n",
    "\"\"\"\n"
   ]
  },
  {
   "cell_type": "markdown",
   "metadata": {},
   "source": [
    "# Import dataframes"
   ]
  },
  {
   "cell_type": "markdown",
   "metadata": {},
   "source": [
    "### df is the dataframe for non XRP transactions from 2020-01-10 to 2020-01-20"
   ]
  },
  {
   "cell_type": "code",
   "execution_count": 45,
   "metadata": {},
   "outputs": [
    {
     "data": {
      "text/html": [
       "<div>\n",
       "<style scoped>\n",
       "    .dataframe tbody tr th:only-of-type {\n",
       "        vertical-align: middle;\n",
       "    }\n",
       "\n",
       "    .dataframe tbody tr th {\n",
       "        vertical-align: top;\n",
       "    }\n",
       "\n",
       "    .dataframe thead th {\n",
       "        text-align: right;\n",
       "    }\n",
       "</style>\n",
       "<table border=\"1\" class=\"dataframe\">\n",
       "  <thead>\n",
       "    <tr style=\"text-align: right;\">\n",
       "      <th></th>\n",
       "      <th>TimeStamp</th>\n",
       "      <th>Account</th>\n",
       "      <th>Destination</th>\n",
       "      <th>Fee</th>\n",
       "      <th>TxnSignature</th>\n",
       "      <th>AmountXRP</th>\n",
       "      <th>LedgerIndex</th>\n",
       "      <th>TransactionType</th>\n",
       "      <th>AmountDEX</th>\n",
       "      <th>TransferRate</th>\n",
       "      <th>currency</th>\n",
       "      <th>issuer</th>\n",
       "      <th>value</th>\n",
       "    </tr>\n",
       "  </thead>\n",
       "  <tbody>\n",
       "    <tr>\n",
       "      <td>0</td>\n",
       "      <td>2020-01-10 00:00:00+00:00</td>\n",
       "      <td>rHnPuJWVBtRP1F5Z6Zzb8gYWVZrg1NbeAC</td>\n",
       "      <td>rsqPqyvJqVeqwZtXfBoqxnddDL4vWkHz3i</td>\n",
       "      <td>6038</td>\n",
       "      <td>304402204509E11298410955B1D93DA076E53E22149B33...</td>\n",
       "      <td>NaN</td>\n",
       "      <td>52630771</td>\n",
       "      <td>Payment</td>\n",
       "      <td>{'currency': 'BTC', 'issuer': 'rpJZ5Wyotdphojw...</td>\n",
       "      <td>NaN</td>\n",
       "      <td>BTC</td>\n",
       "      <td>rpJZ5WyotdphojwMLxCr2prhULvG3Voe3X</td>\n",
       "      <td>0.137133</td>\n",
       "    </tr>\n",
       "    <tr>\n",
       "      <td>1</td>\n",
       "      <td>2020-01-10 00:00:00+00:00</td>\n",
       "      <td>rfpNMACVYdpf6znrhJcrH3CJFu3tvwf7Vx</td>\n",
       "      <td>r9JcwCSpRtEd22aNKGwsEKEWBHWq44bnb7</td>\n",
       "      <td>6038</td>\n",
       "      <td>3045022100BE045DC7A98587E86A170A75519FB45BD394...</td>\n",
       "      <td>NaN</td>\n",
       "      <td>52630771</td>\n",
       "      <td>Payment</td>\n",
       "      <td>{'currency': 'BTC', 'issuer': 'rpJZ5Wyotdphojw...</td>\n",
       "      <td>NaN</td>\n",
       "      <td>BTC</td>\n",
       "      <td>rpJZ5WyotdphojwMLxCr2prhULvG3Voe3X</td>\n",
       "      <td>0.040634</td>\n",
       "    </tr>\n",
       "    <tr>\n",
       "      <td>2</td>\n",
       "      <td>2020-01-10 00:00:00+00:00</td>\n",
       "      <td>r3f1Az73MKCYMQYxyPiQ2zmAEbNFXaMzSY</td>\n",
       "      <td>rsKmxd181tdWkM7ADvYgza15GEbDSFdnTh</td>\n",
       "      <td>6038</td>\n",
       "      <td>30440220352411F7E4B872D4D812FFE8991BA1C7F31800...</td>\n",
       "      <td>NaN</td>\n",
       "      <td>52630771</td>\n",
       "      <td>Payment</td>\n",
       "      <td>{'currency': 'BTC', 'issuer': 'rpJZ5Wyotdphojw...</td>\n",
       "      <td>NaN</td>\n",
       "      <td>BTC</td>\n",
       "      <td>rpJZ5WyotdphojwMLxCr2prhULvG3Voe3X</td>\n",
       "      <td>0.016375</td>\n",
       "    </tr>\n",
       "    <tr>\n",
       "      <td>3</td>\n",
       "      <td>2020-01-10 00:00:00+00:00</td>\n",
       "      <td>rayoZ9jCiH3JjWocjgy9yHmG9W3cKYsfcu</td>\n",
       "      <td>rPDXsQ2qnx5Pup58Fpr5tmdRYvquH6vXys</td>\n",
       "      <td>6038</td>\n",
       "      <td>3045022100B6E629E83909304552403662162D469F5C08...</td>\n",
       "      <td>NaN</td>\n",
       "      <td>52630771</td>\n",
       "      <td>Payment</td>\n",
       "      <td>{'currency': 'BTC', 'issuer': 'rpJZ5Wyotdphojw...</td>\n",
       "      <td>NaN</td>\n",
       "      <td>BTC</td>\n",
       "      <td>rpJZ5WyotdphojwMLxCr2prhULvG3Voe3X</td>\n",
       "      <td>0.132582</td>\n",
       "    </tr>\n",
       "    <tr>\n",
       "      <td>4</td>\n",
       "      <td>2020-01-10 00:00:00+00:00</td>\n",
       "      <td>rBiBqvTkfKBwbVHacSQR4eTzkgtCNuPTpy</td>\n",
       "      <td>rJ9FEjpnWDKBuA245kvFL4guU3YqoGEQjS</td>\n",
       "      <td>6038</td>\n",
       "      <td>3045022100E602B05F9B3A02D9F766AF27D39CC7BC5DBD...</td>\n",
       "      <td>NaN</td>\n",
       "      <td>52630771</td>\n",
       "      <td>Payment</td>\n",
       "      <td>{'currency': 'BTC', 'issuer': 'rpJZ5Wyotdphojw...</td>\n",
       "      <td>NaN</td>\n",
       "      <td>BTC</td>\n",
       "      <td>rpJZ5WyotdphojwMLxCr2prhULvG3Voe3X</td>\n",
       "      <td>0.137229</td>\n",
       "    </tr>\n",
       "    <tr>\n",
       "      <td>...</td>\n",
       "      <td>...</td>\n",
       "      <td>...</td>\n",
       "      <td>...</td>\n",
       "      <td>...</td>\n",
       "      <td>...</td>\n",
       "      <td>...</td>\n",
       "      <td>...</td>\n",
       "      <td>...</td>\n",
       "      <td>...</td>\n",
       "      <td>...</td>\n",
       "      <td>...</td>\n",
       "      <td>...</td>\n",
       "      <td>...</td>\n",
       "    </tr>\n",
       "    <tr>\n",
       "      <td>392108</td>\n",
       "      <td>2020-01-19 23:59:12+00:00</td>\n",
       "      <td>rKuAAajywBVRqWubSG43f3YUQTckH6SWrp</td>\n",
       "      <td>rGvFAsDiR8jpNsxv7JoydBbKYZMxYEdSno</td>\n",
       "      <td>12</td>\n",
       "      <td>304402201A711D1E123A5A865C04865DE429D6765DF7A3...</td>\n",
       "      <td>NaN</td>\n",
       "      <td>52854004</td>\n",
       "      <td>Payment</td>\n",
       "      <td>{'currency': 'BTC', 'issuer': 'rpJZ5Wyotdphojw...</td>\n",
       "      <td>NaN</td>\n",
       "      <td>BTC</td>\n",
       "      <td>rpJZ5WyotdphojwMLxCr2prhULvG3Voe3X</td>\n",
       "      <td>464.774019</td>\n",
       "    </tr>\n",
       "    <tr>\n",
       "      <td>392109</td>\n",
       "      <td>2020-01-19 23:59:12+00:00</td>\n",
       "      <td>rKuAAajywBVRqWubSG43f3YUQTckH6SWrp</td>\n",
       "      <td>rLhw4b5C1FYPcz6LSHF4b8PWBZwwyJ7Asd</td>\n",
       "      <td>12</td>\n",
       "      <td>304402204C7BC46A38BA4B181EF4C42405E53E237F2360...</td>\n",
       "      <td>NaN</td>\n",
       "      <td>52854004</td>\n",
       "      <td>Payment</td>\n",
       "      <td>{'currency': 'BTC', 'issuer': 'rpJZ5Wyotdphojw...</td>\n",
       "      <td>NaN</td>\n",
       "      <td>BTC</td>\n",
       "      <td>rpJZ5WyotdphojwMLxCr2prhULvG3Voe3X</td>\n",
       "      <td>492.155591</td>\n",
       "    </tr>\n",
       "    <tr>\n",
       "      <td>392110</td>\n",
       "      <td>2020-01-19 23:59:12+00:00</td>\n",
       "      <td>rKuAAajywBVRqWubSG43f3YUQTckH6SWrp</td>\n",
       "      <td>rKWeJfhstn5AbRQfc65Goc6csDUadXTM3U</td>\n",
       "      <td>12</td>\n",
       "      <td>3045022100A1C5042D5285EE933E02C1528E57D7622F1A...</td>\n",
       "      <td>NaN</td>\n",
       "      <td>52854004</td>\n",
       "      <td>Payment</td>\n",
       "      <td>{'currency': 'BTC', 'issuer': 'rpJZ5Wyotdphojw...</td>\n",
       "      <td>NaN</td>\n",
       "      <td>BTC</td>\n",
       "      <td>rpJZ5WyotdphojwMLxCr2prhULvG3Voe3X</td>\n",
       "      <td>179.764316</td>\n",
       "    </tr>\n",
       "    <tr>\n",
       "      <td>392111</td>\n",
       "      <td>2020-01-19 23:59:12+00:00</td>\n",
       "      <td>r3VC6jvrr3ny2fAPyGP3EjgKh9o4UrnpHE</td>\n",
       "      <td>rKuAAajywBVRqWubSG43f3YUQTckH6SWrp</td>\n",
       "      <td>12</td>\n",
       "      <td>304402202E217BF61986A49B0A38699413F7D5CDEE6AFF...</td>\n",
       "      <td>NaN</td>\n",
       "      <td>52854004</td>\n",
       "      <td>Payment</td>\n",
       "      <td>{'currency': 'BTC', 'issuer': 'rpJZ5Wyotdphojw...</td>\n",
       "      <td>NaN</td>\n",
       "      <td>BTC</td>\n",
       "      <td>rpJZ5WyotdphojwMLxCr2prhULvG3Voe3X</td>\n",
       "      <td>416.043281</td>\n",
       "    </tr>\n",
       "    <tr>\n",
       "      <td>392112</td>\n",
       "      <td>2020-01-19 23:59:12+00:00</td>\n",
       "      <td>rBofXgf6s6mxEnZxG5Xvq6BAp5qwjLyYbH</td>\n",
       "      <td>rGrUgQDuBMuCVpLd5xz2qUFbxGUMwWJ1Sy</td>\n",
       "      <td>12</td>\n",
       "      <td>3045022100E0F04EA4FC0903029154DB2CA285251A5442...</td>\n",
       "      <td>NaN</td>\n",
       "      <td>52854004</td>\n",
       "      <td>Payment</td>\n",
       "      <td>{'currency': 'BTC', 'issuer': 'rpJZ5Wyotdphojw...</td>\n",
       "      <td>NaN</td>\n",
       "      <td>BTC</td>\n",
       "      <td>rpJZ5WyotdphojwMLxCr2prhULvG3Voe3X</td>\n",
       "      <td>506.613387</td>\n",
       "    </tr>\n",
       "  </tbody>\n",
       "</table>\n",
       "<p>392113 rows × 13 columns</p>\n",
       "</div>"
      ],
      "text/plain": [
       "                        TimeStamp                             Account  \\\n",
       "0       2020-01-10 00:00:00+00:00  rHnPuJWVBtRP1F5Z6Zzb8gYWVZrg1NbeAC   \n",
       "1       2020-01-10 00:00:00+00:00  rfpNMACVYdpf6znrhJcrH3CJFu3tvwf7Vx   \n",
       "2       2020-01-10 00:00:00+00:00  r3f1Az73MKCYMQYxyPiQ2zmAEbNFXaMzSY   \n",
       "3       2020-01-10 00:00:00+00:00  rayoZ9jCiH3JjWocjgy9yHmG9W3cKYsfcu   \n",
       "4       2020-01-10 00:00:00+00:00  rBiBqvTkfKBwbVHacSQR4eTzkgtCNuPTpy   \n",
       "...                           ...                                 ...   \n",
       "392108  2020-01-19 23:59:12+00:00  rKuAAajywBVRqWubSG43f3YUQTckH6SWrp   \n",
       "392109  2020-01-19 23:59:12+00:00  rKuAAajywBVRqWubSG43f3YUQTckH6SWrp   \n",
       "392110  2020-01-19 23:59:12+00:00  rKuAAajywBVRqWubSG43f3YUQTckH6SWrp   \n",
       "392111  2020-01-19 23:59:12+00:00  r3VC6jvrr3ny2fAPyGP3EjgKh9o4UrnpHE   \n",
       "392112  2020-01-19 23:59:12+00:00  rBofXgf6s6mxEnZxG5Xvq6BAp5qwjLyYbH   \n",
       "\n",
       "                               Destination   Fee  \\\n",
       "0       rsqPqyvJqVeqwZtXfBoqxnddDL4vWkHz3i  6038   \n",
       "1       r9JcwCSpRtEd22aNKGwsEKEWBHWq44bnb7  6038   \n",
       "2       rsKmxd181tdWkM7ADvYgza15GEbDSFdnTh  6038   \n",
       "3       rPDXsQ2qnx5Pup58Fpr5tmdRYvquH6vXys  6038   \n",
       "4       rJ9FEjpnWDKBuA245kvFL4guU3YqoGEQjS  6038   \n",
       "...                                    ...   ...   \n",
       "392108  rGvFAsDiR8jpNsxv7JoydBbKYZMxYEdSno    12   \n",
       "392109  rLhw4b5C1FYPcz6LSHF4b8PWBZwwyJ7Asd    12   \n",
       "392110  rKWeJfhstn5AbRQfc65Goc6csDUadXTM3U    12   \n",
       "392111  rKuAAajywBVRqWubSG43f3YUQTckH6SWrp    12   \n",
       "392112  rGrUgQDuBMuCVpLd5xz2qUFbxGUMwWJ1Sy    12   \n",
       "\n",
       "                                             TxnSignature  AmountXRP  \\\n",
       "0       304402204509E11298410955B1D93DA076E53E22149B33...        NaN   \n",
       "1       3045022100BE045DC7A98587E86A170A75519FB45BD394...        NaN   \n",
       "2       30440220352411F7E4B872D4D812FFE8991BA1C7F31800...        NaN   \n",
       "3       3045022100B6E629E83909304552403662162D469F5C08...        NaN   \n",
       "4       3045022100E602B05F9B3A02D9F766AF27D39CC7BC5DBD...        NaN   \n",
       "...                                                   ...        ...   \n",
       "392108  304402201A711D1E123A5A865C04865DE429D6765DF7A3...        NaN   \n",
       "392109  304402204C7BC46A38BA4B181EF4C42405E53E237F2360...        NaN   \n",
       "392110  3045022100A1C5042D5285EE933E02C1528E57D7622F1A...        NaN   \n",
       "392111  304402202E217BF61986A49B0A38699413F7D5CDEE6AFF...        NaN   \n",
       "392112  3045022100E0F04EA4FC0903029154DB2CA285251A5442...        NaN   \n",
       "\n",
       "        LedgerIndex TransactionType  \\\n",
       "0          52630771         Payment   \n",
       "1          52630771         Payment   \n",
       "2          52630771         Payment   \n",
       "3          52630771         Payment   \n",
       "4          52630771         Payment   \n",
       "...             ...             ...   \n",
       "392108     52854004         Payment   \n",
       "392109     52854004         Payment   \n",
       "392110     52854004         Payment   \n",
       "392111     52854004         Payment   \n",
       "392112     52854004         Payment   \n",
       "\n",
       "                                                AmountDEX  TransferRate  \\\n",
       "0       {'currency': 'BTC', 'issuer': 'rpJZ5Wyotdphojw...           NaN   \n",
       "1       {'currency': 'BTC', 'issuer': 'rpJZ5Wyotdphojw...           NaN   \n",
       "2       {'currency': 'BTC', 'issuer': 'rpJZ5Wyotdphojw...           NaN   \n",
       "3       {'currency': 'BTC', 'issuer': 'rpJZ5Wyotdphojw...           NaN   \n",
       "4       {'currency': 'BTC', 'issuer': 'rpJZ5Wyotdphojw...           NaN   \n",
       "...                                                   ...           ...   \n",
       "392108  {'currency': 'BTC', 'issuer': 'rpJZ5Wyotdphojw...           NaN   \n",
       "392109  {'currency': 'BTC', 'issuer': 'rpJZ5Wyotdphojw...           NaN   \n",
       "392110  {'currency': 'BTC', 'issuer': 'rpJZ5Wyotdphojw...           NaN   \n",
       "392111  {'currency': 'BTC', 'issuer': 'rpJZ5Wyotdphojw...           NaN   \n",
       "392112  {'currency': 'BTC', 'issuer': 'rpJZ5Wyotdphojw...           NaN   \n",
       "\n",
       "       currency                              issuer       value  \n",
       "0           BTC  rpJZ5WyotdphojwMLxCr2prhULvG3Voe3X    0.137133  \n",
       "1           BTC  rpJZ5WyotdphojwMLxCr2prhULvG3Voe3X    0.040634  \n",
       "2           BTC  rpJZ5WyotdphojwMLxCr2prhULvG3Voe3X    0.016375  \n",
       "3           BTC  rpJZ5WyotdphojwMLxCr2prhULvG3Voe3X    0.132582  \n",
       "4           BTC  rpJZ5WyotdphojwMLxCr2prhULvG3Voe3X    0.137229  \n",
       "...         ...                                 ...         ...  \n",
       "392108      BTC  rpJZ5WyotdphojwMLxCr2prhULvG3Voe3X  464.774019  \n",
       "392109      BTC  rpJZ5WyotdphojwMLxCr2prhULvG3Voe3X  492.155591  \n",
       "392110      BTC  rpJZ5WyotdphojwMLxCr2prhULvG3Voe3X  179.764316  \n",
       "392111      BTC  rpJZ5WyotdphojwMLxCr2prhULvG3Voe3X  416.043281  \n",
       "392112      BTC  rpJZ5WyotdphojwMLxCr2prhULvG3Voe3X  506.613387  \n",
       "\n",
       "[392113 rows x 13 columns]"
      ]
     },
     "execution_count": 45,
     "metadata": {},
     "output_type": "execute_result"
    }
   ],
   "source": [
    "df = pd.read_csv('/Users/charlesgarnot/Documents/GitHub/XRPLords/Notebooks/Charles/transactions from 2020-01-10 to 2020-01-20.csv')\n",
    "df"
   ]
  },
  {
   "cell_type": "markdown",
   "metadata": {},
   "source": [
    "### df_gateways is the dataframe for all gateways and their account"
   ]
  },
  {
   "cell_type": "code",
   "execution_count": 37,
   "metadata": {},
   "outputs": [
    {
     "data": {
      "text/html": [
       "<div>\n",
       "<style scoped>\n",
       "    .dataframe tbody tr th:only-of-type {\n",
       "        vertical-align: middle;\n",
       "    }\n",
       "\n",
       "    .dataframe tbody tr th {\n",
       "        vertical-align: top;\n",
       "    }\n",
       "\n",
       "    .dataframe thead th {\n",
       "        text-align: right;\n",
       "    }\n",
       "</style>\n",
       "<table border=\"1\" class=\"dataframe\">\n",
       "  <thead>\n",
       "    <tr style=\"text-align: right;\">\n",
       "      <th></th>\n",
       "      <th>name</th>\n",
       "      <th>account</th>\n",
       "    </tr>\n",
       "  </thead>\n",
       "  <tbody>\n",
       "    <tr>\n",
       "      <td>0</td>\n",
       "      <td>Gatehub Fifth</td>\n",
       "      <td>rcA8X3TVMST1n3CJeAdGk1RdRCHii7N2h</td>\n",
       "    </tr>\n",
       "    <tr>\n",
       "      <td>1</td>\n",
       "      <td>Ripple Fox</td>\n",
       "      <td>rKiCet8SdvWxPXnAgYarFUXMh1zCPz432Y</td>\n",
       "    </tr>\n",
       "    <tr>\n",
       "      <td>2</td>\n",
       "      <td>Bitso</td>\n",
       "      <td>rG6FZ31hDHN1K5Dkbma3PSB5uVCuVVRzfn</td>\n",
       "    </tr>\n",
       "    <tr>\n",
       "      <td>3</td>\n",
       "      <td>The Rock Trading</td>\n",
       "      <td>rLEsXccBGNR3UPuPu2hUXPjziKC3qKSBun</td>\n",
       "    </tr>\n",
       "    <tr>\n",
       "      <td>4</td>\n",
       "      <td>Payroutes</td>\n",
       "      <td>rNPRNzBB92BVpAhhZr4iXDTveCgV5Pofm9</td>\n",
       "    </tr>\n",
       "    <tr>\n",
       "      <td>5</td>\n",
       "      <td>RippleChina</td>\n",
       "      <td>razqQKzJRdB4UxFPWf5NEpEG3WMkmwgcXA</td>\n",
       "    </tr>\n",
       "    <tr>\n",
       "      <td>6</td>\n",
       "      <td>Coinex</td>\n",
       "      <td>rsP3mgGb2tcYUrxiLFiHJiQXhsziegtwBc</td>\n",
       "    </tr>\n",
       "    <tr>\n",
       "      <td>7</td>\n",
       "      <td>Ripple Singapore</td>\n",
       "      <td>r9Dr5xwkeLegBeXq6ujinjSBLQzQ1zQGjH</td>\n",
       "    </tr>\n",
       "    <tr>\n",
       "      <td>8</td>\n",
       "      <td>GBI</td>\n",
       "      <td>rrh7rf1gV2pXAoqA8oYbpHd8TKv5ZQeo67</td>\n",
       "    </tr>\n",
       "    <tr>\n",
       "      <td>9</td>\n",
       "      <td>Gatehub</td>\n",
       "      <td>rhub8VRN55s94qWKDv6jmDy1pUykJzF3wq</td>\n",
       "    </tr>\n",
       "    <tr>\n",
       "      <td>10</td>\n",
       "      <td>Dividend Rippler</td>\n",
       "      <td>rfYv1TXnwgDDK4WQNbFALykYuEBnrR4pDX</td>\n",
       "    </tr>\n",
       "    <tr>\n",
       "      <td>11</td>\n",
       "      <td>Ripula</td>\n",
       "      <td>rBycsjqxD8RVZP5zrrndiVtJwht7Z457A8</td>\n",
       "    </tr>\n",
       "    <tr>\n",
       "      <td>12</td>\n",
       "      <td>Bitstamp</td>\n",
       "      <td>rvYAfWj5gh67oV6fW32ZzP3Aw4Eubs59B</td>\n",
       "    </tr>\n",
       "    <tr>\n",
       "      <td>13</td>\n",
       "      <td>Rippex</td>\n",
       "      <td>rKxKhXZCeSDsbkyB8DVgxpjy5AHubFkMFe</td>\n",
       "    </tr>\n",
       "    <tr>\n",
       "      <td>14</td>\n",
       "      <td>RippleUnion</td>\n",
       "      <td>r3ADD8kXSUKHd6zTCKfnKT3zV9EZHjzp1S</td>\n",
       "    </tr>\n",
       "    <tr>\n",
       "      <td>15</td>\n",
       "      <td>DotPayco</td>\n",
       "      <td>rM8199qFwspxiWNZRChZdZbGN5WrCepVP1</td>\n",
       "    </tr>\n",
       "    <tr>\n",
       "      <td>16</td>\n",
       "      <td>Gatehub Fifth</td>\n",
       "      <td>rchGBxcD1A1C2tdxF6papQYZ8kjRKMYcL</td>\n",
       "    </tr>\n",
       "    <tr>\n",
       "      <td>17</td>\n",
       "      <td>BTC 2 Ripple</td>\n",
       "      <td>rMwjYedjc7qqtKYVLiAccJSmCwih4LnE2q</td>\n",
       "    </tr>\n",
       "    <tr>\n",
       "      <td>18</td>\n",
       "      <td>Ripple Exchange Tokyo</td>\n",
       "      <td>r9ZFPSb1TFdnJwbTMYHvVwFK1bQPUCVNfJ</td>\n",
       "    </tr>\n",
       "    <tr>\n",
       "      <td>19</td>\n",
       "      <td>Gatehub Fifth</td>\n",
       "      <td>rckzVpTnKpP4TJ1puQe827bV3X4oYtdTP</td>\n",
       "    </tr>\n",
       "    <tr>\n",
       "      <td>20</td>\n",
       "      <td>Digital Gate Japan</td>\n",
       "      <td>rJRi8WW24gt9X85PHAxfWNPCizMMhqUQwg</td>\n",
       "    </tr>\n",
       "    <tr>\n",
       "      <td>21</td>\n",
       "      <td>Ripple Trade Japan</td>\n",
       "      <td>rMAz5ZnK73nyNUL4foAvaxdreczCkG3vA6</td>\n",
       "    </tr>\n",
       "    <tr>\n",
       "      <td>22</td>\n",
       "      <td>TokyoJPY</td>\n",
       "      <td>r94s8px6kSw1uZ1MV98dhSRTvc6VMPoPcN</td>\n",
       "    </tr>\n",
       "    <tr>\n",
       "      <td>23</td>\n",
       "      <td>Lake BTC</td>\n",
       "      <td>rpDMez6pm6dBve2TJsmDpv7Yae6V5Pyvy2</td>\n",
       "    </tr>\n",
       "    <tr>\n",
       "      <td>24</td>\n",
       "      <td>WisePass</td>\n",
       "      <td>rPDXxSZcuVL3ZWoyU82bcde3zwvmShkRyF</td>\n",
       "    </tr>\n",
       "    <tr>\n",
       "      <td>25</td>\n",
       "      <td>Justcoin</td>\n",
       "      <td>rJHygWcTLVpSXkowott6kzgZU6viQSVYM1</td>\n",
       "    </tr>\n",
       "    <tr>\n",
       "      <td>26</td>\n",
       "      <td>Ripple LatAm</td>\n",
       "      <td>rP5ShE8dGBH6hHtNvRESdMceen36XFBQmh</td>\n",
       "    </tr>\n",
       "    <tr>\n",
       "      <td>27</td>\n",
       "      <td>EXRP</td>\n",
       "      <td>rPxU6acYni7FcXzPCMeaPSwKcuS2GTtNVN</td>\n",
       "    </tr>\n",
       "    <tr>\n",
       "      <td>28</td>\n",
       "      <td>Rippex</td>\n",
       "      <td>rfNZPxoZ5Uaamdp339U9dCLWz2T73nZJZH</td>\n",
       "    </tr>\n",
       "    <tr>\n",
       "      <td>29</td>\n",
       "      <td>Gatehub Fifth</td>\n",
       "      <td>rDAN8tzydyNfnNf2bfUQY6iR96UbpvNsze</td>\n",
       "    </tr>\n",
       "    <tr>\n",
       "      <td>30</td>\n",
       "      <td>Pax Moneta</td>\n",
       "      <td>rUkMKjQitpgAM5WTGk79xpjT38DEJY283d</td>\n",
       "    </tr>\n",
       "    <tr>\n",
       "      <td>31</td>\n",
       "      <td>Mr. Exchange</td>\n",
       "      <td>rB3gZey7VWHYRqJHLoHDEJXJ2pEPNieKiS</td>\n",
       "    </tr>\n",
       "    <tr>\n",
       "      <td>32</td>\n",
       "      <td>rippleCN</td>\n",
       "      <td>rnuF96W4SZoCJmbHYBFoJZpR8eCaxNvekK</td>\n",
       "    </tr>\n",
       "    <tr>\n",
       "      <td>33</td>\n",
       "      <td>BPG</td>\n",
       "      <td>rcoef87SYMJ58NAFx7fNM5frVknmvHsvJ</td>\n",
       "    </tr>\n",
       "  </tbody>\n",
       "</table>\n",
       "</div>"
      ],
      "text/plain": [
       "                     name                             account\n",
       "0           Gatehub Fifth   rcA8X3TVMST1n3CJeAdGk1RdRCHii7N2h\n",
       "1              Ripple Fox  rKiCet8SdvWxPXnAgYarFUXMh1zCPz432Y\n",
       "2                   Bitso  rG6FZ31hDHN1K5Dkbma3PSB5uVCuVVRzfn\n",
       "3        The Rock Trading  rLEsXccBGNR3UPuPu2hUXPjziKC3qKSBun\n",
       "4               Payroutes  rNPRNzBB92BVpAhhZr4iXDTveCgV5Pofm9\n",
       "5             RippleChina  razqQKzJRdB4UxFPWf5NEpEG3WMkmwgcXA\n",
       "6                  Coinex  rsP3mgGb2tcYUrxiLFiHJiQXhsziegtwBc\n",
       "7        Ripple Singapore  r9Dr5xwkeLegBeXq6ujinjSBLQzQ1zQGjH\n",
       "8                     GBI  rrh7rf1gV2pXAoqA8oYbpHd8TKv5ZQeo67\n",
       "9                 Gatehub  rhub8VRN55s94qWKDv6jmDy1pUykJzF3wq\n",
       "10       Dividend Rippler  rfYv1TXnwgDDK4WQNbFALykYuEBnrR4pDX\n",
       "11                 Ripula  rBycsjqxD8RVZP5zrrndiVtJwht7Z457A8\n",
       "12               Bitstamp   rvYAfWj5gh67oV6fW32ZzP3Aw4Eubs59B\n",
       "13                 Rippex  rKxKhXZCeSDsbkyB8DVgxpjy5AHubFkMFe\n",
       "14            RippleUnion  r3ADD8kXSUKHd6zTCKfnKT3zV9EZHjzp1S\n",
       "15               DotPayco  rM8199qFwspxiWNZRChZdZbGN5WrCepVP1\n",
       "16          Gatehub Fifth   rchGBxcD1A1C2tdxF6papQYZ8kjRKMYcL\n",
       "17           BTC 2 Ripple  rMwjYedjc7qqtKYVLiAccJSmCwih4LnE2q\n",
       "18  Ripple Exchange Tokyo  r9ZFPSb1TFdnJwbTMYHvVwFK1bQPUCVNfJ\n",
       "19          Gatehub Fifth   rckzVpTnKpP4TJ1puQe827bV3X4oYtdTP\n",
       "20     Digital Gate Japan  rJRi8WW24gt9X85PHAxfWNPCizMMhqUQwg\n",
       "21     Ripple Trade Japan  rMAz5ZnK73nyNUL4foAvaxdreczCkG3vA6\n",
       "22               TokyoJPY  r94s8px6kSw1uZ1MV98dhSRTvc6VMPoPcN\n",
       "23               Lake BTC  rpDMez6pm6dBve2TJsmDpv7Yae6V5Pyvy2\n",
       "24               WisePass  rPDXxSZcuVL3ZWoyU82bcde3zwvmShkRyF\n",
       "25               Justcoin  rJHygWcTLVpSXkowott6kzgZU6viQSVYM1\n",
       "26           Ripple LatAm  rP5ShE8dGBH6hHtNvRESdMceen36XFBQmh\n",
       "27                   EXRP  rPxU6acYni7FcXzPCMeaPSwKcuS2GTtNVN\n",
       "28                 Rippex  rfNZPxoZ5Uaamdp339U9dCLWz2T73nZJZH\n",
       "29          Gatehub Fifth  rDAN8tzydyNfnNf2bfUQY6iR96UbpvNsze\n",
       "30             Pax Moneta  rUkMKjQitpgAM5WTGk79xpjT38DEJY283d\n",
       "31           Mr. Exchange  rB3gZey7VWHYRqJHLoHDEJXJ2pEPNieKiS\n",
       "32               rippleCN  rnuF96W4SZoCJmbHYBFoJZpR8eCaxNvekK\n",
       "33                    BPG   rcoef87SYMJ58NAFx7fNM5frVknmvHsvJ"
      ]
     },
     "execution_count": 37,
     "metadata": {},
     "output_type": "execute_result"
    }
   ],
   "source": [
    "df_gateways = pd.read_csv('/Users/charlesgarnot/Documents/GitHub/XRPLords/Notebooks/Charles/gateways.csv')\n",
    "df_gateways"
   ]
  },
  {
   "cell_type": "markdown",
   "metadata": {},
   "source": [
    "# Trying to make some plots"
   ]
  },
  {
   "cell_type": "code",
   "execution_count": 76,
   "metadata": {},
   "outputs": [
    {
     "data": {
      "application/vnd.plotly.v1+json": {
       "config": {
        "plotlyServerURL": "https://plot.ly"
       },
       "data": [
        {
         "name": "known issuer",
         "type": "bar",
         "x": [
          "USD"
         ],
         "y": [
          12910468.868459746
         ]
        },
        {
         "name": "unknown issuer",
         "type": "bar",
         "x": [
          "USD"
         ],
         "y": [
          5232477.311935
         ]
        }
       ],
       "layout": {
        "barmode": "stack",
        "template": {
         "data": {
          "bar": [
           {
            "error_x": {
             "color": "#2a3f5f"
            },
            "error_y": {
             "color": "#2a3f5f"
            },
            "marker": {
             "line": {
              "color": "#E5ECF6",
              "width": 0.5
             }
            },
            "type": "bar"
           }
          ],
          "barpolar": [
           {
            "marker": {
             "line": {
              "color": "#E5ECF6",
              "width": 0.5
             }
            },
            "type": "barpolar"
           }
          ],
          "carpet": [
           {
            "aaxis": {
             "endlinecolor": "#2a3f5f",
             "gridcolor": "white",
             "linecolor": "white",
             "minorgridcolor": "white",
             "startlinecolor": "#2a3f5f"
            },
            "baxis": {
             "endlinecolor": "#2a3f5f",
             "gridcolor": "white",
             "linecolor": "white",
             "minorgridcolor": "white",
             "startlinecolor": "#2a3f5f"
            },
            "type": "carpet"
           }
          ],
          "choropleth": [
           {
            "colorbar": {
             "outlinewidth": 0,
             "ticks": ""
            },
            "type": "choropleth"
           }
          ],
          "contour": [
           {
            "colorbar": {
             "outlinewidth": 0,
             "ticks": ""
            },
            "colorscale": [
             [
              0,
              "#0d0887"
             ],
             [
              0.1111111111111111,
              "#46039f"
             ],
             [
              0.2222222222222222,
              "#7201a8"
             ],
             [
              0.3333333333333333,
              "#9c179e"
             ],
             [
              0.4444444444444444,
              "#bd3786"
             ],
             [
              0.5555555555555556,
              "#d8576b"
             ],
             [
              0.6666666666666666,
              "#ed7953"
             ],
             [
              0.7777777777777778,
              "#fb9f3a"
             ],
             [
              0.8888888888888888,
              "#fdca26"
             ],
             [
              1,
              "#f0f921"
             ]
            ],
            "type": "contour"
           }
          ],
          "contourcarpet": [
           {
            "colorbar": {
             "outlinewidth": 0,
             "ticks": ""
            },
            "type": "contourcarpet"
           }
          ],
          "heatmap": [
           {
            "colorbar": {
             "outlinewidth": 0,
             "ticks": ""
            },
            "colorscale": [
             [
              0,
              "#0d0887"
             ],
             [
              0.1111111111111111,
              "#46039f"
             ],
             [
              0.2222222222222222,
              "#7201a8"
             ],
             [
              0.3333333333333333,
              "#9c179e"
             ],
             [
              0.4444444444444444,
              "#bd3786"
             ],
             [
              0.5555555555555556,
              "#d8576b"
             ],
             [
              0.6666666666666666,
              "#ed7953"
             ],
             [
              0.7777777777777778,
              "#fb9f3a"
             ],
             [
              0.8888888888888888,
              "#fdca26"
             ],
             [
              1,
              "#f0f921"
             ]
            ],
            "type": "heatmap"
           }
          ],
          "heatmapgl": [
           {
            "colorbar": {
             "outlinewidth": 0,
             "ticks": ""
            },
            "colorscale": [
             [
              0,
              "#0d0887"
             ],
             [
              0.1111111111111111,
              "#46039f"
             ],
             [
              0.2222222222222222,
              "#7201a8"
             ],
             [
              0.3333333333333333,
              "#9c179e"
             ],
             [
              0.4444444444444444,
              "#bd3786"
             ],
             [
              0.5555555555555556,
              "#d8576b"
             ],
             [
              0.6666666666666666,
              "#ed7953"
             ],
             [
              0.7777777777777778,
              "#fb9f3a"
             ],
             [
              0.8888888888888888,
              "#fdca26"
             ],
             [
              1,
              "#f0f921"
             ]
            ],
            "type": "heatmapgl"
           }
          ],
          "histogram": [
           {
            "marker": {
             "colorbar": {
              "outlinewidth": 0,
              "ticks": ""
             }
            },
            "type": "histogram"
           }
          ],
          "histogram2d": [
           {
            "colorbar": {
             "outlinewidth": 0,
             "ticks": ""
            },
            "colorscale": [
             [
              0,
              "#0d0887"
             ],
             [
              0.1111111111111111,
              "#46039f"
             ],
             [
              0.2222222222222222,
              "#7201a8"
             ],
             [
              0.3333333333333333,
              "#9c179e"
             ],
             [
              0.4444444444444444,
              "#bd3786"
             ],
             [
              0.5555555555555556,
              "#d8576b"
             ],
             [
              0.6666666666666666,
              "#ed7953"
             ],
             [
              0.7777777777777778,
              "#fb9f3a"
             ],
             [
              0.8888888888888888,
              "#fdca26"
             ],
             [
              1,
              "#f0f921"
             ]
            ],
            "type": "histogram2d"
           }
          ],
          "histogram2dcontour": [
           {
            "colorbar": {
             "outlinewidth": 0,
             "ticks": ""
            },
            "colorscale": [
             [
              0,
              "#0d0887"
             ],
             [
              0.1111111111111111,
              "#46039f"
             ],
             [
              0.2222222222222222,
              "#7201a8"
             ],
             [
              0.3333333333333333,
              "#9c179e"
             ],
             [
              0.4444444444444444,
              "#bd3786"
             ],
             [
              0.5555555555555556,
              "#d8576b"
             ],
             [
              0.6666666666666666,
              "#ed7953"
             ],
             [
              0.7777777777777778,
              "#fb9f3a"
             ],
             [
              0.8888888888888888,
              "#fdca26"
             ],
             [
              1,
              "#f0f921"
             ]
            ],
            "type": "histogram2dcontour"
           }
          ],
          "mesh3d": [
           {
            "colorbar": {
             "outlinewidth": 0,
             "ticks": ""
            },
            "type": "mesh3d"
           }
          ],
          "parcoords": [
           {
            "line": {
             "colorbar": {
              "outlinewidth": 0,
              "ticks": ""
             }
            },
            "type": "parcoords"
           }
          ],
          "pie": [
           {
            "automargin": true,
            "type": "pie"
           }
          ],
          "scatter": [
           {
            "marker": {
             "colorbar": {
              "outlinewidth": 0,
              "ticks": ""
             }
            },
            "type": "scatter"
           }
          ],
          "scatter3d": [
           {
            "line": {
             "colorbar": {
              "outlinewidth": 0,
              "ticks": ""
             }
            },
            "marker": {
             "colorbar": {
              "outlinewidth": 0,
              "ticks": ""
             }
            },
            "type": "scatter3d"
           }
          ],
          "scattercarpet": [
           {
            "marker": {
             "colorbar": {
              "outlinewidth": 0,
              "ticks": ""
             }
            },
            "type": "scattercarpet"
           }
          ],
          "scattergeo": [
           {
            "marker": {
             "colorbar": {
              "outlinewidth": 0,
              "ticks": ""
             }
            },
            "type": "scattergeo"
           }
          ],
          "scattergl": [
           {
            "marker": {
             "colorbar": {
              "outlinewidth": 0,
              "ticks": ""
             }
            },
            "type": "scattergl"
           }
          ],
          "scattermapbox": [
           {
            "marker": {
             "colorbar": {
              "outlinewidth": 0,
              "ticks": ""
             }
            },
            "type": "scattermapbox"
           }
          ],
          "scatterpolar": [
           {
            "marker": {
             "colorbar": {
              "outlinewidth": 0,
              "ticks": ""
             }
            },
            "type": "scatterpolar"
           }
          ],
          "scatterpolargl": [
           {
            "marker": {
             "colorbar": {
              "outlinewidth": 0,
              "ticks": ""
             }
            },
            "type": "scatterpolargl"
           }
          ],
          "scatterternary": [
           {
            "marker": {
             "colorbar": {
              "outlinewidth": 0,
              "ticks": ""
             }
            },
            "type": "scatterternary"
           }
          ],
          "surface": [
           {
            "colorbar": {
             "outlinewidth": 0,
             "ticks": ""
            },
            "colorscale": [
             [
              0,
              "#0d0887"
             ],
             [
              0.1111111111111111,
              "#46039f"
             ],
             [
              0.2222222222222222,
              "#7201a8"
             ],
             [
              0.3333333333333333,
              "#9c179e"
             ],
             [
              0.4444444444444444,
              "#bd3786"
             ],
             [
              0.5555555555555556,
              "#d8576b"
             ],
             [
              0.6666666666666666,
              "#ed7953"
             ],
             [
              0.7777777777777778,
              "#fb9f3a"
             ],
             [
              0.8888888888888888,
              "#fdca26"
             ],
             [
              1,
              "#f0f921"
             ]
            ],
            "type": "surface"
           }
          ],
          "table": [
           {
            "cells": {
             "fill": {
              "color": "#EBF0F8"
             },
             "line": {
              "color": "white"
             }
            },
            "header": {
             "fill": {
              "color": "#C8D4E3"
             },
             "line": {
              "color": "white"
             }
            },
            "type": "table"
           }
          ]
         },
         "layout": {
          "annotationdefaults": {
           "arrowcolor": "#2a3f5f",
           "arrowhead": 0,
           "arrowwidth": 1
          },
          "coloraxis": {
           "colorbar": {
            "outlinewidth": 0,
            "ticks": ""
           }
          },
          "colorscale": {
           "diverging": [
            [
             0,
             "#8e0152"
            ],
            [
             0.1,
             "#c51b7d"
            ],
            [
             0.2,
             "#de77ae"
            ],
            [
             0.3,
             "#f1b6da"
            ],
            [
             0.4,
             "#fde0ef"
            ],
            [
             0.5,
             "#f7f7f7"
            ],
            [
             0.6,
             "#e6f5d0"
            ],
            [
             0.7,
             "#b8e186"
            ],
            [
             0.8,
             "#7fbc41"
            ],
            [
             0.9,
             "#4d9221"
            ],
            [
             1,
             "#276419"
            ]
           ],
           "sequential": [
            [
             0,
             "#0d0887"
            ],
            [
             0.1111111111111111,
             "#46039f"
            ],
            [
             0.2222222222222222,
             "#7201a8"
            ],
            [
             0.3333333333333333,
             "#9c179e"
            ],
            [
             0.4444444444444444,
             "#bd3786"
            ],
            [
             0.5555555555555556,
             "#d8576b"
            ],
            [
             0.6666666666666666,
             "#ed7953"
            ],
            [
             0.7777777777777778,
             "#fb9f3a"
            ],
            [
             0.8888888888888888,
             "#fdca26"
            ],
            [
             1,
             "#f0f921"
            ]
           ],
           "sequentialminus": [
            [
             0,
             "#0d0887"
            ],
            [
             0.1111111111111111,
             "#46039f"
            ],
            [
             0.2222222222222222,
             "#7201a8"
            ],
            [
             0.3333333333333333,
             "#9c179e"
            ],
            [
             0.4444444444444444,
             "#bd3786"
            ],
            [
             0.5555555555555556,
             "#d8576b"
            ],
            [
             0.6666666666666666,
             "#ed7953"
            ],
            [
             0.7777777777777778,
             "#fb9f3a"
            ],
            [
             0.8888888888888888,
             "#fdca26"
            ],
            [
             1,
             "#f0f921"
            ]
           ]
          },
          "colorway": [
           "#636efa",
           "#EF553B",
           "#00cc96",
           "#ab63fa",
           "#FFA15A",
           "#19d3f3",
           "#FF6692",
           "#B6E880",
           "#FF97FF",
           "#FECB52"
          ],
          "font": {
           "color": "#2a3f5f"
          },
          "geo": {
           "bgcolor": "white",
           "lakecolor": "white",
           "landcolor": "#E5ECF6",
           "showlakes": true,
           "showland": true,
           "subunitcolor": "white"
          },
          "hoverlabel": {
           "align": "left"
          },
          "hovermode": "closest",
          "mapbox": {
           "style": "light"
          },
          "paper_bgcolor": "white",
          "plot_bgcolor": "#E5ECF6",
          "polar": {
           "angularaxis": {
            "gridcolor": "white",
            "linecolor": "white",
            "ticks": ""
           },
           "bgcolor": "#E5ECF6",
           "radialaxis": {
            "gridcolor": "white",
            "linecolor": "white",
            "ticks": ""
           }
          },
          "scene": {
           "xaxis": {
            "backgroundcolor": "#E5ECF6",
            "gridcolor": "white",
            "gridwidth": 2,
            "linecolor": "white",
            "showbackground": true,
            "ticks": "",
            "zerolinecolor": "white"
           },
           "yaxis": {
            "backgroundcolor": "#E5ECF6",
            "gridcolor": "white",
            "gridwidth": 2,
            "linecolor": "white",
            "showbackground": true,
            "ticks": "",
            "zerolinecolor": "white"
           },
           "zaxis": {
            "backgroundcolor": "#E5ECF6",
            "gridcolor": "white",
            "gridwidth": 2,
            "linecolor": "white",
            "showbackground": true,
            "ticks": "",
            "zerolinecolor": "white"
           }
          },
          "shapedefaults": {
           "line": {
            "color": "#2a3f5f"
           }
          },
          "ternary": {
           "aaxis": {
            "gridcolor": "white",
            "linecolor": "white",
            "ticks": ""
           },
           "baxis": {
            "gridcolor": "white",
            "linecolor": "white",
            "ticks": ""
           },
           "bgcolor": "#E5ECF6",
           "caxis": {
            "gridcolor": "white",
            "linecolor": "white",
            "ticks": ""
           }
          },
          "title": {
           "x": 0.05
          },
          "xaxis": {
           "automargin": true,
           "gridcolor": "white",
           "linecolor": "white",
           "ticks": "",
           "title": {
            "standoff": 15
           },
           "zerolinecolor": "white",
           "zerolinewidth": 2
          },
          "yaxis": {
           "automargin": true,
           "gridcolor": "white",
           "linecolor": "white",
           "ticks": "",
           "title": {
            "standoff": 15
           },
           "zerolinecolor": "white",
           "zerolinewidth": 2
          }
         }
        }
       }
      },
      "text/html": [
       "<div>\n",
       "        \n",
       "        \n",
       "            <div id=\"d9832f6a-2c43-4bc9-af36-0baebbdc6d36\" class=\"plotly-graph-div\" style=\"height:525px; width:100%;\"></div>\n",
       "            <script type=\"text/javascript\">\n",
       "                require([\"plotly\"], function(Plotly) {\n",
       "                    window.PLOTLYENV=window.PLOTLYENV || {};\n",
       "                    \n",
       "                if (document.getElementById(\"d9832f6a-2c43-4bc9-af36-0baebbdc6d36\")) {\n",
       "                    Plotly.newPlot(\n",
       "                        'd9832f6a-2c43-4bc9-af36-0baebbdc6d36',\n",
       "                        [{\"name\": \"known issuer\", \"type\": \"bar\", \"x\": [\"USD\"], \"y\": [12910468.868459746]}, {\"name\": \"unknown issuer\", \"type\": \"bar\", \"x\": [\"USD\"], \"y\": [5232477.311935]}],\n",
       "                        {\"barmode\": \"stack\", \"template\": {\"data\": {\"bar\": [{\"error_x\": {\"color\": \"#2a3f5f\"}, \"error_y\": {\"color\": \"#2a3f5f\"}, \"marker\": {\"line\": {\"color\": \"#E5ECF6\", \"width\": 0.5}}, \"type\": \"bar\"}], \"barpolar\": [{\"marker\": {\"line\": {\"color\": \"#E5ECF6\", \"width\": 0.5}}, \"type\": \"barpolar\"}], \"carpet\": [{\"aaxis\": {\"endlinecolor\": \"#2a3f5f\", \"gridcolor\": \"white\", \"linecolor\": \"white\", \"minorgridcolor\": \"white\", \"startlinecolor\": \"#2a3f5f\"}, \"baxis\": {\"endlinecolor\": \"#2a3f5f\", \"gridcolor\": \"white\", \"linecolor\": \"white\", \"minorgridcolor\": \"white\", \"startlinecolor\": \"#2a3f5f\"}, \"type\": \"carpet\"}], \"choropleth\": [{\"colorbar\": {\"outlinewidth\": 0, \"ticks\": \"\"}, \"type\": \"choropleth\"}], \"contour\": [{\"colorbar\": {\"outlinewidth\": 0, \"ticks\": \"\"}, \"colorscale\": [[0.0, \"#0d0887\"], [0.1111111111111111, \"#46039f\"], [0.2222222222222222, \"#7201a8\"], [0.3333333333333333, \"#9c179e\"], [0.4444444444444444, \"#bd3786\"], [0.5555555555555556, \"#d8576b\"], [0.6666666666666666, \"#ed7953\"], [0.7777777777777778, \"#fb9f3a\"], [0.8888888888888888, \"#fdca26\"], [1.0, \"#f0f921\"]], \"type\": \"contour\"}], \"contourcarpet\": [{\"colorbar\": {\"outlinewidth\": 0, \"ticks\": \"\"}, \"type\": \"contourcarpet\"}], \"heatmap\": [{\"colorbar\": {\"outlinewidth\": 0, \"ticks\": \"\"}, \"colorscale\": [[0.0, \"#0d0887\"], [0.1111111111111111, \"#46039f\"], [0.2222222222222222, \"#7201a8\"], [0.3333333333333333, \"#9c179e\"], [0.4444444444444444, \"#bd3786\"], [0.5555555555555556, \"#d8576b\"], [0.6666666666666666, \"#ed7953\"], [0.7777777777777778, \"#fb9f3a\"], [0.8888888888888888, \"#fdca26\"], [1.0, \"#f0f921\"]], \"type\": \"heatmap\"}], \"heatmapgl\": [{\"colorbar\": {\"outlinewidth\": 0, \"ticks\": \"\"}, \"colorscale\": [[0.0, \"#0d0887\"], [0.1111111111111111, \"#46039f\"], [0.2222222222222222, \"#7201a8\"], [0.3333333333333333, \"#9c179e\"], [0.4444444444444444, \"#bd3786\"], [0.5555555555555556, \"#d8576b\"], [0.6666666666666666, \"#ed7953\"], [0.7777777777777778, \"#fb9f3a\"], [0.8888888888888888, \"#fdca26\"], [1.0, \"#f0f921\"]], \"type\": \"heatmapgl\"}], \"histogram\": [{\"marker\": {\"colorbar\": {\"outlinewidth\": 0, \"ticks\": \"\"}}, \"type\": \"histogram\"}], \"histogram2d\": [{\"colorbar\": {\"outlinewidth\": 0, \"ticks\": \"\"}, \"colorscale\": [[0.0, \"#0d0887\"], [0.1111111111111111, \"#46039f\"], [0.2222222222222222, \"#7201a8\"], [0.3333333333333333, \"#9c179e\"], [0.4444444444444444, \"#bd3786\"], [0.5555555555555556, \"#d8576b\"], [0.6666666666666666, \"#ed7953\"], [0.7777777777777778, \"#fb9f3a\"], [0.8888888888888888, \"#fdca26\"], [1.0, \"#f0f921\"]], \"type\": \"histogram2d\"}], \"histogram2dcontour\": [{\"colorbar\": {\"outlinewidth\": 0, \"ticks\": \"\"}, \"colorscale\": [[0.0, \"#0d0887\"], [0.1111111111111111, \"#46039f\"], [0.2222222222222222, \"#7201a8\"], [0.3333333333333333, \"#9c179e\"], [0.4444444444444444, \"#bd3786\"], [0.5555555555555556, \"#d8576b\"], [0.6666666666666666, \"#ed7953\"], [0.7777777777777778, \"#fb9f3a\"], [0.8888888888888888, \"#fdca26\"], [1.0, \"#f0f921\"]], \"type\": \"histogram2dcontour\"}], \"mesh3d\": [{\"colorbar\": {\"outlinewidth\": 0, \"ticks\": \"\"}, \"type\": \"mesh3d\"}], \"parcoords\": [{\"line\": {\"colorbar\": {\"outlinewidth\": 0, \"ticks\": \"\"}}, \"type\": \"parcoords\"}], \"pie\": [{\"automargin\": true, \"type\": \"pie\"}], \"scatter\": [{\"marker\": {\"colorbar\": {\"outlinewidth\": 0, \"ticks\": \"\"}}, \"type\": \"scatter\"}], \"scatter3d\": [{\"line\": {\"colorbar\": {\"outlinewidth\": 0, \"ticks\": \"\"}}, \"marker\": {\"colorbar\": {\"outlinewidth\": 0, \"ticks\": \"\"}}, \"type\": \"scatter3d\"}], \"scattercarpet\": [{\"marker\": {\"colorbar\": {\"outlinewidth\": 0, \"ticks\": \"\"}}, \"type\": \"scattercarpet\"}], \"scattergeo\": [{\"marker\": {\"colorbar\": {\"outlinewidth\": 0, \"ticks\": \"\"}}, \"type\": \"scattergeo\"}], \"scattergl\": [{\"marker\": {\"colorbar\": {\"outlinewidth\": 0, \"ticks\": \"\"}}, \"type\": \"scattergl\"}], \"scattermapbox\": [{\"marker\": {\"colorbar\": {\"outlinewidth\": 0, \"ticks\": \"\"}}, \"type\": \"scattermapbox\"}], \"scatterpolar\": [{\"marker\": {\"colorbar\": {\"outlinewidth\": 0, \"ticks\": \"\"}}, \"type\": \"scatterpolar\"}], \"scatterpolargl\": [{\"marker\": {\"colorbar\": {\"outlinewidth\": 0, \"ticks\": \"\"}}, \"type\": \"scatterpolargl\"}], \"scatterternary\": [{\"marker\": {\"colorbar\": {\"outlinewidth\": 0, \"ticks\": \"\"}}, \"type\": \"scatterternary\"}], \"surface\": [{\"colorbar\": {\"outlinewidth\": 0, \"ticks\": \"\"}, \"colorscale\": [[0.0, \"#0d0887\"], [0.1111111111111111, \"#46039f\"], [0.2222222222222222, \"#7201a8\"], [0.3333333333333333, \"#9c179e\"], [0.4444444444444444, \"#bd3786\"], [0.5555555555555556, \"#d8576b\"], [0.6666666666666666, \"#ed7953\"], [0.7777777777777778, \"#fb9f3a\"], [0.8888888888888888, \"#fdca26\"], [1.0, \"#f0f921\"]], \"type\": \"surface\"}], \"table\": [{\"cells\": {\"fill\": {\"color\": \"#EBF0F8\"}, \"line\": {\"color\": \"white\"}}, \"header\": {\"fill\": {\"color\": \"#C8D4E3\"}, \"line\": {\"color\": \"white\"}}, \"type\": \"table\"}]}, \"layout\": {\"annotationdefaults\": {\"arrowcolor\": \"#2a3f5f\", \"arrowhead\": 0, \"arrowwidth\": 1}, \"coloraxis\": {\"colorbar\": {\"outlinewidth\": 0, \"ticks\": \"\"}}, \"colorscale\": {\"diverging\": [[0, \"#8e0152\"], [0.1, \"#c51b7d\"], [0.2, \"#de77ae\"], [0.3, \"#f1b6da\"], [0.4, \"#fde0ef\"], [0.5, \"#f7f7f7\"], [0.6, \"#e6f5d0\"], [0.7, \"#b8e186\"], [0.8, \"#7fbc41\"], [0.9, \"#4d9221\"], [1, \"#276419\"]], \"sequential\": [[0.0, \"#0d0887\"], [0.1111111111111111, \"#46039f\"], [0.2222222222222222, \"#7201a8\"], [0.3333333333333333, \"#9c179e\"], [0.4444444444444444, \"#bd3786\"], [0.5555555555555556, \"#d8576b\"], [0.6666666666666666, \"#ed7953\"], [0.7777777777777778, \"#fb9f3a\"], [0.8888888888888888, \"#fdca26\"], [1.0, \"#f0f921\"]], \"sequentialminus\": [[0.0, \"#0d0887\"], [0.1111111111111111, \"#46039f\"], [0.2222222222222222, \"#7201a8\"], [0.3333333333333333, \"#9c179e\"], [0.4444444444444444, \"#bd3786\"], [0.5555555555555556, \"#d8576b\"], [0.6666666666666666, \"#ed7953\"], [0.7777777777777778, \"#fb9f3a\"], [0.8888888888888888, \"#fdca26\"], [1.0, \"#f0f921\"]]}, \"colorway\": [\"#636efa\", \"#EF553B\", \"#00cc96\", \"#ab63fa\", \"#FFA15A\", \"#19d3f3\", \"#FF6692\", \"#B6E880\", \"#FF97FF\", \"#FECB52\"], \"font\": {\"color\": \"#2a3f5f\"}, \"geo\": {\"bgcolor\": \"white\", \"lakecolor\": \"white\", \"landcolor\": \"#E5ECF6\", \"showlakes\": true, \"showland\": true, \"subunitcolor\": \"white\"}, \"hoverlabel\": {\"align\": \"left\"}, \"hovermode\": \"closest\", \"mapbox\": {\"style\": \"light\"}, \"paper_bgcolor\": \"white\", \"plot_bgcolor\": \"#E5ECF6\", \"polar\": {\"angularaxis\": {\"gridcolor\": \"white\", \"linecolor\": \"white\", \"ticks\": \"\"}, \"bgcolor\": \"#E5ECF6\", \"radialaxis\": {\"gridcolor\": \"white\", \"linecolor\": \"white\", \"ticks\": \"\"}}, \"scene\": {\"xaxis\": {\"backgroundcolor\": \"#E5ECF6\", \"gridcolor\": \"white\", \"gridwidth\": 2, \"linecolor\": \"white\", \"showbackground\": true, \"ticks\": \"\", \"zerolinecolor\": \"white\"}, \"yaxis\": {\"backgroundcolor\": \"#E5ECF6\", \"gridcolor\": \"white\", \"gridwidth\": 2, \"linecolor\": \"white\", \"showbackground\": true, \"ticks\": \"\", \"zerolinecolor\": \"white\"}, \"zaxis\": {\"backgroundcolor\": \"#E5ECF6\", \"gridcolor\": \"white\", \"gridwidth\": 2, \"linecolor\": \"white\", \"showbackground\": true, \"ticks\": \"\", \"zerolinecolor\": \"white\"}}, \"shapedefaults\": {\"line\": {\"color\": \"#2a3f5f\"}}, \"ternary\": {\"aaxis\": {\"gridcolor\": \"white\", \"linecolor\": \"white\", \"ticks\": \"\"}, \"baxis\": {\"gridcolor\": \"white\", \"linecolor\": \"white\", \"ticks\": \"\"}, \"bgcolor\": \"#E5ECF6\", \"caxis\": {\"gridcolor\": \"white\", \"linecolor\": \"white\", \"ticks\": \"\"}}, \"title\": {\"x\": 0.05}, \"xaxis\": {\"automargin\": true, \"gridcolor\": \"white\", \"linecolor\": \"white\", \"ticks\": \"\", \"title\": {\"standoff\": 15}, \"zerolinecolor\": \"white\", \"zerolinewidth\": 2}, \"yaxis\": {\"automargin\": true, \"gridcolor\": \"white\", \"linecolor\": \"white\", \"ticks\": \"\", \"title\": {\"standoff\": 15}, \"zerolinecolor\": \"white\", \"zerolinewidth\": 2}}}},\n",
       "                        {\"responsive\": true}\n",
       "                    ).then(function(){\n",
       "                            \n",
       "var gd = document.getElementById('d9832f6a-2c43-4bc9-af36-0baebbdc6d36');\n",
       "var x = new MutationObserver(function (mutations, observer) {{\n",
       "        var display = window.getComputedStyle(gd).display;\n",
       "        if (!display || display === 'none') {{\n",
       "            console.log([gd, 'removed!']);\n",
       "            Plotly.purge(gd);\n",
       "            observer.disconnect();\n",
       "        }}\n",
       "}});\n",
       "\n",
       "// Listen for the removal of the full notebook cells\n",
       "var notebookContainer = gd.closest('#notebook-container');\n",
       "if (notebookContainer) {{\n",
       "    x.observe(notebookContainer, {childList: true});\n",
       "}}\n",
       "\n",
       "// Listen for the clearing of the current output cell\n",
       "var outputEl = gd.closest('.output');\n",
       "if (outputEl) {{\n",
       "    x.observe(outputEl, {childList: true});\n",
       "}}\n",
       "\n",
       "                        })\n",
       "                };\n",
       "                });\n",
       "            </script>\n",
       "        </div>"
      ]
     },
     "metadata": {},
     "output_type": "display_data"
    }
   ],
   "source": [
    "crypto='USD'\n",
    "\n",
    "fig = go.Figure(data=[\n",
    "    go.Bar(name='known issuer', x=[crypto], y=[df.loc[(df['currency'] == crypto) & (df['issuer'].isin(known_accounts)), 'value'].sum()]),\n",
    "    go.Bar(name='unknown issuer', x=[crypto], y=[df.loc[(df['currency'] == crypto) & (~df['issuer'].isin(known_accounts)), 'value'].sum()])\n",
    "])\n",
    "# Change the bar mode\n",
    "fig.update_layout(barmode='stack')\n",
    "fig.show()"
   ]
  },
  {
   "cell_type": "code",
   "execution_count": 73,
   "metadata": {},
   "outputs": [
    {
     "data": {
      "application/vnd.plotly.v1+json": {
       "config": {
        "plotlyServerURL": "https://plot.ly"
       },
       "data": [
        {
         "name": "known issuer",
         "type": "bar",
         "x": [
          "USD"
         ],
         "y": [
          12910468.868459746
         ]
        },
        {
         "name": "unknown issuer",
         "type": "bar",
         "x": [
          "USD"
         ],
         "y": [
          5232477.311935
         ]
        }
       ],
       "layout": {
        "barmode": "stack",
        "template": {
         "data": {
          "bar": [
           {
            "error_x": {
             "color": "#2a3f5f"
            },
            "error_y": {
             "color": "#2a3f5f"
            },
            "marker": {
             "line": {
              "color": "#E5ECF6",
              "width": 0.5
             }
            },
            "type": "bar"
           }
          ],
          "barpolar": [
           {
            "marker": {
             "line": {
              "color": "#E5ECF6",
              "width": 0.5
             }
            },
            "type": "barpolar"
           }
          ],
          "carpet": [
           {
            "aaxis": {
             "endlinecolor": "#2a3f5f",
             "gridcolor": "white",
             "linecolor": "white",
             "minorgridcolor": "white",
             "startlinecolor": "#2a3f5f"
            },
            "baxis": {
             "endlinecolor": "#2a3f5f",
             "gridcolor": "white",
             "linecolor": "white",
             "minorgridcolor": "white",
             "startlinecolor": "#2a3f5f"
            },
            "type": "carpet"
           }
          ],
          "choropleth": [
           {
            "colorbar": {
             "outlinewidth": 0,
             "ticks": ""
            },
            "type": "choropleth"
           }
          ],
          "contour": [
           {
            "colorbar": {
             "outlinewidth": 0,
             "ticks": ""
            },
            "colorscale": [
             [
              0,
              "#0d0887"
             ],
             [
              0.1111111111111111,
              "#46039f"
             ],
             [
              0.2222222222222222,
              "#7201a8"
             ],
             [
              0.3333333333333333,
              "#9c179e"
             ],
             [
              0.4444444444444444,
              "#bd3786"
             ],
             [
              0.5555555555555556,
              "#d8576b"
             ],
             [
              0.6666666666666666,
              "#ed7953"
             ],
             [
              0.7777777777777778,
              "#fb9f3a"
             ],
             [
              0.8888888888888888,
              "#fdca26"
             ],
             [
              1,
              "#f0f921"
             ]
            ],
            "type": "contour"
           }
          ],
          "contourcarpet": [
           {
            "colorbar": {
             "outlinewidth": 0,
             "ticks": ""
            },
            "type": "contourcarpet"
           }
          ],
          "heatmap": [
           {
            "colorbar": {
             "outlinewidth": 0,
             "ticks": ""
            },
            "colorscale": [
             [
              0,
              "#0d0887"
             ],
             [
              0.1111111111111111,
              "#46039f"
             ],
             [
              0.2222222222222222,
              "#7201a8"
             ],
             [
              0.3333333333333333,
              "#9c179e"
             ],
             [
              0.4444444444444444,
              "#bd3786"
             ],
             [
              0.5555555555555556,
              "#d8576b"
             ],
             [
              0.6666666666666666,
              "#ed7953"
             ],
             [
              0.7777777777777778,
              "#fb9f3a"
             ],
             [
              0.8888888888888888,
              "#fdca26"
             ],
             [
              1,
              "#f0f921"
             ]
            ],
            "type": "heatmap"
           }
          ],
          "heatmapgl": [
           {
            "colorbar": {
             "outlinewidth": 0,
             "ticks": ""
            },
            "colorscale": [
             [
              0,
              "#0d0887"
             ],
             [
              0.1111111111111111,
              "#46039f"
             ],
             [
              0.2222222222222222,
              "#7201a8"
             ],
             [
              0.3333333333333333,
              "#9c179e"
             ],
             [
              0.4444444444444444,
              "#bd3786"
             ],
             [
              0.5555555555555556,
              "#d8576b"
             ],
             [
              0.6666666666666666,
              "#ed7953"
             ],
             [
              0.7777777777777778,
              "#fb9f3a"
             ],
             [
              0.8888888888888888,
              "#fdca26"
             ],
             [
              1,
              "#f0f921"
             ]
            ],
            "type": "heatmapgl"
           }
          ],
          "histogram": [
           {
            "marker": {
             "colorbar": {
              "outlinewidth": 0,
              "ticks": ""
             }
            },
            "type": "histogram"
           }
          ],
          "histogram2d": [
           {
            "colorbar": {
             "outlinewidth": 0,
             "ticks": ""
            },
            "colorscale": [
             [
              0,
              "#0d0887"
             ],
             [
              0.1111111111111111,
              "#46039f"
             ],
             [
              0.2222222222222222,
              "#7201a8"
             ],
             [
              0.3333333333333333,
              "#9c179e"
             ],
             [
              0.4444444444444444,
              "#bd3786"
             ],
             [
              0.5555555555555556,
              "#d8576b"
             ],
             [
              0.6666666666666666,
              "#ed7953"
             ],
             [
              0.7777777777777778,
              "#fb9f3a"
             ],
             [
              0.8888888888888888,
              "#fdca26"
             ],
             [
              1,
              "#f0f921"
             ]
            ],
            "type": "histogram2d"
           }
          ],
          "histogram2dcontour": [
           {
            "colorbar": {
             "outlinewidth": 0,
             "ticks": ""
            },
            "colorscale": [
             [
              0,
              "#0d0887"
             ],
             [
              0.1111111111111111,
              "#46039f"
             ],
             [
              0.2222222222222222,
              "#7201a8"
             ],
             [
              0.3333333333333333,
              "#9c179e"
             ],
             [
              0.4444444444444444,
              "#bd3786"
             ],
             [
              0.5555555555555556,
              "#d8576b"
             ],
             [
              0.6666666666666666,
              "#ed7953"
             ],
             [
              0.7777777777777778,
              "#fb9f3a"
             ],
             [
              0.8888888888888888,
              "#fdca26"
             ],
             [
              1,
              "#f0f921"
             ]
            ],
            "type": "histogram2dcontour"
           }
          ],
          "mesh3d": [
           {
            "colorbar": {
             "outlinewidth": 0,
             "ticks": ""
            },
            "type": "mesh3d"
           }
          ],
          "parcoords": [
           {
            "line": {
             "colorbar": {
              "outlinewidth": 0,
              "ticks": ""
             }
            },
            "type": "parcoords"
           }
          ],
          "pie": [
           {
            "automargin": true,
            "type": "pie"
           }
          ],
          "scatter": [
           {
            "marker": {
             "colorbar": {
              "outlinewidth": 0,
              "ticks": ""
             }
            },
            "type": "scatter"
           }
          ],
          "scatter3d": [
           {
            "line": {
             "colorbar": {
              "outlinewidth": 0,
              "ticks": ""
             }
            },
            "marker": {
             "colorbar": {
              "outlinewidth": 0,
              "ticks": ""
             }
            },
            "type": "scatter3d"
           }
          ],
          "scattercarpet": [
           {
            "marker": {
             "colorbar": {
              "outlinewidth": 0,
              "ticks": ""
             }
            },
            "type": "scattercarpet"
           }
          ],
          "scattergeo": [
           {
            "marker": {
             "colorbar": {
              "outlinewidth": 0,
              "ticks": ""
             }
            },
            "type": "scattergeo"
           }
          ],
          "scattergl": [
           {
            "marker": {
             "colorbar": {
              "outlinewidth": 0,
              "ticks": ""
             }
            },
            "type": "scattergl"
           }
          ],
          "scattermapbox": [
           {
            "marker": {
             "colorbar": {
              "outlinewidth": 0,
              "ticks": ""
             }
            },
            "type": "scattermapbox"
           }
          ],
          "scatterpolar": [
           {
            "marker": {
             "colorbar": {
              "outlinewidth": 0,
              "ticks": ""
             }
            },
            "type": "scatterpolar"
           }
          ],
          "scatterpolargl": [
           {
            "marker": {
             "colorbar": {
              "outlinewidth": 0,
              "ticks": ""
             }
            },
            "type": "scatterpolargl"
           }
          ],
          "scatterternary": [
           {
            "marker": {
             "colorbar": {
              "outlinewidth": 0,
              "ticks": ""
             }
            },
            "type": "scatterternary"
           }
          ],
          "surface": [
           {
            "colorbar": {
             "outlinewidth": 0,
             "ticks": ""
            },
            "colorscale": [
             [
              0,
              "#0d0887"
             ],
             [
              0.1111111111111111,
              "#46039f"
             ],
             [
              0.2222222222222222,
              "#7201a8"
             ],
             [
              0.3333333333333333,
              "#9c179e"
             ],
             [
              0.4444444444444444,
              "#bd3786"
             ],
             [
              0.5555555555555556,
              "#d8576b"
             ],
             [
              0.6666666666666666,
              "#ed7953"
             ],
             [
              0.7777777777777778,
              "#fb9f3a"
             ],
             [
              0.8888888888888888,
              "#fdca26"
             ],
             [
              1,
              "#f0f921"
             ]
            ],
            "type": "surface"
           }
          ],
          "table": [
           {
            "cells": {
             "fill": {
              "color": "#EBF0F8"
             },
             "line": {
              "color": "white"
             }
            },
            "header": {
             "fill": {
              "color": "#C8D4E3"
             },
             "line": {
              "color": "white"
             }
            },
            "type": "table"
           }
          ]
         },
         "layout": {
          "annotationdefaults": {
           "arrowcolor": "#2a3f5f",
           "arrowhead": 0,
           "arrowwidth": 1
          },
          "coloraxis": {
           "colorbar": {
            "outlinewidth": 0,
            "ticks": ""
           }
          },
          "colorscale": {
           "diverging": [
            [
             0,
             "#8e0152"
            ],
            [
             0.1,
             "#c51b7d"
            ],
            [
             0.2,
             "#de77ae"
            ],
            [
             0.3,
             "#f1b6da"
            ],
            [
             0.4,
             "#fde0ef"
            ],
            [
             0.5,
             "#f7f7f7"
            ],
            [
             0.6,
             "#e6f5d0"
            ],
            [
             0.7,
             "#b8e186"
            ],
            [
             0.8,
             "#7fbc41"
            ],
            [
             0.9,
             "#4d9221"
            ],
            [
             1,
             "#276419"
            ]
           ],
           "sequential": [
            [
             0,
             "#0d0887"
            ],
            [
             0.1111111111111111,
             "#46039f"
            ],
            [
             0.2222222222222222,
             "#7201a8"
            ],
            [
             0.3333333333333333,
             "#9c179e"
            ],
            [
             0.4444444444444444,
             "#bd3786"
            ],
            [
             0.5555555555555556,
             "#d8576b"
            ],
            [
             0.6666666666666666,
             "#ed7953"
            ],
            [
             0.7777777777777778,
             "#fb9f3a"
            ],
            [
             0.8888888888888888,
             "#fdca26"
            ],
            [
             1,
             "#f0f921"
            ]
           ],
           "sequentialminus": [
            [
             0,
             "#0d0887"
            ],
            [
             0.1111111111111111,
             "#46039f"
            ],
            [
             0.2222222222222222,
             "#7201a8"
            ],
            [
             0.3333333333333333,
             "#9c179e"
            ],
            [
             0.4444444444444444,
             "#bd3786"
            ],
            [
             0.5555555555555556,
             "#d8576b"
            ],
            [
             0.6666666666666666,
             "#ed7953"
            ],
            [
             0.7777777777777778,
             "#fb9f3a"
            ],
            [
             0.8888888888888888,
             "#fdca26"
            ],
            [
             1,
             "#f0f921"
            ]
           ]
          },
          "colorway": [
           "#636efa",
           "#EF553B",
           "#00cc96",
           "#ab63fa",
           "#FFA15A",
           "#19d3f3",
           "#FF6692",
           "#B6E880",
           "#FF97FF",
           "#FECB52"
          ],
          "font": {
           "color": "#2a3f5f"
          },
          "geo": {
           "bgcolor": "white",
           "lakecolor": "white",
           "landcolor": "#E5ECF6",
           "showlakes": true,
           "showland": true,
           "subunitcolor": "white"
          },
          "hoverlabel": {
           "align": "left"
          },
          "hovermode": "closest",
          "mapbox": {
           "style": "light"
          },
          "paper_bgcolor": "white",
          "plot_bgcolor": "#E5ECF6",
          "polar": {
           "angularaxis": {
            "gridcolor": "white",
            "linecolor": "white",
            "ticks": ""
           },
           "bgcolor": "#E5ECF6",
           "radialaxis": {
            "gridcolor": "white",
            "linecolor": "white",
            "ticks": ""
           }
          },
          "scene": {
           "xaxis": {
            "backgroundcolor": "#E5ECF6",
            "gridcolor": "white",
            "gridwidth": 2,
            "linecolor": "white",
            "showbackground": true,
            "ticks": "",
            "zerolinecolor": "white"
           },
           "yaxis": {
            "backgroundcolor": "#E5ECF6",
            "gridcolor": "white",
            "gridwidth": 2,
            "linecolor": "white",
            "showbackground": true,
            "ticks": "",
            "zerolinecolor": "white"
           },
           "zaxis": {
            "backgroundcolor": "#E5ECF6",
            "gridcolor": "white",
            "gridwidth": 2,
            "linecolor": "white",
            "showbackground": true,
            "ticks": "",
            "zerolinecolor": "white"
           }
          },
          "shapedefaults": {
           "line": {
            "color": "#2a3f5f"
           }
          },
          "ternary": {
           "aaxis": {
            "gridcolor": "white",
            "linecolor": "white",
            "ticks": ""
           },
           "baxis": {
            "gridcolor": "white",
            "linecolor": "white",
            "ticks": ""
           },
           "bgcolor": "#E5ECF6",
           "caxis": {
            "gridcolor": "white",
            "linecolor": "white",
            "ticks": ""
           }
          },
          "title": {
           "x": 0.05
          },
          "xaxis": {
           "automargin": true,
           "gridcolor": "white",
           "linecolor": "white",
           "ticks": "",
           "title": {
            "standoff": 15
           },
           "zerolinecolor": "white",
           "zerolinewidth": 2
          },
          "yaxis": {
           "automargin": true,
           "gridcolor": "white",
           "linecolor": "white",
           "ticks": "",
           "title": {
            "standoff": 15
           },
           "zerolinecolor": "white",
           "zerolinewidth": 2
          }
         }
        }
       }
      },
      "text/html": [
       "<div>\n",
       "        \n",
       "        \n",
       "            <div id=\"9c1398a1-141e-4483-8f4c-65a09f66e14e\" class=\"plotly-graph-div\" style=\"height:525px; width:100%;\"></div>\n",
       "            <script type=\"text/javascript\">\n",
       "                require([\"plotly\"], function(Plotly) {\n",
       "                    window.PLOTLYENV=window.PLOTLYENV || {};\n",
       "                    \n",
       "                if (document.getElementById(\"9c1398a1-141e-4483-8f4c-65a09f66e14e\")) {\n",
       "                    Plotly.newPlot(\n",
       "                        '9c1398a1-141e-4483-8f4c-65a09f66e14e',\n",
       "                        [{\"name\": \"known issuer\", \"type\": \"bar\", \"x\": [\"USD\"], \"y\": [12910468.868459746]}, {\"name\": \"unknown issuer\", \"type\": \"bar\", \"x\": [\"USD\"], \"y\": [5232477.311935]}],\n",
       "                        {\"barmode\": \"stack\", \"template\": {\"data\": {\"bar\": [{\"error_x\": {\"color\": \"#2a3f5f\"}, \"error_y\": {\"color\": \"#2a3f5f\"}, \"marker\": {\"line\": {\"color\": \"#E5ECF6\", \"width\": 0.5}}, \"type\": \"bar\"}], \"barpolar\": [{\"marker\": {\"line\": {\"color\": \"#E5ECF6\", \"width\": 0.5}}, \"type\": \"barpolar\"}], \"carpet\": [{\"aaxis\": {\"endlinecolor\": \"#2a3f5f\", \"gridcolor\": \"white\", \"linecolor\": \"white\", \"minorgridcolor\": \"white\", \"startlinecolor\": \"#2a3f5f\"}, \"baxis\": {\"endlinecolor\": \"#2a3f5f\", \"gridcolor\": \"white\", \"linecolor\": \"white\", \"minorgridcolor\": \"white\", \"startlinecolor\": \"#2a3f5f\"}, \"type\": \"carpet\"}], \"choropleth\": [{\"colorbar\": {\"outlinewidth\": 0, \"ticks\": \"\"}, \"type\": \"choropleth\"}], \"contour\": [{\"colorbar\": {\"outlinewidth\": 0, \"ticks\": \"\"}, \"colorscale\": [[0.0, \"#0d0887\"], [0.1111111111111111, \"#46039f\"], [0.2222222222222222, \"#7201a8\"], [0.3333333333333333, \"#9c179e\"], [0.4444444444444444, \"#bd3786\"], [0.5555555555555556, \"#d8576b\"], [0.6666666666666666, \"#ed7953\"], [0.7777777777777778, \"#fb9f3a\"], [0.8888888888888888, \"#fdca26\"], [1.0, \"#f0f921\"]], \"type\": \"contour\"}], \"contourcarpet\": [{\"colorbar\": {\"outlinewidth\": 0, \"ticks\": \"\"}, \"type\": \"contourcarpet\"}], \"heatmap\": [{\"colorbar\": {\"outlinewidth\": 0, \"ticks\": \"\"}, \"colorscale\": [[0.0, \"#0d0887\"], [0.1111111111111111, \"#46039f\"], [0.2222222222222222, \"#7201a8\"], [0.3333333333333333, \"#9c179e\"], [0.4444444444444444, \"#bd3786\"], [0.5555555555555556, \"#d8576b\"], [0.6666666666666666, \"#ed7953\"], [0.7777777777777778, \"#fb9f3a\"], [0.8888888888888888, \"#fdca26\"], [1.0, \"#f0f921\"]], \"type\": \"heatmap\"}], \"heatmapgl\": [{\"colorbar\": {\"outlinewidth\": 0, \"ticks\": \"\"}, \"colorscale\": [[0.0, \"#0d0887\"], [0.1111111111111111, \"#46039f\"], [0.2222222222222222, \"#7201a8\"], [0.3333333333333333, \"#9c179e\"], [0.4444444444444444, \"#bd3786\"], [0.5555555555555556, \"#d8576b\"], [0.6666666666666666, \"#ed7953\"], [0.7777777777777778, \"#fb9f3a\"], [0.8888888888888888, \"#fdca26\"], [1.0, \"#f0f921\"]], \"type\": \"heatmapgl\"}], \"histogram\": [{\"marker\": {\"colorbar\": {\"outlinewidth\": 0, \"ticks\": \"\"}}, \"type\": \"histogram\"}], \"histogram2d\": [{\"colorbar\": {\"outlinewidth\": 0, \"ticks\": \"\"}, \"colorscale\": [[0.0, \"#0d0887\"], [0.1111111111111111, \"#46039f\"], [0.2222222222222222, \"#7201a8\"], [0.3333333333333333, \"#9c179e\"], [0.4444444444444444, \"#bd3786\"], [0.5555555555555556, \"#d8576b\"], [0.6666666666666666, \"#ed7953\"], [0.7777777777777778, \"#fb9f3a\"], [0.8888888888888888, \"#fdca26\"], [1.0, \"#f0f921\"]], \"type\": \"histogram2d\"}], \"histogram2dcontour\": [{\"colorbar\": {\"outlinewidth\": 0, \"ticks\": \"\"}, \"colorscale\": [[0.0, \"#0d0887\"], [0.1111111111111111, \"#46039f\"], [0.2222222222222222, \"#7201a8\"], [0.3333333333333333, \"#9c179e\"], [0.4444444444444444, \"#bd3786\"], [0.5555555555555556, \"#d8576b\"], [0.6666666666666666, \"#ed7953\"], [0.7777777777777778, \"#fb9f3a\"], [0.8888888888888888, \"#fdca26\"], [1.0, \"#f0f921\"]], \"type\": \"histogram2dcontour\"}], \"mesh3d\": [{\"colorbar\": {\"outlinewidth\": 0, \"ticks\": \"\"}, \"type\": \"mesh3d\"}], \"parcoords\": [{\"line\": {\"colorbar\": {\"outlinewidth\": 0, \"ticks\": \"\"}}, \"type\": \"parcoords\"}], \"pie\": [{\"automargin\": true, \"type\": \"pie\"}], \"scatter\": [{\"marker\": {\"colorbar\": {\"outlinewidth\": 0, \"ticks\": \"\"}}, \"type\": \"scatter\"}], \"scatter3d\": [{\"line\": {\"colorbar\": {\"outlinewidth\": 0, \"ticks\": \"\"}}, \"marker\": {\"colorbar\": {\"outlinewidth\": 0, \"ticks\": \"\"}}, \"type\": \"scatter3d\"}], \"scattercarpet\": [{\"marker\": {\"colorbar\": {\"outlinewidth\": 0, \"ticks\": \"\"}}, \"type\": \"scattercarpet\"}], \"scattergeo\": [{\"marker\": {\"colorbar\": {\"outlinewidth\": 0, \"ticks\": \"\"}}, \"type\": \"scattergeo\"}], \"scattergl\": [{\"marker\": {\"colorbar\": {\"outlinewidth\": 0, \"ticks\": \"\"}}, \"type\": \"scattergl\"}], \"scattermapbox\": [{\"marker\": {\"colorbar\": {\"outlinewidth\": 0, \"ticks\": \"\"}}, \"type\": \"scattermapbox\"}], \"scatterpolar\": [{\"marker\": {\"colorbar\": {\"outlinewidth\": 0, \"ticks\": \"\"}}, \"type\": \"scatterpolar\"}], \"scatterpolargl\": [{\"marker\": {\"colorbar\": {\"outlinewidth\": 0, \"ticks\": \"\"}}, \"type\": \"scatterpolargl\"}], \"scatterternary\": [{\"marker\": {\"colorbar\": {\"outlinewidth\": 0, \"ticks\": \"\"}}, \"type\": \"scatterternary\"}], \"surface\": [{\"colorbar\": {\"outlinewidth\": 0, \"ticks\": \"\"}, \"colorscale\": [[0.0, \"#0d0887\"], [0.1111111111111111, \"#46039f\"], [0.2222222222222222, \"#7201a8\"], [0.3333333333333333, \"#9c179e\"], [0.4444444444444444, \"#bd3786\"], [0.5555555555555556, \"#d8576b\"], [0.6666666666666666, \"#ed7953\"], [0.7777777777777778, \"#fb9f3a\"], [0.8888888888888888, \"#fdca26\"], [1.0, \"#f0f921\"]], \"type\": \"surface\"}], \"table\": [{\"cells\": {\"fill\": {\"color\": \"#EBF0F8\"}, \"line\": {\"color\": \"white\"}}, \"header\": {\"fill\": {\"color\": \"#C8D4E3\"}, \"line\": {\"color\": \"white\"}}, \"type\": \"table\"}]}, \"layout\": {\"annotationdefaults\": {\"arrowcolor\": \"#2a3f5f\", \"arrowhead\": 0, \"arrowwidth\": 1}, \"coloraxis\": {\"colorbar\": {\"outlinewidth\": 0, \"ticks\": \"\"}}, \"colorscale\": {\"diverging\": [[0, \"#8e0152\"], [0.1, \"#c51b7d\"], [0.2, \"#de77ae\"], [0.3, \"#f1b6da\"], [0.4, \"#fde0ef\"], [0.5, \"#f7f7f7\"], [0.6, \"#e6f5d0\"], [0.7, \"#b8e186\"], [0.8, \"#7fbc41\"], [0.9, \"#4d9221\"], [1, \"#276419\"]], \"sequential\": [[0.0, \"#0d0887\"], [0.1111111111111111, \"#46039f\"], [0.2222222222222222, \"#7201a8\"], [0.3333333333333333, \"#9c179e\"], [0.4444444444444444, \"#bd3786\"], [0.5555555555555556, \"#d8576b\"], [0.6666666666666666, \"#ed7953\"], [0.7777777777777778, \"#fb9f3a\"], [0.8888888888888888, \"#fdca26\"], [1.0, \"#f0f921\"]], \"sequentialminus\": [[0.0, \"#0d0887\"], [0.1111111111111111, \"#46039f\"], [0.2222222222222222, \"#7201a8\"], [0.3333333333333333, \"#9c179e\"], [0.4444444444444444, \"#bd3786\"], [0.5555555555555556, \"#d8576b\"], [0.6666666666666666, \"#ed7953\"], [0.7777777777777778, \"#fb9f3a\"], [0.8888888888888888, \"#fdca26\"], [1.0, \"#f0f921\"]]}, \"colorway\": [\"#636efa\", \"#EF553B\", \"#00cc96\", \"#ab63fa\", \"#FFA15A\", \"#19d3f3\", \"#FF6692\", \"#B6E880\", \"#FF97FF\", \"#FECB52\"], \"font\": {\"color\": \"#2a3f5f\"}, \"geo\": {\"bgcolor\": \"white\", \"lakecolor\": \"white\", \"landcolor\": \"#E5ECF6\", \"showlakes\": true, \"showland\": true, \"subunitcolor\": \"white\"}, \"hoverlabel\": {\"align\": \"left\"}, \"hovermode\": \"closest\", \"mapbox\": {\"style\": \"light\"}, \"paper_bgcolor\": \"white\", \"plot_bgcolor\": \"#E5ECF6\", \"polar\": {\"angularaxis\": {\"gridcolor\": \"white\", \"linecolor\": \"white\", \"ticks\": \"\"}, \"bgcolor\": \"#E5ECF6\", \"radialaxis\": {\"gridcolor\": \"white\", \"linecolor\": \"white\", \"ticks\": \"\"}}, \"scene\": {\"xaxis\": {\"backgroundcolor\": \"#E5ECF6\", \"gridcolor\": \"white\", \"gridwidth\": 2, \"linecolor\": \"white\", \"showbackground\": true, \"ticks\": \"\", \"zerolinecolor\": \"white\"}, \"yaxis\": {\"backgroundcolor\": \"#E5ECF6\", \"gridcolor\": \"white\", \"gridwidth\": 2, \"linecolor\": \"white\", \"showbackground\": true, \"ticks\": \"\", \"zerolinecolor\": \"white\"}, \"zaxis\": {\"backgroundcolor\": \"#E5ECF6\", \"gridcolor\": \"white\", \"gridwidth\": 2, \"linecolor\": \"white\", \"showbackground\": true, \"ticks\": \"\", \"zerolinecolor\": \"white\"}}, \"shapedefaults\": {\"line\": {\"color\": \"#2a3f5f\"}}, \"ternary\": {\"aaxis\": {\"gridcolor\": \"white\", \"linecolor\": \"white\", \"ticks\": \"\"}, \"baxis\": {\"gridcolor\": \"white\", \"linecolor\": \"white\", \"ticks\": \"\"}, \"bgcolor\": \"#E5ECF6\", \"caxis\": {\"gridcolor\": \"white\", \"linecolor\": \"white\", \"ticks\": \"\"}}, \"title\": {\"x\": 0.05}, \"xaxis\": {\"automargin\": true, \"gridcolor\": \"white\", \"linecolor\": \"white\", \"ticks\": \"\", \"title\": {\"standoff\": 15}, \"zerolinecolor\": \"white\", \"zerolinewidth\": 2}, \"yaxis\": {\"automargin\": true, \"gridcolor\": \"white\", \"linecolor\": \"white\", \"ticks\": \"\", \"title\": {\"standoff\": 15}, \"zerolinecolor\": \"white\", \"zerolinewidth\": 2}}}},\n",
       "                        {\"responsive\": true}\n",
       "                    ).then(function(){\n",
       "                            \n",
       "var gd = document.getElementById('9c1398a1-141e-4483-8f4c-65a09f66e14e');\n",
       "var x = new MutationObserver(function (mutations, observer) {{\n",
       "        var display = window.getComputedStyle(gd).display;\n",
       "        if (!display || display === 'none') {{\n",
       "            console.log([gd, 'removed!']);\n",
       "            Plotly.purge(gd);\n",
       "            observer.disconnect();\n",
       "        }}\n",
       "}});\n",
       "\n",
       "// Listen for the removal of the full notebook cells\n",
       "var notebookContainer = gd.closest('#notebook-container');\n",
       "if (notebookContainer) {{\n",
       "    x.observe(notebookContainer, {childList: true});\n",
       "}}\n",
       "\n",
       "// Listen for the clearing of the current output cell\n",
       "var outputEl = gd.closest('.output');\n",
       "if (outputEl) {{\n",
       "    x.observe(outputEl, {childList: true});\n",
       "}}\n",
       "\n",
       "                        })\n",
       "                };\n",
       "                });\n",
       "            </script>\n",
       "        </div>"
      ]
     },
     "metadata": {},
     "output_type": "display_data"
    },
    {
     "data": {
      "application/vnd.plotly.v1+json": {
       "config": {
        "plotlyServerURL": "https://plot.ly"
       },
       "data": [
        {
         "name": "known issuer",
         "type": "bar",
         "x": [
          "CNY"
         ],
         "y": [
          929592.9468128073
         ]
        },
        {
         "name": "unknown issuer",
         "type": "bar",
         "x": [
          "CNY"
         ],
         "y": [
          5017176.93
         ]
        }
       ],
       "layout": {
        "barmode": "stack",
        "template": {
         "data": {
          "bar": [
           {
            "error_x": {
             "color": "#2a3f5f"
            },
            "error_y": {
             "color": "#2a3f5f"
            },
            "marker": {
             "line": {
              "color": "#E5ECF6",
              "width": 0.5
             }
            },
            "type": "bar"
           }
          ],
          "barpolar": [
           {
            "marker": {
             "line": {
              "color": "#E5ECF6",
              "width": 0.5
             }
            },
            "type": "barpolar"
           }
          ],
          "carpet": [
           {
            "aaxis": {
             "endlinecolor": "#2a3f5f",
             "gridcolor": "white",
             "linecolor": "white",
             "minorgridcolor": "white",
             "startlinecolor": "#2a3f5f"
            },
            "baxis": {
             "endlinecolor": "#2a3f5f",
             "gridcolor": "white",
             "linecolor": "white",
             "minorgridcolor": "white",
             "startlinecolor": "#2a3f5f"
            },
            "type": "carpet"
           }
          ],
          "choropleth": [
           {
            "colorbar": {
             "outlinewidth": 0,
             "ticks": ""
            },
            "type": "choropleth"
           }
          ],
          "contour": [
           {
            "colorbar": {
             "outlinewidth": 0,
             "ticks": ""
            },
            "colorscale": [
             [
              0,
              "#0d0887"
             ],
             [
              0.1111111111111111,
              "#46039f"
             ],
             [
              0.2222222222222222,
              "#7201a8"
             ],
             [
              0.3333333333333333,
              "#9c179e"
             ],
             [
              0.4444444444444444,
              "#bd3786"
             ],
             [
              0.5555555555555556,
              "#d8576b"
             ],
             [
              0.6666666666666666,
              "#ed7953"
             ],
             [
              0.7777777777777778,
              "#fb9f3a"
             ],
             [
              0.8888888888888888,
              "#fdca26"
             ],
             [
              1,
              "#f0f921"
             ]
            ],
            "type": "contour"
           }
          ],
          "contourcarpet": [
           {
            "colorbar": {
             "outlinewidth": 0,
             "ticks": ""
            },
            "type": "contourcarpet"
           }
          ],
          "heatmap": [
           {
            "colorbar": {
             "outlinewidth": 0,
             "ticks": ""
            },
            "colorscale": [
             [
              0,
              "#0d0887"
             ],
             [
              0.1111111111111111,
              "#46039f"
             ],
             [
              0.2222222222222222,
              "#7201a8"
             ],
             [
              0.3333333333333333,
              "#9c179e"
             ],
             [
              0.4444444444444444,
              "#bd3786"
             ],
             [
              0.5555555555555556,
              "#d8576b"
             ],
             [
              0.6666666666666666,
              "#ed7953"
             ],
             [
              0.7777777777777778,
              "#fb9f3a"
             ],
             [
              0.8888888888888888,
              "#fdca26"
             ],
             [
              1,
              "#f0f921"
             ]
            ],
            "type": "heatmap"
           }
          ],
          "heatmapgl": [
           {
            "colorbar": {
             "outlinewidth": 0,
             "ticks": ""
            },
            "colorscale": [
             [
              0,
              "#0d0887"
             ],
             [
              0.1111111111111111,
              "#46039f"
             ],
             [
              0.2222222222222222,
              "#7201a8"
             ],
             [
              0.3333333333333333,
              "#9c179e"
             ],
             [
              0.4444444444444444,
              "#bd3786"
             ],
             [
              0.5555555555555556,
              "#d8576b"
             ],
             [
              0.6666666666666666,
              "#ed7953"
             ],
             [
              0.7777777777777778,
              "#fb9f3a"
             ],
             [
              0.8888888888888888,
              "#fdca26"
             ],
             [
              1,
              "#f0f921"
             ]
            ],
            "type": "heatmapgl"
           }
          ],
          "histogram": [
           {
            "marker": {
             "colorbar": {
              "outlinewidth": 0,
              "ticks": ""
             }
            },
            "type": "histogram"
           }
          ],
          "histogram2d": [
           {
            "colorbar": {
             "outlinewidth": 0,
             "ticks": ""
            },
            "colorscale": [
             [
              0,
              "#0d0887"
             ],
             [
              0.1111111111111111,
              "#46039f"
             ],
             [
              0.2222222222222222,
              "#7201a8"
             ],
             [
              0.3333333333333333,
              "#9c179e"
             ],
             [
              0.4444444444444444,
              "#bd3786"
             ],
             [
              0.5555555555555556,
              "#d8576b"
             ],
             [
              0.6666666666666666,
              "#ed7953"
             ],
             [
              0.7777777777777778,
              "#fb9f3a"
             ],
             [
              0.8888888888888888,
              "#fdca26"
             ],
             [
              1,
              "#f0f921"
             ]
            ],
            "type": "histogram2d"
           }
          ],
          "histogram2dcontour": [
           {
            "colorbar": {
             "outlinewidth": 0,
             "ticks": ""
            },
            "colorscale": [
             [
              0,
              "#0d0887"
             ],
             [
              0.1111111111111111,
              "#46039f"
             ],
             [
              0.2222222222222222,
              "#7201a8"
             ],
             [
              0.3333333333333333,
              "#9c179e"
             ],
             [
              0.4444444444444444,
              "#bd3786"
             ],
             [
              0.5555555555555556,
              "#d8576b"
             ],
             [
              0.6666666666666666,
              "#ed7953"
             ],
             [
              0.7777777777777778,
              "#fb9f3a"
             ],
             [
              0.8888888888888888,
              "#fdca26"
             ],
             [
              1,
              "#f0f921"
             ]
            ],
            "type": "histogram2dcontour"
           }
          ],
          "mesh3d": [
           {
            "colorbar": {
             "outlinewidth": 0,
             "ticks": ""
            },
            "type": "mesh3d"
           }
          ],
          "parcoords": [
           {
            "line": {
             "colorbar": {
              "outlinewidth": 0,
              "ticks": ""
             }
            },
            "type": "parcoords"
           }
          ],
          "pie": [
           {
            "automargin": true,
            "type": "pie"
           }
          ],
          "scatter": [
           {
            "marker": {
             "colorbar": {
              "outlinewidth": 0,
              "ticks": ""
             }
            },
            "type": "scatter"
           }
          ],
          "scatter3d": [
           {
            "line": {
             "colorbar": {
              "outlinewidth": 0,
              "ticks": ""
             }
            },
            "marker": {
             "colorbar": {
              "outlinewidth": 0,
              "ticks": ""
             }
            },
            "type": "scatter3d"
           }
          ],
          "scattercarpet": [
           {
            "marker": {
             "colorbar": {
              "outlinewidth": 0,
              "ticks": ""
             }
            },
            "type": "scattercarpet"
           }
          ],
          "scattergeo": [
           {
            "marker": {
             "colorbar": {
              "outlinewidth": 0,
              "ticks": ""
             }
            },
            "type": "scattergeo"
           }
          ],
          "scattergl": [
           {
            "marker": {
             "colorbar": {
              "outlinewidth": 0,
              "ticks": ""
             }
            },
            "type": "scattergl"
           }
          ],
          "scattermapbox": [
           {
            "marker": {
             "colorbar": {
              "outlinewidth": 0,
              "ticks": ""
             }
            },
            "type": "scattermapbox"
           }
          ],
          "scatterpolar": [
           {
            "marker": {
             "colorbar": {
              "outlinewidth": 0,
              "ticks": ""
             }
            },
            "type": "scatterpolar"
           }
          ],
          "scatterpolargl": [
           {
            "marker": {
             "colorbar": {
              "outlinewidth": 0,
              "ticks": ""
             }
            },
            "type": "scatterpolargl"
           }
          ],
          "scatterternary": [
           {
            "marker": {
             "colorbar": {
              "outlinewidth": 0,
              "ticks": ""
             }
            },
            "type": "scatterternary"
           }
          ],
          "surface": [
           {
            "colorbar": {
             "outlinewidth": 0,
             "ticks": ""
            },
            "colorscale": [
             [
              0,
              "#0d0887"
             ],
             [
              0.1111111111111111,
              "#46039f"
             ],
             [
              0.2222222222222222,
              "#7201a8"
             ],
             [
              0.3333333333333333,
              "#9c179e"
             ],
             [
              0.4444444444444444,
              "#bd3786"
             ],
             [
              0.5555555555555556,
              "#d8576b"
             ],
             [
              0.6666666666666666,
              "#ed7953"
             ],
             [
              0.7777777777777778,
              "#fb9f3a"
             ],
             [
              0.8888888888888888,
              "#fdca26"
             ],
             [
              1,
              "#f0f921"
             ]
            ],
            "type": "surface"
           }
          ],
          "table": [
           {
            "cells": {
             "fill": {
              "color": "#EBF0F8"
             },
             "line": {
              "color": "white"
             }
            },
            "header": {
             "fill": {
              "color": "#C8D4E3"
             },
             "line": {
              "color": "white"
             }
            },
            "type": "table"
           }
          ]
         },
         "layout": {
          "annotationdefaults": {
           "arrowcolor": "#2a3f5f",
           "arrowhead": 0,
           "arrowwidth": 1
          },
          "coloraxis": {
           "colorbar": {
            "outlinewidth": 0,
            "ticks": ""
           }
          },
          "colorscale": {
           "diverging": [
            [
             0,
             "#8e0152"
            ],
            [
             0.1,
             "#c51b7d"
            ],
            [
             0.2,
             "#de77ae"
            ],
            [
             0.3,
             "#f1b6da"
            ],
            [
             0.4,
             "#fde0ef"
            ],
            [
             0.5,
             "#f7f7f7"
            ],
            [
             0.6,
             "#e6f5d0"
            ],
            [
             0.7,
             "#b8e186"
            ],
            [
             0.8,
             "#7fbc41"
            ],
            [
             0.9,
             "#4d9221"
            ],
            [
             1,
             "#276419"
            ]
           ],
           "sequential": [
            [
             0,
             "#0d0887"
            ],
            [
             0.1111111111111111,
             "#46039f"
            ],
            [
             0.2222222222222222,
             "#7201a8"
            ],
            [
             0.3333333333333333,
             "#9c179e"
            ],
            [
             0.4444444444444444,
             "#bd3786"
            ],
            [
             0.5555555555555556,
             "#d8576b"
            ],
            [
             0.6666666666666666,
             "#ed7953"
            ],
            [
             0.7777777777777778,
             "#fb9f3a"
            ],
            [
             0.8888888888888888,
             "#fdca26"
            ],
            [
             1,
             "#f0f921"
            ]
           ],
           "sequentialminus": [
            [
             0,
             "#0d0887"
            ],
            [
             0.1111111111111111,
             "#46039f"
            ],
            [
             0.2222222222222222,
             "#7201a8"
            ],
            [
             0.3333333333333333,
             "#9c179e"
            ],
            [
             0.4444444444444444,
             "#bd3786"
            ],
            [
             0.5555555555555556,
             "#d8576b"
            ],
            [
             0.6666666666666666,
             "#ed7953"
            ],
            [
             0.7777777777777778,
             "#fb9f3a"
            ],
            [
             0.8888888888888888,
             "#fdca26"
            ],
            [
             1,
             "#f0f921"
            ]
           ]
          },
          "colorway": [
           "#636efa",
           "#EF553B",
           "#00cc96",
           "#ab63fa",
           "#FFA15A",
           "#19d3f3",
           "#FF6692",
           "#B6E880",
           "#FF97FF",
           "#FECB52"
          ],
          "font": {
           "color": "#2a3f5f"
          },
          "geo": {
           "bgcolor": "white",
           "lakecolor": "white",
           "landcolor": "#E5ECF6",
           "showlakes": true,
           "showland": true,
           "subunitcolor": "white"
          },
          "hoverlabel": {
           "align": "left"
          },
          "hovermode": "closest",
          "mapbox": {
           "style": "light"
          },
          "paper_bgcolor": "white",
          "plot_bgcolor": "#E5ECF6",
          "polar": {
           "angularaxis": {
            "gridcolor": "white",
            "linecolor": "white",
            "ticks": ""
           },
           "bgcolor": "#E5ECF6",
           "radialaxis": {
            "gridcolor": "white",
            "linecolor": "white",
            "ticks": ""
           }
          },
          "scene": {
           "xaxis": {
            "backgroundcolor": "#E5ECF6",
            "gridcolor": "white",
            "gridwidth": 2,
            "linecolor": "white",
            "showbackground": true,
            "ticks": "",
            "zerolinecolor": "white"
           },
           "yaxis": {
            "backgroundcolor": "#E5ECF6",
            "gridcolor": "white",
            "gridwidth": 2,
            "linecolor": "white",
            "showbackground": true,
            "ticks": "",
            "zerolinecolor": "white"
           },
           "zaxis": {
            "backgroundcolor": "#E5ECF6",
            "gridcolor": "white",
            "gridwidth": 2,
            "linecolor": "white",
            "showbackground": true,
            "ticks": "",
            "zerolinecolor": "white"
           }
          },
          "shapedefaults": {
           "line": {
            "color": "#2a3f5f"
           }
          },
          "ternary": {
           "aaxis": {
            "gridcolor": "white",
            "linecolor": "white",
            "ticks": ""
           },
           "baxis": {
            "gridcolor": "white",
            "linecolor": "white",
            "ticks": ""
           },
           "bgcolor": "#E5ECF6",
           "caxis": {
            "gridcolor": "white",
            "linecolor": "white",
            "ticks": ""
           }
          },
          "title": {
           "x": 0.05
          },
          "xaxis": {
           "automargin": true,
           "gridcolor": "white",
           "linecolor": "white",
           "ticks": "",
           "title": {
            "standoff": 15
           },
           "zerolinecolor": "white",
           "zerolinewidth": 2
          },
          "yaxis": {
           "automargin": true,
           "gridcolor": "white",
           "linecolor": "white",
           "ticks": "",
           "title": {
            "standoff": 15
           },
           "zerolinecolor": "white",
           "zerolinewidth": 2
          }
         }
        }
       }
      },
      "text/html": [
       "<div>\n",
       "        \n",
       "        \n",
       "            <div id=\"11556cd8-4393-4ef9-8488-fd425a3555b6\" class=\"plotly-graph-div\" style=\"height:525px; width:100%;\"></div>\n",
       "            <script type=\"text/javascript\">\n",
       "                require([\"plotly\"], function(Plotly) {\n",
       "                    window.PLOTLYENV=window.PLOTLYENV || {};\n",
       "                    \n",
       "                if (document.getElementById(\"11556cd8-4393-4ef9-8488-fd425a3555b6\")) {\n",
       "                    Plotly.newPlot(\n",
       "                        '11556cd8-4393-4ef9-8488-fd425a3555b6',\n",
       "                        [{\"name\": \"known issuer\", \"type\": \"bar\", \"x\": [\"CNY\"], \"y\": [929592.9468128073]}, {\"name\": \"unknown issuer\", \"type\": \"bar\", \"x\": [\"CNY\"], \"y\": [5017176.93]}],\n",
       "                        {\"barmode\": \"stack\", \"template\": {\"data\": {\"bar\": [{\"error_x\": {\"color\": \"#2a3f5f\"}, \"error_y\": {\"color\": \"#2a3f5f\"}, \"marker\": {\"line\": {\"color\": \"#E5ECF6\", \"width\": 0.5}}, \"type\": \"bar\"}], \"barpolar\": [{\"marker\": {\"line\": {\"color\": \"#E5ECF6\", \"width\": 0.5}}, \"type\": \"barpolar\"}], \"carpet\": [{\"aaxis\": {\"endlinecolor\": \"#2a3f5f\", \"gridcolor\": \"white\", \"linecolor\": \"white\", \"minorgridcolor\": \"white\", \"startlinecolor\": \"#2a3f5f\"}, \"baxis\": {\"endlinecolor\": \"#2a3f5f\", \"gridcolor\": \"white\", \"linecolor\": \"white\", \"minorgridcolor\": \"white\", \"startlinecolor\": \"#2a3f5f\"}, \"type\": \"carpet\"}], \"choropleth\": [{\"colorbar\": {\"outlinewidth\": 0, \"ticks\": \"\"}, \"type\": \"choropleth\"}], \"contour\": [{\"colorbar\": {\"outlinewidth\": 0, \"ticks\": \"\"}, \"colorscale\": [[0.0, \"#0d0887\"], [0.1111111111111111, \"#46039f\"], [0.2222222222222222, \"#7201a8\"], [0.3333333333333333, \"#9c179e\"], [0.4444444444444444, \"#bd3786\"], [0.5555555555555556, \"#d8576b\"], [0.6666666666666666, \"#ed7953\"], [0.7777777777777778, \"#fb9f3a\"], [0.8888888888888888, \"#fdca26\"], [1.0, \"#f0f921\"]], \"type\": \"contour\"}], \"contourcarpet\": [{\"colorbar\": {\"outlinewidth\": 0, \"ticks\": \"\"}, \"type\": \"contourcarpet\"}], \"heatmap\": [{\"colorbar\": {\"outlinewidth\": 0, \"ticks\": \"\"}, \"colorscale\": [[0.0, \"#0d0887\"], [0.1111111111111111, \"#46039f\"], [0.2222222222222222, \"#7201a8\"], [0.3333333333333333, \"#9c179e\"], [0.4444444444444444, \"#bd3786\"], [0.5555555555555556, \"#d8576b\"], [0.6666666666666666, \"#ed7953\"], [0.7777777777777778, \"#fb9f3a\"], [0.8888888888888888, \"#fdca26\"], [1.0, \"#f0f921\"]], \"type\": \"heatmap\"}], \"heatmapgl\": [{\"colorbar\": {\"outlinewidth\": 0, \"ticks\": \"\"}, \"colorscale\": [[0.0, \"#0d0887\"], [0.1111111111111111, \"#46039f\"], [0.2222222222222222, \"#7201a8\"], [0.3333333333333333, \"#9c179e\"], [0.4444444444444444, \"#bd3786\"], [0.5555555555555556, \"#d8576b\"], [0.6666666666666666, \"#ed7953\"], [0.7777777777777778, \"#fb9f3a\"], [0.8888888888888888, \"#fdca26\"], [1.0, \"#f0f921\"]], \"type\": \"heatmapgl\"}], \"histogram\": [{\"marker\": {\"colorbar\": {\"outlinewidth\": 0, \"ticks\": \"\"}}, \"type\": \"histogram\"}], \"histogram2d\": [{\"colorbar\": {\"outlinewidth\": 0, \"ticks\": \"\"}, \"colorscale\": [[0.0, \"#0d0887\"], [0.1111111111111111, \"#46039f\"], [0.2222222222222222, \"#7201a8\"], [0.3333333333333333, \"#9c179e\"], [0.4444444444444444, \"#bd3786\"], [0.5555555555555556, \"#d8576b\"], [0.6666666666666666, \"#ed7953\"], [0.7777777777777778, \"#fb9f3a\"], [0.8888888888888888, \"#fdca26\"], [1.0, \"#f0f921\"]], \"type\": \"histogram2d\"}], \"histogram2dcontour\": [{\"colorbar\": {\"outlinewidth\": 0, \"ticks\": \"\"}, \"colorscale\": [[0.0, \"#0d0887\"], [0.1111111111111111, \"#46039f\"], [0.2222222222222222, \"#7201a8\"], [0.3333333333333333, \"#9c179e\"], [0.4444444444444444, \"#bd3786\"], [0.5555555555555556, \"#d8576b\"], [0.6666666666666666, \"#ed7953\"], [0.7777777777777778, \"#fb9f3a\"], [0.8888888888888888, \"#fdca26\"], [1.0, \"#f0f921\"]], \"type\": \"histogram2dcontour\"}], \"mesh3d\": [{\"colorbar\": {\"outlinewidth\": 0, \"ticks\": \"\"}, \"type\": \"mesh3d\"}], \"parcoords\": [{\"line\": {\"colorbar\": {\"outlinewidth\": 0, \"ticks\": \"\"}}, \"type\": \"parcoords\"}], \"pie\": [{\"automargin\": true, \"type\": \"pie\"}], \"scatter\": [{\"marker\": {\"colorbar\": {\"outlinewidth\": 0, \"ticks\": \"\"}}, \"type\": \"scatter\"}], \"scatter3d\": [{\"line\": {\"colorbar\": {\"outlinewidth\": 0, \"ticks\": \"\"}}, \"marker\": {\"colorbar\": {\"outlinewidth\": 0, \"ticks\": \"\"}}, \"type\": \"scatter3d\"}], \"scattercarpet\": [{\"marker\": {\"colorbar\": {\"outlinewidth\": 0, \"ticks\": \"\"}}, \"type\": \"scattercarpet\"}], \"scattergeo\": [{\"marker\": {\"colorbar\": {\"outlinewidth\": 0, \"ticks\": \"\"}}, \"type\": \"scattergeo\"}], \"scattergl\": [{\"marker\": {\"colorbar\": {\"outlinewidth\": 0, \"ticks\": \"\"}}, \"type\": \"scattergl\"}], \"scattermapbox\": [{\"marker\": {\"colorbar\": {\"outlinewidth\": 0, \"ticks\": \"\"}}, \"type\": \"scattermapbox\"}], \"scatterpolar\": [{\"marker\": {\"colorbar\": {\"outlinewidth\": 0, \"ticks\": \"\"}}, \"type\": \"scatterpolar\"}], \"scatterpolargl\": [{\"marker\": {\"colorbar\": {\"outlinewidth\": 0, \"ticks\": \"\"}}, \"type\": \"scatterpolargl\"}], \"scatterternary\": [{\"marker\": {\"colorbar\": {\"outlinewidth\": 0, \"ticks\": \"\"}}, \"type\": \"scatterternary\"}], \"surface\": [{\"colorbar\": {\"outlinewidth\": 0, \"ticks\": \"\"}, \"colorscale\": [[0.0, \"#0d0887\"], [0.1111111111111111, \"#46039f\"], [0.2222222222222222, \"#7201a8\"], [0.3333333333333333, \"#9c179e\"], [0.4444444444444444, \"#bd3786\"], [0.5555555555555556, \"#d8576b\"], [0.6666666666666666, \"#ed7953\"], [0.7777777777777778, \"#fb9f3a\"], [0.8888888888888888, \"#fdca26\"], [1.0, \"#f0f921\"]], \"type\": \"surface\"}], \"table\": [{\"cells\": {\"fill\": {\"color\": \"#EBF0F8\"}, \"line\": {\"color\": \"white\"}}, \"header\": {\"fill\": {\"color\": \"#C8D4E3\"}, \"line\": {\"color\": \"white\"}}, \"type\": \"table\"}]}, \"layout\": {\"annotationdefaults\": {\"arrowcolor\": \"#2a3f5f\", \"arrowhead\": 0, \"arrowwidth\": 1}, \"coloraxis\": {\"colorbar\": {\"outlinewidth\": 0, \"ticks\": \"\"}}, \"colorscale\": {\"diverging\": [[0, \"#8e0152\"], [0.1, \"#c51b7d\"], [0.2, \"#de77ae\"], [0.3, \"#f1b6da\"], [0.4, \"#fde0ef\"], [0.5, \"#f7f7f7\"], [0.6, \"#e6f5d0\"], [0.7, \"#b8e186\"], [0.8, \"#7fbc41\"], [0.9, \"#4d9221\"], [1, \"#276419\"]], \"sequential\": [[0.0, \"#0d0887\"], [0.1111111111111111, \"#46039f\"], [0.2222222222222222, \"#7201a8\"], [0.3333333333333333, \"#9c179e\"], [0.4444444444444444, \"#bd3786\"], [0.5555555555555556, \"#d8576b\"], [0.6666666666666666, \"#ed7953\"], [0.7777777777777778, \"#fb9f3a\"], [0.8888888888888888, \"#fdca26\"], [1.0, \"#f0f921\"]], \"sequentialminus\": [[0.0, \"#0d0887\"], [0.1111111111111111, \"#46039f\"], [0.2222222222222222, \"#7201a8\"], [0.3333333333333333, \"#9c179e\"], [0.4444444444444444, \"#bd3786\"], [0.5555555555555556, \"#d8576b\"], [0.6666666666666666, \"#ed7953\"], [0.7777777777777778, \"#fb9f3a\"], [0.8888888888888888, \"#fdca26\"], [1.0, \"#f0f921\"]]}, \"colorway\": [\"#636efa\", \"#EF553B\", \"#00cc96\", \"#ab63fa\", \"#FFA15A\", \"#19d3f3\", \"#FF6692\", \"#B6E880\", \"#FF97FF\", \"#FECB52\"], \"font\": {\"color\": \"#2a3f5f\"}, \"geo\": {\"bgcolor\": \"white\", \"lakecolor\": \"white\", \"landcolor\": \"#E5ECF6\", \"showlakes\": true, \"showland\": true, \"subunitcolor\": \"white\"}, \"hoverlabel\": {\"align\": \"left\"}, \"hovermode\": \"closest\", \"mapbox\": {\"style\": \"light\"}, \"paper_bgcolor\": \"white\", \"plot_bgcolor\": \"#E5ECF6\", \"polar\": {\"angularaxis\": {\"gridcolor\": \"white\", \"linecolor\": \"white\", \"ticks\": \"\"}, \"bgcolor\": \"#E5ECF6\", \"radialaxis\": {\"gridcolor\": \"white\", \"linecolor\": \"white\", \"ticks\": \"\"}}, \"scene\": {\"xaxis\": {\"backgroundcolor\": \"#E5ECF6\", \"gridcolor\": \"white\", \"gridwidth\": 2, \"linecolor\": \"white\", \"showbackground\": true, \"ticks\": \"\", \"zerolinecolor\": \"white\"}, \"yaxis\": {\"backgroundcolor\": \"#E5ECF6\", \"gridcolor\": \"white\", \"gridwidth\": 2, \"linecolor\": \"white\", \"showbackground\": true, \"ticks\": \"\", \"zerolinecolor\": \"white\"}, \"zaxis\": {\"backgroundcolor\": \"#E5ECF6\", \"gridcolor\": \"white\", \"gridwidth\": 2, \"linecolor\": \"white\", \"showbackground\": true, \"ticks\": \"\", \"zerolinecolor\": \"white\"}}, \"shapedefaults\": {\"line\": {\"color\": \"#2a3f5f\"}}, \"ternary\": {\"aaxis\": {\"gridcolor\": \"white\", \"linecolor\": \"white\", \"ticks\": \"\"}, \"baxis\": {\"gridcolor\": \"white\", \"linecolor\": \"white\", \"ticks\": \"\"}, \"bgcolor\": \"#E5ECF6\", \"caxis\": {\"gridcolor\": \"white\", \"linecolor\": \"white\", \"ticks\": \"\"}}, \"title\": {\"x\": 0.05}, \"xaxis\": {\"automargin\": true, \"gridcolor\": \"white\", \"linecolor\": \"white\", \"ticks\": \"\", \"title\": {\"standoff\": 15}, \"zerolinecolor\": \"white\", \"zerolinewidth\": 2}, \"yaxis\": {\"automargin\": true, \"gridcolor\": \"white\", \"linecolor\": \"white\", \"ticks\": \"\", \"title\": {\"standoff\": 15}, \"zerolinecolor\": \"white\", \"zerolinewidth\": 2}}}},\n",
       "                        {\"responsive\": true}\n",
       "                    ).then(function(){\n",
       "                            \n",
       "var gd = document.getElementById('11556cd8-4393-4ef9-8488-fd425a3555b6');\n",
       "var x = new MutationObserver(function (mutations, observer) {{\n",
       "        var display = window.getComputedStyle(gd).display;\n",
       "        if (!display || display === 'none') {{\n",
       "            console.log([gd, 'removed!']);\n",
       "            Plotly.purge(gd);\n",
       "            observer.disconnect();\n",
       "        }}\n",
       "}});\n",
       "\n",
       "// Listen for the removal of the full notebook cells\n",
       "var notebookContainer = gd.closest('#notebook-container');\n",
       "if (notebookContainer) {{\n",
       "    x.observe(notebookContainer, {childList: true});\n",
       "}}\n",
       "\n",
       "// Listen for the clearing of the current output cell\n",
       "var outputEl = gd.closest('.output');\n",
       "if (outputEl) {{\n",
       "    x.observe(outputEl, {childList: true});\n",
       "}}\n",
       "\n",
       "                        })\n",
       "                };\n",
       "                });\n",
       "            </script>\n",
       "        </div>"
      ]
     },
     "metadata": {},
     "output_type": "display_data"
    },
    {
     "data": {
      "application/vnd.plotly.v1+json": {
       "config": {
        "plotlyServerURL": "https://plot.ly"
       },
       "data": [
        {
         "name": "known issuer",
         "type": "bar",
         "x": [
          "EUR"
         ],
         "y": [
          92182.34100000001
         ]
        },
        {
         "name": "unknown issuer",
         "type": "bar",
         "x": [
          "EUR"
         ],
         "y": [
          134801.2
         ]
        }
       ],
       "layout": {
        "barmode": "stack",
        "template": {
         "data": {
          "bar": [
           {
            "error_x": {
             "color": "#2a3f5f"
            },
            "error_y": {
             "color": "#2a3f5f"
            },
            "marker": {
             "line": {
              "color": "#E5ECF6",
              "width": 0.5
             }
            },
            "type": "bar"
           }
          ],
          "barpolar": [
           {
            "marker": {
             "line": {
              "color": "#E5ECF6",
              "width": 0.5
             }
            },
            "type": "barpolar"
           }
          ],
          "carpet": [
           {
            "aaxis": {
             "endlinecolor": "#2a3f5f",
             "gridcolor": "white",
             "linecolor": "white",
             "minorgridcolor": "white",
             "startlinecolor": "#2a3f5f"
            },
            "baxis": {
             "endlinecolor": "#2a3f5f",
             "gridcolor": "white",
             "linecolor": "white",
             "minorgridcolor": "white",
             "startlinecolor": "#2a3f5f"
            },
            "type": "carpet"
           }
          ],
          "choropleth": [
           {
            "colorbar": {
             "outlinewidth": 0,
             "ticks": ""
            },
            "type": "choropleth"
           }
          ],
          "contour": [
           {
            "colorbar": {
             "outlinewidth": 0,
             "ticks": ""
            },
            "colorscale": [
             [
              0,
              "#0d0887"
             ],
             [
              0.1111111111111111,
              "#46039f"
             ],
             [
              0.2222222222222222,
              "#7201a8"
             ],
             [
              0.3333333333333333,
              "#9c179e"
             ],
             [
              0.4444444444444444,
              "#bd3786"
             ],
             [
              0.5555555555555556,
              "#d8576b"
             ],
             [
              0.6666666666666666,
              "#ed7953"
             ],
             [
              0.7777777777777778,
              "#fb9f3a"
             ],
             [
              0.8888888888888888,
              "#fdca26"
             ],
             [
              1,
              "#f0f921"
             ]
            ],
            "type": "contour"
           }
          ],
          "contourcarpet": [
           {
            "colorbar": {
             "outlinewidth": 0,
             "ticks": ""
            },
            "type": "contourcarpet"
           }
          ],
          "heatmap": [
           {
            "colorbar": {
             "outlinewidth": 0,
             "ticks": ""
            },
            "colorscale": [
             [
              0,
              "#0d0887"
             ],
             [
              0.1111111111111111,
              "#46039f"
             ],
             [
              0.2222222222222222,
              "#7201a8"
             ],
             [
              0.3333333333333333,
              "#9c179e"
             ],
             [
              0.4444444444444444,
              "#bd3786"
             ],
             [
              0.5555555555555556,
              "#d8576b"
             ],
             [
              0.6666666666666666,
              "#ed7953"
             ],
             [
              0.7777777777777778,
              "#fb9f3a"
             ],
             [
              0.8888888888888888,
              "#fdca26"
             ],
             [
              1,
              "#f0f921"
             ]
            ],
            "type": "heatmap"
           }
          ],
          "heatmapgl": [
           {
            "colorbar": {
             "outlinewidth": 0,
             "ticks": ""
            },
            "colorscale": [
             [
              0,
              "#0d0887"
             ],
             [
              0.1111111111111111,
              "#46039f"
             ],
             [
              0.2222222222222222,
              "#7201a8"
             ],
             [
              0.3333333333333333,
              "#9c179e"
             ],
             [
              0.4444444444444444,
              "#bd3786"
             ],
             [
              0.5555555555555556,
              "#d8576b"
             ],
             [
              0.6666666666666666,
              "#ed7953"
             ],
             [
              0.7777777777777778,
              "#fb9f3a"
             ],
             [
              0.8888888888888888,
              "#fdca26"
             ],
             [
              1,
              "#f0f921"
             ]
            ],
            "type": "heatmapgl"
           }
          ],
          "histogram": [
           {
            "marker": {
             "colorbar": {
              "outlinewidth": 0,
              "ticks": ""
             }
            },
            "type": "histogram"
           }
          ],
          "histogram2d": [
           {
            "colorbar": {
             "outlinewidth": 0,
             "ticks": ""
            },
            "colorscale": [
             [
              0,
              "#0d0887"
             ],
             [
              0.1111111111111111,
              "#46039f"
             ],
             [
              0.2222222222222222,
              "#7201a8"
             ],
             [
              0.3333333333333333,
              "#9c179e"
             ],
             [
              0.4444444444444444,
              "#bd3786"
             ],
             [
              0.5555555555555556,
              "#d8576b"
             ],
             [
              0.6666666666666666,
              "#ed7953"
             ],
             [
              0.7777777777777778,
              "#fb9f3a"
             ],
             [
              0.8888888888888888,
              "#fdca26"
             ],
             [
              1,
              "#f0f921"
             ]
            ],
            "type": "histogram2d"
           }
          ],
          "histogram2dcontour": [
           {
            "colorbar": {
             "outlinewidth": 0,
             "ticks": ""
            },
            "colorscale": [
             [
              0,
              "#0d0887"
             ],
             [
              0.1111111111111111,
              "#46039f"
             ],
             [
              0.2222222222222222,
              "#7201a8"
             ],
             [
              0.3333333333333333,
              "#9c179e"
             ],
             [
              0.4444444444444444,
              "#bd3786"
             ],
             [
              0.5555555555555556,
              "#d8576b"
             ],
             [
              0.6666666666666666,
              "#ed7953"
             ],
             [
              0.7777777777777778,
              "#fb9f3a"
             ],
             [
              0.8888888888888888,
              "#fdca26"
             ],
             [
              1,
              "#f0f921"
             ]
            ],
            "type": "histogram2dcontour"
           }
          ],
          "mesh3d": [
           {
            "colorbar": {
             "outlinewidth": 0,
             "ticks": ""
            },
            "type": "mesh3d"
           }
          ],
          "parcoords": [
           {
            "line": {
             "colorbar": {
              "outlinewidth": 0,
              "ticks": ""
             }
            },
            "type": "parcoords"
           }
          ],
          "pie": [
           {
            "automargin": true,
            "type": "pie"
           }
          ],
          "scatter": [
           {
            "marker": {
             "colorbar": {
              "outlinewidth": 0,
              "ticks": ""
             }
            },
            "type": "scatter"
           }
          ],
          "scatter3d": [
           {
            "line": {
             "colorbar": {
              "outlinewidth": 0,
              "ticks": ""
             }
            },
            "marker": {
             "colorbar": {
              "outlinewidth": 0,
              "ticks": ""
             }
            },
            "type": "scatter3d"
           }
          ],
          "scattercarpet": [
           {
            "marker": {
             "colorbar": {
              "outlinewidth": 0,
              "ticks": ""
             }
            },
            "type": "scattercarpet"
           }
          ],
          "scattergeo": [
           {
            "marker": {
             "colorbar": {
              "outlinewidth": 0,
              "ticks": ""
             }
            },
            "type": "scattergeo"
           }
          ],
          "scattergl": [
           {
            "marker": {
             "colorbar": {
              "outlinewidth": 0,
              "ticks": ""
             }
            },
            "type": "scattergl"
           }
          ],
          "scattermapbox": [
           {
            "marker": {
             "colorbar": {
              "outlinewidth": 0,
              "ticks": ""
             }
            },
            "type": "scattermapbox"
           }
          ],
          "scatterpolar": [
           {
            "marker": {
             "colorbar": {
              "outlinewidth": 0,
              "ticks": ""
             }
            },
            "type": "scatterpolar"
           }
          ],
          "scatterpolargl": [
           {
            "marker": {
             "colorbar": {
              "outlinewidth": 0,
              "ticks": ""
             }
            },
            "type": "scatterpolargl"
           }
          ],
          "scatterternary": [
           {
            "marker": {
             "colorbar": {
              "outlinewidth": 0,
              "ticks": ""
             }
            },
            "type": "scatterternary"
           }
          ],
          "surface": [
           {
            "colorbar": {
             "outlinewidth": 0,
             "ticks": ""
            },
            "colorscale": [
             [
              0,
              "#0d0887"
             ],
             [
              0.1111111111111111,
              "#46039f"
             ],
             [
              0.2222222222222222,
              "#7201a8"
             ],
             [
              0.3333333333333333,
              "#9c179e"
             ],
             [
              0.4444444444444444,
              "#bd3786"
             ],
             [
              0.5555555555555556,
              "#d8576b"
             ],
             [
              0.6666666666666666,
              "#ed7953"
             ],
             [
              0.7777777777777778,
              "#fb9f3a"
             ],
             [
              0.8888888888888888,
              "#fdca26"
             ],
             [
              1,
              "#f0f921"
             ]
            ],
            "type": "surface"
           }
          ],
          "table": [
           {
            "cells": {
             "fill": {
              "color": "#EBF0F8"
             },
             "line": {
              "color": "white"
             }
            },
            "header": {
             "fill": {
              "color": "#C8D4E3"
             },
             "line": {
              "color": "white"
             }
            },
            "type": "table"
           }
          ]
         },
         "layout": {
          "annotationdefaults": {
           "arrowcolor": "#2a3f5f",
           "arrowhead": 0,
           "arrowwidth": 1
          },
          "coloraxis": {
           "colorbar": {
            "outlinewidth": 0,
            "ticks": ""
           }
          },
          "colorscale": {
           "diverging": [
            [
             0,
             "#8e0152"
            ],
            [
             0.1,
             "#c51b7d"
            ],
            [
             0.2,
             "#de77ae"
            ],
            [
             0.3,
             "#f1b6da"
            ],
            [
             0.4,
             "#fde0ef"
            ],
            [
             0.5,
             "#f7f7f7"
            ],
            [
             0.6,
             "#e6f5d0"
            ],
            [
             0.7,
             "#b8e186"
            ],
            [
             0.8,
             "#7fbc41"
            ],
            [
             0.9,
             "#4d9221"
            ],
            [
             1,
             "#276419"
            ]
           ],
           "sequential": [
            [
             0,
             "#0d0887"
            ],
            [
             0.1111111111111111,
             "#46039f"
            ],
            [
             0.2222222222222222,
             "#7201a8"
            ],
            [
             0.3333333333333333,
             "#9c179e"
            ],
            [
             0.4444444444444444,
             "#bd3786"
            ],
            [
             0.5555555555555556,
             "#d8576b"
            ],
            [
             0.6666666666666666,
             "#ed7953"
            ],
            [
             0.7777777777777778,
             "#fb9f3a"
            ],
            [
             0.8888888888888888,
             "#fdca26"
            ],
            [
             1,
             "#f0f921"
            ]
           ],
           "sequentialminus": [
            [
             0,
             "#0d0887"
            ],
            [
             0.1111111111111111,
             "#46039f"
            ],
            [
             0.2222222222222222,
             "#7201a8"
            ],
            [
             0.3333333333333333,
             "#9c179e"
            ],
            [
             0.4444444444444444,
             "#bd3786"
            ],
            [
             0.5555555555555556,
             "#d8576b"
            ],
            [
             0.6666666666666666,
             "#ed7953"
            ],
            [
             0.7777777777777778,
             "#fb9f3a"
            ],
            [
             0.8888888888888888,
             "#fdca26"
            ],
            [
             1,
             "#f0f921"
            ]
           ]
          },
          "colorway": [
           "#636efa",
           "#EF553B",
           "#00cc96",
           "#ab63fa",
           "#FFA15A",
           "#19d3f3",
           "#FF6692",
           "#B6E880",
           "#FF97FF",
           "#FECB52"
          ],
          "font": {
           "color": "#2a3f5f"
          },
          "geo": {
           "bgcolor": "white",
           "lakecolor": "white",
           "landcolor": "#E5ECF6",
           "showlakes": true,
           "showland": true,
           "subunitcolor": "white"
          },
          "hoverlabel": {
           "align": "left"
          },
          "hovermode": "closest",
          "mapbox": {
           "style": "light"
          },
          "paper_bgcolor": "white",
          "plot_bgcolor": "#E5ECF6",
          "polar": {
           "angularaxis": {
            "gridcolor": "white",
            "linecolor": "white",
            "ticks": ""
           },
           "bgcolor": "#E5ECF6",
           "radialaxis": {
            "gridcolor": "white",
            "linecolor": "white",
            "ticks": ""
           }
          },
          "scene": {
           "xaxis": {
            "backgroundcolor": "#E5ECF6",
            "gridcolor": "white",
            "gridwidth": 2,
            "linecolor": "white",
            "showbackground": true,
            "ticks": "",
            "zerolinecolor": "white"
           },
           "yaxis": {
            "backgroundcolor": "#E5ECF6",
            "gridcolor": "white",
            "gridwidth": 2,
            "linecolor": "white",
            "showbackground": true,
            "ticks": "",
            "zerolinecolor": "white"
           },
           "zaxis": {
            "backgroundcolor": "#E5ECF6",
            "gridcolor": "white",
            "gridwidth": 2,
            "linecolor": "white",
            "showbackground": true,
            "ticks": "",
            "zerolinecolor": "white"
           }
          },
          "shapedefaults": {
           "line": {
            "color": "#2a3f5f"
           }
          },
          "ternary": {
           "aaxis": {
            "gridcolor": "white",
            "linecolor": "white",
            "ticks": ""
           },
           "baxis": {
            "gridcolor": "white",
            "linecolor": "white",
            "ticks": ""
           },
           "bgcolor": "#E5ECF6",
           "caxis": {
            "gridcolor": "white",
            "linecolor": "white",
            "ticks": ""
           }
          },
          "title": {
           "x": 0.05
          },
          "xaxis": {
           "automargin": true,
           "gridcolor": "white",
           "linecolor": "white",
           "ticks": "",
           "title": {
            "standoff": 15
           },
           "zerolinecolor": "white",
           "zerolinewidth": 2
          },
          "yaxis": {
           "automargin": true,
           "gridcolor": "white",
           "linecolor": "white",
           "ticks": "",
           "title": {
            "standoff": 15
           },
           "zerolinecolor": "white",
           "zerolinewidth": 2
          }
         }
        }
       }
      },
      "text/html": [
       "<div>\n",
       "        \n",
       "        \n",
       "            <div id=\"3206f801-1610-4fe3-afa2-d9c35a40dfc7\" class=\"plotly-graph-div\" style=\"height:525px; width:100%;\"></div>\n",
       "            <script type=\"text/javascript\">\n",
       "                require([\"plotly\"], function(Plotly) {\n",
       "                    window.PLOTLYENV=window.PLOTLYENV || {};\n",
       "                    \n",
       "                if (document.getElementById(\"3206f801-1610-4fe3-afa2-d9c35a40dfc7\")) {\n",
       "                    Plotly.newPlot(\n",
       "                        '3206f801-1610-4fe3-afa2-d9c35a40dfc7',\n",
       "                        [{\"name\": \"known issuer\", \"type\": \"bar\", \"x\": [\"EUR\"], \"y\": [92182.34100000001]}, {\"name\": \"unknown issuer\", \"type\": \"bar\", \"x\": [\"EUR\"], \"y\": [134801.2]}],\n",
       "                        {\"barmode\": \"stack\", \"template\": {\"data\": {\"bar\": [{\"error_x\": {\"color\": \"#2a3f5f\"}, \"error_y\": {\"color\": \"#2a3f5f\"}, \"marker\": {\"line\": {\"color\": \"#E5ECF6\", \"width\": 0.5}}, \"type\": \"bar\"}], \"barpolar\": [{\"marker\": {\"line\": {\"color\": \"#E5ECF6\", \"width\": 0.5}}, \"type\": \"barpolar\"}], \"carpet\": [{\"aaxis\": {\"endlinecolor\": \"#2a3f5f\", \"gridcolor\": \"white\", \"linecolor\": \"white\", \"minorgridcolor\": \"white\", \"startlinecolor\": \"#2a3f5f\"}, \"baxis\": {\"endlinecolor\": \"#2a3f5f\", \"gridcolor\": \"white\", \"linecolor\": \"white\", \"minorgridcolor\": \"white\", \"startlinecolor\": \"#2a3f5f\"}, \"type\": \"carpet\"}], \"choropleth\": [{\"colorbar\": {\"outlinewidth\": 0, \"ticks\": \"\"}, \"type\": \"choropleth\"}], \"contour\": [{\"colorbar\": {\"outlinewidth\": 0, \"ticks\": \"\"}, \"colorscale\": [[0.0, \"#0d0887\"], [0.1111111111111111, \"#46039f\"], [0.2222222222222222, \"#7201a8\"], [0.3333333333333333, \"#9c179e\"], [0.4444444444444444, \"#bd3786\"], [0.5555555555555556, \"#d8576b\"], [0.6666666666666666, \"#ed7953\"], [0.7777777777777778, \"#fb9f3a\"], [0.8888888888888888, \"#fdca26\"], [1.0, \"#f0f921\"]], \"type\": \"contour\"}], \"contourcarpet\": [{\"colorbar\": {\"outlinewidth\": 0, \"ticks\": \"\"}, \"type\": \"contourcarpet\"}], \"heatmap\": [{\"colorbar\": {\"outlinewidth\": 0, \"ticks\": \"\"}, \"colorscale\": [[0.0, \"#0d0887\"], [0.1111111111111111, \"#46039f\"], [0.2222222222222222, \"#7201a8\"], [0.3333333333333333, \"#9c179e\"], [0.4444444444444444, \"#bd3786\"], [0.5555555555555556, \"#d8576b\"], [0.6666666666666666, \"#ed7953\"], [0.7777777777777778, \"#fb9f3a\"], [0.8888888888888888, \"#fdca26\"], [1.0, \"#f0f921\"]], \"type\": \"heatmap\"}], \"heatmapgl\": [{\"colorbar\": {\"outlinewidth\": 0, \"ticks\": \"\"}, \"colorscale\": [[0.0, \"#0d0887\"], [0.1111111111111111, \"#46039f\"], [0.2222222222222222, \"#7201a8\"], [0.3333333333333333, \"#9c179e\"], [0.4444444444444444, \"#bd3786\"], [0.5555555555555556, \"#d8576b\"], [0.6666666666666666, \"#ed7953\"], [0.7777777777777778, \"#fb9f3a\"], [0.8888888888888888, \"#fdca26\"], [1.0, \"#f0f921\"]], \"type\": \"heatmapgl\"}], \"histogram\": [{\"marker\": {\"colorbar\": {\"outlinewidth\": 0, \"ticks\": \"\"}}, \"type\": \"histogram\"}], \"histogram2d\": [{\"colorbar\": {\"outlinewidth\": 0, \"ticks\": \"\"}, \"colorscale\": [[0.0, \"#0d0887\"], [0.1111111111111111, \"#46039f\"], [0.2222222222222222, \"#7201a8\"], [0.3333333333333333, \"#9c179e\"], [0.4444444444444444, \"#bd3786\"], [0.5555555555555556, \"#d8576b\"], [0.6666666666666666, \"#ed7953\"], [0.7777777777777778, \"#fb9f3a\"], [0.8888888888888888, \"#fdca26\"], [1.0, \"#f0f921\"]], \"type\": \"histogram2d\"}], \"histogram2dcontour\": [{\"colorbar\": {\"outlinewidth\": 0, \"ticks\": \"\"}, \"colorscale\": [[0.0, \"#0d0887\"], [0.1111111111111111, \"#46039f\"], [0.2222222222222222, \"#7201a8\"], [0.3333333333333333, \"#9c179e\"], [0.4444444444444444, \"#bd3786\"], [0.5555555555555556, \"#d8576b\"], [0.6666666666666666, \"#ed7953\"], [0.7777777777777778, \"#fb9f3a\"], [0.8888888888888888, \"#fdca26\"], [1.0, \"#f0f921\"]], \"type\": \"histogram2dcontour\"}], \"mesh3d\": [{\"colorbar\": {\"outlinewidth\": 0, \"ticks\": \"\"}, \"type\": \"mesh3d\"}], \"parcoords\": [{\"line\": {\"colorbar\": {\"outlinewidth\": 0, \"ticks\": \"\"}}, \"type\": \"parcoords\"}], \"pie\": [{\"automargin\": true, \"type\": \"pie\"}], \"scatter\": [{\"marker\": {\"colorbar\": {\"outlinewidth\": 0, \"ticks\": \"\"}}, \"type\": \"scatter\"}], \"scatter3d\": [{\"line\": {\"colorbar\": {\"outlinewidth\": 0, \"ticks\": \"\"}}, \"marker\": {\"colorbar\": {\"outlinewidth\": 0, \"ticks\": \"\"}}, \"type\": \"scatter3d\"}], \"scattercarpet\": [{\"marker\": {\"colorbar\": {\"outlinewidth\": 0, \"ticks\": \"\"}}, \"type\": \"scattercarpet\"}], \"scattergeo\": [{\"marker\": {\"colorbar\": {\"outlinewidth\": 0, \"ticks\": \"\"}}, \"type\": \"scattergeo\"}], \"scattergl\": [{\"marker\": {\"colorbar\": {\"outlinewidth\": 0, \"ticks\": \"\"}}, \"type\": \"scattergl\"}], \"scattermapbox\": [{\"marker\": {\"colorbar\": {\"outlinewidth\": 0, \"ticks\": \"\"}}, \"type\": \"scattermapbox\"}], \"scatterpolar\": [{\"marker\": {\"colorbar\": {\"outlinewidth\": 0, \"ticks\": \"\"}}, \"type\": \"scatterpolar\"}], \"scatterpolargl\": [{\"marker\": {\"colorbar\": {\"outlinewidth\": 0, \"ticks\": \"\"}}, \"type\": \"scatterpolargl\"}], \"scatterternary\": [{\"marker\": {\"colorbar\": {\"outlinewidth\": 0, \"ticks\": \"\"}}, \"type\": \"scatterternary\"}], \"surface\": [{\"colorbar\": {\"outlinewidth\": 0, \"ticks\": \"\"}, \"colorscale\": [[0.0, \"#0d0887\"], [0.1111111111111111, \"#46039f\"], [0.2222222222222222, \"#7201a8\"], [0.3333333333333333, \"#9c179e\"], [0.4444444444444444, \"#bd3786\"], [0.5555555555555556, \"#d8576b\"], [0.6666666666666666, \"#ed7953\"], [0.7777777777777778, \"#fb9f3a\"], [0.8888888888888888, \"#fdca26\"], [1.0, \"#f0f921\"]], \"type\": \"surface\"}], \"table\": [{\"cells\": {\"fill\": {\"color\": \"#EBF0F8\"}, \"line\": {\"color\": \"white\"}}, \"header\": {\"fill\": {\"color\": \"#C8D4E3\"}, \"line\": {\"color\": \"white\"}}, \"type\": \"table\"}]}, \"layout\": {\"annotationdefaults\": {\"arrowcolor\": \"#2a3f5f\", \"arrowhead\": 0, \"arrowwidth\": 1}, \"coloraxis\": {\"colorbar\": {\"outlinewidth\": 0, \"ticks\": \"\"}}, \"colorscale\": {\"diverging\": [[0, \"#8e0152\"], [0.1, \"#c51b7d\"], [0.2, \"#de77ae\"], [0.3, \"#f1b6da\"], [0.4, \"#fde0ef\"], [0.5, \"#f7f7f7\"], [0.6, \"#e6f5d0\"], [0.7, \"#b8e186\"], [0.8, \"#7fbc41\"], [0.9, \"#4d9221\"], [1, \"#276419\"]], \"sequential\": [[0.0, \"#0d0887\"], [0.1111111111111111, \"#46039f\"], [0.2222222222222222, \"#7201a8\"], [0.3333333333333333, \"#9c179e\"], [0.4444444444444444, \"#bd3786\"], [0.5555555555555556, \"#d8576b\"], [0.6666666666666666, \"#ed7953\"], [0.7777777777777778, \"#fb9f3a\"], [0.8888888888888888, \"#fdca26\"], [1.0, \"#f0f921\"]], \"sequentialminus\": [[0.0, \"#0d0887\"], [0.1111111111111111, \"#46039f\"], [0.2222222222222222, \"#7201a8\"], [0.3333333333333333, \"#9c179e\"], [0.4444444444444444, \"#bd3786\"], [0.5555555555555556, \"#d8576b\"], [0.6666666666666666, \"#ed7953\"], [0.7777777777777778, \"#fb9f3a\"], [0.8888888888888888, \"#fdca26\"], [1.0, \"#f0f921\"]]}, \"colorway\": [\"#636efa\", \"#EF553B\", \"#00cc96\", \"#ab63fa\", \"#FFA15A\", \"#19d3f3\", \"#FF6692\", \"#B6E880\", \"#FF97FF\", \"#FECB52\"], \"font\": {\"color\": \"#2a3f5f\"}, \"geo\": {\"bgcolor\": \"white\", \"lakecolor\": \"white\", \"landcolor\": \"#E5ECF6\", \"showlakes\": true, \"showland\": true, \"subunitcolor\": \"white\"}, \"hoverlabel\": {\"align\": \"left\"}, \"hovermode\": \"closest\", \"mapbox\": {\"style\": \"light\"}, \"paper_bgcolor\": \"white\", \"plot_bgcolor\": \"#E5ECF6\", \"polar\": {\"angularaxis\": {\"gridcolor\": \"white\", \"linecolor\": \"white\", \"ticks\": \"\"}, \"bgcolor\": \"#E5ECF6\", \"radialaxis\": {\"gridcolor\": \"white\", \"linecolor\": \"white\", \"ticks\": \"\"}}, \"scene\": {\"xaxis\": {\"backgroundcolor\": \"#E5ECF6\", \"gridcolor\": \"white\", \"gridwidth\": 2, \"linecolor\": \"white\", \"showbackground\": true, \"ticks\": \"\", \"zerolinecolor\": \"white\"}, \"yaxis\": {\"backgroundcolor\": \"#E5ECF6\", \"gridcolor\": \"white\", \"gridwidth\": 2, \"linecolor\": \"white\", \"showbackground\": true, \"ticks\": \"\", \"zerolinecolor\": \"white\"}, \"zaxis\": {\"backgroundcolor\": \"#E5ECF6\", \"gridcolor\": \"white\", \"gridwidth\": 2, \"linecolor\": \"white\", \"showbackground\": true, \"ticks\": \"\", \"zerolinecolor\": \"white\"}}, \"shapedefaults\": {\"line\": {\"color\": \"#2a3f5f\"}}, \"ternary\": {\"aaxis\": {\"gridcolor\": \"white\", \"linecolor\": \"white\", \"ticks\": \"\"}, \"baxis\": {\"gridcolor\": \"white\", \"linecolor\": \"white\", \"ticks\": \"\"}, \"bgcolor\": \"#E5ECF6\", \"caxis\": {\"gridcolor\": \"white\", \"linecolor\": \"white\", \"ticks\": \"\"}}, \"title\": {\"x\": 0.05}, \"xaxis\": {\"automargin\": true, \"gridcolor\": \"white\", \"linecolor\": \"white\", \"ticks\": \"\", \"title\": {\"standoff\": 15}, \"zerolinecolor\": \"white\", \"zerolinewidth\": 2}, \"yaxis\": {\"automargin\": true, \"gridcolor\": \"white\", \"linecolor\": \"white\", \"ticks\": \"\", \"title\": {\"standoff\": 15}, \"zerolinecolor\": \"white\", \"zerolinewidth\": 2}}}},\n",
       "                        {\"responsive\": true}\n",
       "                    ).then(function(){\n",
       "                            \n",
       "var gd = document.getElementById('3206f801-1610-4fe3-afa2-d9c35a40dfc7');\n",
       "var x = new MutationObserver(function (mutations, observer) {{\n",
       "        var display = window.getComputedStyle(gd).display;\n",
       "        if (!display || display === 'none') {{\n",
       "            console.log([gd, 'removed!']);\n",
       "            Plotly.purge(gd);\n",
       "            observer.disconnect();\n",
       "        }}\n",
       "}});\n",
       "\n",
       "// Listen for the removal of the full notebook cells\n",
       "var notebookContainer = gd.closest('#notebook-container');\n",
       "if (notebookContainer) {{\n",
       "    x.observe(notebookContainer, {childList: true});\n",
       "}}\n",
       "\n",
       "// Listen for the clearing of the current output cell\n",
       "var outputEl = gd.closest('.output');\n",
       "if (outputEl) {{\n",
       "    x.observe(outputEl, {childList: true});\n",
       "}}\n",
       "\n",
       "                        })\n",
       "                };\n",
       "                });\n",
       "            </script>\n",
       "        </div>"
      ]
     },
     "metadata": {},
     "output_type": "display_data"
    },
    {
     "data": {
      "application/vnd.plotly.v1+json": {
       "config": {
        "plotlyServerURL": "https://plot.ly"
       },
       "data": [
        {
         "name": "known issuer",
         "type": "bar",
         "x": [
          "AUD"
         ],
         "y": [
          0
         ]
        },
        {
         "name": "unknown issuer",
         "type": "bar",
         "x": [
          "AUD"
         ],
         "y": [
          3665443.5799999996
         ]
        }
       ],
       "layout": {
        "barmode": "stack",
        "template": {
         "data": {
          "bar": [
           {
            "error_x": {
             "color": "#2a3f5f"
            },
            "error_y": {
             "color": "#2a3f5f"
            },
            "marker": {
             "line": {
              "color": "#E5ECF6",
              "width": 0.5
             }
            },
            "type": "bar"
           }
          ],
          "barpolar": [
           {
            "marker": {
             "line": {
              "color": "#E5ECF6",
              "width": 0.5
             }
            },
            "type": "barpolar"
           }
          ],
          "carpet": [
           {
            "aaxis": {
             "endlinecolor": "#2a3f5f",
             "gridcolor": "white",
             "linecolor": "white",
             "minorgridcolor": "white",
             "startlinecolor": "#2a3f5f"
            },
            "baxis": {
             "endlinecolor": "#2a3f5f",
             "gridcolor": "white",
             "linecolor": "white",
             "minorgridcolor": "white",
             "startlinecolor": "#2a3f5f"
            },
            "type": "carpet"
           }
          ],
          "choropleth": [
           {
            "colorbar": {
             "outlinewidth": 0,
             "ticks": ""
            },
            "type": "choropleth"
           }
          ],
          "contour": [
           {
            "colorbar": {
             "outlinewidth": 0,
             "ticks": ""
            },
            "colorscale": [
             [
              0,
              "#0d0887"
             ],
             [
              0.1111111111111111,
              "#46039f"
             ],
             [
              0.2222222222222222,
              "#7201a8"
             ],
             [
              0.3333333333333333,
              "#9c179e"
             ],
             [
              0.4444444444444444,
              "#bd3786"
             ],
             [
              0.5555555555555556,
              "#d8576b"
             ],
             [
              0.6666666666666666,
              "#ed7953"
             ],
             [
              0.7777777777777778,
              "#fb9f3a"
             ],
             [
              0.8888888888888888,
              "#fdca26"
             ],
             [
              1,
              "#f0f921"
             ]
            ],
            "type": "contour"
           }
          ],
          "contourcarpet": [
           {
            "colorbar": {
             "outlinewidth": 0,
             "ticks": ""
            },
            "type": "contourcarpet"
           }
          ],
          "heatmap": [
           {
            "colorbar": {
             "outlinewidth": 0,
             "ticks": ""
            },
            "colorscale": [
             [
              0,
              "#0d0887"
             ],
             [
              0.1111111111111111,
              "#46039f"
             ],
             [
              0.2222222222222222,
              "#7201a8"
             ],
             [
              0.3333333333333333,
              "#9c179e"
             ],
             [
              0.4444444444444444,
              "#bd3786"
             ],
             [
              0.5555555555555556,
              "#d8576b"
             ],
             [
              0.6666666666666666,
              "#ed7953"
             ],
             [
              0.7777777777777778,
              "#fb9f3a"
             ],
             [
              0.8888888888888888,
              "#fdca26"
             ],
             [
              1,
              "#f0f921"
             ]
            ],
            "type": "heatmap"
           }
          ],
          "heatmapgl": [
           {
            "colorbar": {
             "outlinewidth": 0,
             "ticks": ""
            },
            "colorscale": [
             [
              0,
              "#0d0887"
             ],
             [
              0.1111111111111111,
              "#46039f"
             ],
             [
              0.2222222222222222,
              "#7201a8"
             ],
             [
              0.3333333333333333,
              "#9c179e"
             ],
             [
              0.4444444444444444,
              "#bd3786"
             ],
             [
              0.5555555555555556,
              "#d8576b"
             ],
             [
              0.6666666666666666,
              "#ed7953"
             ],
             [
              0.7777777777777778,
              "#fb9f3a"
             ],
             [
              0.8888888888888888,
              "#fdca26"
             ],
             [
              1,
              "#f0f921"
             ]
            ],
            "type": "heatmapgl"
           }
          ],
          "histogram": [
           {
            "marker": {
             "colorbar": {
              "outlinewidth": 0,
              "ticks": ""
             }
            },
            "type": "histogram"
           }
          ],
          "histogram2d": [
           {
            "colorbar": {
             "outlinewidth": 0,
             "ticks": ""
            },
            "colorscale": [
             [
              0,
              "#0d0887"
             ],
             [
              0.1111111111111111,
              "#46039f"
             ],
             [
              0.2222222222222222,
              "#7201a8"
             ],
             [
              0.3333333333333333,
              "#9c179e"
             ],
             [
              0.4444444444444444,
              "#bd3786"
             ],
             [
              0.5555555555555556,
              "#d8576b"
             ],
             [
              0.6666666666666666,
              "#ed7953"
             ],
             [
              0.7777777777777778,
              "#fb9f3a"
             ],
             [
              0.8888888888888888,
              "#fdca26"
             ],
             [
              1,
              "#f0f921"
             ]
            ],
            "type": "histogram2d"
           }
          ],
          "histogram2dcontour": [
           {
            "colorbar": {
             "outlinewidth": 0,
             "ticks": ""
            },
            "colorscale": [
             [
              0,
              "#0d0887"
             ],
             [
              0.1111111111111111,
              "#46039f"
             ],
             [
              0.2222222222222222,
              "#7201a8"
             ],
             [
              0.3333333333333333,
              "#9c179e"
             ],
             [
              0.4444444444444444,
              "#bd3786"
             ],
             [
              0.5555555555555556,
              "#d8576b"
             ],
             [
              0.6666666666666666,
              "#ed7953"
             ],
             [
              0.7777777777777778,
              "#fb9f3a"
             ],
             [
              0.8888888888888888,
              "#fdca26"
             ],
             [
              1,
              "#f0f921"
             ]
            ],
            "type": "histogram2dcontour"
           }
          ],
          "mesh3d": [
           {
            "colorbar": {
             "outlinewidth": 0,
             "ticks": ""
            },
            "type": "mesh3d"
           }
          ],
          "parcoords": [
           {
            "line": {
             "colorbar": {
              "outlinewidth": 0,
              "ticks": ""
             }
            },
            "type": "parcoords"
           }
          ],
          "pie": [
           {
            "automargin": true,
            "type": "pie"
           }
          ],
          "scatter": [
           {
            "marker": {
             "colorbar": {
              "outlinewidth": 0,
              "ticks": ""
             }
            },
            "type": "scatter"
           }
          ],
          "scatter3d": [
           {
            "line": {
             "colorbar": {
              "outlinewidth": 0,
              "ticks": ""
             }
            },
            "marker": {
             "colorbar": {
              "outlinewidth": 0,
              "ticks": ""
             }
            },
            "type": "scatter3d"
           }
          ],
          "scattercarpet": [
           {
            "marker": {
             "colorbar": {
              "outlinewidth": 0,
              "ticks": ""
             }
            },
            "type": "scattercarpet"
           }
          ],
          "scattergeo": [
           {
            "marker": {
             "colorbar": {
              "outlinewidth": 0,
              "ticks": ""
             }
            },
            "type": "scattergeo"
           }
          ],
          "scattergl": [
           {
            "marker": {
             "colorbar": {
              "outlinewidth": 0,
              "ticks": ""
             }
            },
            "type": "scattergl"
           }
          ],
          "scattermapbox": [
           {
            "marker": {
             "colorbar": {
              "outlinewidth": 0,
              "ticks": ""
             }
            },
            "type": "scattermapbox"
           }
          ],
          "scatterpolar": [
           {
            "marker": {
             "colorbar": {
              "outlinewidth": 0,
              "ticks": ""
             }
            },
            "type": "scatterpolar"
           }
          ],
          "scatterpolargl": [
           {
            "marker": {
             "colorbar": {
              "outlinewidth": 0,
              "ticks": ""
             }
            },
            "type": "scatterpolargl"
           }
          ],
          "scatterternary": [
           {
            "marker": {
             "colorbar": {
              "outlinewidth": 0,
              "ticks": ""
             }
            },
            "type": "scatterternary"
           }
          ],
          "surface": [
           {
            "colorbar": {
             "outlinewidth": 0,
             "ticks": ""
            },
            "colorscale": [
             [
              0,
              "#0d0887"
             ],
             [
              0.1111111111111111,
              "#46039f"
             ],
             [
              0.2222222222222222,
              "#7201a8"
             ],
             [
              0.3333333333333333,
              "#9c179e"
             ],
             [
              0.4444444444444444,
              "#bd3786"
             ],
             [
              0.5555555555555556,
              "#d8576b"
             ],
             [
              0.6666666666666666,
              "#ed7953"
             ],
             [
              0.7777777777777778,
              "#fb9f3a"
             ],
             [
              0.8888888888888888,
              "#fdca26"
             ],
             [
              1,
              "#f0f921"
             ]
            ],
            "type": "surface"
           }
          ],
          "table": [
           {
            "cells": {
             "fill": {
              "color": "#EBF0F8"
             },
             "line": {
              "color": "white"
             }
            },
            "header": {
             "fill": {
              "color": "#C8D4E3"
             },
             "line": {
              "color": "white"
             }
            },
            "type": "table"
           }
          ]
         },
         "layout": {
          "annotationdefaults": {
           "arrowcolor": "#2a3f5f",
           "arrowhead": 0,
           "arrowwidth": 1
          },
          "coloraxis": {
           "colorbar": {
            "outlinewidth": 0,
            "ticks": ""
           }
          },
          "colorscale": {
           "diverging": [
            [
             0,
             "#8e0152"
            ],
            [
             0.1,
             "#c51b7d"
            ],
            [
             0.2,
             "#de77ae"
            ],
            [
             0.3,
             "#f1b6da"
            ],
            [
             0.4,
             "#fde0ef"
            ],
            [
             0.5,
             "#f7f7f7"
            ],
            [
             0.6,
             "#e6f5d0"
            ],
            [
             0.7,
             "#b8e186"
            ],
            [
             0.8,
             "#7fbc41"
            ],
            [
             0.9,
             "#4d9221"
            ],
            [
             1,
             "#276419"
            ]
           ],
           "sequential": [
            [
             0,
             "#0d0887"
            ],
            [
             0.1111111111111111,
             "#46039f"
            ],
            [
             0.2222222222222222,
             "#7201a8"
            ],
            [
             0.3333333333333333,
             "#9c179e"
            ],
            [
             0.4444444444444444,
             "#bd3786"
            ],
            [
             0.5555555555555556,
             "#d8576b"
            ],
            [
             0.6666666666666666,
             "#ed7953"
            ],
            [
             0.7777777777777778,
             "#fb9f3a"
            ],
            [
             0.8888888888888888,
             "#fdca26"
            ],
            [
             1,
             "#f0f921"
            ]
           ],
           "sequentialminus": [
            [
             0,
             "#0d0887"
            ],
            [
             0.1111111111111111,
             "#46039f"
            ],
            [
             0.2222222222222222,
             "#7201a8"
            ],
            [
             0.3333333333333333,
             "#9c179e"
            ],
            [
             0.4444444444444444,
             "#bd3786"
            ],
            [
             0.5555555555555556,
             "#d8576b"
            ],
            [
             0.6666666666666666,
             "#ed7953"
            ],
            [
             0.7777777777777778,
             "#fb9f3a"
            ],
            [
             0.8888888888888888,
             "#fdca26"
            ],
            [
             1,
             "#f0f921"
            ]
           ]
          },
          "colorway": [
           "#636efa",
           "#EF553B",
           "#00cc96",
           "#ab63fa",
           "#FFA15A",
           "#19d3f3",
           "#FF6692",
           "#B6E880",
           "#FF97FF",
           "#FECB52"
          ],
          "font": {
           "color": "#2a3f5f"
          },
          "geo": {
           "bgcolor": "white",
           "lakecolor": "white",
           "landcolor": "#E5ECF6",
           "showlakes": true,
           "showland": true,
           "subunitcolor": "white"
          },
          "hoverlabel": {
           "align": "left"
          },
          "hovermode": "closest",
          "mapbox": {
           "style": "light"
          },
          "paper_bgcolor": "white",
          "plot_bgcolor": "#E5ECF6",
          "polar": {
           "angularaxis": {
            "gridcolor": "white",
            "linecolor": "white",
            "ticks": ""
           },
           "bgcolor": "#E5ECF6",
           "radialaxis": {
            "gridcolor": "white",
            "linecolor": "white",
            "ticks": ""
           }
          },
          "scene": {
           "xaxis": {
            "backgroundcolor": "#E5ECF6",
            "gridcolor": "white",
            "gridwidth": 2,
            "linecolor": "white",
            "showbackground": true,
            "ticks": "",
            "zerolinecolor": "white"
           },
           "yaxis": {
            "backgroundcolor": "#E5ECF6",
            "gridcolor": "white",
            "gridwidth": 2,
            "linecolor": "white",
            "showbackground": true,
            "ticks": "",
            "zerolinecolor": "white"
           },
           "zaxis": {
            "backgroundcolor": "#E5ECF6",
            "gridcolor": "white",
            "gridwidth": 2,
            "linecolor": "white",
            "showbackground": true,
            "ticks": "",
            "zerolinecolor": "white"
           }
          },
          "shapedefaults": {
           "line": {
            "color": "#2a3f5f"
           }
          },
          "ternary": {
           "aaxis": {
            "gridcolor": "white",
            "linecolor": "white",
            "ticks": ""
           },
           "baxis": {
            "gridcolor": "white",
            "linecolor": "white",
            "ticks": ""
           },
           "bgcolor": "#E5ECF6",
           "caxis": {
            "gridcolor": "white",
            "linecolor": "white",
            "ticks": ""
           }
          },
          "title": {
           "x": 0.05
          },
          "xaxis": {
           "automargin": true,
           "gridcolor": "white",
           "linecolor": "white",
           "ticks": "",
           "title": {
            "standoff": 15
           },
           "zerolinecolor": "white",
           "zerolinewidth": 2
          },
          "yaxis": {
           "automargin": true,
           "gridcolor": "white",
           "linecolor": "white",
           "ticks": "",
           "title": {
            "standoff": 15
           },
           "zerolinecolor": "white",
           "zerolinewidth": 2
          }
         }
        }
       }
      },
      "text/html": [
       "<div>\n",
       "        \n",
       "        \n",
       "            <div id=\"cbf261cd-8fb2-4790-b530-e9f58aeb3e21\" class=\"plotly-graph-div\" style=\"height:525px; width:100%;\"></div>\n",
       "            <script type=\"text/javascript\">\n",
       "                require([\"plotly\"], function(Plotly) {\n",
       "                    window.PLOTLYENV=window.PLOTLYENV || {};\n",
       "                    \n",
       "                if (document.getElementById(\"cbf261cd-8fb2-4790-b530-e9f58aeb3e21\")) {\n",
       "                    Plotly.newPlot(\n",
       "                        'cbf261cd-8fb2-4790-b530-e9f58aeb3e21',\n",
       "                        [{\"name\": \"known issuer\", \"type\": \"bar\", \"x\": [\"AUD\"], \"y\": [0.0]}, {\"name\": \"unknown issuer\", \"type\": \"bar\", \"x\": [\"AUD\"], \"y\": [3665443.5799999996]}],\n",
       "                        {\"barmode\": \"stack\", \"template\": {\"data\": {\"bar\": [{\"error_x\": {\"color\": \"#2a3f5f\"}, \"error_y\": {\"color\": \"#2a3f5f\"}, \"marker\": {\"line\": {\"color\": \"#E5ECF6\", \"width\": 0.5}}, \"type\": \"bar\"}], \"barpolar\": [{\"marker\": {\"line\": {\"color\": \"#E5ECF6\", \"width\": 0.5}}, \"type\": \"barpolar\"}], \"carpet\": [{\"aaxis\": {\"endlinecolor\": \"#2a3f5f\", \"gridcolor\": \"white\", \"linecolor\": \"white\", \"minorgridcolor\": \"white\", \"startlinecolor\": \"#2a3f5f\"}, \"baxis\": {\"endlinecolor\": \"#2a3f5f\", \"gridcolor\": \"white\", \"linecolor\": \"white\", \"minorgridcolor\": \"white\", \"startlinecolor\": \"#2a3f5f\"}, \"type\": \"carpet\"}], \"choropleth\": [{\"colorbar\": {\"outlinewidth\": 0, \"ticks\": \"\"}, \"type\": \"choropleth\"}], \"contour\": [{\"colorbar\": {\"outlinewidth\": 0, \"ticks\": \"\"}, \"colorscale\": [[0.0, \"#0d0887\"], [0.1111111111111111, \"#46039f\"], [0.2222222222222222, \"#7201a8\"], [0.3333333333333333, \"#9c179e\"], [0.4444444444444444, \"#bd3786\"], [0.5555555555555556, \"#d8576b\"], [0.6666666666666666, \"#ed7953\"], [0.7777777777777778, \"#fb9f3a\"], [0.8888888888888888, \"#fdca26\"], [1.0, \"#f0f921\"]], \"type\": \"contour\"}], \"contourcarpet\": [{\"colorbar\": {\"outlinewidth\": 0, \"ticks\": \"\"}, \"type\": \"contourcarpet\"}], \"heatmap\": [{\"colorbar\": {\"outlinewidth\": 0, \"ticks\": \"\"}, \"colorscale\": [[0.0, \"#0d0887\"], [0.1111111111111111, \"#46039f\"], [0.2222222222222222, \"#7201a8\"], [0.3333333333333333, \"#9c179e\"], [0.4444444444444444, \"#bd3786\"], [0.5555555555555556, \"#d8576b\"], [0.6666666666666666, \"#ed7953\"], [0.7777777777777778, \"#fb9f3a\"], [0.8888888888888888, \"#fdca26\"], [1.0, \"#f0f921\"]], \"type\": \"heatmap\"}], \"heatmapgl\": [{\"colorbar\": {\"outlinewidth\": 0, \"ticks\": \"\"}, \"colorscale\": [[0.0, \"#0d0887\"], [0.1111111111111111, \"#46039f\"], [0.2222222222222222, \"#7201a8\"], [0.3333333333333333, \"#9c179e\"], [0.4444444444444444, \"#bd3786\"], [0.5555555555555556, \"#d8576b\"], [0.6666666666666666, \"#ed7953\"], [0.7777777777777778, \"#fb9f3a\"], [0.8888888888888888, \"#fdca26\"], [1.0, \"#f0f921\"]], \"type\": \"heatmapgl\"}], \"histogram\": [{\"marker\": {\"colorbar\": {\"outlinewidth\": 0, \"ticks\": \"\"}}, \"type\": \"histogram\"}], \"histogram2d\": [{\"colorbar\": {\"outlinewidth\": 0, \"ticks\": \"\"}, \"colorscale\": [[0.0, \"#0d0887\"], [0.1111111111111111, \"#46039f\"], [0.2222222222222222, \"#7201a8\"], [0.3333333333333333, \"#9c179e\"], [0.4444444444444444, \"#bd3786\"], [0.5555555555555556, \"#d8576b\"], [0.6666666666666666, \"#ed7953\"], [0.7777777777777778, \"#fb9f3a\"], [0.8888888888888888, \"#fdca26\"], [1.0, \"#f0f921\"]], \"type\": \"histogram2d\"}], \"histogram2dcontour\": [{\"colorbar\": {\"outlinewidth\": 0, \"ticks\": \"\"}, \"colorscale\": [[0.0, \"#0d0887\"], [0.1111111111111111, \"#46039f\"], [0.2222222222222222, \"#7201a8\"], [0.3333333333333333, \"#9c179e\"], [0.4444444444444444, \"#bd3786\"], [0.5555555555555556, \"#d8576b\"], [0.6666666666666666, \"#ed7953\"], [0.7777777777777778, \"#fb9f3a\"], [0.8888888888888888, \"#fdca26\"], [1.0, \"#f0f921\"]], \"type\": \"histogram2dcontour\"}], \"mesh3d\": [{\"colorbar\": {\"outlinewidth\": 0, \"ticks\": \"\"}, \"type\": \"mesh3d\"}], \"parcoords\": [{\"line\": {\"colorbar\": {\"outlinewidth\": 0, \"ticks\": \"\"}}, \"type\": \"parcoords\"}], \"pie\": [{\"automargin\": true, \"type\": \"pie\"}], \"scatter\": [{\"marker\": {\"colorbar\": {\"outlinewidth\": 0, \"ticks\": \"\"}}, \"type\": \"scatter\"}], \"scatter3d\": [{\"line\": {\"colorbar\": {\"outlinewidth\": 0, \"ticks\": \"\"}}, \"marker\": {\"colorbar\": {\"outlinewidth\": 0, \"ticks\": \"\"}}, \"type\": \"scatter3d\"}], \"scattercarpet\": [{\"marker\": {\"colorbar\": {\"outlinewidth\": 0, \"ticks\": \"\"}}, \"type\": \"scattercarpet\"}], \"scattergeo\": [{\"marker\": {\"colorbar\": {\"outlinewidth\": 0, \"ticks\": \"\"}}, \"type\": \"scattergeo\"}], \"scattergl\": [{\"marker\": {\"colorbar\": {\"outlinewidth\": 0, \"ticks\": \"\"}}, \"type\": \"scattergl\"}], \"scattermapbox\": [{\"marker\": {\"colorbar\": {\"outlinewidth\": 0, \"ticks\": \"\"}}, \"type\": \"scattermapbox\"}], \"scatterpolar\": [{\"marker\": {\"colorbar\": {\"outlinewidth\": 0, \"ticks\": \"\"}}, \"type\": \"scatterpolar\"}], \"scatterpolargl\": [{\"marker\": {\"colorbar\": {\"outlinewidth\": 0, \"ticks\": \"\"}}, \"type\": \"scatterpolargl\"}], \"scatterternary\": [{\"marker\": {\"colorbar\": {\"outlinewidth\": 0, \"ticks\": \"\"}}, \"type\": \"scatterternary\"}], \"surface\": [{\"colorbar\": {\"outlinewidth\": 0, \"ticks\": \"\"}, \"colorscale\": [[0.0, \"#0d0887\"], [0.1111111111111111, \"#46039f\"], [0.2222222222222222, \"#7201a8\"], [0.3333333333333333, \"#9c179e\"], [0.4444444444444444, \"#bd3786\"], [0.5555555555555556, \"#d8576b\"], [0.6666666666666666, \"#ed7953\"], [0.7777777777777778, \"#fb9f3a\"], [0.8888888888888888, \"#fdca26\"], [1.0, \"#f0f921\"]], \"type\": \"surface\"}], \"table\": [{\"cells\": {\"fill\": {\"color\": \"#EBF0F8\"}, \"line\": {\"color\": \"white\"}}, \"header\": {\"fill\": {\"color\": \"#C8D4E3\"}, \"line\": {\"color\": \"white\"}}, \"type\": \"table\"}]}, \"layout\": {\"annotationdefaults\": {\"arrowcolor\": \"#2a3f5f\", \"arrowhead\": 0, \"arrowwidth\": 1}, \"coloraxis\": {\"colorbar\": {\"outlinewidth\": 0, \"ticks\": \"\"}}, \"colorscale\": {\"diverging\": [[0, \"#8e0152\"], [0.1, \"#c51b7d\"], [0.2, \"#de77ae\"], [0.3, \"#f1b6da\"], [0.4, \"#fde0ef\"], [0.5, \"#f7f7f7\"], [0.6, \"#e6f5d0\"], [0.7, \"#b8e186\"], [0.8, \"#7fbc41\"], [0.9, \"#4d9221\"], [1, \"#276419\"]], \"sequential\": [[0.0, \"#0d0887\"], [0.1111111111111111, \"#46039f\"], [0.2222222222222222, \"#7201a8\"], [0.3333333333333333, \"#9c179e\"], [0.4444444444444444, \"#bd3786\"], [0.5555555555555556, \"#d8576b\"], [0.6666666666666666, \"#ed7953\"], [0.7777777777777778, \"#fb9f3a\"], [0.8888888888888888, \"#fdca26\"], [1.0, \"#f0f921\"]], \"sequentialminus\": [[0.0, \"#0d0887\"], [0.1111111111111111, \"#46039f\"], [0.2222222222222222, \"#7201a8\"], [0.3333333333333333, \"#9c179e\"], [0.4444444444444444, \"#bd3786\"], [0.5555555555555556, \"#d8576b\"], [0.6666666666666666, \"#ed7953\"], [0.7777777777777778, \"#fb9f3a\"], [0.8888888888888888, \"#fdca26\"], [1.0, \"#f0f921\"]]}, \"colorway\": [\"#636efa\", \"#EF553B\", \"#00cc96\", \"#ab63fa\", \"#FFA15A\", \"#19d3f3\", \"#FF6692\", \"#B6E880\", \"#FF97FF\", \"#FECB52\"], \"font\": {\"color\": \"#2a3f5f\"}, \"geo\": {\"bgcolor\": \"white\", \"lakecolor\": \"white\", \"landcolor\": \"#E5ECF6\", \"showlakes\": true, \"showland\": true, \"subunitcolor\": \"white\"}, \"hoverlabel\": {\"align\": \"left\"}, \"hovermode\": \"closest\", \"mapbox\": {\"style\": \"light\"}, \"paper_bgcolor\": \"white\", \"plot_bgcolor\": \"#E5ECF6\", \"polar\": {\"angularaxis\": {\"gridcolor\": \"white\", \"linecolor\": \"white\", \"ticks\": \"\"}, \"bgcolor\": \"#E5ECF6\", \"radialaxis\": {\"gridcolor\": \"white\", \"linecolor\": \"white\", \"ticks\": \"\"}}, \"scene\": {\"xaxis\": {\"backgroundcolor\": \"#E5ECF6\", \"gridcolor\": \"white\", \"gridwidth\": 2, \"linecolor\": \"white\", \"showbackground\": true, \"ticks\": \"\", \"zerolinecolor\": \"white\"}, \"yaxis\": {\"backgroundcolor\": \"#E5ECF6\", \"gridcolor\": \"white\", \"gridwidth\": 2, \"linecolor\": \"white\", \"showbackground\": true, \"ticks\": \"\", \"zerolinecolor\": \"white\"}, \"zaxis\": {\"backgroundcolor\": \"#E5ECF6\", \"gridcolor\": \"white\", \"gridwidth\": 2, \"linecolor\": \"white\", \"showbackground\": true, \"ticks\": \"\", \"zerolinecolor\": \"white\"}}, \"shapedefaults\": {\"line\": {\"color\": \"#2a3f5f\"}}, \"ternary\": {\"aaxis\": {\"gridcolor\": \"white\", \"linecolor\": \"white\", \"ticks\": \"\"}, \"baxis\": {\"gridcolor\": \"white\", \"linecolor\": \"white\", \"ticks\": \"\"}, \"bgcolor\": \"#E5ECF6\", \"caxis\": {\"gridcolor\": \"white\", \"linecolor\": \"white\", \"ticks\": \"\"}}, \"title\": {\"x\": 0.05}, \"xaxis\": {\"automargin\": true, \"gridcolor\": \"white\", \"linecolor\": \"white\", \"ticks\": \"\", \"title\": {\"standoff\": 15}, \"zerolinecolor\": \"white\", \"zerolinewidth\": 2}, \"yaxis\": {\"automargin\": true, \"gridcolor\": \"white\", \"linecolor\": \"white\", \"ticks\": \"\", \"title\": {\"standoff\": 15}, \"zerolinecolor\": \"white\", \"zerolinewidth\": 2}}}},\n",
       "                        {\"responsive\": true}\n",
       "                    ).then(function(){\n",
       "                            \n",
       "var gd = document.getElementById('cbf261cd-8fb2-4790-b530-e9f58aeb3e21');\n",
       "var x = new MutationObserver(function (mutations, observer) {{\n",
       "        var display = window.getComputedStyle(gd).display;\n",
       "        if (!display || display === 'none') {{\n",
       "            console.log([gd, 'removed!']);\n",
       "            Plotly.purge(gd);\n",
       "            observer.disconnect();\n",
       "        }}\n",
       "}});\n",
       "\n",
       "// Listen for the removal of the full notebook cells\n",
       "var notebookContainer = gd.closest('#notebook-container');\n",
       "if (notebookContainer) {{\n",
       "    x.observe(notebookContainer, {childList: true});\n",
       "}}\n",
       "\n",
       "// Listen for the clearing of the current output cell\n",
       "var outputEl = gd.closest('.output');\n",
       "if (outputEl) {{\n",
       "    x.observe(outputEl, {childList: true});\n",
       "}}\n",
       "\n",
       "                        })\n",
       "                };\n",
       "                });\n",
       "            </script>\n",
       "        </div>"
      ]
     },
     "metadata": {},
     "output_type": "display_data"
    },
    {
     "data": {
      "application/vnd.plotly.v1+json": {
       "config": {
        "plotlyServerURL": "https://plot.ly"
       },
       "data": [
        {
         "name": "known issuer",
         "type": "bar",
         "x": [
          "BTC"
         ],
         "y": [
          21.24364833140581
         ]
        },
        {
         "name": "unknown issuer",
         "type": "bar",
         "x": [
          "BTC"
         ],
         "y": [
          91514600.3514631
         ]
        }
       ],
       "layout": {
        "barmode": "stack",
        "template": {
         "data": {
          "bar": [
           {
            "error_x": {
             "color": "#2a3f5f"
            },
            "error_y": {
             "color": "#2a3f5f"
            },
            "marker": {
             "line": {
              "color": "#E5ECF6",
              "width": 0.5
             }
            },
            "type": "bar"
           }
          ],
          "barpolar": [
           {
            "marker": {
             "line": {
              "color": "#E5ECF6",
              "width": 0.5
             }
            },
            "type": "barpolar"
           }
          ],
          "carpet": [
           {
            "aaxis": {
             "endlinecolor": "#2a3f5f",
             "gridcolor": "white",
             "linecolor": "white",
             "minorgridcolor": "white",
             "startlinecolor": "#2a3f5f"
            },
            "baxis": {
             "endlinecolor": "#2a3f5f",
             "gridcolor": "white",
             "linecolor": "white",
             "minorgridcolor": "white",
             "startlinecolor": "#2a3f5f"
            },
            "type": "carpet"
           }
          ],
          "choropleth": [
           {
            "colorbar": {
             "outlinewidth": 0,
             "ticks": ""
            },
            "type": "choropleth"
           }
          ],
          "contour": [
           {
            "colorbar": {
             "outlinewidth": 0,
             "ticks": ""
            },
            "colorscale": [
             [
              0,
              "#0d0887"
             ],
             [
              0.1111111111111111,
              "#46039f"
             ],
             [
              0.2222222222222222,
              "#7201a8"
             ],
             [
              0.3333333333333333,
              "#9c179e"
             ],
             [
              0.4444444444444444,
              "#bd3786"
             ],
             [
              0.5555555555555556,
              "#d8576b"
             ],
             [
              0.6666666666666666,
              "#ed7953"
             ],
             [
              0.7777777777777778,
              "#fb9f3a"
             ],
             [
              0.8888888888888888,
              "#fdca26"
             ],
             [
              1,
              "#f0f921"
             ]
            ],
            "type": "contour"
           }
          ],
          "contourcarpet": [
           {
            "colorbar": {
             "outlinewidth": 0,
             "ticks": ""
            },
            "type": "contourcarpet"
           }
          ],
          "heatmap": [
           {
            "colorbar": {
             "outlinewidth": 0,
             "ticks": ""
            },
            "colorscale": [
             [
              0,
              "#0d0887"
             ],
             [
              0.1111111111111111,
              "#46039f"
             ],
             [
              0.2222222222222222,
              "#7201a8"
             ],
             [
              0.3333333333333333,
              "#9c179e"
             ],
             [
              0.4444444444444444,
              "#bd3786"
             ],
             [
              0.5555555555555556,
              "#d8576b"
             ],
             [
              0.6666666666666666,
              "#ed7953"
             ],
             [
              0.7777777777777778,
              "#fb9f3a"
             ],
             [
              0.8888888888888888,
              "#fdca26"
             ],
             [
              1,
              "#f0f921"
             ]
            ],
            "type": "heatmap"
           }
          ],
          "heatmapgl": [
           {
            "colorbar": {
             "outlinewidth": 0,
             "ticks": ""
            },
            "colorscale": [
             [
              0,
              "#0d0887"
             ],
             [
              0.1111111111111111,
              "#46039f"
             ],
             [
              0.2222222222222222,
              "#7201a8"
             ],
             [
              0.3333333333333333,
              "#9c179e"
             ],
             [
              0.4444444444444444,
              "#bd3786"
             ],
             [
              0.5555555555555556,
              "#d8576b"
             ],
             [
              0.6666666666666666,
              "#ed7953"
             ],
             [
              0.7777777777777778,
              "#fb9f3a"
             ],
             [
              0.8888888888888888,
              "#fdca26"
             ],
             [
              1,
              "#f0f921"
             ]
            ],
            "type": "heatmapgl"
           }
          ],
          "histogram": [
           {
            "marker": {
             "colorbar": {
              "outlinewidth": 0,
              "ticks": ""
             }
            },
            "type": "histogram"
           }
          ],
          "histogram2d": [
           {
            "colorbar": {
             "outlinewidth": 0,
             "ticks": ""
            },
            "colorscale": [
             [
              0,
              "#0d0887"
             ],
             [
              0.1111111111111111,
              "#46039f"
             ],
             [
              0.2222222222222222,
              "#7201a8"
             ],
             [
              0.3333333333333333,
              "#9c179e"
             ],
             [
              0.4444444444444444,
              "#bd3786"
             ],
             [
              0.5555555555555556,
              "#d8576b"
             ],
             [
              0.6666666666666666,
              "#ed7953"
             ],
             [
              0.7777777777777778,
              "#fb9f3a"
             ],
             [
              0.8888888888888888,
              "#fdca26"
             ],
             [
              1,
              "#f0f921"
             ]
            ],
            "type": "histogram2d"
           }
          ],
          "histogram2dcontour": [
           {
            "colorbar": {
             "outlinewidth": 0,
             "ticks": ""
            },
            "colorscale": [
             [
              0,
              "#0d0887"
             ],
             [
              0.1111111111111111,
              "#46039f"
             ],
             [
              0.2222222222222222,
              "#7201a8"
             ],
             [
              0.3333333333333333,
              "#9c179e"
             ],
             [
              0.4444444444444444,
              "#bd3786"
             ],
             [
              0.5555555555555556,
              "#d8576b"
             ],
             [
              0.6666666666666666,
              "#ed7953"
             ],
             [
              0.7777777777777778,
              "#fb9f3a"
             ],
             [
              0.8888888888888888,
              "#fdca26"
             ],
             [
              1,
              "#f0f921"
             ]
            ],
            "type": "histogram2dcontour"
           }
          ],
          "mesh3d": [
           {
            "colorbar": {
             "outlinewidth": 0,
             "ticks": ""
            },
            "type": "mesh3d"
           }
          ],
          "parcoords": [
           {
            "line": {
             "colorbar": {
              "outlinewidth": 0,
              "ticks": ""
             }
            },
            "type": "parcoords"
           }
          ],
          "pie": [
           {
            "automargin": true,
            "type": "pie"
           }
          ],
          "scatter": [
           {
            "marker": {
             "colorbar": {
              "outlinewidth": 0,
              "ticks": ""
             }
            },
            "type": "scatter"
           }
          ],
          "scatter3d": [
           {
            "line": {
             "colorbar": {
              "outlinewidth": 0,
              "ticks": ""
             }
            },
            "marker": {
             "colorbar": {
              "outlinewidth": 0,
              "ticks": ""
             }
            },
            "type": "scatter3d"
           }
          ],
          "scattercarpet": [
           {
            "marker": {
             "colorbar": {
              "outlinewidth": 0,
              "ticks": ""
             }
            },
            "type": "scattercarpet"
           }
          ],
          "scattergeo": [
           {
            "marker": {
             "colorbar": {
              "outlinewidth": 0,
              "ticks": ""
             }
            },
            "type": "scattergeo"
           }
          ],
          "scattergl": [
           {
            "marker": {
             "colorbar": {
              "outlinewidth": 0,
              "ticks": ""
             }
            },
            "type": "scattergl"
           }
          ],
          "scattermapbox": [
           {
            "marker": {
             "colorbar": {
              "outlinewidth": 0,
              "ticks": ""
             }
            },
            "type": "scattermapbox"
           }
          ],
          "scatterpolar": [
           {
            "marker": {
             "colorbar": {
              "outlinewidth": 0,
              "ticks": ""
             }
            },
            "type": "scatterpolar"
           }
          ],
          "scatterpolargl": [
           {
            "marker": {
             "colorbar": {
              "outlinewidth": 0,
              "ticks": ""
             }
            },
            "type": "scatterpolargl"
           }
          ],
          "scatterternary": [
           {
            "marker": {
             "colorbar": {
              "outlinewidth": 0,
              "ticks": ""
             }
            },
            "type": "scatterternary"
           }
          ],
          "surface": [
           {
            "colorbar": {
             "outlinewidth": 0,
             "ticks": ""
            },
            "colorscale": [
             [
              0,
              "#0d0887"
             ],
             [
              0.1111111111111111,
              "#46039f"
             ],
             [
              0.2222222222222222,
              "#7201a8"
             ],
             [
              0.3333333333333333,
              "#9c179e"
             ],
             [
              0.4444444444444444,
              "#bd3786"
             ],
             [
              0.5555555555555556,
              "#d8576b"
             ],
             [
              0.6666666666666666,
              "#ed7953"
             ],
             [
              0.7777777777777778,
              "#fb9f3a"
             ],
             [
              0.8888888888888888,
              "#fdca26"
             ],
             [
              1,
              "#f0f921"
             ]
            ],
            "type": "surface"
           }
          ],
          "table": [
           {
            "cells": {
             "fill": {
              "color": "#EBF0F8"
             },
             "line": {
              "color": "white"
             }
            },
            "header": {
             "fill": {
              "color": "#C8D4E3"
             },
             "line": {
              "color": "white"
             }
            },
            "type": "table"
           }
          ]
         },
         "layout": {
          "annotationdefaults": {
           "arrowcolor": "#2a3f5f",
           "arrowhead": 0,
           "arrowwidth": 1
          },
          "coloraxis": {
           "colorbar": {
            "outlinewidth": 0,
            "ticks": ""
           }
          },
          "colorscale": {
           "diverging": [
            [
             0,
             "#8e0152"
            ],
            [
             0.1,
             "#c51b7d"
            ],
            [
             0.2,
             "#de77ae"
            ],
            [
             0.3,
             "#f1b6da"
            ],
            [
             0.4,
             "#fde0ef"
            ],
            [
             0.5,
             "#f7f7f7"
            ],
            [
             0.6,
             "#e6f5d0"
            ],
            [
             0.7,
             "#b8e186"
            ],
            [
             0.8,
             "#7fbc41"
            ],
            [
             0.9,
             "#4d9221"
            ],
            [
             1,
             "#276419"
            ]
           ],
           "sequential": [
            [
             0,
             "#0d0887"
            ],
            [
             0.1111111111111111,
             "#46039f"
            ],
            [
             0.2222222222222222,
             "#7201a8"
            ],
            [
             0.3333333333333333,
             "#9c179e"
            ],
            [
             0.4444444444444444,
             "#bd3786"
            ],
            [
             0.5555555555555556,
             "#d8576b"
            ],
            [
             0.6666666666666666,
             "#ed7953"
            ],
            [
             0.7777777777777778,
             "#fb9f3a"
            ],
            [
             0.8888888888888888,
             "#fdca26"
            ],
            [
             1,
             "#f0f921"
            ]
           ],
           "sequentialminus": [
            [
             0,
             "#0d0887"
            ],
            [
             0.1111111111111111,
             "#46039f"
            ],
            [
             0.2222222222222222,
             "#7201a8"
            ],
            [
             0.3333333333333333,
             "#9c179e"
            ],
            [
             0.4444444444444444,
             "#bd3786"
            ],
            [
             0.5555555555555556,
             "#d8576b"
            ],
            [
             0.6666666666666666,
             "#ed7953"
            ],
            [
             0.7777777777777778,
             "#fb9f3a"
            ],
            [
             0.8888888888888888,
             "#fdca26"
            ],
            [
             1,
             "#f0f921"
            ]
           ]
          },
          "colorway": [
           "#636efa",
           "#EF553B",
           "#00cc96",
           "#ab63fa",
           "#FFA15A",
           "#19d3f3",
           "#FF6692",
           "#B6E880",
           "#FF97FF",
           "#FECB52"
          ],
          "font": {
           "color": "#2a3f5f"
          },
          "geo": {
           "bgcolor": "white",
           "lakecolor": "white",
           "landcolor": "#E5ECF6",
           "showlakes": true,
           "showland": true,
           "subunitcolor": "white"
          },
          "hoverlabel": {
           "align": "left"
          },
          "hovermode": "closest",
          "mapbox": {
           "style": "light"
          },
          "paper_bgcolor": "white",
          "plot_bgcolor": "#E5ECF6",
          "polar": {
           "angularaxis": {
            "gridcolor": "white",
            "linecolor": "white",
            "ticks": ""
           },
           "bgcolor": "#E5ECF6",
           "radialaxis": {
            "gridcolor": "white",
            "linecolor": "white",
            "ticks": ""
           }
          },
          "scene": {
           "xaxis": {
            "backgroundcolor": "#E5ECF6",
            "gridcolor": "white",
            "gridwidth": 2,
            "linecolor": "white",
            "showbackground": true,
            "ticks": "",
            "zerolinecolor": "white"
           },
           "yaxis": {
            "backgroundcolor": "#E5ECF6",
            "gridcolor": "white",
            "gridwidth": 2,
            "linecolor": "white",
            "showbackground": true,
            "ticks": "",
            "zerolinecolor": "white"
           },
           "zaxis": {
            "backgroundcolor": "#E5ECF6",
            "gridcolor": "white",
            "gridwidth": 2,
            "linecolor": "white",
            "showbackground": true,
            "ticks": "",
            "zerolinecolor": "white"
           }
          },
          "shapedefaults": {
           "line": {
            "color": "#2a3f5f"
           }
          },
          "ternary": {
           "aaxis": {
            "gridcolor": "white",
            "linecolor": "white",
            "ticks": ""
           },
           "baxis": {
            "gridcolor": "white",
            "linecolor": "white",
            "ticks": ""
           },
           "bgcolor": "#E5ECF6",
           "caxis": {
            "gridcolor": "white",
            "linecolor": "white",
            "ticks": ""
           }
          },
          "title": {
           "x": 0.05
          },
          "xaxis": {
           "automargin": true,
           "gridcolor": "white",
           "linecolor": "white",
           "ticks": "",
           "title": {
            "standoff": 15
           },
           "zerolinecolor": "white",
           "zerolinewidth": 2
          },
          "yaxis": {
           "automargin": true,
           "gridcolor": "white",
           "linecolor": "white",
           "ticks": "",
           "title": {
            "standoff": 15
           },
           "zerolinecolor": "white",
           "zerolinewidth": 2
          }
         }
        }
       }
      },
      "text/html": [
       "<div>\n",
       "        \n",
       "        \n",
       "            <div id=\"851e1a15-70d8-4042-9da4-8c2d151daa2e\" class=\"plotly-graph-div\" style=\"height:525px; width:100%;\"></div>\n",
       "            <script type=\"text/javascript\">\n",
       "                require([\"plotly\"], function(Plotly) {\n",
       "                    window.PLOTLYENV=window.PLOTLYENV || {};\n",
       "                    \n",
       "                if (document.getElementById(\"851e1a15-70d8-4042-9da4-8c2d151daa2e\")) {\n",
       "                    Plotly.newPlot(\n",
       "                        '851e1a15-70d8-4042-9da4-8c2d151daa2e',\n",
       "                        [{\"name\": \"known issuer\", \"type\": \"bar\", \"x\": [\"BTC\"], \"y\": [21.24364833140581]}, {\"name\": \"unknown issuer\", \"type\": \"bar\", \"x\": [\"BTC\"], \"y\": [91514600.3514631]}],\n",
       "                        {\"barmode\": \"stack\", \"template\": {\"data\": {\"bar\": [{\"error_x\": {\"color\": \"#2a3f5f\"}, \"error_y\": {\"color\": \"#2a3f5f\"}, \"marker\": {\"line\": {\"color\": \"#E5ECF6\", \"width\": 0.5}}, \"type\": \"bar\"}], \"barpolar\": [{\"marker\": {\"line\": {\"color\": \"#E5ECF6\", \"width\": 0.5}}, \"type\": \"barpolar\"}], \"carpet\": [{\"aaxis\": {\"endlinecolor\": \"#2a3f5f\", \"gridcolor\": \"white\", \"linecolor\": \"white\", \"minorgridcolor\": \"white\", \"startlinecolor\": \"#2a3f5f\"}, \"baxis\": {\"endlinecolor\": \"#2a3f5f\", \"gridcolor\": \"white\", \"linecolor\": \"white\", \"minorgridcolor\": \"white\", \"startlinecolor\": \"#2a3f5f\"}, \"type\": \"carpet\"}], \"choropleth\": [{\"colorbar\": {\"outlinewidth\": 0, \"ticks\": \"\"}, \"type\": \"choropleth\"}], \"contour\": [{\"colorbar\": {\"outlinewidth\": 0, \"ticks\": \"\"}, \"colorscale\": [[0.0, \"#0d0887\"], [0.1111111111111111, \"#46039f\"], [0.2222222222222222, \"#7201a8\"], [0.3333333333333333, \"#9c179e\"], [0.4444444444444444, \"#bd3786\"], [0.5555555555555556, \"#d8576b\"], [0.6666666666666666, \"#ed7953\"], [0.7777777777777778, \"#fb9f3a\"], [0.8888888888888888, \"#fdca26\"], [1.0, \"#f0f921\"]], \"type\": \"contour\"}], \"contourcarpet\": [{\"colorbar\": {\"outlinewidth\": 0, \"ticks\": \"\"}, \"type\": \"contourcarpet\"}], \"heatmap\": [{\"colorbar\": {\"outlinewidth\": 0, \"ticks\": \"\"}, \"colorscale\": [[0.0, \"#0d0887\"], [0.1111111111111111, \"#46039f\"], [0.2222222222222222, \"#7201a8\"], [0.3333333333333333, \"#9c179e\"], [0.4444444444444444, \"#bd3786\"], [0.5555555555555556, \"#d8576b\"], [0.6666666666666666, \"#ed7953\"], [0.7777777777777778, \"#fb9f3a\"], [0.8888888888888888, \"#fdca26\"], [1.0, \"#f0f921\"]], \"type\": \"heatmap\"}], \"heatmapgl\": [{\"colorbar\": {\"outlinewidth\": 0, \"ticks\": \"\"}, \"colorscale\": [[0.0, \"#0d0887\"], [0.1111111111111111, \"#46039f\"], [0.2222222222222222, \"#7201a8\"], [0.3333333333333333, \"#9c179e\"], [0.4444444444444444, \"#bd3786\"], [0.5555555555555556, \"#d8576b\"], [0.6666666666666666, \"#ed7953\"], [0.7777777777777778, \"#fb9f3a\"], [0.8888888888888888, \"#fdca26\"], [1.0, \"#f0f921\"]], \"type\": \"heatmapgl\"}], \"histogram\": [{\"marker\": {\"colorbar\": {\"outlinewidth\": 0, \"ticks\": \"\"}}, \"type\": \"histogram\"}], \"histogram2d\": [{\"colorbar\": {\"outlinewidth\": 0, \"ticks\": \"\"}, \"colorscale\": [[0.0, \"#0d0887\"], [0.1111111111111111, \"#46039f\"], [0.2222222222222222, \"#7201a8\"], [0.3333333333333333, \"#9c179e\"], [0.4444444444444444, \"#bd3786\"], [0.5555555555555556, \"#d8576b\"], [0.6666666666666666, \"#ed7953\"], [0.7777777777777778, \"#fb9f3a\"], [0.8888888888888888, \"#fdca26\"], [1.0, \"#f0f921\"]], \"type\": \"histogram2d\"}], \"histogram2dcontour\": [{\"colorbar\": {\"outlinewidth\": 0, \"ticks\": \"\"}, \"colorscale\": [[0.0, \"#0d0887\"], [0.1111111111111111, \"#46039f\"], [0.2222222222222222, \"#7201a8\"], [0.3333333333333333, \"#9c179e\"], [0.4444444444444444, \"#bd3786\"], [0.5555555555555556, \"#d8576b\"], [0.6666666666666666, \"#ed7953\"], [0.7777777777777778, \"#fb9f3a\"], [0.8888888888888888, \"#fdca26\"], [1.0, \"#f0f921\"]], \"type\": \"histogram2dcontour\"}], \"mesh3d\": [{\"colorbar\": {\"outlinewidth\": 0, \"ticks\": \"\"}, \"type\": \"mesh3d\"}], \"parcoords\": [{\"line\": {\"colorbar\": {\"outlinewidth\": 0, \"ticks\": \"\"}}, \"type\": \"parcoords\"}], \"pie\": [{\"automargin\": true, \"type\": \"pie\"}], \"scatter\": [{\"marker\": {\"colorbar\": {\"outlinewidth\": 0, \"ticks\": \"\"}}, \"type\": \"scatter\"}], \"scatter3d\": [{\"line\": {\"colorbar\": {\"outlinewidth\": 0, \"ticks\": \"\"}}, \"marker\": {\"colorbar\": {\"outlinewidth\": 0, \"ticks\": \"\"}}, \"type\": \"scatter3d\"}], \"scattercarpet\": [{\"marker\": {\"colorbar\": {\"outlinewidth\": 0, \"ticks\": \"\"}}, \"type\": \"scattercarpet\"}], \"scattergeo\": [{\"marker\": {\"colorbar\": {\"outlinewidth\": 0, \"ticks\": \"\"}}, \"type\": \"scattergeo\"}], \"scattergl\": [{\"marker\": {\"colorbar\": {\"outlinewidth\": 0, \"ticks\": \"\"}}, \"type\": \"scattergl\"}], \"scattermapbox\": [{\"marker\": {\"colorbar\": {\"outlinewidth\": 0, \"ticks\": \"\"}}, \"type\": \"scattermapbox\"}], \"scatterpolar\": [{\"marker\": {\"colorbar\": {\"outlinewidth\": 0, \"ticks\": \"\"}}, \"type\": \"scatterpolar\"}], \"scatterpolargl\": [{\"marker\": {\"colorbar\": {\"outlinewidth\": 0, \"ticks\": \"\"}}, \"type\": \"scatterpolargl\"}], \"scatterternary\": [{\"marker\": {\"colorbar\": {\"outlinewidth\": 0, \"ticks\": \"\"}}, \"type\": \"scatterternary\"}], \"surface\": [{\"colorbar\": {\"outlinewidth\": 0, \"ticks\": \"\"}, \"colorscale\": [[0.0, \"#0d0887\"], [0.1111111111111111, \"#46039f\"], [0.2222222222222222, \"#7201a8\"], [0.3333333333333333, \"#9c179e\"], [0.4444444444444444, \"#bd3786\"], [0.5555555555555556, \"#d8576b\"], [0.6666666666666666, \"#ed7953\"], [0.7777777777777778, \"#fb9f3a\"], [0.8888888888888888, \"#fdca26\"], [1.0, \"#f0f921\"]], \"type\": \"surface\"}], \"table\": [{\"cells\": {\"fill\": {\"color\": \"#EBF0F8\"}, \"line\": {\"color\": \"white\"}}, \"header\": {\"fill\": {\"color\": \"#C8D4E3\"}, \"line\": {\"color\": \"white\"}}, \"type\": \"table\"}]}, \"layout\": {\"annotationdefaults\": {\"arrowcolor\": \"#2a3f5f\", \"arrowhead\": 0, \"arrowwidth\": 1}, \"coloraxis\": {\"colorbar\": {\"outlinewidth\": 0, \"ticks\": \"\"}}, \"colorscale\": {\"diverging\": [[0, \"#8e0152\"], [0.1, \"#c51b7d\"], [0.2, \"#de77ae\"], [0.3, \"#f1b6da\"], [0.4, \"#fde0ef\"], [0.5, \"#f7f7f7\"], [0.6, \"#e6f5d0\"], [0.7, \"#b8e186\"], [0.8, \"#7fbc41\"], [0.9, \"#4d9221\"], [1, \"#276419\"]], \"sequential\": [[0.0, \"#0d0887\"], [0.1111111111111111, \"#46039f\"], [0.2222222222222222, \"#7201a8\"], [0.3333333333333333, \"#9c179e\"], [0.4444444444444444, \"#bd3786\"], [0.5555555555555556, \"#d8576b\"], [0.6666666666666666, \"#ed7953\"], [0.7777777777777778, \"#fb9f3a\"], [0.8888888888888888, \"#fdca26\"], [1.0, \"#f0f921\"]], \"sequentialminus\": [[0.0, \"#0d0887\"], [0.1111111111111111, \"#46039f\"], [0.2222222222222222, \"#7201a8\"], [0.3333333333333333, \"#9c179e\"], [0.4444444444444444, \"#bd3786\"], [0.5555555555555556, \"#d8576b\"], [0.6666666666666666, \"#ed7953\"], [0.7777777777777778, \"#fb9f3a\"], [0.8888888888888888, \"#fdca26\"], [1.0, \"#f0f921\"]]}, \"colorway\": [\"#636efa\", \"#EF553B\", \"#00cc96\", \"#ab63fa\", \"#FFA15A\", \"#19d3f3\", \"#FF6692\", \"#B6E880\", \"#FF97FF\", \"#FECB52\"], \"font\": {\"color\": \"#2a3f5f\"}, \"geo\": {\"bgcolor\": \"white\", \"lakecolor\": \"white\", \"landcolor\": \"#E5ECF6\", \"showlakes\": true, \"showland\": true, \"subunitcolor\": \"white\"}, \"hoverlabel\": {\"align\": \"left\"}, \"hovermode\": \"closest\", \"mapbox\": {\"style\": \"light\"}, \"paper_bgcolor\": \"white\", \"plot_bgcolor\": \"#E5ECF6\", \"polar\": {\"angularaxis\": {\"gridcolor\": \"white\", \"linecolor\": \"white\", \"ticks\": \"\"}, \"bgcolor\": \"#E5ECF6\", \"radialaxis\": {\"gridcolor\": \"white\", \"linecolor\": \"white\", \"ticks\": \"\"}}, \"scene\": {\"xaxis\": {\"backgroundcolor\": \"#E5ECF6\", \"gridcolor\": \"white\", \"gridwidth\": 2, \"linecolor\": \"white\", \"showbackground\": true, \"ticks\": \"\", \"zerolinecolor\": \"white\"}, \"yaxis\": {\"backgroundcolor\": \"#E5ECF6\", \"gridcolor\": \"white\", \"gridwidth\": 2, \"linecolor\": \"white\", \"showbackground\": true, \"ticks\": \"\", \"zerolinecolor\": \"white\"}, \"zaxis\": {\"backgroundcolor\": \"#E5ECF6\", \"gridcolor\": \"white\", \"gridwidth\": 2, \"linecolor\": \"white\", \"showbackground\": true, \"ticks\": \"\", \"zerolinecolor\": \"white\"}}, \"shapedefaults\": {\"line\": {\"color\": \"#2a3f5f\"}}, \"ternary\": {\"aaxis\": {\"gridcolor\": \"white\", \"linecolor\": \"white\", \"ticks\": \"\"}, \"baxis\": {\"gridcolor\": \"white\", \"linecolor\": \"white\", \"ticks\": \"\"}, \"bgcolor\": \"#E5ECF6\", \"caxis\": {\"gridcolor\": \"white\", \"linecolor\": \"white\", \"ticks\": \"\"}}, \"title\": {\"x\": 0.05}, \"xaxis\": {\"automargin\": true, \"gridcolor\": \"white\", \"linecolor\": \"white\", \"ticks\": \"\", \"title\": {\"standoff\": 15}, \"zerolinecolor\": \"white\", \"zerolinewidth\": 2}, \"yaxis\": {\"automargin\": true, \"gridcolor\": \"white\", \"linecolor\": \"white\", \"ticks\": \"\", \"title\": {\"standoff\": 15}, \"zerolinecolor\": \"white\", \"zerolinewidth\": 2}}}},\n",
       "                        {\"responsive\": true}\n",
       "                    ).then(function(){\n",
       "                            \n",
       "var gd = document.getElementById('851e1a15-70d8-4042-9da4-8c2d151daa2e');\n",
       "var x = new MutationObserver(function (mutations, observer) {{\n",
       "        var display = window.getComputedStyle(gd).display;\n",
       "        if (!display || display === 'none') {{\n",
       "            console.log([gd, 'removed!']);\n",
       "            Plotly.purge(gd);\n",
       "            observer.disconnect();\n",
       "        }}\n",
       "}});\n",
       "\n",
       "// Listen for the removal of the full notebook cells\n",
       "var notebookContainer = gd.closest('#notebook-container');\n",
       "if (notebookContainer) {{\n",
       "    x.observe(notebookContainer, {childList: true});\n",
       "}}\n",
       "\n",
       "// Listen for the clearing of the current output cell\n",
       "var outputEl = gd.closest('.output');\n",
       "if (outputEl) {{\n",
       "    x.observe(outputEl, {childList: true});\n",
       "}}\n",
       "\n",
       "                        })\n",
       "                };\n",
       "                });\n",
       "            </script>\n",
       "        </div>"
      ]
     },
     "metadata": {},
     "output_type": "display_data"
    },
    {
     "data": {
      "application/vnd.plotly.v1+json": {
       "config": {
        "plotlyServerURL": "https://plot.ly"
       },
       "data": [
        {
         "name": "known issuer",
         "type": "bar",
         "x": [
          "ETH"
         ],
         "y": [
          245.19781507577753
         ]
        },
        {
         "name": "unknown issuer",
         "type": "bar",
         "x": [
          "ETH"
         ],
         "y": [
          4700
         ]
        }
       ],
       "layout": {
        "barmode": "stack",
        "template": {
         "data": {
          "bar": [
           {
            "error_x": {
             "color": "#2a3f5f"
            },
            "error_y": {
             "color": "#2a3f5f"
            },
            "marker": {
             "line": {
              "color": "#E5ECF6",
              "width": 0.5
             }
            },
            "type": "bar"
           }
          ],
          "barpolar": [
           {
            "marker": {
             "line": {
              "color": "#E5ECF6",
              "width": 0.5
             }
            },
            "type": "barpolar"
           }
          ],
          "carpet": [
           {
            "aaxis": {
             "endlinecolor": "#2a3f5f",
             "gridcolor": "white",
             "linecolor": "white",
             "minorgridcolor": "white",
             "startlinecolor": "#2a3f5f"
            },
            "baxis": {
             "endlinecolor": "#2a3f5f",
             "gridcolor": "white",
             "linecolor": "white",
             "minorgridcolor": "white",
             "startlinecolor": "#2a3f5f"
            },
            "type": "carpet"
           }
          ],
          "choropleth": [
           {
            "colorbar": {
             "outlinewidth": 0,
             "ticks": ""
            },
            "type": "choropleth"
           }
          ],
          "contour": [
           {
            "colorbar": {
             "outlinewidth": 0,
             "ticks": ""
            },
            "colorscale": [
             [
              0,
              "#0d0887"
             ],
             [
              0.1111111111111111,
              "#46039f"
             ],
             [
              0.2222222222222222,
              "#7201a8"
             ],
             [
              0.3333333333333333,
              "#9c179e"
             ],
             [
              0.4444444444444444,
              "#bd3786"
             ],
             [
              0.5555555555555556,
              "#d8576b"
             ],
             [
              0.6666666666666666,
              "#ed7953"
             ],
             [
              0.7777777777777778,
              "#fb9f3a"
             ],
             [
              0.8888888888888888,
              "#fdca26"
             ],
             [
              1,
              "#f0f921"
             ]
            ],
            "type": "contour"
           }
          ],
          "contourcarpet": [
           {
            "colorbar": {
             "outlinewidth": 0,
             "ticks": ""
            },
            "type": "contourcarpet"
           }
          ],
          "heatmap": [
           {
            "colorbar": {
             "outlinewidth": 0,
             "ticks": ""
            },
            "colorscale": [
             [
              0,
              "#0d0887"
             ],
             [
              0.1111111111111111,
              "#46039f"
             ],
             [
              0.2222222222222222,
              "#7201a8"
             ],
             [
              0.3333333333333333,
              "#9c179e"
             ],
             [
              0.4444444444444444,
              "#bd3786"
             ],
             [
              0.5555555555555556,
              "#d8576b"
             ],
             [
              0.6666666666666666,
              "#ed7953"
             ],
             [
              0.7777777777777778,
              "#fb9f3a"
             ],
             [
              0.8888888888888888,
              "#fdca26"
             ],
             [
              1,
              "#f0f921"
             ]
            ],
            "type": "heatmap"
           }
          ],
          "heatmapgl": [
           {
            "colorbar": {
             "outlinewidth": 0,
             "ticks": ""
            },
            "colorscale": [
             [
              0,
              "#0d0887"
             ],
             [
              0.1111111111111111,
              "#46039f"
             ],
             [
              0.2222222222222222,
              "#7201a8"
             ],
             [
              0.3333333333333333,
              "#9c179e"
             ],
             [
              0.4444444444444444,
              "#bd3786"
             ],
             [
              0.5555555555555556,
              "#d8576b"
             ],
             [
              0.6666666666666666,
              "#ed7953"
             ],
             [
              0.7777777777777778,
              "#fb9f3a"
             ],
             [
              0.8888888888888888,
              "#fdca26"
             ],
             [
              1,
              "#f0f921"
             ]
            ],
            "type": "heatmapgl"
           }
          ],
          "histogram": [
           {
            "marker": {
             "colorbar": {
              "outlinewidth": 0,
              "ticks": ""
             }
            },
            "type": "histogram"
           }
          ],
          "histogram2d": [
           {
            "colorbar": {
             "outlinewidth": 0,
             "ticks": ""
            },
            "colorscale": [
             [
              0,
              "#0d0887"
             ],
             [
              0.1111111111111111,
              "#46039f"
             ],
             [
              0.2222222222222222,
              "#7201a8"
             ],
             [
              0.3333333333333333,
              "#9c179e"
             ],
             [
              0.4444444444444444,
              "#bd3786"
             ],
             [
              0.5555555555555556,
              "#d8576b"
             ],
             [
              0.6666666666666666,
              "#ed7953"
             ],
             [
              0.7777777777777778,
              "#fb9f3a"
             ],
             [
              0.8888888888888888,
              "#fdca26"
             ],
             [
              1,
              "#f0f921"
             ]
            ],
            "type": "histogram2d"
           }
          ],
          "histogram2dcontour": [
           {
            "colorbar": {
             "outlinewidth": 0,
             "ticks": ""
            },
            "colorscale": [
             [
              0,
              "#0d0887"
             ],
             [
              0.1111111111111111,
              "#46039f"
             ],
             [
              0.2222222222222222,
              "#7201a8"
             ],
             [
              0.3333333333333333,
              "#9c179e"
             ],
             [
              0.4444444444444444,
              "#bd3786"
             ],
             [
              0.5555555555555556,
              "#d8576b"
             ],
             [
              0.6666666666666666,
              "#ed7953"
             ],
             [
              0.7777777777777778,
              "#fb9f3a"
             ],
             [
              0.8888888888888888,
              "#fdca26"
             ],
             [
              1,
              "#f0f921"
             ]
            ],
            "type": "histogram2dcontour"
           }
          ],
          "mesh3d": [
           {
            "colorbar": {
             "outlinewidth": 0,
             "ticks": ""
            },
            "type": "mesh3d"
           }
          ],
          "parcoords": [
           {
            "line": {
             "colorbar": {
              "outlinewidth": 0,
              "ticks": ""
             }
            },
            "type": "parcoords"
           }
          ],
          "pie": [
           {
            "automargin": true,
            "type": "pie"
           }
          ],
          "scatter": [
           {
            "marker": {
             "colorbar": {
              "outlinewidth": 0,
              "ticks": ""
             }
            },
            "type": "scatter"
           }
          ],
          "scatter3d": [
           {
            "line": {
             "colorbar": {
              "outlinewidth": 0,
              "ticks": ""
             }
            },
            "marker": {
             "colorbar": {
              "outlinewidth": 0,
              "ticks": ""
             }
            },
            "type": "scatter3d"
           }
          ],
          "scattercarpet": [
           {
            "marker": {
             "colorbar": {
              "outlinewidth": 0,
              "ticks": ""
             }
            },
            "type": "scattercarpet"
           }
          ],
          "scattergeo": [
           {
            "marker": {
             "colorbar": {
              "outlinewidth": 0,
              "ticks": ""
             }
            },
            "type": "scattergeo"
           }
          ],
          "scattergl": [
           {
            "marker": {
             "colorbar": {
              "outlinewidth": 0,
              "ticks": ""
             }
            },
            "type": "scattergl"
           }
          ],
          "scattermapbox": [
           {
            "marker": {
             "colorbar": {
              "outlinewidth": 0,
              "ticks": ""
             }
            },
            "type": "scattermapbox"
           }
          ],
          "scatterpolar": [
           {
            "marker": {
             "colorbar": {
              "outlinewidth": 0,
              "ticks": ""
             }
            },
            "type": "scatterpolar"
           }
          ],
          "scatterpolargl": [
           {
            "marker": {
             "colorbar": {
              "outlinewidth": 0,
              "ticks": ""
             }
            },
            "type": "scatterpolargl"
           }
          ],
          "scatterternary": [
           {
            "marker": {
             "colorbar": {
              "outlinewidth": 0,
              "ticks": ""
             }
            },
            "type": "scatterternary"
           }
          ],
          "surface": [
           {
            "colorbar": {
             "outlinewidth": 0,
             "ticks": ""
            },
            "colorscale": [
             [
              0,
              "#0d0887"
             ],
             [
              0.1111111111111111,
              "#46039f"
             ],
             [
              0.2222222222222222,
              "#7201a8"
             ],
             [
              0.3333333333333333,
              "#9c179e"
             ],
             [
              0.4444444444444444,
              "#bd3786"
             ],
             [
              0.5555555555555556,
              "#d8576b"
             ],
             [
              0.6666666666666666,
              "#ed7953"
             ],
             [
              0.7777777777777778,
              "#fb9f3a"
             ],
             [
              0.8888888888888888,
              "#fdca26"
             ],
             [
              1,
              "#f0f921"
             ]
            ],
            "type": "surface"
           }
          ],
          "table": [
           {
            "cells": {
             "fill": {
              "color": "#EBF0F8"
             },
             "line": {
              "color": "white"
             }
            },
            "header": {
             "fill": {
              "color": "#C8D4E3"
             },
             "line": {
              "color": "white"
             }
            },
            "type": "table"
           }
          ]
         },
         "layout": {
          "annotationdefaults": {
           "arrowcolor": "#2a3f5f",
           "arrowhead": 0,
           "arrowwidth": 1
          },
          "coloraxis": {
           "colorbar": {
            "outlinewidth": 0,
            "ticks": ""
           }
          },
          "colorscale": {
           "diverging": [
            [
             0,
             "#8e0152"
            ],
            [
             0.1,
             "#c51b7d"
            ],
            [
             0.2,
             "#de77ae"
            ],
            [
             0.3,
             "#f1b6da"
            ],
            [
             0.4,
             "#fde0ef"
            ],
            [
             0.5,
             "#f7f7f7"
            ],
            [
             0.6,
             "#e6f5d0"
            ],
            [
             0.7,
             "#b8e186"
            ],
            [
             0.8,
             "#7fbc41"
            ],
            [
             0.9,
             "#4d9221"
            ],
            [
             1,
             "#276419"
            ]
           ],
           "sequential": [
            [
             0,
             "#0d0887"
            ],
            [
             0.1111111111111111,
             "#46039f"
            ],
            [
             0.2222222222222222,
             "#7201a8"
            ],
            [
             0.3333333333333333,
             "#9c179e"
            ],
            [
             0.4444444444444444,
             "#bd3786"
            ],
            [
             0.5555555555555556,
             "#d8576b"
            ],
            [
             0.6666666666666666,
             "#ed7953"
            ],
            [
             0.7777777777777778,
             "#fb9f3a"
            ],
            [
             0.8888888888888888,
             "#fdca26"
            ],
            [
             1,
             "#f0f921"
            ]
           ],
           "sequentialminus": [
            [
             0,
             "#0d0887"
            ],
            [
             0.1111111111111111,
             "#46039f"
            ],
            [
             0.2222222222222222,
             "#7201a8"
            ],
            [
             0.3333333333333333,
             "#9c179e"
            ],
            [
             0.4444444444444444,
             "#bd3786"
            ],
            [
             0.5555555555555556,
             "#d8576b"
            ],
            [
             0.6666666666666666,
             "#ed7953"
            ],
            [
             0.7777777777777778,
             "#fb9f3a"
            ],
            [
             0.8888888888888888,
             "#fdca26"
            ],
            [
             1,
             "#f0f921"
            ]
           ]
          },
          "colorway": [
           "#636efa",
           "#EF553B",
           "#00cc96",
           "#ab63fa",
           "#FFA15A",
           "#19d3f3",
           "#FF6692",
           "#B6E880",
           "#FF97FF",
           "#FECB52"
          ],
          "font": {
           "color": "#2a3f5f"
          },
          "geo": {
           "bgcolor": "white",
           "lakecolor": "white",
           "landcolor": "#E5ECF6",
           "showlakes": true,
           "showland": true,
           "subunitcolor": "white"
          },
          "hoverlabel": {
           "align": "left"
          },
          "hovermode": "closest",
          "mapbox": {
           "style": "light"
          },
          "paper_bgcolor": "white",
          "plot_bgcolor": "#E5ECF6",
          "polar": {
           "angularaxis": {
            "gridcolor": "white",
            "linecolor": "white",
            "ticks": ""
           },
           "bgcolor": "#E5ECF6",
           "radialaxis": {
            "gridcolor": "white",
            "linecolor": "white",
            "ticks": ""
           }
          },
          "scene": {
           "xaxis": {
            "backgroundcolor": "#E5ECF6",
            "gridcolor": "white",
            "gridwidth": 2,
            "linecolor": "white",
            "showbackground": true,
            "ticks": "",
            "zerolinecolor": "white"
           },
           "yaxis": {
            "backgroundcolor": "#E5ECF6",
            "gridcolor": "white",
            "gridwidth": 2,
            "linecolor": "white",
            "showbackground": true,
            "ticks": "",
            "zerolinecolor": "white"
           },
           "zaxis": {
            "backgroundcolor": "#E5ECF6",
            "gridcolor": "white",
            "gridwidth": 2,
            "linecolor": "white",
            "showbackground": true,
            "ticks": "",
            "zerolinecolor": "white"
           }
          },
          "shapedefaults": {
           "line": {
            "color": "#2a3f5f"
           }
          },
          "ternary": {
           "aaxis": {
            "gridcolor": "white",
            "linecolor": "white",
            "ticks": ""
           },
           "baxis": {
            "gridcolor": "white",
            "linecolor": "white",
            "ticks": ""
           },
           "bgcolor": "#E5ECF6",
           "caxis": {
            "gridcolor": "white",
            "linecolor": "white",
            "ticks": ""
           }
          },
          "title": {
           "x": 0.05
          },
          "xaxis": {
           "automargin": true,
           "gridcolor": "white",
           "linecolor": "white",
           "ticks": "",
           "title": {
            "standoff": 15
           },
           "zerolinecolor": "white",
           "zerolinewidth": 2
          },
          "yaxis": {
           "automargin": true,
           "gridcolor": "white",
           "linecolor": "white",
           "ticks": "",
           "title": {
            "standoff": 15
           },
           "zerolinecolor": "white",
           "zerolinewidth": 2
          }
         }
        }
       }
      },
      "text/html": [
       "<div>\n",
       "        \n",
       "        \n",
       "            <div id=\"f16748df-5edc-4b9f-a4a5-096ccabffd15\" class=\"plotly-graph-div\" style=\"height:525px; width:100%;\"></div>\n",
       "            <script type=\"text/javascript\">\n",
       "                require([\"plotly\"], function(Plotly) {\n",
       "                    window.PLOTLYENV=window.PLOTLYENV || {};\n",
       "                    \n",
       "                if (document.getElementById(\"f16748df-5edc-4b9f-a4a5-096ccabffd15\")) {\n",
       "                    Plotly.newPlot(\n",
       "                        'f16748df-5edc-4b9f-a4a5-096ccabffd15',\n",
       "                        [{\"name\": \"known issuer\", \"type\": \"bar\", \"x\": [\"ETH\"], \"y\": [245.19781507577753]}, {\"name\": \"unknown issuer\", \"type\": \"bar\", \"x\": [\"ETH\"], \"y\": [4700.0]}],\n",
       "                        {\"barmode\": \"stack\", \"template\": {\"data\": {\"bar\": [{\"error_x\": {\"color\": \"#2a3f5f\"}, \"error_y\": {\"color\": \"#2a3f5f\"}, \"marker\": {\"line\": {\"color\": \"#E5ECF6\", \"width\": 0.5}}, \"type\": \"bar\"}], \"barpolar\": [{\"marker\": {\"line\": {\"color\": \"#E5ECF6\", \"width\": 0.5}}, \"type\": \"barpolar\"}], \"carpet\": [{\"aaxis\": {\"endlinecolor\": \"#2a3f5f\", \"gridcolor\": \"white\", \"linecolor\": \"white\", \"minorgridcolor\": \"white\", \"startlinecolor\": \"#2a3f5f\"}, \"baxis\": {\"endlinecolor\": \"#2a3f5f\", \"gridcolor\": \"white\", \"linecolor\": \"white\", \"minorgridcolor\": \"white\", \"startlinecolor\": \"#2a3f5f\"}, \"type\": \"carpet\"}], \"choropleth\": [{\"colorbar\": {\"outlinewidth\": 0, \"ticks\": \"\"}, \"type\": \"choropleth\"}], \"contour\": [{\"colorbar\": {\"outlinewidth\": 0, \"ticks\": \"\"}, \"colorscale\": [[0.0, \"#0d0887\"], [0.1111111111111111, \"#46039f\"], [0.2222222222222222, \"#7201a8\"], [0.3333333333333333, \"#9c179e\"], [0.4444444444444444, \"#bd3786\"], [0.5555555555555556, \"#d8576b\"], [0.6666666666666666, \"#ed7953\"], [0.7777777777777778, \"#fb9f3a\"], [0.8888888888888888, \"#fdca26\"], [1.0, \"#f0f921\"]], \"type\": \"contour\"}], \"contourcarpet\": [{\"colorbar\": {\"outlinewidth\": 0, \"ticks\": \"\"}, \"type\": \"contourcarpet\"}], \"heatmap\": [{\"colorbar\": {\"outlinewidth\": 0, \"ticks\": \"\"}, \"colorscale\": [[0.0, \"#0d0887\"], [0.1111111111111111, \"#46039f\"], [0.2222222222222222, \"#7201a8\"], [0.3333333333333333, \"#9c179e\"], [0.4444444444444444, \"#bd3786\"], [0.5555555555555556, \"#d8576b\"], [0.6666666666666666, \"#ed7953\"], [0.7777777777777778, \"#fb9f3a\"], [0.8888888888888888, \"#fdca26\"], [1.0, \"#f0f921\"]], \"type\": \"heatmap\"}], \"heatmapgl\": [{\"colorbar\": {\"outlinewidth\": 0, \"ticks\": \"\"}, \"colorscale\": [[0.0, \"#0d0887\"], [0.1111111111111111, \"#46039f\"], [0.2222222222222222, \"#7201a8\"], [0.3333333333333333, \"#9c179e\"], [0.4444444444444444, \"#bd3786\"], [0.5555555555555556, \"#d8576b\"], [0.6666666666666666, \"#ed7953\"], [0.7777777777777778, \"#fb9f3a\"], [0.8888888888888888, \"#fdca26\"], [1.0, \"#f0f921\"]], \"type\": \"heatmapgl\"}], \"histogram\": [{\"marker\": {\"colorbar\": {\"outlinewidth\": 0, \"ticks\": \"\"}}, \"type\": \"histogram\"}], \"histogram2d\": [{\"colorbar\": {\"outlinewidth\": 0, \"ticks\": \"\"}, \"colorscale\": [[0.0, \"#0d0887\"], [0.1111111111111111, \"#46039f\"], [0.2222222222222222, \"#7201a8\"], [0.3333333333333333, \"#9c179e\"], [0.4444444444444444, \"#bd3786\"], [0.5555555555555556, \"#d8576b\"], [0.6666666666666666, \"#ed7953\"], [0.7777777777777778, \"#fb9f3a\"], [0.8888888888888888, \"#fdca26\"], [1.0, \"#f0f921\"]], \"type\": \"histogram2d\"}], \"histogram2dcontour\": [{\"colorbar\": {\"outlinewidth\": 0, \"ticks\": \"\"}, \"colorscale\": [[0.0, \"#0d0887\"], [0.1111111111111111, \"#46039f\"], [0.2222222222222222, \"#7201a8\"], [0.3333333333333333, \"#9c179e\"], [0.4444444444444444, \"#bd3786\"], [0.5555555555555556, \"#d8576b\"], [0.6666666666666666, \"#ed7953\"], [0.7777777777777778, \"#fb9f3a\"], [0.8888888888888888, \"#fdca26\"], [1.0, \"#f0f921\"]], \"type\": \"histogram2dcontour\"}], \"mesh3d\": [{\"colorbar\": {\"outlinewidth\": 0, \"ticks\": \"\"}, \"type\": \"mesh3d\"}], \"parcoords\": [{\"line\": {\"colorbar\": {\"outlinewidth\": 0, \"ticks\": \"\"}}, \"type\": \"parcoords\"}], \"pie\": [{\"automargin\": true, \"type\": \"pie\"}], \"scatter\": [{\"marker\": {\"colorbar\": {\"outlinewidth\": 0, \"ticks\": \"\"}}, \"type\": \"scatter\"}], \"scatter3d\": [{\"line\": {\"colorbar\": {\"outlinewidth\": 0, \"ticks\": \"\"}}, \"marker\": {\"colorbar\": {\"outlinewidth\": 0, \"ticks\": \"\"}}, \"type\": \"scatter3d\"}], \"scattercarpet\": [{\"marker\": {\"colorbar\": {\"outlinewidth\": 0, \"ticks\": \"\"}}, \"type\": \"scattercarpet\"}], \"scattergeo\": [{\"marker\": {\"colorbar\": {\"outlinewidth\": 0, \"ticks\": \"\"}}, \"type\": \"scattergeo\"}], \"scattergl\": [{\"marker\": {\"colorbar\": {\"outlinewidth\": 0, \"ticks\": \"\"}}, \"type\": \"scattergl\"}], \"scattermapbox\": [{\"marker\": {\"colorbar\": {\"outlinewidth\": 0, \"ticks\": \"\"}}, \"type\": \"scattermapbox\"}], \"scatterpolar\": [{\"marker\": {\"colorbar\": {\"outlinewidth\": 0, \"ticks\": \"\"}}, \"type\": \"scatterpolar\"}], \"scatterpolargl\": [{\"marker\": {\"colorbar\": {\"outlinewidth\": 0, \"ticks\": \"\"}}, \"type\": \"scatterpolargl\"}], \"scatterternary\": [{\"marker\": {\"colorbar\": {\"outlinewidth\": 0, \"ticks\": \"\"}}, \"type\": \"scatterternary\"}], \"surface\": [{\"colorbar\": {\"outlinewidth\": 0, \"ticks\": \"\"}, \"colorscale\": [[0.0, \"#0d0887\"], [0.1111111111111111, \"#46039f\"], [0.2222222222222222, \"#7201a8\"], [0.3333333333333333, \"#9c179e\"], [0.4444444444444444, \"#bd3786\"], [0.5555555555555556, \"#d8576b\"], [0.6666666666666666, \"#ed7953\"], [0.7777777777777778, \"#fb9f3a\"], [0.8888888888888888, \"#fdca26\"], [1.0, \"#f0f921\"]], \"type\": \"surface\"}], \"table\": [{\"cells\": {\"fill\": {\"color\": \"#EBF0F8\"}, \"line\": {\"color\": \"white\"}}, \"header\": {\"fill\": {\"color\": \"#C8D4E3\"}, \"line\": {\"color\": \"white\"}}, \"type\": \"table\"}]}, \"layout\": {\"annotationdefaults\": {\"arrowcolor\": \"#2a3f5f\", \"arrowhead\": 0, \"arrowwidth\": 1}, \"coloraxis\": {\"colorbar\": {\"outlinewidth\": 0, \"ticks\": \"\"}}, \"colorscale\": {\"diverging\": [[0, \"#8e0152\"], [0.1, \"#c51b7d\"], [0.2, \"#de77ae\"], [0.3, \"#f1b6da\"], [0.4, \"#fde0ef\"], [0.5, \"#f7f7f7\"], [0.6, \"#e6f5d0\"], [0.7, \"#b8e186\"], [0.8, \"#7fbc41\"], [0.9, \"#4d9221\"], [1, \"#276419\"]], \"sequential\": [[0.0, \"#0d0887\"], [0.1111111111111111, \"#46039f\"], [0.2222222222222222, \"#7201a8\"], [0.3333333333333333, \"#9c179e\"], [0.4444444444444444, \"#bd3786\"], [0.5555555555555556, \"#d8576b\"], [0.6666666666666666, \"#ed7953\"], [0.7777777777777778, \"#fb9f3a\"], [0.8888888888888888, \"#fdca26\"], [1.0, \"#f0f921\"]], \"sequentialminus\": [[0.0, \"#0d0887\"], [0.1111111111111111, \"#46039f\"], [0.2222222222222222, \"#7201a8\"], [0.3333333333333333, \"#9c179e\"], [0.4444444444444444, \"#bd3786\"], [0.5555555555555556, \"#d8576b\"], [0.6666666666666666, \"#ed7953\"], [0.7777777777777778, \"#fb9f3a\"], [0.8888888888888888, \"#fdca26\"], [1.0, \"#f0f921\"]]}, \"colorway\": [\"#636efa\", \"#EF553B\", \"#00cc96\", \"#ab63fa\", \"#FFA15A\", \"#19d3f3\", \"#FF6692\", \"#B6E880\", \"#FF97FF\", \"#FECB52\"], \"font\": {\"color\": \"#2a3f5f\"}, \"geo\": {\"bgcolor\": \"white\", \"lakecolor\": \"white\", \"landcolor\": \"#E5ECF6\", \"showlakes\": true, \"showland\": true, \"subunitcolor\": \"white\"}, \"hoverlabel\": {\"align\": \"left\"}, \"hovermode\": \"closest\", \"mapbox\": {\"style\": \"light\"}, \"paper_bgcolor\": \"white\", \"plot_bgcolor\": \"#E5ECF6\", \"polar\": {\"angularaxis\": {\"gridcolor\": \"white\", \"linecolor\": \"white\", \"ticks\": \"\"}, \"bgcolor\": \"#E5ECF6\", \"radialaxis\": {\"gridcolor\": \"white\", \"linecolor\": \"white\", \"ticks\": \"\"}}, \"scene\": {\"xaxis\": {\"backgroundcolor\": \"#E5ECF6\", \"gridcolor\": \"white\", \"gridwidth\": 2, \"linecolor\": \"white\", \"showbackground\": true, \"ticks\": \"\", \"zerolinecolor\": \"white\"}, \"yaxis\": {\"backgroundcolor\": \"#E5ECF6\", \"gridcolor\": \"white\", \"gridwidth\": 2, \"linecolor\": \"white\", \"showbackground\": true, \"ticks\": \"\", \"zerolinecolor\": \"white\"}, \"zaxis\": {\"backgroundcolor\": \"#E5ECF6\", \"gridcolor\": \"white\", \"gridwidth\": 2, \"linecolor\": \"white\", \"showbackground\": true, \"ticks\": \"\", \"zerolinecolor\": \"white\"}}, \"shapedefaults\": {\"line\": {\"color\": \"#2a3f5f\"}}, \"ternary\": {\"aaxis\": {\"gridcolor\": \"white\", \"linecolor\": \"white\", \"ticks\": \"\"}, \"baxis\": {\"gridcolor\": \"white\", \"linecolor\": \"white\", \"ticks\": \"\"}, \"bgcolor\": \"#E5ECF6\", \"caxis\": {\"gridcolor\": \"white\", \"linecolor\": \"white\", \"ticks\": \"\"}}, \"title\": {\"x\": 0.05}, \"xaxis\": {\"automargin\": true, \"gridcolor\": \"white\", \"linecolor\": \"white\", \"ticks\": \"\", \"title\": {\"standoff\": 15}, \"zerolinecolor\": \"white\", \"zerolinewidth\": 2}, \"yaxis\": {\"automargin\": true, \"gridcolor\": \"white\", \"linecolor\": \"white\", \"ticks\": \"\", \"title\": {\"standoff\": 15}, \"zerolinecolor\": \"white\", \"zerolinewidth\": 2}}}},\n",
       "                        {\"responsive\": true}\n",
       "                    ).then(function(){\n",
       "                            \n",
       "var gd = document.getElementById('f16748df-5edc-4b9f-a4a5-096ccabffd15');\n",
       "var x = new MutationObserver(function (mutations, observer) {{\n",
       "        var display = window.getComputedStyle(gd).display;\n",
       "        if (!display || display === 'none') {{\n",
       "            console.log([gd, 'removed!']);\n",
       "            Plotly.purge(gd);\n",
       "            observer.disconnect();\n",
       "        }}\n",
       "}});\n",
       "\n",
       "// Listen for the removal of the full notebook cells\n",
       "var notebookContainer = gd.closest('#notebook-container');\n",
       "if (notebookContainer) {{\n",
       "    x.observe(notebookContainer, {childList: true});\n",
       "}}\n",
       "\n",
       "// Listen for the clearing of the current output cell\n",
       "var outputEl = gd.closest('.output');\n",
       "if (outputEl) {{\n",
       "    x.observe(outputEl, {childList: true});\n",
       "}}\n",
       "\n",
       "                        })\n",
       "                };\n",
       "                });\n",
       "            </script>\n",
       "        </div>"
      ]
     },
     "metadata": {},
     "output_type": "display_data"
    },
    {
     "data": {
      "application/vnd.plotly.v1+json": {
       "config": {
        "plotlyServerURL": "https://plot.ly"
       },
       "data": [
        {
         "name": "known issuer",
         "type": "bar",
         "x": [
          "BCH"
         ],
         "y": [
          0
         ]
        },
        {
         "name": "unknown issuer",
         "type": "bar",
         "x": [
          "BCH"
         ],
         "y": [
          99330
         ]
        }
       ],
       "layout": {
        "barmode": "stack",
        "template": {
         "data": {
          "bar": [
           {
            "error_x": {
             "color": "#2a3f5f"
            },
            "error_y": {
             "color": "#2a3f5f"
            },
            "marker": {
             "line": {
              "color": "#E5ECF6",
              "width": 0.5
             }
            },
            "type": "bar"
           }
          ],
          "barpolar": [
           {
            "marker": {
             "line": {
              "color": "#E5ECF6",
              "width": 0.5
             }
            },
            "type": "barpolar"
           }
          ],
          "carpet": [
           {
            "aaxis": {
             "endlinecolor": "#2a3f5f",
             "gridcolor": "white",
             "linecolor": "white",
             "minorgridcolor": "white",
             "startlinecolor": "#2a3f5f"
            },
            "baxis": {
             "endlinecolor": "#2a3f5f",
             "gridcolor": "white",
             "linecolor": "white",
             "minorgridcolor": "white",
             "startlinecolor": "#2a3f5f"
            },
            "type": "carpet"
           }
          ],
          "choropleth": [
           {
            "colorbar": {
             "outlinewidth": 0,
             "ticks": ""
            },
            "type": "choropleth"
           }
          ],
          "contour": [
           {
            "colorbar": {
             "outlinewidth": 0,
             "ticks": ""
            },
            "colorscale": [
             [
              0,
              "#0d0887"
             ],
             [
              0.1111111111111111,
              "#46039f"
             ],
             [
              0.2222222222222222,
              "#7201a8"
             ],
             [
              0.3333333333333333,
              "#9c179e"
             ],
             [
              0.4444444444444444,
              "#bd3786"
             ],
             [
              0.5555555555555556,
              "#d8576b"
             ],
             [
              0.6666666666666666,
              "#ed7953"
             ],
             [
              0.7777777777777778,
              "#fb9f3a"
             ],
             [
              0.8888888888888888,
              "#fdca26"
             ],
             [
              1,
              "#f0f921"
             ]
            ],
            "type": "contour"
           }
          ],
          "contourcarpet": [
           {
            "colorbar": {
             "outlinewidth": 0,
             "ticks": ""
            },
            "type": "contourcarpet"
           }
          ],
          "heatmap": [
           {
            "colorbar": {
             "outlinewidth": 0,
             "ticks": ""
            },
            "colorscale": [
             [
              0,
              "#0d0887"
             ],
             [
              0.1111111111111111,
              "#46039f"
             ],
             [
              0.2222222222222222,
              "#7201a8"
             ],
             [
              0.3333333333333333,
              "#9c179e"
             ],
             [
              0.4444444444444444,
              "#bd3786"
             ],
             [
              0.5555555555555556,
              "#d8576b"
             ],
             [
              0.6666666666666666,
              "#ed7953"
             ],
             [
              0.7777777777777778,
              "#fb9f3a"
             ],
             [
              0.8888888888888888,
              "#fdca26"
             ],
             [
              1,
              "#f0f921"
             ]
            ],
            "type": "heatmap"
           }
          ],
          "heatmapgl": [
           {
            "colorbar": {
             "outlinewidth": 0,
             "ticks": ""
            },
            "colorscale": [
             [
              0,
              "#0d0887"
             ],
             [
              0.1111111111111111,
              "#46039f"
             ],
             [
              0.2222222222222222,
              "#7201a8"
             ],
             [
              0.3333333333333333,
              "#9c179e"
             ],
             [
              0.4444444444444444,
              "#bd3786"
             ],
             [
              0.5555555555555556,
              "#d8576b"
             ],
             [
              0.6666666666666666,
              "#ed7953"
             ],
             [
              0.7777777777777778,
              "#fb9f3a"
             ],
             [
              0.8888888888888888,
              "#fdca26"
             ],
             [
              1,
              "#f0f921"
             ]
            ],
            "type": "heatmapgl"
           }
          ],
          "histogram": [
           {
            "marker": {
             "colorbar": {
              "outlinewidth": 0,
              "ticks": ""
             }
            },
            "type": "histogram"
           }
          ],
          "histogram2d": [
           {
            "colorbar": {
             "outlinewidth": 0,
             "ticks": ""
            },
            "colorscale": [
             [
              0,
              "#0d0887"
             ],
             [
              0.1111111111111111,
              "#46039f"
             ],
             [
              0.2222222222222222,
              "#7201a8"
             ],
             [
              0.3333333333333333,
              "#9c179e"
             ],
             [
              0.4444444444444444,
              "#bd3786"
             ],
             [
              0.5555555555555556,
              "#d8576b"
             ],
             [
              0.6666666666666666,
              "#ed7953"
             ],
             [
              0.7777777777777778,
              "#fb9f3a"
             ],
             [
              0.8888888888888888,
              "#fdca26"
             ],
             [
              1,
              "#f0f921"
             ]
            ],
            "type": "histogram2d"
           }
          ],
          "histogram2dcontour": [
           {
            "colorbar": {
             "outlinewidth": 0,
             "ticks": ""
            },
            "colorscale": [
             [
              0,
              "#0d0887"
             ],
             [
              0.1111111111111111,
              "#46039f"
             ],
             [
              0.2222222222222222,
              "#7201a8"
             ],
             [
              0.3333333333333333,
              "#9c179e"
             ],
             [
              0.4444444444444444,
              "#bd3786"
             ],
             [
              0.5555555555555556,
              "#d8576b"
             ],
             [
              0.6666666666666666,
              "#ed7953"
             ],
             [
              0.7777777777777778,
              "#fb9f3a"
             ],
             [
              0.8888888888888888,
              "#fdca26"
             ],
             [
              1,
              "#f0f921"
             ]
            ],
            "type": "histogram2dcontour"
           }
          ],
          "mesh3d": [
           {
            "colorbar": {
             "outlinewidth": 0,
             "ticks": ""
            },
            "type": "mesh3d"
           }
          ],
          "parcoords": [
           {
            "line": {
             "colorbar": {
              "outlinewidth": 0,
              "ticks": ""
             }
            },
            "type": "parcoords"
           }
          ],
          "pie": [
           {
            "automargin": true,
            "type": "pie"
           }
          ],
          "scatter": [
           {
            "marker": {
             "colorbar": {
              "outlinewidth": 0,
              "ticks": ""
             }
            },
            "type": "scatter"
           }
          ],
          "scatter3d": [
           {
            "line": {
             "colorbar": {
              "outlinewidth": 0,
              "ticks": ""
             }
            },
            "marker": {
             "colorbar": {
              "outlinewidth": 0,
              "ticks": ""
             }
            },
            "type": "scatter3d"
           }
          ],
          "scattercarpet": [
           {
            "marker": {
             "colorbar": {
              "outlinewidth": 0,
              "ticks": ""
             }
            },
            "type": "scattercarpet"
           }
          ],
          "scattergeo": [
           {
            "marker": {
             "colorbar": {
              "outlinewidth": 0,
              "ticks": ""
             }
            },
            "type": "scattergeo"
           }
          ],
          "scattergl": [
           {
            "marker": {
             "colorbar": {
              "outlinewidth": 0,
              "ticks": ""
             }
            },
            "type": "scattergl"
           }
          ],
          "scattermapbox": [
           {
            "marker": {
             "colorbar": {
              "outlinewidth": 0,
              "ticks": ""
             }
            },
            "type": "scattermapbox"
           }
          ],
          "scatterpolar": [
           {
            "marker": {
             "colorbar": {
              "outlinewidth": 0,
              "ticks": ""
             }
            },
            "type": "scatterpolar"
           }
          ],
          "scatterpolargl": [
           {
            "marker": {
             "colorbar": {
              "outlinewidth": 0,
              "ticks": ""
             }
            },
            "type": "scatterpolargl"
           }
          ],
          "scatterternary": [
           {
            "marker": {
             "colorbar": {
              "outlinewidth": 0,
              "ticks": ""
             }
            },
            "type": "scatterternary"
           }
          ],
          "surface": [
           {
            "colorbar": {
             "outlinewidth": 0,
             "ticks": ""
            },
            "colorscale": [
             [
              0,
              "#0d0887"
             ],
             [
              0.1111111111111111,
              "#46039f"
             ],
             [
              0.2222222222222222,
              "#7201a8"
             ],
             [
              0.3333333333333333,
              "#9c179e"
             ],
             [
              0.4444444444444444,
              "#bd3786"
             ],
             [
              0.5555555555555556,
              "#d8576b"
             ],
             [
              0.6666666666666666,
              "#ed7953"
             ],
             [
              0.7777777777777778,
              "#fb9f3a"
             ],
             [
              0.8888888888888888,
              "#fdca26"
             ],
             [
              1,
              "#f0f921"
             ]
            ],
            "type": "surface"
           }
          ],
          "table": [
           {
            "cells": {
             "fill": {
              "color": "#EBF0F8"
             },
             "line": {
              "color": "white"
             }
            },
            "header": {
             "fill": {
              "color": "#C8D4E3"
             },
             "line": {
              "color": "white"
             }
            },
            "type": "table"
           }
          ]
         },
         "layout": {
          "annotationdefaults": {
           "arrowcolor": "#2a3f5f",
           "arrowhead": 0,
           "arrowwidth": 1
          },
          "coloraxis": {
           "colorbar": {
            "outlinewidth": 0,
            "ticks": ""
           }
          },
          "colorscale": {
           "diverging": [
            [
             0,
             "#8e0152"
            ],
            [
             0.1,
             "#c51b7d"
            ],
            [
             0.2,
             "#de77ae"
            ],
            [
             0.3,
             "#f1b6da"
            ],
            [
             0.4,
             "#fde0ef"
            ],
            [
             0.5,
             "#f7f7f7"
            ],
            [
             0.6,
             "#e6f5d0"
            ],
            [
             0.7,
             "#b8e186"
            ],
            [
             0.8,
             "#7fbc41"
            ],
            [
             0.9,
             "#4d9221"
            ],
            [
             1,
             "#276419"
            ]
           ],
           "sequential": [
            [
             0,
             "#0d0887"
            ],
            [
             0.1111111111111111,
             "#46039f"
            ],
            [
             0.2222222222222222,
             "#7201a8"
            ],
            [
             0.3333333333333333,
             "#9c179e"
            ],
            [
             0.4444444444444444,
             "#bd3786"
            ],
            [
             0.5555555555555556,
             "#d8576b"
            ],
            [
             0.6666666666666666,
             "#ed7953"
            ],
            [
             0.7777777777777778,
             "#fb9f3a"
            ],
            [
             0.8888888888888888,
             "#fdca26"
            ],
            [
             1,
             "#f0f921"
            ]
           ],
           "sequentialminus": [
            [
             0,
             "#0d0887"
            ],
            [
             0.1111111111111111,
             "#46039f"
            ],
            [
             0.2222222222222222,
             "#7201a8"
            ],
            [
             0.3333333333333333,
             "#9c179e"
            ],
            [
             0.4444444444444444,
             "#bd3786"
            ],
            [
             0.5555555555555556,
             "#d8576b"
            ],
            [
             0.6666666666666666,
             "#ed7953"
            ],
            [
             0.7777777777777778,
             "#fb9f3a"
            ],
            [
             0.8888888888888888,
             "#fdca26"
            ],
            [
             1,
             "#f0f921"
            ]
           ]
          },
          "colorway": [
           "#636efa",
           "#EF553B",
           "#00cc96",
           "#ab63fa",
           "#FFA15A",
           "#19d3f3",
           "#FF6692",
           "#B6E880",
           "#FF97FF",
           "#FECB52"
          ],
          "font": {
           "color": "#2a3f5f"
          },
          "geo": {
           "bgcolor": "white",
           "lakecolor": "white",
           "landcolor": "#E5ECF6",
           "showlakes": true,
           "showland": true,
           "subunitcolor": "white"
          },
          "hoverlabel": {
           "align": "left"
          },
          "hovermode": "closest",
          "mapbox": {
           "style": "light"
          },
          "paper_bgcolor": "white",
          "plot_bgcolor": "#E5ECF6",
          "polar": {
           "angularaxis": {
            "gridcolor": "white",
            "linecolor": "white",
            "ticks": ""
           },
           "bgcolor": "#E5ECF6",
           "radialaxis": {
            "gridcolor": "white",
            "linecolor": "white",
            "ticks": ""
           }
          },
          "scene": {
           "xaxis": {
            "backgroundcolor": "#E5ECF6",
            "gridcolor": "white",
            "gridwidth": 2,
            "linecolor": "white",
            "showbackground": true,
            "ticks": "",
            "zerolinecolor": "white"
           },
           "yaxis": {
            "backgroundcolor": "#E5ECF6",
            "gridcolor": "white",
            "gridwidth": 2,
            "linecolor": "white",
            "showbackground": true,
            "ticks": "",
            "zerolinecolor": "white"
           },
           "zaxis": {
            "backgroundcolor": "#E5ECF6",
            "gridcolor": "white",
            "gridwidth": 2,
            "linecolor": "white",
            "showbackground": true,
            "ticks": "",
            "zerolinecolor": "white"
           }
          },
          "shapedefaults": {
           "line": {
            "color": "#2a3f5f"
           }
          },
          "ternary": {
           "aaxis": {
            "gridcolor": "white",
            "linecolor": "white",
            "ticks": ""
           },
           "baxis": {
            "gridcolor": "white",
            "linecolor": "white",
            "ticks": ""
           },
           "bgcolor": "#E5ECF6",
           "caxis": {
            "gridcolor": "white",
            "linecolor": "white",
            "ticks": ""
           }
          },
          "title": {
           "x": 0.05
          },
          "xaxis": {
           "automargin": true,
           "gridcolor": "white",
           "linecolor": "white",
           "ticks": "",
           "title": {
            "standoff": 15
           },
           "zerolinecolor": "white",
           "zerolinewidth": 2
          },
          "yaxis": {
           "automargin": true,
           "gridcolor": "white",
           "linecolor": "white",
           "ticks": "",
           "title": {
            "standoff": 15
           },
           "zerolinecolor": "white",
           "zerolinewidth": 2
          }
         }
        }
       }
      },
      "text/html": [
       "<div>\n",
       "        \n",
       "        \n",
       "            <div id=\"35468f4a-073e-499f-8eb2-66a11682bd6b\" class=\"plotly-graph-div\" style=\"height:525px; width:100%;\"></div>\n",
       "            <script type=\"text/javascript\">\n",
       "                require([\"plotly\"], function(Plotly) {\n",
       "                    window.PLOTLYENV=window.PLOTLYENV || {};\n",
       "                    \n",
       "                if (document.getElementById(\"35468f4a-073e-499f-8eb2-66a11682bd6b\")) {\n",
       "                    Plotly.newPlot(\n",
       "                        '35468f4a-073e-499f-8eb2-66a11682bd6b',\n",
       "                        [{\"name\": \"known issuer\", \"type\": \"bar\", \"x\": [\"BCH\"], \"y\": [0.0]}, {\"name\": \"unknown issuer\", \"type\": \"bar\", \"x\": [\"BCH\"], \"y\": [99330.0]}],\n",
       "                        {\"barmode\": \"stack\", \"template\": {\"data\": {\"bar\": [{\"error_x\": {\"color\": \"#2a3f5f\"}, \"error_y\": {\"color\": \"#2a3f5f\"}, \"marker\": {\"line\": {\"color\": \"#E5ECF6\", \"width\": 0.5}}, \"type\": \"bar\"}], \"barpolar\": [{\"marker\": {\"line\": {\"color\": \"#E5ECF6\", \"width\": 0.5}}, \"type\": \"barpolar\"}], \"carpet\": [{\"aaxis\": {\"endlinecolor\": \"#2a3f5f\", \"gridcolor\": \"white\", \"linecolor\": \"white\", \"minorgridcolor\": \"white\", \"startlinecolor\": \"#2a3f5f\"}, \"baxis\": {\"endlinecolor\": \"#2a3f5f\", \"gridcolor\": \"white\", \"linecolor\": \"white\", \"minorgridcolor\": \"white\", \"startlinecolor\": \"#2a3f5f\"}, \"type\": \"carpet\"}], \"choropleth\": [{\"colorbar\": {\"outlinewidth\": 0, \"ticks\": \"\"}, \"type\": \"choropleth\"}], \"contour\": [{\"colorbar\": {\"outlinewidth\": 0, \"ticks\": \"\"}, \"colorscale\": [[0.0, \"#0d0887\"], [0.1111111111111111, \"#46039f\"], [0.2222222222222222, \"#7201a8\"], [0.3333333333333333, \"#9c179e\"], [0.4444444444444444, \"#bd3786\"], [0.5555555555555556, \"#d8576b\"], [0.6666666666666666, \"#ed7953\"], [0.7777777777777778, \"#fb9f3a\"], [0.8888888888888888, \"#fdca26\"], [1.0, \"#f0f921\"]], \"type\": \"contour\"}], \"contourcarpet\": [{\"colorbar\": {\"outlinewidth\": 0, \"ticks\": \"\"}, \"type\": \"contourcarpet\"}], \"heatmap\": [{\"colorbar\": {\"outlinewidth\": 0, \"ticks\": \"\"}, \"colorscale\": [[0.0, \"#0d0887\"], [0.1111111111111111, \"#46039f\"], [0.2222222222222222, \"#7201a8\"], [0.3333333333333333, \"#9c179e\"], [0.4444444444444444, \"#bd3786\"], [0.5555555555555556, \"#d8576b\"], [0.6666666666666666, \"#ed7953\"], [0.7777777777777778, \"#fb9f3a\"], [0.8888888888888888, \"#fdca26\"], [1.0, \"#f0f921\"]], \"type\": \"heatmap\"}], \"heatmapgl\": [{\"colorbar\": {\"outlinewidth\": 0, \"ticks\": \"\"}, \"colorscale\": [[0.0, \"#0d0887\"], [0.1111111111111111, \"#46039f\"], [0.2222222222222222, \"#7201a8\"], [0.3333333333333333, \"#9c179e\"], [0.4444444444444444, \"#bd3786\"], [0.5555555555555556, \"#d8576b\"], [0.6666666666666666, \"#ed7953\"], [0.7777777777777778, \"#fb9f3a\"], [0.8888888888888888, \"#fdca26\"], [1.0, \"#f0f921\"]], \"type\": \"heatmapgl\"}], \"histogram\": [{\"marker\": {\"colorbar\": {\"outlinewidth\": 0, \"ticks\": \"\"}}, \"type\": \"histogram\"}], \"histogram2d\": [{\"colorbar\": {\"outlinewidth\": 0, \"ticks\": \"\"}, \"colorscale\": [[0.0, \"#0d0887\"], [0.1111111111111111, \"#46039f\"], [0.2222222222222222, \"#7201a8\"], [0.3333333333333333, \"#9c179e\"], [0.4444444444444444, \"#bd3786\"], [0.5555555555555556, \"#d8576b\"], [0.6666666666666666, \"#ed7953\"], [0.7777777777777778, \"#fb9f3a\"], [0.8888888888888888, \"#fdca26\"], [1.0, \"#f0f921\"]], \"type\": \"histogram2d\"}], \"histogram2dcontour\": [{\"colorbar\": {\"outlinewidth\": 0, \"ticks\": \"\"}, \"colorscale\": [[0.0, \"#0d0887\"], [0.1111111111111111, \"#46039f\"], [0.2222222222222222, \"#7201a8\"], [0.3333333333333333, \"#9c179e\"], [0.4444444444444444, \"#bd3786\"], [0.5555555555555556, \"#d8576b\"], [0.6666666666666666, \"#ed7953\"], [0.7777777777777778, \"#fb9f3a\"], [0.8888888888888888, \"#fdca26\"], [1.0, \"#f0f921\"]], \"type\": \"histogram2dcontour\"}], \"mesh3d\": [{\"colorbar\": {\"outlinewidth\": 0, \"ticks\": \"\"}, \"type\": \"mesh3d\"}], \"parcoords\": [{\"line\": {\"colorbar\": {\"outlinewidth\": 0, \"ticks\": \"\"}}, \"type\": \"parcoords\"}], \"pie\": [{\"automargin\": true, \"type\": \"pie\"}], \"scatter\": [{\"marker\": {\"colorbar\": {\"outlinewidth\": 0, \"ticks\": \"\"}}, \"type\": \"scatter\"}], \"scatter3d\": [{\"line\": {\"colorbar\": {\"outlinewidth\": 0, \"ticks\": \"\"}}, \"marker\": {\"colorbar\": {\"outlinewidth\": 0, \"ticks\": \"\"}}, \"type\": \"scatter3d\"}], \"scattercarpet\": [{\"marker\": {\"colorbar\": {\"outlinewidth\": 0, \"ticks\": \"\"}}, \"type\": \"scattercarpet\"}], \"scattergeo\": [{\"marker\": {\"colorbar\": {\"outlinewidth\": 0, \"ticks\": \"\"}}, \"type\": \"scattergeo\"}], \"scattergl\": [{\"marker\": {\"colorbar\": {\"outlinewidth\": 0, \"ticks\": \"\"}}, \"type\": \"scattergl\"}], \"scattermapbox\": [{\"marker\": {\"colorbar\": {\"outlinewidth\": 0, \"ticks\": \"\"}}, \"type\": \"scattermapbox\"}], \"scatterpolar\": [{\"marker\": {\"colorbar\": {\"outlinewidth\": 0, \"ticks\": \"\"}}, \"type\": \"scatterpolar\"}], \"scatterpolargl\": [{\"marker\": {\"colorbar\": {\"outlinewidth\": 0, \"ticks\": \"\"}}, \"type\": \"scatterpolargl\"}], \"scatterternary\": [{\"marker\": {\"colorbar\": {\"outlinewidth\": 0, \"ticks\": \"\"}}, \"type\": \"scatterternary\"}], \"surface\": [{\"colorbar\": {\"outlinewidth\": 0, \"ticks\": \"\"}, \"colorscale\": [[0.0, \"#0d0887\"], [0.1111111111111111, \"#46039f\"], [0.2222222222222222, \"#7201a8\"], [0.3333333333333333, \"#9c179e\"], [0.4444444444444444, \"#bd3786\"], [0.5555555555555556, \"#d8576b\"], [0.6666666666666666, \"#ed7953\"], [0.7777777777777778, \"#fb9f3a\"], [0.8888888888888888, \"#fdca26\"], [1.0, \"#f0f921\"]], \"type\": \"surface\"}], \"table\": [{\"cells\": {\"fill\": {\"color\": \"#EBF0F8\"}, \"line\": {\"color\": \"white\"}}, \"header\": {\"fill\": {\"color\": \"#C8D4E3\"}, \"line\": {\"color\": \"white\"}}, \"type\": \"table\"}]}, \"layout\": {\"annotationdefaults\": {\"arrowcolor\": \"#2a3f5f\", \"arrowhead\": 0, \"arrowwidth\": 1}, \"coloraxis\": {\"colorbar\": {\"outlinewidth\": 0, \"ticks\": \"\"}}, \"colorscale\": {\"diverging\": [[0, \"#8e0152\"], [0.1, \"#c51b7d\"], [0.2, \"#de77ae\"], [0.3, \"#f1b6da\"], [0.4, \"#fde0ef\"], [0.5, \"#f7f7f7\"], [0.6, \"#e6f5d0\"], [0.7, \"#b8e186\"], [0.8, \"#7fbc41\"], [0.9, \"#4d9221\"], [1, \"#276419\"]], \"sequential\": [[0.0, \"#0d0887\"], [0.1111111111111111, \"#46039f\"], [0.2222222222222222, \"#7201a8\"], [0.3333333333333333, \"#9c179e\"], [0.4444444444444444, \"#bd3786\"], [0.5555555555555556, \"#d8576b\"], [0.6666666666666666, \"#ed7953\"], [0.7777777777777778, \"#fb9f3a\"], [0.8888888888888888, \"#fdca26\"], [1.0, \"#f0f921\"]], \"sequentialminus\": [[0.0, \"#0d0887\"], [0.1111111111111111, \"#46039f\"], [0.2222222222222222, \"#7201a8\"], [0.3333333333333333, \"#9c179e\"], [0.4444444444444444, \"#bd3786\"], [0.5555555555555556, \"#d8576b\"], [0.6666666666666666, \"#ed7953\"], [0.7777777777777778, \"#fb9f3a\"], [0.8888888888888888, \"#fdca26\"], [1.0, \"#f0f921\"]]}, \"colorway\": [\"#636efa\", \"#EF553B\", \"#00cc96\", \"#ab63fa\", \"#FFA15A\", \"#19d3f3\", \"#FF6692\", \"#B6E880\", \"#FF97FF\", \"#FECB52\"], \"font\": {\"color\": \"#2a3f5f\"}, \"geo\": {\"bgcolor\": \"white\", \"lakecolor\": \"white\", \"landcolor\": \"#E5ECF6\", \"showlakes\": true, \"showland\": true, \"subunitcolor\": \"white\"}, \"hoverlabel\": {\"align\": \"left\"}, \"hovermode\": \"closest\", \"mapbox\": {\"style\": \"light\"}, \"paper_bgcolor\": \"white\", \"plot_bgcolor\": \"#E5ECF6\", \"polar\": {\"angularaxis\": {\"gridcolor\": \"white\", \"linecolor\": \"white\", \"ticks\": \"\"}, \"bgcolor\": \"#E5ECF6\", \"radialaxis\": {\"gridcolor\": \"white\", \"linecolor\": \"white\", \"ticks\": \"\"}}, \"scene\": {\"xaxis\": {\"backgroundcolor\": \"#E5ECF6\", \"gridcolor\": \"white\", \"gridwidth\": 2, \"linecolor\": \"white\", \"showbackground\": true, \"ticks\": \"\", \"zerolinecolor\": \"white\"}, \"yaxis\": {\"backgroundcolor\": \"#E5ECF6\", \"gridcolor\": \"white\", \"gridwidth\": 2, \"linecolor\": \"white\", \"showbackground\": true, \"ticks\": \"\", \"zerolinecolor\": \"white\"}, \"zaxis\": {\"backgroundcolor\": \"#E5ECF6\", \"gridcolor\": \"white\", \"gridwidth\": 2, \"linecolor\": \"white\", \"showbackground\": true, \"ticks\": \"\", \"zerolinecolor\": \"white\"}}, \"shapedefaults\": {\"line\": {\"color\": \"#2a3f5f\"}}, \"ternary\": {\"aaxis\": {\"gridcolor\": \"white\", \"linecolor\": \"white\", \"ticks\": \"\"}, \"baxis\": {\"gridcolor\": \"white\", \"linecolor\": \"white\", \"ticks\": \"\"}, \"bgcolor\": \"#E5ECF6\", \"caxis\": {\"gridcolor\": \"white\", \"linecolor\": \"white\", \"ticks\": \"\"}}, \"title\": {\"x\": 0.05}, \"xaxis\": {\"automargin\": true, \"gridcolor\": \"white\", \"linecolor\": \"white\", \"ticks\": \"\", \"title\": {\"standoff\": 15}, \"zerolinecolor\": \"white\", \"zerolinewidth\": 2}, \"yaxis\": {\"automargin\": true, \"gridcolor\": \"white\", \"linecolor\": \"white\", \"ticks\": \"\", \"title\": {\"standoff\": 15}, \"zerolinecolor\": \"white\", \"zerolinewidth\": 2}}}},\n",
       "                        {\"responsive\": true}\n",
       "                    ).then(function(){\n",
       "                            \n",
       "var gd = document.getElementById('35468f4a-073e-499f-8eb2-66a11682bd6b');\n",
       "var x = new MutationObserver(function (mutations, observer) {{\n",
       "        var display = window.getComputedStyle(gd).display;\n",
       "        if (!display || display === 'none') {{\n",
       "            console.log([gd, 'removed!']);\n",
       "            Plotly.purge(gd);\n",
       "            observer.disconnect();\n",
       "        }}\n",
       "}});\n",
       "\n",
       "// Listen for the removal of the full notebook cells\n",
       "var notebookContainer = gd.closest('#notebook-container');\n",
       "if (notebookContainer) {{\n",
       "    x.observe(notebookContainer, {childList: true});\n",
       "}}\n",
       "\n",
       "// Listen for the clearing of the current output cell\n",
       "var outputEl = gd.closest('.output');\n",
       "if (outputEl) {{\n",
       "    x.observe(outputEl, {childList: true});\n",
       "}}\n",
       "\n",
       "                        })\n",
       "                };\n",
       "                });\n",
       "            </script>\n",
       "        </div>"
      ]
     },
     "metadata": {},
     "output_type": "display_data"
    },
    {
     "data": {
      "application/vnd.plotly.v1+json": {
       "config": {
        "plotlyServerURL": "https://plot.ly"
       },
       "data": [
        {
         "name": "known issuer",
         "type": "bar",
         "x": [
          "LTC"
         ],
         "y": [
          0
         ]
        },
        {
         "name": "unknown issuer",
         "type": "bar",
         "x": [
          "LTC"
         ],
         "y": [
          111365
         ]
        }
       ],
       "layout": {
        "barmode": "stack",
        "template": {
         "data": {
          "bar": [
           {
            "error_x": {
             "color": "#2a3f5f"
            },
            "error_y": {
             "color": "#2a3f5f"
            },
            "marker": {
             "line": {
              "color": "#E5ECF6",
              "width": 0.5
             }
            },
            "type": "bar"
           }
          ],
          "barpolar": [
           {
            "marker": {
             "line": {
              "color": "#E5ECF6",
              "width": 0.5
             }
            },
            "type": "barpolar"
           }
          ],
          "carpet": [
           {
            "aaxis": {
             "endlinecolor": "#2a3f5f",
             "gridcolor": "white",
             "linecolor": "white",
             "minorgridcolor": "white",
             "startlinecolor": "#2a3f5f"
            },
            "baxis": {
             "endlinecolor": "#2a3f5f",
             "gridcolor": "white",
             "linecolor": "white",
             "minorgridcolor": "white",
             "startlinecolor": "#2a3f5f"
            },
            "type": "carpet"
           }
          ],
          "choropleth": [
           {
            "colorbar": {
             "outlinewidth": 0,
             "ticks": ""
            },
            "type": "choropleth"
           }
          ],
          "contour": [
           {
            "colorbar": {
             "outlinewidth": 0,
             "ticks": ""
            },
            "colorscale": [
             [
              0,
              "#0d0887"
             ],
             [
              0.1111111111111111,
              "#46039f"
             ],
             [
              0.2222222222222222,
              "#7201a8"
             ],
             [
              0.3333333333333333,
              "#9c179e"
             ],
             [
              0.4444444444444444,
              "#bd3786"
             ],
             [
              0.5555555555555556,
              "#d8576b"
             ],
             [
              0.6666666666666666,
              "#ed7953"
             ],
             [
              0.7777777777777778,
              "#fb9f3a"
             ],
             [
              0.8888888888888888,
              "#fdca26"
             ],
             [
              1,
              "#f0f921"
             ]
            ],
            "type": "contour"
           }
          ],
          "contourcarpet": [
           {
            "colorbar": {
             "outlinewidth": 0,
             "ticks": ""
            },
            "type": "contourcarpet"
           }
          ],
          "heatmap": [
           {
            "colorbar": {
             "outlinewidth": 0,
             "ticks": ""
            },
            "colorscale": [
             [
              0,
              "#0d0887"
             ],
             [
              0.1111111111111111,
              "#46039f"
             ],
             [
              0.2222222222222222,
              "#7201a8"
             ],
             [
              0.3333333333333333,
              "#9c179e"
             ],
             [
              0.4444444444444444,
              "#bd3786"
             ],
             [
              0.5555555555555556,
              "#d8576b"
             ],
             [
              0.6666666666666666,
              "#ed7953"
             ],
             [
              0.7777777777777778,
              "#fb9f3a"
             ],
             [
              0.8888888888888888,
              "#fdca26"
             ],
             [
              1,
              "#f0f921"
             ]
            ],
            "type": "heatmap"
           }
          ],
          "heatmapgl": [
           {
            "colorbar": {
             "outlinewidth": 0,
             "ticks": ""
            },
            "colorscale": [
             [
              0,
              "#0d0887"
             ],
             [
              0.1111111111111111,
              "#46039f"
             ],
             [
              0.2222222222222222,
              "#7201a8"
             ],
             [
              0.3333333333333333,
              "#9c179e"
             ],
             [
              0.4444444444444444,
              "#bd3786"
             ],
             [
              0.5555555555555556,
              "#d8576b"
             ],
             [
              0.6666666666666666,
              "#ed7953"
             ],
             [
              0.7777777777777778,
              "#fb9f3a"
             ],
             [
              0.8888888888888888,
              "#fdca26"
             ],
             [
              1,
              "#f0f921"
             ]
            ],
            "type": "heatmapgl"
           }
          ],
          "histogram": [
           {
            "marker": {
             "colorbar": {
              "outlinewidth": 0,
              "ticks": ""
             }
            },
            "type": "histogram"
           }
          ],
          "histogram2d": [
           {
            "colorbar": {
             "outlinewidth": 0,
             "ticks": ""
            },
            "colorscale": [
             [
              0,
              "#0d0887"
             ],
             [
              0.1111111111111111,
              "#46039f"
             ],
             [
              0.2222222222222222,
              "#7201a8"
             ],
             [
              0.3333333333333333,
              "#9c179e"
             ],
             [
              0.4444444444444444,
              "#bd3786"
             ],
             [
              0.5555555555555556,
              "#d8576b"
             ],
             [
              0.6666666666666666,
              "#ed7953"
             ],
             [
              0.7777777777777778,
              "#fb9f3a"
             ],
             [
              0.8888888888888888,
              "#fdca26"
             ],
             [
              1,
              "#f0f921"
             ]
            ],
            "type": "histogram2d"
           }
          ],
          "histogram2dcontour": [
           {
            "colorbar": {
             "outlinewidth": 0,
             "ticks": ""
            },
            "colorscale": [
             [
              0,
              "#0d0887"
             ],
             [
              0.1111111111111111,
              "#46039f"
             ],
             [
              0.2222222222222222,
              "#7201a8"
             ],
             [
              0.3333333333333333,
              "#9c179e"
             ],
             [
              0.4444444444444444,
              "#bd3786"
             ],
             [
              0.5555555555555556,
              "#d8576b"
             ],
             [
              0.6666666666666666,
              "#ed7953"
             ],
             [
              0.7777777777777778,
              "#fb9f3a"
             ],
             [
              0.8888888888888888,
              "#fdca26"
             ],
             [
              1,
              "#f0f921"
             ]
            ],
            "type": "histogram2dcontour"
           }
          ],
          "mesh3d": [
           {
            "colorbar": {
             "outlinewidth": 0,
             "ticks": ""
            },
            "type": "mesh3d"
           }
          ],
          "parcoords": [
           {
            "line": {
             "colorbar": {
              "outlinewidth": 0,
              "ticks": ""
             }
            },
            "type": "parcoords"
           }
          ],
          "pie": [
           {
            "automargin": true,
            "type": "pie"
           }
          ],
          "scatter": [
           {
            "marker": {
             "colorbar": {
              "outlinewidth": 0,
              "ticks": ""
             }
            },
            "type": "scatter"
           }
          ],
          "scatter3d": [
           {
            "line": {
             "colorbar": {
              "outlinewidth": 0,
              "ticks": ""
             }
            },
            "marker": {
             "colorbar": {
              "outlinewidth": 0,
              "ticks": ""
             }
            },
            "type": "scatter3d"
           }
          ],
          "scattercarpet": [
           {
            "marker": {
             "colorbar": {
              "outlinewidth": 0,
              "ticks": ""
             }
            },
            "type": "scattercarpet"
           }
          ],
          "scattergeo": [
           {
            "marker": {
             "colorbar": {
              "outlinewidth": 0,
              "ticks": ""
             }
            },
            "type": "scattergeo"
           }
          ],
          "scattergl": [
           {
            "marker": {
             "colorbar": {
              "outlinewidth": 0,
              "ticks": ""
             }
            },
            "type": "scattergl"
           }
          ],
          "scattermapbox": [
           {
            "marker": {
             "colorbar": {
              "outlinewidth": 0,
              "ticks": ""
             }
            },
            "type": "scattermapbox"
           }
          ],
          "scatterpolar": [
           {
            "marker": {
             "colorbar": {
              "outlinewidth": 0,
              "ticks": ""
             }
            },
            "type": "scatterpolar"
           }
          ],
          "scatterpolargl": [
           {
            "marker": {
             "colorbar": {
              "outlinewidth": 0,
              "ticks": ""
             }
            },
            "type": "scatterpolargl"
           }
          ],
          "scatterternary": [
           {
            "marker": {
             "colorbar": {
              "outlinewidth": 0,
              "ticks": ""
             }
            },
            "type": "scatterternary"
           }
          ],
          "surface": [
           {
            "colorbar": {
             "outlinewidth": 0,
             "ticks": ""
            },
            "colorscale": [
             [
              0,
              "#0d0887"
             ],
             [
              0.1111111111111111,
              "#46039f"
             ],
             [
              0.2222222222222222,
              "#7201a8"
             ],
             [
              0.3333333333333333,
              "#9c179e"
             ],
             [
              0.4444444444444444,
              "#bd3786"
             ],
             [
              0.5555555555555556,
              "#d8576b"
             ],
             [
              0.6666666666666666,
              "#ed7953"
             ],
             [
              0.7777777777777778,
              "#fb9f3a"
             ],
             [
              0.8888888888888888,
              "#fdca26"
             ],
             [
              1,
              "#f0f921"
             ]
            ],
            "type": "surface"
           }
          ],
          "table": [
           {
            "cells": {
             "fill": {
              "color": "#EBF0F8"
             },
             "line": {
              "color": "white"
             }
            },
            "header": {
             "fill": {
              "color": "#C8D4E3"
             },
             "line": {
              "color": "white"
             }
            },
            "type": "table"
           }
          ]
         },
         "layout": {
          "annotationdefaults": {
           "arrowcolor": "#2a3f5f",
           "arrowhead": 0,
           "arrowwidth": 1
          },
          "coloraxis": {
           "colorbar": {
            "outlinewidth": 0,
            "ticks": ""
           }
          },
          "colorscale": {
           "diverging": [
            [
             0,
             "#8e0152"
            ],
            [
             0.1,
             "#c51b7d"
            ],
            [
             0.2,
             "#de77ae"
            ],
            [
             0.3,
             "#f1b6da"
            ],
            [
             0.4,
             "#fde0ef"
            ],
            [
             0.5,
             "#f7f7f7"
            ],
            [
             0.6,
             "#e6f5d0"
            ],
            [
             0.7,
             "#b8e186"
            ],
            [
             0.8,
             "#7fbc41"
            ],
            [
             0.9,
             "#4d9221"
            ],
            [
             1,
             "#276419"
            ]
           ],
           "sequential": [
            [
             0,
             "#0d0887"
            ],
            [
             0.1111111111111111,
             "#46039f"
            ],
            [
             0.2222222222222222,
             "#7201a8"
            ],
            [
             0.3333333333333333,
             "#9c179e"
            ],
            [
             0.4444444444444444,
             "#bd3786"
            ],
            [
             0.5555555555555556,
             "#d8576b"
            ],
            [
             0.6666666666666666,
             "#ed7953"
            ],
            [
             0.7777777777777778,
             "#fb9f3a"
            ],
            [
             0.8888888888888888,
             "#fdca26"
            ],
            [
             1,
             "#f0f921"
            ]
           ],
           "sequentialminus": [
            [
             0,
             "#0d0887"
            ],
            [
             0.1111111111111111,
             "#46039f"
            ],
            [
             0.2222222222222222,
             "#7201a8"
            ],
            [
             0.3333333333333333,
             "#9c179e"
            ],
            [
             0.4444444444444444,
             "#bd3786"
            ],
            [
             0.5555555555555556,
             "#d8576b"
            ],
            [
             0.6666666666666666,
             "#ed7953"
            ],
            [
             0.7777777777777778,
             "#fb9f3a"
            ],
            [
             0.8888888888888888,
             "#fdca26"
            ],
            [
             1,
             "#f0f921"
            ]
           ]
          },
          "colorway": [
           "#636efa",
           "#EF553B",
           "#00cc96",
           "#ab63fa",
           "#FFA15A",
           "#19d3f3",
           "#FF6692",
           "#B6E880",
           "#FF97FF",
           "#FECB52"
          ],
          "font": {
           "color": "#2a3f5f"
          },
          "geo": {
           "bgcolor": "white",
           "lakecolor": "white",
           "landcolor": "#E5ECF6",
           "showlakes": true,
           "showland": true,
           "subunitcolor": "white"
          },
          "hoverlabel": {
           "align": "left"
          },
          "hovermode": "closest",
          "mapbox": {
           "style": "light"
          },
          "paper_bgcolor": "white",
          "plot_bgcolor": "#E5ECF6",
          "polar": {
           "angularaxis": {
            "gridcolor": "white",
            "linecolor": "white",
            "ticks": ""
           },
           "bgcolor": "#E5ECF6",
           "radialaxis": {
            "gridcolor": "white",
            "linecolor": "white",
            "ticks": ""
           }
          },
          "scene": {
           "xaxis": {
            "backgroundcolor": "#E5ECF6",
            "gridcolor": "white",
            "gridwidth": 2,
            "linecolor": "white",
            "showbackground": true,
            "ticks": "",
            "zerolinecolor": "white"
           },
           "yaxis": {
            "backgroundcolor": "#E5ECF6",
            "gridcolor": "white",
            "gridwidth": 2,
            "linecolor": "white",
            "showbackground": true,
            "ticks": "",
            "zerolinecolor": "white"
           },
           "zaxis": {
            "backgroundcolor": "#E5ECF6",
            "gridcolor": "white",
            "gridwidth": 2,
            "linecolor": "white",
            "showbackground": true,
            "ticks": "",
            "zerolinecolor": "white"
           }
          },
          "shapedefaults": {
           "line": {
            "color": "#2a3f5f"
           }
          },
          "ternary": {
           "aaxis": {
            "gridcolor": "white",
            "linecolor": "white",
            "ticks": ""
           },
           "baxis": {
            "gridcolor": "white",
            "linecolor": "white",
            "ticks": ""
           },
           "bgcolor": "#E5ECF6",
           "caxis": {
            "gridcolor": "white",
            "linecolor": "white",
            "ticks": ""
           }
          },
          "title": {
           "x": 0.05
          },
          "xaxis": {
           "automargin": true,
           "gridcolor": "white",
           "linecolor": "white",
           "ticks": "",
           "title": {
            "standoff": 15
           },
           "zerolinecolor": "white",
           "zerolinewidth": 2
          },
          "yaxis": {
           "automargin": true,
           "gridcolor": "white",
           "linecolor": "white",
           "ticks": "",
           "title": {
            "standoff": 15
           },
           "zerolinecolor": "white",
           "zerolinewidth": 2
          }
         }
        }
       }
      },
      "text/html": [
       "<div>\n",
       "        \n",
       "        \n",
       "            <div id=\"361b1d0d-2f1a-4e4d-a587-37a07337e7d2\" class=\"plotly-graph-div\" style=\"height:525px; width:100%;\"></div>\n",
       "            <script type=\"text/javascript\">\n",
       "                require([\"plotly\"], function(Plotly) {\n",
       "                    window.PLOTLYENV=window.PLOTLYENV || {};\n",
       "                    \n",
       "                if (document.getElementById(\"361b1d0d-2f1a-4e4d-a587-37a07337e7d2\")) {\n",
       "                    Plotly.newPlot(\n",
       "                        '361b1d0d-2f1a-4e4d-a587-37a07337e7d2',\n",
       "                        [{\"name\": \"known issuer\", \"type\": \"bar\", \"x\": [\"LTC\"], \"y\": [0.0]}, {\"name\": \"unknown issuer\", \"type\": \"bar\", \"x\": [\"LTC\"], \"y\": [111365.0]}],\n",
       "                        {\"barmode\": \"stack\", \"template\": {\"data\": {\"bar\": [{\"error_x\": {\"color\": \"#2a3f5f\"}, \"error_y\": {\"color\": \"#2a3f5f\"}, \"marker\": {\"line\": {\"color\": \"#E5ECF6\", \"width\": 0.5}}, \"type\": \"bar\"}], \"barpolar\": [{\"marker\": {\"line\": {\"color\": \"#E5ECF6\", \"width\": 0.5}}, \"type\": \"barpolar\"}], \"carpet\": [{\"aaxis\": {\"endlinecolor\": \"#2a3f5f\", \"gridcolor\": \"white\", \"linecolor\": \"white\", \"minorgridcolor\": \"white\", \"startlinecolor\": \"#2a3f5f\"}, \"baxis\": {\"endlinecolor\": \"#2a3f5f\", \"gridcolor\": \"white\", \"linecolor\": \"white\", \"minorgridcolor\": \"white\", \"startlinecolor\": \"#2a3f5f\"}, \"type\": \"carpet\"}], \"choropleth\": [{\"colorbar\": {\"outlinewidth\": 0, \"ticks\": \"\"}, \"type\": \"choropleth\"}], \"contour\": [{\"colorbar\": {\"outlinewidth\": 0, \"ticks\": \"\"}, \"colorscale\": [[0.0, \"#0d0887\"], [0.1111111111111111, \"#46039f\"], [0.2222222222222222, \"#7201a8\"], [0.3333333333333333, \"#9c179e\"], [0.4444444444444444, \"#bd3786\"], [0.5555555555555556, \"#d8576b\"], [0.6666666666666666, \"#ed7953\"], [0.7777777777777778, \"#fb9f3a\"], [0.8888888888888888, \"#fdca26\"], [1.0, \"#f0f921\"]], \"type\": \"contour\"}], \"contourcarpet\": [{\"colorbar\": {\"outlinewidth\": 0, \"ticks\": \"\"}, \"type\": \"contourcarpet\"}], \"heatmap\": [{\"colorbar\": {\"outlinewidth\": 0, \"ticks\": \"\"}, \"colorscale\": [[0.0, \"#0d0887\"], [0.1111111111111111, \"#46039f\"], [0.2222222222222222, \"#7201a8\"], [0.3333333333333333, \"#9c179e\"], [0.4444444444444444, \"#bd3786\"], [0.5555555555555556, \"#d8576b\"], [0.6666666666666666, \"#ed7953\"], [0.7777777777777778, \"#fb9f3a\"], [0.8888888888888888, \"#fdca26\"], [1.0, \"#f0f921\"]], \"type\": \"heatmap\"}], \"heatmapgl\": [{\"colorbar\": {\"outlinewidth\": 0, \"ticks\": \"\"}, \"colorscale\": [[0.0, \"#0d0887\"], [0.1111111111111111, \"#46039f\"], [0.2222222222222222, \"#7201a8\"], [0.3333333333333333, \"#9c179e\"], [0.4444444444444444, \"#bd3786\"], [0.5555555555555556, \"#d8576b\"], [0.6666666666666666, \"#ed7953\"], [0.7777777777777778, \"#fb9f3a\"], [0.8888888888888888, \"#fdca26\"], [1.0, \"#f0f921\"]], \"type\": \"heatmapgl\"}], \"histogram\": [{\"marker\": {\"colorbar\": {\"outlinewidth\": 0, \"ticks\": \"\"}}, \"type\": \"histogram\"}], \"histogram2d\": [{\"colorbar\": {\"outlinewidth\": 0, \"ticks\": \"\"}, \"colorscale\": [[0.0, \"#0d0887\"], [0.1111111111111111, \"#46039f\"], [0.2222222222222222, \"#7201a8\"], [0.3333333333333333, \"#9c179e\"], [0.4444444444444444, \"#bd3786\"], [0.5555555555555556, \"#d8576b\"], [0.6666666666666666, \"#ed7953\"], [0.7777777777777778, \"#fb9f3a\"], [0.8888888888888888, \"#fdca26\"], [1.0, \"#f0f921\"]], \"type\": \"histogram2d\"}], \"histogram2dcontour\": [{\"colorbar\": {\"outlinewidth\": 0, \"ticks\": \"\"}, \"colorscale\": [[0.0, \"#0d0887\"], [0.1111111111111111, \"#46039f\"], [0.2222222222222222, \"#7201a8\"], [0.3333333333333333, \"#9c179e\"], [0.4444444444444444, \"#bd3786\"], [0.5555555555555556, \"#d8576b\"], [0.6666666666666666, \"#ed7953\"], [0.7777777777777778, \"#fb9f3a\"], [0.8888888888888888, \"#fdca26\"], [1.0, \"#f0f921\"]], \"type\": \"histogram2dcontour\"}], \"mesh3d\": [{\"colorbar\": {\"outlinewidth\": 0, \"ticks\": \"\"}, \"type\": \"mesh3d\"}], \"parcoords\": [{\"line\": {\"colorbar\": {\"outlinewidth\": 0, \"ticks\": \"\"}}, \"type\": \"parcoords\"}], \"pie\": [{\"automargin\": true, \"type\": \"pie\"}], \"scatter\": [{\"marker\": {\"colorbar\": {\"outlinewidth\": 0, \"ticks\": \"\"}}, \"type\": \"scatter\"}], \"scatter3d\": [{\"line\": {\"colorbar\": {\"outlinewidth\": 0, \"ticks\": \"\"}}, \"marker\": {\"colorbar\": {\"outlinewidth\": 0, \"ticks\": \"\"}}, \"type\": \"scatter3d\"}], \"scattercarpet\": [{\"marker\": {\"colorbar\": {\"outlinewidth\": 0, \"ticks\": \"\"}}, \"type\": \"scattercarpet\"}], \"scattergeo\": [{\"marker\": {\"colorbar\": {\"outlinewidth\": 0, \"ticks\": \"\"}}, \"type\": \"scattergeo\"}], \"scattergl\": [{\"marker\": {\"colorbar\": {\"outlinewidth\": 0, \"ticks\": \"\"}}, \"type\": \"scattergl\"}], \"scattermapbox\": [{\"marker\": {\"colorbar\": {\"outlinewidth\": 0, \"ticks\": \"\"}}, \"type\": \"scattermapbox\"}], \"scatterpolar\": [{\"marker\": {\"colorbar\": {\"outlinewidth\": 0, \"ticks\": \"\"}}, \"type\": \"scatterpolar\"}], \"scatterpolargl\": [{\"marker\": {\"colorbar\": {\"outlinewidth\": 0, \"ticks\": \"\"}}, \"type\": \"scatterpolargl\"}], \"scatterternary\": [{\"marker\": {\"colorbar\": {\"outlinewidth\": 0, \"ticks\": \"\"}}, \"type\": \"scatterternary\"}], \"surface\": [{\"colorbar\": {\"outlinewidth\": 0, \"ticks\": \"\"}, \"colorscale\": [[0.0, \"#0d0887\"], [0.1111111111111111, \"#46039f\"], [0.2222222222222222, \"#7201a8\"], [0.3333333333333333, \"#9c179e\"], [0.4444444444444444, \"#bd3786\"], [0.5555555555555556, \"#d8576b\"], [0.6666666666666666, \"#ed7953\"], [0.7777777777777778, \"#fb9f3a\"], [0.8888888888888888, \"#fdca26\"], [1.0, \"#f0f921\"]], \"type\": \"surface\"}], \"table\": [{\"cells\": {\"fill\": {\"color\": \"#EBF0F8\"}, \"line\": {\"color\": \"white\"}}, \"header\": {\"fill\": {\"color\": \"#C8D4E3\"}, \"line\": {\"color\": \"white\"}}, \"type\": \"table\"}]}, \"layout\": {\"annotationdefaults\": {\"arrowcolor\": \"#2a3f5f\", \"arrowhead\": 0, \"arrowwidth\": 1}, \"coloraxis\": {\"colorbar\": {\"outlinewidth\": 0, \"ticks\": \"\"}}, \"colorscale\": {\"diverging\": [[0, \"#8e0152\"], [0.1, \"#c51b7d\"], [0.2, \"#de77ae\"], [0.3, \"#f1b6da\"], [0.4, \"#fde0ef\"], [0.5, \"#f7f7f7\"], [0.6, \"#e6f5d0\"], [0.7, \"#b8e186\"], [0.8, \"#7fbc41\"], [0.9, \"#4d9221\"], [1, \"#276419\"]], \"sequential\": [[0.0, \"#0d0887\"], [0.1111111111111111, \"#46039f\"], [0.2222222222222222, \"#7201a8\"], [0.3333333333333333, \"#9c179e\"], [0.4444444444444444, \"#bd3786\"], [0.5555555555555556, \"#d8576b\"], [0.6666666666666666, \"#ed7953\"], [0.7777777777777778, \"#fb9f3a\"], [0.8888888888888888, \"#fdca26\"], [1.0, \"#f0f921\"]], \"sequentialminus\": [[0.0, \"#0d0887\"], [0.1111111111111111, \"#46039f\"], [0.2222222222222222, \"#7201a8\"], [0.3333333333333333, \"#9c179e\"], [0.4444444444444444, \"#bd3786\"], [0.5555555555555556, \"#d8576b\"], [0.6666666666666666, \"#ed7953\"], [0.7777777777777778, \"#fb9f3a\"], [0.8888888888888888, \"#fdca26\"], [1.0, \"#f0f921\"]]}, \"colorway\": [\"#636efa\", \"#EF553B\", \"#00cc96\", \"#ab63fa\", \"#FFA15A\", \"#19d3f3\", \"#FF6692\", \"#B6E880\", \"#FF97FF\", \"#FECB52\"], \"font\": {\"color\": \"#2a3f5f\"}, \"geo\": {\"bgcolor\": \"white\", \"lakecolor\": \"white\", \"landcolor\": \"#E5ECF6\", \"showlakes\": true, \"showland\": true, \"subunitcolor\": \"white\"}, \"hoverlabel\": {\"align\": \"left\"}, \"hovermode\": \"closest\", \"mapbox\": {\"style\": \"light\"}, \"paper_bgcolor\": \"white\", \"plot_bgcolor\": \"#E5ECF6\", \"polar\": {\"angularaxis\": {\"gridcolor\": \"white\", \"linecolor\": \"white\", \"ticks\": \"\"}, \"bgcolor\": \"#E5ECF6\", \"radialaxis\": {\"gridcolor\": \"white\", \"linecolor\": \"white\", \"ticks\": \"\"}}, \"scene\": {\"xaxis\": {\"backgroundcolor\": \"#E5ECF6\", \"gridcolor\": \"white\", \"gridwidth\": 2, \"linecolor\": \"white\", \"showbackground\": true, \"ticks\": \"\", \"zerolinecolor\": \"white\"}, \"yaxis\": {\"backgroundcolor\": \"#E5ECF6\", \"gridcolor\": \"white\", \"gridwidth\": 2, \"linecolor\": \"white\", \"showbackground\": true, \"ticks\": \"\", \"zerolinecolor\": \"white\"}, \"zaxis\": {\"backgroundcolor\": \"#E5ECF6\", \"gridcolor\": \"white\", \"gridwidth\": 2, \"linecolor\": \"white\", \"showbackground\": true, \"ticks\": \"\", \"zerolinecolor\": \"white\"}}, \"shapedefaults\": {\"line\": {\"color\": \"#2a3f5f\"}}, \"ternary\": {\"aaxis\": {\"gridcolor\": \"white\", \"linecolor\": \"white\", \"ticks\": \"\"}, \"baxis\": {\"gridcolor\": \"white\", \"linecolor\": \"white\", \"ticks\": \"\"}, \"bgcolor\": \"#E5ECF6\", \"caxis\": {\"gridcolor\": \"white\", \"linecolor\": \"white\", \"ticks\": \"\"}}, \"title\": {\"x\": 0.05}, \"xaxis\": {\"automargin\": true, \"gridcolor\": \"white\", \"linecolor\": \"white\", \"ticks\": \"\", \"title\": {\"standoff\": 15}, \"zerolinecolor\": \"white\", \"zerolinewidth\": 2}, \"yaxis\": {\"automargin\": true, \"gridcolor\": \"white\", \"linecolor\": \"white\", \"ticks\": \"\", \"title\": {\"standoff\": 15}, \"zerolinecolor\": \"white\", \"zerolinewidth\": 2}}}},\n",
       "                        {\"responsive\": true}\n",
       "                    ).then(function(){\n",
       "                            \n",
       "var gd = document.getElementById('361b1d0d-2f1a-4e4d-a587-37a07337e7d2');\n",
       "var x = new MutationObserver(function (mutations, observer) {{\n",
       "        var display = window.getComputedStyle(gd).display;\n",
       "        if (!display || display === 'none') {{\n",
       "            console.log([gd, 'removed!']);\n",
       "            Plotly.purge(gd);\n",
       "            observer.disconnect();\n",
       "        }}\n",
       "}});\n",
       "\n",
       "// Listen for the removal of the full notebook cells\n",
       "var notebookContainer = gd.closest('#notebook-container');\n",
       "if (notebookContainer) {{\n",
       "    x.observe(notebookContainer, {childList: true});\n",
       "}}\n",
       "\n",
       "// Listen for the clearing of the current output cell\n",
       "var outputEl = gd.closest('.output');\n",
       "if (outputEl) {{\n",
       "    x.observe(outputEl, {childList: true});\n",
       "}}\n",
       "\n",
       "                        })\n",
       "                };\n",
       "                });\n",
       "            </script>\n",
       "        </div>"
      ]
     },
     "metadata": {},
     "output_type": "display_data"
    }
   ],
   "source": [
    "cryptos = np.array([['USD', 'CNY', 'EUR', 'AUD'],\n",
    "                    ['BTC', 'ETH', 'BCH', 'LTC']])\n",
    "\n",
    "nrows = cryptos.shape[0]\n",
    "ncols = cryptos.shape[1]\n",
    "\n",
    "fig = make_subplots(rows=nrows, cols=ncols)\n",
    "\n",
    "for i in range(nrows):\n",
    "    for j in range(ncols):\n",
    "        crypto = cryptos[i,j]\n",
    "        fig = go.Figure(data=[\n",
    "            go.Bar(name='known issuer', x=[crypto], y=[df.loc[(df['currency'] == crypto) & (df['issuer'].isin(df_gateways['account'])), 'value'].sum()]),\n",
    "            go.Bar(name='unknown issuer', x=[crypto], y=[df.loc[(df['currency'] == crypto) & (~df['issuer'].isin(df_gateways['account'])), 'value'].sum()])\n",
    "            ])\n",
    "        fig.update_layout(barmode='stack')\n",
    "        fig.show()\n",
    "            "
   ]
  },
  {
   "cell_type": "code",
   "execution_count": 74,
   "metadata": {},
   "outputs": [
    {
     "data": {
      "application/vnd.plotly.v1+json": {
       "config": {
        "plotlyServerURL": "https://plot.ly"
       },
       "data": [
        {
         "legendgroup": "group",
         "name": "known issuer",
         "type": "bar",
         "x": [
          "USD"
         ],
         "xaxis": "x",
         "y": [
          12910468.868459746
         ],
         "yaxis": "y"
        },
        {
         "legendgroup": "group2",
         "name": "unknown issuer",
         "type": "bar",
         "x": [
          "USD"
         ],
         "xaxis": "x",
         "y": [
          5232477.311935
         ],
         "yaxis": "y"
        },
        {
         "legendgroup": "group",
         "name": "known issuer",
         "type": "bar",
         "x": [
          "CNY"
         ],
         "xaxis": "x2",
         "y": [
          929592.9468128073
         ],
         "yaxis": "y2"
        },
        {
         "legendgroup": "group2",
         "name": "unknown issuer",
         "type": "bar",
         "x": [
          "CNY"
         ],
         "xaxis": "x2",
         "y": [
          5017176.93
         ],
         "yaxis": "y2"
        },
        {
         "legendgroup": "group",
         "name": "known issuer",
         "type": "bar",
         "x": [
          "EUR"
         ],
         "xaxis": "x3",
         "y": [
          92182.34100000001
         ],
         "yaxis": "y3"
        },
        {
         "legendgroup": "group2",
         "name": "unknown issuer",
         "type": "bar",
         "x": [
          "EUR"
         ],
         "xaxis": "x3",
         "y": [
          134801.2
         ],
         "yaxis": "y3"
        },
        {
         "legendgroup": "group",
         "name": "known issuer",
         "type": "bar",
         "x": [
          "AUD"
         ],
         "xaxis": "x4",
         "y": [
          0
         ],
         "yaxis": "y4"
        },
        {
         "legendgroup": "group2",
         "name": "unknown issuer",
         "type": "bar",
         "x": [
          "AUD"
         ],
         "xaxis": "x4",
         "y": [
          3665443.5799999996
         ],
         "yaxis": "y4"
        },
        {
         "legendgroup": "group",
         "name": "known issuer",
         "type": "bar",
         "x": [
          "BTC"
         ],
         "xaxis": "x5",
         "y": [
          21.24364833140581
         ],
         "yaxis": "y5"
        },
        {
         "legendgroup": "group2",
         "name": "unknown issuer",
         "type": "bar",
         "x": [
          "BTC"
         ],
         "xaxis": "x5",
         "y": [
          91514600.3514631
         ],
         "yaxis": "y5"
        },
        {
         "legendgroup": "group",
         "name": "known issuer",
         "type": "bar",
         "x": [
          "ETH"
         ],
         "xaxis": "x6",
         "y": [
          245.19781507577753
         ],
         "yaxis": "y6"
        },
        {
         "legendgroup": "group2",
         "name": "unknown issuer",
         "type": "bar",
         "x": [
          "ETH"
         ],
         "xaxis": "x6",
         "y": [
          4700
         ],
         "yaxis": "y6"
        },
        {
         "legendgroup": "group",
         "name": "known issuer",
         "type": "bar",
         "x": [
          "BCH"
         ],
         "xaxis": "x7",
         "y": [
          0
         ],
         "yaxis": "y7"
        },
        {
         "legendgroup": "group2",
         "name": "unknown issuer",
         "type": "bar",
         "x": [
          "BCH"
         ],
         "xaxis": "x7",
         "y": [
          99330
         ],
         "yaxis": "y7"
        },
        {
         "legendgroup": "group",
         "name": "known issuer",
         "type": "bar",
         "x": [
          "LTC"
         ],
         "xaxis": "x8",
         "y": [
          0
         ],
         "yaxis": "y8"
        },
        {
         "legendgroup": "group2",
         "name": "unknown issuer",
         "type": "bar",
         "x": [
          "LTC"
         ],
         "xaxis": "x8",
         "y": [
          111365
         ],
         "yaxis": "y8"
        }
       ],
       "layout": {
        "barmode": "stack",
        "template": {
         "data": {
          "bar": [
           {
            "error_x": {
             "color": "#2a3f5f"
            },
            "error_y": {
             "color": "#2a3f5f"
            },
            "marker": {
             "line": {
              "color": "#E5ECF6",
              "width": 0.5
             }
            },
            "type": "bar"
           }
          ],
          "barpolar": [
           {
            "marker": {
             "line": {
              "color": "#E5ECF6",
              "width": 0.5
             }
            },
            "type": "barpolar"
           }
          ],
          "carpet": [
           {
            "aaxis": {
             "endlinecolor": "#2a3f5f",
             "gridcolor": "white",
             "linecolor": "white",
             "minorgridcolor": "white",
             "startlinecolor": "#2a3f5f"
            },
            "baxis": {
             "endlinecolor": "#2a3f5f",
             "gridcolor": "white",
             "linecolor": "white",
             "minorgridcolor": "white",
             "startlinecolor": "#2a3f5f"
            },
            "type": "carpet"
           }
          ],
          "choropleth": [
           {
            "colorbar": {
             "outlinewidth": 0,
             "ticks": ""
            },
            "type": "choropleth"
           }
          ],
          "contour": [
           {
            "colorbar": {
             "outlinewidth": 0,
             "ticks": ""
            },
            "colorscale": [
             [
              0,
              "#0d0887"
             ],
             [
              0.1111111111111111,
              "#46039f"
             ],
             [
              0.2222222222222222,
              "#7201a8"
             ],
             [
              0.3333333333333333,
              "#9c179e"
             ],
             [
              0.4444444444444444,
              "#bd3786"
             ],
             [
              0.5555555555555556,
              "#d8576b"
             ],
             [
              0.6666666666666666,
              "#ed7953"
             ],
             [
              0.7777777777777778,
              "#fb9f3a"
             ],
             [
              0.8888888888888888,
              "#fdca26"
             ],
             [
              1,
              "#f0f921"
             ]
            ],
            "type": "contour"
           }
          ],
          "contourcarpet": [
           {
            "colorbar": {
             "outlinewidth": 0,
             "ticks": ""
            },
            "type": "contourcarpet"
           }
          ],
          "heatmap": [
           {
            "colorbar": {
             "outlinewidth": 0,
             "ticks": ""
            },
            "colorscale": [
             [
              0,
              "#0d0887"
             ],
             [
              0.1111111111111111,
              "#46039f"
             ],
             [
              0.2222222222222222,
              "#7201a8"
             ],
             [
              0.3333333333333333,
              "#9c179e"
             ],
             [
              0.4444444444444444,
              "#bd3786"
             ],
             [
              0.5555555555555556,
              "#d8576b"
             ],
             [
              0.6666666666666666,
              "#ed7953"
             ],
             [
              0.7777777777777778,
              "#fb9f3a"
             ],
             [
              0.8888888888888888,
              "#fdca26"
             ],
             [
              1,
              "#f0f921"
             ]
            ],
            "type": "heatmap"
           }
          ],
          "heatmapgl": [
           {
            "colorbar": {
             "outlinewidth": 0,
             "ticks": ""
            },
            "colorscale": [
             [
              0,
              "#0d0887"
             ],
             [
              0.1111111111111111,
              "#46039f"
             ],
             [
              0.2222222222222222,
              "#7201a8"
             ],
             [
              0.3333333333333333,
              "#9c179e"
             ],
             [
              0.4444444444444444,
              "#bd3786"
             ],
             [
              0.5555555555555556,
              "#d8576b"
             ],
             [
              0.6666666666666666,
              "#ed7953"
             ],
             [
              0.7777777777777778,
              "#fb9f3a"
             ],
             [
              0.8888888888888888,
              "#fdca26"
             ],
             [
              1,
              "#f0f921"
             ]
            ],
            "type": "heatmapgl"
           }
          ],
          "histogram": [
           {
            "marker": {
             "colorbar": {
              "outlinewidth": 0,
              "ticks": ""
             }
            },
            "type": "histogram"
           }
          ],
          "histogram2d": [
           {
            "colorbar": {
             "outlinewidth": 0,
             "ticks": ""
            },
            "colorscale": [
             [
              0,
              "#0d0887"
             ],
             [
              0.1111111111111111,
              "#46039f"
             ],
             [
              0.2222222222222222,
              "#7201a8"
             ],
             [
              0.3333333333333333,
              "#9c179e"
             ],
             [
              0.4444444444444444,
              "#bd3786"
             ],
             [
              0.5555555555555556,
              "#d8576b"
             ],
             [
              0.6666666666666666,
              "#ed7953"
             ],
             [
              0.7777777777777778,
              "#fb9f3a"
             ],
             [
              0.8888888888888888,
              "#fdca26"
             ],
             [
              1,
              "#f0f921"
             ]
            ],
            "type": "histogram2d"
           }
          ],
          "histogram2dcontour": [
           {
            "colorbar": {
             "outlinewidth": 0,
             "ticks": ""
            },
            "colorscale": [
             [
              0,
              "#0d0887"
             ],
             [
              0.1111111111111111,
              "#46039f"
             ],
             [
              0.2222222222222222,
              "#7201a8"
             ],
             [
              0.3333333333333333,
              "#9c179e"
             ],
             [
              0.4444444444444444,
              "#bd3786"
             ],
             [
              0.5555555555555556,
              "#d8576b"
             ],
             [
              0.6666666666666666,
              "#ed7953"
             ],
             [
              0.7777777777777778,
              "#fb9f3a"
             ],
             [
              0.8888888888888888,
              "#fdca26"
             ],
             [
              1,
              "#f0f921"
             ]
            ],
            "type": "histogram2dcontour"
           }
          ],
          "mesh3d": [
           {
            "colorbar": {
             "outlinewidth": 0,
             "ticks": ""
            },
            "type": "mesh3d"
           }
          ],
          "parcoords": [
           {
            "line": {
             "colorbar": {
              "outlinewidth": 0,
              "ticks": ""
             }
            },
            "type": "parcoords"
           }
          ],
          "pie": [
           {
            "automargin": true,
            "type": "pie"
           }
          ],
          "scatter": [
           {
            "marker": {
             "colorbar": {
              "outlinewidth": 0,
              "ticks": ""
             }
            },
            "type": "scatter"
           }
          ],
          "scatter3d": [
           {
            "line": {
             "colorbar": {
              "outlinewidth": 0,
              "ticks": ""
             }
            },
            "marker": {
             "colorbar": {
              "outlinewidth": 0,
              "ticks": ""
             }
            },
            "type": "scatter3d"
           }
          ],
          "scattercarpet": [
           {
            "marker": {
             "colorbar": {
              "outlinewidth": 0,
              "ticks": ""
             }
            },
            "type": "scattercarpet"
           }
          ],
          "scattergeo": [
           {
            "marker": {
             "colorbar": {
              "outlinewidth": 0,
              "ticks": ""
             }
            },
            "type": "scattergeo"
           }
          ],
          "scattergl": [
           {
            "marker": {
             "colorbar": {
              "outlinewidth": 0,
              "ticks": ""
             }
            },
            "type": "scattergl"
           }
          ],
          "scattermapbox": [
           {
            "marker": {
             "colorbar": {
              "outlinewidth": 0,
              "ticks": ""
             }
            },
            "type": "scattermapbox"
           }
          ],
          "scatterpolar": [
           {
            "marker": {
             "colorbar": {
              "outlinewidth": 0,
              "ticks": ""
             }
            },
            "type": "scatterpolar"
           }
          ],
          "scatterpolargl": [
           {
            "marker": {
             "colorbar": {
              "outlinewidth": 0,
              "ticks": ""
             }
            },
            "type": "scatterpolargl"
           }
          ],
          "scatterternary": [
           {
            "marker": {
             "colorbar": {
              "outlinewidth": 0,
              "ticks": ""
             }
            },
            "type": "scatterternary"
           }
          ],
          "surface": [
           {
            "colorbar": {
             "outlinewidth": 0,
             "ticks": ""
            },
            "colorscale": [
             [
              0,
              "#0d0887"
             ],
             [
              0.1111111111111111,
              "#46039f"
             ],
             [
              0.2222222222222222,
              "#7201a8"
             ],
             [
              0.3333333333333333,
              "#9c179e"
             ],
             [
              0.4444444444444444,
              "#bd3786"
             ],
             [
              0.5555555555555556,
              "#d8576b"
             ],
             [
              0.6666666666666666,
              "#ed7953"
             ],
             [
              0.7777777777777778,
              "#fb9f3a"
             ],
             [
              0.8888888888888888,
              "#fdca26"
             ],
             [
              1,
              "#f0f921"
             ]
            ],
            "type": "surface"
           }
          ],
          "table": [
           {
            "cells": {
             "fill": {
              "color": "#EBF0F8"
             },
             "line": {
              "color": "white"
             }
            },
            "header": {
             "fill": {
              "color": "#C8D4E3"
             },
             "line": {
              "color": "white"
             }
            },
            "type": "table"
           }
          ]
         },
         "layout": {
          "annotationdefaults": {
           "arrowcolor": "#2a3f5f",
           "arrowhead": 0,
           "arrowwidth": 1
          },
          "coloraxis": {
           "colorbar": {
            "outlinewidth": 0,
            "ticks": ""
           }
          },
          "colorscale": {
           "diverging": [
            [
             0,
             "#8e0152"
            ],
            [
             0.1,
             "#c51b7d"
            ],
            [
             0.2,
             "#de77ae"
            ],
            [
             0.3,
             "#f1b6da"
            ],
            [
             0.4,
             "#fde0ef"
            ],
            [
             0.5,
             "#f7f7f7"
            ],
            [
             0.6,
             "#e6f5d0"
            ],
            [
             0.7,
             "#b8e186"
            ],
            [
             0.8,
             "#7fbc41"
            ],
            [
             0.9,
             "#4d9221"
            ],
            [
             1,
             "#276419"
            ]
           ],
           "sequential": [
            [
             0,
             "#0d0887"
            ],
            [
             0.1111111111111111,
             "#46039f"
            ],
            [
             0.2222222222222222,
             "#7201a8"
            ],
            [
             0.3333333333333333,
             "#9c179e"
            ],
            [
             0.4444444444444444,
             "#bd3786"
            ],
            [
             0.5555555555555556,
             "#d8576b"
            ],
            [
             0.6666666666666666,
             "#ed7953"
            ],
            [
             0.7777777777777778,
             "#fb9f3a"
            ],
            [
             0.8888888888888888,
             "#fdca26"
            ],
            [
             1,
             "#f0f921"
            ]
           ],
           "sequentialminus": [
            [
             0,
             "#0d0887"
            ],
            [
             0.1111111111111111,
             "#46039f"
            ],
            [
             0.2222222222222222,
             "#7201a8"
            ],
            [
             0.3333333333333333,
             "#9c179e"
            ],
            [
             0.4444444444444444,
             "#bd3786"
            ],
            [
             0.5555555555555556,
             "#d8576b"
            ],
            [
             0.6666666666666666,
             "#ed7953"
            ],
            [
             0.7777777777777778,
             "#fb9f3a"
            ],
            [
             0.8888888888888888,
             "#fdca26"
            ],
            [
             1,
             "#f0f921"
            ]
           ]
          },
          "colorway": [
           "#636efa",
           "#EF553B",
           "#00cc96",
           "#ab63fa",
           "#FFA15A",
           "#19d3f3",
           "#FF6692",
           "#B6E880",
           "#FF97FF",
           "#FECB52"
          ],
          "font": {
           "color": "#2a3f5f"
          },
          "geo": {
           "bgcolor": "white",
           "lakecolor": "white",
           "landcolor": "#E5ECF6",
           "showlakes": true,
           "showland": true,
           "subunitcolor": "white"
          },
          "hoverlabel": {
           "align": "left"
          },
          "hovermode": "closest",
          "mapbox": {
           "style": "light"
          },
          "paper_bgcolor": "white",
          "plot_bgcolor": "#E5ECF6",
          "polar": {
           "angularaxis": {
            "gridcolor": "white",
            "linecolor": "white",
            "ticks": ""
           },
           "bgcolor": "#E5ECF6",
           "radialaxis": {
            "gridcolor": "white",
            "linecolor": "white",
            "ticks": ""
           }
          },
          "scene": {
           "xaxis": {
            "backgroundcolor": "#E5ECF6",
            "gridcolor": "white",
            "gridwidth": 2,
            "linecolor": "white",
            "showbackground": true,
            "ticks": "",
            "zerolinecolor": "white"
           },
           "yaxis": {
            "backgroundcolor": "#E5ECF6",
            "gridcolor": "white",
            "gridwidth": 2,
            "linecolor": "white",
            "showbackground": true,
            "ticks": "",
            "zerolinecolor": "white"
           },
           "zaxis": {
            "backgroundcolor": "#E5ECF6",
            "gridcolor": "white",
            "gridwidth": 2,
            "linecolor": "white",
            "showbackground": true,
            "ticks": "",
            "zerolinecolor": "white"
           }
          },
          "shapedefaults": {
           "line": {
            "color": "#2a3f5f"
           }
          },
          "ternary": {
           "aaxis": {
            "gridcolor": "white",
            "linecolor": "white",
            "ticks": ""
           },
           "baxis": {
            "gridcolor": "white",
            "linecolor": "white",
            "ticks": ""
           },
           "bgcolor": "#E5ECF6",
           "caxis": {
            "gridcolor": "white",
            "linecolor": "white",
            "ticks": ""
           }
          },
          "title": {
           "x": 0.05
          },
          "xaxis": {
           "automargin": true,
           "gridcolor": "white",
           "linecolor": "white",
           "ticks": "",
           "title": {
            "standoff": 15
           },
           "zerolinecolor": "white",
           "zerolinewidth": 2
          },
          "yaxis": {
           "automargin": true,
           "gridcolor": "white",
           "linecolor": "white",
           "ticks": "",
           "title": {
            "standoff": 15
           },
           "zerolinecolor": "white",
           "zerolinewidth": 2
          }
         }
        },
        "xaxis": {
         "anchor": "y",
         "domain": [
          0,
          0.2125
         ]
        },
        "xaxis2": {
         "anchor": "y2",
         "domain": [
          0.2625,
          0.475
         ]
        },
        "xaxis3": {
         "anchor": "y3",
         "domain": [
          0.525,
          0.7375
         ]
        },
        "xaxis4": {
         "anchor": "y4",
         "domain": [
          0.7875,
          1
         ]
        },
        "xaxis5": {
         "anchor": "y5",
         "domain": [
          0,
          0.2125
         ]
        },
        "xaxis6": {
         "anchor": "y6",
         "domain": [
          0.2625,
          0.475
         ]
        },
        "xaxis7": {
         "anchor": "y7",
         "domain": [
          0.525,
          0.7375
         ]
        },
        "xaxis8": {
         "anchor": "y8",
         "domain": [
          0.7875,
          1
         ]
        },
        "yaxis": {
         "anchor": "x",
         "domain": [
          0.575,
          1
         ]
        },
        "yaxis2": {
         "anchor": "x2",
         "domain": [
          0.575,
          1
         ]
        },
        "yaxis3": {
         "anchor": "x3",
         "domain": [
          0.575,
          1
         ]
        },
        "yaxis4": {
         "anchor": "x4",
         "domain": [
          0.575,
          1
         ]
        },
        "yaxis5": {
         "anchor": "x5",
         "domain": [
          0,
          0.425
         ]
        },
        "yaxis6": {
         "anchor": "x6",
         "domain": [
          0,
          0.425
         ]
        },
        "yaxis7": {
         "anchor": "x7",
         "domain": [
          0,
          0.425
         ]
        },
        "yaxis8": {
         "anchor": "x8",
         "domain": [
          0,
          0.425
         ]
        }
       }
      },
      "text/html": [
       "<div>\n",
       "        \n",
       "        \n",
       "            <div id=\"5f35c243-2b76-4973-bd1a-bd0e0f169cb0\" class=\"plotly-graph-div\" style=\"height:525px; width:100%;\"></div>\n",
       "            <script type=\"text/javascript\">\n",
       "                require([\"plotly\"], function(Plotly) {\n",
       "                    window.PLOTLYENV=window.PLOTLYENV || {};\n",
       "                    \n",
       "                if (document.getElementById(\"5f35c243-2b76-4973-bd1a-bd0e0f169cb0\")) {\n",
       "                    Plotly.newPlot(\n",
       "                        '5f35c243-2b76-4973-bd1a-bd0e0f169cb0',\n",
       "                        [{\"legendgroup\": \"group\", \"name\": \"known issuer\", \"type\": \"bar\", \"x\": [\"USD\"], \"xaxis\": \"x\", \"y\": [12910468.868459746], \"yaxis\": \"y\"}, {\"legendgroup\": \"group2\", \"name\": \"unknown issuer\", \"type\": \"bar\", \"x\": [\"USD\"], \"xaxis\": \"x\", \"y\": [5232477.311935], \"yaxis\": \"y\"}, {\"legendgroup\": \"group\", \"name\": \"known issuer\", \"type\": \"bar\", \"x\": [\"CNY\"], \"xaxis\": \"x2\", \"y\": [929592.9468128073], \"yaxis\": \"y2\"}, {\"legendgroup\": \"group2\", \"name\": \"unknown issuer\", \"type\": \"bar\", \"x\": [\"CNY\"], \"xaxis\": \"x2\", \"y\": [5017176.93], \"yaxis\": \"y2\"}, {\"legendgroup\": \"group\", \"name\": \"known issuer\", \"type\": \"bar\", \"x\": [\"EUR\"], \"xaxis\": \"x3\", \"y\": [92182.34100000001], \"yaxis\": \"y3\"}, {\"legendgroup\": \"group2\", \"name\": \"unknown issuer\", \"type\": \"bar\", \"x\": [\"EUR\"], \"xaxis\": \"x3\", \"y\": [134801.2], \"yaxis\": \"y3\"}, {\"legendgroup\": \"group\", \"name\": \"known issuer\", \"type\": \"bar\", \"x\": [\"AUD\"], \"xaxis\": \"x4\", \"y\": [0.0], \"yaxis\": \"y4\"}, {\"legendgroup\": \"group2\", \"name\": \"unknown issuer\", \"type\": \"bar\", \"x\": [\"AUD\"], \"xaxis\": \"x4\", \"y\": [3665443.5799999996], \"yaxis\": \"y4\"}, {\"legendgroup\": \"group\", \"name\": \"known issuer\", \"type\": \"bar\", \"x\": [\"BTC\"], \"xaxis\": \"x5\", \"y\": [21.24364833140581], \"yaxis\": \"y5\"}, {\"legendgroup\": \"group2\", \"name\": \"unknown issuer\", \"type\": \"bar\", \"x\": [\"BTC\"], \"xaxis\": \"x5\", \"y\": [91514600.3514631], \"yaxis\": \"y5\"}, {\"legendgroup\": \"group\", \"name\": \"known issuer\", \"type\": \"bar\", \"x\": [\"ETH\"], \"xaxis\": \"x6\", \"y\": [245.19781507577753], \"yaxis\": \"y6\"}, {\"legendgroup\": \"group2\", \"name\": \"unknown issuer\", \"type\": \"bar\", \"x\": [\"ETH\"], \"xaxis\": \"x6\", \"y\": [4700.0], \"yaxis\": \"y6\"}, {\"legendgroup\": \"group\", \"name\": \"known issuer\", \"type\": \"bar\", \"x\": [\"BCH\"], \"xaxis\": \"x7\", \"y\": [0.0], \"yaxis\": \"y7\"}, {\"legendgroup\": \"group2\", \"name\": \"unknown issuer\", \"type\": \"bar\", \"x\": [\"BCH\"], \"xaxis\": \"x7\", \"y\": [99330.0], \"yaxis\": \"y7\"}, {\"legendgroup\": \"group\", \"name\": \"known issuer\", \"type\": \"bar\", \"x\": [\"LTC\"], \"xaxis\": \"x8\", \"y\": [0.0], \"yaxis\": \"y8\"}, {\"legendgroup\": \"group2\", \"name\": \"unknown issuer\", \"type\": \"bar\", \"x\": [\"LTC\"], \"xaxis\": \"x8\", \"y\": [111365.0], \"yaxis\": \"y8\"}],\n",
       "                        {\"barmode\": \"stack\", \"template\": {\"data\": {\"bar\": [{\"error_x\": {\"color\": \"#2a3f5f\"}, \"error_y\": {\"color\": \"#2a3f5f\"}, \"marker\": {\"line\": {\"color\": \"#E5ECF6\", \"width\": 0.5}}, \"type\": \"bar\"}], \"barpolar\": [{\"marker\": {\"line\": {\"color\": \"#E5ECF6\", \"width\": 0.5}}, \"type\": \"barpolar\"}], \"carpet\": [{\"aaxis\": {\"endlinecolor\": \"#2a3f5f\", \"gridcolor\": \"white\", \"linecolor\": \"white\", \"minorgridcolor\": \"white\", \"startlinecolor\": \"#2a3f5f\"}, \"baxis\": {\"endlinecolor\": \"#2a3f5f\", \"gridcolor\": \"white\", \"linecolor\": \"white\", \"minorgridcolor\": \"white\", \"startlinecolor\": \"#2a3f5f\"}, \"type\": \"carpet\"}], \"choropleth\": [{\"colorbar\": {\"outlinewidth\": 0, \"ticks\": \"\"}, \"type\": \"choropleth\"}], \"contour\": [{\"colorbar\": {\"outlinewidth\": 0, \"ticks\": \"\"}, \"colorscale\": [[0.0, \"#0d0887\"], [0.1111111111111111, \"#46039f\"], [0.2222222222222222, \"#7201a8\"], [0.3333333333333333, \"#9c179e\"], [0.4444444444444444, \"#bd3786\"], [0.5555555555555556, \"#d8576b\"], [0.6666666666666666, \"#ed7953\"], [0.7777777777777778, \"#fb9f3a\"], [0.8888888888888888, \"#fdca26\"], [1.0, \"#f0f921\"]], \"type\": \"contour\"}], \"contourcarpet\": [{\"colorbar\": {\"outlinewidth\": 0, \"ticks\": \"\"}, \"type\": \"contourcarpet\"}], \"heatmap\": [{\"colorbar\": {\"outlinewidth\": 0, \"ticks\": \"\"}, \"colorscale\": [[0.0, \"#0d0887\"], [0.1111111111111111, \"#46039f\"], [0.2222222222222222, \"#7201a8\"], [0.3333333333333333, \"#9c179e\"], [0.4444444444444444, \"#bd3786\"], [0.5555555555555556, \"#d8576b\"], [0.6666666666666666, \"#ed7953\"], [0.7777777777777778, \"#fb9f3a\"], [0.8888888888888888, \"#fdca26\"], [1.0, \"#f0f921\"]], \"type\": \"heatmap\"}], \"heatmapgl\": [{\"colorbar\": {\"outlinewidth\": 0, \"ticks\": \"\"}, \"colorscale\": [[0.0, \"#0d0887\"], [0.1111111111111111, \"#46039f\"], [0.2222222222222222, \"#7201a8\"], [0.3333333333333333, \"#9c179e\"], [0.4444444444444444, \"#bd3786\"], [0.5555555555555556, \"#d8576b\"], [0.6666666666666666, \"#ed7953\"], [0.7777777777777778, \"#fb9f3a\"], [0.8888888888888888, \"#fdca26\"], [1.0, \"#f0f921\"]], \"type\": \"heatmapgl\"}], \"histogram\": [{\"marker\": {\"colorbar\": {\"outlinewidth\": 0, \"ticks\": \"\"}}, \"type\": \"histogram\"}], \"histogram2d\": [{\"colorbar\": {\"outlinewidth\": 0, \"ticks\": \"\"}, \"colorscale\": [[0.0, \"#0d0887\"], [0.1111111111111111, \"#46039f\"], [0.2222222222222222, \"#7201a8\"], [0.3333333333333333, \"#9c179e\"], [0.4444444444444444, \"#bd3786\"], [0.5555555555555556, \"#d8576b\"], [0.6666666666666666, \"#ed7953\"], [0.7777777777777778, \"#fb9f3a\"], [0.8888888888888888, \"#fdca26\"], [1.0, \"#f0f921\"]], \"type\": \"histogram2d\"}], \"histogram2dcontour\": [{\"colorbar\": {\"outlinewidth\": 0, \"ticks\": \"\"}, \"colorscale\": [[0.0, \"#0d0887\"], [0.1111111111111111, \"#46039f\"], [0.2222222222222222, \"#7201a8\"], [0.3333333333333333, \"#9c179e\"], [0.4444444444444444, \"#bd3786\"], [0.5555555555555556, \"#d8576b\"], [0.6666666666666666, \"#ed7953\"], [0.7777777777777778, \"#fb9f3a\"], [0.8888888888888888, \"#fdca26\"], [1.0, \"#f0f921\"]], \"type\": \"histogram2dcontour\"}], \"mesh3d\": [{\"colorbar\": {\"outlinewidth\": 0, \"ticks\": \"\"}, \"type\": \"mesh3d\"}], \"parcoords\": [{\"line\": {\"colorbar\": {\"outlinewidth\": 0, \"ticks\": \"\"}}, \"type\": \"parcoords\"}], \"pie\": [{\"automargin\": true, \"type\": \"pie\"}], \"scatter\": [{\"marker\": {\"colorbar\": {\"outlinewidth\": 0, \"ticks\": \"\"}}, \"type\": \"scatter\"}], \"scatter3d\": [{\"line\": {\"colorbar\": {\"outlinewidth\": 0, \"ticks\": \"\"}}, \"marker\": {\"colorbar\": {\"outlinewidth\": 0, \"ticks\": \"\"}}, \"type\": \"scatter3d\"}], \"scattercarpet\": [{\"marker\": {\"colorbar\": {\"outlinewidth\": 0, \"ticks\": \"\"}}, \"type\": \"scattercarpet\"}], \"scattergeo\": [{\"marker\": {\"colorbar\": {\"outlinewidth\": 0, \"ticks\": \"\"}}, \"type\": \"scattergeo\"}], \"scattergl\": [{\"marker\": {\"colorbar\": {\"outlinewidth\": 0, \"ticks\": \"\"}}, \"type\": \"scattergl\"}], \"scattermapbox\": [{\"marker\": {\"colorbar\": {\"outlinewidth\": 0, \"ticks\": \"\"}}, \"type\": \"scattermapbox\"}], \"scatterpolar\": [{\"marker\": {\"colorbar\": {\"outlinewidth\": 0, \"ticks\": \"\"}}, \"type\": \"scatterpolar\"}], \"scatterpolargl\": [{\"marker\": {\"colorbar\": {\"outlinewidth\": 0, \"ticks\": \"\"}}, \"type\": \"scatterpolargl\"}], \"scatterternary\": [{\"marker\": {\"colorbar\": {\"outlinewidth\": 0, \"ticks\": \"\"}}, \"type\": \"scatterternary\"}], \"surface\": [{\"colorbar\": {\"outlinewidth\": 0, \"ticks\": \"\"}, \"colorscale\": [[0.0, \"#0d0887\"], [0.1111111111111111, \"#46039f\"], [0.2222222222222222, \"#7201a8\"], [0.3333333333333333, \"#9c179e\"], [0.4444444444444444, \"#bd3786\"], [0.5555555555555556, \"#d8576b\"], [0.6666666666666666, \"#ed7953\"], [0.7777777777777778, \"#fb9f3a\"], [0.8888888888888888, \"#fdca26\"], [1.0, \"#f0f921\"]], \"type\": \"surface\"}], \"table\": [{\"cells\": {\"fill\": {\"color\": \"#EBF0F8\"}, \"line\": {\"color\": \"white\"}}, \"header\": {\"fill\": {\"color\": \"#C8D4E3\"}, \"line\": {\"color\": \"white\"}}, \"type\": \"table\"}]}, \"layout\": {\"annotationdefaults\": {\"arrowcolor\": \"#2a3f5f\", \"arrowhead\": 0, \"arrowwidth\": 1}, \"coloraxis\": {\"colorbar\": {\"outlinewidth\": 0, \"ticks\": \"\"}}, \"colorscale\": {\"diverging\": [[0, \"#8e0152\"], [0.1, \"#c51b7d\"], [0.2, \"#de77ae\"], [0.3, \"#f1b6da\"], [0.4, \"#fde0ef\"], [0.5, \"#f7f7f7\"], [0.6, \"#e6f5d0\"], [0.7, \"#b8e186\"], [0.8, \"#7fbc41\"], [0.9, \"#4d9221\"], [1, \"#276419\"]], \"sequential\": [[0.0, \"#0d0887\"], [0.1111111111111111, \"#46039f\"], [0.2222222222222222, \"#7201a8\"], [0.3333333333333333, \"#9c179e\"], [0.4444444444444444, \"#bd3786\"], [0.5555555555555556, \"#d8576b\"], [0.6666666666666666, \"#ed7953\"], [0.7777777777777778, \"#fb9f3a\"], [0.8888888888888888, \"#fdca26\"], [1.0, \"#f0f921\"]], \"sequentialminus\": [[0.0, \"#0d0887\"], [0.1111111111111111, \"#46039f\"], [0.2222222222222222, \"#7201a8\"], [0.3333333333333333, \"#9c179e\"], [0.4444444444444444, \"#bd3786\"], [0.5555555555555556, \"#d8576b\"], [0.6666666666666666, \"#ed7953\"], [0.7777777777777778, \"#fb9f3a\"], [0.8888888888888888, \"#fdca26\"], [1.0, \"#f0f921\"]]}, \"colorway\": [\"#636efa\", \"#EF553B\", \"#00cc96\", \"#ab63fa\", \"#FFA15A\", \"#19d3f3\", \"#FF6692\", \"#B6E880\", \"#FF97FF\", \"#FECB52\"], \"font\": {\"color\": \"#2a3f5f\"}, \"geo\": {\"bgcolor\": \"white\", \"lakecolor\": \"white\", \"landcolor\": \"#E5ECF6\", \"showlakes\": true, \"showland\": true, \"subunitcolor\": \"white\"}, \"hoverlabel\": {\"align\": \"left\"}, \"hovermode\": \"closest\", \"mapbox\": {\"style\": \"light\"}, \"paper_bgcolor\": \"white\", \"plot_bgcolor\": \"#E5ECF6\", \"polar\": {\"angularaxis\": {\"gridcolor\": \"white\", \"linecolor\": \"white\", \"ticks\": \"\"}, \"bgcolor\": \"#E5ECF6\", \"radialaxis\": {\"gridcolor\": \"white\", \"linecolor\": \"white\", \"ticks\": \"\"}}, \"scene\": {\"xaxis\": {\"backgroundcolor\": \"#E5ECF6\", \"gridcolor\": \"white\", \"gridwidth\": 2, \"linecolor\": \"white\", \"showbackground\": true, \"ticks\": \"\", \"zerolinecolor\": \"white\"}, \"yaxis\": {\"backgroundcolor\": \"#E5ECF6\", \"gridcolor\": \"white\", \"gridwidth\": 2, \"linecolor\": \"white\", \"showbackground\": true, \"ticks\": \"\", \"zerolinecolor\": \"white\"}, \"zaxis\": {\"backgroundcolor\": \"#E5ECF6\", \"gridcolor\": \"white\", \"gridwidth\": 2, \"linecolor\": \"white\", \"showbackground\": true, \"ticks\": \"\", \"zerolinecolor\": \"white\"}}, \"shapedefaults\": {\"line\": {\"color\": \"#2a3f5f\"}}, \"ternary\": {\"aaxis\": {\"gridcolor\": \"white\", \"linecolor\": \"white\", \"ticks\": \"\"}, \"baxis\": {\"gridcolor\": \"white\", \"linecolor\": \"white\", \"ticks\": \"\"}, \"bgcolor\": \"#E5ECF6\", \"caxis\": {\"gridcolor\": \"white\", \"linecolor\": \"white\", \"ticks\": \"\"}}, \"title\": {\"x\": 0.05}, \"xaxis\": {\"automargin\": true, \"gridcolor\": \"white\", \"linecolor\": \"white\", \"ticks\": \"\", \"title\": {\"standoff\": 15}, \"zerolinecolor\": \"white\", \"zerolinewidth\": 2}, \"yaxis\": {\"automargin\": true, \"gridcolor\": \"white\", \"linecolor\": \"white\", \"ticks\": \"\", \"title\": {\"standoff\": 15}, \"zerolinecolor\": \"white\", \"zerolinewidth\": 2}}}, \"xaxis\": {\"anchor\": \"y\", \"domain\": [0.0, 0.2125]}, \"xaxis2\": {\"anchor\": \"y2\", \"domain\": [0.2625, 0.475]}, \"xaxis3\": {\"anchor\": \"y3\", \"domain\": [0.525, 0.7375]}, \"xaxis4\": {\"anchor\": \"y4\", \"domain\": [0.7875, 1.0]}, \"xaxis5\": {\"anchor\": \"y5\", \"domain\": [0.0, 0.2125]}, \"xaxis6\": {\"anchor\": \"y6\", \"domain\": [0.2625, 0.475]}, \"xaxis7\": {\"anchor\": \"y7\", \"domain\": [0.525, 0.7375]}, \"xaxis8\": {\"anchor\": \"y8\", \"domain\": [0.7875, 1.0]}, \"yaxis\": {\"anchor\": \"x\", \"domain\": [0.575, 1.0]}, \"yaxis2\": {\"anchor\": \"x2\", \"domain\": [0.575, 1.0]}, \"yaxis3\": {\"anchor\": \"x3\", \"domain\": [0.575, 1.0]}, \"yaxis4\": {\"anchor\": \"x4\", \"domain\": [0.575, 1.0]}, \"yaxis5\": {\"anchor\": \"x5\", \"domain\": [0.0, 0.425]}, \"yaxis6\": {\"anchor\": \"x6\", \"domain\": [0.0, 0.425]}, \"yaxis7\": {\"anchor\": \"x7\", \"domain\": [0.0, 0.425]}, \"yaxis8\": {\"anchor\": \"x8\", \"domain\": [0.0, 0.425]}},\n",
       "                        {\"responsive\": true}\n",
       "                    ).then(function(){\n",
       "                            \n",
       "var gd = document.getElementById('5f35c243-2b76-4973-bd1a-bd0e0f169cb0');\n",
       "var x = new MutationObserver(function (mutations, observer) {{\n",
       "        var display = window.getComputedStyle(gd).display;\n",
       "        if (!display || display === 'none') {{\n",
       "            console.log([gd, 'removed!']);\n",
       "            Plotly.purge(gd);\n",
       "            observer.disconnect();\n",
       "        }}\n",
       "}});\n",
       "\n",
       "// Listen for the removal of the full notebook cells\n",
       "var notebookContainer = gd.closest('#notebook-container');\n",
       "if (notebookContainer) {{\n",
       "    x.observe(notebookContainer, {childList: true});\n",
       "}}\n",
       "\n",
       "// Listen for the clearing of the current output cell\n",
       "var outputEl = gd.closest('.output');\n",
       "if (outputEl) {{\n",
       "    x.observe(outputEl, {childList: true});\n",
       "}}\n",
       "\n",
       "                        })\n",
       "                };\n",
       "                });\n",
       "            </script>\n",
       "        </div>"
      ]
     },
     "metadata": {},
     "output_type": "display_data"
    }
   ],
   "source": [
    "cryptos = np.array([['USD', 'CNY', 'EUR', 'AUD'],\n",
    "                    ['BTC', 'ETH', 'BCH', 'LTC']])\n",
    "\n",
    "nrows = cryptos.shape[0]\n",
    "ncols = cryptos.shape[1]\n",
    "\n",
    "fig = make_subplots(rows=nrows, cols=ncols)\n",
    "\n",
    "for i in range(nrows):\n",
    "    for j in range(ncols):\n",
    "        crypto = cryptos[i,j]\n",
    "        fig.add_trace(go.Bar(name='known issuer',\n",
    "                             legendgroup=\"group\",\n",
    "                             x=[crypto], \n",
    "                             y=[df.loc[(df['currency'] == crypto) & (df['issuer'].isin(df_gateways['account'])), 'value'].sum()]),\n",
    "                      row = i+1, \n",
    "                      col = j+1) \n",
    "            \n",
    "        fig.add_trace(go.Bar(name='unknown issuer', \n",
    "                             legendgroup=\"group2\",\n",
    "                             x=[crypto], \n",
    "                             y=[df.loc[(df['currency'] == crypto) & (~df['issuer'].isin(df_gateways['account'])), 'value'].sum()]),\n",
    "                      row = i+1, \n",
    "                      col = j+1) \n",
    "            \n",
    "# Change the bar mode\n",
    "fig.update_layout(barmode='stack')\n",
    "fig.show()"
   ]
  },
  {
   "cell_type": "markdown",
   "metadata": {},
   "source": [
    "# Network graph"
   ]
  },
  {
   "cell_type": "code",
   "execution_count": 87,
   "metadata": {},
   "outputs": [
    {
     "data": {
      "text/html": [
       "<div>\n",
       "<style scoped>\n",
       "    .dataframe tbody tr th:only-of-type {\n",
       "        vertical-align: middle;\n",
       "    }\n",
       "\n",
       "    .dataframe tbody tr th {\n",
       "        vertical-align: top;\n",
       "    }\n",
       "\n",
       "    .dataframe thead th {\n",
       "        text-align: right;\n",
       "    }\n",
       "</style>\n",
       "<table border=\"1\" class=\"dataframe\">\n",
       "  <thead>\n",
       "    <tr style=\"text-align: right;\">\n",
       "      <th></th>\n",
       "      <th>Account</th>\n",
       "      <th>Destination</th>\n",
       "      <th>value</th>\n",
       "    </tr>\n",
       "  </thead>\n",
       "  <tbody>\n",
       "    <tr>\n",
       "      <td>0</td>\n",
       "      <td>r16E4uTTBuchu3dVfT6cwq2KmMPSECn17</td>\n",
       "      <td>rPLHV3wHNYfgJt2t8E7KQN76c425FAxeUH</td>\n",
       "      <td>40</td>\n",
       "    </tr>\n",
       "    <tr>\n",
       "      <td>1</td>\n",
       "      <td>r1uqdFC1e4DabhTU4Z7YKs7JuMsKNDfjq</td>\n",
       "      <td>rPKEEbEJD2n1NfFn1SJ9mv7yvasvbrJGzY</td>\n",
       "      <td>67</td>\n",
       "    </tr>\n",
       "    <tr>\n",
       "      <td>2</td>\n",
       "      <td>r21JNDGmCCL2UzRBqjiaws2hurqWTS8mB</td>\n",
       "      <td>rGUErWdJasXUG4pUD1uwYbgYWReWCZCgeT</td>\n",
       "      <td>33</td>\n",
       "    </tr>\n",
       "    <tr>\n",
       "      <td>3</td>\n",
       "      <td>r2LRyPHuRCnZ7u8VXYAkWZJYtYyUJFQnn</td>\n",
       "      <td>r4PUveqWMN88xSnrCPxZuK6VrWpmXaw44i</td>\n",
       "      <td>21</td>\n",
       "    </tr>\n",
       "    <tr>\n",
       "      <td>4</td>\n",
       "      <td>r2omSdmTDiHgiCTjd9VQk8BT1KuadoAqi</td>\n",
       "      <td>rMiCwMp6Z7oT6xuSEraDVRGbExs1c6zF6Q</td>\n",
       "      <td>27</td>\n",
       "    </tr>\n",
       "    <tr>\n",
       "      <td>...</td>\n",
       "      <td>...</td>\n",
       "      <td>...</td>\n",
       "      <td>...</td>\n",
       "    </tr>\n",
       "    <tr>\n",
       "      <td>5950</td>\n",
       "      <td>rytqkSFt7zyDiauA9rrnfEHsCGUtmB2hN</td>\n",
       "      <td>rHiPieXbNGrrpGXjFWygbsjfxFRYU58nPr</td>\n",
       "      <td>21</td>\n",
       "    </tr>\n",
       "    <tr>\n",
       "      <td>5951</td>\n",
       "      <td>rywn9nBEwt3HneU47XwQgLFk3pTQbu467</td>\n",
       "      <td>r4tzyosopXNvAvEA5itxy8mkvXN5SN7TMu</td>\n",
       "      <td>28</td>\n",
       "    </tr>\n",
       "    <tr>\n",
       "      <td>5952</td>\n",
       "      <td>ryz7cmCmwomdiCGSraeRHaxWjmHmfa5Kh</td>\n",
       "      <td>rEu9cWnsfrb76y1trRX5ioHRXyZLwhL3sT</td>\n",
       "      <td>36</td>\n",
       "    </tr>\n",
       "    <tr>\n",
       "      <td>5953</td>\n",
       "      <td>rzHsC9E21CuhF6DrhSDa66JWWb8PxVL55</td>\n",
       "      <td>rUr32hMfJsvsaNzK296dVLYXyzY4fZFMWE</td>\n",
       "      <td>31</td>\n",
       "    </tr>\n",
       "    <tr>\n",
       "      <td>5954</td>\n",
       "      <td>rzQLqCNy6foWhrH5jRNoWLgC8kCTV3AhU</td>\n",
       "      <td>r9D9mDfmjx3sYiD5mJRH51zWFxMjvh7hms</td>\n",
       "      <td>19</td>\n",
       "    </tr>\n",
       "  </tbody>\n",
       "</table>\n",
       "<p>5955 rows × 3 columns</p>\n",
       "</div>"
      ],
      "text/plain": [
       "                                Account                         Destination  \\\n",
       "0     r16E4uTTBuchu3dVfT6cwq2KmMPSECn17  rPLHV3wHNYfgJt2t8E7KQN76c425FAxeUH   \n",
       "1     r1uqdFC1e4DabhTU4Z7YKs7JuMsKNDfjq  rPKEEbEJD2n1NfFn1SJ9mv7yvasvbrJGzY   \n",
       "2     r21JNDGmCCL2UzRBqjiaws2hurqWTS8mB  rGUErWdJasXUG4pUD1uwYbgYWReWCZCgeT   \n",
       "3     r2LRyPHuRCnZ7u8VXYAkWZJYtYyUJFQnn  r4PUveqWMN88xSnrCPxZuK6VrWpmXaw44i   \n",
       "4     r2omSdmTDiHgiCTjd9VQk8BT1KuadoAqi  rMiCwMp6Z7oT6xuSEraDVRGbExs1c6zF6Q   \n",
       "...                                 ...                                 ...   \n",
       "5950  rytqkSFt7zyDiauA9rrnfEHsCGUtmB2hN  rHiPieXbNGrrpGXjFWygbsjfxFRYU58nPr   \n",
       "5951  rywn9nBEwt3HneU47XwQgLFk3pTQbu467  r4tzyosopXNvAvEA5itxy8mkvXN5SN7TMu   \n",
       "5952  ryz7cmCmwomdiCGSraeRHaxWjmHmfa5Kh  rEu9cWnsfrb76y1trRX5ioHRXyZLwhL3sT   \n",
       "5953  rzHsC9E21CuhF6DrhSDa66JWWb8PxVL55  rUr32hMfJsvsaNzK296dVLYXyzY4fZFMWE   \n",
       "5954  rzQLqCNy6foWhrH5jRNoWLgC8kCTV3AhU  r9D9mDfmjx3sYiD5mJRH51zWFxMjvh7hms   \n",
       "\n",
       "      value  \n",
       "0        40  \n",
       "1        67  \n",
       "2        33  \n",
       "3        21  \n",
       "4        27  \n",
       "...     ...  \n",
       "5950     21  \n",
       "5951     28  \n",
       "5952     36  \n",
       "5953     31  \n",
       "5954     19  \n",
       "\n",
       "[5955 rows x 3 columns]"
      ]
     },
     "execution_count": 87,
     "metadata": {},
     "output_type": "execute_result"
    }
   ],
   "source": [
    "df3 = df.loc[df['currency'] == 'BTC',['Account', 'Destination', 'value']].groupby(['Account', 'Destination']).count().reset_index(level=[0,1])\n",
    "df3"
   ]
  },
  {
   "cell_type": "code",
   "execution_count": 88,
   "metadata": {},
   "outputs": [
    {
     "data": {
      "text/plain": [
       "OutEdgeDataView([('r16E4uTTBuchu3dVfT6cwq2KmMPSECn17', 'rPLHV3wHNYfgJt2t8E7KQN76c425FAxeUH', {'weight': 40}), ('rPLHV3wHNYfgJt2t8E7KQN76c425FAxeUH', 'r16E4uTTBuchu3dVfT6cwq2KmMPSECn17', {'weight': 31}), ('r1uqdFC1e4DabhTU4Z7YKs7JuMsKNDfjq', 'rPKEEbEJD2n1NfFn1SJ9mv7yvasvbrJGzY', {'weight': 67}), ('rPKEEbEJD2n1NfFn1SJ9mv7yvasvbrJGzY', 'r1uqdFC1e4DabhTU4Z7YKs7JuMsKNDfjq', {'weight': 42}), ('r21JNDGmCCL2UzRBqjiaws2hurqWTS8mB', 'rGUErWdJasXUG4pUD1uwYbgYWReWCZCgeT', {'weight': 33}), ('rGUErWdJasXUG4pUD1uwYbgYWReWCZCgeT', 'r21JNDGmCCL2UzRBqjiaws2hurqWTS8mB', {'weight': 17}), ('r2LRyPHuRCnZ7u8VXYAkWZJYtYyUJFQnn', 'r4PUveqWMN88xSnrCPxZuK6VrWpmXaw44i', {'weight': 21}), ('r4PUveqWMN88xSnrCPxZuK6VrWpmXaw44i', 'r2LRyPHuRCnZ7u8VXYAkWZJYtYyUJFQnn', {'weight': 36}), ('r2omSdmTDiHgiCTjd9VQk8BT1KuadoAqi', 'rMiCwMp6Z7oT6xuSEraDVRGbExs1c6zF6Q', {'weight': 27}), ('rMiCwMp6Z7oT6xuSEraDVRGbExs1c6zF6Q', 'r2omSdmTDiHgiCTjd9VQk8BT1KuadoAqi', {'weight': 37}), ('r2rJm66aq5rTe2rpsiBYngejBpyEkBVcc', 'rppGBbu7LNfcotwE5CxWRbfuKNoX7qqsRL', {'weight': 23}), ('rppGBbu7LNfcotwE5CxWRbfuKNoX7qqsRL', 'r2rJm66aq5rTe2rpsiBYngejBpyEkBVcc', {'weight': 12}), ('r2u63zkKXcZdBvU6ZbTRDCdE7x9atFnoH', 'rMG1YU2YQXBmwh34dzef4hVU6dYqFQT82b', {'weight': 22}), ('rMG1YU2YQXBmwh34dzef4hVU6dYqFQT82b', 'r2u63zkKXcZdBvU6ZbTRDCdE7x9atFnoH', {'weight': 33}), ('r319AZjBcicTDLQh3YL42sVmQXX1HLFEht', 'r4WoSHfYViGHbmiZMgXmeTv1nb4N6724rU', {'weight': 90}), ('r4WoSHfYViGHbmiZMgXmeTv1nb4N6724rU', 'r319AZjBcicTDLQh3YL42sVmQXX1HLFEht', {'weight': 105}), ('r31RP7o3xgDQHzXC1e9h1yrAmhoKaZGtPM', 'rE4FBffqzMcYhJQEebpMKXRzRLzvdL5KQb', {'weight': 26}), ('rE4FBffqzMcYhJQEebpMKXRzRLzvdL5KQb', 'r31RP7o3xgDQHzXC1e9h1yrAmhoKaZGtPM', {'weight': 35}), ('r31tpTPCD5eybzfqs4gPsuzzRRSCGEshiB', 'rnd3qL4t5Tw1fKWd59rAvz4ZMfGf5eQaME', {'weight': 14}), ('rnd3qL4t5Tw1fKWd59rAvz4ZMfGf5eQaME', 'r31tpTPCD5eybzfqs4gPsuzzRRSCGEshiB', {'weight': 1}), ('r32PnUXGd9XpoNEphqWBTwPyQbfnLa2pGZ', 'rJxe6yBei6ag4MF1NueRNqiBGmc2of6uhj', {'weight': 31}), ('rJxe6yBei6ag4MF1NueRNqiBGmc2of6uhj', 'r32PnUXGd9XpoNEphqWBTwPyQbfnLa2pGZ', {'weight': 16}), ('r32T6RtvJWuQcLANgpHWKYP3iWTSPNAuZc', 'rD9hiUnn8BY4PJbodmWyotFcjnWhntSvVY', {'weight': 27}), ('rD9hiUnn8BY4PJbodmWyotFcjnWhntSvVY', 'r32T6RtvJWuQcLANgpHWKYP3iWTSPNAuZc', {'weight': 37}), ('r32WEqNEsELLUh2pScYm2gAD1B8nbge2cW', 'r4FcPuSsr3xrgdF3puMmxoM9zyJPeXjJXn', {'weight': 26}), ('r4FcPuSsr3xrgdF3puMmxoM9zyJPeXjJXn', 'r32WEqNEsELLUh2pScYm2gAD1B8nbge2cW', {'weight': 14}), ('r338ezb82sTLT6nKoNRziXA71tU1zJo9ci', 'rsBWHrWNcPfr1Q6UrDfoFBXrS1EceZczes', {'weight': 17}), ('rsBWHrWNcPfr1Q6UrDfoFBXrS1EceZczes', 'r338ezb82sTLT6nKoNRziXA71tU1zJo9ci', {'weight': 26}), ('r33fFPEMteACiKCtmRkqGzraHWwJHTzGbm', 'rn6pnRCYg9ZYo1aKvALFGAx7KiW81kNeeM', {'weight': 21}), ('rn6pnRCYg9ZYo1aKvALFGAx7KiW81kNeeM', 'r33fFPEMteACiKCtmRkqGzraHWwJHTzGbm', {'weight': 31}), ('r34N6LoPQtip3zVGFbG4wG7EhGxtnUy9Xz', 'rP2kWjC3E1Mks5HftXj7fpCVsivAeKqvrE', {'weight': 25}), ('rP2kWjC3E1Mks5HftXj7fpCVsivAeKqvrE', 'r34N6LoPQtip3zVGFbG4wG7EhGxtnUy9Xz', {'weight': 37}), ('r34NCBftC2enTmzi79kSx4WkbVbwHJe32w', 'raDnyFyGMogw5SQ8MQaW8mYVqGGZekqBM8', {'weight': 41}), ('raDnyFyGMogw5SQ8MQaW8mYVqGGZekqBM8', 'r34NCBftC2enTmzi79kSx4WkbVbwHJe32w', {'weight': 30}), ('r34eP97g25cAyAj3UBdpzNBdAhzkxVwTk', 'rJifFByGxsYFSviaSELaQHjgeTUwQ5zRAg', {'weight': 37}), ('rJifFByGxsYFSviaSELaQHjgeTUwQ5zRAg', 'r34eP97g25cAyAj3UBdpzNBdAhzkxVwTk', {'weight': 22}), ('r34iHT6Gziux5fH8r8Aoa6ND3nr36ZuWmj', 'rMgeFZdvqkmyVyKzoBNy2XeWH8xPKbyKUD', {'weight': 30}), ('rMgeFZdvqkmyVyKzoBNy2XeWH8xPKbyKUD', 'r34iHT6Gziux5fH8r8Aoa6ND3nr36ZuWmj', {'weight': 42}), ('r354ffTnMUKSxdhpyzguxJPaST7gHUP6Yg', 'rGrBVSHJjgnyJABXbkXEjC3RyAm7g9Vakz', {'weight': 16}), ('rGrBVSHJjgnyJABXbkXEjC3RyAm7g9Vakz', 'r354ffTnMUKSxdhpyzguxJPaST7gHUP6Yg', {'weight': 28}), ('r356FoJtRozaVRLpu2dsSMpxcbMXxL1Aio', 'rHmrR83TyoMF9ZPcgi488W6FVGj5SYzp8q', {'weight': 35}), ('rHmrR83TyoMF9ZPcgi488W6FVGj5SYzp8q', 'r356FoJtRozaVRLpu2dsSMpxcbMXxL1Aio', {'weight': 23}), ('r35NoEsSKooZ8AwAtDRy8P6783hif2C8fv', 'rHh3UDReDGS5q68sFNQ2sdeVnV9HB2very', {'weight': 16}), ('rHh3UDReDGS5q68sFNQ2sdeVnV9HB2very', 'r35NoEsSKooZ8AwAtDRy8P6783hif2C8fv', {'weight': 27}), ('r35ZTDTYKSB6GQWvhp5LsNgHW9PDFZA7my', 'rhcJ9PvxmwS4zEsmTX67hgKy2iYTHw6pY8', {'weight': 41}), ('rhcJ9PvxmwS4zEsmTX67hgKy2iYTHw6pY8', 'r35ZTDTYKSB6GQWvhp5LsNgHW9PDFZA7my', {'weight': 66}), ('r35bR1mpbkfQ3Y1gDnQVXWaXged5jAL3ks', 'rEHZrXM37WHG9YKe48MAPutWJ7T13GfQE4', {'weight': 20}), ('rEHZrXM37WHG9YKe48MAPutWJ7T13GfQE4', 'r35bR1mpbkfQ3Y1gDnQVXWaXged5jAL3ks', {'weight': 31}), ('r36HJUiwkQBZ6keFz4azjo6MAoxtnxZ4oE', 'rh7peAF5hLSmCXBf5C56HiKD3g4BpzbxiB', {'weight': 26}), ('rh7peAF5hLSmCXBf5C56HiKD3g4BpzbxiB', 'r36HJUiwkQBZ6keFz4azjo6MAoxtnxZ4oE', {'weight': 35}), ('r36nGW4Jvu6ouJntX68aoQZGmfGst1zWnP', 'rUWSRB75a3zUQub4SkjE97ZU1yBuTW4Ghb', {'weight': 16}), ('rUWSRB75a3zUQub4SkjE97ZU1yBuTW4Ghb', 'r36nGW4Jvu6ouJntX68aoQZGmfGst1zWnP', {'weight': 25}), ('r36qEifdrknMG7pZHDUx1KAYYXSCttP7vA', 'rEbV3wvxCpE4GKK3NoMSqmBKzFwXDzdHVG', {'weight': 16}), ('rEbV3wvxCpE4GKK3NoMSqmBKzFwXDzdHVG', 'r36qEifdrknMG7pZHDUx1KAYYXSCttP7vA', {'weight': 27}), ('r36twMxCjxtae4MCnaaHxpQmFR15ktKBKM', 'rGc4aryXpSphpeJ6bVaDXxW9WiHqnSKAUR', {'weight': 22}), ('rGc4aryXpSphpeJ6bVaDXxW9WiHqnSKAUR', 'r36twMxCjxtae4MCnaaHxpQmFR15ktKBKM', {'weight': 33}), ('r36wuFnrG9CyHjjeQwEMdUBd2LPMZD8eQj', 'rnz6TokVTE7vrEkedK2LJgN5c9h6xRbRSU', {'weight': 27}), ('rnz6TokVTE7vrEkedK2LJgN5c9h6xRbRSU', 'r36wuFnrG9CyHjjeQwEMdUBd2LPMZD8eQj', {'weight': 17}), ('r36yTUakBtFk7QGJff8m7CHrEuRnxdL6qb', 'rhTQ6QZtiZUG2rKgL981xUvXfSSquCEKZg', {'weight': 28}), ('rhTQ6QZtiZUG2rKgL981xUvXfSSquCEKZg', 'r36yTUakBtFk7QGJff8m7CHrEuRnxdL6qb', {'weight': 18}), ('r37DKurnMCBhhGHJ86VPoFenXxRyfbJdUm', 'rLqsthoMBMUrCHTBCcAnrHd67nxAsjvEXs', {'weight': 29}), ('rLqsthoMBMUrCHTBCcAnrHd67nxAsjvEXs', 'r37DKurnMCBhhGHJ86VPoFenXxRyfbJdUm', {'weight': 18}), ('r37FckyWKNJ4ikiQPCuLuVWY6zurqPJLUT', 'rGgQvavRgJJgki9qsY8J2RPUmR8Cr7Rjdn', {'weight': 29}), ('rGgQvavRgJJgki9qsY8J2RPUmR8Cr7Rjdn', 'r37FckyWKNJ4ikiQPCuLuVWY6zurqPJLUT', {'weight': 38}), ('r37XMMze4xCNNiYFqboCgS8VfYaSRvPFDW', 'r4H5rDyb1pGHzya1kxcCom86d8nUKeobYT', {'weight': 17}), ('r4H5rDyb1pGHzya1kxcCom86d8nUKeobYT', 'r37XMMze4xCNNiYFqboCgS8VfYaSRvPFDW', {'weight': 30}), ('r387gVEpNXpcBLzKp3ggLcpvNcUYMwg4RB', 'rLSEvE7Sc9Lm9YxKPFno9AsT5cQjtZH5o6', {'weight': 23}), ('rLSEvE7Sc9Lm9YxKPFno9AsT5cQjtZH5o6', 'r387gVEpNXpcBLzKp3ggLcpvNcUYMwg4RB', {'weight': 32}), ('r38AiLcdQhJDRxZgrCSV6tbBbyRMqHqxax', 'rsBdTFQ24bRMpbEKoK1YnJj5rTbPURDbjN', {'weight': 36}), ('rsBdTFQ24bRMpbEKoK1YnJj5rTbPURDbjN', 'r38AiLcdQhJDRxZgrCSV6tbBbyRMqHqxax', {'weight': 45}), ('r38B5MFLh8fhKPmkjZQur8ttTBi9WNwBsk', 'rfKB7gYpQx1J6ELmXwJDPgaHHz5qAjfiAp', {'weight': 30}), ('rfKB7gYpQx1J6ELmXwJDPgaHHz5qAjfiAp', 'r38B5MFLh8fhKPmkjZQur8ttTBi9WNwBsk', {'weight': 20}), ('r38Bts3cqih8aAUr1UrdzxXGubshV1g8D2', 'rBZzgMQKKgRHj7Fn1g26YYcYEa4i8Ar7QE', {'weight': 41}), ('rBZzgMQKKgRHj7Fn1g26YYcYEa4i8Ar7QE', 'r38Bts3cqih8aAUr1UrdzxXGubshV1g8D2', {'weight': 1}), ('r38cZs8wgCLefCR9t1dAfhFWbr17ku5EW7', 'razTs7gtRudspMYWtLBx1UEHnUtrMe5dtK', {'weight': 17}), ('razTs7gtRudspMYWtLBx1UEHnUtrMe5dtK', 'r38cZs8wgCLefCR9t1dAfhFWbr17ku5EW7', {'weight': 33}), ('r38mKCzoRxionZofsPsaoSzpSrryvPHTkN', 'rMpDgpUy4nTrUZrg1XqT51Xnj6Y3mJojJi', {'weight': 14}), ('rMpDgpUy4nTrUZrg1XqT51Xnj6Y3mJojJi', 'r38mKCzoRxionZofsPsaoSzpSrryvPHTkN', {'weight': 23}), ('r39TXyyPqrHSDbdwteEkiXy5TqqWGHXbpS', 'r4Tp6THy486mTqAydYDyd5fPHQJpgWoNx8', {'weight': 37}), ('r4Tp6THy486mTqAydYDyd5fPHQJpgWoNx8', 'r39TXyyPqrHSDbdwteEkiXy5TqqWGHXbpS', {'weight': 28}), ('r39XrcEL3opocysK9dCmNHpMALmNu8WXpd', 'raBxFZWxqYRsVLcji2HCHNfehZksCz27H1', {'weight': 14}), ('raBxFZWxqYRsVLcji2HCHNfehZksCz27H1', 'r39XrcEL3opocysK9dCmNHpMALmNu8WXpd', {'weight': 27}), ('r39dxzX4Z1W5VV6BNMN5iBGuiPJ3VNcPZT', 'rQHzmDdBza3K6L7ZdwQppry5yVWLN3rewP', {'weight': 27}), ('rQHzmDdBza3K6L7ZdwQppry5yVWLN3rewP', 'r39dxzX4Z1W5VV6BNMN5iBGuiPJ3VNcPZT', {'weight': 15}), ('r3A97BWLMdFe3pbF9uN7m1KsSM46ZamdV9', 'rwcmkEK5pBxHG8UgY9iuhEZwL7LwEtgYQo', {'weight': 24}), ('rwcmkEK5pBxHG8UgY9iuhEZwL7LwEtgYQo', 'r3A97BWLMdFe3pbF9uN7m1KsSM46ZamdV9', {'weight': 13}), ('r3AHSYwcgjAjhAuwuqW8aNB4kxsY4NVmch', 'raiJkeecza5XhK1gGQ7bbEtFJcjCCnanoH', {'weight': 28}), ('raiJkeecza5XhK1gGQ7bbEtFJcjCCnanoH', 'r3AHSYwcgjAjhAuwuqW8aNB4kxsY4NVmch', {'weight': 17}), ('r3Agg5Y8XxCvXw9Vr3rKQ2TndQrDrU8jwa', 'rUf6ZMVaW43CJmZcS6bKyUWvuiDZkWqD3d', {'weight': 32}), ('rUf6ZMVaW43CJmZcS6bKyUWvuiDZkWqD3d', 'r3Agg5Y8XxCvXw9Vr3rKQ2TndQrDrU8jwa', {'weight': 22}), ('r3BQpmUW29C5Gbzze8URHvXWJ8kXhAqaRb', 'rN9quX4aJ3JY7FfbrWp57CN2tXKkmyQJ1M', {'weight': 26}), ('rN9quX4aJ3JY7FfbrWp57CN2tXKkmyQJ1M', 'r3BQpmUW29C5Gbzze8URHvXWJ8kXhAqaRb', {'weight': 14}), ('r3BtmHuqfGsVaPVqkgbAV3aE9cRSMCjYrG', 'rJVUQXHHAaP44hHRUMAssteLLwvmsMSt4', {'weight': 14}), ('rJVUQXHHAaP44hHRUMAssteLLwvmsMSt4', 'r3BtmHuqfGsVaPVqkgbAV3aE9cRSMCjYrG', {'weight': 26}), ('r3C9K2EJAt9H4QpYYDvvH7fF6CUeHjGVra', 'r3PVLYt1krFSkAKxhYcqUZggHMcLuHNawg', {'weight': 18}), ('r3PVLYt1krFSkAKxhYcqUZggHMcLuHNawg', 'r3C9K2EJAt9H4QpYYDvvH7fF6CUeHjGVra', {'weight': 30}), ('r3CR2jZRtbsRNvbTa11KXFZu3x7f5DEHYu', 'rQ3Lk2VDSzv18eenUiDnkgX8MHNYeHqxXg', {'weight': 36}), ('rQ3Lk2VDSzv18eenUiDnkgX8MHNYeHqxXg', 'r3CR2jZRtbsRNvbTa11KXFZu3x7f5DEHYu', {'weight': 24}), ('r3CxiBoYMoqocEHRNSGivpgpStsqCQcTiX', 'rs7gk4769kSVH6GPznPNUwVV1QrFRTohmt', {'weight': 19}), ('rs7gk4769kSVH6GPznPNUwVV1QrFRTohmt', 'r3CxiBoYMoqocEHRNSGivpgpStsqCQcTiX', {'weight': 30}), ('r3CytmNReg7pWQQbPuooKXAMY997eq9u6k', 'r4U92Xt1dXajZhvzwGyhdjoz5XaBbsYo5D', {'weight': 42}), ('r4U92Xt1dXajZhvzwGyhdjoz5XaBbsYo5D', 'r3CytmNReg7pWQQbPuooKXAMY997eq9u6k', {'weight': 33}), ('r3DKo12ikMoWc1QP4egXrTMVoAfkFMTLjb', 'rHGU8kpjEFdo7siougQuGk2WuYmUouNTfr', {'weight': 36}), ('rHGU8kpjEFdo7siougQuGk2WuYmUouNTfr', 'r3DKo12ikMoWc1QP4egXrTMVoAfkFMTLjb', {'weight': 24}), ('r3Dc1iALnB6qpnxxZtb6rSnLPesg3bujZb', 'rK17SJ9ZRsezNJoo3FDXT4Bsfo4iT92VoU', {'weight': 16}), ('rK17SJ9ZRsezNJoo3FDXT4Bsfo4iT92VoU', 'r3Dc1iALnB6qpnxxZtb6rSnLPesg3bujZb', {'weight': 26}), ('r3DiKvCGfZcjK1MgWCbats9grWpNwqNdZo', 'rhVw3g2M7pJ34soQQgJHLYUGXW68YJnU5P', {'weight': 45}), ('rhVw3g2M7pJ34soQQgJHLYUGXW68YJnU5P', 'r3DiKvCGfZcjK1MgWCbats9grWpNwqNdZo', {'weight': 36}), ('r3DifdqTs1fdKWPTCbmRCwtraTBVb9kEfU', 'r3nNaSZXwPxUsCAv835NTvECZSkRNyx11o', {'weight': 40}), ('r3nNaSZXwPxUsCAv835NTvECZSkRNyx11o', 'r3DifdqTs1fdKWPTCbmRCwtraTBVb9kEfU', {'weight': 29}), ('r3E2XC9QrqFRDfWU3kxz31EPAT7ZdE8brJ', 'rnDjB1nNkNAGYLays7rC16z8dQX6AsWEZw', {'weight': 14}), ('rnDjB1nNkNAGYLays7rC16z8dQX6AsWEZw', 'r3E2XC9QrqFRDfWU3kxz31EPAT7ZdE8brJ', {'weight': 23}), ('r3EFm87sQoo2p2M25QHiyHp2Tb5m8sLvfX', 'rLJpV1ED5cR3Ar1TaN4TAabQ4mHwACmJzi', {'weight': 28}), ('rLJpV1ED5cR3Ar1TaN4TAabQ4mHwACmJzi', 'r3EFm87sQoo2p2M25QHiyHp2Tb5m8sLvfX', {'weight': 12}), ('r3EJ348RHD1M4UkAEcCzfk4QqBdDrjrEKi', 'rpnZpACHczmxGKY78kAM6dHKJkJcfQc158', {'weight': 20}), ('rpnZpACHczmxGKY78kAM6dHKJkJcfQc158', 'r3EJ348RHD1M4UkAEcCzfk4QqBdDrjrEKi', {'weight': 30}), ('r3EdTpEntL94NdePhBduF9fVdqBoLSgRKP', 'rMDh9M8xR1S4EF1oRKq2CzGH9zdJLW9LdA', {'weight': 32}), ('rMDh9M8xR1S4EF1oRKq2CzGH9zdJLW9LdA', 'r3EdTpEntL94NdePhBduF9fVdqBoLSgRKP', {'weight': 16}), ('r3EnGea8wmk77XtJ3Lb3HrjGymCwoMcs5M', 'rEB79TBsti6py898wx4T7Y9JSXRZ2EWoYB', {'weight': 25}), ('rEB79TBsti6py898wx4T7Y9JSXRZ2EWoYB', 'r3EnGea8wmk77XtJ3Lb3HrjGymCwoMcs5M', {'weight': 16}), ('r3EoU1CnqjAfoE9VDq1CLNVaHoHQtUYRJ8', 'r3L4pTt7bpQJV494DVz3tCoUcHbvBCkAzy', {'weight': 94}), ('r3L4pTt7bpQJV494DVz3tCoUcHbvBCkAzy', 'r3EoU1CnqjAfoE9VDq1CLNVaHoHQtUYRJ8', {'weight': 77}), ('r3EujoTLBWVfsMVmN7WB1HjJQEHTYx6eKC', 'rnzLngf9Zz3Ha8ZBe46snYJvfkQwUPpCrf', {'weight': 35}), ('rnzLngf9Zz3Ha8ZBe46snYJvfkQwUPpCrf', 'r3EujoTLBWVfsMVmN7WB1HjJQEHTYx6eKC', {'weight': 25}), ('r3Exm4UPYAni8GJh7mcPMNS3sgAxPWti57', 'rBpowRLX7YNFUxtGJXqUs6fNJ11d1PfAPc', {'weight': 37}), ('rBpowRLX7YNFUxtGJXqUs6fNJ11d1PfAPc', 'r3Exm4UPYAni8GJh7mcPMNS3sgAxPWti57', {'weight': 27}), ('r3F7eU2w8UFqiAiZrRiTjtTai72CH8YMMM', 'rfZepiWaG556tAAv57MiUnRvCW9qScxZ1q', {'weight': 32}), ('rfZepiWaG556tAAv57MiUnRvCW9qScxZ1q', 'r3F7eU2w8UFqiAiZrRiTjtTai72CH8YMMM', {'weight': 23}), ('r3FBxwoajGuQ1iCJj1mT5hiLHLrst68PHA', 'rhuSeyiqeo7HjS6hkJs7A9h6vv8NYvtKvR', {'weight': 31}), ('rhuSeyiqeo7HjS6hkJs7A9h6vv8NYvtKvR', 'r3FBxwoajGuQ1iCJj1mT5hiLHLrst68PHA', {'weight': 22}), ('r3FDtHFistRNMvHw8tBA9TXgS3hywk77Cm', 'rpW5ZCo8MepMuEpFzr8inqC3y4rR5JrYd9', {'weight': 29}), ('rpW5ZCo8MepMuEpFzr8inqC3y4rR5JrYd9', 'r3FDtHFistRNMvHw8tBA9TXgS3hywk77Cm', {'weight': 15}), ('r3FEV7mHXbdymSnnTPpU7rCKa1AvYTULSu', 'rPNCUvjk6bruzjAGEegxKgwE8hQBiMEz1p', {'weight': 32}), ('rPNCUvjk6bruzjAGEegxKgwE8hQBiMEz1p', 'r3FEV7mHXbdymSnnTPpU7rCKa1AvYTULSu', {'weight': 16}), ('r3FFCUrVW6aqfMUve9BKzdAysf2dkjxMQN', 'rUJLwexgBaDzD973ic6AtVy5ebRKtbcYse', {'weight': 29}), ('rUJLwexgBaDzD973ic6AtVy5ebRKtbcYse', 'r3FFCUrVW6aqfMUve9BKzdAysf2dkjxMQN', {'weight': 20}), ('r3Fn7t7ESUYfc2eCXKsvDZ9zXpoHkbPphE', 'rU7HGR31eJby6b2jBRZ8HpftPbMvrxTJUh', {'weight': 28}), ('rU7HGR31eJby6b2jBRZ8HpftPbMvrxTJUh', 'r3Fn7t7ESUYfc2eCXKsvDZ9zXpoHkbPphE', {'weight': 13}), ('r3FywbefnpYfxfs1PxgoJpTPMguZ2ym1JS', 'rJ4LiemBiJQcFhRF3fedeY2H77uVWY8kZM', {'weight': 34}), ('rJ4LiemBiJQcFhRF3fedeY2H77uVWY8kZM', 'r3FywbefnpYfxfs1PxgoJpTPMguZ2ym1JS', {'weight': 44}), ('r3H4dDFb1vHDNs8K3TaeSM5yyVgEMzVHZj', 'rsHoDV2kyCDNXfpdiucJ3X9k39u2QuPQab', {'weight': 43}), ('rsHoDV2kyCDNXfpdiucJ3X9k39u2QuPQab', 'r3H4dDFb1vHDNs8K3TaeSM5yyVgEMzVHZj', {'weight': 27}), ('r3HQtbkMM242nJfM36FWSSnj8MRXkGNMy2', 'rafo61eFk6b6Zkk2vv4HhnKGWtw9k1Qxe1', {'weight': 67}), ('rafo61eFk6b6Zkk2vv4HhnKGWtw9k1Qxe1', 'r3HQtbkMM242nJfM36FWSSnj8MRXkGNMy2', {'weight': 88}), ('r3HzNd8QcHxhLf7dpRG5USBH2fyrqXBHrc', 'rfBCG9qqAR4kFsrbhChLXN1vVi86G6iA9s', {'weight': 36}), ('rfBCG9qqAR4kFsrbhChLXN1vVi86G6iA9s', 'r3HzNd8QcHxhLf7dpRG5USBH2fyrqXBHrc', {'weight': 45}), ('r3J3ET3gcxNkykBusWkm6RTuqHKF1ttbWe', 'rkkLkhTjqLeT8eZ2APNKyvLCLVPUy7FXN', {'weight': 74}), ('rkkLkhTjqLeT8eZ2APNKyvLCLVPUy7FXN', 'r3J3ET3gcxNkykBusWkm6RTuqHKF1ttbWe', {'weight': 56}), ('r3JEN9Xwmv39s2r4q7Jo9HPL48ecdBnutt', 'rJcpaFHbGQseoNPMrYUg7rbCFwziSaBSRw', {'weight': 25}), ('rJcpaFHbGQseoNPMrYUg7rbCFwziSaBSRw', 'r3JEN9Xwmv39s2r4q7Jo9HPL48ecdBnutt', {'weight': 15}), ('r3JVdCa2nhtMHrjriaRhoCoCirLu6RMC1k', 'rMeyEyU63Dk9EQyFWuFgNvfGxgrQcTs8En', {'weight': 16}), ('rMeyEyU63Dk9EQyFWuFgNvfGxgrQcTs8En', 'r3JVdCa2nhtMHrjriaRhoCoCirLu6RMC1k', {'weight': 25}), ('r3JXv9gvzXuA3Bh8pnEWPp8i1NRZ6ryXnU', 'rMMLYafp6kzHkcfo92i2kuPXgsjUkLB3KM', {'weight': 73}), ('rMMLYafp6kzHkcfo92i2kuPXgsjUkLB3KM', 'r3JXv9gvzXuA3Bh8pnEWPp8i1NRZ6ryXnU', {'weight': 89}), ('r3KLrU823kRsxLdHxEQCe2gJKPDtth7cCy', 'r95PmymcHSgDx5WV1jA1VnAKFogA18LVGA', {'weight': 28}), ('r95PmymcHSgDx5WV1jA1VnAKFogA18LVGA', 'r3KLrU823kRsxLdHxEQCe2gJKPDtth7cCy', {'weight': 18}), ('r3Kf6J9f9PUNGDyavXtKPXpecNJKrYqHVe', 'rpkccCi8orCj2iM9nYbs7bFAUi5UK2m7RA', {'weight': 26}), ('rpkccCi8orCj2iM9nYbs7bFAUi5UK2m7RA', 'r3Kf6J9f9PUNGDyavXtKPXpecNJKrYqHVe', {'weight': 15}), ('r3KgJE6qy1zuqeQpzgom8EdA1nvJgGvMFX', 'rfzRyb1GmdP6ymCD89L65onRmmENncJ86n', {'weight': 29}), ('rfzRyb1GmdP6ymCD89L65onRmmENncJ86n', 'r3KgJE6qy1zuqeQpzgom8EdA1nvJgGvMFX', {'weight': 21}), ('r3KvKxKWKgLJJKYhbjHzVhDiwKzB2yvWr4', 'rnwF5yitqzkitypLe3usWpbg4ZDuedCZxp', {'weight': 14}), ('rnwF5yitqzkitypLe3usWpbg4ZDuedCZxp', 'r3KvKxKWKgLJJKYhbjHzVhDiwKzB2yvWr4', {'weight': 27}), ('r3KyoXePfQETQKoPT9sH7MsDciGCmuBsPe', 'rBMXdjG9gRByNUtqna3MiH6diHLwwyqF6A', {'weight': 13}), ('rBMXdjG9gRByNUtqna3MiH6diHLwwyqF6A', 'r3KyoXePfQETQKoPT9sH7MsDciGCmuBsPe', {'weight': 23}), ('r3L4GunarriurRPnxWEBfbNz1cCdtoQtSu', 'rECDijCoeXKoSNMNnKVT4E62WPr4gZZzhK', {'weight': 29}), ('rECDijCoeXKoSNMNnKVT4E62WPr4gZZzhK', 'r3L4GunarriurRPnxWEBfbNz1cCdtoQtSu', {'weight': 16}), ('r3LA6R4FPy6NVdfHAWr2YUCDn4eXytvcTe', 'rUKcDET5XLhb8h3iB7rdBmXfzfYgALHs9D', {'weight': 25}), ('rUKcDET5XLhb8h3iB7rdBmXfzfYgALHs9D', 'r3LA6R4FPy6NVdfHAWr2YUCDn4eXytvcTe', {'weight': 16}), ('r3LBP6MjLWYvaH3whz2FB8sdykkfd3fP4R', 'rNVGL2B8eaTmu37uhekx7FNtnt3DwfePeu', {'weight': 31}), ('rNVGL2B8eaTmu37uhekx7FNtnt3DwfePeu', 'r3LBP6MjLWYvaH3whz2FB8sdykkfd3fP4R', {'weight': 41}), ('r3M3NXziFBg5X5xGobFgWEsM9XNSr2pZQz', 'rKqjmVjoxCHeFN6oBDwu4YABy3HTvq34Xc', {'weight': 77}), ('rKqjmVjoxCHeFN6oBDwu4YABy3HTvq34Xc', 'r3M3NXziFBg5X5xGobFgWEsM9XNSr2pZQz', {'weight': 58}), ('r3MKpAXq9Gadg8stvzoWwXUk1Qo5pSoRrT', 'rUPUMhdmBiGs3UTqSyAnqVqFTASL34GLm8', {'weight': 23}), ('rUPUMhdmBiGs3UTqSyAnqVqFTASL34GLm8', 'r3MKpAXq9Gadg8stvzoWwXUk1Qo5pSoRrT', {'weight': 13}), ('r3MfY23xzfXESrxjFdiPEZfJLno3B6MacD', 'rH3SnAMwV1rv6jXvsmPC9op7hckLPgmhFC', {'weight': 33}), ('rH3SnAMwV1rv6jXvsmPC9op7hckLPgmhFC', 'r3MfY23xzfXESrxjFdiPEZfJLno3B6MacD', {'weight': 21}), ('r3Mn1hJGzS4Y2U674hAyzUbzsqP2VTPzHd', 'rwSHCqrkBnL7Tat7wiZBK2qZM1zq9gsYed', {'weight': 37}), ('rwSHCqrkBnL7Tat7wiZBK2qZM1zq9gsYed', 'r3Mn1hJGzS4Y2U674hAyzUbzsqP2VTPzHd', {'weight': 27}), ('r3MtnJrj9GoJqyrYppWFtySXJReWjfFbuJ', 'rh3GKC3FQv6Gd19grnHYY6tqSZww8Lp9Zo', {'weight': 73}), ('rh3GKC3FQv6Gd19grnHYY6tqSZww8Lp9Zo', 'r3MtnJrj9GoJqyrYppWFtySXJReWjfFbuJ', {'weight': 56}), ('r3MzF4SNZrhD9LyLVwwPwduAWJ38kKoSW1', 'rhuxhaMbWfpka9syXbjrpRDM3zHQhrGnhS', {'weight': 25}), ('rhuxhaMbWfpka9syXbjrpRDM3zHQhrGnhS', 'r3MzF4SNZrhD9LyLVwwPwduAWJ38kKoSW1', {'weight': 13}), ('r3N7DGh5TKQFvvRTtvjCHGefoApeRq3jeN', 'rhdbnY7zTU1KfirD3AWuBHMkuNXgGVo1R8', {'weight': 15}), ('rhdbnY7zTU1KfirD3AWuBHMkuNXgGVo1R8', 'r3N7DGh5TKQFvvRTtvjCHGefoApeRq3jeN', {'weight': 28}), ('r3N7HbdkQftayonaiXcjo4CXzNfx88mWuA', 'rLT3MBp2ecw4VLcRYJga4EMLfrbrbHz7bg', {'weight': 16}), ('rLT3MBp2ecw4VLcRYJga4EMLfrbrbHz7bg', 'r3N7HbdkQftayonaiXcjo4CXzNfx88mWuA', {'weight': 26}), ('r3NHX3AJ4iqD6T13WvNyiC27FFxDLgc7sh', 'rwAPMj2BBRkn2SuYxMteMRa1WXeMamjzK4', {'weight': 19}), ('rwAPMj2BBRkn2SuYxMteMRa1WXeMamjzK4', 'r3NHX3AJ4iqD6T13WvNyiC27FFxDLgc7sh', {'weight': 35}), ('r3NNcgojg5zo3zAgY9bMzDP6BYsuPgzvHM', 'rrhRwGMzDabSFyob58fPDiehYr69hf9AYH', {'weight': 17}), ('rrhRwGMzDabSFyob58fPDiehYr69hf9AYH', 'r3NNcgojg5zo3zAgY9bMzDP6BYsuPgzvHM', {'weight': 29}), ('r3NbufSjqL1xG7vPitUgC7pWAzu8YNvvsq', 'rE8S6CZVJPDqYypMP3Qnf7AyZ2DZqKxXCm', {'weight': 31}), ('rE8S6CZVJPDqYypMP3Qnf7AyZ2DZqKxXCm', 'r3NbufSjqL1xG7vPitUgC7pWAzu8YNvvsq', {'weight': 20}), ('r3Nh2GBsPjj2L2EnRDBG5YEBtrCcPsqXbV', 'rfmKywzfGb3xCTXE8gEk7ujgZPP63TS6JC', {'weight': 26}), ('rfmKywzfGb3xCTXE8gEk7ujgZPP63TS6JC', 'r3Nh2GBsPjj2L2EnRDBG5YEBtrCcPsqXbV', {'weight': 13}), ('r3NkFEwqb6eFcXKijNkB7keDpeAbzgqmU2', 'rLwvFY9nT1N1g1uZtPtNNfHwMQcs6nYVmS', {'weight': 15}), ('rLwvFY9nT1N1g1uZtPtNNfHwMQcs6nYVmS', 'r3NkFEwqb6eFcXKijNkB7keDpeAbzgqmU2', {'weight': 26}), ('r3NkogLQD4ZehQjsHM85ia87AfPXh14KuK', 'rJ9AUKguHatEravHxVJtC2LPtRGM4c4KKj', {'weight': 25}), ('rJ9AUKguHatEravHxVJtC2LPtRGM4c4KKj', 'r3NkogLQD4ZehQjsHM85ia87AfPXh14KuK', {'weight': 15}), ('r3Nm3iqy7qxaWRM3fgcgJgJLhTd6bvQKvF', 'rGMFSgyc67vof77uhJBSUpy4WQxQ8DMfB9', {'weight': 32}), ('rGMFSgyc67vof77uhJBSUpy4WQxQ8DMfB9', 'r3Nm3iqy7qxaWRM3fgcgJgJLhTd6bvQKvF', {'weight': 23}), ('r3PVMgzWuWe9GQUSKCW1m52REhA5n9JXZg', 'rsCUNJES4ncdTFQ93h6i24dX58Liiit69W', {'weight': 28}), ('rsCUNJES4ncdTFQ93h6i24dX58Liiit69W', 'r3PVMgzWuWe9GQUSKCW1m52REhA5n9JXZg', {'weight': 15}), ('r3PpYnu37F7BspVeXVMkQGor12weURxvT9', 'r94sNomnNqmod2MmNfVeZnT72oyr5LJ7en', {'weight': 28}), ('r94sNomnNqmod2MmNfVeZnT72oyr5LJ7en', 'r3PpYnu37F7BspVeXVMkQGor12weURxvT9', {'weight': 15}), ('r3Q4eJyqJFyaHCVjPAfKC6PcB9piumAwoX', 'rJooMFohGwfU615C3BViPEeKFvGPw4gqzh', {'weight': 35}), ('rJooMFohGwfU615C3BViPEeKFvGPw4gqzh', 'r3Q4eJyqJFyaHCVjPAfKC6PcB9piumAwoX', {'weight': 44}), ('r3QMFqyNFo7n1nwJV6G6bUshZ4Wkqa54ZX', 'rfnkN2R7428j9Gf3nVeC213cJHv16icsFG', {'weight': 43}), ('rfnkN2R7428j9Gf3nVeC213cJHv16icsFG', 'r3QMFqyNFo7n1nwJV6G6bUshZ4Wkqa54ZX', {'weight': 34}), ('r3QYfBLyV8fVYUKiCUEb1TA691kEJxXRS2', 'r3hjMd3MafWSuCco1sz49Ai3MgXNJGVa2X', {'weight': 29}), ('r3hjMd3MafWSuCco1sz49Ai3MgXNJGVa2X', 'r3QYfBLyV8fVYUKiCUEb1TA691kEJxXRS2', {'weight': 14}), ('r3Qam2b6q5WHjLgC4uB7ZceTUThZfwduJz', 'rB7ZMcqidPRhrbuNd5BqNrUR11nuwF2qAd', {'weight': 41}), ('rB7ZMcqidPRhrbuNd5BqNrUR11nuwF2qAd', 'r3Qam2b6q5WHjLgC4uB7ZceTUThZfwduJz', {'weight': 65}), ('r3Qjg5Hb4yGozNz3RMm7oPkh4LH7uMX6ZE', 'rG9newC8VX3fo3S9ab8wy4bM4a78zGm1kr', {'weight': 30}), ('rG9newC8VX3fo3S9ab8wy4bM4a78zGm1kr', 'r3Qjg5Hb4yGozNz3RMm7oPkh4LH7uMX6ZE', {'weight': 17}), ('r3QjzXoqbMj4873EVzny43u1UtsUCiUP8P', 'rhFiR8X9NVEVTSVwb9gjq7U3zgBmw2e52z', {'weight': 18}), ('rhFiR8X9NVEVTSVwb9gjq7U3zgBmw2e52z', 'r3QjzXoqbMj4873EVzny43u1UtsUCiUP8P', {'weight': 33}), ('r3R423ejo9vM1f9TBrk8nyHG23Q1k38NEA', 'rsoEH8yFzQYf79UZ882y7wWq7DaKcrWfmV', {'weight': 30}), ('rsoEH8yFzQYf79UZ882y7wWq7DaKcrWfmV', 'r3R423ejo9vM1f9TBrk8nyHG23Q1k38NEA', {'weight': 16}), ('r3R4i26fpTqCGrrt2QZXJn87P5CeEkh8k8', 'rrsnmV7SQgBG7o3KHvxuC8apmRVjLWXpEv', {'weight': 35}), ('rrsnmV7SQgBG7o3KHvxuC8apmRVjLWXpEv', 'r3R4i26fpTqCGrrt2QZXJn87P5CeEkh8k8', {'weight': 23}), ('r3RKAenAnZUYHRbnW1ovzmzbWkDEe55kBB', 'roxkVCWsit9dUmtPiB9a2KaQD7uqBKEGK', {'weight': 14}), ('roxkVCWsit9dUmtPiB9a2KaQD7uqBKEGK', 'r3RKAenAnZUYHRbnW1ovzmzbWkDEe55kBB', {'weight': 26}), ('r3RaYYTEozWBm1txtnkrgS5MtSYnZh94a3', 'rPMLrPpndo1b2XiNMZaPAZEyyGXDs6evNL', {'weight': 19}), ('rPMLrPpndo1b2XiNMZaPAZEyyGXDs6evNL', 'r3RaYYTEozWBm1txtnkrgS5MtSYnZh94a3', {'weight': 29}), ('r3S3CyaLEz4rLqeBmSoE6W3jXDMvMwZi3Z', 'r412tpDmCEuX5R8yuPTzwSM37m6cVT7dw1', {'weight': 87}), ('r412tpDmCEuX5R8yuPTzwSM37m6cVT7dw1', 'r3S3CyaLEz4rLqeBmSoE6W3jXDMvMwZi3Z', {'weight': 67}), ('r3SKAaeY8fFtG8KrSu5QLA4NJQBy8YHkdR', 'rBHrbEus7cjeLPDGHvu67QxNW2v4ZkMu8z', {'weight': 17}), ('rBHrbEus7cjeLPDGHvu67QxNW2v4ZkMu8z', 'r3SKAaeY8fFtG8KrSu5QLA4NJQBy8YHkdR', {'weight': 26}), ('r3SitcyxsaXsTP9VoybwDU4zkpGnEkmxso', 'rLQ4Z7pXjhJdBDpXw23Y5pgKiq12jpKKv1', {'weight': 14}), ('rLQ4Z7pXjhJdBDpXw23Y5pgKiq12jpKKv1', 'r3SitcyxsaXsTP9VoybwDU4zkpGnEkmxso', {'weight': 26}), ('r3SsBBu7pRqLiJ1uyijESTanPj4HMvoVpG', 'rs7DoNrU5noR2XBXfqX7VsmUJQeC1G3GLj', {'weight': 19}), ('rs7DoNrU5noR2XBXfqX7VsmUJQeC1G3GLj', 'r3SsBBu7pRqLiJ1uyijESTanPj4HMvoVpG', {'weight': 34}), ('r3T4Gw5AvLV2WaGANYAaTiDYFLJJKYpYh4', 'rDTWiYprNp8gLpnWHziGepTkv3tZPxHJvG', {'weight': 24}), ('rDTWiYprNp8gLpnWHziGepTkv3tZPxHJvG', 'r3T4Gw5AvLV2WaGANYAaTiDYFLJJKYpYh4', {'weight': 34}), ('r3TCQe3kVEHgrYgFuAeDJHvjtiDW8PiLGW', 'rrsva6cwb98ud6SkDmNpwsk4bG4RgtSDVv', {'weight': 30}), ('rrsva6cwb98ud6SkDmNpwsk4bG4RgtSDVv', 'r3TCQe3kVEHgrYgFuAeDJHvjtiDW8PiLGW', {'weight': 39}), ('r3TGD8eoXfh3NfHS65EhfA4QFT16sYerdy', 'r3zeSfjGCpB1pVaoz5cKtSHWYa9rxRm6AQ', {'weight': 44}), ('r3zeSfjGCpB1pVaoz5cKtSHWYa9rxRm6AQ', 'r3TGD8eoXfh3NfHS65EhfA4QFT16sYerdy', {'weight': 34}), ('r3TMbYh4BpyLLr3RWYheZZUQxA4LvUnhDD', 'rJuYTaePcBRaPhyBVeieNJVjbBsb1HwKsd', {'weight': 21}), ('rJuYTaePcBRaPhyBVeieNJVjbBsb1HwKsd', 'r3TMbYh4BpyLLr3RWYheZZUQxA4LvUnhDD', {'weight': 31}), ('r3Ua8kK98mn3A9EMfueeAn8BaNM4XNM8nw', 'rLaSjAPfPYP1TGK1Z4ZVsAeNuYATx76Wtk', {'weight': 20}), ('rLaSjAPfPYP1TGK1Z4ZVsAeNuYATx76Wtk', 'r3Ua8kK98mn3A9EMfueeAn8BaNM4XNM8nw', {'weight': 30}), ('r3Uq7cnomjhUBPbPvzPZCdiysQ5dwd7E6f', 'rJLyYAxN4jaDHLCGtUTdDctzPREoJkgDEV', {'weight': 22}), ('rJLyYAxN4jaDHLCGtUTdDctzPREoJkgDEV', 'r3Uq7cnomjhUBPbPvzPZCdiysQ5dwd7E6f', {'weight': 33}), ('r3Urii7cD1jK2HooTD9Ci4Ufchpac5ieWW', 'rUmckTc7w4XZ3hibmpRHSDJWBzgBDBJ1qh', {'weight': 31}), ('rUmckTc7w4XZ3hibmpRHSDJWBzgBDBJ1qh', 'r3Urii7cD1jK2HooTD9Ci4Ufchpac5ieWW', {'weight': 16}), ('r3UwawLHuCbh15Wky32ncP3wGrhxHgWjrV', 'rUJQDg8GvQR59jyTcwDezjeoqg5NRNkaZn', {'weight': 96}), ('rUJQDg8GvQR59jyTcwDezjeoqg5NRNkaZn', 'r3UwawLHuCbh15Wky32ncP3wGrhxHgWjrV', {'weight': 106}), ('r3VC6jvrr3ny2fAPyGP3EjgKh9o4UrnpHE', 'r4ABXm3xpXojPAi14EcLmgERyuVUE41mGi', {'weight': 1107}), ('r3VC6jvrr3ny2fAPyGP3EjgKh9o4UrnpHE', 'r4ow8sharDWkxfqZwtbAJYwU2SEFXAxmFp', {'weight': 991}), ('r3VC6jvrr3ny2fAPyGP3EjgKh9o4UrnpHE', 'rGrUgQDuBMuCVpLd5xz2qUFbxGUMwWJ1Sy', {'weight': 1114}), ('r3VC6jvrr3ny2fAPyGP3EjgKh9o4UrnpHE', 'rKuAAajywBVRqWubSG43f3YUQTckH6SWrp', {'weight': 821}), ('r3VC6jvrr3ny2fAPyGP3EjgKh9o4UrnpHE', 'rNQnHKRZ32Lts2RYqXBPGEMnFJpQhVSqH2', {'weight': 328}), ('r3VC6jvrr3ny2fAPyGP3EjgKh9o4UrnpHE', 'rUSB76jBJ8EqmGGV3yuDDZJGJ9sFtJRuwu', {'weight': 1306}), ('r3VC6jvrr3ny2fAPyGP3EjgKh9o4UrnpHE', 'rna3REBtXdafS8izdZBx86bQUsT96GFpNT', {'weight': 1319}), ('r3VC6jvrr3ny2fAPyGP3EjgKh9o4UrnpHE', 'rpKj9aiBUtC1TSfVDxYU9hAeodwxUcCjxy', {'weight': 1292}), ('r3VC6jvrr3ny2fAPyGP3EjgKh9o4UrnpHE', 'rpSjrBTBjTpLYG5aCvJBFf1PhH8nZm9CN5', {'weight': 764}), ('r3VC6jvrr3ny2fAPyGP3EjgKh9o4UrnpHE', 'rwj4ENDNCiY4CY9v2nbzMwQkWUMLFtTekd', {'weight': 1258}), ('r4ABXm3xpXojPAi14EcLmgERyuVUE41mGi', 'r3VC6jvrr3ny2fAPyGP3EjgKh9o4UrnpHE', {'weight': 1096}), ('r4ABXm3xpXojPAi14EcLmgERyuVUE41mGi', 'rBofXgf6s6mxEnZxG5Xvq6BAp5qwjLyYbH', {'weight': 1121}), ('r4ABXm3xpXojPAi14EcLmgERyuVUE41mGi', 'rGfSEUa5XHh6c16KbQBzuv163kJQZv5AtN', {'weight': 1299}), ('r4ABXm3xpXojPAi14EcLmgERyuVUE41mGi', 'rGvFAsDiR8jpNsxv7JoydBbKYZMxYEdSno', {'weight': 1111}), ('r4ABXm3xpXojPAi14EcLmgERyuVUE41mGi', 'rKWeJfhstn5AbRQfc65Goc6csDUadXTM3U', {'weight': 1113}), ('r4ABXm3xpXojPAi14EcLmgERyuVUE41mGi', 'rKa9G1Pn7H9eu1fbZNbZvANBTMJ6v7vkep', {'weight': 1096}), ('r4ABXm3xpXojPAi14EcLmgERyuVUE41mGi', 'rLhw4b5C1FYPcz6LSHF4b8PWBZwwyJ7Asd', {'weight': 1082}), ('r4ABXm3xpXojPAi14EcLmgERyuVUE41mGi', 'rh5NJ7kZDaxcKwhrw6qTx2iKuu3eFs89ub', {'weight': 1109}), ('r4ABXm3xpXojPAi14EcLmgERyuVUE41mGi', 'rpVkYTTCpt5bT9ndsppAuWNCCVVU7yJhSL', {'weight': 1114}), ('r4ABXm3xpXojPAi14EcLmgERyuVUE41mGi', 'rpu9JJCgDWZX6KSW4QorC8vxUPetib4Wjw', {'weight': 1086}), ('r4ow8sharDWkxfqZwtbAJYwU2SEFXAxmFp', 'r3VC6jvrr3ny2fAPyGP3EjgKh9o4UrnpHE', {'weight': 1003}), ('r4ow8sharDWkxfqZwtbAJYwU2SEFXAxmFp', 'rBofXgf6s6mxEnZxG5Xvq6BAp5qwjLyYbH', {'weight': 1004}), ('r4ow8sharDWkxfqZwtbAJYwU2SEFXAxmFp', 'rGfSEUa5XHh6c16KbQBzuv163kJQZv5AtN', {'weight': 1007}), ('r4ow8sharDWkxfqZwtbAJYwU2SEFXAxmFp', 'rGvFAsDiR8jpNsxv7JoydBbKYZMxYEdSno', {'weight': 1026}), ('r4ow8sharDWkxfqZwtbAJYwU2SEFXAxmFp', 'rKWeJfhstn5AbRQfc65Goc6csDUadXTM3U', {'weight': 993}), ('r4ow8sharDWkxfqZwtbAJYwU2SEFXAxmFp', 'rKa9G1Pn7H9eu1fbZNbZvANBTMJ6v7vkep', {'weight': 984}), ('r4ow8sharDWkxfqZwtbAJYwU2SEFXAxmFp', 'rLhw4b5C1FYPcz6LSHF4b8PWBZwwyJ7Asd', {'weight': 979}), ('r4ow8sharDWkxfqZwtbAJYwU2SEFXAxmFp', 'rh5NJ7kZDaxcKwhrw6qTx2iKuu3eFs89ub', {'weight': 1175}), ('r4ow8sharDWkxfqZwtbAJYwU2SEFXAxmFp', 'rpVkYTTCpt5bT9ndsppAuWNCCVVU7yJhSL', {'weight': 998}), ('r4ow8sharDWkxfqZwtbAJYwU2SEFXAxmFp', 'rpu9JJCgDWZX6KSW4QorC8vxUPetib4Wjw', {'weight': 994}), ('rGrUgQDuBMuCVpLd5xz2qUFbxGUMwWJ1Sy', 'r3VC6jvrr3ny2fAPyGP3EjgKh9o4UrnpHE', {'weight': 1082}), ('rGrUgQDuBMuCVpLd5xz2qUFbxGUMwWJ1Sy', 'rBofXgf6s6mxEnZxG5Xvq6BAp5qwjLyYbH', {'weight': 1074}), ('rGrUgQDuBMuCVpLd5xz2qUFbxGUMwWJ1Sy', 'rGfSEUa5XHh6c16KbQBzuv163kJQZv5AtN', {'weight': 1075}), ('rGrUgQDuBMuCVpLd5xz2qUFbxGUMwWJ1Sy', 'rGvFAsDiR8jpNsxv7JoydBbKYZMxYEdSno', {'weight': 1272}), ('rGrUgQDuBMuCVpLd5xz2qUFbxGUMwWJ1Sy', 'rKWeJfhstn5AbRQfc65Goc6csDUadXTM3U', {'weight': 1095}), ('rGrUgQDuBMuCVpLd5xz2qUFbxGUMwWJ1Sy', 'rKa9G1Pn7H9eu1fbZNbZvANBTMJ6v7vkep', {'weight': 1322}), ('rGrUgQDuBMuCVpLd5xz2qUFbxGUMwWJ1Sy', 'rLhw4b5C1FYPcz6LSHF4b8PWBZwwyJ7Asd', {'weight': 1100}), ('rGrUgQDuBMuCVpLd5xz2qUFbxGUMwWJ1Sy', 'rh5NJ7kZDaxcKwhrw6qTx2iKuu3eFs89ub', {'weight': 1073}), ('rGrUgQDuBMuCVpLd5xz2qUFbxGUMwWJ1Sy', 'rpVkYTTCpt5bT9ndsppAuWNCCVVU7yJhSL', {'weight': 1271}), ('rGrUgQDuBMuCVpLd5xz2qUFbxGUMwWJ1Sy', 'rpu9JJCgDWZX6KSW4QorC8vxUPetib4Wjw', {'weight': 1107}), ('rKuAAajywBVRqWubSG43f3YUQTckH6SWrp', 'r3VC6jvrr3ny2fAPyGP3EjgKh9o4UrnpHE', {'weight': 834}), ('rKuAAajywBVRqWubSG43f3YUQTckH6SWrp', 'rBofXgf6s6mxEnZxG5Xvq6BAp5qwjLyYbH', {'weight': 818}), ('rKuAAajywBVRqWubSG43f3YUQTckH6SWrp', 'rGfSEUa5XHh6c16KbQBzuv163kJQZv5AtN', {'weight': 834}), ('rKuAAajywBVRqWubSG43f3YUQTckH6SWrp', 'rGvFAsDiR8jpNsxv7JoydBbKYZMxYEdSno', {'weight': 823}), ('rKuAAajywBVRqWubSG43f3YUQTckH6SWrp', 'rKWeJfhstn5AbRQfc65Goc6csDUadXTM3U', {'weight': 808}), ('rKuAAajywBVRqWubSG43f3YUQTckH6SWrp', 'rKa9G1Pn7H9eu1fbZNbZvANBTMJ6v7vkep', {'weight': 840}), ('rKuAAajywBVRqWubSG43f3YUQTckH6SWrp', 'rLhw4b5C1FYPcz6LSHF4b8PWBZwwyJ7Asd', {'weight': 832}), ('rKuAAajywBVRqWubSG43f3YUQTckH6SWrp', 'rh5NJ7kZDaxcKwhrw6qTx2iKuu3eFs89ub', {'weight': 823}), ('rKuAAajywBVRqWubSG43f3YUQTckH6SWrp', 'rpVkYTTCpt5bT9ndsppAuWNCCVVU7yJhSL', {'weight': 843}), ('rKuAAajywBVRqWubSG43f3YUQTckH6SWrp', 'rpu9JJCgDWZX6KSW4QorC8vxUPetib4Wjw', {'weight': 939}), ('rNQnHKRZ32Lts2RYqXBPGEMnFJpQhVSqH2', 'r3VC6jvrr3ny2fAPyGP3EjgKh9o4UrnpHE', {'weight': 349}), ('rNQnHKRZ32Lts2RYqXBPGEMnFJpQhVSqH2', 'rBofXgf6s6mxEnZxG5Xvq6BAp5qwjLyYbH', {'weight': 537}), ('rNQnHKRZ32Lts2RYqXBPGEMnFJpQhVSqH2', 'rGfSEUa5XHh6c16KbQBzuv163kJQZv5AtN', {'weight': 363}), ('rNQnHKRZ32Lts2RYqXBPGEMnFJpQhVSqH2', 'rGvFAsDiR8jpNsxv7JoydBbKYZMxYEdSno', {'weight': 342}), ('rNQnHKRZ32Lts2RYqXBPGEMnFJpQhVSqH2', 'rKWeJfhstn5AbRQfc65Goc6csDUadXTM3U', {'weight': 334}), ('rNQnHKRZ32Lts2RYqXBPGEMnFJpQhVSqH2', 'rKa9G1Pn7H9eu1fbZNbZvANBTMJ6v7vkep', {'weight': 333}), ('rNQnHKRZ32Lts2RYqXBPGEMnFJpQhVSqH2', 'rLhw4b5C1FYPcz6LSHF4b8PWBZwwyJ7Asd', {'weight': 325}), ('rNQnHKRZ32Lts2RYqXBPGEMnFJpQhVSqH2', 'rh5NJ7kZDaxcKwhrw6qTx2iKuu3eFs89ub', {'weight': 350}), ('rNQnHKRZ32Lts2RYqXBPGEMnFJpQhVSqH2', 'rpVkYTTCpt5bT9ndsppAuWNCCVVU7yJhSL', {'weight': 327}), ('rNQnHKRZ32Lts2RYqXBPGEMnFJpQhVSqH2', 'rpu9JJCgDWZX6KSW4QorC8vxUPetib4Wjw', {'weight': 359}), ('rUSB76jBJ8EqmGGV3yuDDZJGJ9sFtJRuwu', 'r3VC6jvrr3ny2fAPyGP3EjgKh9o4UrnpHE', {'weight': 1280}), ('rUSB76jBJ8EqmGGV3yuDDZJGJ9sFtJRuwu', 'rBofXgf6s6mxEnZxG5Xvq6BAp5qwjLyYbH', {'weight': 1322}), ('rUSB76jBJ8EqmGGV3yuDDZJGJ9sFtJRuwu', 'rGfSEUa5XHh6c16KbQBzuv163kJQZv5AtN', {'weight': 1288}), ('rUSB76jBJ8EqmGGV3yuDDZJGJ9sFtJRuwu', 'rGvFAsDiR8jpNsxv7JoydBbKYZMxYEdSno', {'weight': 1500}), ('rUSB76jBJ8EqmGGV3yuDDZJGJ9sFtJRuwu', 'rKWeJfhstn5AbRQfc65Goc6csDUadXTM3U', {'weight': 1314}), ('rUSB76jBJ8EqmGGV3yuDDZJGJ9sFtJRuwu', 'rKa9G1Pn7H9eu1fbZNbZvANBTMJ6v7vkep', {'weight': 1290}), ('rUSB76jBJ8EqmGGV3yuDDZJGJ9sFtJRuwu', 'rLhw4b5C1FYPcz6LSHF4b8PWBZwwyJ7Asd', {'weight': 1309}), ('rUSB76jBJ8EqmGGV3yuDDZJGJ9sFtJRuwu', 'rh5NJ7kZDaxcKwhrw6qTx2iKuu3eFs89ub', {'weight': 1312}), ('rUSB76jBJ8EqmGGV3yuDDZJGJ9sFtJRuwu', 'rpVkYTTCpt5bT9ndsppAuWNCCVVU7yJhSL', {'weight': 1313}), ('rUSB76jBJ8EqmGGV3yuDDZJGJ9sFtJRuwu', 'rpu9JJCgDWZX6KSW4QorC8vxUPetib4Wjw', {'weight': 1310}), ('rna3REBtXdafS8izdZBx86bQUsT96GFpNT', 'r3VC6jvrr3ny2fAPyGP3EjgKh9o4UrnpHE', {'weight': 1325}), ('rna3REBtXdafS8izdZBx86bQUsT96GFpNT', 'rBofXgf6s6mxEnZxG5Xvq6BAp5qwjLyYbH', {'weight': 1342}), ('rna3REBtXdafS8izdZBx86bQUsT96GFpNT', 'rGfSEUa5XHh6c16KbQBzuv163kJQZv5AtN', {'weight': 1320}), ('rna3REBtXdafS8izdZBx86bQUsT96GFpNT', 'rGvFAsDiR8jpNsxv7JoydBbKYZMxYEdSno', {'weight': 1318}), ('rna3REBtXdafS8izdZBx86bQUsT96GFpNT', 'rKWeJfhstn5AbRQfc65Goc6csDUadXTM3U', {'weight': 1414}), ('rna3REBtXdafS8izdZBx86bQUsT96GFpNT', 'rKa9G1Pn7H9eu1fbZNbZvANBTMJ6v7vkep', {'weight': 1323}), ('rna3REBtXdafS8izdZBx86bQUsT96GFpNT', 'rLhw4b5C1FYPcz6LSHF4b8PWBZwwyJ7Asd', {'weight': 1344}), ('rna3REBtXdafS8izdZBx86bQUsT96GFpNT', 'rh5NJ7kZDaxcKwhrw6qTx2iKuu3eFs89ub', {'weight': 1334}), ('rna3REBtXdafS8izdZBx86bQUsT96GFpNT', 'rpVkYTTCpt5bT9ndsppAuWNCCVVU7yJhSL', {'weight': 1311}), ('rna3REBtXdafS8izdZBx86bQUsT96GFpNT', 'rpu9JJCgDWZX6KSW4QorC8vxUPetib4Wjw', {'weight': 1320}), ('rpKj9aiBUtC1TSfVDxYU9hAeodwxUcCjxy', 'r3VC6jvrr3ny2fAPyGP3EjgKh9o4UrnpHE', {'weight': 1302}), ('rpKj9aiBUtC1TSfVDxYU9hAeodwxUcCjxy', 'rBofXgf6s6mxEnZxG5Xvq6BAp5qwjLyYbH', {'weight': 1322}), ('rpKj9aiBUtC1TSfVDxYU9hAeodwxUcCjxy', 'rGfSEUa5XHh6c16KbQBzuv163kJQZv5AtN', {'weight': 1303}), ('rpKj9aiBUtC1TSfVDxYU9hAeodwxUcCjxy', 'rGvFAsDiR8jpNsxv7JoydBbKYZMxYEdSno', {'weight': 1280}), ('rpKj9aiBUtC1TSfVDxYU9hAeodwxUcCjxy', 'rKWeJfhstn5AbRQfc65Goc6csDUadXTM3U', {'weight': 1309}), ('rpKj9aiBUtC1TSfVDxYU9hAeodwxUcCjxy', 'rKa9G1Pn7H9eu1fbZNbZvANBTMJ6v7vkep', {'weight': 1309}), ('rpKj9aiBUtC1TSfVDxYU9hAeodwxUcCjxy', 'rLhw4b5C1FYPcz6LSHF4b8PWBZwwyJ7Asd', {'weight': 1272}), ('rpKj9aiBUtC1TSfVDxYU9hAeodwxUcCjxy', 'rh5NJ7kZDaxcKwhrw6qTx2iKuu3eFs89ub', {'weight': 1305}), ('rpKj9aiBUtC1TSfVDxYU9hAeodwxUcCjxy', 'rpVkYTTCpt5bT9ndsppAuWNCCVVU7yJhSL', {'weight': 1512}), ('rpKj9aiBUtC1TSfVDxYU9hAeodwxUcCjxy', 'rpu9JJCgDWZX6KSW4QorC8vxUPetib4Wjw', {'weight': 1307}), ('rpSjrBTBjTpLYG5aCvJBFf1PhH8nZm9CN5', 'r3VC6jvrr3ny2fAPyGP3EjgKh9o4UrnpHE', {'weight': 777}), ('rpSjrBTBjTpLYG5aCvJBFf1PhH8nZm9CN5', 'rBofXgf6s6mxEnZxG5Xvq6BAp5qwjLyYbH', {'weight': 773}), ('rpSjrBTBjTpLYG5aCvJBFf1PhH8nZm9CN5', 'rGfSEUa5XHh6c16KbQBzuv163kJQZv5AtN', {'weight': 768}), ('rpSjrBTBjTpLYG5aCvJBFf1PhH8nZm9CN5', 'rGvFAsDiR8jpNsxv7JoydBbKYZMxYEdSno', {'weight': 934}), ('rpSjrBTBjTpLYG5aCvJBFf1PhH8nZm9CN5', 'rKWeJfhstn5AbRQfc65Goc6csDUadXTM3U', {'weight': 759}), ('rpSjrBTBjTpLYG5aCvJBFf1PhH8nZm9CN5', 'rKa9G1Pn7H9eu1fbZNbZvANBTMJ6v7vkep', {'weight': 767}), ('rpSjrBTBjTpLYG5aCvJBFf1PhH8nZm9CN5', 'rLhw4b5C1FYPcz6LSHF4b8PWBZwwyJ7Asd', {'weight': 870}), ('rpSjrBTBjTpLYG5aCvJBFf1PhH8nZm9CN5', 'rh5NJ7kZDaxcKwhrw6qTx2iKuu3eFs89ub', {'weight': 767}), ('rpSjrBTBjTpLYG5aCvJBFf1PhH8nZm9CN5', 'rpVkYTTCpt5bT9ndsppAuWNCCVVU7yJhSL', {'weight': 912}), ('rpSjrBTBjTpLYG5aCvJBFf1PhH8nZm9CN5', 'rpu9JJCgDWZX6KSW4QorC8vxUPetib4Wjw', {'weight': 778}), ('rwj4ENDNCiY4CY9v2nbzMwQkWUMLFtTekd', 'r3VC6jvrr3ny2fAPyGP3EjgKh9o4UrnpHE', {'weight': 1266}), ('rwj4ENDNCiY4CY9v2nbzMwQkWUMLFtTekd', 'rBofXgf6s6mxEnZxG5Xvq6BAp5qwjLyYbH', {'weight': 1153}), ('rwj4ENDNCiY4CY9v2nbzMwQkWUMLFtTekd', 'rGfSEUa5XHh6c16KbQBzuv163kJQZv5AtN', {'weight': 1170}), ('rwj4ENDNCiY4CY9v2nbzMwQkWUMLFtTekd', 'rGvFAsDiR8jpNsxv7JoydBbKYZMxYEdSno', {'weight': 1159}), ('rwj4ENDNCiY4CY9v2nbzMwQkWUMLFtTekd', 'rKWeJfhstn5AbRQfc65Goc6csDUadXTM3U', {'weight': 1132}), ('rwj4ENDNCiY4CY9v2nbzMwQkWUMLFtTekd', 'rKa9G1Pn7H9eu1fbZNbZvANBTMJ6v7vkep', {'weight': 1168}), ('rwj4ENDNCiY4CY9v2nbzMwQkWUMLFtTekd', 'rLhw4b5C1FYPcz6LSHF4b8PWBZwwyJ7Asd', {'weight': 1157}), ('rwj4ENDNCiY4CY9v2nbzMwQkWUMLFtTekd', 'rh5NJ7kZDaxcKwhrw6qTx2iKuu3eFs89ub', {'weight': 1160}), ('rwj4ENDNCiY4CY9v2nbzMwQkWUMLFtTekd', 'rpVkYTTCpt5bT9ndsppAuWNCCVVU7yJhSL', {'weight': 1162}), ('rwj4ENDNCiY4CY9v2nbzMwQkWUMLFtTekd', 'rpu9JJCgDWZX6KSW4QorC8vxUPetib4Wjw', {'weight': 1159}), ('r3VxxKuQ1e7qvSJfUpqE4J7MMyA3LNXYTi', 'rU2nWodr3pFnLZPnLs9NCaqEfX5PmcQ5s1', {'weight': 30}), ('rU2nWodr3pFnLZPnLs9NCaqEfX5PmcQ5s1', 'r3VxxKuQ1e7qvSJfUpqE4J7MMyA3LNXYTi', {'weight': 16}), ('r3W3KFR5BfbocLdKUddy4SGaLMWJNmYY6D', 'rGbSmDZXVb3zy8gENqmijEbJgpCLep1t1P', {'weight': 42}), ('rGbSmDZXVb3zy8gENqmijEbJgpCLep1t1P', 'r3W3KFR5BfbocLdKUddy4SGaLMWJNmYY6D', {'weight': 31}), ('r3W9XwehcF77CdXp1xCgVmYDrA7yErux5x', 'rn1VCAn5vGpLR3Lbh9j1Qw5Pz39bCUg6KN', {'weight': 29}), ('rn1VCAn5vGpLR3Lbh9j1Qw5Pz39bCUg6KN', 'r3W9XwehcF77CdXp1xCgVmYDrA7yErux5x', {'weight': 18}), ('r3WBxktJYFuo8KFU2rfXCd9WnDTDKwC6Xh', 'r9CQ1vWeKEuQJdLkDnm1nJPtCyi5QyPEMd', {'weight': 22}), ('r9CQ1vWeKEuQJdLkDnm1nJPtCyi5QyPEMd', 'r3WBxktJYFuo8KFU2rfXCd9WnDTDKwC6Xh', {'weight': 33}), ('r3WCkhPjLJFwxXoHUPjS9dv4iGJaaetc2Y', 'rHywRm82G8N8aeGeNnmEsBxL3jvqHdgk2C', {'weight': 94}), ('rHywRm82G8N8aeGeNnmEsBxL3jvqHdgk2C', 'r3WCkhPjLJFwxXoHUPjS9dv4iGJaaetc2Y', {'weight': 106}), ('r3WQrymEAjtPAwEC8ufvxVNAEDsS8FdBjv', 'rJmvWK3the4Nzme5sNqNnSP61Bn5TBG6Tv', {'weight': 37}), ('rJmvWK3the4Nzme5sNqNnSP61Bn5TBG6Tv', 'r3WQrymEAjtPAwEC8ufvxVNAEDsS8FdBjv', {'weight': 24}), ('r3X5Bt7i1L1sL18Rnhwb6uXFLCvX7PgVn8', 'rJtSQeFw24soShBUimdEnyfefSczRgjChx', {'weight': 51}), ('rJtSQeFw24soShBUimdEnyfefSczRgjChx', 'r3X5Bt7i1L1sL18Rnhwb6uXFLCvX7PgVn8', {'weight': 41}), ('r3X5NMRAD4XUseCLc75mpKNJo5oocXAhXx', 'rDQ5H9tin2oH9dwzNbDNeuxms8qCXhBmJf', {'weight': 94}), ('rDQ5H9tin2oH9dwzNbDNeuxms8qCXhBmJf', 'r3X5NMRAD4XUseCLc75mpKNJo5oocXAhXx', {'weight': 83}), ('r3XFmErVpgZHjy9quNC57dWnpmQEAVmo3H', 'rKnxT5dB4d1aSxXhHPT5ru22xNEkW6MvTk', {'weight': 33}), ('rKnxT5dB4d1aSxXhHPT5ru22xNEkW6MvTk', 'r3XFmErVpgZHjy9quNC57dWnpmQEAVmo3H', {'weight': 21}), ('r3XN4T5JXCuj3SS5WeeEBjJrbrUQBJ5Pz8', 'rM2CcyCGKVwegBBftWg8QFMUe4YfKyviLy', {'weight': 41}), ('rM2CcyCGKVwegBBftWg8QFMUe4YfKyviLy', 'r3XN4T5JXCuj3SS5WeeEBjJrbrUQBJ5Pz8', {'weight': 30}), ('r3XThpmzu3AKzunTAvc9uoGbPUWiocY5AB', 'rBtStfAYbss28B4gkH6h3Uv1uT5wepJpAv', {'weight': 51}), ('rBtStfAYbss28B4gkH6h3Uv1uT5wepJpAv', 'r3XThpmzu3AKzunTAvc9uoGbPUWiocY5AB', {'weight': 41}), ('r3XrzcT8HQ12zTUbyBLVqzTRAFgubAbEgF', 'rEJ2TheHJqstq36gAYrn8dGDLy9J5wza3T', {'weight': 41}), ('rEJ2TheHJqstq36gAYrn8dGDLy9J5wza3T', 'r3XrzcT8HQ12zTUbyBLVqzTRAFgubAbEgF', {'weight': 30}), ('r3Y87in3wTEjJpLpAanfEph9ANuGr9ZxXt', 'rsL52KFcPa3azzCmt6HWZwSWzAHDNNwH8E', {'weight': 36}), ('rsL52KFcPa3azzCmt6HWZwSWzAHDNNwH8E', 'r3Y87in3wTEjJpLpAanfEph9ANuGr9ZxXt', {'weight': 46}), ('r3YgAR1AoXKmvFMdUNeVScV8FFti28SZ9i', 'r9zRTrmUtdEszsyQJ8Za7HqPViy2DSANaF', {'weight': 26}), ('r9zRTrmUtdEszsyQJ8Za7HqPViy2DSANaF', 'r3YgAR1AoXKmvFMdUNeVScV8FFti28SZ9i', {'weight': 13}), ('r3Z4cPAiNtnSvENgn266gZjJmEjanM6JvB', 'rLAoKsAvdsHgAALvZeXdVsQFmGMksJ3nx2', {'weight': 25}), ('rLAoKsAvdsHgAALvZeXdVsQFmGMksJ3nx2', 'r3Z4cPAiNtnSvENgn266gZjJmEjanM6JvB', {'weight': 13}), ('r3ZAxviubcznkRi23GVb9AbWKQyDTDAgNY', 'rskjcBMW4tp2ehPrPXEJ9oYcpK7DKZUXEs', {'weight': 36}), ('rskjcBMW4tp2ehPrPXEJ9oYcpK7DKZUXEs', 'r3ZAxviubcznkRi23GVb9AbWKQyDTDAgNY', {'weight': 25}), ('r3ZkQFcaw4RZ7s15fioWatBnN2WntosbFQ', 'r9BnwR7fVRovvHMCnUpxpJaEoNCas6jMB5', {'weight': 30}), ('r9BnwR7fVRovvHMCnUpxpJaEoNCas6jMB5', 'r3ZkQFcaw4RZ7s15fioWatBnN2WntosbFQ', {'weight': 40}), ('r3a2WNya81aWGfaswT8kZ7RXMHkSZtXJr8', 'rGP5epbWjKmj5oC3ANeRLVSxBkCMAAtzWb', {'weight': 35}), ('rGP5epbWjKmj5oC3ANeRLVSxBkCMAAtzWb', 'r3a2WNya81aWGfaswT8kZ7RXMHkSZtXJr8', {'weight': 24}), ('r3a7JGa3afzcJuLd2PkPnEN1XNngi8n7oT', 'rpWtUymMHyHoVnnfuAGKGeHM7y5U84ExkN', {'weight': 16}), ('rpWtUymMHyHoVnnfuAGKGeHM7y5U84ExkN', 'r3a7JGa3afzcJuLd2PkPnEN1XNngi8n7oT', {'weight': 25}), ('r3a86VgeapiVdb337sFu3yf4hJg7bjmSV9', 'rPGxAWzM7d9Lk9JLGZnuuJvjANseTJpEoZ', {'weight': 20}), ('rPGxAWzM7d9Lk9JLGZnuuJvjANseTJpEoZ', 'r3a86VgeapiVdb337sFu3yf4hJg7bjmSV9', {'weight': 31}), ('r3a89URap4WVVkiqXpr3WmUAVAy723wDZF', 'rsXXW88GugwXAkWEo3wNEy5PcuvD6VtizL', {'weight': 21}), ('rsXXW88GugwXAkWEo3wNEy5PcuvD6VtizL', 'r3a89URap4WVVkiqXpr3WmUAVAy723wDZF', {'weight': 32}), ('r3aFHysU6ppfjGemczPM6rJanehfbYJhNy', 'rBimgYG4AcznwNUHN87bwe7rCz5kKz4uGx', {'weight': 15}), ('rBimgYG4AcznwNUHN87bwe7rCz5kKz4uGx', 'r3aFHysU6ppfjGemczPM6rJanehfbYJhNy', {'weight': 29}), ('r3aJN77cDowPubGLJqvdLdG9FRqReqsjac', 'rw8Am7b639iBctuuwhEHyoQhuZRMXswMdr', {'weight': 20}), ('rw8Am7b639iBctuuwhEHyoQhuZRMXswMdr', 'r3aJN77cDowPubGLJqvdLdG9FRqReqsjac', {'weight': 31}), ('r3ajt1bZd28QvHE9u91BNruRefnZgP4ewk', 'rs8b4KhAW7zzshYYBK2NMvz5A7K3BzSVEw', {'weight': 20}), ('rs8b4KhAW7zzshYYBK2NMvz5A7K3BzSVEw', 'r3ajt1bZd28QvHE9u91BNruRefnZgP4ewk', {'weight': 31}), ('r3ak3dbMHFgwhQzJR7pxULSw7wwbB4h42c', 'rD94oTY1a877WSS5UT6XKfJWacyDnGkz98', {'weight': 20}), ('rD94oTY1a877WSS5UT6XKfJWacyDnGkz98', 'r3ak3dbMHFgwhQzJR7pxULSw7wwbB4h42c', {'weight': 30}), ('r3amjn2LQKWxXbiwV7j92LhkuqsGNhwqhr', 'rD48pqx86yxvvFDkGARQQKtZX1BoX52DBH', {'weight': 35}), ('rD48pqx86yxvvFDkGARQQKtZX1BoX52DBH', 'r3amjn2LQKWxXbiwV7j92LhkuqsGNhwqhr', {'weight': 22}), ('r3auXWvGUYmRpE1KyV541qNiP5f23RtSwQ', 'rpJGLj9a7KQ6AizSP5c6ZsiJGTzWhj2f61', {'weight': 17}), ('rpJGLj9a7KQ6AizSP5c6ZsiJGTzWhj2f61', 'r3auXWvGUYmRpE1KyV541qNiP5f23RtSwQ', {'weight': 28}), ('r3b2ByGnJWj2jhk8mTYvFivpK6qLwxogcq', 'raHrwnwJbNk7Vo4QKYRBeRzQi3GffJMt46', {'weight': 28}), ('raHrwnwJbNk7Vo4QKYRBeRzQi3GffJMt46', 'r3b2ByGnJWj2jhk8mTYvFivpK6qLwxogcq', {'weight': 39}), ('r3b5mx5i7oWyadproYXCKZdzrv6waxnNR2', 'rBgEfmuXEkCkZ3xryMzVNQNhaHY3GjiNTE', {'weight': 24}), ('rBgEfmuXEkCkZ3xryMzVNQNhaHY3GjiNTE', 'r3b5mx5i7oWyadproYXCKZdzrv6waxnNR2', {'weight': 37}), ('r3bKrkmZ2DNrGu1bcYHJLooxsBndypkTdD', 'r8nACeu6PDBeeftn8UpWLmQLN7QJhYg2P', {'weight': 22}), ('r8nACeu6PDBeeftn8UpWLmQLN7QJhYg2P', 'r3bKrkmZ2DNrGu1bcYHJLooxsBndypkTdD', {'weight': 13}), ('r3bVdpzdbhYQXAqmWiHT8wusvSUJatoKnr', 'raUsjPdea9a9TKuP6WwXLpygqB2P5vkQcD', {'weight': 102}), ('raUsjPdea9a9TKuP6WwXLpygqB2P5vkQcD', 'r3bVdpzdbhYQXAqmWiHT8wusvSUJatoKnr', {'weight': 87}), ('r3bVpdDQap7SQpt1V2kLyRBc9eycUMjNZ1', 'rn4aPHJyux5QnMQhdsyDLsEEhMWW4K5nUj', {'weight': 1}), ('rn4aPHJyux5QnMQhdsyDLsEEhMWW4K5nUj', 'r3bVpdDQap7SQpt1V2kLyRBc9eycUMjNZ1', {'weight': 42}), ('r3bnfuxAPGbeaq6FLNMvAuGBgE7H2tJGCW', 'rrpoXpNzpUJ6sYJzRrLGugkK79koLXiNLU', {'weight': 34}), ('rrpoXpNzpUJ6sYJzRrLGugkK79koLXiNLU', 'r3bnfuxAPGbeaq6FLNMvAuGBgE7H2tJGCW', {'weight': 22}), ('r3c9HRvB3SGg69hQeeTzzxJbNNYhmKeEse', 'rMsQ7WUoHygQAEEFPC8okBZiCTq9U3mpxA', {'weight': 21}), ('rMsQ7WUoHygQAEEFPC8okBZiCTq9U3mpxA', 'r3c9HRvB3SGg69hQeeTzzxJbNNYhmKeEse', {'weight': 31}), ('r3cPmE5WgyNnG7DYgLo17u9y7HtbT3bghc', 'r9UBx3xfAGKiLYhNzCU71MH5XNgB6xdEqh', {'weight': 38}), ('r9UBx3xfAGKiLYhNzCU71MH5XNgB6xdEqh', 'r3cPmE5WgyNnG7DYgLo17u9y7HtbT3bghc', {'weight': 28}), ('r3cah5Kf4mMA6gb2pgNQrRhk9Nu7tsXSQk', 'rnuaMcFCz1svRRirqfGbkKyQzpujdgf1yC', {'weight': 28}), ('rnuaMcFCz1svRRirqfGbkKyQzpujdgf1yC', 'r3cah5Kf4mMA6gb2pgNQrRhk9Nu7tsXSQk', {'weight': 14}), ('r3chqHyepQLHnynWP3RLcFYen1QsPLmjxW', 'rKrQ8ArsB4QKGr9heLwtXSLfEfP4oZCBq7', {'weight': 29}), ('rKrQ8ArsB4QKGr9heLwtXSLfEfP4oZCBq7', 'r3chqHyepQLHnynWP3RLcFYen1QsPLmjxW', {'weight': 14}), ('r3d1sTtyJLF8LXCRP2UoPZJBgT6vbwkuA1', 'rNfmRis8zMnL1Y1BpifgSaQgE1QsFxjx4Z', {'weight': 82}), ('rNfmRis8zMnL1Y1BpifgSaQgE1QsFxjx4Z', 'r3d1sTtyJLF8LXCRP2UoPZJBgT6vbwkuA1', {'weight': 60}), ('r3d77sWF8jK618j2W3vYzRffRa4gm6cYX3', 'rfJfkFz8y1qYHtc2j2JUk6ayz3C8iWdT91', {'weight': 1}), ('rfJfkFz8y1qYHtc2j2JUk6ayz3C8iWdT91', 'r3d77sWF8jK618j2W3vYzRffRa4gm6cYX3', {'weight': 32}), ('r3dDtygGbukHfhx6ZkUCZrMPEQXTgPvSdz', 'rEmUs53DhzoKPqJpxqgARzkDLTUGdcLLZM', {'weight': 78}), ('rEmUs53DhzoKPqJpxqgARzkDLTUGdcLLZM', 'r3dDtygGbukHfhx6ZkUCZrMPEQXTgPvSdz', {'weight': 56}), ('r3dFsMTBNRPTHjt5nGZD7hebb9zhqTbxnR', 'rf2qcHM62WVzmhn2a5K8YJgXCPkyNSMZxg', {'weight': 30}), ('rf2qcHM62WVzmhn2a5K8YJgXCPkyNSMZxg', 'r3dFsMTBNRPTHjt5nGZD7hebb9zhqTbxnR', {'weight': 21}), ('r3dTEcUP65xWumYtEKfwnPo8yFJA1xiGPT', 'rpr3mNUzszB3Peixd57aF5SFkJnMuT6Xij', {'weight': 15}), ('rpr3mNUzszB3Peixd57aF5SFkJnMuT6Xij', 'r3dTEcUP65xWumYtEKfwnPo8yFJA1xiGPT', {'weight': 28}), ('r3dmyMzujEquA7K3gcRMm4rUSUTCfuDQ2P', 'rJoBugrNvhVkb15qHU8ixAqoEBXVTvScg5', {'weight': 31}), ('rJoBugrNvhVkb15qHU8ixAqoEBXVTvScg5', 'r3dmyMzujEquA7K3gcRMm4rUSUTCfuDQ2P', {'weight': 41}), ('r3dqFdZSw9KbsdacxaXu7w5NH13j4jL28s', 'raHckSKYAQ5L1zMC34VFX4fzg9KLE1qUD2', {'weight': 34}), ('raHckSKYAQ5L1zMC34VFX4fzg9KLE1qUD2', 'r3dqFdZSw9KbsdacxaXu7w5NH13j4jL28s', {'weight': 17}), ('r3e5Bm1wqSz6f4ZwUQGxSc3Q5P9QMA6ftW', 'rJxuUynpvcLseRgBT5swpNZWXmVwkhKKLd', {'weight': 30}), ('rJxuUynpvcLseRgBT5swpNZWXmVwkhKKLd', 'r3e5Bm1wqSz6f4ZwUQGxSc3Q5P9QMA6ftW', {'weight': 38}), ('r3e7ZY1HMi2FtsUyuRbv7pbULfXPsKij7U', 'r9VfKmvKAhv5QCCKqJUGZDnJosXaVhYFLj', {'weight': 16}), ('r9VfKmvKAhv5QCCKqJUGZDnJosXaVhYFLj', 'r3e7ZY1HMi2FtsUyuRbv7pbULfXPsKij7U', {'weight': 31}), ('r3eR6gRBK4MBn7uumpkvtURXLBh6Dd8uAT', 'raHyxhQxCWqqhrD7EzeERFrxYs9DVHNP2y', {'weight': 31}), ('raHyxhQxCWqqhrD7EzeERFrxYs9DVHNP2y', 'r3eR6gRBK4MBn7uumpkvtURXLBh6Dd8uAT', {'weight': 20}), ('r3ehVEeLfYK7FRQyhTHcta7WKUkkgkHoJq', 'rNxVaDt281RErKbPommo46S2yZd195yR1F', {'weight': 13}), ('rNxVaDt281RErKbPommo46S2yZd195yR1F', 'r3ehVEeLfYK7FRQyhTHcta7WKUkkgkHoJq', {'weight': 25}), ('r3ezTU4XstuffyxVCoL2zFfK9zWKYyNp5R', 'r4xm4CYWbt62h8YBjJkV6pnSguBuE5xg1j', {'weight': 24}), ('r4xm4CYWbt62h8YBjJkV6pnSguBuE5xg1j', 'r3ezTU4XstuffyxVCoL2zFfK9zWKYyNp5R', {'weight': 36}), ('r3f1Az73MKCYMQYxyPiQ2zmAEbNFXaMzSY', 'rsKmxd181tdWkM7ADvYgza15GEbDSFdnTh', {'weight': 22}), ('rsKmxd181tdWkM7ADvYgza15GEbDSFdnTh', 'r3f1Az73MKCYMQYxyPiQ2zmAEbNFXaMzSY', {'weight': 34}), ('r3fNNz7t9VoxQzHwqQbCjxydwJArjERjJi', 'rBjq5vnZy7Wd1K3jdr68D5yAddCy25o3NK', {'weight': 19}), ('rBjq5vnZy7Wd1K3jdr68D5yAddCy25o3NK', 'r3fNNz7t9VoxQzHwqQbCjxydwJArjERjJi', {'weight': 36}), ('r3fgpdFPF9nTYbwj3LzZakzqQT23pXtjh9', 'rBLeCqs3FAVoewJ47aZUtaWEgMhgHhsGtX', {'weight': 34}), ('rBLeCqs3FAVoewJ47aZUtaWEgMhgHhsGtX', 'r3fgpdFPF9nTYbwj3LzZakzqQT23pXtjh9', {'weight': 45}), ('r3gAdtSZkhVAKMPXs7Ykcc4UWKttk52HPV', 'rnRvw94gkDW88fVKY52iWrrYJD7vW5CcxK', {'weight': 42}), ('rnRvw94gkDW88fVKY52iWrrYJD7vW5CcxK', 'r3gAdtSZkhVAKMPXs7Ykcc4UWKttk52HPV', {'weight': 34}), ('r3gNbBFZUKMzse8ai8NjeHCcpNDuubjZx5', 'rKNxw8q3x4J3orXdQQ5TczAUJBcU7KZXgE', {'weight': 15}), ('rKNxw8q3x4J3orXdQQ5TczAUJBcU7KZXgE', 'r3gNbBFZUKMzse8ai8NjeHCcpNDuubjZx5', {'weight': 27}), ('r3gjaJSSu8P12u4SYetyuheLGXtk16Vh1m', 'rDt8qhouU9D1oKfSKL9tw5x31KePNw3dA5', {'weight': 26}), ('rDt8qhouU9D1oKfSKL9tw5x31KePNw3dA5', 'r3gjaJSSu8P12u4SYetyuheLGXtk16Vh1m', {'weight': 12}), ('r3grYMF2UsqYkW3dbgvdVGndAgvYDQAusQ', 'rwRj24y7rqXu6GhRwSw1CVtnd7nAFyErTR', {'weight': 28}), ('rwRj24y7rqXu6GhRwSw1CVtnd7nAFyErTR', 'r3grYMF2UsqYkW3dbgvdVGndAgvYDQAusQ', {'weight': 18}), ('r3h4iWpXS8nhgZbxrUdp346TgGFt8KH3Mm', 'rnpPwvmNRFJrGyvkXsGCwKoBhyzGk4f7CE', {'weight': 35}), ('rnpPwvmNRFJrGyvkXsGCwKoBhyzGk4f7CE', 'r3h4iWpXS8nhgZbxrUdp346TgGFt8KH3Mm', {'weight': 44}), ('r3hR7wxPsFZ6jG4yUg8wbX7AQPvDiE5AMX', 'rwn1FhRakD66Wz5pvhAVbLEkLrMpLzJCgo', {'weight': 40}), ('rwn1FhRakD66Wz5pvhAVbLEkLrMpLzJCgo', 'r3hR7wxPsFZ6jG4yUg8wbX7AQPvDiE5AMX', {'weight': 27}), ('r3i6q61JbfXSPKPXeQp6kQ3mTXuNLGk2G2', 'rP3MgruReEEBzjGfCxmSj6fk9oWcFXv3Hj', {'weight': 31}), ('rP3MgruReEEBzjGfCxmSj6fk9oWcFXv3Hj', 'r3i6q61JbfXSPKPXeQp6kQ3mTXuNLGk2G2', {'weight': 39}), ('r3ibb3XK3kHiT2gmoX81CLV8ECuemzttuP', 'rXgijsj7S5eSdoqgjm1PXLDA3TB7NPN9j', {'weight': 76}), ('rXgijsj7S5eSdoqgjm1PXLDA3TB7NPN9j', 'r3ibb3XK3kHiT2gmoX81CLV8ECuemzttuP', {'weight': 55}), ('r3ic1iuARtcWLLvxqf1prC4RQoAFvxtuV9', 'rJka4gLBAPd6M8bUVyyvLM3grL4ofAQQae', {'weight': 21}), ('rJka4gLBAPd6M8bUVyyvLM3grL4ofAQQae', 'r3ic1iuARtcWLLvxqf1prC4RQoAFvxtuV9', {'weight': 32}), ('r3isbQQME8bpr7rR5V3HaHYGLKHSazKnbf', 'raVGniFtPr5Qa64PTnFx4QGsGqofaspYFY', {'weight': 34}), ('raVGniFtPr5Qa64PTnFx4QGsGqofaspYFY', 'r3isbQQME8bpr7rR5V3HaHYGLKHSazKnbf', {'weight': 17}), ('r3iz4VQBUGBWKNvHA7a4jzem9Dc5kqAt96', 'rhk1tjsdDHZ2xpEjJ3vNAYzMWvhYx2q4h2', {'weight': 36}), ('rhk1tjsdDHZ2xpEjJ3vNAYzMWvhYx2q4h2', 'r3iz4VQBUGBWKNvHA7a4jzem9Dc5kqAt96', {'weight': 25}), ('r3jBFfHe4dZUECLBcNEJzHAaLLxmWU2pj4', 'rKCHQwLTbuC2TnFWuExCSFb7RXR7L69YXm', {'weight': 99}), ('rKCHQwLTbuC2TnFWuExCSFb7RXR7L69YXm', 'r3jBFfHe4dZUECLBcNEJzHAaLLxmWU2pj4', {'weight': 112}), ('r3jfjY3xHWvQZaDMAWMBiU7RyscCKu1w5o', 'rHrJ3k9oMZ2yLjcs7QeLTUSoKgM1fgA7z6', {'weight': 17}), ('rHrJ3k9oMZ2yLjcs7QeLTUSoKgM1fgA7z6', 'r3jfjY3xHWvQZaDMAWMBiU7RyscCKu1w5o', {'weight': 33}), ('r3kTrbtzhmE67kUL5hUhqPexh5KZSzWCCc', 'rhgXRzKQdKYyojSgxrrrpDzqN92KwsN4WV', {'weight': 39}), ('rhgXRzKQdKYyojSgxrrrpDzqN92KwsN4WV', 'r3kTrbtzhmE67kUL5hUhqPexh5KZSzWCCc', {'weight': 28}), ('r3kZyarTAFSJuGKb98UxMQGfWoNFbKpGAj', 'r4dqfEekfLubhTeShmcs6ToMbG6rjB8Bwy', {'weight': 22}), ('r4dqfEekfLubhTeShmcs6ToMbG6rjB8Bwy', 'r3kZyarTAFSJuGKb98UxMQGfWoNFbKpGAj', {'weight': 33}), ('r3kbKJGr9KzjBHGZ9SgEZ7AcctibwJyNVi', 'rJ2QKSEHKDMTNNWqEcHZwTZMDb9kCTj15', {'weight': 18}), ('rJ2QKSEHKDMTNNWqEcHZwTZMDb9kCTj15', 'r3kbKJGr9KzjBHGZ9SgEZ7AcctibwJyNVi', {'weight': 30}), ('r3kgZDW1fMh7Cbu2us9LATAu32eRatBPWT', 'rU2Bp8RwEoKvTtco5KDqVgeSNeU7bh3ASC', {'weight': 29}), ('rU2Bp8RwEoKvTtco5KDqVgeSNeU7bh3ASC', 'r3kgZDW1fMh7Cbu2us9LATAu32eRatBPWT', {'weight': 15}), ('r3krpYmgrgH2N2D65WrNndBXpApwpvFoyr', 'rN5f2cVx85idr6j7FaCS3vs3QdSxGKvfyt', {'weight': 26}), ('rN5f2cVx85idr6j7FaCS3vs3QdSxGKvfyt', 'r3krpYmgrgH2N2D65WrNndBXpApwpvFoyr', {'weight': 14}), ('r3ktwADMt3n1KAgtiT8eVzdpUYeuFhuYxu', 'rn2n8gumGxiFgHJytsLYbxnB6MFdw5nBrK', {'weight': 13}), ('rn2n8gumGxiFgHJytsLYbxnB6MFdw5nBrK', 'r3ktwADMt3n1KAgtiT8eVzdpUYeuFhuYxu', {'weight': 23}), ('r3m85LGxsJn8w78eRPcPrNScfxyiuzYLHi', 'rL53Emfgp6Ho1WMqJ3vfcR44GsrDS8u2mH', {'weight': 18}), ('rL53Emfgp6Ho1WMqJ3vfcR44GsrDS8u2mH', 'r3m85LGxsJn8w78eRPcPrNScfxyiuzYLHi', {'weight': 33}), ('r3md1bRXQkopZZgbGryc97E7pDYrHU7xZD', 'rchGBxcD1A1C2tdxF6papQYZ8kjRKMYcL', {'weight': 1}), ('r3mdyENktosuiP4cYowRR14wMTjbmgGe8U', 'rBdk16YhmD1uuf2gu7YPocFmPmom2qgdFU', {'weight': 21}), ('rBdk16YhmD1uuf2gu7YPocFmPmom2qgdFU', 'r3mdyENktosuiP4cYowRR14wMTjbmgGe8U', {'weight': 30}), ('r3n4JRprjE2CvH3J9btd72ZRHqG8pWFvp2', 'rUvyEQmqfnRHh8KbdArz9u9gP79jReCVPx', {'weight': 14}), ('rUvyEQmqfnRHh8KbdArz9u9gP79jReCVPx', 'r3n4JRprjE2CvH3J9btd72ZRHqG8pWFvp2', {'weight': 27}), ('r3og8Dc6HaAVrHmPPUwEWr8E144ThUiZVC', 'rD3YcsafdNzc3LWZTYHfzftPSgoBAs7ztP', {'weight': 35}), ('rD3YcsafdNzc3LWZTYHfzftPSgoBAs7ztP', 'r3og8Dc6HaAVrHmPPUwEWr8E144ThUiZVC', {'weight': 26}), ('r3okHCj8Mxah1X7H4A84dUc37PABi9D1wo', 'r49baH6NcGmCkQq6WSDptkEhJZoiGtV3S8', {'weight': 30}), ('r49baH6NcGmCkQq6WSDptkEhJZoiGtV3S8', 'r3okHCj8Mxah1X7H4A84dUc37PABi9D1wo', {'weight': 40}), ('r3oqdeto4ScnoR2iNhy1uRt4CfWu9kZgZU', 'rMpakRhcrNmgFx2nGNrbRxhLMbk4tGt4vt', {'weight': 33}), ('rMpakRhcrNmgFx2nGNrbRxhLMbk4tGt4vt', 'r3oqdeto4ScnoR2iNhy1uRt4CfWu9kZgZU', {'weight': 21}), ('r3orMnmVCGSK8Wqz5DJLZZN6UeCDX3RwYU', 'raugBzwcrmfBgc9gVPpoMEk5HrBmW2ARPj', {'weight': 36}), ('raugBzwcrmfBgc9gVPpoMEk5HrBmW2ARPj', 'r3orMnmVCGSK8Wqz5DJLZZN6UeCDX3RwYU', {'weight': 46}), ('r3phRk5Yqc4wmA1ApUbMHExCdnbLKQNE5Y', 'rMF3BPnRVENkYKhShDuL9SUDXdZSBsKp6C', {'weight': 33}), ('rMF3BPnRVENkYKhShDuL9SUDXdZSBsKp6C', 'r3phRk5Yqc4wmA1ApUbMHExCdnbLKQNE5Y', {'weight': 21}), ('r3pw8YkWEmFNPCFdiuiTQrGBopu2GSVR5R', 'rMPn1hVoERUxga9jKg3KmA5Jx5ycTcmfRR', {'weight': 39}), ('rMPn1hVoERUxga9jKg3KmA5Jx5ycTcmfRR', 'r3pw8YkWEmFNPCFdiuiTQrGBopu2GSVR5R', {'weight': 26}), ('r3q8NccaSh99gsLHD8BRkLVZ54cgjajwfj', 'rpPh66G2dvVL7Hz3VZUNBFynv7fYGxwZVa', {'weight': 36}), ('rpPh66G2dvVL7Hz3VZUNBFynv7fYGxwZVa', 'r3q8NccaSh99gsLHD8BRkLVZ54cgjajwfj', {'weight': 25}), ('r3qoyaPZrHLLtWKYckzQnKzFUjWFfznQ6x', 'rP1f9Zp7C8ug53qcpH8nr9M13AdUDHisqE', {'weight': 13}), ('rP1f9Zp7C8ug53qcpH8nr9M13AdUDHisqE', 'r3qoyaPZrHLLtWKYckzQnKzFUjWFfznQ6x', {'weight': 24}), ('r3r2VKbo2r6U6X9jQAUHnjjXiAhWd8YXb6', 'rnWUSL51TowPQsyyjcaNfo1nwZCKdgHpFr', {'weight': 45}), ('rnWUSL51TowPQsyyjcaNfo1nwZCKdgHpFr', 'r3r2VKbo2r6U6X9jQAUHnjjXiAhWd8YXb6', {'weight': 34}), ('r3r3TNPuqovvhXLnvkB1tBsnjLJfGexnyQ', 'razUeMNa1JKNVf8upCBYGvTNnsBvRmniBQ', {'weight': 20}), ('razUeMNa1JKNVf8upCBYGvTNnsBvRmniBQ', 'r3r3TNPuqovvhXLnvkB1tBsnjLJfGexnyQ', {'weight': 28}), ('r3r852uJGsWvEVR86uKzk3cP1GFBsjGT3T', 'rU8UWpVyJw3awa8pJquf4TiiEwfm3Bhgym', {'weight': 14}), ('rU8UWpVyJw3awa8pJquf4TiiEwfm3Bhgym', 'r3r852uJGsWvEVR86uKzk3cP1GFBsjGT3T', {'weight': 24}), ('r3rcruwFPvh2LpC4AYNrZ68SYuD4sektd4', 'rhPcwcBBDfFjiyEs7TCB9pAGCXvYqLsdNh', {'weight': 34}), ('rhPcwcBBDfFjiyEs7TCB9pAGCXvYqLsdNh', 'r3rcruwFPvh2LpC4AYNrZ68SYuD4sektd4', {'weight': 25}), ('r3sChV9V6fMyyZjaRLsAmHvw9jgg6s7YNY', 'rD6RHZ8dPEcZwmfXLVTJSMcwbLcb24CezB', {'weight': 18}), ('rD6RHZ8dPEcZwmfXLVTJSMcwbLcb24CezB', 'r3sChV9V6fMyyZjaRLsAmHvw9jgg6s7YNY', {'weight': 28}), ('r3sQ4vLspc6Ha82NRNQvpLcuLF7oQ1qAwn', 'rp2Gj29DFLPngwXoTNb7HCve1v8hzR8wJE', {'weight': 16}), ('rp2Gj29DFLPngwXoTNb7HCve1v8hzR8wJE', 'r3sQ4vLspc6Ha82NRNQvpLcuLF7oQ1qAwn', {'weight': 28}), ('r3sz3iAdAsVPgK2gpTj2WXopERoSyzegDR', 'rf5kuKur3BLsVXRo7YkkR6FdwNxuiziy7z', {'weight': 27}), ('rf5kuKur3BLsVXRo7YkkR6FdwNxuiziy7z', 'r3sz3iAdAsVPgK2gpTj2WXopERoSyzegDR', {'weight': 43}), ('r3tVFumQe3mEvze7zHRB9iTCmPUdpLfAZT', 'rhDZRLtAqZW97iPyjwP1JbNSJo8cBxEMgs', {'weight': 33}), ('rhDZRLtAqZW97iPyjwP1JbNSJo8cBxEMgs', 'r3tVFumQe3mEvze7zHRB9iTCmPUdpLfAZT', {'weight': 18}), ('r3twxhwuKY5rb6dZ83qrWRVtMXyRnTGpgK', 'rLMA9W9ozaF4B5nktvNoa2Bx2SBXNKkK4t', {'weight': 30}), ('rLMA9W9ozaF4B5nktvNoa2Bx2SBXNKkK4t', 'r3twxhwuKY5rb6dZ83qrWRVtMXyRnTGpgK', {'weight': 19}), ('r3uMoaMRQFqRH4oRaM1FF2U6tLvhfv5vAC', 'rJBsyBz2Yp9yWe8wRBXhNVuLH7fcYsbHPa', {'weight': 49}), ('rJBsyBz2Yp9yWe8wRBXhNVuLH7fcYsbHPa', 'r3uMoaMRQFqRH4oRaM1FF2U6tLvhfv5vAC', {'weight': 73}), ('r3uf6qiwMA9fcySK9HBFcyrwtYhQeZ1bJL', 'r4GzrMPD24CbfaodH76WGpjaFRiaBeN4Q2', {'weight': 22}), ('r4GzrMPD24CbfaodH76WGpjaFRiaBeN4Q2', 'r3uf6qiwMA9fcySK9HBFcyrwtYhQeZ1bJL', {'weight': 12}), ('r3ufJaL1vACJci6nJVYR4aeNvRfjgZpPLJ', 'rfgbR4TMZYavp4uDXWe2MamZDhGYNN7YEL', {'weight': 30}), ('rfgbR4TMZYavp4uDXWe2MamZDhGYNN7YEL', 'r3ufJaL1vACJci6nJVYR4aeNvRfjgZpPLJ', {'weight': 17}), ('r3v9JFUrEiFrjK7Sq7KPFZLymnUTcjSEn5', 'rDuFE9dR1ep2pWLWzFfnTJmcXdDYzPKefC', {'weight': 96}), ('rDuFE9dR1ep2pWLWzFfnTJmcXdDYzPKefC', 'r3v9JFUrEiFrjK7Sq7KPFZLymnUTcjSEn5', {'weight': 82}), ('r3vhqJ1B5QGoN43NnXFSxC4fCzTscYfKZL', 'rht9rYa9JWkELM2t5YQK5d1nrHwQCQ91hC', {'weight': 34}), ('rht9rYa9JWkELM2t5YQK5d1nrHwQCQ91hC', 'r3vhqJ1B5QGoN43NnXFSxC4fCzTscYfKZL', {'weight': 42}), ('r3vjf7Qx4w3MQcassCK8d4EXgjbb2wWTsk', 'rws2egc3TJast9VFjULyhaTaw35tvcEB2V', {'weight': 19}), ('rws2egc3TJast9VFjULyhaTaw35tvcEB2V', 'r3vjf7Qx4w3MQcassCK8d4EXgjbb2wWTsk', {'weight': 30}), ('r3vkE9oavYfhvWf1exYYzP5q8VsdXBWen4', 'rptVpVktu7ogZ75CupezYuM52eipgRj484', {'weight': 31}), ('rptVpVktu7ogZ75CupezYuM52eipgRj484', 'r3vkE9oavYfhvWf1exYYzP5q8VsdXBWen4', {'weight': 22}), ('r3vydXmhzcWWyq3mTSHB5SrseY5AxU3nFT', 'rNdwBtkD1XFC1PNUNrpC7b52BmPSNy2v3B', {'weight': 20}), ('rNdwBtkD1XFC1PNUNrpC7b52BmPSNy2v3B', 'r3vydXmhzcWWyq3mTSHB5SrseY5AxU3nFT', {'weight': 30}), ('r3w4yewshHheQF8tYr6nf7uEQBsWykzhND', 'rUdLopJ6rytZ1DXm1sUb5LPjfHwfVjP4Tf', {'weight': 29}), ('rUdLopJ6rytZ1DXm1sUb5LPjfHwfVjP4Tf', 'r3w4yewshHheQF8tYr6nf7uEQBsWykzhND', {'weight': 17}), ('r3w6WRd52Qd5stNUgzGy3YuD2tPwvTGHkX', 'rNPuhQKE53byfJkQa6ZtsbBUKzhP1wBw7p', {'weight': 46}), ('rNPuhQKE53byfJkQa6ZtsbBUKzhP1wBw7p', 'r3w6WRd52Qd5stNUgzGy3YuD2tPwvTGHkX', {'weight': 36}), ('r3wXMxHYMTUGYhW7MDJ4tF9T8tNsTyczVg', 'rPzbkQwXFSs4QudCpKi19Ubwvk6h7wFNWv', {'weight': 17}), ('rPzbkQwXFSs4QudCpKi19Ubwvk6h7wFNWv', 'r3wXMxHYMTUGYhW7MDJ4tF9T8tNsTyczVg', {'weight': 28}), ('r3wfZApp1aiTioYfxkkuDfdApMi5TnYPd6', 'rxJoYrb3VZnx6XFhuDpqrbas6w6nMzLY2', {'weight': 38}), ('rxJoYrb3VZnx6XFhuDpqrbas6w6nMzLY2', 'r3wfZApp1aiTioYfxkkuDfdApMi5TnYPd6', {'weight': 28}), ('r3x7KUu9CaJAtx9U81Nd1RQVpTE4MgsMvp', 'rfS3kfrsyKobuL8u1Xu1JnnoL8EbGQDszL', {'weight': 31}), ('rfS3kfrsyKobuL8u1Xu1JnnoL8EbGQDszL', 'r3x7KUu9CaJAtx9U81Nd1RQVpTE4MgsMvp', {'weight': 16}), ('r3xJ3nmgoEumbCwtQcAprLtZfdu2zifndM', 'rMKNvB1ZtZBjnb8i9GZAmYGsea4TjhaUCD', {'weight': 34}), ('rMKNvB1ZtZBjnb8i9GZAmYGsea4TjhaUCD', 'r3xJ3nmgoEumbCwtQcAprLtZfdu2zifndM', {'weight': 43}), ('r3xJFGnjd9pAD5ZH6MQomJnQfAwagZa9j5', 'rKVusxBWpYGQUJnKiThfGdffwPYGAiTSfT', {'weight': 13}), ('rKVusxBWpYGQUJnKiThfGdffwPYGAiTSfT', 'r3xJFGnjd9pAD5ZH6MQomJnQfAwagZa9j5', {'weight': 28}), ('r3xLSwya5iHm84owJbJ8vyKoDHmdvHxQhg', 'rUqu2fSJ8irJ9o9mQeXfQhoydfXv8biszf', {'weight': 18}), ('rUqu2fSJ8irJ9o9mQeXfQhoydfXv8biszf', 'r3xLSwya5iHm84owJbJ8vyKoDHmdvHxQhg', {'weight': 33}), ('r3xtD5GMqGrDQ8yfRe4ZnSxzi9yXQ9gJ3Q', 'rMM5wSnMBDLbkYNEuryzrkFaX3V22iocvd', {'weight': 36}), ('rMM5wSnMBDLbkYNEuryzrkFaX3V22iocvd', 'r3xtD5GMqGrDQ8yfRe4ZnSxzi9yXQ9gJ3Q', {'weight': 22}), ('r3yBp1SNEnRA9bX3v2xFbJrfXWf8EMHd2J', 'rLtPY1d8PzgzcaJSBpVzZ8HfQeFtVFBRvY', {'weight': 28}), ('rLtPY1d8PzgzcaJSBpVzZ8HfQeFtVFBRvY', 'r3yBp1SNEnRA9bX3v2xFbJrfXWf8EMHd2J', {'weight': 18}), ('r3yRSedTumhmjYHXsy58ayRBx5LMPpcX4A', 'rnyA9sePHaxM7bGv4H2igVrxofpuM76Wsp', {'weight': 84}), ('rnyA9sePHaxM7bGv4H2igVrxofpuM76Wsp', 'r3yRSedTumhmjYHXsy58ayRBx5LMPpcX4A', {'weight': 64}), ('r3yYprxu7V7STtSPC3FTqhKZb7L4QuaGkx', 'r4NKRaWt4WT78hDmo5SbwH2soUhyt2JGib', {'weight': 29}), ('r4NKRaWt4WT78hDmo5SbwH2soUhyt2JGib', 'r3yYprxu7V7STtSPC3FTqhKZb7L4QuaGkx', {'weight': 14}), ('r3ybX46AYCvcGnEMUcUnhAwmAfGyyAEQBE', 'rhjFBqsNCxeDWKf6d62j6EY8Eriox1oybm', {'weight': 33}), ('rhjFBqsNCxeDWKf6d62j6EY8Eriox1oybm', 'r3ybX46AYCvcGnEMUcUnhAwmAfGyyAEQBE', {'weight': 17}), ('r3ye23BVjf63VEGMYELahWCAfJeTnpzLFY', 'rPyVUaz6U4taJqjfhfWH2L573xcXgFgvxA', {'weight': 77}), ('rPyVUaz6U4taJqjfhfWH2L573xcXgFgvxA', 'r3ye23BVjf63VEGMYELahWCAfJeTnpzLFY', {'weight': 57}), ('r3ymVPweDZaQdezwpDCeMznZLViGjtcmhn', 'rP9TFYkvJgK6dwi7Y5KicPbFFW2Pd569Bq', {'weight': 28}), ('rP9TFYkvJgK6dwi7Y5KicPbFFW2Pd569Bq', 'r3ymVPweDZaQdezwpDCeMznZLViGjtcmhn', {'weight': 18}), ('r3ynMDSdnQGRmecCzJSvDnsvwjN4HdfwDP', 'rJ19yBe4cAMqJk92RuA7oYDDpQo4s6gpRX', {'weight': 15}), ('rJ19yBe4cAMqJk92RuA7oYDDpQo4s6gpRX', 'r3ynMDSdnQGRmecCzJSvDnsvwjN4HdfwDP', {'weight': 25}), ('r3zYNsbLkWpRzkFvR4eHJbu5YMJLMGSBsM', 'rL6QWTXDyp5YQWj3S3tm9ezodjycSWJHUd', {'weight': 31}), ('rL6QWTXDyp5YQWj3S3tm9ezodjycSWJHUd', 'r3zYNsbLkWpRzkFvR4eHJbu5YMJLMGSBsM', {'weight': 20}), ('r3zZifvtbs7vgPRQmy6sQBG3eK8V9i5ft7', 'rUVAkHwKVKt4iWHc1Yw32SoQxW5V5yLYQd', {'weight': 18}), ('rUVAkHwKVKt4iWHc1Yw32SoQxW5V5yLYQd', 'r3zZifvtbs7vgPRQmy6sQBG3eK8V9i5ft7', {'weight': 27}), ('r3zhDxrtsddq4rp7HjuF4abJwiEYs5QhkP', 'raKUEAoAwSUFr7eD2stNGS7FUgDLibTNQ7', {'weight': 17}), ('raKUEAoAwSUFr7eD2stNGS7FUgDLibTNQ7', 'r3zhDxrtsddq4rp7HjuF4abJwiEYs5QhkP', {'weight': 34}), ('r41MLSkvSoor1b7xU8dEkSYjH861fWzEfY', 'rHmBv9hDBjN8d3X5jukYk3ZAD37A6HhDh7', {'weight': 41}), ('rHmBv9hDBjN8d3X5jukYk3ZAD37A6HhDh7', 'r41MLSkvSoor1b7xU8dEkSYjH861fWzEfY', {'weight': 31}), ('r41NKTVomzGH68yhQHfkhRB2wUyUYCdMSp', 'rBWZM1E4pFRbjs4ghkvzQR1GLX9dxGmoGC', {'weight': 22}), ('rBWZM1E4pFRbjs4ghkvzQR1GLX9dxGmoGC', 'r41NKTVomzGH68yhQHfkhRB2wUyUYCdMSp', {'weight': 12}), ('r41UcGSVAwnJEty8k8nrzNGXNQLHAqnUCw', 'rG3GwkZKSTm4pQN7ZDiENz4Jze8c7P4f2F', {'weight': 34}), ('rG3GwkZKSTm4pQN7ZDiENz4Jze8c7P4f2F', 'r41UcGSVAwnJEty8k8nrzNGXNQLHAqnUCw', {'weight': 22}), ('r41XKSjocwqobvpCHCNgMrY99XYYru18xX', 'rfBUgFPPg3cG75nTTTzinfjS8EzhcgZiiH', {'weight': 86}), ('rfBUgFPPg3cG75nTTTzinfjS8EzhcgZiiH', 'r41XKSjocwqobvpCHCNgMrY99XYYru18xX', {'weight': 67}), ('r41rZ9x8EZDrEhBVr4dp3LLj5WRbK9PCFE', 'r4CTEFUsk4775J9983GRrLqQcjznTydS15', {'weight': 23}), ('r4CTEFUsk4775J9983GRrLqQcjznTydS15', 'r41rZ9x8EZDrEhBVr4dp3LLj5WRbK9PCFE', {'weight': 34}), ('r41ugaGLuXAr8oc4Zn1mjiMkaMjmc73nrv', 'rPcKZ2Ah69XKn9deqmL5ssfVnDznc46L6t', {'weight': 19}), ('rPcKZ2Ah69XKn9deqmL5ssfVnDznc46L6t', 'r41ugaGLuXAr8oc4Zn1mjiMkaMjmc73nrv', {'weight': 30}), ('r42HuaCjT52ugoGpzRddS1Ksk6PWt19ssD', 'rB2t7HJA2AxPdyQUQo7iPrtHcfKiBmjpMB', {'weight': 39}), ('rB2t7HJA2AxPdyQUQo7iPrtHcfKiBmjpMB', 'r42HuaCjT52ugoGpzRddS1Ksk6PWt19ssD', {'weight': 30}), ('r42RAj4rEjhVKq1NavHEQGw7PYVTP5qPRf', 'rL5y6cmPE6zS8k269hZYBGR1Xdc2YdiH3k', {'weight': 88}), ('rL5y6cmPE6zS8k269hZYBGR1Xdc2YdiH3k', 'r42RAj4rEjhVKq1NavHEQGw7PYVTP5qPRf', {'weight': 101}), ('r42RfB9bLdLuKwBGsBDKz9P8nMyiBL1PH7', 'rpTEFQJ7D8NjfJCVcHPaU5aTZj5scgKp7v', {'weight': 28}), ('rpTEFQJ7D8NjfJCVcHPaU5aTZj5scgKp7v', 'r42RfB9bLdLuKwBGsBDKz9P8nMyiBL1PH7', {'weight': 14}), ('r42iarAs49Lb7TWQV3UD4rUeguhAFeBV3C', 'rBw1CjoKdJJeqn956FTDzu5ycWMxua86gf', {'weight': 16}), ('rBw1CjoKdJJeqn956FTDzu5ycWMxua86gf', 'r42iarAs49Lb7TWQV3UD4rUeguhAFeBV3C', {'weight': 25}), ('r4373wUDWqqEiFREEyaJMCrWwD1QGfEdcY', 'r96J3UYWJ1fQ8f8BJR8zS1SqKqx4R5jKEo', {'weight': 42}), ('r96J3UYWJ1fQ8f8BJR8zS1SqKqx4R5jKEo', 'r4373wUDWqqEiFREEyaJMCrWwD1QGfEdcY', {'weight': 34}), ('r43Dkw3ENemhcjS54dbnjyPFm18QHMs4Ei', 'rJDneWfSFherPAfxG3nVWYje6KhKzh6bDK', {'weight': 93}), ('rJDneWfSFherPAfxG3nVWYje6KhKzh6bDK', 'r43Dkw3ENemhcjS54dbnjyPFm18QHMs4Ei', {'weight': 105}), ('r43fFmVjX1VPRMfgz2Cz6zgZzEan3BTy5B', 'r4546V7icPX3hsZdj2WypzarqBLnFZD3SW', {'weight': 94}), ('r4546V7icPX3hsZdj2WypzarqBLnFZD3SW', 'r43fFmVjX1VPRMfgz2Cz6zgZzEan3BTy5B', {'weight': 106}), ('r43phbWruat5i6ugss1VEaLG9x4nwhzbnk', 'rpm9dPUzzXPhNb5yMUHg4gq995mro1ajqU', {'weight': 26}), ('rpm9dPUzzXPhNb5yMUHg4gq995mro1ajqU', 'r43phbWruat5i6ugss1VEaLG9x4nwhzbnk', {'weight': 13}), ('r446Qp2i5jJyQxUaJRzkYJPSoUmzQY4esM', 'rBk9LSifJX2R8LdaH1UxYSxEDQ2C2Vwsyx', {'weight': 26}), ('rBk9LSifJX2R8LdaH1UxYSxEDQ2C2Vwsyx', 'r446Qp2i5jJyQxUaJRzkYJPSoUmzQY4esM', {'weight': 14}), ('r44qj1xcmR3yNXAEQJCgBrUTxMAbLJvNH8', 'rnhqfPSyXsXMU87RiKMt9xgzbQ2FKJopUf', {'weight': 63}), ('rnhqfPSyXsXMU87RiKMt9xgzbQ2FKJopUf', 'r44qj1xcmR3yNXAEQJCgBrUTxMAbLJvNH8', {'weight': 84}), ('r453YBzuCXmakZtrb2sNoazRCa84ZU1Gg8', 'rnAExyZLQwztHsjqrruhqSGJUiUtNTDZBC', {'weight': 29}), ('rnAExyZLQwztHsjqrruhqSGJUiUtNTDZBC', 'r453YBzuCXmakZtrb2sNoazRCa84ZU1Gg8', {'weight': 14}), ('r459LCQr9VqhcJZ9Q6mFbQeAotB25aEZru', 'rHW1fNDCzwPUonBdg4zPiBsuhc4zxnsRHv', {'weight': 95}), ('rHW1fNDCzwPUonBdg4zPiBsuhc4zxnsRHv', 'r459LCQr9VqhcJZ9Q6mFbQeAotB25aEZru', {'weight': 83}), ('r45DQ2U4xGG78avSpHQWWaY6xoHhyUTHKS', 'rKPNA3z7CYoG4LPuxrv55sqSmJvk8tz1fm', {'weight': 26}), ('rKPNA3z7CYoG4LPuxrv55sqSmJvk8tz1fm', 'r45DQ2U4xGG78avSpHQWWaY6xoHhyUTHKS', {'weight': 38}), ('r45JAdAaoBVYJRCPsP9uZw5L3MTf5NW1Ne', 'rLoriaYt24xyNoEAsfmsQd9sJryMRMf7fe', {'weight': 26}), ('rLoriaYt24xyNoEAsfmsQd9sJryMRMf7fe', 'r45JAdAaoBVYJRCPsP9uZw5L3MTf5NW1Ne', {'weight': 36}), ('r45ZdongDP97vhaoSjtdfhSTRCUqR7RwAP', 'rNgjfxkEFhPCzTjvnP4KjBrRf9MxP87UMP', {'weight': 24}), ('rNgjfxkEFhPCzTjvnP4KjBrRf9MxP87UMP', 'r45ZdongDP97vhaoSjtdfhSTRCUqR7RwAP', {'weight': 36}), ('r45gu9ZG9TuCce2LCJyaMoBdKVvWzNfHaX', 'r9y67VkzRHgFAVcknNseuUykar3ggpFS5b', {'weight': 15}), ('r9y67VkzRHgFAVcknNseuUykar3ggpFS5b', 'r45gu9ZG9TuCce2LCJyaMoBdKVvWzNfHaX', {'weight': 29}), ('r45oZmDjyLALmBCz9hUgMhQ2783esyXC7', 'raQwQygqer4HJ8FazFMRVgJhmFCD1j6Q2o', {'weight': 11}), ('raQwQygqer4HJ8FazFMRVgJhmFCD1j6Q2o', 'r45oZmDjyLALmBCz9hUgMhQ2783esyXC7', {'weight': 21}), ('r45p5GUk3kfHnbkADh4tGQEi6XAnyMXhH3', 'rDr6r8xHTXRJd1xVrS8qQru1aPcFUPoXXZ', {'weight': 20}), ('rDr6r8xHTXRJd1xVrS8qQru1aPcFUPoXXZ', 'r45p5GUk3kfHnbkADh4tGQEi6XAnyMXhH3', {'weight': 30}), ('r45yYepzJZdAFaVFnhuSU62EHigWwR4vQ5', 'rp2sAp3V6Qq4vWmMnT4qWUfPF1d1obhyyj', {'weight': 25}), ('rp2sAp3V6Qq4vWmMnT4qWUfPF1d1obhyyj', 'r45yYepzJZdAFaVFnhuSU62EHigWwR4vQ5', {'weight': 13}), ('r461Zifm3AqAzeroq6VMgrQXhnW72RtTN3', 'rfL2bSG46gsaEH4amaDWHxbxx7zqAJeviW', {'weight': 29}), ('rfL2bSG46gsaEH4amaDWHxbxx7zqAJeviW', 'r461Zifm3AqAzeroq6VMgrQXhnW72RtTN3', {'weight': 14}), ('r46wuA2NYqG7v9PJYjCmeU6ceRjycvrvaa', 'rBX8ejvu2JAstbbJKMbAAqEweeKzrJzMKZ', {'weight': 26}), ('rBX8ejvu2JAstbbJKMbAAqEweeKzrJzMKZ', 'r46wuA2NYqG7v9PJYjCmeU6ceRjycvrvaa', {'weight': 38}), ('r4784Jmdho72D3r8ZJ7JRtKi9yc6qn2dgY', 'rpWWz2X84H4k9gaUgL4PfbpFGCUwebMnUn', {'weight': 17}), ('rpWWz2X84H4k9gaUgL4PfbpFGCUwebMnUn', 'r4784Jmdho72D3r8ZJ7JRtKi9yc6qn2dgY', {'weight': 27}), ('r47WmXrwvFPxdPuCazReePHEmvNSjhiToS', 'rPvWavKY28rykjWiECWcVxziZc3qdDoMjk', {'weight': 44}), ('rPvWavKY28rykjWiECWcVxziZc3qdDoMjk', 'r47WmXrwvFPxdPuCazReePHEmvNSjhiToS', {'weight': 36}), ('r48Q7XuErRAHUMgqpL5jjS1BeLjM9qLYcW', 'r4J38ogqd5332wi9yFHT6FoAkHhXpJ9qme', {'weight': 28}), ('r4J38ogqd5332wi9yFHT6FoAkHhXpJ9qme', 'r48Q7XuErRAHUMgqpL5jjS1BeLjM9qLYcW', {'weight': 13}), ('r48WrPLQ9vpNwEUcGNk5Kpf7TsTnfpcbyV', 'rfcwU6jGGq1kT8V4kVjnCQug8YU9A9kvKT', {'weight': 26}), ('rfcwU6jGGq1kT8V4kVjnCQug8YU9A9kvKT', 'r48WrPLQ9vpNwEUcGNk5Kpf7TsTnfpcbyV', {'weight': 35}), ('r48YniGU3AnqHJ21RD5ELHLonVHCrF8z94', 'raGnfMsJpE8LfKuZ5fL5HJoV8EGYGJ6tbs', {'weight': 17}), ('raGnfMsJpE8LfKuZ5fL5HJoV8EGYGJ6tbs', 'r48YniGU3AnqHJ21RD5ELHLonVHCrF8z94', {'weight': 26}), ('r48yGzonRpz9vxqhW9DMpwpWjMeJhY1jJp', 'rLZtYFBXVmqRWVbzz4QfoWGHvsHv6JSPzm', {'weight': 35}), ('rLZtYFBXVmqRWVbzz4QfoWGHvsHv6JSPzm', 'r48yGzonRpz9vxqhW9DMpwpWjMeJhY1jJp', {'weight': 43}), ('r48yanvjXtvWGTBDhWBMT2Hh4hj41MiESD', 'raTdXxBYTPkukkR4NNNxsDNhh2mNWJ3tYd', {'weight': 22}), ('raTdXxBYTPkukkR4NNNxsDNhh2mNWJ3tYd', 'r48yanvjXtvWGTBDhWBMT2Hh4hj41MiESD', {'weight': 32}), ('r49ATMM9c2iSXd1joky3hrXmuyWugtL3JN', 'rAKoHtLi5k3LdBVeep91EcRwKFEW5Hta4', {'weight': 31}), ('rAKoHtLi5k3LdBVeep91EcRwKFEW5Hta4', 'r49ATMM9c2iSXd1joky3hrXmuyWugtL3JN', {'weight': 20}), ('r49F6dFv6DHGzRTN1tkbGmqWQLnEJwMjNE', 'rD86Mupjm4RXztqVNxjcorz3Yz7sQckyZq', {'weight': 34}), ('rD86Mupjm4RXztqVNxjcorz3Yz7sQckyZq', 'r49F6dFv6DHGzRTN1tkbGmqWQLnEJwMjNE', {'weight': 43}), ('r49NAKrnSBQGt9e5MrgfSza7HcyCXTPsWg', 'rDhJHeRZYKywFvU721AnByPMbV5i6cLXDq', {'weight': 29}), ('rDhJHeRZYKywFvU721AnByPMbV5i6cLXDq', 'r49NAKrnSBQGt9e5MrgfSza7HcyCXTPsWg', {'weight': 15}), ('r49u5AKXEUeG3teePzKTQaQXBqJPLbctoh', 'rHqHKNsvvzhDTgvtxwWQpWoK86aTn9KtaW', {'weight': 30}), ('rHqHKNsvvzhDTgvtxwWQpWoK86aTn9KtaW', 'r49u5AKXEUeG3teePzKTQaQXBqJPLbctoh', {'weight': 20}), ('rBofXgf6s6mxEnZxG5Xvq6BAp5qwjLyYbH', 'r4ABXm3xpXojPAi14EcLmgERyuVUE41mGi', {'weight': 1096}), ('rBofXgf6s6mxEnZxG5Xvq6BAp5qwjLyYbH', 'r4ow8sharDWkxfqZwtbAJYwU2SEFXAxmFp', {'weight': 998}), ('rBofXgf6s6mxEnZxG5Xvq6BAp5qwjLyYbH', 'rGrUgQDuBMuCVpLd5xz2qUFbxGUMwWJ1Sy', {'weight': 1134}), ('rBofXgf6s6mxEnZxG5Xvq6BAp5qwjLyYbH', 'rKuAAajywBVRqWubSG43f3YUQTckH6SWrp', {'weight': 851}), ('rBofXgf6s6mxEnZxG5Xvq6BAp5qwjLyYbH', 'rNQnHKRZ32Lts2RYqXBPGEMnFJpQhVSqH2', {'weight': 516}), ('rBofXgf6s6mxEnZxG5Xvq6BAp5qwjLyYbH', 'rUSB76jBJ8EqmGGV3yuDDZJGJ9sFtJRuwu', {'weight': 1284}), ('rBofXgf6s6mxEnZxG5Xvq6BAp5qwjLyYbH', 'rna3REBtXdafS8izdZBx86bQUsT96GFpNT', {'weight': 1308}), ('rBofXgf6s6mxEnZxG5Xvq6BAp5qwjLyYbH', 'rpKj9aiBUtC1TSfVDxYU9hAeodwxUcCjxy', {'weight': 1299}), ('rBofXgf6s6mxEnZxG5Xvq6BAp5qwjLyYbH', 'rpSjrBTBjTpLYG5aCvJBFf1PhH8nZm9CN5', {'weight': 780}), ('rBofXgf6s6mxEnZxG5Xvq6BAp5qwjLyYbH', 'rwj4ENDNCiY4CY9v2nbzMwQkWUMLFtTekd', {'weight': 1169}), ('rGfSEUa5XHh6c16KbQBzuv163kJQZv5AtN', 'r4ABXm3xpXojPAi14EcLmgERyuVUE41mGi', {'weight': 1303}), ('rGfSEUa5XHh6c16KbQBzuv163kJQZv5AtN', 'r4ow8sharDWkxfqZwtbAJYwU2SEFXAxmFp', {'weight': 983}), ('rGfSEUa5XHh6c16KbQBzuv163kJQZv5AtN', 'rGrUgQDuBMuCVpLd5xz2qUFbxGUMwWJ1Sy', {'weight': 1110}), ('rGfSEUa5XHh6c16KbQBzuv163kJQZv5AtN', 'rKuAAajywBVRqWubSG43f3YUQTckH6SWrp', {'weight': 823}), ('rGfSEUa5XHh6c16KbQBzuv163kJQZv5AtN', 'rNQnHKRZ32Lts2RYqXBPGEMnFJpQhVSqH2', {'weight': 320}), ('rGfSEUa5XHh6c16KbQBzuv163kJQZv5AtN', 'rUSB76jBJ8EqmGGV3yuDDZJGJ9sFtJRuwu', {'weight': 1305}), ('rGfSEUa5XHh6c16KbQBzuv163kJQZv5AtN', 'rna3REBtXdafS8izdZBx86bQUsT96GFpNT', {'weight': 1342}), ('rGfSEUa5XHh6c16KbQBzuv163kJQZv5AtN', 'rpKj9aiBUtC1TSfVDxYU9hAeodwxUcCjxy', {'weight': 1302}), ('rGfSEUa5XHh6c16KbQBzuv163kJQZv5AtN', 'rpSjrBTBjTpLYG5aCvJBFf1PhH8nZm9CN5', {'weight': 761}), ('rGfSEUa5XHh6c16KbQBzuv163kJQZv5AtN', 'rwj4ENDNCiY4CY9v2nbzMwQkWUMLFtTekd', {'weight': 1149}), ('rGvFAsDiR8jpNsxv7JoydBbKYZMxYEdSno', 'r4ABXm3xpXojPAi14EcLmgERyuVUE41mGi', {'weight': 1106}), ('rGvFAsDiR8jpNsxv7JoydBbKYZMxYEdSno', 'r4ow8sharDWkxfqZwtbAJYwU2SEFXAxmFp', {'weight': 993}), ('rGvFAsDiR8jpNsxv7JoydBbKYZMxYEdSno', 'rGrUgQDuBMuCVpLd5xz2qUFbxGUMwWJ1Sy', {'weight': 1227}), ('rGvFAsDiR8jpNsxv7JoydBbKYZMxYEdSno', 'rKuAAajywBVRqWubSG43f3YUQTckH6SWrp', {'weight': 835}), ('rGvFAsDiR8jpNsxv7JoydBbKYZMxYEdSno', 'rNQnHKRZ32Lts2RYqXBPGEMnFJpQhVSqH2', {'weight': 341}), ('rGvFAsDiR8jpNsxv7JoydBbKYZMxYEdSno', 'rUSB76jBJ8EqmGGV3yuDDZJGJ9sFtJRuwu', {'weight': 1514}), ('rGvFAsDiR8jpNsxv7JoydBbKYZMxYEdSno', 'rna3REBtXdafS8izdZBx86bQUsT96GFpNT', {'weight': 1334}), ('rGvFAsDiR8jpNsxv7JoydBbKYZMxYEdSno', 'rpKj9aiBUtC1TSfVDxYU9hAeodwxUcCjxy', {'weight': 1326}), ('rGvFAsDiR8jpNsxv7JoydBbKYZMxYEdSno', 'rpSjrBTBjTpLYG5aCvJBFf1PhH8nZm9CN5', {'weight': 904}), ('rGvFAsDiR8jpNsxv7JoydBbKYZMxYEdSno', 'rwj4ENDNCiY4CY9v2nbzMwQkWUMLFtTekd', {'weight': 1162}), ('rKWeJfhstn5AbRQfc65Goc6csDUadXTM3U', 'r4ABXm3xpXojPAi14EcLmgERyuVUE41mGi', {'weight': 1088}), ('rKWeJfhstn5AbRQfc65Goc6csDUadXTM3U', 'r4ow8sharDWkxfqZwtbAJYwU2SEFXAxmFp', {'weight': 997}), ('rKWeJfhstn5AbRQfc65Goc6csDUadXTM3U', 'rGrUgQDuBMuCVpLd5xz2qUFbxGUMwWJ1Sy', {'weight': 1104}), ('rKWeJfhstn5AbRQfc65Goc6csDUadXTM3U', 'rKuAAajywBVRqWubSG43f3YUQTckH6SWrp', {'weight': 810}), ('rKWeJfhstn5AbRQfc65Goc6csDUadXTM3U', 'rNQnHKRZ32Lts2RYqXBPGEMnFJpQhVSqH2', {'weight': 340}), ('rKWeJfhstn5AbRQfc65Goc6csDUadXTM3U', 'rUSB76jBJ8EqmGGV3yuDDZJGJ9sFtJRuwu', {'weight': 1273}), ('rKWeJfhstn5AbRQfc65Goc6csDUadXTM3U', 'rna3REBtXdafS8izdZBx86bQUsT96GFpNT', {'weight': 1439}), ('rKWeJfhstn5AbRQfc65Goc6csDUadXTM3U', 'rpKj9aiBUtC1TSfVDxYU9hAeodwxUcCjxy', {'weight': 1280}), ('rKWeJfhstn5AbRQfc65Goc6csDUadXTM3U', 'rpSjrBTBjTpLYG5aCvJBFf1PhH8nZm9CN5', {'weight': 789}), ('rKWeJfhstn5AbRQfc65Goc6csDUadXTM3U', 'rwj4ENDNCiY4CY9v2nbzMwQkWUMLFtTekd', {'weight': 1142}), ('rKa9G1Pn7H9eu1fbZNbZvANBTMJ6v7vkep', 'r4ABXm3xpXojPAi14EcLmgERyuVUE41mGi', {'weight': 1103}), ('rKa9G1Pn7H9eu1fbZNbZvANBTMJ6v7vkep', 'r4ow8sharDWkxfqZwtbAJYwU2SEFXAxmFp', {'weight': 1012}), ('rKa9G1Pn7H9eu1fbZNbZvANBTMJ6v7vkep', 'rGrUgQDuBMuCVpLd5xz2qUFbxGUMwWJ1Sy', {'weight': 1279}), ('rKa9G1Pn7H9eu1fbZNbZvANBTMJ6v7vkep', 'rKuAAajywBVRqWubSG43f3YUQTckH6SWrp', {'weight': 827}), ('rKa9G1Pn7H9eu1fbZNbZvANBTMJ6v7vkep', 'rNQnHKRZ32Lts2RYqXBPGEMnFJpQhVSqH2', {'weight': 351}), ('rKa9G1Pn7H9eu1fbZNbZvANBTMJ6v7vkep', 'rUSB76jBJ8EqmGGV3yuDDZJGJ9sFtJRuwu', {'weight': 1302}), ('rKa9G1Pn7H9eu1fbZNbZvANBTMJ6v7vkep', 'rna3REBtXdafS8izdZBx86bQUsT96GFpNT', {'weight': 1320}), ('rKa9G1Pn7H9eu1fbZNbZvANBTMJ6v7vkep', 'rpKj9aiBUtC1TSfVDxYU9hAeodwxUcCjxy', {'weight': 1295}), ('rKa9G1Pn7H9eu1fbZNbZvANBTMJ6v7vkep', 'rpSjrBTBjTpLYG5aCvJBFf1PhH8nZm9CN5', {'weight': 770}), ('rKa9G1Pn7H9eu1fbZNbZvANBTMJ6v7vkep', 'rwj4ENDNCiY4CY9v2nbzMwQkWUMLFtTekd', {'weight': 1151}), ('rLhw4b5C1FYPcz6LSHF4b8PWBZwwyJ7Asd', 'r4ABXm3xpXojPAi14EcLmgERyuVUE41mGi', {'weight': 1071}), ('rLhw4b5C1FYPcz6LSHF4b8PWBZwwyJ7Asd', 'r4ow8sharDWkxfqZwtbAJYwU2SEFXAxmFp', {'weight': 1013}), ('rLhw4b5C1FYPcz6LSHF4b8PWBZwwyJ7Asd', 'rGrUgQDuBMuCVpLd5xz2qUFbxGUMwWJ1Sy', {'weight': 1089}), ('rLhw4b5C1FYPcz6LSHF4b8PWBZwwyJ7Asd', 'rKuAAajywBVRqWubSG43f3YUQTckH6SWrp', {'weight': 825}), ('rLhw4b5C1FYPcz6LSHF4b8PWBZwwyJ7Asd', 'rNQnHKRZ32Lts2RYqXBPGEMnFJpQhVSqH2', {'weight': 354}), ('rLhw4b5C1FYPcz6LSHF4b8PWBZwwyJ7Asd', 'rUSB76jBJ8EqmGGV3yuDDZJGJ9sFtJRuwu', {'weight': 1285}), ('rLhw4b5C1FYPcz6LSHF4b8PWBZwwyJ7Asd', 'rna3REBtXdafS8izdZBx86bQUsT96GFpNT', {'weight': 1303}), ('rLhw4b5C1FYPcz6LSHF4b8PWBZwwyJ7Asd', 'rpKj9aiBUtC1TSfVDxYU9hAeodwxUcCjxy', {'weight': 1261}), ('rLhw4b5C1FYPcz6LSHF4b8PWBZwwyJ7Asd', 'rpSjrBTBjTpLYG5aCvJBFf1PhH8nZm9CN5', {'weight': 878}), ('rLhw4b5C1FYPcz6LSHF4b8PWBZwwyJ7Asd', 'rwj4ENDNCiY4CY9v2nbzMwQkWUMLFtTekd', {'weight': 1163}), ('rh5NJ7kZDaxcKwhrw6qTx2iKuu3eFs89ub', 'r4ABXm3xpXojPAi14EcLmgERyuVUE41mGi', {'weight': 1094}), ('rh5NJ7kZDaxcKwhrw6qTx2iKuu3eFs89ub', 'r4ow8sharDWkxfqZwtbAJYwU2SEFXAxmFp', {'weight': 1157}), ('rh5NJ7kZDaxcKwhrw6qTx2iKuu3eFs89ub', 'rGrUgQDuBMuCVpLd5xz2qUFbxGUMwWJ1Sy', {'weight': 1130}), ('rh5NJ7kZDaxcKwhrw6qTx2iKuu3eFs89ub', 'rKuAAajywBVRqWubSG43f3YUQTckH6SWrp', {'weight': 835}), ('rh5NJ7kZDaxcKwhrw6qTx2iKuu3eFs89ub', 'rNQnHKRZ32Lts2RYqXBPGEMnFJpQhVSqH2', {'weight': 335}), ('rh5NJ7kZDaxcKwhrw6qTx2iKuu3eFs89ub', 'rUSB76jBJ8EqmGGV3yuDDZJGJ9sFtJRuwu', {'weight': 1292}), ('rh5NJ7kZDaxcKwhrw6qTx2iKuu3eFs89ub', 'rna3REBtXdafS8izdZBx86bQUsT96GFpNT', {'weight': 1310}), ('rh5NJ7kZDaxcKwhrw6qTx2iKuu3eFs89ub', 'rpKj9aiBUtC1TSfVDxYU9hAeodwxUcCjxy', {'weight': 1290}), ('rh5NJ7kZDaxcKwhrw6qTx2iKuu3eFs89ub', 'rpSjrBTBjTpLYG5aCvJBFf1PhH8nZm9CN5', {'weight': 782}), ('rh5NJ7kZDaxcKwhrw6qTx2iKuu3eFs89ub', 'rwj4ENDNCiY4CY9v2nbzMwQkWUMLFtTekd', {'weight': 1165}), ('rpVkYTTCpt5bT9ndsppAuWNCCVVU7yJhSL', 'r4ABXm3xpXojPAi14EcLmgERyuVUE41mGi', {'weight': 1104}), ('rpVkYTTCpt5bT9ndsppAuWNCCVVU7yJhSL', 'r4ow8sharDWkxfqZwtbAJYwU2SEFXAxmFp', {'weight': 1006}), ('rpVkYTTCpt5bT9ndsppAuWNCCVVU7yJhSL', 'rGrUgQDuBMuCVpLd5xz2qUFbxGUMwWJ1Sy', {'weight': 1206}), ('rpVkYTTCpt5bT9ndsppAuWNCCVVU7yJhSL', 'rKuAAajywBVRqWubSG43f3YUQTckH6SWrp', {'weight': 824}), ('rpVkYTTCpt5bT9ndsppAuWNCCVVU7yJhSL', 'rNQnHKRZ32Lts2RYqXBPGEMnFJpQhVSqH2', {'weight': 361}), ('rpVkYTTCpt5bT9ndsppAuWNCCVVU7yJhSL', 'rUSB76jBJ8EqmGGV3yuDDZJGJ9sFtJRuwu', {'weight': 1300}), ('rpVkYTTCpt5bT9ndsppAuWNCCVVU7yJhSL', 'rna3REBtXdafS8izdZBx86bQUsT96GFpNT', {'weight': 1344}), ('rpVkYTTCpt5bT9ndsppAuWNCCVVU7yJhSL', 'rpKj9aiBUtC1TSfVDxYU9hAeodwxUcCjxy', {'weight': 1498}), ('rpVkYTTCpt5bT9ndsppAuWNCCVVU7yJhSL', 'rpSjrBTBjTpLYG5aCvJBFf1PhH8nZm9CN5', {'weight': 913}), ('rpVkYTTCpt5bT9ndsppAuWNCCVVU7yJhSL', 'rwj4ENDNCiY4CY9v2nbzMwQkWUMLFtTekd', {'weight': 1169}), ('rpu9JJCgDWZX6KSW4QorC8vxUPetib4Wjw', 'r4ABXm3xpXojPAi14EcLmgERyuVUE41mGi', {'weight': 1116}), ('rpu9JJCgDWZX6KSW4QorC8vxUPetib4Wjw', 'r4ow8sharDWkxfqZwtbAJYwU2SEFXAxmFp', {'weight': 999}), ('rpu9JJCgDWZX6KSW4QorC8vxUPetib4Wjw', 'rGrUgQDuBMuCVpLd5xz2qUFbxGUMwWJ1Sy', {'weight': 1092}), ('rpu9JJCgDWZX6KSW4QorC8vxUPetib4Wjw', 'rKuAAajywBVRqWubSG43f3YUQTckH6SWrp', {'weight': 927}), ('rpu9JJCgDWZX6KSW4QorC8vxUPetib4Wjw', 'rNQnHKRZ32Lts2RYqXBPGEMnFJpQhVSqH2', {'weight': 334}), ('rpu9JJCgDWZX6KSW4QorC8vxUPetib4Wjw', 'rUSB76jBJ8EqmGGV3yuDDZJGJ9sFtJRuwu', {'weight': 1302}), ('rpu9JJCgDWZX6KSW4QorC8vxUPetib4Wjw', 'rna3REBtXdafS8izdZBx86bQUsT96GFpNT', {'weight': 1330}), ('rpu9JJCgDWZX6KSW4QorC8vxUPetib4Wjw', 'rpKj9aiBUtC1TSfVDxYU9hAeodwxUcCjxy', {'weight': 1309}), ('rpu9JJCgDWZX6KSW4QorC8vxUPetib4Wjw', 'rpSjrBTBjTpLYG5aCvJBFf1PhH8nZm9CN5', {'weight': 774}), ('rpu9JJCgDWZX6KSW4QorC8vxUPetib4Wjw', 'rwj4ENDNCiY4CY9v2nbzMwQkWUMLFtTekd', {'weight': 1168}), ('r4AZPz4uojrRNoghJwKRx5FgPiNX6xdNR6', 'r4rxaJEfgirBYok2CntKweXHXrQXmgEULF', {'weight': 28}), ('r4rxaJEfgirBYok2CntKweXHXrQXmgEULF', 'r4AZPz4uojrRNoghJwKRx5FgPiNX6xdNR6', {'weight': 17}), ('r4AfHkjz1Xz37huJKBxZpPV38xFfgSUbTi', 'rsG9cPEDMTVX5NHtehwW7wGdAEtmB4d91d', {'weight': 31}), ('rsG9cPEDMTVX5NHtehwW7wGdAEtmB4d91d', 'r4AfHkjz1Xz37huJKBxZpPV38xFfgSUbTi', {'weight': 20}), ('r4BNKJD5RZ4SY7aesNa6gjPctmRBspS1Va', 'rnk8Es3PGnyW3vtfBzMd82sFDRuFb1LxHh', {'weight': 39}), ('rnk8Es3PGnyW3vtfBzMd82sFDRuFb1LxHh', 'r4BNKJD5RZ4SY7aesNa6gjPctmRBspS1Va', {'weight': 31}), ('r4BoCdTmEMxUtUU2swu1Aichd5q3oG6V7N', 'rQf5nakmQnuazF8tHg1h8cnL9NLiprnGZw', {'weight': 24}), ('rQf5nakmQnuazF8tHg1h8cnL9NLiprnGZw', 'r4BoCdTmEMxUtUU2swu1Aichd5q3oG6V7N', {'weight': 37}), ('r4C1xQV7RRjv14yEjYKwXGm2oJysTYCv82', 'rZmPPMK82puTLJqB4UuVBwig1D4mkN5Cg', {'weight': 30}), ('rZmPPMK82puTLJqB4UuVBwig1D4mkN5Cg', 'r4C1xQV7RRjv14yEjYKwXGm2oJysTYCv82', {'weight': 41}), ('r4CBJi78GCJR5fNcZPtZ71cS3KMHa7paEr', 'rDfx6eMbMuvj9LjvApq9ePwkFrSpC9eum6', {'weight': 14}), ('rDfx6eMbMuvj9LjvApq9ePwkFrSpC9eum6', 'r4CBJi78GCJR5fNcZPtZ71cS3KMHa7paEr', {'weight': 23}), ('r4CHVjKzwSbEGKFVx52pvw26DT3ELMMjUB', 'r91GhfqwiFhe6DsPS6WhRYnzFDo3rJ3V9G', {'weight': 74}), ('r91GhfqwiFhe6DsPS6WhRYnzFDo3rJ3V9G', 'r4CHVjKzwSbEGKFVx52pvw26DT3ELMMjUB', {'weight': 52}), ('r4CdtYBag2HoK2Qe5CGPKqWjduyJv6yGct', 'rwSMN1bynBQNZ4MyAPt8z6hTEKvwZ14EU9', {'weight': 15}), ('rwSMN1bynBQNZ4MyAPt8z6hTEKvwZ14EU9', 'r4CdtYBag2HoK2Qe5CGPKqWjduyJv6yGct', {'weight': 28}), ('r4D1QDAAG31Qrae8KQdpQDt2yiEh6cya4B', 'rEEU1gn71qTiMndFWF8rzjz5QWLxywtGCQ', {'weight': 13}), ('rEEU1gn71qTiMndFWF8rzjz5QWLxywtGCQ', 'r4D1QDAAG31Qrae8KQdpQDt2yiEh6cya4B', {'weight': 22}), ('r4Dw6xs1BRujAX5gF6ArxzkEGZmWs78FhH', 'rafJaAfuLxkuM5GuX5QPdQb8oExTFCVxT9', {'weight': 30}), ('rafJaAfuLxkuM5GuX5QPdQb8oExTFCVxT9', 'r4Dw6xs1BRujAX5gF6ArxzkEGZmWs78FhH', {'weight': 15}), ('r4E5avHqRBu9Lw1fubHQ2Zp6h2MLuWQ9p2', 'r4ektv68di4PQmCZTRq58xfQ8ofcJUxvkh', {'weight': 36}), ('r4ektv68di4PQmCZTRq58xfQ8ofcJUxvkh', 'r4E5avHqRBu9Lw1fubHQ2Zp6h2MLuWQ9p2', {'weight': 24}), ('r4EhcLSngSMziK7RsC8vrW5236sZJHt2Wi', 'rEHU9Eg2tBuF3AKpcrnNphPnxr2AqByLDF', {'weight': 82}), ('rEHU9Eg2tBuF3AKpcrnNphPnxr2AqByLDF', 'r4EhcLSngSMziK7RsC8vrW5236sZJHt2Wi', {'weight': 96}), ('r4Eqr89K6Xdg8rREagK8ZFDuRMiZYzzAqn', 'rLBgwGrPN9QpwrFUFHBocbEavxS5pbcXPK', {'weight': 22}), ('rLBgwGrPN9QpwrFUFHBocbEavxS5pbcXPK', 'r4Eqr89K6Xdg8rREagK8ZFDuRMiZYzzAqn', {'weight': 31}), ('r4Exh1K1hrrYykZi6p6tZHJZQPWSzKzUhQ', 'rDjpkM3PCDJ4bB4bc37UUP3BPEUrjVFjow', {'weight': 31}), ('rDjpkM3PCDJ4bB4bc37UUP3BPEUrjVFjow', 'r4Exh1K1hrrYykZi6p6tZHJZQPWSzKzUhQ', {'weight': 20}), ('r4FD4LV9aimijaEUpoMtLZvqXYUnuRSELB', 'raAWDaXB4q5ba7Dvt5Y7eH317qLAKVxmVH', {'weight': 16}), ('raAWDaXB4q5ba7Dvt5Y7eH317qLAKVxmVH', 'r4FD4LV9aimijaEUpoMtLZvqXYUnuRSELB', {'weight': 25}), ('r4FYCffpv8bDtkZLovCrUYNYnZkZis99mj', 'rLV9HpN2hmYHadCBbhb7EKLZ9Ze5vHMY37', {'weight': 24}), ('rLV9HpN2hmYHadCBbhb7EKLZ9Ze5vHMY37', 'r4FYCffpv8bDtkZLovCrUYNYnZkZis99mj', {'weight': 14}), ('r4FoEVPU1F9J2SyL2hCZD6HtdJ6cZCD9mb', 'rNwhPrGe3t1AQHWCg1biEgLGfx8CbDxcvT', {'weight': 26}), ('rNwhPrGe3t1AQHWCg1biEgLGfx8CbDxcvT', 'r4FoEVPU1F9J2SyL2hCZD6HtdJ6cZCD9mb', {'weight': 35}), ('r4GLEhxjhkRc848Dv9pd5nw36zkoBPADFy', 'rhFZtTtjjxs2uvgoXqwJmccCs6nRgj5W8e', {'weight': 40}), ('rhFZtTtjjxs2uvgoXqwJmccCs6nRgj5W8e', 'r4GLEhxjhkRc848Dv9pd5nw36zkoBPADFy', {'weight': 62}), ('r4GXbgT8eekMR5FEapdMaiJikyNTw7Pf45', 'rB2UYkwenKDKxCFCXkx17fyqWw3ebYWqjE', {'weight': 91}), ('rB2UYkwenKDKxCFCXkx17fyqWw3ebYWqjE', 'r4GXbgT8eekMR5FEapdMaiJikyNTw7Pf45', {'weight': 73}), ('r4Gn3tZvBNT7PHPh3PrrahxQBYtYbZTAK3', 'rMDeYad3NeJEyZXKB1efCjHDWLcHRURG6K', {'weight': 30}), ('rMDeYad3NeJEyZXKB1efCjHDWLcHRURG6K', 'r4Gn3tZvBNT7PHPh3PrrahxQBYtYbZTAK3', {'weight': 15}), ('r4Gqc9zT6gJQb8mU9b7MQknvDB2RA9mKXH', 'r9xcWARbaSUbvbseei2TX2CQT9Qo29gXoy', {'weight': 22}), ('r9xcWARbaSUbvbseei2TX2CQT9Qo29gXoy', 'r4Gqc9zT6gJQb8mU9b7MQknvDB2RA9mKXH', {'weight': 34}), ('r4HoYH7DFBQoqVaVF1Yw71gG8LsN1YqTee', 'rEzjpt9CA3TSGWEJA8nomXcr6vCtVfMXWz', {'weight': 20}), ('rEzjpt9CA3TSGWEJA8nomXcr6vCtVfMXWz', 'r4HoYH7DFBQoqVaVF1Yw71gG8LsN1YqTee', {'weight': 29}), ('r4J8r5K8TSjJ6Rd9z7ZMboKvKVSVH72ZJd', 'rDRHFBK5msFawnFodP8zFCVHrYR1MudyJX', {'weight': 14}), ('rDRHFBK5msFawnFodP8zFCVHrYR1MudyJX', 'r4J8r5K8TSjJ6Rd9z7ZMboKvKVSVH72ZJd', {'weight': 29}), ('r4J9nMzSJwGDfkg6nLzrncRzL8m1dPhYz4', 'raH1NAbWZ6GoXLuRCp3CwS8riCjHbLfzP8', {'weight': 41}), ('raH1NAbWZ6GoXLuRCp3CwS8riCjHbLfzP8', 'r4J9nMzSJwGDfkg6nLzrncRzL8m1dPhYz4', {'weight': 32}), ('r4JHEXPgEiygoQ1PhovM3fTh3CZWkrM9YT', 'rJ7koXuAyXJxBkFCxdBiKPG2WniggJdD5A', {'weight': 28}), ('rJ7koXuAyXJxBkFCxdBiKPG2WniggJdD5A', 'r4JHEXPgEiygoQ1PhovM3fTh3CZWkrM9YT', {'weight': 37}), ('r4Jm3oMTtPUikTUeB8sfC9D9J7tH3oQXew', 'rHLkitdFaoEyECu5AhTm1fyjTbwbaDDhF', {'weight': 16}), ('rHLkitdFaoEyECu5AhTm1fyjTbwbaDDhF', 'r4Jm3oMTtPUikTUeB8sfC9D9J7tH3oQXew', {'weight': 25}), ('r4KPaoGi59i7a2r3RLpxauPnj8pWFFdNZa', 'rK9DcUCMZW7zUwds9pr7DFHsdT2iP5Fa2Y', {'weight': 31}), ('rK9DcUCMZW7zUwds9pr7DFHsdT2iP5Fa2Y', 'r4KPaoGi59i7a2r3RLpxauPnj8pWFFdNZa', {'weight': 15}), ('r4KcEFnjsWNMRBtqyMYodMMiJmjEJhPUuC', 'rKqAECgDSzmFaRm3VzFv52EKtsXCHYnP4M', {'weight': 30}), ('rKqAECgDSzmFaRm3VzFv52EKtsXCHYnP4M', 'r4KcEFnjsWNMRBtqyMYodMMiJmjEJhPUuC', {'weight': 16}), ('r4KfVwzFBqZWKpqJHiadcwxLPkmnncxfkw', 'rHw1WHws5rcZfmRna2QFm17wxdS4zMXKhV', {'weight': 21}), ('rHw1WHws5rcZfmRna2QFm17wxdS4zMXKhV', 'r4KfVwzFBqZWKpqJHiadcwxLPkmnncxfkw', {'weight': 11}), ('r4LQxP7B8veqKxFMhDEfgqjX4ZptATaF5g', 'rhC1UBMhBphWUru623WxqW526ewkyuVVJh', {'weight': 22}), ('rhC1UBMhBphWUru623WxqW526ewkyuVVJh', 'r4LQxP7B8veqKxFMhDEfgqjX4ZptATaF5g', {'weight': 35}), ('r4LhT26g7CQ4Zhwrb3fzj6E8EG8WuRFCqp', 'rEFdm8dAkQhqNjjRzhYSd5KzaVcLjB5k7U', {'weight': 22}), ('rEFdm8dAkQhqNjjRzhYSd5KzaVcLjB5k7U', 'r4LhT26g7CQ4Zhwrb3fzj6E8EG8WuRFCqp', {'weight': 37}), ('r4MGK4ugUo5vXUBj2BbcWQvaoezkgyHE3G', 'rsYRE8BQ48gJhdsFEX6e2i2dRt6NKXi298', {'weight': 22}), ('rsYRE8BQ48gJhdsFEX6e2i2dRt6NKXi298', 'r4MGK4ugUo5vXUBj2BbcWQvaoezkgyHE3G', {'weight': 31}), ('r4Mh1Up4z8byBPW9GQxrdavVBYnL47PYL9', 'rhMxCrTRZy2rU9WXGzJj3Q5kdWg89r5Rur', {'weight': 32}), ('rhMxCrTRZy2rU9WXGzJj3Q5kdWg89r5Rur', 'r4Mh1Up4z8byBPW9GQxrdavVBYnL47PYL9', {'weight': 21}), ('r4MuRPdLqMZubGHbt1QgRbKi3LuCCCFWQ5', 'rJLmE8qfxm2b8m2U6sHPHS14M3HSGvrg8X', {'weight': 21}), ('rJLmE8qfxm2b8m2U6sHPHS14M3HSGvrg8X', 'r4MuRPdLqMZubGHbt1QgRbKi3LuCCCFWQ5', {'weight': 29}), ('r4NHsSXGvryBKmUj6cVJFb6HFFmjAixDyr', 'rL8N6FL9nKaFbuLy3bT2ALsoKgFaYjNi9T', {'weight': 15}), ('rL8N6FL9nKaFbuLy3bT2ALsoKgFaYjNi9T', 'r4NHsSXGvryBKmUj6cVJFb6HFFmjAixDyr', {'weight': 29}), ('r4NJ95s4rm7wpzDgvLhLw44QFUe2mkwZ1i', 'rfSeHctmfL3pLvF3o9XtwLZfnX3ayoGuVL', {'weight': 14}), ('rfSeHctmfL3pLvF3o9XtwLZfnX3ayoGuVL', 'r4NJ95s4rm7wpzDgvLhLw44QFUe2mkwZ1i', {'weight': 29}), ('r4NTAotprvNvhSvwkcdMCcaXysyugcyJPb', 'r9C1qxRFPbbwNvPEsZYjkqcPhBB2hbFHne', {'weight': 24}), ('r9C1qxRFPbbwNvPEsZYjkqcPhBB2hbFHne', 'r4NTAotprvNvhSvwkcdMCcaXysyugcyJPb', {'weight': 36}), ('r4NrmMATsYuKCX12o1DsgRsj6RfF5kRsLW', 'rNrxRNiFZXchAN2DApFdLAmgqCgCLfKWr3', {'weight': 91}), ('rNrxRNiFZXchAN2DApFdLAmgqCgCLfKWr3', 'r4NrmMATsYuKCX12o1DsgRsj6RfF5kRsLW', {'weight': 76}), ('r4PAHG9Y76zZe5dDbrDrZ4k6mV4EGfJuE9', 'rHN2jFwAHFo91DJnsDWJbUxwQtmzB94Etm', {'weight': 93}), ('rHN2jFwAHFo91DJnsDWJbUxwQtmzB94Etm', 'r4PAHG9Y76zZe5dDbrDrZ4k6mV4EGfJuE9', {'weight': 73}), ('r4PSL1KtU7Ve1w5QeVGVKtuQ2PHE8EeVH1', 'rJ6qTJv7Rw54Vjpu2rsTD2oCKCx6RvgYTB', {'weight': 17}), ('rJ6qTJv7Rw54Vjpu2rsTD2oCKCx6RvgYTB', 'r4PSL1KtU7Ve1w5QeVGVKtuQ2PHE8EeVH1', {'weight': 27}), ('r4PbgfLCqkchi1G4Dr4rCTJNW1LR1x8ESs', 'rw1SinNsGBMV7PEzmqd9UZAxEACmtntHBo', {'weight': 16}), ('rw1SinNsGBMV7PEzmqd9UZAxEACmtntHBo', 'r4PbgfLCqkchi1G4Dr4rCTJNW1LR1x8ESs', {'weight': 31}), ('r4PckPCLWqp4Y2xreoiRyq5PFoas6K6mPW', 'rsCjiuwJQoxtLv7NVf7Z2Wra791or8dip1', {'weight': 46}), ('rsCjiuwJQoxtLv7NVf7Z2Wra791or8dip1', 'r4PckPCLWqp4Y2xreoiRyq5PFoas6K6mPW', {'weight': 36}), ('r4PeUuLyhZ8gf7QUJtx2gwj8ddtVnFqQAG', 'rUgewokwNGenq347tiM9TABzjXSLbnawVz', {'weight': 26}), ('rUgewokwNGenq347tiM9TABzjXSLbnawVz', 'r4PeUuLyhZ8gf7QUJtx2gwj8ddtVnFqQAG', {'weight': 35}), ('r4PfKtxG543c1vxZg7AuckiCRTk7hKmcyo', 'rwM3K8xdtyFzHiciLHYX1atoriyLGBjpwk', {'weight': 30}), ('rwM3K8xdtyFzHiciLHYX1atoriyLGBjpwk', 'r4PfKtxG543c1vxZg7AuckiCRTk7hKmcyo', {'weight': 21}), ('r4PmBVdud7PktAWxraDZJFZzLTBHTg4gyQ', 'rLX9fcqtjyXon2osYPxKA1qPuAa4BtfwZV', {'weight': 35}), ('rLX9fcqtjyXon2osYPxKA1qPuAa4BtfwZV', 'r4PmBVdud7PktAWxraDZJFZzLTBHTg4gyQ', {'weight': 25}), ('r4PmrJK1QxLJz2WpLQZ3Sre2ZpSRQVEumZ', 'rpMspsKfEF6onmK6xc3YoV3MJww7WaLaEb', {'weight': 42}), ('rpMspsKfEF6onmK6xc3YoV3MJww7WaLaEb', 'r4PmrJK1QxLJz2WpLQZ3Sre2ZpSRQVEumZ', {'weight': 34}), ('r4Q18QgcjhxahRMambCQRT6SEC6xyYpMmJ', 'rByyAMSGZAidt5o3Bd2DvqsB6fEfx7ao49', {'weight': 30}), ('rByyAMSGZAidt5o3Bd2DvqsB6fEfx7ao49', 'r4Q18QgcjhxahRMambCQRT6SEC6xyYpMmJ', {'weight': 21}), ('r4QMT7DF4Dxxgab4DdL79Uhh9s1PvCRHdj', 'rN2ZVgJjMpeosTmwta6NRCj1ptcaTY84g9', {'weight': 28}), ('rN2ZVgJjMpeosTmwta6NRCj1ptcaTY84g9', 'r4QMT7DF4Dxxgab4DdL79Uhh9s1PvCRHdj', {'weight': 38}), ('r4QPhT6BYubpra9YAJZt2eDhBekvSBfNrH', 'rGSzMB8Af28rhdigfXppqt81EHU7eWBwAm', {'weight': 20}), ('rGSzMB8Af28rhdigfXppqt81EHU7eWBwAm', 'r4QPhT6BYubpra9YAJZt2eDhBekvSBfNrH', {'weight': 31}), ('r4QSd826jbS1FUt8ihTi1x6FoVYoBRCWh1', 'rsk7QUB5VnLmhy6nqjsMLZC5hjZWHyTagg', {'weight': 28}), ('rsk7QUB5VnLmhy6nqjsMLZC5hjZWHyTagg', 'r4QSd826jbS1FUt8ihTi1x6FoVYoBRCWh1', {'weight': 18}), ('r4QUgadrm2tr85d6ziWZG8MZwq3grKkymc', 'rdFGws1qLA72eACpdhPyQknuK7gFcJQLq', {'weight': 56}), ('rdFGws1qLA72eACpdhPyQknuK7gFcJQLq', 'r4QUgadrm2tr85d6ziWZG8MZwq3grKkymc', {'weight': 78}), ('r4QXz1Bm7wHKPMwTA91fJGbuinbXEixV4Y', 'rUg47wt8Xa4UE8TFD5QfRuVpru11ntoBmi', {'weight': 16}), ('rUg47wt8Xa4UE8TFD5QfRuVpru11ntoBmi', 'r4QXz1Bm7wHKPMwTA91fJGbuinbXEixV4Y', {'weight': 31}), ('r4QnpX4XCZANfcdZsxDXQzxCdTVAur39G2', 'rPuUJ5r7t5A3efNmvw3DTCxKLjTNhgtxMN', {'weight': 17}), ('rPuUJ5r7t5A3efNmvw3DTCxKLjTNhgtxMN', 'r4QnpX4XCZANfcdZsxDXQzxCdTVAur39G2', {'weight': 26}), ('r4QtxrYuQdG1qjCYfJDP4WDASYbxAqvy5J', 'r9nKtgteLRUaY8EQeuZTJJM6AwLVdro9bo', {'weight': 25}), ('r9nKtgteLRUaY8EQeuZTJJM6AwLVdro9bo', 'r4QtxrYuQdG1qjCYfJDP4WDASYbxAqvy5J', {'weight': 34}), ('r4RWa3FUg9BCkzFQaFwCpHTCdfKrt8VZeN', 'rHBwT9UMRVBUjLKsoABuvC4jHM4CDX6FcH', {'weight': 22}), ('rHBwT9UMRVBUjLKsoABuvC4jHM4CDX6FcH', 'r4RWa3FUg9BCkzFQaFwCpHTCdfKrt8VZeN', {'weight': 33}), ('r4RnpNszhHcf6VNQqQdnW5LngC3UH7xKh', 'rMXEC9AXpbngtsCnPYaSoTYWfDDxAxfyQS', {'weight': 27}), ('rMXEC9AXpbngtsCnPYaSoTYWfDDxAxfyQS', 'r4RnpNszhHcf6VNQqQdnW5LngC3UH7xKh', {'weight': 43}), ('r4Rr1T6mVKPoRwwwnowfYZ9r9RECo9wgwL', 'rwExpydB4XWtbdMNZ2XMNpUj7QYKwRaqm', {'weight': 27}), ('rwExpydB4XWtbdMNZ2XMNpUj7QYKwRaqm', 'r4Rr1T6mVKPoRwwwnowfYZ9r9RECo9wgwL', {'weight': 15}), ('r4SoU2LwWL5fEK1iqPHcEyy81dnj4CF9Nn', 'rBL6AW58VjofpTAGa4WQEHeXvcYXUPTJJp', {'weight': 13}), ('rBL6AW58VjofpTAGa4WQEHeXvcYXUPTJJp', 'r4SoU2LwWL5fEK1iqPHcEyy81dnj4CF9Nn', {'weight': 22}), ('r4TAeVYQsYsMDLWjwP1i3us7uNybvQH6ce', 'rG8zw4vsgLza9RbJkkukjWrTKXXdDG4hzB', {'weight': 50}), ('rG8zw4vsgLza9RbJkkukjWrTKXXdDG4hzB', 'r4TAeVYQsYsMDLWjwP1i3us7uNybvQH6ce', {'weight': 40}), ('r4TTG9rReK8jbM2qrnpa72kCqixve6cpKt', 'rDgUnSfPFZTehsWa8Feyqj1tLajXSx5WiW', {'weight': 31}), ('rDgUnSfPFZTehsWa8Feyqj1tLajXSx5WiW', 'r4TTG9rReK8jbM2qrnpa72kCqixve6cpKt', {'weight': 40}), ('r4TaFYXeuREAnGMHtwYw4ybE9BHnR91jEr', 'rK1Dnr7tWR9NGdSG3QLvNf39BdYAaYVVMS', {'weight': 14}), ('rK1Dnr7tWR9NGdSG3QLvNf39BdYAaYVVMS', 'r4TaFYXeuREAnGMHtwYw4ybE9BHnR91jEr', {'weight': 29}), ('r4TccUyD7CLvLVtc5HrisjZYXMgDCdi4qm', 'rhETuLiLZqMYSqztL6qh9EC2HbTtqbxKzQ', {'weight': 80}), ('rhETuLiLZqMYSqztL6qh9EC2HbTtqbxKzQ', 'r4TccUyD7CLvLVtc5HrisjZYXMgDCdi4qm', {'weight': 1}), ('r4Tcprqzioy7sn711ecq3Zk3nApeDDvBLp', 'rDi4WC2K7KusURbnW9pfEVXG9i9RpWt81w', {'weight': 20}), ('rDi4WC2K7KusURbnW9pfEVXG9i9RpWt81w', 'r4Tcprqzioy7sn711ecq3Zk3nApeDDvBLp', {'weight': 30}), ('r4U4kZEoL9Ra6xgfjFyJwHRHoggApDpVWg', 'raEuRF994qg34y32xeMaiWmDQrfSHSCGrs', {'weight': 41}), ('raEuRF994qg34y32xeMaiWmDQrfSHSCGrs', 'r4U4kZEoL9Ra6xgfjFyJwHRHoggApDpVWg', {'weight': 30}), ('r4UFAgqSY4uaA2jT3P5cmZZw7CUshqJ5CA', 'rBkrRqhfa7ZAfRoRTCbVPp5VunEYASwgAS', {'weight': 26}), ('rBkrRqhfa7ZAfRoRTCbVPp5VunEYASwgAS', 'r4UFAgqSY4uaA2jT3P5cmZZw7CUshqJ5CA', {'weight': 13}), ('r4Ur7aapDDi1ixjMJ39CK4sXGDLpjdaswY', 'rEBegW6dZUUf2W9nd4ABXVfxMktvSAaTJs', {'weight': 36}), ('rEBegW6dZUUf2W9nd4ABXVfxMktvSAaTJs', 'r4Ur7aapDDi1ixjMJ39CK4sXGDLpjdaswY', {'weight': 21}), ('r4VL1Va9R575JR8TLEw7z1oYoTZd3TXe2o', 'rEbiUM2oMPULvd5ikRCoJ5nppvcPd5ypqu', {'weight': 13}), ('rEbiUM2oMPULvd5ikRCoJ5nppvcPd5ypqu', 'r4VL1Va9R575JR8TLEw7z1oYoTZd3TXe2o', {'weight': 26}), ('r4VLtFczMeRk1YJKSMYsncLCZ3uUKwJr8h', 'rLPCiUszerzt44uEf4Bc73N33EeXXafBbs', {'weight': 24}), ('rLPCiUszerzt44uEf4Bc73N33EeXXafBbs', 'r4VLtFczMeRk1YJKSMYsncLCZ3uUKwJr8h', {'weight': 33}), ('r4VRafyPC7EMprkoLQPwSeNUKXjZUNS8aP', 'rwFuJAHrbt7bD2CwSHatQjNz19FNKYzvht', {'weight': 111}), ('rwFuJAHrbt7bD2CwSHatQjNz19FNKYzvht', 'r4VRafyPC7EMprkoLQPwSeNUKXjZUNS8aP', {'weight': 101}), ('r4VfvTHSych2xyCK5yWgNhJSXT3KZMe8MD', 'rnEFo9qrdk43XSP3HNscLm5nQjgxrC6PCM', {'weight': 26}), ('rnEFo9qrdk43XSP3HNscLm5nQjgxrC6PCM', 'r4VfvTHSych2xyCK5yWgNhJSXT3KZMe8MD', {'weight': 14}), ('r4VurTVfCdAVBnKp67h7uRRhxyxEhbJPsA', 'rfrJpSX2fBH2H2kmjcaG2hzpPL4Muj1DPJ', {'weight': 13}), ('rfrJpSX2fBH2H2kmjcaG2hzpPL4Muj1DPJ', 'r4VurTVfCdAVBnKp67h7uRRhxyxEhbJPsA', {'weight': 23}), ('r4WPNF5zSoZA6cMrtLA1rcrcPVgm1HsumC', 'rP81y23dZ1Azj7iZeyipJKN1fFj4MwTjxd', {'weight': 67}), ('rP81y23dZ1Azj7iZeyipJKN1fFj4MwTjxd', 'r4WPNF5zSoZA6cMrtLA1rcrcPVgm1HsumC', {'weight': 43}), ('r4WbVT724jugtVR7mHcBLNtCvPAPVjwNzB', 'rNcMvTQRxTTVcFekDPwvJKnKnFtfitAWSh', {'weight': 18}), ('rNcMvTQRxTTVcFekDPwvJKnKnFtfitAWSh', 'r4WbVT724jugtVR7mHcBLNtCvPAPVjwNzB', {'weight': 27}), ('r4WnwRdEZvPWmC8soPuXZXgCQzLAzNCbDD', 'rHwnJvrXvrHiksHahB4kygopiRPXLBVCFR', {'weight': 21}), ('rHwnJvrXvrHiksHahB4kygopiRPXLBVCFR', 'r4WnwRdEZvPWmC8soPuXZXgCQzLAzNCbDD', {'weight': 11}), ('r4WscwXez2uatpzosyRvbe7mDusNGgCH8u', 'rJSDV5yriFBmydkyndnVMY5H74DsyYY493', {'weight': 22}), ('rJSDV5yriFBmydkyndnVMY5H74DsyYY493', 'r4WscwXez2uatpzosyRvbe7mDusNGgCH8u', {'weight': 34}), ('r4Wyp2PJM9eRZ4AnJrjTt7NjTXmUP9J72R', 'rN3xT4gwQEUJaR4TWRhyjc6TFFBDVrDbzc', {'weight': 31}), ('rN3xT4gwQEUJaR4TWRhyjc6TFFBDVrDbzc', 'r4Wyp2PJM9eRZ4AnJrjTt7NjTXmUP9J72R', {'weight': 21}), ('r4WzfXBeL23tQjbB8AYQ94tWKRhMh1DS4o', 'rn4278mErNCjyxu6R1EVPHKwmSxFPzr4Dq', {'weight': 18}), ('rn4278mErNCjyxu6R1EVPHKwmSxFPzr4Dq', 'r4WzfXBeL23tQjbB8AYQ94tWKRhMh1DS4o', {'weight': 29}), ('r4XHwVbi76PCKwz5sYtJ9xXZoeq7orzrTj', 'rpWEkrEFVfQGnuSRUg6ZftRKGj5kMbxERB', {'weight': 101}), ('rpWEkrEFVfQGnuSRUg6ZftRKGj5kMbxERB', 'r4XHwVbi76PCKwz5sYtJ9xXZoeq7orzrTj', {'weight': 87}), ('r4XUCMnpy6pdRB1ANtHvMKFW5dcvdLgEFc', 'rsxQwGBHRQv9QrdK94JsX8cj7ZK3y7ZcwP', {'weight': 13}), ('rsxQwGBHRQv9QrdK94JsX8cj7ZK3y7ZcwP', 'r4XUCMnpy6pdRB1ANtHvMKFW5dcvdLgEFc', {'weight': 26}), ('r4Xk87QZFRB9YK7nx5tZ5q3Pqpf4HWCZNP', 'rpJZnWHCnP1guN7fbQ3kArGVEtJYV3XZm5', {'weight': 35}), ('rpJZnWHCnP1guN7fbQ3kArGVEtJYV3XZm5', 'r4Xk87QZFRB9YK7nx5tZ5q3Pqpf4HWCZNP', {'weight': 24}), ('r4Y86sJ18XjEDiWonmCJSKuKYavQ2K4Zpj', 'rLZN5EA1bjEeiAow7srjTJURAgewuLnC66', {'weight': 29}), ('rLZN5EA1bjEeiAow7srjTJURAgewuLnC66', 'r4Y86sJ18XjEDiWonmCJSKuKYavQ2K4Zpj', {'weight': 20}), ('r4YA8TRaUjHgNCaNnqPC5Cmuso3ukrDhpd', 'rfYoFgUv5xDN6AYyzAzoZRvMZyebipVPP', {'weight': 31}), ('rfYoFgUv5xDN6AYyzAzoZRvMZyebipVPP', 'r4YA8TRaUjHgNCaNnqPC5Cmuso3ukrDhpd', {'weight': 16}), ('r4ZJmu485BjmSEZdxtqYunD42LpydueZEj', 'rJH9SPduJbK4whUdk5MrQYofHJXPVuuSST', {'weight': 20}), ('rJH9SPduJbK4whUdk5MrQYofHJXPVuuSST', 'r4ZJmu485BjmSEZdxtqYunD42LpydueZEj', {'weight': 29}), ('r4ZhGjJurxRYWPDmSvf9BiChhhreFLAnYb', 'rsHT8DibMnYMG8Cugz3MZcPCAF2ZsRMASj', {'weight': 77}), ('rsHT8DibMnYMG8Cugz3MZcPCAF2ZsRMASj', 'r4ZhGjJurxRYWPDmSvf9BiChhhreFLAnYb', {'weight': 55}), ('r4Zhqx5aV8N7Fq8wrBijAGx3rpSkk9cRG6', 'rwVxj3d3TPRG3impydrkijHrTgLyuUx7n', {'weight': 40}), ('rwVxj3d3TPRG3impydrkijHrTgLyuUx7n', 'r4Zhqx5aV8N7Fq8wrBijAGx3rpSkk9cRG6', {'weight': 31}), ('r4a849t97pcN4JaeU6DoF5SrgC4fPgtCrp', 'raivW5GE3hCThe7PDQc8TR9zu1PJ7daj2N', {'weight': 30}), ('raivW5GE3hCThe7PDQc8TR9zu1PJ7daj2N', 'r4a849t97pcN4JaeU6DoF5SrgC4fPgtCrp', {'weight': 41}), ('r4aL8hRxBUcKgiKKuHqsWj6Bzh4A7Lowim', 'rVVqdenfitDmER4Yn7K2gSKoa8b89qeXM', {'weight': 25}), ('rVVqdenfitDmER4Yn7K2gSKoa8b89qeXM', 'r4aL8hRxBUcKgiKKuHqsWj6Bzh4A7Lowim', {'weight': 13}), ('r4aPnjsFDaTb7qAMmEStCCEnBouPmBkERx', 'rKUV8C9x6fN42jngr7qxggNUGtUSpokzw2', {'weight': 29}), ('rKUV8C9x6fN42jngr7qxggNUGtUSpokzw2', 'r4aPnjsFDaTb7qAMmEStCCEnBouPmBkERx', {'weight': 14}), ('r4aQseweKR2XjZv8sTZVtFvrUQ1xEhJWce', 'rEEUiFpm5P9HkZpafVMZq8fakr1YUWJDxg', {'weight': 22}), ('rEEUiFpm5P9HkZpafVMZq8fakr1YUWJDxg', 'r4aQseweKR2XjZv8sTZVtFvrUQ1xEhJWce', {'weight': 32}), ('r4akRb51CZgcxwKrQ1ugkqNhGSUnQH5VtS', 'rHiEZnud8tiJpXdiEgpDLoW8sG8G2Ea8yB', {'weight': 25}), ('rHiEZnud8tiJpXdiEgpDLoW8sG8G2Ea8yB', 'r4akRb51CZgcxwKrQ1ugkqNhGSUnQH5VtS', {'weight': 13}), ('r4amdgxHQbzMNUnTUP2tqbg4f6NECHsQi6', 'rDMad4xQjPrMGjrW6DB53odDsQojCLnSqX', {'weight': 21}), ('rDMad4xQjPrMGjrW6DB53odDsQojCLnSqX', 'r4amdgxHQbzMNUnTUP2tqbg4f6NECHsQi6', {'weight': 29}), ('r4avmUQCztLEA9gcUaB27UKmuqP8wfGZQ8', 'rMtLrftDHZyStWJwF6KiL39vFvAEaiQQME', {'weight': 24}), ('rMtLrftDHZyStWJwF6KiL39vFvAEaiQQME', 'r4avmUQCztLEA9gcUaB27UKmuqP8wfGZQ8', {'weight': 14}), ('r4b1fnosNfz8cDxMcyW1S2A8NpGfeYcQQp', 'r99FWw6H4X6DRsx1rWfog5gYEMac5zXTvT', {'weight': 27}), ('r99FWw6H4X6DRsx1rWfog5gYEMac5zXTvT', 'r4b1fnosNfz8cDxMcyW1S2A8NpGfeYcQQp', {'weight': 15}), ('r4b2QNE9pCqbzP15DmtU4PjETi8V2iKmt3', 'rnN69XrwhB2XRqVh2mWM8cj5nfce5sozcC', {'weight': 74}), ('rnN69XrwhB2XRqVh2mWM8cj5nfce5sozcC', 'r4b2QNE9pCqbzP15DmtU4PjETi8V2iKmt3', {'weight': 89}), ('r4b7bD8iwbAxWikZkGFr9xG1KVe5odVozb', 'rM5Ue2VE2dCRxHaAwNLaKSKMNREc6iRC7T', {'weight': 21}), ('rM5Ue2VE2dCRxHaAwNLaKSKMNREc6iRC7T', 'r4b7bD8iwbAxWikZkGFr9xG1KVe5odVozb', {'weight': 31}), ('r4bAm7vYdXSZcVzBHGHemyaSVLwy1fD1So', 'rLxnc3Ne3ZJf8jfEhSaGCxC6SHwhC86wTL', {'weight': 25}), ('rLxnc3Ne3ZJf8jfEhSaGCxC6SHwhC86wTL', 'r4bAm7vYdXSZcVzBHGHemyaSVLwy1fD1So', {'weight': 13}), ('r4bDse9KXy3NgjvyFTc2WfMXkLGSAfHtFZ', 'rUnZkRSoPkbM36kTdRWsWrePmQ7bSW6LQy', {'weight': 29}), ('rUnZkRSoPkbM36kTdRWsWrePmQ7bSW6LQy', 'r4bDse9KXy3NgjvyFTc2WfMXkLGSAfHtFZ', {'weight': 20}), ('r4bEPaRNoK2YyKNrsSRJjCXbNCZe2kwUnk', 'r9ZoGHSMGN89ZjivC4R39g5RrvqwP2MpBT', {'weight': 106}), ('r9ZoGHSMGN89ZjivC4R39g5RrvqwP2MpBT', 'r4bEPaRNoK2YyKNrsSRJjCXbNCZe2kwUnk', {'weight': 95}), ('r4bUQg4jrApgp1M1B3n9ntWCXg798xPYvf', 'rNUD83tFD6WgJ5U8GwhYhNaVhA4TAPrxvQ', {'weight': 30}), ('rNUD83tFD6WgJ5U8GwhYhNaVhA4TAPrxvQ', 'r4bUQg4jrApgp1M1B3n9ntWCXg798xPYvf', {'weight': 40}), ('r4bWnwVcTckXEkmBBWisZpt68Wn5ydMu5x', 'r9AZdbTS6aVGvWZEzkwkBCEDRCj3m9Gt46', {'weight': 33}), ('r9AZdbTS6aVGvWZEzkwkBCEDRCj3m9Gt46', 'r4bWnwVcTckXEkmBBWisZpt68Wn5ydMu5x', {'weight': 17}), ('r4cDL9bC1CweSwTKt5F6hGStHKGe1bneS2', 'rxYbmEcuFFEFitRSBqTZ4aWrnEc8k2T19', {'weight': 14}), ('rxYbmEcuFFEFitRSBqTZ4aWrnEc8k2T19', 'r4cDL9bC1CweSwTKt5F6hGStHKGe1bneS2', {'weight': 29}), ('r4cPfNv1oHfovGwB5VSKnnSgdHYQVXc3ZL', 'rw7Cqo8gShhJ6mX92ozgt5e8C4zBe7PkYh', {'weight': 21}), ('rw7Cqo8gShhJ6mX92ozgt5e8C4zBe7PkYh', 'r4cPfNv1oHfovGwB5VSKnnSgdHYQVXc3ZL', {'weight': 11}), ('r4dKD3srLPtH44ecqk462mM3k289Y9si6a', 'rBpJsQnhYugn6jjk1vXPw1xMyqXroqR2WU', {'weight': 11}), ('rBpJsQnhYugn6jjk1vXPw1xMyqXroqR2WU', 'r4dKD3srLPtH44ecqk462mM3k289Y9si6a', {'weight': 21}), ('r4dYZTDtgTcibaMxhAwqs179zbgBvYGYBX', 'rWfVjCLYTKyaMp9d2M5ugZd5kGDex7Exv', {'weight': 24}), ('rWfVjCLYTKyaMp9d2M5ugZd5kGDex7Exv', 'r4dYZTDtgTcibaMxhAwqs179zbgBvYGYBX', {'weight': 35}), ('r4dkJEdh11MVYrRHs4TftfHievVhi2conL', 'rGYqpBbDwzUcESXnnhK83BNCJpmWUrSP4B', {'weight': 23}), ('rGYqpBbDwzUcESXnnhK83BNCJpmWUrSP4B', 'r4dkJEdh11MVYrRHs4TftfHievVhi2conL', {'weight': 33}), ('r4dnD8SuWRLe3J9miF1N8XmrPtQwQb4u84', 'rhuf7N7ySdLZCozB9wZ5JpyQyNhgpvfH1a', {'weight': 66}), ('rhuf7N7ySdLZCozB9wZ5JpyQyNhgpvfH1a', 'r4dnD8SuWRLe3J9miF1N8XmrPtQwQb4u84', {'weight': 41}), ('r4dsaNzhZVdabGncBQDDd1mrt9dE4ZsCSV', 'rPLAqh2QKyiHuzLtCPsGkbzt75BaVSuupy', {'weight': 40}), ('rPLAqh2QKyiHuzLtCPsGkbzt75BaVSuupy', 'r4dsaNzhZVdabGncBQDDd1mrt9dE4ZsCSV', {'weight': 30}), ('r4dwwDMzLfMyzJ8FMD3gMeCuzbSN9bVKoJ', 'rL1MCUJSYW9LnWjEfh16AuCaEuFLLpTYUW', {'weight': 17}), ('rL1MCUJSYW9LnWjEfh16AuCaEuFLLpTYUW', 'r4dwwDMzLfMyzJ8FMD3gMeCuzbSN9bVKoJ', {'weight': 33}), ('r4e3yPH5Aayzgsym9ACfLicinNir7UepZ5', 'rDKPcLi9LECwANCW4Ca764guG4DhRJzwVL', {'weight': 22}), ('rDKPcLi9LECwANCW4Ca764guG4DhRJzwVL', 'r4e3yPH5Aayzgsym9ACfLicinNir7UepZ5', {'weight': 32}), ('r4eEfrzMzHPYVTfBcZVx3Z3mcohFDDLMFR', 'rhXNbgL9LNBtyLNa1RmKVxDaqD7yJZAFZn', {'weight': 20}), ('rhXNbgL9LNBtyLNa1RmKVxDaqD7yJZAFZn', 'r4eEfrzMzHPYVTfBcZVx3Z3mcohFDDLMFR', {'weight': 32}), ('r4eJJpgbbjLKMejba3d8EhnqkL1qWYnEfV', 'rDsarD3D11QDkVXR6W5jSF4JE9boETXD9Q', {'weight': 27}), ('rDsarD3D11QDkVXR6W5jSF4JE9boETXD9Q', 'r4eJJpgbbjLKMejba3d8EhnqkL1qWYnEfV', {'weight': 15}), ('r4eNxVS8tvBeDrvEpeRSCJnMgtpGLVNwuB', 'rDZhGddpkDB64rXzD8VJjSzQ5znRCmjiCe', {'weight': 17}), ('rDZhGddpkDB64rXzD8VJjSzQ5znRCmjiCe', 'r4eNxVS8tvBeDrvEpeRSCJnMgtpGLVNwuB', {'weight': 30}), ('r4eXYE19W8i1jzydVAYdJsfEVL3d2TwLUa', 'rDgsawF8W4oxiXgeoHxAdx16oVDqX2shrb', {'weight': 31}), ('rDgsawF8W4oxiXgeoHxAdx16oVDqX2shrb', 'r4eXYE19W8i1jzydVAYdJsfEVL3d2TwLUa', {'weight': 40}), ('r4euXcjN3zS1yrNvha7pZZfqTugR91sgbq', 'r9UHw3Tdmcs9uWJkZbwrGYNTyw3dCU8tj1', {'weight': 14}), ('r9UHw3Tdmcs9uWJkZbwrGYNTyw3dCU8tj1', 'r4euXcjN3zS1yrNvha7pZZfqTugR91sgbq', {'weight': 24}), ('r4f4UvLQGAdv3sN7y6ZorWsySYFpPAx4NR', 'r9yb4f9YXPECj1xGxfYBnVT2hjXW9nB7Fs', {'weight': 30}), ('r9yb4f9YXPECj1xGxfYBnVT2hjXW9nB7Fs', 'r4f4UvLQGAdv3sN7y6ZorWsySYFpPAx4NR', {'weight': 21}), ('r4ffCDNrpRddyVYcLn4JLdzU1y5aQVnZ5A', 'rHVmNkquJep9eYqL7jyMk9QNdyaVHCmg7q', {'weight': 16}), ('rHVmNkquJep9eYqL7jyMk9QNdyaVHCmg7q', 'r4ffCDNrpRddyVYcLn4JLdzU1y5aQVnZ5A', {'weight': 28}), ('r4g3R9Qc9Ku6gNDa3by5ZzHB8WfasGZWd1', 'rserPb4iXwb3aiJCVWCsqK9udbFMb4Wzsa', {'weight': 33}), ('rserPb4iXwb3aiJCVWCsqK9udbFMb4Wzsa', 'r4g3R9Qc9Ku6gNDa3by5ZzHB8WfasGZWd1', {'weight': 18}), ('r4gEWGckxX3i49yYeobi6zrZamvazs86Rg', 'rKnk1DvahJCHaWrCMA63JQrjtKCyFNrxmx', {'weight': 72}), ('rKnk1DvahJCHaWrCMA63JQrjtKCyFNrxmx', 'r4gEWGckxX3i49yYeobi6zrZamvazs86Rg', {'weight': 51}), ('r4gZbrNVMmzqCWP6GAx6UgFFDrSPjewg2v', 'rLQYL1TrKYMhWTsxeFwQ35Czp2yD6H3VAb', {'weight': 99}), ('rLQYL1TrKYMhWTsxeFwQ35Czp2yD6H3VAb', 'r4gZbrNVMmzqCWP6GAx6UgFFDrSPjewg2v', {'weight': 113}), ('r4ggTYD4ELJzF7GcBcAfkLhjaqJUSRHAiW', 'rPGRyDhepDHWP6Z2gNpkFA77jZMx7kmRef', {'weight': 34}), ('rPGRyDhepDHWP6Z2gNpkFA77jZMx7kmRef', 'r4ggTYD4ELJzF7GcBcAfkLhjaqJUSRHAiW', {'weight': 44}), ('r4gq8sbKUq5xUDk4w8sAJFT5tawEi9Ck8e', 'rGU6YZTGcBqGhg4KW3zebk4UjoHScgMaSa', {'weight': 29}), ('rGU6YZTGcBqGhg4KW3zebk4UjoHScgMaSa', 'r4gq8sbKUq5xUDk4w8sAJFT5tawEi9Ck8e', {'weight': 18}), ('r4grF9ttRcrz5i1BBpzcmDbjatSeGzeuVj', 'rBx4zLprYs3wRmpLEtzcJuxnchvJfSBA4H', {'weight': 33}), ('rBx4zLprYs3wRmpLEtzcJuxnchvJfSBA4H', 'r4grF9ttRcrz5i1BBpzcmDbjatSeGzeuVj', {'weight': 22}), ('r4hKRR9QREM7J6XSQe4JVDrCdUUswPphwK', 'rwwDNM26vNP1BfHk6wAdbK66NszGjDiUtF', {'weight': 37}), ('rwwDNM26vNP1BfHk6wAdbK66NszGjDiUtF', 'r4hKRR9QREM7J6XSQe4JVDrCdUUswPphwK', {'weight': 28}), ('r4hSU4fDRxPBoADpikbVrLMuedvCqaxXnB', 'rn4nmQDMKYHk7bPaeERanRcPjqG4UmX6VY', {'weight': 32}), ('rn4nmQDMKYHk7bPaeERanRcPjqG4UmX6VY', 'r4hSU4fDRxPBoADpikbVrLMuedvCqaxXnB', {'weight': 22}), ('r4hXSzBJCDjxkP9yERWzQbuSLHK6Gd1jbV', 'r9n8ELFRM41EtvgmfW7Zp2knuEFgduJCh1', {'weight': 20}), ('r9n8ELFRM41EtvgmfW7Zp2knuEFgduJCh1', 'r4hXSzBJCDjxkP9yERWzQbuSLHK6Gd1jbV', {'weight': 31}), ('r4iEA4jb22jxY5wzas2Yhxv6KZgT4fu1UK', 'rw2YVKtFbTkiazAK1QHtgzwnxVa1PahZnE', {'weight': 28}), ('rw2YVKtFbTkiazAK1QHtgzwnxVa1PahZnE', 'r4iEA4jb22jxY5wzas2Yhxv6KZgT4fu1UK', {'weight': 17}), ('r4ib2hhpKe2BusageVbbE8FR3wPJZQAHVA', 'rJbYzSt6tf8T183Hhar9Sd8zsWWbDSgs32', {'weight': 26}), ('rJbYzSt6tf8T183Hhar9Sd8zsWWbDSgs32', 'r4ib2hhpKe2BusageVbbE8FR3wPJZQAHVA', {'weight': 35}), ('r4icJAZqhciAbMCfLZehAEj3DbuQo2F6Dc', 'racG88Nbf5R96TdB1oAJaC5CFqMBybnbF5', {'weight': 14}), ('racG88Nbf5R96TdB1oAJaC5CFqMBybnbF5', 'r4icJAZqhciAbMCfLZehAEj3DbuQo2F6Dc', {'weight': 24}), ('r4itXSNPeLxeTuAJy2mDzjiGSELa7apiKv', 'rnMv4Dww9ehRpw1piZinSyjdU4qREibSWS', {'weight': 26}), ('rnMv4Dww9ehRpw1piZinSyjdU4qREibSWS', 'r4itXSNPeLxeTuAJy2mDzjiGSELa7apiKv', {'weight': 37}), ('r4iuSMSeVKgpmxTwrs1PTgezLr9iwGCZr6', 'rNeRjcZ5FSvorPca58Ph4AgzfM3MkGyGkV', {'weight': 31}), ('rNeRjcZ5FSvorPca58Ph4AgzfM3MkGyGkV', 'r4iuSMSeVKgpmxTwrs1PTgezLr9iwGCZr6', {'weight': 20}), ('r4ixTctdjvixXJfE9V8n15uuvr6LLxs2K5', 'rw7qvh7ZvLtNR1Rx9JtwRKe4T4S7n5Hsjo', {'weight': 28}), ('rw7qvh7ZvLtNR1Rx9JtwRKe4T4S7n5Hsjo', 'r4ixTctdjvixXJfE9V8n15uuvr6LLxs2K5', {'weight': 19}), ('r4jGmJZXKHowm1vdL3Wwgxf9furhoCXYiw', 'rsnrFpD33WHrV8eKMaNjmvkYzPpPo9smS1', {'weight': 23}), ('rsnrFpD33WHrV8eKMaNjmvkYzPpPo9smS1', 'r4jGmJZXKHowm1vdL3Wwgxf9furhoCXYiw', {'weight': 38}), ('r4jJgSRVbjeqS8wPV2Efs8N31kWRc6hkeZ', 'rfEdBkq3UcNSnzsW2izSHUxTeXxrkjVQgV', {'weight': 19}), ('rfEdBkq3UcNSnzsW2izSHUxTeXxrkjVQgV', 'r4jJgSRVbjeqS8wPV2Efs8N31kWRc6hkeZ', {'weight': 31}), ('r4jKhHCWAycAB6XuM5YMieFE6AzKxH98Dm', 'rnKXkD9RkwUq5FYdeqVrNBjjc7fwCov2qE', {'weight': 19}), ('rnKXkD9RkwUq5FYdeqVrNBjjc7fwCov2qE', 'r4jKhHCWAycAB6XuM5YMieFE6AzKxH98Dm', {'weight': 30}), ('r4jMPEYTe6xPLj9W8A37Ku7c8qMSCu5rgA', 'rGjH3kbmkNGE876NincqeokDao6aPgof6G', {'weight': 37}), ('rGjH3kbmkNGE876NincqeokDao6aPgof6G', 'r4jMPEYTe6xPLj9W8A37Ku7c8qMSCu5rgA', {'weight': 25}), ('r4jY5QcgdXfiruKa8NYQMTaoP9Wb84somm', 'rf1BrzbAPSZF9JsKNTLvD3aDuCNCfV8nwS', {'weight': 22}), ('rf1BrzbAPSZF9JsKNTLvD3aDuCNCfV8nwS', 'r4jY5QcgdXfiruKa8NYQMTaoP9Wb84somm', {'weight': 31}), ('r4jeqgGVLBYGkVaDjBCGSz1G9qMzb59Abk', 'rNtVr1GqvbDdFJcv5jA6MMNQsK6fcWxD6g', {'weight': 35}), ('rNtVr1GqvbDdFJcv5jA6MMNQsK6fcWxD6g', 'r4jeqgGVLBYGkVaDjBCGSz1G9qMzb59Abk', {'weight': 26}), ('r4k1r9CPT1MYQLRXZDcvt2i3yMJHNNbTmz', 'rEELtgahWXsYQpUTnWXoewHQd9HW5n5cSH', {'weight': 27}), ('rEELtgahWXsYQpUTnWXoewHQd9HW5n5cSH', 'r4k1r9CPT1MYQLRXZDcvt2i3yMJHNNbTmz', {'weight': 17}), ('r4k54JZDN1NNE38aDpcPVvDDSmc7Hyd9X', 'rN7q86QgyWzRuf1cHiuuMyVPu86msemTiT', {'weight': 30}), ('rN7q86QgyWzRuf1cHiuuMyVPu86msemTiT', 'r4k54JZDN1NNE38aDpcPVvDDSmc7Hyd9X', {'weight': 41}), ('r4kA9KAfro2T7NBcrzzZyNQoCa62AL4BsS', 'rMEvwJgtbNK2aCNyZ1GBpt8gw5C3NERQoo', {'weight': 23}), ('rMEvwJgtbNK2aCNyZ1GBpt8gw5C3NERQoo', 'r4kA9KAfro2T7NBcrzzZyNQoCa62AL4BsS', {'weight': 13}), ('r4koXt1G6ZyUL3GxEHtuwXM1ammrQC5ggQ', 'rNRtFhJ19uxt5V2PmHSuVNn3F7K9nZz7z5', {'weight': 29}), ('rNRtFhJ19uxt5V2PmHSuVNn3F7K9nZz7z5', 'r4koXt1G6ZyUL3GxEHtuwXM1ammrQC5ggQ', {'weight': 14}), ('r4mALix8cZnV7JUKh6vfBYXwwr2EyoPL2b', 'rKs69qrUsmKTLuVFVeNLM6eYxUKYTfUrCK', {'weight': 31}), ('rKs69qrUsmKTLuVFVeNLM6eYxUKYTfUrCK', 'r4mALix8cZnV7JUKh6vfBYXwwr2EyoPL2b', {'weight': 42}), ('r4mDe2TjbfQF6V17FDhxt7vDnidcs4KV2z', 'r9Px3kNX9NP5seKCquTAcJVn2nT5VSS8by', {'weight': 80}), ('r9Px3kNX9NP5seKCquTAcJVn2nT5VSS8by', 'r4mDe2TjbfQF6V17FDhxt7vDnidcs4KV2z', {'weight': 94}), ('r4mHcyyJAWKHRZbBN9uVbhEWXwi9Etb4h3', 'rGQVmbrqDbm428XCzttV4SRtxzH4yTi9dR', {'weight': 28}), ('rGQVmbrqDbm428XCzttV4SRtxzH4yTi9dR', 'r4mHcyyJAWKHRZbBN9uVbhEWXwi9Etb4h3', {'weight': 12}), ('r4meDVpMiC7CcGYJNgA11JrWjWkaYDUsDz', 'rGLz8hqMmS2iLc3qTSeYgn3QcckyCzX4Hg', {'weight': 13}), ('rGLz8hqMmS2iLc3qTSeYgn3QcckyCzX4Hg', 'r4meDVpMiC7CcGYJNgA11JrWjWkaYDUsDz', {'weight': 25}), ('r4mm22FUetTuivbrRaUdcCdHJCD9KFDFKG', 'rEXdJvhGUAGo9ThnbhZoe383msf96nMigb', {'weight': 29}), ('rEXdJvhGUAGo9ThnbhZoe383msf96nMigb', 'r4mm22FUetTuivbrRaUdcCdHJCD9KFDFKG', {'weight': 20}), ('r4mr69jX9pAafn6RFv368aA9ziSmUqfvPx', 'rfTgJsZfmc1a3MZgijaRBAoxtUnYHZ2vCt', {'weight': 30}), ('rfTgJsZfmc1a3MZgijaRBAoxtUnYHZ2vCt', 'r4mr69jX9pAafn6RFv368aA9ziSmUqfvPx', {'weight': 39}), ('r4nGxVsYkvka8zbvYMuUtLUBnXPo4yGckY', 'rNo8xFRJUgvQvriPSaLH34PrBEnbhai13S', {'weight': 28}), ('rNo8xFRJUgvQvriPSaLH34PrBEnbhai13S', 'r4nGxVsYkvka8zbvYMuUtLUBnXPo4yGckY', {'weight': 19}), ('r4nepAKd7X2SN84XiNLJjZCojdAcTeFM5n', 'rPHfASAEQL9RmqTKrfL6UiaYDmyvpGGZQt', {'weight': 43}), ('rPHfASAEQL9RmqTKrfL6UiaYDmyvpGGZQt', 'r4nepAKd7X2SN84XiNLJjZCojdAcTeFM5n', {'weight': 35}), ('r4nntierMFTzTvNwv2uvdV6Uh72uZPwhzS', 'rfsAPq85Tc4t4MHTYLwTnGHm1jyJPiBaF9', {'weight': 42}), ('rfsAPq85Tc4t4MHTYLwTnGHm1jyJPiBaF9', 'r4nntierMFTzTvNwv2uvdV6Uh72uZPwhzS', {'weight': 34}), ('r4nvfmuv38XaY7ATBUmiLWUs57EF5yyEMe', 'rM886jrjaMKPTqZGPcPdNqEEW3QdzvjykY', {'weight': 14}), ('rM886jrjaMKPTqZGPcPdNqEEW3QdzvjykY', 'r4nvfmuv38XaY7ATBUmiLWUs57EF5yyEMe', {'weight': 23}), ('r4oCR7WbwnpeQMyX5m9FVLU7cM68GWbX95', 'rhWNjUBAbYvCpv1A6DiVDWXn396aH672Ji', {'weight': 36}), ('rhWNjUBAbYvCpv1A6DiVDWXn396aH672Ji', 'r4oCR7WbwnpeQMyX5m9FVLU7cM68GWbX95', {'weight': 22}), ('r4ox3JcgqmXeccecB1t6imv6k37gNGaJeW', 'rPyhJE9bKPUVzxu3Lp161ixX7pC3khCcf7', {'weight': 30}), ('rPyhJE9bKPUVzxu3Lp161ixX7pC3khCcf7', 'r4ox3JcgqmXeccecB1t6imv6k37gNGaJeW', {'weight': 20}), ('r4oyLtgnGW7ecRS8Dd2assSnGR9pXcx5H1', 'rshUefFHcALQCetYthrZDzvD7kkjqrMMt5', {'weight': 31}), ('rshUefFHcALQCetYthrZDzvD7kkjqrMMt5', 'r4oyLtgnGW7ecRS8Dd2assSnGR9pXcx5H1', {'weight': 16}), ('r4p9SAQxJytWQZqnPqmzVKdt9Hry1Gsp1V', 'rhSA3qvQZE2HufAJp5b8VYf6bvJMML1Sjk', {'weight': 19}), ('rhSA3qvQZE2HufAJp5b8VYf6bvJMML1Sjk', 'r4p9SAQxJytWQZqnPqmzVKdt9Hry1Gsp1V', {'weight': 29}), ('r4pDFo7KnLEgUQeuQxmxFVVFCzwNGRXLWy', 'rDukxnU9kyYbfQVM38jkxdRSALAfyFCb9p', {'weight': 26}), ('rDukxnU9kyYbfQVM38jkxdRSALAfyFCb9p', 'r4pDFo7KnLEgUQeuQxmxFVVFCzwNGRXLWy', {'weight': 36}), ('r4pLMu8syiCTbQvPuTeMuZPUrEL1Eg9174', 'rLZLczxLQZnqUTscd6cc7tauoT9iAbucvC', {'weight': 30}), ('rLZLczxLQZnqUTscd6cc7tauoT9iAbucvC', 'r4pLMu8syiCTbQvPuTeMuZPUrEL1Eg9174', {'weight': 41}), ('r4pM7M8uZremtdMxeShk5iE8Z5i23Pb91U', 'rwK3WpPJSQre7qCD2wdQLCa3TbcYw42JHK', {'weight': 28}), ('rwK3WpPJSQre7qCD2wdQLCa3TbcYw42JHK', 'r4pM7M8uZremtdMxeShk5iE8Z5i23Pb91U', {'weight': 38}), ('r4pTKaiS2aGiXUFVLu5YY1kZ8s334SVw7E', 'rGF8GCo83BacyS2ogHdSq55JZtX5AJoQtT', {'weight': 33}), ('rGF8GCo83BacyS2ogHdSq55JZtX5AJoQtT', 'r4pTKaiS2aGiXUFVLu5YY1kZ8s334SVw7E', {'weight': 19}), ('r4pwYyz5KyEKBWeNP4BUgU8y8k4aGynCcC', 'rPQKVvk3t1mgcSy49fxPogFba4PdweypLZ', {'weight': 23}), ('rPQKVvk3t1mgcSy49fxPogFba4PdweypLZ', 'r4pwYyz5KyEKBWeNP4BUgU8y8k4aGynCcC', {'weight': 35}), ('r4q2qszCJPqqofYiWGKXkJDCkGXGCKoBU6', 'rH1aAHrweU14coy4A4a1k9VY2TT5H3kxJk', {'weight': 44}), ('rH1aAHrweU14coy4A4a1k9VY2TT5H3kxJk', 'r4q2qszCJPqqofYiWGKXkJDCkGXGCKoBU6', {'weight': 36}), ('r4qBJimFHfXubytQ9j7mShcH4Au8RZeAYq', 'rn4StvyEDYFoLQ8vdHrfSASVwst3ACwDGT', {'weight': 91}), ('rn4StvyEDYFoLQ8vdHrfSASVwst3ACwDGT', 'r4qBJimFHfXubytQ9j7mShcH4Au8RZeAYq', {'weight': 107}), ('r4qDG9qy7SKkzFP4RnXb9NjMUGLgUK4GMr', 'r9V376zhRxxVTJnJLg2nqswRZHRDoTXpGT', {'weight': 20}), ('r9V376zhRxxVTJnJLg2nqswRZHRDoTXpGT', 'r4qDG9qy7SKkzFP4RnXb9NjMUGLgUK4GMr', {'weight': 30}), ('r4qDQ2MLRSDrxHn1imyyQfvvD9BauBTGzj', 'rKFbLb8JQSLjsawsG2SakAeLqQfxMNn6gm', {'weight': 92}), ('rKFbLb8JQSLjsawsG2SakAeLqQfxMNn6gm', 'r4qDQ2MLRSDrxHn1imyyQfvvD9BauBTGzj', {'weight': 72}), ('r4qEZeEBkkNpgFRrc2b55GzBvD9nJAzniW', 'rfHrNHxo5go9fP8m4SowRMwVyuyoUTnRco', {'weight': 23}), ('rfHrNHxo5go9fP8m4SowRMwVyuyoUTnRco', 'r4qEZeEBkkNpgFRrc2b55GzBvD9nJAzniW', {'weight': 32}), ('r4qc2R6AcsrD69ziXi8SMtcsWFFEkR3ovM', 'rGcYD8FzJp2CkJa6z91W4kxD6GLKyjZ5t8', {'weight': 21}), ('rGcYD8FzJp2CkJa6z91W4kxD6GLKyjZ5t8', 'r4qc2R6AcsrD69ziXi8SMtcsWFFEkR3ovM', {'weight': 33}), ('r4qk8ACpiwJBN5gWX43jnn8jLznoYmo6iA', 'rDEDkR66i1sG7sZeUGHgSKqP3LsA2UjRgU', {'weight': 21}), ('rDEDkR66i1sG7sZeUGHgSKqP3LsA2UjRgU', 'r4qk8ACpiwJBN5gWX43jnn8jLznoYmo6iA', {'weight': 33}), ('r4qniNbnwKQLLErkffGfvMZBZTqwTWbR8K', 'rGoWCKaPruouCz9qUPfP9nzZAxvSRqJbS2', {'weight': 26}), ('rGoWCKaPruouCz9qUPfP9nzZAxvSRqJbS2', 'r4qniNbnwKQLLErkffGfvMZBZTqwTWbR8K', {'weight': 40}), ('r4qpAgSxvrRFhX6vbRJaPjSiBuMhkeTbbr', 'rsLP4x2332pGW5FSzi4RRGNebh6Wi5jLTw', {'weight': 39}), ('rsLP4x2332pGW5FSzi4RRGNebh6Wi5jLTw', 'r4qpAgSxvrRFhX6vbRJaPjSiBuMhkeTbbr', {'weight': 31}), ('r4qzRNUpC6w6MSrnPqPAJSaF7DVFnuSy8r', 'rMiCT1Z33d6aTDNbCTSeFJJ9u78kw1E6BU', {'weight': 32}), ('rMiCT1Z33d6aTDNbCTSeFJJ9u78kw1E6BU', 'r4qzRNUpC6w6MSrnPqPAJSaF7DVFnuSy8r', {'weight': 41}), ('r4qziNLRhVCHgaoVkHC23XqToYb2Mh9iQV', 'rP5EhoGPNfhMwF78mKQBB7RyE5UL4DQGML', {'weight': 29}), ('rP5EhoGPNfhMwF78mKQBB7RyE5UL4DQGML', 'r4qziNLRhVCHgaoVkHC23XqToYb2Mh9iQV', {'weight': 15}), ('r4r6ABFSG8xSJgjRDbsuGSNSHUuWeWpMw', 'radi7AHDZQuQNMfDK79xz5eW48XvVu1mih', {'weight': 37}), ('radi7AHDZQuQNMfDK79xz5eW48XvVu1mih', 'r4r6ABFSG8xSJgjRDbsuGSNSHUuWeWpMw', {'weight': 22}), ('r4rT3h5MFWA28zZZh9CKnd9QQMCxnemQbn', 'r4rpaPtRfKy5kkUf9obHXsgLXDiFYeJYqN', {'weight': 14}), ('r4rpaPtRfKy5kkUf9obHXsgLXDiFYeJYqN', 'r4rT3h5MFWA28zZZh9CKnd9QQMCxnemQbn', {'weight': 26}), ('r4rWBtxcSoA9E54Mhvy2VmwDS8YEfb8irW', 'ra5RDD8jvVzrPrh7KfVB8632BV9Lfu7fD9', {'weight': 24}), ('ra5RDD8jvVzrPrh7KfVB8632BV9Lfu7fD9', 'r4rWBtxcSoA9E54Mhvy2VmwDS8YEfb8irW', {'weight': 33}), ('r4rnCqTXarCqAKGtb1gjrJBddV18upSkBv', 'rMiYZ1TnUEpgiZeW5SAAvEoPR8R2JEFHxP', {'weight': 37}), ('rMiYZ1TnUEpgiZeW5SAAvEoPR8R2JEFHxP', 'r4rnCqTXarCqAKGtb1gjrJBddV18upSkBv', {'weight': 27}), ('r4ry2PuhzMPdU7DmtEZZHb9TNhnGsygc1h', 'rH6yrksXFXZjT64NjLS7L525zYhcxUQk2g', {'weight': 16}), ('rH6yrksXFXZjT64NjLS7L525zYhcxUQk2g', 'r4ry2PuhzMPdU7DmtEZZHb9TNhnGsygc1h', {'weight': 25}), ('r4s9fSinwPkuTXvtYNHeGsNG933Wezx6km', 'rpDLA378UWisVE82aREEzmvtRuQEk43dBb', {'weight': 88}), ('rpDLA378UWisVE82aREEzmvtRuQEk43dBb', 'r4s9fSinwPkuTXvtYNHeGsNG933Wezx6km', {'weight': 102}), ('r4sEbma62zE3Vw2T7Eh22izDUhxtCdsjeE', 'rPWKZFqZqrFrXKx5rscZzXGJP12UCcf5vN', {'weight': 28}), ('rPWKZFqZqrFrXKx5rscZzXGJP12UCcf5vN', 'r4sEbma62zE3Vw2T7Eh22izDUhxtCdsjeE', {'weight': 12}), ('r4sSERibTJp4QKGBbs22AnKCyeS4VE5hCs', 'rKJYCqog6EUnJVVq2UvHSNmyD3pvNyUBXe', {'weight': 34}), ('rKJYCqog6EUnJVVq2UvHSNmyD3pvNyUBXe', 'r4sSERibTJp4QKGBbs22AnKCyeS4VE5hCs', {'weight': 23}), ('r4sZWPCHLXRLc9odpd7sJgijPSiunAk2Gb', 'rTnpTPxPhD77RD3wuetzL42DGGKqiH9xq', {'weight': 102}), ('rTnpTPxPhD77RD3wuetzL42DGGKqiH9xq', 'r4sZWPCHLXRLc9odpd7sJgijPSiunAk2Gb', {'weight': 86}), ('r4siafVCinQtGDprBNevvND5FbH6u7qxQi', 'raBWsPasns9Tm2ZSPNbBnA2nAN2bhY7d6o', {'weight': 16}), ('raBWsPasns9Tm2ZSPNbBnA2nAN2bhY7d6o', 'r4siafVCinQtGDprBNevvND5FbH6u7qxQi', {'weight': 30}), ('r4t6PeQ9aHe4mEgiQu79LTae1sTz13Nhyq', 'rfYKhaHEqbxdk8Ae1Cf9rygXJT2fz6t7CZ', {'weight': 64}), ('rfYKhaHEqbxdk8Ae1Cf9rygXJT2fz6t7CZ', 'r4t6PeQ9aHe4mEgiQu79LTae1sTz13Nhyq', {'weight': 42}), ('r4tVHELdgSgFU4HcXJDrjYv3TFwKuC118C', 'rfyMMAhwL7EyMieZFqdVAeGds9QpYHiyd5', {'weight': 29}), ('rfyMMAhwL7EyMieZFqdVAeGds9QpYHiyd5', 'r4tVHELdgSgFU4HcXJDrjYv3TFwKuC118C', {'weight': 39}), ('r4tnRnxLByWTCHAy4Qxq9Ce7MPSrDVdpwa', 'r9mfyzqyHYkPqxpTXqGAHpgMwzRDgDqzko', {'weight': 27}), ('r9mfyzqyHYkPqxpTXqGAHpgMwzRDgDqzko', 'r4tnRnxLByWTCHAy4Qxq9Ce7MPSrDVdpwa', {'weight': 15}), ('r4tpLQ7nX27kUND3BYuR3sBDtwzc6dEwpt', 'rQaKa3VLT9gs3pThmxrBksSwUY2SUavQPg', {'weight': 18}), ('rQaKa3VLT9gs3pThmxrBksSwUY2SUavQPg', 'r4tpLQ7nX27kUND3BYuR3sBDtwzc6dEwpt', {'weight': 28}), ('r4tzyosopXNvAvEA5itxy8mkvXN5SN7TMu', 'rywn9nBEwt3HneU47XwQgLFk3pTQbu467', {'weight': 18}), ('rywn9nBEwt3HneU47XwQgLFk3pTQbu467', 'r4tzyosopXNvAvEA5itxy8mkvXN5SN7TMu', {'weight': 28}), ('r4u7heBfMuYB5GTPoSCbPVCqZ7U3FzUVJn', 'rfUyotkGmfKCYE7NN5jd9ui4aQ5i5CFgYv', {'weight': 13}), ('rfUyotkGmfKCYE7NN5jd9ui4aQ5i5CFgYv', 'r4u7heBfMuYB5GTPoSCbPVCqZ7U3FzUVJn', {'weight': 26}), ('r4uKUFXexkF9ZPBeigx6DEWJsmiJc38sKj', 'rpx3Tdrf3JFXdqEQo6P4aKTJNUatnYgjRA', {'weight': 21}), ('rpx3Tdrf3JFXdqEQo6P4aKTJNUatnYgjRA', 'r4uKUFXexkF9ZPBeigx6DEWJsmiJc38sKj', {'weight': 30}), ('r4uS3sRTLpDfGni4NX12Vnk6Jo29KUv9V9', 'r919ZcvWqEuw52C956D54CutJsBokEjUAB', {'weight': 51}), ('r919ZcvWqEuw52C956D54CutJsBokEjUAB', 'r4uS3sRTLpDfGni4NX12Vnk6Jo29KUv9V9', {'weight': 74}), ('r4ujvVLTzaqKfWRAeWgQgYg5Ve5YZgpQ2p', 'r9Uq6qZcZEp6y9RR2SXgwWDa9KucRJvsbC', {'weight': 26}), ('r9Uq6qZcZEp6y9RR2SXgwWDa9KucRJvsbC', 'r4ujvVLTzaqKfWRAeWgQgYg5Ve5YZgpQ2p', {'weight': 37}), ('r4ukAwGV8mbbb1UgBgyE764nKzEaEQKgto', 'rDKW9wk7diDvKNnSXxdUDfrz2B8XcgCpgC', {'weight': 30}), ('rDKW9wk7diDvKNnSXxdUDfrz2B8XcgCpgC', 'r4ukAwGV8mbbb1UgBgyE764nKzEaEQKgto', {'weight': 18}), ('r4umjfUvXu7nFvVm4VJiuLBRFPC3cCogke', 'rwmC1WUgiqeWsrWK4FkSLtMiduo8egkCmR', {'weight': 23}), ('rwmC1WUgiqeWsrWK4FkSLtMiduo8egkCmR', 'r4umjfUvXu7nFvVm4VJiuLBRFPC3cCogke', {'weight': 14}), ('r4us8WNZPPrpsxdcgKyJEUSWPRwjEs3ggT', 'rawKmbBJBEMQJ7Yip3wPjCZNvxbTBig98b', {'weight': 30}), ('rawKmbBJBEMQJ7Yip3wPjCZNvxbTBig98b', 'r4us8WNZPPrpsxdcgKyJEUSWPRwjEs3ggT', {'weight': 42}), ('r4vGb8UG4tzR6eWREzmvcdKfowUTm5Udfu', 'r9vh2H3vLGjWGP5vBAvh4NFouepNEQpkje', {'weight': 11}), ('r9vh2H3vLGjWGP5vBAvh4NFouepNEQpkje', 'r4vGb8UG4tzR6eWREzmvcdKfowUTm5Udfu', {'weight': 21}), ('r4vNPtpKt5nirnwCC8TPLnpsQWgR5TKeeR', 'rJYa2ub8r6FGecWtehwgCarca5de6rUsnC', {'weight': 18}), ('rJYa2ub8r6FGecWtehwgCarca5de6rUsnC', 'r4vNPtpKt5nirnwCC8TPLnpsQWgR5TKeeR', {'weight': 33}), ('r4vTbHgWwtoxC2Cum5diN7RuvL2u5Gu9gw', 'rhCycCSmjU6i9qprTmNFRMMaUBV8bmDX3s', {'weight': 31}), ('rhCycCSmjU6i9qprTmNFRMMaUBV8bmDX3s', 'r4vTbHgWwtoxC2Cum5diN7RuvL2u5Gu9gw', {'weight': 20}), ('r4vjKk67FHKfjf67BBj5nriiJ2srnqJCaK', 'rNP6WGAQKSAb1hNk5KGmAqxu1NHGHj82Uq', {'weight': 26}), ('rNP6WGAQKSAb1hNk5KGmAqxu1NHGHj82Uq', 'r4vjKk67FHKfjf67BBj5nriiJ2srnqJCaK', {'weight': 13}), ('r4wMuVTFaWFiFraaRZyiaxa5Z9p8a8wPNb', 'rpHEWXLeZyEZD3YeQL7MfKb2FcP2xh3Z1h', {'weight': 19}), ('rpHEWXLeZyEZD3YeQL7MfKb2FcP2xh3Z1h', 'r4wMuVTFaWFiFraaRZyiaxa5Z9p8a8wPNb', {'weight': 27}), ('r4wuf8h9wW2divNrrkLW84wxXfC2Ez1wVQ', 'rKNeou2jZbqkrPo9tJ8uMjrm45uTQvrWLC', {'weight': 31}), ('rKNeou2jZbqkrPo9tJ8uMjrm45uTQvrWLC', 'r4wuf8h9wW2divNrrkLW84wxXfC2Ez1wVQ', {'weight': 15}), ('r4wv1GZRTW2SoSfSa439EzMpZJEgvR6rQ', 'rHSvYEQ8C3NoF3YnDjDgHzfNdHgg1YRu9A', {'weight': 28}), ('rHSvYEQ8C3NoF3YnDjDgHzfNdHgg1YRu9A', 'r4wv1GZRTW2SoSfSa439EzMpZJEgvR6rQ', {'weight': 13}), ('r4xTbQZkvtAhLBry1S5rHPrvhoJHdyKgzL', 'rfMcZedUnj2bpV1bPVQsTTSwv817AvXtMN', {'weight': 24}), ('rfMcZedUnj2bpV1bPVQsTTSwv817AvXtMN', 'r4xTbQZkvtAhLBry1S5rHPrvhoJHdyKgzL', {'weight': 37}), ('r4xufLNecQfBNMrMKVqCnSEHLocs9Dqv8w', 'rpnPyV1TTaSPU1U9r6WwfgJ96vYrTDcHHG', {'weight': 37}), ('rpnPyV1TTaSPU1U9r6WwfgJ96vYrTDcHHG', 'r4xufLNecQfBNMrMKVqCnSEHLocs9Dqv8w', {'weight': 24}), ('r4y2g5SexeR5m4nibirHn3hfFZL3BrvvcH', 'raREySijaRMzDuarZk3CNagfiStods6mS5', {'weight': 20}), ('raREySijaRMzDuarZk3CNagfiStods6mS5', 'r4y2g5SexeR5m4nibirHn3hfFZL3BrvvcH', {'weight': 11}), ('r4y7nP69Pr9uTAeBMYKdDGHrJnFh8RCVKF', 'rDqrs52QpHRWgDyMS2faPdPhjcwMAUERKM', {'weight': 32}), ('rDqrs52QpHRWgDyMS2faPdPhjcwMAUERKM', 'r4y7nP69Pr9uTAeBMYKdDGHrJnFh8RCVKF', {'weight': 19}), ('r4ydQRfHP92KWVxzQdss5RqJVdRVoDek23', 'rKgPMitvpANj16Nk28oP1kJceNV8W6okUk', {'weight': 93}), ('rKgPMitvpANj16Nk28oP1kJceNV8W6okUk', 'r4ydQRfHP92KWVxzQdss5RqJVdRVoDek23', {'weight': 82}), ('r4ywf25CUzQqkzwoWTq8wHRp1poAppBduW', 'rH9ogtLaVWG3wt4U2JHVaGdeqbqdzmXn9F', {'weight': 35}), ('rH9ogtLaVWG3wt4U2JHVaGdeqbqdzmXn9F', 'r4ywf25CUzQqkzwoWTq8wHRp1poAppBduW', {'weight': 24}), ('r4yyu4ETvH97a1NJ6uG7QKbZAiXfAkujbi', 'rfudPmn4tEdRH7UaJeRhvreLDzEQx9AwDd', {'weight': 31}), ('rfudPmn4tEdRH7UaJeRhvreLDzEQx9AwDd', 'r4yyu4ETvH97a1NJ6uG7QKbZAiXfAkujbi', {'weight': 20}), ('r4yzTv4seyPMP71ems6PKpzi86syrtRHQE', 'rHf6sStChMn4HfUyfyQAKo9MzsR5vxhZjP', {'weight': 13}), ('rHf6sStChMn4HfUyfyQAKo9MzsR5vxhZjP', 'r4yzTv4seyPMP71ems6PKpzi86syrtRHQE', {'weight': 25}), ('r4z1uJtWsGpu5TjJbci7Zf7BDTcZsQVA5D', 'rMweMCULTwcxUXJGbBhLoAwKMnF1VXhpTV', {'weight': 22}), ('rMweMCULTwcxUXJGbBhLoAwKMnF1VXhpTV', 'r4z1uJtWsGpu5TjJbci7Zf7BDTcZsQVA5D', {'weight': 36}), ('r4z2b2MYV5Hpr9qa74UGxTY2gfG4KyKFaM', 'r9yGSwbmPyomDH9M4fykUFnX1UBxYpFiRG', {'weight': 80}), ('r9yGSwbmPyomDH9M4fykUFnX1UBxYpFiRG', 'r4z2b2MYV5Hpr9qa74UGxTY2gfG4KyKFaM', {'weight': 52}), ('r4z489RPa78qBNtk1YTq37J48hTGaBJDYS', 'rpBybgrqcGi8pTZn7wQvhLSgVYmSN58hS7', {'weight': 37}), ('rpBybgrqcGi8pTZn7wQvhLSgVYmSN58hS7', 'r4z489RPa78qBNtk1YTq37J48hTGaBJDYS', {'weight': 27}), ('r4z9eopS5ya4AHZpxW4Zb7y2Emf4wp4HTg', 'rBKRheRTJKyxzRQGF5125mXa84KWFzvbsH', {'weight': 43}), ('rBKRheRTJKyxzRQGF5125mXa84KWFzvbsH', 'r4z9eopS5ya4AHZpxW4Zb7y2Emf4wp4HTg', {'weight': 35}), ('r5AZrKNmCC8bLSZtC7gekDA5MhTn9ZAd2', 'rN5RChvcTDD3ZG8bQDkwfwLFFpNsmR9da9', {'weight': 21}), ('rN5RChvcTDD3ZG8bQDkwfwLFFpNsmR9da9', 'r5AZrKNmCC8bLSZtC7gekDA5MhTn9ZAd2', {'weight': 32}), ('r5FJvSo31oFi4Gr5phAbD6kVrY4c89LV1', 'rK5hZEhEX9n4EZAjDL8m4XjgzH1tXXZCQt', {'weight': 34}), ('rK5hZEhEX9n4EZAjDL8m4XjgzH1tXXZCQt', 'r5FJvSo31oFi4Gr5phAbD6kVrY4c89LV1', {'weight': 22}), ('r5hdkpi2KgAwkJgTiKEcZM4kH7WXWav6i', 'rNMYZZKBtoomkDuxqUNFX2yNm1BvrmC75D', {'weight': 17}), ('rNMYZZKBtoomkDuxqUNFX2yNm1BvrmC75D', 'r5hdkpi2KgAwkJgTiKEcZM4kH7WXWav6i', {'weight': 28}), ('r5n3eMDkXeMjp3SYoH12Jaq64Dwv5h6Qh', 'rnDogkJiYi4hpiJ76GYZ97i9vwsBvwm6yh', {'weight': 28}), ('rnDogkJiYi4hpiJ76GYZ97i9vwsBvwm6yh', 'r5n3eMDkXeMjp3SYoH12Jaq64Dwv5h6Qh', {'weight': 17}), ('r635aizRhU4CKUbJNzixfMSmE15ktuQCq', 'rUtCZsonbtnJ23AJtEPHK9uTUAv5j7dGAD', {'weight': 33}), ('rUtCZsonbtnJ23AJtEPHK9uTUAv5j7dGAD', 'r635aizRhU4CKUbJNzixfMSmE15ktuQCq', {'weight': 21}), ('r66eUTt9se4kQiEAxcnuSaY7BZEeSGVmD', 'rPkDiHk1m2N8wtUyqtMmBqwtAFuw4TSbo5', {'weight': 26}), ('rPkDiHk1m2N8wtUyqtMmBqwtAFuw4TSbo5', 'r66eUTt9se4kQiEAxcnuSaY7BZEeSGVmD', {'weight': 14}), ('r6R8LxYPRgCwgvUXas4cKSwqvn18ULvSB', 'rfAdNapm2M9HftChGo2wb9uJB7wFMeBZmp', {'weight': 24}), ('rfAdNapm2M9HftChGo2wb9uJB7wFMeBZmp', 'r6R8LxYPRgCwgvUXas4cKSwqvn18ULvSB', {'weight': 36}), ('r7JrrWQG1zHc8bRCnybqassYj2aRCiM1s', 'rEpGRR5qWSuLBEZDiK8d6jq51EvM629g1i', {'weight': 18}), ('rEpGRR5qWSuLBEZDiK8d6jq51EvM629g1i', 'r7JrrWQG1zHc8bRCnybqassYj2aRCiM1s', {'weight': 31}), ('r7dZn6UsZBAcygXVfW7qSQ97YrCHcUfsU', 'rn1yd3n3xX6HVJMcpmhDth79vGZ5etRoor', {'weight': 25}), ('rn1yd3n3xX6HVJMcpmhDth79vGZ5etRoor', 'r7dZn6UsZBAcygXVfW7qSQ97YrCHcUfsU', {'weight': 36}), ('r7uKRm6zDkcPkbvT51kTu59VpbeiNZv6J', 'rQm2SLFYjAMX7j3EtvULK3i6HrTSVsoBR', {'weight': 45}), ('rQm2SLFYjAMX7j3EtvULK3i6HrTSVsoBR', 'r7uKRm6zDkcPkbvT51kTu59VpbeiNZv6J', {'weight': 35}), ('r7x3jNLJoFT5CdFFZGBfsgBiUDYqyJyKB', 'rDyVBU7juhypBwCX1DMegtTR2jpqzKjvwt', {'weight': 47}), ('rDyVBU7juhypBwCX1DMegtTR2jpqzKjvwt', 'r7x3jNLJoFT5CdFFZGBfsgBiUDYqyJyKB', {'weight': 38}), ('r8EM9ozsFYRhekMUWdmbztvfdCVwCztk5', 'rZ2VVySiip1TRnQgXmMzHAm5KAQEY98UJ', {'weight': 31}), ('rZ2VVySiip1TRnQgXmMzHAm5KAQEY98UJ', 'r8EM9ozsFYRhekMUWdmbztvfdCVwCztk5', {'weight': 40}), ('r8cvv58db2SwvxQBzyF6M28W14WPgNhe2', 'rpM45cRHswpjwQcuXZoDipuRk2eHCZUNVa', {'weight': 32}), ('rpM45cRHswpjwQcuXZoDipuRk2eHCZUNVa', 'r8cvv58db2SwvxQBzyF6M28W14WPgNhe2', {'weight': 21}), ('r92HSWYwUmoNc28bCZjXpsSTtrVXjBWhjb', 'radPiKSmABriBHw13F2AMydLigDCbwPDMW', {'weight': 20}), ('radPiKSmABriBHw13F2AMydLigDCbwPDMW', 'r92HSWYwUmoNc28bCZjXpsSTtrVXjBWhjb', {'weight': 30}), ('r92JL2LarfisafeciUvfToTULug8M8juMK', 'rEsEcphFasPezQLcCbzBicvGGUpBVHtYdi', {'weight': 26}), ('rEsEcphFasPezQLcCbzBicvGGUpBVHtYdi', 'r92JL2LarfisafeciUvfToTULug8M8juMK', {'weight': 14}), ('r938eryPpzhnhYPg35Egc9R1RdewPJCeQ7', 'rJdkuhaRYrCSFXpWyS2TtYw3B5eFaMjcZa', {'weight': 37}), ('rJdkuhaRYrCSFXpWyS2TtYw3B5eFaMjcZa', 'r938eryPpzhnhYPg35Egc9R1RdewPJCeQ7', {'weight': 27}), ('r9398TqqBvRm4LvFTdAk1TWX9pzdu4Pvnf', 'rKdoDMRypaP4pKxQ1PXNQgcPfuvMhXgxJH', {'weight': 25}), ('rKdoDMRypaP4pKxQ1PXNQgcPfuvMhXgxJH', 'r9398TqqBvRm4LvFTdAk1TWX9pzdu4Pvnf', {'weight': 12}), ('r93JiC4rjUku9MvMiMofzUUGmao4tV57JZ', 'rp81Ubq2QJnLZTpuw9JhhRssttmurs8pXT', {'weight': 47}), ('rp81Ubq2QJnLZTpuw9JhhRssttmurs8pXT', 'r93JiC4rjUku9MvMiMofzUUGmao4tV57JZ', {'weight': 65}), ('r93qcv6EZp6vnq7Y2J2oaBdPQ5wKhYX2GZ', 'rKZdFCZr6y3CLgahqKNGqpvU2fqrXJCdgr', {'weight': 26}), ('rKZdFCZr6y3CLgahqKNGqpvU2fqrXJCdgr', 'r93qcv6EZp6vnq7Y2J2oaBdPQ5wKhYX2GZ', {'weight': 12}), ('r948qL57edZfhC8u7fsKojciuAQTrYPH79', 'rJHx11ct4dX295QwtC96XEaEi5o7DmVBcz', {'weight': 19}), ('rJHx11ct4dX295QwtC96XEaEi5o7DmVBcz', 'r948qL57edZfhC8u7fsKojciuAQTrYPH79', {'weight': 30}), ('r94RGKy7zMDyhfL7gUxt9hn5xVCC8XyW8e', 'rP9DLUysJnn6jTzURvo6AoThsZCnZ6eqVE', {'weight': 33}), ('rP9DLUysJnn6jTzURvo6AoThsZCnZ6eqVE', 'r94RGKy7zMDyhfL7gUxt9hn5xVCC8XyW8e', {'weight': 20}), ('r95KdeQwApt1HSeKwfv5JBKHj9n36fbsWq', 'rBUdMaFLWmtD2g71wf6RvLu4PAQF7KwReZ', {'weight': 41}), ('rBUdMaFLWmtD2g71wf6RvLu4PAQF7KwReZ', 'r95KdeQwApt1HSeKwfv5JBKHj9n36fbsWq', {'weight': 30}), ('r96TkSC89W7h7TvW9uo1kX6mwmqHzpzJP4', 'rNFE13721Kp84f8uGXTAW6VcqTFjZy1SjK', {'weight': 87}), ('rNFE13721Kp84f8uGXTAW6VcqTFjZy1SjK', 'r96TkSC89W7h7TvW9uo1kX6mwmqHzpzJP4', {'weight': 101}), ('r96nUQsCEeXXQ5Tpf8ZAcyLTRu6pYTZy3s', 'r98mcmyVD6Zade2u26ydM6vRwtXFSJBBXs', {'weight': 16}), ('r98mcmyVD6Zade2u26ydM6vRwtXFSJBBXs', 'r96nUQsCEeXXQ5Tpf8ZAcyLTRu6pYTZy3s', {'weight': 32}), ('r972DDvJK5GMgAVX9hLnEEYmvZH9kResPo', 'rah62fNsgtjXi49kLpp5zS5RcUuR26SL9W', {'weight': 21}), ('rah62fNsgtjXi49kLpp5zS5RcUuR26SL9W', 'r972DDvJK5GMgAVX9hLnEEYmvZH9kResPo', {'weight': 11}), ('r97WNqADTbJFeEzauDDYR2MUVNfhS1mUrS', 'rEPMSLBZ2WdsQ3vgvojPQpzUB9Qr6ZF72f', {'weight': 24}), ('rEPMSLBZ2WdsQ3vgvojPQpzUB9Qr6ZF72f', 'r97WNqADTbJFeEzauDDYR2MUVNfhS1mUrS', {'weight': 33}), ('r97h11NN7KhU6pj4Na1oGT5ASDwAKqs3rL', 'rJGcp2YtpxKgmDd3ycvjvDk9qVf5hnXzJm', {'weight': 35}), ('rJGcp2YtpxKgmDd3ycvjvDk9qVf5hnXzJm', 'r97h11NN7KhU6pj4Na1oGT5ASDwAKqs3rL', {'weight': 23}), ('r97oy7uNivpLFQHun6zRPFLkaQ8M37v8Vy', 'rMAU3UwNPFXQJFtxXGNmw9KMo3kTJTyjT3', {'weight': 27}), ('rMAU3UwNPFXQJFtxXGNmw9KMo3kTJTyjT3', 'r97oy7uNivpLFQHun6zRPFLkaQ8M37v8Vy', {'weight': 15}), ('r97r2TaPBSzQ9bk5omr9JxG447TksDv4Ss', 'rD47SzFZz7WGQgbqt8hUuewzHbCat7moKV', {'weight': 25}), ('rD47SzFZz7WGQgbqt8hUuewzHbCat7moKV', 'r97r2TaPBSzQ9bk5omr9JxG447TksDv4Ss', {'weight': 16}), ('r9843ZQuiNxsqKESKTSydJ6mGYLT2DLezj', 'rfzBYPxkxkUkrE5bmQT2xN55muxipSGSBR', {'weight': 27}), ('rfzBYPxkxkUkrE5bmQT2xN55muxipSGSBR', 'r9843ZQuiNxsqKESKTSydJ6mGYLT2DLezj', {'weight': 17}), ('r98DBMULBAE8nMwGCuvXqzg5wkTLbTEr5Q', 'ra1q6FrYs9viVbmSbFH2CNGZakz8yUrRnZ', {'weight': 28}), ('ra1q6FrYs9viVbmSbFH2CNGZakz8yUrRnZ', 'r98DBMULBAE8nMwGCuvXqzg5wkTLbTEr5Q', {'weight': 17}), ('r98L7qTpzPra9yoJEP68QHZVNCWicCHmx3', 'rU8kMzrmFypzrzrNTFtE16k9mCDNDBaybp', {'weight': 21}), ('rU8kMzrmFypzrzrNTFtE16k9mCDNDBaybp', 'r98L7qTpzPra9yoJEP68QHZVNCWicCHmx3', {'weight': 33}), ('r98TAZ98MQuemBQobvKT5CJSRX4RUJgCcA', 'rHXhoqp2FvXT2LXsPzCg3kcPuGavVm8VRZ', {'weight': 38}), ('rHXhoqp2FvXT2LXsPzCg3kcPuGavVm8VRZ', 'r98TAZ98MQuemBQobvKT5CJSRX4RUJgCcA', {'weight': 28}), ('r98b7TiuRNpxoYxkX6kWQoMjLn86VA1tJB', 'rUiFMEwubThEBWF1zkXgnG5TyGwbWpCY6W', {'weight': 20}), ('rUiFMEwubThEBWF1zkXgnG5TyGwbWpCY6W', 'r98b7TiuRNpxoYxkX6kWQoMjLn86VA1tJB', {'weight': 30}), ('r99BcFfkyvWUx7LvfJRyToKNbiRZ1KQNmY', 'rKKnBgsfTsHMsmeEJG78tQ9sKdYynJYeFc', {'weight': 27}), ('rKKnBgsfTsHMsmeEJG78tQ9sKdYynJYeFc', 'r99BcFfkyvWUx7LvfJRyToKNbiRZ1KQNmY', {'weight': 42}), ('r99F1Ynv2HebueANCTuA5vbKCZYsi7TEmg', 'rPa5WVKaExnd8CrE1mxSwYAke2pVTygK9U', {'weight': 13}), ('rPa5WVKaExnd8CrE1mxSwYAke2pVTygK9U', 'r99F1Ynv2HebueANCTuA5vbKCZYsi7TEmg', {'weight': 28}), ('r99T4vwQKE1pQiZG5whKf3WPUdTLrqqVbM', 'rEKAoKkRBH4qV4w7Mowi6oEnTgqcSFMWxW', {'weight': 34}), ('rEKAoKkRBH4qV4w7Mowi6oEnTgqcSFMWxW', 'r99T4vwQKE1pQiZG5whKf3WPUdTLrqqVbM', {'weight': 24}), ('r99g1bFQjAu8T7Wi6vRoy92p7A7EEReaBN', 'rGBW7Wo54h3TfhQuMVGnfejdUMtysybfQD', {'weight': 14}), ('rGBW7Wo54h3TfhQuMVGnfejdUMtysybfQD', 'r99g1bFQjAu8T7Wi6vRoy92p7A7EEReaBN', {'weight': 27}), ('r99m2aA7PH7idcKxu7hBwmYnJt2X4ZoS2U', 'rUc1QQK1e4WqLSCLHQ7HN4FikMwTKwfenE', {'weight': 18}), ('rUc1QQK1e4WqLSCLHQ7HN4FikMwTKwfenE', 'r99m2aA7PH7idcKxu7hBwmYnJt2X4ZoS2U', {'weight': 27}), ('r99tsbJQzPMYP2GFxxG8bLodPyqxopvvXe', 'rPhE7u2LphmzqtFceWXpUSF1ZAGWWpSQ88', {'weight': 26}), ('rPhE7u2LphmzqtFceWXpUSF1ZAGWWpSQ88', 'r99tsbJQzPMYP2GFxxG8bLodPyqxopvvXe', {'weight': 15}), ('r9AD4v1MeBmrbH7joNM41qtkTpu3Ctrts6', 'rUTUoFxoznPAokcYWhgSPk78VBGMabdLCJ', {'weight': 30}), ('rUTUoFxoznPAokcYWhgSPk78VBGMabdLCJ', 'r9AD4v1MeBmrbH7joNM41qtkTpu3Ctrts6', {'weight': 40}), ('r9ADKKDLLRT6xUjoXpkMiDz7fF4x1t3T1c', 'rQriDwXFdtrgLNw6ma928mvju65jUC1wYS', {'weight': 28}), ('rQriDwXFdtrgLNw6ma928mvju65jUC1wYS', 'r9ADKKDLLRT6xUjoXpkMiDz7fF4x1t3T1c', {'weight': 18}), ('r9AGTVwMCXyqtT1hr31b1s4rsaqS8woqHv', 'rPAGAcQWpdkY5iQLTrqrzcmj7vmokXkcfg', {'weight': 17}), ('rPAGAcQWpdkY5iQLTrqrzcmj7vmokXkcfg', 'r9AGTVwMCXyqtT1hr31b1s4rsaqS8woqHv', {'weight': 27}), ('r9Ax62FWWEi6gCUYKnF1KRpJzL9EuNgakb', 'rV781B9zKB2osxRY69VDkJKDcdwWLoJ16', {'weight': 21}), ('rV781B9zKB2osxRY69VDkJKDcdwWLoJ16', 'r9Ax62FWWEi6gCUYKnF1KRpJzL9EuNgakb', {'weight': 33}), ('r9BHLeXz42DEkMeZPTCCLKSfvzkHmLJGrY', 'rBULsFu3WWSfguE9JTdQB4Mx9VErDYCXSa', {'weight': 18}), ('rBULsFu3WWSfguE9JTdQB4Mx9VErDYCXSa', 'r9BHLeXz42DEkMeZPTCCLKSfvzkHmLJGrY', {'weight': 28}), ('r9ByWB1rJiDFboc2LDLA2b4m9Q9YDVNgYh', 'rGGx68zB8v12sqyLPT5Ary3WAZZ9GivqjM', {'weight': 42}), ('rGGx68zB8v12sqyLPT5Ary3WAZZ9GivqjM', 'r9ByWB1rJiDFboc2LDLA2b4m9Q9YDVNgYh', {'weight': 30}), ('r9CjCtpqWPBaKG4uPxxcJYRoMSKretmy8z', 'rpGYQMLDBfnmgtgijRSKVjqEtmn78URhL5', {'weight': 30}), ('rpGYQMLDBfnmgtgijRSKVjqEtmn78URhL5', 'r9CjCtpqWPBaKG4uPxxcJYRoMSKretmy8z', {'weight': 18}), ('r9D9mDfmjx3sYiD5mJRH51zWFxMjvh7hms', 'rzQLqCNy6foWhrH5jRNoWLgC8kCTV3AhU', {'weight': 28}), ('rzQLqCNy6foWhrH5jRNoWLgC8kCTV3AhU', 'r9D9mDfmjx3sYiD5mJRH51zWFxMjvh7hms', {'weight': 19}), ('r9DSkCFKubXmFLrtBGkkcRJ9odZHjcgycR', 'rG7oPEHi8YQ3WH1hNSF1yRveGhMWJ1mX5x', {'weight': 23}), ('rG7oPEHi8YQ3WH1hNSF1yRveGhMWJ1mX5x', 'r9DSkCFKubXmFLrtBGkkcRJ9odZHjcgycR', {'weight': 32}), ('r9DY85gd9MqHwrigYYPwpN2RHzgVhMxUVH', 'rM6rGxuJNTTAyQDxtATRSQiMuGLfQD2Fkx', {'weight': 25}), ('rM6rGxuJNTTAyQDxtATRSQiMuGLfQD2Fkx', 'r9DY85gd9MqHwrigYYPwpN2RHzgVhMxUVH', {'weight': 37}), ('r9DhDp3NB3SWQUqiYF36BewP6EYKPUQ5qY', 'rLNEZGdjFnjuMn4t7za1imvg1rodmisvhk', {'weight': 12}), ('rLNEZGdjFnjuMn4t7za1imvg1rodmisvhk', 'r9DhDp3NB3SWQUqiYF36BewP6EYKPUQ5qY', {'weight': 26}), ('r9EVcRe9QkvSNwbpzVucy6qavYUpEZKrc2', 'rN4yCn93His2qrSSQpRXeo4xPmWxsLdZNw', {'weight': 18}), ('rN4yCn93His2qrSSQpRXeo4xPmWxsLdZNw', 'r9EVcRe9QkvSNwbpzVucy6qavYUpEZKrc2', {'weight': 32}), ('r9EgzQ3TK8KpsvAi48bsEFiKdFp1KGoFPM', 'rNCEo7rJvf9DrHCnTvSZncngc1m8Dfb8tQ', {'weight': 39}), ('rNCEo7rJvf9DrHCnTvSZncngc1m8Dfb8tQ', 'r9EgzQ3TK8KpsvAi48bsEFiKdFp1KGoFPM', {'weight': 31}), ('r9F6XrSEVrnzNwCw6HHa53jWomyMSMFosr', 'rsCLpA8FmTLY2aHut4oXCs2cQneEYR9DA4', {'weight': 26}), ('rsCLpA8FmTLY2aHut4oXCs2cQneEYR9DA4', 'r9F6XrSEVrnzNwCw6HHa53jWomyMSMFosr', {'weight': 15}), ('r9GsgP1ctjKK8pB8p7Rojn1MVh5pY2k1FK', 'rUAyzoEU3MtNH6zA7iQ1aVHViysZ6r2hSa', {'weight': 87}), ('rUAyzoEU3MtNH6zA7iQ1aVHViysZ6r2hSa', 'r9GsgP1ctjKK8pB8p7Rojn1MVh5pY2k1FK', {'weight': 101}), ('r9HB2MbWoYZAyCUGAB9Yir6JrDQtk22EJU', 'rUKhQ167V5eZYjRniqvjWdde2j4Lx35DJh', {'weight': 23}), ('rUKhQ167V5eZYjRniqvjWdde2j4Lx35DJh', 'r9HB2MbWoYZAyCUGAB9Yir6JrDQtk22EJU', {'weight': 12}), ('r9HNQ97dVKbNatYQcbqYRoKMmUafDtgFaj', 'rP8zB5W1m1yB9VrVR3xKKuJ2T8uvvfbA9w', {'weight': 28}), ('rP8zB5W1m1yB9VrVR3xKKuJ2T8uvvfbA9w', 'r9HNQ97dVKbNatYQcbqYRoKMmUafDtgFaj', {'weight': 37}), ('r9HPzuvQVNwcmxQ5dJc1HSWxednNUE68Xu', 'rGsJY9EKDW3GZ86Z7V5TP8vmG4e94Ah7w8', {'weight': 21}), ('rGsJY9EKDW3GZ86Z7V5TP8vmG4e94Ah7w8', 'r9HPzuvQVNwcmxQ5dJc1HSWxednNUE68Xu', {'weight': 29}), ('r9HSLwT9rvEhMNfsQXz6dmdTJ5QaghK5yr', 'rsxijs5mREEpSDA3DHYDcdmXJVWP16zXMm', {'weight': 31}), ('rsxijs5mREEpSDA3DHYDcdmXJVWP16zXMm', 'r9HSLwT9rvEhMNfsQXz6dmdTJ5QaghK5yr', {'weight': 16}), ('r9HfNUS7zmHuVcRKfKC1XtuPQbP8wL3pez', 'rfCTkwz1ZD36HSp7Lb9S4LvAVa4MFw2fAU', {'weight': 34}), ('rfCTkwz1ZD36HSp7Lb9S4LvAVa4MFw2fAU', 'r9HfNUS7zmHuVcRKfKC1XtuPQbP8wL3pez', {'weight': 22}), ('r9HrQtHSBRxvBP5UrcNjSjr3Q5KVKzbo12', 'rBA9Up5JdEqaCFHDJdQ1JUqQTuzp9Dnd8N', {'weight': 46}), ('rBA9Up5JdEqaCFHDJdQ1JUqQTuzp9Dnd8N', 'r9HrQtHSBRxvBP5UrcNjSjr3Q5KVKzbo12', {'weight': 36}), ('r9JS3Vf73ErHqTWG7FRSf8c5HaLA5dPQBV', 'rK2SitnN6UPA9z9w16Lt7LWdQRSY6VS3ES', {'weight': 28}), ('rK2SitnN6UPA9z9w16Lt7LWdQRSY6VS3ES', 'r9JS3Vf73ErHqTWG7FRSf8c5HaLA5dPQBV', {'weight': 15}), ('r9JcwCSpRtEd22aNKGwsEKEWBHWq44bnb7', 'rfpNMACVYdpf6znrhJcrH3CJFu3tvwf7Vx', {'weight': 36}), ('rfpNMACVYdpf6znrhJcrH3CJFu3tvwf7Vx', 'r9JcwCSpRtEd22aNKGwsEKEWBHWq44bnb7', {'weight': 23}), ('r9JmN8tDzdGreG1PwpVH8AzjUdG3XMPVvH', 'rssX6149WXjVYhQkHUy6QwpdFjp7AqCN6B', {'weight': 45}), ('rssX6149WXjVYhQkHUy6QwpdFjp7AqCN6B', 'r9JmN8tDzdGreG1PwpVH8AzjUdG3XMPVvH', {'weight': 37}), ('r9JrYaNjWhSsaigYS86Uyg29WMZubsUxes', 'rGFh5eWwxVpA6fs4HSSfZrhCvLS9UA9Jjw', {'weight': 17}), ('rGFh5eWwxVpA6fs4HSSfZrhCvLS9UA9Jjw', 'r9JrYaNjWhSsaigYS86Uyg29WMZubsUxes', {'weight': 28}), ('r9JsJC3TvN5c4BbSeRpqsyfS43Moce6Eqk', 'rPBua4BWnaKmY1j2UvFLj5wJJ7ecooajCT', {'weight': 27}), ('rPBua4BWnaKmY1j2UvFLj5wJJ7ecooajCT', 'r9JsJC3TvN5c4BbSeRpqsyfS43Moce6Eqk', {'weight': 16}), ('r9K6HWpTbVyrvSPZcXDuyS2YB4XDNsQYkb', 'r9TuaVxzeCf41QswpNakCVid37CTzL5iZN', {'weight': 32}), ('r9TuaVxzeCf41QswpNakCVid37CTzL5iZN', 'r9K6HWpTbVyrvSPZcXDuyS2YB4XDNsQYkb', {'weight': 21}), ('r9KAw1Mmx5nMFCwiQDMxwdWphSMuToMswK', 'rhKLjpjWtPwaPFjpphPQvf6d4oDq1R2zGu', {'weight': 23}), ('rhKLjpjWtPwaPFjpphPQvf6d4oDq1R2zGu', 'r9KAw1Mmx5nMFCwiQDMxwdWphSMuToMswK', {'weight': 35}), ('r9KKB8Zw3Ty8vR9piQPMuFRWvQY8BcTLf6', 'rBpsoUCaWu82xVkbbEF7ncCSemqY76wgRN', {'weight': 41}), ('rBpsoUCaWu82xVkbbEF7ncCSemqY76wgRN', 'r9KKB8Zw3Ty8vR9piQPMuFRWvQY8BcTLf6', {'weight': 32}), ('r9Kim53Hbyw1917PvCrTB8HPGQkMLSCk9F', 'rDoreDEqHfU9Z6yot9uY29JayDbUiJVB63', {'weight': 25}), ('rDoreDEqHfU9Z6yot9uY29JayDbUiJVB63', 'r9Kim53Hbyw1917PvCrTB8HPGQkMLSCk9F', {'weight': 13}), ('r9KmXFL2fn8Ya6h9PmsVPfDbprFX1Qyfpm', 'rPrR6DdTT2CpxJchSoBgvrdFhaAGR5mmeS', {'weight': 22}), ('rPrR6DdTT2CpxJchSoBgvrdFhaAGR5mmeS', 'r9KmXFL2fn8Ya6h9PmsVPfDbprFX1Qyfpm', {'weight': 31}), ('r9L2tjCBgsovPGFHrJCoFuP71JtS1rf8mH', 'rsfKSfdS7XvrpExJH2qU6Esw48G6VLKMwb', {'weight': 1}), ('rsfKSfdS7XvrpExJH2qU6Esw48G6VLKMwb', 'r9L2tjCBgsovPGFHrJCoFuP71JtS1rf8mH', {'weight': 28}), ('r9LL9wweePTYW1rnXLjGiUSafLQxtukcDC', 'rNEbFVyFEBho5AKFpvZUKC5PDSSjAJZTKF', {'weight': 28}), ('rNEbFVyFEBho5AKFpvZUKC5PDSSjAJZTKF', 'r9LL9wweePTYW1rnXLjGiUSafLQxtukcDC', {'weight': 17}), ('r9LNMzY4Ys3xRKu6APJSoDKYDqhwWctyRf', 'rGzptSZdnvkkUU6gFXQn5XsfpL56aG9xCz', {'weight': 34}), ('rGzptSZdnvkkUU6gFXQn5XsfpL56aG9xCz', 'r9LNMzY4Ys3xRKu6APJSoDKYDqhwWctyRf', {'weight': 24}), ('r9LNPaLcGnLL3uYu8vG22Q6qhnPqhh5wCk', 'rD35Frqwyx2MGGsvtefUg7r2peWCRtaHir', {'weight': 21}), ('rD35Frqwyx2MGGsvtefUg7r2peWCRtaHir', 'r9LNPaLcGnLL3uYu8vG22Q6qhnPqhh5wCk', {'weight': 32}), ('r9LSVp6uYRzYCoFn7CFBoa6XzQrNvbt9xk', 'rBajbmdk5wUGgsrcvLyfqWWk3oSqGgiuvz', {'weight': 26}), ('rBajbmdk5wUGgsrcvLyfqWWk3oSqGgiuvz', 'r9LSVp6uYRzYCoFn7CFBoa6XzQrNvbt9xk', {'weight': 14}), ('r9Lif44n9anMXMfWNgGmdciG2M5CCBpykQ', 'rKZHN8zUS4huPnWYP8SHmyB95T9FMKMPdX', {'weight': 38}), ('rKZHN8zUS4huPnWYP8SHmyB95T9FMKMPdX', 'r9Lif44n9anMXMfWNgGmdciG2M5CCBpykQ', {'weight': 28}), ('r9Lk8fVVNoQwt2Yx3Lng5MWEAsDidBZhR', 'rQBFV4AFnLtwoG4DiLTHVEFNrLWyxRRMVS', {'weight': 37}), ('rQBFV4AFnLtwoG4DiLTHVEFNrLWyxRRMVS', 'r9Lk8fVVNoQwt2Yx3Lng5MWEAsDidBZhR', {'weight': 27}), ('r9M6txZKttSHkA3Ump2BfgDU7ZMvkmDwsh', 'rJHrppxxPEKUiDSqmDbtMmc2oLxMaCjUE5', {'weight': 24}), ('rJHrppxxPEKUiDSqmDbtMmc2oLxMaCjUE5', 'r9M6txZKttSHkA3Ump2BfgDU7ZMvkmDwsh', {'weight': 36}), ('r9M9uqiMLgjYmLPSUfYSPF1P2Co6UYhcvK', 'rMqxkJKaWWW5LQwkNuoMVtgEc3Fem9GHwB', {'weight': 18}), ('rMqxkJKaWWW5LQwkNuoMVtgEc3Fem9GHwB', 'r9M9uqiMLgjYmLPSUfYSPF1P2Co6UYhcvK', {'weight': 28}), ('r9MJZHVW4kT8o3FVeyGSDdQ1qrSxHRB2MK', 'rPch9Jd4JZTpogNTQACNaWYit1sX87FAm4', {'weight': 82}), ('rPch9Jd4JZTpogNTQACNaWYit1sX87FAm4', 'r9MJZHVW4kT8o3FVeyGSDdQ1qrSxHRB2MK', {'weight': 96}), ('r9MR4QMTQcRCaBr882kbvtEdoSA2qZJ9C3', 'rHUQAM9zC8e9NKFe9myqphoj7YZHiHoWZy', {'weight': 16}), ('rHUQAM9zC8e9NKFe9myqphoj7YZHiHoWZy', 'r9MR4QMTQcRCaBr882kbvtEdoSA2qZJ9C3', {'weight': 32}), ('r9MYTiGBGKadTomkfUrkomi26aQzAHejPM', 'rnXEgjMemZXJmiwtiqLzQKYdeRxUFu2SF5', {'weight': 26}), ('rnXEgjMemZXJmiwtiqLzQKYdeRxUFu2SF5', 'r9MYTiGBGKadTomkfUrkomi26aQzAHejPM', {'weight': 15}), ('r9Mwkwq4wu4qgUxMHJVv9Beih356SCdddu', 'rMZV3456ueeqsFL9CPr6BVqVBXhcihNs8T', {'weight': 42}), ('rMZV3456ueeqsFL9CPr6BVqVBXhcihNs8T', 'r9Mwkwq4wu4qgUxMHJVv9Beih356SCdddu', {'weight': 65}), ('r9N6gsaPXecMx5p84cWGR2iAsTqkTqqPyS', 'rNNEvrxBbkXc5taPun8RBCzi4sTuUbLDjL', {'weight': 35}), ('rNNEvrxBbkXc5taPun8RBCzi4sTuUbLDjL', 'r9N6gsaPXecMx5p84cWGR2iAsTqkTqqPyS', {'weight': 44}), ('r9NQodCudMLDypsnh7iNmseJ3XFBorxNVo', 'rHCiQL9rLCtLxCCPWDoDhVMUepZL7Z1mkp', {'weight': 13}), ('rHCiQL9rLCtLxCCPWDoDhVMUepZL7Z1mkp', 'r9NQodCudMLDypsnh7iNmseJ3XFBorxNVo', {'weight': 27}), ('r9Nkkn3QvVVQJuG8XiFxTNiyfVcWHyv1ur', 'rnjDkwcqxn98qoVecDiLmVZDM5f5b7Ces2', {'weight': 33}), ('rnjDkwcqxn98qoVecDiLmVZDM5f5b7Ces2', 'r9Nkkn3QvVVQJuG8XiFxTNiyfVcWHyv1ur', {'weight': 22}), ('r9PJmszzHRvPQmUGQgkHqLgqXHb54B9jqG', 'rp1ATDgSvSoHJeKjLRXe66Xupknx9fjg5E', {'weight': 14}), ('rp1ATDgSvSoHJeKjLRXe66Xupknx9fjg5E', 'r9PJmszzHRvPQmUGQgkHqLgqXHb54B9jqG', {'weight': 24}), ('r9PbAisRFtGqo5tAQpekUVVm5MuoJ6Wt4W', 'r9sLrABKaA4TXGdJp9DAGs8zJqHEatX386', {'weight': 26}), ('r9sLrABKaA4TXGdJp9DAGs8zJqHEatX386', 'r9PbAisRFtGqo5tAQpekUVVm5MuoJ6Wt4W', {'weight': 16}), ('r9Pg4NqpQp9Vx1icnGw2XDP3xMezw5rMAW', 'rJC1ecPdFzXPX9jLvLPgj8vTqCh7LBvkgG', {'weight': 31}), ('rJC1ecPdFzXPX9jLvLPgj8vTqCh7LBvkgG', 'r9Pg4NqpQp9Vx1icnGw2XDP3xMezw5rMAW', {'weight': 20}), ('r9Pu5yd3btoLrFNg3KmJU12ttPXQwn8xSS', 'rn5nvt1fvu8e7ULv1zpv961Ljv49anWGb8', {'weight': 16}), ('rn5nvt1fvu8e7ULv1zpv961Ljv49anWGb8', 'r9Pu5yd3btoLrFNg3KmJU12ttPXQwn8xSS', {'weight': 25}), ('r9PxfRLLjYTN1BvLKdKZh2rY7eAALECcKC', 'rfBowBRMwc1PAw2Xch8wfTcjSriuk6mASv', {'weight': 37}), ('rfBowBRMwc1PAw2Xch8wfTcjSriuk6mASv', 'r9PxfRLLjYTN1BvLKdKZh2rY7eAALECcKC', {'weight': 27}), ('r9Q16qYbd67dXD7i3MYLdBVTt8iAyft4gF', 'raRMZwbpTu2TzknSsKZCwSBA2pSVksN1GD', {'weight': 15}), ('raRMZwbpTu2TzknSsKZCwSBA2pSVksN1GD', 'r9Q16qYbd67dXD7i3MYLdBVTt8iAyft4gF', {'weight': 28}), ('r9Q4TGKUSG39CcmBZM6oVsQyKgqWdY62d8', 'rJDFmGkZX4AkZTvGRbZRiPzrCvS4Ket7Jt', {'weight': 27}), ('rJDFmGkZX4AkZTvGRbZRiPzrCvS4Ket7Jt', 'r9Q4TGKUSG39CcmBZM6oVsQyKgqWdY62d8', {'weight': 42}), ('r9QK5A9i3uzpVJtVmomjqNNEshgDwU7Pzf', 'rDNzujfk4VjsPLohTsn1pwH2tvQTijNj6U', {'weight': 30}), ('rDNzujfk4VjsPLohTsn1pwH2tvQTijNj6U', 'r9QK5A9i3uzpVJtVmomjqNNEshgDwU7Pzf', {'weight': 19}), ('r9QSW3S25pkJCvKd41BssZ5fm7ThEZ7XAL', 'rnQxdh61ftMtXouA9YXD5HJk94iaUE1Qbb', {'weight': 79}), ('rnQxdh61ftMtXouA9YXD5HJk94iaUE1Qbb', 'r9QSW3S25pkJCvKd41BssZ5fm7ThEZ7XAL', {'weight': 56}), ('r9QXLhtB5htxGwDKfii7hyTvZbqTWuyN7b', 'rPdeEjZSQ9e3iZgZYNR12U6XaJMiJbTHgC', {'weight': 36}), ('rPdeEjZSQ9e3iZgZYNR12U6XaJMiJbTHgC', 'r9QXLhtB5htxGwDKfii7hyTvZbqTWuyN7b', {'weight': 45}), ('r9Qo7hy41YJwapcUobqxj6B41rfmew3LQS', 'rJgdUdCoDB2D9EDcpAxCUCRssUaQVkbDLf', {'weight': 97}), ('rJgdUdCoDB2D9EDcpAxCUCRssUaQVkbDLf', 'r9Qo7hy41YJwapcUobqxj6B41rfmew3LQS', {'weight': 107}), ('r9REEGv1hKviPKbhXcMN6Xhavg94kKTVa7', 'rsVXTyCD5Bo1iu7PfhVHMhYuguWSaCmfJx', {'weight': 30}), ('rsVXTyCD5Bo1iu7PfhVHMhYuguWSaCmfJx', 'r9REEGv1hKviPKbhXcMN6Xhavg94kKTVa7', {'weight': 17}), ('r9RN37kFD7m5vJ7gHiakxg9RgcWutj7oLD', 'rnWvMRpH9UP7EKepXZZEXR9ae8PDeZsRSE', {'weight': 15}), ('rnWvMRpH9UP7EKepXZZEXR9ae8PDeZsRSE', 'r9RN37kFD7m5vJ7gHiakxg9RgcWutj7oLD', {'weight': 28}), ('r9RoyAHAYPhjMa8Trvaqz8DKAyyWUJBLtx', 'rNR2vDRRWUnKBA8WUQmKaziYxS1pAFfKQJ', {'weight': 51}), ('rNR2vDRRWUnKBA8WUQmKaziYxS1pAFfKQJ', 'r9RoyAHAYPhjMa8Trvaqz8DKAyyWUJBLtx', {'weight': 41}), ('r9Ru9VFTrXN9VYkgiEfijJ2h6i7xef4YcP', 'rGd5Y2KS9V3641Pj1wVJSRPfe5WuxjVgdd', {'weight': 31}), ('rGd5Y2KS9V3641Pj1wVJSRPfe5WuxjVgdd', 'r9Ru9VFTrXN9VYkgiEfijJ2h6i7xef4YcP', {'weight': 22}), ('r9SVebTACcsDZZ8ypeoWfHReNDkuA7ULA5', 'rM5jf7J8HPaZxX5aASFNzuk6GXCQ1tt7TC', {'weight': 15}), ('rM5jf7J8HPaZxX5aASFNzuk6GXCQ1tt7TC', 'r9SVebTACcsDZZ8ypeoWfHReNDkuA7ULA5', {'weight': 31}), ('r9SZD6SjZUzzp7UcXVF7Dr53xFJDt8GtSi', 'rsY8wpbbJKZAKFTvBDZ9Fqnwq7VTikZn2P', {'weight': 34}), ('rsY8wpbbJKZAKFTvBDZ9Fqnwq7VTikZn2P', 'r9SZD6SjZUzzp7UcXVF7Dr53xFJDt8GtSi', {'weight': 43}), ('r9SfF89rAiwNupF2Vp5nMM9cvkuxMBTpPz', 'rB6Wg19yTNfSQzAHcJm4vd6dhTTfi2zgJz', {'weight': 36}), ('rB6Wg19yTNfSQzAHcJm4vd6dhTTfi2zgJz', 'r9SfF89rAiwNupF2Vp5nMM9cvkuxMBTpPz', {'weight': 46}), ('r9SrhcvPGZNvoDrdgHn3rM8xH36qw6Z9k9', 'rDV2kPM9FcdhZPBa2qfjXAWKAp5tzKfbyX', {'weight': 23}), ('rDV2kPM9FcdhZPBa2qfjXAWKAp5tzKfbyX', 'r9SrhcvPGZNvoDrdgHn3rM8xH36qw6Z9k9', {'weight': 14}), ('r9ThftV2sDxFqRcSxwJd4pJvA6iWCyDDQm', 'rQUHqi8oooKa9GarHE4A6feFHxPYbigXzQ', {'weight': 20}), ('rQUHqi8oooKa9GarHE4A6feFHxPYbigXzQ', 'r9ThftV2sDxFqRcSxwJd4pJvA6iWCyDDQm', {'weight': 29}), ('r9Thy2LRaUAuLf92Vimy8H4LPfU13eQr9z', 'rGnzKZCbo26JHtq6iH7vQW3cai9e2556Qc', {'weight': 31}), ('rGnzKZCbo26JHtq6iH7vQW3cai9e2556Qc', 'r9Thy2LRaUAuLf92Vimy8H4LPfU13eQr9z', {'weight': 19}), ('r9UWcvYTVtz6xgkPkpsE1UgVgUYmtUUo8e', 'rMCbJ6VcaUYpUFqF1wBoYTfJycMiKv8NRC', {'weight': 44}), ('rMCbJ6VcaUYpUFqF1wBoYTfJycMiKv8NRC', 'r9UWcvYTVtz6xgkPkpsE1UgVgUYmtUUo8e', {'weight': 35}), ('r9Uav3Udktf7Kf4gZfrAV5ttipoKpTH5g2', 'rHQZ3s11q7vDAyfvJdmU9H5auEEHDWctGN', {'weight': 34}), ('rHQZ3s11q7vDAyfvJdmU9H5auEEHDWctGN', 'r9Uav3Udktf7Kf4gZfrAV5ttipoKpTH5g2', {'weight': 25}), ('r9Uk3xgEMQcPAqgvtz1KadCwR3GGenVpYq', 'rL17FaJXR2mLX6RGnWRzozirZty99S1onQ', {'weight': 27}), ('rL17FaJXR2mLX6RGnWRzozirZty99S1onQ', 'r9Uk3xgEMQcPAqgvtz1KadCwR3GGenVpYq', {'weight': 15}), ('r9VCQtpgQ786fZG9bHdG3zG6mMev24Q2pM', 'rfZ1QbcYK8NJjUZPWaWdLt5J35e3Asenut', {'weight': 45}), ('rfZ1QbcYK8NJjUZPWaWdLt5J35e3Asenut', 'r9VCQtpgQ786fZG9bHdG3zG6mMev24Q2pM', {'weight': 36}), ('r9VXL4wXwm7gtghrnYtfW46c24r7jBWDxv', 'rKLhCynztwz2FZN2DDPup1t4PknwLLdhLA', {'weight': 102}), ('rKLhCynztwz2FZN2DDPup1t4PknwLLdhLA', 'r9VXL4wXwm7gtghrnYtfW46c24r7jBWDxv', {'weight': 87}), ('r9VpnAKQDXxeUMUfMniHjrtepnJbqahPcF', 'rMVRxZBzzBZsrN4N6khBCvXh6fz61RptEs', {'weight': 29}), ('rMVRxZBzzBZsrN4N6khBCvXh6fz61RptEs', 'r9VpnAKQDXxeUMUfMniHjrtepnJbqahPcF', {'weight': 17}), ('r9WFkDSZN4bqKtocTdo14bJ9iEhqCczcTc', 'raApKj9xsLGQQ1wnJguBka8F6DRsrDtE5u', {'weight': 30}), ('raApKj9xsLGQQ1wnJguBka8F6DRsrDtE5u', 'r9WFkDSZN4bqKtocTdo14bJ9iEhqCczcTc', {'weight': 19}), ('r9WX3sq783rA2vsVzQF5o94rkCv8g2quVZ', 'rKkGav9bZxZZBujxutPNBsPtHSiREstZps', {'weight': 30}), ('rKkGav9bZxZZBujxutPNBsPtHSiREstZps', 'r9WX3sq783rA2vsVzQF5o94rkCv8g2quVZ', {'weight': 15}), ('r9WmH3wibv5QW4RoCbTbG145wTjRV93MSU', 'rLTyfnxv8tyTfANkWu5EzVNLaRwxwyE4qH', {'weight': 13}), ('rLTyfnxv8tyTfANkWu5EzVNLaRwxwyE4qH', 'r9WmH3wibv5QW4RoCbTbG145wTjRV93MSU', {'weight': 24}), ('r9X4bzpuD4hRrF3vJmXNJehRP6pve3q8E4', 'rnM3AaPF7fp2ySqDWzvBQMRguCDQndniJ5', {'weight': 15}), ('rnM3AaPF7fp2ySqDWzvBQMRguCDQndniJ5', 'r9X4bzpuD4hRrF3vJmXNJehRP6pve3q8E4', {'weight': 27}), ('r9XTgbFQq7bE5CLfwybwBYmRq9Fe2QqzvK', 'rKzqFj6vs1awKZtXkZj7eVc1TwFER2dzta', {'weight': 28}), ('rKzqFj6vs1awKZtXkZj7eVc1TwFER2dzta', 'r9XTgbFQq7bE5CLfwybwBYmRq9Fe2QqzvK', {'weight': 38}), ('r9XVHhnoBAGNtpDjkskGm9ErpQWCR4tNye', 'rs6Te1mHHGHUCVFj1cKLzRvb1qsvrF8xru', {'weight': 22}), ('rs6Te1mHHGHUCVFj1cKLzRvb1qsvrF8xru', 'r9XVHhnoBAGNtpDjkskGm9ErpQWCR4tNye', {'weight': 34}), ('r9XZXDThV8JxVNk6ihxjracem8Udtxc5BX', 'rpeAWkXgcwSRg3NgKJEkDuuZygMqEo2BbX', {'weight': 33}), ('rpeAWkXgcwSRg3NgKJEkDuuZygMqEo2BbX', 'r9XZXDThV8JxVNk6ihxjracem8Udtxc5BX', {'weight': 22}), ('r9XtqfbP1pveGWti3mH3DA57pPsVZ4YbA7', 'rfi3FYEtacVbtodKJVpyS9uMGjtjp7iZHN', {'weight': 93}), ('rfi3FYEtacVbtodKJVpyS9uMGjtjp7iZHN', 'r9XtqfbP1pveGWti3mH3DA57pPsVZ4YbA7', {'weight': 105}), ('r9XufuiZafeQ1WTx16wLqmoW9Pkj6eZz79', 'rULn6yaXQVyu5MKMAvfcRySVC43FXQduap', {'weight': 15}), ('rULn6yaXQVyu5MKMAvfcRySVC43FXQduap', 'r9XufuiZafeQ1WTx16wLqmoW9Pkj6eZz79', {'weight': 27}), ('r9Xvk3EahZDVwNoGKeYbEsnLrgGaugfi9g', 'rHzovNskktJbiFE1aPuyoE1HBGRX5TgQPw', {'weight': 33}), ('rHzovNskktJbiFE1aPuyoE1HBGRX5TgQPw', 'r9Xvk3EahZDVwNoGKeYbEsnLrgGaugfi9g', {'weight': 21}), ('r9XwJzWTTdsgTrrUj9B1jQBKPU8T4yHCsq', 'rGc1iw1iSQQNDHiWyLQJByKM4S6fuWS8D6', {'weight': 26}), ('rGc1iw1iSQQNDHiWyLQJByKM4S6fuWS8D6', 'r9XwJzWTTdsgTrrUj9B1jQBKPU8T4yHCsq', {'weight': 17}), ('r9XyWwGCBAup7p3G5wEZT69eXWqdwFrRiX', 'rBkH94J3rnU12yFufxe7uDrR2bBivYMjFt', {'weight': 32}), ('rBkH94J3rnU12yFufxe7uDrR2bBivYMjFt', 'r9XyWwGCBAup7p3G5wEZT69eXWqdwFrRiX', {'weight': 18}), ('r9YJSCicrH4bV6kMLbLiDUUUh3Es7Qq1qU', 'rfK5HAKUomXgF8Yzh5q5ghUBBqWowVUZsN', {'weight': 22}), ('rfK5HAKUomXgF8Yzh5q5ghUBBqWowVUZsN', 'r9YJSCicrH4bV6kMLbLiDUUUh3Es7Qq1qU', {'weight': 33}), ('r9ZAdEA8q4s2WM9AKuKVXmj3c33Co1EbP2', 'rGNpX6rMUVPiFvKV5YrWR9ZJXEUcZYSNDd', {'weight': 17}), ('rGNpX6rMUVPiFvKV5YrWR9ZJXEUcZYSNDd', 'r9ZAdEA8q4s2WM9AKuKVXmj3c33Co1EbP2', {'weight': 29}), ('r9b3n5teyhbs7XHdLPicDkj4LG4wWkJAVP', 'rGhZtyrByDFUn24WvmqNxm3zdQetzBnYXQ', {'weight': 107}), ('rGhZtyrByDFUn24WvmqNxm3zdQetzBnYXQ', 'r9b3n5teyhbs7XHdLPicDkj4LG4wWkJAVP', {'weight': 97}), ('r9b7sHuPJHLZQFyU2AkhQjzhxY4F1DP5CC', 'rP6CpqEV1L96uuBDcrUqH3BFve8iVFjqjN', {'weight': 16}), ('rP6CpqEV1L96uuBDcrUqH3BFve8iVFjqjN', 'r9b7sHuPJHLZQFyU2AkhQjzhxY4F1DP5CC', {'weight': 30}), ('r9bPeFdzsye9Fp6PvjYrZndUMtV1vD2k9i', 'rvs24oGK5fie6GnsGEhyUAHHNFCnN3qP2', {'weight': 28}), ('rvs24oGK5fie6GnsGEhyUAHHNFCnN3qP2', 'r9bPeFdzsye9Fp6PvjYrZndUMtV1vD2k9i', {'weight': 38}), ('r9bV72HjgDxxvVgeNLoogEunBGz8jQNMXN', 'rLwcrBB5pjVwF5paGx2iEihZZomomAwaNK', {'weight': 26}), ('rLwcrBB5pjVwF5paGx2iEihZZomomAwaNK', 'r9bV72HjgDxxvVgeNLoogEunBGz8jQNMXN', {'weight': 12}), ('r9bkqruxN8xtYBsy3CiTpnT52EtsvfmrC', 'raxGZmkuiSYgnL8nf6wk8mdDHRSU5wH4sz', {'weight': 28}), ('raxGZmkuiSYgnL8nf6wk8mdDHRSU5wH4sz', 'r9bkqruxN8xtYBsy3CiTpnT52EtsvfmrC', {'weight': 18}), ('r9bkst8yXvCyZubP6aaJYFP1Uz1FnZbbUM', 'rGtoZeDE2guPdbo98fzpUK5WYj79XDMviL', {'weight': 21}), ('rGtoZeDE2guPdbo98fzpUK5WYj79XDMviL', 'r9bkst8yXvCyZubP6aaJYFP1Uz1FnZbbUM', {'weight': 30}), ('r9bwFGMtLS4Vd3d2jniNZqEkaLbi4NmFP6', 'rKLS1M6XB6NRVSntA4hUyD5FH5Wh954G6w', {'weight': 43}), ('rKLS1M6XB6NRVSntA4hUyD5FH5Wh954G6w', 'r9bwFGMtLS4Vd3d2jniNZqEkaLbi4NmFP6', {'weight': 34}), ('r9byPaXT6Jf3mLB4Wk5ArXGtbhakwHEsSq', 'rEF9WojopjQTPoGMZNRxY1QZaJSmB2r2DA', {'weight': 22}), ('rEF9WojopjQTPoGMZNRxY1QZaJSmB2r2DA', 'r9byPaXT6Jf3mLB4Wk5ArXGtbhakwHEsSq', {'weight': 32}), ('r9bz53b9M3yRhpbroEZH27kujqsdDu998p', 'rsag12f7Br75q9M4pwRLomEQuSg7CMiSAM', {'weight': 12}), ('rsag12f7Br75q9M4pwRLomEQuSg7CMiSAM', 'r9bz53b9M3yRhpbroEZH27kujqsdDu998p', {'weight': 23}), ('r9cQaNnye9cZdK4Wb5R1VpE7whw6wtUsUF', 'rED8uUy4i6nyPiNxaR48skauY7NHyLCeEE', {'weight': 35}), ('rED8uUy4i6nyPiNxaR48skauY7NHyLCeEE', 'r9cQaNnye9cZdK4Wb5R1VpE7whw6wtUsUF', {'weight': 26}), ('r9cXyF4RrWQkAZDzzJyt4GHteX9hfgySZ', 'rwcyDPXaCa7pR2BKVPp7tkqmJXMSqv1oUi', {'weight': 33}), ('rwcyDPXaCa7pR2BKVPp7tkqmJXMSqv1oUi', 'r9cXyF4RrWQkAZDzzJyt4GHteX9hfgySZ', {'weight': 41}), ('r9crWp93Hgpp1b37VPTZubWfz3RVppuN93', 'rPhsH79qRexomU6y7NPsoKGzpdTtBFDswK', {'weight': 43}), ('rPhsH79qRexomU6y7NPsoKGzpdTtBFDswK', 'r9crWp93Hgpp1b37VPTZubWfz3RVppuN93', {'weight': 31}), ('r9d39grHqj2WvV1M7HEVap8YfSA8tvbRPh', 'raXjuefrEYqsxaNW8prz9TX13Gw54ZfP6i', {'weight': 28}), ('raXjuefrEYqsxaNW8prz9TX13Gw54ZfP6i', 'r9d39grHqj2WvV1M7HEVap8YfSA8tvbRPh', {'weight': 38}), ('r9dYu8f2VNwcBmxrMng2CRAip6i838sLUK', 'rHTZ5s1fkrjRWx38kLTtKZzKmvLPFaM738', {'weight': 17}), ('rHTZ5s1fkrjRWx38kLTtKZzKmvLPFaM738', 'r9dYu8f2VNwcBmxrMng2CRAip6i838sLUK', {'weight': 34}), ('r9dZD4acSNL13SpvA9vFrbezdVC6ctzQSX', 'rP2EvPCbdcv59k5DeSNtDRdnvEn7zMUFoa', {'weight': 35}), ('rP2EvPCbdcv59k5DeSNtDRdnvEn7zMUFoa', 'r9dZD4acSNL13SpvA9vFrbezdVC6ctzQSX', {'weight': 24}), ('r9dxRfp7AZLBwRk6f7LrTQNgqFiBzGPRSp', 'rGzHjJk3iHViSmNiPyCf4WtTYWMZQtg8fP', {'weight': 37}), ('rGzHjJk3iHViSmNiPyCf4WtTYWMZQtg8fP', 'r9dxRfp7AZLBwRk6f7LrTQNgqFiBzGPRSp', {'weight': 46}), ('r9dxft5mcoH3JKDvN7wxBY1Q6qWv5ncYnK', 'rUNhkoNvfrvEkmv9d7uKMECckrw6sPYozi', {'weight': 22}), ('rUNhkoNvfrvEkmv9d7uKMECckrw6sPYozi', 'r9dxft5mcoH3JKDvN7wxBY1Q6qWv5ncYnK', {'weight': 32}), ('r9eDkGKWk37FySiaz3VSFihpArjhkMgSkz', 'r9wNo9PSHKZJkWCV8Y8FNWbs8Mt6ZDVeqt', {'weight': 28}), ('r9wNo9PSHKZJkWCV8Y8FNWbs8Mt6ZDVeqt', 'r9eDkGKWk37FySiaz3VSFihpArjhkMgSkz', {'weight': 18}), ('r9eHNZPbLMD8wnKRSefC4z71jwUnSiHy5H', 'rnq7Di7HtwDVhbbbs4oVtPNYd2oXzdzJ1e', {'weight': 21}), ('rnq7Di7HtwDVhbbbs4oVtPNYd2oXzdzJ1e', 'r9eHNZPbLMD8wnKRSefC4z71jwUnSiHy5H', {'weight': 31}), ('r9eRpJGuPvFM865M7VgTacLmBJzGBSJHsB', 'rBdsVBr5MXTnFDR2PE5fxeaikWVHFCPDYS', {'weight': 16}), ('rBdsVBr5MXTnFDR2PE5fxeaikWVHFCPDYS', 'r9eRpJGuPvFM865M7VgTacLmBJzGBSJHsB', {'weight': 31}), ('r9eV1QxvxzQuWDbqLL7wytTsu5y9iJyqW8', 'rTiP281BLMHjBD4fHGHLMZvBN7EQ1FZys', {'weight': 20}), ('rTiP281BLMHjBD4fHGHLMZvBN7EQ1FZys', 'r9eV1QxvxzQuWDbqLL7wytTsu5y9iJyqW8', {'weight': 31}), ('r9eX3o9TtkaapG1ryyN85HbjsJzANcMxBV', 'rhA9RmXaaaoeNndV41NcULFEkarCYN96Cq', {'weight': 28}), ('rhA9RmXaaaoeNndV41NcULFEkarCYN96Cq', 'r9eX3o9TtkaapG1ryyN85HbjsJzANcMxBV', {'weight': 38}), ('r9ecEQW4F31JsEh2qQqxW5kEkHu5XfrybS', 'rU75oYBWoWKR1shSr51FNXCCeWpMRJ6Uvr', {'weight': 20}), ('rU75oYBWoWKR1shSr51FNXCCeWpMRJ6Uvr', 'r9ecEQW4F31JsEh2qQqxW5kEkHu5XfrybS', {'weight': 30}), ('r9fAN7xWgwiEVVbUnhorimfCwWyNUifABt', 'rseEtW494Ka2NeRoDNMrcirUbGZn5H6Z6R', {'weight': 105}), ('rseEtW494Ka2NeRoDNMrcirUbGZn5H6Z6R', 'r9fAN7xWgwiEVVbUnhorimfCwWyNUifABt', {'weight': 93}), ('r9fUfuSoMFFGNxP5eHXPK6THLfb76QB8hn', 'rGEqNZ2xVGdsMEoNPc7xPBh7AkHMgkXrct', {'weight': 28}), ('rGEqNZ2xVGdsMEoNPc7xPBh7AkHMgkXrct', 'r9fUfuSoMFFGNxP5eHXPK6THLfb76QB8hn', {'weight': 15}), ('r9fZnVWBCck57kG97uaXLUs4eWUzKTKeWC', 'rNJzAZjnMdKPu11AEz4NpTNKyNvJkuvqxr', {'weight': 93}), ('rNJzAZjnMdKPu11AEz4NpTNKyNvJkuvqxr', 'r9fZnVWBCck57kG97uaXLUs4eWUzKTKeWC', {'weight': 75}), ('r9fnrnwwQzQJGvDA2izLHXnzxVWytQMWdk', 'rKCMSN1rjw1Wu3gu3X4kDAre9aTzSKMaYu', {'weight': 19}), ('rKCMSN1rjw1Wu3gu3X4kDAre9aTzSKMaYu', 'r9fnrnwwQzQJGvDA2izLHXnzxVWytQMWdk', {'weight': 28}), ('r9fxuSVKCP6z4YEYE4BHEbHipkBmbtJivg', 'rK3nXtdDcPwtxejAfW45ybKKsxuUgUx23J', {'weight': 16}), ('rK3nXtdDcPwtxejAfW45ybKKsxuUgUx23J', 'r9fxuSVKCP6z4YEYE4BHEbHipkBmbtJivg', {'weight': 117}), ('r9fzoieeu8zayEWruz5ZwbxCPNZ2wx2bvw', 'rpDPUjkcStP1PfUZybEaJa5ohxcKSMzd7y', {'weight': 41}), ('rpDPUjkcStP1PfUZybEaJa5ohxcKSMzd7y', 'r9fzoieeu8zayEWruz5ZwbxCPNZ2wx2bvw', {'weight': 32}), ('r9g1CNgRi8LAEQQtP5xYHyquyfHC2CHefz', 'rD1br2jk38asxefXie9j8TkBsQrDbMvAfa', {'weight': 12}), ('rD1br2jk38asxefXie9j8TkBsQrDbMvAfa', 'r9g1CNgRi8LAEQQtP5xYHyquyfHC2CHefz', {'weight': 28}), ('r9gJGjPVtqECBkY7EhBKP9kjibdmnkvsTK', 'rHQW3MsWXnWDuz2h3XoQoHsTKJUU5A3Vr6', {'weight': 22}), ('rHQW3MsWXnWDuz2h3XoQoHsTKJUU5A3Vr6', 'r9gJGjPVtqECBkY7EhBKP9kjibdmnkvsTK', {'weight': 33}), ('r9gpMf7XxAJEjJcwSCjKkY7xXTXi1xorzg', 'rBjQxBecpo5YpSfaF3dP8m1LHbNmZSZwxS', {'weight': 24}), ('rBjQxBecpo5YpSfaF3dP8m1LHbNmZSZwxS', 'r9gpMf7XxAJEjJcwSCjKkY7xXTXi1xorzg', {'weight': 34}), ('r9gzE6i5eMJUXhB7ZNmiGzaV8mkWWKku7c', 'rpYGLRJQ9kVvsdpsLE2trpc3tFVgQ7aemX', {'weight': 31}), ('rpYGLRJQ9kVvsdpsLE2trpc3tFVgQ7aemX', 'r9gzE6i5eMJUXhB7ZNmiGzaV8mkWWKku7c', {'weight': 22}), ('r9gzWCQoUMWdv1w1imxJnfTsi2v9hxmR1n', 'rD5j3k5oButFhSgX8eZzQHeGSNNqtYd5af', {'weight': 34}), ('rD5j3k5oButFhSgX8eZzQHeGSNNqtYd5af', 'r9gzWCQoUMWdv1w1imxJnfTsi2v9hxmR1n', {'weight': 43}), ('r9hRp49QLeddtxUs2r3PhqtLQAFZD9AiEa', 'ra3PQM726Nqzh1ahgJh5Fr7To3DA8o8Zpb', {'weight': 16}), ('ra3PQM726Nqzh1ahgJh5Fr7To3DA8o8Zpb', 'r9hRp49QLeddtxUs2r3PhqtLQAFZD9AiEa', {'weight': 25}), ('r9iThAaESquweuVUtxJCzRBuxGCUE9WSwy', 'rE3yVZY4ZpmpUXqFPGgiNGBUtYMoYQ2xZC', {'weight': 19}), ('rE3yVZY4ZpmpUXqFPGgiNGBUtYMoYQ2xZC', 'r9iThAaESquweuVUtxJCzRBuxGCUE9WSwy', {'weight': 29}), ('r9jTThkvbHu2E1s62ZRVMkA2bqoUiYcBMa', 'rEnKwXJVjBw3EeR6CXwR6unhU7jqP9TVBU', {'weight': 32}), ('rEnKwXJVjBw3EeR6CXwR6unhU7jqP9TVBU', 'r9jTThkvbHu2E1s62ZRVMkA2bqoUiYcBMa', {'weight': 41}), ('r9jeeQTbLsxzsDn7US7kQyfZgn5ULFWHRq', 'rrpeYMu3P841FkZN4oM1RAPQBQVZdW59gW', {'weight': 31}), ('rrpeYMu3P841FkZN4oM1RAPQBQVZdW59gW', 'r9jeeQTbLsxzsDn7US7kQyfZgn5ULFWHRq', {'weight': 21}), ('r9jzHUxAAkqo1TW3XKzBEMe2xjFpuxspzt', 'ravBHCzeLFUSadqSczRsXwZ2e1tyNRpw2u', {'weight': 22}), ('ravBHCzeLFUSadqSczRsXwZ2e1tyNRpw2u', 'r9jzHUxAAkqo1TW3XKzBEMe2xjFpuxspzt', {'weight': 13}), ('r9kBeG8DXq7yLBPVLA2SJdfde97cHYAYDW', 'rfrvUeBG7E1e8jYuUkGcP25htiPmZQp4Eh', {'weight': 39}), ('rfrvUeBG7E1e8jYuUkGcP25htiPmZQp4Eh', 'r9kBeG8DXq7yLBPVLA2SJdfde97cHYAYDW', {'weight': 27}), ('r9kVNwLh5UwocRYeSyqvfcGBcuJNtyYSKa', 'rQUwodRdaAshJmU2szMwZ6e2XQrMzj9vyh', {'weight': 37}), ('rQUwodRdaAshJmU2szMwZ6e2XQrMzj9vyh', 'r9kVNwLh5UwocRYeSyqvfcGBcuJNtyYSKa', {'weight': 46}), ('r9kXnDTQzo4u8S9bpFf7tDudCTmv9UScej', 'rfCmbuBtYhUXe4prf6y4iZRy9iqNTwas6D', {'weight': 33}), ('rfCmbuBtYhUXe4prf6y4iZRy9iqNTwas6D', 'r9kXnDTQzo4u8S9bpFf7tDudCTmv9UScej', {'weight': 17}), ('r9mXLe6NvdRhHVaPuQYdUxtm3HF5iCrk88', 'rGJu3LAC9SoqGV2R8AFKgZgsbRwnbzrPkQ', {'weight': 15}), ('rGJu3LAC9SoqGV2R8AFKgZgsbRwnbzrPkQ', 'r9mXLe6NvdRhHVaPuQYdUxtm3HF5iCrk88', {'weight': 29}), ('r9mxMVDMvje6n3NpbFJc8EvtD2TCmo2QK7', 'rEjnSubdjGCkeGt8ZyhVEwcMPKdHcy6C1g', {'weight': 31}), ('rEjnSubdjGCkeGt8ZyhVEwcMPKdHcy6C1g', 'r9mxMVDMvje6n3NpbFJc8EvtD2TCmo2QK7', {'weight': 16}), ('r9n6z237kFVMexqnPxXjC3XcMqkFSVRTnE', 'rfD5jeS6ckjLhxFjb7Q2cm1GtgBRfBDZyF', {'weight': 16}), ('rfD5jeS6ckjLhxFjb7Q2cm1GtgBRfBDZyF', 'r9n6z237kFVMexqnPxXjC3XcMqkFSVRTnE', {'weight': 28}), ('r9nVo2ASbXjy3wJjCRJcQhCGmcJyXwAbCp', 'r9xdFBoFg9J7Nhzhg1ifGMH6E2zRzD4oou', {'weight': 96}), ('r9xdFBoFg9J7Nhzhg1ifGMH6E2zRzD4oou', 'r9nVo2ASbXjy3wJjCRJcQhCGmcJyXwAbCp', {'weight': 82}), ('r9nWpFH2ye4NdyymFUyWbTiHkwdbN9mW5P', 'rwnYAbwpt1JnQsXWnMZKrQChmyiL8s1wE7', {'weight': 33}), ('rwnYAbwpt1JnQsXWnMZKrQChmyiL8s1wE7', 'r9nWpFH2ye4NdyymFUyWbTiHkwdbN9mW5P', {'weight': 22}), ('r9nYtaA28qAJtJKSBc7fQaJnGxFVP6WhTr', 'rs9tejmEf4Fq6NB7hPekzsaV3U3Gn7Gsco', {'weight': 14}), ('rs9tejmEf4Fq6NB7hPekzsaV3U3Gn7Gsco', 'r9nYtaA28qAJtJKSBc7fQaJnGxFVP6WhTr', {'weight': 28}), ('r9nhpeAcgvKah4WoWBiJEtWY37CJoBN79Y', 'ra3dW1TNyiRxHmDLcK1QBqu7iNUadWnTfA', {'weight': 41}), ('ra3dW1TNyiRxHmDLcK1QBqu7iNUadWnTfA', 'r9nhpeAcgvKah4WoWBiJEtWY37CJoBN79Y', {'weight': 30}), ('r9nsUuTJML88dV9uWrvn3NVZECELSibdyk', 'rEJLDqQ6vxtyaXGt35icLUn53sWRmxzMss', {'weight': 27}), ('rEJLDqQ6vxtyaXGt35icLUn53sWRmxzMss', 'r9nsUuTJML88dV9uWrvn3NVZECELSibdyk', {'weight': 18}), ('r9oZipKYPLitSMM7NhFfozyBqSBzBonNhN', 'rBwYexdyJHaP4zapNcVmXQa1LvbnMATMuM', {'weight': 70}), ('rBwYexdyJHaP4zapNcVmXQa1LvbnMATMuM', 'r9oZipKYPLitSMM7NhFfozyBqSBzBonNhN', {'weight': 44}), ('r9p7SnCA2rbGz1Cy1RBEredwjE9DMqpXeJ', 'rUnHBH31UEsCLp4VHmfeS79KmZQNrs2Q8i', {'weight': 29}), ('rUnHBH31UEsCLp4VHmfeS79KmZQNrs2Q8i', 'r9p7SnCA2rbGz1Cy1RBEredwjE9DMqpXeJ', {'weight': 16}), ('r9pFT2Uc6bPdWvmNRyc5m7bPGo4dbudxaS', 'rK4jLCsAZymeu8fpsKjrfy65ctFbTM85De', {'weight': 26}), ('rK4jLCsAZymeu8fpsKjrfy65ctFbTM85De', 'r9pFT2Uc6bPdWvmNRyc5m7bPGo4dbudxaS', {'weight': 13}), ('r9pLzzpY4z3sjeCB9z5CttCwNgHTM1Ex1H', 'rp4AS88d7MxVEVaqAEW2oy4nod3isJV4dx', {'weight': 40}), ('rp4AS88d7MxVEVaqAEW2oy4nod3isJV4dx', 'r9pLzzpY4z3sjeCB9z5CttCwNgHTM1Ex1H', {'weight': 32}), ('r9qCdtYpXySKeMrBhmHumGP1SwVYzjAY9w', 'rBY1v1FwtUNbsjMBwbJvbW1mznKkxVhcvL', {'weight': 11}), ('rBY1v1FwtUNbsjMBwbJvbW1mznKkxVhcvL', 'r9qCdtYpXySKeMrBhmHumGP1SwVYzjAY9w', {'weight': 21}), ('r9qhm8ZpvKUN83bJgH3KzbyVMh7qKx8DVK', 'rDkKnzfY6vQ4UJbE6xvRKNxw99qdW8dfnk', {'weight': 94}), ('rDkKnzfY6vQ4UJbE6xvRKNxw99qdW8dfnk', 'r9qhm8ZpvKUN83bJgH3KzbyVMh7qKx8DVK', {'weight': 106}), ('r9qs3rSq6g8r9JvCNd2661SxW13beyK7DX', 'rPdjNC2MPwMKz9zqpH3yLdCChc5r4aU4F6', {'weight': 90}), ('rPdjNC2MPwMKz9zqpH3yLdCChc5r4aU4F6', 'r9qs3rSq6g8r9JvCNd2661SxW13beyK7DX', {'weight': 74}), ('r9rf3XUf6b2X2Wu4Z9abtP9HK6H4GGXGJY', 'rNzrVgczYZXqJ3dvX6E6A9Q7tbD36Y3xC8', {'weight': 17}), ('rNzrVgczYZXqJ3dvX6E6A9Q7tbD36Y3xC8', 'r9rf3XUf6b2X2Wu4Z9abtP9HK6H4GGXGJY', {'weight': 30}), ('r9sCDQ3wwZdnMM2qK1fjug493JTL5smcKB', 'rnsqvkqoaigzZnEyuVu23Gm9zbnxzjGMfY', {'weight': 35}), ('rnsqvkqoaigzZnEyuVu23Gm9zbnxzjGMfY', 'r9sCDQ3wwZdnMM2qK1fjug493JTL5smcKB', {'weight': 23}), ('r9sHe6ZVjEwVQwRfewQEMWmMFrSHHLgSBG', 'raA18MTBcPUhMGsB29ujzTEjn5gagCD1cf', {'weight': 17}), ('raA18MTBcPUhMGsB29ujzTEjn5gagCD1cf', 'r9sHe6ZVjEwVQwRfewQEMWmMFrSHHLgSBG', {'weight': 28}), ('r9sHvDjH5fQegECqFRzhhmByixwk135ciS', 'rf9MiXhYZoZcp1LnMc2RbuT6bbKEDcxKKh', {'weight': 16}), ('rf9MiXhYZoZcp1LnMc2RbuT6bbKEDcxKKh', 'r9sHvDjH5fQegECqFRzhhmByixwk135ciS', {'weight': 27}), ('r9sRqTa8etAPXvJgxB1LxCZD8twhNmGBD8', 'rD2LC8QvKxsiijUXi4QaGG2CWfCHdxqqGu', {'weight': 29}), ('rD2LC8QvKxsiijUXi4QaGG2CWfCHdxqqGu', 'r9sRqTa8etAPXvJgxB1LxCZD8twhNmGBD8', {'weight': 17}), ('r9sXFc34geW95o3neF1kRtdY4rjv9dSqBi', 'rGsbeTLz8XZRMUH1Jz44connFuHuZAxxk4', {'weight': 31}), ('rGsbeTLz8XZRMUH1Jz44connFuHuZAxxk4', 'r9sXFc34geW95o3neF1kRtdY4rjv9dSqBi', {'weight': 18}), ('r9sbxLHUySH1JRZALp6DJCeCQeuAg9UJD7', 'rMxF3fdUkTFpAG94VAfo8QVvFDR82n4C29', {'weight': 31}), ('rMxF3fdUkTFpAG94VAfo8QVvFDR82n4C29', 'r9sbxLHUySH1JRZALp6DJCeCQeuAg9UJD7', {'weight': 14}), ('r9sg11vRm2aTFUjGhp4pqxF1acPgJQBDVW', 'rHzacRWGzjyyuxwLwgCJe3HhdRQPhZpojQ', {'weight': 16}), ('rHzacRWGzjyyuxwLwgCJe3HhdRQPhZpojQ', 'r9sg11vRm2aTFUjGhp4pqxF1acPgJQBDVW', {'weight': 30}), ('r9sjU14L5butBHVP5pECLYBzTSW3aLAWJW', 'rn5EqP7SAkYjfASfb9rDyPiH5tvLHJtoJJ', {'weight': 42}), ('rn5EqP7SAkYjfASfb9rDyPiH5tvLHJtoJJ', 'r9sjU14L5butBHVP5pECLYBzTSW3aLAWJW', {'weight': 34}), ('r9t6sQycmQR4JfZvKLkaPUhyDrqdWCkMVz', 'rLfQkdXuFsWBLzsU7RMFmVBpToaGuZuwis', {'weight': 22}), ('rLfQkdXuFsWBLzsU7RMFmVBpToaGuZuwis', 'r9t6sQycmQR4JfZvKLkaPUhyDrqdWCkMVz', {'weight': 33}), ('r9tBVDpGFeRcRfGRvT142fag2MPqEPfd1H', 'rHX4z8Sq85naXu3sgjRA6gCVdRAGMiZQdX', {'weight': 36}), ('rHX4z8Sq85naXu3sgjRA6gCVdRAGMiZQdX', 'r9tBVDpGFeRcRfGRvT142fag2MPqEPfd1H', {'weight': 22}), ('r9tCdE3NeiN74irg57siPzpNRmwVrEhPCr', 'rBte7LP8mzsgnKrBKmAtZ6G1ayETbtMqNp', {'weight': 14}), ('rBte7LP8mzsgnKrBKmAtZ6G1ayETbtMqNp', 'r9tCdE3NeiN74irg57siPzpNRmwVrEhPCr', {'weight': 27}), ('r9tbAsiUgpSrhYC8nunxZ7qEF6ANrYiZxn', 'rBE7oweL976WkpsV6GDJLYQeREGa4ty6Fh', {'weight': 32}), ('rBE7oweL976WkpsV6GDJLYQeREGa4ty6Fh', 'r9tbAsiUgpSrhYC8nunxZ7qEF6ANrYiZxn', {'weight': 22}), ('r9tcgfCW55pq8ys7N6xtbPRsHNFMB5ViTB', 'rDFPbxWZmkzBSqhmU4egpw68Gv7gfULxGP', {'weight': 40}), ('rDFPbxWZmkzBSqhmU4egpw68Gv7gfULxGP', 'r9tcgfCW55pq8ys7N6xtbPRsHNFMB5ViTB', {'weight': 30}), ('r9uFuhBeDXaihfgP6tajhp2nn8FRVV1GFN', 'rJ8SFLuG74S1hNhME8JNR7Jo1jWnSPEUaS', {'weight': 23}), ('rJ8SFLuG74S1hNhME8JNR7Jo1jWnSPEUaS', 'r9uFuhBeDXaihfgP6tajhp2nn8FRVV1GFN', {'weight': 14}), ('r9uHcwEbVawDFX6nBPiVVXbvRc37yyLTk7', 'rnfPQnhfpXuyfJJEv1L7fThtfGsTbAUsWC', {'weight': 28}), ('rnfPQnhfpXuyfJJEv1L7fThtfGsTbAUsWC', 'r9uHcwEbVawDFX6nBPiVVXbvRc37yyLTk7', {'weight': 18}), ('r9v3XpwdxTerRWTo7mWbhSsbLb1EJaWLFA', 'rDwLrFiafnM4zcnoso7ZUnF73JBxBekn6o', {'weight': 41}), ('rDwLrFiafnM4zcnoso7ZUnF73JBxBekn6o', 'r9v3XpwdxTerRWTo7mWbhSsbLb1EJaWLFA', {'weight': 33}), ('r9vqTCzuzNitvwfujSz5GnVGEzyBeqUpo8', 'rDyjjGM9EQR9bMGv7DAztfcjv4jDaRuV37', {'weight': 30}), ('rDyjjGM9EQR9bMGv7DAztfcjv4jDaRuV37', 'r9vqTCzuzNitvwfujSz5GnVGEzyBeqUpo8', {'weight': 21}), ('r9vzLBFuuF2aJufLuJAKC9MoaBuXryhsr', 'rLJFo5gArhcSZLM41MD9HzfH4gcCD3KXRu', {'weight': 39}), ('rLJFo5gArhcSZLM41MD9HzfH4gcCD3KXRu', 'r9vzLBFuuF2aJufLuJAKC9MoaBuXryhsr', {'weight': 29}), ('r9w8eR8S4KLxooHUBREj1AG5VtdfpsvnfG', 'rNpeNspHcx3MfeQdEMGx9PcavwAiuDkhR5', {'weight': 28}), ('rNpeNspHcx3MfeQdEMGx9PcavwAiuDkhR5', 'r9w8eR8S4KLxooHUBREj1AG5VtdfpsvnfG', {'weight': 17}), ('r9wgMPWvzFmCwyMWMRZr7XbY3a1cGPnauM', 'rSYNgTErej2o45VaDAYXcKMMnsvbtxxSC', {'weight': 31}), ('rSYNgTErej2o45VaDAYXcKMMnsvbtxxSC', 'r9wgMPWvzFmCwyMWMRZr7XbY3a1cGPnauM', {'weight': 20}), ('r9wkEFyT16JAwB6ra6QQ29UFS2VdQpiUma', 'rwXoedzD2JmbV7xyzKydDXCZntEfHWSEQi', {'weight': 31}), ('rwXoedzD2JmbV7xyzKydDXCZntEfHWSEQi', 'r9wkEFyT16JAwB6ra6QQ29UFS2VdQpiUma', {'weight': 21}), ('r9x2YMKskGioCae11P5GVWsi35PFaveDp9', 'rKr9abv1FBrA9RRdJKVnXKPWhos7rKLvLB', {'weight': 25}), ('rKr9abv1FBrA9RRdJKVnXKPWhos7rKLvLB', 'r9x2YMKskGioCae11P5GVWsi35PFaveDp9', {'weight': 36}), ('r9xLzjEiBKnn756jH7DLtvWT2waAbnE9CS', 'rsAatiR7Vcx9ZsTMvWYhKzqnvspsqU3uvU', {'weight': 23}), ('rsAatiR7Vcx9ZsTMvWYhKzqnvspsqU3uvU', 'r9xLzjEiBKnn756jH7DLtvWT2waAbnE9CS', {'weight': 33}), ('r9xTkwCuiKu7ZYUyPpMDTE6hBbtRF8HV6r', 'rGfJ2ePeEXPyAL4jvF18sFEaYxDpwdNfDm', {'weight': 46}), ('rGfJ2ePeEXPyAL4jvF18sFEaYxDpwdNfDm', 'r9xTkwCuiKu7ZYUyPpMDTE6hBbtRF8HV6r', {'weight': 37}), ('r9xuz5K7cGFcd6YYMEQPt5hR595CE2RuNs', 'rKSWT3ss9X6AkAKsM5f6suHFV8XDdXYZy8', {'weight': 55}), ('rKSWT3ss9X6AkAKsM5f6suHFV8XDdXYZy8', 'r9xuz5K7cGFcd6YYMEQPt5hR595CE2RuNs', {'weight': 78}), ('r9yVWNpBJ7kHuAdp64MJiq9z1nXcusESgQ', 'rse9jGJyLmxixncLpdKoMS1KrqeqURKh5e', {'weight': 34}), ('rse9jGJyLmxixncLpdKoMS1KrqeqURKh5e', 'r9yVWNpBJ7kHuAdp64MJiq9z1nXcusESgQ', {'weight': 22}), ('r9yZV2xcfMubjTcRkaddk79Hn9QMjdnCgv', 'racy9iWgw5eba7SMdjw5XYsbkvAaQW7AQh', {'weight': 35}), ('racy9iWgw5eba7SMdjw5XYsbkvAaQW7AQh', 'r9yZV2xcfMubjTcRkaddk79Hn9QMjdnCgv', {'weight': 25}), ('r9zKJ84ai86UjgTU2UMMiCpr7MkRBTXrSG', 'rwQG53ryqqgViPsD9VhpUZ4j7hvuh8SQqW', {'weight': 36}), ('rwQG53ryqqgViPsD9VhpUZ4j7hvuh8SQqW', 'r9zKJ84ai86UjgTU2UMMiCpr7MkRBTXrSG', {'weight': 46}), ('r9zMAp6eQtm8cnQ2RqD7qfQXDfAR8Vbrc6', 'rNnpL6PkgACLD2SSkzjyLRFyfuaZzaQKHP', {'weight': 19}), ('rNnpL6PkgACLD2SSkzjyLRFyfuaZzaQKHP', 'r9zMAp6eQtm8cnQ2RqD7qfQXDfAR8Vbrc6', {'weight': 33}), ('r9zNQNWeZP275Z7QYVHwYLXqcM2CaZHjQb', 'rfZX4zAcLGXnQx1DM2P7Eiuyf2Ut3uXeKc', {'weight': 20}), ('rfZX4zAcLGXnQx1DM2P7Eiuyf2Ut3uXeKc', 'r9zNQNWeZP275Z7QYVHwYLXqcM2CaZHjQb', {'weight': 31}), ('r9zPQXqFnYDsiKU81foqRmgtxf8V3FBdf1', 'rLtgxRoFktvVYoSnUPJok9yTkoPcSKXJ65', {'weight': 36}), ('rLtgxRoFktvVYoSnUPJok9yTkoPcSKXJ65', 'r9zPQXqFnYDsiKU81foqRmgtxf8V3FBdf1', {'weight': 44}), ('rAZiTpdC8tEG3mCjmwNz4ymPZrVXBYHrP', 'rUQRYQbfBxT9WLNCwrRvMbDddGpgjDRyQe', {'weight': 19}), ('rUQRYQbfBxT9WLNCwrRvMbDddGpgjDRyQe', 'rAZiTpdC8tEG3mCjmwNz4ymPZrVXBYHrP', {'weight': 35}), ('rB1TinmZJ2A7WWicxUPHrWyBvnBeytpK56', 'rJYCwSYCN6xY5eTV9dcEipUWQCA4VvsifU', {'weight': 24}), ('rJYCwSYCN6xY5eTV9dcEipUWQCA4VvsifU', 'rB1TinmZJ2A7WWicxUPHrWyBvnBeytpK56', {'weight': 36}), ('rB1V8C927Hy7aVG3PG86nKcRFE1jbZKoAp', 'rBKJ3WREeow3MXkjtLwxQvNXYSeSKgnDsM', {'weight': 29}), ('rBKJ3WREeow3MXkjtLwxQvNXYSeSKgnDsM', 'rB1V8C927Hy7aVG3PG86nKcRFE1jbZKoAp', {'weight': 16}), ('rB23d8f7tuCDtHLimrX1TAKzY4FcUAJZbx', 'rXuE7acrTx6Ewvs93k1cFvVpkzUsEepHL', {'weight': 16}), ('rXuE7acrTx6Ewvs93k1cFvVpkzUsEepHL', 'rB23d8f7tuCDtHLimrX1TAKzY4FcUAJZbx', {'weight': 29}), ('rB2iVobMXU9C3CiMtBpMvJQYXcSkrEpgFS', 'rFyv2KMbWcshYgAs7Y6fCZ8eTFqgE7kom', {'weight': 36}), ('rFyv2KMbWcshYgAs7Y6fCZ8eTFqgE7kom', 'rB2iVobMXU9C3CiMtBpMvJQYXcSkrEpgFS', {'weight': 46}), ('rB2mz7fVsdro5vkwMz46TaBT6yMmnGHpiu', 'rnN7RPyirC3fzYyj5gkxGTv1UtWc6Wj2Sr', {'weight': 58}), ('rnN7RPyirC3fzYyj5gkxGTv1UtWc6Wj2Sr', 'rB2mz7fVsdro5vkwMz46TaBT6yMmnGHpiu', {'weight': 80}), ('rB2qajqTuC2io6HE326wYNeHZ8RMr2Lek6', 'rBQ2rQn5BW8nFsjy1ueqW12Z3e2ruoATsz', {'weight': 24}), ('rBQ2rQn5BW8nFsjy1ueqW12Z3e2ruoATsz', 'rB2qajqTuC2io6HE326wYNeHZ8RMr2Lek6', {'weight': 36}), ('rB3nag8yxX4Gw5m7T3gpsi9rV7KxPrNMSf', 'rDn2CkkWucaoTf98LwZ6cAxgFzBRu8yG4P', {'weight': 23}), ('rDn2CkkWucaoTf98LwZ6cAxgFzBRu8yG4P', 'rB3nag8yxX4Gw5m7T3gpsi9rV7KxPrNMSf', {'weight': 37}), ('rB473EvMndyPMM41YmAdB22fHBgDkEUjNp', 'rfP17ERrfgmJiYxdmbyiyxAZ6kULJMiahE', {'weight': 41}), ('rfP17ERrfgmJiYxdmbyiyxAZ6kULJMiahE', 'rB473EvMndyPMM41YmAdB22fHBgDkEUjNp', {'weight': 31}), ('rB4sdRn9UrXt2urhA4uWbWoE4VmqD6RR8C', 'rnHtnKjYoTkW63yRbBrWvqDg9bgsfdqxz7', {'weight': 13}), ('rnHtnKjYoTkW63yRbBrWvqDg9bgsfdqxz7', 'rB4sdRn9UrXt2urhA4uWbWoE4VmqD6RR8C', {'weight': 22}), ('rB5X9d4zo2x7RXBL3jZbWcUEo1dVZYdoV5', 'rLeRJu8YNALZ6Zjw87LtcYJBHa51T9GsM2', {'weight': 39}), ('rLeRJu8YNALZ6Zjw87LtcYJBHa51T9GsM2', 'rB5X9d4zo2x7RXBL3jZbWcUEo1dVZYdoV5', {'weight': 29}), ('rB63cRdGr8ScUwv6FMNp71fcZiLi2PXzhe', 'rLr1Z1RdnjcQ5PtCp3g8FJmeKsq6vHZ3Qs', {'weight': 36}), ('rLr1Z1RdnjcQ5PtCp3g8FJmeKsq6vHZ3Qs', 'rB63cRdGr8ScUwv6FMNp71fcZiLi2PXzhe', {'weight': 22}), ('rB68c5Ud5PrXj9HUUszAFqJ8tyN1A1rXBX', 'rp3LZaGdoYPuvreTCFj3GyWMdfzWJ3vbZk', {'weight': 34}), ('rp3LZaGdoYPuvreTCFj3GyWMdfzWJ3vbZk', 'rB68c5Ud5PrXj9HUUszAFqJ8tyN1A1rXBX', {'weight': 25}), ('rB6AFbPLdvgzkk83hknphUk3b9A6FhE2Cu', 'rUeZPR28NLmA6YzWSuJFaPY6iaaMFzi5XQ', {'weight': 29}), ('rUeZPR28NLmA6YzWSuJFaPY6iaaMFzi5XQ', 'rB6AFbPLdvgzkk83hknphUk3b9A6FhE2Cu', {'weight': 14}), ('rB6v6TvtPy3C9NezfNDDBtdsxR9gUsJuCX', 'rGJLuvLyJrowkpmLLVQEaKVKEfL5hNR2hq', {'weight': 20}), ('rGJLuvLyJrowkpmLLVQEaKVKEfL5hNR2hq', 'rB6v6TvtPy3C9NezfNDDBtdsxR9gUsJuCX', {'weight': 31}), ('rB78NSQYbc4p945yYcikv99Bs4C2hpMKxc', 'rURafBi2xvmxerMDSibDWGfnEF2UJ6Drqc', {'weight': 30}), ('rURafBi2xvmxerMDSibDWGfnEF2UJ6Drqc', 'rB78NSQYbc4p945yYcikv99Bs4C2hpMKxc', {'weight': 17}), ('rB7ECHEh2xQQWsLXKJX9xa222FPz5F4Myh', 'rB98wjFg5XDyTzoszcJcXYroZdjVBhmUBs', {'weight': 24}), ('rB98wjFg5XDyTzoszcJcXYroZdjVBhmUBs', 'rB7ECHEh2xQQWsLXKJX9xa222FPz5F4Myh', {'weight': 36}), ('rB7PQBAeE7yvYJonPNHPq1rc6izHh2PDiA', 'rsKupWkLDVNHooCAqeYVjrQpYy7UKcpNN3', {'weight': 27}), ('rsKupWkLDVNHooCAqeYVjrQpYy7UKcpNN3', 'rB7PQBAeE7yvYJonPNHPq1rc6izHh2PDiA', {'weight': 37}), ('rB7WjavQ4Rxjm7vtiNZWunhPZXuequKemd', 'rDx9VP9EAG6pK6CbzDCzHLxWmtNAeW2PxJ', {'weight': 28}), ('rDx9VP9EAG6pK6CbzDCzHLxWmtNAeW2PxJ', 'rB7WjavQ4Rxjm7vtiNZWunhPZXuequKemd', {'weight': 15}), ('rB7zJXs745cbUMp59aHuFdfz4EkWA2Z78d', 'rD2t3QhK4NpVV4Aof5uZCestB9wbTfkyEL', {'weight': 16}), ('rD2t3QhK4NpVV4Aof5uZCestB9wbTfkyEL', 'rB7zJXs745cbUMp59aHuFdfz4EkWA2Z78d', {'weight': 25}), ('rB8AcfUZ5Lh3Puf1k42c4bvtWPZotZ53wq', 'rK87AMKxibZh4bKjq1448AXoXXZGJqwkcF', {'weight': 16}), ('rK87AMKxibZh4bKjq1448AXoXXZGJqwkcF', 'rB8AcfUZ5Lh3Puf1k42c4bvtWPZotZ53wq', {'weight': 27}), ('rB8kV5CoDtsACJEjseHkoJ8FJT29F6XsQ2', 'rnusPB4moB4V1iiPFCAb5FNXhJjz8AfWna', {'weight': 62}), ('rnusPB4moB4V1iiPFCAb5FNXhJjz8AfWna', 'rB8kV5CoDtsACJEjseHkoJ8FJT29F6XsQ2', {'weight': 80}), ('rB9CzW6SBNwiNtWy2Sa5vBfTHJAqhaW72Q', 'rPqTBZs5JF3WrSCBHfXkaDpGhGGtXuy5Ln', {'weight': 16}), ('rPqTBZs5JF3WrSCBHfXkaDpGhGGtXuy5Ln', 'rB9CzW6SBNwiNtWy2Sa5vBfTHJAqhaW72Q', {'weight': 30}), ('rB9PP3BBZ6QEvU3C9x5DMHwqzbQAsQtmty', 'rwkBCfLjgLUkE1g9KFFCVg9DRSz2YqZVVV', {'weight': 21}), ('rwkBCfLjgLUkE1g9KFFCVg9DRSz2YqZVVV', 'rB9PP3BBZ6QEvU3C9x5DMHwqzbQAsQtmty', {'weight': 29}), ('rB9Pbd8swHAbWCg1jgrCqtrHqLYdQ46ud2', 'rspWVfy41DPGd9nesAToWkeV2BzUcsAPNL', {'weight': 28}), ('rspWVfy41DPGd9nesAToWkeV2BzUcsAPNL', 'rB9Pbd8swHAbWCg1jgrCqtrHqLYdQ46ud2', {'weight': 13}), ('rB9k6cYs21qc51wxYDhy4gmRTcx88BvUTW', 'rBi326BghbvsKGi4rjgtfZxiXrwgLeNemc', {'weight': 42}), ('rBi326BghbvsKGi4rjgtfZxiXrwgLeNemc', 'rB9k6cYs21qc51wxYDhy4gmRTcx88BvUTW', {'weight': 30}), ('rB9rPSyVZh9Py9Ma1fC1md69oBAxmYP2kM', 'rPVveJMApnPY7x98fr7txpt3dErAUZdSoR', {'weight': 15}), ('rPVveJMApnPY7x98fr7txpt3dErAUZdSoR', 'rB9rPSyVZh9Py9Ma1fC1md69oBAxmYP2kM', {'weight': 27}), ('rB9wYKMmxxdEcLMgNcEADXnHSHvNCPhPLW', 'rGonFFx92VLnKNXTzmMt2DKE7hbj6LLeuK', {'weight': 33}), ('rGonFFx92VLnKNXTzmMt2DKE7hbj6LLeuK', 'rB9wYKMmxxdEcLMgNcEADXnHSHvNCPhPLW', {'weight': 21}), ('rB9zcrXyPDdBGv7gpYJPfKuHFUts8U91SE', 'rpaomU1F61wp7cUNNYqLy3g9vAdksSDXGc', {'weight': 21}), ('rpaomU1F61wp7cUNNYqLy3g9vAdksSDXGc', 'rB9zcrXyPDdBGv7gpYJPfKuHFUts8U91SE', {'weight': 11}), ('rB9znU32PReyuJ1vsehfmnKp5R9X2Cy9Gk', 'rnkc55MDTEcyMrSh77RhX5UWNcUmVbkfGi', {'weight': 10}), ('rnkc55MDTEcyMrSh77RhX5UWNcUmVbkfGi', 'rB9znU32PReyuJ1vsehfmnKp5R9X2Cy9Gk', {'weight': 1}), ('rBA5JLKJwM7uvUDS3nszSYfB7NvgYrsRo6', 'rPn98H2Jf4R7U429TbxtKfnxf9GgWaJtGp', {'weight': 22}), ('rPn98H2Jf4R7U429TbxtKfnxf9GgWaJtGp', 'rBA5JLKJwM7uvUDS3nszSYfB7NvgYrsRo6', {'weight': 34}), ('rBAmFE7vR7fxfmbJgLn8QCLx4JjGgTWkBA', 'rJ9LfjwdZc5sVvr1KBmBcnCphuCMt8Rn4m', {'weight': 40}), ('rJ9LfjwdZc5sVvr1KBmBcnCphuCMt8Rn4m', 'rBAmFE7vR7fxfmbJgLn8QCLx4JjGgTWkBA', {'weight': 26}), ('rBAnDSq9uaVeRqL3bRWgVz29U2Ncec8y1M', 'rhzG85ksuJ1ZZdSjRu6H9KQ8UReWacUz6d', {'weight': 27}), ('rhzG85ksuJ1ZZdSjRu6H9KQ8UReWacUz6d', 'rBAnDSq9uaVeRqL3bRWgVz29U2Ncec8y1M', {'weight': 40}), ('rBB2hQLoQyZw9c52dDpDc4uxeWQukRUXk8', 'rLDpHZ763ADdiVaWqW9TPWvYYdkGbDFyxJ', {'weight': 18}), ('rLDpHZ763ADdiVaWqW9TPWvYYdkGbDFyxJ', 'rBB2hQLoQyZw9c52dDpDc4uxeWQukRUXk8', {'weight': 28}), ('rBBHJeEqQktdpNzGjGHMCDCWPmMrmXk89S', 'rhddGSf2bm3J8fDsZVKZeSyaDzK9J6Hwyz', {'weight': 20}), ('rhddGSf2bm3J8fDsZVKZeSyaDzK9J6Hwyz', 'rBBHJeEqQktdpNzGjGHMCDCWPmMrmXk89S', {'weight': 30}), ('rBBfvVeAMTyGJk5tNDevX68awfAp4REhmf', 'rGMUV8fg1NxggLP2eVFrDpMrMYvkqgqYh1', {'weight': 80}), ('rGMUV8fg1NxggLP2eVFrDpMrMYvkqgqYh1', 'rBBfvVeAMTyGJk5tNDevX68awfAp4REhmf', {'weight': 95}), ('rBBozH7eA9J6i89GvjA8mobAfU5WyX7dze', 'rJ3AvAZkonybtvdSmPXBhPhps2sAWXKXhi', {'weight': 15}), ('rJ3AvAZkonybtvdSmPXBhPhps2sAWXKXhi', 'rBBozH7eA9J6i89GvjA8mobAfU5WyX7dze', {'weight': 27}), ('rBBu9WTJxCaaRwSgL6tJFD7QuaRywoP4GJ', 'rN95ykrWgvNVoZtbdg9KS15qqe37Fv1WVZ', {'weight': 13}), ('rN95ykrWgvNVoZtbdg9KS15qqe37Fv1WVZ', 'rBBu9WTJxCaaRwSgL6tJFD7QuaRywoP4GJ', {'weight': 24}), ('rBC6ns8Hfc7RN1dg3FNM7WWMTCU1HD8MQ8', 'rwXUk4HRWBCHmJisHpKrRfFPZbaPEWejw8', {'weight': 36}), ('rwXUk4HRWBCHmJisHpKrRfFPZbaPEWejw8', 'rBC6ns8Hfc7RN1dg3FNM7WWMTCU1HD8MQ8', {'weight': 26}), ('rBCA4s1acpqWeTMc8QuRRmpuo6KkVWrZsy', 'rJwG12VfqzsedWMepZcR8jdzrSsPNvajSq', {'weight': 17}), ('rJwG12VfqzsedWMepZcR8jdzrSsPNvajSq', 'rBCA4s1acpqWeTMc8QuRRmpuo6KkVWrZsy', {'weight': 27}), ('rBCZC3m1JmVFgY2P6Zkme3GxioCJUJ4TVV', 'rnMVa2HTTeZBGkiEG6icEX13jxnCeFKHic', {'weight': 105}), ('rnMVa2HTTeZBGkiEG6icEX13jxnCeFKHic', 'rBCZC3m1JmVFgY2P6Zkme3GxioCJUJ4TVV', {'weight': 93}), ('rBCgwUN5XS4ftWu56QZ1Sve7WdvKpyVpx3', 'rL2xG43ZZ88ux2SuDhidy5WabDUqHFoS2k', {'weight': 41}), ('rL2xG43ZZ88ux2SuDhidy5WabDUqHFoS2k', 'rBCgwUN5XS4ftWu56QZ1Sve7WdvKpyVpx3', {'weight': 29}), ('rBChPtcHp3ZPtaQpBFmRWwTnAypxPekkKg', 'rfyaF4zxDFoQPBMizF8VbhADR4nRmnoH3e', {'weight': 38}), ('rfyaF4zxDFoQPBMizF8VbhADR4nRmnoH3e', 'rBChPtcHp3ZPtaQpBFmRWwTnAypxPekkKg', {'weight': 9}), ('rBDP2m4heRiDcQAP2vQMNGvjfcq1h3PgJm', 'rfLJV8juWf5q1q7H8q6UE49pmtVx7xCDHi', {'weight': 30}), ('rfLJV8juWf5q1q7H8q6UE49pmtVx7xCDHi', 'rBDP2m4heRiDcQAP2vQMNGvjfcq1h3PgJm', {'weight': 18}), ('rBDrWokN3zPRh4GQvnKC1go6AFjKZSAwra', 'rDKvd4kwEyzAXfwQNfDFyxVGY4KJwgxVH1', {'weight': 19}), ('rDKvd4kwEyzAXfwQNfDFyxVGY4KJwgxVH1', 'rBDrWokN3zPRh4GQvnKC1go6AFjKZSAwra', {'weight': 32}), ('rBDyBPyEpTqQex5fBXPNzYnxBNEtsvbv6o', 'rfi72CcUwZzjNsQntYk853b3zSGrgC41p9', {'weight': 101}), ('rfi72CcUwZzjNsQntYk853b3zSGrgC41p9', 'rBDyBPyEpTqQex5fBXPNzYnxBNEtsvbv6o', {'weight': 87}), ('rBDzMMM1QRgTQ7YfMt9J5ukHuCQETuVeha', 'rG9CWVfFCUfpth7CLkNbqRq4a95AVzm1JC', {'weight': 31}), ('rG9CWVfFCUfpth7CLkNbqRq4a95AVzm1JC', 'rBDzMMM1QRgTQ7YfMt9J5ukHuCQETuVeha', {'weight': 17}), ('rBE9o7VNFVb6uF8H7ta3zcEXerWq3SJ5no', 'rHAC6XCtYBS3qTPmATLmU6XT8veNrDgYBX', {'weight': 29}), ('rHAC6XCtYBS3qTPmATLmU6XT8veNrDgYBX', 'rBE9o7VNFVb6uF8H7ta3zcEXerWq3SJ5no', {'weight': 39}), ('rBGBD1vbhAwinFr8nQjaFGr7YSk6VGyTNf', 'rhhsGJPAqD9pyfBTB9hbEbKrhr4G8KqjFf', {'weight': 36}), ('rhhsGJPAqD9pyfBTB9hbEbKrhr4G8KqjFf', 'rBGBD1vbhAwinFr8nQjaFGr7YSk6VGyTNf', {'weight': 19}), ('rBGNTskXm3oqVw6TvC6LJbwXXmmZTTY3Hk', 'rfZjkzJ3GNfownBX3qCQCiU551rCnmgfAQ', {'weight': 17}), ('rfZjkzJ3GNfownBX3qCQCiU551rCnmgfAQ', 'rBGNTskXm3oqVw6TvC6LJbwXXmmZTTY3Hk', {'weight': 27}), ('rBGTKuxxBdBdk2Eb8Qff8UjN7CeQZ9FaUj', 'rnM8V6E3EBEX34Hbki1z4eF2KqYE8qk5Ny', {'weight': 28}), ('rnM8V6E3EBEX34Hbki1z4eF2KqYE8qk5Ny', 'rBGTKuxxBdBdk2Eb8Qff8UjN7CeQZ9FaUj', {'weight': 38}), ('rBGksCeT11vBsrLY7zTsiquLEFADVCeRur', 'rnfEc2aCiPE33T7XanFDQqVCk9RPoMpph6', {'weight': 30}), ('rnfEc2aCiPE33T7XanFDQqVCk9RPoMpph6', 'rBGksCeT11vBsrLY7zTsiquLEFADVCeRur', {'weight': 17}), ('rBGvUUta5RnsKiRnWWW8jWcA4FAxsqfHhP', 'rDvtkFN8NiSZVhGVQowWkwmA6N1hwWzwEk', {'weight': 28}), ('rDvtkFN8NiSZVhGVQowWkwmA6N1hwWzwEk', 'rBGvUUta5RnsKiRnWWW8jWcA4FAxsqfHhP', {'weight': 19}), ('rBHMuzdFbugUKEhir1VWuW9VTsspeQpzxJ', 'rGrNUsAMDnjYdX4B2Gf11WV2Wzj8asYD2c', {'weight': 87}), ('rGrNUsAMDnjYdX4B2Gf11WV2Wzj8asYD2c', 'rBHMuzdFbugUKEhir1VWuW9VTsspeQpzxJ', {'weight': 102}), ('rBHWDKHQZZiV6NRVi2D7beCauuy8TqhP1p', 'rJexkZQJkbufcRfF1wAGTmhkwEpE6YsW7A', {'weight': 31}), ('rJexkZQJkbufcRfF1wAGTmhkwEpE6YsW7A', 'rBHWDKHQZZiV6NRVi2D7beCauuy8TqhP1p', {'weight': 19}), ('rBHpFwmxubFQJDTQX2KPPRH2JaPAEozm3C', 'rpLrrKRLTXqm6P4JAzckr99LaUHqqLBZx5', {'weight': 35}), ('rpLrrKRLTXqm6P4JAzckr99LaUHqqLBZx5', 'rBHpFwmxubFQJDTQX2KPPRH2JaPAEozm3C', {'weight': 22}), ('rBHsSbipTxTDQzLvtdzCompp7s44RYagDX', 'rwi8LD2zurDogqPNXZ625SarycU15Jt72G', {'weight': 12}), ('rwi8LD2zurDogqPNXZ625SarycU15Jt72G', 'rBHsSbipTxTDQzLvtdzCompp7s44RYagDX', {'weight': 22}), ('rBJRgvNMWVAiPh6q1cEfkJ2w9hrwZHydnb', 'rU8ZeyfpLq9EMnf4KsShuoKjDFfqUKpEgN', {'weight': 22}), ('rU8ZeyfpLq9EMnf4KsShuoKjDFfqUKpEgN', 'rBJRgvNMWVAiPh6q1cEfkJ2w9hrwZHydnb', {'weight': 37}), ('rBJUEnDTbN8JaWvvM4C9PDkEdrkFBm4VgD', 'rwUu9vmdqbkosro6KjRLUYshJH7WiBL6mK', {'weight': 91}), ('rwUu9vmdqbkosro6KjRLUYshJH7WiBL6mK', 'rBJUEnDTbN8JaWvvM4C9PDkEdrkFBm4VgD', {'weight': 78}), ('rBJc3QMjV5dBG8DgZwpJSjGLmmP322EFxr', 'rphVqvhg1B59nec2kv7HYVfAA7EDXbFADw', {'weight': 20}), ('rphVqvhg1B59nec2kv7HYVfAA7EDXbFADw', 'rBJc3QMjV5dBG8DgZwpJSjGLmmP322EFxr', {'weight': 29}), ('rBJogvtZ6NzueYVNcZ4N349nx9xS2R36CG', 'rwd8nv2w9NVYpUcBD73NkGvneBh6PWK52P', {'weight': 17}), ('rwd8nv2w9NVYpUcBD73NkGvneBh6PWK52P', 'rBJogvtZ6NzueYVNcZ4N349nx9xS2R36CG', {'weight': 33}), ('rBJuoNipmtFR6FPW45s5TTkuWkLbkk7S72', 'rwAxabTzMtkt2msg84LWyXA9dmCrvtTSeS', {'weight': 68}), ('rwAxabTzMtkt2msg84LWyXA9dmCrvtTSeS', 'rBJuoNipmtFR6FPW45s5TTkuWkLbkk7S72', {'weight': 88}), ('rBKmEPuuZjfWKEErPKpy9CVPaNMEw7gFeB', 'rnf2cFXu5NL37TBj6p1U3tk4bPY4UDZhoe', {'weight': 30}), ('rnf2cFXu5NL37TBj6p1U3tk4bPY4UDZhoe', 'rBKmEPuuZjfWKEErPKpy9CVPaNMEw7gFeB', {'weight': 15}), ('rBKoReyopKQ7MkgX2ejFRThbYtdDBtWZyX', 'rP6ghK4qiSPFVnyAu5y8NfaMifz6McifL7', {'weight': 24}), ('rP6ghK4qiSPFVnyAu5y8NfaMifz6McifL7', 'rBKoReyopKQ7MkgX2ejFRThbYtdDBtWZyX', {'weight': 39}), ('rBL1iUmPR5G5qrTjKq29CZ343kmWoVeeF8', 'rM6xhaGTAWrA4o77aKLQkLhx3o5p23NT2w', {'weight': 14}), ('rM6xhaGTAWrA4o77aKLQkLhx3o5p23NT2w', 'rBL1iUmPR5G5qrTjKq29CZ343kmWoVeeF8', {'weight': 25}), ('rBL52E8HGKKYcaZ5CJasw6GVrGScjS7YRG', 'rfRqZibnNJBSZtW1PWrieN7nqwnsAr7ZtA', {'weight': 31}), ('rfRqZibnNJBSZtW1PWrieN7nqwnsAr7ZtA', 'rBL52E8HGKKYcaZ5CJasw6GVrGScjS7YRG', {'weight': 19}), ('rBLDxq4SRWHoaSoPUSezjiKK5dsRPskz1m', 'rEsCyC4NEunakC1zm3JfaUXmb9rDSkQXY4', {'weight': 36}), ('rEsCyC4NEunakC1zm3JfaUXmb9rDSkQXY4', 'rBLDxq4SRWHoaSoPUSezjiKK5dsRPskz1m', {'weight': 22}), ('rBLGAzhSwJb4jUchrRS2schPmqicvWkEAL', 'rKMt1AfnvHrvA256WmkSgg2zYGNj6dQp8w', {'weight': 29}), ('rKMt1AfnvHrvA256WmkSgg2zYGNj6dQp8w', 'rBLGAzhSwJb4jUchrRS2schPmqicvWkEAL', {'weight': 39}), ('rBLjLAAabMRezs8UQEasJ136rGieaNSMXP', 'rwXhHsqMRoUVWsX4z4g4rJpH7Bf3pp3N6h', {'weight': 34}), ('rwXhHsqMRoUVWsX4z4g4rJpH7Bf3pp3N6h', 'rBLjLAAabMRezs8UQEasJ136rGieaNSMXP', {'weight': 17}), ('rBMTqRDMafdCM49myJ2vSiKTKUtPmkFBfG', 'rUZX147rRGWD1iWV6kRLTJDzrEphs1rzAo', {'weight': 25}), ('rUZX147rRGWD1iWV6kRLTJDzrEphs1rzAo', 'rBMTqRDMafdCM49myJ2vSiKTKUtPmkFBfG', {'weight': 13}), ('rBMa7xqDVUjth2pYi1EuRAp2Gfg7N5cZX9', 'rGC5XgLubW2TGShUhDbB1xKRsfVkyVZ2t9', {'weight': 51}), ('rGC5XgLubW2TGShUhDbB1xKRsfVkyVZ2t9', 'rBMa7xqDVUjth2pYi1EuRAp2Gfg7N5cZX9', {'weight': 72}), ('rBN87WuSimKhK28TeC7tg45JkLZjRLv9rS', 'rw2dDLxrgmQ5kcQAuhwgphQx8bm8BZZkgN', {'weight': 26}), ('rw2dDLxrgmQ5kcQAuhwgphQx8bm8BZZkgN', 'rBN87WuSimKhK28TeC7tg45JkLZjRLv9rS', {'weight': 16}), ('rBNTvJCD7CnhFh1LBtvE9993t81PG4fr6G', 'rLAYL5dWGQLhAa6h5eznqLj1Z77osTa6Un', {'weight': 26}), ('rLAYL5dWGQLhAa6h5eznqLj1Z77osTa6Un', 'rBNTvJCD7CnhFh1LBtvE9993t81PG4fr6G', {'weight': 14}), ('rBNW3JPXrbAAFGbjJavrHE9MUgKVja6r36', 'rJ4CQvmPyexts6rb8g849sARRD1x8a6Er4', {'weight': 30}), ('rJ4CQvmPyexts6rb8g849sARRD1x8a6Er4', 'rBNW3JPXrbAAFGbjJavrHE9MUgKVja6r36', {'weight': 20}), ('rBNWHCZ48NHCJNHX7DvEFMsSXkKDh1NZaf', 'rfsUdvGnWbvehdvAg6uoRvdgEEhyVSz7m8', {'weight': 21}), ('rfsUdvGnWbvehdvAg6uoRvdgEEhyVSz7m8', 'rBNWHCZ48NHCJNHX7DvEFMsSXkKDh1NZaf', {'weight': 29}), ('rBNZz9BNqqFT6fGGHVkVnB7XaD2JVmxfnd', 'rfVFZ2xs3mZzBjEUfAy3QucCJ6c5hGbCv4', {'weight': 22}), ('rfVFZ2xs3mZzBjEUfAy3QucCJ6c5hGbCv4', 'rBNZz9BNqqFT6fGGHVkVnB7XaD2JVmxfnd', {'weight': 34}), ('rBNgLrN9D9cwFWdZtdypX7kFhyrCKfC3xW', 'rh5DQX8SqQqsKmPMjeosvNCz8DPS4kx2ny', {'weight': 21}), ('rh5DQX8SqQqsKmPMjeosvNCz8DPS4kx2ny', 'rBNgLrN9D9cwFWdZtdypX7kFhyrCKfC3xW', {'weight': 33}), ('rBPBoCX6agkx8s7D6LdMAuPb6BrZsc7r3c', 'rnRQ6gQzczXoaSRbGasGmHHd9c9T9ArnJt', {'weight': 82}), ('rnRQ6gQzczXoaSRbGasGmHHd9c9T9ArnJt', 'rBPBoCX6agkx8s7D6LdMAuPb6BrZsc7r3c', {'weight': 62}), ('rBPQdHy4xNhcLCFrawv8fNGz213EiK51gu', 'rst89khSnKJRkK8e4DfNiH1p89w1Buz6C5', {'weight': 25}), ('rst89khSnKJRkK8e4DfNiH1p89w1Buz6C5', 'rBPQdHy4xNhcLCFrawv8fNGz213EiK51gu', {'weight': 13}), ('rBPcmWTGQB9qPvd4JM5nkp167LQHyLxhPc', 'rUffG5ViAG8DN1yxGqEELhruK5q8J5o27u', {'weight': 17}), ('rUffG5ViAG8DN1yxGqEELhruK5q8J5o27u', 'rBPcmWTGQB9qPvd4JM5nkp167LQHyLxhPc', {'weight': 35}), ('rBPjJD5ra7zgo4ZJwTru2Mu2ZUBgjoo1KB', 'rQanB4jq688aRtqzNyNDAgdF921Sd3TN68', {'weight': 26}), ('rQanB4jq688aRtqzNyNDAgdF921Sd3TN68', 'rBPjJD5ra7zgo4ZJwTru2Mu2ZUBgjoo1KB', {'weight': 15}), ('rBPyXYzJpVQR396rMpjGn3LvhrwGSqYbbH', 'rhB77QmwGD6zQLTKAw6HWYS8MN3mBMgPMX', {'weight': 16}), ('rhB77QmwGD6zQLTKAw6HWYS8MN3mBMgPMX', 'rBPyXYzJpVQR396rMpjGn3LvhrwGSqYbbH', {'weight': 26}), ('rBQEviuGs47JqfHhWx1qirnwLowT1whzBE', 'ru493CXzfrngUhMXup57C6YzaQj8Pq95w', {'weight': 18}), ('ru493CXzfrngUhMXup57C6YzaQj8Pq95w', 'rBQEviuGs47JqfHhWx1qirnwLowT1whzBE', {'weight': 30}), ('rBR2zFKfNKXF2czXxAYCUJiAE4RDzpJVWJ', 'rPp8KzeGNAxYZK6x3yx6pBcbg7sVCiScw7', {'weight': 30}), ('rPp8KzeGNAxYZK6x3yx6pBcbg7sVCiScw7', 'rBR2zFKfNKXF2czXxAYCUJiAE4RDzpJVWJ', {'weight': 18}), ('rBRbvYD59DddSPTxZwrZKzpMNFy8e2u6VQ', 'rHiGjaauG7LovVnChPXRuLkwxww9ZFZWhy', {'weight': 15}), ('rHiGjaauG7LovVnChPXRuLkwxww9ZFZWhy', 'rBRbvYD59DddSPTxZwrZKzpMNFy8e2u6VQ', {'weight': 30}), ('rBRpfeXVF8oRessxQfbvHsdMu3bxHqYCzE', 'rKKxyGiCmjZVsUJLPAiKKXF87oNwUbKce2', {'weight': 19}), ('rKKxyGiCmjZVsUJLPAiKKXF87oNwUbKce2', 'rBRpfeXVF8oRessxQfbvHsdMu3bxHqYCzE', {'weight': 28}), ('rBRvtuPtemUpmCrSp5LtKYo3N55nHopBjg', 'rHnYwPe6QQRxLMyzDXaJKqAzPbPcpbtgxG', {'weight': 22}), ('rHnYwPe6QQRxLMyzDXaJKqAzPbPcpbtgxG', 'rBRvtuPtemUpmCrSp5LtKYo3N55nHopBjg', {'weight': 36}), ('rBS3iLVjLeNcF7xgxbShBgzA3uttkAEZyX', 'rsmDM2ZvnRYXKHEpuEZ1nLiSBXTsqaSoqf', {'weight': 22}), ('rsmDM2ZvnRYXKHEpuEZ1nLiSBXTsqaSoqf', 'rBS3iLVjLeNcF7xgxbShBgzA3uttkAEZyX', {'weight': 33}), ('rBS6pxhjFCFZAaU228K3ovb3EfhKQBNR9b', 'rXFbyfq3hF2k3afzRm6BUyurNL5aSBCYQ', {'weight': 34}), ('rXFbyfq3hF2k3afzRm6BUyurNL5aSBCYQ', 'rBS6pxhjFCFZAaU228K3ovb3EfhKQBNR9b', {'weight': 44}), ('rBSSTekRwyJSXbUcmoE5RgeiZfYhaLdoLo', 'rGAbMCsJyT5nHcxgsvKoW2wpQb96fbeiJu', {'weight': 16}), ('rGAbMCsJyT5nHcxgsvKoW2wpQb96fbeiJu', 'rBSSTekRwyJSXbUcmoE5RgeiZfYhaLdoLo', {'weight': 28}), ('rBSYFoaWVLV3WACP1uejeWyxqGY7ghVgEu', 'rwPZQeGaGscp6wH6qV8bQrnZJcxzvpJ66E', {'weight': 31}), ('rwPZQeGaGscp6wH6qV8bQrnZJcxzvpJ66E', 'rBSYFoaWVLV3WACP1uejeWyxqGY7ghVgEu', {'weight': 22}), ('rBTP4wk2pS9fvudFcXWVWq7ZZcGybr576Q', 'rKTgrfNoyuubea81qSZUybqGDV4vbs5Fmj', {'weight': 17}), ('rKTgrfNoyuubea81qSZUybqGDV4vbs5Fmj', 'rBTP4wk2pS9fvudFcXWVWq7ZZcGybr576Q', {'weight': 32}), ('rBTQBMtxefeKxWpL8X2eiBEoiWnxooQUeu', 'rHcU6j5o92f3U1gGUVBekPWhuUvgXJJuJp', {'weight': 29}), ('rHcU6j5o92f3U1gGUVBekPWhuUvgXJJuJp', 'rBTQBMtxefeKxWpL8X2eiBEoiWnxooQUeu', {'weight': 39}), ('rBTT8GJLfhPQGiog8wGNxyNEgFcvqKisYQ', 'rUzPx5FAxwRihXX6nJ8b1amFW3pw78BDtj', {'weight': 25}), ('rUzPx5FAxwRihXX6nJ8b1amFW3pw78BDtj', 'rBTT8GJLfhPQGiog8wGNxyNEgFcvqKisYQ', {'weight': 38}), ('rBTUQz3sWpgmznnVZ5GQjPykAq9DMB81iW', 'rfch3gYeuxbttES7E92bfff3AGomGWz5NA', {'weight': 34}), ('rfch3gYeuxbttES7E92bfff3AGomGWz5NA', 'rBTUQz3sWpgmznnVZ5GQjPykAq9DMB81iW', {'weight': 24}), ('rBTbrG23Wgdbo8je2ioeFiAZaDw3XyYJdm', 'rnbaq9RsGTxXhYzrKZ5XCESfbxR4anwmQU', {'weight': 13}), ('rnbaq9RsGTxXhYzrKZ5XCESfbxR4anwmQU', 'rBTbrG23Wgdbo8je2ioeFiAZaDw3XyYJdm', {'weight': 22}), ('rBTd78j9BhwgxF1WVSEw1XZF6u1d6TZK25', 'rP41GfyJNsG6Wm6PVqJhw8bLB9hqEzWeuR', {'weight': 40}), ('rP41GfyJNsG6Wm6PVqJhw8bLB9hqEzWeuR', 'rBTd78j9BhwgxF1WVSEw1XZF6u1d6TZK25', {'weight': 30}), ('rBTtTiJv9ppixuC2xJ9nppNTMNQoBX21JC', 'rMTLCf43HppdZHLZRPSzk8JBkEdvTuqZGo', {'weight': 20}), ('rMTLCf43HppdZHLZRPSzk8JBkEdvTuqZGo', 'rBTtTiJv9ppixuC2xJ9nppNTMNQoBX21JC', {'weight': 31}), ('rBTzu6p6vkP86qz9wPZoW2z8yQaXywKs7w', 'rN1v8wdRPfpyDg7ETmH5aikbTmwdedS3kd', {'weight': 27}), ('rN1v8wdRPfpyDg7ETmH5aikbTmwdedS3kd', 'rBTzu6p6vkP86qz9wPZoW2z8yQaXywKs7w', {'weight': 16}), ('rBU57UpuaqqesSg1WwobvqrtHaG4mbHCo3', 'rL6cc3hKf816sRVZeqJTmHmNpLCURL8xvh', {'weight': 22}), ('rL6cc3hKf816sRVZeqJTmHmNpLCURL8xvh', 'rBU57UpuaqqesSg1WwobvqrtHaG4mbHCo3', {'weight': 31}), ('rBUBoR4wha7whpCuKXUkGBNWudiQhHhnaA', 'rHW3uJuKeh6nZk6NEAxHymbGJmqFmL2Woo', {'weight': 28}), ('rHW3uJuKeh6nZk6NEAxHymbGJmqFmL2Woo', 'rBUBoR4wha7whpCuKXUkGBNWudiQhHhnaA', {'weight': 37}), ('rBUNAm2oTqRcbi1WosPthKTou3J41nYDiM', 'rDs7US4ZbCnU2CbUxxo54vo4ov7xq6zSHQ', {'weight': 1}), ('rDs7US4ZbCnU2CbUxxo54vo4ov7xq6zSHQ', 'rBUNAm2oTqRcbi1WosPthKTou3J41nYDiM', {'weight': 89}), ('rBUXQh83XsSdhoWikHHzJswEx4E9ay88hw', 'rKEU13AWQ9X1argPbaE2WS8HtjaRtNmjV3', {'weight': 16}), ('rKEU13AWQ9X1argPbaE2WS8HtjaRtNmjV3', 'rBUXQh83XsSdhoWikHHzJswEx4E9ay88hw', {'weight': 27}), ('rBV2EHmhg1dPSQDag6DMkYC2hvyLSLUrer', 'rrJfS8VYknyc5UoPtTw5bNNHVzAWbGcfr', {'weight': 30}), ('rrJfS8VYknyc5UoPtTw5bNNHVzAWbGcfr', 'rBV2EHmhg1dPSQDag6DMkYC2hvyLSLUrer', {'weight': 21}), ('rBVTueVr1CYzBgg6dzukA2X9pHxv6XH7kF', 'rhN3Y3EQYzbbGRdMutk8iDBdLKHUxVq5YY', {'weight': 46}), ('rhN3Y3EQYzbbGRdMutk8iDBdLKHUxVq5YY', 'rBVTueVr1CYzBgg6dzukA2X9pHxv6XH7kF', {'weight': 36}), ('rBVY2NnT6jHddjKgog2euoR7CVVwaLok7R', 'ra6HvQVVjZ35TBepb3nLHyKpr3DQL2noBr', {'weight': 28}), ('ra6HvQVVjZ35TBepb3nLHyKpr3DQL2noBr', 'rBVY2NnT6jHddjKgog2euoR7CVVwaLok7R', {'weight': 16}), ('rBVjrPKmztGjM3561aSa8X69THGiAMzceR', 'rh2vsixB6B5a3oPZeYcKaeZaGYc4epEnBR', {'weight': 36}), ('rh2vsixB6B5a3oPZeYcKaeZaGYc4epEnBR', 'rBVjrPKmztGjM3561aSa8X69THGiAMzceR', {'weight': 27}), ('rBW8nj9zL5GBE6qYNRxRusy1zzHZSeckpa', 'rGn3zZkYvgASjQwPZNwkB5DR2p2HucuCcX', {'weight': 15}), ('rGn3zZkYvgASjQwPZNwkB5DR2p2HucuCcX', 'rBW8nj9zL5GBE6qYNRxRusy1zzHZSeckpa', {'weight': 26}), ('rBW9Qug8TM2bJgTh3Y8S6PFVqtXN3apgHK', 'rE9Q6rwh8nXGnXD9JH6hkGuNWv4nueGeb8', {'weight': 34}), ('rE9Q6rwh8nXGnXD9JH6hkGuNWv4nueGeb8', 'rBW9Qug8TM2bJgTh3Y8S6PFVqtXN3apgHK', {'weight': 22}), ('rBWYDcNcKGMX5zfiE397YqT4974GMQTAdr', 'rd36zi8kajDhkZvZGPZVcoT5mMHMh3J8A', {'weight': 28}), ('rd36zi8kajDhkZvZGPZVcoT5mMHMh3J8A', 'rBWYDcNcKGMX5zfiE397YqT4974GMQTAdr', {'weight': 15}), ('rBWmnn7duaVwFrrZTLgFp3JzSMv7sG5FFC', 'rppqTciB8BEynjvhmVNVEbeASDLMu9F9iw', {'weight': 15}), ('rppqTciB8BEynjvhmVNVEbeASDLMu9F9iw', 'rBWmnn7duaVwFrrZTLgFp3JzSMv7sG5FFC', {'weight': 28}), ('rBWvuJxR3mXvj6hZxP61keDuLUFmnm3ddg', 'rhtWUuRZwK3i8Rxfu2bE4ZwP6ubRQif2uL', {'weight': 34}), ('rhtWUuRZwK3i8Rxfu2bE4ZwP6ubRQif2uL', 'rBWvuJxR3mXvj6hZxP61keDuLUFmnm3ddg', {'weight': 24}), ('rBXDCDyfLhML1zoAXTMJyMVjqppREU1wGN', 'rLzJfq6puEUrGjyV4y9FwKM5yHGvKyPAnJ', {'weight': 64}), ('rLzJfq6puEUrGjyV4y9FwKM5yHGvKyPAnJ', 'rBXDCDyfLhML1zoAXTMJyMVjqppREU1wGN', {'weight': 83}), ('rBXE8KSpNuKRyhc12ScyNN2QWRmB8Jia5R', 'rJpj7oCgbt9681KBCbfT41vE3dPyY4KtRF', {'weight': 27}), ('rJpj7oCgbt9681KBCbfT41vE3dPyY4KtRF', 'rBXE8KSpNuKRyhc12ScyNN2QWRmB8Jia5R', {'weight': 37}), ('rBXXKVgkKfL4WnnNBPrHqk1CE7fZicSWFa', 'rJKKfZwKDqyrLo7HogxrwN688eqA9A6Jcv', {'weight': 22}), ('rJKKfZwKDqyrLo7HogxrwN688eqA9A6Jcv', 'rBXXKVgkKfL4WnnNBPrHqk1CE7fZicSWFa', {'weight': 31}), ('rBXYkFyGLM9YgKA1bpA1uJJVHk8rnLW1th', 'rnLuB477NgNB5MjFpEzqS1pWCe7m6LiokV', {'weight': 15}), ('rnLuB477NgNB5MjFpEzqS1pWCe7m6LiokV', 'rBXYkFyGLM9YgKA1bpA1uJJVHk8rnLW1th', {'weight': 29}), ('rBY8KmvhTZ74UkD9RJM9rrgeGHzJBi18Tx', 'rpZNgfKnycz3K1guSZYwQUwWwCQeFTDT9R', {'weight': 24}), ('rpZNgfKnycz3K1guSZYwQUwWwCQeFTDT9R', 'rBY8KmvhTZ74UkD9RJM9rrgeGHzJBi18Tx', {'weight': 15}), ('rBYDyCjphfaMCt7aybfxnsE69AXrWw8Kgi', 'rNfG3bAxr394mUM6NhG6kwTiTMJvwSPRWK', {'weight': 26}), ('rNfG3bAxr394mUM6NhG6kwTiTMJvwSPRWK', 'rBYDyCjphfaMCt7aybfxnsE69AXrWw8Kgi', {'weight': 36}), ('rBYTvT8A9ew5BNcR9UG9uuW4UBneBazmai', 'rPG6urNPoASedUKtd6aQZcxg1UcMHGFgG', {'weight': 16}), ('rPG6urNPoASedUKtd6aQZcxg1UcMHGFgG', 'rBYTvT8A9ew5BNcR9UG9uuW4UBneBazmai', {'weight': 26}), ('rBYhxuuAXZ7RG8aT6SDgscTqhSoKXiGUhM', 'rL1aggXhifnxpiiNSTbrCLjaLzuxsXLLSP', {'weight': 87}), ('rL1aggXhifnxpiiNSTbrCLjaLzuxsXLLSP', 'rBYhxuuAXZ7RG8aT6SDgscTqhSoKXiGUhM', {'weight': 102}), ('rBYpXgE6rKmv47s85UhtWmDKUo8bBUDw99', 'rM3PxcexpKDXdfh1yxHFRHX4qN3EYta3yS', {'weight': 42}), ('rM3PxcexpKDXdfh1yxHFRHX4qN3EYta3yS', 'rBYpXgE6rKmv47s85UhtWmDKUo8bBUDw99', {'weight': 33}), ('rBYyLK9BDLcsxT3vaHvRGVyg99qQvVMBGN', 'rpVs4pq1an4ECeqpfYvt56TJWU4VAmEeW1', {'weight': 103}), ('rpVs4pq1an4ECeqpfYvt56TJWU4VAmEeW1', 'rBYyLK9BDLcsxT3vaHvRGVyg99qQvVMBGN', {'weight': 89}), ('rBZEeogreKnh2aWJW695myU24mE5LgvJt8', 'raNXsSoGWiopkKwyKh9ez7etYsgJVPATHE', {'weight': 30}), ('raNXsSoGWiopkKwyKh9ez7etYsgJVPATHE', 'rBZEeogreKnh2aWJW695myU24mE5LgvJt8', {'weight': 40}), ('rBa23GYWzCu2WCNsBWfQLFibytLKf7f5uq', 'rNtjp89cYzowkyAo9dG76wMcNh1meQwPga', {'weight': 22}), ('rNtjp89cYzowkyAo9dG76wMcNh1meQwPga', 'rBa23GYWzCu2WCNsBWfQLFibytLKf7f5uq', {'weight': 32}), ('rBa3gX3UqF58ifZKtPXYYrgjRPkb4ArjZW', 'rnmnDYhcJ5Lhg2XbgznfXYrtsaSaNuTntJ', {'weight': 90}), ('rnmnDYhcJ5Lhg2XbgznfXYrtsaSaNuTntJ', 'rBa3gX3UqF58ifZKtPXYYrgjRPkb4ArjZW', {'weight': 75}), ('rBaBpcrYQiy7MZH6uVF2CtT7YqtKejEeGx', 'rhTuZTjoKVEvtRuXzq7czK8rKsA6gfP6fG', {'weight': 31}), ('rhTuZTjoKVEvtRuXzq7czK8rKsA6gfP6fG', 'rBaBpcrYQiy7MZH6uVF2CtT7YqtKejEeGx', {'weight': 41}), ('rBaDHEpbs53QbKQTP26KUGUVhrzbcHK6oT', 'rHNrH8XouQKnAfoi4jDXyNWmouW4nnMooN', {'weight': 22}), ('rHNrH8XouQKnAfoi4jDXyNWmouW4nnMooN', 'rBaDHEpbs53QbKQTP26KUGUVhrzbcHK6oT', {'weight': 33}), ('rBaQw86kyjH8fwuhMZPTk5NHqNdXKFRggM', 'rnCV4GLs8rRudAPiZmzNVmzDBrEDggRWZK', {'weight': 33}), ('rnCV4GLs8rRudAPiZmzNVmzDBrEDggRWZK', 'rBaQw86kyjH8fwuhMZPTk5NHqNdXKFRggM', {'weight': 24}), ('rBaVdFbRGNL3ZtA2dbTyFn9tU4yt4pCJfG', 'rHa12k49mYBAJyysNjNw1JHJCoFDbB6UGb', {'weight': 11}), ('rHa12k49mYBAJyysNjNw1JHJCoFDbB6UGb', 'rBaVdFbRGNL3ZtA2dbTyFn9tU4yt4pCJfG', {'weight': 21}), ('rBabuDRYtSj89YAEEj3T1KBua7pboz4QG2', 'rBdymnzkqKcs9VBWgYRuReR13qe78XzYbE', {'weight': 91}), ('rBdymnzkqKcs9VBWgYRuReR13qe78XzYbE', 'rBabuDRYtSj89YAEEj3T1KBua7pboz4QG2', {'weight': 73}), ('rBafJREwCSVMxXRQ5EFpJX4ehRUEwvGv1', 'rniHweAsc1AnKVwtNVUZ5DRELNDxZrr95Y', {'weight': 19}), ('rniHweAsc1AnKVwtNVUZ5DRELNDxZrr95Y', 'rBafJREwCSVMxXRQ5EFpJX4ehRUEwvGv1', {'weight': 29}), ('rBahByTr7iJFvM6g42tuRjciymvw41M2xt', 'rN99pDnrWJjFd2dYTYZPFFgYTJdYZwaWJK', {'weight': 14}), ('rN99pDnrWJjFd2dYTYZPFFgYTJdYZwaWJK', 'rBahByTr7iJFvM6g42tuRjciymvw41M2xt', {'weight': 27}), ('rBb3U8yQZv9Hd2WcC8MMWGsfTzhJiV9QnB', 'rhDQH5M2fjugmfix56tFquzEFw5QRsLQAD', {'weight': 37}), ('rhDQH5M2fjugmfix56tFquzEFw5QRsLQAD', 'rBb3U8yQZv9Hd2WcC8MMWGsfTzhJiV9QnB', {'weight': 27}), ('rBbJJCnUpgQ9C58ZyzFzamPxGGU3W1SS4G', 'rMYUTwReFfrkLZmsfN9EGwrerfNBABPmXR', {'weight': 27}), ('rMYUTwReFfrkLZmsfN9EGwrerfNBABPmXR', 'rBbJJCnUpgQ9C58ZyzFzamPxGGU3W1SS4G', {'weight': 17}), ('rBbP1g4gxNMfPpNh3BWuHqB85dfad3pP2h', 'rsB9pB5ndjsNvEH9XRVi5fZDuWJftQi7fH', {'weight': 40}), ('rsB9pB5ndjsNvEH9XRVi5fZDuWJftQi7fH', 'rBbP1g4gxNMfPpNh3BWuHqB85dfad3pP2h', {'weight': 30}), ('rBbZmTz1d3AATY7nrWxkbKqwebEn5hSkk9', 'rJYvRrDX4xooLiWTYfBd7oF43kkqAUM9iV', {'weight': 15}), ('rJYvRrDX4xooLiWTYfBd7oF43kkqAUM9iV', 'rBbZmTz1d3AATY7nrWxkbKqwebEn5hSkk9', {'weight': 30}), ('rBc2pL2FnYyJkepbz9u2ZuUtHtf1goqh97', 'rhzZ5Rf7MhMBNPSHTdibNsC2gjNt7Txt1C', {'weight': 52}), ('rhzZ5Rf7MhMBNPSHTdibNsC2gjNt7Txt1C', 'rBc2pL2FnYyJkepbz9u2ZuUtHtf1goqh97', {'weight': 73}), ('rBcKxdh3vyfoUZ69aoABUAngq5ueT9gGBR', 'rK5HTKZuVkDuuRZ3a9QzmuG6PkV1dY9TSH', {'weight': 14}), ('rK5HTKZuVkDuuRZ3a9QzmuG6PkV1dY9TSH', 'rBcKxdh3vyfoUZ69aoABUAngq5ueT9gGBR', {'weight': 25}), ('rBcUdx6eQhm8JVhnP3xz1q6gUaRxkBjudH', 'rKG5hricbYjhgp4Qdmr6tsFpmddcT58oRF', {'weight': 15}), ('rKG5hricbYjhgp4Qdmr6tsFpmddcT58oRF', 'rBcUdx6eQhm8JVhnP3xz1q6gUaRxkBjudH', {'weight': 27}), ('rBcZoWpPhJfbAyQ4rVBPmXiybDi25GzkGn', 'rLDt29eg9UsPdhMrSnmDTPpbVF7Sa9QuZH', {'weight': 21}), ('rLDt29eg9UsPdhMrSnmDTPpbVF7Sa9QuZH', 'rBcZoWpPhJfbAyQ4rVBPmXiybDi25GzkGn', {'weight': 33}), ('rBczb4oXorXjKBRv2htLKhw4QYWtAqgD2L', 'rswDUG2AmWUHALdTsydphK8JDWEAn6hfur', {'weight': 19}), ('rswDUG2AmWUHALdTsydphK8JDWEAn6hfur', 'rBczb4oXorXjKBRv2htLKhw4QYWtAqgD2L', {'weight': 29}), ('rBdWrF98pCPzxLbr8ugv9oy5mygU1zRTNL', 'rLMCRHC61XXAcEATKTdo98QzTy5Bn6isUW', {'weight': 30}), ('rLMCRHC61XXAcEATKTdo98QzTy5Bn6isUW', 'rBdWrF98pCPzxLbr8ugv9oy5mygU1zRTNL', {'weight': 17}), ('rBe3SHm5pwFUrTrgeKBdHyPSVh5vi73N3S', 'rEiandce8GYwyPWhReEMSua52foB6TRdTs', {'weight': 28}), ('rEiandce8GYwyPWhReEMSua52foB6TRdTs', 'rBe3SHm5pwFUrTrgeKBdHyPSVh5vi73N3S', {'weight': 16}), ('rBe67PYqhbkmzgxb7dJkCcweYSn3kfHX62', 'rUmYoAvFcnjpdiuf19NGYU42c3Vgfu6KzT', {'weight': 18}), ('rUmYoAvFcnjpdiuf19NGYU42c3Vgfu6KzT', 'rBe67PYqhbkmzgxb7dJkCcweYSn3kfHX62', {'weight': 28}), ('rBeHtaRkhE6PmANN9XQPSvaFYVcsQBrzGZ', 'rKvJQyecuDbELFSCHGkZESzqfib93kS6T6', {'weight': 15}), ('rKvJQyecuDbELFSCHGkZESzqfib93kS6T6', 'rBeHtaRkhE6PmANN9XQPSvaFYVcsQBrzGZ', {'weight': 28}), ('rBf8KHrbHroLRSqGnBY65fcui5Hnou9BY5', 'rE5khjnMXJJc14SKbLVQA2AxsgLtGMFaLE', {'weight': 86}), ('rE5khjnMXJJc14SKbLVQA2AxsgLtGMFaLE', 'rBf8KHrbHroLRSqGnBY65fcui5Hnou9BY5', {'weight': 65}), ('rBfCVhXNcKwHtWpKH8eEH1df5MErgDUWPg', 'rwTuCwGwvi7dwXufzovyibqj57mgjrC9Tm', {'weight': 21}), ('rwTuCwGwvi7dwXufzovyibqj57mgjrC9Tm', 'rBfCVhXNcKwHtWpKH8eEH1df5MErgDUWPg', {'weight': 35}), ('rBfEKoEFjCWsoaETcK7uwH1Rn8s5cCeKsA', 'rwzh1MuDmi6srEvnFeL4nbPg6MkSHdomm3', {'weight': 23}), ('rwzh1MuDmi6srEvnFeL4nbPg6MkSHdomm3', 'rBfEKoEFjCWsoaETcK7uwH1Rn8s5cCeKsA', {'weight': 32}), ('rBfLhqHTmubqfKM3b63fkGiWbGdn6Y59En', 'rMvBJsVooiGKmLEM4eddyNKwve5MXHV9EP', {'weight': 93}), ('rMvBJsVooiGKmLEM4eddyNKwve5MXHV9EP', 'rBfLhqHTmubqfKM3b63fkGiWbGdn6Y59En', {'weight': 78}), ('rBfWVC4LKHjrFz4fXAHPs5YhvMUVjzaEWU', 'rnintYBvnpoCtbwHyuvceFK9ichM7rCXUu', {'weight': 23}), ('rnintYBvnpoCtbwHyuvceFK9ichM7rCXUu', 'rBfWVC4LKHjrFz4fXAHPs5YhvMUVjzaEWU', {'weight': 37}), ('rBfYhwXVCNabCBvc3EDcxd2MkXSuAxjHQY', 'rhWJ39kej7mJ73FvubwLuvnwUgRoyUZ42k', {'weight': 35}), ('rhWJ39kej7mJ73FvubwLuvnwUgRoyUZ42k', 'rBfYhwXVCNabCBvc3EDcxd2MkXSuAxjHQY', {'weight': 26}), ('rBfsW5LGSozVA1XxFbGoR1v7H51g3X3X53', 'rpCF98k9WPHDbasKjm169LFmBCViftNSgq', {'weight': 22}), ('rpCF98k9WPHDbasKjm169LFmBCViftNSgq', 'rBfsW5LGSozVA1XxFbGoR1v7H51g3X3X53', {'weight': 33}), ('rBfte2Dhhy9ipkJr6bvKySWjskjqXnoJVK', 'riSzcMLaTYYk6r7WixikyEac8ivgU2zEP', {'weight': 29}), ('riSzcMLaTYYk6r7WixikyEac8ivgU2zEP', 'rBfte2Dhhy9ipkJr6bvKySWjskjqXnoJVK', {'weight': 38}), ('rBg3JkY5G3oXouUE4rJ5vWWRSNnLE7XZ6C', 'rNL6iUV7LzhZGevU5nvN873uGNP58yXBb2', {'weight': 33}), ('rNL6iUV7LzhZGevU5nvN873uGNP58yXBb2', 'rBg3JkY5G3oXouUE4rJ5vWWRSNnLE7XZ6C', {'weight': 24}), ('rBgX5MskbLotX8DCk1oiQAEb8L3vj5kT7A', 'rHxNK1va2cczswaXC7nRG9aBTfQ6QWEMXY', {'weight': 17}), ('rHxNK1va2cczswaXC7nRG9aBTfQ6QWEMXY', 'rBgX5MskbLotX8DCk1oiQAEb8L3vj5kT7A', {'weight': 32}), ('rBgdGBYoAPsNSdFaTzShCuAUp8EP3GFxHq', 'rLxbhLWggdSfoVPKFFcymrFW4ZZxQrivzM', {'weight': 36}), ('rLxbhLWggdSfoVPKFFcymrFW4ZZxQrivzM', 'rBgdGBYoAPsNSdFaTzShCuAUp8EP3GFxHq', {'weight': 19}), ('rBgdx5wq5f53wsqaTTFJio7nM1rWoDvy1n', 'rMyWnVsVV8GNaXSDrCd7dg4xkKRWEvVkN2', {'weight': 25}), ('rMyWnVsVV8GNaXSDrCd7dg4xkKRWEvVkN2', 'rBgdx5wq5f53wsqaTTFJio7nM1rWoDvy1n', {'weight': 13}), ('rBgt6oh6CPLRJApo4Y6bFR7pjhLZaHCRDk', 'rDkkUzPuoSoxLA7zvdbDkrLZ6imAfxrVva', {'weight': 25}), ('rDkkUzPuoSoxLA7zvdbDkrLZ6imAfxrVva', 'rBgt6oh6CPLRJApo4Y6bFR7pjhLZaHCRDk', {'weight': 14}), ('rBiBqvTkfKBwbVHacSQR4eTzkgtCNuPTpy', 'rJ9FEjpnWDKBuA245kvFL4guU3YqoGEQjS', {'weight': 22}), ('rJ9FEjpnWDKBuA245kvFL4guU3YqoGEQjS', 'rBiBqvTkfKBwbVHacSQR4eTzkgtCNuPTpy', {'weight': 34}), ('rBii9w4LQW9c3XjARqUnACnzjiQHqd86fZ', 'raj67BG9sqEwRFssWqzkzMLaPQWWjkACss', {'weight': 15}), ('raj67BG9sqEwRFssWqzkzMLaPQWWjkACss', 'rBii9w4LQW9c3XjARqUnACnzjiQHqd86fZ', {'weight': 26}), ('rBjCCznCyjeR1DQZhHZBYBp1ZXaRSvezzC', 'rsXiwaV7Co7S7DsWHYExsoSx1a91dpWb9h', {'weight': 1}), ('rsXiwaV7Co7S7DsWHYExsoSx1a91dpWb9h', 'rBjCCznCyjeR1DQZhHZBYBp1ZXaRSvezzC', {'weight': 5}), ('rBjQ1G6bbnkqFv96SdeGMgX34YTDZq5JcA', 'rNVXRe786HvYAeJgBFdQrfRrM7aiFijEtq', {'weight': 25}), ('rNVXRe786HvYAeJgBFdQrfRrM7aiFijEtq', 'rBjQ1G6bbnkqFv96SdeGMgX34YTDZq5JcA', {'weight': 16}), ('rBk4ie4U65W1cTiXvReagCZm6ZqaVpXyy1', 'rpHBLUEkCsC2jSUWrx16PusxVo7Lv44Hj3', {'weight': 19}), ('rpHBLUEkCsC2jSUWrx16PusxVo7Lv44Hj3', 'rBk4ie4U65W1cTiXvReagCZm6ZqaVpXyy1', {'weight': 32}), ('rBk6dgkt3MdNdiJLRbQConahd6myoKcZu5', 'rHDuT3Ccd53kj5T2LaNND4qAbcLheQLTVN', {'weight': 25}), ('rHDuT3Ccd53kj5T2LaNND4qAbcLheQLTVN', 'rBk6dgkt3MdNdiJLRbQConahd6myoKcZu5', {'weight': 14}), ('rBk7a8wVLkrTrpQKo5KjejKqu1P2SqBqxD', 'rao4HaaNzLG4JnPJ4zPi3y5RwaV4MqZHk6', {'weight': 23}), ('rao4HaaNzLG4JnPJ4zPi3y5RwaV4MqZHk6', 'rBk7a8wVLkrTrpQKo5KjejKqu1P2SqBqxD', {'weight': 14}), ('rBkMLe2HgLpShVoz5mfiFLbCA6Y68HGTCx', 'rGYWrtoagT58HAFUsj6Emf87qV3sydPmKV', {'weight': 21}), ('rGYWrtoagT58HAFUsj6Emf87qV3sydPmKV', 'rBkMLe2HgLpShVoz5mfiFLbCA6Y68HGTCx', {'weight': 11}), ('rBkNHPf24VoFFSrALEGbzfGFigLYitFENj', 'rLd7bB5aTJoBtgoCXyDwoN6iCrzuqHMdV3', {'weight': 34}), ('rLd7bB5aTJoBtgoCXyDwoN6iCrzuqHMdV3', 'rBkNHPf24VoFFSrALEGbzfGFigLYitFENj', {'weight': 24}), ('rBkWUSMk2P9VcWReBkwWhe9DyyuKv5i5pm', 'rhjCqwMThKPnGE3xiKeUPRKr5jqhRSX1mK', {'weight': 26}), ('rhjCqwMThKPnGE3xiKeUPRKr5jqhRSX1mK', 'rBkWUSMk2P9VcWReBkwWhe9DyyuKv5i5pm', {'weight': 14}), ('rBkhJ4wmwyKTkUfU8XUFW3bbPsH51Eu9pJ', 'rKGf63uU9XE7gqH3x8UK4Js459xMQFMgKK', {'weight': 19}), ('rKGf63uU9XE7gqH3x8UK4Js459xMQFMgKK', 'rBkhJ4wmwyKTkUfU8XUFW3bbPsH51Eu9pJ', {'weight': 30}), ('rBmEhhQY4E7Ee28ZWyUYrLWiL1gtQ3PV7G', 'rK5K4dM4XHVqccNA3SiRY6NLwcB74XMrMK', {'weight': 36}), ('rK5K4dM4XHVqccNA3SiRY6NLwcB74XMrMK', 'rBmEhhQY4E7Ee28ZWyUYrLWiL1gtQ3PV7G', {'weight': 22}), ('rBmJ2QGpafwkCnZqLK3D3sRjT22LRcwatT', 'rhMpY64omVKMLiZPa24n8qG5wdFeqZB4PS', {'weight': 25}), ('rhMpY64omVKMLiZPa24n8qG5wdFeqZB4PS', 'rBmJ2QGpafwkCnZqLK3D3sRjT22LRcwatT', {'weight': 16}), ('rBmQkbUDoEZW23oAKoYNVsPCGRgyDanfih', 'rnG7EuKbENdYfjGRbWvoPDwhXk5kigXyYv', {'weight': 22}), ('rnG7EuKbENdYfjGRbWvoPDwhXk5kigXyYv', 'rBmQkbUDoEZW23oAKoYNVsPCGRgyDanfih', {'weight': 36}), ('rBmxyPVpu6kD76HUddab5xZiveHNHo1Yep', 'rHoqoBbi9vMmQp1j8Nwj1k6WZxbnF6ET6Q', {'weight': 64}), ('rHoqoBbi9vMmQp1j8Nwj1k6WZxbnF6ET6Q', 'rBmxyPVpu6kD76HUddab5xZiveHNHo1Yep', {'weight': 82}), ('rBn6fj5iA1JonTuaXMGWaerSSdXxgcoGme', 'rwP3wq2RqerDMP4CdQErJ5iKuZTpjQ1RNL', {'weight': 33}), ('rwP3wq2RqerDMP4CdQErJ5iKuZTpjQ1RNL', 'rBn6fj5iA1JonTuaXMGWaerSSdXxgcoGme', {'weight': 17}), ('rBnZKpKJZizHA1cnmunpiTTUG96PkXnxwM', 'rD6mZxz334LibzoLfm1LzAMbrFs7RtPSJw', {'weight': 110}), ('rD6mZxz334LibzoLfm1LzAMbrFs7RtPSJw', 'rBnZKpKJZizHA1cnmunpiTTUG96PkXnxwM', {'weight': 101}), ('rBnb21eJUKLFha3Hvmdrks37Wibdi2UkCg', 'rDjnryTfEakmhPc8P4gitCDuqjWaVdQwMR', {'weight': 26}), ('rDjnryTfEakmhPc8P4gitCDuqjWaVdQwMR', 'rBnb21eJUKLFha3Hvmdrks37Wibdi2UkCg', {'weight': 14}), ('rBo6HVTeXiHwaBornBZ4v9fJwCa1tmhUuv', 'rDVVZrah1PPbCwsKv32KUexw6ieCAAK7a7', {'weight': 95}), ('rDVVZrah1PPbCwsKv32KUexw6ieCAAK7a7', 'rBo6HVTeXiHwaBornBZ4v9fJwCa1tmhUuv', {'weight': 86}), ('rBo7YZtQigziwqcYbKhP4gsZciqriKoRMB', 'rnmn59BYNb5wqYdfWwDzreTSEaBGw61xsF', {'weight': 25}), ('rnmn59BYNb5wqYdfWwDzreTSEaBGw61xsF', 'rBo7YZtQigziwqcYbKhP4gsZciqriKoRMB', {'weight': 13}), ('rBoTLsNGDmMFReTkbxfcs5BB3KsudkSnTJ', 'rHxwUSuWiu6XNbBSUoYqiFjHjckeAQj8EY', {'weight': 40}), ('rHxwUSuWiu6XNbBSUoYqiFjHjckeAQj8EY', 'rBoTLsNGDmMFReTkbxfcs5BB3KsudkSnTJ', {'weight': 30}), ('rBpKFRxhxzD2R1KwwHmXE7EP9Pu99hLeU7', 'rDjQLqkgqrrdTzKPvcZb4CRRguuRAFrAL', {'weight': 28}), ('rDjQLqkgqrrdTzKPvcZb4CRRguuRAFrAL', 'rBpKFRxhxzD2R1KwwHmXE7EP9Pu99hLeU7', {'weight': 15}), ('rBpdMaauXJN4ZDknoUd7ccGTLQKF6NYGpy', 'rDEpYJFwJN3jPHf8UiPRPyjx4PUPYhR28r', {'weight': 37}), ('rDEpYJFwJN3jPHf8UiPRPyjx4PUPYhR28r', 'rBpdMaauXJN4ZDknoUd7ccGTLQKF6NYGpy', {'weight': 29}), ('rBpfEcYiadJkdTLG6Njhuri5szxcLpyD6h', 'rsQcHDD7SKAqL1qsAY3WgLJSgAuKcNz4HU', {'weight': 25}), ('rsQcHDD7SKAqL1qsAY3WgLJSgAuKcNz4HU', 'rBpfEcYiadJkdTLG6Njhuri5szxcLpyD6h', {'weight': 16}), ('rBpgfZyVcS7CZDa6c384u1jPTuUDwnKyzJ', 'rJeb4MDHgH8djDQxAqBnweP1FXerToZLjY', {'weight': 22}), ('rJeb4MDHgH8djDQxAqBnweP1FXerToZLjY', 'rBpgfZyVcS7CZDa6c384u1jPTuUDwnKyzJ', {'weight': 31}), ('rBpsGHu19FVNeFusKiQEdmoszVa16qwJCK', 'rUs4zx8PZYgVPpysoirJ2vdn1WzLmXPido', {'weight': 31}), ('rUs4zx8PZYgVPpysoirJ2vdn1WzLmXPido', 'rBpsGHu19FVNeFusKiQEdmoszVa16qwJCK', {'weight': 22}), ('rBpveZyjKsyxEW4TmuahATEKsaLQUt944j', 'rD4w86PSLSSk51vwwbhzLAev7vi5QQ5RZh', {'weight': 30}), ('rD4w86PSLSSk51vwwbhzLAev7vi5QQ5RZh', 'rBpveZyjKsyxEW4TmuahATEKsaLQUt944j', {'weight': 21}), ('rBqaZRpUkgGgz7VUDh3w16qqgqbwfnxuX4', 'rarfdMsMeHEprJgYf5hw4AinZt8kXqJLQ3', {'weight': 27}), ('rarfdMsMeHEprJgYf5hw4AinZt8kXqJLQ3', 'rBqaZRpUkgGgz7VUDh3w16qqgqbwfnxuX4', {'weight': 16}), ('rBqhokX4v2gkAiWDwUdWPo1tZbojMvs2Bp', 'rfrWiCt2Y4kSkicRr5dxb2pSP99uuGmgZD', {'weight': 36}), ('rfrWiCt2Y4kSkicRr5dxb2pSP99uuGmgZD', 'rBqhokX4v2gkAiWDwUdWPo1tZbojMvs2Bp', {'weight': 22}), ('rBqjqNrqy79iJepkDVJH8B334wuk2EM81t', 'rdPaajc2B1t2RQhCfPbuHLoXypx1d41HV', {'weight': 27}), ('rdPaajc2B1t2RQhCfPbuHLoXypx1d41HV', 'rBqjqNrqy79iJepkDVJH8B334wuk2EM81t', {'weight': 15}), ('rBqu7fa2jsrMTYHRhS4rssQhhW7hTmtFP7', 'rKUwaJMcjocwhDLFkaQajV1EmKhGTh87QL', {'weight': 28}), ('rKUwaJMcjocwhDLFkaQajV1EmKhGTh87QL', 'rBqu7fa2jsrMTYHRhS4rssQhhW7hTmtFP7', {'weight': 19}), ('rBqvGNYvC2kgpj1AQovpgd1yozq52fiyjt', 'rLVSMPhbhDnrFVRffptJ5fTDuPS5ikmi8Q', {'weight': 15}), ('rLVSMPhbhDnrFVRffptJ5fTDuPS5ikmi8Q', 'rBqvGNYvC2kgpj1AQovpgd1yozq52fiyjt', {'weight': 28}), ('rBrLf4CnjY3n4iK657MwrZYWj9XgSM42KE', 'rMwNvX4hw4cZDudMUYxpHvzKS9maEU9czk', {'weight': 33}), ('rMwNvX4hw4cZDudMUYxpHvzKS9maEU9czk', 'rBrLf4CnjY3n4iK657MwrZYWj9XgSM42KE', {'weight': 22}), ('rBrRc1hTrr37Wc6TRWvqzWiHiQujHTNcuj', 'rNZSGQukJejowu7YRNgWBuSXd7wzBidevY', {'weight': 11}), ('rNZSGQukJejowu7YRNgWBuSXd7wzBidevY', 'rBrRc1hTrr37Wc6TRWvqzWiHiQujHTNcuj', {'weight': 21}), ('rBrTyJqzzb12Lg3KxxNQv542BgTEyBv4KL', 'rsfZW4NtyYFUjNbTXJbhLHQRyKDKi3vGN9', {'weight': 29}), ('rsfZW4NtyYFUjNbTXJbhLHQRyKDKi3vGN9', 'rBrTyJqzzb12Lg3KxxNQv542BgTEyBv4KL', {'weight': 14}), ('rBre5XoF4v7k5AUngKS79GLWothEEUzBXS', 'rPNNY2rmKe6hLLog76yELAj56LQ7Z2YncM', {'weight': 18}), ('rPNNY2rmKe6hLLog76yELAj56LQ7Z2YncM', 'rBre5XoF4v7k5AUngKS79GLWothEEUzBXS', {'weight': 32}), ('rBrkmfz8CBZHagHXPFVjBccg2J6rpYpUop', 'rGZDqyRbuPFLK4yt9qanFFc71cCDGjRKfX', {'weight': 29}), ('rGZDqyRbuPFLK4yt9qanFFc71cCDGjRKfX', 'rBrkmfz8CBZHagHXPFVjBccg2J6rpYpUop', {'weight': 15}), ('rBrvuTLp2xWVdw875sHcj5VaNDHFf9ovCd', 'rwXibv9dy4TuP2uptDs2roQRkZ1wxnUrPu', {'weight': 18}), ('rwXibv9dy4TuP2uptDs2roQRkZ1wxnUrPu', 'rBrvuTLp2xWVdw875sHcj5VaNDHFf9ovCd', {'weight': 34}), ('rBs6wQUWxQWNTaYE43yYw3AnV8ih4D8CAJ', 'rHGij7JdJyXG8Qxyj4ojj2sf8Mc8DCajyn', {'weight': 21}), ('rHGij7JdJyXG8Qxyj4ojj2sf8Mc8DCajyn', 'rBs6wQUWxQWNTaYE43yYw3AnV8ih4D8CAJ', {'weight': 30}), ('rBsHxJtDzbtM1iQ24ynp4a67g7mYdEd7Yq', 'rwaTeFaxkrNfbcrYX9tNfUXE5pa7NzLFQb', {'weight': 15}), ('rwaTeFaxkrNfbcrYX9tNfUXE5pa7NzLFQb', 'rBsHxJtDzbtM1iQ24ynp4a67g7mYdEd7Yq', {'weight': 25}), ('rBsZPnAfNea5gGj4Wqcq9s2MeLN9apG7YN', 'rH4qojmo2aApqNNumJRCzQASGYkcW9dM5P', {'weight': 25}), ('rH4qojmo2aApqNNumJRCzQASGYkcW9dM5P', 'rBsZPnAfNea5gGj4Wqcq9s2MeLN9apG7YN', {'weight': 37}), ('rBt529Djk6wLuXiUsmbN5nXrcKZi5qid1y', 'rwUZn7PaexgDANt79TXgbFbY2wdGwRXpuP', {'weight': 38}), ('rwUZn7PaexgDANt79TXgbFbY2wdGwRXpuP', 'rBt529Djk6wLuXiUsmbN5nXrcKZi5qid1y', {'weight': 47}), ('rBtJQqppwDPogR7jZY2Jg8UH1Wf9rmkrmQ', 'rQsBNCrjivBjGsCtALrhQeSMAjz6hoqZ13', {'weight': 26}), ('rQsBNCrjivBjGsCtALrhQeSMAjz6hoqZ13', 'rBtJQqppwDPogR7jZY2Jg8UH1Wf9rmkrmQ', {'weight': 14}), ('rBtLk5RV5v9jsg9zQFy7QgNq7hn6C6iwrm', 'rpMV1jntQm11FsuLzTCjcrSjAXym6PgzF7', {'weight': 22}), ('rpMV1jntQm11FsuLzTCjcrSjAXym6PgzF7', 'rBtLk5RV5v9jsg9zQFy7QgNq7hn6C6iwrm', {'weight': 37}), ('rBtUpxDg6NGnTgPJ1MyyYitV2Xb96YHuXN', 'rG3JodwqCSS188SMfGp3TbTcmMzaG3vboZ', {'weight': 24}), ('rG3JodwqCSS188SMfGp3TbTcmMzaG3vboZ', 'rBtUpxDg6NGnTgPJ1MyyYitV2Xb96YHuXN', {'weight': 35}), ('rBtoqRLVvcNTVPNwXyHamvKuzzX2MP36Sn', 'rMiv8m5GrYjSbcPRmc7Us1ayyiycWFkuRA', {'weight': 30}), ('rMiv8m5GrYjSbcPRmc7Us1ayyiycWFkuRA', 'rBtoqRLVvcNTVPNwXyHamvKuzzX2MP36Sn', {'weight': 21}), ('rBtpCaVni4t79VVX3PGRVhjVFEKhSdBT85', 'raLdUr4TjJfPXYpG9mEpqHDhUwGvTPH1JZ', {'weight': 1}), ('raLdUr4TjJfPXYpG9mEpqHDhUwGvTPH1JZ', 'rBtpCaVni4t79VVX3PGRVhjVFEKhSdBT85', {'weight': 27}), ('rBuHmsPrPWnwZMr5S8Hw4LmYSUMG5Jtnwz', 'rLmoFb1EXjHm3MrjTWHVfedFsm9gknizds', {'weight': 27}), ('rLmoFb1EXjHm3MrjTWHVfedFsm9gknizds', 'rBuHmsPrPWnwZMr5S8Hw4LmYSUMG5Jtnwz', {'weight': 40}), ('rBuVrret9n3uTFAMnp384fd5uzNaYZcgPn', 'rnMtKtBJU3gm9F8KPdBTS4JYyeCpmRBqvH', {'weight': 20}), ('rnMtKtBJU3gm9F8KPdBTS4JYyeCpmRBqvH', 'rBuVrret9n3uTFAMnp384fd5uzNaYZcgPn', {'weight': 30}), ('rBukGWaqFotQwnnMfVdHQxLwBFZbP6P7Gt', 'rEcuRYxJ1E6PsAF7WnfqtV7pboS8CXLWS3', {'weight': 33}), ('rEcuRYxJ1E6PsAF7WnfqtV7pboS8CXLWS3', 'rBukGWaqFotQwnnMfVdHQxLwBFZbP6P7Gt', {'weight': 22}), ('rBurNhnfQnRqsEfQQVDmaM4C3VJ4AsFRFB', 'rSdbUQXpCjL1o48iu6aSmBQuiDoHSVL4A', {'weight': 27}), ('rSdbUQXpCjL1o48iu6aSmBQuiDoHSVL4A', 'rBurNhnfQnRqsEfQQVDmaM4C3VJ4AsFRFB', {'weight': 16}), ('rBvB9xcbqPhhCQmpYQ33XwSouVYzsTHxNh', 'rfeuJsn3QLykgXFPqk5So5hjtCV3hWMN3g', {'weight': 30}), ('rfeuJsn3QLykgXFPqk5So5hjtCV3hWMN3g', 'rBvB9xcbqPhhCQmpYQ33XwSouVYzsTHxNh', {'weight': 15}), ('rBveeHAwgkebnYsrKbW8VmE48DJg3LDA5Y', 'rPUvjjYCX4Bw3yRuwYS26vww9NmcdPZ9vU', {'weight': 28}), ('rPUvjjYCX4Bw3yRuwYS26vww9NmcdPZ9vU', 'rBveeHAwgkebnYsrKbW8VmE48DJg3LDA5Y', {'weight': 15}), ('rBvpajAqZCYNp1JfYcRWELhQwLnuU4Kema', 'rGFfHyxkiEpHwpit6Kx3Mbt7B2UgPU26Gp', {'weight': 28}), ('rGFfHyxkiEpHwpit6Kx3Mbt7B2UgPU26Gp', 'rBvpajAqZCYNp1JfYcRWELhQwLnuU4Kema', {'weight': 15}), ('rBwUUPyyteKhyG5spxmACxcpEnfwk1mKF8', 'rPCDqnKq2SsNo1ToXGSAEK5wYKozMoxfzS', {'weight': 19}), ('rPCDqnKq2SsNo1ToXGSAEK5wYKozMoxfzS', 'rBwUUPyyteKhyG5spxmACxcpEnfwk1mKF8', {'weight': 31}), ('rBwnw3RdutazgSAe5d8PASrE1zYcpJ9wM7', 'rJUdf2DngaDzi1tcaG4EhFHCCAeq6wcmJG', {'weight': 22}), ('rJUdf2DngaDzi1tcaG4EhFHCCAeq6wcmJG', 'rBwnw3RdutazgSAe5d8PASrE1zYcpJ9wM7', {'weight': 36}), ('rBwxMfboaFW1JP7j8hTRQp7pVF5KPEE5H6', 'rnMN4ajEKUBFUpNmFL8Jk3Msmxry4mCtRH', {'weight': 52}), ('rnMN4ajEKUBFUpNmFL8Jk3Msmxry4mCtRH', 'rBwxMfboaFW1JP7j8hTRQp7pVF5KPEE5H6', {'weight': 74}), ('rBwzPNneE94KGng25guztQtjeeC9bD5Bo7', 'rDUNB1MptCrvFt96Xog4RHAT676E1R1anc', {'weight': 22}), ('rDUNB1MptCrvFt96Xog4RHAT676E1R1anc', 'rBwzPNneE94KGng25guztQtjeeC9bD5Bo7', {'weight': 37}), ('rBxN4PAge2HH4brgNX3XUDc1x7dEVY9xr', 'rfdz9NfWyTauxErJepNdniiTk2qfKLQJym', {'weight': 17}), ('rfdz9NfWyTauxErJepNdniiTk2qfKLQJym', 'rBxN4PAge2HH4brgNX3XUDc1x7dEVY9xr', {'weight': 35}), ('rBxVuDupnDj3Lzg1cNxrVUbLebXNbeeLv2', 'rPkh8ZjFMLTkgY63n8tdRmg4BWp5QuRWp7', {'weight': 12}), ('rPkh8ZjFMLTkgY63n8tdRmg4BWp5QuRWp7', 'rBxVuDupnDj3Lzg1cNxrVUbLebXNbeeLv2', {'weight': 21}), ('rBxj5fXzPVxNZ2Vg6AsqEe9e4XB1VAoojd', 'rnVTb7q4XGp8xQ9PoVNypY7Ub6YyLbDSok', {'weight': 15}), ('rnVTb7q4XGp8xQ9PoVNypY7Ub6YyLbDSok', 'rBxj5fXzPVxNZ2Vg6AsqEe9e4XB1VAoojd', {'weight': 28}), ('rBxnfS1EidismMCK99jEEYQRb2bMrambrK', 'rnqrpzxjDkfPXprhAC16NzbQ11cz5MuJoV', {'weight': 31}), ('rnqrpzxjDkfPXprhAC16NzbQ11cz5MuJoV', 'rBxnfS1EidismMCK99jEEYQRb2bMrambrK', {'weight': 21}), ('rBxoW2kamyxNh8jqQCNy2DtLv4ydSqNpND', 'rUzeheeZ11nQybRfT2T2g359vVxAzv1o2X', {'weight': 20}), ('rUzeheeZ11nQybRfT2T2g359vVxAzv1o2X', 'rBxoW2kamyxNh8jqQCNy2DtLv4ydSqNpND', {'weight': 31}), ('rBxq3AqSxhevMLXCXzwsg4zEczhszPagGe', 'rH8opwdcsCQGzyWJZzsj4qZpPwMbzx3jKs', {'weight': 86}), ('rH8opwdcsCQGzyWJZzsj4qZpPwMbzx3jKs', 'rBxq3AqSxhevMLXCXzwsg4zEczhszPagGe', {'weight': 1}), ('rBzHiBDXCabsaawvLodLtnFmqV9eyVxHAh', 'rfrJGY7WPVMoCD6DyKmeKFRXv7ZD1Y19fE', {'weight': 84}), ('rfrJGY7WPVMoCD6DyKmeKFRXv7ZD1Y19fE', 'rBzHiBDXCabsaawvLodLtnFmqV9eyVxHAh', {'weight': 96}), ('rBziLAnx2UjazaeHTmFsne5iykxSoRZ9T', 'rMBW23VzGbeU69iNrJLADFr2JY52am61hx', {'weight': 25}), ('rMBW23VzGbeU69iNrJLADFr2JY52am61hx', 'rBziLAnx2UjazaeHTmFsne5iykxSoRZ9T', {'weight': 13}), ('rBzjdyrZ2sBPoQ9x7mfLYuvwt5TGSACSRP', 'rQrEd9nYH6s8GZeju4KCz2WyGyx9fNutr1', {'weight': 31}), ('rQrEd9nYH6s8GZeju4KCz2WyGyx9fNutr1', 'rBzjdyrZ2sBPoQ9x7mfLYuvwt5TGSACSRP', {'weight': 42}), ('rC7Paka21VH4LqrC8qdnk23jDaPNupgkg', 'rUG7TWfyvu591cXcWc1PMd1DJmaPCmrSLt', {'weight': 32}), ('rUG7TWfyvu591cXcWc1PMd1DJmaPCmrSLt', 'rC7Paka21VH4LqrC8qdnk23jDaPNupgkg', {'weight': 20}), ('rCiot36diCEWrXavUrB8UnCqCd9uqpiYv', 'rn9uJy4RyHXUgoJrXsQogyt3j56VpiUbnh', {'weight': 23}), ('rn9uJy4RyHXUgoJrXsQogyt3j56VpiUbnh', 'rCiot36diCEWrXavUrB8UnCqCd9uqpiYv', {'weight': 35}), ('rD1FSUaWdbLTSsuYCZpUGGq9pL7GpaPRYp', 'rsTrePn6fkFS6YsPzK8uniAJwsKpYQUQPL', {'weight': 32}), ('rsTrePn6fkFS6YsPzK8uniAJwsKpYQUQPL', 'rD1FSUaWdbLTSsuYCZpUGGq9pL7GpaPRYp', {'weight': 22}), ('rD1cecHx5oP3UfJRKk8Hv2p2HEqhr17Cvk', 'rMmNg97bi6bmBWgW5p74Bnou3RXceFwVAL', {'weight': 43}), ('rMmNg97bi6bmBWgW5p74Bnou3RXceFwVAL', 'rD1cecHx5oP3UfJRKk8Hv2p2HEqhr17Cvk', {'weight': 66}), ('rD1nfXrA3fT7C6XhiNfXqzPEZiBGVe8fs3', 'rGkGtFxJwLyLdkuXaSscrpezz9ezcv3uVD', {'weight': 36}), ('rGkGtFxJwLyLdkuXaSscrpezz9ezcv3uVD', 'rD1nfXrA3fT7C6XhiNfXqzPEZiBGVe8fs3', {'weight': 25}), ('rD3Ptz5Hpuu8uvdFqsnWCsKCE8GZJfugis', 'rs5TheGX1ZFMRdFHuzKJDZvz9ggv5t7BnZ', {'weight': 41}), ('rs5TheGX1ZFMRdFHuzKJDZvz9ggv5t7BnZ', 'rD3Ptz5Hpuu8uvdFqsnWCsKCE8GZJfugis', {'weight': 61}), ('rD3SVrxQsXMVo6k5yT9BTT5qnoRhYvWi4Q', 'rN6nQBWdivotLAG69xDduea6kLVxciJxqP', {'weight': 33}), ('rN6nQBWdivotLAG69xDduea6kLVxciJxqP', 'rD3SVrxQsXMVo6k5yT9BTT5qnoRhYvWi4Q', {'weight': 21}), ('rD3cq89668t1SMBz26U8CCJ353f2gGsHNV', 'rQUYzYUGcp1YRf4KKfZsdUvgY8HTgNwN1G', {'weight': 37}), ('rQUYzYUGcp1YRf4KKfZsdUvgY8HTgNwN1G', 'rD3cq89668t1SMBz26U8CCJ353f2gGsHNV', {'weight': 23}), ('rD3rvYjaXHoZabfQua2St93kY55ZUL6Qx', 'rMAB58jnBU8Ns8UVy8M8GyKEx3xnYxXCUs', {'weight': 28}), ('rMAB58jnBU8Ns8UVy8M8GyKEx3xnYxXCUs', 'rD3rvYjaXHoZabfQua2St93kY55ZUL6Qx', {'weight': 38}), ('rD4qFD9ECKtntFW7cGWRqpzaMJ25Q3FpKh', 'rJtqpFrYy531jVtGksoZKEjkQkZK2RW4Rs', {'weight': 31}), ('rJtqpFrYy531jVtGksoZKEjkQkZK2RW4Rs', 'rD4qFD9ECKtntFW7cGWRqpzaMJ25Q3FpKh', {'weight': 22}), ('rD58oi4PeV7PojNyT4fSLpMxKUWpVFwk8z', 'rfmTH7gWg7kcB7bCVJQSaGvWycUPMW7hq1', {'weight': 35}), ('rfmTH7gWg7kcB7bCVJQSaGvWycUPMW7hq1', 'rD58oi4PeV7PojNyT4fSLpMxKUWpVFwk8z', {'weight': 26}), ('rD5TaX5865pEDJbw6Y7eig7ZJ7pdLUaqWh', 'rfCYexWMs8bXwdQN5uz3jbTZintexfeaRk', {'weight': 86}), ('rfCYexWMs8bXwdQN5uz3jbTZintexfeaRk', 'rD5TaX5865pEDJbw6Y7eig7ZJ7pdLUaqWh', {'weight': 65}), ('rD67NLMEnyqp3WPAxWH7k4baG9735myEco', 'rGyTrGWgLf9LQ4kA34iSSv38M972r3EmKb', {'weight': 23}), ('rGyTrGWgLf9LQ4kA34iSSv38M972r3EmKb', 'rD67NLMEnyqp3WPAxWH7k4baG9735myEco', {'weight': 36}), ('rD6SowLMFredMzTGVqss7K3LF6ZQMLmofm', 'rpJV381f18XijaxQXTMhJupprcpN7MhZVG', {'weight': 26}), ('rpJV381f18XijaxQXTMhJupprcpN7MhZVG', 'rD6SowLMFredMzTGVqss7K3LF6ZQMLmofm', {'weight': 14}), ('rD6ZFx3ZVXyhFAKMjYXrkqbtS4DCSPM8MY', 'rQ3DSN1XBTdqqkDWh5AnfHdiyJv5Y7ZesG', {'weight': 97}), ('rQ3DSN1XBTdqqkDWh5AnfHdiyJv5Y7ZesG', 'rD6ZFx3ZVXyhFAKMjYXrkqbtS4DCSPM8MY', {'weight': 107}), ('rD6rXhDHAXmMJ9nPtjKwMBq6BcaYda8Lpe', 'rK6PZZQstztkG7E2DvEP1xGypQoko4Gug8', {'weight': 14}), ('rK6PZZQstztkG7E2DvEP1xGypQoko4Gug8', 'rD6rXhDHAXmMJ9nPtjKwMBq6BcaYda8Lpe', {'weight': 29}), ('rD6vLVw1zMZewYpRhVWjiszwWKfShZecXR', 'rNLvGQ4PLCH8Ja5RDiRWSwTgfmYnp1RFVo', {'weight': 32}), ('rNLvGQ4PLCH8Ja5RDiRWSwTgfmYnp1RFVo', 'rD6vLVw1zMZewYpRhVWjiszwWKfShZecXR', {'weight': 21}), ('rD75hL7EKTdNzpAZZykNhK6yKdtBZqihY7', 'rU9UGnqxg11EcQoGPWpp2VUV3D5ekM5fgs', {'weight': 28}), ('rU9UGnqxg11EcQoGPWpp2VUV3D5ekM5fgs', 'rD75hL7EKTdNzpAZZykNhK6yKdtBZqihY7', {'weight': 39}), ('rD771nnkNrgcVj8gc3SNSTabAEFq8i4oJU', 'rKE68MhqKY2XDd4PGMBZSuagse2pMdnwwM', {'weight': 14}), ('rKE68MhqKY2XDd4PGMBZSuagse2pMdnwwM', 'rD771nnkNrgcVj8gc3SNSTabAEFq8i4oJU', {'weight': 29}), ('rD7M9oAuHDFsaNVRQFp4VojohfxYrN76mM', 'rf8LwH1GGZAMF4oLGmiasvcVyspwuj1MMe', {'weight': 32}), ('rf8LwH1GGZAMF4oLGmiasvcVyspwuj1MMe', 'rD7M9oAuHDFsaNVRQFp4VojohfxYrN76mM', {'weight': 22}), ('rD7UjoRopvZnkHNgSSRkyjicFqcWthMxUN', 'rPC1Kz28hKu7wak2erCHS9Df1WCRtz4fjQ', {'weight': 22}), ('rPC1Kz28hKu7wak2erCHS9Df1WCRtz4fjQ', 'rD7UjoRopvZnkHNgSSRkyjicFqcWthMxUN', {'weight': 34}), ('rD8BVeAf2yP8pwjSB8rp6YBd2xsW5954Yq', 'ram24XkjNctMnep29Q87UBPssUvyLpLvuK', {'weight': 23}), ('ram24XkjNctMnep29Q87UBPssUvyLpLvuK', 'rD8BVeAf2yP8pwjSB8rp6YBd2xsW5954Yq', {'weight': 35}), ('rD8GxWnyFoj7eJoz2YFM6qpkr6rjRGUxEV', 'rchGBxcD1A1C2tdxF6papQYZ8kjRKMYcL', {'weight': 1}), ('rD8HT5u1BZTZzeCRcBak48W8J3jECv63mz', 'rfeNeZGgR4WyPYo5WAEMCYcwpZa7GD6sZy', {'weight': 28}), ('rfeNeZGgR4WyPYo5WAEMCYcwpZa7GD6sZy', 'rD8HT5u1BZTZzeCRcBak48W8J3jECv63mz', {'weight': 16}), ('rD8V6YmwNLMZ7VHM4fdpE6wGKh2tzM2ddU', 'raA6vsiUwS62oiCX2tsLpn1f7VUBa69fjb', {'weight': 14}), ('raA6vsiUwS62oiCX2tsLpn1f7VUBa69fjb', 'rD8V6YmwNLMZ7VHM4fdpE6wGKh2tzM2ddU', {'weight': 23}), ('rD8X5E6zkxAisyfSeSP19otYFUXmHDenEz', 'rshojS1X7PMUZ1UeUsN3RpWqRxzgSybxdg', {'weight': 26}), ('rshojS1X7PMUZ1UeUsN3RpWqRxzgSybxdg', 'rD8X5E6zkxAisyfSeSP19otYFUXmHDenEz', {'weight': 13}), ('rD8kisBX3vvBGzw5MvHe7J1oc7U7oX9gra', 'rhsZ4g4qjXxyqeDFgtoXVKpbGfc6Wt4vAL', {'weight': 11}), ('rhsZ4g4qjXxyqeDFgtoXVKpbGfc6Wt4vAL', 'rD8kisBX3vvBGzw5MvHe7J1oc7U7oX9gra', {'weight': 21}), ('rD8mzR9JYxqnjXGnKgV7kp46U6LeTWrtV8', 'rJDKsCB11ytm3GJGRM7KAJvhGoES45rQS4', {'weight': 42}), ('rJDKsCB11ytm3GJGRM7KAJvhGoES45rQS4', 'rD8mzR9JYxqnjXGnKgV7kp46U6LeTWrtV8', {'weight': 65}), ('rD9AXbRLipuGxNPN8apZcqnG9LURchk1H4', 'rKYyKEzkxRHQPS8REfhNuCo4o5axGfsnfz', {'weight': 17}), ('rKYyKEzkxRHQPS8REfhNuCo4o5axGfsnfz', 'rD9AXbRLipuGxNPN8apZcqnG9LURchk1H4', {'weight': 30}), ('rD9TbcsochFA6ARpTZPN1mQoupbxDsUY8r', 'rncFzwP3NN6qQtTP3R19V7FFJxjXAgLfSz', {'weight': 20}), ('rncFzwP3NN6qQtTP3R19V7FFJxjXAgLfSz', 'rD9TbcsochFA6ARpTZPN1mQoupbxDsUY8r', {'weight': 31}), ('rD9Xo4xJkMHQu4B6acNX8sCavGA94PdqpL', 'rGvJXbnBVemyt4VXot5jtNFeFu5qxUv1wy', {'weight': 14}), ('rGvJXbnBVemyt4VXot5jtNFeFu5qxUv1wy', 'rD9Xo4xJkMHQu4B6acNX8sCavGA94PdqpL', {'weight': 27}), ('rD9eDMhDsrCSY9zRxjFcy5cn5iPMgVzk83', 'rchGBxcD1A1C2tdxF6papQYZ8kjRKMYcL', {'weight': 3}), ('rD9f9gzJF4hYEmLaRNDWQBmFYkprH8pfnK', 'raBF6kfx393KYzf4C3NCMuZh4QZZv7b1ae', {'weight': 27}), ('raBF6kfx393KYzf4C3NCMuZh4QZZv7b1ae', 'rD9f9gzJF4hYEmLaRNDWQBmFYkprH8pfnK', {'weight': 17}), ('rD9j5mzSYgzSWc6KgUQYqqZrBsMexWPJeY', 'rwoGBR1TjdCKpa7arTHom4N89HUZCzrSMS', {'weight': 26}), ('rwoGBR1TjdCKpa7arTHom4N89HUZCzrSMS', 'rD9j5mzSYgzSWc6KgUQYqqZrBsMexWPJeY', {'weight': 40}), ('rD9rhmMkis2nVdaEQ4h4gomrCc5z3hNu9g', 'rauCWoyScWwsguzxQDa4b8inQ1KH3gsvUG', {'weight': 34}), ('rauCWoyScWwsguzxQDa4b8inQ1KH3gsvUG', 'rD9rhmMkis2nVdaEQ4h4gomrCc5z3hNu9g', {'weight': 22}), ('rD9vmHBDDaWf6fuT6WN51tuQi9K88dwPZ9', 'rDqzQpx1nYNfxhjftcqJihjWvrgi2AtEiM', {'weight': 21}), ('rDqzQpx1nYNfxhjftcqJihjWvrgi2AtEiM', 'rD9vmHBDDaWf6fuT6WN51tuQi9K88dwPZ9', {'weight': 30}), ('rDAQXwN9dvkhACumsFn7cXSEbQJ95GmWM5', 'rpG2WvGozH5eopeJ1yt8WL88fV6Pcaud2t', {'weight': 35}), ('rpG2WvGozH5eopeJ1yt8WL88fV6Pcaud2t', 'rDAQXwN9dvkhACumsFn7cXSEbQJ95GmWM5', {'weight': 23}), ('rDAmsSUvo67NbVKBaygHeZGhkxsPiJJg3g', 'rNBQr9qMufaaaCCtqggEdLjtwoSC1ne7z1', {'weight': 13}), ('rNBQr9qMufaaaCCtqggEdLjtwoSC1ne7z1', 'rDAmsSUvo67NbVKBaygHeZGhkxsPiJJg3g', {'weight': 22}), ('rDB5NXhMnWZMFJJ19VdTxBE5PETHaguA3P', 'rGCLuvEh6ZBVWGTfPX46mKT6k6jbXBB26M', {'weight': 31}), ('rGCLuvEh6ZBVWGTfPX46mKT6k6jbXBB26M', 'rDB5NXhMnWZMFJJ19VdTxBE5PETHaguA3P', {'weight': 15}), ('rDB7AnENDriiRNxhvVs1nNnmGTCjohw5rp', 'rKtgvemxDy6e8261u5mT58QH6bsvan1YyZ', {'weight': 19}), ('rKtgvemxDy6e8261u5mT58QH6bsvan1YyZ', 'rDB7AnENDriiRNxhvVs1nNnmGTCjohw5rp', {'weight': 30}), ('rDBjLg5GNNmJcZ8GtZ84q8iSXWXYZu22WF', 'rHrdLiTdbDoGeUm7PzxyS5Gb3mjeqMbeAz', {'weight': 19}), ('rHrdLiTdbDoGeUm7PzxyS5Gb3mjeqMbeAz', 'rDBjLg5GNNmJcZ8GtZ84q8iSXWXYZu22WF', {'weight': 32}), ('rDCAZNy287GLdBFpu25M6t6F5VgECrGwuw', 'rEGaHgq8bfpTEvFVmeUuocBpPo29zdnJqG', {'weight': 88}), ('rEGaHgq8bfpTEvFVmeUuocBpPo29zdnJqG', 'rDCAZNy287GLdBFpu25M6t6F5VgECrGwuw', {'weight': 99}), ('rDCQMTiYQDiP2DvLsAyT3v2RoNZ66mHdv4', 'rDU22SbPinqmF1gRinZjb5KwNMs7ZdTK8u', {'weight': 16}), ('rDU22SbPinqmF1gRinZjb5KwNMs7ZdTK8u', 'rDCQMTiYQDiP2DvLsAyT3v2RoNZ66mHdv4', {'weight': 30}), ('rDDhS5D7Xai5eNVrtFvQtRivQE1VF8Now2', 'rUYqL1fPvaFShrnFxNzguVdTfeMbR6BfX3', {'weight': 20}), ('rUYqL1fPvaFShrnFxNzguVdTfeMbR6BfX3', 'rDDhS5D7Xai5eNVrtFvQtRivQE1VF8Now2', {'weight': 30}), ('rDDrmvVt1PN1744JAAoz2qjVh9a1YzMJNg', 'rKfSRsn4EBvoaFKo1saq9hopPhx8BDX2pY', {'weight': 23}), ('rKfSRsn4EBvoaFKo1saq9hopPhx8BDX2pY', 'rDDrmvVt1PN1744JAAoz2qjVh9a1YzMJNg', {'weight': 33}), ('rDE95Feha6mttVuk8NDV8t1PXLXrS2UAUr', 'rnu2KkkhBquChxsaTYrsvTdn9vwgHWfo6t', {'weight': 24}), ('rnu2KkkhBquChxsaTYrsvTdn9vwgHWfo6t', 'rDE95Feha6mttVuk8NDV8t1PXLXrS2UAUr', {'weight': 36}), ('rDFM7aQtQZx5PRTYWAmv58zABFWfMYL2iy', 'rwTBcpmWy8qLNmsu3XQH7NjeNyBs6J9433', {'weight': 29}), ('rwTBcpmWy8qLNmsu3XQH7NjeNyBs6J9433', 'rDFM7aQtQZx5PRTYWAmv58zABFWfMYL2iy', {'weight': 38}), ('rDFV2bTptzvs2jyUZsBKUh4HuQBnv6qPfC', 'rG2xnSyti59vUx5RNnXqhZdpTBjn9L2ibN', {'weight': 70}), ('rG2xnSyti59vUx5RNnXqhZdpTBjn9L2ibN', 'rDFV2bTptzvs2jyUZsBKUh4HuQBnv6qPfC', {'weight': 52}), ('rDFXYSV4X4RMKg3tobJmuzphvkAQHTrtyW', 'rMHxCtPyKHSex1jndkhNo3WKd98TbjXNpE', {'weight': 15}), ('rMHxCtPyKHSex1jndkhNo3WKd98TbjXNpE', 'rDFXYSV4X4RMKg3tobJmuzphvkAQHTrtyW', {'weight': 30}), ('rDFa5NhPjpkVghEt4a1hbrsvyE5zcPFgTW', 'rJTeHtJUQDVdbUMK3o3zBH82HctsUTDM5W', {'weight': 33}), ('rJTeHtJUQDVdbUMK3o3zBH82HctsUTDM5W', 'rDFa5NhPjpkVghEt4a1hbrsvyE5zcPFgTW', {'weight': 22}), ('rDFjPEWV8RrcJBCnwftxtM2zeenKG83a73', 'rH9YPSu2QD4NqHNDTiRqj34uTxmq8PPs9B', {'weight': 14}), ('rH9YPSu2QD4NqHNDTiRqj34uTxmq8PPs9B', 'rDFjPEWV8RrcJBCnwftxtM2zeenKG83a73', {'weight': 23}), ('rDGTEdbbWQfBKJkLRLHamZf1zh8mz7Tby6', 'rhMX3AGBv8i69C1KnbXpTYawEfNg8o6n4o', {'weight': 14}), ('rhMX3AGBv8i69C1KnbXpTYawEfNg8o6n4o', 'rDGTEdbbWQfBKJkLRLHamZf1zh8mz7Tby6', {'weight': 26}), ('rDGqZQWHwA4uYMByVj35coMxQPZw8dEVq7', 'raQXd3VQfhTp6aXzRwvSjVcBtkAerr1DZ4', {'weight': 85}), ('raQXd3VQfhTp6aXzRwvSjVcBtkAerr1DZ4', 'rDGqZQWHwA4uYMByVj35coMxQPZw8dEVq7', {'weight': 64}), ('rDGyMUy2w8vmb8eanY3Tz8iT15Af941Zbs', 'rhLnivV8krK5uokToaA8N6pMqBoxDupG48', {'weight': 1}), ('rhLnivV8krK5uokToaA8N6pMqBoxDupG48', 'rDGyMUy2w8vmb8eanY3Tz8iT15Af941Zbs', {'weight': 79}), ('rDHtXCkFrv5jW8Qq2DfpNz9owY6Lfr5Nre', 'rLxL2iNSwJxLegf4LRtSdbt66odCNGJDPC', {'weight': 31}), ('rLxL2iNSwJxLegf4LRtSdbt66odCNGJDPC', 'rDHtXCkFrv5jW8Qq2DfpNz9owY6Lfr5Nre', {'weight': 21}), ('rDJVnKJfW4M9YQUJQPxCVjKK1rFmg1PENN', 'rLuPVowvBVEDLe2p6aA8LrrvfM3coVKXbA', {'weight': 21}), ('rLuPVowvBVEDLe2p6aA8LrrvfM3coVKXbA', 'rDJVnKJfW4M9YQUJQPxCVjKK1rFmg1PENN', {'weight': 31}), ('rDJvidCMzQzNwyUnSCEpbLbVqmYMgsXAxK', 'rQD6TmComq4xEndDhN34hRW51SsM62KEwL', {'weight': 34}), ('rQD6TmComq4xEndDhN34hRW51SsM62KEwL', 'rDJvidCMzQzNwyUnSCEpbLbVqmYMgsXAxK', {'weight': 24}), ('rDK8TW6Y5XVBqQNdQ55iPumWE528VsxtUF', 'rnsPfZQ6RwGcsQN3ij2yrE5dsTZq5S3AJV', {'weight': 29}), ('rnsPfZQ6RwGcsQN3ij2yrE5dsTZq5S3AJV', 'rDK8TW6Y5XVBqQNdQ55iPumWE528VsxtUF', {'weight': 21}), ('rDKRDKGtYz2NxHL7wxwJoZDSJkpAGrs7cB', 'rwwTezxxw7jysRSLF6698XcuHTy76AB8US', {'weight': 35}), ('rwwTezxxw7jysRSLF6698XcuHTy76AB8US', 'rDKRDKGtYz2NxHL7wxwJoZDSJkpAGrs7cB', {'weight': 23}), ('rDLFAp4mcfF5WJbcRHwcEjT9vcsMKuVJKC', 'rEzhbgmhoTvf8uc7dujnYUCuiDqx27SUgs', {'weight': 18}), ('rEzhbgmhoTvf8uc7dujnYUCuiDqx27SUgs', 'rDLFAp4mcfF5WJbcRHwcEjT9vcsMKuVJKC', {'weight': 33}), ('rDLKyw2HVoKRoB8XMCZdpTgqiwaPZTojbW', 'rKQprqu6aqztKFz6ojztAKr8jXsR65B7Lt', {'weight': 21}), ('rKQprqu6aqztKFz6ojztAKr8jXsR65B7Lt', 'rDLKyw2HVoKRoB8XMCZdpTgqiwaPZTojbW', {'weight': 30}), ('rDLamHTKaJnyDgXT7QLwZPYQeUep4Vpqk8', 'rf6xpvC1nQ6bFG5YNSNadiChBG3Evbc1Vd', {'weight': 16}), ('rf6xpvC1nQ6bFG5YNSNadiChBG3Evbc1Vd', 'rDLamHTKaJnyDgXT7QLwZPYQeUep4Vpqk8', {'weight': 25}), ('rDLw5e8u5uL1LrHVAy2LHp1Licb5mDnfso', 'rKP6rSg5csE4zg1oWrTVm79uWEYeH8Y26U', {'weight': 21}), ('rKP6rSg5csE4zg1oWrTVm79uWEYeH8Y26U', 'rDLw5e8u5uL1LrHVAy2LHp1Licb5mDnfso', {'weight': 11}), ('rDMN2Th1NQiY7X4qeh7Tbfk45dTjsAAyXZ', 'rpML6KQLUVEfzbhY2hEEm9VYhg8LR9tqbw', {'weight': 15}), ('rpML6KQLUVEfzbhY2hEEm9VYhg8LR9tqbw', 'rDMN2Th1NQiY7X4qeh7Tbfk45dTjsAAyXZ', {'weight': 29}), ('rDNED74kxhj6p6giLiqpoT4hXRwUrbpPSs', 'rsMwRu2viucHBSaX3Utsf46XASuXSn4swX', {'weight': 28}), ('rsMwRu2viucHBSaX3Utsf46XASuXSn4swX', 'rDNED74kxhj6p6giLiqpoT4hXRwUrbpPSs', {'weight': 39}), ('rDNV1UWMoie8vcLWdhaYk56JX4ZqJYi7rU', 'rEZadY7XjdaQhCiH9jiPbNaE5Y3YRPWCLD', {'weight': 21}), ('rEZadY7XjdaQhCiH9jiPbNaE5Y3YRPWCLD', 'rDNV1UWMoie8vcLWdhaYk56JX4ZqJYi7rU', {'weight': 33}), ('rDNn3vsTm8EzVnHKUEea7QvC4bYZDEBH7v', 'rGESentFtoHcXvYMbFxF2k89i9W8ddRNJj', {'weight': 31}), ('rGESentFtoHcXvYMbFxF2k89i9W8ddRNJj', 'rDNn3vsTm8EzVnHKUEea7QvC4bYZDEBH7v', {'weight': 42}), ('rDNz7e8AdyN27UecpJbtGUu1argqdL4S4e', 'raGTJCuHtdj19v2KefKJuGNHn3cax4Hcip', {'weight': 14}), ('raGTJCuHtdj19v2KefKJuGNHn3cax4Hcip', 'rDNz7e8AdyN27UecpJbtGUu1argqdL4S4e', {'weight': 26}), ('rDPW4dwAWugYNYRdUh9BkEj8gD1mZtkSSi', 'rM5xBvKsWCvFxCbbAFv9ZVkuoEU9SJDWay', {'weight': 22}), ('rM5xBvKsWCvFxCbbAFv9ZVkuoEU9SJDWay', 'rDPW4dwAWugYNYRdUh9BkEj8gD1mZtkSSi', {'weight': 33}), ('rDPbxsTCvxMzbWEouiYHAFqTGmVQJviDDp', 'rLyqyNYDGrvfjvpm99o5phHhtungGtKamT', {'weight': 18}), ('rLyqyNYDGrvfjvpm99o5phHhtungGtKamT', 'rDPbxsTCvxMzbWEouiYHAFqTGmVQJviDDp', {'weight': 33}), ('rDPgR3YQxfko5Dndn9EAkqtpoQ4MPX5dmx', 'rN6c3vCeVNpEDiAWNp7CAsDFYitFLiVg7o', {'weight': 27}), ('rN6c3vCeVNpEDiAWNp7CAsDFYitFLiVg7o', 'rDPgR3YQxfko5Dndn9EAkqtpoQ4MPX5dmx', {'weight': 18}), ('rDQW5SZ2HSTRoJFrJ3PyuU4fo6emWiE7Kt', 'rGnHejtQqs7KC6reXYKVuE5eKcVGMb8QZJ', {'weight': 24}), ('rGnHejtQqs7KC6reXYKVuE5eKcVGMb8QZJ', 'rDQW5SZ2HSTRoJFrJ3PyuU4fo6emWiE7Kt', {'weight': 12}), ('rDQsaFafxdx9aHSb5pAcmDpVpn3Mk2PPdR', 'rLuECvzPWm4THQkVz8XD1LPhr5EqjmzFrT', {'weight': 22}), ('rLuECvzPWm4THQkVz8XD1LPhr5EqjmzFrT', 'rDQsaFafxdx9aHSb5pAcmDpVpn3Mk2PPdR', {'weight': 32}), ('rDRjyCkCeQpvoDQSyQh5smy5q6CztRbAFY', 'rP7Jfpy2yMUghdEki4LAxETdVT3Ctozrkf', {'weight': 41}), ('rP7Jfpy2yMUghdEki4LAxETdVT3Ctozrkf', 'rDRjyCkCeQpvoDQSyQh5smy5q6CztRbAFY', {'weight': 30}), ('rDRxjN5fosVik2ovndGUciQY5FUSPVUvc2', 'rNFMQqSRNt7wUGvc17dHY8hZNzQMfLTWE5', {'weight': 42}), ('rNFMQqSRNt7wUGvc17dHY8hZNzQMfLTWE5', 'rDRxjN5fosVik2ovndGUciQY5FUSPVUvc2', {'weight': 63}), ('rDSC4ZqCzF9jvBwUguVxqX1Acr66nAin33', 'rK1ky78f5aro8QgbkYhxgBW3YsqzwLJT7B', {'weight': 38}), ('rK1ky78f5aro8QgbkYhxgBW3YsqzwLJT7B', 'rDSC4ZqCzF9jvBwUguVxqX1Acr66nAin33', {'weight': 24}), ('rDSGqspVZ51ChdTjfDN8SYDM7ACDdonSgu', 'rPGPAPKJFf2XyGLTkQqn5Kku2SYrHNHCeP', {'weight': 41}), ('rPGPAPKJFf2XyGLTkQqn5Kku2SYrHNHCeP', 'rDSGqspVZ51ChdTjfDN8SYDM7ACDdonSgu', {'weight': 30}), ('rDSq9QAUr16GpqL1n8dDYpSb4ACCxQ3pUK', 'rhnScZyWWMBjAmfYjH9Q9Ez1VdxvoqsZFv', {'weight': 41}), ('rhnScZyWWMBjAmfYjH9Q9Ez1VdxvoqsZFv', 'rDSq9QAUr16GpqL1n8dDYpSb4ACCxQ3pUK', {'weight': 30}), ('rDT5UkvcuDVYT1uUp7BtGZ4Hs1fEMXhmWj', 'rDbhmcrec4KtKicmXk2KmFEjYTwKnigvHh', {'weight': 22}), ('rDbhmcrec4KtKicmXk2KmFEjYTwKnigvHh', 'rDT5UkvcuDVYT1uUp7BtGZ4Hs1fEMXhmWj', {'weight': 13}), ('rDTDq1mccay81qgzfmG5pHNT9YQFkZ2gRY', 'rfVTqjzSwuYuQiu4VXPXvPpREfjgLGCPze', {'weight': 17}), ('rfVTqjzSwuYuQiu4VXPXvPpREfjgLGCPze', 'rDTDq1mccay81qgzfmG5pHNT9YQFkZ2gRY', {'weight': 30}), ('rDTHySTW88S7sQHSSC6JHQUBfe1v1fFYtF', 'rw6AD2UsmABreHRV4Y9BWDZP3NJdY2MXMX', {'weight': 27}), ('rw6AD2UsmABreHRV4Y9BWDZP3NJdY2MXMX', 'rDTHySTW88S7sQHSSC6JHQUBfe1v1fFYtF', {'weight': 37}), ('rDTnuQvreGMxhkrVwq9ky5bqm2hb8Wk164', 'rfooZyjUAzbVvYwJiiFFsdz8KTH5gCgj7E', {'weight': 30}), ('rfooZyjUAzbVvYwJiiFFsdz8KTH5gCgj7E', 'rDTnuQvreGMxhkrVwq9ky5bqm2hb8Wk164', {'weight': 40}), ('rDU79Hk1e4srJDheU5vdvU6JXmrhFQDeZX', 'rf1HLgcDFS5QyyAidFj3xiandF9oz5nhoX', {'weight': 95}), ('rf1HLgcDFS5QyyAidFj3xiandF9oz5nhoX', 'rDU79Hk1e4srJDheU5vdvU6JXmrhFQDeZX', {'weight': 81}), ('rDUQ2xmES9CAM1b9ViPcedTmsoRTn9am1e', 'rPMTDcHLvpvkQo7wU76dCU8ADdHG9gqPkY', {'weight': 17}), ('rPMTDcHLvpvkQo7wU76dCU8ADdHG9gqPkY', 'rDUQ2xmES9CAM1b9ViPcedTmsoRTn9am1e', {'weight': 28}), ('rDUUUPbUmSu9CpUXbwJdoTodMHZUBVdQf1', 'rLSETn4iDhVPSBKVZUMrHWiicASTPSuu5n', {'weight': 25}), ('rLSETn4iDhVPSBKVZUMrHWiicASTPSuu5n', 'rDUUUPbUmSu9CpUXbwJdoTodMHZUBVdQf1', {'weight': 11}), ('rDUpJXy8EafaWw6s91oeLQqvaoFCHc7zep', 'rwawzgrbcBQkzecu9JWzmqDpWYbZ8Rrciu', {'weight': 35}), ('rwawzgrbcBQkzecu9JWzmqDpWYbZ8Rrciu', 'rDUpJXy8EafaWw6s91oeLQqvaoFCHc7zep', {'weight': 22}), ('rDV263d3eHN9KFqXrUjWLqtfgguHC1dQnf', 'rnoCwrTrGdJ5QGXHXekQ3ZxHkDAXv8H3LP', {'weight': 33}), ('rnoCwrTrGdJ5QGXHXekQ3ZxHkDAXv8H3LP', 'rDV263d3eHN9KFqXrUjWLqtfgguHC1dQnf', {'weight': 22}), ('rDV3RhpWznRCmtpD17RNxg6t4Hg8NPV8mF', 'rJm7y85a18AtAtt6sqp3m6gFvVzFM4mtfv', {'weight': 36}), ('rJm7y85a18AtAtt6sqp3m6gFvVzFM4mtfv', 'rDV3RhpWznRCmtpD17RNxg6t4Hg8NPV8mF', {'weight': 45}), ('rDVDJqLK1q1oVegbc2EUiEXHNfoRuyWDBW', 'racxT4ouxTww1YjQNFibDW11qBnfzdkfAB', {'weight': 14}), ('racxT4ouxTww1YjQNFibDW11qBnfzdkfAB', 'rDVDJqLK1q1oVegbc2EUiEXHNfoRuyWDBW', {'weight': 24}), ('rDWBQj3cHRbtyB8ZozH5SNFFYjEsGVbB8S', 'raGL6ByPJ6w7WYXEX6QopKswQWXVHgURYE', {'weight': 80}), ('raGL6ByPJ6w7WYXEX6QopKswQWXVHgURYE', 'rDWBQj3cHRbtyB8ZozH5SNFFYjEsGVbB8S', {'weight': 93}), ('rDWYoFrQDdLg7dtjDr53jL3hnLuKiAD9bV', 'rKJ9LriRL9exvhQpfHYdkirYQgoZLREmh4', {'weight': 25}), ('rKJ9LriRL9exvhQpfHYdkirYQgoZLREmh4', 'rDWYoFrQDdLg7dtjDr53jL3hnLuKiAD9bV', {'weight': 16}), ('rDWbtGk8r9y6cV4fyjZ1g5nW4ZfWECWEnw', 'rhGgtyaRbogPenCuK2C6XFuU4rpuEJdcDw', {'weight': 32}), ('rhGgtyaRbogPenCuK2C6XFuU4rpuEJdcDw', 'rDWbtGk8r9y6cV4fyjZ1g5nW4ZfWECWEnw', {'weight': 23}), ('rDWid3Q68FT1o9dw8SzHfM76VXbdtiY4zF', 'rat8YFiaRuNwJYzN3qkC64iEHAiCdoSAaa', {'weight': 1}), ('rat8YFiaRuNwJYzN3qkC64iEHAiCdoSAaa', 'rDWid3Q68FT1o9dw8SzHfM76VXbdtiY4zF', {'weight': 71}), ('rDWsuo3WwxzzXya51vq64V7aCfCdb3dKtL', 'rnM2cr2wuE4s24H7mzCbfiporosAojvsvR', {'weight': 28}), ('rnM2cr2wuE4s24H7mzCbfiporosAojvsvR', 'rDWsuo3WwxzzXya51vq64V7aCfCdb3dKtL', {'weight': 19}), ('rDX2TH9Anh1T7HyAdFRKyMzaegvVup2TUV', 'rDxFiTdNWzqHR5Q6GjQhEDYSSAZM4F4NPW', {'weight': 27}), ('rDxFiTdNWzqHR5Q6GjQhEDYSSAZM4F4NPW', 'rDX2TH9Anh1T7HyAdFRKyMzaegvVup2TUV', {'weight': 16}), ('rDXBeNv9TYjNdtnxwPYVBmKd4oeSTGnvgS', 'rNC2kNBmJ7bTwv1CvAv3yDYQtfxYYbM7VY', {'weight': 19}), ('rNC2kNBmJ7bTwv1CvAv3yDYQtfxYYbM7VY', 'rDXBeNv9TYjNdtnxwPYVBmKd4oeSTGnvgS', {'weight': 29}), ('rDXELwwcKdZXua1BZa26gF7J2r2Xn4ywvy', 'rJSkZKbP6m5T7KiXmuio1H3wAVt17TeLru', {'weight': 28}), ('rJSkZKbP6m5T7KiXmuio1H3wAVt17TeLru', 'rDXELwwcKdZXua1BZa26gF7J2r2Xn4ywvy', {'weight': 43}), ('rDXepUWgJUY1BvVQiZnpmZ68unetXQKxmz', 'rnrP5PxV7myPtBchnoRiBeunVp1CBc4QzU', {'weight': 63}), ('rnrP5PxV7myPtBchnoRiBeunVp1CBc4QzU', 'rDXepUWgJUY1BvVQiZnpmZ68unetXQKxmz', {'weight': 84}), ('rDXhJyyRidSPGEa8sp6BpuaAMS6Tw2PHuf', 'rpPRgnwczmPGqvpWwX5hJ2uNjmvqiyG92i', {'weight': 31}), ('rpPRgnwczmPGqvpWwX5hJ2uNjmvqiyG92i', 'rDXhJyyRidSPGEa8sp6BpuaAMS6Tw2PHuf', {'weight': 19}), ('rDXnzR8Uv3KYZpHq73wk7wM7Lr3jBrKDq3', 'rMRT8knuEXTPoBDtegxD4mcsVGfLutZALE', {'weight': 39}), ('rMRT8knuEXTPoBDtegxD4mcsVGfLutZALE', 'rDXnzR8Uv3KYZpHq73wk7wM7Lr3jBrKDq3', {'weight': 28}), ('rDXrr8z5vwiGZ94KBbwxSswuNqdhJYoGWf', 'rKaf3bzFRzjJYAaRohLEviePeWN4zhKoRQ', {'weight': 41}), ('rKaf3bzFRzjJYAaRohLEviePeWN4zhKoRQ', 'rDXrr8z5vwiGZ94KBbwxSswuNqdhJYoGWf', {'weight': 32}), ('rDY5qF8hGX5wmwMHcYbrjwRQtqGsDMqBkE', 'rhyrKWJ9XMoZejBjXrxwLoWqyV2pMPn5XR', {'weight': 71}), ('rhyrKWJ9XMoZejBjXrxwLoWqyV2pMPn5XR', 'rDY5qF8hGX5wmwMHcYbrjwRQtqGsDMqBkE', {'weight': 90}), ('rDYDESs9ktFYBYk7bBZDqGim7ydJpFk4X', 'rPESBi6DUnooY7WPwC6SYBzbW2iTw9t88k', {'weight': 24}), ('rPESBi6DUnooY7WPwC6SYBzbW2iTw9t88k', 'rDYDESs9ktFYBYk7bBZDqGim7ydJpFk4X', {'weight': 39}), ('rDYtDVUz5XpJeFgU5viC2W9K5X5LScb53J', 'rHm9NR5SYJtfrqGzeagdRyKi7bPgAurccK', {'weight': 30}), ('rHm9NR5SYJtfrqGzeagdRyKi7bPgAurccK', 'rDYtDVUz5XpJeFgU5viC2W9K5X5LScb53J', {'weight': 19}), ('rDZUDXRhMRhBSE7VtR2NXnPQDHM6Ar5hmf', 'rE6fvk7aYC3B7AjaLdXVtg5onCQwAe1R5f', {'weight': 18}), ('rE6fvk7aYC3B7AjaLdXVtg5onCQwAe1R5f', 'rDZUDXRhMRhBSE7VtR2NXnPQDHM6Ar5hmf', {'weight': 27}), ('rDZtecayaKoTCmHbtiZGnknpe44MmizJ6m', 'rKijasNdfDBv2uEFA98mnSaruuguUmF2fk', {'weight': 26}), ('rKijasNdfDBv2uEFA98mnSaruuguUmF2fk', 'rDZtecayaKoTCmHbtiZGnknpe44MmizJ6m', {'weight': 17}), ('rDaVsDuyUtLuqDJnwGamHG7TsPdzz5oCTE', 'rLdkyXgRkzLGHWGWiKYJJf3RwsZkYZ1HmU', {'weight': 21}), ('rLdkyXgRkzLGHWGWiKYJJf3RwsZkYZ1HmU', 'rDaVsDuyUtLuqDJnwGamHG7TsPdzz5oCTE', {'weight': 30}), ('rDb3QSWgECUQyhVcL1FQ1NHsnmZx8oy6Ds', 'rLVGFpA2msqtj3JGMGzFAR6uiLW87FvZva', {'weight': 41}), ('rLVGFpA2msqtj3JGMGzFAR6uiLW87FvZva', 'rDb3QSWgECUQyhVcL1FQ1NHsnmZx8oy6Ds', {'weight': 52}), ('rDbQbwMwrzqApLfTik6HSn85eqrbJhLhkT', 'rU3xfqvZwgnvds51ptLHDRch4X9ibKcUoG', {'weight': 30}), ('rU3xfqvZwgnvds51ptLHDRch4X9ibKcUoG', 'rDbQbwMwrzqApLfTik6HSn85eqrbJhLhkT', {'weight': 20}), ('rDbQoayHrTf3XWbC4exd7K6tYqThdyhzfr', 'rPZUXzEXex2bbH4gxfWvp3hL5q6JLYFgLX', {'weight': 29}), ('rPZUXzEXex2bbH4gxfWvp3hL5q6JLYFgLX', 'rDbQoayHrTf3XWbC4exd7K6tYqThdyhzfr', {'weight': 15}), ('rDba8wot7Fd2L7sghBiNAJC2a1vPYEZMGv', 'rN2uuFVHB59jhJrccZ5cgmkQtVFxF4pcww', {'weight': 15}), ('rN2uuFVHB59jhJrccZ5cgmkQtVFxF4pcww', 'rDba8wot7Fd2L7sghBiNAJC2a1vPYEZMGv', {'weight': 31}), ('rDbr76sXBtwWEn6gZx4UuLdeZPu2EW6kHP', 'rwkzGiEjayHNxCS1CUDvUBwPKHiUgJjS7r', {'weight': 26}), ('rwkzGiEjayHNxCS1CUDvUBwPKHiUgJjS7r', 'rDbr76sXBtwWEn6gZx4UuLdeZPu2EW6kHP', {'weight': 15}), ('rDc2KgoWg2CQaHPUDmmpqF8Xd7xQzzrqbN', 'rHo16GoWkEZar8zhEDfGxcRxMLo8qMqk1b', {'weight': 77}), ('rHo16GoWkEZar8zhEDfGxcRxMLo8qMqk1b', 'rDc2KgoWg2CQaHPUDmmpqF8Xd7xQzzrqbN', {'weight': 53}), ('rDc3Dxg6Ux8n3kWSraS1VQUxFVCr5VhXnb', 'rLxVTn7KPnjntVS75baG1v9tqsWA2vbEmA', {'weight': 30}), ('rLxVTn7KPnjntVS75baG1v9tqsWA2vbEmA', 'rDc3Dxg6Ux8n3kWSraS1VQUxFVCr5VhXnb', {'weight': 20}), ('rDcPUKHry6quq4vDGEEZhogqn8tJ9EQDGz', 'rchGBxcD1A1C2tdxF6papQYZ8kjRKMYcL', {'weight': 1}), ('rDcPjwP7aAtLAPUWMJoEt3ZWS2xjqnEkW6', 'rPGUevcGnMoF85sfZrtL1x6EXhM2wG4Fmx', {'weight': 33}), ('rPGUevcGnMoF85sfZrtL1x6EXhM2wG4Fmx', 'rDcPjwP7aAtLAPUWMJoEt3ZWS2xjqnEkW6', {'weight': 22}), ('rDcTd8wk1HHkQtHRRuhgKH16x4HoiQmFK5', 'rpdc2o8fsd4n7YKcodETUMbYjcMBGP7q6y', {'weight': 22}), ('rpdc2o8fsd4n7YKcodETUMbYjcMBGP7q6y', 'rDcTd8wk1HHkQtHRRuhgKH16x4HoiQmFK5', {'weight': 33}), ('rDce1LT41agH9sB3cTXWsAgyQmTYRs3ode', 'rsrZnqCyLHdQ1UDS9XQ2aqGkZVD2PeioEe', {'weight': 27}), ('rsrZnqCyLHdQ1UDS9XQ2aqGkZVD2PeioEe', 'rDce1LT41agH9sB3cTXWsAgyQmTYRs3ode', {'weight': 18}), ('rDcoiHu341qusuT2hgZvb2fCsQtR8zbrRo', 'rGNGh8QqQJS7uX1iNA53C1xwMD1g2nUbHh', {'weight': 82}), ('rGNGh8QqQJS7uX1iNA53C1xwMD1g2nUbHh', 'rDcoiHu341qusuT2hgZvb2fCsQtR8zbrRo', {'weight': 96}), ('rDd9KBUWXp6NrWWyeCMRfXBYvcqre2z5Jh', 'rJyQ8iqL8vBE9TjkRt8affj2SVN81cvLhR', {'weight': 14}), ('rJyQ8iqL8vBE9TjkRt8affj2SVN81cvLhR', 'rDd9KBUWXp6NrWWyeCMRfXBYvcqre2z5Jh', {'weight': 24}), ('rDdWuhz3sacWGJa52xWLsh86jUSDHTBeX6', 'raTGa69M2WzmdRVXqswmepUJ8DLcGtA6fK', {'weight': 24}), ('raTGa69M2WzmdRVXqswmepUJ8DLcGtA6fK', 'rDdWuhz3sacWGJa52xWLsh86jUSDHTBeX6', {'weight': 15}), ('rDda5E4bQEGPMHVKREnSW997j8DkiYugb3', 'rH1wZmdizCg7GLMpWojKeRyNr3WofmZYcF', {'weight': 14}), ('rH1wZmdizCg7GLMpWojKeRyNr3WofmZYcF', 'rDda5E4bQEGPMHVKREnSW997j8DkiYugb3', {'weight': 29}), ('rDdjugcFPpg7FhCi17fammmrjQLcJqhZHr', 'rNwhUdwzYS1fb5FtJEMWkKvksJVKXvRCGN', {'weight': 19}), ('rNwhUdwzYS1fb5FtJEMWkKvksJVKXvRCGN', 'rDdjugcFPpg7FhCi17fammmrjQLcJqhZHr', {'weight': 30}), ('rDdpABiYFNUKJvcsJGYYotjqS3SJKEu2w8', 'rQhYGdkCMZ8PZSZA1n6nusNiM9FizBYFsP', {'weight': 21}), ('rQhYGdkCMZ8PZSZA1n6nusNiM9FizBYFsP', 'rDdpABiYFNUKJvcsJGYYotjqS3SJKEu2w8', {'weight': 31}), ('rDe1qroZFbHeHEnqLUxeAWh1zWDUnKzU6L', 'rPGnWjDmN31d6rjC69YvPCPkjZva8NghvF', {'weight': 29}), ('rPGnWjDmN31d6rjC69YvPCPkjZva8NghvF', 'rDe1qroZFbHeHEnqLUxeAWh1zWDUnKzU6L', {'weight': 14}), ('rDe7Wr4sUeM3oJsvZyb1hcgqHh33MCMFg6', 'rErFnovLJAxrv2iPshJ9it418GYWCEFB3B', {'weight': 16}), ('rErFnovLJAxrv2iPshJ9it418GYWCEFB3B', 'rDe7Wr4sUeM3oJsvZyb1hcgqHh33MCMFg6', {'weight': 30}), ('rDeDW5Ey6Jg5Yw5tQ1NqKMhfTXU91CLcRE', 'rUPmucYmVov7ku7qa5u2gHkBNUq9DcWT5Q', {'weight': 30}), ('rUPmucYmVov7ku7qa5u2gHkBNUq9DcWT5Q', 'rDeDW5Ey6Jg5Yw5tQ1NqKMhfTXU91CLcRE', {'weight': 21}), ('rDeEvYEjyZVTbTBVArs3pByvxVdotXh2WT', 'rP69ddf4zfH9qa9tGsrhmD1oNdV6VYpJeJ', {'weight': 87}), ('rP69ddf4zfH9qa9tGsrhmD1oNdV6VYpJeJ', 'rDeEvYEjyZVTbTBVArs3pByvxVdotXh2WT', {'weight': 102}), ('rDeMFSuqahHYu9fS43QBrv974PYQB7hEEM', 'rNcbCDfgPYNyAHE9ozd7NZYzVPff7Bao1i', {'weight': 40}), ('rNcbCDfgPYNyAHE9ozd7NZYzVPff7Bao1i', 'rDeMFSuqahHYu9fS43QBrv974PYQB7hEEM', {'weight': 27}), ('rDeMGkBqkDMJGg5fkavx1Xf92S96NEgKmY', 'rGLUhRgGFfpZEYqgXdKAefd6LRg8XyYNTf', {'weight': 17}), ('rGLUhRgGFfpZEYqgXdKAefd6LRg8XyYNTf', 'rDeMGkBqkDMJGg5fkavx1Xf92S96NEgKmY', {'weight': 27}), ('rDeTodawNrx5FYygKgxczmnc5BNRaEGVnd', 'ra1iujJu39co2P4cxvq5LpXFcyffVcvpXE', {'weight': 22}), ('ra1iujJu39co2P4cxvq5LpXFcyffVcvpXE', 'rDeTodawNrx5FYygKgxczmnc5BNRaEGVnd', {'weight': 34}), ('rDeea7S8zw6996KG6unnfd8UtJfFK9nQuW', 'rwEkLNiG65wqJ2aUXovdjk5heXkJTKFnpx', {'weight': 87}), ('rwEkLNiG65wqJ2aUXovdjk5heXkJTKFnpx', 'rDeea7S8zw6996KG6unnfd8UtJfFK9nQuW', {'weight': 101}), ('rDf9Tco4T5TTkCpoMLHjeKddH2R2mHivw', 'rJkdxpRrU7ArFrBpAs2TdbCZfPGXo9Chfq', {'weight': 41}), ('rJkdxpRrU7ArFrBpAs2TdbCZfPGXo9Chfq', 'rDf9Tco4T5TTkCpoMLHjeKddH2R2mHivw', {'weight': 29}), ('rDfYTbd8jCxbWHZ52bEDMzSTv7QEgf8s5F', 'rG42rLxqNawo35AHmjfVBXjSagAHPJY9ph', {'weight': 63}), ('rG42rLxqNawo35AHmjfVBXjSagAHPJY9ph', 'rDfYTbd8jCxbWHZ52bEDMzSTv7QEgf8s5F', {'weight': 40}), ('rDffx7Nj1pYKj6pxXpVX76TWTiQ4HJ5XH9', 'rpe5gpa2wByZAGG4r7mtgGZR6pkaLxkBY2', {'weight': 47}), ('rpe5gpa2wByZAGG4r7mtgGZR6pkaLxkBY2', 'rDffx7Nj1pYKj6pxXpVX76TWTiQ4HJ5XH9', {'weight': 38}), ('rDgW1PfWMgPaB9jLB6PU96FpeHdrNMYP4b', 'rM3ioFFEEJ4JDt578WF62qKELvLoLSNXTc', {'weight': 35}), ('rM3ioFFEEJ4JDt578WF62qKELvLoLSNXTc', 'rDgW1PfWMgPaB9jLB6PU96FpeHdrNMYP4b', {'weight': 24}), ('rDgrDraU8ACDJceAjr1kTkRPagS3nrJWQQ', 'rfsLyqUWkYHoUoQDGFrwBSfhvevJa56mw4', {'weight': 15}), ('rfsLyqUWkYHoUoQDGFrwBSfhvevJa56mw4', 'rDgrDraU8ACDJceAjr1kTkRPagS3nrJWQQ', {'weight': 26}), ('rDgspjbN8tVddeBvBSf6zyRBn2AJ16xcz6', 'rwhEduhaUzkTY9M4Bs5iw4qh7QA9rY9boA', {'weight': 24}), ('rwhEduhaUzkTY9M4Bs5iw4qh7QA9rY9boA', 'rDgspjbN8tVddeBvBSf6zyRBn2AJ16xcz6', {'weight': 33}), ('rDhpfLQqaCZUjignMHWFnQrzBgVFZDEJP6', 'rEa5gDPZPxvXcnDzNBxePoamsLWfRCXsYs', {'weight': 23}), ('rEa5gDPZPxvXcnDzNBxePoamsLWfRCXsYs', 'rDhpfLQqaCZUjignMHWFnQrzBgVFZDEJP6', {'weight': 13}), ('rDhwDviXXfof4qggavHGRqteX4LhfvSXCv', 'rMkayrpvbughTfsaLf4gbvJeZE15cQYf9X', {'weight': 24}), ('rMkayrpvbughTfsaLf4gbvJeZE15cQYf9X', 'rDhwDviXXfof4qggavHGRqteX4LhfvSXCv', {'weight': 14}), ('rDiAeEpCUZUbWkFBU6rxVNsWWyv1EerLvB', 'rEiBd8tduSbmvM9DqvBTdN2EE4jop12TLw', {'weight': 22}), ('rEiBd8tduSbmvM9DqvBTdN2EE4jop12TLw', 'rDiAeEpCUZUbWkFBU6rxVNsWWyv1EerLvB', {'weight': 13}), ('rDiHQKbJLT1LBdsTk5f6YASfeHqPMPBuN2', 'rnm21zuGg6bRqPxPtGaDDpKQF1SPaJ3xex', {'weight': 29}), ('rnm21zuGg6bRqPxPtGaDDpKQF1SPaJ3xex', 'rDiHQKbJLT1LBdsTk5f6YASfeHqPMPBuN2', {'weight': 14}), ('rDiq42wchjxFbgbLRZR4xi1WXEWuzFMQSJ', 'rhd78CasCFnZdZj9CM7aFh5RJUr3GC7PM3', {'weight': 12}), ('rhd78CasCFnZdZj9CM7aFh5RJUr3GC7PM3', 'rDiq42wchjxFbgbLRZR4xi1WXEWuzFMQSJ', {'weight': 26}), ('rDj3JuD98HQrKmMFM3XJa21hENgwmA4xqr', 'rEFSY6ue1XqN5VD3kHh6CCerLN6Jb3Gcc3', {'weight': 92}), ('rEFSY6ue1XqN5VD3kHh6CCerLN6Jb3Gcc3', 'rDj3JuD98HQrKmMFM3XJa21hENgwmA4xqr', {'weight': 76}), ('rDj7KX53ba4tgxphNArb89jM5paJqJuce3', 'rEcUbGv5HVAnLoXP3LNWdZxrZttTDVAhGk', {'weight': 105}), ('rEcUbGv5HVAnLoXP3LNWdZxrZttTDVAhGk', 'rDj7KX53ba4tgxphNArb89jM5paJqJuce3', {'weight': 93}), ('rDjDCwgfybZyvvfV4XCPU8zNdeAUjvkTBJ', 'rhD98bGi46g9sR2jw765E8g53i4LaYGtdJ', {'weight': 25}), ('rhD98bGi46g9sR2jw765E8g53i4LaYGtdJ', 'rDjDCwgfybZyvvfV4XCPU8zNdeAUjvkTBJ', {'weight': 15}), ('rDjXQDLd9PtF3pUxec65QVmh86ursMmbyx', 'rpRute7PZriJzhjyDLkKANeMWqPmGbLJMT', {'weight': 26}), ('rpRute7PZriJzhjyDLkKANeMWqPmGbLJMT', 'rDjXQDLd9PtF3pUxec65QVmh86ursMmbyx', {'weight': 13}), ('rDkTN1cK5mQLJXkJ8EQeghs8vn7feGM1NJ', 'rLJtjEti9PVVB7a4RAzoT2PyNRWfBAqSNX', {'weight': 25}), ('rLJtjEti9PVVB7a4RAzoT2PyNRWfBAqSNX', 'rDkTN1cK5mQLJXkJ8EQeghs8vn7feGM1NJ', {'weight': 13}), ('rDkZmnspxMRqjfxEWMrsSXxkmzN329bHkH', 'rGvfw19vW2PZ2BjQ54gryj5jvQxDBSACLJ', {'weight': 19}), ('rGvfw19vW2PZ2BjQ54gryj5jvQxDBSACLJ', 'rDkZmnspxMRqjfxEWMrsSXxkmzN329bHkH', {'weight': 30}), ('rDkaPJ221VZd4VJX42QTQ7FJ92YMv7XiEN', 'rsc8F2RHwq87s24jphMPBZQGC33PdADeP1', {'weight': 37}), ('rsc8F2RHwq87s24jphMPBZQGC33PdADeP1', 'rDkaPJ221VZd4VJX42QTQ7FJ92YMv7XiEN', {'weight': 21}), ('rDkikSEtDZ99WAzoJ6XkroRePw3RMukvYX', 'rchGBxcD1A1C2tdxF6papQYZ8kjRKMYcL', {'weight': 1}), ('rDkrZPJneURY1n5vy3S8YZBUaUijyLhhQn', 'rJMSkzEomAtC73nsTksz3KTukbHuRF1PLk', {'weight': 22}), ('rJMSkzEomAtC73nsTksz3KTukbHuRF1PLk', 'rDkrZPJneURY1n5vy3S8YZBUaUijyLhhQn', {'weight': 33}), ('rDmABnCt5ppHYUpgLbPnk6tSC7qBnwwRMV', 'rpt9tw6eXJW2wp6i7pbznmkTzYQfnhPerB', {'weight': 30}), ('rpt9tw6eXJW2wp6i7pbznmkTzYQfnhPerB', 'rDmABnCt5ppHYUpgLbPnk6tSC7qBnwwRMV', {'weight': 18}), ('rDmAjbXYSgEXB2sWheehxS5qJsGgU3u24o', 'rL4N41TCpXDxSFJUnLKgS73ikLcSiPrBC1', {'weight': 17}), ('rL4N41TCpXDxSFJUnLKgS73ikLcSiPrBC1', 'rDmAjbXYSgEXB2sWheehxS5qJsGgU3u24o', {'weight': 27}), ('rDmYsdc8mEfampf9bpxjxjeJ9B49jHz2w', 'rMn3areTjchhAgUu1weKTz78KoP7mKJb3c', {'weight': 94}), ('rMn3areTjchhAgUu1weKTz78KoP7mKJb3c', 'rDmYsdc8mEfampf9bpxjxjeJ9B49jHz2w', {'weight': 106}), ('rDmweBJmUWWPpwfjVpUB475MiRRAFQzXG7', 'rpDXdNpdPCXT1UEpniChvZdua3xpDTTjTv', {'weight': 14}), ('rpDXdNpdPCXT1UEpniChvZdua3xpDTTjTv', 'rDmweBJmUWWPpwfjVpUB475MiRRAFQzXG7', {'weight': 25}), ('rDmzFX764Z1sWjhyReknMh23X6BJhyugee', 'rMG94MVseW6qLJ76gf4HhrH3dQTGwoxagF', {'weight': 31}), ('rMG94MVseW6qLJ76gf4HhrH3dQTGwoxagF', 'rDmzFX764Z1sWjhyReknMh23X6BJhyugee', {'weight': 20}), ('rDncXFwGKno5jg8WFrMuyGPwUpga76yNhR', 'rchGBxcD1A1C2tdxF6papQYZ8kjRKMYcL', {'weight': 1}), ('rDnm3ZbygQtp3pRHPrXTQfTMRdc2As7RgS', 'rPMzS2aPWJ4o3coSMZvQCxThkYZYLjf82C', {'weight': 28}), ('rPMzS2aPWJ4o3coSMZvQCxThkYZYLjf82C', 'rDnm3ZbygQtp3pRHPrXTQfTMRdc2As7RgS', {'weight': 18}), ('rDnmjo7riFQqWe56zQ9Y1PojTpwj6J4s9d', 'rs6uKovPz7sP3Rwx8b4Knwpr2DyRGYY8hd', {'weight': 26}), ('rs6uKovPz7sP3Rwx8b4Knwpr2DyRGYY8hd', 'rDnmjo7riFQqWe56zQ9Y1PojTpwj6J4s9d', {'weight': 14}), ('rDnqXPGtiDYQup3PtrCxMm9dHq8iZU8Zgv', 'rfPJsoXeTvfn5gLpjnDzpBPtnsVQ1Xp6Sj', {'weight': 26}), ('rfPJsoXeTvfn5gLpjnDzpBPtnsVQ1Xp6Sj', 'rDnqXPGtiDYQup3PtrCxMm9dHq8iZU8Zgv', {'weight': 39}), ('rDnt3ALKAqnFrMbCuZYYXYuVjFpwKfi9zE', 'rM3u5RwNN4oujE5qW9qeMzAyfPHoYDsS41', {'weight': 24}), ('rM3u5RwNN4oujE5qW9qeMzAyfPHoYDsS41', 'rDnt3ALKAqnFrMbCuZYYXYuVjFpwKfi9zE', {'weight': 36}), ('rDnz5aR5ZLgtEpxt9tJMxxBcYRvwB4MDLw', 'rGReC5pK48bdar2WrQ3ceLrBK4LbuHmoZk', {'weight': 30}), ('rGReC5pK48bdar2WrQ3ceLrBK4LbuHmoZk', 'rDnz5aR5ZLgtEpxt9tJMxxBcYRvwB4MDLw', {'weight': 17}), ('rDo2BbNG78J1u1c9mNRc1v8eF11LkFdWMV', 'rPtQGHaQdZFr1PdJzcyRnUPZqnxMqJ3Zt5', {'weight': 35}), ('rPtQGHaQdZFr1PdJzcyRnUPZqnxMqJ3Zt5', 'rDo2BbNG78J1u1c9mNRc1v8eF11LkFdWMV', {'weight': 24}), ('rDo9QZjPFiaCwqE4a4L69yLgBaAJS6DamX', 'rhFatoLa6q6hK5QcHcwCB2nFSNyG5wUCPN', {'weight': 38}), ('rhFatoLa6q6hK5QcHcwCB2nFSNyG5wUCPN', 'rDo9QZjPFiaCwqE4a4L69yLgBaAJS6DamX', {'weight': 28}), ('rDoAPQmUMoS1o1CRHsG2pSpQnKpYmXVvT2', 'rNcdpvCWtJ8tE6ztFmPe692EfsMuoHP7Fs', {'weight': 21}), ('rNcdpvCWtJ8tE6ztFmPe692EfsMuoHP7Fs', 'rDoAPQmUMoS1o1CRHsG2pSpQnKpYmXVvT2', {'weight': 33}), ('rDoR2SeymHqaDCWXQdwgPHzFoTAdE4ECPf', 'rHSWYyu8JJUEmax9fucPLa3XaGn1rjQ1nr', {'weight': 37}), ('rHSWYyu8JJUEmax9fucPLa3XaGn1rjQ1nr', 'rDoR2SeymHqaDCWXQdwgPHzFoTAdE4ECPf', {'weight': 29}), ('rDobDeeDWsphJpyowQbkYHQUUSAPxW2erf', 'rsazRe2WQ6eqAYPghhFUZgPAbMBqPuXz5z', {'weight': 41}), ('rsazRe2WQ6eqAYPghhFUZgPAbMBqPuXz5z', 'rDobDeeDWsphJpyowQbkYHQUUSAPxW2erf', {'weight': 49}), ('rDofCtG18vu4rBi7X4guecaSsGSESEstXy', 'rMjphDQ47Zv3hBArYnzn2cmjp9pRmLY9R9', {'weight': 22}), ('rMjphDQ47Zv3hBArYnzn2cmjp9pRmLY9R9', 'rDofCtG18vu4rBi7X4guecaSsGSESEstXy', {'weight': 35}), ('rDp3EhtzrqzXpv7L7RK6A25TBLNqTWSPb4', 'rUi2FFb7PLQRwqm1Jn4xT53Et1BTh9U4SH', {'weight': 31}), ('rUi2FFb7PLQRwqm1Jn4xT53Et1BTh9U4SH', 'rDp3EhtzrqzXpv7L7RK6A25TBLNqTWSPb4', {'weight': 20}), ('rDppjURhWRef85XY4dGrh4uTDFtaJX3RiL', 'rLnKqnjY9bHWs1qA14GPt8jkreDDhrSV5j', {'weight': 32}), ('rLnKqnjY9bHWs1qA14GPt8jkreDDhrSV5j', 'rDppjURhWRef85XY4dGrh4uTDFtaJX3RiL', {'weight': 21}), ('rDqc85AerGiLmhmVou9bzGYN7fEwQbCPQv', 'rJTnfXmeaWHwUmUDzwEfySdAzT1rAKwhFi', {'weight': 26}), ('rJTnfXmeaWHwUmUDzwEfySdAzT1rAKwhFi', 'rDqc85AerGiLmhmVou9bzGYN7fEwQbCPQv', {'weight': 17}), ('rDqrYqG1VvjcKexkjWuKr6nXsL7bBQoeij', 'rLNMXHM5dkeRSm22rv6BMod5YcpbSdxBZP', {'weight': 32}), ('rLNMXHM5dkeRSm22rv6BMod5YcpbSdxBZP', 'rDqrYqG1VvjcKexkjWuKr6nXsL7bBQoeij', {'weight': 41}), ('rDrUkE2mU6EHVZeJVGfoCXuJKKrJySb9eD', 'rfiBzzUk5r7XhB7WUAo1QBvjusTKnDDmpT', {'weight': 13}), ('rfiBzzUk5r7XhB7WUAo1QBvjusTKnDDmpT', 'rDrUkE2mU6EHVZeJVGfoCXuJKKrJySb9eD', {'weight': 28}), ('rDriefwKEjwxRdF7haFSYpUpEuuzTLNbEF', 'rp65R8zBy2m9TqVXwbgCqYfyYLcx8tWdQE', {'weight': 13}), ('rp65R8zBy2m9TqVXwbgCqYfyYLcx8tWdQE', 'rDriefwKEjwxRdF7haFSYpUpEuuzTLNbEF', {'weight': 25}), ('rDsF1bMDKVQ4euzh4KU1otvmK16uu9DuYq', 'rK8dVb6ZbrxnwRojMqNjJQxrWKbqXRnkiB', {'weight': 32}), ('rK8dVb6ZbrxnwRojMqNjJQxrWKbqXRnkiB', 'rDsF1bMDKVQ4euzh4KU1otvmK16uu9DuYq', {'weight': 22}), ('rDsSrnVF3GNuSZTdwPooZTDfc92LmdUJQg', 'rGSBrD7NnkTSUhyw56VxtQxxcC7jYY4DgE', {'weight': 18}), ('rGSBrD7NnkTSUhyw56VxtQxxcC7jYY4DgE', 'rDsSrnVF3GNuSZTdwPooZTDfc92LmdUJQg', {'weight': 27}), ('rDsX2uyASSNDqnxcorYmpVHntBL2ycib5R', 'rKGQpWjd5PXDf5v1WKn1ZWVNCVn1j7RLnw', {'weight': 11}), ('rKGQpWjd5PXDf5v1WKn1ZWVNCVn1j7RLnw', 'rDsX2uyASSNDqnxcorYmpVHntBL2ycib5R', {'weight': 21}), ('rDsbtAMANBx8dXQPur9ZokzXMAUo94twuV', 'rMhvyPqtvRUFKXsNFPxsTdQRH4ukuih5TY', {'weight': 15}), ('rMhvyPqtvRUFKXsNFPxsTdQRH4ukuih5TY', 'rDsbtAMANBx8dXQPur9ZokzXMAUo94twuV', {'weight': 28}), ('rDsi8p7ewcYjpAHUcmTecTQCgt18w9QFNQ', 'rwijQhT79qzG88GkYa8vK81monhUNWVyYA', {'weight': 94}), ('rwijQhT79qzG88GkYa8vK81monhUNWVyYA', 'rDsi8p7ewcYjpAHUcmTecTQCgt18w9QFNQ', {'weight': 106}), ('rDt9baxE7ehWf48e5mG6FpzMNaEGU2mC7r', 'rtQQhrzYjJA8oNTx8qWtfGSKKXBCZArCr', {'weight': 28}), ('rtQQhrzYjJA8oNTx8qWtfGSKKXBCZArCr', 'rDt9baxE7ehWf48e5mG6FpzMNaEGU2mC7r', {'weight': 13}), ('rDtrdhcR73QA8vqnQrjpQf56oPiGkaifi9', 'rKQ5EB6BQF9pLc5LsaMjbWAWu3iaBZkYgZ', {'weight': 11}), ('rKQ5EB6BQF9pLc5LsaMjbWAWu3iaBZkYgZ', 'rDtrdhcR73QA8vqnQrjpQf56oPiGkaifi9', {'weight': 21}), ('rDttX1UFrP1nNjaEPD3E7smR9jBUf9S68o', 'rN6rN1MEDALrnjU5aAVUYs6bJofi7BndZK', {'weight': 76}), ('rN6rN1MEDALrnjU5aAVUYs6bJofi7BndZK', 'rDttX1UFrP1nNjaEPD3E7smR9jBUf9S68o', {'weight': 92}), ('rDubmwXBMrsPynQyCYEZLiZvBNQGxb4Vmv', 'rNS9Z57x5gbj4VsfuDvmkmUmAPTffyPmfS', {'weight': 37}), ('rNS9Z57x5gbj4VsfuDvmkmUmAPTffyPmfS', 'rDubmwXBMrsPynQyCYEZLiZvBNQGxb4Vmv', {'weight': 47}), ('rDuq7FA8nfYJzXvaJK4MftRTLVq6jJBYmT', 'rMK7tM1sgcHyMue9fMP319q8ySrNhLygCh', {'weight': 62}), ('rMK7tM1sgcHyMue9fMP319q8ySrNhLygCh', 'rDuq7FA8nfYJzXvaJK4MftRTLVq6jJBYmT', {'weight': 39}), ('rDv1VrkdgRviF8JTzmKAdQyPdEAYg3CQy6', 'rEC3dxbR7GsyErhNxeJ6cToHmemK5k3NBb', {'weight': 26}), ('rEC3dxbR7GsyErhNxeJ6cToHmemK5k3NBb', 'rDv1VrkdgRviF8JTzmKAdQyPdEAYg3CQy6', {'weight': 35}), ('rDvysFRftPskq3ruPbA72mdSeodMbWUmod', 'rKifLt6G38ZHDoVGYGd7CEJMmSi5JGTNaQ', {'weight': 13}), ('rKifLt6G38ZHDoVGYGd7CEJMmSi5JGTNaQ', 'rDvysFRftPskq3ruPbA72mdSeodMbWUmod', {'weight': 26}), ('rDwboHH1EZRq4BGrE45zeqMrGDf6X5FRG2', 'rwYTmeiya5ar59xYM2rraM4HPXvWHLDPFU', {'weight': 18}), ('rwYTmeiya5ar59xYM2rraM4HPXvWHLDPFU', 'rDwboHH1EZRq4BGrE45zeqMrGDf6X5FRG2', {'weight': 32}), ('rDwmRjX5J5XzthCfvSDJGzm6TfeuY48jVf', 'rniVCbw5GaNVuQZMnRXaMY7g8hCW788VGv', {'weight': 29}), ('rniVCbw5GaNVuQZMnRXaMY7g8hCW788VGv', 'rDwmRjX5J5XzthCfvSDJGzm6TfeuY48jVf', {'weight': 39}), ('rDwoNrXCMfg7Cg2as7ZxBbFmbqfrZtHdUZ', 'rPD4HWec6YecTNvDyieq5uRPsVmN2v6nvS', {'weight': 29}), ('rPD4HWec6YecTNvDyieq5uRPsVmN2v6nvS', 'rDwoNrXCMfg7Cg2as7ZxBbFmbqfrZtHdUZ', {'weight': 14}), ('rDxC8TChTLy5y7NeVjUUAHFQ7sCsF8AYsG', 'rH4xxXhqQWy9SeshyuNvCuq6TRPayruiyN', {'weight': 38}), ('rH4xxXhqQWy9SeshyuNvCuq6TRPayruiyN', 'rDxC8TChTLy5y7NeVjUUAHFQ7sCsF8AYsG', {'weight': 29}), ('rDxJu2sQtsdni3eaJrioaLnzBFDHSsjZaP', 'rUYvsZQJArTBwK9mTXaDXf7EsLzYbcbUsB', {'weight': 46}), ('rUYvsZQJArTBwK9mTXaDXf7EsLzYbcbUsB', 'rDxJu2sQtsdni3eaJrioaLnzBFDHSsjZaP', {'weight': 29}), ('rDxd69hr9yd7oVMQF8cvAaf9jMHX4vBFas', 'rHKEicXdQypjwz81gGv7Vmr99CUsj1M59r', {'weight': 15}), ('rHKEicXdQypjwz81gGv7Vmr99CUsj1M59r', 'rDxd69hr9yd7oVMQF8cvAaf9jMHX4vBFas', {'weight': 31}), ('rDyBg51WsNbUkGqJBMDUvGXt2wuBv5rSX1', 'rEBJU1YBTmEQV9HPdYx4EY3sPNvtwECv2Y', {'weight': 14}), ('rEBJU1YBTmEQV9HPdYx4EY3sPNvtwECv2Y', 'rDyBg51WsNbUkGqJBMDUvGXt2wuBv5rSX1', {'weight': 24}), ('rDyLPqSvCTFcvXK8229VzZmqj9f1jPbCTy', 'rK8em6hocpUBh5F9gkw3JrDq3oBECVyQoG', {'weight': 24}), ('rK8em6hocpUBh5F9gkw3JrDq3oBECVyQoG', 'rDyLPqSvCTFcvXK8229VzZmqj9f1jPbCTy', {'weight': 35}), ('rDyRGTGRA8prwmSNeZJKaqh1e6tgReENcg', 'rKmVww2Gyc1N918hTVUcDv3fUe2Z68Zbgb', {'weight': 18}), ('rKmVww2Gyc1N918hTVUcDv3fUe2Z68Zbgb', 'rDyRGTGRA8prwmSNeZJKaqh1e6tgReENcg', {'weight': 28}), ('rDz6USNffbE9SybSvcNqmihBRavkzYLHTw', 'rEtUbiFEf4MCWgfgiN5KiF4aXsDgBWpH2s', {'weight': 21}), ('rEtUbiFEf4MCWgfgiN5KiF4aXsDgBWpH2s', 'rDz6USNffbE9SybSvcNqmihBRavkzYLHTw', {'weight': 11}), ('rE1FU7ELtqmnrcWuqN1DPzAKrtmpyoCVgs', 'rsgdK9TrD7AiKhGz44U5xmA75WFVBvAgMh', {'weight': 33}), ('rsgdK9TrD7AiKhGz44U5xmA75WFVBvAgMh', 'rE1FU7ELtqmnrcWuqN1DPzAKrtmpyoCVgs', {'weight': 22}), ('rE2Y4rgy1LsvceRR3w1MhYYw2MVQRE7b9X', 'rNN5Ka4B9XMbXB1qY7oNEaV5nUXT368qPG', {'weight': 38}), ('rNN5Ka4B9XMbXB1qY7oNEaV5nUXT368qPG', 'rE2Y4rgy1LsvceRR3w1MhYYw2MVQRE7b9X', {'weight': 29}), ('rE2kP9vv11kjAyvesg7k4vnJDm8PwLTrtn', 'rHSKz6yHe7WXJsWwzgeEGeKdeug3Tmygpa', {'weight': 90}), ('rHSKz6yHe7WXJsWwzgeEGeKdeug3Tmygpa', 'rE2kP9vv11kjAyvesg7k4vnJDm8PwLTrtn', {'weight': 105}), ('rE2q2pKDpGVuZfJeXjEw1LLYdVZzQAfgL3', 'rsRkGagMkuAEvCZjdqcn1vDdqspW4w6BhM', {'weight': 26}), ('rsRkGagMkuAEvCZjdqcn1vDdqspW4w6BhM', 'rE2q2pKDpGVuZfJeXjEw1LLYdVZzQAfgL3', {'weight': 15}), ('rE3HjoJVmsu2jaEh1VYnDEUHDsYLnSbZea', 'rKN2JLLQmt3c7jg9UCAQPPjpnd5Kgx6qgU', {'weight': 31}), ('rKN2JLLQmt3c7jg9UCAQPPjpnd5Kgx6qgU', 'rE3HjoJVmsu2jaEh1VYnDEUHDsYLnSbZea', {'weight': 40}), ('rE3PkjvoK62ydSgLJAqEy9jkiZ11jkSEbG', 'rsmWrQr7GQjyKBbLCFQwJS9UhvEYKVYdkX', {'weight': 18}), ('rsmWrQr7GQjyKBbLCFQwJS9UhvEYKVYdkX', 'rE3PkjvoK62ydSgLJAqEy9jkiZ11jkSEbG', {'weight': 31}), ('rE3Yf8CsY65hKgaPUTYX6XWgPtnQs4aHDJ', 'rNkarD3qsSkij4ioQV2QAjGj8XjjY4rUeb', {'weight': 30}), ('rNkarD3qsSkij4ioQV2QAjGj8XjjY4rUeb', 'rE3Yf8CsY65hKgaPUTYX6XWgPtnQs4aHDJ', {'weight': 41}), ('rE3v1uvhB4m8738NjT36iWFewaVe6no2TD', 'rNsD47rrFa6ju71drrJdDeQwh1fwLZe74i', {'weight': 96}), ('rNsD47rrFa6ju71drrJdDeQwh1fwLZe74i', 'rE3v1uvhB4m8738NjT36iWFewaVe6no2TD', {'weight': 81}), ('rE5ngv51dR7Z32DBToM6FvTmztW1ExyTHj', 'rJK4tHR1zQ7XxfpPsR1CxsuFjecDQgKMKT', {'weight': 38}), ('rJK4tHR1zQ7XxfpPsR1CxsuFjecDQgKMKT', 'rE5ngv51dR7Z32DBToM6FvTmztW1ExyTHj', {'weight': 47}), ('rE64NBRRzmmmpY9ZfRdqpypp2K2jMsSakL', 'rLXVMCTCZN6vqJvHgwn7X2NNSZJEDm9Fkw', {'weight': 40}), ('rLXVMCTCZN6vqJvHgwn7X2NNSZJEDm9Fkw', 'rE64NBRRzmmmpY9ZfRdqpypp2K2jMsSakL', {'weight': 30}), ('rE7hqTVfKNn1gFWuPziM1nTUaHxNgL14Px', 'rsgcKBtkCaTjLZ9q4aQ49E89yAkL8Nenug', {'weight': 22}), ('rsgcKBtkCaTjLZ9q4aQ49E89yAkL8Nenug', 'rE7hqTVfKNn1gFWuPziM1nTUaHxNgL14Px', {'weight': 13}), ('rE7z1dcHwweAo42cydpM1AzCHGqcqdZbwr', 'rs52QHFPYbv9mhw8jFjoYu3ECWwjoVCBDt', {'weight': 32}), ('rs52QHFPYbv9mhw8jFjoYu3ECWwjoVCBDt', 'rE7z1dcHwweAo42cydpM1AzCHGqcqdZbwr', {'weight': 21}), ('rE8EvE8FhpAu154uiTuMszVrvWoyGYSDJq', 'ri636X5xUPzJe1cZDZFxon4AtbtunzfXF', {'weight': 16}), ('ri636X5xUPzJe1cZDZFxon4AtbtunzfXF', 'rE8EvE8FhpAu154uiTuMszVrvWoyGYSDJq', {'weight': 27}), ('rE8VQro9CeoPWjwqz19L6xo18ndZswgKUu', 'rssLzVKGV89HDs18KbL2RqEUEC228SbV2n', {'weight': 24}), ('rssLzVKGV89HDs18KbL2RqEUEC228SbV2n', 'rE8VQro9CeoPWjwqz19L6xo18ndZswgKUu', {'weight': 36}), ('rE8nkjTwQUYmP2YG2a24o2PznsTfNjDABy', 'rQJDWczg2DWTRwWFKyhYKkYcZEAWRith2w', {'weight': 21}), ('rQJDWczg2DWTRwWFKyhYKkYcZEAWRith2w', 'rE8nkjTwQUYmP2YG2a24o2PznsTfNjDABy', {'weight': 30}), ('rE8q15cd8HNbawVST5SMaHssyvnn4r3FsT', 'razgS7CYLawxnDGuPmdP836TCgqvyrBi8E', {'weight': 33}), ('razgS7CYLawxnDGuPmdP836TCgqvyrBi8E', 'rE8q15cd8HNbawVST5SMaHssyvnn4r3FsT', {'weight': 22}), ('rE8qgCYgGrzQ5XDmeZ4SPu1EqQrkrRoJxj', 'rfChyykaDj66h4Yv3XSo6dXFy7Tc4fsFc7', {'weight': 16}), ('rfChyykaDj66h4Yv3XSo6dXFy7Tc4fsFc7', 'rE8qgCYgGrzQ5XDmeZ4SPu1EqQrkrRoJxj', {'weight': 30}), ('rE8u9gxwCVDshmCMwfJkvPtUryU2t9PxPP', 'rfJykerFkVZb1FVz8kHoxmdGte9FACj9qx', {'weight': 31}), ('rfJykerFkVZb1FVz8kHoxmdGte9FACj9qx', 'rE8u9gxwCVDshmCMwfJkvPtUryU2t9PxPP', {'weight': 20}), ('rE8yGEgdww5RTBwnwy4YWyM5eAuTR97iWr', 'ragrTYkVy6zR8GFwfY8UtJXHUWox8VgNkS', {'weight': 28}), ('ragrTYkVy6zR8GFwfY8UtJXHUWox8VgNkS', 'rE8yGEgdww5RTBwnwy4YWyM5eAuTR97iWr', {'weight': 13}), ('rE95t6SYVJhDz2ZULXRy3hEnuPrtFdUtX5', 'rUZ8PvQM68Kv8qHMJxAegaHcxeJVE2K7T7', {'weight': 14}), ('rUZ8PvQM68Kv8qHMJxAegaHcxeJVE2K7T7', 'rE95t6SYVJhDz2ZULXRy3hEnuPrtFdUtX5', {'weight': 29}), ('rE9PzS2btrpea2z7WkiXk455oBiLT9VSwz', 'rK4HKmRWGv4CYdBwcFbXjbG5HAipEjHtfp', {'weight': 91}), ('rK4HKmRWGv4CYdBwcFbXjbG5HAipEjHtfp', 'rE9PzS2btrpea2z7WkiXk455oBiLT9VSwz', {'weight': 73}), ('rE9xuCJekyFTAJccHjz7n3UncVnTUNoN7Z', 'rwYEd3AnsnZm3PGjLBayD4stVrQiVZTwpS', {'weight': 38}), ('rwYEd3AnsnZm3PGjLBayD4stVrQiVZTwpS', 'rE9xuCJekyFTAJccHjz7n3UncVnTUNoN7Z', {'weight': 28}), ('rEAZmADQjpgjJbasDsc29oZy2pHydaGSx3', 'rP9CwqyLfdcFKc8qn63fPfvurk5p5SnGsy', {'weight': 24}), ('rP9CwqyLfdcFKc8qn63fPfvurk5p5SnGsy', 'rEAZmADQjpgjJbasDsc29oZy2pHydaGSx3', {'weight': 33}), ('rEAb3aCSucEXzJjuP76DRhjNeGPSAAk46D', 'rsDdRhYZ5cK55QWziS9MTFp2DFowrnYqaV', {'weight': 15}), ('rsDdRhYZ5cK55QWziS9MTFp2DFowrnYqaV', 'rEAb3aCSucEXzJjuP76DRhjNeGPSAAk46D', {'weight': 24}), ('rEAnMX7CV1P57TwtMXuEiYt7QFGLqMJoSB', 'rHtEtQD6EQGVKRUVWRgyYkedLthqe8pt7E', {'weight': 35}), ('rHtEtQD6EQGVKRUVWRgyYkedLthqe8pt7E', 'rEAnMX7CV1P57TwtMXuEiYt7QFGLqMJoSB', {'weight': 19}), ('rEAqkbSMQXgSBfmid5WS7SoTgGdvEDQSTR', 'rGzyuqHJ61oze1gzdDC6eYDN2T7DfU5Twc', {'weight': 25}), ('rGzyuqHJ61oze1gzdDC6eYDN2T7DfU5Twc', 'rEAqkbSMQXgSBfmid5WS7SoTgGdvEDQSTR', {'weight': 13}), ('rEAtYtDB7hSgvyYjZsfVjbmb4PrmZ5rz4w', 'rHmBcBBLep59s9vvJnWRiedW3VeXS1rzzq', {'weight': 67}), ('rHmBcBBLep59s9vvJnWRiedW3VeXS1rzzq', 'rEAtYtDB7hSgvyYjZsfVjbmb4PrmZ5rz4w', {'weight': 41}), ('rEBFSa1qwEbzoSPvQfU7B6q9GYuiJGJwQ7', 'rf7DFQdHU6zDZwUt9evGtScxdWPMBNHEqy', {'weight': 21}), ('rf7DFQdHU6zDZwUt9evGtScxdWPMBNHEqy', 'rEBFSa1qwEbzoSPvQfU7B6q9GYuiJGJwQ7', {'weight': 35}), ('rEBaBq3thVHfasarfVdCfKRZ2oTweSu4Bp', 'rLYn1JUojJqnugtDKQBx9jBT3hutTgLoXA', {'weight': 21}), ('rLYn1JUojJqnugtDKQBx9jBT3hutTgLoXA', 'rEBaBq3thVHfasarfVdCfKRZ2oTweSu4Bp', {'weight': 31}), ('rEBxSFSmpHYQmHJSTnR6cuRn7zvbkATRDv', 'rNuMpNqkYuGdCZN1b6u34NP8wJVBABnpwZ', {'weight': 21}), ('rNuMpNqkYuGdCZN1b6u34NP8wJVBABnpwZ', 'rEBxSFSmpHYQmHJSTnR6cuRn7zvbkATRDv', {'weight': 33}), ('rEC6eHwCT5YmmXHzHbeh6wrWFq5j3BmFWX', 'rEuW2cagVUQ7ANe4d9jwYWHxKyUwKR2Krs', {'weight': 31}), ('rEuW2cagVUQ7ANe4d9jwYWHxKyUwKR2Krs', 'rEC6eHwCT5YmmXHzHbeh6wrWFq5j3BmFWX', {'weight': 21}), ('rECers7Rhh7ouwnEg35KysALfrdNwtaMUA', 'rPuYde8pkPKNsNkNhQsFammY3wD7FUpGjS', {'weight': 31}), ('rPuYde8pkPKNsNkNhQsFammY3wD7FUpGjS', 'rECers7Rhh7ouwnEg35KysALfrdNwtaMUA', {'weight': 20}), ('rECppf5NBsU4hby8LWP1vc4efdSvwmkwwE', 'rpRGz29Y1cf9p4KdRJ9CMMDxC4dg79Xf1C', {'weight': 28}), ('rpRGz29Y1cf9p4KdRJ9CMMDxC4dg79Xf1C', 'rECppf5NBsU4hby8LWP1vc4efdSvwmkwwE', {'weight': 18}), ('rECzu2GfGBtU6oBhhxHTWXqPejus73yNcn', 'rhWZeA1nSwEyqKyK4RSyoc6FqRdpS1A2nQ', {'weight': 40}), ('rhWZeA1nSwEyqKyK4RSyoc6FqRdpS1A2nQ', 'rECzu2GfGBtU6oBhhxHTWXqPejus73yNcn', {'weight': 32}), ('rED6h3Gk1Dm6hCUvNkR3uysCnzoH1TgBVD', 'rozmGa2KWZ9CyBBYUcxrz1S1XREq2YyP5', {'weight': 14}), ('rozmGa2KWZ9CyBBYUcxrz1S1XREq2YyP5', 'rED6h3Gk1Dm6hCUvNkR3uysCnzoH1TgBVD', {'weight': 29}), ('rEDqHiMFivRcetsH6Py3AUnNA3VFnqQfiD', 'rsXdLrZvYY5PgQgd8PzBy44jwwaLjVm5y3', {'weight': 64}), ('rsXdLrZvYY5PgQgd8PzBy44jwwaLjVm5y3', 'rEDqHiMFivRcetsH6Py3AUnNA3VFnqQfiD', {'weight': 42}), ('rEDu7YCKGbgGMt81kxZEfvKDg3va19g7MS', 'rGD2cXLgVnGr5SHKjaLPF91A46JvTHZFrU', {'weight': 28}), ('rGD2cXLgVnGr5SHKjaLPF91A46JvTHZFrU', 'rEDu7YCKGbgGMt81kxZEfvKDg3va19g7MS', {'weight': 18}), ('rEFsKqs6BPwquS5kgeEzRVPBMjakokgqMX', 'rJQGAifv4HEoVUf7yUMtbaF1i8Wrv6dvBy', {'weight': 22}), ('rJQGAifv4HEoVUf7yUMtbaF1i8Wrv6dvBy', 'rEFsKqs6BPwquS5kgeEzRVPBMjakokgqMX', {'weight': 34}), ('rEFyjPvGGnzqX25HrfMMd8cHkSXmo2aDyL', 'rsXPmBMRzSmmmMqrZu1FGunLGv4JDMsnLD', {'weight': 12}), ('rsXPmBMRzSmmmMqrZu1FGunLGv4JDMsnLD', 'rEFyjPvGGnzqX25HrfMMd8cHkSXmo2aDyL', {'weight': 22}), ('rEGKN5SW4wLCVJLWezcnWnsJDqmrCZeW7F', 'rfw95KKSgVeSpTtrWPx6WQgD3bG9jrV1eZ', {'weight': 28}), ('rfw95KKSgVeSpTtrWPx6WQgD3bG9jrV1eZ', 'rEGKN5SW4wLCVJLWezcnWnsJDqmrCZeW7F', {'weight': 18}), ('rEGYTqFgo8JB97CRxA1MKm4r2SsJuDr8Fc', 'rfA9UHMzw36o4oD2S5LL3etB4e7CJ1EsSd', {'weight': 35}), ('rfA9UHMzw36o4oD2S5LL3etB4e7CJ1EsSd', 'rEGYTqFgo8JB97CRxA1MKm4r2SsJuDr8Fc', {'weight': 21}), ('rEHk62YcLu2UFkQmenZpgAqUezXtEa2S3g', 'rMoyDx2YVy99wWpzhXHLPaf4QcB2gnpEFk', {'weight': 31}), ('rMoyDx2YVy99wWpzhXHLPaf4QcB2gnpEFk', 'rEHk62YcLu2UFkQmenZpgAqUezXtEa2S3g', {'weight': 19}), ('rEJFVYuGC2fnVgCzSXCcpFTpFzJPe41YZ2', 'rUMHxsxyBLodWXmh1q6xvVoSMaJivpCGeR', {'weight': 26}), ('rUMHxsxyBLodWXmh1q6xvVoSMaJivpCGeR', 'rEJFVYuGC2fnVgCzSXCcpFTpFzJPe41YZ2', {'weight': 36}), ('rEK4vHLt1Sc8andfhdaobuUwgB9aiY6YLS', 'ra4RVaZa5s8ZxrbVYVW2Uk2cZfaWwZ3w99', {'weight': 34}), ('ra4RVaZa5s8ZxrbVYVW2Uk2cZfaWwZ3w99', 'rEK4vHLt1Sc8andfhdaobuUwgB9aiY6YLS', {'weight': 22}), ('rEK5MajT6aryBAs2C4UjQCf3TzSsGQHJH3', 'rMb5DCSfxYrPZgLBqKqEyf8GQo5j3jbtGe', {'weight': 30}), ('rMb5DCSfxYrPZgLBqKqEyf8GQo5j3jbtGe', 'rEK5MajT6aryBAs2C4UjQCf3TzSsGQHJH3', {'weight': 21}), ('rEKC9W2uqrEMbqdgcieVLgfZxEDKdgSJwY', 'rpBZJzhNaFVrwEPcXSgTnpgC3weyfhXpQ5', {'weight': 24}), ('rpBZJzhNaFVrwEPcXSgTnpgC3weyfhXpQ5', 'rEKC9W2uqrEMbqdgcieVLgfZxEDKdgSJwY', {'weight': 33}), ('rEKHp6hk1k15y9LxZ8XVhrwyi94RKBhnGd', 'raLpUNZzf6dAtDdzepdBTq1xzNvQ8jXAeA', {'weight': 14}), ('raLpUNZzf6dAtDdzepdBTq1xzNvQ8jXAeA', 'rEKHp6hk1k15y9LxZ8XVhrwyi94RKBhnGd', {'weight': 24}), ('rEKYWMQeRqctUbQYA1GEkTGjoRM4KjPgeQ', 'rajg2q2Y41X7VDD11hXPSy6MUz2wPvR6dU', {'weight': 21}), ('rajg2q2Y41X7VDD11hXPSy6MUz2wPvR6dU', 'rEKYWMQeRqctUbQYA1GEkTGjoRM4KjPgeQ', {'weight': 30}), ('rEMQjRbKt9b9FQQ2uKcQi7mSsz9MrGbidT', 'rUuPzpSaBhM773hwRPRJsp3rU34YZgbEDQ', {'weight': 20}), ('rUuPzpSaBhM773hwRPRJsp3rU34YZgbEDQ', 'rEMQjRbKt9b9FQQ2uKcQi7mSsz9MrGbidT', {'weight': 29}), ('rENLnZep1P8kWrheVoC2skf7EDyXwVJt9R', 'rQKT16KV7x9yFHLeA7pE2EquREXKhfxC8z', {'weight': 30}), ('rQKT16KV7x9yFHLeA7pE2EquREXKhfxC8z', 'rENLnZep1P8kWrheVoC2skf7EDyXwVJt9R', {'weight': 16}), ('rENVKxNZAXms3AD5wPxGekaxRbkg7zM2Ag', 'rsRA3XFmz6Yrg7fmqCFPgRTx9tZmem1Lgg', {'weight': 12}), ('rsRA3XFmz6Yrg7fmqCFPgRTx9tZmem1Lgg', 'rENVKxNZAXms3AD5wPxGekaxRbkg7zM2Ag', {'weight': 26}), ('rENXcUr7DmMmGT2GCWhYGWQ5SeeXTcSMiq', 'rJUW4mJ121xPd5iQ3FkNdYL3rWuH396rwc', {'weight': 26}), ('rJUW4mJ121xPd5iQ3FkNdYL3rWuH396rwc', 'rENXcUr7DmMmGT2GCWhYGWQ5SeeXTcSMiq', {'weight': 17}), ('rENhghTRoNr2UVCzYGCEs5yhY2AntzpeQd', 'rLKZLRUr6vCvep9QvvJHoizd5gsQYoVj9G', {'weight': 20}), ('rLKZLRUr6vCvep9QvvJHoizd5gsQYoVj9G', 'rENhghTRoNr2UVCzYGCEs5yhY2AntzpeQd', {'weight': 30}), ('rENzvGqDtFX4MKcSJNqKxZyC54wZMi84q1', 'rPmS7WrQRhzEZLfvAJFCJoxUvYv8HYw5my', {'weight': 31}), ('rPmS7WrQRhzEZLfvAJFCJoxUvYv8HYw5my', 'rENzvGqDtFX4MKcSJNqKxZyC54wZMi84q1', {'weight': 16}), ('rEPdtLYEUeFu5EShDfAvEudpE9tLugNF31', 'rU3mjd2tSzB41AA3ekeLr63YpnJMdhyeZP', {'weight': 31}), ('rU3mjd2tSzB41AA3ekeLr63YpnJMdhyeZP', 'rEPdtLYEUeFu5EShDfAvEudpE9tLugNF31', {'weight': 20}), ('rEQ9L4XDcTdYrCWZ4PDAUfUK6gszfT3hoT', 'raggkaSatNQgBeiwJ6n2PLBg9NTqucA4jn', {'weight': 22}), ('raggkaSatNQgBeiwJ6n2PLBg9NTqucA4jn', 'rEQ9L4XDcTdYrCWZ4PDAUfUK6gszfT3hoT', {'weight': 31}), ('rEQACG2yGi7nsPoYBPzBpA6Bz72nKj3oHR', 'rPUqK5Adsexa3dTQ8RGWPj8YVZqtuZaak', {'weight': 14}), ('rPUqK5Adsexa3dTQ8RGWPj8YVZqtuZaak', 'rEQACG2yGi7nsPoYBPzBpA6Bz72nKj3oHR', {'weight': 23}), ('rEQtHFRVDYbd8MnParwuyhY6Xq3Sr1sJS8', 'raayh9hcxf5zTnAFqXeTPaESVt1K241cdh', {'weight': 18}), ('raayh9hcxf5zTnAFqXeTPaESVt1K241cdh', 'rEQtHFRVDYbd8MnParwuyhY6Xq3Sr1sJS8', {'weight': 34}), ('rER55bW1gWBENSraiZcjAhwip4FRP3hk9A', 'rQNrdpVWr6ZSdtccfsjdxHVEiN6YpqqvB9', {'weight': 16}), ('rQNrdpVWr6ZSdtccfsjdxHVEiN6YpqqvB9', 'rER55bW1gWBENSraiZcjAhwip4FRP3hk9A', {'weight': 25}), ('rERJPEHC943LVqbQXFYRuCFVmpegj3fVf3', 'rsP6Hfxqhv8Z5UVexBQBxZPg1T73ioKK67', {'weight': 87}), ('rsP6Hfxqhv8Z5UVexBQBxZPg1T73ioKK67', 'rERJPEHC943LVqbQXFYRuCFVmpegj3fVf3', {'weight': 101}), ('rERPjpXdENCndQDwTZGKi8YQH1xdmkavDw', 'rNykqQKEVqAAfjyQd95wiCx8NzPf6B66j9', {'weight': 13}), ('rNykqQKEVqAAfjyQd95wiCx8NzPf6B66j9', 'rERPjpXdENCndQDwTZGKi8YQH1xdmkavDw', {'weight': 26}), ('rERkwuyrzCttcNZEMHfCjCCTqFgQveVmJk', 'rnxas2Mu6cDD2fDYfaCvPsLmy733KtNz54', {'weight': 38}), ('rnxas2Mu6cDD2fDYfaCvPsLmy733KtNz54', 'rERkwuyrzCttcNZEMHfCjCCTqFgQveVmJk', {'weight': 29}), ('rERygoneZFJhmuprvQHFLXh15ENkeDJKbR', 'rftLahkyLv91ZC7dMevdwtJvuQpjK5tcY4', {'weight': 46}), ('rftLahkyLv91ZC7dMevdwtJvuQpjK5tcY4', 'rERygoneZFJhmuprvQHFLXh15ENkeDJKbR', {'weight': 29}), ('rES68HD4gT3eRHwz6vpsixp3kK3kC1i1tM', 'rPzznK6EjreAHGiG8wXo9RaFM18WfuAu9R', {'weight': 30}), ('rPzznK6EjreAHGiG8wXo9RaFM18WfuAu9R', 'rES68HD4gT3eRHwz6vpsixp3kK3kC1i1tM', {'weight': 21}), ('rESLFgAvPbbQcddWmho5777vkuyaGjyshS', 'rLH4uwB3zoTCkiR6GGZTgHEgFyK8ta6GWn', {'weight': 23}), ('rLH4uwB3zoTCkiR6GGZTgHEgFyK8ta6GWn', 'rESLFgAvPbbQcddWmho5777vkuyaGjyshS', {'weight': 13}), ('rESmZjoLKnPdm2Jd5QURPnEjiYxA3Q7WyN', 'rHAxUwnxPikdoC26qQU3YFGjCTqFeeot95', {'weight': 30}), ('rHAxUwnxPikdoC26qQU3YFGjCTqFeeot95', 'rESmZjoLKnPdm2Jd5QURPnEjiYxA3Q7WyN', {'weight': 20}), ('rESu7E2P8qetcgSgT4zieVnAuYbG5qH4S5', 'rMdku6ZJqUZF2dmzZCgX9nbB95stMESYVi', {'weight': 26}), ('rMdku6ZJqUZF2dmzZCgX9nbB95stMESYVi', 'rESu7E2P8qetcgSgT4zieVnAuYbG5qH4S5', {'weight': 35}), ('rETikfFvjRThv21SnvzqPizHUXS4LCWps7', 'rnbNkMSsZrzTEnwveKmdnAmH3rktNoFENa', {'weight': 15}), ('rnbNkMSsZrzTEnwveKmdnAmH3rktNoFENa', 'rETikfFvjRThv21SnvzqPizHUXS4LCWps7', {'weight': 30}), ('rETqZ4Yd3mhXAxGbHKb8bzhkexoTNqd5jJ', 'rsTGw791A84fSkYz2t2TvzyZZrtoET2h1m', {'weight': 57}), ('rsTGw791A84fSkYz2t2TvzyZZrtoET2h1m', 'rETqZ4Yd3mhXAxGbHKb8bzhkexoTNqd5jJ', {'weight': 77}), ('rETrTDiS8ePwvnbu1oY668uK2oyFDYmGPn', 'rh45XLG45SDH4Cd4HifpEgMDDC2MJa87qt', {'weight': 18}), ('rh45XLG45SDH4Cd4HifpEgMDDC2MJa87qt', 'rETrTDiS8ePwvnbu1oY668uK2oyFDYmGPn', {'weight': 28}), ('rEUSz8gBUf1SMh1PR4LjBTpbfA3yAyR55J', 'rwcQgZhT8KcZTBHzVYewpzXHKwis9NwX7v', {'weight': 5}), ('rwcQgZhT8KcZTBHzVYewpzXHKwis9NwX7v', 'rEUSz8gBUf1SMh1PR4LjBTpbfA3yAyR55J', {'weight': 1}), ('rEUyL6VYnZQLcSxUb8DLM2bJSU5TVcnx6o', 'rUr8QDb4VAddKDpmoffNGCS1uBpZyjXHK2', {'weight': 19}), ('rUr8QDb4VAddKDpmoffNGCS1uBpZyjXHK2', 'rEUyL6VYnZQLcSxUb8DLM2bJSU5TVcnx6o', {'weight': 29}), ('rEV8Sf8ynVbQC2eWGU7QUyzAPPDiXADkWF', 'rKqncV4oXmkghpJktZcTE51NzvCCT9B6vo', {'weight': 28}), ('rKqncV4oXmkghpJktZcTE51NzvCCT9B6vo', 'rEV8Sf8ynVbQC2eWGU7QUyzAPPDiXADkWF', {'weight': 18}), ('rEVS3ku8ZbGfk7eT9iYAH6vDT13nZf7myA', 'rM9y38wJZScCFRLCuVReAPQhRtSkKiq7GU', {'weight': 21}), ('rM9y38wJZScCFRLCuVReAPQhRtSkKiq7GU', 'rEVS3ku8ZbGfk7eT9iYAH6vDT13nZf7myA', {'weight': 11}), ('rEVhjmn3md9NjfnJBYSAwzyy8RbvScDJR8', 'rh1RuhnR7B8JjFQ2c4huMGVJxei47j2pbJ', {'weight': 31}), ('rh1RuhnR7B8JjFQ2c4huMGVJxei47j2pbJ', 'rEVhjmn3md9NjfnJBYSAwzyy8RbvScDJR8', {'weight': 20}), ('rEX3XeiCh6er8FNkBDr1nwd8A5S6kpfCu3', 'rpZQ2esy13kLtJidtHi3AWekJGcCvWUyEQ', {'weight': 37}), ('rpZQ2esy13kLtJidtHi3AWekJGcCvWUyEQ', 'rEX3XeiCh6er8FNkBDr1nwd8A5S6kpfCu3', {'weight': 27}), ('rEXWAfbGWZ42hKk41E7vrSUvz8v7hHmSgU', 'rfXJndKkgj22WJU8HfQRAe6sBHbZLsGnSs', {'weight': 41}), ('rfXJndKkgj22WJU8HfQRAe6sBHbZLsGnSs', 'rEXWAfbGWZ42hKk41E7vrSUvz8v7hHmSgU', {'weight': 30}), ('rEYVCYV8PqbXa9n616qHdgLk8gMd1UNqtB', 'rqdDxLJzgUfpfFzTpWs4Sxv8HMEy1GKa4', {'weight': 71}), ('rqdDxLJzgUfpfFzTpWs4Sxv8HMEy1GKa4', 'rEYVCYV8PqbXa9n616qHdgLk8gMd1UNqtB', {'weight': 52}), ('rEYpG4c7vCZuqssZpD2tjFVhWwkodB1T86', 'raYQLryhUs67pVcwz39ZuoM4pkzku747vk', {'weight': 14}), ('raYQLryhUs67pVcwz39ZuoM4pkzku747vk', 'rEYpG4c7vCZuqssZpD2tjFVhWwkodB1T86', {'weight': 24}), ('rEZkUnSBrWqBZDeqMhpfvsyYvb6cjina7F', 'rptTQJr56ZT1ZQuTMW829AFkjvB3tHGEwg', {'weight': 12}), ('rptTQJr56ZT1ZQuTMW829AFkjvB3tHGEwg', 'rEZkUnSBrWqBZDeqMhpfvsyYvb6cjina7F', {'weight': 23}), ('rEZov5HAf8ZiK8JLvaxcFsBZnkxwYNFykf', 'rHERSeh4uG3947kRzJmLJcc4EVtdHF94JW', {'weight': 16}), ('rHERSeh4uG3947kRzJmLJcc4EVtdHF94JW', 'rEZov5HAf8ZiK8JLvaxcFsBZnkxwYNFykf', {'weight': 29}), ('rEafyfNibv9vUEWhy62Y8zRDMBzzeBVUiY', 'rUCZ7mX8qvUVxz4PQRKnrmis9Ya6nDXKyd', {'weight': 14}), ('rUCZ7mX8qvUVxz4PQRKnrmis9Ya6nDXKyd', 'rEafyfNibv9vUEWhy62Y8zRDMBzzeBVUiY', {'weight': 24}), ('rEbHeuC5vtopdtRQXNrT7Acrebsrxx4pFo', 'rMmoAdN8j1kRr1S7ko7S99adu9AEZtK7gL', {'weight': 18}), ('rMmoAdN8j1kRr1S7ko7S99adu9AEZtK7gL', 'rEbHeuC5vtopdtRQXNrT7Acrebsrxx4pFo', {'weight': 32}), ('rEbMUYqLTnLrpG6dDawLDH97FkLNnJFVw3', 'rpknGjpBsXLceTjKpYj3y2TfCyd89z6MJX', {'weight': 24}), ('rpknGjpBsXLceTjKpYj3y2TfCyd89z6MJX', 'rEbMUYqLTnLrpG6dDawLDH97FkLNnJFVw3', {'weight': 35}), ('rEbZu22iyqFRK74u2QGAKuLmbQQ5namssr', 'rPFczUYgRVF676Yc6kFaMbRy4JcXbTw2z', {'weight': 26}), ('rPFczUYgRVF676Yc6kFaMbRy4JcXbTw2z', 'rEbZu22iyqFRK74u2QGAKuLmbQQ5namssr', {'weight': 16}), ('rEcKWbpyWJFqL6knyJCyFnF9KhhdEQ2pAu', 'rExidvWVGKMmBAbSm2xTnkuXDchHEdSUSG', {'weight': 27}), ('rExidvWVGKMmBAbSm2xTnkuXDchHEdSUSG', 'rEcKWbpyWJFqL6knyJCyFnF9KhhdEQ2pAu', {'weight': 40}), ('rEczy4myrytPX4r72xPLDC8dyF31SYRcY3', 'rEs7j9fpHzpJJQwCMu7mENAtuWuDzEWdUq', {'weight': 15}), ('rEs7j9fpHzpJJQwCMu7mENAtuWuDzEWdUq', 'rEczy4myrytPX4r72xPLDC8dyF31SYRcY3', {'weight': 26}), ('rEdMHgR5GmnzXwXVzAv6CAtMmiFd29XTnd', 'rPx6yjHbdMhhcMs1ATLbWia2M4eFoF9Bpx', {'weight': 30}), ('rPx6yjHbdMhhcMs1ATLbWia2M4eFoF9Bpx', 'rEdMHgR5GmnzXwXVzAv6CAtMmiFd29XTnd', {'weight': 17}), ('rEe2aMdPpSx6nSgKabfL1DxHGCEnZHuxEQ', 'rhCLbkd6pZsQWmjU4aUzMyhpjhmFSZRk3n', {'weight': 21}), ('rhCLbkd6pZsQWmjU4aUzMyhpjhmFSZRk3n', 'rEe2aMdPpSx6nSgKabfL1DxHGCEnZHuxEQ', {'weight': 31}), ('rEekbKFW91HKwDFxmQmQ2gkYumoZdEcecG', 'rwLzn7qFZHdXUx2dP4q2gwW3KcvjMVxuMr', {'weight': 21}), ('rwLzn7qFZHdXUx2dP4q2gwW3KcvjMVxuMr', 'rEekbKFW91HKwDFxmQmQ2gkYumoZdEcecG', {'weight': 29}), ('rEfD55VWdaFgdUtwjdXGDX8QxW8wyq5H8z', 'rpetiALkX2Fne9oGwjTPEwkxswXWE8XL2Q', {'weight': 87}), ('rpetiALkX2Fne9oGwjTPEwkxswXWE8XL2Q', 'rEfD55VWdaFgdUtwjdXGDX8QxW8wyq5H8z', {'weight': 102}), ('rEfWLgwk6h8cSs2ctozFEgYSEPqv1kjEzP', 'rsFFEaURCyJkMdeuvxz1soUtUsWLhEq7Bc', {'weight': 21}), ('rsFFEaURCyJkMdeuvxz1soUtUsWLhEq7Bc', 'rEfWLgwk6h8cSs2ctozFEgYSEPqv1kjEzP', {'weight': 30}), ('rEfjS515WM5yc11cWr8qnQ9G17V2T6oWs8', 'rHtEJ5WfKMJnoMJBLu9mkoVNmjzzvZ48nF', {'weight': 24}), ('rHtEJ5WfKMJnoMJBLu9mkoVNmjzzvZ48nF', 'rEfjS515WM5yc11cWr8qnQ9G17V2T6oWs8', {'weight': 35}), ('rEfxJebeoZEMZKeu4UxmgmVDPBTMWz39v3', 'rNwQWae313HhXaLH5nLViv5gqrhPkdP7dn', {'weight': 13}), ('rNwQWae313HhXaLH5nLViv5gqrhPkdP7dn', 'rEfxJebeoZEMZKeu4UxmgmVDPBTMWz39v3', {'weight': 22}), ('rEgRTtcigD4cDbcQPGptLE7utjQQdsotu3', 'rGGJCQKquqgyw5RTB76RaVsFNdFmMPC8B5', {'weight': 26}), ('rGGJCQKquqgyw5RTB76RaVsFNdFmMPC8B5', 'rEgRTtcigD4cDbcQPGptLE7utjQQdsotu3', {'weight': 14}), ('rEgUFFUZuvPXzwbCgrgY56ZyjiFKPX6BP5', 'rPH6EsiszQeDFwSHoiRjNQqXXgjtcMh66t', {'weight': 30}), ('rPH6EsiszQeDFwSHoiRjNQqXXgjtcMh66t', 'rEgUFFUZuvPXzwbCgrgY56ZyjiFKPX6BP5', {'weight': 17}), ('rEgUFQ9dN9hXmdTN9uCjNz98TeTu4hynhN', 'rp2D8bef7VCht6zqZFwRBxNc6wBRDFGfBu', {'weight': 24}), ('rp2D8bef7VCht6zqZFwRBxNc6wBRDFGfBu', 'rEgUFQ9dN9hXmdTN9uCjNz98TeTu4hynhN', {'weight': 35}), ('rEh9SQ3CdYxwz4kLUxFY3cw9F2k6mjHoE5', 'rNrUPc5NDTMmB7H2dnw9eSQFpn9p1Yj6ww', {'weight': 33}), ('rNrUPc5NDTMmB7H2dnw9eSQFpn9p1Yj6ww', 'rEh9SQ3CdYxwz4kLUxFY3cw9F2k6mjHoE5', {'weight': 22}), ('rEhM59gB9CSfJeeWvjN8dxT7kHkNjpxmCe', 'rfBmLdUkZC4kCvh7P5rFr2ZCVHMEEKiKUa', {'weight': 39}), ('rfBmLdUkZC4kCvh7P5rFr2ZCVHMEEKiKUa', 'rEhM59gB9CSfJeeWvjN8dxT7kHkNjpxmCe', {'weight': 48}), ('rEhViJ8hXfXXYvX58SWjFK4g7bVRrivJ5x', 'rPij2QHZLBYFQsgRtqWyk2MFk8YMkXGdDx', {'weight': 19}), ('rPij2QHZLBYFQsgRtqWyk2MFk8YMkXGdDx', 'rEhViJ8hXfXXYvX58SWjFK4g7bVRrivJ5x', {'weight': 34}), ('rEhtmR6ejEaKiNGpdTrkFNWUaBhDpkiud9', 'rL9B3C5uGQWjq2BtwzwGcNjjgxrdz5L7sw', {'weight': 40}), ('rL9B3C5uGQWjq2BtwzwGcNjjgxrdz5L7sw', 'rEhtmR6ejEaKiNGpdTrkFNWUaBhDpkiud9', {'weight': 32}), ('rEi5Bu4ATRKdkB5FGbn2XfJEKZtU3scLCD', 'rHPH2xkH5U4syHq4nxL5LPC4CJGLn2zd5d', {'weight': 78}), ('rHPH2xkH5U4syHq4nxL5LPC4CJGLn2zd5d', 'rEi5Bu4ATRKdkB5FGbn2XfJEKZtU3scLCD', {'weight': 60}), ('rEiZ2AqwGwzSv7LFqZb4uep55V53RYKvX9', 'rHJqT2Uach6ivdUo6s4xMRLDxACpef7eLx', {'weight': 26}), ('rHJqT2Uach6ivdUo6s4xMRLDxACpef7eLx', 'rEiZ2AqwGwzSv7LFqZb4uep55V53RYKvX9', {'weight': 15}), ('rEiazmP3f9UNK52WpG55Dt7jJjjzMzuwCw', 'rNwcSWrb6G96W4x2LKqQ7UDUSwDgRngA39', {'weight': 33}), ('rNwcSWrb6G96W4x2LKqQ7UDUSwDgRngA39', 'rEiazmP3f9UNK52WpG55Dt7jJjjzMzuwCw', {'weight': 22}), ('rEisrpe3a9yXQsFpeH1MrjHiJtHvcxL2Hh', 'rNXtURxJUzi9xcryntGDHeD2Kuhpger6HD', {'weight': 15}), ('rNXtURxJUzi9xcryntGDHeD2Kuhpger6HD', 'rEisrpe3a9yXQsFpeH1MrjHiJtHvcxL2Hh', {'weight': 29}), ('rEixrh6291wuk5r1jv6DhPrFWN7syoiL8X', 'rsdhkhzRKV7qLqpvNKEUwvVWsk9MQSi3LQ', {'weight': 27}), ('rsdhkhzRKV7qLqpvNKEUwvVWsk9MQSi3LQ', 'rEixrh6291wuk5r1jv6DhPrFWN7syoiL8X', {'weight': 37}), ('rEj2it2esRfYMxgF5TLZ8hwbV3wzj2x1Yb', 'rMcaLTFCrxqARBkmyuSMxA1qG7j8oEXV9r', {'weight': 13}), ('rMcaLTFCrxqARBkmyuSMxA1qG7j8oEXV9r', 'rEj2it2esRfYMxgF5TLZ8hwbV3wzj2x1Yb', {'weight': 23}), ('rEjtQfgcGqFSRTAwYnEShbqqe4Uo71xKyp', 'rfE4p1iqhZfardoc1Q7cdBiFYpixe82jcw', {'weight': 25}), ('rfE4p1iqhZfardoc1Q7cdBiFYpixe82jcw', 'rEjtQfgcGqFSRTAwYnEShbqqe4Uo71xKyp', {'weight': 34}), ('rEkAstrvXHeoSQz6oMp1ZiZ5nzgHgjNhEc', 'rKJfVrhuZHARVqr2GNmmcTfMavrj2mVuwB', {'weight': 79}), ('rKJfVrhuZHARVqr2GNmmcTfMavrj2mVuwB', 'rEkAstrvXHeoSQz6oMp1ZiZ5nzgHgjNhEc', {'weight': 1}), ('rEkLcnG2QyBirAbyaSeSyc7gWQmc3oWyH3', 'rGmS5neNn2BAnkgenvmjHzkuz7wLYV3Nwd', {'weight': 22}), ('rGmS5neNn2BAnkgenvmjHzkuz7wLYV3Nwd', 'rEkLcnG2QyBirAbyaSeSyc7gWQmc3oWyH3', {'weight': 33}), ('rEmw52TqxJQjvVY7M8Rn6VuRUwbJBjTHFQ', 'rPEyJjGKvXspiTS6ZyPHXu9thiLgaNinrA', {'weight': 19}), ('rPEyJjGKvXspiTS6ZyPHXu9thiLgaNinrA', 'rEmw52TqxJQjvVY7M8Rn6VuRUwbJBjTHFQ', {'weight': 33}), ('rEnGnKWiBB6sWhwuMeYCBZFni155vXPRMT', 'rfi86yF7w4Uz4MB96mJcZppcsL2bq4wQaQ', {'weight': 15}), ('rfi86yF7w4Uz4MB96mJcZppcsL2bq4wQaQ', 'rEnGnKWiBB6sWhwuMeYCBZFni155vXPRMT', {'weight': 28}), ('rEnd7hWUgcRBTymGwcdVhDY5EFkXwy37jC', 'rpXaHiuPTR9yXCoXeQhPkJsMeSXnMQYV3t', {'weight': 28}), ('rpXaHiuPTR9yXCoXeQhPkJsMeSXnMQYV3t', 'rEnd7hWUgcRBTymGwcdVhDY5EFkXwy37jC', {'weight': 18}), ('rEnhJmkM2xS8UpzEm3jcQUsZkWAfQGPwMb', 'rJZDffdPQ2LwvngNiysTkWVBh1gSWQfp9n', {'weight': 13}), ('rJZDffdPQ2LwvngNiysTkWVBh1gSWQfp9n', 'rEnhJmkM2xS8UpzEm3jcQUsZkWAfQGPwMb', {'weight': 25}), ('rEo5HpHAY9u1W9MmczqrHuaomY4mu2p6QD', 'rhAmefBHB7bvqkySzqMfqypXyZv7SSCcUn', {'weight': 18}), ('rhAmefBHB7bvqkySzqMfqypXyZv7SSCcUn', 'rEo5HpHAY9u1W9MmczqrHuaomY4mu2p6QD', {'weight': 30}), ('rEoLqxnWvvyvWY4Q1YoGf9VWRNgCfzwhvm', 'rMzzPwbqa9AmmUTWRRHcdQSuZLVCZv9tQk', {'weight': 67}), ('rMzzPwbqa9AmmUTWRRHcdQSuZLVCZv9tQk', 'rEoLqxnWvvyvWY4Q1YoGf9VWRNgCfzwhvm', {'weight': 42}), ('rEoZhWw72Rj4uu2xJudG762z6GLWsN8Zhc', 'rhZAgzW1oryc14eEurXWdpLNuJQhW8PeXp', {'weight': 79}), ('rhZAgzW1oryc14eEurXWdpLNuJQhW8PeXp', 'rEoZhWw72Rj4uu2xJudG762z6GLWsN8Zhc', {'weight': 58}), ('rEox4RhxNDmUApHvmcq32TczXBeLit2uta', 'rULtR5EgBySTeir26TyPvwqxXqKK2PSnHo', {'weight': 16}), ('rULtR5EgBySTeir26TyPvwqxXqKK2PSnHo', 'rEox4RhxNDmUApHvmcq32TczXBeLit2uta', {'weight': 30}), ('rEpWAbSmyXdKNYYVSa7Xq7rqavQFtgpg9d', 'ra2Cn8T3QEMekb6qevNrkCvVseZQA418T4', {'weight': 28}), ('ra2Cn8T3QEMekb6qevNrkCvVseZQA418T4', 'rEpWAbSmyXdKNYYVSa7Xq7rqavQFtgpg9d', {'weight': 13}), ('rEq5phYC25XabRWzc38fKdNFBtjP5VHE8Q', 'rPDsWr4WUYqdvUtF1tCgNV67A5JsWeyrTY', {'weight': 34}), ('rPDsWr4WUYqdvUtF1tCgNV67A5JsWeyrTY', 'rEq5phYC25XabRWzc38fKdNFBtjP5VHE8Q', {'weight': 43}), ('rEq9xPjSQECKRVScQ4rxrTZwMgcqr3TjAv', 'rNxH7WHUz8LHEnH5MMTeGas14JQCE3zBRw', {'weight': 36}), ('rNxH7WHUz8LHEnH5MMTeGas14JQCE3zBRw', 'rEq9xPjSQECKRVScQ4rxrTZwMgcqr3TjAv', {'weight': 44}), ('rEqJmsRaFd8mwzDmcqcpD8xho1HpsTpEwe', 'rMSH4hS6b7aS9FVaPWRyPX4e6ykvt4WKoF', {'weight': 22}), ('rMSH4hS6b7aS9FVaPWRyPX4e6ykvt4WKoF', 'rEqJmsRaFd8mwzDmcqcpD8xho1HpsTpEwe', {'weight': 31}), ('rEqWXbEqTYiu2ibiHjG5GHNrENPZMyEx8U', 'rwgJWLQXHCrVGNncS4yCss5veWcXPCKZcg', {'weight': 57}), ('rwgJWLQXHCrVGNncS4yCss5veWcXPCKZcg', 'rEqWXbEqTYiu2ibiHjG5GHNrENPZMyEx8U', {'weight': 78}), ('rEqf4ynCWoeEN2YZfHDR3Kr5ZaVK92MrUL', 'rPj7ZNy84qEGKggvi35uow2cugF2M57QHR', {'weight': 29}), ('rPj7ZNy84qEGKggvi35uow2cugF2M57QHR', 'rEqf4ynCWoeEN2YZfHDR3Kr5ZaVK92MrUL', {'weight': 20}), ('rEqkEQSEYaRAL2brshaUxXDGfu1BWB9ARD', 'rJ7LzGbjLEYgsjHnJuDpc2hETrdoTsuRMx', {'weight': 24}), ('rJ7LzGbjLEYgsjHnJuDpc2hETrdoTsuRMx', 'rEqkEQSEYaRAL2brshaUxXDGfu1BWB9ARD', {'weight': 35}), ('rEqnVEt8qAxBMN7r9Egtfu4XHv3NqsnhGY', 'rfF4ywcUGMfJKcqRXZisg5E1rgyndSZ5JQ', {'weight': 23}), ('rfF4ywcUGMfJKcqRXZisg5E1rgyndSZ5JQ', 'rEqnVEt8qAxBMN7r9Egtfu4XHv3NqsnhGY', {'weight': 36}), ('rEqvQwAmTN6RQa3MF1bJDo3VihNEj9EtQW', 'rfH2pEv7TrA9qe9nFUwBKWfkMSAxqM9GT7', {'weight': 33}), ('rfH2pEv7TrA9qe9nFUwBKWfkMSAxqM9GT7', 'rEqvQwAmTN6RQa3MF1bJDo3VihNEj9EtQW', {'weight': 18}), ('rEqwxUVjpA5DR2jFBPNPkuus62Z6bKTPMQ', 'rn4mai4j3N84PiyEULHHFZgs4fD37jatBR', {'weight': 30}), ('rn4mai4j3N84PiyEULHHFZgs4fD37jatBR', 'rEqwxUVjpA5DR2jFBPNPkuus62Z6bKTPMQ', {'weight': 40}), ('rErGoepjDE9BXoGDgFwnSQCS3FRHQk3W41', 'rwQb7h7S9q7HeSDarKEiDkS9mrswrhQaxj', {'weight': 29}), ('rwQb7h7S9q7HeSDarKEiDkS9mrswrhQaxj', 'rErGoepjDE9BXoGDgFwnSQCS3FRHQk3W41', {'weight': 40}), ('rEsVye79Ca4BPp778r3Xud5seQytNRYCQw', 'raqZMUTQKWtmbffesoAmmtCNxj19Yg9hwS', {'weight': 18}), ('raqZMUTQKWtmbffesoAmmtCNxj19Yg9hwS', 'rEsVye79Ca4BPp778r3Xud5seQytNRYCQw', {'weight': 27}), ('rEsY6awdTXozuEAe723vunUF6S1LdJoKqD', 'rMnMmuXSwbWDEFebE2RvsG5dRJaecExKfn', {'weight': 36}), ('rMnMmuXSwbWDEFebE2RvsG5dRJaecExKfn', 'rEsY6awdTXozuEAe723vunUF6S1LdJoKqD', {'weight': 23}), ('rEstYXw4fcBZcHr9YG9qKC8QPbSXnKiwLK', 'rMsc1nQWZZET3h55SYL79RzzcR1hNuAcyn', {'weight': 21}), ('rMsc1nQWZZET3h55SYL79RzzcR1hNuAcyn', 'rEstYXw4fcBZcHr9YG9qKC8QPbSXnKiwLK', {'weight': 33}), ('rEt6RHQo1SeBH9c5ffDNwNcpT5j4adZQni', 'rnYgT6JecqXtNzgHSQntYe4pzSSvANKjCB', {'weight': 16}), ('rnYgT6JecqXtNzgHSQntYe4pzSSvANKjCB', 'rEt6RHQo1SeBH9c5ffDNwNcpT5j4adZQni', {'weight': 30}), ('rEtAoxofJQkaarKPFJ7saehLC4DwDWGfRw', 'rwN99xKsw3Lb7A1DJoZJ2Rz7pshJoJ3MBL', {'weight': 28}), ('rwN99xKsw3Lb7A1DJoZJ2Rz7pshJoJ3MBL', 'rEtAoxofJQkaarKPFJ7saehLC4DwDWGfRw', {'weight': 19}), ('rEtdnd95yLixrV4w24mWJ7JqSowgFcs4RY', 'rTZB3qKAUcM8xkKJgac47WhXqUHfRZLCi', {'weight': 30}), ('rTZB3qKAUcM8xkKJgac47WhXqUHfRZLCi', 'rEtdnd95yLixrV4w24mWJ7JqSowgFcs4RY', {'weight': 19}), ('rEtyHh4Lv68WMAHiuqW7Wio537oaPsF4vB', 'rrh1ZeDog7zTBojpgbHgAtyKRzJd46b4WK', {'weight': 33}), ('rrh1ZeDog7zTBojpgbHgAtyKRzJd46b4WK', 'rEtyHh4Lv68WMAHiuqW7Wio537oaPsF4vB', {'weight': 22}), ('rEu9cWnsfrb76y1trRX5ioHRXyZLwhL3sT', 'ryz7cmCmwomdiCGSraeRHaxWjmHmfa5Kh', {'weight': 46}), ('ryz7cmCmwomdiCGSraeRHaxWjmHmfa5Kh', 'rEu9cWnsfrb76y1trRX5ioHRXyZLwhL3sT', {'weight': 36}), ('rEuWWDbuZSXYD9N9ToWq4EiykaPHdzCoR4', 'rnV76eitw7dUtFHyAEcnhVefidNu6aeqLd', {'weight': 11}), ('rnV76eitw7dUtFHyAEcnhVefidNu6aeqLd', 'rEuWWDbuZSXYD9N9ToWq4EiykaPHdzCoR4', {'weight': 21}), ('rEuZrPG1BHpKhBUArwnEqXy2dttLLqZszh', 'rwkSWccu6pE6cy87ykuAgSVyDDLhWCc3ts', {'weight': 84}), ('rwkSWccu6pE6cy87ykuAgSVyDDLhWCc3ts', 'rEuZrPG1BHpKhBUArwnEqXy2dttLLqZszh', {'weight': 65}), ('rEua8qXtjFhpaduoJJNszTjXCDWp7vsiZH', 'rnXHBszHx44fwdowDqo619UJs5qmw4jJGP', {'weight': 49}), ('rnXHBszHx44fwdowDqo619UJs5qmw4jJGP', 'rEua8qXtjFhpaduoJJNszTjXCDWp7vsiZH', {'weight': 75}), ('rEudXqeFrLNt3XNiyKjwbFckuW4EbF17xN', 'rMbffEGvHFwn97eDRcKdBa8Y77o9ptuqW8', {'weight': 22}), ('rMbffEGvHFwn97eDRcKdBa8Y77o9ptuqW8', 'rEudXqeFrLNt3XNiyKjwbFckuW4EbF17xN', {'weight': 32}), ('rEuk1wnvzduGcwy4CC1xyZpTTEsZrjCNKs', 'rLpdiC49ccaFDxA3GWiJrEbjVYSYezNpgh', {'weight': 49}), ('rLpdiC49ccaFDxA3GWiJrEbjVYSYezNpgh', 'rEuk1wnvzduGcwy4CC1xyZpTTEsZrjCNKs', {'weight': 41}), ('rEvVFCzH16uVaqH3L4LW4v3YRP5RZrxU4s', 'rGJQHxaJP22Ynw9WTNENkQaqLFfm3tzVi2', {'weight': 26}), ('rGJQHxaJP22Ynw9WTNENkQaqLFfm3tzVi2', 'rEvVFCzH16uVaqH3L4LW4v3YRP5RZrxU4s', {'weight': 14}), ('rEvVn6nQotMFfZ6qktdgwWn1jNbqQvaBAm', 'rKsUk3UwrbQArtMrejGJHFZN4G3Su1XuK7', {'weight': 19}), ('rKsUk3UwrbQArtMrejGJHFZN4G3Su1XuK7', 'rEvVn6nQotMFfZ6qktdgwWn1jNbqQvaBAm', {'weight': 28}), ('rEvdeozvow3DCA4QArUh1sZ28VUT4mgbbv', 'rnqXkvohHhAgEptyBZRSEJht9MEJ1bG11h', {'weight': 24}), ('rnqXkvohHhAgEptyBZRSEJht9MEJ1bG11h', 'rEvdeozvow3DCA4QArUh1sZ28VUT4mgbbv', {'weight': 14}), ('rEvoHsuX1jWjGo7ppBkukRyKBmm7ojUzxj', 'rrnbVu3VzTPCLpTWnyK2dSJgkaYctCBktn', {'weight': 28}), ('rrnbVu3VzTPCLpTWnyK2dSJgkaYctCBktn', 'rEvoHsuX1jWjGo7ppBkukRyKBmm7ojUzxj', {'weight': 37}), ('rEwSc8kLokExJNpHj3iXqoLU5QbbVMzt1', 'rhCE7mZU1tUam5S6FPLuaaHheRZARgyqkV', {'weight': 13}), ('rhCE7mZU1tUam5S6FPLuaaHheRZARgyqkV', 'rEwSc8kLokExJNpHj3iXqoLU5QbbVMzt1', {'weight': 27}), ('rEwamJinMcRCBYcjEu93drEt89RcfxXX8q', 'rpLHY68bL3XHywxeLJPGPPYnGXRyvNwxvb', {'weight': 30}), ('rpLHY68bL3XHywxeLJPGPPYnGXRyvNwxvb', 'rEwamJinMcRCBYcjEu93drEt89RcfxXX8q', {'weight': 19}), ('rEwyLRxH25QiJBE4mHHswCgCEmfdHzdp5D', 'rMSbXfE3KWfhwBJyUgYCbr11esrKWaBFGX', {'weight': 30}), ('rMSbXfE3KWfhwBJyUgYCbr11esrKWaBFGX', 'rEwyLRxH25QiJBE4mHHswCgCEmfdHzdp5D', {'weight': 21}), ('rEx9ezXVETtYfAgUDn6uRLdxEYmNU3LHYR', 'rP6nx8ncPTucM5bpgVYwpfqrpfwCrqzbvq', {'weight': 30}), ('rP6nx8ncPTucM5bpgVYwpfqrpfwCrqzbvq', 'rEx9ezXVETtYfAgUDn6uRLdxEYmNU3LHYR', {'weight': 21}), ('rExoCRde4zPrxVfXeZf3m6ig9XYHMtLy8z', 'rpNSb47XopdhSYoiHC37WhwyjisVxukosX', {'weight': 34}), ('rpNSb47XopdhSYoiHC37WhwyjisVxukosX', 'rExoCRde4zPrxVfXeZf3m6ig9XYHMtLy8z', {'weight': 24}), ('rEy6GHmFPk8uP5SBxciNEzXCZpTzSehYTG', 'rK8sE6q275iyLXzE5HPMe5EaQNn4MTitRg', {'weight': 21}), ('rK8sE6q275iyLXzE5HPMe5EaQNn4MTitRg', 'rEy6GHmFPk8uP5SBxciNEzXCZpTzSehYTG', {'weight': 29}), ('rEy6fBDrqU4Y8KWpiF3YhvCvnmiBMPm5hT', 'rajc4qHQQ3KD1eJZjJtz2MsLymdjVsaUhJ', {'weight': 35}), ('rajc4qHQQ3KD1eJZjJtz2MsLymdjVsaUhJ', 'rEy6fBDrqU4Y8KWpiF3YhvCvnmiBMPm5hT', {'weight': 23}), ('rEy9YhaYcisqhNcQGqeyvjEefWQ5goUdUQ', 'rUSbCtf9YBCKb6gH3iSdv6ZCsru7A5wFtA', {'weight': 30}), ('rUSbCtf9YBCKb6gH3iSdv6ZCsru7A5wFtA', 'rEy9YhaYcisqhNcQGqeyvjEefWQ5goUdUQ', {'weight': 16}), ('rEyVeiQgeokzgpynYkUk5ZLAmScgAvPt9m', 'rJmAWDuWfcFbWwEjxANWGCFRxSAj2CVK29', {'weight': 24}), ('rJmAWDuWfcFbWwEjxANWGCFRxSAj2CVK29', 'rEyVeiQgeokzgpynYkUk5ZLAmScgAvPt9m', {'weight': 35}), ('rEyiXT3G9Dfdz45maHWGqY3QUGZH9SvGej', 'rHduZ9pAgwHbA2CF9MGUJAis43SNSy79Lq', {'weight': 32}), ('rHduZ9pAgwHbA2CF9MGUJAis43SNSy79Lq', 'rEyiXT3G9Dfdz45maHWGqY3QUGZH9SvGej', {'weight': 21}), ('rEzDDcj3SQsPhhdUhoBgE3UT9YvQoU2VVy', 'rF59cPvL3vJgvybCt4gnBhpz1Vmxcq32e', {'weight': 42}), ('rF59cPvL3vJgvybCt4gnBhpz1Vmxcq32e', 'rEzDDcj3SQsPhhdUhoBgE3UT9YvQoU2VVy', {'weight': 33}), ('rEzLWGrpER2JNNN9TVzhNGLG1m2cdZtXS4', 'rKi2VyVWwKMGQ9ePtrZJwBDP6mprCvVdVL', {'weight': 36}), ('rKi2VyVWwKMGQ9ePtrZJwBDP6mprCvVdVL', 'rEzLWGrpER2JNNN9TVzhNGLG1m2cdZtXS4', {'weight': 24}), ('rEzUp7HFqk4eqoZ9JCZdqHrKe9dZr4BjNB', 'rod5J54JjnHvgjTZGBKcbD5crb3YuJuCQ', {'weight': 55}), ('rod5J54JjnHvgjTZGBKcbD5crb3YuJuCQ', 'rEzUp7HFqk4eqoZ9JCZdqHrKe9dZr4BjNB', {'weight': 77}), ('rEzbLBiNbV2njfNQbpXtimLu6qQ35qMtku', 'raxbGEArqcrSooTTX3wZeTdBkvPoso7A4x', {'weight': 22}), ('raxbGEArqcrSooTTX3wZeTdBkvPoso7A4x', 'rEzbLBiNbV2njfNQbpXtimLu6qQ35qMtku', {'weight': 13}), ('rEznPSz8b4EnXVQPhS3NZHUq8peDgbGda7', 'rG1U6FTQeH8KqeVuyA5JiPwQyjcPUR65BP', {'weight': 78}), ('rG1U6FTQeH8KqeVuyA5JiPwQyjcPUR65BP', 'rEznPSz8b4EnXVQPhS3NZHUq8peDgbGda7', {'weight': 60}), ('rEzno2jd64For6kFX12YRTboaGKJqi95CB', 'rGsF3BAy8Xve4zC4gz1J5cG9BujyHrKCVM', {'weight': 18}), ('rGsF3BAy8Xve4zC4gz1J5cG9BujyHrKCVM', 'rEzno2jd64For6kFX12YRTboaGKJqi95CB', {'weight': 28}), ('rEzxXJaTt9zU9jmK7fTaM9Pj1SLmkcFDYw', 'rnBLm8nBaY1NkbGKFsYiJJNG9CDD1vbU3V', {'weight': 18}), ('rnBLm8nBaY1NkbGKFsYiJJNG9CDD1vbU3V', 'rEzxXJaTt9zU9jmK7fTaM9Pj1SLmkcFDYw', {'weight': 28}), ('rF2zAnMTyT7gnsk5WgfcWpdnFiG9TJ528', 'rPBzG1J2DX4nHA8U7uY2xPG7oWobuTthXD', {'weight': 30}), ('rPBzG1J2DX4nHA8U7uY2xPG7oWobuTthXD', 'rF2zAnMTyT7gnsk5WgfcWpdnFiG9TJ528', {'weight': 21}), ('rFb9umi7QCXFY7ADrebBzkNrMRHdzRLQt', 'rJiSNQ3UunSNrztDgkYhtaSHPcUsniBrfk', {'weight': 29}), ('rJiSNQ3UunSNrztDgkYhtaSHPcUsniBrfk', 'rFb9umi7QCXFY7ADrebBzkNrMRHdzRLQt', {'weight': 16}), ('rFzrpByZ3R2ku8ELDTqcPahb2V75RsTY9', 'rKE51T8rY2RCSca9jmT2tm1Yrn1LX2Be51', {'weight': 16}), ('rKE51T8rY2RCSca9jmT2tm1Yrn1LX2Be51', 'rFzrpByZ3R2ku8ELDTqcPahb2V75RsTY9', {'weight': 30}), ('rG1UDyxKvc6tjHj4kEuQBuBVu6v6eJZrbR', 'rp4XjyvsubsfFSTy5x4w5eNBUVxX7qLaLX', {'weight': 26}), ('rp4XjyvsubsfFSTy5x4w5eNBUVxX7qLaLX', 'rG1UDyxKvc6tjHj4kEuQBuBVu6v6eJZrbR', {'weight': 17}), ('rG1ic8xmEgkgT6U3mrxaiv6HmDo5X7GMkt', 'rNcD7eNNx5xEGCcmvBwLFhcN9KhXmfkehU', {'weight': 25}), ('rNcD7eNNx5xEGCcmvBwLFhcN9KhXmfkehU', 'rG1ic8xmEgkgT6U3mrxaiv6HmDo5X7GMkt', {'weight': 13}), ('rG1xPVSkCMF9qWonjSMKRJAJHhJzp2oeyh', 'rLdNP3f2ZDUDmWbxpGWPQ6CdEU87agmfXD', {'weight': 20}), ('rLdNP3f2ZDUDmWbxpGWPQ6CdEU87agmfXD', 'rG1xPVSkCMF9qWonjSMKRJAJHhJzp2oeyh', {'weight': 30}), ('rG1yUiqqBSx3pueVAK8osgpU5rUZSmrwi1', 'rhiusw2kEJtje7V9yz7RQCJiPyt2ojQQoW', {'weight': 40}), ('rhiusw2kEJtje7V9yz7RQCJiPyt2ojQQoW', 'rG1yUiqqBSx3pueVAK8osgpU5rUZSmrwi1', {'weight': 30}), ('rG2GeLH5oDgZDDmFZhsJdo9viryhZZRNme', 'rpxeFP7XJxa4jxWpM7tjn7KzdckYADJ2VC', {'weight': 16}), ('rpxeFP7XJxa4jxWpM7tjn7KzdckYADJ2VC', 'rG2GeLH5oDgZDDmFZhsJdo9viryhZZRNme', {'weight': 30}), ('rG2TcfvSX2ceo94qQqGnrMVgpgFJY3HrWJ', 'rHZGuaxKyBgVT5WBJm3xduKteATwzZizLt', {'weight': 15}), ('rHZGuaxKyBgVT5WBJm3xduKteATwzZizLt', 'rG2TcfvSX2ceo94qQqGnrMVgpgFJY3HrWJ', {'weight': 32}), ('rG2XKBaVnkuzT6Whdk79FDUAhKvBAQ7WKP', 'rnmf4tXTcinaNmfBfy6b4MzGC6LC1vzzBP', {'weight': 22}), ('rnmf4tXTcinaNmfBfy6b4MzGC6LC1vzzBP', 'rG2XKBaVnkuzT6Whdk79FDUAhKvBAQ7WKP', {'weight': 34}), ('rG2oP9Rvnz5BaZs1aVDaNVqSNG5z7B4KCz', 'rGjr89DUMXnzMTSyYbmD5aJ6PidWkFUKrF', {'weight': 21}), ('rGjr89DUMXnzMTSyYbmD5aJ6PidWkFUKrF', 'rG2oP9Rvnz5BaZs1aVDaNVqSNG5z7B4KCz', {'weight': 11}), ('rG2wAUWgfxCSCxLf1vqeQGCA7BknsH6K7L', 'rJZnnRFXULGPwpbWQVZEfGgiynFWYvFPSe', {'weight': 29}), ('rJZnnRFXULGPwpbWQVZEfGgiynFWYvFPSe', 'rG2wAUWgfxCSCxLf1vqeQGCA7BknsH6K7L', {'weight': 14}), ('rG3J74HZVDTEmFBpMAuzgoU7DWJJp4BZ9V', 'rpJdbYMkaaZhkFuPasEFUJZ8pfhEQPosuq', {'weight': 22}), ('rpJdbYMkaaZhkFuPasEFUJZ8pfhEQPosuq', 'rG3J74HZVDTEmFBpMAuzgoU7DWJJp4BZ9V', {'weight': 12}), ('rG3R65mqXY2eoDwMCNu2Xc1xUUJsDSKLdV', 'rM1u7QcS56fBiMmPmrUdY825uk2trbssWT', {'weight': 36}), ('rM1u7QcS56fBiMmPmrUdY825uk2trbssWT', 'rG3R65mqXY2eoDwMCNu2Xc1xUUJsDSKLdV', {'weight': 45}), ('rG3qFvgXuH6jYMtVWrDj63GRxkNv1SqW7f', 'rwpJjvD1jYZMKNRZmNazUUkeuDGkaH7GE8', {'weight': 21}), ('rwpJjvD1jYZMKNRZmNazUUkeuDGkaH7GE8', 'rG3qFvgXuH6jYMtVWrDj63GRxkNv1SqW7f', {'weight': 11}), ('rG446STpERoBJAVNozZdNKN55UUb2huDhc', 'rn8HqhNvEfpvrmXppT5re5A7AXXXab8v29', {'weight': 31}), ('rn8HqhNvEfpvrmXppT5re5A7AXXXab8v29', 'rG446STpERoBJAVNozZdNKN55UUb2huDhc', {'weight': 19}), ('rG4Kjn1NConf2qkNMWzmST8Ta8MUwBP42D', 'rPTv3znGKk6fFK1NcRwftKqDBJeH5MBQZN', {'weight': 21}), ('rPTv3znGKk6fFK1NcRwftKqDBJeH5MBQZN', 'rG4Kjn1NConf2qkNMWzmST8Ta8MUwBP42D', {'weight': 32}), ('rG4UMNq6HvJqLbJZPHLJRyGWA3ucxiSm8d', 'rLpeaQF3CwNv4dz2DaHaNxmn4bmjP6PZpG', {'weight': 53}), ('rLpeaQF3CwNv4dz2DaHaNxmn4bmjP6PZpG', 'rG4UMNq6HvJqLbJZPHLJRyGWA3ucxiSm8d', {'weight': 42}), ('rG4cA6oHsJBTv2JX3Mp3d5Cf2EMyCeMusc', 'rnaoGuUozhm8S9TktHi9j4XNsQy1uTA9Af', {'weight': 64}), ('rnaoGuUozhm8S9TktHi9j4XNsQy1uTA9Af', 'rG4cA6oHsJBTv2JX3Mp3d5Cf2EMyCeMusc', {'weight': 40}), ('rG4fZAuKdkc2WgbmRTVa4CfBX2YMARvE64', 'rGgp1N11PJ3sAYahzQyjDQKTMYoQZNnusb', {'weight': 27}), ('rGgp1N11PJ3sAYahzQyjDQKTMYoQZNnusb', 'rG4fZAuKdkc2WgbmRTVa4CfBX2YMARvE64', {'weight': 18}), ('rG4fcKigg23rexHaquHY1Qz5RzZZBvKF3A', 'rdRw8LQDSUzhGDHpzV9hrjr24ZdrbN1Tm', {'weight': 30}), ('rdRw8LQDSUzhGDHpzV9hrjr24ZdrbN1Tm', 'rG4fcKigg23rexHaquHY1Qz5RzZZBvKF3A', {'weight': 41}), ('rG4jxNP4Apnh6LBxnARXruNgE68W3Sq64k', 'rLdzvMF6gCxFrg2pgxsAEZsrdVeRZisdVo', {'weight': 29}), ('rLdzvMF6gCxFrg2pgxsAEZsrdVeRZisdVo', 'rG4jxNP4Apnh6LBxnARXruNgE68W3Sq64k', {'weight': 14}), ('rG56L6r5ypcPByWUzwLeqn4qdyM14YyBbr', 'rwg98nK8j3jTpiRFNpowN2uiZutqVqDqep', {'weight': 28}), ('rwg98nK8j3jTpiRFNpowN2uiZutqVqDqep', 'rG56L6r5ypcPByWUzwLeqn4qdyM14YyBbr', {'weight': 17}), ('rG5tA4mdAJsrLLCCKRFHKeFoGe54t4esaA', 'rw8eiF5Aox79gXeopVdMQt7pHVqKxHancd', {'weight': 25}), ('rw8eiF5Aox79gXeopVdMQt7pHVqKxHancd', 'rG5tA4mdAJsrLLCCKRFHKeFoGe54t4esaA', {'weight': 15}), ('rG5zZ3Azrt8d2tMh4MVJoa1CEc6Rdn4kW7', 'rnmz8sa7MBnLBfjzyYQDbyBZRWrz24nhC3', {'weight': 18}), ('rnmz8sa7MBnLBfjzyYQDbyBZRWrz24nhC3', 'rG5zZ3Azrt8d2tMh4MVJoa1CEc6Rdn4kW7', {'weight': 28}), ('rG63FjQoucxaosKxDoM8Ms3dSBVpDVbcYu', 'rPZ6PF9bKz6TY8RMpNp4Yz2f9q6HywpkjK', {'weight': 15}), ('rPZ6PF9bKz6TY8RMpNp4Yz2f9q6HywpkjK', 'rG63FjQoucxaosKxDoM8Ms3dSBVpDVbcYu', {'weight': 27}), ('rG6adqVMUxNTXLivYKgFVdC357es78utLz', 'rLTXRGFrn6fawPpD8i3e9NKPv71paJAcr7', {'weight': 36}), ('rLTXRGFrn6fawPpD8i3e9NKPv71paJAcr7', 'rG6adqVMUxNTXLivYKgFVdC357es78utLz', {'weight': 45}), ('rG7GBnt2x9wrLqZBZVkWFPJxffa3e7Bjti', 'rKhjn34fY5HVmvE2hotYTG3VC8JZPbwQvk', {'weight': 19}), ('rKhjn34fY5HVmvE2hotYTG3VC8JZPbwQvk', 'rG7GBnt2x9wrLqZBZVkWFPJxffa3e7Bjti', {'weight': 28}), ('rG7gBecKeFN13kFJKSbCFbRA4YqeFZ1WmC', 'rHxmV4StKmiuTrDvQc2yfYyqr8bCaHBK7c', {'weight': 27}), ('rHxmV4StKmiuTrDvQc2yfYyqr8bCaHBK7c', 'rG7gBecKeFN13kFJKSbCFbRA4YqeFZ1WmC', {'weight': 16}), ('rG7i8CET4PMWPuQE5LahSdvKG7oHgawJCa', 'rL24HpKSvFoWoQcyNMwgWMJA4vZfU322xd', {'weight': 40}), ('rL24HpKSvFoWoQcyNMwgWMJA4vZfU322xd', 'rG7i8CET4PMWPuQE5LahSdvKG7oHgawJCa', {'weight': 26}), ('rG853tv4AsuBgdLuRVkrYAaAsHCyj4p1ZL', 'rf7VdtHpAXPKXbQQ9KJSD8B6GYwumXhS5r', {'weight': 25}), ('rf7VdtHpAXPKXbQQ9KJSD8B6GYwumXhS5r', 'rG853tv4AsuBgdLuRVkrYAaAsHCyj4p1ZL', {'weight': 14}), ('rG8FVMmeWXH72zgaiojXgNdHXLPynRWPRN', 'rvVx2qpvBSv7drT5y5rwLiTCkZKqNrRpM', {'weight': 30}), ('rvVx2qpvBSv7drT5y5rwLiTCkZKqNrRpM', 'rG8FVMmeWXH72zgaiojXgNdHXLPynRWPRN', {'weight': 19}), ('rG8HrctptUyn4c4HAN4tzGoDqdabw1sE7k', 'rJ1qRFdFRuuToznXU1GUpbosY3Rr21XNmk', {'weight': 12}), ('rJ1qRFdFRuuToznXU1GUpbosY3Rr21XNmk', 'rG8HrctptUyn4c4HAN4tzGoDqdabw1sE7k', {'weight': 25}), ('rG8TbmVQiD47fc3TqJiqZWgQYEfFLJsew', 'rpbUT5JRRWGFgYdEKyvCKzSyBGtaW2AhxQ', {'weight': 41}), ('rpbUT5JRRWGFgYdEKyvCKzSyBGtaW2AhxQ', 'rG8TbmVQiD47fc3TqJiqZWgQYEfFLJsew', {'weight': 30}), ('rG8mvNAj2dey3y4EFLM3K8tFTP5UFhHMQA', 'rn3DfuxtVTwMczjTSbb9cVbnFEPLBL2F9U', {'weight': 29}), ('rn3DfuxtVTwMczjTSbb9cVbnFEPLBL2F9U', 'rG8mvNAj2dey3y4EFLM3K8tFTP5UFhHMQA', {'weight': 41}), ('rG8uRxsz9w9Eg7V615rVa9hynCF9re3kHF', 'rJnJEh7bVyQZY46KbgagEwRBpE9X7oLTkZ', {'weight': 14}), ('rJnJEh7bVyQZY46KbgagEwRBpE9X7oLTkZ', 'rG8uRxsz9w9Eg7V615rVa9hynCF9re3kHF', {'weight': 26}), ('rG96aaTXoDRoKG54KKssgF1tHM8qmJV1t5', 'rsrKLfnv219x8LsTxYQsRJmCueqbWZrZq6', {'weight': 17}), ('rsrKLfnv219x8LsTxYQsRJmCueqbWZrZq6', 'rG96aaTXoDRoKG54KKssgF1tHM8qmJV1t5', {'weight': 26}), ('rG9ECvJjzLUGtyxCmuTLSydSTFQHJEvkKH', 'rM6PNhHr8DahBeguhE2QkZgE2d9wZZwbAP', {'weight': 18}), ('rM6PNhHr8DahBeguhE2QkZgE2d9wZZwbAP', 'rG9ECvJjzLUGtyxCmuTLSydSTFQHJEvkKH', {'weight': 33}), ('rG9KrKdqigQAr4sXqQdUnN5E232Td6DtJP', 'rKR2d1uTHnUFmHFFjNpcmPub4UBXHUXjrE', {'weight': 77}), ('rKR2d1uTHnUFmHFFjNpcmPub4UBXHUXjrE', 'rG9KrKdqigQAr4sXqQdUnN5E232Td6DtJP', {'weight': 53}), ('rGA3nZ7U3UXzLpMGxnjnDcVFHH8ejApCBk', 'raaCJNqe4zmEtD4vRMwcnWF411qBcb33C7', {'weight': 21}), ('raaCJNqe4zmEtD4vRMwcnWF411qBcb33C7', 'rGA3nZ7U3UXzLpMGxnjnDcVFHH8ejApCBk', {'weight': 34}), ('rGAW94tzonWXqoRzDE81LVqUwJAuJh1xDc', 'rNwAtckHVRv7rzkSVMRhpsp7GeexqMwXe9', {'weight': 29}), ('rNwAtckHVRv7rzkSVMRhpsp7GeexqMwXe9', 'rGAW94tzonWXqoRzDE81LVqUwJAuJh1xDc', {'weight': 14}), ('rGAWJUhnVTPuG6WbxUbCxTgtkbwgHvqqMW', 'rLDcU4p7kr8HXzCitNLJYzCYh3RDQGBb8h', {'weight': 101}), ('rLDcU4p7kr8HXzCitNLJYzCYh3RDQGBb8h', 'rGAWJUhnVTPuG6WbxUbCxTgtkbwgHvqqMW', {'weight': 87}), ('rGAZfsnDy7rthcP8L3ggMMqGeBbyXXKqXk', 'rLQEgwoj4Hudhz9U3KKncSg4U4G9N1ayCi', {'weight': 42}), ('rLQEgwoj4Hudhz9U3KKncSg4U4G9N1ayCi', 'rGAZfsnDy7rthcP8L3ggMMqGeBbyXXKqXk', {'weight': 67}), ('rGB1rNq4WYf6Q6CdTdXYwT2uhCnHL1Y2Pb', 'rwmGPAmrwHPX87nAxuBi6fZLh3aK4gpubr', {'weight': 30}), ('rwmGPAmrwHPX87nAxuBi6fZLh3aK4gpubr', 'rGB1rNq4WYf6Q6CdTdXYwT2uhCnHL1Y2Pb', {'weight': 19}), ('rGBLqp8H2bd1AVviN3iTGWsP6ho7ZW11U8', 'rhBF5LGeKwPVAUrLg21i7gyqSPFvVRZyyv', {'weight': 21}), ('rhBF5LGeKwPVAUrLg21i7gyqSPFvVRZyyv', 'rGBLqp8H2bd1AVviN3iTGWsP6ho7ZW11U8', {'weight': 30}), ('rGBUnUjqsTH9rH1rKKTzUZLft6HFv8bxXN', 'rK2FkJ8TWSaNcHHGTH7bNXdRsxe7TnDuTK', {'weight': 19}), ('rK2FkJ8TWSaNcHHGTH7bNXdRsxe7TnDuTK', 'rGBUnUjqsTH9rH1rKKTzUZLft6HFv8bxXN', {'weight': 32}), ('rGBcaMBvYpHQGVpdPwTGefareEi9XTQY7C', 'rQN2M92ZjuQGZ9NcUjEZzDEYwXyc1PRE61', {'weight': 25}), ('rQN2M92ZjuQGZ9NcUjEZzDEYwXyc1PRE61', 'rGBcaMBvYpHQGVpdPwTGefareEi9XTQY7C', {'weight': 37}), ('rGCQG5dBYKM2EYnEoAUYeCQYZq9NKQjaem', 'rMRDALmRkeKkRFMTsM5sATuH9sW9K5DnhW', {'weight': 16}), ('rMRDALmRkeKkRFMTsM5sATuH9sW9K5DnhW', 'rGCQG5dBYKM2EYnEoAUYeCQYZq9NKQjaem', {'weight': 25}), ('rGCeJ4xFmdV6ao8tUE2M5WzorDHjvdi7CP', 'rMN8FaXJLxsbXcS3jRgah3xzDru5amvjyh', {'weight': 32}), ('rMN8FaXJLxsbXcS3jRgah3xzDru5amvjyh', 'rGCeJ4xFmdV6ao8tUE2M5WzorDHjvdi7CP', {'weight': 41}), ('rGD32AcygoebWjkGgajk4Dx18c3RFYVN6J', 'rMEo5DD5BvvnnEtr3RoQqsR178s3dPYTfd', {'weight': 22}), ('rMEo5DD5BvvnnEtr3RoQqsR178s3dPYTfd', 'rGD32AcygoebWjkGgajk4Dx18c3RFYVN6J', {'weight': 34}), ('rGD91AJUr9Zmiy4F6MTZ4BjeqyBBy2hA4z', 'rpSU7jHWjMEqeoKCunDvdBuCeWu7kcAc3f', {'weight': 70}), ('rpSU7jHWjMEqeoKCunDvdBuCeWu7kcAc3f', 'rGD91AJUr9Zmiy4F6MTZ4BjeqyBBy2hA4z', {'weight': 45}), ('rGD9QSYpGWxCEHbTxqVMzyHiCsp57SFWgc', 'rLVA3NbP6cJt5znGBkFQD1Nu7Ycxe89TvZ', {'weight': 31}), ('rLVA3NbP6cJt5znGBkFQD1Nu7Ycxe89TvZ', 'rGD9QSYpGWxCEHbTxqVMzyHiCsp57SFWgc', {'weight': 20}), ('rGDnBSX9xRzkcDUauPofF1vRLNDtip2Wvb', 'r3fFaoqaJN1wwN68fsMAt4QkRuXkEjB3W4', {'weight': 24}), ('rGFAWcMyLXfaqSAHdu523g252b9rKHkR6z', 'rNcoWCMUoboMuNPENYJVRVBa3tiKogWRAt', {'weight': 20}), ('rNcoWCMUoboMuNPENYJVRVBa3tiKogWRAt', 'rGFAWcMyLXfaqSAHdu523g252b9rKHkR6z', {'weight': 11}), ('rGFJSnfeo5Mh81ytWoGcDmWec2zrcFrSWY', 'rwjeaH4xBhZ3QxmvGgCGyzPk7tcUk6bUDJ', {'weight': 70}), ('rwjeaH4xBhZ3QxmvGgCGyzPk7tcUk6bUDJ', 'rGFJSnfeo5Mh81ytWoGcDmWec2zrcFrSWY', {'weight': 87}), ('rGFZ8PzZ9i2LNiBQzZS98kMyKQRYv9PXjj', 'rH6q2Qshn81n58hA3djUBQ6zhErFkUbGBv', {'weight': 25}), ('rH6q2Qshn81n58hA3djUBQ6zhErFkUbGBv', 'rGFZ8PzZ9i2LNiBQzZS98kMyKQRYv9PXjj', {'weight': 16}), ('rGFspF55EYPy3kAtbrcdaQdWzDRK86gtsq', 'rpkwucDC5j1cdJLc99wc8QCPii6zmEtrdj', {'weight': 15}), ('rpkwucDC5j1cdJLc99wc8QCPii6zmEtrdj', 'rGFspF55EYPy3kAtbrcdaQdWzDRK86gtsq', {'weight': 30}), ('rGFwZYssV6bGBjziYDrnekNoLN9qCjA72s', 'rJGMqied1hypxHZTmNL25gHdXe9jSuD6c', {'weight': 26}), ('rJGMqied1hypxHZTmNL25gHdXe9jSuD6c', 'rGFwZYssV6bGBjziYDrnekNoLN9qCjA72s', {'weight': 14}), ('rGG7JDRwKkHLFCTfnD72G1JsGP2vtX2Qjc', 'rhhXYxBEg8M4Hh6qVEDBara2htHcUqJML4', {'weight': 28}), ('rhhXYxBEg8M4Hh6qVEDBara2htHcUqJML4', 'rGG7JDRwKkHLFCTfnD72G1JsGP2vtX2Qjc', {'weight': 18}), ('rGGLJt73He6jdYiXbdvSZNaWzYjkEC1Pth', 'rngMngABwEETMbB8FYRU5pVw3K8nT9MhKQ', {'weight': 27}), ('rngMngABwEETMbB8FYRU5pVw3K8nT9MhKQ', 'rGGLJt73He6jdYiXbdvSZNaWzYjkEC1Pth', {'weight': 18}), ('rGGNfzrKU8QvZQ1EmWndLQ4xLXJvAvajSp', 'rNdnHm6SVYUrVn4xqfihcFXzceeFCjJQLv', {'weight': 14}), ('rNdnHm6SVYUrVn4xqfihcFXzceeFCjJQLv', 'rGGNfzrKU8QvZQ1EmWndLQ4xLXJvAvajSp', {'weight': 23}), ('rGGPnkFMZzGeCnUmKDSy5yxqUmHix7HhDS', 'rNJgwy2bnRDtB2P9rUj2cvLYzL5d35TgZg', {'weight': 19}), ('rNJgwy2bnRDtB2P9rUj2cvLYzL5d35TgZg', 'rGGPnkFMZzGeCnUmKDSy5yxqUmHix7HhDS', {'weight': 34}), ('rGGoFdjduL9RVkRsQbUK795o23kd9VmaTa', 'rNE5QHS9dhR5HFMgzoHWkcHwiWX19AjBEw', {'weight': 79}), ('rNE5QHS9dhR5HFMgzoHWkcHwiWX19AjBEw', 'rGGoFdjduL9RVkRsQbUK795o23kd9VmaTa', {'weight': 53}), ('rGHScwc2d9u2XSjCx4jrnjbAGETWbdLgZT', 'rLKfLdHnoaswxwVtZcw5m2Qj2KHqDFpKDB', {'weight': 14}), ('rLKfLdHnoaswxwVtZcw5m2Qj2KHqDFpKDB', 'rGHScwc2d9u2XSjCx4jrnjbAGETWbdLgZT', {'weight': 26}), ('rGHW1XoFMVCnnBh63B5V8h4GMSdtHv5N5N', 'rPjtbb3MGJn3v3dXVyvdtJRwmbWhU5T5Eq', {'weight': 72}), ('rPjtbb3MGJn3v3dXVyvdtJRwmbWhU5T5Eq', 'rGHW1XoFMVCnnBh63B5V8h4GMSdtHv5N5N', {'weight': 52}), ('rGHpiraT94b6uT29kNxLHgdMzbK59XaCCt', 'raYHkC8b39xtVBN4JuEa9qeZgPue2esUYq', {'weight': 22}), ('raYHkC8b39xtVBN4JuEa9qeZgPue2esUYq', 'rGHpiraT94b6uT29kNxLHgdMzbK59XaCCt', {'weight': 33}), ('rGHx5mcKqLLutbbgr77D4ZP9eGaKVQT9e1', 'rhXhzDmbn3iHo8PwqvbdqWMNWEcV5krNdm', {'weight': 15}), ('rhXhzDmbn3iHo8PwqvbdqWMNWEcV5krNdm', 'rGHx5mcKqLLutbbgr77D4ZP9eGaKVQT9e1', {'weight': 26}), ('rGJ4RZHyudscfdr4Nnwhu9NyKicaBpyDJ7', 'rwkdLcsP4QTQ6wn3jpKJv6zFLm4GEC89Ys', {'weight': 26}), ('rwkdLcsP4QTQ6wn3jpKJv6zFLm4GEC89Ys', 'rGJ4RZHyudscfdr4Nnwhu9NyKicaBpyDJ7', {'weight': 12}), ('rGJEZY8yfhnQ19ZyEu8Z9xQFeiPiWa3zyT', 'raB2THmGrcZNatFe97gVcpSkiVSwP212iy', {'weight': 36}), ('raB2THmGrcZNatFe97gVcpSkiVSwP212iy', 'rGJEZY8yfhnQ19ZyEu8Z9xQFeiPiWa3zyT', {'weight': 22}), ('rGJYgpMmHJN7KYTo1cjdro1HRrLdMxc8dE', 'rpkkw4mSPX15MnyyRRRZg1tGzTELe6fSHF', {'weight': 21}), ('rpkkw4mSPX15MnyyRRRZg1tGzTELe6fSHF', 'rGJYgpMmHJN7KYTo1cjdro1HRrLdMxc8dE', {'weight': 30}), ('rGKPSdjUCxUL9aVbfjvMSbeWquey6nhGto', 'rsLRwdSoVCrSyQVoWoGW9E4UKJ9vHrd3Fy', {'weight': 39}), ('rsLRwdSoVCrSyQVoWoGW9E4UKJ9vHrd3Fy', 'rGKPSdjUCxUL9aVbfjvMSbeWquey6nhGto', {'weight': 29}), ('rGKbKVu6u6xvBavchD41FS5g7W9RRNjC6f', 'rNEze3Js8fWVE79YxjiobvazZkF8AkSGhG', {'weight': 1}), ('rNEze3Js8fWVE79YxjiobvazZkF8AkSGhG', 'rGKbKVu6u6xvBavchD41FS5g7W9RRNjC6f', {'weight': 64}), ('rGKuL18hJRAdyJMybaWhY7vQuHdiEtqr6h', 'rLQLdNiA8VQmsv5tyy4ZZkfVtRbrSeT9qW', {'weight': 18}), ('rLQLdNiA8VQmsv5tyy4ZZkfVtRbrSeT9qW', 'rGKuL18hJRAdyJMybaWhY7vQuHdiEtqr6h', {'weight': 28}), ('rGLSiCUDnLW2oTWcgF5dJ9uN1E9a9ZoAYM', 'rU2THZ59Ran3pa3yUmXLjtLJSevKDR6M5n', {'weight': 93}), ('rU2THZ59Ran3pa3yUmXLjtLJSevKDR6M5n', 'rGLSiCUDnLW2oTWcgF5dJ9uN1E9a9ZoAYM', {'weight': 105}), ('rGLktXcHVM4tC2Eh1ztScgLtiy5iGU128a', 'rf6MBcAFCQ2HsmFV4ZStUwDy6ShUzP5s5w', {'weight': 39}), ('rf6MBcAFCQ2HsmFV4ZStUwDy6ShUzP5s5w', 'rGLktXcHVM4tC2Eh1ztScgLtiy5iGU128a', {'weight': 48}), ('rGLt2rQps5khE8TDCsjAgBMKotezCbxfwk', 'rsczeZNgkxCVoggqCTuxAYf1ro5P8ZkSZT', {'weight': 37}), ('rsczeZNgkxCVoggqCTuxAYf1ro5P8ZkSZT', 'rGLt2rQps5khE8TDCsjAgBMKotezCbxfwk', {'weight': 45}), ('rGMAhQCdWQ9tJNYay6sj8gejXM1N4FXbKU', 'rMauqPhWSLsExqSjcQdJCMfeYZuBxyH45j', {'weight': 23}), ('rMauqPhWSLsExqSjcQdJCMfeYZuBxyH45j', 'rGMAhQCdWQ9tJNYay6sj8gejXM1N4FXbKU', {'weight': 32}), ('rGMNwDUwg91e8VbCb9kF5yxVpobBboVY1U', 'rNBryDSNVJ6j6yNfw5r2ZZRs2ZG47LmCAe', {'weight': 32}), ('rNBryDSNVJ6j6yNfw5r2ZZRs2ZG47LmCAe', 'rGMNwDUwg91e8VbCb9kF5yxVpobBboVY1U', {'weight': 20}), ('rGMPEQRkbWbhW9sACxUJUzqFpeBRWHvmX6', 'raj8MQwSxM8bf54QVaqd5MAHi2KTntRbX2', {'weight': 40}), ('raj8MQwSxM8bf54QVaqd5MAHi2KTntRbX2', 'rGMPEQRkbWbhW9sACxUJUzqFpeBRWHvmX6', {'weight': 29}), ('rGMesVHM6djUtSFQPpvBeX9A1XTkGLT6Cy', 'rpQL5WCeoMnSMwYFPC51F39btyGFP3sCyn', {'weight': 35}), ('rpQL5WCeoMnSMwYFPC51F39btyGFP3sCyn', 'rGMesVHM6djUtSFQPpvBeX9A1XTkGLT6Cy', {'weight': 46}), ('rGMrQ28D8tqusq7n8WqtKW55ML9PLG8HWy', 'rP7a87ccbUpWxDDtUTLkYZYDh9jgdeH2Bm', {'weight': 18}), ('rP7a87ccbUpWxDDtUTLkYZYDh9jgdeH2Bm', 'rGMrQ28D8tqusq7n8WqtKW55ML9PLG8HWy', {'weight': 28}), ('rGN2S1TDV8JhLpKBEqjxHuBPzY4DL48PUs', 'rMje9nmsBh5eptU8n4kbb1mVTemQiYzdMJ', {'weight': 21}), ('rMje9nmsBh5eptU8n4kbb1mVTemQiYzdMJ', 'rGN2S1TDV8JhLpKBEqjxHuBPzY4DL48PUs', {'weight': 33}), ('rGNDLA5rjraX9coMpxQs9oZBHouQBBWY2t', 'rL4CkPgnGtg7R5U2nXTNYvDN8dvmKBy1og', {'weight': 14}), ('rL4CkPgnGtg7R5U2nXTNYvDN8dvmKBy1og', 'rGNDLA5rjraX9coMpxQs9oZBHouQBBWY2t', {'weight': 28}), ('rGNU6Q3vgY3qSp2uK9D7LPtFoVHD7MxRmV', 'rwxnsmf9hgn2v74WirivDEtXkMaWTKQ4LL', {'weight': 49}), ('rwxnsmf9hgn2v74WirivDEtXkMaWTKQ4LL', 'rGNU6Q3vgY3qSp2uK9D7LPtFoVHD7MxRmV', {'weight': 41}), ('rGNammsVx3ikoETtoRdopjGb3wc8RPcFkY', 'rNB4kcPKhVFKYrMqoaRF4UBGJPQSESzDww', {'weight': 24}), ('rNB4kcPKhVFKYrMqoaRF4UBGJPQSESzDww', 'rGNammsVx3ikoETtoRdopjGb3wc8RPcFkY', {'weight': 33}), ('rGPGTztqur9Nf67N6QJtf3NzSPeV5yJLpt', 'rsixt66eDRwuRHx9B8gFTgzX1W72Yufb2w', {'weight': 26}), ('rsixt66eDRwuRHx9B8gFTgzX1W72Yufb2w', 'rGPGTztqur9Nf67N6QJtf3NzSPeV5yJLpt', {'weight': 15}), ('rGPeWHffZjQPcSstMNbsymLcrGNNsGGuWC', 'raJPsZ6JobDg8HH1QwH6r5My46z2xQ3Rf7', {'weight': 32}), ('raJPsZ6JobDg8HH1QwH6r5My46z2xQ3Rf7', 'rGPeWHffZjQPcSstMNbsymLcrGNNsGGuWC', {'weight': 22}), ('rGQURUkJyyy45iKoon3YVGdkjmvDidgdvW', 'rKLytBWsbGQ5ofrdB8VAa7HD974Gn6xvmW', {'weight': 13}), ('rKLytBWsbGQ5ofrdB8VAa7HD974Gn6xvmW', 'rGQURUkJyyy45iKoon3YVGdkjmvDidgdvW', {'weight': 22}), ('rGQV1afANnUALZzstPKrFPz7ExYzYARavf', 'rwSTw7kxodJ1k5XrkMpnap4xo59EijoqJS', {'weight': 32}), ('rwSTw7kxodJ1k5XrkMpnap4xo59EijoqJS', 'rGQV1afANnUALZzstPKrFPz7ExYzYARavf', {'weight': 41}), ('rGQWTL2ctTNaGoTZRpzuwyowEYwRV1kTAj', 'rHy39h8QDvjoty7GiehkRGSS1rn1zWspNc', {'weight': 25}), ('rHy39h8QDvjoty7GiehkRGSS1rn1zWspNc', 'rGQWTL2ctTNaGoTZRpzuwyowEYwRV1kTAj', {'weight': 16}), ('rGQWUQBeTCWLpApsVAUWLPjZCfcM5kAEBi', 'rfKGqwW7J84GySANTarj3snBE2KzxxtCxd', {'weight': 30}), ('rfKGqwW7J84GySANTarj3snBE2KzxxtCxd', 'rGQWUQBeTCWLpApsVAUWLPjZCfcM5kAEBi', {'weight': 18}), ('rGRGA4eGZTAT1Kg13jTYw1HBrhN5eZfDh2', 'rPja2jqojLxdVUmNYtp4cPrBWWCj8FJgxJ', {'weight': 22}), ('rPja2jqojLxdVUmNYtp4cPrBWWCj8FJgxJ', 'rGRGA4eGZTAT1Kg13jTYw1HBrhN5eZfDh2', {'weight': 13}), ('rGRT6ewTTi1MCHfNqmJgNxFvtX5pxusWBL', 'rMguRmFhrKFh953eEKDAy78bgHnmw9vGku', {'weight': 78}), ('rMguRmFhrKFh953eEKDAy78bgHnmw9vGku', 'rGRT6ewTTi1MCHfNqmJgNxFvtX5pxusWBL', {'weight': 59}), ('rGRUspbXhV8UUXag28uo8ReS1zzEfNJFLV', 'rGbH6Gg83hRPBdQLQeVbEEGPAqD55MCYzN', {'weight': 14}), ('rGbH6Gg83hRPBdQLQeVbEEGPAqD55MCYzN', 'rGRUspbXhV8UUXag28uo8ReS1zzEfNJFLV', {'weight': 24}), ('rGS5FxbFc1URQ959ZKJDpWPYdJUEXY7GBk', 'rUBUJ6xByMoVXTavYuBuKtGMY4wXqAfHex', {'weight': 99}), ('rUBUJ6xByMoVXTavYuBuKtGMY4wXqAfHex', 'rGS5FxbFc1URQ959ZKJDpWPYdJUEXY7GBk', {'weight': 85}), ('rGSRLoCTj89Eyo4jw2bvKCn2ohpq5nvMG9', 'rHNvaaN5Lw64hRgVktbXZYqBeUS5QWg8pU', {'weight': 82}), ('rHNvaaN5Lw64hRgVktbXZYqBeUS5QWg8pU', 'rGSRLoCTj89Eyo4jw2bvKCn2ohpq5nvMG9', {'weight': 95}), ('rGSgP1hJqMwRch5f2aJ7ge3VBymUHd1HoQ', 'rYVFfSXbn3TpEV8nSGoNJrEmW99bLHZLt', {'weight': 103}), ('rYVFfSXbn3TpEV8nSGoNJrEmW99bLHZLt', 'rGSgP1hJqMwRch5f2aJ7ge3VBymUHd1HoQ', {'weight': 87}), ('rGSnbGnSy9fuvP6oRfyK6ky78dh7fN1XV3', 'rwABML66ye1bfV13THEs162L8VmrT3JGk8', {'weight': 39}), ('rwABML66ye1bfV13THEs162L8VmrT3JGk8', 'rGSnbGnSy9fuvP6oRfyK6ky78dh7fN1XV3', {'weight': 48}), ('rGSu9A4CAACvN3ciRzibnLtDFQ8M4J9wyW', 'rpKMUvf9M74juZrfKXFekMTEHmuMUcTGtY', {'weight': 28}), ('rpKMUvf9M74juZrfKXFekMTEHmuMUcTGtY', 'rGSu9A4CAACvN3ciRzibnLtDFQ8M4J9wyW', {'weight': 39}), ('rGUWFNCjLat6wRvhTJYL4nhHi7sBrRDhUg', 'rwR3ZSgM6p34JgnSvMuPKmHWf1PUQSVrpC', {'weight': 105}), ('rwR3ZSgM6p34JgnSvMuPKmHWf1PUQSVrpC', 'rGUWFNCjLat6wRvhTJYL4nhHi7sBrRDhUg', {'weight': 93}), ('rGUZxDgtvNdTcrjzfWEdDBuASv9VvyGmbs', 'rn3n7phPFviUk5xpMd77zwn3ySm9wPSDGu', {'weight': 26}), ('rn3n7phPFviUk5xpMd77zwn3ySm9wPSDGu', 'rGUZxDgtvNdTcrjzfWEdDBuASv9VvyGmbs', {'weight': 14}), ('rGVPGabpwf62GBArAsmqxKbE1gUCmjwYzL', 'rKZavtiAynu6FqEinLzSvsHhHH7K1y7gYW', {'weight': 27}), ('rKZavtiAynu6FqEinLzSvsHhHH7K1y7gYW', 'rGVPGabpwf62GBArAsmqxKbE1gUCmjwYzL', {'weight': 37}), ('rGVaHdRUgcey3JL8oZPXm5vj7vqeWLBXTN', 'rndLszPh4HYVJuyFsLvVYMYXMfdbnvppiu', {'weight': 32}), ('rndLszPh4HYVJuyFsLvVYMYXMfdbnvppiu', 'rGVaHdRUgcey3JL8oZPXm5vj7vqeWLBXTN', {'weight': 17}), ('rGVmyGp7fd1QWE8Pby9sbUisypvmT57rzF', 'rKnQjU9vYqBWv3jRxVud82i1FMjieFgWQ8', {'weight': 20}), ('rKnQjU9vYqBWv3jRxVud82i1FMjieFgWQ8', 'rGVmyGp7fd1QWE8Pby9sbUisypvmT57rzF', {'weight': 30}), ('rGVs2DBwZcZgwG3bGsGedWM4nc9xczFUeq', 'rMTBQDzNUCThq3u7vusxKcvDxbpSFdj37q', {'weight': 21}), ('rMTBQDzNUCThq3u7vusxKcvDxbpSFdj37q', 'rGVs2DBwZcZgwG3bGsGedWM4nc9xczFUeq', {'weight': 11}), ('rGW7zAJ43kH88F6vgjCdeMwwepZPHWUUf', 'rUNhjFkgoTm9UjRf5fUf9P7oR63kHFzRwu', {'weight': 20}), ('rUNhjFkgoTm9UjRf5fUf9P7oR63kHFzRwu', 'rGW7zAJ43kH88F6vgjCdeMwwepZPHWUUf', {'weight': 30}), ('rGWQSUSYpRDe6zS23m7dkRSmEkZ9vL4fxf', 'rf2gX4rexdFC6iyxGKKSTZPavkjMDxegxk', {'weight': 31}), ('rf2gX4rexdFC6iyxGKKSTZPavkjMDxegxk', 'rGWQSUSYpRDe6zS23m7dkRSmEkZ9vL4fxf', {'weight': 16}), ('rGWrnhKuMjCEnTt3QdaJ2d3oGfgWPMX2Z5', 'rLxtKjNVcPDFygxo3ammrAWCA9jtCpqhgf', {'weight': 92}), ('rLxtKjNVcPDFygxo3ammrAWCA9jtCpqhgf', 'rGWrnhKuMjCEnTt3QdaJ2d3oGfgWPMX2Z5', {'weight': 76}), ('rGXTvd1NGxP45v3nwL7iGYkmVnx2fPq8fw', 'rGy6vB3SnckMC1xeWit3gBtNvW3JjpTy8B', {'weight': 27}), ('rGy6vB3SnckMC1xeWit3gBtNvW3JjpTy8B', 'rGXTvd1NGxP45v3nwL7iGYkmVnx2fPq8fw', {'weight': 18}), ('rGXU7CVM5GHzjG78x1m74661xkERTiWzsi', 'rapMWVsmR3JtKFhkTk5GQJAdwazNexFHz7', {'weight': 33}), ('rapMWVsmR3JtKFhkTk5GQJAdwazNexFHz7', 'rGXU7CVM5GHzjG78x1m74661xkERTiWzsi', {'weight': 22}), ('rGXZw2JRFb9AEnP2AQ8vHnvJrqWvjZvkrj', 'rsJ4aeVFEvX7HshkNynQCX4miDqT2AzfQd', {'weight': 13}), ('rsJ4aeVFEvX7HshkNynQCX4miDqT2AzfQd', 'rGXZw2JRFb9AEnP2AQ8vHnvJrqWvjZvkrj', {'weight': 22}), ('rGXfgfmEzrYfMtvPRd3u8ymA5cP9ocCKxK', 'raK7J28pMmvFw1A5un9P5Yf9h5SCNr5tKB', {'weight': 21}), ('raK7J28pMmvFw1A5un9P5Yf9h5SCNr5tKB', 'rGXfgfmEzrYfMtvPRd3u8ymA5cP9ocCKxK', {'weight': 29}), ('rGY845uL362wHtoiJAqSV11hxsG65PD7Hq', 'rLMevg5tRczZZUZu3S82i94zpyrgWYUhfy', {'weight': 22}), ('rLMevg5tRczZZUZu3S82i94zpyrgWYUhfy', 'rGY845uL362wHtoiJAqSV11hxsG65PD7Hq', {'weight': 33}), ('rGYZAVE7V2ZRgVrYu4K1hJsmZBm4FsVbJN', 'raG9xLF5osJMBKALZFuHmmwQ1YciVyCDuN', {'weight': 31}), ('raG9xLF5osJMBKALZFuHmmwQ1YciVyCDuN', 'rGYZAVE7V2ZRgVrYu4K1hJsmZBm4FsVbJN', {'weight': 42}), ('rGYbo3nmBKuGFW146iy6iswECBSTSV6cYY', 'rwfXy5GMvnKqsLkpZU21QpJ5J7a3cMvyWZ', {'weight': 30}), ('rwfXy5GMvnKqsLkpZU21QpJ5J7a3cMvyWZ', 'rGYbo3nmBKuGFW146iy6iswECBSTSV6cYY', {'weight': 40}), ('rGYtaKK6NC2Pe7avGgW9xZ7KFJjdH6wf8', 'rLqNPo5X7wY9nvsx8p4qGfuV8qsoUdB6cw', {'weight': 25}), ('rLqNPo5X7wY9nvsx8p4qGfuV8qsoUdB6cw', 'rGYtaKK6NC2Pe7avGgW9xZ7KFJjdH6wf8', {'weight': 34}), ('rGZSSJPdDZjafBuA2ZGLCgjmQGY4GvL8cb', 'rh7HKD943VesUe8tMj83s9F7TRxpSB3xvq', {'weight': 17}), ('rh7HKD943VesUe8tMj83s9F7TRxpSB3xvq', 'rGZSSJPdDZjafBuA2ZGLCgjmQGY4GvL8cb', {'weight': 33}), ('rGZf34CJYV71pp5tLdj5DryqCFJr5WTNtH', 'rGx3z9WT2awXW4ZG6ty3UAyMoZHFLsGFy6', {'weight': 29}), ('rGx3z9WT2awXW4ZG6ty3UAyMoZHFLsGFy6', 'rGZf34CJYV71pp5tLdj5DryqCFJr5WTNtH', {'weight': 38}), ('rGa4L5gYpSQDmjXWD8SgAzc5Q5tBSTQmFS', 'rMKVrAynUtfcj3kgViSfLwPVcvWjMzj2cV', {'weight': 23}), ('rMKVrAynUtfcj3kgViSfLwPVcvWjMzj2cV', 'rGa4L5gYpSQDmjXWD8SgAzc5Q5tBSTQmFS', {'weight': 32}), ('rGa8dovwYNdhw9RgqAZjx2ubyEyvUQk3ey', 'rKwW2gq7a5pCHHEsdeETkJEH4Ykz9BKx3z', {'weight': 43}), ('rKwW2gq7a5pCHHEsdeETkJEH4Ykz9BKx3z', 'rGa8dovwYNdhw9RgqAZjx2ubyEyvUQk3ey', {'weight': 66}), ('rGaU5DijDa7MN1AsXa8yPLmRpBNoKFLWbt', 'rNJSjbdY7GoqYzd3L4rnEEZXFddMRCHu8g', {'weight': 18}), ('rNJSjbdY7GoqYzd3L4rnEEZXFddMRCHu8g', 'rGaU5DijDa7MN1AsXa8yPLmRpBNoKFLWbt', {'weight': 34}), ('rGaubRx7FbzxJP2iQwLYXNMPokGBP9yGV8', 'rLJyvUftMBRbM2mvtyVvekVf3ft4E3VHiG', {'weight': 55}), ('rLJyvUftMBRbM2mvtyVvekVf3ft4E3VHiG', 'rGaubRx7FbzxJP2iQwLYXNMPokGBP9yGV8', {'weight': 78}), ('rGb1LGzb2L5DhtGj8Xnoo7Zq29VGbduKgT', 'rwTeKBu9Eiu5Uv2PjZpontQmtUBm2zT3uA', {'weight': 28}), ('rwTeKBu9Eiu5Uv2PjZpontQmtUBm2zT3uA', 'rGb1LGzb2L5DhtGj8Xnoo7Zq29VGbduKgT', {'weight': 13}), ('rGb6pXFpZG9QTnJLQhzqpenNGqLHGNkVSW', 'rhQsxrtJ5vvTwD6L3VyGx6JcGmboZKrBZq', {'weight': 28}), ('rhQsxrtJ5vvTwD6L3VyGx6JcGmboZKrBZq', 'rGb6pXFpZG9QTnJLQhzqpenNGqLHGNkVSW', {'weight': 14}), ('rGb7uV1wb54k9rtZQZ35jYrR78fGQyguaq', 'rnzCbyqbE8Wb6hUYit1kxyNLT1cs4QfG9Q', {'weight': 16}), ('rnzCbyqbE8Wb6hUYit1kxyNLT1cs4QfG9Q', 'rGb7uV1wb54k9rtZQZ35jYrR78fGQyguaq', {'weight': 25}), ('rGb8KEax78RmnmMjtMiNtdSkWoazVKLJce', 'rPfXVHcgztWkDTNoipDQQr7TzTBT6QCFnf', {'weight': 11}), ('rPfXVHcgztWkDTNoipDQQr7TzTBT6QCFnf', 'rGb8KEax78RmnmMjtMiNtdSkWoazVKLJce', {'weight': 21}), ('rGbJE7JjmFjC2qvs4GWkxZ7F3vVZvyx3WU', 'rnyGTQrwahnW9BSYzBEZP4XevRDTLF5KHS', {'weight': 46}), ('rnyGTQrwahnW9BSYzBEZP4XevRDTLF5KHS', 'rGbJE7JjmFjC2qvs4GWkxZ7F3vVZvyx3WU', {'weight': 37}), ('rGbK4UHgXACKKZH278YEPbE22FidosQuHD', 'rJCoufYh9GF56MyBQoDY6HNi8UeHKzx8f', {'weight': 26}), ('rJCoufYh9GF56MyBQoDY6HNi8UeHKzx8f', 'rGbK4UHgXACKKZH278YEPbE22FidosQuHD', {'weight': 39}), ('rGbTzRQw96yTz3KgUPNyirWBX9Tv9A4Z6m', 'rPkNnwwx7nzFq8LJKTTcZbpYwzJBP3FTg2', {'weight': 46}), ('rPkNnwwx7nzFq8LJKTTcZbpYwzJBP3FTg2', 'rGbTzRQw96yTz3KgUPNyirWBX9Tv9A4Z6m', {'weight': 71}), ('rGbV84NeYzQoBrsfrz4fYn43SC9vknT1pE', 'rLqa4BcVm6wWyGw5DRLUdNWtex9s4LxHba', {'weight': 33}), ('rLqa4BcVm6wWyGw5DRLUdNWtex9s4LxHba', 'rGbV84NeYzQoBrsfrz4fYn43SC9vknT1pE', {'weight': 24}), ('rGbZfxk5f6RJCTXHjxswvkbcD1r4hQgBy1', 'rhdvXwwpjHAuxf4wk67HnqT8Swvv21Avyb', {'weight': 12}), ('rhdvXwwpjHAuxf4wk67HnqT8Swvv21Avyb', 'rGbZfxk5f6RJCTXHjxswvkbcD1r4hQgBy1', {'weight': 25}), ('rGbqezRZ2Tq1owQ9DF9PuUrY9NqrBPUbiw', 'rJ6b2wt7d6A7ZZ7jMRTWuQ4VnxtGfb8tUN', {'weight': 30}), ('rJ6b2wt7d6A7ZZ7jMRTWuQ4VnxtGfb8tUN', 'rGbqezRZ2Tq1owQ9DF9PuUrY9NqrBPUbiw', {'weight': 17}), ('rGc15MTaau9csfKr7AkPQGk8Y61qnqstNF', 'rGjG4gaVguMZHDBrm2h4pmjG5EJCs1ShJz', {'weight': 18}), ('rGjG4gaVguMZHDBrm2h4pmjG5EJCs1ShJz', 'rGc15MTaau9csfKr7AkPQGk8Y61qnqstNF', {'weight': 32}), ('rGc5vfs9aQVhiLQk5vFMvD4A5KCGvEbTpG', 'rUADdNphfBKEH2WorbWaEQeC2udXgUSFeX', {'weight': 14}), ('rUADdNphfBKEH2WorbWaEQeC2udXgUSFeX', 'rGc5vfs9aQVhiLQk5vFMvD4A5KCGvEbTpG', {'weight': 24}), ('rGceSBHXbERi4pd4GtEiCxbgJxAJNzcS7V', 'rHG2f9z4FHLqataiePotJdM75fFYzfcXsw', {'weight': 13}), ('rHG2f9z4FHLqataiePotJdM75fFYzfcXsw', 'rGceSBHXbERi4pd4GtEiCxbgJxAJNzcS7V', {'weight': 25}), ('rGdEsMgFB6S43Fs45RYsjXQCvwn9cvNk6E', 'raWzBztUPECTdri4ikmhzV7USVPCFh3kfg', {'weight': 24}), ('raWzBztUPECTdri4ikmhzV7USVPCFh3kfg', 'rGdEsMgFB6S43Fs45RYsjXQCvwn9cvNk6E', {'weight': 34}), ('rGdJfA7apizF4Dzxg6sruZmgreRrxPkKzS', 'rHoLF9r3Y1ar1u3eLmwWoF2z2UgHfEnmmT', {'weight': 34}), ('rHoLF9r3Y1ar1u3eLmwWoF2z2UgHfEnmmT', 'rGdJfA7apizF4Dzxg6sruZmgreRrxPkKzS', {'weight': 22}), ('rGdUFzdSNjxL19KThWjrcbAn7VaGZVBycF', 'rfEErY6qXxoyCaFtCeSk2cTEZY8gwLsiye', {'weight': 41}), ('rfEErY6qXxoyCaFtCeSk2cTEZY8gwLsiye', 'rGdUFzdSNjxL19KThWjrcbAn7VaGZVBycF', {'weight': 30}), ('rGdXZHxCX6dBCvcMgmk1f4Yn8XzXwiweqU', 'rKSz6WDiXyHYX5nUyCgoUno7mj5xVSAdYB', {'weight': 27}), ('rKSz6WDiXyHYX5nUyCgoUno7mj5xVSAdYB', 'rGdXZHxCX6dBCvcMgmk1f4Yn8XzXwiweqU', {'weight': 37}), ('rGeJBAkDVFtofxMwBkypLKbNZzX1KzjGnG', 'rPSD9ySgyUnXcs4yZyNMajNbzkNsci5uix', {'weight': 34}), ('rPSD9ySgyUnXcs4yZyNMajNbzkNsci5uix', 'rGeJBAkDVFtofxMwBkypLKbNZzX1KzjGnG', {'weight': 22}), ('rGeSBLqgFzQTef7ukVEqj8iiNnhr165n4u', 'rUfku9iC5tueaadjsQJgMxiRav4DDEjZXd', {'weight': 27}), ('rUfku9iC5tueaadjsQJgMxiRav4DDEjZXd', 'rGeSBLqgFzQTef7ukVEqj8iiNnhr165n4u', {'weight': 15}), ('rGeXtmTyxRrySxKPYeNH4JHwvpPwqFvdxr', 'rH9TX8dJf5Td6LkwE1nWmsjx1PCA5Y32Yf', {'weight': 25}), ('rH9TX8dJf5Td6LkwE1nWmsjx1PCA5Y32Yf', 'rGeXtmTyxRrySxKPYeNH4JHwvpPwqFvdxr', {'weight': 13}), ('rGf4tgvKkiM5QJWUQbGPWeCQEVAPkht3Eq', 'rMwnFyRJ1LMwpscLrH9QSKDZz8McfYedDQ', {'weight': 21}), ('rMwnFyRJ1LMwpscLrH9QSKDZz8McfYedDQ', 'rGf4tgvKkiM5QJWUQbGPWeCQEVAPkht3Eq', {'weight': 11}), ('rGfTJcGczoLWMhJWGWDSuXDqQZVVjSxxYn', 'rfwEcDFNEQxkEgLZF4HQNhhzB2wgRRSvz8', {'weight': 31}), ('rfwEcDFNEQxkEgLZF4HQNhhzB2wgRRSvz8', 'rGfTJcGczoLWMhJWGWDSuXDqQZVVjSxxYn', {'weight': 21}), ('rGfovMWxjaZSKVBQLf4Mdo1Ktqdf1nTV7w', 'rsnSVoQ9xcyD7HAqgGGBdstL9NGwqZmZmB', {'weight': 11}), ('rsnSVoQ9xcyD7HAqgGGBdstL9NGwqZmZmB', 'rGfovMWxjaZSKVBQLf4Mdo1Ktqdf1nTV7w', {'weight': 20}), ('rGfpFG8Qe9dGNCKuNPb7TtQWQ8u9vqghXY', 'rGwV5ncLA4x9phFBDXpWa7HY6amFykmFwP', {'weight': 14}), ('rGwV5ncLA4x9phFBDXpWa7HY6amFykmFwP', 'rGfpFG8Qe9dGNCKuNPb7TtQWQ8u9vqghXY', {'weight': 25}), ('rGg3fPh8Pov3Ha7ukNvd6VEakaFiLeWZ3p', 'rKhbBHhrc8Jm2BveqQ1bNeUgWyFTRPYnFp', {'weight': 16}), ('rKhbBHhrc8Jm2BveqQ1bNeUgWyFTRPYnFp', 'rGg3fPh8Pov3Ha7ukNvd6VEakaFiLeWZ3p', {'weight': 30}), ('rGgxN3L4nPtiDomNezV4ygLGAwPyAdTZ8u', 'rahbaRz2eVNLNehoa59WqXoezcfyEuASDL', {'weight': 13}), ('rahbaRz2eVNLNehoa59WqXoezcfyEuASDL', 'rGgxN3L4nPtiDomNezV4ygLGAwPyAdTZ8u', {'weight': 25}), ('rGgyJiuVBzYogwc3nA9ewRPv6Dx9attCtw', 'rHC9WLSjuAyqmxAGCzTggyXSeagL1pTaUY', {'weight': 26}), ('rHC9WLSjuAyqmxAGCzTggyXSeagL1pTaUY', 'rGgyJiuVBzYogwc3nA9ewRPv6Dx9attCtw', {'weight': 13}), ('rGhXGPbeTwW4ZPAX4QAQXNnKMQnXcsKrw3', 'rHcCNfqKusbZCKWBuWDEc2faqzjggrhRMg', {'weight': 16}), ('rHcCNfqKusbZCKWBuWDEc2faqzjggrhRMg', 'rGhXGPbeTwW4ZPAX4QAQXNnKMQnXcsKrw3', {'weight': 30}), ('rGhXQAffpCLRGrV5jynzd5ouopWe9rka3s', 'rKkTpi6FkbPUeKS1geQxdCrB5anxjmGjZk', {'weight': 17}), ('rKkTpi6FkbPUeKS1geQxdCrB5anxjmGjZk', 'rGhXQAffpCLRGrV5jynzd5ouopWe9rka3s', {'weight': 27}), ('rGi6vXPjBbwjojNGhYHqTvroz3RaZ6GK36', 'rMbcw5xwVj3o8Br974mY5274kTg9Mgg516', {'weight': 33}), ('rMbcw5xwVj3o8Br974mY5274kTg9Mgg516', 'rGi6vXPjBbwjojNGhYHqTvroz3RaZ6GK36', {'weight': 22}), ('rGiKx1XtD63G52TZHfZ7Tx8UBAuTDgjxy5', 'rwJiq59jgv6vBT2jJ369npF9J57Xuw2f6f', {'weight': 91}), ('rwJiq59jgv6vBT2jJ369npF9J57Xuw2f6f', 'rGiKx1XtD63G52TZHfZ7Tx8UBAuTDgjxy5', {'weight': 106}), ('rGj7Fvp4PcPktcGS1sPF3wVVpZHvynADR9', 'rnpZKeRpQxkEe2TdLLwXBFNLW5KZY8WXqY', {'weight': 46}), ('rnpZKeRpQxkEe2TdLLwXBFNLW5KZY8WXqY', 'rGj7Fvp4PcPktcGS1sPF3wVVpZHvynADR9', {'weight': 1}), ('rGjPCeoKYgxV1MjfDD4p9rjW5ktsQzd9w8', 'rLH2jS2jv2SsVHrEbhLLZaBcM3rFxaqRX4', {'weight': 27}), ('rLH2jS2jv2SsVHrEbhLLZaBcM3rFxaqRX4', 'rGjPCeoKYgxV1MjfDD4p9rjW5ktsQzd9w8', {'weight': 17}), ('rGjTNnBkaat1i6L9v66C6jUYga2amGEjth', 'rGpN2PEG8zXhjQmA93iHYTnD6B8E6Ek38S', {'weight': 26}), ('rGpN2PEG8zXhjQmA93iHYTnD6B8E6Ek38S', 'rGjTNnBkaat1i6L9v66C6jUYga2amGEjth', {'weight': 12}), ('rGk1ELhiRvBqtXC3nNkd5pW5xNv8zRfqUo', 'rhwJUgdiG6DbzrHfPLK3FFWsMbybzpdm8y', {'weight': 25}), ('rhwJUgdiG6DbzrHfPLK3FFWsMbybzpdm8y', 'rGk1ELhiRvBqtXC3nNkd5pW5xNv8zRfqUo', {'weight': 14}), ('rGkHbbutycYpsLvvvHnCtgkEcBrkAegXcv', 'rMJZ4ddir8HoodFt8ueuK4BcLor4WEgsCS', {'weight': 41}), ('rMJZ4ddir8HoodFt8ueuK4BcLor4WEgsCS', 'rGkHbbutycYpsLvvvHnCtgkEcBrkAegXcv', {'weight': 29}), ('rGkRvn3mgsNjCW4HRVXcSi5xn2waZkhbFB', 'rpxjYr5h8sbKqbohzukCCwYfBU9B7CGYrx', {'weight': 29}), ('rpxjYr5h8sbKqbohzukCCwYfBU9B7CGYrx', 'rGkRvn3mgsNjCW4HRVXcSi5xn2waZkhbFB', {'weight': 41}), ('rGkTU6ULKKkQDPvZzgoVYk5uQzvzrzyGnv', 'rUjkv3X8jVfKBLDBw6QtqaXGBgwm24yAos', {'weight': 26}), ('rUjkv3X8jVfKBLDBw6QtqaXGBgwm24yAos', 'rGkTU6ULKKkQDPvZzgoVYk5uQzvzrzyGnv', {'weight': 35}), ('rGkpsymZWq1AsCH1sBCVuKHJstbKMefD5Q', 'rPGxKJLSgdsXpYAatNu5d6CDyGSBtK5Zzf', {'weight': 51}), ('rPGxKJLSgdsXpYAatNu5d6CDyGSBtK5Zzf', 'rGkpsymZWq1AsCH1sBCVuKHJstbKMefD5Q', {'weight': 71}), ('rGktA1keaRphmGYWomSGkP8rCtWr73fFYY', 'rnSJ8yfY86eRpESFJnbMXZ7YZT42bAPD1t', {'weight': 15}), ('rnSJ8yfY86eRpESFJnbMXZ7YZT42bAPD1t', 'rGktA1keaRphmGYWomSGkP8rCtWr73fFYY', {'weight': 26}), ('rGmZdM5Bq8ds8HL2janssScqhjJTAkPsc4', 'rLGRV9ua6ZgSedrUg5g28ofwt6FKnjCvrK', {'weight': 16}), ('rLGRV9ua6ZgSedrUg5g28ofwt6FKnjCvrK', 'rGmZdM5Bq8ds8HL2janssScqhjJTAkPsc4', {'weight': 29}), ('rGnTLra3pwQ3iC78tiYo437wPpU5suhYjY', 'rNAnEFawAtK4Zr2ig2QAHkqvQjp13Wrj2R', {'weight': 29}), ('rNAnEFawAtK4Zr2ig2QAHkqvQjp13Wrj2R', 'rGnTLra3pwQ3iC78tiYo437wPpU5suhYjY', {'weight': 37}), ('rGnikWH3QR1ifz7VCe7mgNXsxqoak78Nb2', 'rhUSSN51Q5kmgM279ppiW1K79XAbR3MLYt', {'weight': 34}), ('rhUSSN51Q5kmgM279ppiW1K79XAbR3MLYt', 'rGnikWH3QR1ifz7VCe7mgNXsxqoak78Nb2', {'weight': 18}), ('rGo15j2ZpB8f53WJsoAz7mxL6AKHWKcAyD', 'rp9PgvXFT8kgGV27y4SChsDmDWFfGyudZC', {'weight': 33}), ('rp9PgvXFT8kgGV27y4SChsDmDWFfGyudZC', 'rGo15j2ZpB8f53WJsoAz7mxL6AKHWKcAyD', {'weight': 17}), ('rGoKLDGm8eQiyBNaSedibk6iBUuzirMbxP', 'rwH2he3M6L8AQbtPEu3BZYHgppnAWM4aHc', {'weight': 28}), ('rwH2he3M6L8AQbtPEu3BZYHgppnAWM4aHc', 'rGoKLDGm8eQiyBNaSedibk6iBUuzirMbxP', {'weight': 18}), ('rGoZGeNHiffcrF12qiDmotGdpdTbUTDxz9', 'rN4S3QUWiC3wZ7Pmp7Qv6ch84kpkMBEj2Y', {'weight': 40}), ('rN4S3QUWiC3wZ7Pmp7Qv6ch84kpkMBEj2Y', 'rGoZGeNHiffcrF12qiDmotGdpdTbUTDxz9', {'weight': 27}), ('rGoZy1UWgR61dhwSeodndvyMHs96NUThEH', 'rwGtqR1J48pkb2krr4Exanq9d7dtsH5PVL', {'weight': 33}), ('rwGtqR1J48pkb2krr4Exanq9d7dtsH5PVL', 'rGoZy1UWgR61dhwSeodndvyMHs96NUThEH', {'weight': 22}), ('rGp4a6SAVQYwzuJrqFckmagXuvR4eBE6ca', 'rpSkvCPTY1mUKV9Rdiu6vJ93qsv6mXjAvd', {'weight': 22}), ('rpSkvCPTY1mUKV9Rdiu6vJ93qsv6mXjAvd', 'rGp4a6SAVQYwzuJrqFckmagXuvR4eBE6ca', {'weight': 33}), ('rGpBcrHZgfjyk38GrETZhJgMTewBXNtu7g', 'rUSZBj9Fs4DANLcRjFQ99nXZ9iJtPwKekE', {'weight': 33}), ('rUSZBj9Fs4DANLcRjFQ99nXZ9iJtPwKekE', 'rGpBcrHZgfjyk38GrETZhJgMTewBXNtu7g', {'weight': 21}), ('rGpPx2DrgCQSYWnKd6qyiUwa7dcfwQoNQY', 'rsfhdD4m8sc2hgnpr1JvwTJq8sU6PhUKoL', {'weight': 38}), ('rsfhdD4m8sc2hgnpr1JvwTJq8sU6PhUKoL', 'rGpPx2DrgCQSYWnKd6qyiUwa7dcfwQoNQY', {'weight': 29}), ('rGq5aPhfx4YUHpEiaZvpwYb48MxePbb4BJ', 'rLWBBgdFH83WdEaDKhghv5iZMaFXL1cifR', {'weight': 20}), ('rLWBBgdFH83WdEaDKhghv5iZMaFXL1cifR', 'rGq5aPhfx4YUHpEiaZvpwYb48MxePbb4BJ', {'weight': 29}), ('rGqdgo9YtTNsqz9YNLdyJu2ysitTWNnWCr', 'rJcRZz4PiW5r5zHgiotXu73HesAjd7NLSm', {'weight': 44}), ('rJcRZz4PiW5r5zHgiotXu73HesAjd7NLSm', 'rGqdgo9YtTNsqz9YNLdyJu2ysitTWNnWCr', {'weight': 29}), ('rGqeDFgaBmJ6nnG38Gd7tixhPbd6qWA6H4', 'ra6Lzw3vfxGfoHUX2RHsFJr6wrV49H8XYC', {'weight': 19}), ('ra6Lzw3vfxGfoHUX2RHsFJr6wrV49H8XYC', 'rGqeDFgaBmJ6nnG38Gd7tixhPbd6qWA6H4', {'weight': 31}), ('rGqgGW2HqdAqjU3igCpxizatmaeBBEtwCF', 'rN6uWqvHqxhNqwTvBz3REHe9CeLmzJdAvb', {'weight': 32}), ('rN6uWqvHqxhNqwTvBz3REHe9CeLmzJdAvb', 'rGqgGW2HqdAqjU3igCpxizatmaeBBEtwCF', {'weight': 41}), ('rGsAXw7p22UoM962FsqmWH5XWeQq8LGtqu', 'rLjpcf9tA1FrnnM65XMN6Vh1izMbdMEvrh', {'weight': 26}), ('rLjpcf9tA1FrnnM65XMN6Vh1izMbdMEvrh', 'rGsAXw7p22UoM962FsqmWH5XWeQq8LGtqu', {'weight': 14}), ('rGsXxzcjH6VHWR8BjUmVc8vRiCHGtCoufh', 'rJr5iL8B2xAKVTA2xx2ankKqTetkGWYLHm', {'weight': 43}), ('rJr5iL8B2xAKVTA2xx2ankKqTetkGWYLHm', 'rGsXxzcjH6VHWR8BjUmVc8vRiCHGtCoufh', {'weight': 27}), ('rGtFu2d5hsbcUHVufejmcuiZGvoUTDzEKt', 'rsFHU7vjZAqrRQoT53VqKFRW9AZJe6mnuR', {'weight': 23}), ('rsFHU7vjZAqrRQoT53VqKFRW9AZJe6mnuR', 'rGtFu2d5hsbcUHVufejmcuiZGvoUTDzEKt', {'weight': 37}), ('rGtRwT4i7g32N8xcbsHjxCfFoe6b2gSd3Z', 'rN9xXy44pR9hVDcVJDFYdafeiQ5fWEwQC6', {'weight': 30}), ('rN9xXy44pR9hVDcVJDFYdafeiQ5fWEwQC6', 'rGtRwT4i7g32N8xcbsHjxCfFoe6b2gSd3Z', {'weight': 21}), ('rGtuxUMHJR8W9LzUwGZNNujvBd36pTYHb2', 'rwr7SvzUL4Md9cWxTX7dkcm2AchzJskNie', {'weight': 28}), ('rwr7SvzUL4Md9cWxTX7dkcm2AchzJskNie', 'rGtuxUMHJR8W9LzUwGZNNujvBd36pTYHb2', {'weight': 15}), ('rGuYL72exozREji1KtJRHNhDRSyEj3kDXP', 'rHbpNDnZNA9t9fwJVMx8BtTLBuz1HTgh2L', {'weight': 33}), ('rHbpNDnZNA9t9fwJVMx8BtTLBuz1HTgh2L', 'rGuYL72exozREji1KtJRHNhDRSyEj3kDXP', {'weight': 22}), ('rGvHkyWk4r3DX5cJFJMkT7QU2jaDpmyDY9', 'rUibKgkuGKZpZYsqU2sc1eo2G9q4oa9YRE', {'weight': 29}), ('rUibKgkuGKZpZYsqU2sc1eo2G9q4oa9YRE', 'rGvHkyWk4r3DX5cJFJMkT7QU2jaDpmyDY9', {'weight': 17}), ('rGvJZdg7Zeet9wb1RWaXdG9TkPpGC4PuxD', 'rLWHq9kY32TW8Z2WgfDTVFWpEQVCcgFfK', {'weight': 34}), ('rLWHq9kY32TW8Z2WgfDTVFWpEQVCcgFfK', 'rGvJZdg7Zeet9wb1RWaXdG9TkPpGC4PuxD', {'weight': 19}), ('rGvV8jhQ1GCnjgM8tSzzvWa9REh8mYc9RB', 'rpYjpQWzR1tYARpWwVGfgE2Mb1ijvdrncL', {'weight': 93}), ('rpYjpQWzR1tYARpWwVGfgE2Mb1ijvdrncL', 'rGvV8jhQ1GCnjgM8tSzzvWa9REh8mYc9RB', {'weight': 105}), ('rGvdhrjKKUvAKiEn9mJcsU2nC1fBHpoKd3', 'rhRwSw3v76ZXA5yCPAGcijGiwPcFrtJ4hj', {'weight': 26}), ('rhRwSw3v76ZXA5yCPAGcijGiwPcFrtJ4hj', 'rGvdhrjKKUvAKiEn9mJcsU2nC1fBHpoKd3', {'weight': 16}), ('rGvmUrWTi5TcN8n21T9siL77uiJdVwWHqW', 'rhbz9NvxJ6tPLpF3MJFPebT79AqSFFRkKX', {'weight': 15}), ('rhbz9NvxJ6tPLpF3MJFPebT79AqSFFRkKX', 'rGvmUrWTi5TcN8n21T9siL77uiJdVwWHqW', {'weight': 30}), ('rGvnzdiFw4X99c3bFniwuPEnpbWLSanJie', 'rsyNPATFmQu9eHnsspKwyr9vAqb82oZrXG', {'weight': 27}), ('rsyNPATFmQu9eHnsspKwyr9vAqb82oZrXG', 'rGvnzdiFw4X99c3bFniwuPEnpbWLSanJie', {'weight': 15}), ('rGvp53ZviEDfUsVp6RoZ52EZh4FmHT7oxE', 'rnCMdNzFTHet8ncU7TDkby4E3gPwt8RTw2', {'weight': 22}), ('rnCMdNzFTHet8ncU7TDkby4E3gPwt8RTw2', 'rGvp53ZviEDfUsVp6RoZ52EZh4FmHT7oxE', {'weight': 12}), ('rGvtfa667AgiafojoNLRDbcbq1h8JPaZ17', 'rfxuZwgertPVp94gsu89t2HwzyoQcoNg4t', {'weight': 91}), ('rfxuZwgertPVp94gsu89t2HwzyoQcoNg4t', 'rGvtfa667AgiafojoNLRDbcbq1h8JPaZ17', {'weight': 73}), ('rGwAnb1U9hJu9zhndvxiasXt1UFSAGCpes', 'rU7jCQDPD9S5V7TMzQRgDAs5DHqxe6yYWU', {'weight': 24}), ('rU7jCQDPD9S5V7TMzQRgDAs5DHqxe6yYWU', 'rGwAnb1U9hJu9zhndvxiasXt1UFSAGCpes', {'weight': 34}), ('rGwR39NC9kx6j4KFUvyG9E1N34HwmeXdG4', 'rpk3PQ115QvHAs11s1QEhpgGqa4DxJddph', {'weight': 39}), ('rpk3PQ115QvHAs11s1QEhpgGqa4DxJddph', 'rGwR39NC9kx6j4KFUvyG9E1N34HwmeXdG4', {'weight': 28}), ('rGwpSusnAQYxXpxiYvrUCxij4iu2NVVCVi', 'rnmdBG8piEwkLxt8DvGkFZquRmHprpRnq4', {'weight': 38}), ('rnmdBG8piEwkLxt8DvGkFZquRmHprpRnq4', 'rGwpSusnAQYxXpxiYvrUCxij4iu2NVVCVi', {'weight': 28}), ('rGwxmT1gPucSWBeVWsVW5pnXYV8LcUZVL9', 'rsKysyffoMwDsUseVXkmRTmD5MXftqNkdH', {'weight': 27}), ('rsKysyffoMwDsUseVXkmRTmD5MXftqNkdH', 'rGwxmT1gPucSWBeVWsVW5pnXYV8LcUZVL9', {'weight': 37}), ('rGwyeMY48QRWHfV9Hp1RCPuJ7GY6new4a3', 'rYQpj1nNXy3pWYmuRxrarSwbWj1EEfP2G', {'weight': 30}), ('rYQpj1nNXy3pWYmuRxrarSwbWj1EEfP2G', 'rGwyeMY48QRWHfV9Hp1RCPuJ7GY6new4a3', {'weight': 20}), ('rGxcEQPQM8BB6rzuFTEDwGiFsZ5gFUS1YH', 'rL2JveuZNAbhdk1R7DZG3k9Nfz2zWSSTKS', {'weight': 18}), ('rL2JveuZNAbhdk1R7DZG3k9Nfz2zWSSTKS', 'rGxcEQPQM8BB6rzuFTEDwGiFsZ5gFUS1YH', {'weight': 29}), ('rGxeXtFJyrepeMUCDwA19Kfbw95JHXeWG3', 'rfYJWpasZ9u61EoPMUbJ8aURHbCWtTF3fH', {'weight': 15}), ('rfYJWpasZ9u61EoPMUbJ8aURHbCWtTF3fH', 'rGxeXtFJyrepeMUCDwA19Kfbw95JHXeWG3', {'weight': 32}), ('rGxpC1nRGzy1AwM9Zu2UfF12XQ2e2DeKBF', 'rchGBxcD1A1C2tdxF6papQYZ8kjRKMYcL', {'weight': 1}), ('rGxqzixt2VDpf8T9fxxKRE6tboT7bVb7cK', 'rUzA2bCqnvKYBqUJ7ArxV8q82jv3e2ARXg', {'weight': 17}), ('rUzA2bCqnvKYBqUJ7ArxV8q82jv3e2ARXg', 'rGxqzixt2VDpf8T9fxxKRE6tboT7bVb7cK', {'weight': 28}), ('rGxtBvY8iAyEg4M3JPwVDof59F6d1Gj2Lb', 'rJ8NPxEGczChALB2HTe7CxEGZM33t9V3Qr', {'weight': 23}), ('rJ8NPxEGczChALB2HTe7CxEGZM33t9V3Qr', 'rGxtBvY8iAyEg4M3JPwVDof59F6d1Gj2Lb', {'weight': 32}), ('rGxzN9prALdRCsqgWxKqSgCfyemEfQMv1P', 'rHaCAjt6ghdjNVKZ9rRnYkPiXfNnKRiJiz', {'weight': 36}), ('rHaCAjt6ghdjNVKZ9rRnYkPiXfNnKRiJiz', 'rGxzN9prALdRCsqgWxKqSgCfyemEfQMv1P', {'weight': 24}), ('rGy9G4J5RqZiwKwd3LtMeVmLR43BLWVaof', 'rw22JfNnhrS4odPEmCCt12nbdJJr2SnD5W', {'weight': 27}), ('rw22JfNnhrS4odPEmCCt12nbdJJr2SnD5W', 'rGy9G4J5RqZiwKwd3LtMeVmLR43BLWVaof', {'weight': 18}), ('rGyVZSCHYcP3bqxeVSV7wtFSouUBwYyVhe', 'rKe1fq6aAY7Dbnj4qGpignqYNDvKh81BM3', {'weight': 14}), ('rKe1fq6aAY7Dbnj4qGpignqYNDvKh81BM3', 'rGyVZSCHYcP3bqxeVSV7wtFSouUBwYyVhe', {'weight': 24}), ('rGzjDk2RGCQbUGs3FgJgLZNVCVY171D1Mo', 'ra3ntsGe72SwHvgvLHxz5ofE6cJFQuGj6V', {'weight': 77}), ('ra3ntsGe72SwHvgvLHxz5ofE6cJFQuGj6V', 'rGzjDk2RGCQbUGs3FgJgLZNVCVY171D1Mo', {'weight': 1}), ('rGzo1gQdzfGd4wQsWCthLWF3p49yK5zfAU', 'rHi1CnP6KFGqDGCVZucoBCZrK7qizALEmk', {'weight': 21}), ('rHi1CnP6KFGqDGCVZucoBCZrK7qizALEmk', 'rGzo1gQdzfGd4wQsWCthLWF3p49yK5zfAU', {'weight': 35}), ('rH1MZH3ZqgT7itdedKKKeyP7jjCMzwJjdQ', 'rwST2anxNwjj7G5Jnt2Q8jvyPBxcwDm2Kd', {'weight': 32}), ('rwST2anxNwjj7G5Jnt2Q8jvyPBxcwDm2Kd', 'rH1MZH3ZqgT7itdedKKKeyP7jjCMzwJjdQ', {'weight': 17}), ('rH1bVEMSyNud4LcUjfLXr144bhTheXGEVD', 'rsH3RV3ebw663sunGf8TgjQETBih9juWwj', {'weight': 25}), ('rsH3RV3ebw663sunGf8TgjQETBih9juWwj', 'rH1bVEMSyNud4LcUjfLXr144bhTheXGEVD', {'weight': 16}), ('rH1fmxF6adF257YakS6ZLuZAoyjYUrBC4F', 'rK1vTEYrDLVbppG6UmajavNzxnmC9dpwF1', {'weight': 69}), ('rK1vTEYrDLVbppG6UmajavNzxnmC9dpwF1', 'rH1fmxF6adF257YakS6ZLuZAoyjYUrBC4F', {'weight': 1}), ('rH1uuML3X8mfs1oDyg6wLSZXeRjbHKKecK', 'raBGR6ffa523Nh93L8HZWeuJb44J5shpTY', {'weight': 106}), ('raBGR6ffa523Nh93L8HZWeuJb44J5shpTY', 'rH1uuML3X8mfs1oDyg6wLSZXeRjbHKKecK', {'weight': 94}), ('rH242sCkZz7uswmLJCMppvPt3hSi5u5NRG', 'rJDmXvVGJGPbb6WRP8ymEZXt2nVqau3A6p', {'weight': 31}), ('rJDmXvVGJGPbb6WRP8ymEZXt2nVqau3A6p', 'rH242sCkZz7uswmLJCMppvPt3hSi5u5NRG', {'weight': 22}), ('rH2JNgMq5p4YWaP4xF1VWdqy5kGfpLowdY', 'rKu87m2QdwCAtJoykrRY8AnTudog7vCB3K', {'weight': 26}), ('rKu87m2QdwCAtJoykrRY8AnTudog7vCB3K', 'rH2JNgMq5p4YWaP4xF1VWdqy5kGfpLowdY', {'weight': 15}), ('rH3KPNfuL8DP6P1LAASrF7iducMGpTV3wT', 'rLpR3uj3Lpm7J7WnbCyZBwpq3rUjthYDDN', {'weight': 32}), ('rLpR3uj3Lpm7J7WnbCyZBwpq3rUjthYDDN', 'rH3KPNfuL8DP6P1LAASrF7iducMGpTV3wT', {'weight': 20}), ('rH3tJxALZPvZppoSjnuqd1cPDWzSgHhs6y', 'rHUknbCXLm6KCRfkY931Gz2wmn6wHgCsNh', {'weight': 15}), ('rHUknbCXLm6KCRfkY931Gz2wmn6wHgCsNh', 'rH3tJxALZPvZppoSjnuqd1cPDWzSgHhs6y', {'weight': 26}), ('rH3ydgPgozzcaKHT5y8n7kd5jPTHXwnV7A', 'rhQbfRFjrDkD84SPFxQLWBMTX7zeNXuooR', {'weight': 19}), ('rhQbfRFjrDkD84SPFxQLWBMTX7zeNXuooR', 'rH3ydgPgozzcaKHT5y8n7kd5jPTHXwnV7A', {'weight': 28}), ('rH4QWwRrwYo2mtRYpRevdpbqpV2mjG31VG', 'rafveCFmsD81sozv69CvE1BQPpA1HthRzP', {'weight': 41}), ('rafveCFmsD81sozv69CvE1BQPpA1HthRzP', 'rH4QWwRrwYo2mtRYpRevdpbqpV2mjG31VG', {'weight': 30}), ('rH4S6fuuoVuPJD6an5b6U8FXmy5cRGuH7T', 'rHmuwHDzyvd7QBo4LKahKXnzqpy7bJSrBQ', {'weight': 30}), ('rHmuwHDzyvd7QBo4LKahKXnzqpy7bJSrBQ', 'rH4S6fuuoVuPJD6an5b6U8FXmy5cRGuH7T', {'weight': 20}), ('rH4rw6ShsHGtS6f7fk76TVZph11Sz4QbeA', 'rhb82zbbZegdoD2VTn8mM8wuMrof6pdr2o', {'weight': 30}), ('rhb82zbbZegdoD2VTn8mM8wuMrof6pdr2o', 'rH4rw6ShsHGtS6f7fk76TVZph11Sz4QbeA', {'weight': 20}), ('rH4voxxYXRGwTAKjXRPUPmooCwB3cxkBYS', 'rKJ1jYgpJijkGkjeFMCYwnadrG65MNKw2N', {'weight': 18}), ('rKJ1jYgpJijkGkjeFMCYwnadrG65MNKw2N', 'rH4voxxYXRGwTAKjXRPUPmooCwB3cxkBYS', {'weight': 28}), ('rH5XBpZ2fLyUodJ2ww4k2BgpQh7rBBcnkh', 'rhxLknkSdin1P3MtNLr3HjhUDdSqERrFkk', {'weight': 56}), ('rhxLknkSdin1P3MtNLr3HjhUDdSqERrFkk', 'rH5XBpZ2fLyUodJ2ww4k2BgpQh7rBBcnkh', {'weight': 75}), ('rH5ph9M54ExVKw8rhEZWFCLVFXSFWNBFLE', 'rJpKs8QMFTxJM2vLmNFUWiV6S3FVxKKdQ5', {'weight': 27}), ('rJpKs8QMFTxJM2vLmNFUWiV6S3FVxKKdQ5', 'rH5ph9M54ExVKw8rhEZWFCLVFXSFWNBFLE', {'weight': 15}), ('rH65u57AZuoGP5eJgBRnZdQKPAdsvBDxgd', 'rLDnkZPAAVCMdvLovRvLUf547M6c8WPF5Y', {'weight': 23}), ('rLDnkZPAAVCMdvLovRvLUf547M6c8WPF5Y', 'rH65u57AZuoGP5eJgBRnZdQKPAdsvBDxgd', {'weight': 32}), ('rH6dnUMeHTqburT8RFuuPY4feVHEGpwztN', 'rpdNf8TQJPeYDbsLfKDwiHd3LhdcD8Lq9F', {'weight': 34}), ('rpdNf8TQJPeYDbsLfKDwiHd3LhdcD8Lq9F', 'rH6dnUMeHTqburT8RFuuPY4feVHEGpwztN', {'weight': 17}), ('rH6gZQguE5hMr7EMRAqaGQH6RBdcxm2FhV', 'rNygK2E9Nq4CLBMcjEKJ1Ps4ng6HjoipnD', {'weight': 13}), ('rNygK2E9Nq4CLBMcjEKJ1Ps4ng6HjoipnD', 'rH6gZQguE5hMr7EMRAqaGQH6RBdcxm2FhV', {'weight': 22}), ('rH6rMKNj14dhz5o1D9dPTDyrbKtcUHx63i', 'rM25myy3GuJprwVyjwc7ecGZ8aaWfvrcPr', {'weight': 33}), ('rM25myy3GuJprwVyjwc7ecGZ8aaWfvrcPr', 'rH6rMKNj14dhz5o1D9dPTDyrbKtcUHx63i', {'weight': 44}), ('rH6uE6j5iCP31p4K3HMJToF97SDV8GVZfd', 'rL2WnLrcGwRDWg5yyak1JTq756WLMe2QRd', {'weight': 36}), ('rL2WnLrcGwRDWg5yyak1JTq756WLMe2QRd', 'rH6uE6j5iCP31p4K3HMJToF97SDV8GVZfd', {'weight': 25}), ('rH6yU2PBXZ4a5j527cxwQaQ9TfRyG7GDms', 'rwFsvvBhYGxbpw8tERc5J4tJZ8SP5D2Q9x', {'weight': 42}), ('rwFsvvBhYGxbpw8tERc5J4tJZ8SP5D2Q9x', 'rH6yU2PBXZ4a5j527cxwQaQ9TfRyG7GDms', {'weight': 33}), ('rH7SmwXoUaDeKWUuR7o5tqVg6dWPzWXTRV', 'rP6sXVuErTbh1NNWUhaYyMy7ze9AxxyLQ', {'weight': 42}), ('rP6sXVuErTbh1NNWUhaYyMy7ze9AxxyLQ', 'rH7SmwXoUaDeKWUuR7o5tqVg6dWPzWXTRV', {'weight': 34}), ('rH7XWRk1tHsZdT1C2WyJdGZKaVEkioX6dv', 'rsH6ijFtv5WbpBFV4V5ZLx3hPKXLwKAWDh', {'weight': 25}), ('rsH6ijFtv5WbpBFV4V5ZLx3hPKXLwKAWDh', 'rH7XWRk1tHsZdT1C2WyJdGZKaVEkioX6dv', {'weight': 37}), ('rH7b2Mqn6PzPSQQaTnrfpbU5nDaFqENAd', 'rUur9raofe43f9U53k6SWbHwtuKjR3dnxC', {'weight': 26}), ('rUur9raofe43f9U53k6SWbHwtuKjR3dnxC', 'rH7b2Mqn6PzPSQQaTnrfpbU5nDaFqENAd', {'weight': 16}), ('rH7eDEgPXpe4PzoJeogePT1HgQZv2i5Zhc', 'rM6SMngA1yMJjnPyPXd63dagqf9aiAHUsq', {'weight': 35}), ('rM6SMngA1yMJjnPyPXd63dagqf9aiAHUsq', 'rH7eDEgPXpe4PzoJeogePT1HgQZv2i5Zhc', {'weight': 26}), ('rH8F5u3QwwraYY2NL9U2CtaF3cbvxf6rNA', 'rPDzxUvnKTaP7Qyq5Em8vMMiejVas3t71T', {'weight': 24}), ('rPDzxUvnKTaP7Qyq5Em8vMMiejVas3t71T', 'rH8F5u3QwwraYY2NL9U2CtaF3cbvxf6rNA', {'weight': 33}), ('rH8HrxYHcdBCmKmpwVifgQVx1nbScitEQ4', 'rP84Bm8TQe3koyhjCMR4RhEKiMY2ryHNYU', {'weight': 13}), ('rP84Bm8TQe3koyhjCMR4RhEKiMY2ryHNYU', 'rH8HrxYHcdBCmKmpwVifgQVx1nbScitEQ4', {'weight': 28}), ('rH8YmHKNEujmSNK6iTZ8pFbrxmt5psFwke', 'rNFzTqkAMkgXGzC3ZUX1PsqtGxhFqPxQXq', {'weight': 76}), ('rNFzTqkAMkgXGzC3ZUX1PsqtGxhFqPxQXq', 'rH8YmHKNEujmSNK6iTZ8pFbrxmt5psFwke', {'weight': 90}), ('rH8jF2tG6uzs2NjmewjAUhtCMY6Z8YW26N', 'rw1nrQrDLRSuA6pSty2LaR3jjozbAB3nkv', {'weight': 33}), ('rw1nrQrDLRSuA6pSty2LaR3jjozbAB3nkv', 'rH8jF2tG6uzs2NjmewjAUhtCMY6Z8YW26N', {'weight': 22}), ('rH9CUa4wqBcid69e126UKJTUH7YXXPxvQs', 'rfeXSWW3BApiyXj4UQ1wz8vQaWpgKnVLwQ', {'weight': 15}), ('rfeXSWW3BApiyXj4UQ1wz8vQaWpgKnVLwQ', 'rH9CUa4wqBcid69e126UKJTUH7YXXPxvQs', {'weight': 29}), ('rH9s5haNCssq6bMdkSvrT8y1yuXScvRNi', 'rHfB7SCVNJHfp9mUt3gsfRwFvhjWgybtgB', {'weight': 15}), ('rHfB7SCVNJHfp9mUt3gsfRwFvhjWgybtgB', 'rH9s5haNCssq6bMdkSvrT8y1yuXScvRNi', {'weight': 27}), ('rH9wmHwokQtBxHLMY8E9uou3grRh6V8Buv', 'rn4ZpBWvHggxixSU1V9fhyePjgYefCwTLz', {'weight': 37}), ('rn4ZpBWvHggxixSU1V9fhyePjgYefCwTLz', 'rH9wmHwokQtBxHLMY8E9uou3grRh6V8Buv', {'weight': 23}), ('rHAicb8E4icUqVmdm1p4V5z398UTDNBauo', 'rfBi7dn9Lxwek8YAHVztbSNm4V2uEgr5J4', {'weight': 27}), ('rfBi7dn9Lxwek8YAHVztbSNm4V2uEgr5J4', 'rHAicb8E4icUqVmdm1p4V5z398UTDNBauo', {'weight': 15}), ('rHAx5qDgJs7gzrKJt71MPNCjqBdo7TPCiu', 'rhX7AkGaE5kzScsAEaagcnBCQ3UxfpqZpQ', {'weight': 103}), ('rhX7AkGaE5kzScsAEaagcnBCQ3UxfpqZpQ', 'rHAx5qDgJs7gzrKJt71MPNCjqBdo7TPCiu', {'weight': 87}), ('rHBWGu6vzEaniT6BMRGUWEaGkXmiupkfMr', 'rr6qwzmcCwoa3FH7pm5AtJeS5v8BQU6tW', {'weight': 42}), ('rr6qwzmcCwoa3FH7pm5AtJeS5v8BQU6tW', 'rHBWGu6vzEaniT6BMRGUWEaGkXmiupkfMr', {'weight': 33}), ('rHBybxPK2xaLHeZiEcWRgwjjyRCW6Trtk6', 'rHjSGtv6scqbPMnGQCXAwC8o62shq4eH6e', {'weight': 26}), ('rHjSGtv6scqbPMnGQCXAwC8o62shq4eH6e', 'rHBybxPK2xaLHeZiEcWRgwjjyRCW6Trtk6', {'weight': 35}), ('rHC5WDrKF6ycuoJ49vKUZzpvNZiXJ3Sqjj', 'rnVG3Xs8dB3z3UwKsMnxakLVEGGos9XBfC', {'weight': 15}), ('rnVG3Xs8dB3z3UwKsMnxakLVEGGos9XBfC', 'rHC5WDrKF6ycuoJ49vKUZzpvNZiXJ3Sqjj', {'weight': 28}), ('rHCavaG2QDMVx67Y38FVyuzucsBgYuTAQ9', 'rsqUnfwaWUgcTrGCaBz6Hp3AbvDZSdbYYZ', {'weight': 33}), ('rsqUnfwaWUgcTrGCaBz6Hp3AbvDZSdbYYZ', 'rHCavaG2QDMVx67Y38FVyuzucsBgYuTAQ9', {'weight': 17}), ('rHChpyMQRQUDSNiQFfUTftNHJCG9dpAHe', 'rNSQHxCxihZw5UT362u8Kwh8QAcXooLxsh', {'weight': 42}), ('rNSQHxCxihZw5UT362u8Kwh8QAcXooLxsh', 'rHChpyMQRQUDSNiQFfUTftNHJCG9dpAHe', {'weight': 64}), ('rHDEcxuD2xWUgt5eFUTcHyJ9DXHNbpoUNo', 'rPgnfb27k8ErWAG1dYfmVNNKTPv1HjSFck', {'weight': 98}), ('rPgnfb27k8ErWAG1dYfmVNNKTPv1HjSFck', 'rHDEcxuD2xWUgt5eFUTcHyJ9DXHNbpoUNo', {'weight': 85}), ('rHDogUcsTF5CemWY6dwTLo3R7TniduQKDW', 'rJujgGX2gZb9ExEAb6Ys7kyHz4S1KxNs4t', {'weight': 25}), ('rJujgGX2gZb9ExEAb6Ys7kyHz4S1KxNs4t', 'rHDogUcsTF5CemWY6dwTLo3R7TniduQKDW', {'weight': 36}), ('rHE4GcGuZvYRPymNUDhBLZR8jUM3kWKzUm', 'rMVJs15sKM3oeKANmfnJmvhjrE1Xe4RNcq', {'weight': 35}), ('rMVJs15sKM3oeKANmfnJmvhjrE1Xe4RNcq', 'rHE4GcGuZvYRPymNUDhBLZR8jUM3kWKzUm', {'weight': 26}), ('rHEYuZrHP6SaPKT9UwBVxiKLpXutBfWmeb', 'rQJn16Dq23DLg65gS5pgeAwvjopPLfqXwV', {'weight': 28}), ('rQJn16Dq23DLg65gS5pgeAwvjopPLfqXwV', 'rHEYuZrHP6SaPKT9UwBVxiKLpXutBfWmeb', {'weight': 17}), ('rHF3PBhnr7eAD4y6kYpRg5hp1Ut7APvv47', 'rpMcpRXZgmbJmTm3wPpkMA92C8WEpPkMzz', {'weight': 26}), ('rpMcpRXZgmbJmTm3wPpkMA92C8WEpPkMzz', 'rHF3PBhnr7eAD4y6kYpRg5hp1Ut7APvv47', {'weight': 17}), ('rHFrvjfXntVRSKUvJRDvgkGxMaxFxLWw8Q', 'rpv5gTpfkY7m8h3Q5AZA3uy4k31x3baHYz', {'weight': 28}), ('rpv5gTpfkY7m8h3Q5AZA3uy4k31x3baHYz', 'rHFrvjfXntVRSKUvJRDvgkGxMaxFxLWw8Q', {'weight': 13}), ('rHGhED4rtmcyqb2CDrTUpkTioxHhg9Coi8', 'rpyjcxvCgoiCVuJJXYe6adyRss5ivH2yBr', {'weight': 28}), ('rpyjcxvCgoiCVuJJXYe6adyRss5ivH2yBr', 'rHGhED4rtmcyqb2CDrTUpkTioxHhg9Coi8', {'weight': 18}), ('rHGvznDSNUD99JQkDfRVbKPv3akNkpJv1g', 'rnJrUddFQCd2KBaBzv7NmQxrkr6qXYgDqk', {'weight': 26}), ('rnJrUddFQCd2KBaBzv7NmQxrkr6qXYgDqk', 'rHGvznDSNUD99JQkDfRVbKPv3akNkpJv1g', {'weight': 15}), ('rHH286ykmkHX4ujZFh52FnRTCoPRaWo3AE', 'rnqfKoPuEwLR7fuXr5QNSLRk77u6boytxX', {'weight': 17}), ('rnqfKoPuEwLR7fuXr5QNSLRk77u6boytxX', 'rHH286ykmkHX4ujZFh52FnRTCoPRaWo3AE', {'weight': 28}), ('rHH2ueRH9Mdh1jiUuzbjJ9XWH9nTEfzgne', 'rNuAU3AHKfxNnxToiFYr5Yo6UwHHuisaTA', {'weight': 15}), ('rNuAU3AHKfxNnxToiFYr5Yo6UwHHuisaTA', 'rHH2ueRH9Mdh1jiUuzbjJ9XWH9nTEfzgne', {'weight': 27}), ('rHHC9N67DsvNEaExDC2FpUa2B7Z1bEaVod', 'rff1omgpTWu5NB7gxi5UoyQGwnJeLvtt9n', {'weight': 31}), ('rff1omgpTWu5NB7gxi5UoyQGwnJeLvtt9n', 'rHHC9N67DsvNEaExDC2FpUa2B7Z1bEaVod', {'weight': 41}), ('rHJMk6VmKdFiJe6rMJFz9byMVrvt5aG4nP', 'rhaSu7GCDpwmDL3jWgQuFBc9mN94ZNhK2c', {'weight': 15}), ('rhaSu7GCDpwmDL3jWgQuFBc9mN94ZNhK2c', 'rHJMk6VmKdFiJe6rMJFz9byMVrvt5aG4nP', {'weight': 30}), ('rHJbRazGKqeBdB7RXQXHvPKsS8tvFoktVN', 'rfbG158aJP8PQqjkT25teaKci7NhHAQmip', {'weight': 21}), ('rfbG158aJP8PQqjkT25teaKci7NhHAQmip', 'rHJbRazGKqeBdB7RXQXHvPKsS8tvFoktVN', {'weight': 31}), ('rHJoZ2YeAfWDBxqsxhEuwV8tb3brpSfgEu', 'rMjgMDNbmJV6KFNZwjbVPKjV9res3n9ohF', {'weight': 36}), ('rMjgMDNbmJV6KFNZwjbVPKjV9res3n9ohF', 'rHJoZ2YeAfWDBxqsxhEuwV8tb3brpSfgEu', {'weight': 22}), ('rHJvW1bmX63ntHj6KogcLDERW4VVyPb2Ec', 'rn4iceaUXqvivpuywHoPmz8LwsAMfp9rx7', {'weight': 24}), ('rn4iceaUXqvivpuywHoPmz8LwsAMfp9rx7', 'rHJvW1bmX63ntHj6KogcLDERW4VVyPb2Ec', {'weight': 34}), ('rHJw6nbxkYXDmtGYFLLBaDMXMEpfByvgRr', 'rZg9raZtwx1jjp3dWixczPqd3ky3xi2RX', {'weight': 22}), ('rZg9raZtwx1jjp3dWixczPqd3ky3xi2RX', 'rHJw6nbxkYXDmtGYFLLBaDMXMEpfByvgRr', {'weight': 37}), ('rHK6Gmmp1AZSvcRgGfHLHqMA4GChnSHiUX', 'rJV1ivs4yeQEJohTkLUtQhLq3PFeXusMPR', {'weight': 15}), ('rJV1ivs4yeQEJohTkLUtQhLq3PFeXusMPR', 'rHK6Gmmp1AZSvcRgGfHLHqMA4GChnSHiUX', {'weight': 26}), ('rHKHLneq8dVsqR6F2VrAyTKnfZwQTAVoYR', 'rp1ZwEG81FCuAcq52MQpBgTj84MMSN8fMa', {'weight': 23}), ('rp1ZwEG81FCuAcq52MQpBgTj84MMSN8fMa', 'rHKHLneq8dVsqR6F2VrAyTKnfZwQTAVoYR', {'weight': 33}), ('rHKw4szkxNnMiZGjetWHuwKYyHdRLMYQqi', 'rhyALFhHYfQfzRMVsUgoCvhTMskUtjBcES', {'weight': 24}), ('rhyALFhHYfQfzRMVsUgoCvhTMskUtjBcES', 'rHKw4szkxNnMiZGjetWHuwKYyHdRLMYQqi', {'weight': 36}), ('rHLfs6q8pUJTLTuLPKHebkfraa799kv5Tr', 'rwAQhe4myTDyUxhm1byWQNj7vfRkS1fUyV', {'weight': 87}), ('rwAQhe4myTDyUxhm1byWQNj7vfRkS1fUyV', 'rHLfs6q8pUJTLTuLPKHebkfraa799kv5Tr', {'weight': 69}), ('rHMMCwfJKQfuvzXjrdetbYK2xzRa8bepM7', 'rUasXBY9yUfuoeVhgnfKKF6abBGQDw7ehk', {'weight': 111}), ('rUasXBY9yUfuoeVhgnfKKF6abBGQDw7ehk', 'rHMMCwfJKQfuvzXjrdetbYK2xzRa8bepM7', {'weight': 101}), ('rHMz8eP7c7R61PJ5juY6sR3bexVwkiA4ah', 'rwC4nQ9bysLUNkKLzHE7merizLdvZeJXEt', {'weight': 26}), ('rwC4nQ9bysLUNkKLzHE7merizLdvZeJXEt', 'rHMz8eP7c7R61PJ5juY6sR3bexVwkiA4ah', {'weight': 14}), ('rHN8q3keWb1uoY6wotZgrfrEioNH3DA8UC', 'rMZmAaiojiYGLESVTUVedxbphkpLH8mYBG', {'weight': 15}), ('rMZmAaiojiYGLESVTUVedxbphkpLH8mYBG', 'rHN8q3keWb1uoY6wotZgrfrEioNH3DA8UC', {'weight': 27}), ('rHNJ8J17etEYxXXMzMpx1Lk3K5Pk2uPo5P', 'rNPfaeYefyXPLL6o3ALuJdNEWiMwB9M1HS', {'weight': 66}), ('rNPfaeYefyXPLL6o3ALuJdNEWiMwB9M1HS', 'rHNJ8J17etEYxXXMzMpx1Lk3K5Pk2uPo5P', {'weight': 42}), ('rHNLT7q9YqmL3khMnGx7dzvRZwkoWNuE8Y', 'rKkimVkLnwhZ86jxunDvqXQPx16kwC6mtj', {'weight': 33}), ('rKkimVkLnwhZ86jxunDvqXQPx16kwC6mtj', 'rHNLT7q9YqmL3khMnGx7dzvRZwkoWNuE8Y', {'weight': 22}), ('rHP2C26aiLU6KKYr9j3MqWoCsWCzi7iZgD', 'rNBowoQqfPzravGmw6Uo4dZhfyRaQG8aVr', {'weight': 71}), ('rNBowoQqfPzravGmw6Uo4dZhfyRaQG8aVr', 'rHP2C26aiLU6KKYr9j3MqWoCsWCzi7iZgD', {'weight': 52}), ('rHP4thLwhGrA9Tob8Ecs2NxSjR2m45T4ub', 'rsndKpGzroncTvAD2waaN9ozYYC89Yj7Jz', {'weight': 15}), ('rsndKpGzroncTvAD2waaN9ozYYC89Yj7Jz', 'rHP4thLwhGrA9Tob8Ecs2NxSjR2m45T4ub', {'weight': 27}), ('rHPU4FrA51y1BBFG6bPJkJJ1QNc3YMjiED', 'rwe2MB6xb8eqGqcpb5nFmzabwX6bH1cY6L', {'weight': 23}), ('rwe2MB6xb8eqGqcpb5nFmzabwX6bH1cY6L', 'rHPU4FrA51y1BBFG6bPJkJJ1QNc3YMjiED', {'weight': 37}), ('rHQZnh6KKrjXsMfE7BRBCsQ9Fsf4WGnAKt', 'rND8gUsVR9vR5TiroEjiw7J8LnZnxVWPv3', {'weight': 86}), ('rND8gUsVR9vR5TiroEjiw7J8LnZnxVWPv3', 'rHQZnh6KKrjXsMfE7BRBCsQ9Fsf4WGnAKt', {'weight': 65}), ('rHQZtTNAiccV3Zz1XsrhF4gJ1bQy5LtEvf', 'rffSFsQki2fiTVsunfZCCWXrKkG9HeHYsW', {'weight': 14}), ('rffSFsQki2fiTVsunfZCCWXrKkG9HeHYsW', 'rHQZtTNAiccV3Zz1XsrhF4gJ1bQy5LtEvf', {'weight': 29}), ('rHRrJLy3EbjUJAZC1tpLZJF2A83VR8tq2n', 'rfhqQn8ioivVqNLrruyB3Uaqvcd4QodweS', {'weight': 25}), ('rfhqQn8ioivVqNLrruyB3Uaqvcd4QodweS', 'rHRrJLy3EbjUJAZC1tpLZJF2A83VR8tq2n', {'weight': 13}), ('rHSXsyS2DBLdPhAwK3HyA2rAnFmTVuygfm', 'ra57VMAkCZKbxC1KgqrN9KihhpM8Pw3fcQ', {'weight': 105}), ('ra57VMAkCZKbxC1KgqrN9KihhpM8Pw3fcQ', 'rHSXsyS2DBLdPhAwK3HyA2rAnFmTVuygfm', {'weight': 92}), ('rHSakyULFDjo5Jk4okiC8DiPRiQDRKP5FT', 'rPY8rc4Vf8zE71Tg11dcnmprzsQTvwXZZQ', {'weight': 28}), ('rPY8rc4Vf8zE71Tg11dcnmprzsQTvwXZZQ', 'rHSakyULFDjo5Jk4okiC8DiPRiQDRKP5FT', {'weight': 14}), ('rHSjhbJe6H2wWLFCazkgjveQXw6spbXiBx', 'rpmi7RGGCcu63DXXfYZ9j6JfGgyYJ6fMbA', {'weight': 22}), ('rpmi7RGGCcu63DXXfYZ9j6JfGgyYJ6fMbA', 'rHSjhbJe6H2wWLFCazkgjveQXw6spbXiBx', {'weight': 33}), ('rHTDuyBgS3ie5fTPr3BUTt3RtSiX6DBYoA', 'rL4DNqYkgkts4yGFsPevapnRQnVp1bXN6t', {'weight': 14}), ('rL4DNqYkgkts4yGFsPevapnRQnVp1bXN6t', 'rHTDuyBgS3ie5fTPr3BUTt3RtSiX6DBYoA', {'weight': 29}), ('rHTGDWfFhD2hMLLXWycfbc343ZS2VxX6eX', 'rKtcecP6gxknJ4MrcBJux8QMuugkcKoV5E', {'weight': 42}), ('rKtcecP6gxknJ4MrcBJux8QMuugkcKoV5E', 'rHTGDWfFhD2hMLLXWycfbc343ZS2VxX6eX', {'weight': 65}), ('rHUc3ucZiBg7KtT4GGV86H3g8zm4s4375F', 'ra3dTJV1jhhyNf6ZWyTzwaBpJRnZorwqem', {'weight': 39}), ('ra3dTJV1jhhyNf6ZWyTzwaBpJRnZorwqem', 'rHUc3ucZiBg7KtT4GGV86H3g8zm4s4375F', {'weight': 26}), ('rHUq2tQj1MgFdgcM3pxfcaVUHaG87AxU6k', 'rNBdRFS5vhCJu6RuD4SVZLXVtBp9dvPCr7', {'weight': 38}), ('rNBdRFS5vhCJu6RuD4SVZLXVtBp9dvPCr7', 'rHUq2tQj1MgFdgcM3pxfcaVUHaG87AxU6k', {'weight': 46}), ('rHV2vxZYqWifaohb6pankrLxtMnjdv1i3y', 'rNdxFYBECJdAmNCgdao4TWaM32zNvkYXcd', {'weight': 14}), ('rNdxFYBECJdAmNCgdao4TWaM32zNvkYXcd', 'rHV2vxZYqWifaohb6pankrLxtMnjdv1i3y', {'weight': 28}), ('rHVCtjysHnF4ZxzrnPQKmzg23nZYPyvMgy', 'rNXr8hGZcJW4avBLUwHeggyDuFkXwCuP3Z', {'weight': 45}), ('rNXr8hGZcJW4avBLUwHeggyDuFkXwCuP3Z', 'rHVCtjysHnF4ZxzrnPQKmzg23nZYPyvMgy', {'weight': 68}), ('rHVWgg48pWCmqqRrqXhagYXUnpYaobzsQ7', 'rpLXURugg76ueQZA63DoDSUzawvm7RimKG', {'weight': 32}), ('rpLXURugg76ueQZA63DoDSUzawvm7RimKG', 'rHVWgg48pWCmqqRrqXhagYXUnpYaobzsQ7', {'weight': 22}), ('rHWMedsSPYVcfriCVMAiu5AVojQvjAwt69', 'rhwK7bYMfAXKQrPHKxfsDR9oJFGvAfChf8', {'weight': 28}), ('rhwK7bYMfAXKQrPHKxfsDR9oJFGvAfChf8', 'rHWMedsSPYVcfriCVMAiu5AVojQvjAwt69', {'weight': 18}), ('rHWS1nMqBbBEASuh56rRwiRxgs4s1DSU3n', 'rhaWtbYz3PiCagGaYdznfcrvH9W4LV5xQU', {'weight': 22}), ('rhaWtbYz3PiCagGaYdznfcrvH9W4LV5xQU', 'rHWS1nMqBbBEASuh56rRwiRxgs4s1DSU3n', {'weight': 32}), ('rHWXKQ75YWgvZVM1Zqe7MKBotgpNNmPEhg', 'rHok3FHtKxhHAPDvUJYvDsKueR3e552Zuh', {'weight': 78}), ('rHok3FHtKxhHAPDvUJYvDsKueR3e552Zuh', 'rHWXKQ75YWgvZVM1Zqe7MKBotgpNNmPEhg', {'weight': 53}), ('rHWh2Bg9K4rzJMbGfQdQSTmPhvtcsBGjV6', 'rLUxxPVqsauMVnQcP1CXdx6wMfWxqn6pit', {'weight': 31}), ('rLUxxPVqsauMVnQcP1CXdx6wMfWxqn6pit', 'rHWh2Bg9K4rzJMbGfQdQSTmPhvtcsBGjV6', {'weight': 43}), ('rHWxijEaZUSsv9jFwePDen8dSj9vEfuK8W', 'rJBmkc7jvJXkzz6g7joMckwRdNCrEhtLc7', {'weight': 40}), ('rJBmkc7jvJXkzz6g7joMckwRdNCrEhtLc7', 'rHWxijEaZUSsv9jFwePDen8dSj9vEfuK8W', {'weight': 49}), ('rHXbU2MYb1GQyskECWQRHv4Kk2kGSp4BRW', 'rNXKChwhurgwhDc2BvCT6FJP5rVFg4L5jh', {'weight': 31}), ('rNXKChwhurgwhDc2BvCT6FJP5rVFg4L5jh', 'rHXbU2MYb1GQyskECWQRHv4Kk2kGSp4BRW', {'weight': 40}), ('rHXn8GYe84rwokgsAZsF6NEMTvEPqyPWEv', 'rnx5mkGgs69wDasdJ9bpc5LP6M6ACRaoCt', {'weight': 28}), ('rnx5mkGgs69wDasdJ9bpc5LP6M6ACRaoCt', 'rHXn8GYe84rwokgsAZsF6NEMTvEPqyPWEv', {'weight': 19}), ('rHXqR2Fc7B3mC84DMUXsAawd9dR4uAwMat', 'raoMxKaHv8ThqTHTiajhxT65w4inYWXvEn', {'weight': 20}), ('raoMxKaHv8ThqTHTiajhxT65w4inYWXvEn', 'rHXqR2Fc7B3mC84DMUXsAawd9dR4uAwMat', {'weight': 30}), ('rHYRkMa8hodsTaSuSECNERVTVNQCB64JA7', 'rJV3M8GxSJnbz9Eeyqx8TVc2Spvt75gupr', {'weight': 16}), ('rJV3M8GxSJnbz9Eeyqx8TVc2Spvt75gupr', 'rHYRkMa8hodsTaSuSECNERVTVNQCB64JA7', {'weight': 29}), ('rHZH4Ytd5KibLYiWB7uwVeQfM5qxm42ZrJ', 'rM6DsJtA9exFwFEB7dgwsGZYJ5d2wQUe8W', {'weight': 28}), ('rM6DsJtA9exFwFEB7dgwsGZYJ5d2wQUe8W', 'rHZH4Ytd5KibLYiWB7uwVeQfM5qxm42ZrJ', {'weight': 15}), ('rHZve6uE2RiAzPZ4jo1Sxffy6rZLuGzqY2', 'rJe1vH9UML44HnXc5DmGP18wMacjNJBuXZ', {'weight': 20}), ('rJe1vH9UML44HnXc5DmGP18wMacjNJBuXZ', 'rHZve6uE2RiAzPZ4jo1Sxffy6rZLuGzqY2', {'weight': 30}), ('rHafhNcH5ZqcQwLP1FXq1eLDUP3CFfwzR9', 'rNSWKUhfrZcoEXbT6WzZiHysegCE13T42D', {'weight': 16}), ('rNSWKUhfrZcoEXbT6WzZiHysegCE13T42D', 'rHafhNcH5ZqcQwLP1FXq1eLDUP3CFfwzR9', {'weight': 30}), ('rHakmGjEhfbMvpx472TJ1Y3PRPBbax4Tdm', 'rsQ7rrp1QajXYrF4PrEZEu9GLoYTvh3YUR', {'weight': 27}), ('rsQ7rrp1QajXYrF4PrEZEu9GLoYTvh3YUR', 'rHakmGjEhfbMvpx472TJ1Y3PRPBbax4Tdm', {'weight': 15}), ('rHb4ionbTd4xcZzt4wixqd6te9DEgQ6moa', 'rK9nYMD1Eqi8UEyLjQQcWURuWGXVGSKfMD', {'weight': 17}), ('rK9nYMD1Eqi8UEyLjQQcWURuWGXVGSKfMD', 'rHb4ionbTd4xcZzt4wixqd6te9DEgQ6moa', {'weight': 30}), ('rHb63GcM2zfEwNrBEPtWsqDm5Y6J9wEZch', 'rwrLsZvX2ZVV3JuEEPbNLw3ua2cVLzDq5D', {'weight': 73}), ('rwrLsZvX2ZVV3JuEEPbNLw3ua2cVLzDq5D', 'rHb63GcM2zfEwNrBEPtWsqDm5Y6J9wEZch', {'weight': 92}), ('rHbMYNa71oiC9MUDgDuagHzSsTjuqdi2f1', 'rNp2MMtUg5h3bsxXJG4jopz2t3mUdyUQNj', {'weight': 40}), ('rNp2MMtUg5h3bsxXJG4jopz2t3mUdyUQNj', 'rHbMYNa71oiC9MUDgDuagHzSsTjuqdi2f1', {'weight': 31}), ('rHbRJeqzzP35ugkqntDLAwhXpPas469gtN', 'rK6SStR6DDP5Doj9pWuf26iCP3jkzFLz2z', {'weight': 30}), ('rK6SStR6DDP5Doj9pWuf26iCP3jkzFLz2z', 'rHbRJeqzzP35ugkqntDLAwhXpPas469gtN', {'weight': 21}), ('rHbvsppUmWnhCqqcvHVfN4bo44nPqw6GCY', 'rfAnnXGNThhXQ3raeQ2Rbeaf2gZim8hAyD', {'weight': 26}), ('rfAnnXGNThhXQ3raeQ2Rbeaf2gZim8hAyD', 'rHbvsppUmWnhCqqcvHVfN4bo44nPqw6GCY', {'weight': 15}), ('rHc1X8PkEN7jP2Dh8EqYYKrTciYpnvepgd', 'rLHXRVocp2zkCrFkVD71Lw1MohSpKcwLoh', {'weight': 22}), ('rLHXRVocp2zkCrFkVD71Lw1MohSpKcwLoh', 'rHc1X8PkEN7jP2Dh8EqYYKrTciYpnvepgd', {'weight': 33}), ('rHcB5K3XJZky3vnix8WyGWh5g7NwUqGojS', 'rHkQaFmVa1YtvPCRJGGe4qFsUEUwgUC1GZ', {'weight': 22}), ('rHkQaFmVa1YtvPCRJGGe4qFsUEUwgUC1GZ', 'rHcB5K3XJZky3vnix8WyGWh5g7NwUqGojS', {'weight': 13}), ('rHcwrhZqF8LkYhCF5KqhvkSjuxeCD1wDUK', 'ravrfREUDdfLHQZvVJLhcMF3tTuiKw4L6', {'weight': 82}), ('ravrfREUDdfLHQZvVJLhcMF3tTuiKw4L6', 'rHcwrhZqF8LkYhCF5KqhvkSjuxeCD1wDUK', {'weight': 95}), ('rHdWt586saDC35HGWGznmpAfeMWzmuW8NJ', 'rMLrXP9T6P74p1LsjU8bZTR32NHw5RgKzq', {'weight': 23}), ('rMLrXP9T6P74p1LsjU8bZTR32NHw5RgKzq', 'rHdWt586saDC35HGWGznmpAfeMWzmuW8NJ', {'weight': 35}), ('rHePLH3d3Bet1PPoZaWt1Lt3di1XUcxP4u', 'raxwJEDXHftWX2gST3k72kRTK6mcHC1xDn', {'weight': 14}), ('raxwJEDXHftWX2gST3k72kRTK6mcHC1xDn', 'rHePLH3d3Bet1PPoZaWt1Lt3di1XUcxP4u', {'weight': 29}), ('rHeeFQeRxweEoZRvkFqR7gEWAuU7Ndxvgn', 'rhYo668LTTLcEtnYLrrJeDhsGJRgKUKsQu', {'weight': 44}), ('rhYo668LTTLcEtnYLrrJeDhsGJRgKUKsQu', 'rHeeFQeRxweEoZRvkFqR7gEWAuU7Ndxvgn', {'weight': 35}), ('rHf1Amez1PydkXZmf9cBVv2dnnNTUGRhef', 'rJyVozgoe9Ux2yW5pJFqu8h6zK6TCGSBGY', {'weight': 37}), ('rJyVozgoe9Ux2yW5pJFqu8h6zK6TCGSBGY', 'rHf1Amez1PydkXZmf9cBVv2dnnNTUGRhef', {'weight': 45}), ('rHfKGd7WFw4cBC5qLuKo5bM5dvRJcjPsAc', 'rMrNMkmobkPTkCfoAiBan5HZyxoC56LdPN', {'weight': 15}), ('rMrNMkmobkPTkCfoAiBan5HZyxoC56LdPN', 'rHfKGd7WFw4cBC5qLuKo5bM5dvRJcjPsAc', {'weight': 26}), ('rHfPRa9TrUebWh322f9uEf3nhJqzGZWtqX', 'rhV1oPw2dhc8nEgBx3taPmuR9rp3qqHV5S', {'weight': 16}), ('rhV1oPw2dhc8nEgBx3taPmuR9rp3qqHV5S', 'rHfPRa9TrUebWh322f9uEf3nhJqzGZWtqX', {'weight': 25}), ('rHgvp4QyuQQBsoL5DR5fmtgi7BuvY9ZshG', 'rfzAXSwZgCAsi7GMP697kYMLLeh48HzFZ6', {'weight': 27}), ('rfzAXSwZgCAsi7GMP697kYMLLeh48HzFZ6', 'rHgvp4QyuQQBsoL5DR5fmtgi7BuvY9ZshG', {'weight': 36}), ('rHgwVGpgHFJikJKTJPKDHx759CXiBLNuDM', 'rwXHGSLJptdFjJexhEjtNNKRPLaCmJTtR2', {'weight': 14}), ('rwXHGSLJptdFjJexhEjtNNKRPLaCmJTtR2', 'rHgwVGpgHFJikJKTJPKDHx759CXiBLNuDM', {'weight': 26}), ('rHh36xB8Mw2dVvmR5iqHUWS6n22Ee5whAU', 'rhQ4xPtNyscekuHgLZTueSJUCdheGjso3g', {'weight': 14}), ('rhQ4xPtNyscekuHgLZTueSJUCdheGjso3g', 'rHh36xB8Mw2dVvmR5iqHUWS6n22Ee5whAU', {'weight': 29}), ('rHhABPZvcJoyNbeZv4YXNW1v2Z5TaFvRqm', 'rHv5yThoNKynpBNdJ2hUYWQ22RHDM2MULX', {'weight': 32}), ('rHv5yThoNKynpBNdJ2hUYWQ22RHDM2MULX', 'rHhABPZvcJoyNbeZv4YXNW1v2Z5TaFvRqm', {'weight': 23}), ('rHiPieXbNGrrpGXjFWygbsjfxFRYU58nPr', 'rytqkSFt7zyDiauA9rrnfEHsCGUtmB2hN', {'weight': 30}), ('rytqkSFt7zyDiauA9rrnfEHsCGUtmB2hN', 'rHiPieXbNGrrpGXjFWygbsjfxFRYU58nPr', {'weight': 21}), ('rHiVkEPg8yJ4246bxDunxriR3YXMZWne8T', 'rhSJSrqXU4jUUHsEJP5V1CA7ESCbtADvdP', {'weight': 32}), ('rhSJSrqXU4jUUHsEJP5V1CA7ESCbtADvdP', 'rHiVkEPg8yJ4246bxDunxriR3YXMZWne8T', {'weight': 18}), ('rHiamWefvJXSxNtCouyM9u7coAK4ZzjnZn', 'rKzwW43xbMUucLu1hkNxDNiiF4d76o6r9M', {'weight': 13}), ('rKzwW43xbMUucLu1hkNxDNiiF4d76o6r9M', 'rHiamWefvJXSxNtCouyM9u7coAK4ZzjnZn', {'weight': 25}), ('rHiiFFakqNRuAKEJWVL3eEKSDxH5XcbbK7', 'rMPqG8urjhZSRGBaNM9GMxDTvk3YXamhvH', {'weight': 39}), ('rMPqG8urjhZSRGBaNM9GMxDTvk3YXamhvH', 'rHiiFFakqNRuAKEJWVL3eEKSDxH5XcbbK7', {'weight': 29}), ('rHikS7V2WadmReayKQCKqfGoQhRhUhC7Gq', 'rKT1kdEiq5TrFdCZgWZ9h48r76bJhnNnLc', {'weight': 22}), ('rKT1kdEiq5TrFdCZgWZ9h48r76bJhnNnLc', 'rHikS7V2WadmReayKQCKqfGoQhRhUhC7Gq', {'weight': 34}), ('rHiryiBDKqmfjvKx8z9AhqbA2Zrm2vDf1E', 'rJ7yLnyWLSUNNGwbRVRXi6RwFoNLDvDmgu', {'weight': 33}), ('rJ7yLnyWLSUNNGwbRVRXi6RwFoNLDvDmgu', 'rHiryiBDKqmfjvKx8z9AhqbA2Zrm2vDf1E', {'weight': 22}), ('rHj4euwngC182zqURm5nHr6TwrNisGd2LQ', 'rh5kj5fK589q2tKu6HxRFvgtA4RBkZPjsa', {'weight': 29}), ('rh5kj5fK589q2tKu6HxRFvgtA4RBkZPjsa', 'rHj4euwngC182zqURm5nHr6TwrNisGd2LQ', {'weight': 14}), ('rHjTvaXGPkArZF9F4ZNaABPxsoGmBbeqyV', 'rKaAipAuqAYTrGWmrqLKqjckZBHxSykvpN', {'weight': 30}), ('rKaAipAuqAYTrGWmrqLKqjckZBHxSykvpN', 'rHjTvaXGPkArZF9F4ZNaABPxsoGmBbeqyV', {'weight': 19}), ('rHjZhGjtqnv9jfxp6XQirkfv92rNmu7P8i', 'raEwvarMTVrDLnZqvMJpgkdHg4gb9GsoqF', {'weight': 25}), ('raEwvarMTVrDLnZqvMJpgkdHg4gb9GsoqF', 'rHjZhGjtqnv9jfxp6XQirkfv92rNmu7P8i', {'weight': 14}), ('rHjdoj4e4EBRnMHcbJhx1pzCU5wQeY7f2u', 'rL6gMVaYRMvoTHJYksGXQQgyYuVT4aUQ94', {'weight': 40}), ('rL6gMVaYRMvoTHJYksGXQQgyYuVT4aUQ94', 'rHjdoj4e4EBRnMHcbJhx1pzCU5wQeY7f2u', {'weight': 31}), ('rHjnsP22NA9Dvykbf6AjnnpWAv57AQAEWE', 'rLs7syPWQminm7fTAB6dSoBwvPaJSdrCUt', {'weight': 28}), ('rLs7syPWQminm7fTAB6dSoBwvPaJSdrCUt', 'rHjnsP22NA9Dvykbf6AjnnpWAv57AQAEWE', {'weight': 18}), ('rHkC7hRUaZbJNxmZP3LmWqQTEdWKVnumDu', 'rpcW77ZsfCfBFbN7MdvtMwL4WNCxha8T9s', {'weight': 14}), ('rpcW77ZsfCfBFbN7MdvtMwL4WNCxha8T9s', 'rHkC7hRUaZbJNxmZP3LmWqQTEdWKVnumDu', {'weight': 24}), ('rHkLz1JmtW2rbfMzp4JCGb2NXjN62jzhGX', 'rKWDsSZ6JZi7wy8JSGkx1ovp6pgrZBTZKt', {'weight': 113}), ('rKWDsSZ6JZi7wy8JSGkx1ovp6pgrZBTZKt', 'rHkLz1JmtW2rbfMzp4JCGb2NXjN62jzhGX', {'weight': 99}), ('rHnPuJWVBtRP1F5Z6Zzb8gYWVZrg1NbeAC', 'rsqPqyvJqVeqwZtXfBoqxnddDL4vWkHz3i', {'weight': 22}), ('rsqPqyvJqVeqwZtXfBoqxnddDL4vWkHz3i', 'rHnPuJWVBtRP1F5Z6Zzb8gYWVZrg1NbeAC', {'weight': 34}), ('rHnXf24upGa9EqBd5XB9otFMHBgTyxV2LA', 'rHshbVpg6k5mc3BTBgtTQGNuj4uss2tC2i', {'weight': 27}), ('rHshbVpg6k5mc3BTBgtTQGNuj4uss2tC2i', 'rHnXf24upGa9EqBd5XB9otFMHBgTyxV2LA', {'weight': 14}), ('rHnbpyt7Kqigar1ry3R7uFfpJt4BJAW7jF', 'rLroSvK9pMYRyu7zgNtjjMmBWLMgve12Fo', {'weight': 23}), ('rLroSvK9pMYRyu7zgNtjjMmBWLMgve12Fo', 'rHnbpyt7Kqigar1ry3R7uFfpJt4BJAW7jF', {'weight': 14}), ('rHo4WFgsPf3r1FZevnihDb6LWsD7r52Yfi', 'rwiWV6ksvckMWpg4upUTDbA8Zt25UGkxwZ', {'weight': 31}), ('rwiWV6ksvckMWpg4upUTDbA8Zt25UGkxwZ', 'rHo4WFgsPf3r1FZevnihDb6LWsD7r52Yfi', {'weight': 22}), ('rHoF4HqVE8vJkYAiycuan5kwmUdrWGiW9V', 'rpGB9TVitcbZ5yHBfYM4gi2Wzfvvxid793', {'weight': 17}), ('rpGB9TVitcbZ5yHBfYM4gi2Wzfvvxid793', 'rHoF4HqVE8vJkYAiycuan5kwmUdrWGiW9V', {'weight': 29}), ('rHoR9Zc47FyQ7DEY8cyD8HRwQGtNvsnkY8', 'rwPJJuYwWrfdu2tZLirg2aC8fEezjZjdL', {'weight': 39}), ('rwPJJuYwWrfdu2tZLirg2aC8fEezjZjdL', 'rHoR9Zc47FyQ7DEY8cyD8HRwQGtNvsnkY8', {'weight': 48}), ('rHoZbu6KRA9zn8kwcU45BMZcaENkycaypt', 'rwMTs4qKDpiLsrDFSa5je1bjy1AfKwxtnP', {'weight': 13}), ('rwMTs4qKDpiLsrDFSa5je1bjy1AfKwxtnP', 'rHoZbu6KRA9zn8kwcU45BMZcaENkycaypt', {'weight': 28}), ('rHpQKwDSq5zNEmH1Y7XF7nNfReHWmUVYqJ', 'rwMn9LdJjBVUMyUg7AZyPEGySdUHHC4qa', {'weight': 37}), ('rwMn9LdJjBVUMyUg7AZyPEGySdUHHC4qa', 'rHpQKwDSq5zNEmH1Y7XF7nNfReHWmUVYqJ', {'weight': 29}), ('rHqbocq6zsH9JSTu99F9yCNaeqKqfVcVqS', 'rNfBZvj51tazJ89qB1BryoLKMrkL6z3X28', {'weight': 25}), ('rNfBZvj51tazJ89qB1BryoLKMrkL6z3X28', 'rHqbocq6zsH9JSTu99F9yCNaeqKqfVcVqS', {'weight': 16}), ('rHrAMY9iZ8vCeHcSX93DBvwjZ2PVwxrvaZ', 'rhKoHrNcY84rD8EpZtzmGPwRHHf3aYdWqR', {'weight': 23}), ('rhKoHrNcY84rD8EpZtzmGPwRHHf3aYdWqR', 'rHrAMY9iZ8vCeHcSX93DBvwjZ2PVwxrvaZ', {'weight': 35}), ('rHs7ZT3fwv6o9Dmduf1NKjdV8MWwrH6NNW', 'rMSnuiwwLMD4W4jcmtKtaY12bxVnapJRJc', {'weight': 30}), ('rMSnuiwwLMD4W4jcmtKtaY12bxVnapJRJc', 'rHs7ZT3fwv6o9Dmduf1NKjdV8MWwrH6NNW', {'weight': 21}), ('rHsN2timAszo8jmj8Pd9QhyCp3jGVBdwNZ', 'rphAFAjWXK1mWT4BvchSXQ9GaknSjdYJhr', {'weight': 22}), ('rphAFAjWXK1mWT4BvchSXQ9GaknSjdYJhr', 'rHsN2timAszo8jmj8Pd9QhyCp3jGVBdwNZ', {'weight': 37}), ('rHsWt3VtYFicbiB6fo2Fp7Y4FcXSALnUCV', 'rnv2xFEpgmGkh5XJbF8xNY2LvWpQdN3Tym', {'weight': 14}), ('rnv2xFEpgmGkh5XJbF8xNY2LvWpQdN3Tym', 'rHsWt3VtYFicbiB6fo2Fp7Y4FcXSALnUCV', {'weight': 23}), ('rHsYr87Ua1YFaonQkfb4A4taoRTmFTr7FF', 'rwy7A9zHbQwqhvqwC6PSXxdKyPqJ7SMaDy', {'weight': 39}), ('rwy7A9zHbQwqhvqwC6PSXxdKyPqJ7SMaDy', 'rHsYr87Ua1YFaonQkfb4A4taoRTmFTr7FF', {'weight': 29}), ('rHshHnUkrfcKswtTwc5CwBXzJHB58kZX64', 'rPvcjeQQtbXp6DtnKRV4JGXzZdWptT59Ur', {'weight': 29}), ('rPvcjeQQtbXp6DtnKRV4JGXzZdWptT59Ur', 'rHshHnUkrfcKswtTwc5CwBXzJHB58kZX64', {'weight': 14}), ('rHsoz6Z52StMnhNCKYqAZvRYLzDA5JLjeo', 'rssF9dZAKcpSEMQdrFWJoyNj7o9SX9xqZ1', {'weight': 26}), ('rssF9dZAKcpSEMQdrFWJoyNj7o9SX9xqZ1', 'rHsoz6Z52StMnhNCKYqAZvRYLzDA5JLjeo', {'weight': 13}), ('rHt3Cxc498WB3dZip5BDoBtKC33QciP12T', 'rwdP8jGqYTa9VvzFJF2mNcZhTALTdA4AiM', {'weight': 35}), ('rwdP8jGqYTa9VvzFJF2mNcZhTALTdA4AiM', 'rHt3Cxc498WB3dZip5BDoBtKC33QciP12T', {'weight': 18}), ('rHt3K3Sp7QyQVApCs69VNUucSXZFwVdcpb', 'rpUCSRmkrGYnKsVD4hhfMNa1kgsedLWueV', {'weight': 22}), ('rpUCSRmkrGYnKsVD4hhfMNa1kgsedLWueV', 'rHt3K3Sp7QyQVApCs69VNUucSXZFwVdcpb', {'weight': 36}), ('rHtSW3H2z2xr6rxYctJVwtgWXBUhxU7fYL', 'rsQTB6QvzwbAUcLrZ7SheShHWD7RSwWCB3', {'weight': 33}), ('rsQTB6QvzwbAUcLrZ7SheShHWD7RSwWCB3', 'rHtSW3H2z2xr6rxYctJVwtgWXBUhxU7fYL', {'weight': 22}), ('rHtUrRKYPH5RuJ1AHrcMDfWCt9ouTPDn6u', 'rUCShw3EbXt27Wd5yoNLDb7qFqd29wmRKp', {'weight': 20}), ('rUCShw3EbXt27Wd5yoNLDb7qFqd29wmRKp', 'rHtUrRKYPH5RuJ1AHrcMDfWCt9ouTPDn6u', {'weight': 36}), ('rHtZ6aZ78PjQ8GgxfA1QNt4FSVkSdZuRcR', 'rQJEQnNdspZKs6c2MigpkgqFKNKjB1nWcj', {'weight': 32}), ('rQJEQnNdspZKs6c2MigpkgqFKNKjB1nWcj', 'rHtZ6aZ78PjQ8GgxfA1QNt4FSVkSdZuRcR', {'weight': 22}), ('rHuNaw5T3CF4CHP4tFpykQuqGP16A1x3kp', 'rn9hQ1vmeNZKYmfrzMkh1udF33w9hoS3vC', {'weight': 31}), ('rn9hQ1vmeNZKYmfrzMkh1udF33w9hoS3vC', 'rHuNaw5T3CF4CHP4tFpykQuqGP16A1x3kp', {'weight': 40}), ('rHuaJ7gv4NeYwETvrUDPAMQjnQ8Zf9DgXX', 'rUXhe2a4T2wzuTbwkeDw22tdjJhMWTGoVY', {'weight': 14}), ('rUXhe2a4T2wzuTbwkeDw22tdjJhMWTGoVY', 'rHuaJ7gv4NeYwETvrUDPAMQjnQ8Zf9DgXX', {'weight': 26}), ('rHuzDddwg8GUQxyVXsb1pCt8FSyJ8EhjdX', 'rJEPscBvxFYDRZekDdcRpeNGXo7xXE4tjJ', {'weight': 11}), ('rJEPscBvxFYDRZekDdcRpeNGXo7xXE4tjJ', 'rHuzDddwg8GUQxyVXsb1pCt8FSyJ8EhjdX', {'weight': 21}), ('rHvDH5kpbqi8L3F3WkA3CQWkVQbCcsxunM', 'rfXAMUXBmZBMTjz8arNgrY7qaG7LypZWgQ', {'weight': 22}), ('rfXAMUXBmZBMTjz8arNgrY7qaG7LypZWgQ', 'rHvDH5kpbqi8L3F3WkA3CQWkVQbCcsxunM', {'weight': 33}), ('rHvMEdhdBSptEENyJsGGEtSh9Z8j94UU27', 'rnCPyhVDv82Ls2zKQyycKbB3YNsXLEnkcs', {'weight': 27}), ('rnCPyhVDv82Ls2zKQyycKbB3YNsXLEnkcs', 'rHvMEdhdBSptEENyJsGGEtSh9Z8j94UU27', {'weight': 16}), ('rHveuZiYG15iFy9NL5Mh3vkmbWoWSjdf7k', 'rf6kX3TdgiRysmy7BRsa4HTVBhw3mMqKg8', {'weight': 11}), ('rf6kX3TdgiRysmy7BRsa4HTVBhw3mMqKg8', 'rHveuZiYG15iFy9NL5Mh3vkmbWoWSjdf7k', {'weight': 20}), ('rHvp6eJw5YFiEoU8jdhmKzApdfqhTNrZBr', 'raD6ibrswW1oxPDKV5JrSQQrTBQSQ3hj57', {'weight': 33}), ('raD6ibrswW1oxPDKV5JrSQQrTBQSQ3hj57', 'rHvp6eJw5YFiEoU8jdhmKzApdfqhTNrZBr', {'weight': 18}), ('rHwDHZnDxfA3yBWxZ2FZ21TyeVwx87j7v7', 'rpmDPVtidrx9fskN1PdE9X94PGKwSUL7hc', {'weight': 32}), ('rpmDPVtidrx9fskN1PdE9X94PGKwSUL7hc', 'rHwDHZnDxfA3yBWxZ2FZ21TyeVwx87j7v7', {'weight': 16}), ('rHwRYvNhoixjomAnDLEF8Le25xS5iAxNFW', 'rKbkMaExTU5E25unvSjs7HzUU1hHM6htLh', {'weight': 15}), ('rKbkMaExTU5E25unvSjs7HzUU1hHM6htLh', 'rHwRYvNhoixjomAnDLEF8Le25xS5iAxNFW', {'weight': 26}), ('rHwtBwJFnsg2exGjNNsfv9gUPbr7yUviJ7', 'rNPsu8CgdXBBe6EH3VvpEiZ4g8x5skL8P6', {'weight': 1}), ('rNPsu8CgdXBBe6EH3VvpEiZ4g8x5skL8P6', 'rHwtBwJFnsg2exGjNNsfv9gUPbr7yUviJ7', {'weight': 5}), ('rHwttYpBHVcdUAxvWHtbSQjacFYUJrRZC4', 'rwVYshFBp7aAGSUGzAjZYnX1G43eg5ppqz', {'weight': 41}), ('rwVYshFBp7aAGSUGzAjZYnX1G43eg5ppqz', 'rHwttYpBHVcdUAxvWHtbSQjacFYUJrRZC4', {'weight': 32}), ('rHwui5mUMctPNYxN6FDb8xhynyzHHtu3u1', 'rhZXK3QUscycR82HDFfUCKtDtLdrzpU6YV', {'weight': 68}), ('rhZXK3QUscycR82HDFfUCKtDtLdrzpU6YV', 'rHwui5mUMctPNYxN6FDb8xhynyzHHtu3u1', {'weight': 82}), ('rHxcRzNew6UAqevh26APMEYf66HLHScBiY', 'rhiZdEgoLU48b52eEN8Y7nuG6WinNZte9S', {'weight': 37}), ('rhiZdEgoLU48b52eEN8Y7nuG6WinNZte9S', 'rHxcRzNew6UAqevh26APMEYf66HLHScBiY', {'weight': 27}), ('rHy4pL27rTmgbwZbkRvVEVRTUKDeQuQC7o', 'rnDQ4WJFJ2azBTMEja4KXgnbtBTnUzHTtk', {'weight': 13}), ('rnDQ4WJFJ2azBTMEja4KXgnbtBTnUzHTtk', 'rHy4pL27rTmgbwZbkRvVEVRTUKDeQuQC7o', {'weight': 26}), ('rHyFmwQQmLvcWJYUcEr62yFLJGRXfi8vYr', 'rnSLFnbQLemMnbAnbVKiyNVTdYfLVtJRCU', {'weight': 40}), ('rnSLFnbQLemMnbAnbVKiyNVTdYfLVtJRCU', 'rHyFmwQQmLvcWJYUcEr62yFLJGRXfi8vYr', {'weight': 31}), ('rHydGjpvheVxqP7KC7A1eX5pGEUTxde7sN', 'rJgAv7zPBsqFg518c7s9tBHn551PP3iQYr', {'weight': 30}), ('rJgAv7zPBsqFg518c7s9tBHn551PP3iQYr', 'rHydGjpvheVxqP7KC7A1eX5pGEUTxde7sN', {'weight': 20}), ('rHyrxFaw14MvLcSj6KoxFHUT7ApinXwzdR', 'rLCSRRWgURWp1eE3oNdKQ2ZpmamfUippfE', {'weight': 17}), ('rLCSRRWgURWp1eE3oNdKQ2ZpmamfUippfE', 'rHyrxFaw14MvLcSj6KoxFHUT7ApinXwzdR', {'weight': 35}), ('rHywBBYMbshMr5s7rhSw2w1QuGPn4mANcA', 'rUcc8wGubcs8BJp67MA7VvaQCfq3imeNoE', {'weight': 33}), ('rUcc8wGubcs8BJp67MA7VvaQCfq3imeNoE', 'rHywBBYMbshMr5s7rhSw2w1QuGPn4mANcA', {'weight': 22}), ('rHyygUCJqeFK4SZVw8hnDz3y4ZAKVAJgCP', 'rhDytdboitDsNQgEk9crni7WUCRZVm7j7S', {'weight': 26}), ('rhDytdboitDsNQgEk9crni7WUCRZVm7j7S', 'rHyygUCJqeFK4SZVw8hnDz3y4ZAKVAJgCP', {'weight': 13}), ('rHzXbm71GY5oNrdQKHbFNru5Jf7TT9UFEB', 'rLxQCtqbpyzEUkrSJAFnCEHJG5kRNzmxKs', {'weight': 15}), ('rLxQCtqbpyzEUkrSJAFnCEHJG5kRNzmxKs', 'rHzXbm71GY5oNrdQKHbFNru5Jf7TT9UFEB', {'weight': 29}), ('rHzZnV68WkEL7XKw1Saoki2VRL2a7CCsgG', 'rpeqBw2Do3kj8FKazhefhsoHmKuPz8Gh86', {'weight': 113}), ('rpeqBw2Do3kj8FKazhefhsoHmKuPz8Gh86', 'rHzZnV68WkEL7XKw1Saoki2VRL2a7CCsgG', {'weight': 99}), ('rHzfhaY7FXmEV6b2s8ah4VrLAJQ1Lp3Yaa', 'rJcy1jqZT4ajDjNQocYvrMbawoE1bHNg9X', {'weight': 13}), ('rJcy1jqZT4ajDjNQocYvrMbawoE1bHNg9X', 'rHzfhaY7FXmEV6b2s8ah4VrLAJQ1Lp3Yaa', {'weight': 23}), ('rJ2vfTScD7c9WpREekCdMnmE94NHVBDPaQ', 'rNAicNFuhHbhrkHAKW8ubfUCfCycpfcAsj', {'weight': 26}), ('rNAicNFuhHbhrkHAKW8ubfUCfCycpfcAsj', 'rJ2vfTScD7c9WpREekCdMnmE94NHVBDPaQ', {'weight': 14}), ('rJ3c6ZhU74C5wqaMdx3teLYyzvXpxznagV', 'rQGS2ZKwz78ezuo2TzV2Ay8AwFsfj91xMM', {'weight': 22}), ('rQGS2ZKwz78ezuo2TzV2Ay8AwFsfj91xMM', 'rJ3c6ZhU74C5wqaMdx3teLYyzvXpxznagV', {'weight': 13}), ('rJ3q54JLvs1pU47XvMuqNMZUS7coqZg3v6', 'rMZkL2nwZ9Pgbp1hwebimNKEjJTLJQp3Po', {'weight': 99}), ('rMZkL2nwZ9Pgbp1hwebimNKEjJTLJQp3Po', 'rJ3q54JLvs1pU47XvMuqNMZUS7coqZg3v6', {'weight': 113}), ('rJ58D4dh6bdR91ebrJUDhGVhSK8rnr9dKe', 'rsAGAHCDBhJYoYFUvKoiRkNpvs4n3Af7Lu', {'weight': 21}), ('rsAGAHCDBhJYoYFUvKoiRkNpvs4n3Af7Lu', 'rJ58D4dh6bdR91ebrJUDhGVhSK8rnr9dKe', {'weight': 30}), ('rJ5WGhuJmHLcYm3wZt73YaFRVrvndtxJRs', 'rPKrmWW7wDkPr7RLQbmESM9LEXPEwn7wkC', {'weight': 20}), ('rPKrmWW7wDkPr7RLQbmESM9LEXPEwn7wkC', 'rJ5WGhuJmHLcYm3wZt73YaFRVrvndtxJRs', {'weight': 31}), ('rJ5dt9Ra3Xrc4cgfSXFj9h35GnybBPT3RX', 'rWUaST1ZaCnTzfbWSrijjPMvzk9LDip2j', {'weight': 24}), ('rWUaST1ZaCnTzfbWSrijjPMvzk9LDip2j', 'rJ5dt9Ra3Xrc4cgfSXFj9h35GnybBPT3RX', {'weight': 34}), ('rJ5tiX5csn9Q5cWBHbVPZTyDSgftEfVgdm', 'rh5j6AsDbPVADdqQR2PeS9qZfRWMAaCa3i', {'weight': 32}), ('rh5j6AsDbPVADdqQR2PeS9qZfRWMAaCa3i', 'rJ5tiX5csn9Q5cWBHbVPZTyDSgftEfVgdm', {'weight': 22}), ('rJ6ATqS9KdtgAGf2SZmsaRLoDmArAvV4G9', 'rJavjQsyaJwvxLWykrnVCfdEZXVasis2xv', {'weight': 31}), ('rJavjQsyaJwvxLWykrnVCfdEZXVasis2xv', 'rJ6ATqS9KdtgAGf2SZmsaRLoDmArAvV4G9', {'weight': 20}), ('rJ6y6oZ1ukSuvi4jDVwMQgqqrJABgXW85u', 'rpMSo4bbZK23Q7Fpzt1P4GGMpUjXgL67Q6', {'weight': 12}), ('rpMSo4bbZK23Q7Fpzt1P4GGMpUjXgL67Q6', 'rJ6y6oZ1ukSuvi4jDVwMQgqqrJABgXW85u', {'weight': 22}), ('rJ7PYydJDQhU4r6LgCuLdnHPhyVonCwqgZ', 'rpsJoko9FPetuR7LvFMGm6Vfr3naWh4fie', {'weight': 29}), ('rpsJoko9FPetuR7LvFMGm6Vfr3naWh4fie', 'rJ7PYydJDQhU4r6LgCuLdnHPhyVonCwqgZ', {'weight': 39}), ('rJ7WchmHyCBtWouKCW8pmkjgQNYZDrs1t3', 'rf8HBBp677R9EK29xHTvhJ9ADocNsVLgVP', {'weight': 21}), ('rf8HBBp677R9EK29xHTvhJ9ADocNsVLgVP', 'rJ7WchmHyCBtWouKCW8pmkjgQNYZDrs1t3', {'weight': 11}), ('rJ8LydQhVphMU1H95DbdJ3UZTeMWMhz2XS', 'rchGBxcD1A1C2tdxF6papQYZ8kjRKMYcL', {'weight': 1}), ('rJ8WjmpvD1UusdJGMQHrsY6LLRH917sKc4', 'rJ8ugY2gaKUMBFPt6mLwpVTeZJw8REYvyf', {'weight': 29}), ('rJ8ugY2gaKUMBFPt6mLwpVTeZJw8REYvyf', 'rJ8WjmpvD1UusdJGMQHrsY6LLRH917sKc4', {'weight': 15}), ('rJ9H2v5CvPNGumQjzryGuUVYWHPwnnYGje', 'rnXpNEszN1XGBWn7fpE7RitHMK6m3BH9Ek', {'weight': 17}), ('rnXpNEszN1XGBWn7fpE7RitHMK6m3BH9Ek', 'rJ9H2v5CvPNGumQjzryGuUVYWHPwnnYGje', {'weight': 30}), ('rJ9LYK7ZJj8BsimXeg9XrTyB4FihvbUf2B', 'rhSLGxpKw5nKfnEpyYdZG9HEMbv72n9Grx', {'weight': 17}), ('rhSLGxpKw5nKfnEpyYdZG9HEMbv72n9Grx', 'rJ9LYK7ZJj8BsimXeg9XrTyB4FihvbUf2B', {'weight': 29}), ('rJ9LZK8wvDM4bH4xeFm1SbNdHg69NPAw6k', 'rJMwgEs5HeEEHptFygr8nWN7qUbwFeugyN', {'weight': 102}), ('rJMwgEs5HeEEHptFygr8nWN7qUbwFeugyN', 'rJ9LZK8wvDM4bH4xeFm1SbNdHg69NPAw6k', {'weight': 87}), ('rJ9zNmYv81oHG3uVEa22py8TK24gbqaLEB', 'rJYkP6NP6p13ivt3eGodhk2hexQTeoB6UM', {'weight': 19}), ('rJYkP6NP6p13ivt3eGodhk2hexQTeoB6UM', 'rJ9zNmYv81oHG3uVEa22py8TK24gbqaLEB', {'weight': 28}), ('rJA2UHpHdokhqeoUHLVhFrkCVecpEqxkW7', 'rMMwcDxqT3dgtY3cUknjEmax2v1u5AzRk3', {'weight': 22}), ('rMMwcDxqT3dgtY3cUknjEmax2v1u5AzRk3', 'rJA2UHpHdokhqeoUHLVhFrkCVecpEqxkW7', {'weight': 33}), ('rJAPW5EJcresNX68pdJQZPzjSd7HxG1nEJ', 'rNKrSXKFGjT1YbWGmUGGMoTtu6fdmWnATX', {'weight': 28}), ('rNKrSXKFGjT1YbWGmUGGMoTtu6fdmWnATX', 'rJAPW5EJcresNX68pdJQZPzjSd7HxG1nEJ', {'weight': 13}), ('rJAmL3jC3r4h7ihygBaQDPYJEA1HBizyCz', 'rf3UX6QhrtKSjJ2aEYAPBy6GbZYMA1RuUZ', {'weight': 26}), ('rf3UX6QhrtKSjJ2aEYAPBy6GbZYMA1RuUZ', 'rJAmL3jC3r4h7ihygBaQDPYJEA1HBizyCz', {'weight': 14}), ('rJAotARqT3cBPiY4MNSM49DacZC178tfYM', 'rmqMNhrQpRkfXzS7gmAsz5rvQ9jw8SWF2', {'weight': 30}), ('rmqMNhrQpRkfXzS7gmAsz5rvQ9jw8SWF2', 'rJAotARqT3cBPiY4MNSM49DacZC178tfYM', {'weight': 16}), ('rJAzdaWWZje95YH7FZw8wJg8NHcYqyAsHq', 'rauimURxV167dA9D8ESYVv6vYFqzsrvN5E', {'weight': 28}), ('rauimURxV167dA9D8ESYVv6vYFqzsrvN5E', 'rJAzdaWWZje95YH7FZw8wJg8NHcYqyAsHq', {'weight': 15}), ('rJCGoM3r4mk2u2VMhoQTrKUVMmx3yd7Tqj', 'rPyrKCbpGAYWMTzPddu1o9cc9AFtc2nJJm', {'weight': 22}), ('rPyrKCbpGAYWMTzPddu1o9cc9AFtc2nJJm', 'rJCGoM3r4mk2u2VMhoQTrKUVMmx3yd7Tqj', {'weight': 33}), ('rJCHriK2sR9KKu86eumbvDwQDFnne4nDqL', 'raAhjaapirC1cbaspWxkNaKoGqADGj6N5t', {'weight': 17}), ('raAhjaapirC1cbaspWxkNaKoGqADGj6N5t', 'rJCHriK2sR9KKu86eumbvDwQDFnne4nDqL', {'weight': 29}), ('rJCT6joBHfwWz4Nn1wmop91jSfH26v5jvK', 'rJf22TGFAJ1GUNPf5knFfXmsD4xGdzXMJr', {'weight': 31}), ('rJf22TGFAJ1GUNPf5knFfXmsD4xGdzXMJr', 'rJCT6joBHfwWz4Nn1wmop91jSfH26v5jvK', {'weight': 22}), ('rJD8JJzjmuP6AKn8ghkhKpcQwoU2Lbwtvw', 'rLHWPgcBpmZ8WBA7PA6rPLvFke1ML3eBrX', {'weight': 25}), ('rLHWPgcBpmZ8WBA7PA6rPLvFke1ML3eBrX', 'rJD8JJzjmuP6AKn8ghkhKpcQwoU2Lbwtvw', {'weight': 34}), ('rJDWKLRTWmaWPFDmK5K1viZHGx6qqApXsa', 'rasFqYpT9wBrB2etLDCLk9aHPd6AWZ7UMJ', {'weight': 50}), ('rasFqYpT9wBrB2etLDCLk9aHPd6AWZ7UMJ', 'rJDWKLRTWmaWPFDmK5K1viZHGx6qqApXsa', {'weight': 39}), ('rJDxe3Eh6C4cVxiXAqxYWpvmM4RXFFksmq', 'rPfnHt8QzMMnucfF5Wn7yyE2VCK68GrecZ', {'weight': 40}), ('rPfnHt8QzMMnucfF5Wn7yyE2VCK68GrecZ', 'rJDxe3Eh6C4cVxiXAqxYWpvmM4RXFFksmq', {'weight': 31}), ('rJE1rAPPsFA7g5E7n3eQZjPCju5bGNN6gi', 'rszQJwBMjA1hawCKo9c9Mggdyf2CxhSGT5', {'weight': 26}), ('rszQJwBMjA1hawCKo9c9Mggdyf2CxhSGT5', 'rJE1rAPPsFA7g5E7n3eQZjPCju5bGNN6gi', {'weight': 16}), ('rJEswZy18XQqTcVQWRf5mK4Zv4LXmZGXhr', 'rUKZsaE8dWVhSrN6wmGQmTgqkWDt72rPXb', {'weight': 30}), ('rUKZsaE8dWVhSrN6wmGQmTgqkWDt72rPXb', 'rJEswZy18XQqTcVQWRf5mK4Zv4LXmZGXhr', {'weight': 42}), ('rJEszyHkZuH1885LABTTxBsi96Z42oPahU', 'rpE4HJQqzkQQtEjXTg9nVAkvsnZDCg1cDi', {'weight': 17}), ('rpE4HJQqzkQQtEjXTg9nVAkvsnZDCg1cDi', 'rJEszyHkZuH1885LABTTxBsi96Z42oPahU', {'weight': 34}), ('rJEw53D49YRR3FJWVCbRqj1FvLb8c8PPtz', 'rKW8MTEeVVu4x6N3cHA6MaL9Bw12AKXjso', {'weight': 46}), ('rKW8MTEeVVu4x6N3cHA6MaL9Bw12AKXjso', 'rJEw53D49YRR3FJWVCbRqj1FvLb8c8PPtz', {'weight': 72}), ('rJFddsXpqxeVKY6Ue23AKNpT9rwQKPGkpw', 'rhCRXPzSREYw7KEvvim9edwBXiK9MoDttq', {'weight': 69}), ('rhCRXPzSREYw7KEvvim9edwBXiK9MoDttq', 'rJFddsXpqxeVKY6Ue23AKNpT9rwQKPGkpw', {'weight': 51}), ('rJFnyzzFxvcY5ANenpMx9HU3VwnX6rXoVt', 'rpo94ZBEFVhNKGjqrDxKdEt6QmBMVENhoS', {'weight': 23}), ('rpo94ZBEFVhNKGjqrDxKdEt6QmBMVENhoS', 'rJFnyzzFxvcY5ANenpMx9HU3VwnX6rXoVt', {'weight': 34}), ('rJGJpMWnujro3xoYSGE46SbzwPBcHYtfw2', 'rMVDgeG7oUNnbiQJEsQpctGxN4fdwZVwXi', {'weight': 41}), ('rMVDgeG7oUNnbiQJEsQpctGxN4fdwZVwXi', 'rJGJpMWnujro3xoYSGE46SbzwPBcHYtfw2', {'weight': 32}), ('rJHXgAKqpZ225ra3DebTLUk3hNcyinXVce', 'rUsFAmujb1WFxeKzE1yttkaKW61gd6wCJF', {'weight': 41}), ('rUsFAmujb1WFxeKzE1yttkaKW61gd6wCJF', 'rJHXgAKqpZ225ra3DebTLUk3hNcyinXVce', {'weight': 30}), ('rJHiaKqKWgd2DHosGioRopHPT9oca5RWhY', 'rnZWCQ4Abr7LxNqV4uWcy1W9P6jji3zyDL', {'weight': 15}), ('rnZWCQ4Abr7LxNqV4uWcy1W9P6jji3zyDL', 'rJHiaKqKWgd2DHosGioRopHPT9oca5RWhY', {'weight': 28}), ('rJJ7gpb8H5ZrKHfhoMuokqLrWqzrKmG8R6', 'rMuFvXAd4p66f7Upez6NDLAF2hvhGfxaB1', {'weight': 14}), ('rMuFvXAd4p66f7Upez6NDLAF2hvhGfxaB1', 'rJJ7gpb8H5ZrKHfhoMuokqLrWqzrKmG8R6', {'weight': 24}), ('rJJLcqy428Cp5tc6AkfE99TZwbDLuvbeGU', 'rKUHDnx7T2M84zMDfNPiDR74aAPXEEeput', {'weight': 28}), ('rKUHDnx7T2M84zMDfNPiDR74aAPXEEeput', 'rJJLcqy428Cp5tc6AkfE99TZwbDLuvbeGU', {'weight': 17}), ('rJJqbyjtnCz5icagGPBCeNrYAEWSjmr3BD', 'rMMQxkittepf2tkrvSXbgRUbaAj6oM75rN', {'weight': 32}), ('rMMQxkittepf2tkrvSXbgRUbaAj6oM75rN', 'rJJqbyjtnCz5icagGPBCeNrYAEWSjmr3BD', {'weight': 41}), ('rJK27QDMKUGT1Mu6JPQVynbzRqN6rd3ezc', 'riQgejbXcgTT71WGXhuTErHEbfAEwbE86', {'weight': 14}), ('riQgejbXcgTT71WGXhuTErHEbfAEwbE86', 'rJK27QDMKUGT1Mu6JPQVynbzRqN6rd3ezc', {'weight': 24}), ('rJKAaRYTLFNUdk8k1xLkQz5MnHuEBVUDYt', 'rUuGKofamXqr6JARV7ixRpVCBmUcSDc3RX', {'weight': 25}), ('rUuGKofamXqr6JARV7ixRpVCBmUcSDc3RX', 'rJKAaRYTLFNUdk8k1xLkQz5MnHuEBVUDYt', {'weight': 15}), ('rJKKXpAAam8iyL2UA91kET6pc1ioqED9vR', 'raR8A8c1LRajGkEybuecUgRktqhuR6CFct', {'weight': 29}), ('raR8A8c1LRajGkEybuecUgRktqhuR6CFct', 'rJKKXpAAam8iyL2UA91kET6pc1ioqED9vR', {'weight': 38}), ('rJKo1vYadf5yADMvYKBTJdnUMhknST1Gz2', 'rUmQwU9wnDiDY7gxeSnNp2UUm6PwDmwPfb', {'weight': 17}), ('rUmQwU9wnDiDY7gxeSnNp2UUm6PwDmwPfb', 'rJKo1vYadf5yADMvYKBTJdnUMhknST1Gz2', {'weight': 27}), ('rJKqNMaFPZruxgvTUxs6992KSFuUQ8iQmL', 'rsPYZMiRp2EsuXDkmnSdR361d2c4okYsjd', {'weight': 26}), ('rsPYZMiRp2EsuXDkmnSdR361d2c4okYsjd', 'rJKqNMaFPZruxgvTUxs6992KSFuUQ8iQmL', {'weight': 15}), ('rJLCKRMgxgL3iLZ78zioYF6DDJ5vJ8Phta', 'rpPnTQoeurMSHxZTC64B8JfQZowFvGeMaN', {'weight': 42}), ('rpPnTQoeurMSHxZTC64B8JfQZowFvGeMaN', 'rJLCKRMgxgL3iLZ78zioYF6DDJ5vJ8Phta', {'weight': 34}), ('rJLHgRnQdaBkmktVds1MVYnBzSXzMzNKTb', 'raPBoQZNMvdhZr1TgGh77RtAUmPJ8xLDB6', {'weight': 29}), ('raPBoQZNMvdhZr1TgGh77RtAUmPJ8xLDB6', 'rJLHgRnQdaBkmktVds1MVYnBzSXzMzNKTb', {'weight': 20}), ('rJLs9YqyY2b3DHudE2nyGHDmHi6XHvhxjj', 'rwmxwQHx4yxm8fpmmXXUPA81ZSoWoKepaY', {'weight': 21}), ('rwmxwQHx4yxm8fpmmXXUPA81ZSoWoKepaY', 'rJLs9YqyY2b3DHudE2nyGHDmHi6XHvhxjj', {'weight': 33}), ('rJMX7DkSKCniDrpNLcQjZFh7qzEGytNcjj', 'rauJfkjFzGbuxDzmZVk3Tiecjj81ZgDsk7', {'weight': 44}), ('rauJfkjFzGbuxDzmZVk3Tiecjj81ZgDsk7', 'rJMX7DkSKCniDrpNLcQjZFh7qzEGytNcjj', {'weight': 35}), ('rJMfaMdLyjPWhAt45ZZc1bKkCqqCWadknP', 'rQKekjcLbAXi8MYX1ARFhsr5mbo2f3TTVA', {'weight': 29}), ('rQKekjcLbAXi8MYX1ARFhsr5mbo2f3TTVA', 'rJMfaMdLyjPWhAt45ZZc1bKkCqqCWadknP', {'weight': 45}), ('rJNA9Y3CZiUZssMB2MKUU2VewJrRk4RLDB', 'rhxZvJqKPcuuATULXJoR7iu1gG8BzNYUkq', {'weight': 34}), ('rhxZvJqKPcuuATULXJoR7iu1gG8BzNYUkq', 'rJNA9Y3CZiUZssMB2MKUU2VewJrRk4RLDB', {'weight': 22}), ('rJNUYCXu62XSk42Ry7TUBxwrEDzLbVaPgC', 'rQJBeXUtZNMJaMQFWkvQEVyVrFBwXcSZ7w', {'weight': 17}), ('rQJBeXUtZNMJaMQFWkvQEVyVrFBwXcSZ7w', 'rJNUYCXu62XSk42Ry7TUBxwrEDzLbVaPgC', {'weight': 26}), ('rJNWCzFbdy3m7LZdd5Q2DgHx3XVoR9hdmH', 'ra2PNat2VkiFvSf8DxfN19sG795dbtq4oK', {'weight': 108}), ('ra2PNat2VkiFvSf8DxfN19sG795dbtq4oK', 'rJNWCzFbdy3m7LZdd5Q2DgHx3XVoR9hdmH', {'weight': 98}), ('rJPCpA5uCJAEFKbiAkqMZVBwGFa1PgDih6', 'rQrjDmjydxrYESkUBUbGsfiEbbv5jJJp2A', {'weight': 18}), ('rQrjDmjydxrYESkUBUbGsfiEbbv5jJJp2A', 'rJPCpA5uCJAEFKbiAkqMZVBwGFa1PgDih6', {'weight': 27}), ('rJQMnodausk3kD4QikMS8d9zK55KSi7g2f', 'rKcJFKczfu6VRtyN2wTAQvQKJtUeyfnYRh', {'weight': 13}), ('rKcJFKczfu6VRtyN2wTAQvQKJtUeyfnYRh', 'rJQMnodausk3kD4QikMS8d9zK55KSi7g2f', {'weight': 25}), ('rJQZSUTLX5oLUVTtnHu4oV1djPx88EzMuJ', 'rNBcHva2qGxYTwfvDN8aYiPLZJZc4mEfBC', {'weight': 22}), ('rNBcHva2qGxYTwfvDN8aYiPLZJZc4mEfBC', 'rJQZSUTLX5oLUVTtnHu4oV1djPx88EzMuJ', {'weight': 33}), ('rJQaCQnsTdBHqKN7pKGdkDECpgQQk4CJkF', 'rprQaFHebZ728RdC9JRXDJ3o6d9fc5Q5fj', {'weight': 79}), ('rprQaFHebZ728RdC9JRXDJ3o6d9fc5Q5fj', 'rJQaCQnsTdBHqKN7pKGdkDECpgQQk4CJkF', {'weight': 56}), ('rJQg4YHqwUv8magkAhhdQ7sQ1ckNr3L88L', 'raa2qQDi8kNjU5ARiekXawi8jjWiU66hUC', {'weight': 67}), ('raa2qQDi8kNjU5ARiekXawi8jjWiU66hUC', 'rJQg4YHqwUv8magkAhhdQ7sQ1ckNr3L88L', {'weight': 42}), ('rJQkzLBJaZQe5WgmyNUdVouU4px49CthXy', 'rXBmrtKPcr5ZRwNbn5A8hUvaU54PUvkCC', {'weight': 28}), ('rXBmrtKPcr5ZRwNbn5A8hUvaU54PUvkCC', 'rJQkzLBJaZQe5WgmyNUdVouU4px49CthXy', {'weight': 41}), ('rJQrc4zKgypKLgUdqJsFD2FoPDMHwoiKj3', 'rUr3r85czHhkEe89xAnZVcgmZawsA1UpPH', {'weight': 21}), ('rUr3r85czHhkEe89xAnZVcgmZawsA1UpPH', 'rJQrc4zKgypKLgUdqJsFD2FoPDMHwoiKj3', {'weight': 29}), ('rJR91B9JZhGNNiKP9KYy2xXnStBqhk2jqU', 'rf5QBDgD7JdgLhwtEN3W14PYfZ1H2pfHMq', {'weight': 20}), ('rf5QBDgD7JdgLhwtEN3W14PYfZ1H2pfHMq', 'rJR91B9JZhGNNiKP9KYy2xXnStBqhk2jqU', {'weight': 29}), ('rJR9FZG5CYhJ3hgjYswtTGWN7Mfv7Zgchg', 'rUwBYCyfR2JP7gT7SmrqXaMPTinnZYuxaq', {'weight': 18}), ('rUwBYCyfR2JP7gT7SmrqXaMPTinnZYuxaq', 'rJR9FZG5CYhJ3hgjYswtTGWN7Mfv7Zgchg', {'weight': 28}), ('rJRCNL55BBeEJNxKTqfDELE37SF9wWGWBB', 'rN2PuQCi7D1YLQRZzRBbBp7wDmiKVZ3M7j', {'weight': 27}), ('rN2PuQCi7D1YLQRZzRBbBp7wDmiKVZ3M7j', 'rJRCNL55BBeEJNxKTqfDELE37SF9wWGWBB', {'weight': 37}), ('rJRESdFscsu3RAggmXAoASdeQrgiAeK66W', 'rwnE18bR4DGrf2Lp9cG9hQ5B4d37PYnLf7', {'weight': 14}), ('rwnE18bR4DGrf2Lp9cG9hQ5B4d37PYnLf7', 'rJRESdFscsu3RAggmXAoASdeQrgiAeK66W', {'weight': 29}), ('rJRQz4Ek9Sp7X3p8nygSnXgWC89rnxqU33', 'rPwretUto5TApCzdntP29sgJoAZ26jDZTs', {'weight': 73}), ('rPwretUto5TApCzdntP29sgJoAZ26jDZTs', 'rJRQz4Ek9Sp7X3p8nygSnXgWC89rnxqU33', {'weight': 52}), ('rJRzea3zsuYhNF9fzB2c8DFaM7vUrfzDsb', 'rNxJK2M7FiGxLnrLgMHmpsHL2jqZycfu1f', {'weight': 21}), ('rNxJK2M7FiGxLnrLgMHmpsHL2jqZycfu1f', 'rJRzea3zsuYhNF9fzB2c8DFaM7vUrfzDsb', {'weight': 31}), ('rJS7YpfPkNCfR1zQxyRRz1Eehh43oD2FYi', 'rchGBxcD1A1C2tdxF6papQYZ8kjRKMYcL', {'weight': 1}), ('rJSFVs9xUm4pQqjwBNqtjRhVdsaqvYEQUC', 'rNL9Xw711WMLRGhRDBHSpQsLDnFa6uMqdF', {'weight': 32}), ('rNL9Xw711WMLRGhRDBHSpQsLDnFa6uMqdF', 'rJSFVs9xUm4pQqjwBNqtjRhVdsaqvYEQUC', {'weight': 18}), ('rJSJAcgXa9137z4D7bUQAjiEgx4jSpiwK7', 'raceLbhYiSofZ4YtX5ptDcuBXB7EByPBTm', {'weight': 57}), ('raceLbhYiSofZ4YtX5ptDcuBXB7EByPBTm', 'rJSJAcgXa9137z4D7bUQAjiEgx4jSpiwK7', {'weight': 76}), ('rJSYpSuaPSjPsuLyJt8UQYnyqzMLQUTnV9', 'rKGD3HzMNs8xYKP8rtDmMFMAdm5cPn8H4C', {'weight': 27}), ('rKGD3HzMNs8xYKP8rtDmMFMAdm5cPn8H4C', 'rJSYpSuaPSjPsuLyJt8UQYnyqzMLQUTnV9', {'weight': 15}), ('rJSe2yZXDhPyG8LaSBPoYwaF6ry16oAQ6P', 'rgRbxTosiNV9uf8UFqCQUnQTLT4gmtgKr', {'weight': 41}), ('rgRbxTosiNV9uf8UFqCQUnQTLT4gmtgKr', 'rJSe2yZXDhPyG8LaSBPoYwaF6ry16oAQ6P', {'weight': 30}), ('rJT2bui9LnfZ2Dm2hmhxxdJ3CgJppzcSFX', 'rfMHgxqwb1dPHfA9kNJbZ15RHFbAtYbPcH', {'weight': 40}), ('rfMHgxqwb1dPHfA9kNJbZ15RHFbAtYbPcH', 'rJT2bui9LnfZ2Dm2hmhxxdJ3CgJppzcSFX', {'weight': 30}), ('rJTohWjF2Dcw5vadUzKJSA8M2TTyjewRgv', 'rKVxs1eejsYTfaeSM5E37SmbkCgFzbL7M1', {'weight': 25}), ('rKVxs1eejsYTfaeSM5E37SmbkCgFzbL7M1', 'rJTohWjF2Dcw5vadUzKJSA8M2TTyjewRgv', {'weight': 38}), ('rJU12Kfve3ksT2gog48SRPDsY6deTruyVq', 'rPNUrin6xL4GA6agShYhUCgACb6m6ttn9t', {'weight': 30}), ('rPNUrin6xL4GA6agShYhUCgACb6m6ttn9t', 'rJU12Kfve3ksT2gog48SRPDsY6deTruyVq', {'weight': 20}), ('rJU2aBM8SavvrrPb4cYgsfLpJigRvEFpzp', 'rp5qBZvFXynnbaNhUPrwWz6yzKrZAVE9rj', {'weight': 11}), ('rp5qBZvFXynnbaNhUPrwWz6yzKrZAVE9rj', 'rJU2aBM8SavvrrPb4cYgsfLpJigRvEFpzp', {'weight': 21}), ('rJUWs5UDLg2Hg6u1yeAR6RpbtBTMG3AC9B', 'rs2hYy3BLBWNQWh7ebx4LsBw8MjCbvfBw5', {'weight': 27}), ('rs2hYy3BLBWNQWh7ebx4LsBw8MjCbvfBw5', 'rJUWs5UDLg2Hg6u1yeAR6RpbtBTMG3AC9B', {'weight': 18}), ('rJUcQn2RoXj1Ck314ZhvC7D8GNDFL38oYb', 'rLtHKSdtEdmeL5AucRbmhJAJ4AmsVKABUN', {'weight': 33}), ('rLtHKSdtEdmeL5AucRbmhJAJ4AmsVKABUN', 'rJUcQn2RoXj1Ck314ZhvC7D8GNDFL38oYb', {'weight': 23}), ('rJUdu4hQjvXR1ytLpuvQNqVUqp3qtA15sS', 'raRHrTWweoj2qBN9ApAW2WfNCgPvsWJot6', {'weight': 75}), ('raRHrTWweoj2qBN9ApAW2WfNCgPvsWJot6', 'rJUdu4hQjvXR1ytLpuvQNqVUqp3qtA15sS', {'weight': 1}), ('rJUeNhFcqJKbEApBP9xFBZRFQK74Qdg2Zj', 'rw8YBqb6bziGAgp5TF4JUM73GsXMDoQ9Sn', {'weight': 31}), ('rw8YBqb6bziGAgp5TF4JUM73GsXMDoQ9Sn', 'rJUeNhFcqJKbEApBP9xFBZRFQK74Qdg2Zj', {'weight': 20}), ('rJUxioAwQc4cEBAPoWX5k4RDiwR2ZZrQm4', 'rUoYseoSPvzhJzvVJuh3TsN3J9YzkDv24L', {'weight': 31}), ('rUoYseoSPvzhJzvVJuh3TsN3J9YzkDv24L', 'rJUxioAwQc4cEBAPoWX5k4RDiwR2ZZrQm4', {'weight': 20}), ('rJUyB5et7BEhnwyipUNurZExkKnDCCevfn', 'rnFRJaDG3qjS1WSXLnq6BjiNvBw3oUHRiQ', {'weight': 22}), ('rnFRJaDG3qjS1WSXLnq6BjiNvBw3oUHRiQ', 'rJUyB5et7BEhnwyipUNurZExkKnDCCevfn', {'weight': 32}), ('rJVgeYKUW3teEeHPski6YzV42SX3guN9Wz', 'rh4M2k9z2syTVUzAnpHNLosV5EVmQ7ctp4', {'weight': 15}), ('rh4M2k9z2syTVUzAnpHNLosV5EVmQ7ctp4', 'rJVgeYKUW3teEeHPski6YzV42SX3guN9Wz', {'weight': 24}), ('rJVt1fHWGWLmCbiP8V5Y3YygCs3WmbciQd', 'rnH4hUs1oxSHffqMDDRj6LVvxVCQxyRanG', {'weight': 17}), ('rnH4hUs1oxSHffqMDDRj6LVvxVCQxyRanG', 'rJVt1fHWGWLmCbiP8V5Y3YygCs3WmbciQd', {'weight': 28}), ('rJW3J43ZkMWnWv35WgTEAEi9rZp48ogwjY', 'rKZFPYXsysegyXjBCqVFLFZr6X7WkT2HG8', {'weight': 15}), ('rKZFPYXsysegyXjBCqVFLFZr6X7WkT2HG8', 'rJW3J43ZkMWnWv35WgTEAEi9rZp48ogwjY', {'weight': 28}), ('rJWCeT2C2BBvuRnxHzd6jxxJLShNTC8uLg', 'rKQS7X7MJiSoKWy7AjJpHiQWx8enp1xBLz', {'weight': 33}), ('rKQS7X7MJiSoKWy7AjJpHiQWx8enp1xBLz', 'rJWCeT2C2BBvuRnxHzd6jxxJLShNTC8uLg', {'weight': 23}), ('rJWsCccw5uMg6BE9GBBsqbPHi9mDBHmzZu', 'rUMHU1pxSSHZdQx71KbBr3jFqvwRD2knsW', {'weight': 41}), ('rUMHU1pxSSHZdQx71KbBr3jFqvwRD2knsW', 'rJWsCccw5uMg6BE9GBBsqbPHi9mDBHmzZu', {'weight': 30}), ('rJWvn1Bsmv3C9dAVxwn9sionC9WeKNSFny', 'rNFnVqdePmSRcqd2cWdY2SyTVVgL1Tr47K', {'weight': 22}), ('rNFnVqdePmSRcqd2cWdY2SyTVVgL1Tr47K', 'rJWvn1Bsmv3C9dAVxwn9sionC9WeKNSFny', {'weight': 34}), ('rJXFwxKQ2N51jwMvoh3QLz1Uy4chBc64PA', 'rwA85JM1wBKJsvb4HH4cHXhGnZKmJxJfFT', {'weight': 38}), ('rwA85JM1wBKJsvb4HH4cHXhGnZKmJxJfFT', 'rJXFwxKQ2N51jwMvoh3QLz1Uy4chBc64PA', {'weight': 46}), ('rJXv5n3u7sgYbkU8aj1C9GbNm6mQL8iLrh', 'rNJFL6KyLYBwKEatZNEe4LRaDzAsvmDra3', {'weight': 25}), ('rNJFL6KyLYBwKEatZNEe4LRaDzAsvmDra3', 'rJXv5n3u7sgYbkU8aj1C9GbNm6mQL8iLrh', {'weight': 34}), ('rJYCjva9UgvttCfcVXGTPpKMUq8rxdJK3Z', 'rPdSURtmYqXVpcckguqnJSc9moJ9LEkQ1a', {'weight': 34}), ('rPdSURtmYqXVpcckguqnJSc9moJ9LEkQ1a', 'rJYCjva9UgvttCfcVXGTPpKMUq8rxdJK3Z', {'weight': 22}), ('rJZ7fMH8zSYNg8rN72myxpcuFgz3xUwGHY', 'rfE5tAGMX6zjo6xn2gQLZ4fmwX7XA7bpEQ', {'weight': 18}), ('rfE5tAGMX6zjo6xn2gQLZ4fmwX7XA7bpEQ', 'rJZ7fMH8zSYNg8rN72myxpcuFgz3xUwGHY', {'weight': 34}), ('rJZC3v9RddWVKpk6Qqz7ARGauNXVeJSkdH', 'rK5heW6aCw9LCFf3YayBmNuaQRpf5mutCW', {'weight': 36}), ('rK5heW6aCw9LCFf3YayBmNuaQRpf5mutCW', 'rJZC3v9RddWVKpk6Qqz7ARGauNXVeJSkdH', {'weight': 45}), ('rJZJ8c7TA7DGRWRPLRdMr4fsSun657GGmZ', 'rfptgQyvkf6DSUCuxFdQ6x2yEGz29QVPNP', {'weight': 55}), ('rfptgQyvkf6DSUCuxFdQ6x2yEGz29QVPNP', 'rJZJ8c7TA7DGRWRPLRdMr4fsSun657GGmZ', {'weight': 76}), ('rJZeqrittr3o5VkXvCxHtZQFvMPgNnM8BQ', 'rQGkfqfhsPHtD6AapZpWr23zEFiyHkDQCo', {'weight': 31}), ('rQGkfqfhsPHtD6AapZpWr23zEFiyHkDQCo', 'rJZeqrittr3o5VkXvCxHtZQFvMPgNnM8BQ', {'weight': 22}), ('rJZqKd3S6TpaBwwj4T89rsTDD7QQ7zMxr6', 'rM5id3pbUUwuSbt3E2yuxXDY7URzJJ1Ysc', {'weight': 41}), ('rM5id3pbUUwuSbt3E2yuxXDY7URzJJ1Ysc', 'rJZqKd3S6TpaBwwj4T89rsTDD7QQ7zMxr6', {'weight': 30}), ('rJa1FgRypngB6s43zGoc8XF7rFttpKmT76', 'rNZTq9ZAj5VQyNdnVJHULED9akjh4wi9yZ', {'weight': 102}), ('rNZTq9ZAj5VQyNdnVJHULED9akjh4wi9yZ', 'rJa1FgRypngB6s43zGoc8XF7rFttpKmT76', {'weight': 87}), ('rJa23KTUQSeVwXDPtFQAX2hHMVYYM1rt8P', 'raKf96oEnNQFh3PpMg5VgFqXUo3ehvLH1T', {'weight': 28}), ('raKf96oEnNQFh3PpMg5VgFqXUo3ehvLH1T', 'rJa23KTUQSeVwXDPtFQAX2hHMVYYM1rt8P', {'weight': 13}), ('rJaownnDeMvWNZxKdo4DMaf1Uoej3UPXHu', 'rUJWQEcdPUvxTQDXGhsbd2A68ozwyfQPxh', {'weight': 66}), ('rUJWQEcdPUvxTQDXGhsbd2A68ozwyfQPxh', 'rJaownnDeMvWNZxKdo4DMaf1Uoej3UPXHu', {'weight': 85}), ('rJapXhsRxXrunby6UBNLTiPQgPFXkCM8n5', 'rhX2cA3GhRRXaEUd1yhY9YN68xUU4ovi2Q', {'weight': 27}), ('rhX2cA3GhRRXaEUd1yhY9YN68xUU4ovi2Q', 'rJapXhsRxXrunby6UBNLTiPQgPFXkCM8n5', {'weight': 17}), ('rJaveAttKrw1eCWKiqJkm5m5DLwZMzjDQT', 'rswHCaSmbJepC4wmUnJCWWFenHpDWNYXV3', {'weight': 21}), ('rswHCaSmbJepC4wmUnJCWWFenHpDWNYXV3', 'rJaveAttKrw1eCWKiqJkm5m5DLwZMzjDQT', {'weight': 29}), ('rJbLfL97tSt2sWtz3cMVfp7BDP8htmuAhB', 'rpxS4rp8o7rUcYcwVEz3YuLgsu4Hxkmssd', {'weight': 26}), ('rpxS4rp8o7rUcYcwVEz3YuLgsu4Hxkmssd', 'rJbLfL97tSt2sWtz3cMVfp7BDP8htmuAhB', {'weight': 13}), ('rJbQqMwKEYpT3rp3cBdZxNb2XVzh3DfQ1Y', 'rwn9mtM6yprmrBJ1b8nUTdxGYmGMX6dDhi', {'weight': 36}), ('rwn9mtM6yprmrBJ1b8nUTdxGYmGMX6dDhi', 'rJbQqMwKEYpT3rp3cBdZxNb2XVzh3DfQ1Y', {'weight': 46}), ('rJbUXrMUqnpQ2R7BxiBTxw9Z7czBW1Q5fB', 'rU5Xio6NWvT99Yu7S4xL4vECoS83SzqfiW', {'weight': 41}), ('rU5Xio6NWvT99Yu7S4xL4vECoS83SzqfiW', 'rJbUXrMUqnpQ2R7BxiBTxw9Z7czBW1Q5fB', {'weight': 30}), ('rJbbLdiF2zHv4GTgF2WsdKZzqLtWjMtnvc', 'rQ96qB8r2KTZYr9SQXuqK1TdyzoUnqrsXb', {'weight': 28}), ('rQ96qB8r2KTZYr9SQXuqK1TdyzoUnqrsXb', 'rJbbLdiF2zHv4GTgF2WsdKZzqLtWjMtnvc', {'weight': 17}), ('rJbgKZ2BfFBzY8uFYvbzhUJ2RRZvKEAZny', 'rJh9tSN4LMQ9pJUa8T2x8Uurbwpj4msQim', {'weight': 40}), ('rJh9tSN4LMQ9pJUa8T2x8Uurbwpj4msQim', 'rJbgKZ2BfFBzY8uFYvbzhUJ2RRZvKEAZny', {'weight': 31}), ('rJchevK2sCAKPYEc1R8Mjs7eFZcWo1AnqP', 'raX2zcEYX3kSdaNYo5zuiTAnBU42UfYTDi', {'weight': 20}), ('raX2zcEYX3kSdaNYo5zuiTAnBU42UfYTDi', 'rJchevK2sCAKPYEc1R8Mjs7eFZcWo1AnqP', {'weight': 29}), ('rJd6WSQfM1bbnfmJpJJdmrUrrEuevK95Zo', 'raPkmbBhBiV87fDKiZibRHh3aTjyEviCaV', {'weight': 14}), ('raPkmbBhBiV87fDKiZibRHh3aTjyEviCaV', 'rJd6WSQfM1bbnfmJpJJdmrUrrEuevK95Zo', {'weight': 25}), ('rJd87jPEx8Pq7qmj9VPU1x3H5SSNoEEdV2', 'rUkkYVGuB7GyTTZ6xDeWLPDwRycnwUFv8x', {'weight': 30}), ('rUkkYVGuB7GyTTZ6xDeWLPDwRycnwUFv8x', 'rJd87jPEx8Pq7qmj9VPU1x3H5SSNoEEdV2', {'weight': 40}), ('rJe429jMH9vXozCQNYsp2f5RyW2TowRPUW', 'rnw3TrueJUqDMx3M2w67KZpX5BRxyHTENV', {'weight': 33}), ('rnw3TrueJUqDMx3M2w67KZpX5BRxyHTENV', 'rJe429jMH9vXozCQNYsp2f5RyW2TowRPUW', {'weight': 21}), ('rJe6E6yRgRZcsshnV1DMK7MZ9GfR9YF7EX', 'rJpmTemXQpCXnXjMrpxvCpnXLn5i54X25m', {'weight': 11}), ('rJpmTemXQpCXnXjMrpxvCpnXLn5i54X25m', 'rJe6E6yRgRZcsshnV1DMK7MZ9GfR9YF7EX', {'weight': 25}), ('rJeEk1rXhBnAZ31qS4M6qWDsA6N4ANmZy9', 'rff3ZQjcAo4cxwt89AV5MPtcfGE2cpaXZq', {'weight': 37}), ('rff3ZQjcAo4cxwt89AV5MPtcfGE2cpaXZq', 'rJeEk1rXhBnAZ31qS4M6qWDsA6N4ANmZy9', {'weight': 27}), ('rJemr9k7Gp4V3wVLYzkMi7hNh6axMKPaGt', 'rhS1Z19zS28LkDcgihbpVe6FjJ5miKkhsD', {'weight': 20}), ('rhS1Z19zS28LkDcgihbpVe6FjJ5miKkhsD', 'rJemr9k7Gp4V3wVLYzkMi7hNh6axMKPaGt', {'weight': 30}), ('rJf6tU9Ha2fgJoZY2rZYw6Sy7g13ETeA4Q', 'rfob5NmeimbSHk3LaafdRGBD96HhKCRS2P', {'weight': 78}), ('rfob5NmeimbSHk3LaafdRGBD96HhKCRS2P', 'rJf6tU9Ha2fgJoZY2rZYw6Sy7g13ETeA4Q', {'weight': 57}), ('rJfP4za37BL9YCk2Vezh5TQHijb8MJhCQ9', 'rpZ4Da6k9LeGnh2ez7fXfftGnQbNSEVu8B', {'weight': 14}), ('rpZ4Da6k9LeGnh2ez7fXfftGnQbNSEVu8B', 'rJfP4za37BL9YCk2Vezh5TQHijb8MJhCQ9', {'weight': 26}), ('rJfgRVcUFAtUC34KT4ZiyCncW9mSvncv87', 'rUSuAM1c7hwdDdweZJBA6JyfZrQnQYxhtU', {'weight': 43}), ('rUSuAM1c7hwdDdweZJBA6JyfZrQnQYxhtU', 'rJfgRVcUFAtUC34KT4ZiyCncW9mSvncv87', {'weight': 34}), ('rJgD4aNYagtAbYfYi6N2hJjP1aFryxwAz2', 'rPbq6QcZf8mDsbQJ5WzsWsV6dLpVXWTx3f', {'weight': 12}), ('rPbq6QcZf8mDsbQJ5WzsWsV6dLpVXWTx3f', 'rJgD4aNYagtAbYfYi6N2hJjP1aFryxwAz2', {'weight': 26}), ('rJgF1iNuqZAzWUmfzeFryxaXYSa4sY2F3u', 'rPzbp3TXXL2eB8tHgF8zrvvTANscUy5hoV', {'weight': 26}), ('rPzbp3TXXL2eB8tHgF8zrvvTANscUy5hoV', 'rJgF1iNuqZAzWUmfzeFryxaXYSa4sY2F3u', {'weight': 15}), ('rJgoGE9r3y8pNQRo2aHwzGxsGCCtWeSEKU', 'rKLUPczbPK1MfWiZy7o69bfSoCVnft1cfZ', {'weight': 31}), ('rKLUPczbPK1MfWiZy7o69bfSoCVnft1cfZ', 'rJgoGE9r3y8pNQRo2aHwzGxsGCCtWeSEKU', {'weight': 42}), ('rJgsmi7R3msuLPRkKJMoEoTU4qnBVvkoqF', 'rLZxAtNP8sMT2r89AtQZsTSRQYiJ9V91Wk', {'weight': 37}), ('rLZxAtNP8sMT2r89AtQZsTSRQYiJ9V91Wk', 'rJgsmi7R3msuLPRkKJMoEoTU4qnBVvkoqF', {'weight': 24}), ('rJhM9ikdFv79ee43SPC2nbCiPQH8eTSfd5', 'rpp48Jf5pUtM2qbT7pLUn5NTcMrchQbaM1', {'weight': 30}), ('rpp48Jf5pUtM2qbT7pLUn5NTcMrchQbaM1', 'rJhM9ikdFv79ee43SPC2nbCiPQH8eTSfd5', {'weight': 21}), ('rJhcbtxy7vi77hRL8Qr2fKaugE88UzQnQ6', 'rK8QD9ytjxnuiq5iXQzYsFLm8ZJDyySMhs', {'weight': 41}), ('rK8QD9ytjxnuiq5iXQzYsFLm8ZJDyySMhs', 'rJhcbtxy7vi77hRL8Qr2fKaugE88UzQnQ6', {'weight': 30}), ('rJhijQYQ1AhjgQNMxKFDvZjs38RbLypcLe', 'rQNqwx2FF5HJnCcz2biJ9M1V3jyihCrMcK', {'weight': 32}), ('rQNqwx2FF5HJnCcz2biJ9M1V3jyihCrMcK', 'rJhijQYQ1AhjgQNMxKFDvZjs38RbLypcLe', {'weight': 22}), ('rJigLehEQGX9n4bnKN8iBRuf5xdmsNyEC1', 'rf98wrBUeJovdG1x35ByfiMAUZf6sBVu6K', {'weight': 34}), ('rf98wrBUeJovdG1x35ByfiMAUZf6sBVu6K', 'rJigLehEQGX9n4bnKN8iBRuf5xdmsNyEC1', {'weight': 18}), ('rJjWYqLeJ1as5exCZw6H2baNkKmteDwt2L', 'reygZasySyoEPW2kv31pMeH6ayZvWCv7D', {'weight': 26}), ('reygZasySyoEPW2kv31pMeH6ayZvWCv7D', 'rJjWYqLeJ1as5exCZw6H2baNkKmteDwt2L', {'weight': 17}), ('rJkDMHQNjcWy4U3fhvQJay9wcJHzJHQc8V', 'rf8NU2yG3mZBaxMKyrU2jkKBqcwHVE7Aru', {'weight': 19}), ('rf8NU2yG3mZBaxMKyrU2jkKBqcwHVE7Aru', 'rJkDMHQNjcWy4U3fhvQJay9wcJHzJHQc8V', {'weight': 28}), ('rJknZo4meLyrzTAbW2ruEosomUZ9u5fYPP', 'rPW81d9PDqqh23EYX1okMhzwqtixP7ZUPi', {'weight': 27}), ('rPW81d9PDqqh23EYX1okMhzwqtixP7ZUPi', 'rJknZo4meLyrzTAbW2ruEosomUZ9u5fYPP', {'weight': 16}), ('rJmDHDuUmCvtRRaTsE5UATJwQcNxUiH2Qn', 'rPybn7iMYzsFdftFL5RsQYZd2VRZzaV4yS', {'weight': 102}), ('rPybn7iMYzsFdftFL5RsQYZd2VRZzaV4yS', 'rJmDHDuUmCvtRRaTsE5UATJwQcNxUiH2Qn', {'weight': 88}), ('rJmRXhqnTx9vZX7FeXv4EhsPYXKavhxej2', 'rfWRKurkZ1Y4Td7BuuCLDDzxqDoYjznfYt', {'weight': 30}), ('rfWRKurkZ1Y4Td7BuuCLDDzxqDoYjznfYt', 'rJmRXhqnTx9vZX7FeXv4EhsPYXKavhxej2', {'weight': 16}), ('rJmUGujkDDK1Vyjii4H6Ft4vbTjsnJhJnc', 'rKPDoWAfjbKp6jce4f12v8ffJDASKy3rAh', {'weight': 22}), ('rKPDoWAfjbKp6jce4f12v8ffJDASKy3rAh', 'rJmUGujkDDK1Vyjii4H6Ft4vbTjsnJhJnc', {'weight': 34}), ('rJmVtpzchwcbbZfjndD3fu8nSeLsEpaZro', 'rf854ErGYtCKpMR1AQfg3SApPWgixeHtMa', {'weight': 30}), ('rf854ErGYtCKpMR1AQfg3SApPWgixeHtMa', 'rJmVtpzchwcbbZfjndD3fu8nSeLsEpaZro', {'weight': 20}), ('rJmvftphMNHytJpd3TMKXqGyqvSfRmsfRR', 'rKHkMvjyNDoCpLmc2HG26CHWPrfZpBa8rs', {'weight': 21}), ('rKHkMvjyNDoCpLmc2HG26CHWPrfZpBa8rs', 'rJmvftphMNHytJpd3TMKXqGyqvSfRmsfRR', {'weight': 11}), ('rJmyW7V7qLPoaH1r42MH22eKTsznf712Hm', 'rnFvDbijY2YMR4JGohN5mu7aMGcKw2MtrU', {'weight': 31}), ('rnFvDbijY2YMR4JGohN5mu7aMGcKw2MtrU', 'rJmyW7V7qLPoaH1r42MH22eKTsznf712Hm', {'weight': 39}), ('rJnDtS59KUSWKsddzVymUCLZPjUPPrRLzm', 'rM75cCsWqxQnHSPkyuc1HhYq9oBJQFgdMN', {'weight': 1}), ('rM75cCsWqxQnHSPkyuc1HhYq9oBJQFgdMN', 'rJnDtS59KUSWKsddzVymUCLZPjUPPrRLzm', {'weight': 38}), ('rJnW1gptAndJCSpL6oaQjGvw4bRHm4mhY3', 'rwjghfh9XnyyZ5JDktvS5mnCgmv8e7nwPU', {'weight': 12}), ('rwjghfh9XnyyZ5JDktvS5mnCgmv8e7nwPU', 'rJnW1gptAndJCSpL6oaQjGvw4bRHm4mhY3', {'weight': 21}), ('rJpGganuvfFCEXT75aL5p9MiE3iXk7oWKb', 'rw11kQWFXoayvHrJPMARSK7vMCjyZZCHT1', {'weight': 33}), ('rw11kQWFXoayvHrJPMARSK7vMCjyZZCHT1', 'rJpGganuvfFCEXT75aL5p9MiE3iXk7oWKb', {'weight': 21}), ('rJphamWwr6DeJutJHwfbKEfo6194jH2mkw', 'rfkgv1DaXaxBWwt6TZmNqpt4mf2qx4AK41', {'weight': 28}), ('rfkgv1DaXaxBWwt6TZmNqpt4mf2qx4AK41', 'rJphamWwr6DeJutJHwfbKEfo6194jH2mkw', {'weight': 13}), ('rJq5FixPtTFjpkUVXDqARAgEZ2weRYRKe2', 'raWCNNAVxFWntTYpFBdbybiiQCtxhaqrYJ', {'weight': 45}), ('raWCNNAVxFWntTYpFBdbybiiQCtxhaqrYJ', 'rJq5FixPtTFjpkUVXDqARAgEZ2weRYRKe2', {'weight': 37}), ('rJqbnL9SL5hEXw9UmTfdT1dhDDCu8zMgNa', 'rPwAVhUQQ8xW5beqgp9rrqxnH9g86DkBaf', {'weight': 46}), ('rPwAVhUQQ8xW5beqgp9rrqxnH9g86DkBaf', 'rJqbnL9SL5hEXw9UmTfdT1dhDDCu8zMgNa', {'weight': 36}), ('rJr435TZAY5FRudh6s2MMSbddzp8cr6YPX', 'rwbsJmR1zaoCPHZcbtLZnCk5iV5hQ7ZDqr', {'weight': 30}), ('rwbsJmR1zaoCPHZcbtLZnCk5iV5hQ7ZDqr', 'rJr435TZAY5FRudh6s2MMSbddzp8cr6YPX', {'weight': 19}), ('rJrmwBdH9bhLe8FiEkLZ2kEte4hmw3baiG', 'rhVHJwTYsTWMwzGRa9dxxFs4GEBt7cNPQc', {'weight': 27}), ('rhVHJwTYsTWMwzGRa9dxxFs4GEBt7cNPQc', 'rJrmwBdH9bhLe8FiEkLZ2kEte4hmw3baiG', {'weight': 17}), ('rJs8T8B4ei6Jm7quz4zo1KcMvnZNtbK1ES', 'rPVPefb3kKUTNYEVRTCPf1kEzUZjp8fP6h', {'weight': 37}), ('rPVPefb3kKUTNYEVRTCPf1kEzUZjp8fP6h', 'rJs8T8B4ei6Jm7quz4zo1KcMvnZNtbK1ES', {'weight': 28}), ('rJsKvJeSQUL5huiJYJe2Uban2Gtomgpmc4', 'rhN9y28peMwmapn13kS5MrYx4iSVnfR8if', {'weight': 37}), ('rhN9y28peMwmapn13kS5MrYx4iSVnfR8if', 'rJsKvJeSQUL5huiJYJe2Uban2Gtomgpmc4', {'weight': 24}), ('rJuYHGcwhvcpR592LkAnKfS75snwyZaFGw', 'rLzqUphaw4EY19Y83avddxPdHXLyBdSwDi', {'weight': 29}), ('rLzqUphaw4EY19Y83avddxPdHXLyBdSwDi', 'rJuYHGcwhvcpR592LkAnKfS75snwyZaFGw', {'weight': 38}), ('rJuaCM5yE8dTfkcGS2siKbwGxdq51nEZAw', 'rLxrXxsVk8BKVqLHpeXcVoUo7N8qtYF9u9', {'weight': 76}), ('rLxrXxsVk8BKVqLHpeXcVoUo7N8qtYF9u9', 'rJuaCM5yE8dTfkcGS2siKbwGxdq51nEZAw', {'weight': 56}), ('rJumU2aZmeVhBWR7qyf4dgc7ZaGsb9pwn5', 'rPwc3WS7bKDcMk5GViHffhyGwAdERVYz2L', {'weight': 1}), ('rPwc3WS7bKDcMk5GViHffhyGwAdERVYz2L', 'rJumU2aZmeVhBWR7qyf4dgc7ZaGsb9pwn5', {'weight': 39}), ('rJv172pfTNBrMyqHPEUJiLnQeU2457qjpu', 'ra8rmPm1U9yVeUUTLc36GGq4bqNHXRZ3vX', {'weight': 28}), ('ra8rmPm1U9yVeUUTLc36GGq4bqNHXRZ3vX', 'rJv172pfTNBrMyqHPEUJiLnQeU2457qjpu', {'weight': 15}), ('rJvLFEeWttsnv6kfpN6euV4z9KyDhqzJCE', 'rLxw6GNiyAcb8KnVQx3u91XhJd9ScikhMx', {'weight': 34}), ('rLxw6GNiyAcb8KnVQx3u91XhJd9ScikhMx', 'rJvLFEeWttsnv6kfpN6euV4z9KyDhqzJCE', {'weight': 24}), ('rJvQtGAhcgZwyvXwvAZ5qVp6Tw9fUSNFPj', 'rw97fN83DVECLsWBjeLQCKGLbGM2jHbBxQ', {'weight': 46}), ('rw97fN83DVECLsWBjeLQCKGLbGM2jHbBxQ', 'rJvQtGAhcgZwyvXwvAZ5qVp6Tw9fUSNFPj', {'weight': 36}), ('rJvtMpZtnP2ZRS7THxwrPVwtPCRTcXLgtK', 'rskv1EZvFvFKUdFtSxpiZ25RpHbZtGNZMC', {'weight': 16}), ('rskv1EZvFvFKUdFtSxpiZ25RpHbZtGNZMC', 'rJvtMpZtnP2ZRS7THxwrPVwtPCRTcXLgtK', {'weight': 26}), ('rJw88LnpmhEGKNmdcF87cGsTXurs8CE8pw', 'rN6g1uW7yRwtFARfATBmZz2wV542TthQY', {'weight': 76}), ('rN6g1uW7yRwtFARfATBmZz2wV542TthQY', 'rJw88LnpmhEGKNmdcF87cGsTXurs8CE8pw', {'weight': 92}), ('rJwHYqXX93CAisZProkevYuAEv6uQKmdvu', 'rUzrmSiQWA6MDFecGDj6Xydwq3ZEqEeZqF', {'weight': 21}), ('rUzrmSiQWA6MDFecGDj6Xydwq3ZEqEeZqF', 'rJwHYqXX93CAisZProkevYuAEv6uQKmdvu', {'weight': 11}), ('rJwLY5bGBiedgARBqBvtmzFfsadRk31JiG', 'rLwTf8S9TGk6h5D5SJFBSDeHnHQpyqNgcL', {'weight': 32}), ('rLwTf8S9TGk6h5D5SJFBSDeHnHQpyqNgcL', 'rJwLY5bGBiedgARBqBvtmzFfsadRk31JiG', {'weight': 21}), ('rJwVRLELhEiBjcou8n7eT5Un94ThQ2Euhn', 'rppvF7Nb9z4VXNgnWgqvX4WigLoGzFZjCD', {'weight': 29}), ('rppvF7Nb9z4VXNgnWgqvX4WigLoGzFZjCD', 'rJwVRLELhEiBjcou8n7eT5Un94ThQ2Euhn', {'weight': 20}), ('rJx64q9w4T4YcnoUJiE5XX1Fgp1PuBupax', 'rwx6Jaxggi4yPsJt8dsPSYi1HDTRCjgnFp', {'weight': 30}), ('rwx6Jaxggi4yPsJt8dsPSYi1HDTRCjgnFp', 'rJx64q9w4T4YcnoUJiE5XX1Fgp1PuBupax', {'weight': 16}), ('rJx8e1NzS4SRs4aXVBtkcB7EjGMALZ4GNq', 'rh1uugooyw9oN777LqoNR9xRagfR3Dzj9D', {'weight': 32}), ('rh1uugooyw9oN777LqoNR9xRagfR3Dzj9D', 'rJx8e1NzS4SRs4aXVBtkcB7EjGMALZ4GNq', {'weight': 23}), ('rJxYE3xwm953ikpww2ZEgJJa1Hn5nsmqLF', 'rPkRFJwqkJxT4DP5uzDHgtvDuDjGhFSZ9z', {'weight': 16}), ('rPkRFJwqkJxT4DP5uzDHgtvDuDjGhFSZ9z', 'rJxYE3xwm953ikpww2ZEgJJa1Hn5nsmqLF', {'weight': 29}), ('rJzzyaNxuke566p5BJbu8cTBTAMDkvZSsa', 'rNrNELaSYCHRTKNTLbAWevPPPX9GuELit5', {'weight': 30}), ('rNrNELaSYCHRTKNTLbAWevPPPX9GuELit5', 'rJzzyaNxuke566p5BJbu8cTBTAMDkvZSsa', {'weight': 16}), ('rK1CGiriGdGBTz93wRFSkuemMo6RgsA8PX', 'rfJbAPbVC48NFc2pgcjFMrRokxfXVy6CAu', {'weight': 16}), ('rfJbAPbVC48NFc2pgcjFMrRokxfXVy6CAu', 'rK1CGiriGdGBTz93wRFSkuemMo6RgsA8PX', {'weight': 31}), ('rK1soexoJ8FMhtUCgsrMnPjnPNBRC2tNYs', 'rpBa8uLmhUpsS5x5kBQ9sp7bZgC5QUmfNG', {'weight': 40}), ('rpBa8uLmhUpsS5x5kBQ9sp7bZgC5QUmfNG', 'rK1soexoJ8FMhtUCgsrMnPjnPNBRC2tNYs', {'weight': 51}), ('rK2jmfYMceXZHYU21VVdMPd2gmDHYpu2WC', 'rUKeYv4UabPxq5BAoSZhz58Ekgkc3hSWoY', {'weight': 20}), ('rUKeYv4UabPxq5BAoSZhz58Ekgkc3hSWoY', 'rK2jmfYMceXZHYU21VVdMPd2gmDHYpu2WC', {'weight': 11}), ('rK38k5WhJYGjbxiNBYs3dnU1oQMowhpC1q', 'rnv4bQWdgsXG7iwyvu2Bg1ynjvAfY3G6Wn', {'weight': 24}), ('rnv4bQWdgsXG7iwyvu2Bg1ynjvAfY3G6Wn', 'rK38k5WhJYGjbxiNBYs3dnU1oQMowhpC1q', {'weight': 34}), ('rK3B5f76cRE8GoQkNfnaHU7kJdX6RNUsTj', 'rPz12r5mJ45pGzu82x1k4MpSCe7mpFPWzj', {'weight': 106}), ('rPz12r5mJ45pGzu82x1k4MpSCe7mpFPWzj', 'rK3B5f76cRE8GoQkNfnaHU7kJdX6RNUsTj', {'weight': 89}), ('rK3pdw5WnmWxQ4T9NPNWdQFU7fSNyp9jcP', 'rMCdN7ZUXWqFvUBNgHyq2v7JY2uv7TEepQ', {'weight': 17}), ('rMCdN7ZUXWqFvUBNgHyq2v7JY2uv7TEepQ', 'rK3pdw5WnmWxQ4T9NPNWdQFU7fSNyp9jcP', {'weight': 28}), ('rK3vMLBvMhS3arZD7cptqQ2u96sunuyj6L', 'rYzYhLZ8N1PjLYRdybadpXJFpUZ5KaKeE', {'weight': 21}), ('rYzYhLZ8N1PjLYRdybadpXJFpUZ5KaKeE', 'rK3vMLBvMhS3arZD7cptqQ2u96sunuyj6L', {'weight': 30}), ('rK3wD1LAVF9uCY2Mtfe7xnq9cvedmLXpg6', 'rMrdEHDEZgkDRVE3WaUtS9VLAdQMEwNaN1', {'weight': 20}), ('rMrdEHDEZgkDRVE3WaUtS9VLAdQMEwNaN1', 'rK3wD1LAVF9uCY2Mtfe7xnq9cvedmLXpg6', {'weight': 31}), ('rK4KaSLRBnzw1z1WXv1e9DMa3TtwBdFaUR', 'rfUbyh3LcK6br9i3W4rN9WcRJWiNEjbxQm', {'weight': 15}), ('rfUbyh3LcK6br9i3W4rN9WcRJWiNEjbxQm', 'rK4KaSLRBnzw1z1WXv1e9DMa3TtwBdFaUR', {'weight': 26}), ('rK4Q1dRAqx6DmwcGDuy5txQHAbHecp5DKA', 'rw27Xc9hc8KqQakRZazaX1ZSaG47WrLwQv', {'weight': 25}), ('rw27Xc9hc8KqQakRZazaX1ZSaG47WrLwQv', 'rK4Q1dRAqx6DmwcGDuy5txQHAbHecp5DKA', {'weight': 16}), ('rK4QeQhBAucebg4UTVcXk8tu1U6nszrdWf', 'rnw8Qabwd7PaZGLWFetdkyMqPqekXZ9YjF', {'weight': 40}), ('rnw8Qabwd7PaZGLWFetdkyMqPqekXZ9YjF', 'rK4QeQhBAucebg4UTVcXk8tu1U6nszrdWf', {'weight': 26}), ('rK4TvfewiySd5oG3pdfcrR4wAakZAfe2gE', 'rU5uCpLFd8L98v4paxuBBGzA33n2fmcpJj', {'weight': 21}), ('rU5uCpLFd8L98v4paxuBBGzA33n2fmcpJj', 'rK4TvfewiySd5oG3pdfcrR4wAakZAfe2gE', {'weight': 35}), ('rK4pUcG9S3r5tQaXdGQ9oZZzJJH3yPd8Qy', 'rPuzpNPuSowEytkqiWkej9yfmHjgPR72vv', {'weight': 27}), ('rPuzpNPuSowEytkqiWkej9yfmHjgPR72vv', 'rK4pUcG9S3r5tQaXdGQ9oZZzJJH3yPd8Qy', {'weight': 15}), ('rK5snA5W9rwhbnkNLjivJjPLhskaZda93M', 'rNsQXgmDNHVff8YGPvkLd6856toNmJDGV5', {'weight': 17}), ('rNsQXgmDNHVff8YGPvkLd6856toNmJDGV5', 'rK5snA5W9rwhbnkNLjivJjPLhskaZda93M', {'weight': 35}), ('rK64rWRnMzQeuz95TNAtr6NBWCU9BKKASU', 'rsR4vZzujcLGSk91c9TXLp5UWi2k8gafmY', {'weight': 30}), ('rsR4vZzujcLGSk91c9TXLp5UWi2k8gafmY', 'rK64rWRnMzQeuz95TNAtr6NBWCU9BKKASU', {'weight': 17}), ('rK6RyXUnuiPX4X79yQGKhPHv8tvePBLicK', 'rnNT85FUP8mH7KEBftR6rmrZgQgtRy6BoE', {'weight': 25}), ('rnNT85FUP8mH7KEBftR6rmrZgQgtRy6BoE', 'rK6RyXUnuiPX4X79yQGKhPHv8tvePBLicK', {'weight': 16}), ('rK6bTTyR1bgoUB9B4ncKtuw611KpqG39f8', 'rKsZG7p2BRwTQBit11A4MTQ1CYwfhU9vMj', {'weight': 14}), ('rKsZG7p2BRwTQBit11A4MTQ1CYwfhU9vMj', 'rK6bTTyR1bgoUB9B4ncKtuw611KpqG39f8', {'weight': 24}), ('rK7RX5ejqF5ioJorvKowRnDJjvJRgiKc71', 'rwGvYWNfmEVNPtk41wADUZeSZdf41ZsB9h', {'weight': 40}), ('rwGvYWNfmEVNPtk41wADUZeSZdf41ZsB9h', 'rK7RX5ejqF5ioJorvKowRnDJjvJRgiKc71', {'weight': 29}), ('rK8993KHfAyVfHifxy32U4K2BFkdtfoW6f', 'rVF3eJAuG687M4Ay7b3wKVEF28EqnmoQz', {'weight': 17}), ('rVF3eJAuG687M4Ay7b3wKVEF28EqnmoQz', 'rK8993KHfAyVfHifxy32U4K2BFkdtfoW6f', {'weight': 34}), ('rK8fkVLqRUKsNevhR5rxFsa5ishEJ4nHg8', 'rh86dZeNjx5Gtq6crdjbmdq477S7e7bjjT', {'weight': 20}), ('rh86dZeNjx5Gtq6crdjbmdq477S7e7bjjT', 'rK8fkVLqRUKsNevhR5rxFsa5ishEJ4nHg8', {'weight': 1}), ('rK9PoxJ2jqD7EcvvoThSp96FKKB8PRcyTc', 'rU6a5vfPrpR52cNqxPjVpCwayVTbYEgCon', {'weight': 15}), ('rU6a5vfPrpR52cNqxPjVpCwayVTbYEgCon', 'rK9PoxJ2jqD7EcvvoThSp96FKKB8PRcyTc', {'weight': 27}), ('rK9rPaSvf9tEZYzhXbsJ4Rq74fDqKh949Z', 'rwi6HGdpJ5A9wfHWChmtR9FTwLW4romhUo', {'weight': 26}), ('rwi6HGdpJ5A9wfHWChmtR9FTwLW4romhUo', 'rK9rPaSvf9tEZYzhXbsJ4Rq74fDqKh949Z', {'weight': 15}), ('rKA78BaCiK9HiHLwRpfugbt7N7UyhcMx55', 'rhbaXmNC17Y7ymofG7qW3CWK2Yrvrap6tS', {'weight': 13}), ('rhbaXmNC17Y7ymofG7qW3CWK2Yrvrap6tS', 'rKA78BaCiK9HiHLwRpfugbt7N7UyhcMx55', {'weight': 25}), ('rKAJYV7opPZ3uYD51Husa3Hczw3CsNFzUf', 'rKwLQ2jw4co6mCg3jVx9ZPdS6kGCg8B3or', {'weight': 20}), ('rKwLQ2jw4co6mCg3jVx9ZPdS6kGCg8B3or', 'rKAJYV7opPZ3uYD51Husa3Hczw3CsNFzUf', {'weight': 31}), ('rKAYoPDoDs7Gdt9CMKvuspgb1YAAxukbDi', 'rUfAexfeNgwoJoQdCUHuNPALZXUMMkY8fP', {'weight': 37}), ('rUfAexfeNgwoJoQdCUHuNPALZXUMMkY8fP', 'rKAYoPDoDs7Gdt9CMKvuspgb1YAAxukbDi', {'weight': 25}), ('rKBMcNV8xwVHvw9nNk3WCZtnnXuGiggaoe', 'rQNHoQJNBoRSN8U16ufcqrFDYwYCgqguQY', {'weight': 33}), ('rQNHoQJNBoRSN8U16ufcqrFDYwYCgqguQY', 'rKBMcNV8xwVHvw9nNk3WCZtnnXuGiggaoe', {'weight': 22}), ('rKBSxeQ9ogPmRFdiNHgdm7qyJxvKU5aKcN', 'rUhagfXuMZjHUyhbmXAnvf7s9a7iy9s8W6', {'weight': 28}), ('rUhagfXuMZjHUyhbmXAnvf7s9a7iy9s8W6', 'rKBSxeQ9ogPmRFdiNHgdm7qyJxvKU5aKcN', {'weight': 17}), ('rKBkpzeyXPCzYBmhtwuVG6oW3KPJYuxKHf', 'rah26mqZB3HJX4UXvUKJDrG9vFH4styS2b', {'weight': 18}), ('rah26mqZB3HJX4UXvUKJDrG9vFH4styS2b', 'rKBkpzeyXPCzYBmhtwuVG6oW3KPJYuxKHf', {'weight': 31}), ('rKC5ot3UgWp7NqnhvsUgUnLSui6b4LhGhm', 'rMusTQt4H51mc8eLHYBRmbudtRoydof7mb', {'weight': 26}), ('rMusTQt4H51mc8eLHYBRmbudtRoydof7mb', 'rKC5ot3UgWp7NqnhvsUgUnLSui6b4LhGhm', {'weight': 35}), ('rKCgTVwEmEKr3ydRGk1RJC8Ht7PKEoU8Sz', 'rPwQQc4HKjU1Sxxx19zCRmhA4eLKXb2TGV', {'weight': 12}), ('rPwQQc4HKjU1Sxxx19zCRmhA4eLKXb2TGV', 'rKCgTVwEmEKr3ydRGk1RJC8Ht7PKEoU8Sz', {'weight': 23}), ('rKCshhiShzV5rn57P4aQ8rXxztRV1rjukL', 'rU2ZA5LHdLotMQghXAZ86RvpqH6SxntVzM', {'weight': 13}), ('rU2ZA5LHdLotMQghXAZ86RvpqH6SxntVzM', 'rKCshhiShzV5rn57P4aQ8rXxztRV1rjukL', {'weight': 28}), ('rKDjDifQkxXbkFWXzNCBHFt7Sgn4FNFg6W', 'rLeVvgYAq3avxg9P4QJcnGCSoGKx8TNLG', {'weight': 31}), ('rLeVvgYAq3avxg9P4QJcnGCSoGKx8TNLG', 'rKDjDifQkxXbkFWXzNCBHFt7Sgn4FNFg6W', {'weight': 21}), ('rKEezVe2Y5N4X9N6eATh7aNcW6ogKTjSvk', 'rL2zgfv4BZVtqLNTg9auvHiSt9DJTYcLBM', {'weight': 11}), ('rL2zgfv4BZVtqLNTg9auvHiSt9DJTYcLBM', 'rKEezVe2Y5N4X9N6eATh7aNcW6ogKTjSvk', {'weight': 21}), ('rKEfa37m7zT76ZjUufnSx8YSYy7mC5xYed', 'rPW5JWfuVkgEEBfoVT7dVUfb1kBRPN9n1W', {'weight': 21}), ('rPW5JWfuVkgEEBfoVT7dVUfb1kBRPN9n1W', 'rKEfa37m7zT76ZjUufnSx8YSYy7mC5xYed', {'weight': 33}), ('rKEnC3d7ugiD11kPfjTN5LPG3zFkqgJBeN', 'raFB1fNg8bHMcYi1MLJ9icjQScnrvB49QS', {'weight': 28}), ('raFB1fNg8bHMcYi1MLJ9icjQScnrvB49QS', 'rKEnC3d7ugiD11kPfjTN5LPG3zFkqgJBeN', {'weight': 18}), ('rKFAbk6xqWxW2tY67DHk4cyCRUq945fa8V', 'rUvwa6H6spcoci5vtVEkL8wbQXDrSXQG5', {'weight': 15}), ('rUvwa6H6spcoci5vtVEkL8wbQXDrSXQG5', 'rKFAbk6xqWxW2tY67DHk4cyCRUq945fa8V', {'weight': 27}), ('rKFBKViXXb97EFxVuy4xq3aut9FTMggeea', 'rnQrcjn358DVZMFeJ8YGtsZZj2PdsASvAk', {'weight': 21}), ('rnQrcjn358DVZMFeJ8YGtsZZj2PdsASvAk', 'rKFBKViXXb97EFxVuy4xq3aut9FTMggeea', {'weight': 36}), ('rKFYndTiy4ajuErkPnkQShD12gthjWJBqn', 'raHmj1epS3Rn3MN4sZET4e9kB56Qn8YJKQ', {'weight': 28}), ('raHmj1epS3Rn3MN4sZET4e9kB56Qn8YJKQ', 'rKFYndTiy4ajuErkPnkQShD12gthjWJBqn', {'weight': 19}), ('rKG8fS2hC9DAe1E1GxZXN5kaP1Y5KooJoQ', 'rLXGap5UgdgiUeWYKf8tN4gy6gNoe1sYHE', {'weight': 23}), ('rLXGap5UgdgiUeWYKf8tN4gy6gNoe1sYHE', 'rKG8fS2hC9DAe1E1GxZXN5kaP1Y5KooJoQ', {'weight': 32}), ('rKGKb9xoFCTxrJYNisnUv6NU9YvxFxJ5Sm', 'rhPsA1UjJDfCcUbcJvu6Uz3d21xRuxhSSJ', {'weight': 35}), ('rhPsA1UjJDfCcUbcJvu6Uz3d21xRuxhSSJ', 'rKGKb9xoFCTxrJYNisnUv6NU9YvxFxJ5Sm', {'weight': 23}), ('rKGT59EehbngiLE5tmyjGEhT62sn31iJ6', 'rhNfcoDrPcuFBT5sYsu2y5yP5XPaEWbpDA', {'weight': 22}), ('rhNfcoDrPcuFBT5sYsu2y5yP5XPaEWbpDA', 'rKGT59EehbngiLE5tmyjGEhT62sn31iJ6', {'weight': 36}), ('rKHTM7JHET9bYHoQw19t645f8Ys1ByyvdP', 'rPttDe1wxSUAA9ePBAyVPsptResXfMPrpj', {'weight': 72}), ('rPttDe1wxSUAA9ePBAyVPsptResXfMPrpj', 'rKHTM7JHET9bYHoQw19t645f8Ys1ByyvdP', {'weight': 92}), ('rKHXMtSu9qhFi35T5hcqVQ9M4ECYw4PKRh', 'rstvhzDgxxg4YRKxBTBb8cCNbcuC55HmDz', {'weight': 36}), ('rstvhzDgxxg4YRKxBTBb8cCNbcuC55HmDz', 'rKHXMtSu9qhFi35T5hcqVQ9M4ECYw4PKRh', {'weight': 25}), ('rKHcYtbBYMfsqEnuyMgsPG9MFcnBFFmHwX', 'rUcPm6Pboioi7t9JpBaPRbosugC968RUiF', {'weight': 21}), ('rUcPm6Pboioi7t9JpBaPRbosugC968RUiF', 'rKHcYtbBYMfsqEnuyMgsPG9MFcnBFFmHwX', {'weight': 30}), ('rKHgMwsqKHEQB31A1RU16SnJ6SAq2hWewX', 'rhrFJgrJRLo2PryrMqcj7MekR2EhU8cX4h', {'weight': 29}), ('rhrFJgrJRLo2PryrMqcj7MekR2EhU8cX4h', 'rKHgMwsqKHEQB31A1RU16SnJ6SAq2hWewX', {'weight': 17}), ('rKHm4VFaKWwgBvgErVh668Ax2CVMu5X42s', 'rUjuNGfSpLdP2ShbdD8M9U8s8SF4acUpwy', {'weight': 17}), ('rUjuNGfSpLdP2ShbdD8M9U8s8SF4acUpwy', 'rKHm4VFaKWwgBvgErVh668Ax2CVMu5X42s', {'weight': 27}), ('rKHmujuEcTfnqqQWdHBzoxHYjgT8iPg6JS', 'rUeq9b7x26DkX1seMp2H6dA68cVav9X2ZU', {'weight': 25}), ('rUeq9b7x26DkX1seMp2H6dA68cVav9X2ZU', 'rKHmujuEcTfnqqQWdHBzoxHYjgT8iPg6JS', {'weight': 13}), ('rKHqg2AFSJvYnW9a3zLTBADZEB6pPRZZnz', 'rNFs2YPuUHyPC77334XABhAN7wFGKVzRZM', {'weight': 76}), ('rNFs2YPuUHyPC77334XABhAN7wFGKVzRZM', 'rKHqg2AFSJvYnW9a3zLTBADZEB6pPRZZnz', {'weight': 56}), ('rKJcBTk7chAACbFF2XmkGi5nwke1w8BTPU', 'rKU7uW2eW7sDUJmqeb83NoVpn8easvWGv4', {'weight': 35}), ('rKU7uW2eW7sDUJmqeb83NoVpn8easvWGv4', 'rKJcBTk7chAACbFF2XmkGi5nwke1w8BTPU', {'weight': 24}), ('rKJtgBJJH3SzWf6sqmJ8App5gNFT1hrAHz', 'rfqicxKMefXUGXAFRmq6xSFCdkaaMZQRCx', {'weight': 17}), ('rfqicxKMefXUGXAFRmq6xSFCdkaaMZQRCx', 'rKJtgBJJH3SzWf6sqmJ8App5gNFT1hrAHz', {'weight': 27}), ('rKK5SawXw686c5bPcUcSYvjUVSDq1e4YJe', 'rnfMwAj56o9CQvgsFkKUyC2BZQFFw9eggK', {'weight': 18}), ('rnfMwAj56o9CQvgsFkKUyC2BZQFFw9eggK', 'rKK5SawXw686c5bPcUcSYvjUVSDq1e4YJe', {'weight': 28}), ('rKKdCjRDnRpx4twzG9VBHgeYZMEhNBjNmo', 'rhVMfWRHRiP3iUoX6STYttuvwYWr5pfwqP', {'weight': 40}), ('rhVMfWRHRiP3iUoX6STYttuvwYWr5pfwqP', 'rKKdCjRDnRpx4twzG9VBHgeYZMEhNBjNmo', {'weight': 31}), ('rKKzNpNM4xSwD5gXjAh6BJRN8hhSeA5zTe', 'rUfxax2SF2k8nGh6AypZ48ivurzUUwVt89', {'weight': 30}), ('rUfxax2SF2k8nGh6AypZ48ivurzUUwVt89', 'rKKzNpNM4xSwD5gXjAh6BJRN8hhSeA5zTe', {'weight': 16}), ('rKLT6JNK4rP6R3Gpr4Hw7va9gt8ijtc8Db', 'rfqgmCB2wPgNDo9CN1VKbKN2v5eCSh3aAT', {'weight': 46}), ('rfqgmCB2wPgNDo9CN1VKbKN2v5eCSh3aAT', 'rKLT6JNK4rP6R3Gpr4Hw7va9gt8ijtc8Db', {'weight': 37}), ('rKLukRipesbcmxkFGuvJ6ubyubvQ9jbvu', 'rsUXwkrhGDbfeeCPayZ6qzikPkfFKa6Sej', {'weight': 36}), ('rsUXwkrhGDbfeeCPayZ6qzikPkfFKa6Sej', 'rKLukRipesbcmxkFGuvJ6ubyubvQ9jbvu', {'weight': 24}), ('rKLyRukoWHZERoVH2qGzZ5qGBzYidxmoTS', 'rw5hPRfbFLpnsjijrAWsEHTgDpE5n5jWdr', {'weight': 20}), ('rw5hPRfbFLpnsjijrAWsEHTgDpE5n5jWdr', 'rKLyRukoWHZERoVH2qGzZ5qGBzYidxmoTS', {'weight': 29}), ('rKMmbXHxpkZBfg7MCLCXdHLoNtAdDfpJ57', 'rKVeHFuJjC2edUjtX22ZfRdxt8b3b8147B', {'weight': 28}), ('rKVeHFuJjC2edUjtX22ZfRdxt8b3b8147B', 'rKMmbXHxpkZBfg7MCLCXdHLoNtAdDfpJ57', {'weight': 15}), ('rKMr1nTdTPKD9EfnFWVVq9wn5gQZ7X7Kbk', 'rs1ndSF6sFR8cPW6JVyrYQbA7aXVbznV67', {'weight': 14}), ('rs1ndSF6sFR8cPW6JVyrYQbA7aXVbznV67', 'rKMr1nTdTPKD9EfnFWVVq9wn5gQZ7X7Kbk', {'weight': 24}), ('rKMvB1Pj3T9Wv2DApSrCLMuJmukDzTt2yw', 'rhQwhkXr2ZeK2AWPLeLQnXmfCgPD1CZHih', {'weight': 25}), ('rhQwhkXr2ZeK2AWPLeLQnXmfCgPD1CZHih', 'rKMvB1Pj3T9Wv2DApSrCLMuJmukDzTt2yw', {'weight': 16}), ('rKMy5cwhCi6QpshTaqjwQGysQmMBcDZVWm', 'rpHRcVwPu7QZdcu2D2vWFv49BYzqBZXQgk', {'weight': 82}), ('rpHRcVwPu7QZdcu2D2vWFv49BYzqBZXQgk', 'rKMy5cwhCi6QpshTaqjwQGysQmMBcDZVWm', {'weight': 96}), ('rKN5U5D9nACNo5Af96UaM9gLEyNRJSYXGg', 'raojt8ResME83uGoas3cMkyKPUEXESGHvX', {'weight': 43}), ('raojt8ResME83uGoas3cMkyKPUEXESGHvX', 'rKN5U5D9nACNo5Af96UaM9gLEyNRJSYXGg', {'weight': 27}), ('rKN7GMsXsMzhpHjoNduvTNaYBEc8yqzJ4z', 'rPwo7JTGVmuawPJApJDMpn1ZR3ZYXepKza', {'weight': 29}), ('rPwo7JTGVmuawPJApJDMpn1ZR3ZYXepKza', 'rKN7GMsXsMzhpHjoNduvTNaYBEc8yqzJ4z', {'weight': 14}), ('rKNMLdZqF2hdys4btDiz5mCr39hfAFe19H', 'raH8Kt16mBRi757gmXXQcU2utH9xtYX4MX', {'weight': 22}), ('raH8Kt16mBRi757gmXXQcU2utH9xtYX4MX', 'rKNMLdZqF2hdys4btDiz5mCr39hfAFe19H', {'weight': 36}), ('rKPS7PBDryoZqvTbx2ojvX4cSXywaetNsZ', 'rMwW42h6Ag5k468Xfk2R5Gqr5YLqs3Aec9', {'weight': 16}), ('rMwW42h6Ag5k468Xfk2R5Gqr5YLqs3Aec9', 'rKPS7PBDryoZqvTbx2ojvX4cSXywaetNsZ', {'weight': 29}), ('rKPUzk7n7n5WgWYH1iamdU8UnsyVRxa6Wc', 'rfpQYi9f1w14JZkkJ4VyVcyhsH8xkuuEdL', {'weight': 18}), ('rfpQYi9f1w14JZkkJ4VyVcyhsH8xkuuEdL', 'rKPUzk7n7n5WgWYH1iamdU8UnsyVRxa6Wc', {'weight': 28}), ('rKPs5Gd2j5bnnjNELehDDBgthsmBwKJ1ZK', 'rNUh4xA6ticn4yZ8iC76srV9p4iLj4KWau', {'weight': 12}), ('rNUh4xA6ticn4yZ8iC76srV9p4iLj4KWau', 'rKPs5Gd2j5bnnjNELehDDBgthsmBwKJ1ZK', {'weight': 26}), ('rKQKP7QKJpjHoxDLSRofeXKrTamHgWdo1g', 'rhYD4quLSW8VkufyHa48RuSHevSkPQ9aby', {'weight': 83}), ('rhYD4quLSW8VkufyHa48RuSHevSkPQ9aby', 'rKQKP7QKJpjHoxDLSRofeXKrTamHgWdo1g', {'weight': 64}), ('rKQZwvLKeUSWKSTPuajyGzbDodwKJf23KR', 'rcgBh7TXZL6uvpaDW7Djm5t2c7LfPJ7C4', {'weight': 35}), ('rcgBh7TXZL6uvpaDW7Djm5t2c7LfPJ7C4', 'rKQZwvLKeUSWKSTPuajyGzbDodwKJf23KR', {'weight': 43}), ('rKRb8U1fwfBRPGYWyFpwa33Lr5UiyqPKya', 'rntn6NnPEN9x3Rj2JDYVKUzx5eKgULJhCR', {'weight': 22}), ('rntn6NnPEN9x3Rj2JDYVKUzx5eKgULJhCR', 'rKRb8U1fwfBRPGYWyFpwa33Lr5UiyqPKya', {'weight': 34}), ('rKS2ebWEHCgpr7AmC7ggMoP9gKLP8wtP1m', 'rPGZZCUQUnRjboVoTY5nz9Jks31FEtKH5z', {'weight': 45}), ('rPGZZCUQUnRjboVoTY5nz9Jks31FEtKH5z', 'rKS2ebWEHCgpr7AmC7ggMoP9gKLP8wtP1m', {'weight': 36}), ('rKSJi8Gb2HPwjszgELUinaMbjEoZt4i2hV', 'rUyr4CtmPcRfG3K8xnyziJXMohDi9LrcZa', {'weight': 38}), ('rUyr4CtmPcRfG3K8xnyziJXMohDi9LrcZa', 'rKSJi8Gb2HPwjszgELUinaMbjEoZt4i2hV', {'weight': 25}), ('rKSKgJpWKmPDjgYByMCmmbHVHrR7wrxwo7', 'rPPxKo1goZNNTfk9AccaAVEHvo7gKDFjQ9', {'weight': 21}), ('rPPxKo1goZNNTfk9AccaAVEHvo7gKDFjQ9', 'rKSKgJpWKmPDjgYByMCmmbHVHrR7wrxwo7', {'weight': 11}), ('rKSWQAPSwnCFysFRUSnH1pGWxfgmE5mgEn', 'rgXrNszms7nRTTbtuugbfDfxC3yrZqCbt', {'weight': 27}), ('rgXrNszms7nRTTbtuugbfDfxC3yrZqCbt', 'rKSWQAPSwnCFysFRUSnH1pGWxfgmE5mgEn', {'weight': 15}), ('rKSc2gM6QqH6nkKZTZGe83xWN9iAVNzFUC', 'rL2TMSoy8JeBrzd5zaoRMyek3PqV7LAA3V', {'weight': 18}), ('rL2TMSoy8JeBrzd5zaoRMyek3PqV7LAA3V', 'rKSc2gM6QqH6nkKZTZGe83xWN9iAVNzFUC', {'weight': 33}), ('rKSo4XeyzYJwpUsXztJViZj9Xav6rM5wPA', 'rpamQRU8fPvMjS7sh53c79Beme3wxUuAiJ', {'weight': 19}), ('rpamQRU8fPvMjS7sh53c79Beme3wxUuAiJ', 'rKSo4XeyzYJwpUsXztJViZj9Xav6rM5wPA', {'weight': 32}), ('rKT9jv4a6kcgAGrufhDQjQXaUF9JB1pi2s', 'rPgmbnWaXs2hcR1ZfiNYuHGaswZFjFutZ', {'weight': 24}), ('rPgmbnWaXs2hcR1ZfiNYuHGaswZFjFutZ', 'rKT9jv4a6kcgAGrufhDQjQXaUF9JB1pi2s', {'weight': 33}), ('rKTEu1D5xzXVJGsCxenjxn2b2YEjwtUy6C', 'rfVjoAbgUx52JTddmJHQKCBLy9ef9yjAUZ', {'weight': 33}), ('rfVjoAbgUx52JTddmJHQKCBLy9ef9yjAUZ', 'rKTEu1D5xzXVJGsCxenjxn2b2YEjwtUy6C', {'weight': 22}), ('rKTZ8n5yivx9kFdRnmytvcmToDPvYEt2mj', 'rL1SJWtynGNDzRnRsTRbcYGjzDs8h3HYXk', {'weight': 14}), ('rL1SJWtynGNDzRnRsTRbcYGjzDs8h3HYXk', 'rKTZ8n5yivx9kFdRnmytvcmToDPvYEt2mj', {'weight': 29}), ('rKTuJcob7MMuwR21LcEjVwHWiCirioWhmP', 'rsxvZfuyhTXfFUGzWdQ5m3H2mXatuEUpGr', {'weight': 25}), ('rsxvZfuyhTXfFUGzWdQ5m3H2mXatuEUpGr', 'rKTuJcob7MMuwR21LcEjVwHWiCirioWhmP', {'weight': 14}), ('rKU92Z944o5Z3o5sYL5XVjAZprYwa1imEq', 'rUFJwJNQw9tLM3fy6Wczsdf2WNvsNxzc6X', {'weight': 13}), ('rUFJwJNQw9tLM3fy6Wczsdf2WNvsNxzc6X', 'rKU92Z944o5Z3o5sYL5XVjAZprYwa1imEq', {'weight': 28}), ('rKUcGCD5scTWVizXjKGwJdYNGYPhPiQww4', 'rns8giycRbTViMepDWCVJ5S6TEGPaN3Hic', {'weight': 20}), ('rns8giycRbTViMepDWCVJ5S6TEGPaN3Hic', 'rKUcGCD5scTWVizXjKGwJdYNGYPhPiQww4', {'weight': 30}), ('rKVBpVh2ZfyctZ3VXRSrmH3A4KoTBpGdJJ', 'rLZ4SLJqzuiEoxRfeUZuhLQyNZxxMPLXKe', {'weight': 33}), ('rLZ4SLJqzuiEoxRfeUZuhLQyNZxxMPLXKe', 'rKVBpVh2ZfyctZ3VXRSrmH3A4KoTBpGdJJ', {'weight': 22}), ('rKVWR6icm9XhB7awjjMqeuoYwXz2hSWdYi', 'rsNmcKUURPjg7arYosXtMErATnxBqUKC7M', {'weight': 27}), ('rsNmcKUURPjg7arYosXtMErATnxBqUKC7M', 'rKVWR6icm9XhB7awjjMqeuoYwXz2hSWdYi', {'weight': 14}), ('rKVdnNTHsP3UxbTaup8tGR6GXFNH91SrCs', 'rL6hH62hZfCJzTjg4TTuKEN5CFJ9Y5jRRJ', {'weight': 22}), ('rL6hH62hZfCJzTjg4TTuKEN5CFJ9Y5jRRJ', 'rKVdnNTHsP3UxbTaup8tGR6GXFNH91SrCs', {'weight': 33}), ('rKW1v2CqX8u99pf97q2TiSyZzGeXZsFQ9Q', 'rpnjJZ5zjsYsEYN8eEwWkAy3dZT5S3h3iF', {'weight': 23}), ('rpnjJZ5zjsYsEYN8eEwWkAy3dZT5S3h3iF', 'rKW1v2CqX8u99pf97q2TiSyZzGeXZsFQ9Q', {'weight': 35}), ('rKWjHnUBFT2uTivmZn8FfHLDAv8MH4AJ78', 'rNqu67RfKu53grwiByisuw29K8oQXmqTZF', {'weight': 31}), ('rNqu67RfKu53grwiByisuw29K8oQXmqTZF', 'rKWjHnUBFT2uTivmZn8FfHLDAv8MH4AJ78', {'weight': 20}), ('rKX8TaWLnhKf9RnagFzoYc1HDtCvJbEnV8', 'rfGdYD5o7cGAQfbgzMtwJD6Lnsv3JMEkS1', {'weight': 29}), ('rfGdYD5o7cGAQfbgzMtwJD6Lnsv3JMEkS1', 'rKX8TaWLnhKf9RnagFzoYc1HDtCvJbEnV8', {'weight': 39}), ('rKXmP1yTR48p4jTVqQ2ukfGAFdGPierfpo', 'rw3BowA7DmjWViJxvnzuq7TGGaZ7B1vDjL', {'weight': 26}), ('rw3BowA7DmjWViJxvnzuq7TGGaZ7B1vDjL', 'rKXmP1yTR48p4jTVqQ2ukfGAFdGPierfpo', {'weight': 35}), ('rKXnNAfzGjCt9G52sVooDRX2kzDM85B3kt', 'rLtDjfg873CXB28ym2VccHUHrab7j7WR9L', {'weight': 33}), ('rLtDjfg873CXB28ym2VccHUHrab7j7WR9L', 'rKXnNAfzGjCt9G52sVooDRX2kzDM85B3kt', {'weight': 22}), ('rKY1ZRaCey6HVZ8trgEzF29prJSZKC7qXW', 'rP66EVa1CrbbRJTACcqUGPg653ykyDMLUb', {'weight': 30}), ('rP66EVa1CrbbRJTACcqUGPg653ykyDMLUb', 'rKY1ZRaCey6HVZ8trgEzF29prJSZKC7qXW', {'weight': 19}), ('rKYym7LiMkjbznubVeCdhiPZCg9azZSnr4', 'rqBVfcWF8xJijZGmWUm7DmyQJZFAXXn8A', {'weight': 15}), ('rqBVfcWF8xJijZGmWUm7DmyQJZFAXXn8A', 'rKYym7LiMkjbznubVeCdhiPZCg9azZSnr4', {'weight': 28}), ('rKZN1RgD1oxYnUm4kt9neb24hajVPU9ci9', 'rar2ALKzJSqnFFaU9E1jaRcZth3bu4fPNs', {'weight': 30}), ('rar2ALKzJSqnFFaU9E1jaRcZth3bu4fPNs', 'rKZN1RgD1oxYnUm4kt9neb24hajVPU9ci9', {'weight': 19}), ('rKa3XT2BGUmqq3fEpDBo6abEcHE6JfUpTd', 'rh9CEftstzvqGZbRGw4boq7SjZH5P7rp7E', {'weight': 29}), ('rh9CEftstzvqGZbRGw4boq7SjZH5P7rp7E', 'rKa3XT2BGUmqq3fEpDBo6abEcHE6JfUpTd', {'weight': 39}), ('rKaJjYUNUzDoxU4Je7m7ZyKnmWapk45L5x', 'rnzksGSFhnVS6iJ4fZY8gcR3EqXSGWCbA9', {'weight': 95}), ('rnzksGSFhnVS6iJ4fZY8gcR3EqXSGWCbA9', 'rKaJjYUNUzDoxU4Je7m7ZyKnmWapk45L5x', {'weight': 110}), ('rKbPQ8YWhybS3R2kxhTBcGh1KvxNhnZi9q', 'rUDXQpCmfv1wZ59cfHAdb2j4QY23TLDGPJ', {'weight': 92}), ('rUDXQpCmfv1wZ59cfHAdb2j4QY23TLDGPJ', 'rKbPQ8YWhybS3R2kxhTBcGh1KvxNhnZi9q', {'weight': 108}), ('rKbXa7q9fGAxfsqF4GiEsLm8CHHxPfaKun', 'rpN2prpi2yuvTeSKWbC6q1eKfDf4WLZ8e7', {'weight': 32}), ('rpN2prpi2yuvTeSKWbC6q1eKfDf4WLZ8e7', 'rKbXa7q9fGAxfsqF4GiEsLm8CHHxPfaKun', {'weight': 17}), ('rKbuEZy4tfiztg6dSFHwksikNpKTu9B48g', 'raSwtRmHQRxycsmcSwDjxtv8rZcs9bzNPW', {'weight': 29}), ('raSwtRmHQRxycsmcSwDjxtv8rZcs9bzNPW', 'rKbuEZy4tfiztg6dSFHwksikNpKTu9B48g', {'weight': 14}), ('rKcLmLnFLAVp2bki1jN3nYqKCWVtgfVcHK', 'rnxRXLZzZs49JYiy4fEmyAupeASU2xCyJd', {'weight': 30}), ('rnxRXLZzZs49JYiy4fEmyAupeASU2xCyJd', 'rKcLmLnFLAVp2bki1jN3nYqKCWVtgfVcHK', {'weight': 42}), ('rKd6Yvk8GGqqTs3obZtnV3WJvaqsEcukdU', 'rn9pZAnSckkZHhwRKtMemx2Dc9oA835SHS', {'weight': 22}), ('rn9pZAnSckkZHhwRKtMemx2Dc9oA835SHS', 'rKd6Yvk8GGqqTs3obZtnV3WJvaqsEcukdU', {'weight': 31}), ('rKdY8b52qBx25RaXKEnzjp6cuHpKQLtgdK', 'rwzvcUQBHSBS4CjbeceAXAtWr4TCqWYkEf', {'weight': 32}), ('rwzvcUQBHSBS4CjbeceAXAtWr4TCqWYkEf', 'rKdY8b52qBx25RaXKEnzjp6cuHpKQLtgdK', {'weight': 21}), ('rKdcBRrGgvcBiFYdswwPVVuCVck6W1vTam', 'rnTH64bZCws2sdvxDGe1Bsrz8m2deJ3dP7', {'weight': 24}), ('rnTH64bZCws2sdvxDGe1Bsrz8m2deJ3dP7', 'rKdcBRrGgvcBiFYdswwPVVuCVck6W1vTam', {'weight': 36}), ('rKf4uYioHeWYrdCHxzF9kvsdVfdVzCq9rU', 'rfCB3cx6yAN5EhjBdNYCCZ5v3S6593rafn', {'weight': 31}), ('rfCB3cx6yAN5EhjBdNYCCZ5v3S6593rafn', 'rKf4uYioHeWYrdCHxzF9kvsdVfdVzCq9rU', {'weight': 15}), ('rKfSQguXqrut6MpsD8ZzMnNgDZAdRagbXv', 'rKrS87cy1r4fkaodtkwXFDD6f9A6yoNcSz', {'weight': 76}), ('rKrS87cy1r4fkaodtkwXFDD6f9A6yoNcSz', 'rKfSQguXqrut6MpsD8ZzMnNgDZAdRagbXv', {'weight': 90}), ('rKg1pn2xTwhjTS5C5vV2HU28CTcHNRh8rm', 'rsaidDS4yTaAJ1dqBXGPSpxTqLK46Raiuu', {'weight': 27}), ('rsaidDS4yTaAJ1dqBXGPSpxTqLK46Raiuu', 'rKg1pn2xTwhjTS5C5vV2HU28CTcHNRh8rm', {'weight': 15}), ('rKg24ocuM5pqseFaSNvsSCQ2HwWsSoE6af', 'rs9pfFCy398arozvwnV98sf3DWJBJLgR9o', {'weight': 20}), ('rs9pfFCy398arozvwnV98sf3DWJBJLgR9o', 'rKg24ocuM5pqseFaSNvsSCQ2HwWsSoE6af', {'weight': 31}), ('rKghh7PAdKMUAwCGHL7iTaZHcaGAz5i85W', 'rUS8jRhRYsKPJn6s8nCctn4kKLHXvDN8h1', {'weight': 13}), ('rUS8jRhRYsKPJn6s8nCctn4kKLHXvDN8h1', 'rKghh7PAdKMUAwCGHL7iTaZHcaGAz5i85W', {'weight': 25}), ('rKgtC4X2pnYcDKWz6BkD94CrMxCa5nZ4Qh', 'rft3xZDHFK2CcWausqP8FvfcHG6fZmx2xd', {'weight': 74}), ('rft3xZDHFK2CcWausqP8FvfcHG6fZmx2xd', 'rKgtC4X2pnYcDKWz6BkD94CrMxCa5nZ4Qh', {'weight': 89}), ('rKhCaatGMhVraKXtiDDUnQwzigaNk2Gn2j', 'rfzKGoAJqTTsX5FNpwz4UFLeUY4PhCBtap', {'weight': 34}), ('rfzKGoAJqTTsX5FNpwz4UFLeUY4PhCBtap', 'rKhCaatGMhVraKXtiDDUnQwzigaNk2Gn2j', {'weight': 22}), ('rKiUKLPmANEAQD5UyR1epU8VCJeCDy4LWY', 'rshcTSDuuEDQv3uTFKfJN3X9hnif4DE16D', {'weight': 37}), ('rshcTSDuuEDQv3uTFKfJN3X9hnif4DE16D', 'rKiUKLPmANEAQD5UyR1epU8VCJeCDy4LWY', {'weight': 47}), ('rKihd9Yxo7PP1FWnDbuqbt7jGeqfg3ksjL', 'raFHuW6q9ze8xCpHe829uS3R8LreXQJXvv', {'weight': 98}), ('raFHuW6q9ze8xCpHe829uS3R8LreXQJXvv', 'rKihd9Yxo7PP1FWnDbuqbt7jGeqfg3ksjL', {'weight': 112}), ('rKj3DEXtGAxHP3bqqz6HG7pfgzsT2i6mdp', 'rUVpQorBuW8t5LfCqUezwb6vWUhnbWPC7B', {'weight': 15}), ('rUVpQorBuW8t5LfCqUezwb6vWUhnbWPC7B', 'rKj3DEXtGAxHP3bqqz6HG7pfgzsT2i6mdp', {'weight': 26}), ('rKjbojDHf2mZQLLBwxR9pRZ7HtVWpTSTPn', 'rsU1qv7cS9Sw2ksWRnwGfuXn5LCLVYFXzL', {'weight': 24}), ('rsU1qv7cS9Sw2ksWRnwGfuXn5LCLVYFXzL', 'rKjbojDHf2mZQLLBwxR9pRZ7HtVWpTSTPn', {'weight': 35}), ('rKkZJwu4y2LszFq21VgywUumE7MfZasjvL', 'rpBddAx9WQ4za5sM7XHYfCg6DEkar8UzEt', {'weight': 41}), ('rpBddAx9WQ4za5sM7XHYfCg6DEkar8UzEt', 'rKkZJwu4y2LszFq21VgywUumE7MfZasjvL', {'weight': 63}), ('rKkf3s6ZxFKPpbtV1HZ2kJztBamHQwsf7G', 'raHceLutdB76gbcFvpSnokZRDSqaYZzYjt', {'weight': 27}), ('raHceLutdB76gbcFvpSnokZRDSqaYZzYjt', 'rKkf3s6ZxFKPpbtV1HZ2kJztBamHQwsf7G', {'weight': 17}), ('rKksZZUucj1kkb7hKZs9hVnfQBeuJv9CXi', 'rnbAu3AHDT1HS3KnkyY3kGjpVa1wAQR7BZ', {'weight': 41}), ('rnbAu3AHDT1HS3KnkyY3kGjpVa1wAQR7BZ', 'rKksZZUucj1kkb7hKZs9hVnfQBeuJv9CXi', {'weight': 32}), ('rKm4g6z73M6SmdGoXyjyjJmQPPcy6xVZSp', 'rNKVdLHsFfPY6jfHWjF2twuzuH6rfek2t8', {'weight': 38}), ('rNKVdLHsFfPY6jfHWjF2twuzuH6rfek2t8', 'rKm4g6z73M6SmdGoXyjyjJmQPPcy6xVZSp', {'weight': 28}), ('rKmxWTva1QWobMstu4yKwa9E8M8n4jXoY4', 'rhAuH1fo1KgA4Bb2KbwnGf6Fy7r5N4HqQ3', {'weight': 39}), ('rhAuH1fo1KgA4Bb2KbwnGf6Fy7r5N4HqQ3', 'rKmxWTva1QWobMstu4yKwa9E8M8n4jXoY4', {'weight': 27}), ('rKnrj2hXqxggYxHxdDTSvSCLUtgM12pswx', 'rL5BRJD9dKyzXq91HRSsfHwsdUJZJhY3oS', {'weight': 18}), ('rL5BRJD9dKyzXq91HRSsfHwsdUJZJhY3oS', 'rKnrj2hXqxggYxHxdDTSvSCLUtgM12pswx', {'weight': 31}), ('rKoDc54Tv6bPDsTbkcYDD2DCKXvuQSfAtp', 'rffLtAFUkWP7pbucenNppSvsXN8PPwedvN', {'weight': 32}), ('rffLtAFUkWP7pbucenNppSvsXN8PPwedvN', 'rKoDc54Tv6bPDsTbkcYDD2DCKXvuQSfAtp', {'weight': 16}), ('rKoc7tYfRUycdWx3WyutBgA7zzQvBWpHne', 'rnRJutTki5gT55cuzisgdF2iTjxBeoQkgh', {'weight': 31}), ('rnRJutTki5gT55cuzisgdF2iTjxBeoQkgh', 'rKoc7tYfRUycdWx3WyutBgA7zzQvBWpHne', {'weight': 20}), ('rKoyASc15cjD6sFQs4w9nvX3GRVXkAHt4t', 'rpnScMMLsTdFofHpLwTFrUAT5F4kSKggiq', {'weight': 24}), ('rpnScMMLsTdFofHpLwTFrUAT5F4kSKggiq', 'rKoyASc15cjD6sFQs4w9nvX3GRVXkAHt4t', {'weight': 34}), ('rKp5UfKmYnfWmV4ZDuVtW4yccXSGj4kUgZ', 'raxh9fogMhzU3t8trzABLPwN1Y1VPtFL1F', {'weight': 31}), ('raxh9fogMhzU3t8trzABLPwN1Y1VPtFL1F', 'rKp5UfKmYnfWmV4ZDuVtW4yccXSGj4kUgZ', {'weight': 40}), ('rKpjVGbSy8b9dVdfJbUNyhwdebBumDUmKT', 'rLSoVf45S2wdpEU6sxkMB9He5DjB6RDNF1', {'weight': 37}), ('rLSoVf45S2wdpEU6sxkMB9He5DjB6RDNF1', 'rKpjVGbSy8b9dVdfJbUNyhwdebBumDUmKT', {'weight': 27}), ('rKpsF8xtw8V6g5s9YUUaFQ7BbJLQRouaUX', 'rLRZGpanPvYWdqHFyNoRkdQS8BDZgMPUUc', {'weight': 24}), ('rLRZGpanPvYWdqHFyNoRkdQS8BDZgMPUUc', 'rKpsF8xtw8V6g5s9YUUaFQ7BbJLQRouaUX', {'weight': 14}), ('rKqZ3wynQAEunujFm4nbbT2xs2zfq8izc9', 'rasHo8PVBhu926a3W8VqU7HsDkRQoUPULX', {'weight': 27}), ('rasHo8PVBhu926a3W8VqU7HsDkRQoUPULX', 'rKqZ3wynQAEunujFm4nbbT2xs2zfq8izc9', {'weight': 17}), ('rKqcLmiQhnDpEtjB4LKbigAi7jqeDM2d8f', 'rwSKCv422xrzf2f4qFECQhTvrjqJNq7dXv', {'weight': 23}), ('rwSKCv422xrzf2f4qFECQhTvrjqJNq7dXv', 'rKqcLmiQhnDpEtjB4LKbigAi7jqeDM2d8f', {'weight': 14}), ('rKqjqUSEJvbKw6HCJb79gRM7yEEFoHPHFR', 'rU3i7zZgKoLHt6En2FDdLWviJQcAh7cjED', {'weight': 16}), ('rU3i7zZgKoLHt6En2FDdLWviJQcAh7cjED', 'rKqjqUSEJvbKw6HCJb79gRM7yEEFoHPHFR', {'weight': 31}), ('rKqq81GbT1vyBUDfz6wHYiAFYVUjAyRqf9', 'rfPymwxn2fFxcKyHJGaqgDorf7Nw8XRvc8', {'weight': 28}), ('rfPymwxn2fFxcKyHJGaqgDorf7Nw8XRvc8', 'rKqq81GbT1vyBUDfz6wHYiAFYVUjAyRqf9', {'weight': 19}), ('rKra6ecsK1Z3Ffi9qECLLHMBU7fd6mAYMp', 'rhPgQ1WCK3vz7658zSsypDfz3pAN5h6Ews', {'weight': 36}), ('rhPgQ1WCK3vz7658zSsypDfz3pAN5h6Ews', 'rKra6ecsK1Z3Ffi9qECLLHMBU7fd6mAYMp', {'weight': 26}), ('rKs1SruGrV4BzmuhMPfDfBSmByzJpwQT19', 'rLetvZD3YvnMB969fAnmH55kQ2PoeuUe7Z', {'weight': 26}), ('rLetvZD3YvnMB969fAnmH55kQ2PoeuUe7Z', 'rKs1SruGrV4BzmuhMPfDfBSmByzJpwQT19', {'weight': 16}), ('rKsiG1qS75gxg5bHocxtWSfZzzagbzcsBk', 'rwju15Gzb3fkWFtpCkFpw4EGkW2zGvpKt5', {'weight': 23}), ('rwju15Gzb3fkWFtpCkFpw4EGkW2zGvpKt5', 'rKsiG1qS75gxg5bHocxtWSfZzzagbzcsBk', {'weight': 32}), ('rKsz9FCLEW8ALuFWxtp8TkKPhknNe5vqp8', 'rffmpRB28fNY3nswCHDAXP5CtoN9MrxbGB', {'weight': 13}), ('rffmpRB28fNY3nswCHDAXP5CtoN9MrxbGB', 'rKsz9FCLEW8ALuFWxtp8TkKPhknNe5vqp8', {'weight': 25}), ('rKt8c3i5qDHk3zhPj34NThN8ZUAcmGQ6kx', 'rsm8Hy6SggTRozNkarG5BotfoEpgmV4Ydg', {'weight': 17}), ('rsm8Hy6SggTRozNkarG5BotfoEpgmV4Ydg', 'rKt8c3i5qDHk3zhPj34NThN8ZUAcmGQ6kx', {'weight': 27}), ('rKtCeVnjtshaatK3hxPG8K5D5Gzy5eSf2m', 'rhBv7Fa7h8jWv1Bv56RYqzRPYJjuUr7nyL', {'weight': 26}), ('rhBv7Fa7h8jWv1Bv56RYqzRPYJjuUr7nyL', 'rKtCeVnjtshaatK3hxPG8K5D5Gzy5eSf2m', {'weight': 36}), ('rKtPgvokcR16424CeahFLM2ESxCXPhvHyB', 'rLqugegejdMUpj8dh9xijR6CLidbWqAB5o', {'weight': 16}), ('rLqugegejdMUpj8dh9xijR6CLidbWqAB5o', 'rKtPgvokcR16424CeahFLM2ESxCXPhvHyB', {'weight': 30}), ('rKtRJJH5CcrfuATHeKuQUoo2cCPzR8RrVu', 'rM11A2YpH1ASekyGvxGYatPCLgLrQN5MPM', {'weight': 28}), ('rM11A2YpH1ASekyGvxGYatPCLgLrQN5MPM', 'rKtRJJH5CcrfuATHeKuQUoo2cCPzR8RrVu', {'weight': 19}), ('rKtb16CWD7e79nsGuigP3hpFVt1FM7ttYT', 'rho6i4L1KHLxUFpQQGXzQb3ia9cmAgfxCu', {'weight': 20}), ('rho6i4L1KHLxUFpQQGXzQb3ia9cmAgfxCu', 'rKtb16CWD7e79nsGuigP3hpFVt1FM7ttYT', {'weight': 29}), ('rKtrsKvj4fyTpTRiZQCgpjt4Li1fLMm3gv', 'rNkD5ADts49w7eyNvq4rtvHTUtSTPkTRQX', {'weight': 26}), ('rNkD5ADts49w7eyNvq4rtvHTUtSTPkTRQX', 'rKtrsKvj4fyTpTRiZQCgpjt4Li1fLMm3gv', {'weight': 35}), ('rKuS7L3Tqcn9HoyTTUnRJQ9BjHDXdrdmkF', 'rNv4ZT1Jhm7hBHMSj4eZkwPnBu7Mo7Q9Y', {'weight': 40}), ('rNv4ZT1Jhm7hBHMSj4eZkwPnBu7Mo7Q9Y', 'rKuS7L3Tqcn9HoyTTUnRJQ9BjHDXdrdmkF', {'weight': 31}), ('rKuShmTQrUPEeGY2ktvoG4V69v75Kmjieq', 'rhaVtXM918tUoCWtaXUFfuqE6mVRkPscEP', {'weight': 32}), ('rhaVtXM918tUoCWtaXUFfuqE6mVRkPscEP', 'rKuShmTQrUPEeGY2ktvoG4V69v75Kmjieq', {'weight': 17}), ('rKuWosFpXpJuLZeDijtGFVkvGuCP1fgGuW', 'rMkCKWTU1cebxeeqneNjvJL1CaiXyd4tbv', {'weight': 94}), ('rMkCKWTU1cebxeeqneNjvJL1CaiXyd4tbv', 'rKuWosFpXpJuLZeDijtGFVkvGuCP1fgGuW', {'weight': 79}), ('rKuZP5g2WLvqV95y2Qc5e7AjhQ2hLacFhe', 'rf12aXWyvph6jZx81WbPCtd8CLFrmFpDuS', {'weight': 26}), ('rf12aXWyvph6jZx81WbPCtd8CLFrmFpDuS', 'rKuZP5g2WLvqV95y2Qc5e7AjhQ2hLacFhe', {'weight': 13}), ('rKughXjBNBNMboxBeadEm4ocpie1zPKwmQ', 'rNAEREMwhYWNVTftrZExddD1eYhxRyKHxj', {'weight': 22}), ('rNAEREMwhYWNVTftrZExddD1eYhxRyKHxj', 'rKughXjBNBNMboxBeadEm4ocpie1zPKwmQ', {'weight': 34}), ('rKws8KbSW4eoV2tBbU8gNRUvRZrskjgggK', 'rQrsnrengcdDW6gQj8pvAnW14b5ZTQ66o2', {'weight': 26}), ('rQrsnrengcdDW6gQj8pvAnW14b5ZTQ66o2', 'rKws8KbSW4eoV2tBbU8gNRUvRZrskjgggK', {'weight': 13}), ('rKxDbQ4vRbLxDHWzyLtTnmys7rpnsaTf4Q', 'rNndo6omR6d9zWhNbVK7xprKgS5VCL87WK', {'weight': 1}), ('rNndo6omR6d9zWhNbVK7xprKgS5VCL87WK', 'rKxDbQ4vRbLxDHWzyLtTnmys7rpnsaTf4Q', {'weight': 23}), ('rKxGjfLf7QEppsXC6iqGnpLgnuvAxF1t15', 'ra32HnJhXmFiKJNqetr6CUY31i2ncVkd37', {'weight': 24}), ('ra32HnJhXmFiKJNqetr6CUY31i2ncVkd37', 'rKxGjfLf7QEppsXC6iqGnpLgnuvAxF1t15', {'weight': 35}), ('rKxNbjobwApshEwrWRxg63QfA7p9TjkKgm', 'rae6kz6tJXLGMv7er2fSxnqZxxqbKVLjo7', {'weight': 16}), ('rae6kz6tJXLGMv7er2fSxnqZxxqbKVLjo7', 'rKxNbjobwApshEwrWRxg63QfA7p9TjkKgm', {'weight': 29}), ('rKxWWNUHhHw7LdAb3H21StKEqvwh38Dd3K', 'rPFeGvjCqHp2tj34rZvUiSayXtkG9eafaV', {'weight': 25}), ('rPFeGvjCqHp2tj34rZvUiSayXtkG9eafaV', 'rKxWWNUHhHw7LdAb3H21StKEqvwh38Dd3K', {'weight': 34}), ('rKxtxyDkqfqiti3G5CsAjfYCYYksZZtgLp', 'rNffnBEgKtjr9mdfC8sqtUZe39fxkb8fbs', {'weight': 93}), ('rNffnBEgKtjr9mdfC8sqtUZe39fxkb8fbs', 'rKxtxyDkqfqiti3G5CsAjfYCYYksZZtgLp', {'weight': 105}), ('rKyHsfBzxbWRkUL9ip2wKpxmkzWXX7Wqtm', 'rhyCJnz5HVePuWQDHxaxBWpZuhixZWgKTU', {'weight': 16}), ('rhyCJnz5HVePuWQDHxaxBWpZuhixZWgKTU', 'rKyHsfBzxbWRkUL9ip2wKpxmkzWXX7Wqtm', {'weight': 29}), ('rKyQEHkNQUvKMXkRAfFGPsJUhEz5TU2cji', 'rMkbALQw9kQ5Dr6je5Z3ztkJ7giYGupta', {'weight': 22}), ('rMkbALQw9kQ5Dr6je5Z3ztkJ7giYGupta', 'rKyQEHkNQUvKMXkRAfFGPsJUhEz5TU2cji', {'weight': 33}), ('rKyZ5AZV4PjWQj7iPjvrxLJPAMa3evDgVS', 'rLc6syRmBmVYjniCfBPqwNTAsxc3rpFoV8', {'weight': 12}), ('rLc6syRmBmVYjniCfBPqwNTAsxc3rpFoV8', 'rKyZ5AZV4PjWQj7iPjvrxLJPAMa3evDgVS', {'weight': 26}), ('rKyt6xwoVP2MfJA9UNRtnLqtTpFnyXmJs8', 'rLXXjMWvQYJLRmPsG4ncyaGePz9zUiEgZa', {'weight': 33}), ('rLXXjMWvQYJLRmPsG4ncyaGePz9zUiEgZa', 'rKyt6xwoVP2MfJA9UNRtnLqtTpFnyXmJs8', {'weight': 21}), ('rKz3tvaNiAXwo8UGyJE521DDs72GrmojcE', 'rfL7orjm8bVzeFFbNWo4XXQC2KjkfscJEv', {'weight': 101}), ('rfL7orjm8bVzeFFbNWo4XXQC2KjkfscJEv', 'rKz3tvaNiAXwo8UGyJE521DDs72GrmojcE', {'weight': 111}), ('rKzgbTtmyi6YwCGakBjKCAwrrHb3ppBXap', 'rprf829Av8GfhFujmr6w4fCkqMu3UrbyhN', {'weight': 91}), ('rprf829Av8GfhFujmr6w4fCkqMu3UrbyhN', 'rKzgbTtmyi6YwCGakBjKCAwrrHb3ppBXap', {'weight': 73}), ('rKzkHfvq71MEakAvntMTRnCPqrgf8jhXPw', 'rnaEasBgi9UvnHsakpicFjjJ8ZgahLWEHQ', {'weight': 15}), ('rnaEasBgi9UvnHsakpicFjjJ8ZgahLWEHQ', 'rKzkHfvq71MEakAvntMTRnCPqrgf8jhXPw', {'weight': 26}), ('rKznHCUE2SVGxTpHuPyMtBSW89wd41Pvfs', 'raa38JdhyQhQqRzbTD2E5W9xHXZyB9pyG8', {'weight': 17}), ('raa38JdhyQhQqRzbTD2E5W9xHXZyB9pyG8', 'rKznHCUE2SVGxTpHuPyMtBSW89wd41Pvfs', {'weight': 30}), ('rL17HTGzV9VFt2SsrmGE3gkJsF6EnvBw4S', 'rn4PmGTQZtN1ZXNKPGdqd9WKAHfa416Amv', {'weight': 14}), ('rn4PmGTQZtN1ZXNKPGdqd9WKAHfa416Amv', 'rL17HTGzV9VFt2SsrmGE3gkJsF6EnvBw4S', {'weight': 26}), ('rL1BeAHqQmmdHGvKUGtTkN4qiK624cVNwg', 'rv9JVQY8joHhiZkwcVUWytyLyVQw9nu5E', {'weight': 13}), ('rv9JVQY8joHhiZkwcVUWytyLyVQw9nu5E', 'rL1BeAHqQmmdHGvKUGtTkN4qiK624cVNwg', {'weight': 28}), ('rL1Ls18pkFVV6ACqiCoCs9oCEmzKfTSNoh', 'rfenMEWZ6NyfkJyKHQUiLTqBHAJEyiRE8m', {'weight': 31}), ('rfenMEWZ6NyfkJyKHQUiLTqBHAJEyiRE8m', 'rL1Ls18pkFVV6ACqiCoCs9oCEmzKfTSNoh', {'weight': 19}), ('rL1NhfpTfwDy7zwvPZJdwmPX1HBA3jHZSy', 'rnkNtDsA8X8h7x44W5VcHy4znTzXinpxuP', {'weight': 20}), ('rnkNtDsA8X8h7x44W5VcHy4znTzXinpxuP', 'rL1NhfpTfwDy7zwvPZJdwmPX1HBA3jHZSy', {'weight': 29}), ('rL1wU1QGkjQ6gqJ4tBzSbdRM8h9gLJyhXc', 'rnePTyXy3GCyp13JvU57FUAZqkJkVfTxx1', {'weight': 26}), ('rnePTyXy3GCyp13JvU57FUAZqkJkVfTxx1', 'rL1wU1QGkjQ6gqJ4tBzSbdRM8h9gLJyhXc', {'weight': 14}), ('rL2SpzwrCZ4N2BaPm88pNGGHkPLzejZgB8', 'rxQBwm8spKziiJscBhuFisGVAFBgTEE4z', {'weight': 94}), ('rxQBwm8spKziiJscBhuFisGVAFBgTEE4z', 'rL2SpzwrCZ4N2BaPm88pNGGHkPLzejZgB8', {'weight': 81}), ('rL2zdePHRK7UC2hUyWWaqhcLfTe5gCSjMM', 'rfmgSDHYsGUE85TFYxgVyTVs6YjfAs2jE1', {'weight': 13}), ('rfmgSDHYsGUE85TFYxgVyTVs6YjfAs2jE1', 'rL2zdePHRK7UC2hUyWWaqhcLfTe5gCSjMM', {'weight': 25}), ('rL36zuzWND3SSVcXU4WpVNWVCTk7nPw8zs', 'rNZCdeJ4L4mEJvs84fjs3ifT5vtuHVHZQe', {'weight': 42}), ('rNZCdeJ4L4mEJvs84fjs3ifT5vtuHVHZQe', 'rL36zuzWND3SSVcXU4WpVNWVCTk7nPw8zs', {'weight': 30}), ('rL4BYk73Ptf16Y6CHDpZc1tEJQpBiaEvv1', 'rMJHSqwLCBnDunrk5mFAwdFBn1bQBtnh59', {'weight': 21}), ('rMJHSqwLCBnDunrk5mFAwdFBn1bQBtnh59', 'rL4BYk73Ptf16Y6CHDpZc1tEJQpBiaEvv1', {'weight': 11}), ('rL51ib9gLCC3are191wvx3VFC7JccuMJmV', 'rPEZBZqwrg1CizXrFxeVFEGTo894UthnMW', {'weight': 30}), ('rPEZBZqwrg1CizXrFxeVFEGTo894UthnMW', 'rL51ib9gLCC3are191wvx3VFC7JccuMJmV', {'weight': 15}), ('rL5kHL8QSdDcqZXVjKPjGDaw5GXVWnpBGm', 'rh7jBQn99ZLvNnNQivAhf6ExaWXdmZ75Yg', {'weight': 16}), ('rh7jBQn99ZLvNnNQivAhf6ExaWXdmZ75Yg', 'rL5kHL8QSdDcqZXVjKPjGDaw5GXVWnpBGm', {'weight': 31}), ('rL5oaVDRdjtFASGHToTZN4h9JuxfUsMwvh', 'rNjAedNYXc5kpR18rrgrBNUNhGb25YU43i', {'weight': 39}), ('rNjAedNYXc5kpR18rrgrBNUNhGb25YU43i', 'rL5oaVDRdjtFASGHToTZN4h9JuxfUsMwvh', {'weight': 29}), ('rL5v6N2EPjmpSGtzCyjp7XwQdUBPukdAVJ', 'rhCZJYV6eaMmA1FbFQ7iG8yAhAUtngUDxe', {'weight': 17}), ('rhCZJYV6eaMmA1FbFQ7iG8yAhAUtngUDxe', 'rL5v6N2EPjmpSGtzCyjp7XwQdUBPukdAVJ', {'weight': 33}), ('rL6HtarNknTgkceccrL1rARYkkBuuBb7sm', 'rMgAUs6puGQ58ToXVwZ3a4WLZZVQR321FL', {'weight': 13}), ('rMgAUs6puGQ58ToXVwZ3a4WLZZVQR321FL', 'rL6HtarNknTgkceccrL1rARYkkBuuBb7sm', {'weight': 28}), ('rL6Sxy7UCQH8v5dqa3Zpbccw56gKDMR6o4', 'rP8P8ao1b5SzrqifvTq6MA7QaJL1irbB6M', {'weight': 17}), ('rP8P8ao1b5SzrqifvTq6MA7QaJL1irbB6M', 'rL6Sxy7UCQH8v5dqa3Zpbccw56gKDMR6o4', {'weight': 33}), ('rL9r9ugYsLZ8M39Z83i7wPwaA1i8KuhAgZ', 'rU8jX1ZPBjUTELfpxkahPVZ4VioTaSEbBJ', {'weight': 25}), ('rU8jX1ZPBjUTELfpxkahPVZ4VioTaSEbBJ', 'rL9r9ugYsLZ8M39Z83i7wPwaA1i8KuhAgZ', {'weight': 13}), ('rLAAMQYEPya8WN5715jVj6Cjyk5MQjdjGY', 'rNV1vhW45BRDndhAVSQWZD9v6b3akHG2AH', {'weight': 29}), ('rNV1vhW45BRDndhAVSQWZD9v6b3akHG2AH', 'rLAAMQYEPya8WN5715jVj6Cjyk5MQjdjGY', {'weight': 14}), ('rLAJTt95EsfwXXd8hMyCoU3q4WiQs1qLAa', 'raahqN2yivrF6zZpFV4bftUTzSRY2qF9Y4', {'weight': 39}), ('raahqN2yivrF6zZpFV4bftUTzSRY2qF9Y4', 'rLAJTt95EsfwXXd8hMyCoU3q4WiQs1qLAa', {'weight': 31}), ('rLAJbXHZiz2WjqDrxJxMEEzSDoP5YDJCyy', 'rMEdnuEsB9JmK4C9eJVXZ6KYaMY182T5PT', {'weight': 36}), ('rMEdnuEsB9JmK4C9eJVXZ6KYaMY182T5PT', 'rLAJbXHZiz2WjqDrxJxMEEzSDoP5YDJCyy', {'weight': 45}), ('rLAKb2kzhDfsigTU4813yrbvFoh8zzQ4zi', 'rLUBxGJb1H3aGf1WRDG61ESqDKkbbUet9F', {'weight': 13}), ('rLUBxGJb1H3aGf1WRDG61ESqDKkbbUet9F', 'rLAKb2kzhDfsigTU4813yrbvFoh8zzQ4zi', {'weight': 23}), ('rLAL4zMzD7wrkMwHPGpPcifW21mCxUAunf', 'rQEvfU6XzKjhGWSv4WWdwCqNAX2erUgXGJ', {'weight': 77}), ('rQEvfU6XzKjhGWSv4WWdwCqNAX2erUgXGJ', 'rLAL4zMzD7wrkMwHPGpPcifW21mCxUAunf', {'weight': 55}), ('rLAa9B2QXmK5xbKP3C7fgDmBwqHSCWqbEg', 'rfeyVompCBajyge8DXiYedxnanoA9Tuuya', {'weight': 30}), ('rfeyVompCBajyge8DXiYedxnanoA9Tuuya', 'rLAa9B2QXmK5xbKP3C7fgDmBwqHSCWqbEg', {'weight': 40}), ('rLAb7ohJkgQAUWa4tnTcRt9KG1rWBABa4o', 'rs6z3vDXtUPVYACHrious7QAx4znBcoaX2', {'weight': 102}), ('rs6z3vDXtUPVYACHrious7QAx4znBcoaX2', 'rLAb7ohJkgQAUWa4tnTcRt9KG1rWBABa4o', {'weight': 111}), ('rLAqjhzcffWodGYpFvYz5vyPY9VNmJTXfZ', 'rsRoYcfJeGMssk7VUaTgeedEzbCYFtMVmp', {'weight': 31}), ('rsRoYcfJeGMssk7VUaTgeedEzbCYFtMVmp', 'rLAqjhzcffWodGYpFvYz5vyPY9VNmJTXfZ', {'weight': 20}), ('rLBEjKjqi8oVPbrqyK3AuU2WjctCnYwMn6', 'rN9tiKXFc7LDSJgmXU8MJvStpqpCeEvayk', {'weight': 33}), ('rN9tiKXFc7LDSJgmXU8MJvStpqpCeEvayk', 'rLBEjKjqi8oVPbrqyK3AuU2WjctCnYwMn6', {'weight': 22}), ('rLBSuMpQUQLKWs415VtPdwNCrSHazxNctx', 'rsqqWBAj95yr4NEk8ViK8VQcaMWbTbco49', {'weight': 31}), ('rsqqWBAj95yr4NEk8ViK8VQcaMWbTbco49', 'rLBSuMpQUQLKWs415VtPdwNCrSHazxNctx', {'weight': 18}), ('rLBXJ8f9N7PBs9uAmmLzJcSStX79tNU6do', 'rhPo2q8wu1NP9xbS99PHkVVHVMAnBgPJHc', {'weight': 26}), ('rhPo2q8wu1NP9xbS99PHkVVHVMAnBgPJHc', 'rLBXJ8f9N7PBs9uAmmLzJcSStX79tNU6do', {'weight': 15}), ('rLBux6eJoxmXTwozYJ9gauX7tJmRrb1V3m', 'rrnAjLcimHELnbUzWLnXPPWe1RovhfsPX7', {'weight': 37}), ('rrnAjLcimHELnbUzWLnXPPWe1RovhfsPX7', 'rLBux6eJoxmXTwozYJ9gauX7tJmRrb1V3m', {'weight': 25}), ('rLC5KJP37e2qhpqTawQjjUqgvULBeSkmvx', 'rfbKSVhD3Ap4HZ3bFoXSdnVWFC2qPNiY2x', {'weight': 40}), ('rfbKSVhD3Ap4HZ3bFoXSdnVWFC2qPNiY2x', 'rLC5KJP37e2qhpqTawQjjUqgvULBeSkmvx', {'weight': 51}), ('rLCCF8HoWDGbnUxVEZ7rkxzMgxBDtkWEJx', 'raCndgswKSmumM3eNP8JU4u4cbVGGwtffA', {'weight': 20}), ('raCndgswKSmumM3eNP8JU4u4cbVGGwtffA', 'rLCCF8HoWDGbnUxVEZ7rkxzMgxBDtkWEJx', {'weight': 30}), ('rLCDKhfV4C3HcbsgzDEa62jjxSbJm52LTg', 'rPE9FcWTBYKRAMpyYEN6WVjehB4DarJDF8', {'weight': 37}), ('rPE9FcWTBYKRAMpyYEN6WVjehB4DarJDF8', 'rLCDKhfV4C3HcbsgzDEa62jjxSbJm52LTg', {'weight': 26}), ('rLCrAN4UDNrcyT7h7cp5Y6PbdsUE8oTdFH', 'rU2DJVsfvfadAUKMYPN1RcZMvusQseHcpy', {'weight': 74}), ('rU2DJVsfvfadAUKMYPN1RcZMvusQseHcpy', 'rLCrAN4UDNrcyT7h7cp5Y6PbdsUE8oTdFH', {'weight': 90}), ('rLDNaQ6qDLCtoeWfm4otcC8qGiZK2VDUTa', 'rfQYQYEDJLyF2tg7ame8hjhhDKDgumZ5f8', {'weight': 35}), ('rfQYQYEDJLyF2tg7ame8hjhhDKDgumZ5f8', 'rLDNaQ6qDLCtoeWfm4otcC8qGiZK2VDUTa', {'weight': 26}), ('rLDXEAaSbn347kWTAc3rwekw3GU5hrLp7A', 'rnmhRRPy5re2n1AJRDpWF9mY9ygFhvSpMx', {'weight': 13}), ('rnmhRRPy5re2n1AJRDpWF9mY9ygFhvSpMx', 'rLDXEAaSbn347kWTAc3rwekw3GU5hrLp7A', {'weight': 26}), ('rLDy79ERTeAxg4iHg19tGM653dYhxpK2B9', 'rchGBxcD1A1C2tdxF6papQYZ8kjRKMYcL', {'weight': 1}), ('rLEJCtDLZHonQpkswwuN4DMzsmAMFLEcQo', 'raPe4zQwzrJWTDo8Gou8zKGDHQsdspjZU5', {'weight': 31}), ('raPe4zQwzrJWTDo8Gou8zKGDHQsdspjZU5', 'rLEJCtDLZHonQpkswwuN4DMzsmAMFLEcQo', {'weight': 19}), ('rLEZpoYFu7kVvh1zxCYtQFVTm6a1NmwU8n', 'rpGP3Ht83W4szk8QM7UbNZwnr4zanjYMTx', {'weight': 31}), ('rpGP3Ht83W4szk8QM7UbNZwnr4zanjYMTx', 'rLEZpoYFu7kVvh1zxCYtQFVTm6a1NmwU8n', {'weight': 39}), ('rLFnAsSGhp7ZP5PnP6jgwLyzSX6ec44wdg', 'rMsYebx2pEXPGsBe3KV5GG8aZzzimKtgTs', {'weight': 27}), ('rMsYebx2pEXPGsBe3KV5GG8aZzzimKtgTs', 'rLFnAsSGhp7ZP5PnP6jgwLyzSX6ec44wdg', {'weight': 15}), ('rLG7oHkCGteJsJ6setZUzfTT6d9Le1Tjs6', 'rqwpYPSV4PmWgZk9zi4uiHDqq2kzSvL8P', {'weight': 26}), ('rqwpYPSV4PmWgZk9zi4uiHDqq2kzSvL8P', 'rLG7oHkCGteJsJ6setZUzfTT6d9Le1Tjs6', {'weight': 35}), ('rLGEATHZL5yLE1JFAAw3rbYiz3EUN7Ntj2', 'rMxnSfhjfET9ovJLTjKRuyZojZsiDeuYS7', {'weight': 31}), ('rMxnSfhjfET9ovJLTjKRuyZojZsiDeuYS7', 'rLGEATHZL5yLE1JFAAw3rbYiz3EUN7Ntj2', {'weight': 20}), ('rLGRSYR9Vb15qQeUQA1CsFLnnNXmXPz421', 'rchGBxcD1A1C2tdxF6papQYZ8kjRKMYcL', {'weight': 1}), ('rLGsQg9ckTkPWNXaKmB48Er9vrog9SVaGN', 'rhRjGcxtNJ6uSWFYyXjMPkvu3KyYJx6S8v', {'weight': 31}), ('rhRjGcxtNJ6uSWFYyXjMPkvu3KyYJx6S8v', 'rLGsQg9ckTkPWNXaKmB48Er9vrog9SVaGN', {'weight': 15}), ('rLHJkxwMyd9HXCtaYANtQry7BgYwaZYPxj', 'rsty72aVCHN6AxBWPuyp3KPtoXDBPYiD3H', {'weight': 18}), ('rsty72aVCHN6AxBWPuyp3KPtoXDBPYiD3H', 'rLHJkxwMyd9HXCtaYANtQry7BgYwaZYPxj', {'weight': 27}), ('rLHNyWFe4yCoA3DjCqigRnGZ5tT815jLYJ', 'rfh2XYUmiTNSm62K3u6W38zrqaDGo2oTGL', {'weight': 26}), ('rfh2XYUmiTNSm62K3u6W38zrqaDGo2oTGL', 'rLHNyWFe4yCoA3DjCqigRnGZ5tT815jLYJ', {'weight': 35}), ('rLHPepdv6BDt7HXUJ8DJVsJzfEgKG9k4kG', 'rPgZ9Dxe3uTtWf3sthWtz3zUBwTkjJyLBf', {'weight': 21}), ('rPgZ9Dxe3uTtWf3sthWtz3zUBwTkjJyLBf', 'rLHPepdv6BDt7HXUJ8DJVsJzfEgKG9k4kG', {'weight': 33}), ('rLJFygDvrqbGgwNew4WbiSTomMS95Tqqiq', 'rEeKfy3RbKdk5tCz5ERq7zLKmtvMnRRdFF', {'weight': 2}), ('rLKFYJottg8YNE4XBdyFSL8DipZyNTSPMD', 'rPSrpBih3BM4WFzhM5LwHsscQnowtgQMtt', {'weight': 13}), ('rPSrpBih3BM4WFzhM5LwHsscQnowtgQMtt', 'rLKFYJottg8YNE4XBdyFSL8DipZyNTSPMD', {'weight': 27}), ('rLKbTiLU1DMSMgtCBWQMgGqTb3do8PEyYu', 'rPswZ42BskCppLpHH9zuqZQun6UZMPmez8', {'weight': 24}), ('rPswZ42BskCppLpHH9zuqZQun6UZMPmez8', 'rLKbTiLU1DMSMgtCBWQMgGqTb3do8PEyYu', {'weight': 15}), ('rLKvWojuTit6o2dmUZhoTUNDXCMb6Pa9AW', 'rfT7KSWp9EJvWVa7uL4mk5nPfHRqiSKMKo', {'weight': 13}), ('rfT7KSWp9EJvWVa7uL4mk5nPfHRqiSKMKo', 'rLKvWojuTit6o2dmUZhoTUNDXCMb6Pa9AW', {'weight': 25}), ('rLKzN8mWyRBsPBqKVrRuWNFpTHfWH1gfPT', 'rnfGteSbmEXr7zFVZNbjxLnJB4t87nQNjv', {'weight': 32}), ('rnfGteSbmEXr7zFVZNbjxLnJB4t87nQNjv', 'rLKzN8mWyRBsPBqKVrRuWNFpTHfWH1gfPT', {'weight': 42}), ('rLL75UMUMifwkCaGjWSTSUKaQo15SSQxdw', 'rn1iDc2eWyTCZgK3zmvDFLLxwYhN9QyZ52', {'weight': 17}), ('rn1iDc2eWyTCZgK3zmvDFLLxwYhN9QyZ52', 'rLL75UMUMifwkCaGjWSTSUKaQo15SSQxdw', {'weight': 27}), ('rLLfejszyMhvXxJS7ye2e3b51SzEkeimuu', 'rMPwspdNNmfScrS3PBRQjVKUGfPsT4rJNv', {'weight': 22}), ('rMPwspdNNmfScrS3PBRQjVKUGfPsT4rJNv', 'rLLfejszyMhvXxJS7ye2e3b51SzEkeimuu', {'weight': 13}), ('rLMZEtsaYgqWps6UMufptiEVfESwsGMG8t', 'rUhfNBhLdC1YyYCLNCsVDDttmGhXKjTvGH', {'weight': 27}), ('rUhfNBhLdC1YyYCLNCsVDDttmGhXKjTvGH', 'rLMZEtsaYgqWps6UMufptiEVfESwsGMG8t', {'weight': 17}), ('rLMgzbPoNi3sF3a4c9JruRs8aqQgJPdRAY', 'rwPP17jzeNhnJ7TssKGaFL7ExwFBEMNtoZ', {'weight': 43}), ('rwPP17jzeNhnJ7TssKGaFL7ExwFBEMNtoZ', 'rLMgzbPoNi3sF3a4c9JruRs8aqQgJPdRAY', {'weight': 34}), ('rLMypGbRtBSKLCruYNbDqzxS1D1KrUc46C', 'rQrGPS5SJHxk94k8YKSX78ogfpLetj6tw5', {'weight': 15}), ('rQrGPS5SJHxk94k8YKSX78ogfpLetj6tw5', 'rLMypGbRtBSKLCruYNbDqzxS1D1KrUc46C', {'weight': 28}), ('rLNWQHPo3YgSmoErTfpzh5kpiY2Wbigned', 'rnwUU8jVEeuiWPtbUu7pvEGZoT8Ms82sZP', {'weight': 35}), ('rnwUU8jVEeuiWPtbUu7pvEGZoT8Ms82sZP', 'rLNWQHPo3YgSmoErTfpzh5kpiY2Wbigned', {'weight': 23}), ('rLP8PPT7sQdXoJSmHDbaCg6gHAFJ7bgsFy', 'rwGhPjuRrgr74Rb2ZcHt7W5KcRQhazGwym', {'weight': 18}), ('rwGhPjuRrgr74Rb2ZcHt7W5KcRQhazGwym', 'rLP8PPT7sQdXoJSmHDbaCg6gHAFJ7bgsFy', {'weight': 29}), ('rLPgqY9hEtjXGya1ncysA7ShAnVgcjF6od', 'rMoAqzn5Bo8PSj19VVAKotoNZns8xMYPTa', {'weight': 27}), ('rMoAqzn5Bo8PSj19VVAKotoNZns8xMYPTa', 'rLPgqY9hEtjXGya1ncysA7ShAnVgcjF6od', {'weight': 15}), ('rLRaPwYvjwUM71wRCcjiGgz5C38mco7jsi', 'rhfAuhJ1fNSDGwkV3Xw6E3tzw1jn7EtgCt', {'weight': 33}), ('rhfAuhJ1fNSDGwkV3Xw6E3tzw1jn7EtgCt', 'rLRaPwYvjwUM71wRCcjiGgz5C38mco7jsi', {'weight': 24}), ('rLTR1KLyUGvPsNvkJCGkqJrWb2sAK4q8Gb', 'rhmBYYT8TQNhoyZrvPxpN6mYL5z3CLyibP', {'weight': 28}), ('rhmBYYT8TQNhoyZrvPxpN6mYL5z3CLyibP', 'rLTR1KLyUGvPsNvkJCGkqJrWb2sAK4q8Gb', {'weight': 18}), ('rLURDG3kiwcVnzX5TorHe1DcLXrhucaCZV', 'rnr1mbvxFBHGMtHEE3CP7aWsaqmMzm8kY1', {'weight': 18}), ('rnr1mbvxFBHGMtHEE3CP7aWsaqmMzm8kY1', 'rLURDG3kiwcVnzX5TorHe1DcLXrhucaCZV', {'weight': 28}), ('rLUy1PpLmuoJYEtfBwTYomCjbiaJ9XyWip', 'rnCM2j32kHLpbCw1aTKufWyNfRVJbSbM4t', {'weight': 14}), ('rnCM2j32kHLpbCw1aTKufWyNfRVJbSbM4t', 'rLUy1PpLmuoJYEtfBwTYomCjbiaJ9XyWip', {'weight': 24}), ('rLV5QPKMSMQQ1pgw9z5s7T14YrvNvcvyZk', 'rsKLh8u7LigtVAKuwvSG8t7PVzprgdfH8o', {'weight': 32}), ('rsKLh8u7LigtVAKuwvSG8t7PVzprgdfH8o', 'rLV5QPKMSMQQ1pgw9z5s7T14YrvNvcvyZk', {'weight': 42}), ('rLVavR28qcr8APZBFEFvKKzCjLSart1Nsa', 'rn85hR1zfCepTydHo1bvPK9binScCwiMyw', {'weight': 28}), ('rn85hR1zfCepTydHo1bvPK9binScCwiMyw', 'rLVavR28qcr8APZBFEFvKKzCjLSart1Nsa', {'weight': 19}), ('rLVf9Mt1qpeiirqN51wasT5esRHVcRddsc', 'rUfrriPVbt3vBaLcH5qzZwQYrfYFZJuGF1', {'weight': 37}), ('rUfrriPVbt3vBaLcH5qzZwQYrfYFZJuGF1', 'rLVf9Mt1qpeiirqN51wasT5esRHVcRddsc', {'weight': 27}), ('rLVkT7C6TQw4jbA7Rm9XwuafsrP2qKSeK1', 'rpkxSYLF377YUxqZY3HgAJ8DZNeYhkAu3A', {'weight': 37}), ('rpkxSYLF377YUxqZY3HgAJ8DZNeYhkAu3A', 'rLVkT7C6TQw4jbA7Rm9XwuafsrP2qKSeK1', {'weight': 46}), ('rLXNFNR5wgcqcWMvyNm51Ynsg9kXM2H6M8', 'rMLf3dEPMDjK2TAqAuVud1bVfTLGsJ7WYX', {'weight': 21}), ('rMLf3dEPMDjK2TAqAuVud1bVfTLGsJ7WYX', 'rLXNFNR5wgcqcWMvyNm51Ynsg9kXM2H6M8', {'weight': 30}), ('rLXsL1zzMoq3Gn9Ld441mYndQwKHRR3E34', 'rchGBxcD1A1C2tdxF6papQYZ8kjRKMYcL', {'weight': 1}), ('rLYqFPhWprWqRf1jWDsQ2UnTxbHmJoHhLB', 'rfKB3FBWZZxCiVPFDAdEFPZfK4GrSjafc', {'weight': 21}), ('rfKB3FBWZZxCiVPFDAdEFPZfK4GrSjafc', 'rLYqFPhWprWqRf1jWDsQ2UnTxbHmJoHhLB', {'weight': 11}), ('rLZRTc7vBD9hw1TNNxB9s6XfGtaSDnDoWq', 'rQJDagVCdWGYjGwyvXKggE22etJrAHPMyL', {'weight': 51}), ('rQJDagVCdWGYjGwyvXKggE22etJrAHPMyL', 'rLZRTc7vBD9hw1TNNxB9s6XfGtaSDnDoWq', {'weight': 40}), ('rLaKTenYQyaMbdzsrcMAoN6ywksos87uQq', 'rw5VKDmKJp7UtvytBggpn224HXieZ2SgHJ', {'weight': 18}), ('rw5VKDmKJp7UtvytBggpn224HXieZ2SgHJ', 'rLaKTenYQyaMbdzsrcMAoN6ywksos87uQq', {'weight': 29}), ('rLajatdiaVdhzzYHrwYYQNXQBPRXDTNx52', 'rMgm4EUnWPKM8hMayXjyP7Qf1TXm1ExtdD', {'weight': 32}), ('rMgm4EUnWPKM8hMayXjyP7Qf1TXm1ExtdD', 'rLajatdiaVdhzzYHrwYYQNXQBPRXDTNx52', {'weight': 22}), ('rLbFsuEaf5tTciRMMDaD8bHtypZg4HZczK', 'rpjMoRY35USSmBCGhdiFSdWfRDyd6feeyQ', {'weight': 13}), ('rpjMoRY35USSmBCGhdiFSdWfRDyd6feeyQ', 'rLbFsuEaf5tTciRMMDaD8bHtypZg4HZczK', {'weight': 26}), ('rLbYbPTPE6KLKnWoce82NB1qrE91pG3Wif', 'rhoavuPhW32uCCWEzPKJvteTiU4fDQESMQ', {'weight': 22}), ('rhoavuPhW32uCCWEzPKJvteTiU4fDQESMQ', 'rLbYbPTPE6KLKnWoce82NB1qrE91pG3Wif', {'weight': 37}), ('rLboPfMJVmG1vfTn6SGYng7qTRpkQs1kwM', 'rQw5ajB945tqUaTz2EXziAUQ9S6PtG9vT7', {'weight': 42}), ('rQw5ajB945tqUaTz2EXziAUQ9S6PtG9vT7', 'rLboPfMJVmG1vfTn6SGYng7qTRpkQs1kwM', {'weight': 31}), ('rLc2y9CdtHpRFbFzLjQSKD6s1WSRMjsoLV', 'rNtuSAFcb2Cuk4UqDhjd2uYmw1CXBJAeeQ', {'weight': 36}), ('rNtuSAFcb2Cuk4UqDhjd2uYmw1CXBJAeeQ', 'rLc2y9CdtHpRFbFzLjQSKD6s1WSRMjsoLV', {'weight': 44}), ('rLcaPim8S82MSgfBdUGfBf3YgdSmqHT2uV', 'rfX7FpL7QmNpzwcSxgCAr1MGQKpNnEj6v5', {'weight': 32}), ('rfX7FpL7QmNpzwcSxgCAr1MGQKpNnEj6v5', 'rLcaPim8S82MSgfBdUGfBf3YgdSmqHT2uV', {'weight': 20}), ('rLcxZARPjUSmYWpCDWofiThPrRXAQ3FMq', 'rNi4st7r74tusG1Aaq73Tq14kTfUxKFZJ2', {'weight': 23}), ('rNi4st7r74tusG1Aaq73Tq14kTfUxKFZJ2', 'rLcxZARPjUSmYWpCDWofiThPrRXAQ3FMq', {'weight': 14}), ('rLdphJryRXc6ewwHkfZ59VY1SnJkZWiJky', 'rPL4c9X1ULuvvncAm1mkzijpdqTsNH2zWo', {'weight': 33}), ('rPL4c9X1ULuvvncAm1mkzijpdqTsNH2zWo', 'rLdphJryRXc6ewwHkfZ59VY1SnJkZWiJky', {'weight': 18}), ('rLdx5PdkBUTtDwY9vfX7dgnXSsZMApfptF', 'rh1nDzYXuvXYjK3vjcvfECci7RRkQaMoUG', {'weight': 45}), ('rh1nDzYXuvXYjK3vjcvfECci7RRkQaMoUG', 'rLdx5PdkBUTtDwY9vfX7dgnXSsZMApfptF', {'weight': 68}), ('rLeRTjNCYTNoLNoWw9gWFk1wucY6sxVjiq', 'rfufHRDfMrBhZqGRhR5NhiYtdJDvGFxMxa', {'weight': 34}), ('rfufHRDfMrBhZqGRhR5NhiYtdJDvGFxMxa', 'rLeRTjNCYTNoLNoWw9gWFk1wucY6sxVjiq', {'weight': 25}), ('rLevcvPvrckMLSSXeWYaZAzUZR6SRZYqL4', 'rwsm1e9FQPuSRtQvg4kpy1rNAeSxuiD4yy', {'weight': 89}), ('rwsm1e9FQPuSRtQvg4kpy1rNAeSxuiD4yy', 'rLevcvPvrckMLSSXeWYaZAzUZR6SRZYqL4', {'weight': 73}), ('rLgQB812bc3g8Qrg7vSWCxVdDeMCoQuPjP', 'rsSRVb3ererZ1jpVVCgy9DV2pRpWcU9EnF', {'weight': 20}), ('rsSRVb3ererZ1jpVVCgy9DV2pRpWcU9EnF', 'rLgQB812bc3g8Qrg7vSWCxVdDeMCoQuPjP', {'weight': 32}), ('rLgi1aB6tUVauLbsmK7CgSSgJ3VBaETKSq', 'rwRgwM4Jbbiqj1CaH7CXFEra654APJAwHz', {'weight': 33}), ('rwRgwM4Jbbiqj1CaH7CXFEra654APJAwHz', 'rLgi1aB6tUVauLbsmK7CgSSgJ3VBaETKSq', {'weight': 21}), ('rLhfJUnWWP1LeF5KPLJt7VoAWwWPU4HSyy', 'rsTTJiZ7HPhK1eMypn1oMvMqhvR2pfjqRj', {'weight': 26}), ('rsTTJiZ7HPhK1eMypn1oMvMqhvR2pfjqRj', 'rLhfJUnWWP1LeF5KPLJt7VoAWwWPU4HSyy', {'weight': 16}), ('rLhkoCNEQtSU2mpAsiZwxfLAgKvNcsnH9C', 'rh7VSYXEdYNGF6CtdfE3hYQiiPmFXTLgnE', {'weight': 29}), ('rh7VSYXEdYNGF6CtdfE3hYQiiPmFXTLgnE', 'rLhkoCNEQtSU2mpAsiZwxfLAgKvNcsnH9C', {'weight': 41}), ('rLhmku7XpiNLaTG5ji8dta7Kxdri76oVJg', 'rNEFA5XKnBhS1U3RAHnncr2atFFYmvAWxa', {'weight': 36}), ('rNEFA5XKnBhS1U3RAHnncr2atFFYmvAWxa', 'rLhmku7XpiNLaTG5ji8dta7Kxdri76oVJg', {'weight': 24}), ('rLhu13YXzvee81xdcCJwKwTtQyf3314yYW', 'rszXEfToTwCPyxk2icbJUnveJfFFxPfyfY', {'weight': 28}), ('rszXEfToTwCPyxk2icbJUnveJfFFxPfyfY', 'rLhu13YXzvee81xdcCJwKwTtQyf3314yYW', {'weight': 13}), ('rLhv4VV9naYmTDZHYwkaGWeGH3RSNe6UUg', 'rNjprVfuvTiTVabCfATUVi3aiSnJWKb6YS', {'weight': 31}), ('rNjprVfuvTiTVabCfATUVi3aiSnJWKb6YS', 'rLhv4VV9naYmTDZHYwkaGWeGH3RSNe6UUg', {'weight': 40}), ('rLhxTvQASLTxctkmGuoJZUWds1g4QEZddN', 'rhGWxCVSKdrsJgkznZyrQnDiW5f8GpCEeP', {'weight': 30}), ('rhGWxCVSKdrsJgkznZyrQnDiW5f8GpCEeP', 'rLhxTvQASLTxctkmGuoJZUWds1g4QEZddN', {'weight': 20}), ('rLiK74DmttciFcS85pLEhRSFhDqWDjVZmF', 'rsoSXNufnmRYf9iKgrCJNsVu5TAayfrgCB', {'weight': 22}), ('rsoSXNufnmRYf9iKgrCJNsVu5TAayfrgCB', 'rLiK74DmttciFcS85pLEhRSFhDqWDjVZmF', {'weight': 34}), ('rLifNuXPEUf16jDZoVXNCXJsXLPTSMVFfg', 'rfg5J6EDk5hbQdNgQ9y7ezDcn1JUGU6xpj', {'weight': 22}), ('rfg5J6EDk5hbQdNgQ9y7ezDcn1JUGU6xpj', 'rLifNuXPEUf16jDZoVXNCXJsXLPTSMVFfg', {'weight': 36}), ('rLigREJu6BYBvhPcLspJFf8hefzuRKpWVV', 'raT4zLgKpNZEsM9t3Rbvqt81T2y8bytCsW', {'weight': 19}), ('raT4zLgKpNZEsM9t3Rbvqt81T2y8bytCsW', 'rLigREJu6BYBvhPcLspJFf8hefzuRKpWVV', {'weight': 28}), ('rLkFXqpkYtuBmbSeWYUbdR8sKUruoCdUbP', 'rwhDZQ3PAHQ93Mhya1CsLViPmK5rczuTRH', {'weight': 88}), ('rwhDZQ3PAHQ93Mhya1CsLViPmK5rczuTRH', 'rLkFXqpkYtuBmbSeWYUbdR8sKUruoCdUbP', {'weight': 70}), ('rLkdwyt1WpnfXP43CAjGuJm5Zw4QFmmZfZ', 'rn3ZUq7CTQGcFBFwTw58fB4QcoVqELtU1b', {'weight': 87}), ('rn3ZUq7CTQGcFBFwTw58fB4QcoVqELtU1b', 'rLkdwyt1WpnfXP43CAjGuJm5Zw4QFmmZfZ', {'weight': 101}), ('rLkoiQA9mzWoWzP1CukovWTT9qFskr8FL9', 'rfGzjD6sHapgEJoDt7j3jLkN2bm3Kn1MPJ', {'weight': 27}), ('rfGzjD6sHapgEJoDt7j3jLkN2bm3Kn1MPJ', 'rLkoiQA9mzWoWzP1CukovWTT9qFskr8FL9', {'weight': 18}), ('rLkxgtFZmh3YACfiDWGAGN2iiKobZFBs3F', 'rPngEBzr3eBDPDkQ3m2KxZkKMrNzDQvBDw', {'weight': 18}), ('rPngEBzr3eBDPDkQ3m2KxZkKMrNzDQvBDw', 'rLkxgtFZmh3YACfiDWGAGN2iiKobZFBs3F', {'weight': 29}), ('rLm5YFCQ9y3ESLqWT9SnNkvkJzqezY4A9D', 'rwe8epXe7xEZAvt6P51z8r2P9ZJ7g5ZD9U', {'weight': 50}), ('rwe8epXe7xEZAvt6P51z8r2P9ZJ7g5ZD9U', 'rLm5YFCQ9y3ESLqWT9SnNkvkJzqezY4A9D', {'weight': 77}), ('rLmYAhDYoDutn8xL1PyEMF1zK2vZHmcn4V', 'rLnTw2XewPJ85rDmPfcQ3PTMgAgXuZ6DXu', {'weight': 14}), ('rLnTw2XewPJ85rDmPfcQ3PTMgAgXuZ6DXu', 'rLmYAhDYoDutn8xL1PyEMF1zK2vZHmcn4V', {'weight': 25}), ('rLmxdAqAUQqTPHRLdKgskkF6Dch8R24qoA', 'rPkJK6ALyFUzuTMGdJy8y6eUv9JW2yeqSn', {'weight': 36}), ('rPkJK6ALyFUzuTMGdJy8y6eUv9JW2yeqSn', 'rLmxdAqAUQqTPHRLdKgskkF6Dch8R24qoA', {'weight': 24}), ('rLnMUig8cUChZpfWkxLc2K7YTWDuaVpa1D', 'rpDyLVQRCar8B5APMK9RxQugfsNmMzCvkx', {'weight': 31}), ('rpDyLVQRCar8B5APMK9RxQugfsNmMzCvkx', 'rLnMUig8cUChZpfWkxLc2K7YTWDuaVpa1D', {'weight': 20}), ('rLnpThCPVx7QtNdNuc7YFgHKTwF4RR21Vn', 'rUf7o4uTTr2GcadDmrDLUH55X55HXa97vD', {'weight': 41}), ('rUf7o4uTTr2GcadDmrDLUH55X55HXa97vD', 'rLnpThCPVx7QtNdNuc7YFgHKTwF4RR21Vn', {'weight': 32}), ('rLoey1pCX887Ko3Kjq5P9G2Edk7fVBLHoT', 'rNbfzeqP1s4PvmqB4YzZ8UQ6jEaSus1m1m', {'weight': 95}), ('rNbfzeqP1s4PvmqB4YzZ8UQ6jEaSus1m1m', 'rLoey1pCX887Ko3Kjq5P9G2Edk7fVBLHoT', {'weight': 81}), ('rLoqqbsYr9zwrQUkxtNRwMHBdg7axi6r6E', 'rUns8xKB8UyMiBct44gWk3Hf7Wac8rCCD3', {'weight': 29}), ('rUns8xKB8UyMiBct44gWk3Hf7Wac8rCCD3', 'rLoqqbsYr9zwrQUkxtNRwMHBdg7axi6r6E', {'weight': 14}), ('rLpBESMez4bgsH6gy5URW1upT1mhek1aZn', 'ratKjYWUS4mqnq8BSamivtcnv9nYJsZbyG', {'weight': 22}), ('ratKjYWUS4mqnq8BSamivtcnv9nYJsZbyG', 'rLpBESMez4bgsH6gy5URW1upT1mhek1aZn', {'weight': 32}), ('rLpKpw4HFjei1ociv9VXbvhATGvWaxJnm4', 'rPZdHjupcVwa78j9AYk3FhHfE5jqjtvU1S', {'weight': 37}), ('rPZdHjupcVwa78j9AYk3FhHfE5jqjtvU1S', 'rLpKpw4HFjei1ociv9VXbvhATGvWaxJnm4', {'weight': 45}), ('rLpQRh2zmDETm1mbi2prz3BCd4xxyZsu5h', 'ranZza4V4waupX3DFkC32fb9F9RXoQ9TSR', {'weight': 26}), ('ranZza4V4waupX3DFkC32fb9F9RXoQ9TSR', 'rLpQRh2zmDETm1mbi2prz3BCd4xxyZsu5h', {'weight': 15}), ('rLpWUgVnwYrDtcTgLEDHv6MLL8gQerkbfe', 'rMyWNDEvJeDvsYp9xY65aVhFwvverMCUQw', {'weight': 90}), ('rMyWNDEvJeDvsYp9xY65aVhFwvverMCUQw', 'rLpWUgVnwYrDtcTgLEDHv6MLL8gQerkbfe', {'weight': 71}), ('rLq23EJ2DxpwawrfHA55BmizcU5dMYdtGh', 'rpiLyc58mYn2bsX5Sa1j386qh7z5YL8MSf', {'weight': 31}), ('rpiLyc58mYn2bsX5Sa1j386qh7z5YL8MSf', 'rLq23EJ2DxpwawrfHA55BmizcU5dMYdtGh', {'weight': 15}), ('rLq6exwybzie79irzahDpKwy5rzaQJGXbM', 'rwhz33dGR8PVsF1cViucMqGgrxFey6YAa7', {'weight': 28}), ('rwhz33dGR8PVsF1cViucMqGgrxFey6YAa7', 'rLq6exwybzie79irzahDpKwy5rzaQJGXbM', {'weight': 18}), ('rLqtea2mjTe8ehY9uMuBSHNkj1Fq9nXocs', 'rMCj2F93RVZQ2Tw1EDQsJAybEwMRU7QKC3', {'weight': 47}), ('rMCj2F93RVZQ2Tw1EDQsJAybEwMRU7QKC3', 'rLqtea2mjTe8ehY9uMuBSHNkj1Fq9nXocs', {'weight': 38}), ('rLrsW6UFkFfzWZiyuVdAa9w5UzXLTYyDt4', 'rheN4XDm4nK9yVLjkZc41oXuLxSxSPDPc3', {'weight': 17}), ('rheN4XDm4nK9yVLjkZc41oXuLxSxSPDPc3', 'rLrsW6UFkFfzWZiyuVdAa9w5UzXLTYyDt4', {'weight': 28}), ('rLskQr8WWwWhLpnZScMraLVipj6wKQRYH6', 'rbbpk9GKa3nJGByQNzcJGLKqYHrDFpk59', {'weight': 16}), ('rbbpk9GKa3nJGByQNzcJGLKqYHrDFpk59', 'rLskQr8WWwWhLpnZScMraLVipj6wKQRYH6', {'weight': 25}), ('rLt27CjJNd98Qk8gV81ePMayG3GMeKxaGz', 'rwkrscrcZQA4gQDQFwbCsVPnftAnkVt4xy', {'weight': 30}), ('rwkrscrcZQA4gQDQFwbCsVPnftAnkVt4xy', 'rLt27CjJNd98Qk8gV81ePMayG3GMeKxaGz', {'weight': 42}), ('rLt2hFy2N1QUKYKzPwU9PcQ7EuMy2RGUoA', 'rnuFsMVfN53HcmWMbXgbb8KB9HwEPPeXuB', {'weight': 14}), ('rnuFsMVfN53HcmWMbXgbb8KB9HwEPPeXuB', 'rLt2hFy2N1QUKYKzPwU9PcQ7EuMy2RGUoA', {'weight': 24}), ('rLtnyEuHH5PZoxfwPTCaAQLpcCoNZE4Fu3', 'rhSAVyZTNS88tnvC5yH7rXUdDKcW2Yp4Lb', {'weight': 34}), ('rhSAVyZTNS88tnvC5yH7rXUdDKcW2Yp4Lb', 'rLtnyEuHH5PZoxfwPTCaAQLpcCoNZE4Fu3', {'weight': 22}), ('rLtuDcCcV1rjWJueatY1qDnCwRuxQNQCa2', 'rph8wdK6JfhZhkq9DXCWDTYMcH9p92bf1H', {'weight': 21}), ('rph8wdK6JfhZhkq9DXCWDTYMcH9p92bf1H', 'rLtuDcCcV1rjWJueatY1qDnCwRuxQNQCa2', {'weight': 33}), ('rLuSKXgXCAxDizF393qw4PR9VhQ3h7dnQz', 'rhp7MTb9ex81H2Kyv4NDWe6MFFc6Q7p2Hf', {'weight': 77}), ('rhp7MTb9ex81H2Kyv4NDWe6MFFc6Q7p2Hf', 'rLuSKXgXCAxDizF393qw4PR9VhQ3h7dnQz', {'weight': 92}), ('rLumB4Cfs7YZYNiz39BznoBwxQV297ckhb', 'raTDyT7R6GdDyX3XciwVik12yQh7nNdv8K', {'weight': 27}), ('raTDyT7R6GdDyX3XciwVik12yQh7nNdv8K', 'rLumB4Cfs7YZYNiz39BznoBwxQV297ckhb', {'weight': 18}), ('rLvJp4FxHH99MFPrBqTDk6oqo7wgRbms5C', 'rsjTma8DjHwM7o5g8RpGdoiEMr1q4QE7Wj', {'weight': 28}), ('rsjTma8DjHwM7o5g8RpGdoiEMr1q4QE7Wj', 'rLvJp4FxHH99MFPrBqTDk6oqo7wgRbms5C', {'weight': 18}), ('rLwNvss97B8RntMkhcrhY43nK5bF5iyxto', 'rsfTZ8G1pTd9ngQbeFFTjsXsmkaHjDWKxv', {'weight': 34}), ('rsfTZ8G1pTd9ngQbeFFTjsXsmkaHjDWKxv', 'rLwNvss97B8RntMkhcrhY43nK5bF5iyxto', {'weight': 24}), ('rLwUjm5F8vE63ouKMNDXDTmgP9d6Xa7LLW', 'rhNHggfShMidnq483KSvUf1XVug2TioFYa', {'weight': 19}), ('rhNHggfShMidnq483KSvUf1XVug2TioFYa', 'rLwUjm5F8vE63ouKMNDXDTmgP9d6Xa7LLW', {'weight': 30}), ('rLwjP9tbFisrQTVr5zZ2zCYjPQ6EYGnruo', 'rpfvszGdWDEC88AaYSa6VgWi6qv1RpB7aZ', {'weight': 35}), ('rpfvszGdWDEC88AaYSa6VgWi6qv1RpB7aZ', 'rLwjP9tbFisrQTVr5zZ2zCYjPQ6EYGnruo', {'weight': 23}), ('rLyQsDE1tc1gFpK4jh2w6nNxJpLTT7afCF', 'rMhEYa5dFvxJ5KHki6iggNrSMLqjCgEPsJ', {'weight': 33}), ('rMhEYa5dFvxJ5KHki6iggNrSMLqjCgEPsJ', 'rLyQsDE1tc1gFpK4jh2w6nNxJpLTT7afCF', {'weight': 21}), ('rLyT4SL6WzJPDbKt7fGijKTUG5nVSJAWo4', 'rpkNy1Vu3BdswGfyCyThAjVmt4yCGAsS9Z', {'weight': 62}), ('rpkNy1Vu3BdswGfyCyThAjVmt4yCGAsS9Z', 'rLyT4SL6WzJPDbKt7fGijKTUG5nVSJAWo4', {'weight': 82}), ('rLyUxiHxjtEo4KnHu8tfnpvTktkKVqE3JB', 'rQJBX96pgf2HjTnJMTXYuJwXRGCSCBgGsb', {'weight': 19}), ('rQJBX96pgf2HjTnJMTXYuJwXRGCSCBgGsb', 'rLyUxiHxjtEo4KnHu8tfnpvTktkKVqE3JB', {'weight': 28}), ('rLz4kxfQJquHGwqzRZmfLQ7sF8b3NRDMc', 'rUkSM4DnUoa9YgUB2xXQFMZVVW3uN3kGoc', {'weight': 26}), ('rUkSM4DnUoa9YgUB2xXQFMZVVW3uN3kGoc', 'rLz4kxfQJquHGwqzRZmfLQ7sF8b3NRDMc', {'weight': 14}), ('rLzgTNLiNJDLAoWHj611sS4yQcqVGBQUea', 'rsej6X92pUUBV36FJUgrScfEgGJsFPFxVv', {'weight': 22}), ('rsej6X92pUUBV36FJUgrScfEgGJsFPFxVv', 'rLzgTNLiNJDLAoWHj611sS4yQcqVGBQUea', {'weight': 31}), ('rLzvairEcN7UFXWYTP5rQgzYS5gYnokMHf', 'rsr1upoYRGFnFUVi3pC4drjTaVeQz96Q1w', {'weight': 21}), ('rsr1upoYRGFnFUVi3pC4drjTaVeQz96Q1w', 'rLzvairEcN7UFXWYTP5rQgzYS5gYnokMHf', {'weight': 12}), ('rM1QBGUbuRxLNuSGkqyAaNtL9FFBbxpGyc', 'rN4n4cc3TQdK2LgMAwWFpR4W15XDTW7HLJ', {'weight': 24}), ('rN4n4cc3TQdK2LgMAwWFpR4W15XDTW7HLJ', 'rM1QBGUbuRxLNuSGkqyAaNtL9FFBbxpGyc', {'weight': 36}), ('rM1tWHdQrgpV9bZ3qT8npQPGDh9z2iruWt', 'rhu79neYSzkRvuTnXCztxKbUdvi9QpdiTr', {'weight': 20}), ('rhu79neYSzkRvuTnXCztxKbUdvi9QpdiTr', 'rM1tWHdQrgpV9bZ3qT8npQPGDh9z2iruWt', {'weight': 30}), ('rM25fjfjiWy9Ueu3ZERndqqP1MTuAeMGJj', 'ryV4frXquQAMiEwiMBNfUPpHvHcRDsFBT', {'weight': 14}), ('ryV4frXquQAMiEwiMBNfUPpHvHcRDsFBT', 'rM25fjfjiWy9Ueu3ZERndqqP1MTuAeMGJj', {'weight': 24}), ('rM2uzKqv5XEL7Uf2dY7yfHYAfe78dP3jNZ', 'ra1tTE6PNnEivCgE1EGBAR8xjjt5gJT15C', {'weight': 18}), ('ra1tTE6PNnEivCgE1EGBAR8xjjt5gJT15C', 'rM2uzKqv5XEL7Uf2dY7yfHYAfe78dP3jNZ', {'weight': 28}), ('rM2wM74TxDAcESeeY4NLTVMqmLwbqeXTHo', 'rscssN5mbrEhXgAhfJdgN2bK5CeuEFyqc4', {'weight': 90}), ('rscssN5mbrEhXgAhfJdgN2bK5CeuEFyqc4', 'rM2wM74TxDAcESeeY4NLTVMqmLwbqeXTHo', {'weight': 73}), ('rM3JQ5ZLzq1KCKrtt4NCV6VDDPwxkQK8hX', 'rMMjQDqQXso2faoHTJzgDpNyJuwQziUNAk', {'weight': 17}), ('rMMjQDqQXso2faoHTJzgDpNyJuwQziUNAk', 'rM3JQ5ZLzq1KCKrtt4NCV6VDDPwxkQK8hX', {'weight': 32}), ('rM3Q2PxwHqcY7gVkF98c9ew2Abw2DcMLny', 'rpkjNFcFV3D6E4zQJv8MifdfqVmaENDbMN', {'weight': 29}), ('rpkjNFcFV3D6E4zQJv8MifdfqVmaENDbMN', 'rM3Q2PxwHqcY7gVkF98c9ew2Abw2DcMLny', {'weight': 17}), ('rM3vDaPvFtp7GxpDCHzA8YwzsSTvyrRmML', 'raU2oAppnhz7Ru4QMfygo89EP6xCG3qj4J', {'weight': 45}), ('raU2oAppnhz7Ru4QMfygo89EP6xCG3qj4J', 'rM3vDaPvFtp7GxpDCHzA8YwzsSTvyrRmML', {'weight': 69}), ('rM42d6tdeQpcf4ejqdTumj355dr4TPdnxy', 'rfGdF1k2Jc8bvotn2bGRMwDoU61eAjiXWo', {'weight': 15}), ('rfGdF1k2Jc8bvotn2bGRMwDoU61eAjiXWo', 'rM42d6tdeQpcf4ejqdTumj355dr4TPdnxy', {'weight': 28}), ('rM4588j6NMxX7wfGGY2SSZbupRfQzM8xm7', 'rnfvrvVejgQ4h9zdmJLzxDKzcz1X8StuSW', {'weight': 24}), ('rnfvrvVejgQ4h9zdmJLzxDKzcz1X8StuSW', 'rM4588j6NMxX7wfGGY2SSZbupRfQzM8xm7', {'weight': 14}), ('rM4wRCpmbPnrMs6VDRniJiKLb7KVYT1eWY', 'rnw8M3J8wgBWr4Zhz9D7Rvp3HWzLmMdbQ1', {'weight': 109}), ('rnw8M3J8wgBWr4Zhz9D7Rvp3HWzLmMdbQ1', 'rM4wRCpmbPnrMs6VDRniJiKLb7KVYT1eWY', {'weight': 99}), ('rM5RcZKARD3786ijmWuxcPcybRskSKFVLF', 'rnD3B22dDCjnvSugvyWYPrReYfPVkBx1sW', {'weight': 31}), ('rnD3B22dDCjnvSugvyWYPrReYfPVkBx1sW', 'rM5RcZKARD3786ijmWuxcPcybRskSKFVLF', {'weight': 21}), ('rM65hhk9GFYxVK8AzYf4wHR48RKseiaMq5', 'rQNPASqUKmiAPgagaVmxRGXAJZGbhLNZSW', {'weight': 24}), ('rQNPASqUKmiAPgagaVmxRGXAJZGbhLNZSW', 'rM65hhk9GFYxVK8AzYf4wHR48RKseiaMq5', {'weight': 35}), ('rM6xbZEGeu5BQRkgSuQ58DbPPjTNxZ9hRD', 'rs4JWoBg6ySPWQDNncEVtd7MYxutk3sCF6', {'weight': 14}), ('rs4JWoBg6ySPWQDNncEVtd7MYxutk3sCF6', 'rM6xbZEGeu5BQRkgSuQ58DbPPjTNxZ9hRD', {'weight': 28}), ('rM6zjg5JQo7zKnVpnV8EW6AGGkJ8rfXAv6', 'rwgNqLzUo95sG4TKvfoQ1V1AoaxhTQmcki', {'weight': 11}), ('rwgNqLzUo95sG4TKvfoQ1V1AoaxhTQmcki', 'rM6zjg5JQo7zKnVpnV8EW6AGGkJ8rfXAv6', {'weight': 23}), ('rM7HD5wSXf85bHmYZGTgJxoag26dinvPmg', 'rwo2CihJHRYAu3nb2tRQRUUh1vRtV1L9D3', {'weight': 26}), ('rwo2CihJHRYAu3nb2tRQRUUh1vRtV1L9D3', 'rM7HD5wSXf85bHmYZGTgJxoag26dinvPmg', {'weight': 16}), ('rM8HMKXKwSyX2JUikkJXLjvvss3TrnmQaS', 'raMHPU4zYUVxkkQnmtfGgQQfAwjwSS38uw', {'weight': 23}), ('raMHPU4zYUVxkkQnmtfGgQQfAwjwSS38uw', 'rM8HMKXKwSyX2JUikkJXLjvvss3TrnmQaS', {'weight': 37}), ('rM8cD1hmmX1t224SVp5iW55BYfpxmgyQPC', 'rsMB3jVrULvJjaSJ4bsfyrFdA4858BwFho', {'weight': 33}), ('rsMB3jVrULvJjaSJ4bsfyrFdA4858BwFho', 'rM8cD1hmmX1t224SVp5iW55BYfpxmgyQPC', {'weight': 22}), ('rM8nLEFuM8DzXA2yFdcP8y6qYwNvRKX8gA', 'rPmJ9oQu9UmrNbMfu93rTZRdcZt9KSNeG', {'weight': 21}), ('rPmJ9oQu9UmrNbMfu93rTZRdcZt9KSNeG', 'rM8nLEFuM8DzXA2yFdcP8y6qYwNvRKX8gA', {'weight': 33}), ('rM8tfbQiDYh3QqHb8ZYA1K22qSqCrJK3Po', 'rapKkTemvMfi7sMxQaUQr9YZZH6mrgWx49', {'weight': 82}), ('rapKkTemvMfi7sMxQaUQr9YZZH6mrgWx49', 'rM8tfbQiDYh3QqHb8ZYA1K22qSqCrJK3Po', {'weight': 96}), ('rM95LHdNTTewGrkUeB65ik6JHULYfSJ7Lu', 'rwxYCizSUiSDMTzr3JcL1YWMiLoEp7Hd9A', {'weight': 99}), ('rwxYCizSUiSDMTzr3JcL1YWMiLoEp7Hd9A', 'rM95LHdNTTewGrkUeB65ik6JHULYfSJ7Lu', {'weight': 111}), ('rM9kz9yxkbSYprPpUjAjG2DjhPT9U7uWm8', 'rPwhkoWi76nXYR1PfcbXtK7AkKa18AnoSf', {'weight': 25}), ('rPwhkoWi76nXYR1PfcbXtK7AkKa18AnoSf', 'rM9kz9yxkbSYprPpUjAjG2DjhPT9U7uWm8', {'weight': 35}), ('rMACt1xmPjYiUbUzYJcdVgXsBoSCED5DX5', 'rPvwEMgzBdfbZMonu1hXformkC16dDPXLD', {'weight': 17}), ('rPvwEMgzBdfbZMonu1hXformkC16dDPXLD', 'rMACt1xmPjYiUbUzYJcdVgXsBoSCED5DX5', {'weight': 27}), ('rMAHBQDtYm6j6kt7Y97K85S2quKCPSXYjw', 'rwCZ8H8xV6q8FnzF5SoYSZDBUW2udxkQjz', {'weight': 83}), ('rwCZ8H8xV6q8FnzF5SoYSZDBUW2udxkQjz', 'rMAHBQDtYm6j6kt7Y97K85S2quKCPSXYjw', {'weight': 63}), ('rMAdwHHSyxRngVkJK81TiF5yCthf7d72jr', 'rpC4zsW7YYE1KEiDwSHwzZUPQ6NdZvmffT', {'weight': 15}), ('rpC4zsW7YYE1KEiDwSHwzZUPQ6NdZvmffT', 'rMAdwHHSyxRngVkJK81TiF5yCthf7d72jr', {'weight': 26}), ('rMBmBXhpa2ouqYUVmDTG72p3c6qcJSoJkH', 'rpX2AKQgy2CoV2djqoCdsyuZY5tDkC8qSm', {'weight': 91}), ('rpX2AKQgy2CoV2djqoCdsyuZY5tDkC8qSm', 'rMBmBXhpa2ouqYUVmDTG72p3c6qcJSoJkH', {'weight': 76}), ('rMC7mtFn21dtz7BdJUruYY61Ga7fpowbYY', 'rnVN1ETiTYtpE8ifXqrZCSQnydpb4DWRhi', {'weight': 16}), ('rnVN1ETiTYtpE8ifXqrZCSQnydpb4DWRhi', 'rMC7mtFn21dtz7BdJUruYY61Ga7fpowbYY', {'weight': 25}), ('rMCK2FMun33SfJeHo7U8rPpSxu2hYywFqg', 'rwm1jrVUYsqPcT9YvS1ucBcQMrbV92XnnG', {'weight': 14}), ('rwm1jrVUYsqPcT9YvS1ucBcQMrbV92XnnG', 'rMCK2FMun33SfJeHo7U8rPpSxu2hYywFqg', {'weight': 28}), ('rMCbDSoLVGsDGrUe14HnhQEqhudHsP5sVZ', 'rNpsDXocQy4bDvz6yw2SESNUTLGL8cfXcp', {'weight': 28}), ('rNpsDXocQy4bDvz6yw2SESNUTLGL8cfXcp', 'rMCbDSoLVGsDGrUe14HnhQEqhudHsP5sVZ', {'weight': 15}), ('rMCeHdrBeXXmU3k6kCzKcy5UBLNeiUkJH5', 'rn82qdMAVe5RPDx8WufziBbtkWGSRfWurE', {'weight': 41}), ('rn82qdMAVe5RPDx8WufziBbtkWGSRfWurE', 'rMCeHdrBeXXmU3k6kCzKcy5UBLNeiUkJH5', {'weight': 30}), ('rMCsrwtMBJL8pmVctubmsVNtx4Qe6F9Rmq', 'rPxLJdn1ktmdo2s3QGx6NTb2wSbrheSyN9', {'weight': 93}), ('rPxLJdn1ktmdo2s3QGx6NTb2wSbrheSyN9', 'rMCsrwtMBJL8pmVctubmsVNtx4Qe6F9Rmq', {'weight': 75}), ('rMDdp1UgkhSMQ9hg39egR2QTZCXFTTsTYY', 'rMtYrMRQ6qusWrVCuEix2cyFu4PpnwjffA', {'weight': 16}), ('rMtYrMRQ6qusWrVCuEix2cyFu4PpnwjffA', 'rMDdp1UgkhSMQ9hg39egR2QTZCXFTTsTYY', {'weight': 25}), ('rMDp7oE8yhwYa3f1N5S5uH46faatYqFHEr', 'rPKLAAkDptzEZzurwvEp7ygtKQ9qa1CtqN', {'weight': 29}), ('rPKLAAkDptzEZzurwvEp7ygtKQ9qa1CtqN', 'rMDp7oE8yhwYa3f1N5S5uH46faatYqFHEr', {'weight': 20}), ('rMEh1J8sCiyB7DbaTqjxJhMtuDE9e7Eu5u', 'rN7dKq446jpadx6g1bDektn7JRH2Nk4H3L', {'weight': 21}), ('rN7dKq446jpadx6g1bDektn7JRH2Nk4H3L', 'rMEh1J8sCiyB7DbaTqjxJhMtuDE9e7Eu5u', {'weight': 11}), ('rMEhGPjyN4SCLPWDtk3psWeKBjjbTsYUxT', 'rU1g1hr7wAvuhyX2AAyaXyybynZhpeBy2E', {'weight': 36}), ('rU1g1hr7wAvuhyX2AAyaXyybynZhpeBy2E', 'rMEhGPjyN4SCLPWDtk3psWeKBjjbTsYUxT', {'weight': 22}), ('rMGF66RSunh6wNDMhhL1tPXe86yEaayaVD', 'rUufRnaEFaZCd2PbM2fYk6zK5Y7CfgQ5ud', {'weight': 25}), ('rUufRnaEFaZCd2PbM2fYk6zK5Y7CfgQ5ud', 'rMGF66RSunh6wNDMhhL1tPXe86yEaayaVD', {'weight': 38}), ('rMGQW5oa9cb6w5k8cJ3Bm2mdrNnxxpXKUS', 'rnvLTPcXPBgK3qGgDcijYPos75pHXuExtP', {'weight': 26}), ('rnvLTPcXPBgK3qGgDcijYPos75pHXuExtP', 'rMGQW5oa9cb6w5k8cJ3Bm2mdrNnxxpXKUS', {'weight': 17}), ('rMGxG9hjw5xLJPeNTfgAXsTctDpvXAut69', 'rpcHfRadQY2C3h3NJYr7ktriUK7oVdgjAr', {'weight': 39}), ('rpcHfRadQY2C3h3NJYr7ktriUK7oVdgjAr', 'rMGxG9hjw5xLJPeNTfgAXsTctDpvXAut69', {'weight': 29}), ('rMH4r3fdwZTLNTcqyWbLWFYRETbG5GMVFQ', 'rwN4MxeL8qHBecmwBtCDPvDybwytJAbmJn', {'weight': 15}), ('rwN4MxeL8qHBecmwBtCDPvDybwytJAbmJn', 'rMH4r3fdwZTLNTcqyWbLWFYRETbG5GMVFQ', {'weight': 28}), ('rMHGj3U4AAjEiWNUYHZFQciYMbjqjpSxt5', 'rbdmoyfAdUJWvwNiP5ZKRw2bNFwkCSVCM', {'weight': 32}), ('rbdmoyfAdUJWvwNiP5ZKRw2bNFwkCSVCM', 'rMHGj3U4AAjEiWNUYHZFQciYMbjqjpSxt5', {'weight': 22}), ('rMHnKzK3VkU7VnKvWqFZHr6HDBD8M4MREn', 'rPXkQ5FkXYNxNQvcgYkusMjxt2YenH2rsw', {'weight': 28}), ('rPXkQ5FkXYNxNQvcgYkusMjxt2YenH2rsw', 'rMHnKzK3VkU7VnKvWqFZHr6HDBD8M4MREn', {'weight': 17}), ('rMJFJwovqz2uHjXqkt9t8vXshYGQx8U86q', 'rnhQw6Ytoggc8hcgpzVRxwNw4TU1auiaER', {'weight': 24}), ('rnhQw6Ytoggc8hcgpzVRxwNw4TU1auiaER', 'rMJFJwovqz2uHjXqkt9t8vXshYGQx8U86q', {'weight': 36}), ('rMJLLSSanKeYDGdgcmsFUfMqwmqMTDQt4L', 'rw6ifvNyGgygCcDBNPhepmLyFJsra9F1kb', {'weight': 33}), ('rw6ifvNyGgygCcDBNPhepmLyFJsra9F1kb', 'rMJLLSSanKeYDGdgcmsFUfMqwmqMTDQt4L', {'weight': 23}), ('rMJMze1Qhi26naxfcEiZPN63viaQNP1ckd', 'rfRccwR3L2tYNiWsJbKkzzWKiY8ML2FhM8', {'weight': 27}), ('rfRccwR3L2tYNiWsJbKkzzWKiY8ML2FhM8', 'rMJMze1Qhi26naxfcEiZPN63viaQNP1ckd', {'weight': 15}), ('rMJoFnhBfDyC7yLMhun1Z1mMcBtmXJY9ae', 'rPJoU2nJBM7dZsuu8f6vW8jMSqJ3VDqDUy', {'weight': 1}), ('rPJoU2nJBM7dZsuu8f6vW8jMSqJ3VDqDUy', 'rMJoFnhBfDyC7yLMhun1Z1mMcBtmXJY9ae', {'weight': 47}), ('rMKXgyVziicHin5zYUFqsXmrdyYJqCCfWR', 'rsSv7iHMwKeoKgHVVzBQfaaKGJMekSRPJe', {'weight': 31}), ('rsSv7iHMwKeoKgHVVzBQfaaKGJMekSRPJe', 'rMKXgyVziicHin5zYUFqsXmrdyYJqCCfWR', {'weight': 16}), ('rMLhgZEVRpsmD65w3zNQDTVSPn2Pn7MfT6', 'rfzSPiAQ35f2EzfSiayzHcUH3Qrvk8QXeE', {'weight': 31}), ('rfzSPiAQ35f2EzfSiayzHcUH3Qrvk8QXeE', 'rMLhgZEVRpsmD65w3zNQDTVSPn2Pn7MfT6', {'weight': 40}), ('rMLxsR17jkuUaxo2vD6xcVs2y9FdjyeXC4', 'rwJTGGS8UM5Z7JFghKDM4okbrP2JtYwNhA', {'weight': 37}), ('rwJTGGS8UM5Z7JFghKDM4okbrP2JtYwNhA', 'rMLxsR17jkuUaxo2vD6xcVs2y9FdjyeXC4', {'weight': 23}), ('rMNthmTMCLqGutW7jRDA3qoDmHogcP5K4P', 'rUwy1ApASRYgdFfmoPcwBJNSfjy8mQ9Afj', {'weight': 60}), ('rUwy1ApASRYgdFfmoPcwBJNSfjy8mQ9Afj', 'rMNthmTMCLqGutW7jRDA3qoDmHogcP5K4P', {'weight': 80}), ('rMNy9Hfjt3axjPYxHDrgQTRrW6YPExrmvy', 'rwbFN425hxPLcvwbkDqb1LaLTbPGTSZi8R', {'weight': 19}), ('rwbFN425hxPLcvwbkDqb1LaLTbPGTSZi8R', 'rMNy9Hfjt3axjPYxHDrgQTRrW6YPExrmvy', {'weight': 31}), ('rMPFuqa9nay8TWWMHLMZeU9xap4De27Z3e', 'rfXDdz6MSgV6gU1M6n6Y4LBx8rGkRDKDca', {'weight': 14}), ('rfXDdz6MSgV6gU1M6n6Y4LBx8rGkRDKDca', 'rMPFuqa9nay8TWWMHLMZeU9xap4De27Z3e', {'weight': 24}), ('rMPWaoTE9FLT674oUwBfyBtAUG9ouCjZ8B', 'rfX7fjAfmCPriTHJcKstCfcr9aNdUpkcJY', {'weight': 29}), ('rfX7fjAfmCPriTHJcKstCfcr9aNdUpkcJY', 'rMPWaoTE9FLT674oUwBfyBtAUG9ouCjZ8B', {'weight': 21}), ('rMPXcrMGyLZaTtGrynxRSqpxs8BgiJ2Lsh', 'rPpU1BxE6QpeDgA8CJpHuTh3yTWDzztSph', {'weight': 32}), ('rPpU1BxE6QpeDgA8CJpHuTh3yTWDzztSph', 'rMPXcrMGyLZaTtGrynxRSqpxs8BgiJ2Lsh', {'weight': 21}), ('rMQHhRK7BadHCCmnvxytWov5ZN9cLC66mD', 'rNN6mgxb2HvLfuy6XEgGJuF7JWkDdBFZMU', {'weight': 26}), ('rNN6mgxb2HvLfuy6XEgGJuF7JWkDdBFZMU', 'rMQHhRK7BadHCCmnvxytWov5ZN9cLC66mD', {'weight': 35}), ('rMQbeNkNpEXUXk9YrYCLo7gdoa3FHzJ7wu', 'rnc4xSm6rdKjnYA66QKECPgxD5SvzefqUC', {'weight': 31}), ('rnc4xSm6rdKjnYA66QKECPgxD5SvzefqUC', 'rMQbeNkNpEXUXk9YrYCLo7gdoa3FHzJ7wu', {'weight': 21}), ('rMQt1aJ4fdoNHdB9URk67TUWgECLJB4e2w', 'rPJ3A43nADvFM2qCdaKhiBJtHMtADNB8GB', {'weight': 26}), ('rPJ3A43nADvFM2qCdaKhiBJtHMtADNB8GB', 'rMQt1aJ4fdoNHdB9URk67TUWgECLJB4e2w', {'weight': 15}), ('rMR6y42YwakMLHH89SWEjsWQUpRVKrTbEZ', 'rMmotS6EVAEQZP6sL3XvqbLWvkjmG5GSDf', {'weight': 22}), ('rMmotS6EVAEQZP6sL3XvqbLWvkjmG5GSDf', 'rMR6y42YwakMLHH89SWEjsWQUpRVKrTbEZ', {'weight': 34}), ('rMRJo255poSjtJsmZ49nJmzx3TJURWfYip', 'raFgw2RpbJQvm8h7NZX4fn8RCokdLSAGPW', {'weight': 27}), ('raFgw2RpbJQvm8h7NZX4fn8RCokdLSAGPW', 'rMRJo255poSjtJsmZ49nJmzx3TJURWfYip', {'weight': 17}), ('rMRmFKLwYFGN19e6yJbf6nL6zpzdHFhWFs', 'rNm5weyGVQj8aCTJrqtKYB2XgTDZUNj7pL', {'weight': 92}), ('rNm5weyGVQj8aCTJrqtKYB2XgTDZUNj7pL', 'rMRmFKLwYFGN19e6yJbf6nL6zpzdHFhWFs', {'weight': 73}), ('rMRw6HseLpd2gCh2Td1DqRiMgSwNcqJoTS', 'rU44773hAroL43RCvFTTrtzmVH39SZNoK1', {'weight': 28}), ('rU44773hAroL43RCvFTTrtzmVH39SZNoK1', 'rMRw6HseLpd2gCh2Td1DqRiMgSwNcqJoTS', {'weight': 15}), ('rMS84bT4NJCZk2ZfTpnLL6pXSELy5n64sj', 'rMm8e5eLzHYFdWgkiHJgBovqysn8jJ1cWj', {'weight': 38}), ('rMm8e5eLzHYFdWgkiHJgBovqysn8jJ1cWj', 'rMS84bT4NJCZk2ZfTpnLL6pXSELy5n64sj', {'weight': 30}), ('rMT8ugPNt53BZr6SYTsxwQ7c3AahG36Pyz', 'rUy5R1Dd3MitKjrn2ZP5xm8cnfffDexMqu', {'weight': 30}), ('rUy5R1Dd3MitKjrn2ZP5xm8cnfffDexMqu', 'rMT8ugPNt53BZr6SYTsxwQ7c3AahG36Pyz', {'weight': 17}), ('rMTUNotcNpVRDdmyL7jfVb94Wbx6azFNxf', 'rMxaTFgWPxNRDv8msKw8CxbEMuE8o6zKWB', {'weight': 20}), ('rMxaTFgWPxNRDv8msKw8CxbEMuE8o6zKWB', 'rMTUNotcNpVRDdmyL7jfVb94Wbx6azFNxf', {'weight': 30}), ('rMTdDBiYBNa8mu61CmYeMdYzfxudFwdzKf', 'rPMQfp12pPcAgTRQZ3qxqQNqf3DwaLCLa7', {'weight': 33}), ('rPMQfp12pPcAgTRQZ3qxqQNqf3DwaLCLa7', 'rMTdDBiYBNa8mu61CmYeMdYzfxudFwdzKf', {'weight': 22}), ('rMTpbaTe7FgCZCMHwq5RNQXiyuj1kZyZQC', 'rNA656yw8PrsVusvYz3aJ8dZsFuzsfPahK', {'weight': 31}), ('rNA656yw8PrsVusvYz3aJ8dZsFuzsfPahK', 'rMTpbaTe7FgCZCMHwq5RNQXiyuj1kZyZQC', {'weight': 22}), ('rMTteJZ1Jpkb8SfiopSjsLZW4GKKJDVoe7', 'rhtVsFzwKMr1NQ9soBx6swd5M3QtRokkJz', {'weight': 30}), ('rhtVsFzwKMr1NQ9soBx6swd5M3QtRokkJz', 'rMTteJZ1Jpkb8SfiopSjsLZW4GKKJDVoe7', {'weight': 20}), ('rMU9XcVCcYx9s8FSdiEXhFwWdpKPB4fP7r', 'rnTYHEd66AGNnLbq1FgYyNwpfJPQrQEVuW', {'weight': 27}), ('rnTYHEd66AGNnLbq1FgYyNwpfJPQrQEVuW', 'rMU9XcVCcYx9s8FSdiEXhFwWdpKPB4fP7r', {'weight': 37}), ('rMUPoCy4otkM6eU3e7tu4y7yppunNKWLXH', 'rNrw6JdcSiMRgdL1i1rPMkzQpRtbkAipR5', {'weight': 20}), ('rNrw6JdcSiMRgdL1i1rPMkzQpRtbkAipR5', 'rMUPoCy4otkM6eU3e7tu4y7yppunNKWLXH', {'weight': 31}), ('rMUQjT3oqVBaowp9wnrUqiVN6dScb1csE3', 'rwTF1SgS5cyRpRG3jKXXzZvaEEuNPnyHP9', {'weight': 17}), ('rwTF1SgS5cyRpRG3jKXXzZvaEEuNPnyHP9', 'rMUQjT3oqVBaowp9wnrUqiVN6dScb1csE3', {'weight': 31}), ('rMVy6qSnPkYXMDsHcs3o44id4esLUBRBsh', 'rMyW9ddrmeVswcJdbiYEne2rK4Dq1vTJiV', {'weight': 22}), ('rMyW9ddrmeVswcJdbiYEne2rK4Dq1vTJiV', 'rMVy6qSnPkYXMDsHcs3o44id4esLUBRBsh', {'weight': 13}), ('rMWVi3e3kzzdSx4JtYrqEdkgDtgQ5PALds', 'rhaPWEePn3C4VD9VMAX593QyoW1HGNpaJP', {'weight': 103}), ('rhaPWEePn3C4VD9VMAX593QyoW1HGNpaJP', 'rMWVi3e3kzzdSx4JtYrqEdkgDtgQ5PALds', {'weight': 93}), ('rMWYeMpLFAp2WXADxL18Sg9V3KsJgRayfm', 'rprhcPUWctYpVzoYQMigsvm4ukWh1VsFF7', {'weight': 35}), ('rprhcPUWctYpVzoYQMigsvm4ukWh1VsFF7', 'rMWYeMpLFAp2WXADxL18Sg9V3KsJgRayfm', {'weight': 24}), ('rMWx2MLiWo5oanVUo48qjBCmmTpjiCwQ3', 'rhBU28uvam9SEQemoBUgqdPv4XTVB482Nj', {'weight': 23}), ('rhBU28uvam9SEQemoBUgqdPv4XTVB482Nj', 'rMWx2MLiWo5oanVUo48qjBCmmTpjiCwQ3', {'weight': 14}), ('rMX2YADAH7LCpXprbnpUFogWsC7vXNFUm6', 'ra6PHMqANkd3Aw75Si5CcGGGAWwWQ5BCrs', {'weight': 29}), ('ra6PHMqANkd3Aw75Si5CcGGGAWwWQ5BCrs', 'rMX2YADAH7LCpXprbnpUFogWsC7vXNFUm6', {'weight': 14}), ('rMX9ZnM9TtUvUvQxj1LWuy6mf52tUMRKP9', 'rpFL41gbXGUR4ABSKv5KSxGUaJf6A8RPXz', {'weight': 22}), ('rpFL41gbXGUR4ABSKv5KSxGUaJf6A8RPXz', 'rMX9ZnM9TtUvUvQxj1LWuy6mf52tUMRKP9', {'weight': 31}), ('rMXaKd6nH3pzDRnCL6Sz4kqu1S5QGcM8VU', 'rNsRTgKBiUhTidSgv6xJQ8VkNXZCgi4NRd', {'weight': 14}), ('rNsRTgKBiUhTidSgv6xJQ8VkNXZCgi4NRd', 'rMXaKd6nH3pzDRnCL6Sz4kqu1S5QGcM8VU', {'weight': 24}), ('rMYST4wAtibnesSN1DUXb9egLWQWpFqvQB', 'rU8izKbUkzXwWpcFR1i4z9EXV37vqiLbbQ', {'weight': 32}), ('rU8izKbUkzXwWpcFR1i4z9EXV37vqiLbbQ', 'rMYST4wAtibnesSN1DUXb9egLWQWpFqvQB', {'weight': 41}), ('rMYeamV4kLgg611NgvUGFSEYigoX3zmv7x', 'rwfC7BQ8q1p9vBdkRn4H3EMrTuvwX3PDkm', {'weight': 11}), ('rwfC7BQ8q1p9vBdkRn4H3EMrTuvwX3PDkm', 'rMYeamV4kLgg611NgvUGFSEYigoX3zmv7x', {'weight': 21}), ('rMZFdZ4C53hL4f7qmQHsfPZavPXXxh3kw1', 'rnCGChcCzgHVZukipHyKcaKwnnK7KNNy8h', {'weight': 79}), ('rnCGChcCzgHVZukipHyKcaKwnnK7KNNy8h', 'rMZFdZ4C53hL4f7qmQHsfPZavPXXxh3kw1', {'weight': 57}), ('rMZwo7hd2Hbn5QjjuGu9iUc3Yb1BzqVc4h', 'rps48kSK4b9h6rmephzWtMsxF814XgADEZ', {'weight': 35}), ('rps48kSK4b9h6rmephzWtMsxF814XgADEZ', 'rMZwo7hd2Hbn5QjjuGu9iUc3Yb1BzqVc4h', {'weight': 24}), ('rMa3wXhNuCUj8ZybfSQNvdi62b8x7uw6f5', 'rhKdt8M7Ad2QXqTZWorZrf82nPLMAQ4h6H', {'weight': 23}), ('rhKdt8M7Ad2QXqTZWorZrf82nPLMAQ4h6H', 'rMa3wXhNuCUj8ZybfSQNvdi62b8x7uw6f5', {'weight': 36}), ('rMaY8y6JEGqhy47ELxipXH1wLakBuq6Sqx', 'rNKTsxWhULJRiTNuBHVnPqJqi9VHgNrajV', {'weight': 35}), ('rNKTsxWhULJRiTNuBHVnPqJqi9VHgNrajV', 'rMaY8y6JEGqhy47ELxipXH1wLakBuq6Sqx', {'weight': 43}), ('rMbVhcrfYMpaRUCBduv9t9BsaRutkTio41', 'rnkf4tKWRrZLWjGv9EeFXer4rFPiibKYJB', {'weight': 23}), ('rnkf4tKWRrZLWjGv9EeFXer4rFPiibKYJB', 'rMbVhcrfYMpaRUCBduv9t9BsaRutkTio41', {'weight': 13}), ('rMbcST8z89PZ99B5rz4rdsPWXkbFiJiFri', 'rnzowcjshbZ2Mo1tNyBn5tM4aZ1pfK4KtX', {'weight': 15}), ('rnzowcjshbZ2Mo1tNyBn5tM4aZ1pfK4KtX', 'rMbcST8z89PZ99B5rz4rdsPWXkbFiJiFri', {'weight': 31}), ('rMc2HwLg8xkVjrdRGAwTCwLy1uWFBhfrh3', 'rUF6GaHcXUzv9vjT8YZGiVWAPNTboEt4gf', {'weight': 99}), ('rUF6GaHcXUzv9vjT8YZGiVWAPNTboEt4gf', 'rMc2HwLg8xkVjrdRGAwTCwLy1uWFBhfrh3', {'weight': 113}), ('rMcwwPoqiUYJjRqEYmHG6q5b5W629X5cMG', 'rUxezv2gHUyr7EQT4zRjZjeyS2Uc4CcW8v', {'weight': 22}), ('rUxezv2gHUyr7EQT4zRjZjeyS2Uc4CcW8v', 'rMcwwPoqiUYJjRqEYmHG6q5b5W629X5cMG', {'weight': 34}), ('rMdJP23rKxKHfCECasNWo4Cm1XmsKRLqqq', 'rhhLfy9x8YGeKDY6P7YM7713gaceZGcHvY', {'weight': 38}), ('rhhLfy9x8YGeKDY6P7YM7713gaceZGcHvY', 'rMdJP23rKxKHfCECasNWo4Cm1XmsKRLqqq', {'weight': 25}), ('rMdnZhmE5ws6oUbWsFrQrSqb33kZqWU5qP', 'rSBu46wykPhDUPKGXeVpYuXBA5my3KDS8', {'weight': 37}), ('rSBu46wykPhDUPKGXeVpYuXBA5my3KDS8', 'rMdnZhmE5ws6oUbWsFrQrSqb33kZqWU5qP', {'weight': 25}), ('rMejgNrdRgJ1XAwjCvPaJgK2sRUoaMtbmd', 'raRVq6PEXE5Lkf6rrCBrnSWp2buVmaU9oc', {'weight': 67}), ('raRVq6PEXE5Lkf6rrCBrnSWp2buVmaU9oc', 'rMejgNrdRgJ1XAwjCvPaJgK2sRUoaMtbmd', {'weight': 46}), ('rMf1Y29qFepwawnmQCskPnNtVxBzf8qpdC', 'rYjQ3nxPUrmNkRj7ctYQCkXWruURif7V2', {'weight': 83}), ('rYjQ3nxPUrmNkRj7ctYQCkXWruURif7V2', 'rMf1Y29qFepwawnmQCskPnNtVxBzf8qpdC', {'weight': 96}), ('rMfN5ZRQZMrbJbVukg1uFC89PMU1rnz7D8', 'rahBEDoAtxRQeYKDrnt8vnTJ2D2fayd3To', {'weight': 1}), ('rahBEDoAtxRQeYKDrnt8vnTJ2D2fayd3To', 'rMfN5ZRQZMrbJbVukg1uFC89PMU1rnz7D8', {'weight': 20}), ('rMfbPNdhHoc8RKF51QKm9sranv48TMBaMW', 'rfAtmy4sJzu1HkFDc8s3WzX5u2aHKE2Auj', {'weight': 12}), ('rfAtmy4sJzu1HkFDc8s3WzX5u2aHKE2Auj', 'rMfbPNdhHoc8RKF51QKm9sranv48TMBaMW', {'weight': 22}), ('rMg8Zr6dWqHdyKe9EjqHbKnC3wuD8mFaSH', 'ra8t4pQfR5zu3CSs7zsnuVKY2UJ7CySBA3', {'weight': 20}), ('ra8t4pQfR5zu3CSs7zsnuVKY2UJ7CySBA3', 'rMg8Zr6dWqHdyKe9EjqHbKnC3wuD8mFaSH', {'weight': 29}), ('rMgTX5xLkCAuU5Sf4Wpk3QqxTdQ43z5NX7', 'rwnHSZgiWUFrmtvjNmXDaRk3mWhYrvagAK', {'weight': 28}), ('rwnHSZgiWUFrmtvjNmXDaRk3mWhYrvagAK', 'rMgTX5xLkCAuU5Sf4Wpk3QqxTdQ43z5NX7', {'weight': 17}), ('rMgeGiSv1nZSyQicZSYv35r9f38ujnMMQg', 'rVoZzg1knU3kgXqbu4fnw2j5KTkLbRV71', {'weight': 23}), ('rVoZzg1knU3kgXqbu4fnw2j5KTkLbRV71', 'rMgeGiSv1nZSyQicZSYv35r9f38ujnMMQg', {'weight': 35}), ('rMhFQT8FRFg6dwNjAcVBQbBkJ9KdVEu4Wv', 'rp5CwV4D3sZkbhPCmxfsA2JS5z7Sy85XnZ', {'weight': 22}), ('rp5CwV4D3sZkbhPCmxfsA2JS5z7Sy85XnZ', 'rMhFQT8FRFg6dwNjAcVBQbBkJ9KdVEu4Wv', {'weight': 32}), ('rMieZHBaWxnhfmcFu3rwKw5FDgr5NH9Yu7', 'rhrY7Rc7wMpTKifT7FeWzGWezu1CTfWvQx', {'weight': 35}), ('rhrY7Rc7wMpTKifT7FeWzGWezu1CTfWvQx', 'rMieZHBaWxnhfmcFu3rwKw5FDgr5NH9Yu7', {'weight': 18}), ('rMigShNb5vdSNiD42jPahssL1TX2SYfZEp', 'rU3Wgb8BUZx81HJhe38CUgAqjULKYAbfET', {'weight': 22}), ('rU3Wgb8BUZx81HJhe38CUgAqjULKYAbfET', 'rMigShNb5vdSNiD42jPahssL1TX2SYfZEp', {'weight': 33}), ('rMjuYFtxfD6sw9QUSUtCjNSn8XLfXc4RHH', 'rPwS7EVKjrSpEEDuBgEoHuhrnP3XmM4Rqk', {'weight': 12}), ('rPwS7EVKjrSpEEDuBgEoHuhrnP3XmM4Rqk', 'rMjuYFtxfD6sw9QUSUtCjNSn8XLfXc4RHH', {'weight': 24}), ('rMkCT8o9n8KSk9Pepx7fPrGA8aBN19SsFt', 'rpiMcWjRDD6b6DuuFqdSwaWLGVUcj8UQfj', {'weight': 26}), ('rpiMcWjRDD6b6DuuFqdSwaWLGVUcj8UQfj', 'rMkCT8o9n8KSk9Pepx7fPrGA8aBN19SsFt', {'weight': 17}), ('rMkjw1MCfwN8d3MJAKDYh1VvFqtUBUHb1z', 'rwiK7FJ6gT4h2xVJHpWxAQDAqcMYFQw8QP', {'weight': 18}), ('rwiK7FJ6gT4h2xVJHpWxAQDAqcMYFQw8QP', 'rMkjw1MCfwN8d3MJAKDYh1VvFqtUBUHb1z', {'weight': 28}), ('rMmE7b4kPLyYtbPwkv1CGyxGNS5xiVhwJS', 'rPQm1NvJb3P8f4EFHc9aq2m3Jy1kN1MWQt', {'weight': 85}), ('rPQm1NvJb3P8f4EFHc9aq2m3Jy1kN1MWQt', 'rMmE7b4kPLyYtbPwkv1CGyxGNS5xiVhwJS', {'weight': 98}), ('rMmK4VwqZxBtHHxdzb9dPQz1WBhtnjeBwo', 'rpXYJvsntDoCwGwfkVXuDJs22vdwNAWUmi', {'weight': 29}), ('rpXYJvsntDoCwGwfkVXuDJs22vdwNAWUmi', 'rMmK4VwqZxBtHHxdzb9dPQz1WBhtnjeBwo', {'weight': 39}), ('rMnobK2oxwiTBjC4ss3eynFCZS5tUqPuHJ', 'rPKeVL7s24RqzbpJ8aRw57SBSBAyepLnPj', {'weight': 26}), ('rPKeVL7s24RqzbpJ8aRw57SBSBAyepLnPj', 'rMnobK2oxwiTBjC4ss3eynFCZS5tUqPuHJ', {'weight': 14}), ('rMp3z6eh7Ati64Hmvv9vuKS6sTZ7HqVpUM', 'rhJcpfV9nnmiveNnMdaJ5RPi2F8Ea3jw3x', {'weight': 30}), ('rhJcpfV9nnmiveNnMdaJ5RPi2F8Ea3jw3x', 'rMp3z6eh7Ati64Hmvv9vuKS6sTZ7HqVpUM', {'weight': 20}), ('rMpa2dA92GpUDB12x3UQ6cq8kEbajhRfwX', 'rpSz73JSGGWoDgLkNzDTADSNxv7BmNSnJK', {'weight': 27}), ('rpSz73JSGGWoDgLkNzDTADSNxv7BmNSnJK', 'rMpa2dA92GpUDB12x3UQ6cq8kEbajhRfwX', {'weight': 17}), ('rMpejz8JB8cadk7JQqerxvmCoFncXtevct', 'rhgDR4FHL1geGrVqrYAuL9LcW8QUUb23F6', {'weight': 11}), ('rhgDR4FHL1geGrVqrYAuL9LcW8QUUb23F6', 'rMpejz8JB8cadk7JQqerxvmCoFncXtevct', {'weight': 21}), ('rMptJqTzufBgm8JVfnYGau93BDQFRGsG7Y', 'ra3s6YUX3kyG2eEqBLGEKzFhJUcYugLFtf', {'weight': 20}), ('ra3s6YUX3kyG2eEqBLGEKzFhJUcYugLFtf', 'rMptJqTzufBgm8JVfnYGau93BDQFRGsG7Y', {'weight': 32}), ('rMqEc6a9DPpSgq6RCkGboc9UjhLCFL73xX', 'rw3FSeUokFxNysCsE7SnVGCxuFjUTijzKB', {'weight': 32}), ('rw3FSeUokFxNysCsE7SnVGCxuFjUTijzKB', 'rMqEc6a9DPpSgq6RCkGboc9UjhLCFL73xX', {'weight': 41}), ('rMr3q2SLnKRzyBHnWBCgMesLX7SvZoMdH1', 'raXVsdoF5mp6hfYhRXWEpDMVPFeThoa1Wc', {'weight': 14}), ('raXVsdoF5mp6hfYhRXWEpDMVPFeThoa1Wc', 'rMr3q2SLnKRzyBHnWBCgMesLX7SvZoMdH1', {'weight': 29}), ('rMs4jk6NThdrYgfXxQQu6x8eUkJJxv2uvd', 'raSBeWWSfTVJPgxy1h2KEykReWQ1Nihheu', {'weight': 29}), ('raSBeWWSfTVJPgxy1h2KEykReWQ1Nihheu', 'rMs4jk6NThdrYgfXxQQu6x8eUkJJxv2uvd', {'weight': 39}), ('rMsXadxBFQJGg7yv7FFxDRzxen72snGnaU', 'rwozonyezgzEfeBfgtKr4QPdja1UP93c3U', {'weight': 42}), ('rwozonyezgzEfeBfgtKr4QPdja1UP93c3U', 'rMsXadxBFQJGg7yv7FFxDRzxen72snGnaU', {'weight': 53}), ('rMu2oFHdZdvh5cYam6hpQ4c4brcH4WwwyS', 'rpffnrSqQWZJ7zet6bpxFPyNaNBVACwwcD', {'weight': 33}), ('rpffnrSqQWZJ7zet6bpxFPyNaNBVACwwcD', 'rMu2oFHdZdvh5cYam6hpQ4c4brcH4WwwyS', {'weight': 23}), ('rMuF87pJxUpsXrLXm5G2zSWYjNGYPiS27V', 'rwUa6UKNkqh22Dsrzi5tn6sA822eVQY47U', {'weight': 16}), ('rwUa6UKNkqh22Dsrzi5tn6sA822eVQY47U', 'rMuF87pJxUpsXrLXm5G2zSWYjNGYPiS27V', {'weight': 26}), ('rMuWVXXk9b2N9bZ6S4gVA1KwrLZcH24866', 'rstLB1tUQNmVvv23wLNNvwMZ9KtPbTnV4L', {'weight': 16}), ('rstLB1tUQNmVvv23wLNNvwMZ9KtPbTnV4L', 'rMuWVXXk9b2N9bZ6S4gVA1KwrLZcH24866', {'weight': 31}), ('rMuZH2333kGd7qJLFtvB2QEUbCzrjM57aj', 'rhw7TJ18BZPeKKKKB1bHWqrr6CUj2VPkcb', {'weight': 36}), ('rhw7TJ18BZPeKKKKB1bHWqrr6CUj2VPkcb', 'rMuZH2333kGd7qJLFtvB2QEUbCzrjM57aj', {'weight': 22}), ('rMutsEzkMGBmKpEkRfyjWYwwUt3Sj33zau', 'rfo2gbwXqQBJ1Afy5YHrfykDDTwFnjHkAF', {'weight': 22}), ('rfo2gbwXqQBJ1Afy5YHrfykDDTwFnjHkAF', 'rMutsEzkMGBmKpEkRfyjWYwwUt3Sj33zau', {'weight': 34}), ('rMuup6L2hdR66bvy8VFDxBdQDKaK1XYYq6', 'rnHHYnRbJyzAxQab6dx8TEShoBarAbeqk3', {'weight': 28}), ('rnHHYnRbJyzAxQab6dx8TEShoBarAbeqk3', 'rMuup6L2hdR66bvy8VFDxBdQDKaK1XYYq6', {'weight': 16}), ('rMvEqcUVv3Gj4GBcqp5624exTPGrFtNf8i', 'rfaXrEqzkDpjS2opG5Dc1enNsNZ9SuvfKX', {'weight': 33}), ('rfaXrEqzkDpjS2opG5Dc1enNsNZ9SuvfKX', 'rMvEqcUVv3Gj4GBcqp5624exTPGrFtNf8i', {'weight': 24}), ('rMvd2VJeZC9K7x91h31rtQXHPTuCagvrpr', 'rfUjuFdM9GzMR96HKg9ZNqv9L2kbUEzZ4n', {'weight': 16}), ('rfUjuFdM9GzMR96HKg9ZNqv9L2kbUEzZ4n', 'rMvd2VJeZC9K7x91h31rtQXHPTuCagvrpr', {'weight': 25}), ('rMvvRRWQm7vivQ7tkGR3BMjj4WMUYo7j3Q', 'rhJBMMXoBMqj7LpJhJVRBc7fqSqyVtAiBx', {'weight': 33}), ('rhJBMMXoBMqj7LpJhJVRBc7fqSqyVtAiBx', 'rMvvRRWQm7vivQ7tkGR3BMjj4WMUYo7j3Q', {'weight': 22}), ('rMwEcneabLBjCEGBiTHxWZhzJzrB76LWzT', 'ra5u4btgKDjARpBR59EkNGfrSvKcGqsC2c', {'weight': 14}), ('ra5u4btgKDjARpBR59EkNGfrSvKcGqsC2c', 'rMwEcneabLBjCEGBiTHxWZhzJzrB76LWzT', {'weight': 26}), ('rMwrEPo5DYk3KuxPmKw325BtZpWx2FvqFp', 'raut2XY5bdtVj2dFjMGcgRLy8Ef4D41c1D', {'weight': 37}), ('raut2XY5bdtVj2dFjMGcgRLy8Ef4D41c1D', 'rMwrEPo5DYk3KuxPmKw325BtZpWx2FvqFp', {'weight': 47}), ('rMxyFK4DUYGvUvmYRrZPFTymwXd4jwee3L', 'rnzQ9Nzdr4aMwUfJobmfQjXhApBW1dEcL4', {'weight': 29}), ('rnzQ9Nzdr4aMwUfJobmfQjXhApBW1dEcL4', 'rMxyFK4DUYGvUvmYRrZPFTymwXd4jwee3L', {'weight': 17}), ('rMyronEjVcAdqUvhzx4MaBDwBPSPCrDHYm', 'rU6m5F9c1eWGKBdLMy1evRwk34HuVc18Wg', {'weight': 1}), ('rU6m5F9c1eWGKBdLMy1evRwk34HuVc18Wg', 'rMyronEjVcAdqUvhzx4MaBDwBPSPCrDHYm', {'weight': 1}), ('rMzqDxtwUcGgyvTMA7s3wcdzK267CAwArg', 'rNYHooyUAVicQBtAfm1PqQVgJnBqfKHrgy', {'weight': 14}), ('rNYHooyUAVicQBtAfm1PqQVgJnBqfKHrgy', 'rMzqDxtwUcGgyvTMA7s3wcdzK267CAwArg', {'weight': 29}), ('rMzyaqwyXokwCkxXWZwQ16BZ837UEZ9QN3', 'rfEqpdBtiJub3RyzwDKDkuAwAKnUXAZKPt', {'weight': 101}), ('rfEqpdBtiJub3RyzwDKDkuAwAKnUXAZKPt', 'rMzyaqwyXokwCkxXWZwQ16BZ837UEZ9QN3', {'weight': 111}), ('rN2bXny1tzc3uD6EpDTjdQ31GskZDzTRY7', 'radN1LyM7Cws4zzxuGhRjg5xCnfWoYDp3W', {'weight': 38}), ('radN1LyM7Cws4zzxuGhRjg5xCnfWoYDp3W', 'rN2bXny1tzc3uD6EpDTjdQ31GskZDzTRY7', {'weight': 26}), ('rN458EWgKarXBmaZRahfkPniEQewpcVPpq', 'rfSnhS9iDXB2s22SwisBprH9xnHWZvSDUf', {'weight': 29}), ('rfSnhS9iDXB2s22SwisBprH9xnHWZvSDUf', 'rN458EWgKarXBmaZRahfkPniEQewpcVPpq', {'weight': 20}), ('rN47dQVTwpFxrzmgagHCTFFo1hFGMXyTWD', 'rh1L8uQpg8q92StKWPyeu7ATUeit4MDRiN', {'weight': 20}), ('rh1L8uQpg8q92StKWPyeu7ATUeit4MDRiN', 'rN47dQVTwpFxrzmgagHCTFFo1hFGMXyTWD', {'weight': 31}), ('rN4DSTcZkZZFATeEnMLzyDpztERovrzW8t', 'rN8Y1Dq1C2wZXoEHf7Hpi9Jb5uDTqerZZc', {'weight': 38}), ('rN8Y1Dq1C2wZXoEHf7Hpi9Jb5uDTqerZZc', 'rN4DSTcZkZZFATeEnMLzyDpztERovrzW8t', {'weight': 46}), ('rN4his9Ak2LauPYvicRMHUiVeJndwnQfGZ', 'rPwtVaaMWcLMTrPRmJT1BSUd9nzrYji6Je', {'weight': 31}), ('rPwtVaaMWcLMTrPRmJT1BSUd9nzrYji6Je', 'rN4his9Ak2LauPYvicRMHUiVeJndwnQfGZ', {'weight': 19}), ('rN5ZVMGKuwYa7KoWEAsTFq1c9smiNFU2Lx', 'rUsEcXTm6Pr5u2C3Z7Eb266TWKVHD45cjh', {'weight': 32}), ('rUsEcXTm6Pr5u2C3Z7Eb266TWKVHD45cjh', 'rN5ZVMGKuwYa7KoWEAsTFq1c9smiNFU2Lx', {'weight': 22}), ('rN5crpxE72J598MKf87PgfMoZP8j9ZCUaD', 'rjBKiCFJbN26wbm1viHz6HZwXUD4d4UVi', {'weight': 13}), ('rjBKiCFJbN26wbm1viHz6HZwXUD4d4UVi', 'rN5crpxE72J598MKf87PgfMoZP8j9ZCUaD', {'weight': 26}), ('rN5t1nyBPZLeLSFK5Vm5zi6EHeGGsVJppL', 'rnQxM1oHtV7gMVsZQtFpzteYcBMf5rXiAe', {'weight': 25}), ('rnQxM1oHtV7gMVsZQtFpzteYcBMf5rXiAe', 'rN5t1nyBPZLeLSFK5Vm5zi6EHeGGsVJppL', {'weight': 13}), ('rN5whTUtrHoqo2ZdkwR2iUqX78VzC8cP7M', 'rPT7HPnG7r83toMRjxMK7ceCN9tmrQRMqj', {'weight': 20}), ('rPT7HPnG7r83toMRjxMK7ceCN9tmrQRMqj', 'rN5whTUtrHoqo2ZdkwR2iUqX78VzC8cP7M', {'weight': 31}), ('rN66j9wJ19PHJvdXr89GnzGWVQqLdHTP6i', 'rwDAWeH3q5RhHZvJ3hYqNnsdtFnU1RiERC', {'weight': 30}), ('rwDAWeH3q5RhHZvJ3hYqNnsdtFnU1RiERC', 'rN66j9wJ19PHJvdXr89GnzGWVQqLdHTP6i', {'weight': 41}), ('rN6V9jm1uxy8kuTMn4qE1esm1ueuTGS4oV', 'rPTAMNX7dxHj8vf7YwDEjETDXbyMSzv2Di', {'weight': 19}), ('rPTAMNX7dxHj8vf7YwDEjETDXbyMSzv2Di', 'rN6V9jm1uxy8kuTMn4qE1esm1ueuTGS4oV', {'weight': 30}), ('rN6wVYwh6y1SmF86ohovwo4L9HRadNFMaw', 'rPUySVhpqbn2juj4nu8XFBimEUC7e5mdwu', {'weight': 18}), ('rPUySVhpqbn2juj4nu8XFBimEUC7e5mdwu', 'rN6wVYwh6y1SmF86ohovwo4L9HRadNFMaw', {'weight': 29}), ('rN8R8GTcanxXDDYcp81UULRcHqVjwypN7k', 'rNQwDYgwgxDNzzMSc497DpNe2uGWnA189G', {'weight': 27}), ('rNQwDYgwgxDNzzMSc497DpNe2uGWnA189G', 'rN8R8GTcanxXDDYcp81UULRcHqVjwypN7k', {'weight': 13}), ('rN8dYHUJbPkkAKbfKWkoqUVEqN3hGb8Ysw', 'rpecTcQP1U34bS4c4wxSyPR6ohaSy7L8hP', {'weight': 31}), ('rpecTcQP1U34bS4c4wxSyPR6ohaSy7L8hP', 'rN8dYHUJbPkkAKbfKWkoqUVEqN3hGb8Ysw', {'weight': 22}), ('rN9QKf6d3UHbyvbGbikrxryxvRgusmz7nb', 'rhCk1U8zEXXKnosVrMoKmdqmMYaAx1GVhM', {'weight': 27}), ('rhCk1U8zEXXKnosVrMoKmdqmMYaAx1GVhM', 'rN9QKf6d3UHbyvbGbikrxryxvRgusmz7nb', {'weight': 14}), ('rNAVgks8BEcpWbuN52dxqQysZVVaYXVwiZ', 'rwH2VxZPHkGiH3o33PQuRoPBst8p3JQ2ip', {'weight': 15}), ('rwH2VxZPHkGiH3o33PQuRoPBst8p3JQ2ip', 'rNAVgks8BEcpWbuN52dxqQysZVVaYXVwiZ', {'weight': 28}), ('rNAXqe2J5pjKgRzUAvmfgB22xrbZXqF9Ks', 'rpd9rNc6JcjV1Vq4MbXftBqHsRWVkkcsSV', {'weight': 101}), ('rpd9rNc6JcjV1Vq4MbXftBqHsRWVkkcsSV', 'rNAXqe2J5pjKgRzUAvmfgB22xrbZXqF9Ks', {'weight': 111}), ('rNAeMz8gheuV7oqPFuPaqAcFmHYZK12Jkp', 'rnBVJMqMjN5SHj3WYYuBVN4FpRo6fvhitC', {'weight': 37}), ('rnBVJMqMjN5SHj3WYYuBVN4FpRo6fvhitC', 'rNAeMz8gheuV7oqPFuPaqAcFmHYZK12Jkp', {'weight': 27}), ('rNB8XgkngS2Bv7mG2wt1xM9Ptuzk2hX5ut', 'rUmnmS5FRWt7y7kV4AMMEuQkYSFP6VDFiv', {'weight': 12}), ('rUmnmS5FRWt7y7kV4AMMEuQkYSFP6VDFiv', 'rNB8XgkngS2Bv7mG2wt1xM9Ptuzk2hX5ut', {'weight': 26}), ('rNCHeDEiHig68A8wELerppPuUg7pgszQPD', 'rNePzfwuQiwtxHJURZYQyBjf37yJEFqzZi', {'weight': 32}), ('rNePzfwuQiwtxHJURZYQyBjf37yJEFqzZi', 'rNCHeDEiHig68A8wELerppPuUg7pgszQPD', {'weight': 16}), ('rNCbBeJWBsY7K58KpHd766PCxAmidogJG3', 'rfssZhhebh9SXJAtTrAPjLSvXgshmLReKd', {'weight': 20}), ('rfssZhhebh9SXJAtTrAPjLSvXgshmLReKd', 'rNCbBeJWBsY7K58KpHd766PCxAmidogJG3', {'weight': 30}), ('rNDywp1ycWgRYm8VfyA8wv4W1takTH33zL', 'rprbGTZiLUbc5Vo4ifC4LvFGuB18Zfd7v5', {'weight': 17}), ('rprbGTZiLUbc5Vo4ifC4LvFGuB18Zfd7v5', 'rNDywp1ycWgRYm8VfyA8wv4W1takTH33zL', {'weight': 27}), ('rNEG6eDEAujGCZcLi2DDVXnJY2hEjvAtFe', 'rnAdrYEUqiha1VXZuT2JMHpGHoAr7mLaz9', {'weight': 28}), ('rnAdrYEUqiha1VXZuT2JMHpGHoAr7mLaz9', 'rNEG6eDEAujGCZcLi2DDVXnJY2hEjvAtFe', {'weight': 18}), ('rNEGGn2cH6NveQDYbJ5raZZKUA3USHcpQ6', 'rhm4iNVvBYCPc4UMTAEy6aJZboFvVTk5tK', {'weight': 28}), ('rhm4iNVvBYCPc4UMTAEy6aJZboFvVTk5tK', 'rNEGGn2cH6NveQDYbJ5raZZKUA3USHcpQ6', {'weight': 18}), ('rNEg8Nz3DwRGToP7w4scKq41oxxgFoHMrL', 'rfmJUcTkTQSbpdBViLiBuQHYWA7j8Y5dxj', {'weight': 14}), ('rfmJUcTkTQSbpdBViLiBuQHYWA7j8Y5dxj', 'rNEg8Nz3DwRGToP7w4scKq41oxxgFoHMrL', {'weight': 24}), ('rNEq1LGpTEjetZ93PZSb9PFjETQs2BxVRT', 'rh7ApMTM639k4FJTPvx6zNLiKkPqZGG6p7', {'weight': 1}), ('rh7ApMTM639k4FJTPvx6zNLiKkPqZGG6p7', 'rNEq1LGpTEjetZ93PZSb9PFjETQs2BxVRT', {'weight': 70}), ('rNEuT5UTef9QLJhUXcquJU6hv89Z3wYScA', 'rh55vCu8RHBskF8FKxZ6CJDW8Mnh6Nw3Uj', {'weight': 14}), ('rh55vCu8RHBskF8FKxZ6CJDW8Mnh6Nw3Uj', 'rNEuT5UTef9QLJhUXcquJU6hv89Z3wYScA', {'weight': 23}), ('rNFQnosvi75ov4fb43YGrsg8Kpt2A8TYKT', 'rpDRUjmqBHhzeCLfzWAXX7f43KNGTBg1q7', {'weight': 21}), ('rpDRUjmqBHhzeCLfzWAXX7f43KNGTBg1q7', 'rNFQnosvi75ov4fb43YGrsg8Kpt2A8TYKT', {'weight': 30}), ('rNFb33j9mnFsfd5wm2t1rwQNz1TTcwxyVk', 'rfbsZ3zFKtfvnCCiw61D2Xf9c4d62jAoZG', {'weight': 44}), ('rfbsZ3zFKtfvnCCiw61D2Xf9c4d62jAoZG', 'rNFb33j9mnFsfd5wm2t1rwQNz1TTcwxyVk', {'weight': 35}), ('rNFj4oCKsd2NvLjqpYHcQG2cVwN8wkYX6x', 'rYBfqkLzsSahbBSgaPXtEZgPobmNZqUhP', {'weight': 45}), ('rYBfqkLzsSahbBSgaPXtEZgPobmNZqUhP', 'rNFj4oCKsd2NvLjqpYHcQG2cVwN8wkYX6x', {'weight': 35}), ('rNGya2FT6URYMF339ThbN7QZEzhs27i3et', 'rmYi4uv5JGhnxNkChjcNouCqfn8KLfMEb', {'weight': 26}), ('rmYi4uv5JGhnxNkChjcNouCqfn8KLfMEb', 'rNGya2FT6URYMF339ThbN7QZEzhs27i3et', {'weight': 14}), ('rNHa28wBJnpsd4CCWZvS1THAJBAAEmmJph', 'rp2YEhFz2tM1wBkw87sGsantoBzzBCW43k', {'weight': 30}), ('rp2YEhFz2tM1wBkw87sGsantoBzzBCW43k', 'rNHa28wBJnpsd4CCWZvS1THAJBAAEmmJph', {'weight': 21}), ('rNHbiM7eD3chptEVg5xbxxmzEPDHqLhuYQ', 'rU7cAdg8B6ztz8TyeV1pJtdXf9QJsoJLVR', {'weight': 24}), ('rU7cAdg8B6ztz8TyeV1pJtdXf9QJsoJLVR', 'rNHbiM7eD3chptEVg5xbxxmzEPDHqLhuYQ', {'weight': 34}), ('rNJPoCQCPbKYN9jK4u2SnQ7MdcpxEUEeHa', 'rNNzpivbTS9PnZ38rJsHUCRer96mVFYkug', {'weight': 28}), ('rNNzpivbTS9PnZ38rJsHUCRer96mVFYkug', 'rNJPoCQCPbKYN9jK4u2SnQ7MdcpxEUEeHa', {'weight': 38}), ('rNJSfWZfH5652YGaAK4U62hJ5KeQzCnDRe', 'rfCL1M4n52x2SxM8nAb13veY2TTCGwKcXx', {'weight': 30}), ('rfCL1M4n52x2SxM8nAb13veY2TTCGwKcXx', 'rNJSfWZfH5652YGaAK4U62hJ5KeQzCnDRe', {'weight': 20}), ('rNJUuSH1oaP8DCPj6KSVo2mMiZeTRkFeqW', 'rnXyQqXMFAmP58M3sRqwieuN2XfuwKweGd', {'weight': 31}), ('rnXyQqXMFAmP58M3sRqwieuN2XfuwKweGd', 'rNJUuSH1oaP8DCPj6KSVo2mMiZeTRkFeqW', {'weight': 20}), ('rNJhJA1gP248iGv3AdVhqgDWZbuYQCELTs', 'rQHvKqwtJV5zRGG5C65ZpmrUCximYqMzQv', {'weight': 43}), ('rQHvKqwtJV5zRGG5C65ZpmrUCximYqMzQv', 'rNJhJA1gP248iGv3AdVhqgDWZbuYQCELTs', {'weight': 34}), ('rNJxDpf21UouCgKsNmWqoz9A3SNyaxMqVc', 'rhyUBMGcMVx7twZC8H8nSjgnxqihSc1Atc', {'weight': 31}), ('rhyUBMGcMVx7twZC8H8nSjgnxqihSc1Atc', 'rNJxDpf21UouCgKsNmWqoz9A3SNyaxMqVc', {'weight': 19}), ('rNK5Y9d4V7x6bX86V6tkhg86nuJbd5HVj9', 'rwAB1e65ELFHnu8Tq5D2yP22Pu75ZToQB4', {'weight': 31}), ('rwAB1e65ELFHnu8Tq5D2yP22Pu75ZToQB4', 'rNK5Y9d4V7x6bX86V6tkhg86nuJbd5HVj9', {'weight': 20}), ('rNKAer31iuy5kdiPR9cV8SsUUsTTKsqPqW', 'ra6isphEq9HNMYhocm5wLUEEZw24tms9ch', {'weight': 27}), ('ra6isphEq9HNMYhocm5wLUEEZw24tms9ch', 'rNKAer31iuy5kdiPR9cV8SsUUsTTKsqPqW', {'weight': 37}), ('rNKtB4AYhCNDu1grWj7xjZMvQ8NArJkYWd', 'rpR1QxZCiuXRH1GXpxKVCGbtbLa6HQ1Z3c', {'weight': 18}), ('rpR1QxZCiuXRH1GXpxKVCGbtbLa6HQ1Z3c', 'rNKtB4AYhCNDu1grWj7xjZMvQ8NArJkYWd', {'weight': 29}), ('rNL3E8mYzeBaYiCfSMpqjS4XFUAMSr8HEJ', 'rP1jA3tYzEAcBTgNfEPJQzvfL3HiN6pJdh', {'weight': 32}), ('rP1jA3tYzEAcBTgNfEPJQzvfL3HiN6pJdh', 'rNL3E8mYzeBaYiCfSMpqjS4XFUAMSr8HEJ', {'weight': 17}), ('rNMQm4M6WeSmU1mTS2JGAz264HEnQhNCdH', 'rUjUSFoc5ecUrzGYfBJAmk8WNCLSAjJk8M', {'weight': 28}), ('rUjUSFoc5ecUrzGYfBJAmk8WNCLSAjJk8M', 'rNMQm4M6WeSmU1mTS2JGAz264HEnQhNCdH', {'weight': 12}), ('rNMrdtp7iXad6v5waaLXcMRx4bjFKVt7YR', 'rsXAT4xom95i5pQostxT7qWHYgeAnUmqjA', {'weight': 26}), ('rsXAT4xom95i5pQostxT7qWHYgeAnUmqjA', 'rNMrdtp7iXad6v5waaLXcMRx4bjFKVt7YR', {'weight': 36}), ('rNQMAqNHZ1zxNo1tCBc48vWgKHdLK65FTS', 'rUM477ug7U1ad6tCRpnhWu7Qjkfijv1wk6', {'weight': 42}), ('rUM477ug7U1ad6tCRpnhWu7Qjkfijv1wk6', 'rNQMAqNHZ1zxNo1tCBc48vWgKHdLK65FTS', {'weight': 31}), ('rNQstBDRuXHJTEzuciHQb3e2TqQ5acZxLY', 'rRxRQYnZMgdyYX7Rsoi6Do46DK2nGiWA5', {'weight': 38}), ('rRxRQYnZMgdyYX7Rsoi6Do46DK2nGiWA5', 'rNQstBDRuXHJTEzuciHQb3e2TqQ5acZxLY', {'weight': 28}), ('rNRLdm9jzksXVoKbN3MY4v3n4BDN1e4hAS', 'rnuxcwQCPoPJva4QWqqzg3urDF7tH3B65L', {'weight': 17}), ('rnuxcwQCPoPJva4QWqqzg3urDF7tH3B65L', 'rNRLdm9jzksXVoKbN3MY4v3n4BDN1e4hAS', {'weight': 28}), ('rNRMLfPjd4PDPXBwHYczeaY9p4jLGVWe6H', 'rsMHHuu41iKGbPwgfZoM4nrgX4XswzGVSd', {'weight': 36}), ('rsMHHuu41iKGbPwgfZoM4nrgX4XswzGVSd', 'rNRMLfPjd4PDPXBwHYczeaY9p4jLGVWe6H', {'weight': 23}), ('rNRreJjfucGpWdBbdfrzU8SBJo5wxhdYJu', 'rPYfmJR9gbVLbNzDFgSWFPoSNr9phkXW9q', {'weight': 16}), ('rPYfmJR9gbVLbNzDFgSWFPoSNr9phkXW9q', 'rNRreJjfucGpWdBbdfrzU8SBJo5wxhdYJu', {'weight': 32}), ('rNS8iphMdS2sQrdpiZvsiKxj7DYc9AH2SN', 'rwD3HWZmtmsuohLcRvYuLW1J7i4KbwuzyL', {'weight': 18}), ('rwD3HWZmtmsuohLcRvYuLW1J7i4KbwuzyL', 'rNS8iphMdS2sQrdpiZvsiKxj7DYc9AH2SN', {'weight': 28}), ('rNSVauBjDd3Qoo5RmW61YKGDi7h1cVAFfo', 'rNdKWyGzMzZjgTWpZ8m3FkUtjCTMQXER1p', {'weight': 41}), ('rNdKWyGzMzZjgTWpZ8m3FkUtjCTMQXER1p', 'rNSVauBjDd3Qoo5RmW61YKGDi7h1cVAFfo', {'weight': 32}), ('rNSX4v2wUfixsd4Wf5yEiGY4AaT8ei3e6W', 'rwooXAveSf9Lcyvq9VrCUbRYpZx6Hr9nkC', {'weight': 28}), ('rwooXAveSf9Lcyvq9VrCUbRYpZx6Hr9nkC', 'rNSX4v2wUfixsd4Wf5yEiGY4AaT8ei3e6W', {'weight': 15}), ('rNShgXHotktrFJvZPmRuJk7k7aqjk3ZGr5', 'rwP5AVUUpyAveF28bFer4jo1sLr3UhUWV6', {'weight': 35}), ('rwP5AVUUpyAveF28bFer4jo1sLr3UhUWV6', 'rNShgXHotktrFJvZPmRuJk7k7aqjk3ZGr5', {'weight': 26}), ('rNStH2xt2Cj4wfFWy1pa3ddgFtMCNUtiAC', 'rUo1HnBKj2aqBrAURQrWgVaX4tywUCgnnR', {'weight': 28}), ('rUo1HnBKj2aqBrAURQrWgVaX4tywUCgnnR', 'rNStH2xt2Cj4wfFWy1pa3ddgFtMCNUtiAC', {'weight': 17}), ('rNTyvkL7Kv52qpw28W5W1Xp4rJwp9iSVRU', 'rUh4HaCggAFE6uGmCM6UN5baaCFjLBcqTX', {'weight': 86}), ('rUh4HaCggAFE6uGmCM6UN5baaCFjLBcqTX', 'rNTyvkL7Kv52qpw28W5W1Xp4rJwp9iSVRU', {'weight': 101}), ('rNU4PcxS2BzRRpkgAnrMKqrqT1qDiUdXvX', 'rsxG1ZsYi1DwguLwRPRFj79Fr8GkshaCRN', {'weight': 40}), ('rsxG1ZsYi1DwguLwRPRFj79Fr8GkshaCRN', 'rNU4PcxS2BzRRpkgAnrMKqrqT1qDiUdXvX', {'weight': 31}), ('rNUUzcvpxbtjMw5mRYeWsnnpYJhVESJDJK', 'rwcRjNNrHHH9erJBRCUg5pFnXyvN1aCY2a', {'weight': 11}), ('rwcRjNNrHHH9erJBRCUg5pFnXyvN1aCY2a', 'rNUUzcvpxbtjMw5mRYeWsnnpYJhVESJDJK', {'weight': 21}), ('rNUqLTjtLzCYsjrZy9zjzvaBnaeA8M3oFy', 'rU9STBCyX7vE882KvXee2ruoGqMX61NmRF', {'weight': 21}), ('rU9STBCyX7vE882KvXee2ruoGqMX61NmRF', 'rNUqLTjtLzCYsjrZy9zjzvaBnaeA8M3oFy', {'weight': 34}), ('rNUrpmmCqZ6mdJsv6ACdAtJwcPmd12bGzE', 'rn6QP7kF4sastQMDGpzB8LhhhLwQXMhW9B', {'weight': 17}), ('rn6QP7kF4sastQMDGpzB8LhhhLwQXMhW9B', 'rNUrpmmCqZ6mdJsv6ACdAtJwcPmd12bGzE', {'weight': 32}), ('rNUwyJXhWo3efhRV6aPZDrKLAk3pDjrU3J', 'rpttCEXfUMYNJPZE8iv5WUPyhZmDacz6q6', {'weight': 24}), ('rpttCEXfUMYNJPZE8iv5WUPyhZmDacz6q6', 'rNUwyJXhWo3efhRV6aPZDrKLAk3pDjrU3J', {'weight': 35}), ('rNW1Ja5L3DTSeS4owmkMQqGmkLCwCZvpwD', 'rURAD3pFeSDzx4PBr4425T1o36ZdoZtyU8', {'weight': 23}), ('rURAD3pFeSDzx4PBr4425T1o36ZdoZtyU8', 'rNW1Ja5L3DTSeS4owmkMQqGmkLCwCZvpwD', {'weight': 33}), ('rNWRApXfRivsvzBXy1SprovwgtinBsiLYn', 'rsZ9TdkXwLMmqqdMTfmre9UJTZSPoLgKDC', {'weight': 22}), ('rsZ9TdkXwLMmqqdMTfmre9UJTZSPoLgKDC', 'rNWRApXfRivsvzBXy1SprovwgtinBsiLYn', {'weight': 13}), ('rNXSw1xYrqM4SXh5uR4EK3yo9bbdRgdNxA', 'rNtyajG4tFjUQrBwChQ76mrkyfmRsRHBey', {'weight': 15}), ('rNtyajG4tFjUQrBwChQ76mrkyfmRsRHBey', 'rNXSw1xYrqM4SXh5uR4EK3yo9bbdRgdNxA', {'weight': 77}), ('rNXiX4AGQCcYf9wmvee9K47qboZFTHTbYo', 'rUZDgcitU1GtSGg7aMrp3tTWDyhBXWwUAi', {'weight': 36}), ('rUZDgcitU1GtSGg7aMrp3tTWDyhBXWwUAi', 'rNXiX4AGQCcYf9wmvee9K47qboZFTHTbYo', {'weight': 26}), ('rNXm2Tb65Z2HhoTRUrqabAyrWuX44hmz1K', 'rszcCMCw94t7HmUcaau8jPupEHsHmdQwKX', {'weight': 25}), ('rszcCMCw94t7HmUcaau8jPupEHsHmdQwKX', 'rNXm2Tb65Z2HhoTRUrqabAyrWuX44hmz1K', {'weight': 38}), ('rNXpMZ9DQzyNu459Nk8m99mbCg8pNxnfV4', 'rkSPZCPqkhygBXUztC9GoKcrAQvtZEgKS', {'weight': 31}), ('rkSPZCPqkhygBXUztC9GoKcrAQvtZEgKS', 'rNXpMZ9DQzyNu459Nk8m99mbCg8pNxnfV4', {'weight': 20}), ('rNY7sT9pnB1WTNKJRVE5PqZiQJGKpT6mmq', 'rQBwpxhSyqz3mf15CTKEh7sdPmRpVNxbJz', {'weight': 20}), ('rQBwpxhSyqz3mf15CTKEh7sdPmRpVNxbJz', 'rNY7sT9pnB1WTNKJRVE5PqZiQJGKpT6mmq', {'weight': 32}), ('rNYH6KS5vy1Du1tNaFidKgj4mukQykfgWu', 'rUqEHVRxNmEoBC7kzTHhbqhEqPfXAeKTjN', {'weight': 23}), ('rUqEHVRxNmEoBC7kzTHhbqhEqPfXAeKTjN', 'rNYH6KS5vy1Du1tNaFidKgj4mukQykfgWu', {'weight': 13}), ('rNZAtsL55oigUigLFGaJ6zY3JJa348E3EE', 'rUanLmo6GGKRa4u65YsCYhu1bYbCU8o1uj', {'weight': 101}), ('rUanLmo6GGKRa4u65YsCYhu1bYbCU8o1uj', 'rNZAtsL55oigUigLFGaJ6zY3JJa348E3EE', {'weight': 111}), ('rNZSqPuMhQw5u88dcdwgLVMEXu24ddovhz', 'rnrtzYxnmqhd8cjs67bWZY2hiNZyb9uPJq', {'weight': 29}), ('rnrtzYxnmqhd8cjs67bWZY2hiNZyb9uPJq', 'rNZSqPuMhQw5u88dcdwgLVMEXu24ddovhz', {'weight': 38}), ('rNZkrHthLQjRxzQob6vDnUW7oTieU3MQgL', 'rs4FvuTyL4KAV5zmKbjRdcMxhp6GjYqF6G', {'weight': 39}), ('rs4FvuTyL4KAV5zmKbjRdcMxhp6GjYqF6G', 'rNZkrHthLQjRxzQob6vDnUW7oTieU3MQgL', {'weight': 29}), ('rNZrfuxMZpjnKjQo5mcYZYRuDCxYAoA2N4', 'rpgNQ8WwaEr6fbFqDtXhgBdNmNDtKw7dx6', {'weight': 31}), ('rpgNQ8WwaEr6fbFqDtXhgBdNmNDtKw7dx6', 'rNZrfuxMZpjnKjQo5mcYZYRuDCxYAoA2N4', {'weight': 22}), ('rNadYyonYmMFJSKNW5eWEgnJUGUC9CodfX', 'rn76jF5bysXe78CgmdJgs9TWsJd9hJ6C4t', {'weight': 50}), ('rn76jF5bysXe78CgmdJgs9TWsJd9hJ6C4t', 'rNadYyonYmMFJSKNW5eWEgnJUGUC9CodfX', {'weight': 40}), ('rNbjFB3MGLF5FfMfwxNmDsG6XuirfRVh4Q', 'rPoCc8zJykwiSopQYTdQd9F7sKAKbGBhFd', {'weight': 16}), ('rPoCc8zJykwiSopQYTdQd9F7sKAKbGBhFd', 'rNbjFB3MGLF5FfMfwxNmDsG6XuirfRVh4Q', {'weight': 30}), ('rNbs3mTQBpekeMqNBzKwxL9McZmDkkQ7YV', 'ra5EqtBhC3Znc8ioYkfUaLNtuZsXDZBecb', {'weight': 15}), ('ra5EqtBhC3Znc8ioYkfUaLNtuZsXDZBecb', 'rNbs3mTQBpekeMqNBzKwxL9McZmDkkQ7YV', {'weight': 27}), ('rNbw5oE9PNToKTEkyMrbZFoQyComUc22R7', 'rs1bewbooSHLhxqZukZGW7QtyZwzC9jK7F', {'weight': 22}), ('rs1bewbooSHLhxqZukZGW7QtyZwzC9jK7F', 'rNbw5oE9PNToKTEkyMrbZFoQyComUc22R7', {'weight': 33}), ('rNdFCKq5RcqUtT35RQ6nSWg11CyMs5SHh9', 'rQsdEuCkWmSBrbsFFyUGdbfCjg43g4RAYb', {'weight': 23}), ('rQsdEuCkWmSBrbsFFyUGdbfCjg43g4RAYb', 'rNdFCKq5RcqUtT35RQ6nSWg11CyMs5SHh9', {'weight': 34}), ('rNeEbaLkDLGUTQ3TSKJtFgKPewYtuZqzJo', 'rP6C3eLDWaDtNPcTvTaiYFpj28fHXPA8v3', {'weight': 87}), ('rP6C3eLDWaDtNPcTvTaiYFpj28fHXPA8v3', 'rNeEbaLkDLGUTQ3TSKJtFgKPewYtuZqzJo', {'weight': 101}), ('rNeuQm9R7TKkcrKKEsmQT8kpVQekShpEA9', 'rhwSmeDzBUn9u8y9hGwZnVibpaSNTiEg99', {'weight': 17}), ('rhwSmeDzBUn9u8y9hGwZnVibpaSNTiEg99', 'rNeuQm9R7TKkcrKKEsmQT8kpVQekShpEA9', {'weight': 29}), ('rNfGpjpnm9NsSxyUyvyUCF7fU2sKPaXx1P', 'rwpWJPK9i5pQc1pvw3TBLLXZk3JxaTADDS', {'weight': 32}), ('rwpWJPK9i5pQc1pvw3TBLLXZk3JxaTADDS', 'rNfGpjpnm9NsSxyUyvyUCF7fU2sKPaXx1P', {'weight': 41}), ('rNfLtWkGysAXmK4HL9WU7fAm5dFGxiDPhA', 'rQU1ksTraPuAnpeXm6JwvWrMSSXQqFQT2X', {'weight': 34}), ('rQU1ksTraPuAnpeXm6JwvWrMSSXQqFQT2X', 'rNfLtWkGysAXmK4HL9WU7fAm5dFGxiDPhA', {'weight': 24}), ('rNfogK7545E3pGtobR4TNXmwakaWxuBVEP', 'ra6r1WhatUZRphRa1z6CwLTrRnsBpkKgdX', {'weight': 40}), ('ra6r1WhatUZRphRa1z6CwLTrRnsBpkKgdX', 'rNfogK7545E3pGtobR4TNXmwakaWxuBVEP', {'weight': 50}), ('rNftmLV9hxBAygHhRqMdZGV7mtwht4N67p', 'rak7iFhDc5JdybmVsnsCMnHNWBi71HXpL5', {'weight': 17}), ('rak7iFhDc5JdybmVsnsCMnHNWBi71HXpL5', 'rNftmLV9hxBAygHhRqMdZGV7mtwht4N67p', {'weight': 33}), ('rNg2XBYGmc9TQE8Dz9dCUwe2uvhYhxSVnD', 'rP729CgDHuzeHhX6dDrSrrQURQifDvjJ7F', {'weight': 23}), ('rP729CgDHuzeHhX6dDrSrrQURQifDvjJ7F', 'rNg2XBYGmc9TQE8Dz9dCUwe2uvhYhxSVnD', {'weight': 35}), ('rNg5pK8PALQwAfDZkUpQgChzRNwiCCiEYn', 'rPb5UndRwPbQvZpYQEJ5QVaGiE4iZdQPLa', {'weight': 34}), ('rPb5UndRwPbQvZpYQEJ5QVaGiE4iZdQPLa', 'rNg5pK8PALQwAfDZkUpQgChzRNwiCCiEYn', {'weight': 24}), ('rNhLung39erRV8kEGunREgc4sJfAtbgFPg', 'rPv868bjeiXbFQQ9m5byHaLQc7nA78Z7M7', {'weight': 21}), ('rPv868bjeiXbFQQ9m5byHaLQc7nA78Z7M7', 'rNhLung39erRV8kEGunREgc4sJfAtbgFPg', {'weight': 29}), ('rNhtpZMJxvdhXjZuF2oQt2fPtrZdtLVsSX', 'rwagU1DTtg1mR5MXEtapT3H9bR6pGEtzkX', {'weight': 30}), ('rwagU1DTtg1mR5MXEtapT3H9bR6pGEtzkX', 'rNhtpZMJxvdhXjZuF2oQt2fPtrZdtLVsSX', {'weight': 21}), ('rNi2gaQAakiJMQGDSwSBx6z6r61VuMY4xR', 'raBeA27SZCGpqcWKgWccCY41ZWMDnMiDTj', {'weight': 35}), ('raBeA27SZCGpqcWKgWccCY41ZWMDnMiDTj', 'rNi2gaQAakiJMQGDSwSBx6z6r61VuMY4xR', {'weight': 25}), ('rNiP2AHPfpYz5vyQ8k1CMaqQVp1AyDFb82', 'rNxe65S5wr1tKKajD4vj7NHzGs3T39Af3S', {'weight': 29}), ('rNxe65S5wr1tKKajD4vj7NHzGs3T39Af3S', 'rNiP2AHPfpYz5vyQ8k1CMaqQVp1AyDFb82', {'weight': 15}), ('rNirJN63WXYpLkd2WaS2YAqN2wFW34eTaW', 'rpmMfJb1ms2t8nMaZC9mmsgaY6YbQFqyTh', {'weight': 22}), ('rpmMfJb1ms2t8nMaZC9mmsgaY6YbQFqyTh', 'rNirJN63WXYpLkd2WaS2YAqN2wFW34eTaW', {'weight': 36}), ('rNjZxURYwihZt4mvdawZyXUnhChReHDCR4', 'rfvnLGKjTBc4KL5Dv2VB5eeMZoLKhYhpms', {'weight': 32}), ('rfvnLGKjTBc4KL5Dv2VB5eeMZoLKhYhpms', 'rNjZxURYwihZt4mvdawZyXUnhChReHDCR4', {'weight': 21}), ('rNjr4DXbW37uxrTobC6SaF36h5FwgiSxsM', 'rsKnVX5RHLbepHGkE8DTndrNTRAVsTDpZF', {'weight': 92}), ('rsKnVX5RHLbepHGkE8DTndrNTRAVsTDpZF', 'rNjr4DXbW37uxrTobC6SaF36h5FwgiSxsM', {'weight': 73}), ('rNkk9c3SA2reGv2sZccAZq39C5GFCss4C2', 'rPZNLKKkNMNt2X2ddJ73RNu7jrJ4wJXu68', {'weight': 26}), ('rPZNLKKkNMNt2X2ddJ73RNu7jrJ4wJXu68', 'rNkk9c3SA2reGv2sZccAZq39C5GFCss4C2', {'weight': 15}), ('rNkrwgeTjcgkRev8xnW4HHWDeVixXkTmX3', 'rPuTcVAp2QnFuLn8eVGexJLzFYA6wCPust', {'weight': 29}), ('rPuTcVAp2QnFuLn8eVGexJLzFYA6wCPust', 'rNkrwgeTjcgkRev8xnW4HHWDeVixXkTmX3', {'weight': 39}), ('rNmHF4TRMbXQRwNZh84aLCXQEFS1YNnB3Z', 'rPppexUVRV9Za4FYKPgp1URSE5meEdjukV', {'weight': 86}), ('rPppexUVRV9Za4FYKPgp1URSE5meEdjukV', 'rNmHF4TRMbXQRwNZh84aLCXQEFS1YNnB3Z', {'weight': 101}), ('rNmSMy7zK8LuwyqVymLgieA6oLD9UF89bc', 'rQqJWSTXNxrvwwSbYPGyxggB4qHu2UX4t', {'weight': 15}), ('rQqJWSTXNxrvwwSbYPGyxggB4qHu2UX4t', 'rNmSMy7zK8LuwyqVymLgieA6oLD9UF89bc', {'weight': 27}), ('rNmgsxo5XiAcJWxwUHmo6ZzcUSLjFXYJjD', 'rs5q6m38BjovmPYPErDYhmTXd8KoRf5D23', {'weight': 95}), ('rs5q6m38BjovmPYPErDYhmTXd8KoRf5D23', 'rNmgsxo5XiAcJWxwUHmo6ZzcUSLjFXYJjD', {'weight': 82}), ('rNp1ySGX8KvhvoVFMbaVRVU4eo7JPeqsLM', 'rUueNHrs3jhcyA4fPajhioU56Z54eQRxYL', {'weight': 17}), ('rUueNHrs3jhcyA4fPajhioU56Z54eQRxYL', 'rNp1ySGX8KvhvoVFMbaVRVU4eo7JPeqsLM', {'weight': 28}), ('rNpbRbgsGwBprqrhVcsxafgaFg5zpfkX5Y', 'rnf8uqiCAdKmUzvquDhNHFVixGFoy2MJGE', {'weight': 19}), ('rnf8uqiCAdKmUzvquDhNHFVixGFoy2MJGE', 'rNpbRbgsGwBprqrhVcsxafgaFg5zpfkX5Y', {'weight': 29}), ('rNpt5ZoMDDzVTGtx3cCk5BPNQrPSEkvMj3', 'rUuDrUFr9iGU1bdxnA9nPStdTFnnex73jL', {'weight': 71}), ('rUuDrUFr9iGU1bdxnA9nPStdTFnnex73jL', 'rNpt5ZoMDDzVTGtx3cCk5BPNQrPSEkvMj3', {'weight': 89}), ('rNpvnDTQRMHZ4D7P8e2fZeVL2H2dsn9pmN', 'rpCb7Hjw9mpnRbBvtAobw9NQRqCiYaWpCP', {'weight': 15}), ('rpCb7Hjw9mpnRbBvtAobw9NQRqCiYaWpCP', 'rNpvnDTQRMHZ4D7P8e2fZeVL2H2dsn9pmN', {'weight': 28}), ('rNqdp8tvraZJHWqEXB3w8sqjutkPX3qDhu', 'rhyutCua5F3vJo357jXmsvoJiDyeYkzkXp', {'weight': 12}), ('rhyutCua5F3vJo357jXmsvoJiDyeYkzkXp', 'rNqdp8tvraZJHWqEXB3w8sqjutkPX3qDhu', {'weight': 26}), ('rNr1xWwcdyNF3s1KnfTyGfqo1Dz5h7cEnu', 'rUZtnTTpvvN1TaDEKPjAGphLfg5sNFDKco', {'weight': 21}), ('rUZtnTTpvvN1TaDEKPjAGphLfg5sNFDKco', 'rNr1xWwcdyNF3s1KnfTyGfqo1Dz5h7cEnu', {'weight': 31}), ('rNrUt1YMpUbWnH3BDvsoF5ZFN2XA5ELhvS', 'rPr2996iVbDcnAUxamqfmWzhytfTbxhFrL', {'weight': 20}), ('rPr2996iVbDcnAUxamqfmWzhytfTbxhFrL', 'rNrUt1YMpUbWnH3BDvsoF5ZFN2XA5ELhvS', {'weight': 28}), ('rNrWrZY1oDRmGyKYEKhz4XgnqAvbJWjG8', 'rns2y4Udk5xaQ3ops714k2UtjhrhZSYHqf', {'weight': 30}), ('rns2y4Udk5xaQ3ops714k2UtjhrhZSYHqf', 'rNrWrZY1oDRmGyKYEKhz4XgnqAvbJWjG8', {'weight': 18}), ('rNrgPDMmmcA8uLhhkpqPbs7ep5nctrtFaY', 'rQ9TLzQppTYnqM2i3Ex76CFiqkR4QC4tQN', {'weight': 30}), ('rQ9TLzQppTYnqM2i3Ex76CFiqkR4QC4tQN', 'rNrgPDMmmcA8uLhhkpqPbs7ep5nctrtFaY', {'weight': 20}), ('rNrkxiYFA3k3NXLyskUyZeok888yMdmMvF', 'rWUyG5xXZVy6nVd2PLYPbH5jgSjsHVJe3', {'weight': 33}), ('rWUyG5xXZVy6nVd2PLYPbH5jgSjsHVJe3', 'rNrkxiYFA3k3NXLyskUyZeok888yMdmMvF', {'weight': 18}), ('rNrqudMpdDmNKKQe3jGo1WZCX6SGGvKGuE', 'rh7gYddWfpFhm32nRG9fUyXs4xGzmvFduM', {'weight': 46}), ('rh7gYddWfpFhm32nRG9fUyXs4xGzmvFduM', 'rNrqudMpdDmNKKQe3jGo1WZCX6SGGvKGuE', {'weight': 36}), ('rNsFdezEpX8fZftd9pAT9dyt7BGAQdYtUC', 'rfqf7KxvdmnJ5La76zcseC6wQkrgXacMR', {'weight': 41}), ('rfqf7KxvdmnJ5La76zcseC6wQkrgXacMR', 'rNsFdezEpX8fZftd9pAT9dyt7BGAQdYtUC', {'weight': 30}), ('rNsGAQhXmcbdwzoDrTkXyNkYwh7AHw89AQ', 'rpmddVurv4MtvjDiA2zkPdfdEdUTq56jCB', {'weight': 27}), ('rpmddVurv4MtvjDiA2zkPdfdEdUTq56jCB', 'rNsGAQhXmcbdwzoDrTkXyNkYwh7AHw89AQ', {'weight': 17}), ('rNsN4xndjKqtJA1hNf3SDL8yn2kD1MYx4', 'rwWUXMsLR9iJ7dz5A9CtmgfR11dXPXfRCx', {'weight': 34}), ('rwWUXMsLR9iJ7dz5A9CtmgfR11dXPXfRCx', 'rNsN4xndjKqtJA1hNf3SDL8yn2kD1MYx4', {'weight': 43}), ('rNsRrKMtKy4VBUYKHmPtBKut2cmnkx6nvx', 'rPGfmYYFWoknF4wj4CLgB5tKuxHwPMxmNc', {'weight': 15}), ('rPGfmYYFWoknF4wj4CLgB5tKuxHwPMxmNc', 'rNsRrKMtKy4VBUYKHmPtBKut2cmnkx6nvx', {'weight': 28}), ('rNttgtmMHLDLWyF2WRCqVwsnH3MAa61mfK', 'rhPMT2cXK4q6zb1XAaUHGrjwBxrhRXQ6bS', {'weight': 24}), ('rhPMT2cXK4q6zb1XAaUHGrjwBxrhRXQ6bS', 'rNttgtmMHLDLWyF2WRCqVwsnH3MAa61mfK', {'weight': 15}), ('rNuGyV8dKbabevY3WQdMwA2oVwgQD4fGDi', 'rUwigGr5DxFLkSvRJKA5gBYC1uiq1PfWrv', {'weight': 31}), ('rUwigGr5DxFLkSvRJKA5gBYC1uiq1PfWrv', 'rNuGyV8dKbabevY3WQdMwA2oVwgQD4fGDi', {'weight': 39}), ('rNuk1piGXkhN4h61brETyytyXxvy6KnFxp', 'rhfnCv2c9ARVFS9MPvF4Rdh2oezSvVwwGk', {'weight': 38}), ('rhfnCv2c9ARVFS9MPvF4Rdh2oezSvVwwGk', 'rNuk1piGXkhN4h61brETyytyXxvy6KnFxp', {'weight': 46}), ('rNvhPTY3JRPGPfD7pLgRt8zKcqxPt5VVKo', 'rwM6zUaYdw7tK7ciPx1GyYVJneT4eznPYr', {'weight': 71}), ('rwM6zUaYdw7tK7ciPx1GyYVJneT4eznPYr', 'rNvhPTY3JRPGPfD7pLgRt8zKcqxPt5VVKo', {'weight': 1}), ('rNvrtwDd2px2aAUYvo7wzkxk3vzQ7FCbth', 'rfnzoeAHZphVnsjzzaK6Sma8fcCEPCW8cn', {'weight': 45}), ('rfnzoeAHZphVnsjzzaK6Sma8fcCEPCW8cn', 'rNvrtwDd2px2aAUYvo7wzkxk3vzQ7FCbth', {'weight': 36}), ('rNwTz3WFj2X2nyzzZw7WF9Bof58VQMYban', 'raHrzgBoiy5ex8ooaM8pktCD6as2Nsuvvu', {'weight': 36}), ('raHrzgBoiy5ex8ooaM8pktCD6as2Nsuvvu', 'rNwTz3WFj2X2nyzzZw7WF9Bof58VQMYban', {'weight': 45}), ('rNwormgtT8UK21dyHMMkUxfb2PbBJuZfuW', 'rpSTwHzPCMYvS4uuqaePC12Vj5E64sXQch', {'weight': 42}), ('rpSTwHzPCMYvS4uuqaePC12Vj5E64sXQch', 'rNwormgtT8UK21dyHMMkUxfb2PbBJuZfuW', {'weight': 30}), ('rNyD3JNmuLT8QWiWgBGKChwrvLV6yhQc8o', 'rsKyuH5WkW4sJnr4Q7uejpWgEgw7aiZkhD', {'weight': 14}), ('rsKyuH5WkW4sJnr4Q7uejpWgEgw7aiZkhD', 'rNyD3JNmuLT8QWiWgBGKChwrvLV6yhQc8o', {'weight': 24}), ('rNyyVpMufMZTdfPjBETY8RUcnR8KLqvGE3', 'rUa3F1koNH6sgDZx7xKYD61zdCwevc45QC', {'weight': 32}), ('rUa3F1koNH6sgDZx7xKYD61zdCwevc45QC', 'rNyyVpMufMZTdfPjBETY8RUcnR8KLqvGE3', {'weight': 41}), ('rNzExytrPVuCyMz9Jcg26C1zsv78kdV8rJ', 'rfNGYvZeVPbE8qzsH817vFSfpxu47Yqggw', {'weight': 44}), ('rfNGYvZeVPbE8qzsH817vFSfpxu47Yqggw', 'rNzExytrPVuCyMz9Jcg26C1zsv78kdV8rJ', {'weight': 35}), ('rP1jAb1sYyFYHFN6K1KH26LoY8mxJbPTxQ', 'raoP2P4t4fF5xf13kQxBfegd9MAJd51Dsr', {'weight': 57}), ('raoP2P4t4fF5xf13kQxBfegd9MAJd51Dsr', 'rP1jAb1sYyFYHFN6K1KH26LoY8mxJbPTxQ', {'weight': 78}), ('rP1rkJrwzJ82TsCKam9LCP4ARgJrgW1Did', 'rfmB3qw1HjfxmbjTxVfnSM8ynhKDiUAzgq', {'weight': 14}), ('rfmB3qw1HjfxmbjTxVfnSM8ynhKDiUAzgq', 'rP1rkJrwzJ82TsCKam9LCP4ARgJrgW1Did', {'weight': 26}), ('rP23FQCHQBSqqwqU38mHDoXV4sCnn4iJX6', 'rwus4ubpKPNNLQGXhWQZUqjydivPxAeJ2h', {'weight': 35}), ('rwus4ubpKPNNLQGXhWQZUqjydivPxAeJ2h', 'rP23FQCHQBSqqwqU38mHDoXV4sCnn4iJX6', {'weight': 26}), ('rP2DeuHDraB5WoTKrtY3DTFhoamvKwfLqG', 'rUJHF4ou7vL4sn1cv6CHvURg1f1PM368tY', {'weight': 30}), ('rUJHF4ou7vL4sn1cv6CHvURg1f1PM368tY', 'rP2DeuHDraB5WoTKrtY3DTFhoamvKwfLqG', {'weight': 21}), ('rP2KJwHXMPNG4B4oMPmodFZvnFh4kD9P3P', 'rhn57MSenVNH1astMWRXk7Q13Fv82XN6bn', {'weight': 25}), ('rhn57MSenVNH1astMWRXk7Q13Fv82XN6bn', 'rP2KJwHXMPNG4B4oMPmodFZvnFh4kD9P3P', {'weight': 13}), ('rP2NgBVbxZrYwSq5kPAsr1244G7Qgp76nb', 'rhwLAoh4JzfuQ76Km24K9oAzw9EzVz6ePr', {'weight': 29}), ('rhwLAoh4JzfuQ76Km24K9oAzw9EzVz6ePr', 'rP2NgBVbxZrYwSq5kPAsr1244G7Qgp76nb', {'weight': 45}), ('rP365dALJC1Pf5mSMEzcSeaEskXJqW3ws9', 'rf3s3rRddFF9LEtuVCMUYmizX4jNKBBFAd', {'weight': 40}), ('rf3s3rRddFF9LEtuVCMUYmizX4jNKBBFAd', 'rP365dALJC1Pf5mSMEzcSeaEskXJqW3ws9', {'weight': 30}), ('rP3pbQ4qQPmXc2uTACBt2soDxrKpVDA8YY', 'rhhWGFtUnezN4rV8sDTsNMVVmANXRjA8Yn', {'weight': 32}), ('rhhWGFtUnezN4rV8sDTsNMVVmANXRjA8Yn', 'rP3pbQ4qQPmXc2uTACBt2soDxrKpVDA8YY', {'weight': 23}), ('rP4cyXXu1Zs56F6hzm4cK86xkU2LpPEzZs', 'rnVPAAsdzRVvt9DizeM6xSqCbEHDa96fos', {'weight': 28}), ('rnVPAAsdzRVvt9DizeM6xSqCbEHDa96fos', 'rP4cyXXu1Zs56F6hzm4cK86xkU2LpPEzZs', {'weight': 18}), ('rP5TKZ7uDC3K4iX7wPW4y6w2imANJgCFV6', 'rPTsDZEHenka5TbhdKDXUe1dMaxS7RArsZ', {'weight': 26}), ('rPTsDZEHenka5TbhdKDXUe1dMaxS7RArsZ', 'rP5TKZ7uDC3K4iX7wPW4y6w2imANJgCFV6', {'weight': 12}), ('rP5kKSEXxdCndD54wCvzJfp59Bb8fiX9PQ', 'rQhn7o47sokV7FJD9X1JXxZihTdaANPSJ1', {'weight': 34}), ('rQhn7o47sokV7FJD9X1JXxZihTdaANPSJ1', 'rP5kKSEXxdCndD54wCvzJfp59Bb8fiX9PQ', {'weight': 24}), ('rP6SSTSSuZLDsHythHhZvV3HSmkkZWKxWu', 'rPJDAQuHGTKJqc5txGLDSt9BeN3abHB6G9', {'weight': 13}), ('rPJDAQuHGTKJqc5txGLDSt9BeN3abHB6G9', 'rP6SSTSSuZLDsHythHhZvV3HSmkkZWKxWu', {'weight': 23}), ('rP6wmCKKmdAgpmvLuu4TFWjW7FEkcBfjBn', 'rabucZvtywAz1BjL5XbxpmQxUjfN2aC3g3', {'weight': 103}), ('rabucZvtywAz1BjL5XbxpmQxUjfN2aC3g3', 'rP6wmCKKmdAgpmvLuu4TFWjW7FEkcBfjBn', {'weight': 87}), ('rP78c2wMbDEKL5g7F9KavJkuDNcjDFSnXe', 'rpodwjiV9RWvwWe4n3u6fNDDZnkL4qr3FA', {'weight': 18}), ('rpodwjiV9RWvwWe4n3u6fNDDZnkL4qr3FA', 'rP78c2wMbDEKL5g7F9KavJkuDNcjDFSnXe', {'weight': 28}), ('rP7myrLwBeR3Zx3MiSzZn97w1NyLzWrCGh', 'rs7NsgknB4bEhukSP8nyAfZqFbRNBv7Zzx', {'weight': 13}), ('rs7NsgknB4bEhukSP8nyAfZqFbRNBv7Zzx', 'rP7myrLwBeR3Zx3MiSzZn97w1NyLzWrCGh', {'weight': 28}), ('rP8715chAfxKoaqEnCtu19LgRjnAbQEBJZ', 'rPYG7yFNCufih4eUVs7E31hT9MdKDgChkt', {'weight': 12}), ('rPYG7yFNCufih4eUVs7E31hT9MdKDgChkt', 'rP8715chAfxKoaqEnCtu19LgRjnAbQEBJZ', {'weight': 28}), ('rP8ezn9kU6RPRZWa7E2dhvXoR4e4HUr11j', 'rntsKYg3fqKRLFJ4ZdH42B7agMorQvW326', {'weight': 38}), ('rntsKYg3fqKRLFJ4ZdH42B7agMorQvW326', 'rP8ezn9kU6RPRZWa7E2dhvXoR4e4HUr11j', {'weight': 28}), ('rP8wABTTxBvXedGBeVcFDZAbtiN9tWwGNV', 'rPpTjGPapNtNEf5gKKWxCzbztcvAxudoyY', {'weight': 28}), ('rPpTjGPapNtNEf5gKKWxCzbztcvAxudoyY', 'rP8wABTTxBvXedGBeVcFDZAbtiN9tWwGNV', {'weight': 15}), ('rP9PNfWyMEGFQreBPfME3xH4MkVtv2SCW6', 'rnu34Hre3BfsLXibJGH7uLVDsxreEHgNYZ', {'weight': 44}), ('rnu34Hre3BfsLXibJGH7uLVDsxreEHgNYZ', 'rP9PNfWyMEGFQreBPfME3xH4MkVtv2SCW6', {'weight': 36}), ('rP9VyaH7B7twSQQyLyXVxufNb8pn5DHAFM', 'rsjCKsY6i7odivpsVpex21h9dSLniF8M8L', {'weight': 20}), ('rsjCKsY6i7odivpsVpex21h9dSLniF8M8L', 'rP9VyaH7B7twSQQyLyXVxufNb8pn5DHAFM', {'weight': 30}), ('rPA9PHfXyEaYuiqMTtEhiSvWtUFYQyABkT', 'rs8HJkZh3RG5eQLYhvNKVZTyjxu2GLrMiR', {'weight': 31}), ('rs8HJkZh3RG5eQLYhvNKVZTyjxu2GLrMiR', 'rPA9PHfXyEaYuiqMTtEhiSvWtUFYQyABkT', {'weight': 22}), ('rPAJTbJZN71huAeurLvzJw9p4YXtm2feRS', 'rhn5HF3GPXmQcbwVTuniFRvSh6QTTrqYrx', {'weight': 26}), ('rhn5HF3GPXmQcbwVTuniFRvSh6QTTrqYrx', 'rPAJTbJZN71huAeurLvzJw9p4YXtm2feRS', {'weight': 13}), ('rPC8BLmcLgKrNVyCKzbnW5uGqKadm1JcrX', 'rwagsWwHKGb7jPDoBN7o5TsuGtU6V35H4v', {'weight': 45}), ('rwagsWwHKGb7jPDoBN7o5TsuGtU6V35H4v', 'rPC8BLmcLgKrNVyCKzbnW5uGqKadm1JcrX', {'weight': 36}), ('rPCwR5z6G2aVfnyaHRzYeRHmS5nqhzzTp3', 'rrsC3Kq2a3C5WCS7PtBuBRaNSidHSpSyn1', {'weight': 16}), ('rrsC3Kq2a3C5WCS7PtBuBRaNSidHSpSyn1', 'rPCwR5z6G2aVfnyaHRzYeRHmS5nqhzzTp3', {'weight': 30}), ('rPDB6Zis3JoGVzYsbNGh9rpbRWKd9qbynQ', 'raxvjjQFTCwCFkLhKbNxeM1ZYMSxcQi594', {'weight': 29}), ('raxvjjQFTCwCFkLhKbNxeM1ZYMSxcQi594', 'rPDB6Zis3JoGVzYsbNGh9rpbRWKd9qbynQ', {'weight': 38}), ('rPDXsQ2qnx5Pup58Fpr5tmdRYvquH6vXys', 'rayoZ9jCiH3JjWocjgy9yHmG9W3cKYsfcu', {'weight': 34}), ('rayoZ9jCiH3JjWocjgy9yHmG9W3cKYsfcu', 'rPDXsQ2qnx5Pup58Fpr5tmdRYvquH6vXys', {'weight': 22}), ('rPDcFJLSPMc5W1bw5A8dFM2A4TotqdtD6c', 'rp6xMhTFKcvqLnvmUTWT9JUFe4zZvRsaXr', {'weight': 17}), ('rp6xMhTFKcvqLnvmUTWT9JUFe4zZvRsaXr', 'rPDcFJLSPMc5W1bw5A8dFM2A4TotqdtD6c', {'weight': 28}), ('rPDdtADPmAzTDZVDRA2JRkeHT1fjbjMG8Q', 'rhaCphxUARSzAJKrBhRJUbqqELwPjsPBwQ', {'weight': 31}), ('rhaCphxUARSzAJKrBhRJUbqqELwPjsPBwQ', 'rPDdtADPmAzTDZVDRA2JRkeHT1fjbjMG8Q', {'weight': 20}), ('rPDg17a3SsYiV7bzS1eU1N6Y5TwbSuc3cb', 'rQsqcgBCNEfiFFbLNCuk3tLGJBuG4iaPmt', {'weight': 23}), ('rQsqcgBCNEfiFFbLNCuk3tLGJBuG4iaPmt', 'rPDg17a3SsYiV7bzS1eU1N6Y5TwbSuc3cb', {'weight': 14}), ('rPFXUUceNt3SFZN7PBBm366cho8iiqvSRT', 'rUdLsZbkv5pDPZ6YsoYF2Mp5g3ayFzTrZM', {'weight': 31}), ('rUdLsZbkv5pDPZ6YsoYF2Mp5g3ayFzTrZM', 'rPFXUUceNt3SFZN7PBBm366cho8iiqvSRT', {'weight': 22}), ('rPFnaWieBLpu5XZt8SatHooL9W7VNq472g', 'rpJU2pP3XhBR2yHcHHW5yCZScyJmcBEHf2', {'weight': 32}), ('rpJU2pP3XhBR2yHcHHW5yCZScyJmcBEHf2', 'rPFnaWieBLpu5XZt8SatHooL9W7VNq472g', {'weight': 22}), ('rPFqogiSK6yW5xvyPG51uTJudZFBxP1fxm', 'rsqJ8dAEvUeiQAHdkkWyrjuJo48dXPCYop', {'weight': 70}), ('rsqJ8dAEvUeiQAHdkkWyrjuJo48dXPCYop', 'rPFqogiSK6yW5xvyPG51uTJudZFBxP1fxm', {'weight': 45}), ('rPGCyqRXr8hp678DRYCcTTzsho7PhHL3po', 'rUPACHnLPwN12wY1fU14znRt6TrBH9rWBL', {'weight': 90}), ('rUPACHnLPwN12wY1fU14znRt6TrBH9rWBL', 'rPGCyqRXr8hp678DRYCcTTzsho7PhHL3po', {'weight': 76}), ('rPGv5ZBe54XaWYwPy2Dw8xQe7kECjReMu8', 'rwVzAucXS3VXKpyLeuBmC2n24aQTo6FHkz', {'weight': 15}), ('rwVzAucXS3VXKpyLeuBmC2n24aQTo6FHkz', 'rPGv5ZBe54XaWYwPy2Dw8xQe7kECjReMu8', {'weight': 31}), ('rPJBwsgc3tU1FfDYqHg2jbndqMzQWQ7fTK', 'rPRRtF76eVN78Je6BEuQBj6AfXa79bTj19', {'weight': 68}), ('rPRRtF76eVN78Je6BEuQBj6AfXa79bTj19', 'rPJBwsgc3tU1FfDYqHg2jbndqMzQWQ7fTK', {'weight': 87}), ('rPKDsYEyPEASvXN3eSJSQ2wNsortGMzQ1q', 'raW49vjcEZCzr7gADAETgZr7gLPzfnsDCB', {'weight': 13}), ('raW49vjcEZCzr7gADAETgZr7gLPzfnsDCB', 'rPKDsYEyPEASvXN3eSJSQ2wNsortGMzQ1q', {'weight': 22}), ('rPKESxmxVukuZqVANXX8UTBfzJQD536gdb', 'rU63vtw7aLM1ewJopHxfpoAzqigMaWiSSb', {'weight': 15}), ('rU63vtw7aLM1ewJopHxfpoAzqigMaWiSSb', 'rPKESxmxVukuZqVANXX8UTBfzJQD536gdb', {'weight': 25}), ('rPLCZ8vGjvemvmzik1c6UHfivyUAL7ZAwq', 'rPeDBeAHWA2owfm7FFGRFMh1QQ82spFSCj', {'weight': 20}), ('rPeDBeAHWA2owfm7FFGRFMh1QQ82spFSCj', 'rPLCZ8vGjvemvmzik1c6UHfivyUAL7ZAwq', {'weight': 31}), ('rPLiPYDNzHm1d7ACg4CjrLqQXE9dS5UUKQ', 'rUQNRx7XWeJJe1E1N6nJs4YthtwUmqU2ca', {'weight': 26}), ('rUQNRx7XWeJJe1E1N6nJs4YthtwUmqU2ca', 'rPLiPYDNzHm1d7ACg4CjrLqQXE9dS5UUKQ', {'weight': 12}), ('rPN33z8g8Hkg11rRqYw3Wf6xknoubjsqVF', 'rhpqAfhQ1ofr3fHtBzXEXpoEsczR1WZpQa', {'weight': 28}), ('rhpqAfhQ1ofr3fHtBzXEXpoEsczR1WZpQa', 'rPN33z8g8Hkg11rRqYw3Wf6xknoubjsqVF', {'weight': 17}), ('rPNSU2QVny7EmUu5aQeNgbw3cdDadBbAy8', 'rsFHz1WZKdaA4XGuZ9KwoRvChsmZQZ45vT', {'weight': 15}), ('rsFHz1WZKdaA4XGuZ9KwoRvChsmZQZ45vT', 'rPNSU2QVny7EmUu5aQeNgbw3cdDadBbAy8', {'weight': 27}), ('rPQZPLAki1vMDx7Jk2aX1zr7JxPG123M21', 'rsHRHMMHjJp7hBEzWAMqzrFeWWvBwWfh8Y', {'weight': 36}), ('rsHRHMMHjJp7hBEzWAMqzrFeWWvBwWfh8Y', 'rPQZPLAki1vMDx7Jk2aX1zr7JxPG123M21', {'weight': 19}), ('rPRZ8oACatZ9PonA892hqUADggcNUd9AYA', 'rpFkCit5cygkgs1aHfuiWwUt6AhJoSA1Sa', {'weight': 21}), ('rpFkCit5cygkgs1aHfuiWwUt6AhJoSA1Sa', 'rPRZ8oACatZ9PonA892hqUADggcNUd9AYA', {'weight': 11}), ('rPSWQuV8akjFq4GkiwL6nJZGroLTpni5Ea', 'rw9DiCaVtvtm9cgQmyeM3W2KXfHnijN98z', {'weight': 11}), ('rw9DiCaVtvtm9cgQmyeM3W2KXfHnijN98z', 'rPSWQuV8akjFq4GkiwL6nJZGroLTpni5Ea', {'weight': 21}), ('rPSeUjT9FCsTm2B1MtH3KWR6otLZe9THqX', 'rpkcBevPhjLCxPex8D6aVeGen9mx8FdsFy', {'weight': 41}), ('rpkcBevPhjLCxPex8D6aVeGen9mx8FdsFy', 'rPSeUjT9FCsTm2B1MtH3KWR6otLZe9THqX', {'weight': 30}), ('rPSphpc9mN6HGwsf8F9YGD3wqftALxd27w', 'rhR9y5RSHw85o7QDnUapQAu7QgbUXTeDNe', {'weight': 11}), ('rhR9y5RSHw85o7QDnUapQAu7QgbUXTeDNe', 'rPSphpc9mN6HGwsf8F9YGD3wqftALxd27w', {'weight': 25}), ('rPSqdDU849Mkd4sjcY5K9bHSsVDiQd3oih', 'rPnMfKTfoW9sgx8kpX3GrLL7ES3KrpQrvy', {'weight': 24}), ('rPnMfKTfoW9sgx8kpX3GrLL7ES3KrpQrvy', 'rPSqdDU849Mkd4sjcY5K9bHSsVDiQd3oih', {'weight': 14}), ('rPTg7BceCJpKvujtevEwCBC2DYdo2JpQLn', 'rpmXB1h32cY6pWaUMbGJoRTriyNM9WqZaA', {'weight': 67}), ('rpmXB1h32cY6pWaUMbGJoRTriyNM9WqZaA', 'rPTg7BceCJpKvujtevEwCBC2DYdo2JpQLn', {'weight': 85}), ('rPU3Fa6qnZJ3QcYaRpF4AzbF9eTVvwbxzS', 'rhrYJKAnydryYM9jxgPRx5u3ihALeQjeKn', {'weight': 31}), ('rhrYJKAnydryYM9jxgPRx5u3ihALeQjeKn', 'rPU3Fa6qnZJ3QcYaRpF4AzbF9eTVvwbxzS', {'weight': 21}), ('rPU6kW9nYBKZy7K4hSvJ4Rh7DL8X7vLTfQ', 'rhsJ5fBVNLkQMbyo3WUf6a3HTFqxXLtVca', {'weight': 27}), ('rhsJ5fBVNLkQMbyo3WUf6a3HTFqxXLtVca', 'rPU6kW9nYBKZy7K4hSvJ4Rh7DL8X7vLTfQ', {'weight': 17}), ('rPUSdhh1pNJRz1caGas2PSA886mq7A4j5d', 'rrnphxsXVRjyJFLrUs7BysWGVbkrwimjms', {'weight': 19}), ('rrnphxsXVRjyJFLrUs7BysWGVbkrwimjms', 'rPUSdhh1pNJRz1caGas2PSA886mq7A4j5d', {'weight': 30}), ('rPUzGUPN5JyGRBE1VKuuqH7iybERxzfdoh', 'rsN4BeWGRa1fZw7S2tmn69L5NQ9AALbFDY', {'weight': 32}), ('rsN4BeWGRa1fZw7S2tmn69L5NQ9AALbFDY', 'rPUzGUPN5JyGRBE1VKuuqH7iybERxzfdoh', {'weight': 20}), ('rPVUjmvG4j93AbE2M5cBFyxpPYRLSH1S9z', 'rp8hbWoRKdbcbW1A8fv8Gk1jgeue8TsBWu', {'weight': 21}), ('rp8hbWoRKdbcbW1A8fv8Gk1jgeue8TsBWu', 'rPVUjmvG4j93AbE2M5cBFyxpPYRLSH1S9z', {'weight': 29}), ('rPWwLWTWuZLe2xoKSpx9X3pKoxKUnxjmuu', 'rwYznYN8hMu3cCgGoJBDuxmotMnHFF8biK', {'weight': 17}), ('rwYznYN8hMu3cCgGoJBDuxmotMnHFF8biK', 'rPWwLWTWuZLe2xoKSpx9X3pKoxKUnxjmuu', {'weight': 33}), ('rPX9j1aCYiW1SF6j2SQKfP7vkJbTaYE3DW', 'rnYHh4Yej5JPVXLpQ7tHdkoANcFiuCiSFw', {'weight': 29}), ('rnYHh4Yej5JPVXLpQ7tHdkoANcFiuCiSFw', 'rPX9j1aCYiW1SF6j2SQKfP7vkJbTaYE3DW', {'weight': 21}), ('rPXWpZD8tSufon1aHSoYQ6UorStUkKhrX2', 'rQDV1qNhRVyzZvoJSm2cd8qX7cN148AjuJ', {'weight': 27}), ('rQDV1qNhRVyzZvoJSm2cd8qX7cN148AjuJ', 'rPXWpZD8tSufon1aHSoYQ6UorStUkKhrX2', {'weight': 15}), ('rPXptZQf7zKba6PsLT7StKHpoLQcjAQoyn', 'rs1R5UshDV78k4AnLPUvVcr4AtwkAPeEcS', {'weight': 24}), ('rs1R5UshDV78k4AnLPUvVcr4AtwkAPeEcS', 'rPXptZQf7zKba6PsLT7StKHpoLQcjAQoyn', {'weight': 15}), ('rPXsR1sPHC4Q5Dk3BuU2nrSBP8hsrTSMLN', 'rskW4n7mRHZK4tQ6nfijfsTSXe55J1KuvK', {'weight': 13}), ('rskW4n7mRHZK4tQ6nfijfsTSXe55J1KuvK', 'rPXsR1sPHC4Q5Dk3BuU2nrSBP8hsrTSMLN', {'weight': 28}), ('rPY4mf7kuc8RKPLCUNUFoUxYxhApccp5yi', 'rUSGAq5LNFzA3j4Ch9MncUuc9mekNzYUSk', {'weight': 21}), ('rUSGAq5LNFzA3j4Ch9MncUuc9mekNzYUSk', 'rPY4mf7kuc8RKPLCUNUFoUxYxhApccp5yi', {'weight': 30}), ('rPYGF76j5jP54Ad2C5TUBNE41xxtHhaGAU', 'rhdHkJnWFvet4Wwhq13iYMHFjT28BGyXbG', {'weight': 36}), ('rhdHkJnWFvet4Wwhq13iYMHFjT28BGyXbG', 'rPYGF76j5jP54Ad2C5TUBNE41xxtHhaGAU', {'weight': 22}), ('rPYGs3MF9GrxqZzUqaoGY4s3TBtFSaiUsC', 'rpsm2d4yddZs5umtaXwuThp3S77H2ot4sY', {'weight': 26}), ('rpsm2d4yddZs5umtaXwuThp3S77H2ot4sY', 'rPYGs3MF9GrxqZzUqaoGY4s3TBtFSaiUsC', {'weight': 15}), ('rPYPgxu6K2Hu64Xys4wCHGQCorPjQaD1He', 'rfE82fFqcd3yCiwFRV5PJsphNvXbHHtXNU', {'weight': 26}), ('rfE82fFqcd3yCiwFRV5PJsphNvXbHHtXNU', 'rPYPgxu6K2Hu64Xys4wCHGQCorPjQaD1He', {'weight': 14}), ('rPYb9WwX1qtoi4nyqu7JBoVWDbip7HcDXd', 'raEUv894guB3pR1AXqFrkZbTghiaw4k63R', {'weight': 94}), ('raEUv894guB3pR1AXqFrkZbTghiaw4k63R', 'rPYb9WwX1qtoi4nyqu7JBoVWDbip7HcDXd', {'weight': 79}), ('rPZ23kKu6veJXPWekMfs9uZjQNuaRkDoUb', 'raPqbXUEYyZqih2KMZTe4k9UPEJrRvM1Cg', {'weight': 28}), ('raPqbXUEYyZqih2KMZTe4k9UPEJrRvM1Cg', 'rPZ23kKu6veJXPWekMfs9uZjQNuaRkDoUb', {'weight': 14}), ('rPaNSmPnn3jtJsyDEJz5DdvFQ8WHZdYmhD', 'rsEcK5oJYzxnnVUPjgAmqAVMHf7RzckK5d', {'weight': 29}), ('rsEcK5oJYzxnnVUPjgAmqAVMHf7RzckK5d', 'rPaNSmPnn3jtJsyDEJz5DdvFQ8WHZdYmhD', {'weight': 44}), ('rPcc7Hj8AmTFWAWZ4ANEtNUXN2GTs99455', 'rchGBxcD1A1C2tdxF6papQYZ8kjRKMYcL', {'weight': 3}), ('rPcdnMT8zQU9DbLsPfnNEpdWiohKCVRS5o', 'rPrBHC2Px5UvUvwK2YkBqR9Z7nDW4QACFt', {'weight': 27}), ('rPrBHC2Px5UvUvwK2YkBqR9Z7nDW4QACFt', 'rPcdnMT8zQU9DbLsPfnNEpdWiohKCVRS5o', {'weight': 37}), ('rPdfa9nHTkoKp3rkiwbxCaAy1c7UZamouH', 'ra6MPZtagMLLgdkhJBxSu9y1Y1jsZzBBy4', {'weight': 42}), ('ra6MPZtagMLLgdkhJBxSu9y1Y1jsZzBBy4', 'rPdfa9nHTkoKp3rkiwbxCaAy1c7UZamouH', {'weight': 33}), ('rPejEqXvEECRbtsYFh5dKrXbBSoKE5A3qH', 'rwKaahYmPwBTpSpobfCpjcQzKbPomG2vwV', {'weight': 27}), ('rwKaahYmPwBTpSpobfCpjcQzKbPomG2vwV', 'rPejEqXvEECRbtsYFh5dKrXbBSoKE5A3qH', {'weight': 36}), ('rPepmAABqraud4uFpa8GvakAfGpfMfy28g', 'raeaSJzeoRv3LQRrK2vwW4JJrCdijhoRz6', {'weight': 23}), ('raeaSJzeoRv3LQRrK2vwW4JJrCdijhoRz6', 'rPepmAABqraud4uFpa8GvakAfGpfMfy28g', {'weight': 37}), ('rPfTQpdB4A494NwsRWSJ7eFxCd9uheAmb2', 'rh5cdSTo2yWEmz7rnbE5FXXZkhqKLq5X9a', {'weight': 17}), ('rh5cdSTo2yWEmz7rnbE5FXXZkhqKLq5X9a', 'rPfTQpdB4A494NwsRWSJ7eFxCd9uheAmb2', {'weight': 33}), ('rPgGPpzX6SBbSe21jtDvmLghmortBJBxr2', 'rpwvqwMyDuZUW8RgAvL5TRn14Af9HNE5BK', {'weight': 69}), ('rpwvqwMyDuZUW8RgAvL5TRn14Af9HNE5BK', 'rPgGPpzX6SBbSe21jtDvmLghmortBJBxr2', {'weight': 46}), ('rPgbPUdVZG9Uk1KMs6R8ZMbtXHEDKABp6w', 'rpTbx1rWJ6QurjP6KB8yQKMMgho3x24vdH', {'weight': 21}), ('rpTbx1rWJ6QurjP6KB8yQKMMgho3x24vdH', 'rPgbPUdVZG9Uk1KMs6R8ZMbtXHEDKABp6w', {'weight': 30}), ('rPhYnEttrUyTM5oLTcWJs2HgYU83cHyGac', 'rpFCNGa8CZ1jKgc5EU6hL8Rw8u25GXvVJs', {'weight': 36}), ('rpFCNGa8CZ1jKgc5EU6hL8Rw8u25GXvVJs', 'rPhYnEttrUyTM5oLTcWJs2HgYU83cHyGac', {'weight': 22}), ('rPhs5YrBnedyTrD7KFao3AbpUPTDMVsa8Q', 'rnJJb2JxFWTgwMXuHZfurW7crMgePRASR9', {'weight': 24}), ('rnJJb2JxFWTgwMXuHZfurW7crMgePRASR9', 'rPhs5YrBnedyTrD7KFao3AbpUPTDMVsa8Q', {'weight': 15}), ('rPhtn8zP8jnTUPZd7wtY5ThiLp5rSNSfC3', 'rpZR1mpZ7mg21cJoi6bVHQsb2vs3w7Q3LN', {'weight': 28}), ('rpZR1mpZ7mg21cJoi6bVHQsb2vs3w7Q3LN', 'rPhtn8zP8jnTUPZd7wtY5ThiLp5rSNSfC3', {'weight': 15}), ('rPiQWLJsNQJNM4euruSK1959L7VRWZshbP', 'rn4aE7iBSgvtnmRxFjv4arsXwehzFn5Mbt', {'weight': 27}), ('rn4aE7iBSgvtnmRxFjv4arsXwehzFn5Mbt', 'rPiQWLJsNQJNM4euruSK1959L7VRWZshbP', {'weight': 14}), ('rPiW9utpPNmFMk1TDcXfizMBAu3chwFjSK', 'rPuvsJb3QXWUFziikEi8crbBgP4B2t4Lpb', {'weight': 41}), ('rPuvsJb3QXWUFziikEi8crbBgP4B2t4Lpb', 'rPiW9utpPNmFMk1TDcXfizMBAu3chwFjSK', {'weight': 30}), ('rPiirFwgix4g1CwsQLefC3gLE83RUwsi3y', 'ra9WXrCfL4pJ5iXbgPzxZp7Q4s5Ytk38mV', {'weight': 27}), ('ra9WXrCfL4pJ5iXbgPzxZp7Q4s5Ytk38mV', 'rPiirFwgix4g1CwsQLefC3gLE83RUwsi3y', {'weight': 37}), ('rPiySkygCvnFFfCze32bWBidx2KTFdNKN7', 'rsx6VfriUjcHJCFxGNfvkQj5S2XfDXqg7S', {'weight': 24}), ('rsx6VfriUjcHJCFxGNfvkQj5S2XfDXqg7S', 'rPiySkygCvnFFfCze32bWBidx2KTFdNKN7', {'weight': 14}), ('rPjqEN8fYrYwRuVWqhDtiXKugifc4QHnWF', 'rUoZgChmkrrwpz8iRKj49uA19gU4ir856D', {'weight': 17}), ('rUoZgChmkrrwpz8iRKj49uA19gU4ir856D', 'rPjqEN8fYrYwRuVWqhDtiXKugifc4QHnWF', {'weight': 30}), ('rPmGgS78W5kKXW9B3onsp4pr5xfAZEyeTr', 'rnuZ7gQytrHgYsNdfEJRNTSZKYVUhqjvDT', {'weight': 27}), ('rnuZ7gQytrHgYsNdfEJRNTSZKYVUhqjvDT', 'rPmGgS78W5kKXW9B3onsp4pr5xfAZEyeTr', {'weight': 16}), ('rPmYAT46pkyhbsRfAkVBH9Rj8UET6L13ze', 'rssuz8wbyG13fg3ykU7EvzTvMeV6LBH7Kb', {'weight': 31}), ('rssuz8wbyG13fg3ykU7EvzTvMeV6LBH7Kb', 'rPmYAT46pkyhbsRfAkVBH9Rj8UET6L13ze', {'weight': 18}), ('rPnEELq7rWo6bANgPJ3mctJLg9heqWh7Za', 'rhv5jBna5pcNJdrSiZRW9dKXVf5bejuQ5V', {'weight': 20}), ('rhv5jBna5pcNJdrSiZRW9dKXVf5bejuQ5V', 'rPnEELq7rWo6bANgPJ3mctJLg9heqWh7Za', {'weight': 30}), ('rPnMeF9rXroV3iTts9w164NBymeLLjGxFt', 'rcjMRdfR1ANtQkfHrK2U7bNRdmEnSZwNM', {'weight': 35}), ('rcjMRdfR1ANtQkfHrK2U7bNRdmEnSZwNM', 'rPnMeF9rXroV3iTts9w164NBymeLLjGxFt', {'weight': 24}), ('rPnxzdyoRmcsskYbQAJr6898dR2Y5wAAme', 'rn7shgCW6XywcGqz7zWetkgf41oKhAaQZd', {'weight': 32}), ('rn7shgCW6XywcGqz7zWetkgf41oKhAaQZd', 'rPnxzdyoRmcsskYbQAJr6898dR2Y5wAAme', {'weight': 22}), ('rPqdVzAG3G6mUEYwnNddo6EsLWQP2VoZfe', 'rhfoDLG6asXM2q9y1jySB3dcLPd7o2UnDf', {'weight': 23}), ('rhfoDLG6asXM2q9y1jySB3dcLPd7o2UnDf', 'rPqdVzAG3G6mUEYwnNddo6EsLWQP2VoZfe', {'weight': 33}), ('rPqdghnSqGq91V9WT15FyC96nMMx5rCxtD', 'rUN24cLvhHQ4yfz94suipX6fSCAMCG1KfB', {'weight': 20}), ('rUN24cLvhHQ4yfz94suipX6fSCAMCG1KfB', 'rPqdghnSqGq91V9WT15FyC96nMMx5rCxtD', {'weight': 30}), ('rPqzst3MuzQAPnwtdZ8HeHATAWRjem62q7', 'rhWz4zyB6DSaf1RSG2yPDrPsG4MCzbuHj6', {'weight': 24}), ('rhWz4zyB6DSaf1RSG2yPDrPsG4MCzbuHj6', 'rPqzst3MuzQAPnwtdZ8HeHATAWRjem62q7', {'weight': 14}), ('rPrzWBjkJbj57QL3G7HXjPsrXcB4SaT6x2', 'rhuJsuFQua7H5eVr6kw8j8g53puNLxNGqA', {'weight': 34}), ('rhuJsuFQua7H5eVr6kw8j8g53puNLxNGqA', 'rPrzWBjkJbj57QL3G7HXjPsrXcB4SaT6x2', {'weight': 43}), ('rPs5R5tnMBV4VcJsL3WQHZEiYSmgTZ1nFB', 'rpp4ekiFNS9osBq1ghbwi69E3wNQWBqEUX', {'weight': 31}), ('rpp4ekiFNS9osBq1ghbwi69E3wNQWBqEUX', 'rPs5R5tnMBV4VcJsL3WQHZEiYSmgTZ1nFB', {'weight': 39}), ('rPumDbpp1nCKsHcNMJbf4hRBfFbnBCRUAk', 'rszQrkmFeLzTgW5B5uAvzaKkcyCK8i5Wad', {'weight': 30}), ('rszQrkmFeLzTgW5B5uAvzaKkcyCK8i5Wad', 'rPumDbpp1nCKsHcNMJbf4hRBfFbnBCRUAk', {'weight': 17}), ('rPvi41nroRN1kgyLbn9JK6TZDiFtjsQJUm', 'rwacietV5jfrNodxp62KEhb5q4AmX2DzmU', {'weight': 14}), ('rwacietV5jfrNodxp62KEhb5q4AmX2DzmU', 'rPvi41nroRN1kgyLbn9JK6TZDiFtjsQJUm', {'weight': 24}), ('rPwxsvGnn2uWx7XSf3r3wkiC7K3D4eRCby', 'rUDawRVUe7taeHKSFp6nADrAKzNf9X5sG7', {'weight': 15}), ('rUDawRVUe7taeHKSFp6nADrAKzNf9X5sG7', 'rPwxsvGnn2uWx7XSf3r3wkiC7K3D4eRCby', {'weight': 28}), ('rPwy9kZitCY7AXYBR1cequue3mekvVSq5W', 'rnxmjRyQ62YQ5s5YU9hbpJyzX62ktPaazA', {'weight': 26}), ('rnxmjRyQ62YQ5s5YU9hbpJyzX62ktPaazA', 'rPwy9kZitCY7AXYBR1cequue3mekvVSq5W', {'weight': 14}), ('rPxqWNQfTzyWtYoWvCduE8n4NnYQ3YTRs7', 'rUMuvHHzJpD742WDdtAewvQJe1kBXuqvdj', {'weight': 35}), ('rUMuvHHzJpD742WDdtAewvQJe1kBXuqvdj', 'rPxqWNQfTzyWtYoWvCduE8n4NnYQ3YTRs7', {'weight': 44}), ('rPyKyf2gr8fbkSd4ENUsqrHi2rExmJKvLN', 'rwpFGSWMJ9zE4jzRy4A2Z1Rm5Y2NyDfUvW', {'weight': 22}), ('rwpFGSWMJ9zE4jzRy4A2Z1Rm5Y2NyDfUvW', 'rPyKyf2gr8fbkSd4ENUsqrHi2rExmJKvLN', {'weight': 33}), ('rQ3miVd8jbvkkWxZzRyFTof2BRGFiyGQk2', 'rhszMAXPh1hAxeZf8c5Sbio8kmxZtDikix', {'weight': 21}), ('rhszMAXPh1hAxeZf8c5Sbio8kmxZtDikix', 'rQ3miVd8jbvkkWxZzRyFTof2BRGFiyGQk2', {'weight': 33}), ('rQ97iAitSCazrBPYkWzLeiKr41T5TnYnxL', 'rnSHuey8ohH121UmPsqEKVvqiQgzUS4Cbm', {'weight': 28}), ('rnSHuey8ohH121UmPsqEKVvqiQgzUS4Cbm', 'rQ97iAitSCazrBPYkWzLeiKr41T5TnYnxL', {'weight': 16}), ('rQ9Cx2sEca52ExvYs3rtNLQSxrtTi1BKFs', 'rhhbkCffgLKk6ANsZSMLGoUD6WbYXqKhpq', {'weight': 46}), ('rhhbkCffgLKk6ANsZSMLGoUD6WbYXqKhpq', 'rQ9Cx2sEca52ExvYs3rtNLQSxrtTi1BKFs', {'weight': 38}), ('rQ9bysKJ9FkgTKPps1bejbjmiBeQVBnze', 'rsZW4Fy6cvcjbHXLyDYULRehsce4KVxbEh', {'weight': 14}), ('rsZW4Fy6cvcjbHXLyDYULRehsce4KVxbEh', 'rQ9bysKJ9FkgTKPps1bejbjmiBeQVBnze', {'weight': 26}), ('rQBDbxDxbck9PSJkH6dAeymsayeHvydHMq', 'rwt3vtTQJahHavKFtZ3zn37wBW3MynUyvc', {'weight': 20}), ('rwt3vtTQJahHavKFtZ3zn37wBW3MynUyvc', 'rQBDbxDxbck9PSJkH6dAeymsayeHvydHMq', {'weight': 11}), ('rQBRLNA8wDujT1hKxt9z4vX3LxiJqc1HuJ', 'ra5cucGtAGztciRPdSdjjnU1mcMEhus5Mk', {'weight': 39}), ('ra5cucGtAGztciRPdSdjjnU1mcMEhus5Mk', 'rQBRLNA8wDujT1hKxt9z4vX3LxiJqc1HuJ', {'weight': 1}), ('rQBaDSQfC457QSudd1RqMJkTt2MnwvCnqy', 'rw3QHHEsqAvBEwYHXkawRrdXE8oQNWz5Va', {'weight': 30}), ('rw3QHHEsqAvBEwYHXkawRrdXE8oQNWz5Va', 'rQBaDSQfC457QSudd1RqMJkTt2MnwvCnqy', {'weight': 20}), ('rQE8shWNvqtS7wEqB2JM9YcCSrB39Eamcq', 'rmmFcQ8WhcXNJMWZbxwJS8jAV1hJPEXLX', {'weight': 52}), ('rmmFcQ8WhcXNJMWZbxwJS8jAV1hJPEXLX', 'rQE8shWNvqtS7wEqB2JM9YcCSrB39Eamcq', {'weight': 74}), ('rQEwNqUPPJg5TpAAHDXgTUcLLa2a4aos2N', 'rsHCYqNxwNMWriEy1y3hubJKZf71wtVqUR', {'weight': 34}), ('rsHCYqNxwNMWriEy1y3hubJKZf71wtVqUR', 'rQEwNqUPPJg5TpAAHDXgTUcLLa2a4aos2N', {'weight': 22}), ('rQGwhZ4tBMmHUbk1DyjcvBXHqcKGK8pTMn', 'rhvAEmyJAZyNzLabD9DzPXb7KcYKxTj3fk', {'weight': 30}), ('rhvAEmyJAZyNzLabD9DzPXb7KcYKxTj3fk', 'rQGwhZ4tBMmHUbk1DyjcvBXHqcKGK8pTMn', {'weight': 42}), ('rQHNb6hQYYX3iFmD5JvbyBeibSxyCgDCCQ', 'rhbW1wUPsetzxZiyHih6N3h8g79RA5osQf', {'weight': 34}), ('rhbW1wUPsetzxZiyHih6N3h8g79RA5osQf', 'rQHNb6hQYYX3iFmD5JvbyBeibSxyCgDCCQ', {'weight': 22}), ('rQHYAuToMXY1tZDjFz8hbCp6oSNkqfReEo', 'rsypJMH4bj2YEypndDKJaPYvLq9iBL68W7', {'weight': 21}), ('rsypJMH4bj2YEypndDKJaPYvLq9iBL68W7', 'rQHYAuToMXY1tZDjFz8hbCp6oSNkqfReEo', {'weight': 33}), ('rQJ1RatefksN6NKMWgVAGCu4RsWorzSM5z', 'rpdNntxp6Qd1QnCYEBr8WuQnZhp1dMN47S', {'weight': 16}), ('rpdNntxp6Qd1QnCYEBr8WuQnZhp1dMN47S', 'rQJ1RatefksN6NKMWgVAGCu4RsWorzSM5z', {'weight': 28}), ('rQJFB9aDWQjH8NbKweuteGN4RdQ6NjFJ23', 'rfNKubRhyTgwsu1A6eRM37Cbvxu7UE8FYJ', {'weight': 32}), ('rfNKubRhyTgwsu1A6eRM37Cbvxu7UE8FYJ', 'rQJFB9aDWQjH8NbKweuteGN4RdQ6NjFJ23', {'weight': 17}), ('rQKCjPaNiPRLv1Ze5DHS7mQR7X5Hdy6t2p', 'rsQhBrqri6MDMMUJ6jdHVVB99i6kTqeM2E', {'weight': 39}), ('rsQhBrqri6MDMMUJ6jdHVVB99i6kTqeM2E', 'rQKCjPaNiPRLv1Ze5DHS7mQR7X5Hdy6t2p', {'weight': 29}), ('rQKR7PKKGCzc29BM84xLPp25RjSyUoV3jt', 'rfWD8JPJMAG1NRdMGoLhKohKMFQevPCdYm', {'weight': 18}), ('rfWD8JPJMAG1NRdMGoLhKohKMFQevPCdYm', 'rQKR7PKKGCzc29BM84xLPp25RjSyUoV3jt', {'weight': 29}), ('rQKy6JXkJ9d5obTB2PkxK28QkpuG98xk7w', 'rnXv3ZCRYsfbJazwFZYMp8F9CoS6jhDkh8', {'weight': 26}), ('rnXv3ZCRYsfbJazwFZYMp8F9CoS6jhDkh8', 'rQKy6JXkJ9d5obTB2PkxK28QkpuG98xk7w', {'weight': 38}), ('rQLNnJrSeZxkaHWBXgAoKXGHup6iDQMiLB', 'rsfw1H5NeFNtZkJYZZ1Kx67dPgehZE8WHL', {'weight': 17}), ('rsfw1H5NeFNtZkJYZZ1Kx67dPgehZE8WHL', 'rQLNnJrSeZxkaHWBXgAoKXGHup6iDQMiLB', {'weight': 31}), ('rQNdcSUBYeEW1xVnwHb1GS49np4A9XqHoK', 'rh4Cn8wrPNcP7szFDcgSXgNgpLkKk35ByZ', {'weight': 100}), ('rh4Cn8wrPNcP7szFDcgSXgNgpLkKk35ByZ', 'rQNdcSUBYeEW1xVnwHb1GS49np4A9XqHoK', {'weight': 111}), ('rQUDT19k4nQDt45jXzFVpCDh1K7L28zkCW', 'rsFCwVe3WvMbAap2GdftRmg4CmCgY6Q5hz', {'weight': 33}), ('rsFCwVe3WvMbAap2GdftRmg4CmCgY6Q5hz', 'rQUDT19k4nQDt45jXzFVpCDh1K7L28zkCW', {'weight': 21}), ('rQaPCgADgf28dYHRrUKhDLkiRsJa1yfp7B', 'rwzCUkdupGDm2NMAZ2LdJm1uAnDYbsMcLq', {'weight': 27}), ('rwzCUkdupGDm2NMAZ2LdJm1uAnDYbsMcLq', 'rQaPCgADgf28dYHRrUKhDLkiRsJa1yfp7B', {'weight': 37}), ('rQaaCBgBiX5DcCiLRbexLS2g2tRBzBL7HK', 'rZi4iyHUMUQWkyx5Qg7dicdAM5STJWxPf', {'weight': 17}), ('rZi4iyHUMUQWkyx5Qg7dicdAM5STJWxPf', 'rQaaCBgBiX5DcCiLRbexLS2g2tRBzBL7HK', {'weight': 26}), ('rQakEpruuytcJ55Q9SnQoKRXrfR2E4y6hj', 'rfW58a4SSeqLyViG2MWYAAiipRkvSGvDpQ', {'weight': 13}), ('rfW58a4SSeqLyViG2MWYAAiipRkvSGvDpQ', 'rQakEpruuytcJ55Q9SnQoKRXrfR2E4y6hj', {'weight': 23}), ('rQarCLWZVWdjdWUfFf8BCghTRF4szuBPeg', 'raqNgJsayfNNkkdoTyqzv5ijjX8wt5Mf9C', {'weight': 41}), ('raqNgJsayfNNkkdoTyqzv5ijjX8wt5Mf9C', 'rQarCLWZVWdjdWUfFf8BCghTRF4szuBPeg', {'weight': 29}), ('rQav2DXuvGB74YVWdEZFpcJsTamJQH49i5', 'rwr5eJeDVWqNnUGedwmM8dmDkmTfqWkJ74', {'weight': 36}), ('rwr5eJeDVWqNnUGedwmM8dmDkmTfqWkJ74', 'rQav2DXuvGB74YVWdEZFpcJsTamJQH49i5', {'weight': 25}), ('rQf66ncERgbqQLpAACmcTHMJNSf7F6EwW5', 'rshEpEMehnzv5DuL88JjTXUkzq8EGQCMem', {'weight': 25}), ('rshEpEMehnzv5DuL88JjTXUkzq8EGQCMem', 'rQf66ncERgbqQLpAACmcTHMJNSf7F6EwW5', {'weight': 13}), ('rQngbcqc6D8BrRFRnAdECYPLvzVyr8NwW7', 'rfSnoKa4iftqpGANJ9XngUy2M3ub7A8e28', {'weight': 40}), ('rfSnoKa4iftqpGANJ9XngUy2M3ub7A8e28', 'rQngbcqc6D8BrRFRnAdECYPLvzVyr8NwW7', {'weight': 30}), ('rQpHQi1c2gzbdGyaqLNTmkwxpg3hgPSe1L', 'rfiXjWYX5fjZsc2B9ohr1hwEvmUe99FbHo', {'weight': 17}), ('rfiXjWYX5fjZsc2B9ohr1hwEvmUe99FbHo', 'rQpHQi1c2gzbdGyaqLNTmkwxpg3hgPSe1L', {'weight': 29}), ('rQpNkF8xnKSLhWUhFAT2UWrFhfuEEL8JrC', 'rUSNWfWkZMZE1FfJRKff73JYRmMW6JZJcM', {'weight': 34}), ('rUSNWfWkZMZE1FfJRKff73JYRmMW6JZJcM', 'rQpNkF8xnKSLhWUhFAT2UWrFhfuEEL8JrC', {'weight': 22}), ('rQriAKAJJUuhabnGRvbetbhdSsPBRZLdRo', 'rchGBxcD1A1C2tdxF6papQYZ8kjRKMYcL', {'weight': 1}), ('rQs9wxNuDVvwkYXXH5TzHvM1zchT4CGQ5a', 'rpwZu51VjJYznVavr5cJevMkKk7JQPdZE1', {'weight': 20}), ('rpwZu51VjJYznVavr5cJevMkKk7JQPdZE1', 'rQs9wxNuDVvwkYXXH5TzHvM1zchT4CGQ5a', {'weight': 30}), ('rQsMNT2NjpTUu83WN74G9vWySynW3cawPH', 'raxJ97WMrpQpxKqE1rpGvXzaoUvGe16ska', {'weight': 46}), ('raxJ97WMrpQpxKqE1rpGvXzaoUvGe16ska', 'rQsMNT2NjpTUu83WN74G9vWySynW3cawPH', {'weight': 37}), ('rQwUE7CUxnxpTvF2P6KDXwhP4FNcRhhzP8', 'rUPyjPa3Z6jMLzkPi4ykPTmxp1Hf3Ykx1E', {'weight': 46}), ('rUPyjPa3Z6jMLzkPi4ykPTmxp1Hf3Ykx1E', 'rQwUE7CUxnxpTvF2P6KDXwhP4FNcRhhzP8', {'weight': 35}), ('rR91SaLsV5TbLF1Mq8hkri6LbgDycz994', 'ra9YgpUeS5Bas7FqHRFvP18K4wgUwvrpDn', {'weight': 45}), ('ra9YgpUeS5Bas7FqHRFvP18K4wgUwvrpDn', 'rR91SaLsV5TbLF1Mq8hkri6LbgDycz994', {'weight': 34}), ('rRbDgorbh1zGE5Bgi3xua4YUtn5xJfnL1', 'ra7QqFLcjqgbhVgpQ5DdDzmVWoUPFBvGCq', {'weight': 36}), ('ra7QqFLcjqgbhVgpQ5DdDzmVWoUPFBvGCq', 'rRbDgorbh1zGE5Bgi3xua4YUtn5xJfnL1', {'weight': 23}), ('rRmn2pBSPnX4Ddogc3eKoNqtrMCgLmuwC', 'rsmNrWzas6iTyLtrP1KSRMChcGD4pL9BZR', {'weight': 12}), ('rsmNrWzas6iTyLtrP1KSRMChcGD4pL9BZR', 'rRmn2pBSPnX4Ddogc3eKoNqtrMCgLmuwC', {'weight': 28}), ('rRtS72Ag5nUuwWLSsMAjhS9T3AJ3fTPNh', 'rsxEsB1dAiYy3WeeibCBEqpeLn2GRttqrh', {'weight': 25}), ('rsxEsB1dAiYy3WeeibCBEqpeLn2GRttqrh', 'rRtS72Ag5nUuwWLSsMAjhS9T3AJ3fTPNh', {'weight': 14}), ('rRxCyYYrYbgDhAhyg4H4oYtpa3pLfgeXw', 'rpvpddDd1REY4Qbas9zbn2fLQwQVLQMoSU', {'weight': 21}), ('rpvpddDd1REY4Qbas9zbn2fLQwQVLQMoSU', 'rRxCyYYrYbgDhAhyg4H4oYtpa3pLfgeXw', {'weight': 29}), ('rTpPzTebaSgZHExZCNacQW1sJu26xmZdg', 'rhkNxKDVREP1LrTqX3UAN2T1F4Dv9iqtP3', {'weight': 19}), ('rhkNxKDVREP1LrTqX3UAN2T1F4Dv9iqtP3', 'rTpPzTebaSgZHExZCNacQW1sJu26xmZdg', {'weight': 31}), ('rU1i5vYk4xvrTTv4TgcxtHdsrPRig6EJ48', 'rw4JPLvvWiuW3ennSmQbXx9GS8wGwfqS16', {'weight': 25}), ('rw4JPLvvWiuW3ennSmQbXx9GS8wGwfqS16', 'rU1i5vYk4xvrTTv4TgcxtHdsrPRig6EJ48', {'weight': 15}), ('rU2dGkBgFGfA6h82DQbCqAB5RhMEWqVzd8', 'rnJKgtYbgakmhwz5LEmvUAsC7CiAGxYR5G', {'weight': 26}), ('rnJKgtYbgakmhwz5LEmvUAsC7CiAGxYR5G', 'rU2dGkBgFGfA6h82DQbCqAB5RhMEWqVzd8', {'weight': 15}), ('rU44ictNzLrrJUV6YY8Yzb9dtZTMeifAm7', 'rfuB31QiJaCGYm5PHLXADGzfZipp1oJLkn', {'weight': 28}), ('rfuB31QiJaCGYm5PHLXADGzfZipp1oJLkn', 'rU44ictNzLrrJUV6YY8Yzb9dtZTMeifAm7', {'weight': 14}), ('rU4DDUz3nPTqrhxfZ3DAmNUezLvEaWkffK', 'rUwpu85P6e4efV6cmZkzpT1UoTbwQjW8i4', {'weight': 30}), ('rUwpu85P6e4efV6cmZkzpT1UoTbwQjW8i4', 'rU4DDUz3nPTqrhxfZ3DAmNUezLvEaWkffK', {'weight': 20}), ('rU66mUhzfrJDZnhFHhr7peJPpqsPt6n95x', 'rnRCei6UM9PzbaUMNvberLesChWgCgtRkk', {'weight': 13}), ('rnRCei6UM9PzbaUMNvberLesChWgCgtRkk', 'rU66mUhzfrJDZnhFHhr7peJPpqsPt6n95x', {'weight': 26}), ('rU73EsGoKKHp4FXPDVfBGxRTN9XWpifdaH', 'rUh11BDDbCS6iihHPHNqYjFitnLTm5mY6R', {'weight': 16}), ('rUh11BDDbCS6iihHPHNqYjFitnLTm5mY6R', 'rU73EsGoKKHp4FXPDVfBGxRTN9XWpifdaH', {'weight': 25}), ('rU74R1tbA4ywtJTmw2gYuZ1JgGxiWrQ6Rm', 'rpajVQqNkpvJ6gwMu3soRYZtpXaKZHNAgB', {'weight': 35}), ('rpajVQqNkpvJ6gwMu3soRYZtpXaKZHNAgB', 'rU74R1tbA4ywtJTmw2gYuZ1JgGxiWrQ6Rm', {'weight': 26}), ('rU7GEXfXgH3pWrUWfido5T7k6sz57xP6pX', 'rfE54QvBtVS74VoyrmaXjf42WnSQoB65xK', {'weight': 23}), ('rfE54QvBtVS74VoyrmaXjf42WnSQoB65xK', 'rU7GEXfXgH3pWrUWfido5T7k6sz57xP6pX', {'weight': 32}), ('rU87FipvFQPf5Med9DmaC5BxX4oNEw4MwJ', 'rn9hU4bx16EmTyucxn6xqLXJhee1WxNcMi', {'weight': 97}), ('rn9hU4bx16EmTyucxn6xqLXJhee1WxNcMi', 'rU87FipvFQPf5Med9DmaC5BxX4oNEw4MwJ', {'weight': 1}), ('rU8dQGKxVUtwsprrXR16Q7BAH91HKHRK1p', 'rfBkJyWHLyR1j1pRBoE5zANvauH65KmZjV', {'weight': 22}), ('rfBkJyWHLyR1j1pRBoE5zANvauH65KmZjV', 'rU8dQGKxVUtwsprrXR16Q7BAH91HKHRK1p', {'weight': 33}), ('rU95rKWRvgitQG71QkwKpXZPt9C86DMNHn', 'rUModokvCQXyfzKX5XooJKiyh6eLDwj1vX', {'weight': 21}), ('rUModokvCQXyfzKX5XooJKiyh6eLDwj1vX', 'rU95rKWRvgitQG71QkwKpXZPt9C86DMNHn', {'weight': 30}), ('rU9E9Ya8jXvcfeHrgRvQBA9i8AVpgs2Hfi', 'rUSAnJyVm1Goxq86E94AYFxGG81NTwReyT', {'weight': 35}), ('rUSAnJyVm1Goxq86E94AYFxGG81NTwReyT', 'rU9E9Ya8jXvcfeHrgRvQBA9i8AVpgs2Hfi', {'weight': 22}), ('rU9gJjbx9Fu6rnoLrvLrCEjSyhQKZ1Wh46', 'rUSH19Tc58gunD7MYnsBy5S4yUq1fw1K2c', {'weight': 18}), ('rUSH19Tc58gunD7MYnsBy5S4yUq1fw1K2c', 'rU9gJjbx9Fu6rnoLrvLrCEjSyhQKZ1Wh46', {'weight': 28}), ('rU9pLWNjeLZSnRSwitzfaRjFuwNeYK21EY', 'rw2mWfqF8RfBK6mDgLYr42Bx31EhPuUWNL', {'weight': 42}), ('rw2mWfqF8RfBK6mDgLYr42Bx31EhPuUWNL', 'rU9pLWNjeLZSnRSwitzfaRjFuwNeYK21EY', {'weight': 32}), ('rUB2HqTzgNf73r4wbonVV321QAPwHs1PZh', 'rwSDJChGiiSmbV7vM6LMQHwkHtAxSgxzJX', {'weight': 27}), ('rwSDJChGiiSmbV7vM6LMQHwkHtAxSgxzJX', 'rUB2HqTzgNf73r4wbonVV321QAPwHs1PZh', {'weight': 14}), ('rUBnUJMQuyBVoiqF4MSGD5a7v26xWKvwAN', 'rpXtV1Gbxt5RXoSStvxBDkmzvF6uVzoAb5', {'weight': 41}), ('rpXtV1Gbxt5RXoSStvxBDkmzvF6uVzoAb5', 'rUBnUJMQuyBVoiqF4MSGD5a7v26xWKvwAN', {'weight': 32}), ('rUCqspEhp4mWaA4BcYT1AEhzfvJbYyQv5E', 'rUUNBhG9gdHhhWnko4vDnJuktecVfDc16f', {'weight': 27}), ('rUUNBhG9gdHhhWnko4vDnJuktecVfDc16f', 'rUCqspEhp4mWaA4BcYT1AEhzfvJbYyQv5E', {'weight': 14}), ('rUCsyyP28mmQtNqBWu1jWczN4QWrpFJ8Nr', 'rhk81vCxgPqtAygAk9MAV7WBLZ3LSVDJpW', {'weight': 34}), ('rhk81vCxgPqtAygAk9MAV7WBLZ3LSVDJpW', 'rUCsyyP28mmQtNqBWu1jWczN4QWrpFJ8Nr', {'weight': 22}), ('rUDTNf5AtTRXLmJv5ASKXKi4jyxBv1votA', 'rUhcXEvJFHL561vSgVS8jM3hW9FrRqA4i9', {'weight': 28}), ('rUhcXEvJFHL561vSgVS8jM3hW9FrRqA4i9', 'rUDTNf5AtTRXLmJv5ASKXKi4jyxBv1votA', {'weight': 18}), ('rUDveBvVR9yrpLz5yJt3jjGCde8fPexXDH', 'rhx7nrtdS2hEFtaQhDaVWz4hEVGxzPKU3G', {'weight': 28}), ('rhx7nrtdS2hEFtaQhDaVWz4hEVGxzPKU3G', 'rUDveBvVR9yrpLz5yJt3jjGCde8fPexXDH', {'weight': 38}), ('rUEebM1hNK4pu37Kg9FQQpCos48mJojyhL', 'rp7aF7RUxyBFQuE9yi1PdUzXjAVRztgTeA', {'weight': 26}), ('rp7aF7RUxyBFQuE9yi1PdUzXjAVRztgTeA', 'rUEebM1hNK4pu37Kg9FQQpCos48mJojyhL', {'weight': 15}), ('rUHKc1iAn5BCaxkU5XK1Xnja68btWfixzE', 'rsCWDUkkH2DN849Jd5m1AGoSXBudWfasin', {'weight': 14}), ('rsCWDUkkH2DN849Jd5m1AGoSXBudWfasin', 'rUHKc1iAn5BCaxkU5XK1Xnja68btWfixzE', {'weight': 23}), ('rUJ97m6JqmJQTSMi8XCTiWBSXoctYq7Eow', 'rUhuDAT13uQjN6gcqgBdTtPsAyiJyn93da', {'weight': 17}), ('rUhuDAT13uQjN6gcqgBdTtPsAyiJyn93da', 'rUJ97m6JqmJQTSMi8XCTiWBSXoctYq7Eow', {'weight': 29}), ('rUJjdzbtR9EPTAkFBzHhybrMiZgVfRb55p', 'rwXztQKm3jqJzArKzDy5aFiSbJiRDnj1v4', {'weight': 31}), ('rwXztQKm3jqJzArKzDy5aFiSbJiRDnj1v4', 'rUJjdzbtR9EPTAkFBzHhybrMiZgVfRb55p', {'weight': 16}), ('rUKcHXG5hcJ3Y7sa17ixfjWmnV5s73Djvc', 'ra11pY8UKFDdExA3LUzYq95f4JADQQALss', {'weight': 18}), ('ra11pY8UKFDdExA3LUzYq95f4JADQQALss', 'rUKcHXG5hcJ3Y7sa17ixfjWmnV5s73Djvc', {'weight': 29}), ('rUMvRQBJ5t5r2z1rVB8huh2zkDubDiFjps', 'rsD8rVBFfeSj5PJbGBdKJXZcd1Dwhp8H1F', {'weight': 36}), ('rsD8rVBFfeSj5PJbGBdKJXZcd1Dwhp8H1F', 'rUMvRQBJ5t5r2z1rVB8huh2zkDubDiFjps', {'weight': 46}), ('rUNHKzERhxRTb1cBHEDTzzN98eGMQNqose', 'rUomTZZZEQ8E25U3rQo1th6VCYAeNzmah3', {'weight': 25}), ('rUomTZZZEQ8E25U3rQo1th6VCYAeNzmah3', 'rUNHKzERhxRTb1cBHEDTzzN98eGMQNqose', {'weight': 12}), ('rUP9cMXC2XoTRdCNAQ4QUYLM85bsgwtB8v', 'rcJEHV2P2NFJFiS6o8jEBDEm1C5dLBefo', {'weight': 17}), ('rcJEHV2P2NFJFiS6o8jEBDEm1C5dLBefo', 'rUP9cMXC2XoTRdCNAQ4QUYLM85bsgwtB8v', {'weight': 32}), ('rUPUa5cuGf9ZcdNN13aDxS9apCaCJF87td', 'rnAAhzJPfkBACYYAemyqpdLTPehUkiKG79', {'weight': 23}), ('rnAAhzJPfkBACYYAemyqpdLTPehUkiKG79', 'rUPUa5cuGf9ZcdNN13aDxS9apCaCJF87td', {'weight': 35}), ('rUS42VAvhWYXUk1jmzLMD3HRm4R2fwVNq7', 'ra7CiBbFzpHouQSzWpCdDQHrNHZKZVrSt6', {'weight': 86}), ('ra7CiBbFzpHouQSzWpCdDQHrNHZKZVrSt6', 'rUS42VAvhWYXUk1jmzLMD3HRm4R2fwVNq7', {'weight': 101}), ('rUS8ickHSgLUBFnQez7iqBu3FhdXAwZpab', 'ramcTcXMZQRn8UfChbpUfQnzVUh6EwDw25', {'weight': 101}), ('ramcTcXMZQRn8UfChbpUfQnzVUh6EwDw25', 'rUS8ickHSgLUBFnQez7iqBu3FhdXAwZpab', {'weight': 111}), ('rUSDnd5yEfS5fqc4qjbdQH2g5z7DbvixQ4', 'rhqD3KJ9jS6EfULXBrcLtvGVVhXDJbiX6P', {'weight': 28}), ('rhqD3KJ9jS6EfULXBrcLtvGVVhXDJbiX6P', 'rUSDnd5yEfS5fqc4qjbdQH2g5z7DbvixQ4', {'weight': 13}), ('rUT4CD1wczhJmaKXdNhW1cWUyhbsAzaxJu', 'rnhKWC291CMLrsFFAhMADpnsUurrfJf1Jf', {'weight': 36}), ('rnhKWC291CMLrsFFAhMADpnsUurrfJf1Jf', 'rUT4CD1wczhJmaKXdNhW1cWUyhbsAzaxJu', {'weight': 24}), ('rUTKwEehwECz2fq25ZRAvaQJSFpkPkgzyC', 'rpYwyQV5NdX9fVuADqr92gEwbeAQUSWeVk', {'weight': 22}), ('rpYwyQV5NdX9fVuADqr92gEwbeAQUSWeVk', 'rUTKwEehwECz2fq25ZRAvaQJSFpkPkgzyC', {'weight': 36}), ('rUTXraoNFdKr3bGNeThj46xHQBo7dcJcY2', 'rUe6nffvnZ4q5LG438e7LVtidNew44ARW4', {'weight': 15}), ('rUe6nffvnZ4q5LG438e7LVtidNew44ARW4', 'rUTXraoNFdKr3bGNeThj46xHQBo7dcJcY2', {'weight': 26}), ('rUTu56GBacDkjN1DBcVKsPaocpXSCKeL47', 'rrh9jJQrGdV4kfJprFwE2NgatJjsRJB99g', {'weight': 74}), ('rrh9jJQrGdV4kfJprFwE2NgatJjsRJB99g', 'rUTu56GBacDkjN1DBcVKsPaocpXSCKeL47', {'weight': 48}), ('rUUWc2YkqUpfTExgv5ixmpvTY2Ab816eUx', 'rfqUufRH4Yyv8ukvUpGCpAu7actvdRsi5M', {'weight': 34}), ('rfqUufRH4Yyv8ukvUpGCpAu7actvdRsi5M', 'rUUWc2YkqUpfTExgv5ixmpvTY2Ab816eUx', {'weight': 25}), ('rUUuUz5HS1m3urMxXVE8nAMJAFHJEfdoBp', 'rn2VjYhDzRgfGrUKqqNSBXFBF5LM9XNbEw', {'weight': 14}), ('rn2VjYhDzRgfGrUKqqNSBXFBF5LM9XNbEw', 'rUUuUz5HS1m3urMxXVE8nAMJAFHJEfdoBp', {'weight': 23}), ('rUVfavpHsYUTdFQ1DseATVvC5BpYyjjCSv', 'rnVdAHrZrGchZDaiMrH9srQozHfZh2dzhK', {'weight': 24}), ('rnVdAHrZrGchZDaiMrH9srQozHfZh2dzhK', 'rUVfavpHsYUTdFQ1DseATVvC5BpYyjjCSv', {'weight': 14}), ('rUWFphLBVEs7DEJHiUNZjysLTW2CCDhzkw', 'rhk4yBKnAbmqTxcVDQDd2KomZa6P2Bj88z', {'weight': 31}), ('rhk4yBKnAbmqTxcVDQDd2KomZa6P2Bj88z', 'rUWFphLBVEs7DEJHiUNZjysLTW2CCDhzkw', {'weight': 43}), ('rUWtzLuJsZWh29CrdoQftv6cF7r2g8acNT', 'rnQeZcm7P8Bs7h9uc5LrHo9TQHKdr8hBY4', {'weight': 22}), ('rnQeZcm7P8Bs7h9uc5LrHo9TQHKdr8hBY4', 'rUWtzLuJsZWh29CrdoQftv6cF7r2g8acNT', {'weight': 34}), ('rUYN9WKVFrM4jZ62jcDM558oCH7cszVfCV', 'rp3MYMuXHUGJoP26jXwMuKBm67odRXxcYc', {'weight': 77}), ('rp3MYMuXHUGJoP26jXwMuKBm67odRXxcYc', 'rUYN9WKVFrM4jZ62jcDM558oCH7cszVfCV', {'weight': 91}), ('rUYqBAHNxU21uuWkerDEGUM3M4C7gy4RwG', 'rap8osNW4daoLquUVLzpnNZTtGyyTwm4Gp', {'weight': 17}), ('rap8osNW4daoLquUVLzpnNZTtGyyTwm4Gp', 'rUYqBAHNxU21uuWkerDEGUM3M4C7gy4RwG', {'weight': 33}), ('rUa7uAoQ25qPofngCTNkhgH3KJ1vRYjonC', 'rsR71rMrizkAD9Jsjr2jymVUpf3hxmXmLP', {'weight': 29}), ('rsR71rMrizkAD9Jsjr2jymVUpf3hxmXmLP', 'rUa7uAoQ25qPofngCTNkhgH3KJ1vRYjonC', {'weight': 21}), ('rUcdKfPT7RNuXAHFsLWUyeWn6VVpzww5yt', 'rwH48CoLayXH2M4LFPBgp5F7tQNTzeYgk1', {'weight': 25}), ('rwH48CoLayXH2M4LFPBgp5F7tQNTzeYgk1', 'rUcdKfPT7RNuXAHFsLWUyeWn6VVpzww5yt', {'weight': 34}), ('rUfAbFWNe7BFhEyDgSF3mJG9q93YYeVayM', 'rfmsroDn6r45NvKD2jUDgHxhdW2aFtvF5x', {'weight': 35}), ('rfmsroDn6r45NvKD2jUDgHxhdW2aFtvF5x', 'rUfAbFWNe7BFhEyDgSF3mJG9q93YYeVayM', {'weight': 45}), ('rUfCftV1gb5AUygt4z35rmHxRL4Rpggybf', 'rh5uq6qwtFNgHYiKVXSpaGSzPNkGcbbmG8', {'weight': 23}), ('rh5uq6qwtFNgHYiKVXSpaGSzPNkGcbbmG8', 'rUfCftV1gb5AUygt4z35rmHxRL4Rpggybf', {'weight': 36}), ('rUfthktzR1hjsrpnp9ZRhRpUGvAaXJjRpA', 'raRrut4hobYPJrdaG1CqLRp1gcwtDGTDBW', {'weight': 30}), ('raRrut4hobYPJrdaG1CqLRp1gcwtDGTDBW', 'rUfthktzR1hjsrpnp9ZRhRpUGvAaXJjRpA', {'weight': 21}), ('rUgJern8XHDaq8QTc2mDMxiKiW5htJTS2A', 'rw2pVNRq8bACMPzDERCWaSHSZPVGmuptg', {'weight': 25}), ('rw2pVNRq8bACMPzDERCWaSHSZPVGmuptg', 'rUgJern8XHDaq8QTc2mDMxiKiW5htJTS2A', {'weight': 14}), ('rUgWjzwoinACRZjZr2LHnFvMFX6MDAf967', 'rchGBxcD1A1C2tdxF6papQYZ8kjRKMYcL', {'weight': 1}), ('rUhEZWT5SkcxAP2qygD8TuKDSNJ1o4FWTR', 'rhVERcqqNwqu6W6sWCCWuvnMc74myb8Ski', {'weight': 41}), ('rhVERcqqNwqu6W6sWCCWuvnMc74myb8Ski', 'rUhEZWT5SkcxAP2qygD8TuKDSNJ1o4FWTR', {'weight': 28}), ('rUhYjSoTxPHjLqTomr9zjGSUJUj5PrrjvC', 'rnV7G13H4Zpf2Y8JsySiLKcY9UK5xh91gw', {'weight': 44}), ('rnV7G13H4Zpf2Y8JsySiLKcY9UK5xh91gw', 'rUhYjSoTxPHjLqTomr9zjGSUJUj5PrrjvC', {'weight': 1}), ('rUiEdE2CYsvKAi1UyiRyiV1g7f3RYqUJcC', 'rrh1bqJGMczGxPr4M5gufAtuUG8k3fpPNp', {'weight': 22}), ('rrh1bqJGMczGxPr4M5gufAtuUG8k3fpPNp', 'rUiEdE2CYsvKAi1UyiRyiV1g7f3RYqUJcC', {'weight': 33}), ('rUjdyzzYrvY1YKJujddaac1eTLHEVBKfxK', 'rskzGgoQh9mdnfuij6PsrepARLjwmNXsg3', {'weight': 21}), ('rskzGgoQh9mdnfuij6PsrepARLjwmNXsg3', 'rUjdyzzYrvY1YKJujddaac1eTLHEVBKfxK', {'weight': 32}), ('rUk5E3YTXYdNomxfJrg9iTqMJyV4JY46cr', 'rpGMHEUs4F6UKRVRFJYbwuRwsB1Hciuys7', {'weight': 1}), ('rpGMHEUs4F6UKRVRFJYbwuRwsB1Hciuys7', 'rUk5E3YTXYdNomxfJrg9iTqMJyV4JY46cr', {'weight': 31}), ('rUku4d2QKuut8yJw5trgvG7ktCH5hsdLrc', 'rnRsk8TEK4UEhMDMrgP74nZGF3NbCQem3a', {'weight': 22}), ('rnRsk8TEK4UEhMDMrgP74nZGF3NbCQem3a', 'rUku4d2QKuut8yJw5trgvG7ktCH5hsdLrc', {'weight': 36}), ('rUmHzUNMaGQdggsu7Lw1BVnu9168cuRuTb', 'rsN95aSJDJ2SXLbRYWKM6aNnHLQEwfiVhi', {'weight': 20}), ('rsN95aSJDJ2SXLbRYWKM6aNnHLQEwfiVhi', 'rUmHzUNMaGQdggsu7Lw1BVnu9168cuRuTb', {'weight': 31}), ('rUmQF4ZAQoEazWQSjpMmPSwR2DGyTCBZEc', 'ra8o7DdwAgbXJ7oWwsg9FX12Su3pTNiRSv', {'weight': 16}), ('ra8o7DdwAgbXJ7oWwsg9FX12Su3pTNiRSv', 'rUmQF4ZAQoEazWQSjpMmPSwR2DGyTCBZEc', {'weight': 30}), ('rUnZF7cyYL72knYUee3cdQoLQtvZCMHivU', 'rpWFWhJdx884ka4UYfEdS6zuSdDawRNkc3', {'weight': 92}), ('rpWFWhJdx884ka4UYfEdS6zuSdDawRNkc3', 'rUnZF7cyYL72knYUee3cdQoLQtvZCMHivU', {'weight': 77}), ('rUnefWTPg9VFbVRnMu78kbPDx2KNQbnVCR', 'rngK9LFnCZJqkYPs4azpbRrhj9igiF3Xsb', {'weight': 14}), ('rngK9LFnCZJqkYPs4azpbRrhj9igiF3Xsb', 'rUnefWTPg9VFbVRnMu78kbPDx2KNQbnVCR', {'weight': 24}), ('rUoVZfCo3rGTtSPqi3cbUHip7D5LCuW4bC', 'ravBV8tYbSzJvAT8xU82wc7xXQ2RcWfU4q', {'weight': 110}), ('ravBV8tYbSzJvAT8xU82wc7xXQ2RcWfU4q', 'rUoVZfCo3rGTtSPqi3cbUHip7D5LCuW4bC', {'weight': 101}), ('rUpXc4vni4xsTyH4J1EshzM8q5iCKf23rd', 'rchGBxcD1A1C2tdxF6papQYZ8kjRKMYcL', {'weight': 1}), ('rUqPtEJiN6vMnnzWZHXghh3HJzjkv5Hp9g', 'rchGBxcD1A1C2tdxF6papQYZ8kjRKMYcL', {'weight': 2}), ('rUqqGz6EMGefeqUUACUaeKX13a4i6mm5gz', 'rsEUm6mGx2iqZH3TYP6uAchF4Zs7oSEN3k', {'weight': 13}), ('rsEUm6mGx2iqZH3TYP6uAchF4Zs7oSEN3k', 'rUqqGz6EMGefeqUUACUaeKX13a4i6mm5gz', {'weight': 28}), ('rUr32hMfJsvsaNzK296dVLYXyzY4fZFMWE', 'rzHsC9E21CuhF6DrhSDa66JWWb8PxVL55', {'weight': 18}), ('rzHsC9E21CuhF6DrhSDa66JWWb8PxVL55', 'rUr32hMfJsvsaNzK296dVLYXyzY4fZFMWE', {'weight': 31}), ('rUshH4dyK3JMDdwX1pmtrYgbjBHoF6eNqp', 'rs9ziDaccB9igUiS2AdQZ9ANA7C2fwkRRr', {'weight': 18}), ('rs9ziDaccB9igUiS2AdQZ9ANA7C2fwkRRr', 'rUshH4dyK3JMDdwX1pmtrYgbjBHoF6eNqp', {'weight': 34}), ('rUsihEPxzzUeRSUtUJfr8i3hAvFvokbjx1', 'ratLe5zSKcddCXXhkyBdXrLTogAU75s8pg', {'weight': 30}), ('ratLe5zSKcddCXXhkyBdXrLTogAU75s8pg', 'rUsihEPxzzUeRSUtUJfr8i3hAvFvokbjx1', {'weight': 17}), ('rUuVuEGAHSjnnMbp88SEZpqKw7vdCrdDjH', 'rnZWNGgdGM9pobVYG4UvRzNs8LygVfktrM', {'weight': 17}), ('rnZWNGgdGM9pobVYG4UvRzNs8LygVfktrM', 'rUuVuEGAHSjnnMbp88SEZpqKw7vdCrdDjH', {'weight': 28}), ('rUuy1zWhMengqVfcNgqJM8uzWuCiBrYhJh', 'rfHim9enY6RpqEZRQNuMxVj1n38y4KC972', {'weight': 47}), ('rfHim9enY6RpqEZRQNuMxVj1n38y4KC972', 'rUuy1zWhMengqVfcNgqJM8uzWuCiBrYhJh', {'weight': 38}), ('rUvRp5zbtnso5g2mS8zVgXwqot2rrSq71s', 'rhyPTqVkyj8cZ9fecbkrA8QQGb4eJr88qg', {'weight': 41}), ('rhyPTqVkyj8cZ9fecbkrA8QQGb4eJr88qg', 'rUvRp5zbtnso5g2mS8zVgXwqot2rrSq71s', {'weight': 30}), ('rUvxUrCnRcSh8JCAzhkPKxPUqT8Mdqa3bP', 'rhhEc199cJhq3QhJMbpKoVnGiMk8Txj2UG', {'weight': 24}), ('rhhEc199cJhq3QhJMbpKoVnGiMk8Txj2UG', 'rUvxUrCnRcSh8JCAzhkPKxPUqT8Mdqa3bP', {'weight': 34}), ('rUwU18kGXZUsGx7kfR6HzETmbrpewMme1h', 'rhu8cboPjjdHmGuY2jhSLUrmRYA7weUKPR', {'weight': 38}), ('rhu8cboPjjdHmGuY2jhSLUrmRYA7weUKPR', 'rUwU18kGXZUsGx7kfR6HzETmbrpewMme1h', {'weight': 25}), ('rUwjMAn79qYChTf1Y5NQ1g7zUbPWxaHKPU', 'rwucYPvCZDobuaGiufYDPZ7NWtoyqux4z9', {'weight': 22}), ('rwucYPvCZDobuaGiufYDPZ7NWtoyqux4z9', 'rUwjMAn79qYChTf1Y5NQ1g7zUbPWxaHKPU', {'weight': 33}), ('rUwwd8YobjMhgrkEzoNUdxUjU2RJSnSY1M', 'rrpb1G8nUaxPL3jYF3D3mWSLaN9tyfJLKT', {'weight': 28}), ('rrpb1G8nUaxPL3jYF3D3mWSLaN9tyfJLKT', 'rUwwd8YobjMhgrkEzoNUdxUjU2RJSnSY1M', {'weight': 38}), ('rUxctWgBQdEHziMSNGoixn3hSbuPnbxKPq', 'rhVhVcRR9L77D74UGjoGja1siM7eC6d7ZM', {'weight': 19}), ('rhVhVcRR9L77D74UGjoGja1siM7eC6d7ZM', 'rUxctWgBQdEHziMSNGoixn3hSbuPnbxKPq', {'weight': 31}), ('rUyUuftt6MD77LTRs3zeaKoehJZWhTNTd9', 'rw4zc3xfNU3yrmdrxbo37Cb7NYKf33LPJp', {'weight': 28}), ('rw4zc3xfNU3yrmdrxbo37Cb7NYKf33LPJp', 'rUyUuftt6MD77LTRs3zeaKoehJZWhTNTd9', {'weight': 18}), ('rUzAtBDioM5AnLFWostNrT5CyYAEdCYzad', 'rsxi3684GVuR4e85GhuqiKpD1CKTsRFtXc', {'weight': 24}), ('rsxi3684GVuR4e85GhuqiKpD1CKTsRFtXc', 'rUzAtBDioM5AnLFWostNrT5CyYAEdCYzad', {'weight': 37}), ('rUzo54aux3LA6NVt3H1WxMQR4Qh8WH9FHg', 'rchGBxcD1A1C2tdxF6papQYZ8kjRKMYcL', {'weight': 1}), ('rUzzaRhiPU2fpApYy5gaK2EyEGKQouTWfz', 'rw7Q8bbPHDXGnRqVcutnnLPAoUG21GvZUM', {'weight': 28}), ('rw7Q8bbPHDXGnRqVcutnnLPAoUG21GvZUM', 'rUzzaRhiPU2fpApYy5gaK2EyEGKQouTWfz', {'weight': 13}), ('rVzyyhioV1ZaxrQn8S88bmaKCzWAEN4tK', 'rchGBxcD1A1C2tdxF6papQYZ8kjRKMYcL', {'weight': 1}), ('rWLqxyBLvt3wATZbPawhZ6aVciahMzj1r', 'raDfAouY1eQ5v7PMDdpZshAZxz975dwinu', {'weight': 35}), ('raDfAouY1eQ5v7PMDdpZshAZxz975dwinu', 'rWLqxyBLvt3wATZbPawhZ6aVciahMzj1r', {'weight': 44}), ('rWdw5u69cBF1GTGDgX6puPBXRjC96rrRL', 'rwoj24fRyBTKtuF8TXqgaPKwLcHg7Hj4Qp', {'weight': 17}), ('rwoj24fRyBTKtuF8TXqgaPKwLcHg7Hj4Qp', 'rWdw5u69cBF1GTGDgX6puPBXRjC96rrRL', {'weight': 32}), ('rZRwG43aFFRWK2Xi3ifVrxe3ztFbhcdUh', 'rswbuHE79vSKs9RpbgEpa26Yznuxrw6gB2', {'weight': 27}), ('rswbuHE79vSKs9RpbgEpa26Yznuxrw6gB2', 'rZRwG43aFFRWK2Xi3ifVrxe3ztFbhcdUh', {'weight': 16}), ('ra1ZVyMNtHydrtmLrEUj5xgWPZzj9pXb49', 'rhCyn6Gxxqry3xpRVp1WF7SKBopo2wULV3', {'weight': 20}), ('rhCyn6Gxxqry3xpRVp1WF7SKBopo2wULV3', 'ra1ZVyMNtHydrtmLrEUj5xgWPZzj9pXb49', {'weight': 31}), ('ra5TUYoSTSaTVkMehTxehgA5Vvy6HvmS7u', 'rnaeD6Mz8W1TLgrnLXNn1QWGLQhW4W5RkP', {'weight': 28}), ('rnaeD6Mz8W1TLgrnLXNn1QWGLQhW4W5RkP', 'ra5TUYoSTSaTVkMehTxehgA5Vvy6HvmS7u', {'weight': 15}), ('ra6kJecrE64dzfh4vFLPnvjzBkce2oiYNz', 'rwdro4jZaFGwqgq3n91uDJo6ZyAvbGMz9d', {'weight': 23}), ('rwdro4jZaFGwqgq3n91uDJo6ZyAvbGMz9d', 'ra6kJecrE64dzfh4vFLPnvjzBkce2oiYNz', {'weight': 38}), ('ra6wDQS5g1HxcDcVZ5tXcV7uXSXeiSDEs4', 'rwesiFgnsVmEnncSw2mk69CBxcyaCPVJo3', {'weight': 16}), ('rwesiFgnsVmEnncSw2mk69CBxcyaCPVJo3', 'ra6wDQS5g1HxcDcVZ5tXcV7uXSXeiSDEs4', {'weight': 31}), ('ra84p4Yqq1n4ZSCjDMSN5RSbqgKgUT3wnw', 'rnsGfH8i25rBZgyF3DuUyCNHQdTRNVS3V6', {'weight': 24}), ('rnsGfH8i25rBZgyF3DuUyCNHQdTRNVS3V6', 'ra84p4Yqq1n4ZSCjDMSN5RSbqgKgUT3wnw', {'weight': 35}), ('ra8HN1qfGyffuevZQghFWWH1DUDaJBP4nH', 'rh7YU8U8vDaeJFRE9KqxiFVzrJ4bag8T4m', {'weight': 28}), ('rh7YU8U8vDaeJFRE9KqxiFVzrJ4bag8T4m', 'ra8HN1qfGyffuevZQghFWWH1DUDaJBP4nH', {'weight': 14}), ('ra9KucJrtPkXxi6HbFaBUZruds79ucCb1s', 'rsuda4nPnhRbhNYjcr6rsYyMoibjegUYse', {'weight': 30}), ('rsuda4nPnhRbhNYjcr6rsYyMoibjegUYse', 'ra9KucJrtPkXxi6HbFaBUZruds79ucCb1s', {'weight': 39}), ('ra9xUakAcgikJTNc2hCybqgKJfkbE1ynpW', 'rprFTJvK7J774JEUGTQKFi1vpZZ2y6SFbc', {'weight': 33}), ('rprFTJvK7J774JEUGTQKFi1vpZZ2y6SFbc', 'ra9xUakAcgikJTNc2hCybqgKJfkbE1ynpW', {'weight': 19}), ('raAG1KWncaopmMfBBYsKV8izwspEfqxBTj', 'rn5wq9XguPSCSByF156xkSmKxhi8hEhT6n', {'weight': 34}), ('rn5wq9XguPSCSByF156xkSmKxhi8hEhT6n', 'raAG1KWncaopmMfBBYsKV8izwspEfqxBTj', {'weight': 18}), ('raB1uwVeUAMBSyyqhs6DLSipgWRE1wevZn', 'rhdA9CveaBxqwQqgMXgFwNo43qHXwCdY6A', {'weight': 32}), ('rhdA9CveaBxqwQqgMXgFwNo43qHXwCdY6A', 'raB1uwVeUAMBSyyqhs6DLSipgWRE1wevZn', {'weight': 23}), ('raB3b98eujFrez5WM49Uo3t8GGuMqS28ET', 'rp3cRem8WvtN8G6DqNBobE1mGQQPqpKPbj', {'weight': 20}), ('rp3cRem8WvtN8G6DqNBobE1mGQQPqpKPbj', 'raB3b98eujFrez5WM49Uo3t8GGuMqS28ET', {'weight': 32}), ('raBniijowQ7hKEtJMVqwrKLoc1dEbun6Dw', 'rp3YMtbPuPirnvXno3Wns719SPeQ4LYo7L', {'weight': 1}), ('rp3YMtbPuPirnvXno3Wns719SPeQ4LYo7L', 'raBniijowQ7hKEtJMVqwrKLoc1dEbun6Dw', {'weight': 25}), ('raC4hNKnq3G9q3TsNqRmN2o14XUVbzCrPC', 'rsR9biZwe7XCYJuhX2pC59jWPHyEcAfwSJ', {'weight': 26}), ('rsR9biZwe7XCYJuhX2pC59jWPHyEcAfwSJ', 'raC4hNKnq3G9q3TsNqRmN2o14XUVbzCrPC', {'weight': 35}), ('raD3aFqU51cXAy98NMSXxm4paBSBszR32H', 'rpETX6bSaMatj8F7irrATocncHhYGmt5C1', {'weight': 24}), ('rpETX6bSaMatj8F7irrATocncHhYGmt5C1', 'raD3aFqU51cXAy98NMSXxm4paBSBszR32H', {'weight': 11}), ('raFYnxEasxfh8cASGw5u9WwzKJsAWaKxPv', 'rwcBnHdS8rgVeozkapdDLYZcGYx2MhsHnN', {'weight': 33}), ('rwcBnHdS8rgVeozkapdDLYZcGYx2MhsHnN', 'raFYnxEasxfh8cASGw5u9WwzKJsAWaKxPv', {'weight': 24}), ('raFdTmxrXxTKcP4zjMwSgb3RALq3F5YrJ7', 'rfYUeRspEhf43edVdDBfKSqRV8sJt82RPS', {'weight': 38}), ('rfYUeRspEhf43edVdDBfKSqRV8sJt82RPS', 'raFdTmxrXxTKcP4zjMwSgb3RALq3F5YrJ7', {'weight': 28}), ('raFff4bjrE3FajukxvaWZgCMaSTuVbR1tr', 'rfzTSWTju3wvrAMvRV7BX42pZdpW5juLf2', {'weight': 24}), ('rfzTSWTju3wvrAMvRV7BX42pZdpW5juLf2', 'raFff4bjrE3FajukxvaWZgCMaSTuVbR1tr', {'weight': 15}), ('raGD883SGcwdqNDxL8efxM3cks9vJ9gMhg', 'rm9cbm4sYnbK61yz6eRL9pqJguBzKN3zK', {'weight': 25}), ('rm9cbm4sYnbK61yz6eRL9pqJguBzKN3zK', 'raGD883SGcwdqNDxL8efxM3cks9vJ9gMhg', {'weight': 12}), ('raGHZpc7JRZZjSaVZSLvG6kGzTxVyaDwxW', 'rf2JS126PMEtuCcHDkf4PpVikCEjTTPuX9', {'weight': 28}), ('rf2JS126PMEtuCcHDkf4PpVikCEjTTPuX9', 'raGHZpc7JRZZjSaVZSLvG6kGzTxVyaDwxW', {'weight': 15}), ('raGPKUpXCanxTrQLvvW5hBg7bNjpsDN4jr', 'rakBvuK138ZqQKkUarksKueiPqSAxvRVEQ', {'weight': 23}), ('rakBvuK138ZqQKkUarksKueiPqSAxvRVEQ', 'raGPKUpXCanxTrQLvvW5hBg7bNjpsDN4jr', {'weight': 12}), ('raGXc7QZdbuZ4L1jY9zxDprpjTnWuKVxUP', 'rw6aqbRZpUgYBNHKoTjk8tXCiwtjB4CH4r', {'weight': 16}), ('rw6aqbRZpUgYBNHKoTjk8tXCiwtjB4CH4r', 'raGXc7QZdbuZ4L1jY9zxDprpjTnWuKVxUP', {'weight': 30}), ('raGjkQpopqHG6DbdXtwnWRVncsgfjyNpMC', 'rh1XVD5nGM9RMnmZZnSFpLBwjqfAyEbS67', {'weight': 42}), ('rh1XVD5nGM9RMnmZZnSFpLBwjqfAyEbS67', 'raGjkQpopqHG6DbdXtwnWRVncsgfjyNpMC', {'weight': 30}), ('raJPmsMWmZfNhnR1khs2jVT9qSUZ1pyMSm', 'rfWoX5fvFDEKokWQYN3ihwtiBzY6xx5J8t', {'weight': 14}), ('rfWoX5fvFDEKokWQYN3ihwtiBzY6xx5J8t', 'raJPmsMWmZfNhnR1khs2jVT9qSUZ1pyMSm', {'weight': 29}), ('raM2vLtrzwARbZrNnsSinGbCuo3PEExDgK', 'rnxsN6FDQffDJfSVE9pCYtWCjBu6gFeceN', {'weight': 14}), ('rnxsN6FDQffDJfSVE9pCYtWCjBu6gFeceN', 'raM2vLtrzwARbZrNnsSinGbCuo3PEExDgK', {'weight': 24}), ('raMrTegAkmRxAzVhpQ3fgRzRmWxJ7UCeDR', 'raPMDHg9xaQpVK8MzaL9uw7bCZiKqR8N6U', {'weight': 21}), ('raPMDHg9xaQpVK8MzaL9uw7bCZiKqR8N6U', 'raMrTegAkmRxAzVhpQ3fgRzRmWxJ7UCeDR', {'weight': 11}), ('raNNbonDr7Af9AvhoVSwu7gFskJyAPjU7D', 'rpGFYiotkcEGPesAHG2DGgXAsjjUyYNcX4', {'weight': 21}), ('rpGFYiotkcEGPesAHG2DGgXAsjjUyYNcX4', 'raNNbonDr7Af9AvhoVSwu7gFskJyAPjU7D', {'weight': 11}), ('raNo7u98496qqkxqcR8QXom7vnqnosbcoZ', 'rpA1HAhr59TL5GLbf9riTDoV3ow2qojH6K', {'weight': 36}), ('rpA1HAhr59TL5GLbf9riTDoV3ow2qojH6K', 'raNo7u98496qqkxqcR8QXom7vnqnosbcoZ', {'weight': 19}), ('raNsC3rCx7A1KcHMwYjivMWGT5vMmotc4g', 'rpv7KhmVby3UDvNAtTGsaNWqZ19QfURRhk', {'weight': 52}), ('rpv7KhmVby3UDvNAtTGsaNWqZ19QfURRhk', 'raNsC3rCx7A1KcHMwYjivMWGT5vMmotc4g', {'weight': 72}), ('raPYZfbU9T43BzHuRk2BMvBd41oSeEHwjA', 'rpoZ2mWZ8S5PTe4Hd89XoYaV4Yb95NKCdd', {'weight': 34}), ('rpoZ2mWZ8S5PTe4Hd89XoYaV4Yb95NKCdd', 'raPYZfbU9T43BzHuRk2BMvBd41oSeEHwjA', {'weight': 17}), ('raPcYweBu392MAUf1csvGBnU7YPaGW8ruD', 'ranv1sdV5ezSrEGhPLXg3cD1BaUzxmyqWz', {'weight': 19}), ('ranv1sdV5ezSrEGhPLXg3cD1BaUzxmyqWz', 'raPcYweBu392MAUf1csvGBnU7YPaGW8ruD', {'weight': 30}), ('raRqjethWAttvmosRUhd2AUdQEmMAibuqz', 'rfy3pr7UxLFgwsVJRYonKgohNqKnDKp6qF', {'weight': 20}), ('rfy3pr7UxLFgwsVJRYonKgohNqKnDKp6qF', 'raRqjethWAttvmosRUhd2AUdQEmMAibuqz', {'weight': 31}), ('raTZv8rtn4iWy1QFreCoc3WgWV3u1ELiqm', 'rweqk9ufcPrFYW46B2YJHhY8ENJVLDkgWY', {'weight': 30}), ('rweqk9ufcPrFYW46B2YJHhY8ENJVLDkgWY', 'raTZv8rtn4iWy1QFreCoc3WgWV3u1ELiqm', {'weight': 21}), ('raTe6vG54y6kYA7BfHAAUhjbybM1n8iJqK', 'raUtwNNQVuMjZuHkJDXBZT2irFLrm4qiNw', {'weight': 22}), ('raUtwNNQVuMjZuHkJDXBZT2irFLrm4qiNw', 'raTe6vG54y6kYA7BfHAAUhjbybM1n8iJqK', {'weight': 36}), ('raUfU1wKndZaBdXG9Hn6VAMgN5i8H1NUK2', 'rhyf4pV4SwBCx4dMFarQigcx21pjqYaSd7', {'weight': 15}), ('rhyf4pV4SwBCx4dMFarQigcx21pjqYaSd7', 'raUfU1wKndZaBdXG9Hn6VAMgN5i8H1NUK2', {'weight': 26}), ('raUph8i1AHLvcwjZvS5bXyBvzdg2sgy8bX', 'rsDHqixLkSy5nKLZa5xijdDjU5TN4TmFKK', {'weight': 15}), ('rsDHqixLkSy5nKLZa5xijdDjU5TN4TmFKK', 'raUph8i1AHLvcwjZvS5bXyBvzdg2sgy8bX', {'weight': 25}), ('raV6sGq5xgB75Jnen9DMn3mQv8oVyEaWAv', 'rn7EsLNp3nkzTMoEHincRp8jg4CHb9bgNU', {'weight': 12}), ('rn7EsLNp3nkzTMoEHincRp8jg4CHb9bgNU', 'raV6sGq5xgB75Jnen9DMn3mQv8oVyEaWAv', {'weight': 23}), ('raV9j5T4a3Lj2mUP3WC1AFcRAR6spvVZ3Y', 'rsQxnnw5iLPwoCxSjNeDEmgoRZaDz4eAda', {'weight': 25}), ('rsQxnnw5iLPwoCxSjNeDEmgoRZaDz4eAda', 'raV9j5T4a3Lj2mUP3WC1AFcRAR6spvVZ3Y', {'weight': 11}), ('raVLhzPjsNa2mcfKGyEu7DFhThdqPqusM1', 'rp9YnV1pje38xfevhZv8MJopQK5gwZAEir', {'weight': 35}), ('rp9YnV1pje38xfevhZv8MJopQK5gwZAEir', 'raVLhzPjsNa2mcfKGyEu7DFhThdqPqusM1', {'weight': 21}), ('raWdoXVZcKGBVmUjNXgThQX3MCSDvTMpTj', 'rfAMXy8TdvZ1gnpEdpFUNHL8SL8YHLsTBi', {'weight': 111}), ('rfAMXy8TdvZ1gnpEdpFUNHL8SL8YHLsTBi', 'raWdoXVZcKGBVmUjNXgThQX3MCSDvTMpTj', {'weight': 101}), ('raXgM7BM75oWSveeew2L8UxwGXaYjsEuV8', 'raygqvYgMggmnZxVTCuf6NroHDV54uKEYm', {'weight': 3}), ('raygqvYgMggmnZxVTCuf6NroHDV54uKEYm', 'raXgM7BM75oWSveeew2L8UxwGXaYjsEuV8', {'weight': 35}), ('raZxyBaEArkQh9fhQeqy5UjxbdXiiMXyz', 'rsk8EiRP8ogEBRttdevPZ3HxraJCBgEjQE', {'weight': 29}), ('rsk8EiRP8ogEBRttdevPZ3HxraJCBgEjQE', 'raZxyBaEArkQh9fhQeqy5UjxbdXiiMXyz', {'weight': 21}), ('rac5moPzaJZ39EgqtHEutdR4vqCcbsJgEM', 'rfXe8bx99ws1M7gUJTeqMsVUSetzzdnMM', {'weight': 32}), ('rfXe8bx99ws1M7gUJTeqMsVUSetzzdnMM', 'rac5moPzaJZ39EgqtHEutdR4vqCcbsJgEM', {'weight': 22}), ('raf12UD21izXT2rXN7mnzz7RJ4ePvQ6fpy', 'rprBp2miK33gA9oyxqXeVyX6kbg9tgrTDC', {'weight': 109}), ('rprBp2miK33gA9oyxqXeVyX6kbg9tgrTDC', 'raf12UD21izXT2rXN7mnzz7RJ4ePvQ6fpy', {'weight': 99}), ('rafZsep4dbdzF8mRmBWYbyKeA37Xz3eefJ', 'rs6XC17mhqHj6E9Bex2b2KaTfhUjQXsP54', {'weight': 37}), ('rs6XC17mhqHj6E9Bex2b2KaTfhUjQXsP54', 'rafZsep4dbdzF8mRmBWYbyKeA37Xz3eefJ', {'weight': 27}), ('rafwP9qaup3iGJNFcXWZNoBDFzag5XakZS', 'rwFEcmi6FhLWvTaW2iqnafHb87cRFh3j4s', {'weight': 32}), ('rwFEcmi6FhLWvTaW2iqnafHb87cRFh3j4s', 'rafwP9qaup3iGJNFcXWZNoBDFzag5XakZS', {'weight': 23}), ('ragpupH7o7Vms7PgNhtzGiMQqqLb7pBq1v', 'rnSdLDhEzK8TGyhUMn55hRgULPNvFomXNe', {'weight': 13}), ('rnSdLDhEzK8TGyhUMn55hRgULPNvFomXNe', 'ragpupH7o7Vms7PgNhtzGiMQqqLb7pBq1v', {'weight': 24}), ('rah4Qk99Dh9rKm1DC585FL2U38EM1AKhmm', 'rfhZQ3aRcCUm21AHscDPyrVFiPMciHDFHo', {'weight': 77}), ('rfhZQ3aRcCUm21AHscDPyrVFiPMciHDFHo', 'rah4Qk99Dh9rKm1DC585FL2U38EM1AKhmm', {'weight': 55}), ('rahH17TwCYDNesN2qbYbaapA7pUwbaBRg6', 'rsHRXMQP7kaibutrpHPZ4MeVbFdvh8my4F', {'weight': 39}), ('rsHRXMQP7kaibutrpHPZ4MeVbFdvh8my4F', 'rahH17TwCYDNesN2qbYbaapA7pUwbaBRg6', {'weight': 29}), ('raj5G4Hz9CDzw8q2GzPLw2teKSbnVuTWuq', 'rwqte9Sgszgd5jTMUgiM5nvz9UsAr5nxV9', {'weight': 46}), ('rwqte9Sgszgd5jTMUgiM5nvz9UsAr5nxV9', 'raj5G4Hz9CDzw8q2GzPLw2teKSbnVuTWuq', {'weight': 36}), ('rajGwYrQvDswhV8Pt7dPEpUVSW1UBxjPFs', 'rnfSS4Jet5KZs2pxcHR9CcbBV8kQUFBbxL', {'weight': 21}), ('rnfSS4Jet5KZs2pxcHR9CcbBV8kQUFBbxL', 'rajGwYrQvDswhV8Pt7dPEpUVSW1UBxjPFs', {'weight': 34}), ('rakdZ2uhEhQ9BXy13Hhy3hrWc3oZvtYmpe', 'rf1bidUGitpU96dUjmeHBgw2WFeoVMzNfb', {'weight': 12}), ('rf1bidUGitpU96dUjmeHBgw2WFeoVMzNfb', 'rakdZ2uhEhQ9BXy13Hhy3hrWc3oZvtYmpe', {'weight': 25}), ('rakxWnd5mb7QW1miYXUDCM8KPGfU9QFQHY', 'rhvQyXKRA9no4LXVSRgTYbLcS7mwwr54fg', {'weight': 18}), ('rhvQyXKRA9no4LXVSRgTYbLcS7mwwr54fg', 'rakxWnd5mb7QW1miYXUDCM8KPGfU9QFQHY', {'weight': 31}), ('ram9zFcCmqb31wzRG61LypcChw2PTtyos5', 'rrptB8JAfhJTjLyw1DGbjSWSFXVzr8hDPu', {'weight': 27}), ('rrptB8JAfhJTjLyw1DGbjSWSFXVzr8hDPu', 'ram9zFcCmqb31wzRG61LypcChw2PTtyos5', {'weight': 18}), ('rap1dtYQnXDrDzvuUnjvecHX3mCGm8YcGG', 'rwQ64wFPXPCrqMANeydwjX4bwxoKA9WoiS', {'weight': 17}), ('rwQ64wFPXPCrqMANeydwjX4bwxoKA9WoiS', 'rap1dtYQnXDrDzvuUnjvecHX3mCGm8YcGG', {'weight': 28}), ('rap9E4v3SfV5H29ACGtHLcvKVi8TR6Ewsp', 'rsAxGarWWF7Szjx7MA15GdPqtkJJUnjscp', {'weight': 23}), ('rsAxGarWWF7Szjx7MA15GdPqtkJJUnjscp', 'rap9E4v3SfV5H29ACGtHLcvKVi8TR6Ewsp', {'weight': 32}), ('raqGNvejWE4j6FSfy2w6Y9tJKx5ViTjiRN', 'rnZydbLFGjYbJnCjcfgLoqNz4XnKDZjStM', {'weight': 38}), ('rnZydbLFGjYbJnCjcfgLoqNz4XnKDZjStM', 'raqGNvejWE4j6FSfy2w6Y9tJKx5ViTjiRN', {'weight': 29}), ('rar3W7xA7jk3SHDTdgG6hfzZVfp2ZxnnQi', 'rsH8vc5yn1uhdPyq28VJj8eTa4ko3hGJm4', {'weight': 28}), ('rsH8vc5yn1uhdPyq28VJj8eTa4ko3hGJm4', 'rar3W7xA7jk3SHDTdgG6hfzZVfp2ZxnnQi', {'weight': 37}), ('rasisNUrXBS8BUgyi4d1N8vwH9JtkZN7jy', 'rnhjQ4CSQ6MFAwUifUYZ5vHqeDqyjiQvZj', {'weight': 25}), ('rnhjQ4CSQ6MFAwUifUYZ5vHqeDqyjiQvZj', 'rasisNUrXBS8BUgyi4d1N8vwH9JtkZN7jy', {'weight': 14}), ('ratK1pvHnDNEggNh6FysvrMLyvu3aRoina', 'rchGBxcD1A1C2tdxF6papQYZ8kjRKMYcL', {'weight': 1}), ('ravT8iudLnGcpMqfEtSaPS6i2E9CTNKMR7', 'rpyZkSZ2tenapCokTccupJJMWbaDrv5QnG', {'weight': 20}), ('rpyZkSZ2tenapCokTccupJJMWbaDrv5QnG', 'ravT8iudLnGcpMqfEtSaPS6i2E9CTNKMR7', {'weight': 32}), ('rawQwxrfqVgGC3hpi4cjk393uh9cSS8nUX', 'rsF9ijfM6uYumT6wPdQsLX4NHTMLaoTU5v', {'weight': 26}), ('rsF9ijfM6uYumT6wPdQsLX4NHTMLaoTU5v', 'rawQwxrfqVgGC3hpi4cjk393uh9cSS8nUX', {'weight': 15}), ('rayPS1cyu15VgsdEM1MfFF2UKDSJ8FrZGV', 'rfnrm5kb9dhn7RVuPtbsH8FN3tPysXSoo9', {'weight': 43}), ('rfnrm5kb9dhn7RVuPtbsH8FN3tPysXSoo9', 'rayPS1cyu15VgsdEM1MfFF2UKDSJ8FrZGV', {'weight': 34}), ('rayt7LKKLQTHffJp7TitNXLbHk5i7MvRyr', 'rpAWVa223UWTH1K6seay4wbmHp1tZP53De', {'weight': 25}), ('rpAWVa223UWTH1K6seay4wbmHp1tZP53De', 'rayt7LKKLQTHffJp7TitNXLbHk5i7MvRyr', {'weight': 13}), ('razfkL9PGTCjfNjKM2ZAaZcgyy9qZx6j6V', 'rw7ebzYBnMWJfqB4gBKDSpZyUH1NtrWvmN', {'weight': 37}), ('rw7ebzYBnMWJfqB4gBKDSpZyUH1NtrWvmN', 'razfkL9PGTCjfNjKM2ZAaZcgyy9qZx6j6V', {'weight': 25}), ('razvdEvjwKE9pmFUkFNhMNd7dR1UP9uWZk', 'rh2CLRiiNTAkF8QxXf54kLgwYTejUzE9jk', {'weight': 74}), ('rh2CLRiiNTAkF8QxXf54kLgwYTejUzE9jk', 'razvdEvjwKE9pmFUkFNhMNd7dR1UP9uWZk', {'weight': 55}), ('razwkE4uLaTiDmC99cy2xKUMrN6dc7RMwo', 'rs183hRRmk7k5TCwyAENxehSUuVmJU8nFm', {'weight': 38}), ('rs183hRRmk7k5TCwyAENxehSUuVmJU8nFm', 'razwkE4uLaTiDmC99cy2xKUMrN6dc7RMwo', {'weight': 47}), ('rbhrzxErbgecKKS3SeLBV6WP9Rmx28e9A', 'rrhRJihn9iJiDWWfiBFDQfrYo93Cx64XLh', {'weight': 16}), ('rrhRJihn9iJiDWWfiBFDQfrYo93Cx64XLh', 'rbhrzxErbgecKKS3SeLBV6WP9Rmx28e9A', {'weight': 31}), ('rbtdrk4wYzPz1WrPcguawfo9gYg9uGoKu', 'rn7wKK4h2rtYeh7j55DmWTPLSbSiDkdH9r', {'weight': 27}), ('rn7wKK4h2rtYeh7j55DmWTPLSbSiDkdH9r', 'rbtdrk4wYzPz1WrPcguawfo9gYg9uGoKu', {'weight': 37}), ('rcpurqbDW5kp8cXhjT7PcB8fj8eRarxkd', 'rh5rLcmHwyr7QEiZGWM89JKhVKYgPEWNgy', {'weight': 32}), ('rh5rLcmHwyr7QEiZGWM89JKhVKYgPEWNgy', 'rcpurqbDW5kp8cXhjT7PcB8fj8eRarxkd', {'weight': 42}), ('rdNLJVTExWRLRYQWxAzi1eNp1pKw6EL3u', 'rhzM2xuKPZ7iTqu8hPG87QDAv6X2f7m9Cf', {'weight': 26}), ('rhzM2xuKPZ7iTqu8hPG87QDAv6X2f7m9Cf', 'rdNLJVTExWRLRYQWxAzi1eNp1pKw6EL3u', {'weight': 15}), ('reY8sCkGqSQVSbHFnBa2SRvAcYCCzVL8M', 'rhHNwr2Zy1CEmv8rfRDeodQ7tTnGrhwMXx', {'weight': 27}), ('rhHNwr2Zy1CEmv8rfRDeodQ7tTnGrhwMXx', 'reY8sCkGqSQVSbHFnBa2SRvAcYCCzVL8M', {'weight': 16}), ('rf1CQUq3c8QdeMfvVm9CPZEZpBkcLidbjJ', 'rwrwCFFhp3taWRXw1rFZkAaZZ6VKAZtUu9', {'weight': 38}), ('rwrwCFFhp3taWRXw1rFZkAaZZ6VKAZtUu9', 'rf1CQUq3c8QdeMfvVm9CPZEZpBkcLidbjJ', {'weight': 47}), ('rf2H2hN15ivw9m943EsZLjCrRUF12YbF4m', 'rrhsjyxQj6Yk9D1MqXtnB6c3wjJv5TdYwQ', {'weight': 24}), ('rrhsjyxQj6Yk9D1MqXtnB6c3wjJv5TdYwQ', 'rf2H2hN15ivw9m943EsZLjCrRUF12YbF4m', {'weight': 33}), ('rf2RfMBV7TiUW4sSDtTyMXTsXi6wyBALW8', 'rchGBxcD1A1C2tdxF6papQYZ8kjRKMYcL', {'weight': 1}), ('rf31QZcvSo6C7FyMg38CXGbFBonGsiH8Xj', 'rsbfBUkFLsZfknMboGnkQi1v3txXiPUyrN', {'weight': 36}), ('rsbfBUkFLsZfknMboGnkQi1v3txXiPUyrN', 'rf31QZcvSo6C7FyMg38CXGbFBonGsiH8Xj', {'weight': 26}), ('rf5ocT84iWYp8RzSVyLALZduPSaW4zekhK', 'rpT69UfXnsvQw7WEf79WuoTLrYZpQWVkv5', {'weight': 21}), ('rpT69UfXnsvQw7WEf79WuoTLrYZpQWVkv5', 'rf5ocT84iWYp8RzSVyLALZduPSaW4zekhK', {'weight': 32}), ('rf6WygCmrZKosCA1Vu6oHVnka7i1o9v9ge', 'rwuzchmfNCC9iXRREjCjJz6oGeLyT6j3ep', {'weight': 15}), ('rwuzchmfNCC9iXRREjCjJz6oGeLyT6j3ep', 'rf6WygCmrZKosCA1Vu6oHVnka7i1o9v9ge', {'weight': 26}), ('rf6knZx1xSTyzQVEpQgQg5q6uvLrXLVLNX', 'rchGBxcD1A1C2tdxF6papQYZ8kjRKMYcL', {'weight': 1}), ('rf83H2JXfRdGtC1KRwyQSQ2DUx4gXNXcDJ', 'rhzs8KypNabpGky3VndrWYv8BxhR6Atwmx', {'weight': 66}), ('rhzs8KypNabpGky3VndrWYv8BxhR6Atwmx', 'rf83H2JXfRdGtC1KRwyQSQ2DUx4gXNXcDJ', {'weight': 87}), ('rf8jCz4z5H6JvQgmvPTvhcxGvTBcbyGRfe', 'rsAZfAXujuguDftvYnkn6kNsN2jwGqir9e', {'weight': 78}), ('rsAZfAXujuguDftvYnkn6kNsN2jwGqir9e', 'rf8jCz4z5H6JvQgmvPTvhcxGvTBcbyGRfe', {'weight': 56}), ('rf94AaUtayiXbgPeQewuDTaD9K5PAnFTVw', 'rwSKSpAqw5uQAvRL5u2RPj7j9dd5GPY2pu', {'weight': 17}), ('rwSKSpAqw5uQAvRL5u2RPj7j9dd5GPY2pu', 'rf94AaUtayiXbgPeQewuDTaD9K5PAnFTVw', {'weight': 27}), ('rf9meeEd9CZ1aZZmCFgpXzGtENM6LW86qY', 'rfPf5QTokHddj8NrfzReZgZUgyEH3gG5rv', {'weight': 26}), ('rfPf5QTokHddj8NrfzReZgZUgyEH3gG5rv', 'rf9meeEd9CZ1aZZmCFgpXzGtENM6LW86qY', {'weight': 16}), ('rf9vWXpm9awFCBzSLqXhd6viKrqwZK9eNR', 'rsjpu42XX3x31b8q4H2CNVxhiBzbZtHSLV', {'weight': 27}), ('rsjpu42XX3x31b8q4H2CNVxhiBzbZtHSLV', 'rf9vWXpm9awFCBzSLqXhd6viKrqwZK9eNR', {'weight': 14}), ('rfARJHRMbQpFyA9L9AKmq8tMmyqDSHsXRP', 'rsdMbYxHmYswHCg1V6vBsnxmHuCjpn6SC4', {'weight': 54}), ('rfAruNJNewvuA3muipPBkY5PgMGackJoKd', 'rsfoweU8jcmHKVtRnegv1dF2MPRgXeTrRg', {'weight': 33}), ('rsfoweU8jcmHKVtRnegv1dF2MPRgXeTrRg', 'rfAruNJNewvuA3muipPBkY5PgMGackJoKd', {'weight': 24}), ('rfF1fZW6RiN7xdeXMFqDT2GKxAoZrVFSm6', 'rpwDVHMjLji8SpN3cipLxNKHtiUTECrSza', {'weight': 22}), ('rpwDVHMjLji8SpN3cipLxNKHtiUTECrSza', 'rfF1fZW6RiN7xdeXMFqDT2GKxAoZrVFSm6', {'weight': 33}), ('rfFYPStD6k3cvmwwD86vQVDw1ge6VFkSMm', 'rwTzpZEjsAoAMrvy9AgWZezdbdXU3gxxUp', {'weight': 29}), ('rwTzpZEjsAoAMrvy9AgWZezdbdXU3gxxUp', 'rfFYPStD6k3cvmwwD86vQVDw1ge6VFkSMm', {'weight': 13}), ('rfGSHrUd8etPKt784vxdcceGBfTZvBCcoy', 'rpCdqQc4zd8Jc3KkJffUY7nZckgT8R4iXs', {'weight': 16}), ('rpCdqQc4zd8Jc3KkJffUY7nZckgT8R4iXs', 'rfGSHrUd8etPKt784vxdcceGBfTZvBCcoy', {'weight': 28}), ('rfGX54DKEA13fq2oxLz1dM1uAVvfuE7K9u', 'rkrELMpeE7Hqvc5T5Vv7cP3ENruwfpnqG', {'weight': 77}), ('rkrELMpeE7Hqvc5T5Vv7cP3ENruwfpnqG', 'rfGX54DKEA13fq2oxLz1dM1uAVvfuE7K9u', {'weight': 91}), ('rfHnseoTw23iFmEWFCq84bh2gsrpTQ9mm4', 'rpFSN1kc8xHSepbq6JPj88GnT2eBuJqMKn', {'weight': 31}), ('rpFSN1kc8xHSepbq6JPj88GnT2eBuJqMKn', 'rfHnseoTw23iFmEWFCq84bh2gsrpTQ9mm4', {'weight': 21}), ('rfKp5TzRFY7d8T2UVhRpso5oQuheZ7vomi', 'rwBAZAPY9pYeVwf3gxLKmRetPFwMJXVyn', {'weight': 50}), ('rwBAZAPY9pYeVwf3gxLKmRetPFwMJXVyn', 'rfKp5TzRFY7d8T2UVhRpso5oQuheZ7vomi', {'weight': 40}), ('rfLCLqTBDELefDdqv46bGhp3kDzMkMEqcd', 'rk3y9EnjBkyVaRwu7qWqo5gKRnvo3ZR7Y', {'weight': 33}), ('rk3y9EnjBkyVaRwu7qWqo5gKRnvo3ZR7Y', 'rfLCLqTBDELefDdqv46bGhp3kDzMkMEqcd', {'weight': 17}), ('rfMGtMBXeW8YSaScHV814n6KxgWkttyfQm', 'rsUeYVDYPp2RetJ6mvhWdYAvGNmr1xq8vg', {'weight': 16}), ('rsUeYVDYPp2RetJ6mvhWdYAvGNmr1xq8vg', 'rfMGtMBXeW8YSaScHV814n6KxgWkttyfQm', {'weight': 26}), ('rfMHkqZhM2RXjpB2XZgcG2wxEP4xpTG7pd', 'rnfuVUiRapCv5EKRu7HicB8Nyfn1PTHwtL', {'weight': 16}), ('rnfuVUiRapCv5EKRu7HicB8Nyfn1PTHwtL', 'rfMHkqZhM2RXjpB2XZgcG2wxEP4xpTG7pd', {'weight': 28}), ('rfMqaNVspt3XEuRHhRaK2djuKtK3TL6R2K', 'rkEhM4wGCf8xRwaknKQ79vmHzbEHZgCcD', {'weight': 26}), ('rkEhM4wGCf8xRwaknKQ79vmHzbEHZgCcD', 'rfMqaNVspt3XEuRHhRaK2djuKtK3TL6R2K', {'weight': 15}), ('rfNDC6aZE7zv1DvgmTwmrVnxWVN5KGkUcX', 'rw3e7Z9terBoo3FHeEGBJjPGePaD2KBWDL', {'weight': 30}), ('rw3e7Z9terBoo3FHeEGBJjPGePaD2KBWDL', 'rfNDC6aZE7zv1DvgmTwmrVnxWVN5KGkUcX', {'weight': 21}), ('rfNnTetPLS6mjjKeUuEB7YRTdBRnEubjGj', 'rs678ksNQTP3KCX2DUSFCzFdtDiNKB5kGS', {'weight': 28}), ('rs678ksNQTP3KCX2DUSFCzFdtDiNKB5kGS', 'rfNnTetPLS6mjjKeUuEB7YRTdBRnEubjGj', {'weight': 13}), ('rfP4LTBx7cL1uHgyNyanig6eC9QXPgcKDs', 'rpCQaQ9cb5WP9aVEr5MvdQzEdEMSKRSf9L', {'weight': 28}), ('rpCQaQ9cb5WP9aVEr5MvdQzEdEMSKRSf9L', 'rfP4LTBx7cL1uHgyNyanig6eC9QXPgcKDs', {'weight': 13}), ('rfPboYABMHfdh5bpwh1DUHNYLQw1tADNr', 'rnGC594RYCTvVPny1cD14qhaqdE6t1M7fk', {'weight': 32}), ('rnGC594RYCTvVPny1cD14qhaqdE6t1M7fk', 'rfPboYABMHfdh5bpwh1DUHNYLQw1tADNr', {'weight': 17}), ('rfPtBhserqC8zURgZ9ZKqJYuyqGYV9Ekgf', 'rnScnQGUq14pfu2gH9NzfG65Zu9Ah2np26', {'weight': 29}), ('rnScnQGUq14pfu2gH9NzfG65Zu9Ah2np26', 'rfPtBhserqC8zURgZ9ZKqJYuyqGYV9Ekgf', {'weight': 19}), ('rfQ8VWX3z3QuoD5dsnVEXHqCeqgk55y5jX', 'rnxb1sTS7J4FfwdvYXFVCacFSV1pFKT6pi', {'weight': 33}), ('rnxb1sTS7J4FfwdvYXFVCacFSV1pFKT6pi', 'rfQ8VWX3z3QuoD5dsnVEXHqCeqgk55y5jX', {'weight': 18}), ('rfR7hiu8dLM1QWFsdVvhN2hAMun8QgJFWU', 'rsh8ZCV1pAeCJ1bdrPecBYFfYbTqTpQVj7', {'weight': 28}), ('rsh8ZCV1pAeCJ1bdrPecBYFfYbTqTpQVj7', 'rfR7hiu8dLM1QWFsdVvhN2hAMun8QgJFWU', {'weight': 19}), ('rfSXLjgoKSekby8kCRsZLyBpHxM27x36mA', 'rsD4bsVBBMJr3jPuorWrMCsgWAc9sVj2xi', {'weight': 16}), ('rsD4bsVBBMJr3jPuorWrMCsgWAc9sVj2xi', 'rfSXLjgoKSekby8kCRsZLyBpHxM27x36mA', {'weight': 28}), ('rfT6TDT71LzEY9NvshVQqcEAMMmoP61yKn', 'rwE6d3SzUs8TnM3zuG4uK4Q9xwxMRrpxLx', {'weight': 23}), ('rwE6d3SzUs8TnM3zuG4uK4Q9xwxMRrpxLx', 'rfT6TDT71LzEY9NvshVQqcEAMMmoP61yKn', {'weight': 13}), ('rfTvwfKKWu56G1JtYBNdCRqfkC9U6PQ3M9', 'rnvYVXRAnSapjHi27qzrxZPngge2LKAXK4', {'weight': 36}), ('rnvYVXRAnSapjHi27qzrxZPngge2LKAXK4', 'rfTvwfKKWu56G1JtYBNdCRqfkC9U6PQ3M9', {'weight': 44}), ('rfU2x3vPGhMUTDQaAjc6iJetz7mGH6Eukt', 'rhM6sDkM2dY24gshPBASMYb7eN7vPJhdzV', {'weight': 22}), ('rhM6sDkM2dY24gshPBASMYb7eN7vPJhdzV', 'rfU2x3vPGhMUTDQaAjc6iJetz7mGH6Eukt', {'weight': 32}), ('rfUcTr9fLox6dFFVEnesTztbNjSm8MdTcx', 'rphPwdXb7vaV96uTaxWRaWFdiju8LxB9dK', {'weight': 26}), ('rphPwdXb7vaV96uTaxWRaWFdiju8LxB9dK', 'rfUcTr9fLox6dFFVEnesTztbNjSm8MdTcx', {'weight': 37}), ('rfV2FF4yyGDUTE7PhR7JJ6zPJ5KcXrhZkk', 'rnVbR4d1Kwewexmbp5CMxSeMMi9pjrF1Rx', {'weight': 27}), ('rnVbR4d1Kwewexmbp5CMxSeMMi9pjrF1Rx', 'rfV2FF4yyGDUTE7PhR7JJ6zPJ5KcXrhZkk', {'weight': 37}), ('rfVmvsoRi39sJmbftBZf33Qm7Zs61CFW3w', 'rn1TbE4czFx5ygtkFQQynbpJf94W3oB6gb', {'weight': 32}), ('rn1TbE4czFx5ygtkFQQynbpJf94W3oB6gb', 'rfVmvsoRi39sJmbftBZf33Qm7Zs61CFW3w', {'weight': 40}), ('rfVzJRkeqKfgzr19zFeAAw115hSyAZGFbF', 'rpJdzSqmiEEwbXh5LNudmGpribiBbWqWP4', {'weight': 99}), ('rpJdzSqmiEEwbXh5LNudmGpribiBbWqWP4', 'rfVzJRkeqKfgzr19zFeAAw115hSyAZGFbF', {'weight': 87}), ('rfYUW6fvWkz1jheXBbTN6p7MQhnkpGWjXY', 'rsh1Gcas9QP9ATdfug2mNKvRqet5kU6Tgh', {'weight': 11}), ('rsh1Gcas9QP9ATdfug2mNKvRqet5kU6Tgh', 'rfYUW6fvWkz1jheXBbTN6p7MQhnkpGWjXY', {'weight': 20}), ('rfbwyzwzVj87GFJhbLhhV4jRbA19qSTVZ7', 'rwrTnM6tBkjn56B9oLCqrAWZ9EahAvxtji', {'weight': 32}), ('rwrTnM6tBkjn56B9oLCqrAWZ9EahAvxtji', 'rfbwyzwzVj87GFJhbLhhV4jRbA19qSTVZ7', {'weight': 23}), ('rfc9CWwryQhBDHhcVtMpSxHe7hooktaEV6', 'rwrnAWsfoNYQ2LonwGJ9s63HXWKdUm3fM7', {'weight': 25}), ('rwrnAWsfoNYQ2LonwGJ9s63HXWKdUm3fM7', 'rfc9CWwryQhBDHhcVtMpSxHe7hooktaEV6', {'weight': 16}), ('rfcjkC4MZkDdetaEJTfLApAk7ykpx82V4J', 'rsYh9KPBeGRxh9Lgzt6SzjyNMBsEqdc4wJ', {'weight': 19}), ('rsYh9KPBeGRxh9Lgzt6SzjyNMBsEqdc4wJ', 'rfcjkC4MZkDdetaEJTfLApAk7ykpx82V4J', {'weight': 34}), ('rfdzXcAVCqLBfPY2cTCsNvnj2BYBZTVAiv', 'rsLUbjSrBY4TbFZJ3DwezGucZNTVZGhiVn', {'weight': 87}), ('rsLUbjSrBY4TbFZJ3DwezGucZNTVZGhiVn', 'rfdzXcAVCqLBfPY2cTCsNvnj2BYBZTVAiv', {'weight': 101}), ('rfedGuAYRAY2LKfNxMVVz8k8nPRMePJMXU', 'rn9hQvn8r8ZaHPMQk4rUqvHTUM8TjijGPk', {'weight': 20}), ('rn9hQvn8r8ZaHPMQk4rUqvHTUM8TjijGPk', 'rfedGuAYRAY2LKfNxMVVz8k8nPRMePJMXU', {'weight': 28}), ('rfepKMrbqwcZTFBrf8kuXeJfaZJtUQpzv1', 'rnkYPybGpWHGgExtrjDrXmGu87DDDL21WQ', {'weight': 41}), ('rnkYPybGpWHGgExtrjDrXmGu87DDDL21WQ', 'rfepKMrbqwcZTFBrf8kuXeJfaZJtUQpzv1', {'weight': 32}), ('rfeyBuhbCeSQ7vEmypzr2u1PgTBxjsHhv9', 'rnrdz2MeW4XS6bDRn61CRbR9QRAEYvxG9M', {'weight': 34}), ('rnrdz2MeW4XS6bDRn61CRbR9QRAEYvxG9M', 'rfeyBuhbCeSQ7vEmypzr2u1PgTBxjsHhv9', {'weight': 17}), ('rfgV1TwqU1sMnbMZC37U1eTJVp9RszAbK7', 'rw8h3rYVKfvDqk2ihuYxp6FogZTBzE7Xen', {'weight': 26}), ('rw8h3rYVKfvDqk2ihuYxp6FogZTBzE7Xen', 'rfgV1TwqU1sMnbMZC37U1eTJVp9RszAbK7', {'weight': 16}), ('rfh6cUF7QBHM8xPn9dZZczmtGXtK6LVmok', 'rhF8VB2XdHmZwXuxgZtvcMHQR7ku4QEjhY', {'weight': 11}), ('rhF8VB2XdHmZwXuxgZtvcMHQR7ku4QEjhY', 'rfh6cUF7QBHM8xPn9dZZczmtGXtK6LVmok', {'weight': 21}), ('rfjt3WLcccZGhhAiFPoiRbC7onf8LpFY94', 'rwHviqLavhRBdeWgXKV4a8txEDXbiURJjY', {'weight': 21}), ('rwHviqLavhRBdeWgXKV4a8txEDXbiURJjY', 'rfjt3WLcccZGhhAiFPoiRbC7onf8LpFY94', {'weight': 11}), ('rfkw5g9ed7JLe1XAxiCMTH75N18HB7zx8R', 'rswsqb6Hjytp8D33nFd5nknswsxNjCsw93', {'weight': 14}), ('rswsqb6Hjytp8D33nFd5nknswsxNjCsw93', 'rfkw5g9ed7JLe1XAxiCMTH75N18HB7zx8R', {'weight': 23}), ('rfn33hRfQkALtbvsyjKT4Q3ULPP69Xaraf', 'rhLNd1fBzDHFkyvsQFoq9kYg7qsv3a31in', {'weight': 34}), ('rhLNd1fBzDHFkyvsQFoq9kYg7qsv3a31in', 'rfn33hRfQkALtbvsyjKT4Q3ULPP69Xaraf', {'weight': 22}), ('rfnZVeZ28XcxFKoghDcXBxx4G9pwabNoez', 'rnbEUrKgNHizUdtB1Zo2L6Qi7m2BLeE39D', {'weight': 35}), ('rnbEUrKgNHizUdtB1Zo2L6Qi7m2BLeE39D', 'rfnZVeZ28XcxFKoghDcXBxx4G9pwabNoez', {'weight': 26}), ('rfoKgnjpgdeenSvyc4867Byf1wAeLsSg4B', 'rwc12vb7bwEXVKkNZGqqjwJVEcRoaMFhaB', {'weight': 30}), ('rwc12vb7bwEXVKkNZGqqjwJVEcRoaMFhaB', 'rfoKgnjpgdeenSvyc4867Byf1wAeLsSg4B', {'weight': 39}), ('rfomHem8EgBsxCchcTbRHvNp4XFiQstgWr', 'rn2RhkVVp2DdpLbYMpGJcdAeTepARnAztN', {'weight': 34}), ('rn2RhkVVp2DdpLbYMpGJcdAeTepARnAztN', 'rfomHem8EgBsxCchcTbRHvNp4XFiQstgWr', {'weight': 24}), ('rfp5hBqKbfHC7gEYXJCA6t93nTsNf3y1LR', 'rwmgwTYDXTh95ziww8cAYn5ji9xwmAyBSX', {'weight': 21}), ('rwmgwTYDXTh95ziww8cAYn5ji9xwmAyBSX', 'rfp5hBqKbfHC7gEYXJCA6t93nTsNf3y1LR', {'weight': 33}), ('rfpHHVfLCPahn9TXG54WBsSw956eVbrwZc', 'rh3cvfEwm4T3eBoxbWHYGYfH2QAYSknxDd', {'weight': 15}), ('rh3cvfEwm4T3eBoxbWHYGYfH2QAYSknxDd', 'rfpHHVfLCPahn9TXG54WBsSw956eVbrwZc', {'weight': 28}), ('rfq9xiFTqCfrvCmbu6waR3EwyiiKWr7tDG', 'rw8BtHeyxoYcCRoeEgBndfhuKcakr9CTt4', {'weight': 81}), ('rw8BtHeyxoYcCRoeEgBndfhuKcakr9CTt4', 'rfq9xiFTqCfrvCmbu6waR3EwyiiKWr7tDG', {'weight': 95}), ('rfqEVdWJkzw7aPrLE7WBTQCnvMLHFPzAZL', 'rpJmod4CEDyp37TvRu5SdE2HqASEtMAan2', {'weight': 39}), ('rpJmod4CEDyp37TvRu5SdE2HqASEtMAan2', 'rfqEVdWJkzw7aPrLE7WBTQCnvMLHFPzAZL', {'weight': 28}), ('rfqrKvXLAPYhpZU4oWxmc5Z3syL2py74zN', 'rhhuf1w2bUj37zfd1uUciyxn9DQKMdrPH1', {'weight': 35}), ('rhhuf1w2bUj37zfd1uUciyxn9DQKMdrPH1', 'rfqrKvXLAPYhpZU4oWxmc5Z3syL2py74zN', {'weight': 26}), ('rfueqt1AuZi5VtLu8SUL3LrVLU5UixdzpJ', 'rhx3TQjG2EBVZntdxFyWMK95tyhKyyyCyG', {'weight': 77}), ('rhx3TQjG2EBVZntdxFyWMK95tyhKyyyCyG', 'rfueqt1AuZi5VtLu8SUL3LrVLU5UixdzpJ', {'weight': 55}), ('rfvegY5MNZPYqJwJRWmrEagB1i8pDk1Sg3', 'rwysZwVk8tSF5CipCLY4rRW9iPwN8uFwnP', {'weight': 33}), ('rwysZwVk8tSF5CipCLY4rRW9iPwN8uFwnP', 'rfvegY5MNZPYqJwJRWmrEagB1i8pDk1Sg3', {'weight': 18}), ('rfw1GK9uabnEdd1s5dXm78aDthKzj6nSN5', 'rnKSw8YcVXcQbNQndZFH8zJPgZQeWE7YJZ', {'weight': 17}), ('rnKSw8YcVXcQbNQndZFH8zJPgZQeWE7YJZ', 'rfw1GK9uabnEdd1s5dXm78aDthKzj6nSN5', {'weight': 26}), ('rfx8WqB3WK4gJyHRJbQKLEz473hMSk8G7x', 'rhTrSaA4DbpcmfcNCzE8ghkRdxrZLXvTgJ', {'weight': 23}), ('rhTrSaA4DbpcmfcNCzE8ghkRdxrZLXvTgJ', 'rfx8WqB3WK4gJyHRJbQKLEz473hMSk8G7x', {'weight': 35}), ('rfxWKCoC3Q9wHA864Wei3rC3TDc9UVj1JK', 'rsNHLRedn7WxN6kw93SMAbjNsor9YyH1N7', {'weight': 32}), ('rsNHLRedn7WxN6kw93SMAbjNsor9YyH1N7', 'rfxWKCoC3Q9wHA864Wei3rC3TDc9UVj1JK', {'weight': 22}), ('rfxyHNR2mPAsYtjcfrRcGQgTrNJdWqncnv', 'rpFXauzW4XcaTei7BqhcPDfLuUUwDtmv4a', {'weight': 17}), ('rpFXauzW4XcaTei7BqhcPDfLuUUwDtmv4a', 'rfxyHNR2mPAsYtjcfrRcGQgTrNJdWqncnv', {'weight': 34}), ('rg2LG8VQx8RTT7tHvpbReQnGLMXmAvCvm', 'rhpnsubHj8Dg93fbwE7FVk7TYHnVWtH5ap', {'weight': 52}), ('rhpnsubHj8Dg93fbwE7FVk7TYHnVWtH5ap', 'rg2LG8VQx8RTT7tHvpbReQnGLMXmAvCvm', {'weight': 73}), ('rg6Ab8iLcUatEo7brWRZYjoFFiqGCL18q', 'rpxR9FQ5GeoQozBbAHEKU47zSjeSUijLG2', {'weight': 15}), ('rpxR9FQ5GeoQozBbAHEKU47zSjeSUijLG2', 'rg6Ab8iLcUatEo7brWRZYjoFFiqGCL18q', {'weight': 28}), ('rh19Az1wDD7hjXTMkxVaGMkur8qkG8JvWa', 'rnkf4ULDAXLZUSLwjHLTm4Z1x7XUH4ma8v', {'weight': 24}), ('rnkf4ULDAXLZUSLwjHLTm4Z1x7XUH4ma8v', 'rh19Az1wDD7hjXTMkxVaGMkur8qkG8JvWa', {'weight': 35}), ('rh1Vp88F4TbMLdb2RYLsQqUMDa4M1YCTy7', 'rnyvudex3yh6xYKmTrcH6qDJBxFWFy1B1X', {'weight': 28}), ('rnyvudex3yh6xYKmTrcH6qDJBxFWFy1B1X', 'rh1Vp88F4TbMLdb2RYLsQqUMDa4M1YCTy7', {'weight': 14}), ('rh2FVxaiZdC8StCvVWmGAmPBeSo1KJ6Y6q', 'rp83XghB9AAVxdyFp9xrRCWAF5WiYV3Sya', {'weight': 30}), ('rp83XghB9AAVxdyFp9xrRCWAF5WiYV3Sya', 'rh2FVxaiZdC8StCvVWmGAmPBeSo1KJ6Y6q', {'weight': 16}), ('rh3hcjqjBgVQco4751RWJh7XhWatubTPsn', 'rpFpcogsd8Ha3ZS33wAbsrbKETdxsiaoB3', {'weight': 54}), ('rpFpcogsd8Ha3ZS33wAbsrbKETdxsiaoB3', 'rh3hcjqjBgVQco4751RWJh7XhWatubTPsn', {'weight': 1}), ('rh4ZQ1CYNywygSXkmDFUYmA3ZeK2mghe3f', 'rmTPLrtBwcpaNXSrixCQmaVoR52ycCsVD', {'weight': 38}), ('rmTPLrtBwcpaNXSrixCQmaVoR52ycCsVD', 'rh4ZQ1CYNywygSXkmDFUYmA3ZeK2mghe3f', {'weight': 28}), ('rh655GA1LbihAKuqh55awKn4N2VX6de2rh', 'rsnJxn46rFavaFSaUStEKp7zEXtyDYD714', {'weight': 16}), ('rsnJxn46rFavaFSaUStEKp7zEXtyDYD714', 'rh655GA1LbihAKuqh55awKn4N2VX6de2rh', {'weight': 27}), ('rh8k4iryb27xerVX4L8s89CPcN31on2p5Y', 'rnAHcqKYcynyPo32vSpAnByesZ3Z4MgHhb', {'weight': 30}), ('rnAHcqKYcynyPo32vSpAnByesZ3Z4MgHhb', 'rh8k4iryb27xerVX4L8s89CPcN31on2p5Y', {'weight': 19}), ('rh8tmDZwWmVfCsbdwDwyRQK2fV7DEyfHFS', 'rnvf8g7AVjhpEjwre7Hg8GR4CWMN3U5gNi', {'weight': 34}), ('rnvf8g7AVjhpEjwre7Hg8GR4CWMN3U5gNi', 'rh8tmDZwWmVfCsbdwDwyRQK2fV7DEyfHFS', {'weight': 22}), ('rh9Sq75dB4FMRNsEGjEtpn42rZxfwpRTvw', 'rnZcMsxmgvrEWKmwhudKJyUN4Rm3jdZCjE', {'weight': 27}), ('rnZcMsxmgvrEWKmwhudKJyUN4Rm3jdZCjE', 'rh9Sq75dB4FMRNsEGjEtpn42rZxfwpRTvw', {'weight': 37}), ('rhA3sTApzMXcgz9AoQxMiCpfV7cxQmaMp9', 'rhu7vt3EoUHLR9f33mGzJz2LUjNfb2DyZ5', {'weight': 28}), ('rhu7vt3EoUHLR9f33mGzJz2LUjNfb2DyZ5', 'rhA3sTApzMXcgz9AoQxMiCpfV7cxQmaMp9', {'weight': 17}), ('rhDEv3dx36nqcjmbubAG9G3tv7Xrn14zGF', 'rnNioyiCg41cUkbVtfFezwq6aPSYjt3jqp', {'weight': 34}), ('rnNioyiCg41cUkbVtfFezwq6aPSYjt3jqp', 'rhDEv3dx36nqcjmbubAG9G3tv7Xrn14zGF', {'weight': 22}), ('rhDpHvgkagUiAyTYmnn93TXrp1VdyZDUXW', 'rsR7aDKw48H6ZgVrsZF8nvYV6RcruStyeK', {'weight': 22}), ('rsR7aDKw48H6ZgVrsZF8nvYV6RcruStyeK', 'rhDpHvgkagUiAyTYmnn93TXrp1VdyZDUXW', {'weight': 33}), ('rhEQCpZVe1iRrXMr5CjS5unbkifCtBmmbu', 'rnVhr6sEtkR1UhBHpVPvpWPHn1G6UezSmx', {'weight': 24}), ('rnVhr6sEtkR1UhBHpVPvpWPHn1G6UezSmx', 'rhEQCpZVe1iRrXMr5CjS5unbkifCtBmmbu', {'weight': 35}), ('rhGMKJuZoXp3NvuzU2jmCjmj7qhQD7hEK5', 'rchGBxcD1A1C2tdxF6papQYZ8kjRKMYcL', {'weight': 1}), ('rhHNDBMNyb9DYLSUJcYTG6yacvAf3SEzqu', 'rsxK4WXKz5D8C3xDXTU2bv7iidtZWVmPNW', {'weight': 13}), ('rsxK4WXKz5D8C3xDXTU2bv7iidtZWVmPNW', 'rhHNDBMNyb9DYLSUJcYTG6yacvAf3SEzqu', {'weight': 26}), ('rhHdXxvp2bJ5ZnWiJWgqXThBMFQbfBpgst', 'rwtSijmTLQyW8XBuEKhtEQZrpbApzLYbBp', {'weight': 49}), ('rwtSijmTLQyW8XBuEKhtEQZrpbApzLYbBp', 'rhHdXxvp2bJ5ZnWiJWgqXThBMFQbfBpgst', {'weight': 39}), ('rhJ9RbFUUohu8D5FRgaAJeUynond9vQkm3', 'rjrRxiYHJuZ2j1xpdE2u2VYcJxgo7AZtE', {'weight': 16}), ('rjrRxiYHJuZ2j1xpdE2u2VYcJxgo7AZtE', 'rhJ9RbFUUohu8D5FRgaAJeUynond9vQkm3', {'weight': 28}), ('rhJd3kFRGYofGY6hHYBcYFF9KzDbjJawgQ', 'rnwYge1TkzFPawfQKpJcX3qQugozTdrAAs', {'weight': 22}), ('rnwYge1TkzFPawfQKpJcX3qQugozTdrAAs', 'rhJd3kFRGYofGY6hHYBcYFF9KzDbjJawgQ', {'weight': 32}), ('rhJfiaiiAgJEas9FxJNt3RTSVQZCRkkFmz', 'rso1FL85Lg5c1mQqYpJEdrsKspGummgxvu', {'weight': 14}), ('rso1FL85Lg5c1mQqYpJEdrsKspGummgxvu', 'rhJfiaiiAgJEas9FxJNt3RTSVQZCRkkFmz', {'weight': 26}), ('rhJjKtYcsUfFQaizHEW4Fh3siWcJkdAqfj', 'rpPQcQVHfqem1nktz5XJ9RSxywPdgagZ2q', {'weight': 26}), ('rpPQcQVHfqem1nktz5XJ9RSxywPdgagZ2q', 'rhJjKtYcsUfFQaizHEW4Fh3siWcJkdAqfj', {'weight': 35}), ('rhKJNtWKJTAKnakrZKrNJG6m2J3tXukcGy', 'rw3RChXTrMf4gNtv8wcp9oswtjxCbfC3vh', {'weight': 24}), ('rw3RChXTrMf4gNtv8wcp9oswtjxCbfC3vh', 'rhKJNtWKJTAKnakrZKrNJG6m2J3tXukcGy', {'weight': 35}), ('rhKcHBBxzCu5bPmBCrmjjjajgf5eGiHXZA', 'rsa55fU656rUV9BRFC7kug9wQR2vS4ZwcZ', {'weight': 23}), ('rsa55fU656rUV9BRFC7kug9wQR2vS4ZwcZ', 'rhKcHBBxzCu5bPmBCrmjjjajgf5eGiHXZA', {'weight': 33}), ('rhKgFxe7Mp38yeJzvwoNLm46RxMdXotTn6', 'r3axw95wAnUUwgDusYo2suvrMPch5zdtry', {'weight': 1}), ('rhKgFxe7Mp38yeJzvwoNLm46RxMdXotTn6', 'r3rhWeE31Jt5sWmi4QiGLMZnY3ENgqw96W', {'weight': 4}), ('rhKgFxe7Mp38yeJzvwoNLm46RxMdXotTn6', 'r9c8uKabytwsCCLvhjbo2pYDeifEQoqrXa', {'weight': 1}), ('rhKgFxe7Mp38yeJzvwoNLm46RxMdXotTn6', 'rBMjX1QBoZuzrD2Ks1cH8q2RNbwH68C5bE', {'weight': 1}), ('rhKgFxe7Mp38yeJzvwoNLm46RxMdXotTn6', 'rBQDnHuhpBvjkG4vGDTDrufK2tDtbeQyeZ', {'weight': 2}), ('rhKgFxe7Mp38yeJzvwoNLm46RxMdXotTn6', 'rD6fRRnk8WtUTtnQTx5RxFBm5wkgmArWsG', {'weight': 1}), ('rhKgFxe7Mp38yeJzvwoNLm46RxMdXotTn6', 'rDL8vJ8z8zdG8M2XttTYbMniBB1yuz9Uve', {'weight': 2}), ('rhKgFxe7Mp38yeJzvwoNLm46RxMdXotTn6', 'rDkikSEtDZ99WAzoJ6XkroRePw3RMukvYX', {'weight': 1}), ('rhKgFxe7Mp38yeJzvwoNLm46RxMdXotTn6', 'rENuvkKq7SMnbLiziz5CxhefbRDtyvBddX', {'weight': 1}), ('rhKgFxe7Mp38yeJzvwoNLm46RxMdXotTn6', 'rErrYWxgYmXX2gY3ykXnH9qfNYw4LGNFym', {'weight': 2}), ('rhKgFxe7Mp38yeJzvwoNLm46RxMdXotTn6', 'rGtsBo18gA4kYMwoRajzzsVmhP63cGNKMQ', {'weight': 1}), ('rhKgFxe7Mp38yeJzvwoNLm46RxMdXotTn6', 'rKZVHFam5YrnKvmTd2kSqQYF1vZ8VxDuC3', {'weight': 1}), ('rhKgFxe7Mp38yeJzvwoNLm46RxMdXotTn6', 'rUgWjzwoinACRZjZr2LHnFvMFX6MDAf967', {'weight': 1}), ('rhKgFxe7Mp38yeJzvwoNLm46RxMdXotTn6', 'rf4n7JSPzZdmgVdYatVK6vhpp7eBC59nqG', {'weight': 1}), ('rhKgFxe7Mp38yeJzvwoNLm46RxMdXotTn6', 'rf6knZx1xSTyzQVEpQgQg5q6uvLrXLVLNX', {'weight': 2}), ('rhMejNgsb2uT2wtyZQwAJXWDbe86bwrqgf', 'rwnEd6hwMCr2HYm85enCiEthgij6jHu9pj', {'weight': 98}), ('rwnEd6hwMCr2HYm85enCiEthgij6jHu9pj', 'rhMejNgsb2uT2wtyZQwAJXWDbe86bwrqgf', {'weight': 107}), ('rhPa13C8wk99suqB2vRwS62qutCv7hhgiD', 'rsfkvJ4NTCic6swD3KgG59vz17NdZC8VcA', {'weight': 50}), ('rsfkvJ4NTCic6swD3KgG59vz17NdZC8VcA', 'rhPa13C8wk99suqB2vRwS62qutCv7hhgiD', {'weight': 40}), ('rhQdnz1v6wJyYZtLYuPwQKc7GaXPGKyNgB', 'rs7kTjZyMmcTimBvtVWPFiTjUyz2z1GCek', {'weight': 50}), ('rs7kTjZyMmcTimBvtVWPFiTjUyz2z1GCek', 'rhQdnz1v6wJyYZtLYuPwQKc7GaXPGKyNgB', {'weight': 40}), ('rhR2tdfb2Brcnt84F1HhJBkX4fL4oD6Uur', 'rp9rnAQVpfrraPKGLNMRAJJ1Kt16sRuTSM', {'weight': 25}), ('rp9rnAQVpfrraPKGLNMRAJJ1Kt16sRuTSM', 'rhR2tdfb2Brcnt84F1HhJBkX4fL4oD6Uur', {'weight': 13}), ('rhRtj3KnWHjrbdd6HsM2xxNae9tXJ37Fbr', 'rwUmdcxnYd6P1FZfszkrhGSpxi1ghkLfJ7', {'weight': 21}), ('rwUmdcxnYd6P1FZfszkrhGSpxi1ghkLfJ7', 'rhRtj3KnWHjrbdd6HsM2xxNae9tXJ37Fbr', {'weight': 29}), ('rhUvL7NUA6JgVUSw4jn41REVpcDkDwS4R6', 'rwmt3sSwQUw7Ksx2T229Gppzs3dRVM8jw', {'weight': 30}), ('rwmt3sSwQUw7Ksx2T229Gppzs3dRVM8jw', 'rhUvL7NUA6JgVUSw4jn41REVpcDkDwS4R6', {'weight': 39}), ('rhVKPd8pygiAFGDPxFL6xdPXAw1enWBVNF', 'rhhgNwqNT9xbn9KU7C7PDmM8NwzCssE5Fa', {'weight': 14}), ('rhhgNwqNT9xbn9KU7C7PDmM8NwzCssE5Fa', 'rhVKPd8pygiAFGDPxFL6xdPXAw1enWBVNF', {'weight': 26}), ('rhVgPxVEHP6gN3nQLKobinptDvGwH7GAmt', 'rwXCmKWJLdLXhV8BSqWexM6biMqo4Rh7bf', {'weight': 32}), ('rwXCmKWJLdLXhV8BSqWexM6biMqo4Rh7bf', 'rhVgPxVEHP6gN3nQLKobinptDvGwH7GAmt', {'weight': 22}), ('rhWGSQXWKG8VKZMB64fVGjjZ41aAyauZNt', 'rnhXPEuWdMQhXRDMnUTdfkbXXdwkWa5Yaq', {'weight': 68}), ('rnhXPEuWdMQhXRDMnUTdfkbXXdwkWa5Yaq', 'rhWGSQXWKG8VKZMB64fVGjjZ41aAyauZNt', {'weight': 86}), ('rhWU6qv3KZ8hcrPFJN2ANT7p86xbK2ZvCp', 'rwGytjndyDMz8QGgvTd1emu6JfeAhYQfRi', {'weight': 46}), ('rwGytjndyDMz8QGgvTd1emu6JfeAhYQfRi', 'rhWU6qv3KZ8hcrPFJN2ANT7p86xbK2ZvCp', {'weight': 1}), ('rhXXkPzLJeLcHTSsS1PDw1ABMiQwhpD2wz', 'rsV18LwAqVuLELEUmDi8Fk2Jcg48WTFFQJ', {'weight': 27}), ('rsV18LwAqVuLELEUmDi8Fk2Jcg48WTFFQJ', 'rhXXkPzLJeLcHTSsS1PDw1ABMiQwhpD2wz', {'weight': 43}), ('rhaDmhX2mWUENcQvsk7DL2vYbfyL1GRsMg', 'rsE9a7qmQocfk63vbsj52ij6JwzoxMUpeZ', {'weight': 16}), ('rsE9a7qmQocfk63vbsj52ij6JwzoxMUpeZ', 'rhaDmhX2mWUENcQvsk7DL2vYbfyL1GRsMg', {'weight': 27}), ('rhdLUpziZuVCezV9rN3bSV98c3ZXxX6YNL', 'rnLrfVZ9K4FSYkiJSAVhqxARv3TqsNWxxh', {'weight': 74}), ('rnLrfVZ9K4FSYkiJSAVhqxARv3TqsNWxxh', 'rhdLUpziZuVCezV9rN3bSV98c3ZXxX6YNL', {'weight': 52}), ('rhdpg8bkoU4GPNoVrJCmwfzNDrcgHgda3Q', 'rhkaoUKJ3Ezf6qSzT6kdmbRoENgJqwsoyX', {'weight': 26}), ('rhkaoUKJ3Ezf6qSzT6kdmbRoENgJqwsoyX', 'rhdpg8bkoU4GPNoVrJCmwfzNDrcgHgda3Q', {'weight': 16}), ('rhgFCja3VYbi7ov8NBkF1LzbBsq9V7eXYM', 'rchGBxcD1A1C2tdxF6papQYZ8kjRKMYcL', {'weight': 1}), ('rhiUJZ4HsVfHghAcftER51fxHhzUBRojrJ', 'rnWskNfR77HiUVKXQ3QVJiHtabb97Qr2gL', {'weight': 39}), ('rnWskNfR77HiUVKXQ3QVJiHtabb97Qr2gL', 'rhiUJZ4HsVfHghAcftER51fxHhzUBRojrJ', {'weight': 29}), ('rhjBh8TVc61KrVhTaN475hfXdbJpSRNQ31', 'rnRtV9aopksvdjJXuyGaYSRVZ4AdioTP7r', {'weight': 34}), ('rnRtV9aopksvdjJXuyGaYSRVZ4AdioTP7r', 'rhjBh8TVc61KrVhTaN475hfXdbJpSRNQ31', {'weight': 18}), ('rhmvcW2vN1Rfzrz4beywSngznW8Qf4ToiV', 'rwsWF3J5B6FoCHoMZMLHeZNSr9PZvq8pcw', {'weight': 26}), ('rwsWF3J5B6FoCHoMZMLHeZNSr9PZvq8pcw', 'rhmvcW2vN1Rfzrz4beywSngznW8Qf4ToiV', {'weight': 15}), ('rhn6eiXtUuSkamBAk1R5Q7imAca2GFaM4x', 'rhnPKKTNsdUvVs4fS3nzys27g7N2jGZxgx', {'weight': 21}), ('rhnPKKTNsdUvVs4fS3nzys27g7N2jGZxgx', 'rhn6eiXtUuSkamBAk1R5Q7imAca2GFaM4x', {'weight': 33}), ('rhnAo1DiSNaCn3iqEqLJ9Zc6mGWAdr65TC', 'rpsYoT7ybgQMzuySFLVkuHgsNFDu1pUofs', {'weight': 15}), ('rpsYoT7ybgQMzuySFLVkuHgsNFDu1pUofs', 'rhnAo1DiSNaCn3iqEqLJ9Zc6mGWAdr65TC', {'weight': 26}), ('rhtFSZvx1WrAfLiUeKgcWW9LTBGmRJiDAM', 'rnT6Xyg6BfvX23oUrJD45T7RzbQsFMb4yC', {'weight': 28}), ('rnT6Xyg6BfvX23oUrJD45T7RzbQsFMb4yC', 'rhtFSZvx1WrAfLiUeKgcWW9LTBGmRJiDAM', {'weight': 15}), ('rhu23YLriHXgpgu8JsjePHSJLJBtvWpCis', 'rptdF2BACBQD6858pcVLyJA7qs8kFpFCzo', {'weight': 16}), ('rptdF2BACBQD6858pcVLyJA7qs8kFpFCzo', 'rhu23YLriHXgpgu8JsjePHSJLJBtvWpCis', {'weight': 30}), ('rhv5ZanegAzWY7qb6WusxL9caPZQmKbwFp', 'rsSzZSneaEgLc17WfTjrQvVXZurDJnG6HE', {'weight': 52}), ('rsSzZSneaEgLc17WfTjrQvVXZurDJnG6HE', 'rhv5ZanegAzWY7qb6WusxL9caPZQmKbwFp', {'weight': 73}), ('rhyCtdytHkC48zWZyuV73BCCqkWKQ9BwqX', 'rw7vzCY6VbLekP29BkRKsHsLQGt5GNxGdB', {'weight': 27}), ('rw7vzCY6VbLekP29BkRKsHsLQGt5GNxGdB', 'rhyCtdytHkC48zWZyuV73BCCqkWKQ9BwqX', {'weight': 37}), ('rhzHSyP14iACJd8uT7hCeymV6Qr3ZNMmK4', 'rwN4TdSzkJ3yriM9evVDfMPNZLEMA7TGBY', {'weight': 35}), ('rwN4TdSzkJ3yriM9evVDfMPNZLEMA7TGBY', 'rhzHSyP14iACJd8uT7hCeymV6Qr3ZNMmK4', {'weight': 23}), ('ri8cU4d9N7oMRWM8HMThcDCZxxEWMqC1k', 'rwzg8Ug7qPuHrQvcvMXoGroCMd4DNZDvgB', {'weight': 20}), ('rwzg8Ug7qPuHrQvcvMXoGroCMd4DNZDvgB', 'ri8cU4d9N7oMRWM8HMThcDCZxxEWMqC1k', {'weight': 29}), ('riNxmiU9PCuSoyawwj5W53Ru1VBqZk4Ep', 'rwvRfAGksho5qVhmAGBocrZNT8d4T6DMnn', {'weight': 35}), ('rwvRfAGksho5qVhmAGBocrZNT8d4T6DMnn', 'riNxmiU9PCuSoyawwj5W53Ru1VBqZk4Ep', {'weight': 26}), ('rkAavcTPGC1t26dmb1CiSnG3NeNDUS9yE', 'rwisraiwSCFYtEkAC57XXCgHVHu5u4f5q1', {'weight': 34}), ('rwisraiwSCFYtEkAC57XXCgHVHu5u4f5q1', 'rkAavcTPGC1t26dmb1CiSnG3NeNDUS9yE', {'weight': 42}), ('rkh48NgeanUic2ZQTTSv5iE6gqEUYYLC1', 'rrnhcqmwEh5vFnmrJVCrwrdPopxjYGwWxQ', {'weight': 5}), ('rrnhcqmwEh5vFnmrJVCrwrdPopxjYGwWxQ', 'rkh48NgeanUic2ZQTTSv5iE6gqEUYYLC1', {'weight': 1}), ('rn2Q7Q88LptUjBLFB26KkfZWS4aQKnKJho', 'rptco19A572sRbarP1T14j3MgQYNWLMEHX', {'weight': 25}), ('rptco19A572sRbarP1T14j3MgQYNWLMEHX', 'rn2Q7Q88LptUjBLFB26KkfZWS4aQKnKJho', {'weight': 13}), ('rn355LZrrEfg57RaVxTya8Z3tp21bHT3Px', 'rst6LWT7kZjko6cYN6sYAtWDJyj7kkkqp8', {'weight': 35}), ('rst6LWT7kZjko6cYN6sYAtWDJyj7kkkqp8', 'rn355LZrrEfg57RaVxTya8Z3tp21bHT3Px', {'weight': 23}), ('rn3GuwVqcZPFRZvqix6uCnaph6s652aM2t', 'rw86uXL327YGmW4S8pPVssCq9JqpbZCaiY', {'weight': 14}), ('rw86uXL327YGmW4S8pPVssCq9JqpbZCaiY', 'rn3GuwVqcZPFRZvqix6uCnaph6s652aM2t', {'weight': 1}), ('rn6BzEE13SgacHatAjsrrP8AftcifUbmXr', 'rsQt5ReyiqkkTWcPCWjFRvXCivhiZ9S1xS', {'weight': 95}), ('rsQt5ReyiqkkTWcPCWjFRvXCivhiZ9S1xS', 'rn6BzEE13SgacHatAjsrrP8AftcifUbmXr', {'weight': 80}), ('rn7696QviQvtR4WGjx4DxmYqWoW2trtjoB', 'rwawUxrU5s9FEPNwHDUaNn6sjzdCBAxR5P', {'weight': 80}), ('rwawUxrU5s9FEPNwHDUaNn6sjzdCBAxR5P', 'rn7696QviQvtR4WGjx4DxmYqWoW2trtjoB', {'weight': 59}), ('rn8Qy1xR95nerEemozaR4PMsZAe5mq45DT', 'rntFHt6wi9jc8gKgnUNa6ZEBKqpCbGE764', {'weight': 29}), ('rntFHt6wi9jc8gKgnUNa6ZEBKqpCbGE764', 'rn8Qy1xR95nerEemozaR4PMsZAe5mq45DT', {'weight': 14}), ('rn93RWSH8rjx8wNG9bVLFuZNF9LREeheHi', 'rsSZrxC4sd4etUdV7mHGi9qvNh5yzmmXWc', {'weight': 37}), ('rsSZrxC4sd4etUdV7mHGi9qvNh5yzmmXWc', 'rn93RWSH8rjx8wNG9bVLFuZNF9LREeheHi', {'weight': 26}), ('rn9b7KsG4wutjConZdoayrKkey65JnNYZx', 'rwtYtmcRnX2nfyhUeoA8tqvibHowv18xJN', {'weight': 17}), ('rwtYtmcRnX2nfyhUeoA8tqvibHowv18xJN', 'rn9b7KsG4wutjConZdoayrKkey65JnNYZx', {'weight': 29}), ('rnApQ8S9NmGBbtpeqyu7wjtmJokgf7zRbW', 'rsgkwj7WqgPrK7YziHQPGCXQvy4zEsx8xH', {'weight': 19}), ('rsgkwj7WqgPrK7YziHQPGCXQvy4zEsx8xH', 'rnApQ8S9NmGBbtpeqyu7wjtmJokgf7zRbW', {'weight': 30}), ('rnBEGD7PoMSTE3b2BjkVu62DeSpGuxpoAy', 'rchGBxcD1A1C2tdxF6papQYZ8kjRKMYcL', {'weight': 6}), ('rnBFJT1jg47JCwzmA6QQmqNoReUcimHDCr', 'rpW2eMLY8HFe9hmtsFypANr3QZ5PLr6BQr', {'weight': 22}), ('rpW2eMLY8HFe9hmtsFypANr3QZ5PLr6BQr', 'rnBFJT1jg47JCwzmA6QQmqNoReUcimHDCr', {'weight': 32}), ('rnDVBK1EB1Yqw9p1MRnmkCQB34r2RQLg2L', 'rw8ykmr4P4YPoNBeRf4hMQiqvBFTrZ9eVR', {'weight': 94}), ('rw8ykmr4P4YPoNBeRf4hMQiqvBFTrZ9eVR', 'rnDVBK1EB1Yqw9p1MRnmkCQB34r2RQLg2L', {'weight': 106}), ('rnEP8nfDoXi37dGgMJ5kPdaWU4NZsWxnQr', 'rweUYXMo8JBA6Gb7Q1Bpghm8rFYztjGuJJ', {'weight': 36}), ('rweUYXMo8JBA6Gb7Q1Bpghm8rFYztjGuJJ', 'rnEP8nfDoXi37dGgMJ5kPdaWU4NZsWxnQr', {'weight': 24}), ('rnFPYKA5qJ9GhSDqz2zHUH6ic3SbE9xRad', 'rnW4QvgkmybyZVDHVKLyY9ThKzmnGksmMn', {'weight': 15}), ('rnW4QvgkmybyZVDHVKLyY9ThKzmnGksmMn', 'rnFPYKA5qJ9GhSDqz2zHUH6ic3SbE9xRad', {'weight': 25}), ('rnGhSFvi2zF4prC5w9p6LFFP8a7LR8uxoK', 'rnw1SoXoBq6BQTQDLoHWeUR1AmcjVkXovm', {'weight': 24}), ('rnw1SoXoBq6BQTQDLoHWeUR1AmcjVkXovm', 'rnGhSFvi2zF4prC5w9p6LFFP8a7LR8uxoK', {'weight': 36}), ('rnGvRXMNWgK6gfGVVNEUZ1sPBmVJgFqjFq', 'rnVWdvN7msjyxP7saphRNbAoEmWVP9Xott', {'weight': 21}), ('rnVWdvN7msjyxP7saphRNbAoEmWVP9Xott', 'rnGvRXMNWgK6gfGVVNEUZ1sPBmVJgFqjFq', {'weight': 11}), ('rnJcxfjnEEJFJ2c8ngyH2h3tjraCcYNnGn', 'rw3mwYPvX9aFY4v5QMRqNz4rgqSwvoVJW7', {'weight': 55}), ('rw3mwYPvX9aFY4v5QMRqNz4rgqSwvoVJW7', 'rnJcxfjnEEJFJ2c8ngyH2h3tjraCcYNnGn', {'weight': 75}), ('rnN3hGefujFw49u3KvsiCEeP4G4W318QaF', 'rwYMPGno7EHiFnCaBFCsHp6EJZahcag2zf', {'weight': 34}), ('rwYMPGno7EHiFnCaBFCsHp6EJZahcag2zf', 'rnN3hGefujFw49u3KvsiCEeP4G4W318QaF', {'weight': 24}), ('rnPEMMLX7Y5aWdo8d71wz3yRqao92N6ro8', 'rrsr9QCQxAX9wj6jCfD4iLXPweaEYvuwrW', {'weight': 30}), ('rrsr9QCQxAX9wj6jCfD4iLXPweaEYvuwrW', 'rnPEMMLX7Y5aWdo8d71wz3yRqao92N6ro8', {'weight': 40}), ('rnQPNXMZssg5pwYo1pT8fmsgjC93DGkaQE', 'rnrzsgXtuPE8re8XXaqF1GCChrMYuuVDdM', {'weight': 18}), ('rnrzsgXtuPE8re8XXaqF1GCChrMYuuVDdM', 'rnQPNXMZssg5pwYo1pT8fmsgjC93DGkaQE', {'weight': 28}), ('rnQrQA3QHbCZydpRGH7soRE4xMYRHWTGZj', 'rpZRmVa8P3KPjJCKL63GiqPBtAWDXo29Sq', {'weight': 19}), ('rpZRmVa8P3KPjJCKL63GiqPBtAWDXo29Sq', 'rnQrQA3QHbCZydpRGH7soRE4xMYRHWTGZj', {'weight': 28}), ('rnTMcsocrNxqc2yZP3ARAPjMCNmsTdDcVX', 'rw99G5y3C8ySDyRzX1hSxcmdnC3P6xo4oG', {'weight': 28}), ('rw99G5y3C8ySDyRzX1hSxcmdnC3P6xo4oG', 'rnTMcsocrNxqc2yZP3ARAPjMCNmsTdDcVX', {'weight': 18}), ('rnTejdkbEegmMT3qJ6JKBfd8Ed4rGn7xkR', 'rndKnu57iMwqegwUxJ84u4WaBZGBouMYFS', {'weight': 24}), ('rndKnu57iMwqegwUxJ84u4WaBZGBouMYFS', 'rnTejdkbEegmMT3qJ6JKBfd8Ed4rGn7xkR', {'weight': 36}), ('rnThdLMHKvscRkQSK18QC9rUB4B1U6rC77', 'rpZj1R5vAnAk3nwBFEh53yeSFzW7DLF57E', {'weight': 26}), ('rpZj1R5vAnAk3nwBFEh53yeSFzW7DLF57E', 'rnThdLMHKvscRkQSK18QC9rUB4B1U6rC77', {'weight': 36}), ('rnTmubm5jj77MRfMcnAJeCXQj8L5a2Vs1J', 'rs9GNviypCDVRQiEdfBcBAoAQy3qAv3a9p', {'weight': 22}), ('rs9GNviypCDVRQiEdfBcBAoAQy3qAv3a9p', 'rnTmubm5jj77MRfMcnAJeCXQj8L5a2Vs1J', {'weight': 31}), ('rnTyxvj7JgZXty62bkEmzLesK2AyNP5UG8', 'rp54DiY7yzuSi9YnxB8eUTzwfj97C66vH9', {'weight': 1}), ('rp54DiY7yzuSi9YnxB8eUTzwfj97C66vH9', 'rnTyxvj7JgZXty62bkEmzLesK2AyNP5UG8', {'weight': 46}), ('rnVx6ebqWE91rCoicJVBqRHZ9khPyMi4nS', 'rwBwVe7Qrkjeytu8q8ZfH8ccHpJ3W7mBwZ', {'weight': 34}), ('rwBwVe7Qrkjeytu8q8ZfH8ccHpJ3W7mBwZ', 'rnVx6ebqWE91rCoicJVBqRHZ9khPyMi4nS', {'weight': 24}), ('rnZt7UckEHzQ2QmEMrGnqv4J9141Ys4T1X', 'rpVeMdUj5fo1csXkzYfHz566juaiMCUGa3', {'weight': 55}), ('rpVeMdUj5fo1csXkzYfHz566juaiMCUGa3', 'rnZt7UckEHzQ2QmEMrGnqv4J9141Ys4T1X', {'weight': 76}), ('rnbWnDRqJjNzbzuyxzYo9iJzsJQBitzZiA', 'rwR61EGJtbf2DRjuTUKuMS8tZZMtuVB31a', {'weight': 14}), ('rwR61EGJtbf2DRjuTUKuMS8tZZMtuVB31a', 'rnbWnDRqJjNzbzuyxzYo9iJzsJQBitzZiA', {'weight': 23}), ('rngUyUDB3Wg3TmBu1QaQ8LdVZ7gUwsSoyU', 'rnkjYgUhAE5NmcAUbtsTUV8o7ZPRwy4q7r', {'weight': 27}), ('rnkjYgUhAE5NmcAUbtsTUV8o7ZPRwy4q7r', 'rngUyUDB3Wg3TmBu1QaQ8LdVZ7gUwsSoyU', {'weight': 15}), ('rniTKEozXmPbuxpvmyzsMhVLxTLokN2QUb', 'rN6VQqJc7MC6vv67wDBS27k7drGxHE9i91', {'weight': 3}), ('rnikZvxbWzdUQKWcLkCXqeA2VGfTYuHceQ', 'rpdziD6e4nPBSjwo3NV5SdUdQb7WMxFFDo', {'weight': 21}), ('rpdziD6e4nPBSjwo3NV5SdUdQb7WMxFFDo', 'rnikZvxbWzdUQKWcLkCXqeA2VGfTYuHceQ', {'weight': 31}), ('rnjftycow9aw21rDga1NsdXUpt9CJ7Wu92', 'rpjK4usShPB85WwiAv6q1of6pUWiTy8z1n', {'weight': 33}), ('rpjK4usShPB85WwiAv6q1of6pUWiTy8z1n', 'rnjftycow9aw21rDga1NsdXUpt9CJ7Wu92', {'weight': 18}), ('rnqSoTYFZwrvfGrZHtmBUNpHrb4yfFZ9za', 'ruz7u42dVSMX32HAbs5Vr8MDGWtbhsk7d', {'weight': 14}), ('ruz7u42dVSMX32HAbs5Vr8MDGWtbhsk7d', 'rnqSoTYFZwrvfGrZHtmBUNpHrb4yfFZ9za', {'weight': 29}), ('rnrTHGbMsszXNQmjEaL8c2vamJYU2yJdEn', 'rpxkWq7N8GjBRwhoGj12xAhgnYmX35Krnn', {'weight': 14}), ('rpxkWq7N8GjBRwhoGj12xAhgnYmX35Krnn', 'rnrTHGbMsszXNQmjEaL8c2vamJYU2yJdEn', {'weight': 28}), ('rntmwSW1SX6ADxWDVCCrkmmY61R27NfRER', 'rpFHRkC5kn1oxBxWfLsZC5JEmEY1RDiBAX', {'weight': 13}), ('rpFHRkC5kn1oxBxWfLsZC5JEmEY1RDiBAX', 'rntmwSW1SX6ADxWDVCCrkmmY61R27NfRER', {'weight': 23}), ('rnvQcJFVfmieWKW6VvkhzKL3pFLjrXUHq9', 'rpn3rBGssV17Ev7c3D1BiLdvmLLZsAJksk', {'weight': 17}), ('rpn3rBGssV17Ev7c3D1BiLdvmLLZsAJksk', 'rnvQcJFVfmieWKW6VvkhzKL3pFLjrXUHq9', {'weight': 29}), ('rnvWWMqU1jKuM67A5WvB6NnsacrU4cjqzq', 'rsEXKGyRgDhKgUE45DL24Q62NUNpXm2hCh', {'weight': 32}), ('rsEXKGyRgDhKgUE45DL24Q62NUNpXm2hCh', 'rnvWWMqU1jKuM67A5WvB6NnsacrU4cjqzq', {'weight': 22}), ('rnwMH1mxZCyxpWrL2Bah9Ugm4szPwbnDxn', 'rpyGmXK5XmPAMtzpANmS2sTup5j7G5szWy', {'weight': 21}), ('rpyGmXK5XmPAMtzpANmS2sTup5j7G5szWy', 'rnwMH1mxZCyxpWrL2Bah9Ugm4szPwbnDxn', {'weight': 33}), ('rnx4j2Cq6nm2m2vAKPY7w6VTxNJWW9qRkn', 'rpvv1XqDnRYLamhNUjDnbHuUyjHsKUx7Bw', {'weight': 29}), ('rpvv1XqDnRYLamhNUjDnbHuUyjHsKUx7Bw', 'rnx4j2Cq6nm2m2vAKPY7w6VTxNJWW9qRkn', {'weight': 14}), ('rnxUdAh3LPGKmDZkYCJacNG9CvcovsSh2r', 'rwEHcVyNNcYaur61wZzaU9daCYFHzFNewC', {'weight': 25}), ('rwEHcVyNNcYaur61wZzaU9daCYFHzFNewC', 'rnxUdAh3LPGKmDZkYCJacNG9CvcovsSh2r', {'weight': 11}), ('rp2qzyAwt9r5Ja5gzCNte1ggGPwbhwssyN', 'rp5Bbt6h6rNtEpmoSNUCBtHVSUNfNdtKyi', {'weight': 44}), ('rp5Bbt6h6rNtEpmoSNUCBtHVSUNfNdtKyi', 'rp2qzyAwt9r5Ja5gzCNte1ggGPwbhwssyN', {'weight': 35}), ('rp9Jc6fX9Gy3LdXAfgZxrtkUp3dJgccnBN', 'rpZTLTnihSkQ6wRrfuYnMbhchjoG2JjDCk', {'weight': 19}), ('rpZTLTnihSkQ6wRrfuYnMbhchjoG2JjDCk', 'rp9Jc6fX9Gy3LdXAfgZxrtkUp3dJgccnBN', {'weight': 34}), ('rp9cBX8BGifJ3QzEoDfw9yqrGgZ1X6sgk3', 'rsAk3bdjghSpeWSwSpNAVcxAbJ4vsYzZ1C', {'weight': 15}), ('rsAk3bdjghSpeWSwSpNAVcxAbJ4vsYzZ1C', 'rp9cBX8BGifJ3QzEoDfw9yqrGgZ1X6sgk3', {'weight': 26}), ('rpAFwRkmfmYt5WitjdiaXLVx3TWrT3XFsW', 'rsXNb7S8eX5jVQyJrD8KVg7Vewah8byizV', {'weight': 23}), ('rsXNb7S8eX5jVQyJrD8KVg7Vewah8byizV', 'rpAFwRkmfmYt5WitjdiaXLVx3TWrT3XFsW', {'weight': 35}), ('rpCYrk95fN1voKDCG1xU4rExqAuFK1tnGs', 'rsk8PEEWEzGguohyCauUS2kCgxbXecjLKp', {'weight': 39}), ('rsk8PEEWEzGguohyCauUS2kCgxbXecjLKp', 'rpCYrk95fN1voKDCG1xU4rExqAuFK1tnGs', {'weight': 29}), ('rpCaP9dPrT1E5dGmgVsTBE9dgvKnpp55GB', 'rs9oSifJ5ASRzBbwCqmmXaJWdhsiTCErNc', {'weight': 33}), ('rs9oSifJ5ASRzBbwCqmmXaJWdhsiTCErNc', 'rpCaP9dPrT1E5dGmgVsTBE9dgvKnpp55GB', {'weight': 17}), ('rpFAbaM5uM2JgbAGVfdxNHUUvb4rSngWG7', 'rscPPx1ZUdbugFMsZBGLpDr6Q2Z5uDcvtr', {'weight': 85}), ('rscPPx1ZUdbugFMsZBGLpDr6Q2Z5uDcvtr', 'rpFAbaM5uM2JgbAGVfdxNHUUvb4rSngWG7', {'weight': 68}), ('rpJZ5WyotdphojwMLxCr2prhULvG3Voe3X', 'r3VC6jvrr3ny2fAPyGP3EjgKh9o4UrnpHE', {'weight': 8}), ('rpJZ5WyotdphojwMLxCr2prhULvG3Voe3X', 'r4ABXm3xpXojPAi14EcLmgERyuVUE41mGi', {'weight': 2}), ('rpJZ5WyotdphojwMLxCr2prhULvG3Voe3X', 'r4ow8sharDWkxfqZwtbAJYwU2SEFXAxmFp', {'weight': 3}), ('rpJZ5WyotdphojwMLxCr2prhULvG3Voe3X', 'rB9znU32PReyuJ1vsehfmnKp5R9X2Cy9Gk', {'weight': 1}), ('rpJZ5WyotdphojwMLxCr2prhULvG3Voe3X', 'rBofXgf6s6mxEnZxG5Xvq6BAp5qwjLyYbH', {'weight': 11}), ('rpJZ5WyotdphojwMLxCr2prhULvG3Voe3X', 'rEUSz8gBUf1SMh1PR4LjBTpbfA3yAyR55J', {'weight': 1}), ('rpJZ5WyotdphojwMLxCr2prhULvG3Voe3X', 'rGfSEUa5XHh6c16KbQBzuv163kJQZv5AtN', {'weight': 11}), ('rpJZ5WyotdphojwMLxCr2prhULvG3Voe3X', 'rGrUgQDuBMuCVpLd5xz2qUFbxGUMwWJ1Sy', {'weight': 2}), ('rpJZ5WyotdphojwMLxCr2prhULvG3Voe3X', 'rGvFAsDiR8jpNsxv7JoydBbKYZMxYEdSno', {'weight': 10}), ('rpJZ5WyotdphojwMLxCr2prhULvG3Voe3X', 'rK8fkVLqRUKsNevhR5rxFsa5ishEJ4nHg8', {'weight': 1}), ('rpJZ5WyotdphojwMLxCr2prhULvG3Voe3X', 'rKWeJfhstn5AbRQfc65Goc6csDUadXTM3U', {'weight': 8}), ('rpJZ5WyotdphojwMLxCr2prhULvG3Voe3X', 'rKa9G1Pn7H9eu1fbZNbZvANBTMJ6v7vkep', {'weight': 13}), ('rpJZ5WyotdphojwMLxCr2prhULvG3Voe3X', 'rKuAAajywBVRqWubSG43f3YUQTckH6SWrp', {'weight': 3}), ('rpJZ5WyotdphojwMLxCr2prhULvG3Voe3X', 'rLhw4b5C1FYPcz6LSHF4b8PWBZwwyJ7Asd', {'weight': 8}), ('rpJZ5WyotdphojwMLxCr2prhULvG3Voe3X', 'rNPsu8CgdXBBe6EH3VvpEiZ4g8x5skL8P6', {'weight': 1}), ('rpJZ5WyotdphojwMLxCr2prhULvG3Voe3X', 'rNQnHKRZ32Lts2RYqXBPGEMnFJpQhVSqH2', {'weight': 3}), ('rpJZ5WyotdphojwMLxCr2prhULvG3Voe3X', 'rPwc3WS7bKDcMk5GViHffhyGwAdERVYz2L', {'weight': 1}), ('rpJZ5WyotdphojwMLxCr2prhULvG3Voe3X', 'rQBRLNA8wDujT1hKxt9z4vX3LxiJqc1HuJ', {'weight': 1}), ('rpJZ5WyotdphojwMLxCr2prhULvG3Voe3X', 'rUSB76jBJ8EqmGGV3yuDDZJGJ9sFtJRuwu', {'weight': 2}), ('rpJZ5WyotdphojwMLxCr2prhULvG3Voe3X', 'rfJfkFz8y1qYHtc2j2JUk6ayz3C8iWdT91', {'weight': 1}), ('rpJZ5WyotdphojwMLxCr2prhULvG3Voe3X', 'rh3hcjqjBgVQco4751RWJh7XhWatubTPsn', {'weight': 1}), ('rpJZ5WyotdphojwMLxCr2prhULvG3Voe3X', 'rh5NJ7kZDaxcKwhrw6qTx2iKuu3eFs89ub', {'weight': 12}), ('rpJZ5WyotdphojwMLxCr2prhULvG3Voe3X', 'rn4aPHJyux5QnMQhdsyDLsEEhMWW4K5nUj', {'weight': 1}), ('rpJZ5WyotdphojwMLxCr2prhULvG3Voe3X', 'rna3REBtXdafS8izdZBx86bQUsT96GFpNT', {'weight': 3}), ('rpJZ5WyotdphojwMLxCr2prhULvG3Voe3X', 'rpKj9aiBUtC1TSfVDxYU9hAeodwxUcCjxy', {'weight': 2}), ('rpJZ5WyotdphojwMLxCr2prhULvG3Voe3X', 'rpSjrBTBjTpLYG5aCvJBFf1PhH8nZm9CN5', {'weight': 3}), ('rpJZ5WyotdphojwMLxCr2prhULvG3Voe3X', 'rpVkYTTCpt5bT9ndsppAuWNCCVVU7yJhSL', {'weight': 7}), ('rpJZ5WyotdphojwMLxCr2prhULvG3Voe3X', 'rpu9JJCgDWZX6KSW4QorC8vxUPetib4Wjw', {'weight': 7}), ('rpJZ5WyotdphojwMLxCr2prhULvG3Voe3X', 'rsXiwaV7Co7S7DsWHYExsoSx1a91dpWb9h', {'weight': 1}), ('rpJZ5WyotdphojwMLxCr2prhULvG3Voe3X', 'rsx2oBk72hARxPbhoZmnem5DVd1rYWfmZK', {'weight': 1}), ('rpJZ5WyotdphojwMLxCr2prhULvG3Voe3X', 'rwj4ENDNCiY4CY9v2nbzMwQkWUMLFtTekd', {'weight': 3}), ('rsx2oBk72hARxPbhoZmnem5DVd1rYWfmZK', 'rsgwrAAm3Jn1B3CDPeA4o1w3tXVd1oaGnj', {'weight': 24}), ('rpNNF6gJ13iDJCNv1Cy61PtLcBABc23FN1', 'rsEaLLcFCCRJqftvhczMUeoEaHP4D1SKqt', {'weight': 15}), ('rsEaLLcFCCRJqftvhczMUeoEaHP4D1SKqt', 'rpNNF6gJ13iDJCNv1Cy61PtLcBABc23FN1', {'weight': 26}), ('rpPA4Wp2bJytBsRvByyDny46YY4tAnpQMi', 'rsjLkZaMgQ5LjdQrMfjByFqpD1VsvTFHZn', {'weight': 28}), ('rsjLkZaMgQ5LjdQrMfjByFqpD1VsvTFHZn', 'rpPA4Wp2bJytBsRvByyDny46YY4tAnpQMi', {'weight': 18}), ('rpSe7byFZ2wx5SYuvUsD8oY9fvUQjoEU8X', 'rwRdEWUX5QCy8Pi1R1gWxn21zBBtpwB4TJ', {'weight': 84}), ('rwRdEWUX5QCy8Pi1R1gWxn21zBBtpwB4TJ', 'rpSe7byFZ2wx5SYuvUsD8oY9fvUQjoEU8X', {'weight': 96}), ('rpUnYpXXGjbqo2RM6TuUoZpW9k2JewfujK', 'rs7SQEdo7zitug2XrpTxhnXg97cUcV1UhP', {'weight': 91}), ('rs7SQEdo7zitug2XrpTxhnXg97cUcV1UhP', 'rpUnYpXXGjbqo2RM6TuUoZpW9k2JewfujK', {'weight': 76}), ('rpaX5fxqUQ4tVDjc39Y4tLoA1ftboS8rJ1', 'rwBiNGWWRX2VRpdk9kzpEdw6DHUUTCo5Ld', {'weight': 30}), ('rwBiNGWWRX2VRpdk9kzpEdw6DHUUTCo5Ld', 'rpaX5fxqUQ4tVDjc39Y4tLoA1ftboS8rJ1', {'weight': 19}), ('rpbhoBJq8vRi6FgjBnVJgrRCgk5EzC8imy', 'rsNXEQQs89UNchfxYpJQzXPPaYSucXFVCV', {'weight': 22}), ('rsNXEQQs89UNchfxYpJQzXPPaYSucXFVCV', 'rpbhoBJq8vRi6FgjBnVJgrRCgk5EzC8imy', {'weight': 34}), ('rpf57ZiBJ3tqB65G1QNDcZzqf94Pp6JpCp', 'rwqJkDhXvjHQEXiGd6YxxbjCLXF7LZ2WVF', {'weight': 24}), ('rwqJkDhXvjHQEXiGd6YxxbjCLXF7LZ2WVF', 'rpf57ZiBJ3tqB65G1QNDcZzqf94Pp6JpCp', {'weight': 36}), ('rpijUKrEAAmYnKThVqXkuM5NA7ggBSqxgW', 'rwUQu87NdNib9oWAVmFekzov37qpkKKpUb', {'weight': 22}), ('rwUQu87NdNib9oWAVmFekzov37qpkKKpUb', 'rpijUKrEAAmYnKThVqXkuM5NA7ggBSqxgW', {'weight': 34}), ('rpjDEx1cdFMvjmgrUNVnKWHGgk9BHm8HNn', 'rsvcHHnfRQkXj7APta5iskrjM9hYhVzizV', {'weight': 29}), ('rsvcHHnfRQkXj7APta5iskrjM9hYhVzizV', 'rpjDEx1cdFMvjmgrUNVnKWHGgk9BHm8HNn', {'weight': 38}), ('rpjDseYUn6Y6vVmFNqi1vfAy622wW6ZwuK', 'rpta4BiYaQ9RdwC1ppR4opYemb7wUCik6s', {'weight': 31}), ('rpta4BiYaQ9RdwC1ppR4opYemb7wUCik6s', 'rpjDseYUn6Y6vVmFNqi1vfAy622wW6ZwuK', {'weight': 20}), ('rpjqZRBq2TmHpVfSgFwXR97vdDYDBu6w4z', 'rpuXDybmTwVzYHLqbFcfPBDkFGP9GZKNRn', {'weight': 26}), ('rpuXDybmTwVzYHLqbFcfPBDkFGP9GZKNRn', 'rpjqZRBq2TmHpVfSgFwXR97vdDYDBu6w4z', {'weight': 15}), ('rpk4TSmYt6TUmR9PSRBH3e9w32fFUcrbnt', 'rpssoLnG9dWiRouGLX9EBKx4pdCgjm3Y8F', {'weight': 18}), ('rpssoLnG9dWiRouGLX9EBKx4pdCgjm3Y8F', 'rpk4TSmYt6TUmR9PSRBH3e9w32fFUcrbnt', {'weight': 34}), ('rpnJoh8wdpFrBSuxw5rJLwiypVsk41aCkc', 'rwBBc67wnXRyT6gB2LmYKKVKRrWfWshuSa', {'weight': 23}), ('rwBBc67wnXRyT6gB2LmYKKVKRrWfWshuSa', 'rpnJoh8wdpFrBSuxw5rJLwiypVsk41aCkc', {'weight': 14}), ('rpncuhz7nhREmKHDcfqDJECZFJSsD2C3Xe', 'rs5Dm5jUnR2ZbgCYoVEsBQPF6wNE6UccLT', {'weight': 34}), ('rs5Dm5jUnR2ZbgCYoVEsBQPF6wNE6UccLT', 'rpncuhz7nhREmKHDcfqDJECZFJSsD2C3Xe', {'weight': 22}), ('rppEEZTqrrGpPQ92GWpksB8f1yrAyBADJ7', 'rsrC45vwWgtDUJvrDK6kSQV7Tftre53CsQ', {'weight': 21}), ('rsrC45vwWgtDUJvrDK6kSQV7Tftre53CsQ', 'rppEEZTqrrGpPQ92GWpksB8f1yrAyBADJ7', {'weight': 33}), ('rppqw4wueTs4vowBzcGm4MuhQBvkyHmY3P', 'rwMQ3L2oARqQngzamJEFzJcSHHCuVqhcU4', {'weight': 24}), ('rwMQ3L2oARqQngzamJEFzJcSHHCuVqhcU4', 'rppqw4wueTs4vowBzcGm4MuhQBvkyHmY3P', {'weight': 35}), ('rpqCHaih7gWptroejDupJfsrA1iPN1cbZi', 'rwiSnWYLPhsTxnQsWTNCF9C6KCW5vc754s', {'weight': 32}), ('rwiSnWYLPhsTxnQsWTNCF9C6KCW5vc754s', 'rpqCHaih7gWptroejDupJfsrA1iPN1cbZi', {'weight': 22}), ('rprzJpmqcCDA86cAAQSjDwe4pNiM43yAei', 'rsKsGYwu3zdnjGjzdjpWiVN56f6zmT7ARt', {'weight': 18}), ('rsKsGYwu3zdnjGjzdjpWiVN56f6zmT7ARt', 'rprzJpmqcCDA86cAAQSjDwe4pNiM43yAei', {'weight': 31}), ('rpwBRDgc9dttvL1rw91J6nAHEZmvVVpoUt', 'rwW83rpeE6YeTCeYUW2N7L2VQH1BtHV1rj', {'weight': 35}), ('rwW83rpeE6YeTCeYUW2N7L2VQH1BtHV1rj', 'rpwBRDgc9dttvL1rw91J6nAHEZmvVVpoUt', {'weight': 23}), ('rpwjHNaWvxysXbiyGc6HHGTa3Vxg16EY4j', 'rw2CBDCht6cmtHytivPkfSRwukFGNaB78o', {'weight': 32}), ('rw2CBDCht6cmtHytivPkfSRwukFGNaB78o', 'rpwjHNaWvxysXbiyGc6HHGTa3Vxg16EY4j', {'weight': 22}), ('rpz7auXDAGrMdUpS9AvDoVXuza8CTi3nW4', 'rsiyUVrNwYAcVqift3xtpbN6XKQ62sDyin', {'weight': 27}), ('rsiyUVrNwYAcVqift3xtpbN6XKQ62sDyin', 'rpz7auXDAGrMdUpS9AvDoVXuza8CTi3nW4', {'weight': 37}), ('rqCbupC8VP7gDUqGdYfKBfjqoFiGQQFPq', 'rrnVaULPQ7R67MU3NzcFTdeHrXwb2vDobN', {'weight': 33}), ('rrnVaULPQ7R67MU3NzcFTdeHrXwb2vDobN', 'rqCbupC8VP7gDUqGdYfKBfjqoFiGQQFPq', {'weight': 23}), ('rr3tokTFp2NhUjYCqFAytiPbJzxPwDE86', 'rwydfYRPmqwpTc36Dheqp5qVHgzseAx18E', {'weight': 37}), ('rwydfYRPmqwpTc36Dheqp5qVHgzseAx18E', 'rr3tokTFp2NhUjYCqFAytiPbJzxPwDE86', {'weight': 23}), ('rrhUxbK5z6MbzxpDi5sU6nLBvx3BeqZhaV', 'rsPNMg3gazNjiNwr9FkfmhcXS3oxvSySoN', {'weight': 22}), ('rsPNMg3gazNjiNwr9FkfmhcXS3oxvSySoN', 'rrhUxbK5z6MbzxpDi5sU6nLBvx3BeqZhaV', {'weight': 34}), ('rs4sSVAxAKbSAYGdGhhr65y41xNUBhZXmZ', 'rsE7yw7g2WkBBXdFRnTNpGUztT6dp5Dneu', {'weight': 33}), ('rsE7yw7g2WkBBXdFRnTNpGUztT6dp5Dneu', 'rs4sSVAxAKbSAYGdGhhr65y41xNUBhZXmZ', {'weight': 42}), ('rs5LcBfHQpSjvko8sAkND86TDoYCNZZarp', 'rsZJK6SvtoPaUYh9Yh28bS3LYxowuJgGq9', {'weight': 42}), ('rsZJK6SvtoPaUYh9Yh28bS3LYxowuJgGq9', 'rs5LcBfHQpSjvko8sAkND86TDoYCNZZarp', {'weight': 63}), ('rs5YibQamJggZV6dTKjwrAKydgY1pi12tb', 'rwSFs31gybdtgdFMdCYKCmSgyhq2VerBV4', {'weight': 28}), ('rwSFs31gybdtgdFMdCYKCmSgyhq2VerBV4', 'rs5YibQamJggZV6dTKjwrAKydgY1pi12tb', {'weight': 15}), ('rs9WWAGJav95AJqqCzkV8j9gFkbUbyxMh8', 'rwq6oGBjtYDBEEzsY1kYYGcv349Pw4Sj77', {'weight': 28}), ('rwq6oGBjtYDBEEzsY1kYYGcv349Pw4Sj77', 'rs9WWAGJav95AJqqCzkV8j9gFkbUbyxMh8', {'weight': 17}), ('rsBUERT7yrHF19cvuMjtjBJNCXAsGHzEoG', 'rsJfGPYnc8wsVSfyVp2QwoLc93SvptVntn', {'weight': 15}), ('rsJfGPYnc8wsVSfyVp2QwoLc93SvptVntn', 'rsBUERT7yrHF19cvuMjtjBJNCXAsGHzEoG', {'weight': 27}), ('rsC6bT88Qyhe2oxxNeRmkw638vBP4Tw5Ce', 'rwh73wH36fQkveRqHUiVigtzyirmyBpYaY', {'weight': 27}), ('rwh73wH36fQkveRqHUiVigtzyirmyBpYaY', 'rsC6bT88Qyhe2oxxNeRmkw638vBP4Tw5Ce', {'weight': 37}), ('rsHbVz9wEjBNv3JeYAhdeiH5fkwMcrQKcp', 'rsRakKtHriqV93WwPKXWMcQZ92fDKxVtoZ', {'weight': 33}), ('rsRakKtHriqV93WwPKXWMcQZ92fDKxVtoZ', 'rsHbVz9wEjBNv3JeYAhdeiH5fkwMcrQKcp', {'weight': 22}), ('rsR3rax5bDRfnyEgBoctDCBoaAjKZeuJgg', 'rchGBxcD1A1C2tdxF6papQYZ8kjRKMYcL', {'weight': 1}), ('rsXwPotAUVi5WTzZhg9GLFYLgriumnyqx5', 'rwgh6ztzdBe1rQVskgpKgxmuLuHj7XeREo', {'weight': 31}), ('rwgh6ztzdBe1rQVskgpKgxmuLuHj7XeREo', 'rsXwPotAUVi5WTzZhg9GLFYLgriumnyqx5', {'weight': 19}), ('rscW8rJa4wvawSddESjbyAMy7kTStQHpBQ', 'rwyT2tMBWR3SpQnj5jrnndPo2jn16Q8GMa', {'weight': 28}), ('rwyT2tMBWR3SpQnj5jrnndPo2jn16Q8GMa', 'rscW8rJa4wvawSddESjbyAMy7kTStQHpBQ', {'weight': 17}), ('rsgwrAAm3Jn1B3CDPeA4o1w3tXVd1oaGnj', 'rsx2oBk72hARxPbhoZmnem5DVd1rYWfmZK', {'weight': 1}), ('rsp3FTRECTUatVgTPe4SEd9UqrsQrH4vDw', 'rsp93mQkZkKoDcEFiC5UR7QEtF18Deq4fw', {'weight': 15}), ('rsp93mQkZkKoDcEFiC5UR7QEtF18Deq4fw', 'rsp3FTRECTUatVgTPe4SEd9UqrsQrH4vDw', {'weight': 24}), ('rspBVedzAciDpRMsGrrDL6ZzrBCY9Ct1UJ', 'rwGRnmCYQX9q7Ez3eWVKi3JooQivfcvKkD', {'weight': 20}), ('rwGRnmCYQX9q7Ez3eWVKi3JooQivfcvKkD', 'rspBVedzAciDpRMsGrrDL6ZzrBCY9Ct1UJ', {'weight': 36}), ('rsqZw4TZTajGZWvnMD5WdrLJykXkhunJjk', 'rwPVrwmAsmWUUWd7j1YWR6dzC5TYbumvCj', {'weight': 20}), ('rwPVrwmAsmWUUWd7j1YWR6dzC5TYbumvCj', 'rsqZw4TZTajGZWvnMD5WdrLJykXkhunJjk', {'weight': 29}), ('rsr29cQJAYXgoVhPSP4Z64V7SGkTZGYmVK', 'rsrvWMdEW7yFeaEqhZjZ1bP39jJFyDWNZZ', {'weight': 30}), ('rsrvWMdEW7yFeaEqhZjZ1bP39jJFyDWNZZ', 'rsr29cQJAYXgoVhPSP4Z64V7SGkTZGYmVK', {'weight': 21}), ('rsu9WTiQ4ybeqKL1mMY7Dd75mAaTwZxSLa', 'rwUJgG3pZpBRzhJ8TCVjubSuh6vwyf13Jb', {'weight': 20}), ('rwUJgG3pZpBRzhJ8TCVjubSuh6vwyf13Jb', 'rsu9WTiQ4ybeqKL1mMY7Dd75mAaTwZxSLa', {'weight': 32}), ('rsvFn4vEUWvdHmXj226W6bdEh1Kxh4pQZc', 'rwK7VM1eLAxKQK9SWzLFoRs2Y4ELbmmgqr', {'weight': 31}), ('rwK7VM1eLAxKQK9SWzLFoRs2Y4ELbmmgqr', 'rsvFn4vEUWvdHmXj226W6bdEh1Kxh4pQZc', {'weight': 21}), ('rsx6JJXee2CTJkyY7jW48o9Sd4ZnqtxACU', 'rwtYQPLtgLB6LBwjQakpFxtpA11yDVFRcR', {'weight': 19}), ('rwtYQPLtgLB6LBwjQakpFxtpA11yDVFRcR', 'rsx6JJXee2CTJkyY7jW48o9Sd4ZnqtxACU', {'weight': 30}), ('rvzZsgv7ZTi2nxJBMMsb3qqNFSm5rZPDn', 'rw4ghLYvVWKqCzWM4GDo1eLrpte9vdTL7J', {'weight': 31}), ('rw4ghLYvVWKqCzWM4GDo1eLrpte9vdTL7J', 'rvzZsgv7ZTi2nxJBMMsb3qqNFSm5rZPDn', {'weight': 16}), ('rw8zsKCVfEikZHg9Hi2dZeu2YEE2vB6xEc', 'rwfYoY82Camrwg2nZDdFnaCBVQ2PARjoMq', {'weight': 17}), ('rwfYoY82Camrwg2nZDdFnaCBVQ2PARjoMq', 'rw8zsKCVfEikZHg9Hi2dZeu2YEE2vB6xEc', {'weight': 29}), ('rwCddmzXdv6zkHFW5Z212SmQD6XMh8DCZ7', 'rwe5Z4axgihBkRMruJrTo4fU5oQjaUHMZC', {'weight': 41}), ('rwe5Z4axgihBkRMruJrTo4fU5oQjaUHMZC', 'rwCddmzXdv6zkHFW5Z212SmQD6XMh8DCZ7', {'weight': 31}), ('rwDNLdRoBcVDPnvjkTnH8fx5xbk4FEi1Q4', 'rwQKVox65XH1ymiF36MXV35tg81otaJE88', {'weight': 16}), ('rwQKVox65XH1ymiF36MXV35tg81otaJE88', 'rwDNLdRoBcVDPnvjkTnH8fx5xbk4FEi1Q4', {'weight': 31}), ('rwGL3Po7Xi5Z4jTpvAxmfmG1ZTcbqv5JQm', 'rwYrafxgmZfqKTBJJ3HkbfhaXz9dGyBWWQ', {'weight': 17}), ('rwYrafxgmZfqKTBJJ3HkbfhaXz9dGyBWWQ', 'rwGL3Po7Xi5Z4jTpvAxmfmG1ZTcbqv5JQm', {'weight': 28}), ('rwJdCVzrThFYKvn9bNc9g6Y6ZUoZMdsNc', 'rwsjpg3UpnDLvtkSTB8ZmfzQtsLYdax3Xv', {'weight': 50}), ('rwsjpg3UpnDLvtkSTB8ZmfzQtsLYdax3Xv', 'rwJdCVzrThFYKvn9bNc9g6Y6ZUoZMdsNc', {'weight': 42}), ('rwNJUoWXh4Jc4bPC9VwnEQgiq8GndxpPgN', 'rwjiVFarW6A5FiX7AZ1upwKLbw3CARyDTT', {'weight': 51}), ('rwjiVFarW6A5FiX7AZ1upwKLbw3CARyDTT', 'rwNJUoWXh4Jc4bPC9VwnEQgiq8GndxpPgN', {'weight': 43}), ('rwUrWHvugXwWsmRaovd64oXRdRfVpLeCsq', 'rwjbY6LjQ83VgSDAk1KYQHrnuemty9hko3', {'weight': 31}), ('rwjbY6LjQ83VgSDAk1KYQHrnuemty9hko3', 'rwUrWHvugXwWsmRaovd64oXRdRfVpLeCsq', {'weight': 21}), ('rwdUcTppGs1n1LyUxqemgteTLvwPPeBYb5', 'rwuJ7puptPJ5Zkh2A7TTNm4tWRbTFUAEUG', {'weight': 59}), ('rwuJ7puptPJ5Zkh2A7TTNm4tWRbTFUAEUG', 'rwdUcTppGs1n1LyUxqemgteTLvwPPeBYb5', {'weight': 80}), ('rwiwvXEdHUZf3D3XXDZTz3eByLPMizv8xV', 'rwp9JYiqR3G2mZQGCsATt4AcFhVfvafzLU', {'weight': 13}), ('rwp9JYiqR3G2mZQGCsATt4AcFhVfvafzLU', 'rwiwvXEdHUZf3D3XXDZTz3eByLPMizv8xV', {'weight': 22}), ('rwokwCmWAJbeT1ULcD4aaBRwXthGpA6q1x', 'rx2jpUtHQVKV8N5cyvme2SVsMdEkjzb2c', {'weight': 16}), ('rx2jpUtHQVKV8N5cyvme2SVsMdEkjzb2c', 'rwokwCmWAJbeT1ULcD4aaBRwXthGpA6q1x', {'weight': 27}), ('rwrHLrcmSf1XpRoVHpCxrfrSM99hYspFr3', 'rwrHLrcmSf1XpRoVHpCxrfrSM99hYspFr3', {'weight': 223})])"
      ]
     },
     "execution_count": 88,
     "metadata": {},
     "output_type": "execute_result"
    }
   ],
   "source": [
    "G = nx.DiGraph()\n",
    "edges_list = list(zip(df3.Account,df3.Destination,df3.value))\n",
    "G.add_weighted_edges_from(edges_list)\n",
    "\n",
    "G.edges(data=True)"
   ]
  },
  {
   "cell_type": "code",
   "execution_count": null,
   "metadata": {},
   "outputs": [],
   "source": [
    "nx.draw(G, pos=nx.spring_layout(G))"
   ]
  },
  {
   "cell_type": "code",
   "execution_count": 89,
   "metadata": {},
   "outputs": [
    {
     "name": "stderr",
     "output_type": "stream",
     "text": [
      "/Users/charlesgarnot/opt/anaconda3/lib/python3.7/site-packages/networkx/drawing/nx_pylab.py:676: MatplotlibDeprecationWarning:\n",
      "\n",
      "\n",
      "The iterable function was deprecated in Matplotlib 3.1 and will be removed in 3.3. Use np.iterable instead.\n",
      "\n"
     ]
    },
    {
     "data": {
      "image/png": "[encoded data removed]",
      "text/plain": [
       "<Figure size 432x288 with 1 Axes>"
      ]
     },
     "metadata": {},
     "output_type": "display_data"
    }
   ],
   "source": [
    "nx.draw(G)"
   ]
  },
  {
   "cell_type": "code",
   "execution_count": null,
   "metadata": {},
   "outputs": [],
   "source": []
  }
 ],
 "metadata": {
  "kernelspec": {
   "display_name": "Python 3",
   "language": "python",
   "name": "python3"
  },
  "language_info": {
   "codemirror_mode": {
    "name": "ipython",
    "version": 3
   },
   "file_extension": ".py",
   "mimetype": "text/x-python",
   "name": "python",
   "nbconvert_exporter": "python",
   "pygments_lexer": "ipython3",
   "version": "3.7.4"
  }
 },
 "nbformat": 4,
 "nbformat_minor": 2
}
