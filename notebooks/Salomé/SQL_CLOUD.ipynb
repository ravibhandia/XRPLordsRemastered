{
 "cells": [
  {
   "cell_type": "code",
   "execution_count": 185,
   "metadata": {
    "scrolled": true
   },
   "outputs": [],
   "source": [
    "import pandas as pd\n",
    "import seaborn as sns\n",
    "import numpy as np\n",
    "import matplotlib.pyplot as plt\n",
    "import matplotlib.patches as mpatches\n",
    "%matplotlib inline"
   ]
  },
  {
   "cell_type": "code",
   "execution_count": 216,
   "metadata": {
    "scrolled": true
   },
   "outputs": [
    {
     "data": {
      "text/plain": [
       "(379225, 10)"
      ]
     },
     "execution_count": 216,
     "metadata": {},
     "output_type": "execute_result"
    }
   ],
   "source": [
    "l = pd.read_csv('ledgers.csv')\n",
    "l.shape"
   ]
  },
  {
   "cell_type": "code",
   "execution_count": 290,
   "metadata": {},
   "outputs": [
    {
     "data": {
      "text/plain": [
       "Index(['Unnamed: 0', 'LedgerIndex', 'hash', 'CloseTime', 'CloseTimeTimestamp',\n",
       "       'CloseTimeHuman', 'TotalCoins', 'ParentHash', 'AccountHash',\n",
       "       'TransactionHash'],\n",
       "      dtype='object')"
      ]
     },
     "execution_count": 290,
     "metadata": {},
     "output_type": "execute_result"
    }
   ],
   "source": [
    "l.columns"
   ]
  },
  {
   "cell_type": "code",
   "execution_count": 219,
   "metadata": {
    "scrolled": true
   },
   "outputs": [],
   "source": [
    "t = pd.read_csv('transactions.csv')"
   ]
  },
  {
   "cell_type": "code",
   "execution_count": 220,
   "metadata": {
    "scrolled": true
   },
   "outputs": [
    {
     "data": {
      "text/plain": [
       "0        NaN\n",
       "1        NaN\n",
       "2        NaN\n",
       "3        NaN\n",
       "4        NaN\n",
       "        ... \n",
       "99995    NaN\n",
       "99996    NaN\n",
       "99997    NaN\n",
       "99998    NaN\n",
       "99999    NaN\n",
       "Name: TakerGetsDEX, Length: 100000, dtype: object"
      ]
     },
     "execution_count": 220,
     "metadata": {},
     "output_type": "execute_result"
    }
   ],
   "source": [
    "t['TakerGetsDEX']"
   ]
  },
  {
   "cell_type": "markdown",
   "metadata": {},
   "source": [
    "Value has to be normalized into USD for example"
   ]
  },
  {
   "cell_type": "code",
   "execution_count": 221,
   "metadata": {
    "scrolled": true
   },
   "outputs": [
    {
     "data": {
      "text/html": [
       "<div>\n",
       "<style scoped>\n",
       "    .dataframe tbody tr th:only-of-type {\n",
       "        vertical-align: middle;\n",
       "    }\n",
       "\n",
       "    .dataframe tbody tr th {\n",
       "        vertical-align: top;\n",
       "    }\n",
       "\n",
       "    .dataframe thead th {\n",
       "        text-align: right;\n",
       "    }\n",
       "</style>\n",
       "<table border=\"1\" class=\"dataframe\">\n",
       "  <thead>\n",
       "    <tr style=\"text-align: right;\">\n",
       "      <th></th>\n",
       "      <th>TransactionType</th>\n",
       "      <th>Fee</th>\n",
       "    </tr>\n",
       "  </thead>\n",
       "  <tbody>\n",
       "    <tr>\n",
       "      <th>0</th>\n",
       "      <td>AccountSet</td>\n",
       "      <td>1815</td>\n",
       "    </tr>\n",
       "    <tr>\n",
       "      <th>1</th>\n",
       "      <td>OfferCancel</td>\n",
       "      <td>48820</td>\n",
       "    </tr>\n",
       "    <tr>\n",
       "      <th>2</th>\n",
       "      <td>OfferCreate</td>\n",
       "      <td>36823</td>\n",
       "    </tr>\n",
       "    <tr>\n",
       "      <th>3</th>\n",
       "      <td>Payment</td>\n",
       "      <td>12394</td>\n",
       "    </tr>\n",
       "    <tr>\n",
       "      <th>4</th>\n",
       "      <td>SignerListSet</td>\n",
       "      <td>1</td>\n",
       "    </tr>\n",
       "    <tr>\n",
       "      <th>5</th>\n",
       "      <td>TrustSet</td>\n",
       "      <td>147</td>\n",
       "    </tr>\n",
       "  </tbody>\n",
       "</table>\n",
       "</div>"
      ],
      "text/plain": [
       "  TransactionType    Fee\n",
       "0      AccountSet   1815\n",
       "1     OfferCancel  48820\n",
       "2     OfferCreate  36823\n",
       "3         Payment  12394\n",
       "4   SignerListSet      1\n",
       "5        TrustSet    147"
      ]
     },
     "execution_count": 221,
     "metadata": {},
     "output_type": "execute_result"
    }
   ],
   "source": [
    "t.groupby('TransactionType').Fee.count().to_frame().reset_index()"
   ]
  },
  {
   "cell_type": "code",
   "execution_count": 222,
   "metadata": {},
   "outputs": [
    {
     "data": {
      "text/plain": [
       "(100000, 66)"
      ]
     },
     "execution_count": 222,
     "metadata": {},
     "output_type": "execute_result"
    }
   ],
   "source": [
    "t.shape"
   ]
  },
  {
   "cell_type": "code",
   "execution_count": 223,
   "metadata": {},
   "outputs": [],
   "source": [
    "df0 = t.groupby('currency').Fee.count().to_frame().reset_index()"
   ]
  },
  {
   "cell_type": "code",
   "execution_count": 224,
   "metadata": {},
   "outputs": [
    {
     "data": {
      "text/html": [
       "<div>\n",
       "<style scoped>\n",
       "    .dataframe tbody tr th:only-of-type {\n",
       "        vertical-align: middle;\n",
       "    }\n",
       "\n",
       "    .dataframe tbody tr th {\n",
       "        vertical-align: top;\n",
       "    }\n",
       "\n",
       "    .dataframe thead th {\n",
       "        text-align: right;\n",
       "    }\n",
       "</style>\n",
       "<table border=\"1\" class=\"dataframe\">\n",
       "  <thead>\n",
       "    <tr style=\"text-align: right;\">\n",
       "      <th></th>\n",
       "      <th>currency</th>\n",
       "      <th>Fee</th>\n",
       "    </tr>\n",
       "  </thead>\n",
       "  <tbody>\n",
       "    <tr>\n",
       "      <th>0</th>\n",
       "      <td>AUD</td>\n",
       "      <td>7</td>\n",
       "    </tr>\n",
       "    <tr>\n",
       "      <th>1</th>\n",
       "      <td>BSD</td>\n",
       "      <td>9</td>\n",
       "    </tr>\n",
       "    <tr>\n",
       "      <th>2</th>\n",
       "      <td>BTC</td>\n",
       "      <td>662</td>\n",
       "    </tr>\n",
       "    <tr>\n",
       "      <th>3</th>\n",
       "      <td>BTS</td>\n",
       "      <td>19</td>\n",
       "    </tr>\n",
       "    <tr>\n",
       "      <th>4</th>\n",
       "      <td>CCK</td>\n",
       "      <td>75</td>\n",
       "    </tr>\n",
       "    <tr>\n",
       "      <th>5</th>\n",
       "      <td>CNY</td>\n",
       "      <td>138</td>\n",
       "    </tr>\n",
       "    <tr>\n",
       "      <th>6</th>\n",
       "      <td>ETC</td>\n",
       "      <td>2</td>\n",
       "    </tr>\n",
       "    <tr>\n",
       "      <th>7</th>\n",
       "      <td>ETH</td>\n",
       "      <td>8</td>\n",
       "    </tr>\n",
       "    <tr>\n",
       "      <th>8</th>\n",
       "      <td>EUR</td>\n",
       "      <td>10</td>\n",
       "    </tr>\n",
       "    <tr>\n",
       "      <th>9</th>\n",
       "      <td>GBP</td>\n",
       "      <td>1</td>\n",
       "    </tr>\n",
       "    <tr>\n",
       "      <th>10</th>\n",
       "      <td>GCB</td>\n",
       "      <td>54</td>\n",
       "    </tr>\n",
       "    <tr>\n",
       "      <th>11</th>\n",
       "      <td>IDR</td>\n",
       "      <td>1</td>\n",
       "    </tr>\n",
       "    <tr>\n",
       "      <th>12</th>\n",
       "      <td>ILS</td>\n",
       "      <td>3</td>\n",
       "    </tr>\n",
       "    <tr>\n",
       "      <th>13</th>\n",
       "      <td>JPY</td>\n",
       "      <td>1101</td>\n",
       "    </tr>\n",
       "    <tr>\n",
       "      <th>14</th>\n",
       "      <td>JUD</td>\n",
       "      <td>3</td>\n",
       "    </tr>\n",
       "    <tr>\n",
       "      <th>15</th>\n",
       "      <td>KRW</td>\n",
       "      <td>3</td>\n",
       "    </tr>\n",
       "    <tr>\n",
       "      <th>16</th>\n",
       "      <td>LBR</td>\n",
       "      <td>1</td>\n",
       "    </tr>\n",
       "    <tr>\n",
       "      <th>17</th>\n",
       "      <td>RIP</td>\n",
       "      <td>10</td>\n",
       "    </tr>\n",
       "    <tr>\n",
       "      <th>18</th>\n",
       "      <td>RJP</td>\n",
       "      <td>1</td>\n",
       "    </tr>\n",
       "    <tr>\n",
       "      <th>19</th>\n",
       "      <td>STM</td>\n",
       "      <td>52</td>\n",
       "    </tr>\n",
       "    <tr>\n",
       "      <th>20</th>\n",
       "      <td>USD</td>\n",
       "      <td>1299</td>\n",
       "    </tr>\n",
       "    <tr>\n",
       "      <th>21</th>\n",
       "      <td>XIA</td>\n",
       "      <td>2</td>\n",
       "    </tr>\n",
       "    <tr>\n",
       "      <th>22</th>\n",
       "      <td>XLM</td>\n",
       "      <td>39</td>\n",
       "    </tr>\n",
       "    <tr>\n",
       "      <th>23</th>\n",
       "      <td>ZDK</td>\n",
       "      <td>1</td>\n",
       "    </tr>\n",
       "  </tbody>\n",
       "</table>\n",
       "</div>"
      ],
      "text/plain": [
       "   currency   Fee\n",
       "0       AUD     7\n",
       "1       BSD     9\n",
       "2       BTC   662\n",
       "3       BTS    19\n",
       "4       CCK    75\n",
       "5       CNY   138\n",
       "6       ETC     2\n",
       "7       ETH     8\n",
       "8       EUR    10\n",
       "9       GBP     1\n",
       "10      GCB    54\n",
       "11      IDR     1\n",
       "12      ILS     3\n",
       "13      JPY  1101\n",
       "14      JUD     3\n",
       "15      KRW     3\n",
       "16      LBR     1\n",
       "17      RIP    10\n",
       "18      RJP     1\n",
       "19      STM    52\n",
       "20      USD  1299\n",
       "21      XIA     2\n",
       "22      XLM    39\n",
       "23      ZDK     1"
      ]
     },
     "execution_count": 224,
     "metadata": {},
     "output_type": "execute_result"
    }
   ],
   "source": [
    "df0"
   ]
  },
  {
   "cell_type": "code",
   "execution_count": 225,
   "metadata": {
    "scrolled": true
   },
   "outputs": [
    {
     "data": {
      "image/png": "[encoded data removed]",
      "text/plain": [
       "<Figure size 1080x432 with 1 Axes>"
      ]
     },
     "metadata": {
      "needs_background": "light"
     },
     "output_type": "display_data"
    }
   ],
   "source": [
    "fig = plt.figure(figsize=(15,6))\n",
    "\n",
    "x = df0['currency']   \n",
    "y = df0['Fee']\n",
    "\n",
    "barlist = plt.bar(x,y, color='cyan')\n",
    "barlist[0].set_color('magenta')\n",
    "barlist[1].set_color('magenta')\n",
    "barlist[3].set_color('magenta')\n",
    "\n",
    "plt.xlabel('Currency') \n",
    "plt.ylabel('number of transaction')\n",
    "plt.title('Number of transactions per currency starting 2018-01-25 ending 2020-01-25 limited to 100,000 rows')\n",
    "\n",
    "#NA = mpatches.Patch(color='cyan', label='BTC: 24199')\n",
    "#BRL = mpatches.Patch(color='magenta', label='BRL: 438')\n",
    "#AGC = mpatches.Patch(color='magenta', label='AGC: 549')\n",
    "#ADA = mpatches.Patch(color='magenta', label='ADA: 25')\n",
    "#AUD = mpatches.Patch(color='magenta', label='AUD: 2')\n",
    "#plt.legend(handles=[NA,BRL,AGC,ADA,AUD], loc=2)\n",
    "\n",
    "fig.savefig('plot0.png')\n",
    "\n",
    "plt.show()"
   ]
  },
  {
   "cell_type": "markdown",
   "metadata": {},
   "source": [
    "## Most transactions used BTC"
   ]
  },
  {
   "cell_type": "code",
   "execution_count": 226,
   "metadata": {},
   "outputs": [],
   "source": [
    "df1 = t.groupby('currency').Fee.mean().to_frame().reset_index()"
   ]
  },
  {
   "cell_type": "code",
   "execution_count": 227,
   "metadata": {},
   "outputs": [
    {
     "data": {
      "text/html": [
       "<div>\n",
       "<style scoped>\n",
       "    .dataframe tbody tr th:only-of-type {\n",
       "        vertical-align: middle;\n",
       "    }\n",
       "\n",
       "    .dataframe tbody tr th {\n",
       "        vertical-align: top;\n",
       "    }\n",
       "\n",
       "    .dataframe thead th {\n",
       "        text-align: right;\n",
       "    }\n",
       "</style>\n",
       "<table border=\"1\" class=\"dataframe\">\n",
       "  <thead>\n",
       "    <tr style=\"text-align: right;\">\n",
       "      <th></th>\n",
       "      <th>currency</th>\n",
       "      <th>Fee</th>\n",
       "    </tr>\n",
       "  </thead>\n",
       "  <tbody>\n",
       "    <tr>\n",
       "      <th>0</th>\n",
       "      <td>AUD</td>\n",
       "      <td>14289.142857</td>\n",
       "    </tr>\n",
       "    <tr>\n",
       "      <th>1</th>\n",
       "      <td>BSD</td>\n",
       "      <td>12.000000</td>\n",
       "    </tr>\n",
       "    <tr>\n",
       "      <th>2</th>\n",
       "      <td>BTC</td>\n",
       "      <td>25072.394260</td>\n",
       "    </tr>\n",
       "    <tr>\n",
       "      <th>3</th>\n",
       "      <td>BTS</td>\n",
       "      <td>6588.789474</td>\n",
       "    </tr>\n",
       "    <tr>\n",
       "      <th>4</th>\n",
       "      <td>CCK</td>\n",
       "      <td>4539.893333</td>\n",
       "    </tr>\n",
       "    <tr>\n",
       "      <th>5</th>\n",
       "      <td>CNY</td>\n",
       "      <td>18492.463768</td>\n",
       "    </tr>\n",
       "    <tr>\n",
       "      <th>6</th>\n",
       "      <td>ETC</td>\n",
       "      <td>10.000000</td>\n",
       "    </tr>\n",
       "    <tr>\n",
       "      <th>7</th>\n",
       "      <td>ETH</td>\n",
       "      <td>15634.375000</td>\n",
       "    </tr>\n",
       "    <tr>\n",
       "      <th>8</th>\n",
       "      <td>EUR</td>\n",
       "      <td>5811.800000</td>\n",
       "    </tr>\n",
       "    <tr>\n",
       "      <th>9</th>\n",
       "      <td>GBP</td>\n",
       "      <td>12.000000</td>\n",
       "    </tr>\n",
       "    <tr>\n",
       "      <th>10</th>\n",
       "      <td>GCB</td>\n",
       "      <td>3717.185185</td>\n",
       "    </tr>\n",
       "    <tr>\n",
       "      <th>11</th>\n",
       "      <td>IDR</td>\n",
       "      <td>20000.000000</td>\n",
       "    </tr>\n",
       "    <tr>\n",
       "      <th>12</th>\n",
       "      <td>ILS</td>\n",
       "      <td>25000.000000</td>\n",
       "    </tr>\n",
       "    <tr>\n",
       "      <th>13</th>\n",
       "      <td>JPY</td>\n",
       "      <td>11956.523161</td>\n",
       "    </tr>\n",
       "    <tr>\n",
       "      <th>14</th>\n",
       "      <td>JUD</td>\n",
       "      <td>12.000000</td>\n",
       "    </tr>\n",
       "    <tr>\n",
       "      <th>15</th>\n",
       "      <td>KRW</td>\n",
       "      <td>10.000000</td>\n",
       "    </tr>\n",
       "    <tr>\n",
       "      <th>16</th>\n",
       "      <td>LBR</td>\n",
       "      <td>6228.000000</td>\n",
       "    </tr>\n",
       "    <tr>\n",
       "      <th>17</th>\n",
       "      <td>RIP</td>\n",
       "      <td>10.000000</td>\n",
       "    </tr>\n",
       "    <tr>\n",
       "      <th>18</th>\n",
       "      <td>RJP</td>\n",
       "      <td>12.000000</td>\n",
       "    </tr>\n",
       "    <tr>\n",
       "      <th>19</th>\n",
       "      <td>STM</td>\n",
       "      <td>1448.538462</td>\n",
       "    </tr>\n",
       "    <tr>\n",
       "      <th>20</th>\n",
       "      <td>USD</td>\n",
       "      <td>13114.703618</td>\n",
       "    </tr>\n",
       "    <tr>\n",
       "      <th>21</th>\n",
       "      <td>XIA</td>\n",
       "      <td>12.000000</td>\n",
       "    </tr>\n",
       "    <tr>\n",
       "      <th>22</th>\n",
       "      <td>XLM</td>\n",
       "      <td>62052.974359</td>\n",
       "    </tr>\n",
       "    <tr>\n",
       "      <th>23</th>\n",
       "      <td>ZDK</td>\n",
       "      <td>12.000000</td>\n",
       "    </tr>\n",
       "  </tbody>\n",
       "</table>\n",
       "</div>"
      ],
      "text/plain": [
       "   currency           Fee\n",
       "0       AUD  14289.142857\n",
       "1       BSD     12.000000\n",
       "2       BTC  25072.394260\n",
       "3       BTS   6588.789474\n",
       "4       CCK   4539.893333\n",
       "5       CNY  18492.463768\n",
       "6       ETC     10.000000\n",
       "7       ETH  15634.375000\n",
       "8       EUR   5811.800000\n",
       "9       GBP     12.000000\n",
       "10      GCB   3717.185185\n",
       "11      IDR  20000.000000\n",
       "12      ILS  25000.000000\n",
       "13      JPY  11956.523161\n",
       "14      JUD     12.000000\n",
       "15      KRW     10.000000\n",
       "16      LBR   6228.000000\n",
       "17      RIP     10.000000\n",
       "18      RJP     12.000000\n",
       "19      STM   1448.538462\n",
       "20      USD  13114.703618\n",
       "21      XIA     12.000000\n",
       "22      XLM  62052.974359\n",
       "23      ZDK     12.000000"
      ]
     },
     "execution_count": 227,
     "metadata": {},
     "output_type": "execute_result"
    }
   ],
   "source": [
    "df1"
   ]
  },
  {
   "cell_type": "code",
   "execution_count": 228,
   "metadata": {
    "scrolled": true
   },
   "outputs": [
    {
     "data": {
      "image/png": "[encoded data removed]",
      "text/plain": [
       "<Figure size 1080x432 with 1 Axes>"
      ]
     },
     "metadata": {
      "needs_background": "light"
     },
     "output_type": "display_data"
    }
   ],
   "source": [
    "fig = plt.figure(figsize=(15,6))\n",
    "\n",
    "x = df1['currency']   \n",
    "y = df1['Fee']\n",
    "\n",
    "barlist = plt.bar(x,y, color='magenta')\n",
    "barlist[2].set_color('cyan')\n",
    "\n",
    "plt.xlabel('Currency') \n",
    "plt.ylabel('fee means')\n",
    "plt.title('Means of total fees per currency starting 2018-01-25 ending 2020-01-25 limited to 100,000 rows')\n",
    "\n",
    "#NA = mpatches.Patch(color='magenta', label='BTC: 683.4')\n",
    "#BRL = mpatches.Patch(color='magenta', label='BRL: 614.82')\n",
    "#AGC = mpatches.Patch(color='magenta', label='AGC: 1000')\n",
    "#ADA = mpatches.Patch(color='magenta', label='ADA: 231.36')\n",
    "#AUD = mpatches.Patch(color='cyan', label='AUD: 10,006')\n",
    "#plt.legend(handles=[AUD,AGC,NA,BRL,ADA], loc=2)\n",
    "\n",
    "fig.savefig('plot1.png')\n",
    "plt.show()"
   ]
  },
  {
   "cell_type": "markdown",
   "metadata": {},
   "source": [
    "## Why are the fees so important for BTC & XLM transactions?"
   ]
  },
  {
   "cell_type": "code",
   "execution_count": 289,
   "metadata": {
    "scrolled": true
   },
   "outputs": [
    {
     "data": {
      "text/plain": [
       "<matplotlib.axes._subplots.AxesSubplot at 0x1efeecb20>"
      ]
     },
     "execution_count": 289,
     "metadata": {},
     "output_type": "execute_result"
    },
    {
     "data": {
      "image/png": "[encoded data removed]",
      "text/plain": [
       "<Figure size 432x288 with 1 Axes>"
      ]
     },
     "metadata": {
      "needs_background": "light"
     },
     "output_type": "display_data"
    }
   ],
   "source": [
    "sns.distplot(t['Fee'])"
   ]
  },
  {
   "cell_type": "markdown",
   "metadata": {},
   "source": [
    "#### I assume that 'value' is the amount of XRP that have been transacted"
   ]
  },
  {
   "cell_type": "code",
   "execution_count": 230,
   "metadata": {
    "scrolled": true
   },
   "outputs": [],
   "source": [
    "df2 = t.groupby(['issuer']).Fee.count().to_frame().reset_index()"
   ]
  },
  {
   "cell_type": "code",
   "execution_count": 231,
   "metadata": {
    "scrolled": false
   },
   "outputs": [
    {
     "data": {
      "text/html": [
       "<div>\n",
       "<style scoped>\n",
       "    .dataframe tbody tr th:only-of-type {\n",
       "        vertical-align: middle;\n",
       "    }\n",
       "\n",
       "    .dataframe tbody tr th {\n",
       "        vertical-align: top;\n",
       "    }\n",
       "\n",
       "    .dataframe thead th {\n",
       "        text-align: right;\n",
       "    }\n",
       "</style>\n",
       "<table border=\"1\" class=\"dataframe\">\n",
       "  <thead>\n",
       "    <tr style=\"text-align: right;\">\n",
       "      <th></th>\n",
       "      <th>issuer</th>\n",
       "      <th>Fee</th>\n",
       "    </tr>\n",
       "  </thead>\n",
       "  <tbody>\n",
       "    <tr>\n",
       "      <th>0</th>\n",
       "      <td>r42jqJUTJamGf9siccodfvijwFEBixucEG</td>\n",
       "      <td>8</td>\n",
       "    </tr>\n",
       "    <tr>\n",
       "      <th>1</th>\n",
       "      <td>r4MmkWD7XjZuHGypMgerCRzi1Z4TFs9kwQ</td>\n",
       "      <td>1</td>\n",
       "    </tr>\n",
       "    <tr>\n",
       "      <th>2</th>\n",
       "      <td>r4VybA9rPTD7oXZ38Ewy442bZ4F2uHfaZe</td>\n",
       "      <td>4</td>\n",
       "    </tr>\n",
       "    <tr>\n",
       "      <th>3</th>\n",
       "      <td>r4icMmWMEotydoxMe8paYCP2qo2hzpxTUU</td>\n",
       "      <td>1</td>\n",
       "    </tr>\n",
       "    <tr>\n",
       "      <th>4</th>\n",
       "      <td>r94s8px6kSw1uZ1MV98dhSRTvc6VMPoPcN</td>\n",
       "      <td>1090</td>\n",
       "    </tr>\n",
       "    <tr>\n",
       "      <th>...</th>\n",
       "      <td>...</td>\n",
       "      <td>...</td>\n",
       "    </tr>\n",
       "    <tr>\n",
       "      <th>85</th>\n",
       "      <td>rwHNLDQJhnfGipfDRWNXUCDw5GHUowg9so</td>\n",
       "      <td>1</td>\n",
       "    </tr>\n",
       "    <tr>\n",
       "      <th>86</th>\n",
       "      <td>rwNv9SQHvBwVnntYpCWGHDhFQwkf9Zjfe1</td>\n",
       "      <td>1</td>\n",
       "    </tr>\n",
       "    <tr>\n",
       "      <th>87</th>\n",
       "      <td>rwdRVQZgJYsXaa6mbAvbPh45JLrhcBEDbR</td>\n",
       "      <td>1</td>\n",
       "    </tr>\n",
       "    <tr>\n",
       "      <th>88</th>\n",
       "      <td>rwjwQbWvjtmFNWNLeM3HHAxnfUKBBjn3TJ</td>\n",
       "      <td>1</td>\n",
       "    </tr>\n",
       "    <tr>\n",
       "      <th>89</th>\n",
       "      <td>rwz65qChamzmqMguSSWHXYo2FBvPUsJuQR</td>\n",
       "      <td>1</td>\n",
       "    </tr>\n",
       "  </tbody>\n",
       "</table>\n",
       "<p>90 rows × 2 columns</p>\n",
       "</div>"
      ],
      "text/plain": [
       "                                issuer   Fee\n",
       "0   r42jqJUTJamGf9siccodfvijwFEBixucEG     8\n",
       "1   r4MmkWD7XjZuHGypMgerCRzi1Z4TFs9kwQ     1\n",
       "2   r4VybA9rPTD7oXZ38Ewy442bZ4F2uHfaZe     4\n",
       "3   r4icMmWMEotydoxMe8paYCP2qo2hzpxTUU     1\n",
       "4   r94s8px6kSw1uZ1MV98dhSRTvc6VMPoPcN  1090\n",
       "..                                 ...   ...\n",
       "85  rwHNLDQJhnfGipfDRWNXUCDw5GHUowg9so     1\n",
       "86  rwNv9SQHvBwVnntYpCWGHDhFQwkf9Zjfe1     1\n",
       "87  rwdRVQZgJYsXaa6mbAvbPh45JLrhcBEDbR     1\n",
       "88  rwjwQbWvjtmFNWNLeM3HHAxnfUKBBjn3TJ     1\n",
       "89  rwz65qChamzmqMguSSWHXYo2FBvPUsJuQR     1\n",
       "\n",
       "[90 rows x 2 columns]"
      ]
     },
     "execution_count": 231,
     "metadata": {},
     "output_type": "execute_result"
    }
   ],
   "source": [
    "df2"
   ]
  },
  {
   "cell_type": "code",
   "execution_count": 248,
   "metadata": {},
   "outputs": [
    {
     "data": {
      "text/plain": [
       "1090"
      ]
     },
     "execution_count": 248,
     "metadata": {},
     "output_type": "execute_result"
    }
   ],
   "source": [
    "df2.Fee.max()"
   ]
  },
  {
   "cell_type": "code",
   "execution_count": 234,
   "metadata": {},
   "outputs": [
    {
     "data": {
      "text/html": [
       "<div>\n",
       "<style scoped>\n",
       "    .dataframe tbody tr th:only-of-type {\n",
       "        vertical-align: middle;\n",
       "    }\n",
       "\n",
       "    .dataframe tbody tr th {\n",
       "        vertical-align: top;\n",
       "    }\n",
       "\n",
       "    .dataframe thead th {\n",
       "        text-align: right;\n",
       "    }\n",
       "</style>\n",
       "<table border=\"1\" class=\"dataframe\">\n",
       "  <thead>\n",
       "    <tr style=\"text-align: right;\">\n",
       "      <th></th>\n",
       "      <th>issuer</th>\n",
       "      <th>Fee</th>\n",
       "    </tr>\n",
       "  </thead>\n",
       "  <tbody>\n",
       "    <tr>\n",
       "      <th>4</th>\n",
       "      <td>r94s8px6kSw1uZ1MV98dhSRTvc6VMPoPcN</td>\n",
       "      <td>1090</td>\n",
       "    </tr>\n",
       "  </tbody>\n",
       "</table>\n",
       "</div>"
      ],
      "text/plain": [
       "                               issuer   Fee\n",
       "4  r94s8px6kSw1uZ1MV98dhSRTvc6VMPoPcN  1090"
      ]
     },
     "execution_count": 234,
     "metadata": {},
     "output_type": "execute_result"
    }
   ],
   "source": [
    "df2[df2['Fee'] == 1090 ]"
   ]
  },
  {
   "cell_type": "markdown",
   "metadata": {},
   "source": [
    "The issuer 'r94s8px6kSw1uZ1MV98dhSRTvc6VMPoPcN' has done the most important number of transactions compared to other issuers. Let's learn about their transactions."
   ]
  },
  {
   "cell_type": "markdown",
   "metadata": {},
   "source": [
    " 1 AUD to USD = 0.682717 US Dollars"
   ]
  },
  {
   "cell_type": "code",
   "execution_count": 246,
   "metadata": {},
   "outputs": [],
   "source": [
    "df3 = t.groupby(['issuer']).Fee.sum().to_frame().reset_index()"
   ]
  },
  {
   "cell_type": "code",
   "execution_count": 247,
   "metadata": {},
   "outputs": [
    {
     "data": {
      "text/html": [
       "<div>\n",
       "<style scoped>\n",
       "    .dataframe tbody tr th:only-of-type {\n",
       "        vertical-align: middle;\n",
       "    }\n",
       "\n",
       "    .dataframe tbody tr th {\n",
       "        vertical-align: top;\n",
       "    }\n",
       "\n",
       "    .dataframe thead th {\n",
       "        text-align: right;\n",
       "    }\n",
       "</style>\n",
       "<table border=\"1\" class=\"dataframe\">\n",
       "  <thead>\n",
       "    <tr style=\"text-align: right;\">\n",
       "      <th></th>\n",
       "      <th>issuer</th>\n",
       "      <th>Fee</th>\n",
       "    </tr>\n",
       "  </thead>\n",
       "  <tbody>\n",
       "    <tr>\n",
       "      <th>0</th>\n",
       "      <td>r42jqJUTJamGf9siccodfvijwFEBixucEG</td>\n",
       "      <td>80000</td>\n",
       "    </tr>\n",
       "    <tr>\n",
       "      <th>1</th>\n",
       "      <td>r4MmkWD7XjZuHGypMgerCRzi1Z4TFs9kwQ</td>\n",
       "      <td>20000</td>\n",
       "    </tr>\n",
       "    <tr>\n",
       "      <th>2</th>\n",
       "      <td>r4VybA9rPTD7oXZ38Ewy442bZ4F2uHfaZe</td>\n",
       "      <td>40</td>\n",
       "    </tr>\n",
       "    <tr>\n",
       "      <th>3</th>\n",
       "      <td>r4icMmWMEotydoxMe8paYCP2qo2hzpxTUU</td>\n",
       "      <td>12</td>\n",
       "    </tr>\n",
       "    <tr>\n",
       "      <th>4</th>\n",
       "      <td>r94s8px6kSw1uZ1MV98dhSRTvc6VMPoPcN</td>\n",
       "      <td>13164000</td>\n",
       "    </tr>\n",
       "    <tr>\n",
       "      <th>...</th>\n",
       "      <td>...</td>\n",
       "      <td>...</td>\n",
       "    </tr>\n",
       "    <tr>\n",
       "      <th>85</th>\n",
       "      <td>rwHNLDQJhnfGipfDRWNXUCDw5GHUowg9so</td>\n",
       "      <td>12</td>\n",
       "    </tr>\n",
       "    <tr>\n",
       "      <th>86</th>\n",
       "      <td>rwNv9SQHvBwVnntYpCWGHDhFQwkf9Zjfe1</td>\n",
       "      <td>12</td>\n",
       "    </tr>\n",
       "    <tr>\n",
       "      <th>87</th>\n",
       "      <td>rwdRVQZgJYsXaa6mbAvbPh45JLrhcBEDbR</td>\n",
       "      <td>12</td>\n",
       "    </tr>\n",
       "    <tr>\n",
       "      <th>88</th>\n",
       "      <td>rwjwQbWvjtmFNWNLeM3HHAxnfUKBBjn3TJ</td>\n",
       "      <td>12</td>\n",
       "    </tr>\n",
       "    <tr>\n",
       "      <th>89</th>\n",
       "      <td>rwz65qChamzmqMguSSWHXYo2FBvPUsJuQR</td>\n",
       "      <td>12</td>\n",
       "    </tr>\n",
       "  </tbody>\n",
       "</table>\n",
       "<p>90 rows × 2 columns</p>\n",
       "</div>"
      ],
      "text/plain": [
       "                                issuer       Fee\n",
       "0   r42jqJUTJamGf9siccodfvijwFEBixucEG     80000\n",
       "1   r4MmkWD7XjZuHGypMgerCRzi1Z4TFs9kwQ     20000\n",
       "2   r4VybA9rPTD7oXZ38Ewy442bZ4F2uHfaZe        40\n",
       "3   r4icMmWMEotydoxMe8paYCP2qo2hzpxTUU        12\n",
       "4   r94s8px6kSw1uZ1MV98dhSRTvc6VMPoPcN  13164000\n",
       "..                                 ...       ...\n",
       "85  rwHNLDQJhnfGipfDRWNXUCDw5GHUowg9so        12\n",
       "86  rwNv9SQHvBwVnntYpCWGHDhFQwkf9Zjfe1        12\n",
       "87  rwdRVQZgJYsXaa6mbAvbPh45JLrhcBEDbR        12\n",
       "88  rwjwQbWvjtmFNWNLeM3HHAxnfUKBBjn3TJ        12\n",
       "89  rwz65qChamzmqMguSSWHXYo2FBvPUsJuQR        12\n",
       "\n",
       "[90 rows x 2 columns]"
      ]
     },
     "execution_count": 247,
     "metadata": {},
     "output_type": "execute_result"
    }
   ],
   "source": [
    "df3"
   ]
  },
  {
   "cell_type": "code",
   "execution_count": 249,
   "metadata": {},
   "outputs": [
    {
     "data": {
      "text/plain": [
       "15697734"
      ]
     },
     "execution_count": 249,
     "metadata": {},
     "output_type": "execute_result"
    }
   ],
   "source": [
    "df3.Fee.max()"
   ]
  },
  {
   "cell_type": "code",
   "execution_count": 251,
   "metadata": {},
   "outputs": [
    {
     "data": {
      "text/html": [
       "<div>\n",
       "<style scoped>\n",
       "    .dataframe tbody tr th:only-of-type {\n",
       "        vertical-align: middle;\n",
       "    }\n",
       "\n",
       "    .dataframe tbody tr th {\n",
       "        vertical-align: top;\n",
       "    }\n",
       "\n",
       "    .dataframe thead th {\n",
       "        text-align: right;\n",
       "    }\n",
       "</style>\n",
       "<table border=\"1\" class=\"dataframe\">\n",
       "  <thead>\n",
       "    <tr style=\"text-align: right;\">\n",
       "      <th></th>\n",
       "      <th>issuer</th>\n",
       "      <th>Fee</th>\n",
       "    </tr>\n",
       "  </thead>\n",
       "  <tbody>\n",
       "    <tr>\n",
       "      <th>83</th>\n",
       "      <td>rvYAfWj5gh67oV6fW32ZzP3Aw4Eubs59B</td>\n",
       "      <td>15697734</td>\n",
       "    </tr>\n",
       "  </tbody>\n",
       "</table>\n",
       "</div>"
      ],
      "text/plain": [
       "                               issuer       Fee\n",
       "83  rvYAfWj5gh67oV6fW32ZzP3Aw4Eubs59B  15697734"
      ]
     },
     "execution_count": 251,
     "metadata": {},
     "output_type": "execute_result"
    }
   ],
   "source": [
    "df3[df3['Fee'] == 15697734 ]"
   ]
  },
  {
   "cell_type": "markdown",
   "metadata": {},
   "source": [
    "The issuer 'rvYAfWj5gh67oV6fW32ZzP3Aw4Eubs59B' has paid the most important amount of fees compared to other issuers. Let's learn about their transactions."
   ]
  },
  {
   "cell_type": "code",
   "execution_count": null,
   "metadata": {},
   "outputs": [],
   "source": []
  },
  {
   "cell_type": "code",
   "execution_count": 299,
   "metadata": {},
   "outputs": [],
   "source": [
    "#t.set_index(['issuer', 'currency'])\n",
    "#t.set_index(['issuer'])\n",
    "ser = t.groupby(['issuer','currency','value']).Fee.mean()"
   ]
  },
  {
   "cell_type": "code",
   "execution_count": 300,
   "metadata": {
    "scrolled": false
   },
   "outputs": [
    {
     "data": {
      "text/plain": [
       "issuer                              currency  value       \n",
       "r42jqJUTJamGf9siccodfvijwFEBixucEG  CCK       0.010000        10000.0\n",
       "r4MmkWD7XjZuHGypMgerCRzi1Z4TFs9kwQ  AUD       1298.500000     20000.0\n",
       "r4VybA9rPTD7oXZ38Ewy442bZ4F2uHfaZe  BTC       200.000000         10.0\n",
       "r4icMmWMEotydoxMe8paYCP2qo2hzpxTUU  CNY       0.000100           12.0\n",
       "r94s8px6kSw1uZ1MV98dhSRTvc6VMPoPcN  JPY       1169.025094     12000.0\n",
       "                                                               ...   \n",
       "rwHNLDQJhnfGipfDRWNXUCDw5GHUowg9so  BSD       30000.000000       12.0\n",
       "rwNv9SQHvBwVnntYpCWGHDhFQwkf9Zjfe1  USD       1.000000           12.0\n",
       "rwdRVQZgJYsXaa6mbAvbPh45JLrhcBEDbR  CNY       200.100000         12.0\n",
       "rwjwQbWvjtmFNWNLeM3HHAxnfUKBBjn3TJ  BTC       0.020000           12.0\n",
       "rwz65qChamzmqMguSSWHXYo2FBvPUsJuQR  GCB       100.000000         12.0\n",
       "Name: Fee, Length: 704, dtype: float64"
      ]
     },
     "execution_count": 300,
     "metadata": {},
     "output_type": "execute_result"
    }
   ],
   "source": [
    "ser"
   ]
  },
  {
   "cell_type": "code",
   "execution_count": 301,
   "metadata": {
    "scrolled": false
   },
   "outputs": [
    {
     "data": {
      "text/plain": [
       "currency  value        \n",
       "JPY       1169.025094       12000.0\n",
       "          3674.182833       12000.0\n",
       "          6720.198675      100000.0\n",
       "          7348.439151       12000.0\n",
       "          10975.504990      12000.0\n",
       "                             ...   \n",
       "          222744.143119     12000.0\n",
       "          222745.115041     12000.0\n",
       "          222745.117086     12000.0\n",
       "          222745.570319     12000.0\n",
       "          222745.573851     12000.0\n",
       "Name: Fee, Length: 114, dtype: float64"
      ]
     },
     "execution_count": 301,
     "metadata": {},
     "output_type": "execute_result"
    }
   ],
   "source": [
    "ser.loc['r94s8px6kSw1uZ1MV98dhSRTvc6VMPoPcN'] # biggest nb of transactions"
   ]
  },
  {
   "cell_type": "code",
   "execution_count": 302,
   "metadata": {},
   "outputs": [
    {
     "data": {
      "text/plain": [
       "currency  value     \n",
       "BTC       0.000019        6228.0\n",
       "          0.000020       14883.0\n",
       "          0.001177      100000.0\n",
       "          0.001180      100000.0\n",
       "          0.001184      100000.0\n",
       "                          ...   \n",
       "USD       299.361277        15.0\n",
       "          424.211577        15.0\n",
       "          576.815989        11.0\n",
       "          578.903620        11.0\n",
       "          581.800573        11.0\n",
       "Name: Fee, Length: 200, dtype: float64"
      ]
     },
     "execution_count": 302,
     "metadata": {},
     "output_type": "execute_result"
    }
   ],
   "source": [
    "ser.loc['rvYAfWj5gh67oV6fW32ZzP3Aw4Eubs59B'] # paid the most fees"
   ]
  },
  {
   "cell_type": "code",
   "execution_count": 303,
   "metadata": {},
   "outputs": [],
   "source": [
    "df = t.pivot_table(values='value', index='issuer', columns='currency')"
   ]
  },
  {
   "cell_type": "code",
   "execution_count": 304,
   "metadata": {},
   "outputs": [
    {
     "data": {
      "text/html": [
       "<div>\n",
       "<style scoped>\n",
       "    .dataframe tbody tr th:only-of-type {\n",
       "        vertical-align: middle;\n",
       "    }\n",
       "\n",
       "    .dataframe tbody tr th {\n",
       "        vertical-align: top;\n",
       "    }\n",
       "\n",
       "    .dataframe thead th {\n",
       "        text-align: right;\n",
       "    }\n",
       "</style>\n",
       "<table border=\"1\" class=\"dataframe\">\n",
       "  <thead>\n",
       "    <tr style=\"text-align: right;\">\n",
       "      <th>currency</th>\n",
       "      <th>AUD</th>\n",
       "      <th>BSD</th>\n",
       "      <th>BTC</th>\n",
       "      <th>BTS</th>\n",
       "      <th>CCK</th>\n",
       "      <th>CNY</th>\n",
       "      <th>ETC</th>\n",
       "      <th>ETH</th>\n",
       "      <th>EUR</th>\n",
       "      <th>GBP</th>\n",
       "      <th>...</th>\n",
       "      <th>JUD</th>\n",
       "      <th>KRW</th>\n",
       "      <th>LBR</th>\n",
       "      <th>RIP</th>\n",
       "      <th>RJP</th>\n",
       "      <th>STM</th>\n",
       "      <th>USD</th>\n",
       "      <th>XIA</th>\n",
       "      <th>XLM</th>\n",
       "      <th>ZDK</th>\n",
       "    </tr>\n",
       "    <tr>\n",
       "      <th>issuer</th>\n",
       "      <th></th>\n",
       "      <th></th>\n",
       "      <th></th>\n",
       "      <th></th>\n",
       "      <th></th>\n",
       "      <th></th>\n",
       "      <th></th>\n",
       "      <th></th>\n",
       "      <th></th>\n",
       "      <th></th>\n",
       "      <th></th>\n",
       "      <th></th>\n",
       "      <th></th>\n",
       "      <th></th>\n",
       "      <th></th>\n",
       "      <th></th>\n",
       "      <th></th>\n",
       "      <th></th>\n",
       "      <th></th>\n",
       "      <th></th>\n",
       "      <th></th>\n",
       "    </tr>\n",
       "  </thead>\n",
       "  <tbody>\n",
       "    <tr>\n",
       "      <th>r42jqJUTJamGf9siccodfvijwFEBixucEG</th>\n",
       "      <td>NaN</td>\n",
       "      <td>NaN</td>\n",
       "      <td>NaN</td>\n",
       "      <td>NaN</td>\n",
       "      <td>0.01</td>\n",
       "      <td>NaN</td>\n",
       "      <td>NaN</td>\n",
       "      <td>NaN</td>\n",
       "      <td>NaN</td>\n",
       "      <td>NaN</td>\n",
       "      <td>...</td>\n",
       "      <td>NaN</td>\n",
       "      <td>NaN</td>\n",
       "      <td>NaN</td>\n",
       "      <td>NaN</td>\n",
       "      <td>NaN</td>\n",
       "      <td>NaN</td>\n",
       "      <td>NaN</td>\n",
       "      <td>NaN</td>\n",
       "      <td>NaN</td>\n",
       "      <td>NaN</td>\n",
       "    </tr>\n",
       "    <tr>\n",
       "      <th>r4MmkWD7XjZuHGypMgerCRzi1Z4TFs9kwQ</th>\n",
       "      <td>1298.5</td>\n",
       "      <td>NaN</td>\n",
       "      <td>NaN</td>\n",
       "      <td>NaN</td>\n",
       "      <td>NaN</td>\n",
       "      <td>NaN</td>\n",
       "      <td>NaN</td>\n",
       "      <td>NaN</td>\n",
       "      <td>NaN</td>\n",
       "      <td>NaN</td>\n",
       "      <td>...</td>\n",
       "      <td>NaN</td>\n",
       "      <td>NaN</td>\n",
       "      <td>NaN</td>\n",
       "      <td>NaN</td>\n",
       "      <td>NaN</td>\n",
       "      <td>NaN</td>\n",
       "      <td>NaN</td>\n",
       "      <td>NaN</td>\n",
       "      <td>NaN</td>\n",
       "      <td>NaN</td>\n",
       "    </tr>\n",
       "    <tr>\n",
       "      <th>r4VybA9rPTD7oXZ38Ewy442bZ4F2uHfaZe</th>\n",
       "      <td>NaN</td>\n",
       "      <td>NaN</td>\n",
       "      <td>200.00</td>\n",
       "      <td>NaN</td>\n",
       "      <td>NaN</td>\n",
       "      <td>NaN</td>\n",
       "      <td>NaN</td>\n",
       "      <td>NaN</td>\n",
       "      <td>NaN</td>\n",
       "      <td>NaN</td>\n",
       "      <td>...</td>\n",
       "      <td>NaN</td>\n",
       "      <td>NaN</td>\n",
       "      <td>NaN</td>\n",
       "      <td>NaN</td>\n",
       "      <td>NaN</td>\n",
       "      <td>NaN</td>\n",
       "      <td>NaN</td>\n",
       "      <td>NaN</td>\n",
       "      <td>NaN</td>\n",
       "      <td>NaN</td>\n",
       "    </tr>\n",
       "    <tr>\n",
       "      <th>r4icMmWMEotydoxMe8paYCP2qo2hzpxTUU</th>\n",
       "      <td>NaN</td>\n",
       "      <td>NaN</td>\n",
       "      <td>NaN</td>\n",
       "      <td>NaN</td>\n",
       "      <td>NaN</td>\n",
       "      <td>0.0001</td>\n",
       "      <td>NaN</td>\n",
       "      <td>NaN</td>\n",
       "      <td>NaN</td>\n",
       "      <td>NaN</td>\n",
       "      <td>...</td>\n",
       "      <td>NaN</td>\n",
       "      <td>NaN</td>\n",
       "      <td>NaN</td>\n",
       "      <td>NaN</td>\n",
       "      <td>NaN</td>\n",
       "      <td>NaN</td>\n",
       "      <td>NaN</td>\n",
       "      <td>NaN</td>\n",
       "      <td>NaN</td>\n",
       "      <td>NaN</td>\n",
       "    </tr>\n",
       "    <tr>\n",
       "      <th>r94s8px6kSw1uZ1MV98dhSRTvc6VMPoPcN</th>\n",
       "      <td>NaN</td>\n",
       "      <td>NaN</td>\n",
       "      <td>NaN</td>\n",
       "      <td>NaN</td>\n",
       "      <td>NaN</td>\n",
       "      <td>NaN</td>\n",
       "      <td>NaN</td>\n",
       "      <td>NaN</td>\n",
       "      <td>NaN</td>\n",
       "      <td>NaN</td>\n",
       "      <td>...</td>\n",
       "      <td>NaN</td>\n",
       "      <td>NaN</td>\n",
       "      <td>NaN</td>\n",
       "      <td>NaN</td>\n",
       "      <td>NaN</td>\n",
       "      <td>NaN</td>\n",
       "      <td>NaN</td>\n",
       "      <td>NaN</td>\n",
       "      <td>NaN</td>\n",
       "      <td>NaN</td>\n",
       "    </tr>\n",
       "    <tr>\n",
       "      <th>...</th>\n",
       "      <td>...</td>\n",
       "      <td>...</td>\n",
       "      <td>...</td>\n",
       "      <td>...</td>\n",
       "      <td>...</td>\n",
       "      <td>...</td>\n",
       "      <td>...</td>\n",
       "      <td>...</td>\n",
       "      <td>...</td>\n",
       "      <td>...</td>\n",
       "      <td>...</td>\n",
       "      <td>...</td>\n",
       "      <td>...</td>\n",
       "      <td>...</td>\n",
       "      <td>...</td>\n",
       "      <td>...</td>\n",
       "      <td>...</td>\n",
       "      <td>...</td>\n",
       "      <td>...</td>\n",
       "      <td>...</td>\n",
       "      <td>...</td>\n",
       "    </tr>\n",
       "    <tr>\n",
       "      <th>rwHNLDQJhnfGipfDRWNXUCDw5GHUowg9so</th>\n",
       "      <td>NaN</td>\n",
       "      <td>30000.0</td>\n",
       "      <td>NaN</td>\n",
       "      <td>NaN</td>\n",
       "      <td>NaN</td>\n",
       "      <td>NaN</td>\n",
       "      <td>NaN</td>\n",
       "      <td>NaN</td>\n",
       "      <td>NaN</td>\n",
       "      <td>NaN</td>\n",
       "      <td>...</td>\n",
       "      <td>NaN</td>\n",
       "      <td>NaN</td>\n",
       "      <td>NaN</td>\n",
       "      <td>NaN</td>\n",
       "      <td>NaN</td>\n",
       "      <td>NaN</td>\n",
       "      <td>NaN</td>\n",
       "      <td>NaN</td>\n",
       "      <td>NaN</td>\n",
       "      <td>NaN</td>\n",
       "    </tr>\n",
       "    <tr>\n",
       "      <th>rwNv9SQHvBwVnntYpCWGHDhFQwkf9Zjfe1</th>\n",
       "      <td>NaN</td>\n",
       "      <td>NaN</td>\n",
       "      <td>NaN</td>\n",
       "      <td>NaN</td>\n",
       "      <td>NaN</td>\n",
       "      <td>NaN</td>\n",
       "      <td>NaN</td>\n",
       "      <td>NaN</td>\n",
       "      <td>NaN</td>\n",
       "      <td>NaN</td>\n",
       "      <td>...</td>\n",
       "      <td>NaN</td>\n",
       "      <td>NaN</td>\n",
       "      <td>NaN</td>\n",
       "      <td>NaN</td>\n",
       "      <td>NaN</td>\n",
       "      <td>NaN</td>\n",
       "      <td>1.0</td>\n",
       "      <td>NaN</td>\n",
       "      <td>NaN</td>\n",
       "      <td>NaN</td>\n",
       "    </tr>\n",
       "    <tr>\n",
       "      <th>rwdRVQZgJYsXaa6mbAvbPh45JLrhcBEDbR</th>\n",
       "      <td>NaN</td>\n",
       "      <td>NaN</td>\n",
       "      <td>NaN</td>\n",
       "      <td>NaN</td>\n",
       "      <td>NaN</td>\n",
       "      <td>200.1000</td>\n",
       "      <td>NaN</td>\n",
       "      <td>NaN</td>\n",
       "      <td>NaN</td>\n",
       "      <td>NaN</td>\n",
       "      <td>...</td>\n",
       "      <td>NaN</td>\n",
       "      <td>NaN</td>\n",
       "      <td>NaN</td>\n",
       "      <td>NaN</td>\n",
       "      <td>NaN</td>\n",
       "      <td>NaN</td>\n",
       "      <td>NaN</td>\n",
       "      <td>NaN</td>\n",
       "      <td>NaN</td>\n",
       "      <td>NaN</td>\n",
       "    </tr>\n",
       "    <tr>\n",
       "      <th>rwjwQbWvjtmFNWNLeM3HHAxnfUKBBjn3TJ</th>\n",
       "      <td>NaN</td>\n",
       "      <td>NaN</td>\n",
       "      <td>0.02</td>\n",
       "      <td>NaN</td>\n",
       "      <td>NaN</td>\n",
       "      <td>NaN</td>\n",
       "      <td>NaN</td>\n",
       "      <td>NaN</td>\n",
       "      <td>NaN</td>\n",
       "      <td>NaN</td>\n",
       "      <td>...</td>\n",
       "      <td>NaN</td>\n",
       "      <td>NaN</td>\n",
       "      <td>NaN</td>\n",
       "      <td>NaN</td>\n",
       "      <td>NaN</td>\n",
       "      <td>NaN</td>\n",
       "      <td>NaN</td>\n",
       "      <td>NaN</td>\n",
       "      <td>NaN</td>\n",
       "      <td>NaN</td>\n",
       "    </tr>\n",
       "    <tr>\n",
       "      <th>rwz65qChamzmqMguSSWHXYo2FBvPUsJuQR</th>\n",
       "      <td>NaN</td>\n",
       "      <td>NaN</td>\n",
       "      <td>NaN</td>\n",
       "      <td>NaN</td>\n",
       "      <td>NaN</td>\n",
       "      <td>NaN</td>\n",
       "      <td>NaN</td>\n",
       "      <td>NaN</td>\n",
       "      <td>NaN</td>\n",
       "      <td>NaN</td>\n",
       "      <td>...</td>\n",
       "      <td>NaN</td>\n",
       "      <td>NaN</td>\n",
       "      <td>NaN</td>\n",
       "      <td>NaN</td>\n",
       "      <td>NaN</td>\n",
       "      <td>NaN</td>\n",
       "      <td>NaN</td>\n",
       "      <td>NaN</td>\n",
       "      <td>NaN</td>\n",
       "      <td>NaN</td>\n",
       "    </tr>\n",
       "  </tbody>\n",
       "</table>\n",
       "<p>90 rows × 24 columns</p>\n",
       "</div>"
      ],
      "text/plain": [
       "currency                               AUD      BSD     BTC  BTS   CCK  \\\n",
       "issuer                                                                   \n",
       "r42jqJUTJamGf9siccodfvijwFEBixucEG     NaN      NaN     NaN  NaN  0.01   \n",
       "r4MmkWD7XjZuHGypMgerCRzi1Z4TFs9kwQ  1298.5      NaN     NaN  NaN   NaN   \n",
       "r4VybA9rPTD7oXZ38Ewy442bZ4F2uHfaZe     NaN      NaN  200.00  NaN   NaN   \n",
       "r4icMmWMEotydoxMe8paYCP2qo2hzpxTUU     NaN      NaN     NaN  NaN   NaN   \n",
       "r94s8px6kSw1uZ1MV98dhSRTvc6VMPoPcN     NaN      NaN     NaN  NaN   NaN   \n",
       "...                                    ...      ...     ...  ...   ...   \n",
       "rwHNLDQJhnfGipfDRWNXUCDw5GHUowg9so     NaN  30000.0     NaN  NaN   NaN   \n",
       "rwNv9SQHvBwVnntYpCWGHDhFQwkf9Zjfe1     NaN      NaN     NaN  NaN   NaN   \n",
       "rwdRVQZgJYsXaa6mbAvbPh45JLrhcBEDbR     NaN      NaN     NaN  NaN   NaN   \n",
       "rwjwQbWvjtmFNWNLeM3HHAxnfUKBBjn3TJ     NaN      NaN    0.02  NaN   NaN   \n",
       "rwz65qChamzmqMguSSWHXYo2FBvPUsJuQR     NaN      NaN     NaN  NaN   NaN   \n",
       "\n",
       "currency                                 CNY  ETC  ETH  EUR  GBP  ...  JUD  \\\n",
       "issuer                                                            ...        \n",
       "r42jqJUTJamGf9siccodfvijwFEBixucEG       NaN  NaN  NaN  NaN  NaN  ...  NaN   \n",
       "r4MmkWD7XjZuHGypMgerCRzi1Z4TFs9kwQ       NaN  NaN  NaN  NaN  NaN  ...  NaN   \n",
       "r4VybA9rPTD7oXZ38Ewy442bZ4F2uHfaZe       NaN  NaN  NaN  NaN  NaN  ...  NaN   \n",
       "r4icMmWMEotydoxMe8paYCP2qo2hzpxTUU    0.0001  NaN  NaN  NaN  NaN  ...  NaN   \n",
       "r94s8px6kSw1uZ1MV98dhSRTvc6VMPoPcN       NaN  NaN  NaN  NaN  NaN  ...  NaN   \n",
       "...                                      ...  ...  ...  ...  ...  ...  ...   \n",
       "rwHNLDQJhnfGipfDRWNXUCDw5GHUowg9so       NaN  NaN  NaN  NaN  NaN  ...  NaN   \n",
       "rwNv9SQHvBwVnntYpCWGHDhFQwkf9Zjfe1       NaN  NaN  NaN  NaN  NaN  ...  NaN   \n",
       "rwdRVQZgJYsXaa6mbAvbPh45JLrhcBEDbR  200.1000  NaN  NaN  NaN  NaN  ...  NaN   \n",
       "rwjwQbWvjtmFNWNLeM3HHAxnfUKBBjn3TJ       NaN  NaN  NaN  NaN  NaN  ...  NaN   \n",
       "rwz65qChamzmqMguSSWHXYo2FBvPUsJuQR       NaN  NaN  NaN  NaN  NaN  ...  NaN   \n",
       "\n",
       "currency                            KRW  LBR  RIP  RJP  STM  USD  XIA  XLM  \\\n",
       "issuer                                                                       \n",
       "r42jqJUTJamGf9siccodfvijwFEBixucEG  NaN  NaN  NaN  NaN  NaN  NaN  NaN  NaN   \n",
       "r4MmkWD7XjZuHGypMgerCRzi1Z4TFs9kwQ  NaN  NaN  NaN  NaN  NaN  NaN  NaN  NaN   \n",
       "r4VybA9rPTD7oXZ38Ewy442bZ4F2uHfaZe  NaN  NaN  NaN  NaN  NaN  NaN  NaN  NaN   \n",
       "r4icMmWMEotydoxMe8paYCP2qo2hzpxTUU  NaN  NaN  NaN  NaN  NaN  NaN  NaN  NaN   \n",
       "r94s8px6kSw1uZ1MV98dhSRTvc6VMPoPcN  NaN  NaN  NaN  NaN  NaN  NaN  NaN  NaN   \n",
       "...                                 ...  ...  ...  ...  ...  ...  ...  ...   \n",
       "rwHNLDQJhnfGipfDRWNXUCDw5GHUowg9so  NaN  NaN  NaN  NaN  NaN  NaN  NaN  NaN   \n",
       "rwNv9SQHvBwVnntYpCWGHDhFQwkf9Zjfe1  NaN  NaN  NaN  NaN  NaN  1.0  NaN  NaN   \n",
       "rwdRVQZgJYsXaa6mbAvbPh45JLrhcBEDbR  NaN  NaN  NaN  NaN  NaN  NaN  NaN  NaN   \n",
       "rwjwQbWvjtmFNWNLeM3HHAxnfUKBBjn3TJ  NaN  NaN  NaN  NaN  NaN  NaN  NaN  NaN   \n",
       "rwz65qChamzmqMguSSWHXYo2FBvPUsJuQR  NaN  NaN  NaN  NaN  NaN  NaN  NaN  NaN   \n",
       "\n",
       "currency                            ZDK  \n",
       "issuer                                   \n",
       "r42jqJUTJamGf9siccodfvijwFEBixucEG  NaN  \n",
       "r4MmkWD7XjZuHGypMgerCRzi1Z4TFs9kwQ  NaN  \n",
       "r4VybA9rPTD7oXZ38Ewy442bZ4F2uHfaZe  NaN  \n",
       "r4icMmWMEotydoxMe8paYCP2qo2hzpxTUU  NaN  \n",
       "r94s8px6kSw1uZ1MV98dhSRTvc6VMPoPcN  NaN  \n",
       "...                                 ...  \n",
       "rwHNLDQJhnfGipfDRWNXUCDw5GHUowg9so  NaN  \n",
       "rwNv9SQHvBwVnntYpCWGHDhFQwkf9Zjfe1  NaN  \n",
       "rwdRVQZgJYsXaa6mbAvbPh45JLrhcBEDbR  NaN  \n",
       "rwjwQbWvjtmFNWNLeM3HHAxnfUKBBjn3TJ  NaN  \n",
       "rwz65qChamzmqMguSSWHXYo2FBvPUsJuQR  NaN  \n",
       "\n",
       "[90 rows x 24 columns]"
      ]
     },
     "execution_count": 304,
     "metadata": {},
     "output_type": "execute_result"
    }
   ],
   "source": [
    "df"
   ]
  },
  {
   "cell_type": "code",
   "execution_count": 245,
   "metadata": {},
   "outputs": [
    {
     "data": {
      "text/plain": [
       "290236.5202720495"
      ]
     },
     "execution_count": 245,
     "metadata": {},
     "output_type": "execute_result"
    }
   ],
   "source": [
    "df['BTC'].sum()"
   ]
  },
  {
   "cell_type": "code",
   "execution_count": null,
   "metadata": {},
   "outputs": [],
   "source": []
  },
  {
   "cell_type": "code",
   "execution_count": null,
   "metadata": {},
   "outputs": [],
   "source": []
  },
  {
   "cell_type": "code",
   "execution_count": null,
   "metadata": {},
   "outputs": [],
   "source": []
  },
  {
   "cell_type": "code",
   "execution_count": null,
   "metadata": {},
   "outputs": [],
   "source": []
  },
  {
   "cell_type": "markdown",
   "metadata": {},
   "source": [
    "# New part"
   ]
  },
  {
   "cell_type": "code",
   "execution_count": 257,
   "metadata": {},
   "outputs": [],
   "source": [
    "dfj = pd.read_csv('Create_Accounts_Num.csv')"
   ]
  },
  {
   "cell_type": "code",
   "execution_count": 258,
   "metadata": {
    "scrolled": true
   },
   "outputs": [
    {
     "data": {
      "text/plain": [
       "Index(['account', 'initial_balance', 'ledger_index', 'parent', 'tx_hash',\n",
       "       'DateTime'],\n",
       "      dtype='object')"
      ]
     },
     "execution_count": 258,
     "metadata": {},
     "output_type": "execute_result"
    }
   ],
   "source": [
    "dfj.columns"
   ]
  },
  {
   "cell_type": "code",
   "execution_count": 259,
   "metadata": {},
   "outputs": [],
   "source": [
    "dfj['Account'] = dfj.account"
   ]
  },
  {
   "cell_type": "code",
   "execution_count": 260,
   "metadata": {},
   "outputs": [],
   "source": [
    "del dfj['account']"
   ]
  },
  {
   "cell_type": "code",
   "execution_count": 261,
   "metadata": {
    "scrolled": true
   },
   "outputs": [
    {
     "data": {
      "text/plain": [
       "Index(['initial_balance', 'ledger_index', 'parent', 'tx_hash', 'DateTime',\n",
       "       'Account'],\n",
       "      dtype='object')"
      ]
     },
     "execution_count": 261,
     "metadata": {},
     "output_type": "execute_result"
    }
   ],
   "source": [
    "dfj.columns"
   ]
  },
  {
   "cell_type": "code",
   "execution_count": 262,
   "metadata": {
    "scrolled": true
   },
   "outputs": [
    {
     "data": {
      "text/html": [
       "<div>\n",
       "<style scoped>\n",
       "    .dataframe tbody tr th:only-of-type {\n",
       "        vertical-align: middle;\n",
       "    }\n",
       "\n",
       "    .dataframe tbody tr th {\n",
       "        vertical-align: top;\n",
       "    }\n",
       "\n",
       "    .dataframe thead th {\n",
       "        text-align: right;\n",
       "    }\n",
       "</style>\n",
       "<table border=\"1\" class=\"dataframe\">\n",
       "  <thead>\n",
       "    <tr style=\"text-align: right;\">\n",
       "      <th></th>\n",
       "      <th>initial_balance</th>\n",
       "      <th>ledger_index</th>\n",
       "      <th>parent</th>\n",
       "      <th>tx_hash</th>\n",
       "      <th>DateTime</th>\n",
       "      <th>Account</th>\n",
       "    </tr>\n",
       "  </thead>\n",
       "  <tbody>\n",
       "    <tr>\n",
       "      <th>0</th>\n",
       "      <td>399.980000</td>\n",
       "      <td>52987663</td>\n",
       "      <td>rLHzPsX6oXkzU2qL12kHCH8G8cnZv1rBJh</td>\n",
       "      <td>57AAF84EF0D96490927612873F4483EA15F6A516519817...</td>\n",
       "      <td>2020-01-25 23:59:21</td>\n",
       "      <td>rfwcdVfU6KpQ4o8ZUQpSwPDmJirbHMFUyN</td>\n",
       "    </tr>\n",
       "    <tr>\n",
       "      <th>1</th>\n",
       "      <td>599.603924</td>\n",
       "      <td>52987643</td>\n",
       "      <td>rLNaPoKeeBjZe2qs6x52yVPZpZ8td4dc6w</td>\n",
       "      <td>0A397B4CBF7806EE80EABBCD0E99323CBE9F59EFACAA8E...</td>\n",
       "      <td>2020-01-25 23:58:01</td>\n",
       "      <td>rP7ahowhQFKVj3VgiAVdkY8huFpJnPpUHe</td>\n",
       "    </tr>\n",
       "  </tbody>\n",
       "</table>\n",
       "</div>"
      ],
      "text/plain": [
       "   initial_balance  ledger_index                              parent  \\\n",
       "0       399.980000      52987663  rLHzPsX6oXkzU2qL12kHCH8G8cnZv1rBJh   \n",
       "1       599.603924      52987643  rLNaPoKeeBjZe2qs6x52yVPZpZ8td4dc6w   \n",
       "\n",
       "                                             tx_hash             DateTime  \\\n",
       "0  57AAF84EF0D96490927612873F4483EA15F6A516519817...  2020-01-25 23:59:21   \n",
       "1  0A397B4CBF7806EE80EABBCD0E99323CBE9F59EFACAA8E...  2020-01-25 23:58:01   \n",
       "\n",
       "                              Account  \n",
       "0  rfwcdVfU6KpQ4o8ZUQpSwPDmJirbHMFUyN  \n",
       "1  rP7ahowhQFKVj3VgiAVdkY8huFpJnPpUHe  "
      ]
     },
     "execution_count": 262,
     "metadata": {},
     "output_type": "execute_result"
    }
   ],
   "source": [
    "dfj.head(2)"
   ]
  },
  {
   "cell_type": "code",
   "execution_count": 263,
   "metadata": {},
   "outputs": [
    {
     "data": {
      "text/plain": [
       "initial_balance    float64\n",
       "ledger_index         int64\n",
       "parent              object\n",
       "tx_hash             object\n",
       "DateTime            object\n",
       "Account             object\n",
       "dtype: object"
      ]
     },
     "execution_count": 263,
     "metadata": {},
     "output_type": "execute_result"
    }
   ],
   "source": [
    "dfj.dtypes"
   ]
  },
  {
   "cell_type": "code",
   "execution_count": 264,
   "metadata": {
    "scrolled": true
   },
   "outputs": [
    {
     "data": {
      "text/plain": [
       "(793428, 6)"
      ]
     },
     "execution_count": 264,
     "metadata": {},
     "output_type": "execute_result"
    }
   ],
   "source": [
    "dfj.shape"
   ]
  },
  {
   "cell_type": "code",
   "execution_count": 265,
   "metadata": {
    "scrolled": true
   },
   "outputs": [],
   "source": [
    "df = pd.read_csv('transactions.csv')"
   ]
  },
  {
   "cell_type": "code",
   "execution_count": 268,
   "metadata": {},
   "outputs": [],
   "source": [
    "df_test = pd.merge(df, dfj, on='Account', how = 'inner')"
   ]
  },
  {
   "cell_type": "code",
   "execution_count": 269,
   "metadata": {},
   "outputs": [
    {
     "data": {
      "text/html": [
       "<div>\n",
       "<style scoped>\n",
       "    .dataframe tbody tr th:only-of-type {\n",
       "        vertical-align: middle;\n",
       "    }\n",
       "\n",
       "    .dataframe tbody tr th {\n",
       "        vertical-align: top;\n",
       "    }\n",
       "\n",
       "    .dataframe thead th {\n",
       "        text-align: right;\n",
       "    }\n",
       "</style>\n",
       "<table border=\"1\" class=\"dataframe\">\n",
       "  <thead>\n",
       "    <tr style=\"text-align: right;\">\n",
       "      <th></th>\n",
       "      <th>Unnamed: 0</th>\n",
       "      <th>Sequence</th>\n",
       "      <th>InvoiceID</th>\n",
       "      <th>SourceTag</th>\n",
       "      <th>DestinationTag</th>\n",
       "      <th>Flags</th>\n",
       "      <th>Fee</th>\n",
       "      <th>Destination</th>\n",
       "      <th>hash</th>\n",
       "      <th>Account</th>\n",
       "      <th>...</th>\n",
       "      <th>SendMinDEX</th>\n",
       "      <th>DeliverMinDEX</th>\n",
       "      <th>currency</th>\n",
       "      <th>issuer</th>\n",
       "      <th>value</th>\n",
       "      <th>initial_balance</th>\n",
       "      <th>ledger_index</th>\n",
       "      <th>parent</th>\n",
       "      <th>tx_hash</th>\n",
       "      <th>DateTime</th>\n",
       "    </tr>\n",
       "  </thead>\n",
       "  <tbody>\n",
       "  </tbody>\n",
       "</table>\n",
       "<p>0 rows × 71 columns</p>\n",
       "</div>"
      ],
      "text/plain": [
       "Empty DataFrame\n",
       "Columns: [Unnamed: 0, Sequence, InvoiceID, SourceTag, DestinationTag, Flags, Fee, Destination, hash, Account, TransactionType, DeliverMinXRP, SendMinXRP, LimitAmountXRP, SendMaxXRP, TakerPaysXRP, TakerGetsXRP, AmountXRP, LedgerIndex, TransactionResult, TransactionIndex, DeliveredAmount, Memos, SignerEntries, Signers, SigningPubKey, TxnSignature, AccountTxnID, SignerQuorum, ClearFlag, Domain, EmailHash, MessageKey, SetFlag, TransferRate, TickSize, CheckID, Expiration, Authorize, Owner, OfferSequence, Condition, FinishAfter, CancelAfter, Fulfillment, LastLedgerSequence, SettleDelay, RegularKey, QualityIn, QualityOut, Amendment, LedgerSequence, BaseFee, ReferenceFeeUnits, ReserveBase, ReserveIncrement, AmountDEX, TakerGetsDEX, TakerPaysDEX, SendMaxDEX, LimitAmountDEX, SendMinDEX, DeliverMinDEX, currency, issuer, value, initial_balance, ledger_index, parent, tx_hash, DateTime]\n",
       "Index: []\n",
       "\n",
       "[0 rows x 71 columns]"
      ]
     },
     "execution_count": 269,
     "metadata": {},
     "output_type": "execute_result"
    }
   ],
   "source": [
    "df_test"
   ]
  },
  {
   "cell_type": "code",
   "execution_count": 270,
   "metadata": {
    "scrolled": true
   },
   "outputs": [
    {
     "data": {
      "text/plain": [
       "0        r3dpA9FBczceWTWh4FRquuSvEVaQyU3GNg\n",
       "1        r3dpA9FBczceWTWh4FRquuSvEVaQyU3GNg\n",
       "2        r3dpA9FBczceWTWh4FRquuSvEVaQyU3GNg\n",
       "3        r3dpA9FBczceWTWh4FRquuSvEVaQyU3GNg\n",
       "4        r3dpA9FBczceWTWh4FRquuSvEVaQyU3GNg\n",
       "                        ...                \n",
       "99995    rEr3hxu5aim5tDWwH7H8BK47K91tR8c7FM\n",
       "99996    rEr3hxu5aim5tDWwH7H8BK47K91tR8c7FM\n",
       "99997    rEr3hxu5aim5tDWwH7H8BK47K91tR8c7FM\n",
       "99998    rEr3hxu5aim5tDWwH7H8BK47K91tR8c7FM\n",
       "99999    rEr3hxu5aim5tDWwH7H8BK47K91tR8c7FM\n",
       "Name: Account, Length: 100000, dtype: object"
      ]
     },
     "execution_count": 270,
     "metadata": {},
     "output_type": "execute_result"
    }
   ],
   "source": [
    "df['Account']"
   ]
  },
  {
   "cell_type": "code",
   "execution_count": 271,
   "metadata": {
    "scrolled": true
   },
   "outputs": [
    {
     "data": {
      "text/plain": [
       "0         rfwcdVfU6KpQ4o8ZUQpSwPDmJirbHMFUyN\n",
       "1         rP7ahowhQFKVj3VgiAVdkY8huFpJnPpUHe\n",
       "2         raMvTDWWCisfCZ9BCvMgUrZmcwUpqsbQAF\n",
       "3         rnjJyvKkrrpRJusnJSCPeU8M8ByzX7CtyG\n",
       "4         rweZA5ZUqYNp4SLcBkqdSKSf63F8Bn3h4m\n",
       "                         ...                \n",
       "793423    rpdnypvQDGafUydFWdGQGjg3XdDshsUpC3\n",
       "793424    rhGDzsidDhdU68wS2yQpwS5FEohAXF7E8k\n",
       "793425    rspTGtqPjzqpZBf6L5omkuEh5WAfWpPQ7i\n",
       "793426    rBzkC2V69e7M9kgE5hv66eyAW1r7PP7kTs\n",
       "793427    ra5McwJ4odDupJ8Y5XdgsgSez5vAAzewLk\n",
       "Name: Account, Length: 793428, dtype: object"
      ]
     },
     "execution_count": 271,
     "metadata": {},
     "output_type": "execute_result"
    }
   ],
   "source": [
    "dfj['Account']"
   ]
  },
  {
   "cell_type": "code",
   "execution_count": 272,
   "metadata": {},
   "outputs": [],
   "source": [
    "df_test = pd.concat([df['Account'], dfj['Account']], axis=1, keys=['df', 'dfj'])"
   ]
  },
  {
   "cell_type": "code",
   "execution_count": 273,
   "metadata": {},
   "outputs": [],
   "source": [
    "df_test['Account_df'] = df_test['df']\n",
    "df_test['Account_dfj'] = df_test['dfj']"
   ]
  },
  {
   "cell_type": "code",
   "execution_count": 274,
   "metadata": {},
   "outputs": [],
   "source": [
    "del df_test['df']\n",
    "del df_test['dfj']"
   ]
  },
  {
   "cell_type": "code",
   "execution_count": 275,
   "metadata": {},
   "outputs": [
    {
     "data": {
      "text/html": [
       "<div>\n",
       "<style scoped>\n",
       "    .dataframe tbody tr th:only-of-type {\n",
       "        vertical-align: middle;\n",
       "    }\n",
       "\n",
       "    .dataframe tbody tr th {\n",
       "        vertical-align: top;\n",
       "    }\n",
       "\n",
       "    .dataframe thead th {\n",
       "        text-align: right;\n",
       "    }\n",
       "</style>\n",
       "<table border=\"1\" class=\"dataframe\">\n",
       "  <thead>\n",
       "    <tr style=\"text-align: right;\">\n",
       "      <th></th>\n",
       "      <th>Account_df</th>\n",
       "      <th>Account_dfj</th>\n",
       "    </tr>\n",
       "  </thead>\n",
       "  <tbody>\n",
       "    <tr>\n",
       "      <th>0</th>\n",
       "      <td>r3dpA9FBczceWTWh4FRquuSvEVaQyU3GNg</td>\n",
       "      <td>rfwcdVfU6KpQ4o8ZUQpSwPDmJirbHMFUyN</td>\n",
       "    </tr>\n",
       "    <tr>\n",
       "      <th>1</th>\n",
       "      <td>r3dpA9FBczceWTWh4FRquuSvEVaQyU3GNg</td>\n",
       "      <td>rP7ahowhQFKVj3VgiAVdkY8huFpJnPpUHe</td>\n",
       "    </tr>\n",
       "    <tr>\n",
       "      <th>2</th>\n",
       "      <td>r3dpA9FBczceWTWh4FRquuSvEVaQyU3GNg</td>\n",
       "      <td>raMvTDWWCisfCZ9BCvMgUrZmcwUpqsbQAF</td>\n",
       "    </tr>\n",
       "    <tr>\n",
       "      <th>3</th>\n",
       "      <td>r3dpA9FBczceWTWh4FRquuSvEVaQyU3GNg</td>\n",
       "      <td>rnjJyvKkrrpRJusnJSCPeU8M8ByzX7CtyG</td>\n",
       "    </tr>\n",
       "    <tr>\n",
       "      <th>4</th>\n",
       "      <td>r3dpA9FBczceWTWh4FRquuSvEVaQyU3GNg</td>\n",
       "      <td>rweZA5ZUqYNp4SLcBkqdSKSf63F8Bn3h4m</td>\n",
       "    </tr>\n",
       "  </tbody>\n",
       "</table>\n",
       "</div>"
      ],
      "text/plain": [
       "                           Account_df                         Account_dfj\n",
       "0  r3dpA9FBczceWTWh4FRquuSvEVaQyU3GNg  rfwcdVfU6KpQ4o8ZUQpSwPDmJirbHMFUyN\n",
       "1  r3dpA9FBczceWTWh4FRquuSvEVaQyU3GNg  rP7ahowhQFKVj3VgiAVdkY8huFpJnPpUHe\n",
       "2  r3dpA9FBczceWTWh4FRquuSvEVaQyU3GNg  raMvTDWWCisfCZ9BCvMgUrZmcwUpqsbQAF\n",
       "3  r3dpA9FBczceWTWh4FRquuSvEVaQyU3GNg  rnjJyvKkrrpRJusnJSCPeU8M8ByzX7CtyG\n",
       "4  r3dpA9FBczceWTWh4FRquuSvEVaQyU3GNg  rweZA5ZUqYNp4SLcBkqdSKSf63F8Bn3h4m"
      ]
     },
     "execution_count": 275,
     "metadata": {},
     "output_type": "execute_result"
    }
   ],
   "source": [
    "df_test.head()"
   ]
  },
  {
   "cell_type": "code",
   "execution_count": 284,
   "metadata": {},
   "outputs": [],
   "source": [
    "df_test['check'] = [x[0] == x[1] for x in zip(df_test['Account_df'], df_test['Account_dfj'])]"
   ]
  },
  {
   "cell_type": "code",
   "execution_count": 285,
   "metadata": {},
   "outputs": [
    {
     "data": {
      "text/html": [
       "<div>\n",
       "<style scoped>\n",
       "    .dataframe tbody tr th:only-of-type {\n",
       "        vertical-align: middle;\n",
       "    }\n",
       "\n",
       "    .dataframe tbody tr th {\n",
       "        vertical-align: top;\n",
       "    }\n",
       "\n",
       "    .dataframe thead th {\n",
       "        text-align: right;\n",
       "    }\n",
       "</style>\n",
       "<table border=\"1\" class=\"dataframe\">\n",
       "  <thead>\n",
       "    <tr style=\"text-align: right;\">\n",
       "      <th></th>\n",
       "      <th>Account_df</th>\n",
       "      <th>Account_dfj</th>\n",
       "      <th>check</th>\n",
       "    </tr>\n",
       "  </thead>\n",
       "  <tbody>\n",
       "  </tbody>\n",
       "</table>\n",
       "</div>"
      ],
      "text/plain": [
       "Empty DataFrame\n",
       "Columns: [Account_df, Account_dfj, check]\n",
       "Index: []"
      ]
     },
     "execution_count": 285,
     "metadata": {},
     "output_type": "execute_result"
    }
   ],
   "source": [
    "df_test.head()"
   ]
  },
  {
   "cell_type": "code",
   "execution_count": 286,
   "metadata": {},
   "outputs": [
    {
     "data": {
      "text/plain": [
       "False"
      ]
     },
     "execution_count": 286,
     "metadata": {},
     "output_type": "execute_result"
    }
   ],
   "source": [
    "True in df_test['check']"
   ]
  },
  {
   "cell_type": "code",
   "execution_count": 287,
   "metadata": {},
   "outputs": [],
   "source": [
    "df_test = df_test[df_test['check'] == True]"
   ]
  },
  {
   "cell_type": "code",
   "execution_count": 280,
   "metadata": {},
   "outputs": [
    {
     "data": {
      "text/plain": [
       "(0, 3)"
      ]
     },
     "execution_count": 280,
     "metadata": {},
     "output_type": "execute_result"
    }
   ],
   "source": [
    "df_test.shape"
   ]
  },
  {
   "cell_type": "code",
   "execution_count": null,
   "metadata": {},
   "outputs": [],
   "source": []
  },
  {
   "cell_type": "markdown",
   "metadata": {},
   "source": [
    "# New research"
   ]
  },
  {
   "cell_type": "code",
   "execution_count": 288,
   "metadata": {},
   "outputs": [
    {
     "data": {
      "text/html": [
       "<div>\n",
       "<style scoped>\n",
       "    .dataframe tbody tr th:only-of-type {\n",
       "        vertical-align: middle;\n",
       "    }\n",
       "\n",
       "    .dataframe tbody tr th {\n",
       "        vertical-align: top;\n",
       "    }\n",
       "\n",
       "    .dataframe thead th {\n",
       "        text-align: right;\n",
       "    }\n",
       "</style>\n",
       "<table border=\"1\" class=\"dataframe\">\n",
       "  <thead>\n",
       "    <tr style=\"text-align: right;\">\n",
       "      <th></th>\n",
       "      <th>Unnamed: 0_x</th>\n",
       "      <th>Sequence</th>\n",
       "      <th>InvoiceID</th>\n",
       "      <th>SourceTag</th>\n",
       "      <th>DestinationTag</th>\n",
       "      <th>Flags</th>\n",
       "      <th>Fee</th>\n",
       "      <th>Destination</th>\n",
       "      <th>hash_x</th>\n",
       "      <th>Account</th>\n",
       "      <th>...</th>\n",
       "      <th>value</th>\n",
       "      <th>Unnamed: 0_y</th>\n",
       "      <th>hash_y</th>\n",
       "      <th>CloseTime</th>\n",
       "      <th>CloseTimeTimestamp</th>\n",
       "      <th>CloseTimeHuman</th>\n",
       "      <th>TotalCoins</th>\n",
       "      <th>ParentHash</th>\n",
       "      <th>AccountHash</th>\n",
       "      <th>TransactionHash</th>\n",
       "    </tr>\n",
       "  </thead>\n",
       "  <tbody>\n",
       "  </tbody>\n",
       "</table>\n",
       "<p>0 rows × 75 columns</p>\n",
       "</div>"
      ],
      "text/plain": [
       "Empty DataFrame\n",
       "Columns: [Unnamed: 0_x, Sequence, InvoiceID, SourceTag, DestinationTag, Flags, Fee, Destination, hash_x, Account, TransactionType, DeliverMinXRP, SendMinXRP, LimitAmountXRP, SendMaxXRP, TakerPaysXRP, TakerGetsXRP, AmountXRP, LedgerIndex, TransactionResult, TransactionIndex, DeliveredAmount, Memos, SignerEntries, Signers, SigningPubKey, TxnSignature, AccountTxnID, SignerQuorum, ClearFlag, Domain, EmailHash, MessageKey, SetFlag, TransferRate, TickSize, CheckID, Expiration, Authorize, Owner, OfferSequence, Condition, FinishAfter, CancelAfter, Fulfillment, LastLedgerSequence, SettleDelay, RegularKey, QualityIn, QualityOut, Amendment, LedgerSequence, BaseFee, ReferenceFeeUnits, ReserveBase, ReserveIncrement, AmountDEX, TakerGetsDEX, TakerPaysDEX, SendMaxDEX, LimitAmountDEX, SendMinDEX, DeliverMinDEX, currency, issuer, value, Unnamed: 0_y, hash_y, CloseTime, CloseTimeTimestamp, CloseTimeHuman, TotalCoins, ParentHash, AccountHash, TransactionHash]\n",
       "Index: []\n",
       "\n",
       "[0 rows x 75 columns]"
      ]
     },
     "execution_count": 288,
     "metadata": {},
     "output_type": "execute_result"
    }
   ],
   "source": [
    "df = pd.merge(t, l, on='LedgerIndex', how ='inner')\n",
    "df.head()"
   ]
  },
  {
   "cell_type": "markdown",
   "metadata": {},
   "source": [
    "# New research"
   ]
  },
  {
   "cell_type": "code",
   "execution_count": null,
   "metadata": {},
   "outputs": [],
   "source": []
  }
 ],
 "metadata": {
  "kernelspec": {
   "display_name": "Python 3",
   "language": "python",
   "name": "python3"
  },
  "language_info": {
   "codemirror_mode": {
    "name": "ipython",
    "version": 3
   },
   "file_extension": ".py",
   "mimetype": "text/x-python",
   "name": "python",
   "nbconvert_exporter": "python",
   "pygments_lexer": "ipython3",
   "version": "3.8.0"
  }
 },
 "nbformat": 4,
 "nbformat_minor": 2
}
