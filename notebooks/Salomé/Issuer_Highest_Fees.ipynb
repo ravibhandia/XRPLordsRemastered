{
 "cells": [
  {
   "cell_type": "code",
   "execution_count": 2,
   "metadata": {},
   "outputs": [],
   "source": [
    "import pandas as pd\n",
    "import seaborn as sns\n",
    "import numpy as np\n",
    "import matplotlib.pyplot as plt\n",
    "import matplotlib.patches as mpatches\n",
    "%matplotlib inline"
   ]
  },
  {
   "cell_type": "code",
   "execution_count": 3,
   "metadata": {
    "scrolled": true
   },
   "outputs": [
    {
     "name": "stderr",
     "output_type": "stream",
     "text": [
      "/Library/Frameworks/Python.framework/Versions/3.8/lib/python3.8/site-packages/IPython/core/interactiveshell.py:3050: DtypeWarning: Columns (2,7,56,57,58,59,60,63,64) have mixed types. Specify dtype option on import or set low_memory=False.\n",
      "  has_raised = await self.run_ast_nodes(code_ast.body, cell_name,\n"
     ]
    }
   ],
   "source": [
    "t = pd.read_csv('transactions.csv')"
   ]
  },
  {
   "cell_type": "markdown",
   "metadata": {},
   "source": [
    "## Which issuer paid the highest sum of fees?"
   ]
  },
  {
   "cell_type": "code",
   "execution_count": 131,
   "metadata": {},
   "outputs": [],
   "source": [
    "df_sum = t.groupby(['issuer','LedgerIndex','currency']).Fee.sum().to_frame().reset_index()"
   ]
  },
  {
   "cell_type": "code",
   "execution_count": 132,
   "metadata": {},
   "outputs": [
    {
     "data": {
      "text/html": [
       "<div>\n",
       "<style scoped>\n",
       "    .dataframe tbody tr th:only-of-type {\n",
       "        vertical-align: middle;\n",
       "    }\n",
       "\n",
       "    .dataframe tbody tr th {\n",
       "        vertical-align: top;\n",
       "    }\n",
       "\n",
       "    .dataframe thead th {\n",
       "        text-align: right;\n",
       "    }\n",
       "</style>\n",
       "<table border=\"1\" class=\"dataframe\">\n",
       "  <thead>\n",
       "    <tr style=\"text-align: right;\">\n",
       "      <th></th>\n",
       "      <th>issuer</th>\n",
       "      <th>LedgerIndex</th>\n",
       "      <th>currency</th>\n",
       "      <th>Fee</th>\n",
       "    </tr>\n",
       "  </thead>\n",
       "  <tbody>\n",
       "    <tr>\n",
       "      <th>957</th>\n",
       "      <td>rvYAfWj5gh67oV6fW32ZzP3Aw4Eubs59B</td>\n",
       "      <td>27722875</td>\n",
       "      <td>BTC</td>\n",
       "      <td>280000</td>\n",
       "    </tr>\n",
       "  </tbody>\n",
       "</table>\n",
       "</div>"
      ],
      "text/plain": [
       "                                issuer  LedgerIndex currency     Fee\n",
       "957  rvYAfWj5gh67oV6fW32ZzP3Aw4Eubs59B     27722875      BTC  280000"
      ]
     },
     "execution_count": 132,
     "metadata": {},
     "output_type": "execute_result"
    }
   ],
   "source": [
    "data_sum = df_sum[df_sum['Fee'] == df_sum.Fee.max()]\n",
    "data_sum"
   ]
  },
  {
   "cell_type": "code",
   "execution_count": 133,
   "metadata": {},
   "outputs": [
    {
     "data": {
      "text/plain": [
       "1"
      ]
     },
     "execution_count": 133,
     "metadata": {},
     "output_type": "execute_result"
    }
   ],
   "source": [
    "data_sum.shape[0]"
   ]
  },
  {
   "cell_type": "markdown",
   "metadata": {},
   "source": [
    "### The issuer 'rvYAfWj5gh67oV6fW32ZzP3Aw4Eubs59B' has paid the most important amount of fees compared to other issuers. Let's learn about their transactions."
   ]
  },
  {
   "cell_type": "code",
   "execution_count": 137,
   "metadata": {},
   "outputs": [
    {
     "name": "stdout",
     "output_type": "stream",
     "text": [
      "The issuer corresponding to that transaction is rvYAfWj5gh67oV6fW32ZzP3Aw4Eubs59B\n",
      "The sum of the fees is 280000\n",
      "The currency used is BTC\n",
      "Ledger is 27722875\n"
     ]
    }
   ],
   "source": [
    "ledger_max = data_sum.LedgerIndex.to_string(index=False)\n",
    "Fee_max = data_sum.Fee.to_string(index=False)\n",
    "issuer_max_fee = data_sum.issuer.to_string(index=False)\n",
    "currency = data_sum.currency.to_string(index=False)\n",
    "print('The issuer corresponding to that transaction is' + issuer_max_fee)\n",
    "print('The sum of the fees is' + Fee_max)\n",
    "print('The currency used is' + currency)\n",
    "print('Ledger is' + ledger_max)"
   ]
  },
  {
   "cell_type": "markdown",
   "metadata": {},
   "source": [
    "## Which issuer paid the highest means of fees?"
   ]
  },
  {
   "cell_type": "code",
   "execution_count": 142,
   "metadata": {},
   "outputs": [],
   "source": [
    "df_means = t.groupby(['issuer','LedgerIndex','currency']).Fee.mean().to_frame().reset_index()"
   ]
  },
  {
   "cell_type": "code",
   "execution_count": 143,
   "metadata": {
    "scrolled": true
   },
   "outputs": [
    {
     "data": {
      "text/html": [
       "<div>\n",
       "<style scoped>\n",
       "    .dataframe tbody tr th:only-of-type {\n",
       "        vertical-align: middle;\n",
       "    }\n",
       "\n",
       "    .dataframe tbody tr th {\n",
       "        vertical-align: top;\n",
       "    }\n",
       "\n",
       "    .dataframe thead th {\n",
       "        text-align: right;\n",
       "    }\n",
       "</style>\n",
       "<table border=\"1\" class=\"dataframe\">\n",
       "  <thead>\n",
       "    <tr style=\"text-align: right;\">\n",
       "      <th></th>\n",
       "      <th>issuer</th>\n",
       "      <th>LedgerIndex</th>\n",
       "      <th>currency</th>\n",
       "      <th>Fee</th>\n",
       "    </tr>\n",
       "  </thead>\n",
       "  <tbody>\n",
       "    <tr>\n",
       "      <th>0</th>\n",
       "      <td>rvYAfWj5gh67oV6fW32ZzP3Aw4Eubs59B</td>\n",
       "      <td>27720993</td>\n",
       "      <td>BTC</td>\n",
       "      <td>120000.0</td>\n",
       "    </tr>\n",
       "    <tr>\n",
       "      <th>1</th>\n",
       "      <td>rvYAfWj5gh67oV6fW32ZzP3Aw4Eubs59B</td>\n",
       "      <td>27722330</td>\n",
       "      <td>BTC</td>\n",
       "      <td>120000.0</td>\n",
       "    </tr>\n",
       "  </tbody>\n",
       "</table>\n",
       "</div>"
      ],
      "text/plain": [
       "                              issuer  LedgerIndex currency       Fee\n",
       "0  rvYAfWj5gh67oV6fW32ZzP3Aw4Eubs59B     27720993      BTC  120000.0\n",
       "1  rvYAfWj5gh67oV6fW32ZzP3Aw4Eubs59B     27722330      BTC  120000.0"
      ]
     },
     "execution_count": 143,
     "metadata": {},
     "output_type": "execute_result"
    }
   ],
   "source": [
    "data_means = df_means[df_means['Fee'] == df_means.Fee.max()].reset_index(drop=True)\n",
    "data_means"
   ]
  },
  {
   "cell_type": "code",
   "execution_count": 144,
   "metadata": {},
   "outputs": [],
   "source": [
    "def is_unique_issuer(data_means):\n",
    " \n",
    "    if data_means.shape[0] == 1:\n",
    "        return True\n",
    "\n",
    "    if data_means.shape[0] > 1:\n",
    "        k = 0\n",
    "        for i in range(len(data_means)-1):\n",
    "            if data_means.loc[:,'issuer'][i] != data_means.loc[:,'issuer'][i+1]:  \n",
    "                k += 1\n",
    "        return k"
   ]
  },
  {
   "cell_type": "code",
   "execution_count": 147,
   "metadata": {},
   "outputs": [],
   "source": [
    "def highest_means_fees(data_means):\n",
    "    if is_unique_issuer(data_means):\n",
    "        issuer_max_fee = data_means.issuer.to_string(index=False)\n",
    "        Fee_max = data_means.Fee.to_string(index=False)\n",
    "        ledger_max = data_means.LedgerIndex.to_string(index=False)\n",
    "        currency = data_sum.currency.to_string(index=False)\n",
    "        print('The issuer corresponding to that transaction is ' + issuer_max_fee)\n",
    "        print('The sum of the fees is ' + Fee_max)\n",
    "        print('The currency used is' + currency)\n",
    "        print('Ledger is ' + ledger_max)\n",
    "        return\n",
    "    elif is_unique_issuer(data_means) == 0:\n",
    "        issuer_max_fee = data_means.loc[:,'issuer'][0]\n",
    "        Fee_max = data_means.loc[:,'Fee'][0]\n",
    "        print('The issuer corresponding to that transaction is ' + issuer_max_fee)\n",
    "        print('The sum of the fees is ' + str(Fee_max))\n",
    "        for i in range (len(data_means.loc[:,'LedgerIndex'])):\n",
    "            print('Ledger ' + str(i+1) + ' is ' + str(data_means.loc[:,'LedgerIndex'][i]) + 'in currency ' + \n",
    "                  str(data_means.loc[:,'currency'][i]))\n",
    "        return"
   ]
  },
  {
   "cell_type": "code",
   "execution_count": 148,
   "metadata": {
    "scrolled": true
   },
   "outputs": [
    {
     "name": "stdout",
     "output_type": "stream",
     "text": [
      "The issuer corresponding to that transaction is rvYAfWj5gh67oV6fW32ZzP3Aw4Eubs59B\n",
      "The sum of the fees is 120000.0\n",
      "Ledger 1 is 27720993in currency BTC\n",
      "Ledger 2 is 27722330in currency BTC\n"
     ]
    }
   ],
   "source": [
    "highest_means_fees(data_means)"
   ]
  },
  {
   "cell_type": "code",
   "execution_count": null,
   "metadata": {},
   "outputs": [],
   "source": []
  },
  {
   "cell_type": "code",
   "execution_count": null,
   "metadata": {},
   "outputs": [],
   "source": []
  },
  {
   "cell_type": "code",
   "execution_count": null,
   "metadata": {},
   "outputs": [],
   "source": []
  },
  {
   "cell_type": "code",
   "execution_count": null,
   "metadata": {},
   "outputs": [],
   "source": []
  },
  {
   "cell_type": "code",
   "execution_count": null,
   "metadata": {},
   "outputs": [],
   "source": []
  },
  {
   "cell_type": "code",
   "execution_count": null,
   "metadata": {},
   "outputs": [],
   "source": []
  },
  {
   "cell_type": "code",
   "execution_count": null,
   "metadata": {},
   "outputs": [],
   "source": []
  },
  {
   "cell_type": "markdown",
   "metadata": {},
   "source": [
    "# Now we want to get the average of fees per ledger that are above the threshold\n",
    "#### A ledger closes every 4 sec"
   ]
  },
  {
   "cell_type": "code",
   "execution_count": 122,
   "metadata": {},
   "outputs": [],
   "source": [
    "import pandas as pd\n",
    "import requests\n",
    "import seaborn as sns\n",
    "import datetime\n",
    "import numpy as np\n",
    "import matplotlib.pyplot as plt\n",
    "%matplotlib inline"
   ]
  },
  {
   "cell_type": "code",
   "execution_count": 140,
   "metadata": {
    "scrolled": true
   },
   "outputs": [
    {
     "data": {
      "text/html": [
       "<div>\n",
       "<style scoped>\n",
       "    .dataframe tbody tr th:only-of-type {\n",
       "        vertical-align: middle;\n",
       "    }\n",
       "\n",
       "    .dataframe tbody tr th {\n",
       "        vertical-align: top;\n",
       "    }\n",
       "\n",
       "    .dataframe thead th {\n",
       "        text-align: right;\n",
       "    }\n",
       "</style>\n",
       "<table border=\"1\" class=\"dataframe\">\n",
       "  <thead>\n",
       "    <tr style=\"text-align: right;\">\n",
       "      <th></th>\n",
       "      <th>hash</th>\n",
       "      <th>ledger_index</th>\n",
       "      <th>date</th>\n",
       "      <th>ledger_hash</th>\n",
       "      <th>tx</th>\n",
       "      <th>meta</th>\n",
       "    </tr>\n",
       "  </thead>\n",
       "  <tbody>\n",
       "    <tr>\n",
       "      <th>0</th>\n",
       "      <td>B42D1B34398FF9A026FD3B456506B12B35E83C9D1B0D84...</td>\n",
       "      <td>53436733</td>\n",
       "      <td>2020-02-15T00:00:00+00:00</td>\n",
       "      <td>FC07B4B80AED1743DDAE1B5205B60D3536FA95C47266B4...</td>\n",
       "      <td>{'TransactionType': 'Payment', 'Flags': 214748...</td>\n",
       "      <td>{'TransactionIndex': 0, 'AffectedNodes': [{'Mo...</td>\n",
       "    </tr>\n",
       "    <tr>\n",
       "      <th>1</th>\n",
       "      <td>9BE724A0385F3C30FD96FDBA420524E00F3F36ACFFB9B7...</td>\n",
       "      <td>53436733</td>\n",
       "      <td>2020-02-15T00:00:00+00:00</td>\n",
       "      <td>FC07B4B80AED1743DDAE1B5205B60D3536FA95C47266B4...</td>\n",
       "      <td>{'TransactionType': 'Payment', 'Flags': 214748...</td>\n",
       "      <td>{'TransactionIndex': 1, 'AffectedNodes': [{'Mo...</td>\n",
       "    </tr>\n",
       "    <tr>\n",
       "      <th>2</th>\n",
       "      <td>44F875DEEE3CD61E4EF77365DD9C39115C09D574CB993B...</td>\n",
       "      <td>53436733</td>\n",
       "      <td>2020-02-15T00:00:00+00:00</td>\n",
       "      <td>FC07B4B80AED1743DDAE1B5205B60D3536FA95C47266B4...</td>\n",
       "      <td>{'TransactionType': 'OfferCreate', 'Flags': 0,...</td>\n",
       "      <td>{'TransactionIndex': 2, 'AffectedNodes': [{'Cr...</td>\n",
       "    </tr>\n",
       "  </tbody>\n",
       "</table>\n",
       "</div>"
      ],
      "text/plain": [
       "                                                hash  ledger_index  \\\n",
       "0  B42D1B34398FF9A026FD3B456506B12B35E83C9D1B0D84...      53436733   \n",
       "1  9BE724A0385F3C30FD96FDBA420524E00F3F36ACFFB9B7...      53436733   \n",
       "2  44F875DEEE3CD61E4EF77365DD9C39115C09D574CB993B...      53436733   \n",
       "\n",
       "                        date  \\\n",
       "0  2020-02-15T00:00:00+00:00   \n",
       "1  2020-02-15T00:00:00+00:00   \n",
       "2  2020-02-15T00:00:00+00:00   \n",
       "\n",
       "                                         ledger_hash  \\\n",
       "0  FC07B4B80AED1743DDAE1B5205B60D3536FA95C47266B4...   \n",
       "1  FC07B4B80AED1743DDAE1B5205B60D3536FA95C47266B4...   \n",
       "2  FC07B4B80AED1743DDAE1B5205B60D3536FA95C47266B4...   \n",
       "\n",
       "                                                  tx  \\\n",
       "0  {'TransactionType': 'Payment', 'Flags': 214748...   \n",
       "1  {'TransactionType': 'Payment', 'Flags': 214748...   \n",
       "2  {'TransactionType': 'OfferCreate', 'Flags': 0,...   \n",
       "\n",
       "                                                meta  \n",
       "0  {'TransactionIndex': 0, 'AffectedNodes': [{'Mo...  \n",
       "1  {'TransactionIndex': 1, 'AffectedNodes': [{'Mo...  \n",
       "2  {'TransactionIndex': 2, 'AffectedNodes': [{'Cr...  "
      ]
     },
     "execution_count": 140,
     "metadata": {},
     "output_type": "execute_result"
    }
   ],
   "source": [
    "# website: https://xrpl.org/data-api.html#get-transaction\n",
    "#url = 'https://data.ripple.com/v2/transactions/03EDF724397D2DEE70E49D512AECD619E9EA536BE6CFD48ED167AE2596055C9A'\n",
    "# limit = nb of days\n",
    "#res = requests.get('https://data.ripple.com/v2/transactions?start=2020-02-25')\n",
    "res = requests.get('https://data.ripple.com/v2/transactions?start=2020-02-15&end=2020-02-16&limit=10000')\n",
    "#res = requests.get(url)\n",
    "cost = pd.DataFrame(res.json()['transactions'])\n",
    "cost.head(3)\n",
    "\n",
    "#cost.to_csv(\"test.csv\",index=False,sep=',')\n"
   ]
  },
  {
   "cell_type": "code",
   "execution_count": 141,
   "metadata": {},
   "outputs": [
    {
     "data": {
      "text/plain": [
       "{'TransactionType': 'Payment',\n",
       " 'Flags': 2147483648,\n",
       " 'Sequence': 1142,\n",
       " 'LastLedgerSequence': 53436735,\n",
       " 'Amount': '187',\n",
       " 'Fee': '12',\n",
       " 'SigningPubKey': '02575F42843E11CE4340DD4ECA7CD55033D66F9F27DE55F88F0C63D24CEAA2E54F',\n",
       " 'TxnSignature': '3045022100B0CD81B27D9ED7FFD86D32970F383A49BDAF429DF33B9537C5AFE0E432A06DBE022007E1017009CB6ADA7CF112D1A9E5101113F0779E25E3A6DF03171D9B1B798CC4',\n",
       " 'Account': 'rQp5VErJhB1RMsQaew1UBypKXYWhhfnBKb',\n",
       " 'Destination': 'riy2V9jj6rCHJdwDnNmXfmgeyCoKmqfY9',\n",
       " 'Memos': [{'Memo': {'MemoType': '',\n",
       "    'MemoData': '5374617274696E67204665627275617279203173742C20323032302C20526970706C652069732072656C656173696E6720332042696C6C696F6E2058525020746F20696E63656E746976697365206E6574776F726B2075736572732E2047657420323525206D6F72652058525020616464656420746F20796F7572206163636F756E742062616C616E636520696E206A757374206D696E757465732E2068747470733A2F2F7777772E676574726970706C652E6F7267'}}]}"
      ]
     },
     "execution_count": 141,
     "metadata": {},
     "output_type": "execute_result"
    }
   ],
   "source": [
    "cost[\"tx\"][0]\n",
    "cost[\"tx\"][15]"
   ]
  },
  {
   "cell_type": "code",
   "execution_count": 152,
   "metadata": {},
   "outputs": [
    {
     "data": {
      "text/plain": [
       "Index(['TransactionType', 'Flags', 'Sequence', 'LastLedgerSequence', 'Amount',\n",
       "       'Fee', 'SigningPubKey', 'TxnSignature', 'Account', 'Destination',\n",
       "       'Memos', 'OfferSequence', 'TakerPays', 'TakerGets.value',\n",
       "       'TakerGets.currency', 'TakerGets.issuer', 'TakerGets',\n",
       "       'TakerPays.value', 'TakerPays.currency', 'TakerPays.issuer', 'SendMax',\n",
       "       'Paths', 'Amount.value', 'Amount.currency', 'Amount.issuer',\n",
       "       'DestinationTag', 'Expiration'],\n",
       "      dtype='object')"
      ]
     },
     "execution_count": 152,
     "metadata": {},
     "output_type": "execute_result"
    }
   ],
   "source": [
    "from pandas.io.json import json_normalize\n",
    "df = json_normalize(cost['tx'])\n",
    "df.columns\n",
    "#df[['TakerPays.currency','Fee']]"
   ]
  },
  {
   "cell_type": "code",
   "execution_count": 153,
   "metadata": {},
   "outputs": [],
   "source": [
    "df = df[['TransactionType','TakerGets.issuer','TakerGets.currency',\n",
    "     'TakerPays.issuer', 'TakerPays.currency',\n",
    "     'Fee','Account']]"
   ]
  },
  {
   "cell_type": "code",
   "execution_count": 155,
   "metadata": {},
   "outputs": [],
   "source": [
    "m1 = df['TakerGets.currency'].isna()\n",
    "m2 = df['TakerPays.currency'].isna()\n",
    "\n",
    "df['currency'] = np.select([m1, m2, m1 & m2], \n",
    "                        [df['TakerPays.currency'], df['TakerGets.currency'], np.nan], \n",
    "                        default=df['TakerGets.currency'] + '_' + df['TakerPays.currency'])\n",
    "\n",
    "n1 = df['TakerGets.issuer'].isna()\n",
    "n2 = df['TakerPays.issuer'].isna()\n",
    "\n",
    "df['issuer'] = np.select([n1, n2, n1 & n2], \n",
    "                        [df['TakerPays.issuer'], df['TakerGets.issuer'], np.nan], \n",
    "                        default=df['TakerGets.issuer'] + '_' + df['TakerPays.issuer'])\n",
    "\n",
    "\n",
    "del df['TakerGets.currency']\n",
    "del df['TakerPays.currency']\n",
    "del df['TakerGets.issuer']\n",
    "del df['TakerPays.issuer']\n",
    "\n",
    "df_ = df"
   ]
  },
  {
   "cell_type": "code",
   "execution_count": 156,
   "metadata": {},
   "outputs": [],
   "source": [
    "#result = pd.concat([df1, df4], axis=1, join='inner')\n",
    "df = pd.concat([cost, df_], axis=1)\n",
    "del df['tx']\n",
    "del df['meta']\n",
    "df[\"Fee\"] = df.Fee.astype(float)"
   ]
  },
  {
   "cell_type": "code",
   "execution_count": 157,
   "metadata": {
    "scrolled": false
   },
   "outputs": [
    {
     "data": {
      "text/html": [
       "<div>\n",
       "<style scoped>\n",
       "    .dataframe tbody tr th:only-of-type {\n",
       "        vertical-align: middle;\n",
       "    }\n",
       "\n",
       "    .dataframe tbody tr th {\n",
       "        vertical-align: top;\n",
       "    }\n",
       "\n",
       "    .dataframe thead th {\n",
       "        text-align: right;\n",
       "    }\n",
       "</style>\n",
       "<table border=\"1\" class=\"dataframe\">\n",
       "  <thead>\n",
       "    <tr style=\"text-align: right;\">\n",
       "      <th></th>\n",
       "      <th>hash</th>\n",
       "      <th>ledger_index</th>\n",
       "      <th>date</th>\n",
       "      <th>ledger_hash</th>\n",
       "      <th>TransactionType</th>\n",
       "      <th>Fee</th>\n",
       "      <th>Account</th>\n",
       "      <th>currency</th>\n",
       "      <th>issuer</th>\n",
       "    </tr>\n",
       "  </thead>\n",
       "  <tbody>\n",
       "    <tr>\n",
       "      <th>0</th>\n",
       "      <td>B42D1B34398FF9A026FD3B456506B12B35E83C9D1B0D84...</td>\n",
       "      <td>53436733</td>\n",
       "      <td>2020-02-15T00:00:00+00:00</td>\n",
       "      <td>FC07B4B80AED1743DDAE1B5205B60D3536FA95C47266B4...</td>\n",
       "      <td>Payment</td>\n",
       "      <td>12.0</td>\n",
       "      <td>rBPT9mEAWnUxJfUcpcTp4bTkUQprZ6CkQp</td>\n",
       "      <td>NaN</td>\n",
       "      <td>NaN</td>\n",
       "    </tr>\n",
       "    <tr>\n",
       "      <th>1</th>\n",
       "      <td>9BE724A0385F3C30FD96FDBA420524E00F3F36ACFFB9B7...</td>\n",
       "      <td>53436733</td>\n",
       "      <td>2020-02-15T00:00:00+00:00</td>\n",
       "      <td>FC07B4B80AED1743DDAE1B5205B60D3536FA95C47266B4...</td>\n",
       "      <td>Payment</td>\n",
       "      <td>12.0</td>\n",
       "      <td>rB4r5x3RhpYe2Wx8DddoBrnnBPgcdYfBwS</td>\n",
       "      <td>NaN</td>\n",
       "      <td>NaN</td>\n",
       "    </tr>\n",
       "    <tr>\n",
       "      <th>2</th>\n",
       "      <td>44F875DEEE3CD61E4EF77365DD9C39115C09D574CB993B...</td>\n",
       "      <td>53436733</td>\n",
       "      <td>2020-02-15T00:00:00+00:00</td>\n",
       "      <td>FC07B4B80AED1743DDAE1B5205B60D3536FA95C47266B4...</td>\n",
       "      <td>OfferCreate</td>\n",
       "      <td>12.0</td>\n",
       "      <td>rwchA2b36zu2r6CJfEMzPLQ1cmciKFcw9t</td>\n",
       "      <td>CNY</td>\n",
       "      <td>rJ1adrpGS3xsnQMb9Cw54tWJVFPuSdZHK</td>\n",
       "    </tr>\n",
       "    <tr>\n",
       "      <th>3</th>\n",
       "      <td>6E571E2D856353445C321E9A37753F80420FDFB176C2D6...</td>\n",
       "      <td>53436733</td>\n",
       "      <td>2020-02-15T00:00:00+00:00</td>\n",
       "      <td>FC07B4B80AED1743DDAE1B5205B60D3536FA95C47266B4...</td>\n",
       "      <td>OfferCreate</td>\n",
       "      <td>12.0</td>\n",
       "      <td>rwchA2b36zu2r6CJfEMzPLQ1cmciKFcw9t</td>\n",
       "      <td>CNY</td>\n",
       "      <td>rJ1adrpGS3xsnQMb9Cw54tWJVFPuSdZHK</td>\n",
       "    </tr>\n",
       "    <tr>\n",
       "      <th>4</th>\n",
       "      <td>CB2066047769FA8329F6FA0FD8F88B06AFD8EDC7461A23...</td>\n",
       "      <td>53436733</td>\n",
       "      <td>2020-02-15T00:00:00+00:00</td>\n",
       "      <td>FC07B4B80AED1743DDAE1B5205B60D3536FA95C47266B4...</td>\n",
       "      <td>OfferCreate</td>\n",
       "      <td>12.0</td>\n",
       "      <td>rwchA2b36zu2r6CJfEMzPLQ1cmciKFcw9t</td>\n",
       "      <td>CNY</td>\n",
       "      <td>rJ1adrpGS3xsnQMb9Cw54tWJVFPuSdZHK</td>\n",
       "    </tr>\n",
       "  </tbody>\n",
       "</table>\n",
       "</div>"
      ],
      "text/plain": [
       "                                                hash  ledger_index  \\\n",
       "0  B42D1B34398FF9A026FD3B456506B12B35E83C9D1B0D84...      53436733   \n",
       "1  9BE724A0385F3C30FD96FDBA420524E00F3F36ACFFB9B7...      53436733   \n",
       "2  44F875DEEE3CD61E4EF77365DD9C39115C09D574CB993B...      53436733   \n",
       "3  6E571E2D856353445C321E9A37753F80420FDFB176C2D6...      53436733   \n",
       "4  CB2066047769FA8329F6FA0FD8F88B06AFD8EDC7461A23...      53436733   \n",
       "\n",
       "                        date  \\\n",
       "0  2020-02-15T00:00:00+00:00   \n",
       "1  2020-02-15T00:00:00+00:00   \n",
       "2  2020-02-15T00:00:00+00:00   \n",
       "3  2020-02-15T00:00:00+00:00   \n",
       "4  2020-02-15T00:00:00+00:00   \n",
       "\n",
       "                                         ledger_hash TransactionType   Fee  \\\n",
       "0  FC07B4B80AED1743DDAE1B5205B60D3536FA95C47266B4...         Payment  12.0   \n",
       "1  FC07B4B80AED1743DDAE1B5205B60D3536FA95C47266B4...         Payment  12.0   \n",
       "2  FC07B4B80AED1743DDAE1B5205B60D3536FA95C47266B4...     OfferCreate  12.0   \n",
       "3  FC07B4B80AED1743DDAE1B5205B60D3536FA95C47266B4...     OfferCreate  12.0   \n",
       "4  FC07B4B80AED1743DDAE1B5205B60D3536FA95C47266B4...     OfferCreate  12.0   \n",
       "\n",
       "                              Account currency  \\\n",
       "0  rBPT9mEAWnUxJfUcpcTp4bTkUQprZ6CkQp      NaN   \n",
       "1  rB4r5x3RhpYe2Wx8DddoBrnnBPgcdYfBwS      NaN   \n",
       "2  rwchA2b36zu2r6CJfEMzPLQ1cmciKFcw9t      CNY   \n",
       "3  rwchA2b36zu2r6CJfEMzPLQ1cmciKFcw9t      CNY   \n",
       "4  rwchA2b36zu2r6CJfEMzPLQ1cmciKFcw9t      CNY   \n",
       "\n",
       "                              issuer  \n",
       "0                                NaN  \n",
       "1                                NaN  \n",
       "2  rJ1adrpGS3xsnQMb9Cw54tWJVFPuSdZHK  \n",
       "3  rJ1adrpGS3xsnQMb9Cw54tWJVFPuSdZHK  \n",
       "4  rJ1adrpGS3xsnQMb9Cw54tWJVFPuSdZHK  "
      ]
     },
     "execution_count": 157,
     "metadata": {},
     "output_type": "execute_result"
    }
   ],
   "source": [
    "df.head()"
   ]
  },
  {
   "cell_type": "code",
   "execution_count": 160,
   "metadata": {},
   "outputs": [
    {
     "data": {
      "text/html": [
       "<div>\n",
       "<style scoped>\n",
       "    .dataframe tbody tr th:only-of-type {\n",
       "        vertical-align: middle;\n",
       "    }\n",
       "\n",
       "    .dataframe tbody tr th {\n",
       "        vertical-align: top;\n",
       "    }\n",
       "\n",
       "    .dataframe thead th {\n",
       "        text-align: right;\n",
       "    }\n",
       "</style>\n",
       "<table border=\"1\" class=\"dataframe\">\n",
       "  <thead>\n",
       "    <tr style=\"text-align: right;\">\n",
       "      <th></th>\n",
       "      <th>ledger_index</th>\n",
       "      <th>Fee</th>\n",
       "    </tr>\n",
       "  </thead>\n",
       "  <tbody>\n",
       "    <tr>\n",
       "      <th>0</th>\n",
       "      <td>53436733</td>\n",
       "      <td>16.382979</td>\n",
       "    </tr>\n",
       "    <tr>\n",
       "      <th>1</th>\n",
       "      <td>53436734</td>\n",
       "      <td>11.842105</td>\n",
       "    </tr>\n",
       "    <tr>\n",
       "      <th>2</th>\n",
       "      <td>53436735</td>\n",
       "      <td>11.600000</td>\n",
       "    </tr>\n",
       "  </tbody>\n",
       "</table>\n",
       "</div>"
      ],
      "text/plain": [
       "   ledger_index        Fee\n",
       "0      53436733  16.382979\n",
       "1      53436734  11.842105\n",
       "2      53436735  11.600000"
      ]
     },
     "execution_count": 160,
     "metadata": {},
     "output_type": "execute_result"
    }
   ],
   "source": [
    "df_means_fee = df.groupby('ledger_index').Fee.mean().to_frame().reset_index()\n",
    "df_means_fee"
   ]
  },
  {
   "cell_type": "code",
   "execution_count": 166,
   "metadata": {
    "scrolled": true
   },
   "outputs": [
    {
     "data": {
      "text/plain": [
       "Text(0.5, 1.0, 'Proportion of Fee means per ledger')"
      ]
     },
     "execution_count": 166,
     "metadata": {},
     "output_type": "execute_result"
    },
    {
     "data": {
      "image/png": "[encoded data removed]",
      "text/plain": [
       "<Figure size 432x288 with 1 Axes>"
      ]
     },
     "metadata": {},
     "output_type": "display_data"
    }
   ],
   "source": [
    "# plot it \n",
    "ledger = fee_mean['ledger_index']\n",
    "plt.pie(fee_mean['Fee'], labels=ledger, autopct='%.01f', shadow=True)\n",
    "plt.title('Proportion of Fee means per ledger')"
   ]
  },
  {
   "cell_type": "code",
   "execution_count": 168,
   "metadata": {
    "scrolled": true
   },
   "outputs": [
    {
     "data": {
      "text/html": [
       "<div>\n",
       "<style scoped>\n",
       "    .dataframe tbody tr th:only-of-type {\n",
       "        vertical-align: middle;\n",
       "    }\n",
       "\n",
       "    .dataframe tbody tr th {\n",
       "        vertical-align: top;\n",
       "    }\n",
       "\n",
       "    .dataframe thead th {\n",
       "        text-align: right;\n",
       "    }\n",
       "</style>\n",
       "<table border=\"1\" class=\"dataframe\">\n",
       "  <thead>\n",
       "    <tr style=\"text-align: right;\">\n",
       "      <th></th>\n",
       "      <th>hash</th>\n",
       "      <th>ledger_index</th>\n",
       "      <th>date</th>\n",
       "      <th>ledger_hash</th>\n",
       "      <th>TransactionType</th>\n",
       "      <th>Fee</th>\n",
       "      <th>Account</th>\n",
       "      <th>currency</th>\n",
       "      <th>issuer</th>\n",
       "    </tr>\n",
       "  </thead>\n",
       "  <tbody>\n",
       "    <tr>\n",
       "      <th>40</th>\n",
       "      <td>7C4EE400B3470C5FD194922CAE9FA14B1F64DCDFF02775...</td>\n",
       "      <td>53436733</td>\n",
       "      <td>2020-02-15T00:00:00+00:00</td>\n",
       "      <td>FC07B4B80AED1743DDAE1B5205B60D3536FA95C47266B4...</td>\n",
       "      <td>Payment</td>\n",
       "      <td>102.0</td>\n",
       "      <td>rwZiRAZz2d3arorLk3uqWULxGKyo5F2n8L</td>\n",
       "      <td>NaN</td>\n",
       "      <td>NaN</td>\n",
       "    </tr>\n",
       "    <tr>\n",
       "      <th>45</th>\n",
       "      <td>661FC3DC161F3BC604E8B93742D277BB59419EA891A146...</td>\n",
       "      <td>53436733</td>\n",
       "      <td>2020-02-15T00:00:00+00:00</td>\n",
       "      <td>FC07B4B80AED1743DDAE1B5205B60D3536FA95C47266B4...</td>\n",
       "      <td>Payment</td>\n",
       "      <td>132.0</td>\n",
       "      <td>rEsCYHcMpr5M4Knd9iPWF8oUaHkMEZ1r3a</td>\n",
       "      <td>NaN</td>\n",
       "      <td>NaN</td>\n",
       "    </tr>\n",
       "  </tbody>\n",
       "</table>\n",
       "</div>"
      ],
      "text/plain": [
       "                                                 hash  ledger_index  \\\n",
       "40  7C4EE400B3470C5FD194922CAE9FA14B1F64DCDFF02775...      53436733   \n",
       "45  661FC3DC161F3BC604E8B93742D277BB59419EA891A146...      53436733   \n",
       "\n",
       "                         date  \\\n",
       "40  2020-02-15T00:00:00+00:00   \n",
       "45  2020-02-15T00:00:00+00:00   \n",
       "\n",
       "                                          ledger_hash TransactionType    Fee  \\\n",
       "40  FC07B4B80AED1743DDAE1B5205B60D3536FA95C47266B4...         Payment  102.0   \n",
       "45  FC07B4B80AED1743DDAE1B5205B60D3536FA95C47266B4...         Payment  132.0   \n",
       "\n",
       "                               Account currency issuer  \n",
       "40  rwZiRAZz2d3arorLk3uqWULxGKyo5F2n8L      NaN    NaN  \n",
       "45  rEsCYHcMpr5M4Knd9iPWF8oUaHkMEZ1r3a      NaN    NaN  "
      ]
     },
     "execution_count": 168,
     "metadata": {},
     "output_type": "execute_result"
    }
   ],
   "source": [
    "df[df['Fee']> 50]"
   ]
  },
  {
   "cell_type": "code",
   "execution_count": null,
   "metadata": {},
   "outputs": [],
   "source": []
  },
  {
   "cell_type": "markdown",
   "metadata": {},
   "source": [
    "# Try Ravi's code for the slackbot"
   ]
  },
  {
   "cell_type": "code",
   "execution_count": null,
   "metadata": {},
   "outputs": [],
   "source": []
  },
  {
   "cell_type": "code",
   "execution_count": 169,
   "metadata": {},
   "outputs": [],
   "source": [
    "def check_tx_count_great200():\n",
    "    url='https://data.ripple.com/v2/transactions/'+ datetime.now().strftime('%Y-%m-%dT%H:%M:%SZ')\n",
    "    #ledger_identifier=2020-01-22T11:20:00Z\\\n",
    "    resmain = requests.get(url)\n",
    "    x = resmain.json()['transactions']\n",
    "    if (int(cost['tx']['fee'])>100):\n",
    "        return True, x\n",
    "    else:\n",
    "        return False, x"
   ]
  },
  {
   "cell_type": "code",
   "execution_count": 176,
   "metadata": {},
   "outputs": [
    {
     "data": {
      "text/html": [
       "<div>\n",
       "<style scoped>\n",
       "    .dataframe tbody tr th:only-of-type {\n",
       "        vertical-align: middle;\n",
       "    }\n",
       "\n",
       "    .dataframe tbody tr th {\n",
       "        vertical-align: top;\n",
       "    }\n",
       "\n",
       "    .dataframe thead th {\n",
       "        text-align: right;\n",
       "    }\n",
       "</style>\n",
       "<table border=\"1\" class=\"dataframe\">\n",
       "  <thead>\n",
       "    <tr style=\"text-align: right;\">\n",
       "      <th></th>\n",
       "      <th>hash</th>\n",
       "      <th>ledger_index</th>\n",
       "      <th>date</th>\n",
       "      <th>ledger_hash</th>\n",
       "      <th>tx</th>\n",
       "      <th>meta</th>\n",
       "    </tr>\n",
       "  </thead>\n",
       "  <tbody>\n",
       "    <tr>\n",
       "      <th>0</th>\n",
       "      <td>B42D1B34398FF9A026FD3B456506B12B35E83C9D1B0D84...</td>\n",
       "      <td>53436733</td>\n",
       "      <td>2020-02-15T00:00:00+00:00</td>\n",
       "      <td>FC07B4B80AED1743DDAE1B5205B60D3536FA95C47266B4...</td>\n",
       "      <td>{'TransactionType': 'Payment', 'Flags': 214748...</td>\n",
       "      <td>{'TransactionIndex': 0, 'AffectedNodes': [{'Mo...</td>\n",
       "    </tr>\n",
       "    <tr>\n",
       "      <th>1</th>\n",
       "      <td>9BE724A0385F3C30FD96FDBA420524E00F3F36ACFFB9B7...</td>\n",
       "      <td>53436733</td>\n",
       "      <td>2020-02-15T00:00:00+00:00</td>\n",
       "      <td>FC07B4B80AED1743DDAE1B5205B60D3536FA95C47266B4...</td>\n",
       "      <td>{'TransactionType': 'Payment', 'Flags': 214748...</td>\n",
       "      <td>{'TransactionIndex': 1, 'AffectedNodes': [{'Mo...</td>\n",
       "    </tr>\n",
       "    <tr>\n",
       "      <th>2</th>\n",
       "      <td>44F875DEEE3CD61E4EF77365DD9C39115C09D574CB993B...</td>\n",
       "      <td>53436733</td>\n",
       "      <td>2020-02-15T00:00:00+00:00</td>\n",
       "      <td>FC07B4B80AED1743DDAE1B5205B60D3536FA95C47266B4...</td>\n",
       "      <td>{'TransactionType': 'OfferCreate', 'Flags': 0,...</td>\n",
       "      <td>{'TransactionIndex': 2, 'AffectedNodes': [{'Cr...</td>\n",
       "    </tr>\n",
       "  </tbody>\n",
       "</table>\n",
       "</div>"
      ],
      "text/plain": [
       "                                                hash  ledger_index  \\\n",
       "0  B42D1B34398FF9A026FD3B456506B12B35E83C9D1B0D84...      53436733   \n",
       "1  9BE724A0385F3C30FD96FDBA420524E00F3F36ACFFB9B7...      53436733   \n",
       "2  44F875DEEE3CD61E4EF77365DD9C39115C09D574CB993B...      53436733   \n",
       "\n",
       "                        date  \\\n",
       "0  2020-02-15T00:00:00+00:00   \n",
       "1  2020-02-15T00:00:00+00:00   \n",
       "2  2020-02-15T00:00:00+00:00   \n",
       "\n",
       "                                         ledger_hash  \\\n",
       "0  FC07B4B80AED1743DDAE1B5205B60D3536FA95C47266B4...   \n",
       "1  FC07B4B80AED1743DDAE1B5205B60D3536FA95C47266B4...   \n",
       "2  FC07B4B80AED1743DDAE1B5205B60D3536FA95C47266B4...   \n",
       "\n",
       "                                                  tx  \\\n",
       "0  {'TransactionType': 'Payment', 'Flags': 214748...   \n",
       "1  {'TransactionType': 'Payment', 'Flags': 214748...   \n",
       "2  {'TransactionType': 'OfferCreate', 'Flags': 0,...   \n",
       "\n",
       "                                                meta  \n",
       "0  {'TransactionIndex': 0, 'AffectedNodes': [{'Mo...  \n",
       "1  {'TransactionIndex': 1, 'AffectedNodes': [{'Mo...  \n",
       "2  {'TransactionIndex': 2, 'AffectedNodes': [{'Cr...  "
      ]
     },
     "execution_count": 176,
     "metadata": {},
     "output_type": "execute_result"
    }
   ],
   "source": [
    "res = requests.get('https://data.ripple.com/v2/transactions?start=2020-02-15&end=2020-02-16&limit=10000')\n",
    "#res = requests.get(url)\n",
    "cost = pd.DataFrame(res.json()['transactions'])\n",
    "cost.head(3)"
   ]
  },
  {
   "cell_type": "code",
   "execution_count": 175,
   "metadata": {},
   "outputs": [
    {
     "ename": "KeyError",
     "evalue": "'transactions'",
     "output_type": "error",
     "traceback": [
      "\u001b[0;31m---------------------------------------------------------------------------\u001b[0m",
      "\u001b[0;31mKeyError\u001b[0m                                  Traceback (most recent call last)",
      "\u001b[0;32m<ipython-input-175-1ff8c141d078>\u001b[0m in \u001b[0;36m<module>\u001b[0;34m\u001b[0m\n\u001b[1;32m      4\u001b[0m     \u001b[0;31m#ledger_identifier=2020-01-22T11:20:00Z\\\u001b[0m\u001b[0;34m\u001b[0m\u001b[0;34m\u001b[0m\u001b[0;34m\u001b[0m\u001b[0m\n\u001b[1;32m      5\u001b[0m \u001b[0mresmain\u001b[0m \u001b[0;34m=\u001b[0m \u001b[0mrequests\u001b[0m\u001b[0;34m.\u001b[0m\u001b[0mget\u001b[0m\u001b[0;34m(\u001b[0m\u001b[0murl\u001b[0m\u001b[0;34m)\u001b[0m\u001b[0;34m\u001b[0m\u001b[0;34m\u001b[0m\u001b[0m\n\u001b[0;32m----> 6\u001b[0;31m \u001b[0mx\u001b[0m \u001b[0;34m=\u001b[0m \u001b[0mpd\u001b[0m\u001b[0;34m.\u001b[0m\u001b[0mDataFrame\u001b[0m\u001b[0;34m(\u001b[0m\u001b[0mresmain\u001b[0m\u001b[0;34m.\u001b[0m\u001b[0mjson\u001b[0m\u001b[0;34m(\u001b[0m\u001b[0;34m)\u001b[0m\u001b[0;34m[\u001b[0m\u001b[0;34m'transactions'\u001b[0m\u001b[0;34m]\u001b[0m\u001b[0;34m)\u001b[0m\u001b[0;34m\u001b[0m\u001b[0;34m\u001b[0m\u001b[0m\n\u001b[0m\u001b[1;32m      7\u001b[0m \u001b[0mprint\u001b[0m\u001b[0;34m(\u001b[0m\u001b[0mx\u001b[0m\u001b[0;34m)\u001b[0m\u001b[0;34m\u001b[0m\u001b[0;34m\u001b[0m\u001b[0m\n",
      "\u001b[0;31mKeyError\u001b[0m: 'transactions'"
     ]
    }
   ],
   "source": [
    "import time\n",
    "from datetime import datetime\n",
    "url='https://data.ripple.com/v2/transactions/'+ datetime.now().strftime('%Y-%m-%dT%H:%M:%SZ')\n",
    "    #ledger_identifier=2020-01-22T11:20:00Z\\\n",
    "resmain = requests.get(url)\n",
    "x = pd.DataFrame(resmain.json()['transactions'])\n",
    "print(x)"
   ]
  },
  {
   "cell_type": "code",
   "execution_count": null,
   "metadata": {},
   "outputs": [],
   "source": []
  }
 ],
 "metadata": {
  "kernelspec": {
   "display_name": "Python 3",
   "language": "python",
   "name": "python3"
  },
  "language_info": {
   "codemirror_mode": {
    "name": "ipython",
    "version": 3
   },
   "file_extension": ".py",
   "mimetype": "text/x-python",
   "name": "python",
   "nbconvert_exporter": "python",
   "pygments_lexer": "ipython3",
   "version": "3.8.0"
  }
 },
 "nbformat": 4,
 "nbformat_minor": 4
}
