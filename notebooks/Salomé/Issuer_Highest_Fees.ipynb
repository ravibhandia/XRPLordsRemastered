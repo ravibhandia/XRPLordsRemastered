{
 "cells": [
  {
   "cell_type": "code",
   "execution_count": 2,
   "metadata": {},
   "outputs": [],
   "source": [
    "import pandas as pd\n",
    "import seaborn as sns\n",
    "import numpy as np\n",
    "import matplotlib.pyplot as plt\n",
    "import matplotlib.patches as mpatches\n",
    "%matplotlib inline"
   ]
  },
  {
   "cell_type": "code",
   "execution_count": 3,
   "metadata": {
    "scrolled": true
   },
   "outputs": [
    {
     "name": "stderr",
     "output_type": "stream",
     "text": [
      "/Library/Frameworks/Python.framework/Versions/3.8/lib/python3.8/site-packages/IPython/core/interactiveshell.py:3050: DtypeWarning: Columns (2,7,56,57,58,59,60,63,64) have mixed types. Specify dtype option on import or set low_memory=False.\n",
      "  has_raised = await self.run_ast_nodes(code_ast.body, cell_name,\n"
     ]
    }
   ],
   "source": [
    "t = pd.read_csv('transactions.csv')"
   ]
  },
  {
   "cell_type": "markdown",
   "metadata": {},
   "source": [
    "## Which issuer paid the highest sum of fees?"
   ]
  },
  {
   "cell_type": "code",
   "execution_count": 81,
   "metadata": {},
   "outputs": [],
   "source": [
    "df_sum = t.groupby(['issuer','LedgerIndex']).Fee.sum().to_frame().reset_index()"
   ]
  },
  {
   "cell_type": "code",
   "execution_count": 82,
   "metadata": {},
   "outputs": [
    {
     "data": {
      "text/html": [
       "<div>\n",
       "<style scoped>\n",
       "    .dataframe tbody tr th:only-of-type {\n",
       "        vertical-align: middle;\n",
       "    }\n",
       "\n",
       "    .dataframe tbody tr th {\n",
       "        vertical-align: top;\n",
       "    }\n",
       "\n",
       "    .dataframe thead th {\n",
       "        text-align: right;\n",
       "    }\n",
       "</style>\n",
       "<table border=\"1\" class=\"dataframe\">\n",
       "  <thead>\n",
       "    <tr style=\"text-align: right;\">\n",
       "      <th></th>\n",
       "      <th>issuer</th>\n",
       "      <th>LedgerIndex</th>\n",
       "      <th>Fee</th>\n",
       "    </tr>\n",
       "  </thead>\n",
       "  <tbody>\n",
       "    <tr>\n",
       "      <th>956</th>\n",
       "      <td>rvYAfWj5gh67oV6fW32ZzP3Aw4Eubs59B</td>\n",
       "      <td>27722875</td>\n",
       "      <td>280000</td>\n",
       "    </tr>\n",
       "  </tbody>\n",
       "</table>\n",
       "</div>"
      ],
      "text/plain": [
       "                                issuer  LedgerIndex     Fee\n",
       "956  rvYAfWj5gh67oV6fW32ZzP3Aw4Eubs59B     27722875  280000"
      ]
     },
     "execution_count": 82,
     "metadata": {},
     "output_type": "execute_result"
    }
   ],
   "source": [
    "data_sum = df_sum[df_sum['Fee'] == df_sum.Fee.max()]\n",
    "data_sum"
   ]
  },
  {
   "cell_type": "code",
   "execution_count": 85,
   "metadata": {},
   "outputs": [
    {
     "data": {
      "text/plain": [
       "1"
      ]
     },
     "execution_count": 85,
     "metadata": {},
     "output_type": "execute_result"
    }
   ],
   "source": [
    "data_sum.shape[0]"
   ]
  },
  {
   "cell_type": "markdown",
   "metadata": {},
   "source": [
    "### The issuer 'rvYAfWj5gh67oV6fW32ZzP3Aw4Eubs59B' has paid the most important amount of fees compared to other issuers. Let's learn about their transactions."
   ]
  },
  {
   "cell_type": "code",
   "execution_count": 38,
   "metadata": {},
   "outputs": [
    {
     "name": "stdout",
     "output_type": "stream",
     "text": [
      "Ledger is 27722875\n",
      "The sum of the fees is 280000\n",
      "The issuer corresponding to that transaction is rvYAfWj5gh67oV6fW32ZzP3Aw4Eubs59B\n"
     ]
    }
   ],
   "source": [
    "ledger_max = data_sum.LedgerIndex.to_string(index=False)\n",
    "Fee_max = data_sum.Fee.to_string(index=False)\n",
    "issuer_max_fee = data_sum.issuer.to_string(index=False)\n",
    "print('Ledger is' + ledger_max)\n",
    "print('The sum of the fees is' + Fee_max)\n",
    "print('The issuer corresponding to that transaction is' + issuer_max_fee)"
   ]
  },
  {
   "cell_type": "markdown",
   "metadata": {},
   "source": [
    "## Which issuer paid the highest means of fees?"
   ]
  },
  {
   "cell_type": "code",
   "execution_count": 40,
   "metadata": {},
   "outputs": [],
   "source": [
    "df_means = t.groupby(['issuer','LedgerIndex']).Fee.mean().to_frame().reset_index()"
   ]
  },
  {
   "cell_type": "code",
   "execution_count": 72,
   "metadata": {
    "scrolled": true
   },
   "outputs": [
    {
     "data": {
      "text/html": [
       "<div>\n",
       "<style scoped>\n",
       "    .dataframe tbody tr th:only-of-type {\n",
       "        vertical-align: middle;\n",
       "    }\n",
       "\n",
       "    .dataframe tbody tr th {\n",
       "        vertical-align: top;\n",
       "    }\n",
       "\n",
       "    .dataframe thead th {\n",
       "        text-align: right;\n",
       "    }\n",
       "</style>\n",
       "<table border=\"1\" class=\"dataframe\">\n",
       "  <thead>\n",
       "    <tr style=\"text-align: right;\">\n",
       "      <th></th>\n",
       "      <th>issuer</th>\n",
       "      <th>LedgerIndex</th>\n",
       "      <th>Fee</th>\n",
       "    </tr>\n",
       "  </thead>\n",
       "  <tbody>\n",
       "    <tr>\n",
       "      <th>0</th>\n",
       "      <td>rvYAfWj5gh67oV6fW32ZzP3Aw4Eubs59B</td>\n",
       "      <td>27720993</td>\n",
       "      <td>120000.0</td>\n",
       "    </tr>\n",
       "    <tr>\n",
       "      <th>1</th>\n",
       "      <td>rvYAfWj5gh67oV6fW32ZzP3Aw4Eubs59B</td>\n",
       "      <td>27722330</td>\n",
       "      <td>120000.0</td>\n",
       "    </tr>\n",
       "  </tbody>\n",
       "</table>\n",
       "</div>"
      ],
      "text/plain": [
       "                              issuer  LedgerIndex       Fee\n",
       "0  rvYAfWj5gh67oV6fW32ZzP3Aw4Eubs59B     27720993  120000.0\n",
       "1  rvYAfWj5gh67oV6fW32ZzP3Aw4Eubs59B     27722330  120000.0"
      ]
     },
     "execution_count": 72,
     "metadata": {},
     "output_type": "execute_result"
    }
   ],
   "source": [
    "data_means = df_means[df_means['Fee'] == df_means.Fee.max()].reset_index(drop=True)\n",
    "data_means"
   ]
  },
  {
   "cell_type": "code",
   "execution_count": 127,
   "metadata": {},
   "outputs": [],
   "source": [
    "def is_unique_issuer(data_means):\n",
    " \n",
    "    if data_means.shape[0] == 1:\n",
    "        return True\n",
    "\n",
    "    if data_means.shape[0] > 1:\n",
    "        k = 0\n",
    "        for i in range(len(data_means)-1):\n",
    "            if data_means.loc[:,'issuer'][i] != data_means.loc[:,'issuer'][i+1]:  \n",
    "                k += 1\n",
    "        return k"
   ]
  },
  {
   "cell_type": "code",
   "execution_count": 129,
   "metadata": {},
   "outputs": [],
   "source": [
    "def highest_means_fees(data_means):\n",
    "    if is_unique_issuer(data_means):\n",
    "        issuer_max_fee = data_means.issuer.to_string(index=False)\n",
    "        Fee_max = data_means.Fee.to_string(index=False)\n",
    "        ledger_max = data_means.LedgerIndex.to_string(index=False)\n",
    "        print('The issuer corresponding to that transaction is ' + issuer_max_fee)\n",
    "        print('The sum of the fees is ' + Fee_max)\n",
    "        print('Ledger is ' + ledger_max)\n",
    "        return\n",
    "    elif is_unique_issuer(data_means) == 0:\n",
    "        issuer_max_fee = data_means.loc[:,'issuer'][0]\n",
    "        Fee_max = data_means.loc[:,'Fee'][0]\n",
    "        print('The issuer corresponding to that transaction is ' + issuer_max_fee)\n",
    "        print('The sum of the fees is ' + str(Fee_max))\n",
    "        for i in range (len(data_means.loc[:,'LedgerIndex'])):\n",
    "            print('Ledger ' + str(i+1) + ' is ' + str(data_means.loc[:,'LedgerIndex'][i]))\n",
    "        return"
   ]
  },
  {
   "cell_type": "code",
   "execution_count": 130,
   "metadata": {},
   "outputs": [
    {
     "name": "stdout",
     "output_type": "stream",
     "text": [
      "The issuer corresponding to that transaction is rvYAfWj5gh67oV6fW32ZzP3Aw4Eubs59B\n",
      "The sum of the fees is 120000.0\n",
      "Ledger 1 is 27720993\n",
      "Ledger 2 is 27722330\n"
     ]
    }
   ],
   "source": [
    "highest_means_fees(data_means)"
   ]
  }
 ],
 "metadata": {
  "kernelspec": {
   "display_name": "Python 3",
   "language": "python",
   "name": "python3"
  },
  "language_info": {
   "codemirror_mode": {
    "name": "ipython",
    "version": 3
   },
   "file_extension": ".py",
   "mimetype": "text/x-python",
   "name": "python",
   "nbconvert_exporter": "python",
   "pygments_lexer": "ipython3",
   "version": "3.8.0"
  }
 },
 "nbformat": 4,
 "nbformat_minor": 4
}
