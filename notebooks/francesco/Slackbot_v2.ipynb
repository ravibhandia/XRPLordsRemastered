{
  "nbformat": 4,
  "nbformat_minor": 0,
  "metadata": {
    "colab": {
      "name": "Slackbot.ipynb",
      "provenance": []
    },
    "kernelspec": {
      "name": "python3",
      "display_name": "Python 3"
    }
  },
  "cells": [
    {
      "cell_type": "code",
      "metadata": {
        "id": "bW5cEv94ob_R",
        "colab_type": "code",
        "outputId": "0f99f15e-a5d2-4aa1-a0f4-f4bff235504d",
        "colab": {
          "base_uri": "https://localhost:8080/",
          "height": 403
        }
      },
      "source": [
        "!pip install slack\n",
        "!pip install slacker"
      ],
      "execution_count": 0,
      "outputs": [
        {
          "output_type": "stream",
          "text": [
            "Collecting slack\n",
            "  Downloading https://files.pythonhosted.org/packages/90/90/b5f37b4d4715d89a15700e3782ad0f71f5c454b8d403650e4e1abd37a071/slack-0.0.2.tar.gz\n",
            "Building wheels for collected packages: slack\n",
            "  Building wheel for slack (setup.py) ... \u001b[?25l\u001b[?25hdone\n",
            "  Created wheel for slack: filename=slack-0.0.2-cp36-none-any.whl size=2528 sha256=363b311c8f3bb401da849d6f1696837348ca4efb3aa766c24df8be17fc20615d\n",
            "  Stored in directory: /root/.cache/pip/wheels/fc/ad/71/97b5bbcd99b6517e801a0eed14aa9fc1b6e4fa27fe2df7959a\n",
            "Successfully built slack\n",
            "Installing collected packages: slack\n",
            "Successfully installed slack-0.0.2\n",
            "Collecting slacker\n",
            "  Downloading https://files.pythonhosted.org/packages/ce/e5/ea90f49e6d0905dcb2d0ab47e068b8f28f87dd97bd2e599164c693a52691/slacker-0.14.0.tar.gz\n",
            "Requirement already satisfied: requests>=2.2.1 in /usr/local/lib/python3.6/dist-packages (from slacker) (2.21.0)\n",
            "Requirement already satisfied: chardet<3.1.0,>=3.0.2 in /usr/local/lib/python3.6/dist-packages (from requests>=2.2.1->slacker) (3.0.4)\n",
            "Requirement already satisfied: certifi>=2017.4.17 in /usr/local/lib/python3.6/dist-packages (from requests>=2.2.1->slacker) (2019.11.28)\n",
            "Requirement already satisfied: urllib3<1.25,>=1.21.1 in /usr/local/lib/python3.6/dist-packages (from requests>=2.2.1->slacker) (1.24.3)\n",
            "Requirement already satisfied: idna<2.9,>=2.5 in /usr/local/lib/python3.6/dist-packages (from requests>=2.2.1->slacker) (2.8)\n",
            "Building wheels for collected packages: slacker\n",
            "  Building wheel for slacker (setup.py) ... \u001b[?25l\u001b[?25hdone\n",
            "  Created wheel for slacker: filename=slacker-0.14.0-cp36-none-any.whl size=9397 sha256=45591fd27a66f28174e2e838b5dab792b2a3accb4afbe72f5ecb97fb2d0d839d\n",
            "  Stored in directory: /root/.cache/pip/wheels/7e/ed/ff/f60455391d9ee3bb371ba41f1eb7eac0008e93cd3c6677a690\n",
            "Successfully built slacker\n",
            "Installing collected packages: slacker\n",
            "Successfully installed slacker-0.14.0\n"
          ],
          "name": "stdout"
        }
      ]
    },
    {
      "cell_type": "code",
      "metadata": {
        "id": "WqgRpKSjl8et",
        "colab_type": "code",
        "colab": {}
      },
      "source": [
        "import slack\n",
        "from slacker import Slacker\n",
        "#from IPython.display import Image\n",
        "import requests\n",
        "import pandas as pd\n",
        "import json\n",
        "import matplotlib.pyplot as plt\n",
        "import numpy as np\n",
        "import time\n",
        "from datetime import datetime"
      ],
      "execution_count": 0,
      "outputs": []
    },
    {
      "cell_type": "code",
      "metadata": {
        "id": "GOMmn0tDnacj",
        "colab_type": "code",
        "colab": {}
      },
      "source": [
        "token = 'your token here'\n",
        "slack = Slacker(token)"
      ],
      "execution_count": 0,
      "outputs": []
    },
    {
      "cell_type": "code",
      "metadata": {
        "id": "ZkQuCdpBncIr",
        "colab_type": "code",
        "outputId": "31f2a099-d74a-437d-8494-eb7212d5be7d",
        "colab": {
          "base_uri": "https://localhost:8080/",
          "height": 34
        }
      },
      "source": [
        "# Check for success\n",
        "if slack.api.test().successful:\n",
        "    print(f\"Connected to {slack.team.info().body['team']['name']}\")\n",
        "else:\n",
        "    print('Try Again!')"
      ],
      "execution_count": 0,
      "outputs": [
        {
          "output_type": "stream",
          "text": [
            "Connected to Capstone team\n"
          ],
          "name": "stdout"
        }
      ]
    },
    {
      "cell_type": "code",
      "metadata": {
        "id": "n9Ro6I2pyFFb",
        "colab_type": "code",
        "colab": {}
      },
      "source": [
        "def check_tx_count_great200():\n",
        "    url='https://data.ripple.com/v2/ledgers/'+ datetime.now().strftime('%Y-%m-%dT%H:%M:%SZ')\n",
        "    #ledger_identifier=2020-01-22T11:20:00Z\\\n",
        "    resmain= requests.get(url)\n",
        "    x=resmain.json()\n",
        "    if (int(x['ledger']['tx_count'])>200):\n",
        "        return True, x\n",
        "    else:\n",
        "        return False, x"
      ],
      "execution_count": 0,
      "outputs": []
    },
    {
      "cell_type": "code",
      "metadata": {
        "id": "IKf6K6srTtY6",
        "colab_type": "code",
        "colab": {
          "base_uri": "https://localhost:8080/",
          "height": 34
        },
        "outputId": "433bb30e-2f6e-4a5f-a1c4-2b98c4a77966"
      },
      "source": [
        "url='https://data.ripple.com/v2/network/fees?'+ datetime.now().strftime('%Y-%m-%dT%H:%M:%SZ') + '&limit=1&descending=true'\n",
        "\n",
        "resmain= requests.get(url)\n",
        "x = resmain.json()\n",
        "x['rows'][0]['avg']*1000000\n",
        "x['rows'][0]['ledger_index']"
      ],
      "execution_count": 57,
      "outputs": [
        {
          "output_type": "execute_result",
          "data": {
            "text/plain": [
              "54006629"
            ]
          },
          "metadata": {
            "tags": []
          },
          "execution_count": 57
        }
      ]
    },
    {
      "cell_type": "code",
      "metadata": {
        "id": "jn7xpkP-a1jd",
        "colab_type": "code",
        "colab": {}
      },
      "source": [
        "def fees_great():\n",
        "    url='https://data.ripple.com/v2/network/fees?'+ datetime.now().strftime('%Y-%m-%dT%H:%M:%SZ') + '&limit=1&descending=true'\n",
        "    resmain= requests.get(url)\n",
        "    x=resmain.json()\n",
        "    if (x['rows'][0]['avg']*1000000 > 15395):\n",
        "        return True, x\n",
        "    else:\n",
        "        return False, x"
      ],
      "execution_count": 0,
      "outputs": []
    },
    {
      "cell_type": "code",
      "metadata": {
        "id": "PTdG-JXAyFzp",
        "colab_type": "code",
        "outputId": "26978b10-f29c-4952-fd9b-f0046f967346",
        "colab": {
          "base_uri": "https://localhost:8080/",
          "height": 790
        }
      },
      "source": [
        "i = 0\n",
        "no_repeat = ''\n",
        "ledger =''\n",
        "no_repeat1 = ''\n",
        "ledger1 =''\n",
        "while i<10000:\n",
        "  print(i)\n",
        "  check, y = check_tx_count_great200()\n",
        "  check1, x = fees_great()\n",
        "  print(check1)\n",
        "  if check:\n",
        "    a = str(y['ledger']['tx_count'])\n",
        "    ledger = str(y['ledger']['ledger_index'])\n",
        "    if ledger != no_repeat:\n",
        "        linkk = 'https://livenet.xrpl.org/ledgers/' + ledger\n",
        "        message = '<!everyone> *Careful bros, unusual amount of transactions per ledger*\\n We got ' + a + ' transactions per ledger in the last period\\n Check out ledger ' + ledger + '\\nHere\\n' + linkk\n",
        "        #public channel\n",
        "        slack.chat.post_message(channel='#anomaly_detection',\n",
        "                                  text= message,\n",
        "                                  username='transactions_bot',\n",
        "                                  icon_emoji=':female-firefighter:')\n",
        "  if check1:\n",
        "    ledger1 = str(x['rows'][0]['ledger_index'])\n",
        "    print(ledger1)\n",
        "    print(no_repeat1)\n",
        "    if ledger1 != no_repeat1:\n",
        "      message1 = '<!everyone> *Careful bros, unusual average fees per ledger*\\n We got an average of  ' + str(x['rows'][0]['avg']) + ' fees per ledger in the last period\\n Check out ledger ' + str(x['rows'][0]['ledger_index']) + '\\nHere\\n' + 'https://livenet.xrpl.org/ledgers/' + str(x['rows'][0]['ledger_index'])\n",
        "      slack.chat.post_message(channel='#anomaly_detection',\n",
        "                        text= message1,\n",
        "                        username='fee_bot',\n",
        "                        icon_emoji=':money_with_wings:')\n",
        "      \n",
        "  no_repeat = ledger\n",
        "  no_repeat1 = ledger1\n",
        "  i=i+1\n",
        "  time.sleep(2)\n"
      ],
      "execution_count": 0,
      "outputs": [
        {
          "output_type": "stream",
          "text": [
            "0\n",
            "False\n",
            "1\n",
            "False\n",
            "2\n",
            "False\n",
            "3\n",
            "False\n",
            "4\n",
            "False\n",
            "5\n",
            "False\n",
            "6\n",
            "False\n",
            "7\n",
            "False\n",
            "8\n",
            "False\n",
            "9\n",
            "False\n",
            "10\n",
            "False\n",
            "11\n",
            "False\n",
            "12\n",
            "False\n",
            "13\n",
            "False\n",
            "14\n",
            "False\n",
            "15\n",
            "False\n",
            "16\n",
            "False\n",
            "17\n",
            "False\n",
            "18\n",
            "False\n",
            "19\n",
            "False\n",
            "20\n",
            "False\n",
            "21\n",
            "False\n",
            "22\n",
            "False\n"
          ],
          "name": "stdout"
        }
      ]
    }
  ]
}