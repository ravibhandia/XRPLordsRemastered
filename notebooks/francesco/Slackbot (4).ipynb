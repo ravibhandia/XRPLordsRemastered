{
 "cells": [
  {
   "cell_type": "code",
   "execution_count": 1,
   "metadata": {},
   "outputs": [],
   "source": [
    "import slack\n",
    "from slacker import Slacker\n",
    "#from IPython.display import Image\n",
    "import requests\n",
    "import pandas as pd\n",
    "import json\n",
    "import matplotlib.pyplot as plt\n",
    "import numpy as np\n",
    "import time\n",
    "from datetime import datetime"
   ]
  },
  {
   "cell_type": "code",
   "execution_count": 3,
   "metadata": {},
   "outputs": [],
   "source": [
    "token = 'token here'\n",
    "slack = Slacker(token)"
   ]
  },
  {
   "cell_type": "code",
   "execution_count": null,
   "metadata": {},
   "outputs": [],
   "source": [
    "# Check for success\n",
    "if slack.api.test().successful:\n",
    "    print(\n",
    "        f\"Connected to {slack.team.info().body['team']['name']}.\")\n",
    "else:\n",
    "    print('Try Again!')"
   ]
  },
  {
   "cell_type": "code",
   "execution_count": null,
   "metadata": {},
   "outputs": [],
   "source": [
    "url='https://data.ripple.com/v2/ledgers/'+ datetime.now().strftime('%Y-%m-%dT%H:%M:%SZ')"
   ]
  },
  {
   "cell_type": "code",
   "execution_count": null,
   "metadata": {},
   "outputs": [],
   "source": [
    "resmain= requests.get(url)\n",
    "x=resmain.json()\n",
    "x['ledger']['tx_count'] + ' LedgerIndex: '+ str(x['ledger']['ledger_index'])"
   ]
  },
  {
   "cell_type": "code",
   "execution_count": null,
   "metadata": {},
   "outputs": [],
   "source": [
    "def check_tx_count_great200():\n",
    "    url='https://data.ripple.com/v2/ledgers/'+ datetime.now().strftime('%Y-%m-%dT%H:%M:%SZ')\n",
    "    #ledger_identifier=2020-01-22T11:20:00Z\\\n",
    "    resmain= requests.get(url)\n",
    "    x=resmain.json()\n",
    "    if (int(x['ledger']['tx_count'])>100):\n",
    "        return True, x\n",
    "    else:\n",
    "        return False, x"
   ]
  },
  {
   "cell_type": "code",
   "execution_count": null,
   "metadata": {},
   "outputs": [],
   "source": [
    "i = True\n",
    "no_repeat = ''\n",
    "ledger =''\n",
    "while i:\n",
    "  print(i)\n",
    "  check, x = check_tx_count_great200()\n",
    "  if check:\n",
    "    a = str(x['ledger']['tx_count'])\n",
    "    ledger = str(x['ledger']['ledger_index'])\n",
    "    if ledger != no_repeat:\n",
    "        linkk = 'https://livenet.xrpl.org/ledgers/' + ledger\n",
    "        message = '<!everyone> Careful bros, unusual amount of transactions per ledger\\n We got ' + a + ' transactions per ledger in the last period\\n Check out ledger ' + ledger + '\\nHere\\n' + linkk\n",
    "        #public channel\n",
    "        slack.chat.post_message(channel='#anomaly_detection',\n",
    "                                  text= message,\n",
    "                                  username='capstone_bot',\n",
    "                                  icon_emoji=':female-firefighter:')\n",
    "  no_repeat = ledger\n",
    "  time.sleep(2)"
   ]
  }
 ],
 "metadata": {
  "kernelspec": {
   "display_name": "Python 3",
   "language": "python",
   "name": "python3"
  },
  "language_info": {
   "codemirror_mode": {
    "name": "ipython",
    "version": 3
   },
   "file_extension": ".py",
   "mimetype": "text/x-python",
   "name": "python",
   "nbconvert_exporter": "python",
   "pygments_lexer": "ipython3",
   "version": "3.7.4"
  }
 },
 "nbformat": 4,
 "nbformat_minor": 2
}
