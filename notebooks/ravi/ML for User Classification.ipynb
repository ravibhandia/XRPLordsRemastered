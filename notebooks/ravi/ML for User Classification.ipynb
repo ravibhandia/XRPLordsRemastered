{
 "cells": [
  {
   "cell_type": "code",
   "execution_count": 1,
   "metadata": {},
   "outputs": [],
   "source": [
    "\n",
    "from sklearn.model_selection import train_test_split\n",
    "import pandas as pd\n",
    "from sklearn.preprocessing import RobustScaler\n",
    "from sklearn import linear_model\n",
    "import numpy as np"
   ]
  },
  {
   "cell_type": "code",
   "execution_count": 2,
   "metadata": {},
   "outputs": [],
   "source": [
    "labeled_data=pd.read_csv('Data/labeleddata.csv')"
   ]
  },
  {
   "cell_type": "code",
   "execution_count": 3,
   "metadata": {},
   "outputs": [],
   "source": [
    "X=labeled_data.iloc[:,2:23]"
   ]
  },
  {
   "cell_type": "code",
   "execution_count": 4,
   "metadata": {},
   "outputs": [],
   "source": [
    "Y=labeled_data.iloc[:,26:]"
   ]
  },
  {
   "cell_type": "code",
   "execution_count": 5,
   "metadata": {},
   "outputs": [],
   "source": [
    "rs=RobustScaler()"
   ]
  },
  {
   "cell_type": "code",
   "execution_count": 6,
   "metadata": {},
   "outputs": [],
   "source": [
    "X_scaled=rs.fit_transform(X)"
   ]
  },
  {
   "cell_type": "code",
   "execution_count": 7,
   "metadata": {},
   "outputs": [],
   "source": [
    "x_train, x_test, y_train, y_test = train_test_split(X_scaled, Y, test_size=0.2, random_state=100)"
   ]
  },
  {
   "cell_type": "code",
   "execution_count": 8,
   "metadata": {},
   "outputs": [],
   "source": [
    "LogisticRegressionModel = linear_model.LogisticRegression(solver = 'newton-cg', multi_class='multinomial',max_iter=200)\n",
    "\n"
   ]
  },
  {
   "cell_type": "code",
   "execution_count": 9,
   "metadata": {},
   "outputs": [
    {
     "name": "stdout",
     "output_type": "stream",
     "text": [
      "Training a logistic Regression Model..\n"
     ]
    },
    {
     "data": {
      "text/plain": [
       "LogisticRegression(C=1.0, class_weight=None, dual=False, fit_intercept=True,\n",
       "                   intercept_scaling=1, l1_ratio=None, max_iter=200,\n",
       "                   multi_class='multinomial', n_jobs=None, penalty='l2',\n",
       "                   random_state=None, solver='newton-cg', tol=0.0001, verbose=0,\n",
       "                   warm_start=False)"
      ]
     },
     "execution_count": 9,
     "metadata": {},
     "output_type": "execute_result"
    }
   ],
   "source": [
    "print ('Training a logistic Regression Model..')\n",
    "LogisticRegressionModel.fit(x_train, y_train['pred_y'].ravel())"
   ]
  },
  {
   "cell_type": "code",
   "execution_count": 10,
   "metadata": {},
   "outputs": [
    {
     "name": "stdout",
     "output_type": "stream",
     "text": [
      "Training Accuracy: 0.9045012165450121\n"
     ]
    }
   ],
   "source": [
    "training_accuracy=LogisticRegressionModel.score(x_train,y_train)\n",
    "print ('Training Accuracy:',training_accuracy)\n",
    "\n"
   ]
  },
  {
   "cell_type": "code",
   "execution_count": 11,
   "metadata": {},
   "outputs": [
    {
     "name": "stdout",
     "output_type": "stream",
     "text": [
      "Accuracy of the model on unseen test data:  0.9173419773095624\n"
     ]
    }
   ],
   "source": [
    "# TEST ACCURACY: \n",
    "# we will find accuracy of the model \n",
    "# using data that was not used for training the model\n",
    "\n",
    "test_accuracy=LogisticRegressionModel.score(x_test,y_test)\n",
    "print('Accuracy of the model on unseen test data: ',test_accuracy)"
   ]
  },
  {
   "cell_type": "code",
   "execution_count": 12,
   "metadata": {},
   "outputs": [
    {
     "name": "stdout",
     "output_type": "stream",
     "text": [
      "Confusion matrix of test data is: \n",
      "           Predicted 1  Predicted 2  Predicted 3\n",
      "Actual 1          373           29           12\n",
      "Actual 2           14          662            6\n",
      "Actual 3           19           22           97\n"
     ]
    }
   ],
   "source": [
    "from sklearn.metrics import confusion_matrix\n",
    "y_true = y_test\n",
    "y_pred = LogisticRegressionModel.predict(x_test)\n",
    "ConfusionMatrix=pd.DataFrame(confusion_matrix(y_true, y_pred),columns=['Predicted 1','Predicted 2','Predicted 3'],index=['Actual 1','Actual 2','Actual 3'])\n",
    "print ('Confusion matrix of test data is: \\n',ConfusionMatrix)\n",
    "\n"
   ]
  },
  {
   "cell_type": "code",
   "execution_count": 13,
   "metadata": {},
   "outputs": [
    {
     "name": "stdout",
     "output_type": "stream",
     "text": [
      "Object `statsmodels.stats.outliers_influence.variance_inflation_factor` not found.\n"
     ]
    }
   ],
   "source": [
    "import statsmodels.stats.outliers_influence.variance_inflation_factor?\n"
   ]
  },
  {
   "cell_type": "code",
   "execution_count": null,
   "metadata": {},
   "outputs": [],
   "source": [
    "import statsmodels.stats.outliers_influence.variance_inflation_factor"
   ]
  },
  {
   "cell_type": "code",
   "execution_count": 14,
   "metadata": {},
   "outputs": [],
   "source": [
    "from statsmodels.stats.outliers_influence import variance_inflation_factor"
   ]
  },
  {
   "cell_type": "code",
   "execution_count": 15,
   "metadata": {},
   "outputs": [],
   "source": [
    "from statsmodels.tools.tools import add_constant"
   ]
  },
  {
   "cell_type": "code",
   "execution_count": 16,
   "metadata": {},
   "outputs": [],
   "source": [
    "X_scaled_df=pd.DataFrame(X_scaled,columns=X.columns)"
   ]
  },
  {
   "cell_type": "code",
   "execution_count": 17,
   "metadata": {},
   "outputs": [
    {
     "data": {
      "text/html": [
       "<div>\n",
       "<style scoped>\n",
       "    .dataframe tbody tr th:only-of-type {\n",
       "        vertical-align: middle;\n",
       "    }\n",
       "\n",
       "    .dataframe tbody tr th {\n",
       "        vertical-align: top;\n",
       "    }\n",
       "\n",
       "    .dataframe thead th {\n",
       "        text-align: right;\n",
       "    }\n",
       "</style>\n",
       "<table border=\"1\" class=\"dataframe\">\n",
       "  <thead>\n",
       "    <tr style=\"text-align: right;\">\n",
       "      <th></th>\n",
       "      <th>maxAutoCorrelation</th>\n",
       "      <th>stDevBTCSent</th>\n",
       "      <th>numActiveDays</th>\n",
       "      <th>maxTxnsDay</th>\n",
       "      <th>minTxnsDay</th>\n",
       "      <th>avgTxnsPerActiveDays</th>\n",
       "      <th>numTxnsWeekdays</th>\n",
       "      <th>numTxnsWeekends</th>\n",
       "      <th>numActiveDaysWeekdays</th>\n",
       "      <th>numActiveWeekends</th>\n",
       "      <th>...</th>\n",
       "      <th>maxTxnsHour</th>\n",
       "      <th>minTxnsHour</th>\n",
       "      <th>txnsPerActiveHour</th>\n",
       "      <th>numActiveHoursWeekdays</th>\n",
       "      <th>numActiveHoursWeekends</th>\n",
       "      <th>Sum of BTC Received</th>\n",
       "      <th>Sum of BTC Sent</th>\n",
       "      <th>Sum of Fees</th>\n",
       "      <th>Max BTC Sent</th>\n",
       "      <th>Max BTC Received</th>\n",
       "    </tr>\n",
       "  </thead>\n",
       "  <tbody>\n",
       "    <tr>\n",
       "      <th>0</th>\n",
       "      <td>-3.108275</td>\n",
       "      <td>-0.168455</td>\n",
       "      <td>-1.0</td>\n",
       "      <td>-0.569966</td>\n",
       "      <td>0.0</td>\n",
       "      <td>-0.836323</td>\n",
       "      <td>-0.518281</td>\n",
       "      <td>0.0</td>\n",
       "      <td>-1.0</td>\n",
       "      <td>0.0</td>\n",
       "      <td>...</td>\n",
       "      <td>-1.166667</td>\n",
       "      <td>0.0</td>\n",
       "      <td>-0.591245</td>\n",
       "      <td>-1.333333</td>\n",
       "      <td>0.0</td>\n",
       "      <td>-0.559480</td>\n",
       "      <td>0.043579</td>\n",
       "      <td>-0.745966</td>\n",
       "      <td>10.312133</td>\n",
       "      <td>-1.002502</td>\n",
       "    </tr>\n",
       "    <tr>\n",
       "      <th>1</th>\n",
       "      <td>1.417325</td>\n",
       "      <td>0.292651</td>\n",
       "      <td>1.5</td>\n",
       "      <td>3.675768</td>\n",
       "      <td>0.0</td>\n",
       "      <td>3.024664</td>\n",
       "      <td>6.119307</td>\n",
       "      <td>1.0</td>\n",
       "      <td>1.0</td>\n",
       "      <td>1.0</td>\n",
       "      <td>...</td>\n",
       "      <td>0.541667</td>\n",
       "      <td>0.0</td>\n",
       "      <td>1.845492</td>\n",
       "      <td>2.277778</td>\n",
       "      <td>1.0</td>\n",
       "      <td>6.066108</td>\n",
       "      <td>5.775676</td>\n",
       "      <td>6.479765</td>\n",
       "      <td>0.078378</td>\n",
       "      <td>0.000000</td>\n",
       "    </tr>\n",
       "    <tr>\n",
       "      <th>2</th>\n",
       "      <td>-0.149660</td>\n",
       "      <td>-0.127515</td>\n",
       "      <td>-0.5</td>\n",
       "      <td>0.037543</td>\n",
       "      <td>0.0</td>\n",
       "      <td>0.082960</td>\n",
       "      <td>0.010263</td>\n",
       "      <td>0.0</td>\n",
       "      <td>-0.5</td>\n",
       "      <td>0.0</td>\n",
       "      <td>...</td>\n",
       "      <td>-0.020833</td>\n",
       "      <td>0.0</td>\n",
       "      <td>-0.119975</td>\n",
       "      <td>0.000000</td>\n",
       "      <td>0.0</td>\n",
       "      <td>0.006546</td>\n",
       "      <td>-0.107386</td>\n",
       "      <td>-0.036718</td>\n",
       "      <td>-0.070524</td>\n",
       "      <td>0.000000</td>\n",
       "    </tr>\n",
       "    <tr>\n",
       "      <th>3</th>\n",
       "      <td>0.031576</td>\n",
       "      <td>0.116687</td>\n",
       "      <td>-0.5</td>\n",
       "      <td>0.068259</td>\n",
       "      <td>0.0</td>\n",
       "      <td>0.123318</td>\n",
       "      <td>0.033355</td>\n",
       "      <td>0.0</td>\n",
       "      <td>-0.5</td>\n",
       "      <td>0.0</td>\n",
       "      <td>...</td>\n",
       "      <td>-0.020833</td>\n",
       "      <td>0.0</td>\n",
       "      <td>-0.118183</td>\n",
       "      <td>0.055556</td>\n",
       "      <td>0.0</td>\n",
       "      <td>0.098880</td>\n",
       "      <td>-0.016863</td>\n",
       "      <td>0.150673</td>\n",
       "      <td>-0.037819</td>\n",
       "      <td>0.000000</td>\n",
       "    </tr>\n",
       "    <tr>\n",
       "      <th>4</th>\n",
       "      <td>-3.108275</td>\n",
       "      <td>-0.168455</td>\n",
       "      <td>-1.0</td>\n",
       "      <td>-0.569966</td>\n",
       "      <td>0.0</td>\n",
       "      <td>-0.836323</td>\n",
       "      <td>-0.520847</td>\n",
       "      <td>1.0</td>\n",
       "      <td>-1.5</td>\n",
       "      <td>1.0</td>\n",
       "      <td>...</td>\n",
       "      <td>-1.166667</td>\n",
       "      <td>0.0</td>\n",
       "      <td>-0.591245</td>\n",
       "      <td>-1.388889</td>\n",
       "      <td>1.0</td>\n",
       "      <td>-0.559480</td>\n",
       "      <td>-0.036891</td>\n",
       "      <td>-0.745966</td>\n",
       "      <td>5.285510</td>\n",
       "      <td>-1.002502</td>\n",
       "    </tr>\n",
       "    <tr>\n",
       "      <th>...</th>\n",
       "      <td>...</td>\n",
       "      <td>...</td>\n",
       "      <td>...</td>\n",
       "      <td>...</td>\n",
       "      <td>...</td>\n",
       "      <td>...</td>\n",
       "      <td>...</td>\n",
       "      <td>...</td>\n",
       "      <td>...</td>\n",
       "      <td>...</td>\n",
       "      <td>...</td>\n",
       "      <td>...</td>\n",
       "      <td>...</td>\n",
       "      <td>...</td>\n",
       "      <td>...</td>\n",
       "      <td>...</td>\n",
       "      <td>...</td>\n",
       "      <td>...</td>\n",
       "      <td>...</td>\n",
       "      <td>...</td>\n",
       "      <td>...</td>\n",
       "    </tr>\n",
       "    <tr>\n",
       "      <th>6161</th>\n",
       "      <td>-0.793179</td>\n",
       "      <td>-0.064904</td>\n",
       "      <td>0.0</td>\n",
       "      <td>-0.464164</td>\n",
       "      <td>0.0</td>\n",
       "      <td>-0.615097</td>\n",
       "      <td>-0.323284</td>\n",
       "      <td>0.0</td>\n",
       "      <td>0.0</td>\n",
       "      <td>0.0</td>\n",
       "      <td>...</td>\n",
       "      <td>-0.937500</td>\n",
       "      <td>0.0</td>\n",
       "      <td>-0.448289</td>\n",
       "      <td>-0.055556</td>\n",
       "      <td>0.0</td>\n",
       "      <td>-0.547305</td>\n",
       "      <td>-0.110999</td>\n",
       "      <td>-0.486233</td>\n",
       "      <td>-0.023903</td>\n",
       "      <td>-1.001973</td>\n",
       "    </tr>\n",
       "    <tr>\n",
       "      <th>6162</th>\n",
       "      <td>-0.251025</td>\n",
       "      <td>-0.138398</td>\n",
       "      <td>-0.5</td>\n",
       "      <td>-0.044369</td>\n",
       "      <td>0.0</td>\n",
       "      <td>-0.056054</td>\n",
       "      <td>-0.069275</td>\n",
       "      <td>0.0</td>\n",
       "      <td>-0.5</td>\n",
       "      <td>0.0</td>\n",
       "      <td>...</td>\n",
       "      <td>0.041667</td>\n",
       "      <td>0.0</td>\n",
       "      <td>0.220431</td>\n",
       "      <td>-0.666667</td>\n",
       "      <td>0.0</td>\n",
       "      <td>-0.542595</td>\n",
       "      <td>-0.106359</td>\n",
       "      <td>-0.245236</td>\n",
       "      <td>-0.053648</td>\n",
       "      <td>-1.001861</td>\n",
       "    </tr>\n",
       "    <tr>\n",
       "      <th>6163</th>\n",
       "      <td>0.733534</td>\n",
       "      <td>-0.098937</td>\n",
       "      <td>0.5</td>\n",
       "      <td>0.576792</td>\n",
       "      <td>0.0</td>\n",
       "      <td>0.358744</td>\n",
       "      <td>0.856960</td>\n",
       "      <td>0.0</td>\n",
       "      <td>0.5</td>\n",
       "      <td>0.0</td>\n",
       "      <td>...</td>\n",
       "      <td>0.062500</td>\n",
       "      <td>0.0</td>\n",
       "      <td>0.366450</td>\n",
       "      <td>0.500000</td>\n",
       "      <td>0.0</td>\n",
       "      <td>0.099791</td>\n",
       "      <td>-0.016369</td>\n",
       "      <td>0.703275</td>\n",
       "      <td>-0.051877</td>\n",
       "      <td>0.000000</td>\n",
       "    </tr>\n",
       "    <tr>\n",
       "      <th>6164</th>\n",
       "      <td>0.710208</td>\n",
       "      <td>-0.029933</td>\n",
       "      <td>0.5</td>\n",
       "      <td>0.587031</td>\n",
       "      <td>0.0</td>\n",
       "      <td>0.930493</td>\n",
       "      <td>1.511225</td>\n",
       "      <td>0.0</td>\n",
       "      <td>0.5</td>\n",
       "      <td>0.0</td>\n",
       "      <td>...</td>\n",
       "      <td>0.062500</td>\n",
       "      <td>0.0</td>\n",
       "      <td>0.729696</td>\n",
       "      <td>0.666667</td>\n",
       "      <td>0.0</td>\n",
       "      <td>0.377461</td>\n",
       "      <td>0.254582</td>\n",
       "      <td>1.786957</td>\n",
       "      <td>-0.043995</td>\n",
       "      <td>0.000000</td>\n",
       "    </tr>\n",
       "    <tr>\n",
       "      <th>6165</th>\n",
       "      <td>0.719855</td>\n",
       "      <td>-0.143160</td>\n",
       "      <td>0.5</td>\n",
       "      <td>0.580205</td>\n",
       "      <td>0.0</td>\n",
       "      <td>0.912556</td>\n",
       "      <td>1.490699</td>\n",
       "      <td>0.0</td>\n",
       "      <td>0.5</td>\n",
       "      <td>0.0</td>\n",
       "      <td>...</td>\n",
       "      <td>0.062500</td>\n",
       "      <td>0.0</td>\n",
       "      <td>0.753802</td>\n",
       "      <td>0.611111</td>\n",
       "      <td>0.0</td>\n",
       "      <td>0.065854</td>\n",
       "      <td>-0.049567</td>\n",
       "      <td>1.507475</td>\n",
       "      <td>-0.069955</td>\n",
       "      <td>0.000000</td>\n",
       "    </tr>\n",
       "  </tbody>\n",
       "</table>\n",
       "<p>6166 rows × 21 columns</p>\n",
       "</div>"
      ],
      "text/plain": [
       "      maxAutoCorrelation  stDevBTCSent  numActiveDays  maxTxnsDay  minTxnsDay  \\\n",
       "0              -3.108275     -0.168455           -1.0   -0.569966         0.0   \n",
       "1               1.417325      0.292651            1.5    3.675768         0.0   \n",
       "2              -0.149660     -0.127515           -0.5    0.037543         0.0   \n",
       "3               0.031576      0.116687           -0.5    0.068259         0.0   \n",
       "4              -3.108275     -0.168455           -1.0   -0.569966         0.0   \n",
       "...                  ...           ...            ...         ...         ...   \n",
       "6161           -0.793179     -0.064904            0.0   -0.464164         0.0   \n",
       "6162           -0.251025     -0.138398           -0.5   -0.044369         0.0   \n",
       "6163            0.733534     -0.098937            0.5    0.576792         0.0   \n",
       "6164            0.710208     -0.029933            0.5    0.587031         0.0   \n",
       "6165            0.719855     -0.143160            0.5    0.580205         0.0   \n",
       "\n",
       "      avgTxnsPerActiveDays  numTxnsWeekdays  numTxnsWeekends  \\\n",
       "0                -0.836323        -0.518281              0.0   \n",
       "1                 3.024664         6.119307              1.0   \n",
       "2                 0.082960         0.010263              0.0   \n",
       "3                 0.123318         0.033355              0.0   \n",
       "4                -0.836323        -0.520847              1.0   \n",
       "...                    ...              ...              ...   \n",
       "6161             -0.615097        -0.323284              0.0   \n",
       "6162             -0.056054        -0.069275              0.0   \n",
       "6163              0.358744         0.856960              0.0   \n",
       "6164              0.930493         1.511225              0.0   \n",
       "6165              0.912556         1.490699              0.0   \n",
       "\n",
       "      numActiveDaysWeekdays  numActiveWeekends  ...  maxTxnsHour  minTxnsHour  \\\n",
       "0                      -1.0                0.0  ...    -1.166667          0.0   \n",
       "1                       1.0                1.0  ...     0.541667          0.0   \n",
       "2                      -0.5                0.0  ...    -0.020833          0.0   \n",
       "3                      -0.5                0.0  ...    -0.020833          0.0   \n",
       "4                      -1.5                1.0  ...    -1.166667          0.0   \n",
       "...                     ...                ...  ...          ...          ...   \n",
       "6161                    0.0                0.0  ...    -0.937500          0.0   \n",
       "6162                   -0.5                0.0  ...     0.041667          0.0   \n",
       "6163                    0.5                0.0  ...     0.062500          0.0   \n",
       "6164                    0.5                0.0  ...     0.062500          0.0   \n",
       "6165                    0.5                0.0  ...     0.062500          0.0   \n",
       "\n",
       "      txnsPerActiveHour  numActiveHoursWeekdays  numActiveHoursWeekends  \\\n",
       "0             -0.591245               -1.333333                     0.0   \n",
       "1              1.845492                2.277778                     1.0   \n",
       "2             -0.119975                0.000000                     0.0   \n",
       "3             -0.118183                0.055556                     0.0   \n",
       "4             -0.591245               -1.388889                     1.0   \n",
       "...                 ...                     ...                     ...   \n",
       "6161          -0.448289               -0.055556                     0.0   \n",
       "6162           0.220431               -0.666667                     0.0   \n",
       "6163           0.366450                0.500000                     0.0   \n",
       "6164           0.729696                0.666667                     0.0   \n",
       "6165           0.753802                0.611111                     0.0   \n",
       "\n",
       "      Sum of BTC Received  Sum of BTC Sent  Sum of Fees  Max BTC Sent  \\\n",
       "0               -0.559480         0.043579    -0.745966     10.312133   \n",
       "1                6.066108         5.775676     6.479765      0.078378   \n",
       "2                0.006546        -0.107386    -0.036718     -0.070524   \n",
       "3                0.098880        -0.016863     0.150673     -0.037819   \n",
       "4               -0.559480        -0.036891    -0.745966      5.285510   \n",
       "...                   ...              ...          ...           ...   \n",
       "6161            -0.547305        -0.110999    -0.486233     -0.023903   \n",
       "6162            -0.542595        -0.106359    -0.245236     -0.053648   \n",
       "6163             0.099791        -0.016369     0.703275     -0.051877   \n",
       "6164             0.377461         0.254582     1.786957     -0.043995   \n",
       "6165             0.065854        -0.049567     1.507475     -0.069955   \n",
       "\n",
       "      Max BTC Received  \n",
       "0            -1.002502  \n",
       "1             0.000000  \n",
       "2             0.000000  \n",
       "3             0.000000  \n",
       "4            -1.002502  \n",
       "...                ...  \n",
       "6161         -1.001973  \n",
       "6162         -1.001861  \n",
       "6163          0.000000  \n",
       "6164          0.000000  \n",
       "6165          0.000000  \n",
       "\n",
       "[6166 rows x 21 columns]"
      ]
     },
     "execution_count": 17,
     "metadata": {},
     "output_type": "execute_result"
    }
   ],
   "source": [
    "X_scaled_df"
   ]
  },
  {
   "cell_type": "code",
   "execution_count": 18,
   "metadata": {},
   "outputs": [
    {
     "name": "stderr",
     "output_type": "stream",
     "text": [
      "/usr/local/lib/python3.5/dist-packages/numpy/core/fromnumeric.py:2495: FutureWarning: Method .ptp is deprecated and will be removed in a future version. Use numpy.ptp instead.\n",
      "  return ptp(axis=axis, out=out, **kwargs)\n"
     ]
    }
   ],
   "source": [
    "constant_x = add_constant(X_scaled_df)"
   ]
  },
  {
   "cell_type": "code",
   "execution_count": 56,
   "metadata": {},
   "outputs": [
    {
     "name": "stderr",
     "output_type": "stream",
     "text": [
      "/usr/local/lib/python3.5/dist-packages/statsmodels/regression/linear_model.py:1685: RuntimeWarning: invalid value encountered in double_scalars\n",
      "  return 1 - self.ssr/self.centered_tss\n"
     ]
    },
    {
     "data": {
      "text/plain": [
       "const                    13.805094\n",
       "maxAutoCorrelation        2.114137\n",
       "stDevBTCSent              1.000508\n",
       "minTxnsDay                     NaN\n",
       "numTxnsWeekends           2.106362\n",
       "numActiveDaysWeekdays     2.196930\n",
       "numActiveWeekends         2.639565\n",
       "maxTxnsHour               1.920605\n",
       "minTxnsHour                    NaN\n",
       "txnsPerActiveHour         5.688327\n",
       "Sum of BTC Received       1.004265\n",
       "Sum of Fees               3.858890\n",
       "dtype: float64"
      ]
     },
     "execution_count": 56,
     "metadata": {},
     "output_type": "execute_result"
    }
   ],
   "source": [
    "pd.Series([variance_inflation_factor(constant_x.values, i) \n",
    "               for i in range(constant_x.shape[1])], \n",
    "              index=constant_x.columns)"
   ]
  },
  {
   "cell_type": "markdown",
   "metadata": {},
   "source": [
    "# This is an issue"
   ]
  },
  {
   "cell_type": "code",
   "execution_count": 20,
   "metadata": {},
   "outputs": [],
   "source": [
    "X_logistic=X.drop(['numActiveDays', 'numActiveHours','numActiveHoursWeekdays','Max BTC Received','Max BTC Sent','Sum of BTC Sent','avgTxnsPerActiveDays','numActiveHoursWeekends','numTxnsWeekdays','maxTxnsDay'], axis = 1) "
   ]
  },
  {
   "cell_type": "code",
   "execution_count": 21,
   "metadata": {},
   "outputs": [
    {
     "data": {
      "text/html": [
       "<div>\n",
       "<style scoped>\n",
       "    .dataframe tbody tr th:only-of-type {\n",
       "        vertical-align: middle;\n",
       "    }\n",
       "\n",
       "    .dataframe tbody tr th {\n",
       "        vertical-align: top;\n",
       "    }\n",
       "\n",
       "    .dataframe thead th {\n",
       "        text-align: right;\n",
       "    }\n",
       "</style>\n",
       "<table border=\"1\" class=\"dataframe\">\n",
       "  <thead>\n",
       "    <tr style=\"text-align: right;\">\n",
       "      <th></th>\n",
       "      <th>maxAutoCorrelation</th>\n",
       "      <th>stDevBTCSent</th>\n",
       "      <th>minTxnsDay</th>\n",
       "      <th>numTxnsWeekends</th>\n",
       "      <th>numActiveDaysWeekdays</th>\n",
       "      <th>numActiveWeekends</th>\n",
       "      <th>maxTxnsHour</th>\n",
       "      <th>minTxnsHour</th>\n",
       "      <th>txnsPerActiveHour</th>\n",
       "      <th>Sum of BTC Received</th>\n",
       "      <th>Sum of Fees</th>\n",
       "    </tr>\n",
       "  </thead>\n",
       "  <tbody>\n",
       "    <tr>\n",
       "      <th>0</th>\n",
       "      <td>0.000000</td>\n",
       "      <td>0.000000</td>\n",
       "      <td>0.0</td>\n",
       "      <td>0.0</td>\n",
       "      <td>1</td>\n",
       "      <td>0</td>\n",
       "      <td>1.0</td>\n",
       "      <td>0.0</td>\n",
       "      <td>1.000000</td>\n",
       "      <td>0.000000</td>\n",
       "      <td>15</td>\n",
       "    </tr>\n",
       "    <tr>\n",
       "      <th>1</th>\n",
       "      <td>0.971461</td>\n",
       "      <td>0.072580</td>\n",
       "      <td>0.0</td>\n",
       "      <td>1.0</td>\n",
       "      <td>5</td>\n",
       "      <td>1</td>\n",
       "      <td>83.0</td>\n",
       "      <td>0.0</td>\n",
       "      <td>38.641791</td>\n",
       "      <td>1203.816850</td>\n",
       "      <td>7888478</td>\n",
       "    </tr>\n",
       "    <tr>\n",
       "      <th>2</th>\n",
       "      <td>0.635093</td>\n",
       "      <td>0.006444</td>\n",
       "      <td>0.0</td>\n",
       "      <td>0.0</td>\n",
       "      <td>2</td>\n",
       "      <td>0</td>\n",
       "      <td>56.0</td>\n",
       "      <td>0.0</td>\n",
       "      <td>8.280000</td>\n",
       "      <td>102.842429</td>\n",
       "      <td>774314</td>\n",
       "    </tr>\n",
       "    <tr>\n",
       "      <th>3</th>\n",
       "      <td>0.673997</td>\n",
       "      <td>0.044883</td>\n",
       "      <td>0.0</td>\n",
       "      <td>0.0</td>\n",
       "      <td>2</td>\n",
       "      <td>0</td>\n",
       "      <td>56.0</td>\n",
       "      <td>0.0</td>\n",
       "      <td>8.307692</td>\n",
       "      <td>119.618779</td>\n",
       "      <td>978893</td>\n",
       "    </tr>\n",
       "    <tr>\n",
       "      <th>4</th>\n",
       "      <td>0.000000</td>\n",
       "      <td>0.000000</td>\n",
       "      <td>0.0</td>\n",
       "      <td>1.0</td>\n",
       "      <td>0</td>\n",
       "      <td>1</td>\n",
       "      <td>1.0</td>\n",
       "      <td>0.0</td>\n",
       "      <td>1.000000</td>\n",
       "      <td>0.000000</td>\n",
       "      <td>15</td>\n",
       "    </tr>\n",
       "    <tr>\n",
       "      <th>...</th>\n",
       "      <td>...</td>\n",
       "      <td>...</td>\n",
       "      <td>...</td>\n",
       "      <td>...</td>\n",
       "      <td>...</td>\n",
       "      <td>...</td>\n",
       "      <td>...</td>\n",
       "      <td>...</td>\n",
       "      <td>...</td>\n",
       "      <td>...</td>\n",
       "      <td>...</td>\n",
       "    </tr>\n",
       "    <tr>\n",
       "      <th>6161</th>\n",
       "      <td>0.496956</td>\n",
       "      <td>0.016299</td>\n",
       "      <td>0.0</td>\n",
       "      <td>0.0</td>\n",
       "      <td>3</td>\n",
       "      <td>0</td>\n",
       "      <td>12.0</td>\n",
       "      <td>0.0</td>\n",
       "      <td>3.208333</td>\n",
       "      <td>2.212176</td>\n",
       "      <td>283571</td>\n",
       "    </tr>\n",
       "    <tr>\n",
       "      <th>6162</th>\n",
       "      <td>0.613334</td>\n",
       "      <td>0.004731</td>\n",
       "      <td>0.0</td>\n",
       "      <td>0.0</td>\n",
       "      <td>2</td>\n",
       "      <td>0</td>\n",
       "      <td>59.0</td>\n",
       "      <td>0.0</td>\n",
       "      <td>13.538462</td>\n",
       "      <td>3.067861</td>\n",
       "      <td>546671</td>\n",
       "    </tr>\n",
       "    <tr>\n",
       "      <th>6163</th>\n",
       "      <td>0.824679</td>\n",
       "      <td>0.010942</td>\n",
       "      <td>0.0</td>\n",
       "      <td>0.0</td>\n",
       "      <td>4</td>\n",
       "      <td>0</td>\n",
       "      <td>60.0</td>\n",
       "      <td>0.0</td>\n",
       "      <td>15.794118</td>\n",
       "      <td>119.784315</td>\n",
       "      <td>1582178</td>\n",
       "    </tr>\n",
       "    <tr>\n",
       "      <th>6164</th>\n",
       "      <td>0.819672</td>\n",
       "      <td>0.021804</td>\n",
       "      <td>0.0</td>\n",
       "      <td>0.0</td>\n",
       "      <td>4</td>\n",
       "      <td>0</td>\n",
       "      <td>60.0</td>\n",
       "      <td>0.0</td>\n",
       "      <td>21.405405</td>\n",
       "      <td>170.234806</td>\n",
       "      <td>2765254</td>\n",
       "    </tr>\n",
       "    <tr>\n",
       "      <th>6165</th>\n",
       "      <td>0.821743</td>\n",
       "      <td>0.003982</td>\n",
       "      <td>0.0</td>\n",
       "      <td>0.0</td>\n",
       "      <td>4</td>\n",
       "      <td>0</td>\n",
       "      <td>60.0</td>\n",
       "      <td>0.0</td>\n",
       "      <td>21.777778</td>\n",
       "      <td>113.618223</td>\n",
       "      <td>2460138</td>\n",
       "    </tr>\n",
       "  </tbody>\n",
       "</table>\n",
       "<p>6166 rows × 11 columns</p>\n",
       "</div>"
      ],
      "text/plain": [
       "      maxAutoCorrelation  stDevBTCSent  minTxnsDay  numTxnsWeekends  \\\n",
       "0               0.000000      0.000000         0.0              0.0   \n",
       "1               0.971461      0.072580         0.0              1.0   \n",
       "2               0.635093      0.006444         0.0              0.0   \n",
       "3               0.673997      0.044883         0.0              0.0   \n",
       "4               0.000000      0.000000         0.0              1.0   \n",
       "...                  ...           ...         ...              ...   \n",
       "6161            0.496956      0.016299         0.0              0.0   \n",
       "6162            0.613334      0.004731         0.0              0.0   \n",
       "6163            0.824679      0.010942         0.0              0.0   \n",
       "6164            0.819672      0.021804         0.0              0.0   \n",
       "6165            0.821743      0.003982         0.0              0.0   \n",
       "\n",
       "      numActiveDaysWeekdays  numActiveWeekends  maxTxnsHour  minTxnsHour  \\\n",
       "0                         1                  0          1.0          0.0   \n",
       "1                         5                  1         83.0          0.0   \n",
       "2                         2                  0         56.0          0.0   \n",
       "3                         2                  0         56.0          0.0   \n",
       "4                         0                  1          1.0          0.0   \n",
       "...                     ...                ...          ...          ...   \n",
       "6161                      3                  0         12.0          0.0   \n",
       "6162                      2                  0         59.0          0.0   \n",
       "6163                      4                  0         60.0          0.0   \n",
       "6164                      4                  0         60.0          0.0   \n",
       "6165                      4                  0         60.0          0.0   \n",
       "\n",
       "      txnsPerActiveHour  Sum of BTC Received  Sum of Fees  \n",
       "0              1.000000             0.000000           15  \n",
       "1             38.641791          1203.816850      7888478  \n",
       "2              8.280000           102.842429       774314  \n",
       "3              8.307692           119.618779       978893  \n",
       "4              1.000000             0.000000           15  \n",
       "...                 ...                  ...          ...  \n",
       "6161           3.208333             2.212176       283571  \n",
       "6162          13.538462             3.067861       546671  \n",
       "6163          15.794118           119.784315      1582178  \n",
       "6164          21.405405           170.234806      2765254  \n",
       "6165          21.777778           113.618223      2460138  \n",
       "\n",
       "[6166 rows x 11 columns]"
      ]
     },
     "execution_count": 21,
     "metadata": {},
     "output_type": "execute_result"
    }
   ],
   "source": [
    "X_logistic"
   ]
  },
  {
   "cell_type": "code",
   "execution_count": 22,
   "metadata": {},
   "outputs": [],
   "source": [
    "constant_x = add_constant(X_logistic)"
   ]
  },
  {
   "cell_type": "code",
   "execution_count": 59,
   "metadata": {},
   "outputs": [
    {
     "name": "stderr",
     "output_type": "stream",
     "text": [
      "/usr/local/lib/python3.5/dist-packages/statsmodels/regression/linear_model.py:1685: RuntimeWarning: invalid value encountered in double_scalars\n",
      "  return 1 - self.ssr/self.centered_tss\n"
     ]
    },
    {
     "data": {
      "text/plain": [
       "const                    13.805094\n",
       "maxAutoCorrelation        2.114137\n",
       "stDevBTCSent              1.000508\n",
       "minTxnsDay                     NaN\n",
       "numTxnsWeekends           2.106362\n",
       "numActiveDaysWeekdays     2.196930\n",
       "numActiveWeekends         2.639565\n",
       "maxTxnsHour               1.920605\n",
       "minTxnsHour                    NaN\n",
       "txnsPerActiveHour         5.688327\n",
       "Sum of BTC Received       1.004265\n",
       "Sum of Fees               3.858890\n",
       "dtype: float64"
      ]
     },
     "execution_count": 59,
     "metadata": {},
     "output_type": "execute_result"
    }
   ],
   "source": [
    "pd.Series([variance_inflation_factor(constant_x.values, i) \n",
    "               for i in range(constant_x.shape[1])], \n",
    "              index=constant_x.columns)"
   ]
  },
  {
   "cell_type": "code",
   "execution_count": 24,
   "metadata": {},
   "outputs": [],
   "source": [
    "X_logistic_scaled=rs.fit_transform(X_logistic)"
   ]
  },
  {
   "cell_type": "code",
   "execution_count": 60,
   "metadata": {},
   "outputs": [],
   "source": [
    "x_train, x_test, y_train, y_test = train_test_split(X_logistic_scaled, Y, test_size=0.4, random_state=100)"
   ]
  },
  {
   "cell_type": "code",
   "execution_count": 53,
   "metadata": {
    "scrolled": true
   },
   "outputs": [
    {
     "data": {
      "text/plain": [
       "2.0    3380\n",
       "1.0    2078\n",
       "3.0     708\n",
       "Name: pred_y, dtype: int64"
      ]
     },
     "execution_count": 53,
     "metadata": {},
     "output_type": "execute_result"
    }
   ],
   "source": [
    "Y['pred_y'].value_counts()"
   ]
  },
  {
   "cell_type": "code",
   "execution_count": 55,
   "metadata": {},
   "outputs": [
    {
     "data": {
      "text/plain": [
       "0.5481673694453455"
      ]
     },
     "execution_count": 55,
     "metadata": {},
     "output_type": "execute_result"
    }
   ],
   "source": [
    "Baseline Accuracy: 3380/(2078+3380+708)"
   ]
  },
  {
   "cell_type": "code",
   "execution_count": 26,
   "metadata": {},
   "outputs": [],
   "source": [
    "LogisticRegressionModel = linear_model.LogisticRegression(solver = 'newton-cg', multi_class='multinomial',max_iter=200)\n",
    "\n"
   ]
  },
  {
   "cell_type": "code",
   "execution_count": 27,
   "metadata": {
    "scrolled": true
   },
   "outputs": [
    {
     "name": "stdout",
     "output_type": "stream",
     "text": [
      "Training a logistic Regression Model..\n"
     ]
    },
    {
     "data": {
      "text/plain": [
       "LogisticRegression(C=1.0, class_weight=None, dual=False, fit_intercept=True,\n",
       "                   intercept_scaling=1, l1_ratio=None, max_iter=200,\n",
       "                   multi_class='multinomial', n_jobs=None, penalty='l2',\n",
       "                   random_state=None, solver='newton-cg', tol=0.0001, verbose=0,\n",
       "                   warm_start=False)"
      ]
     },
     "execution_count": 27,
     "metadata": {},
     "output_type": "execute_result"
    }
   ],
   "source": [
    "print ('Training a logistic Regression Model..')\n",
    "LogisticRegressionModel.fit(x_train, y_train['pred_y'].ravel())"
   ]
  },
  {
   "cell_type": "code",
   "execution_count": 28,
   "metadata": {},
   "outputs": [
    {
     "name": "stdout",
     "output_type": "stream",
     "text": [
      "Training Accuracy: 0.8667207353338741\n"
     ]
    }
   ],
   "source": [
    "training_accuracy=LogisticRegressionModel.score(x_train,y_train)\n",
    "print ('Training Accuracy:',training_accuracy)\n"
   ]
  },
  {
   "cell_type": "code",
   "execution_count": 29,
   "metadata": {},
   "outputs": [
    {
     "name": "stdout",
     "output_type": "stream",
     "text": [
      "Accuracy of the model on unseen test data:  0.8642075395216863\n"
     ]
    }
   ],
   "source": [
    "test_accuracy=LogisticRegressionModel.score(x_test,y_test)\n",
    "print('Accuracy of the model on unseen test data: ',test_accuracy)"
   ]
  },
  {
   "cell_type": "code",
   "execution_count": 61,
   "metadata": {},
   "outputs": [
    {
     "name": "stdout",
     "output_type": "stream",
     "text": [
      "Confusion matrix of test data is: \n",
      "           Predicted 1  Predicted 2  Predicted 3\n",
      "Actual 1          709           93           33\n",
      "Actual 2           54         1295           15\n",
      "Actual 3           53           87          128\n"
     ]
    }
   ],
   "source": [
    "y_true = y_test\n",
    "y_pred = LogisticRegressionModel.predict(x_test)\n",
    "ConfusionMatrix=pd.DataFrame(confusion_matrix(y_true, y_pred),columns=['Predicted 1','Predicted 2','Predicted 3'],index=['Actual 1','Actual 2','Actual 3'])\n",
    "print ('Confusion matrix of test data is: \\n',ConfusionMatrix)"
   ]
  },
  {
   "cell_type": "markdown",
   "metadata": {},
   "source": [
    "### Check which independent variables influence which class"
   ]
  },
  {
   "cell_type": "code",
   "execution_count": 30,
   "metadata": {},
   "outputs": [],
   "source": [
    "row1=LogisticRegressionModel.coef_[0]"
   ]
  },
  {
   "cell_type": "code",
   "execution_count": 31,
   "metadata": {},
   "outputs": [],
   "source": [
    "row2=LogisticRegressionModel.coef_[1]"
   ]
  },
  {
   "cell_type": "code",
   "execution_count": 32,
   "metadata": {},
   "outputs": [],
   "source": [
    "row3=LogisticRegressionModel.coef_[2]"
   ]
  },
  {
   "cell_type": "code",
   "execution_count": 33,
   "metadata": {},
   "outputs": [
    {
     "data": {
      "text/html": [
       "<div>\n",
       "<style scoped>\n",
       "    .dataframe tbody tr th:only-of-type {\n",
       "        vertical-align: middle;\n",
       "    }\n",
       "\n",
       "    .dataframe tbody tr th {\n",
       "        vertical-align: top;\n",
       "    }\n",
       "\n",
       "    .dataframe thead th {\n",
       "        text-align: right;\n",
       "    }\n",
       "</style>\n",
       "<table border=\"1\" class=\"dataframe\">\n",
       "  <thead>\n",
       "    <tr style=\"text-align: right;\">\n",
       "      <th></th>\n",
       "      <th>maxAutoCorrelation</th>\n",
       "      <th>stDevBTCSent</th>\n",
       "      <th>minTxnsDay</th>\n",
       "      <th>numTxnsWeekends</th>\n",
       "      <th>numActiveDaysWeekdays</th>\n",
       "      <th>numActiveWeekends</th>\n",
       "      <th>maxTxnsHour</th>\n",
       "      <th>minTxnsHour</th>\n",
       "      <th>txnsPerActiveHour</th>\n",
       "      <th>Sum of BTC Received</th>\n",
       "      <th>Sum of Fees</th>\n",
       "    </tr>\n",
       "  </thead>\n",
       "  <tbody>\n",
       "    <tr>\n",
       "      <th>Class1</th>\n",
       "      <td>0.262224</td>\n",
       "      <td>0.035498</td>\n",
       "      <td>0.0</td>\n",
       "      <td>0.535557</td>\n",
       "      <td>1.327512</td>\n",
       "      <td>-0.228743</td>\n",
       "      <td>-0.297275</td>\n",
       "      <td>0.0</td>\n",
       "      <td>0.302836</td>\n",
       "      <td>0.256980</td>\n",
       "      <td>0.626500</td>\n",
       "    </tr>\n",
       "    <tr>\n",
       "      <th>Class2</th>\n",
       "      <td>1.275410</td>\n",
       "      <td>-0.076816</td>\n",
       "      <td>0.0</td>\n",
       "      <td>-1.068830</td>\n",
       "      <td>-2.491183</td>\n",
       "      <td>-0.646798</td>\n",
       "      <td>-0.296371</td>\n",
       "      <td>0.0</td>\n",
       "      <td>-1.131959</td>\n",
       "      <td>-0.514202</td>\n",
       "      <td>-0.852326</td>\n",
       "    </tr>\n",
       "    <tr>\n",
       "      <th>Class3</th>\n",
       "      <td>-1.537635</td>\n",
       "      <td>0.041318</td>\n",
       "      <td>0.0</td>\n",
       "      <td>0.533273</td>\n",
       "      <td>1.163671</td>\n",
       "      <td>0.875541</td>\n",
       "      <td>0.593646</td>\n",
       "      <td>0.0</td>\n",
       "      <td>0.829123</td>\n",
       "      <td>0.257221</td>\n",
       "      <td>0.225825</td>\n",
       "    </tr>\n",
       "  </tbody>\n",
       "</table>\n",
       "</div>"
      ],
      "text/plain": [
       "        maxAutoCorrelation  stDevBTCSent  minTxnsDay  numTxnsWeekends  \\\n",
       "Class1            0.262224      0.035498         0.0         0.535557   \n",
       "Class2            1.275410     -0.076816         0.0        -1.068830   \n",
       "Class3           -1.537635      0.041318         0.0         0.533273   \n",
       "\n",
       "        numActiveDaysWeekdays  numActiveWeekends  maxTxnsHour  minTxnsHour  \\\n",
       "Class1               1.327512          -0.228743    -0.297275          0.0   \n",
       "Class2              -2.491183          -0.646798    -0.296371          0.0   \n",
       "Class3               1.163671           0.875541     0.593646          0.0   \n",
       "\n",
       "        txnsPerActiveHour  Sum of BTC Received  Sum of Fees  \n",
       "Class1           0.302836             0.256980     0.626500  \n",
       "Class2          -1.131959            -0.514202    -0.852326  \n",
       "Class3           0.829123             0.257221     0.225825  "
      ]
     },
     "execution_count": 33,
     "metadata": {},
     "output_type": "execute_result"
    }
   ],
   "source": [
    "pd.DataFrame(np.array([row1,row2,row3]), columns=X_logistic.columns,index=['Class1','Class2','Class3'])"
   ]
  },
  {
   "cell_type": "markdown",
   "metadata": {},
   "source": [
    "### Interesting, let's try Random Forest and boosting methods now!"
   ]
  },
  {
   "cell_type": "code",
   "execution_count": 34,
   "metadata": {},
   "outputs": [],
   "source": [
    "from sklearn.ensemble import RandomForestClassifier\n",
    "from sklearn.ensemble import GradientBoostingClassifier"
   ]
  },
  {
   "cell_type": "code",
   "execution_count": 35,
   "metadata": {},
   "outputs": [
    {
     "name": "stderr",
     "output_type": "stream",
     "text": [
      "/usr/local/lib/python3.5/dist-packages/xgboost/__init__.py:28: FutureWarning: Python 3.5 support is deprecated; XGBoost will require Python 3.6+ in the near future. Consider upgrading to Python 3.6+.\n",
      "  FutureWarning)\n"
     ]
    }
   ],
   "source": [
    "import xgboost as xgb"
   ]
  },
  {
   "cell_type": "code",
   "execution_count": 36,
   "metadata": {},
   "outputs": [],
   "source": [
    "x_train, x_test, y_train, y_test = train_test_split(X, Y, test_size=0.2, random_state=100)"
   ]
  },
  {
   "cell_type": "code",
   "execution_count": 37,
   "metadata": {},
   "outputs": [],
   "source": [
    "rf=RandomForestClassifier()"
   ]
  },
  {
   "cell_type": "code",
   "execution_count": 38,
   "metadata": {
    "scrolled": true
   },
   "outputs": [
    {
     "data": {
      "text/plain": [
       "RandomForestClassifier(bootstrap=True, ccp_alpha=0.0, class_weight=None,\n",
       "                       criterion='gini', max_depth=None, max_features='auto',\n",
       "                       max_leaf_nodes=None, max_samples=None,\n",
       "                       min_impurity_decrease=0.0, min_impurity_split=None,\n",
       "                       min_samples_leaf=1, min_samples_split=2,\n",
       "                       min_weight_fraction_leaf=0.0, n_estimators=100,\n",
       "                       n_jobs=None, oob_score=False, random_state=None,\n",
       "                       verbose=0, warm_start=False)"
      ]
     },
     "execution_count": 38,
     "metadata": {},
     "output_type": "execute_result"
    }
   ],
   "source": [
    "rf.fit(x_train,y_train['pred_y'].ravel())"
   ]
  },
  {
   "cell_type": "code",
   "execution_count": 39,
   "metadata": {},
   "outputs": [
    {
     "data": {
      "text/plain": [
       "1.0"
      ]
     },
     "execution_count": 39,
     "metadata": {},
     "output_type": "execute_result"
    }
   ],
   "source": [
    "rf.score(x_train,y_train)"
   ]
  },
  {
   "cell_type": "code",
   "execution_count": 40,
   "metadata": {},
   "outputs": [
    {
     "data": {
      "text/plain": [
       "0.9773095623987034"
      ]
     },
     "execution_count": 40,
     "metadata": {},
     "output_type": "execute_result"
    }
   ],
   "source": [
    "rf.score(x_test,y_test)"
   ]
  },
  {
   "cell_type": "code",
   "execution_count": 41,
   "metadata": {},
   "outputs": [],
   "source": [
    "gboost=GradientBoostingClassifier()"
   ]
  },
  {
   "cell_type": "code",
   "execution_count": 42,
   "metadata": {},
   "outputs": [
    {
     "data": {
      "text/plain": [
       "GradientBoostingClassifier(ccp_alpha=0.0, criterion='friedman_mse', init=None,\n",
       "                           learning_rate=0.1, loss='deviance', max_depth=3,\n",
       "                           max_features=None, max_leaf_nodes=None,\n",
       "                           min_impurity_decrease=0.0, min_impurity_split=None,\n",
       "                           min_samples_leaf=1, min_samples_split=2,\n",
       "                           min_weight_fraction_leaf=0.0, n_estimators=100,\n",
       "                           n_iter_no_change=None, presort='deprecated',\n",
       "                           random_state=None, subsample=1.0, tol=0.0001,\n",
       "                           validation_fraction=0.1, verbose=0,\n",
       "                           warm_start=False)"
      ]
     },
     "execution_count": 42,
     "metadata": {},
     "output_type": "execute_result"
    }
   ],
   "source": [
    "gboost.fit(x_train,y_train['pred_y'].ravel())"
   ]
  },
  {
   "cell_type": "code",
   "execution_count": 43,
   "metadata": {},
   "outputs": [
    {
     "data": {
      "text/plain": [
       "0.9933090024330901"
      ]
     },
     "execution_count": 43,
     "metadata": {},
     "output_type": "execute_result"
    }
   ],
   "source": [
    "gboost.score(x_train,y_train)"
   ]
  },
  {
   "cell_type": "code",
   "execution_count": 44,
   "metadata": {},
   "outputs": [
    {
     "data": {
      "text/plain": [
       "0.979740680713128"
      ]
     },
     "execution_count": 44,
     "metadata": {},
     "output_type": "execute_result"
    }
   ],
   "source": [
    "gboost.score(x_test,y_test)"
   ]
  },
  {
   "cell_type": "code",
   "execution_count": null,
   "metadata": {},
   "outputs": [],
   "source": []
  },
  {
   "cell_type": "code",
   "execution_count": null,
   "metadata": {},
   "outputs": [],
   "source": []
  }
 ],
 "metadata": {
  "kernelspec": {
   "display_name": "Python 3",
   "language": "python",
   "name": "python3"
  },
  "language_info": {
   "codemirror_mode": {
    "name": "ipython",
    "version": 3
   },
   "file_extension": ".py",
   "mimetype": "text/x-python",
   "name": "python",
   "nbconvert_exporter": "python",
   "pygments_lexer": "ipython3",
   "version": "3.5.3"
  }
 },
 "nbformat": 4,
 "nbformat_minor": 2
}
